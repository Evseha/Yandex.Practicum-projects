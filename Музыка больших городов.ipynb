{
 "cells": [
  {
   "cell_type": "markdown",
   "metadata": {
    "id": "E0vqbgi9ay0H"
   },
   "source": [
    "# Яндекс.Музыка"
   ]
  },
  {
   "cell_type": "markdown",
   "metadata": {
    "id": "VUC88oWjTJw2"
   },
   "source": [
    "На данных Яндекс.Музыки мы сравним поведение пользователей двух столиц.\n",
    "\n",
    "**Цель исследования** — проверить три гипотезы:\n",
    "1. Активность пользователей зависит от дня недели. Причём в Москве и Петербурге это проявляется по-разному.\n",
    "2. В понедельник утром в Москве преобладают одни жанры, а в Петербурге — другие. Так же и вечером пятницы преобладают разные жанры — в зависимости от города. \n",
    "3. Москва и Петербург предпочитают разные жанры музыки. В Москве чаще слушают поп-музыку, в Петербурге — русский рэп.\n",
    "\n",
    "**Ход исследования**\n",
    "\n",
    "Данные о поведении пользователей мы получили из файла `yandex_music_project.csv`. О качестве данных ничего не известно. Поэтому перед проверкой гипотез понадобится обзор данных. \n",
    "\n",
    "Мы проверим данные на ошибки и оценим их влияние на исследование. Затем, на этапе предобработки мы поищим возможность исправить самые критичные ошибки данных.\n",
    " \n",
    "Таким образом, исследование пройдёт в три этапа:\n",
    " 1. Обзор данных.\n",
    " 2. Предобработка данных.\n",
    " 3. Проверка гипотез."
   ]
  },
  {
   "cell_type": "markdown",
   "metadata": {
    "id": "Ml1hmfXC_Zcs"
   },
   "source": [
    "## Обзор данных\n",
    "\n",
    "Составим первое представление о данных Яндекс.Музыки.\n"
   ]
  },
  {
   "cell_type": "markdown",
   "metadata": {
    "id": "57eAOGIz_Zcs"
   },
   "source": [
    "Основной инструмент аналитика — `pandas`. Импортируем эту библиотеку."
   ]
  },
  {
   "cell_type": "code",
   "execution_count": 1,
   "metadata": {
    "id": "AXN7PHPN_Zcs"
   },
   "outputs": [],
   "source": [
    "import pandas as pd# импорт библиотеки pandas"
   ]
  },
  {
   "cell_type": "markdown",
   "metadata": {
    "id": "SG23P8tt_Zcs"
   },
   "source": [
    "Прочитаем файл `yandex_music_project.csv` из папки `/datasets` и сохраним его в переменной `df`:"
   ]
  },
  {
   "cell_type": "code",
   "execution_count": 2,
   "metadata": {
    "id": "fFVu7vqh_Zct"
   },
   "outputs": [],
   "source": [
    "df = pd.read_csv('/datasets/yandex_music_project.csv') # чтение файла с данными и сохранение в df"
   ]
  },
  {
   "cell_type": "markdown",
   "metadata": {
    "id": "rDoOMd3uTqnZ"
   },
   "source": [
    "Выведим на экран первые десять строк таблицы:"
   ]
  },
  {
   "cell_type": "code",
   "execution_count": 3,
   "metadata": {
    "id": "oWTVX3gW_Zct"
   },
   "outputs": [
    {
     "data": {
      "text/html": [
       "<div>\n",
       "<style scoped>\n",
       "    .dataframe tbody tr th:only-of-type {\n",
       "        vertical-align: middle;\n",
       "    }\n",
       "\n",
       "    .dataframe tbody tr th {\n",
       "        vertical-align: top;\n",
       "    }\n",
       "\n",
       "    .dataframe thead th {\n",
       "        text-align: right;\n",
       "    }\n",
       "</style>\n",
       "<table border=\"1\" class=\"dataframe\">\n",
       "  <thead>\n",
       "    <tr style=\"text-align: right;\">\n",
       "      <th></th>\n",
       "      <th>userID</th>\n",
       "      <th>Track</th>\n",
       "      <th>artist</th>\n",
       "      <th>genre</th>\n",
       "      <th>City</th>\n",
       "      <th>time</th>\n",
       "      <th>Day</th>\n",
       "    </tr>\n",
       "  </thead>\n",
       "  <tbody>\n",
       "    <tr>\n",
       "      <th>0</th>\n",
       "      <td>FFB692EC</td>\n",
       "      <td>Kamigata To Boots</td>\n",
       "      <td>The Mass Missile</td>\n",
       "      <td>rock</td>\n",
       "      <td>Saint-Petersburg</td>\n",
       "      <td>20:28:33</td>\n",
       "      <td>Wednesday</td>\n",
       "    </tr>\n",
       "    <tr>\n",
       "      <th>1</th>\n",
       "      <td>55204538</td>\n",
       "      <td>Delayed Because of Accident</td>\n",
       "      <td>Andreas Rönnberg</td>\n",
       "      <td>rock</td>\n",
       "      <td>Moscow</td>\n",
       "      <td>14:07:09</td>\n",
       "      <td>Friday</td>\n",
       "    </tr>\n",
       "    <tr>\n",
       "      <th>2</th>\n",
       "      <td>20EC38</td>\n",
       "      <td>Funiculì funiculà</td>\n",
       "      <td>Mario Lanza</td>\n",
       "      <td>pop</td>\n",
       "      <td>Saint-Petersburg</td>\n",
       "      <td>20:58:07</td>\n",
       "      <td>Wednesday</td>\n",
       "    </tr>\n",
       "    <tr>\n",
       "      <th>3</th>\n",
       "      <td>A3DD03C9</td>\n",
       "      <td>Dragons in the Sunset</td>\n",
       "      <td>Fire + Ice</td>\n",
       "      <td>folk</td>\n",
       "      <td>Saint-Petersburg</td>\n",
       "      <td>08:37:09</td>\n",
       "      <td>Monday</td>\n",
       "    </tr>\n",
       "    <tr>\n",
       "      <th>4</th>\n",
       "      <td>E2DC1FAE</td>\n",
       "      <td>Soul People</td>\n",
       "      <td>Space Echo</td>\n",
       "      <td>dance</td>\n",
       "      <td>Moscow</td>\n",
       "      <td>08:34:34</td>\n",
       "      <td>Monday</td>\n",
       "    </tr>\n",
       "    <tr>\n",
       "      <th>5</th>\n",
       "      <td>842029A1</td>\n",
       "      <td>Преданная</td>\n",
       "      <td>IMPERVTOR</td>\n",
       "      <td>rusrap</td>\n",
       "      <td>Saint-Petersburg</td>\n",
       "      <td>13:09:41</td>\n",
       "      <td>Friday</td>\n",
       "    </tr>\n",
       "    <tr>\n",
       "      <th>6</th>\n",
       "      <td>4CB90AA5</td>\n",
       "      <td>True</td>\n",
       "      <td>Roman Messer</td>\n",
       "      <td>dance</td>\n",
       "      <td>Moscow</td>\n",
       "      <td>13:00:07</td>\n",
       "      <td>Wednesday</td>\n",
       "    </tr>\n",
       "    <tr>\n",
       "      <th>7</th>\n",
       "      <td>F03E1C1F</td>\n",
       "      <td>Feeling This Way</td>\n",
       "      <td>Polina Griffith</td>\n",
       "      <td>dance</td>\n",
       "      <td>Moscow</td>\n",
       "      <td>20:47:49</td>\n",
       "      <td>Wednesday</td>\n",
       "    </tr>\n",
       "    <tr>\n",
       "      <th>8</th>\n",
       "      <td>8FA1D3BE</td>\n",
       "      <td>И вновь продолжается бой</td>\n",
       "      <td>NaN</td>\n",
       "      <td>ruspop</td>\n",
       "      <td>Moscow</td>\n",
       "      <td>09:17:40</td>\n",
       "      <td>Friday</td>\n",
       "    </tr>\n",
       "    <tr>\n",
       "      <th>9</th>\n",
       "      <td>E772D5C0</td>\n",
       "      <td>Pessimist</td>\n",
       "      <td>NaN</td>\n",
       "      <td>dance</td>\n",
       "      <td>Saint-Petersburg</td>\n",
       "      <td>21:20:49</td>\n",
       "      <td>Wednesday</td>\n",
       "    </tr>\n",
       "  </tbody>\n",
       "</table>\n",
       "</div>"
      ],
      "text/plain": [
       "     userID                        Track            artist   genre  \\\n",
       "0  FFB692EC            Kamigata To Boots  The Mass Missile    rock   \n",
       "1  55204538  Delayed Because of Accident  Andreas Rönnberg    rock   \n",
       "2    20EC38            Funiculì funiculà       Mario Lanza     pop   \n",
       "3  A3DD03C9        Dragons in the Sunset        Fire + Ice    folk   \n",
       "4  E2DC1FAE                  Soul People        Space Echo   dance   \n",
       "5  842029A1                    Преданная         IMPERVTOR  rusrap   \n",
       "6  4CB90AA5                         True      Roman Messer   dance   \n",
       "7  F03E1C1F             Feeling This Way   Polina Griffith   dance   \n",
       "8  8FA1D3BE     И вновь продолжается бой               NaN  ruspop   \n",
       "9  E772D5C0                    Pessimist               NaN   dance   \n",
       "\n",
       "             City        time        Day  \n",
       "0  Saint-Petersburg  20:28:33  Wednesday  \n",
       "1            Moscow  14:07:09     Friday  \n",
       "2  Saint-Petersburg  20:58:07  Wednesday  \n",
       "3  Saint-Petersburg  08:37:09     Monday  \n",
       "4            Moscow  08:34:34     Monday  \n",
       "5  Saint-Petersburg  13:09:41     Friday  \n",
       "6            Moscow  13:00:07  Wednesday  \n",
       "7            Moscow  20:47:49  Wednesday  \n",
       "8            Moscow  09:17:40     Friday  \n",
       "9  Saint-Petersburg  21:20:49  Wednesday  "
      ]
     },
     "execution_count": 3,
     "metadata": {},
     "output_type": "execute_result"
    }
   ],
   "source": [
    "df.head(10) # получение первых 10 строк таблицы df"
   ]
  },
  {
   "cell_type": "markdown",
   "metadata": {
    "id": "EO73Kwic_Zct"
   },
   "source": [
    "Одной командой получим общую информацию о таблице:"
   ]
  },
  {
   "cell_type": "code",
   "execution_count": 4,
   "metadata": {
    "id": "DSf2kIb-_Zct"
   },
   "outputs": [
    {
     "name": "stdout",
     "output_type": "stream",
     "text": [
      "<class 'pandas.core.frame.DataFrame'>\n",
      "RangeIndex: 65079 entries, 0 to 65078\n",
      "Data columns (total 7 columns):\n",
      " #   Column    Non-Null Count  Dtype \n",
      "---  ------    --------------  ----- \n",
      " 0     userID  65079 non-null  object\n",
      " 1   Track     63848 non-null  object\n",
      " 2   artist    57876 non-null  object\n",
      " 3   genre     63881 non-null  object\n",
      " 4     City    65079 non-null  object\n",
      " 5   time      65079 non-null  object\n",
      " 6   Day       65079 non-null  object\n",
      "dtypes: object(7)\n",
      "memory usage: 3.5+ MB\n"
     ]
    }
   ],
   "source": [
    "df.info() # получение общей информации о данных в таблице df"
   ]
  },
  {
   "cell_type": "markdown",
   "metadata": {
    "id": "TaQ2Iwbr_Zct"
   },
   "source": [
    "Итак, в таблице семь столбцов. Тип данных во всех столбцах — `object`.\n",
    "\n",
    "Согласно документации к данным:\n",
    "* `userID` — идентификатор пользователя;\n",
    "* `Track` — название трека;  \n",
    "* `artist` — имя исполнителя;\n",
    "* `genre` — название жанра;\n",
    "* `City` — город пользователя;\n",
    "* `time` — время начала прослушивания;\n",
    "* `Day` — день недели.\n",
    "\n",
    "В названиях колонок видны три нарушения стиля:\n",
    "1. Строчные буквы сочетаются с прописными.\n",
    "2. Встречаются пробелы.\n",
    "3. 'userID' переписать в змеином стиле\n",
    "\n",
    "\n",
    "\n",
    "Количество значений в столбцах различается. Значит, в данных есть пропущенные значения.\n"
   ]
  },
  {
   "cell_type": "markdown",
   "metadata": {
    "id": "MCB6-dXG_Zct"
   },
   "source": [
    "**Выводы**\n",
    "\n",
    "В каждой строке таблицы — данные о прослушанном треке. Часть колонок описывает саму композицию: название, исполнителя и жанр. Остальные данные рассказывают о пользователе: из какого он города, когда он слушал музыку. \n",
    "\n",
    "Предварительно можно утверждать, что, данных достаточно для проверки гипотез. Но встречаются пропуски в данных, а в названиях колонок — расхождения с хорошим стилем.\n",
    "\n",
    "\n",
    "Чтобы двигаться дальше, нужно устранить проблемы в данных."
   ]
  },
  {
   "cell_type": "markdown",
   "metadata": {
    "id": "SjYF6Ub9_Zct"
   },
   "source": [
    "## Предобработка данных\n",
    "Исправим стиль в заголовках столбцов, исключим пропуски. Затем проверим данные на дубликаты."
   ]
  },
  {
   "cell_type": "markdown",
   "metadata": {
    "id": "dIaKXr29_Zct"
   },
   "source": [
    "### Стиль заголовков\n",
    "Выведим на экран названия столбцов:"
   ]
  },
  {
   "cell_type": "code",
   "execution_count": 5,
   "metadata": {
    "id": "oKOTdF_Q_Zct"
   },
   "outputs": [
    {
     "data": {
      "text/plain": [
       "Index(['  userID', 'Track', 'artist', 'genre', '  City  ', 'time', 'Day'], dtype='object')"
      ]
     },
     "execution_count": 5,
     "metadata": {},
     "output_type": "execute_result"
    }
   ],
   "source": [
    "df.columns # перечень названий столбцов таблицы df"
   ]
  },
  {
   "cell_type": "markdown",
   "metadata": {
    "id": "zj5534cv_Zct"
   },
   "source": [
    "Приведем названия в соответствие с хорошим стилем:\n",
    "* несколько слов в названии запишем в «змеином_регистре»,\n",
    "* все символы сделаем строчными,\n",
    "* устраним пробелы.\n",
    "\n",
    "Для этого переименуем колонки так:\n",
    "* `'  userID'` → `'user_id'`;\n",
    "* `'Track'` → `'track'`;\n",
    "* `'  City  '` → `'city'`;\n",
    "* `'Day'` → `'day'`."
   ]
  },
  {
   "cell_type": "code",
   "execution_count": 6,
   "metadata": {
    "id": "ISlFqs5y_Zct"
   },
   "outputs": [],
   "source": [
    "df = df.rename(columns={'  userID':'user_id','Track':'track','  City  ':'city','Day':'day'}) # переименование столбцов"
   ]
  },
  {
   "cell_type": "markdown",
   "metadata": {
    "id": "1dqbh00J_Zct"
   },
   "source": [
    "Проверим результат. Для этого ещё раз выведем на экран названия столбцов:"
   ]
  },
  {
   "cell_type": "code",
   "execution_count": 7,
   "metadata": {
    "id": "d4NOAmTW_Zct"
   },
   "outputs": [
    {
     "data": {
      "text/plain": [
       "Index(['user_id', 'track', 'artist', 'genre', 'city', 'time', 'day'], dtype='object')"
      ]
     },
     "execution_count": 7,
     "metadata": {},
     "output_type": "execute_result"
    }
   ],
   "source": [
    "df.columns # проверка результатов - перечень названий столбцов"
   ]
  },
  {
   "cell_type": "markdown",
   "metadata": {
    "id": "5ISfbcfY_Zct"
   },
   "source": [
    "### Пропуски значений\n",
    "Сначала посчитаем, сколько в таблице пропущенных значений. Для этого достаточно двух методов `pandas`:"
   ]
  },
  {
   "cell_type": "code",
   "execution_count": 8,
   "metadata": {
    "id": "RskX29qr_Zct"
   },
   "outputs": [
    {
     "name": "stdout",
     "output_type": "stream",
     "text": [
      "user_id       0\n",
      "track      1231\n",
      "artist     7203\n",
      "genre      1198\n",
      "city          0\n",
      "time          0\n",
      "day           0\n",
      "dtype: int64\n"
     ]
    }
   ],
   "source": [
    "print(df.isna().sum()) # подсчёт пропусков"
   ]
  },
  {
   "cell_type": "markdown",
   "metadata": {
    "id": "qubhgnlO_Zct"
   },
   "source": [
    "Не все пропущенные значения влияют на исследование. Так в `track` и `artist` пропуски не нажны для вашей работы. Достаточно заменить их явными обозначениями.\n",
    "\n",
    "Но пропуски в `genre` могут помешать сравнению музыкальных вкусов в Москве и Санкт-Петербурге. На практике было бы правильно установить причину пропусков и восстановить данные. Такой возможности нет в учебном проекте. Придётся:\n",
    "* заполнить и эти пропуски явными обозначениями,\n",
    "* оценить, насколько они повредят расчётам. "
   ]
  },
  {
   "cell_type": "markdown",
   "metadata": {
    "id": "fSv2laPA_Zct"
   },
   "source": [
    "Заменим пропущенные значения в столбцах `track`, `artist` и `genre` на строку `'unknown'`. Для этого создадим список `columns_to_replace`, переберем его элементы циклом `for` и для каждого столбца выполним замену пропущенных значений:"
   ]
  },
  {
   "cell_type": "code",
   "execution_count": 9,
   "metadata": {
    "id": "KplB5qWs_Zct"
   },
   "outputs": [],
   "source": [
    "columns_to_replace = ['track','artist','genre']\n",
    "for column in columns_to_replace:\n",
    "    df[column] = df[column].fillna('unknown')    \n",
    " # перебор названий столбцов в цикле и замена пропущенных значений на 'unknown'"
   ]
  },
  {
   "cell_type": "markdown",
   "metadata": {
    "id": "Ilsm-MZo_Zct"
   },
   "source": [
    "Убедимся, что в таблице не осталось пропусков. Для этого ещё раз посчитаем пропущенные значения."
   ]
  },
  {
   "cell_type": "code",
   "execution_count": 10,
   "metadata": {
    "id": "Tq4nYRX4_Zct"
   },
   "outputs": [
    {
     "data": {
      "text/plain": [
       "user_id    0\n",
       "track      0\n",
       "artist     0\n",
       "genre      0\n",
       "city       0\n",
       "time       0\n",
       "day        0\n",
       "dtype: int64"
      ]
     },
     "execution_count": 10,
     "metadata": {},
     "output_type": "execute_result"
    }
   ],
   "source": [
    "df.isna().sum() # подсчёт пропусков"
   ]
  },
  {
   "cell_type": "markdown",
   "metadata": {
    "id": "BWKRtBJ3_Zct"
   },
   "source": [
    "### Дубликаты\n",
    "Посчитаем явные дубликаты в таблице одной командой:"
   ]
  },
  {
   "cell_type": "code",
   "execution_count": 11,
   "metadata": {
    "id": "36eES_S0_Zct"
   },
   "outputs": [
    {
     "data": {
      "text/plain": [
       "3826"
      ]
     },
     "execution_count": 11,
     "metadata": {},
     "output_type": "execute_result"
    }
   ],
   "source": [
    "df.duplicated().sum() # подсчёт явных дубликатов"
   ]
  },
  {
   "cell_type": "markdown",
   "metadata": {
    "id": "Ot25h6XR_Zct"
   },
   "source": [
    "Вызовем специальный метод `pandas`, чтобы удалить явные дубликаты:"
   ]
  },
  {
   "cell_type": "code",
   "execution_count": 12,
   "metadata": {
    "id": "exFHq6tt_Zct"
   },
   "outputs": [],
   "source": [
    "df = df.drop_duplicates().reset_index(drop=True) # удаление явных дубликатов (с удалением старых индексов и формированием новых)"
   ]
  },
  {
   "cell_type": "markdown",
   "metadata": {
    "id": "Im2YwBEG_Zct"
   },
   "source": [
    "Ещё раз посчитаем явные дубликаты в таблице — убедимся, что полностью от них избавились:"
   ]
  },
  {
   "cell_type": "code",
   "execution_count": 13,
   "metadata": {
    "id": "-8PuNWQ0_Zct"
   },
   "outputs": [
    {
     "data": {
      "text/plain": [
       "0"
      ]
     },
     "execution_count": 13,
     "metadata": {},
     "output_type": "execute_result"
    }
   ],
   "source": [
    "df.duplicated().sum()# проверка на отсутствие дубликатов"
   ]
  },
  {
   "cell_type": "markdown",
   "metadata": {
    "id": "QlFBsxAr_Zct"
   },
   "source": [
    "Теперь избавимся от неявных дубликатов в колонке `genre`. Например, название одного и того же жанра может быть записано немного по-разному. Такие ошибки тоже повлияют на результат исследования."
   ]
  },
  {
   "cell_type": "markdown",
   "metadata": {
    "id": "eSjWwsOh_Zct"
   },
   "source": [
    "Выведим на экран список уникальных названий жанров, отсортированный в алфавитном порядке. Для этого:\n",
    "* надо извлечь нужный столбец датафрейма, \n",
    "* применим к нему метод сортировки,\n",
    "* для отсортированного столбца вызовем метод, который вернёт уникальные значения из столбца."
   ]
  },
  {
   "cell_type": "code",
   "execution_count": 14,
   "metadata": {
    "id": "JIUcqzZN_Zct"
   },
   "outputs": [
    {
     "data": {
      "text/plain": [
       "array(['acid', 'acoustic', 'action', 'adult', 'africa', 'afrikaans',\n",
       "       'alternative', 'alternativepunk', 'ambient', 'americana',\n",
       "       'animated', 'anime', 'arabesk', 'arabic', 'arena',\n",
       "       'argentinetango', 'art', 'audiobook', 'author', 'avantgarde',\n",
       "       'axé', 'baile', 'balkan', 'beats', 'bigroom', 'black', 'bluegrass',\n",
       "       'blues', 'bollywood', 'bossa', 'brazilian', 'breakbeat', 'breaks',\n",
       "       'broadway', 'cantautori', 'cantopop', 'canzone', 'caribbean',\n",
       "       'caucasian', 'celtic', 'chamber', 'chanson', 'children', 'chill',\n",
       "       'chinese', 'choral', 'christian', 'christmas', 'classical',\n",
       "       'classicmetal', 'club', 'colombian', 'comedy', 'conjazz',\n",
       "       'contemporary', 'country', 'cuban', 'dance', 'dancehall',\n",
       "       'dancepop', 'dark', 'death', 'deep', 'deutschrock', 'deutschspr',\n",
       "       'dirty', 'disco', 'dnb', 'documentary', 'downbeat', 'downtempo',\n",
       "       'drum', 'dub', 'dubstep', 'eastern', 'easy', 'electronic',\n",
       "       'electropop', 'emo', 'entehno', 'epicmetal', 'estrada', 'ethnic',\n",
       "       'eurofolk', 'european', 'experimental', 'extrememetal', 'fado',\n",
       "       'fairytail', 'film', 'fitness', 'flamenco', 'folk', 'folklore',\n",
       "       'folkmetal', 'folkrock', 'folktronica', 'forró', 'frankreich',\n",
       "       'französisch', 'french', 'funk', 'future', 'gangsta', 'garage',\n",
       "       'german', 'ghazal', 'gitarre', 'glitch', 'gospel', 'gothic',\n",
       "       'grime', 'grunge', 'gypsy', 'handsup', \"hard'n'heavy\", 'hardcore',\n",
       "       'hardstyle', 'hardtechno', 'hip', 'hip-hop', 'hiphop',\n",
       "       'historisch', 'holiday', 'hop', 'horror', 'house', 'hymn', 'idm',\n",
       "       'independent', 'indian', 'indie', 'indipop', 'industrial',\n",
       "       'inspirational', 'instrumental', 'international', 'irish', 'jam',\n",
       "       'japanese', 'jazz', 'jewish', 'jpop', 'jungle', 'k-pop',\n",
       "       'karadeniz', 'karaoke', 'kayokyoku', 'korean', 'laiko', 'latin',\n",
       "       'latino', 'leftfield', 'local', 'lounge', 'loungeelectronic',\n",
       "       'lovers', 'malaysian', 'mandopop', 'marschmusik', 'meditative',\n",
       "       'mediterranean', 'melodic', 'metal', 'metalcore', 'mexican',\n",
       "       'middle', 'minimal', 'miscellaneous', 'modern', 'mood', 'mpb',\n",
       "       'muslim', 'native', 'neoklassik', 'neue', 'new', 'newage',\n",
       "       'newwave', 'nu', 'nujazz', 'numetal', 'oceania', 'old', 'opera',\n",
       "       'orchestral', 'other', 'piano', 'podcasts', 'pop', 'popdance',\n",
       "       'popelectronic', 'popeurodance', 'poprussian', 'post',\n",
       "       'posthardcore', 'postrock', 'power', 'progmetal', 'progressive',\n",
       "       'psychedelic', 'punjabi', 'punk', 'quebecois', 'ragga', 'ram',\n",
       "       'rancheras', 'rap', 'rave', 'reggae', 'reggaeton', 'regional',\n",
       "       'relax', 'religious', 'retro', 'rhythm', 'rnb', 'rnr', 'rock',\n",
       "       'rockabilly', 'rockalternative', 'rockindie', 'rockother',\n",
       "       'romance', 'roots', 'ruspop', 'rusrap', 'rusrock', 'russian',\n",
       "       'salsa', 'samba', 'scenic', 'schlager', 'self', 'sertanejo',\n",
       "       'shanson', 'shoegazing', 'showtunes', 'singer', 'ska', 'skarock',\n",
       "       'slow', 'smooth', 'soft', 'soul', 'soulful', 'sound', 'soundtrack',\n",
       "       'southern', 'specialty', 'speech', 'spiritual', 'sport',\n",
       "       'stonerrock', 'surf', 'swing', 'synthpop', 'synthrock',\n",
       "       'sängerportrait', 'tango', 'tanzorchester', 'taraftar', 'tatar',\n",
       "       'tech', 'techno', 'teen', 'thrash', 'top', 'traditional',\n",
       "       'tradjazz', 'trance', 'tribal', 'trip', 'triphop', 'tropical',\n",
       "       'türk', 'türkçe', 'ukrrock', 'unknown', 'urban', 'uzbek',\n",
       "       'variété', 'vi', 'videogame', 'vocal', 'western', 'world',\n",
       "       'worldbeat', 'ïîï', 'электроника'], dtype=object)"
      ]
     },
     "execution_count": 14,
     "metadata": {},
     "output_type": "execute_result"
    }
   ],
   "source": [
    "df['genre'].sort_values().unique() # Просмотр уникальных названий жанров"
   ]
  },
  {
   "cell_type": "markdown",
   "metadata": {
    "id": "qej-Qmuo_Zct"
   },
   "source": [
    "Просмотрим список и найдем неявные дубликаты названия `hiphop`. Это могут быть названия с ошибками или альтернативные названия того же жанра.\n",
    "\n",
    "Мы увидим следующие неявные дубликаты:\n",
    "* *hip*,\n",
    "* *hop*,\n",
    "* *hip-hop*.\n",
    "\n",
    "Чтобы очистить от них таблицу, напишем функцию `replace_wrong_genres()` с двумя параметрами: \n",
    "* `wrong_genres` — список дубликатов,\n",
    "* `correct_genre` — строка с правильным значением.\n",
    "\n",
    "Функция должна исправить колонку `genre` в таблице `df`: заменить каждое значение из списка `wrong_genres` на значение из `correct_genre`."
   ]
  },
  {
   "cell_type": "code",
   "execution_count": 15,
   "metadata": {
    "id": "ErNDkmns_Zct"
   },
   "outputs": [],
   "source": [
    "def replace_wrong_genres(wrong_genres, correct_genre):\n",
    "    for wrong_genre in wrong_genres:\n",
    "        df['genre'] = df['genre'].replace(wrong_genre, correct_genre) \n",
    "# Функция для замены неявных дубликатов"
   ]
  },
  {
   "cell_type": "markdown",
   "metadata": {
    "id": "aDoBJxbA_Zct"
   },
   "source": [
    "Вызовем `replace_wrong_genres()` и передадим ей такие аргументы, чтобы она устранила неявные дубликаты: вместо `hip`, `hop` и `hip-hop` в таблице должно быть значение `hiphop`:"
   ]
  },
  {
   "cell_type": "code",
   "execution_count": 16,
   "metadata": {
    "id": "YN5i2hpmSo09"
   },
   "outputs": [],
   "source": [
    "df['genre'] = df['genre'].replace('hip','hiphop')\n",
    "df['genre'] = df['genre'].replace('hop','hiphop')\n",
    "df['genre'] = df['genre'].replace('hip-hop','hiphop')\n",
    "df['genre'] = df['genre'].replace('rusrap','hiphop')\n",
    "df['genre'] = df['genre'].replace('rnb','hiphop')\n",
    "\n",
    "\n",
    "# Устранение неявных дубликатов"
   ]
  },
  {
   "cell_type": "markdown",
   "metadata": {
    "id": "zQKF16_RG15m"
   },
   "source": [
    "Проверим, что заменили неправильные названия:\n",
    "\n",
    "Выведим отсортированный список уникальных значений столбца `genre`:"
   ]
  },
  {
   "cell_type": "code",
   "execution_count": 17,
   "metadata": {
    "id": "wvixALnFG15m"
   },
   "outputs": [
    {
     "data": {
      "text/plain": [
       "array(['acid', 'acoustic', 'action', 'adult', 'africa', 'afrikaans',\n",
       "       'alternative', 'alternativepunk', 'ambient', 'americana',\n",
       "       'animated', 'anime', 'arabesk', 'arabic', 'arena',\n",
       "       'argentinetango', 'art', 'audiobook', 'author', 'avantgarde',\n",
       "       'axé', 'baile', 'balkan', 'beats', 'bigroom', 'black', 'bluegrass',\n",
       "       'blues', 'bollywood', 'bossa', 'brazilian', 'breakbeat', 'breaks',\n",
       "       'broadway', 'cantautori', 'cantopop', 'canzone', 'caribbean',\n",
       "       'caucasian', 'celtic', 'chamber', 'chanson', 'children', 'chill',\n",
       "       'chinese', 'choral', 'christian', 'christmas', 'classical',\n",
       "       'classicmetal', 'club', 'colombian', 'comedy', 'conjazz',\n",
       "       'contemporary', 'country', 'cuban', 'dance', 'dancehall',\n",
       "       'dancepop', 'dark', 'death', 'deep', 'deutschrock', 'deutschspr',\n",
       "       'dirty', 'disco', 'dnb', 'documentary', 'downbeat', 'downtempo',\n",
       "       'drum', 'dub', 'dubstep', 'eastern', 'easy', 'electronic',\n",
       "       'electropop', 'emo', 'entehno', 'epicmetal', 'estrada', 'ethnic',\n",
       "       'eurofolk', 'european', 'experimental', 'extrememetal', 'fado',\n",
       "       'fairytail', 'film', 'fitness', 'flamenco', 'folk', 'folklore',\n",
       "       'folkmetal', 'folkrock', 'folktronica', 'forró', 'frankreich',\n",
       "       'französisch', 'french', 'funk', 'future', 'gangsta', 'garage',\n",
       "       'german', 'ghazal', 'gitarre', 'glitch', 'gospel', 'gothic',\n",
       "       'grime', 'grunge', 'gypsy', 'handsup', \"hard'n'heavy\", 'hardcore',\n",
       "       'hardstyle', 'hardtechno', 'hiphop', 'historisch', 'holiday',\n",
       "       'horror', 'house', 'hymn', 'idm', 'independent', 'indian', 'indie',\n",
       "       'indipop', 'industrial', 'inspirational', 'instrumental',\n",
       "       'international', 'irish', 'jam', 'japanese', 'jazz', 'jewish',\n",
       "       'jpop', 'jungle', 'k-pop', 'karadeniz', 'karaoke', 'kayokyoku',\n",
       "       'korean', 'laiko', 'latin', 'latino', 'leftfield', 'local',\n",
       "       'lounge', 'loungeelectronic', 'lovers', 'malaysian', 'mandopop',\n",
       "       'marschmusik', 'meditative', 'mediterranean', 'melodic', 'metal',\n",
       "       'metalcore', 'mexican', 'middle', 'minimal', 'miscellaneous',\n",
       "       'modern', 'mood', 'mpb', 'muslim', 'native', 'neoklassik', 'neue',\n",
       "       'new', 'newage', 'newwave', 'nu', 'nujazz', 'numetal', 'oceania',\n",
       "       'old', 'opera', 'orchestral', 'other', 'piano', 'podcasts', 'pop',\n",
       "       'popdance', 'popelectronic', 'popeurodance', 'poprussian', 'post',\n",
       "       'posthardcore', 'postrock', 'power', 'progmetal', 'progressive',\n",
       "       'psychedelic', 'punjabi', 'punk', 'quebecois', 'ragga', 'ram',\n",
       "       'rancheras', 'rap', 'rave', 'reggae', 'reggaeton', 'regional',\n",
       "       'relax', 'religious', 'retro', 'rhythm', 'rnr', 'rock',\n",
       "       'rockabilly', 'rockalternative', 'rockindie', 'rockother',\n",
       "       'romance', 'roots', 'ruspop', 'rusrock', 'russian', 'salsa',\n",
       "       'samba', 'scenic', 'schlager', 'self', 'sertanejo', 'shanson',\n",
       "       'shoegazing', 'showtunes', 'singer', 'ska', 'skarock', 'slow',\n",
       "       'smooth', 'soft', 'soul', 'soulful', 'sound', 'soundtrack',\n",
       "       'southern', 'specialty', 'speech', 'spiritual', 'sport',\n",
       "       'stonerrock', 'surf', 'swing', 'synthpop', 'synthrock',\n",
       "       'sängerportrait', 'tango', 'tanzorchester', 'taraftar', 'tatar',\n",
       "       'tech', 'techno', 'teen', 'thrash', 'top', 'traditional',\n",
       "       'tradjazz', 'trance', 'tribal', 'trip', 'triphop', 'tropical',\n",
       "       'türk', 'türkçe', 'ukrrock', 'unknown', 'urban', 'uzbek',\n",
       "       'variété', 'vi', 'videogame', 'vocal', 'western', 'world',\n",
       "       'worldbeat', 'ïîï', 'электроника'], dtype=object)"
      ]
     },
     "execution_count": 17,
     "metadata": {},
     "output_type": "execute_result"
    }
   ],
   "source": [
    "df['genre'].sort_values().unique()# Проверка на неявные дубликаты"
   ]
  },
  {
   "cell_type": "markdown",
   "metadata": {
    "id": "jz6a9-7HQUDd"
   },
   "source": [
    "**Выводы**\n",
    "\n",
    "Предобработка обнаружила три проблемы в данных:\n",
    "\n",
    "- нарушения в стиле заголовков,\n",
    "- пропущенные значения,\n",
    "- дубликаты — явные и неявные.\n",
    "\n",
    "Мы исправили заголовки, чтобы упростить работу с таблицей. Без дубликатов исследование станет более точным.\n",
    "\n",
    "Пропущенные значения мы заменили на `'unknown'`. Ещё предстоит увидеть, не повредят ли исследованию пропуски в колонке `genre`.\n",
    "\n",
    "Теперь можно перейти к проверке гипотез. "
   ]
  },
  {
   "cell_type": "markdown",
   "metadata": {
    "id": "WttZHXH0SqKk"
   },
   "source": [
    "## Проверка гипотез"
   ]
  },
  {
   "cell_type": "markdown",
   "metadata": {
    "id": "Im936VVi_Zcu"
   },
   "source": [
    "### Сравнение поведения пользователей двух столиц"
   ]
  },
  {
   "cell_type": "markdown",
   "metadata": {
    "id": "nwt_MuaL_Zcu"
   },
   "source": [
    "Первая гипотеза утверждает, что пользователи по-разному слушают музыку в Москве и Санкт-Петербурге. Проверим это предположение по данным о трёх днях недели — понедельнике, среде и пятнице. Для этого:\n",
    "\n",
    "* Разделим пользователей Москвы и Санкт-Петербурга\n",
    "* Сравним, сколько треков послушала каждая группа пользователей в понедельник, среду и пятницу.\n"
   ]
  },
  {
   "cell_type": "markdown",
   "metadata": {
    "id": "8Dw_YMmT_Zcu"
   },
   "source": [
    "Для тренировки сначала выполним каждый из расчётов по отдельности. \n",
    "\n",
    "Оценим активность пользователей в каждом городе. Сгруппируем данные по городу и посчитаем прослушивания в каждой группе."
   ]
  },
  {
   "cell_type": "code",
   "execution_count": 18,
   "metadata": {
    "id": "0_Qs96oh_Zcu"
   },
   "outputs": [
    {
     "data": {
      "text/plain": [
       "city\n",
       "Moscow              42741\n",
       "Saint-Petersburg    18512\n",
       "Name: track, dtype: int64"
      ]
     },
     "execution_count": 18,
     "metadata": {},
     "output_type": "execute_result"
    }
   ],
   "source": [
    "df.groupby('city')['track'].count()\n",
    "# Подсчёт прослушиваний в каждом городе"
   ]
  },
  {
   "cell_type": "markdown",
   "metadata": {
    "id": "dzli3w8o_Zcu"
   },
   "source": [
    "В Москве прослушиваний больше, чем в Петербурге. Из этого не следует, что московские пользователи чаще слушают музыку. Просто самих пользователей в Москве больше.\n",
    "\n",
    "Теперь сгруппируем данные по дню недели и подсчитаем прослушивания в понедельник, среду и пятницу. Надо учесть, что в данных есть информация только о прослушиваниях только за эти дни."
   ]
  },
  {
   "cell_type": "code",
   "execution_count": 19,
   "metadata": {
    "id": "uZMKjiJz_Zcu"
   },
   "outputs": [
    {
     "data": {
      "text/plain": [
       "day\n",
       "Friday       21840\n",
       "Monday       21354\n",
       "Wednesday    18059\n",
       "Name: track, dtype: int64"
      ]
     },
     "execution_count": 19,
     "metadata": {},
     "output_type": "execute_result"
    }
   ],
   "source": [
    "df.groupby('day')['track'].count()  # Подсчёт прослушиваний в каждый из трёх дней"
   ]
  },
  {
   "cell_type": "markdown",
   "metadata": {
    "id": "cC2tNrlL_Zcu"
   },
   "source": [
    "В среднем пользователи из двух городов менее активны по средам. Но картина может измениться, если рассмотреть каждый город в отдельности."
   ]
  },
  {
   "cell_type": "markdown",
   "metadata": {
    "id": "POzs8bGa_Zcu"
   },
   "source": [
    "Мы видели, как работает группировка по городу и по дням недели. Теперь напишем функцию, которая объединит два эти расчёта.\n",
    "\n",
    "Создадим функцию `number_tracks()`, которая посчитает прослушивания для заданного дня и города. Ей понадобятся два параметра:\n",
    "* день недели,\n",
    "* название города.\n",
    "\n",
    "В функции сохраним в переменную строки исходной таблицы, у которых значение:\n",
    "  * в колонке `day` равно параметру `day`,\n",
    "  * в колонке `city` равно параметру `city`.\n",
    "\n",
    "Для этого применим последовательную фильтрацию с логической индексацией.\n",
    "\n",
    "Затем посчитаем значения в столбце `user_id` получившейся таблицы. Результат сохраним в новую переменную. Вернем эту переменную из функции."
   ]
  },
  {
   "cell_type": "code",
   "execution_count": 20,
   "metadata": {
    "id": "Nz3GdQB1_Zcu"
   },
   "outputs": [],
   "source": [
    "\n",
    "def number_tracks(day,city):\n",
    "    track_list = df[(df['day'] == day)&(df['city'] == city)]\n",
    "    track_list_count = track_list.count()['user_id']\n",
    "    return track_list_count\n",
    "\n",
    "\n",
    "\n",
    "# <создание функции number_tracks()>\n",
    "# Объявляется функция с двумя параметрами: day, city.\n",
    "# В переменной track_list сохраняются те строки таблицы df, для которых \n",
    "# значение в столбце 'day' равно параметру day и одновременно значение\n",
    "# в столбце 'city' равно параметру city (используйте последовательную фильтрацию\n",
    "# с помощью логической индексации).\n",
    "# В переменной track_list_count сохраняется число значений столбца 'user_id',\n",
    "# рассчитанное методом count() для таблицы track_list.\n",
    "# Функция возвращает число - значение track_list_count.\n",
    "\n",
    "# Функция для подсчёта прослушиваний для конкретного города и дня.\n",
    "# С помощью последовательной фильтрации с логической индексацией она \n",
    "# сначала получит из исходной таблицы строки с нужным днём,\n",
    "# затем из результата отфильтрует строки с нужным городом,\n",
    "# методом count() посчитает количество значений в колонке user_id. \n",
    "# Это количество функция вернёт в качестве результата"
   ]
  },
  {
   "cell_type": "markdown",
   "metadata": {
    "id": "ytf7xFrFJQ2r"
   },
   "source": [
    "Вызовем `number_tracks()` шесть раз, меняя значение параметров — так, чтобы получить данные для каждого города в каждый из трёх дней."
   ]
  },
  {
   "cell_type": "code",
   "execution_count": 21,
   "metadata": {
    "id": "rJcRATNQ_Zcu"
   },
   "outputs": [
    {
     "data": {
      "text/plain": [
       "15740"
      ]
     },
     "execution_count": 21,
     "metadata": {},
     "output_type": "execute_result"
    }
   ],
   "source": [
    "number_tracks('Monday', 'Moscow') # количество прослушиваний в Москве по понедельникам"
   ]
  },
  {
   "cell_type": "code",
   "execution_count": 22,
   "metadata": {
    "id": "hq_ncZ5T_Zcu"
   },
   "outputs": [
    {
     "data": {
      "text/plain": [
       "5614"
      ]
     },
     "execution_count": 22,
     "metadata": {},
     "output_type": "execute_result"
    }
   ],
   "source": [
    "number_tracks('Monday', 'Saint-Petersburg')# количество прослушиваний в Санкт-Петербурге по понедельникам"
   ]
  },
  {
   "cell_type": "code",
   "execution_count": 23,
   "metadata": {
    "id": "_NTy2VPU_Zcu"
   },
   "outputs": [
    {
     "data": {
      "text/plain": [
       "11056"
      ]
     },
     "execution_count": 23,
     "metadata": {},
     "output_type": "execute_result"
    }
   ],
   "source": [
    "number_tracks('Wednesday', 'Moscow')# количество прослушиваний в Москве по средам"
   ]
  },
  {
   "cell_type": "code",
   "execution_count": 24,
   "metadata": {
    "id": "j2y3TAwo_Zcu"
   },
   "outputs": [
    {
     "data": {
      "text/plain": [
       "7003"
      ]
     },
     "execution_count": 24,
     "metadata": {},
     "output_type": "execute_result"
    }
   ],
   "source": [
    "number_tracks('Wednesday', 'Saint-Petersburg')# количество прослушиваний в Санкт-Петербурге по средам"
   ]
  },
  {
   "cell_type": "code",
   "execution_count": 25,
   "metadata": {
    "id": "vYDw5u_K_Zcu"
   },
   "outputs": [
    {
     "data": {
      "text/plain": [
       "15945"
      ]
     },
     "execution_count": 25,
     "metadata": {},
     "output_type": "execute_result"
    }
   ],
   "source": [
    "number_tracks('Friday', 'Moscow')# количество прослушиваний в Москве по пятницам"
   ]
  },
  {
   "cell_type": "code",
   "execution_count": 26,
   "metadata": {
    "id": "8_yzFtW3_Zcu"
   },
   "outputs": [
    {
     "data": {
      "text/plain": [
       "5895"
      ]
     },
     "execution_count": 26,
     "metadata": {},
     "output_type": "execute_result"
    }
   ],
   "source": [
    "number_tracks('Friday', 'Saint-Petersburg')# количество прослушиваний в Санкт-Петербурге по пятницам"
   ]
  },
  {
   "cell_type": "markdown",
   "metadata": {
    "id": "7QXffbO-_Zcu"
   },
   "source": [
    "Создадим c помощью конструктора `pd.DataFrame` таблицу, где\n",
    "* названия колонок — `['city', 'monday', 'wednesday', 'friday']`;\n",
    "* данные — результаты, которые вы получили с помощью `number_tracks`."
   ]
  },
  {
   "cell_type": "code",
   "execution_count": 27,
   "metadata": {
    "id": "APAcLpOr_Zcu"
   },
   "outputs": [
    {
     "data": {
      "text/html": [
       "<div>\n",
       "<style scoped>\n",
       "    .dataframe tbody tr th:only-of-type {\n",
       "        vertical-align: middle;\n",
       "    }\n",
       "\n",
       "    .dataframe tbody tr th {\n",
       "        vertical-align: top;\n",
       "    }\n",
       "\n",
       "    .dataframe thead th {\n",
       "        text-align: right;\n",
       "    }\n",
       "</style>\n",
       "<table border=\"1\" class=\"dataframe\">\n",
       "  <thead>\n",
       "    <tr style=\"text-align: right;\">\n",
       "      <th></th>\n",
       "      <th>city</th>\n",
       "      <th>monday</th>\n",
       "      <th>wednesday</th>\n",
       "      <th>friday</th>\n",
       "    </tr>\n",
       "  </thead>\n",
       "  <tbody>\n",
       "    <tr>\n",
       "      <th>0</th>\n",
       "      <td>Moscow</td>\n",
       "      <td>15740</td>\n",
       "      <td>11056</td>\n",
       "      <td>15945</td>\n",
       "    </tr>\n",
       "    <tr>\n",
       "      <th>1</th>\n",
       "      <td>Saint-Petersburg</td>\n",
       "      <td>5614</td>\n",
       "      <td>7003</td>\n",
       "      <td>5895</td>\n",
       "    </tr>\n",
       "  </tbody>\n",
       "</table>\n",
       "</div>"
      ],
      "text/plain": [
       "               city  monday  wednesday  friday\n",
       "0            Moscow   15740      11056   15945\n",
       "1  Saint-Petersburg    5614       7003    5895"
      ]
     },
     "execution_count": 27,
     "metadata": {},
     "output_type": "execute_result"
    }
   ],
   "source": [
    "import pandas as pd\n",
    "names = ['city', 'monday', 'wednesday', 'friday']\n",
    "df_new = pd.DataFrame([['Moscow', 15740, 11056, 15945],\n",
    "       ['Saint-Petersburg', 5614, 7003, 5895]],\n",
    "columns=['city', 'monday', 'wednesday', 'friday'])\n",
    "df_new # Таблица с результатами"
   ]
  },
  {
   "cell_type": "markdown",
   "metadata": {
    "id": "-EgPIHYu_Zcu"
   },
   "source": [
    "**Выводы**\n",
    "\n",
    "Данные показывают разницу поведения пользователей:\n",
    "\n",
    "- В Москве пик прослушиваний приходится на понедельник и пятницу, а в среду заметен спад.\n",
    "- В Петербурге, наоборот, больше слушают музыку по средам. Активность в понедельник и пятницу здесь почти в равной мере уступает среде.\n",
    "\n",
    "Значит, данные говорят в пользу первой гипотезы."
   ]
  },
  {
   "cell_type": "markdown",
   "metadata": {
    "id": "atZAxtq4_Zcu"
   },
   "source": [
    "### Музыка в начале и в конце недели"
   ]
  },
  {
   "cell_type": "markdown",
   "metadata": {
    "id": "eXrQqXFH_Zcu"
   },
   "source": [
    "Согласно второй гипотезе, утром в понедельник в Москве преобладают одни жанры, а в Петербурге — другие. Так же и вечером пятницы преобладают разные жанры — в зависимости от города."
   ]
  },
  {
   "cell_type": "markdown",
   "metadata": {
    "id": "S8UcW6Hw_Zcu"
   },
   "source": [
    "Сохраним таблицы с данными в две переменные:\n",
    "* по Москве — в `moscow_general`;\n",
    "* по Санкт-Петербургу — в `spb_general`."
   ]
  },
  {
   "cell_type": "code",
   "execution_count": 28,
   "metadata": {
    "id": "qeaFfM_P_Zcu"
   },
   "outputs": [
    {
     "data": {
      "text/html": [
       "<div>\n",
       "<style scoped>\n",
       "    .dataframe tbody tr th:only-of-type {\n",
       "        vertical-align: middle;\n",
       "    }\n",
       "\n",
       "    .dataframe tbody tr th {\n",
       "        vertical-align: top;\n",
       "    }\n",
       "\n",
       "    .dataframe thead th {\n",
       "        text-align: right;\n",
       "    }\n",
       "</style>\n",
       "<table border=\"1\" class=\"dataframe\">\n",
       "  <thead>\n",
       "    <tr style=\"text-align: right;\">\n",
       "      <th></th>\n",
       "      <th>user_id</th>\n",
       "      <th>track</th>\n",
       "      <th>artist</th>\n",
       "      <th>genre</th>\n",
       "      <th>city</th>\n",
       "      <th>time</th>\n",
       "      <th>day</th>\n",
       "    </tr>\n",
       "  </thead>\n",
       "  <tbody>\n",
       "    <tr>\n",
       "      <th>1</th>\n",
       "      <td>55204538</td>\n",
       "      <td>Delayed Because of Accident</td>\n",
       "      <td>Andreas Rönnberg</td>\n",
       "      <td>rock</td>\n",
       "      <td>Moscow</td>\n",
       "      <td>14:07:09</td>\n",
       "      <td>Friday</td>\n",
       "    </tr>\n",
       "    <tr>\n",
       "      <th>4</th>\n",
       "      <td>E2DC1FAE</td>\n",
       "      <td>Soul People</td>\n",
       "      <td>Space Echo</td>\n",
       "      <td>dance</td>\n",
       "      <td>Moscow</td>\n",
       "      <td>08:34:34</td>\n",
       "      <td>Monday</td>\n",
       "    </tr>\n",
       "    <tr>\n",
       "      <th>6</th>\n",
       "      <td>4CB90AA5</td>\n",
       "      <td>True</td>\n",
       "      <td>Roman Messer</td>\n",
       "      <td>dance</td>\n",
       "      <td>Moscow</td>\n",
       "      <td>13:00:07</td>\n",
       "      <td>Wednesday</td>\n",
       "    </tr>\n",
       "    <tr>\n",
       "      <th>7</th>\n",
       "      <td>F03E1C1F</td>\n",
       "      <td>Feeling This Way</td>\n",
       "      <td>Polina Griffith</td>\n",
       "      <td>dance</td>\n",
       "      <td>Moscow</td>\n",
       "      <td>20:47:49</td>\n",
       "      <td>Wednesday</td>\n",
       "    </tr>\n",
       "    <tr>\n",
       "      <th>8</th>\n",
       "      <td>8FA1D3BE</td>\n",
       "      <td>И вновь продолжается бой</td>\n",
       "      <td>unknown</td>\n",
       "      <td>ruspop</td>\n",
       "      <td>Moscow</td>\n",
       "      <td>09:17:40</td>\n",
       "      <td>Friday</td>\n",
       "    </tr>\n",
       "  </tbody>\n",
       "</table>\n",
       "</div>"
      ],
      "text/plain": [
       "    user_id                        track            artist   genre    city  \\\n",
       "1  55204538  Delayed Because of Accident  Andreas Rönnberg    rock  Moscow   \n",
       "4  E2DC1FAE                  Soul People        Space Echo   dance  Moscow   \n",
       "6  4CB90AA5                         True      Roman Messer   dance  Moscow   \n",
       "7  F03E1C1F             Feeling This Way   Polina Griffith   dance  Moscow   \n",
       "8  8FA1D3BE     И вновь продолжается бой           unknown  ruspop  Moscow   \n",
       "\n",
       "       time        day  \n",
       "1  14:07:09     Friday  \n",
       "4  08:34:34     Monday  \n",
       "6  13:00:07  Wednesday  \n",
       "7  20:47:49  Wednesday  \n",
       "8  09:17:40     Friday  "
      ]
     },
     "execution_count": 28,
     "metadata": {},
     "output_type": "execute_result"
    }
   ],
   "source": [
    "moscow_general = df[df[\"city\"] == 'Moscow']\n",
    "moscow_general.head()\n",
    "\n",
    " # получение таблицы moscow_general из тех строк таблицы df, \n",
    "# для которых значение в столбце 'city' равно 'Moscow'\n"
   ]
  },
  {
   "cell_type": "code",
   "execution_count": 29,
   "metadata": {
    "id": "ORaVRKto_Zcu"
   },
   "outputs": [
    {
     "data": {
      "text/html": [
       "<div>\n",
       "<style scoped>\n",
       "    .dataframe tbody tr th:only-of-type {\n",
       "        vertical-align: middle;\n",
       "    }\n",
       "\n",
       "    .dataframe tbody tr th {\n",
       "        vertical-align: top;\n",
       "    }\n",
       "\n",
       "    .dataframe thead th {\n",
       "        text-align: right;\n",
       "    }\n",
       "</style>\n",
       "<table border=\"1\" class=\"dataframe\">\n",
       "  <thead>\n",
       "    <tr style=\"text-align: right;\">\n",
       "      <th></th>\n",
       "      <th>user_id</th>\n",
       "      <th>track</th>\n",
       "      <th>artist</th>\n",
       "      <th>genre</th>\n",
       "      <th>city</th>\n",
       "      <th>time</th>\n",
       "      <th>day</th>\n",
       "    </tr>\n",
       "  </thead>\n",
       "  <tbody>\n",
       "    <tr>\n",
       "      <th>0</th>\n",
       "      <td>FFB692EC</td>\n",
       "      <td>Kamigata To Boots</td>\n",
       "      <td>The Mass Missile</td>\n",
       "      <td>rock</td>\n",
       "      <td>Saint-Petersburg</td>\n",
       "      <td>20:28:33</td>\n",
       "      <td>Wednesday</td>\n",
       "    </tr>\n",
       "    <tr>\n",
       "      <th>2</th>\n",
       "      <td>20EC38</td>\n",
       "      <td>Funiculì funiculà</td>\n",
       "      <td>Mario Lanza</td>\n",
       "      <td>pop</td>\n",
       "      <td>Saint-Petersburg</td>\n",
       "      <td>20:58:07</td>\n",
       "      <td>Wednesday</td>\n",
       "    </tr>\n",
       "    <tr>\n",
       "      <th>3</th>\n",
       "      <td>A3DD03C9</td>\n",
       "      <td>Dragons in the Sunset</td>\n",
       "      <td>Fire + Ice</td>\n",
       "      <td>folk</td>\n",
       "      <td>Saint-Petersburg</td>\n",
       "      <td>08:37:09</td>\n",
       "      <td>Monday</td>\n",
       "    </tr>\n",
       "    <tr>\n",
       "      <th>5</th>\n",
       "      <td>842029A1</td>\n",
       "      <td>Преданная</td>\n",
       "      <td>IMPERVTOR</td>\n",
       "      <td>hiphop</td>\n",
       "      <td>Saint-Petersburg</td>\n",
       "      <td>13:09:41</td>\n",
       "      <td>Friday</td>\n",
       "    </tr>\n",
       "    <tr>\n",
       "      <th>9</th>\n",
       "      <td>E772D5C0</td>\n",
       "      <td>Pessimist</td>\n",
       "      <td>unknown</td>\n",
       "      <td>dance</td>\n",
       "      <td>Saint-Petersburg</td>\n",
       "      <td>21:20:49</td>\n",
       "      <td>Wednesday</td>\n",
       "    </tr>\n",
       "  </tbody>\n",
       "</table>\n",
       "</div>"
      ],
      "text/plain": [
       "    user_id                  track            artist   genre  \\\n",
       "0  FFB692EC      Kamigata To Boots  The Mass Missile    rock   \n",
       "2    20EC38      Funiculì funiculà       Mario Lanza     pop   \n",
       "3  A3DD03C9  Dragons in the Sunset        Fire + Ice    folk   \n",
       "5  842029A1              Преданная         IMPERVTOR  hiphop   \n",
       "9  E772D5C0              Pessimist           unknown   dance   \n",
       "\n",
       "               city      time        day  \n",
       "0  Saint-Petersburg  20:28:33  Wednesday  \n",
       "2  Saint-Petersburg  20:58:07  Wednesday  \n",
       "3  Saint-Petersburg  08:37:09     Monday  \n",
       "5  Saint-Petersburg  13:09:41     Friday  \n",
       "9  Saint-Petersburg  21:20:49  Wednesday  "
      ]
     },
     "execution_count": 29,
     "metadata": {},
     "output_type": "execute_result"
    }
   ],
   "source": [
    "spb_general = df[df['city'] == 'Saint-Petersburg']\n",
    "spb_general.head()\n",
    "# получение таблицы spb_general из тех строк таблицы df,\n",
    "# для которых значение в столбце 'city' равно 'Saint-Petersburg'\n"
   ]
  },
  {
   "cell_type": "markdown",
   "metadata": {
    "id": "MEJV-CX2_Zcu"
   },
   "source": [
    "Создадим функцию `genre_weekday()` с четырьмя параметрами:\n",
    "* таблица (датафрейм) с данными,\n",
    "* день недели,\n",
    "* начальная временная метка в формате 'hh:mm', \n",
    "* последняя временная метка в формате 'hh:mm'.\n",
    "\n",
    "Функция должна вернуть информацию о топ-10 жанров тех треков, которые прослушивали в указанный день, в промежутке между двумя отметками времени."
   ]
  },
  {
   "cell_type": "code",
   "execution_count": 30,
   "metadata": {
    "id": "laJT9BYl_Zcu"
   },
   "outputs": [],
   "source": [
    "def genre_weekday(table, day, time1, time2):\n",
    "    genre_df = table.loc[(table['day']==day) &(table['time']> time1) & (table['time']<time2)]\n",
    "    genre_df_count = genre_df.groupby('genre')['track'].count()\n",
    "    genre_df_sorted =  genre_df_count.sort_values(ascending=False)\n",
    "    return genre_df_sorted[:10]"
   ]
  },
  {
   "cell_type": "markdown",
   "metadata": {
    "id": "la2s2_PF_Zcu"
   },
   "source": [
    "Cравните результаты функции `genre_weekday()` для Москвы и Санкт-Петербурга в понедельник утром (с 7:00 до 11:00) и в пятницу вечером (с 17:00 до 23:00):"
   ]
  },
  {
   "cell_type": "code",
   "execution_count": 31,
   "metadata": {
    "id": "yz7itPUQ_Zcu",
    "scrolled": true
   },
   "outputs": [
    {
     "data": {
      "text/plain": [
       "genre\n",
       "pop            781\n",
       "dance          549\n",
       "hiphop         534\n",
       "electronic     480\n",
       "rock           474\n",
       "ruspop         186\n",
       "world          181\n",
       "alternative    164\n",
       "unknown        161\n",
       "classical      157\n",
       "Name: track, dtype: int64"
      ]
     },
     "execution_count": 31,
     "metadata": {},
     "output_type": "execute_result"
    }
   ],
   "source": [
    "genre_weekday(moscow_general, 'Monday', '07.00', '11.00')\n",
    "\n",
    "# вызов функции для утра понедельника в Москве (вместо df — таблица moscow_general)\n",
    "# объекты, хранящие время, являются строками и сравниваются как строки\n",
    "# пример вызова: genre_weekday(moscow_general, 'Monday', '07:00', '11:00')"
   ]
  },
  {
   "cell_type": "code",
   "execution_count": 32,
   "metadata": {
    "id": "kwUcHPdy_Zcu"
   },
   "outputs": [
    {
     "data": {
      "text/plain": [
       "genre\n",
       "pop            218\n",
       "dance          182\n",
       "rock           162\n",
       "hiphop         162\n",
       "electronic     147\n",
       "ruspop          64\n",
       "alternative     58\n",
       "jazz            44\n",
       "classical       40\n",
       "world           36\n",
       "Name: track, dtype: int64"
      ]
     },
     "execution_count": 32,
     "metadata": {},
     "output_type": "execute_result"
    }
   ],
   "source": [
    "genre_weekday(spb_general, 'Monday', '07.00', '11.00')# вызов функции для утра понедельника в Петербурге (вместо df — таблица spb_general)"
   ]
  },
  {
   "cell_type": "code",
   "execution_count": 33,
   "metadata": {
    "id": "EzXVRE1o_Zcu"
   },
   "outputs": [
    {
     "data": {
      "text/plain": [
       "genre\n",
       "pop            713\n",
       "rock           517\n",
       "hiphop         505\n",
       "dance          495\n",
       "electronic     482\n",
       "world          208\n",
       "ruspop         170\n",
       "alternative    163\n",
       "classical      163\n",
       "jazz           111\n",
       "Name: track, dtype: int64"
      ]
     },
     "execution_count": 33,
     "metadata": {},
     "output_type": "execute_result"
    }
   ],
   "source": [
    "genre_weekday(moscow_general, 'Friday', '17.00', '23.00')# вызов функции для вечера пятницы в Москве"
   ]
  },
  {
   "cell_type": "code",
   "execution_count": 34,
   "metadata": {
    "id": "JZaEKu5v_Zcu"
   },
   "outputs": [
    {
     "data": {
      "text/plain": [
       "genre\n",
       "pop            256\n",
       "electronic     216\n",
       "rock           216\n",
       "dance          210\n",
       "hiphop         187\n",
       "alternative     63\n",
       "jazz            61\n",
       "classical       60\n",
       "world           54\n",
       "ruspop          47\n",
       "Name: track, dtype: int64"
      ]
     },
     "execution_count": 34,
     "metadata": {},
     "output_type": "execute_result"
    }
   ],
   "source": [
    "genre_weekday(spb_general, 'Friday', '17.00', '23.00')# вызов функции для вечера пятницы в Петербурге"
   ]
  },
  {
   "cell_type": "markdown",
   "metadata": {
    "id": "wrCe4MNX_Zcu"
   },
   "source": [
    "**Выводы**\n",
    "\n",
    "Если сравнить топ-10 жанров в понедельник утром, можно сделать такие выводы:\n",
    "\n",
    "1. В Москве и Петербурге слушают похожую музыку. Единственное отличие — в московский рейтинг вошёл жанр “world”, а в петербургский — джаз и классика.\n",
    "\n",
    "2. В Москве пропущенных значений оказалось так много, что значение `'unknown'` заняло десятое место среди самых популярных жанров. Значит, пропущенные значения занимают существенную долю в данных и угрожают достоверности исследования.\n",
    "\n",
    "Вечер пятницы не меняет эту картину. Некоторые жанры поднимаются немного выше, другие спускаются, но в целом топ-10 остаётся тем же самым.\n",
    "\n",
    "Таким образом, вторая гипотеза подтвердилась лишь частично:\n",
    "* Пользователи слушают похожую музыку в начале недели и в конце.\n",
    "* Разница между Москвой и Петербургом не слишком выражена. В Москве чаще слушают русскую популярную музыку, в Петербурге — джаз.\n",
    "\n",
    "Однако пропуски в данных ставят под сомнение этот результат. В Москве их так много, что рейтинг топ-10 мог бы выглядеть иначе, если бы не утерянные  данные о жанрах."
   ]
  },
  {
   "cell_type": "markdown",
   "metadata": {
    "id": "JolODAqr_Zcu"
   },
   "source": [
    "### Жанровые предпочтения в Москве и Петербурге\n",
    "\n",
    "Гипотеза: Петербург — столица рэпа, музыку этого жанра там слушают чаще, чем в Москве.  А Москва — город контрастов, в котором, тем не менее, преобладает поп-музыка."
   ]
  },
  {
   "cell_type": "markdown",
   "metadata": {
    "id": "DlegSvaT_Zcu"
   },
   "source": [
    "Сгруппируем таблицу `moscow_general` по жанру и посчитаем прослушивания треков каждого жанра методом `count()`. Затем отсортируем результат в порядке убывания и сохраним его в таблице `moscow_genres`."
   ]
  },
  {
   "cell_type": "code",
   "execution_count": 35,
   "metadata": {
    "id": "r19lIPke_Zcu"
   },
   "outputs": [],
   "source": [
    "moscow_genres = moscow_general.groupby(by='genre')['genre'].count().sort_values(ascending=False)\n",
    "\n",
    "# одной строкой: группировка таблицы moscow_general по столбцу 'genre', \n",
    "# подсчёт числа значений 'genre' в этой группировке методом count(), \n",
    "# сортировка получившегося Series в порядке убывания и сохранение в moscow_genres"
   ]
  },
  {
   "cell_type": "markdown",
   "metadata": {
    "id": "6kMuomxTiIr8"
   },
   "source": [
    "Выведем на экран первые десять строк `moscow_genres`:"
   ]
  },
  {
   "cell_type": "code",
   "execution_count": 36,
   "metadata": {
    "id": "WhCSooF8_Zcv"
   },
   "outputs": [
    {
     "data": {
      "text/plain": [
       "genre\n",
       "pop            5892\n",
       "dance          4435\n",
       "rock           3965\n",
       "hiphop         3888\n",
       "electronic     3786\n",
       "classical      1616\n",
       "world          1432\n",
       "alternative    1379\n",
       "ruspop         1372\n",
       "jazz            980\n",
       "Name: genre, dtype: int64"
      ]
     },
     "execution_count": 36,
     "metadata": {},
     "output_type": "execute_result"
    }
   ],
   "source": [
    "moscow_genres.head(10)# просмотр первых 10 строк moscow_genres"
   ]
  },
  {
   "cell_type": "markdown",
   "metadata": {
    "id": "cnPG2vnN_Zcv"
   },
   "source": [
    "Теперь повторим то же и для Петербурга.\n",
    "\n",
    "Сгруппируем таблицу `spb_general` по жанру. Посчитаем прослушивания треков каждого жанра. Результат отсортируем в порядке убывания и сохраним в таблице `spb_genres`:"
   ]
  },
  {
   "cell_type": "code",
   "execution_count": 37,
   "metadata": {
    "id": "gluLIpE7_Zcv"
   },
   "outputs": [],
   "source": [
    "spb_genres = spb_general.groupby(by='genre')['genre'].count().sort_values(ascending=False)# одной строкой: группировка таблицы spb_general по столбцу 'genre', \n",
    "# подсчёт числа значений 'genre' в этой группировке методом count(), \n",
    "# сортировка получившегося Series в порядке убывания и сохранение в spb_genres"
   ]
  },
  {
   "cell_type": "markdown",
   "metadata": {
    "id": "5Doha_ODgyQ8"
   },
   "source": [
    "Выведем на экран первые десять строк `spb_genres`:"
   ]
  },
  {
   "cell_type": "code",
   "execution_count": 38,
   "metadata": {
    "id": "uaGJHjVU_Zcv"
   },
   "outputs": [
    {
     "data": {
      "text/plain": [
       "genre\n",
       "pop            2431\n",
       "dance          1932\n",
       "rock           1879\n",
       "hiphop         1845\n",
       "electronic     1736\n",
       "alternative     649\n",
       "classical       646\n",
       "ruspop          538\n",
       "world           515\n",
       "jazz            486\n",
       "Name: genre, dtype: int64"
      ]
     },
     "execution_count": 38,
     "metadata": {},
     "output_type": "execute_result"
    }
   ],
   "source": [
    "spb_genres.head(10)# просмотр первых 10 строк spb_genres"
   ]
  },
  {
   "cell_type": "markdown",
   "metadata": {
    "id": "RY51YJYu_Zcv"
   },
   "source": [
    "**Выводы**"
   ]
  },
  {
   "cell_type": "markdown",
   "metadata": {
    "id": "nVhnJEm__Zcv"
   },
   "source": [
    "Гипотеза частично подтвердилась:\n",
    "* Поп-музыка — самый популярный жанр в Москве, как и предполагала гипотеза. Более того, в топ-10 жанров встречается близкий жанр — русская популярная музыка.\n",
    "* Вопреки ожиданиям, рэп одинаково популярен в Москве и Петербурге. \n"
   ]
  },
  {
   "cell_type": "markdown",
   "metadata": {
    "id": "ykKQ0N65_Zcv"
   },
   "source": [
    "## Итоги исследования"
   ]
  },
  {
   "cell_type": "markdown",
   "metadata": {
    "id": "tjUwbHb3_Zcv"
   },
   "source": [
    "Мы проверили три гипотезы и установили:\n",
    "\n",
    "1. День недели по-разному влияет на активность пользователей в Москве и Петербурге. \n",
    "\n",
    "Первая гипотеза полностью подтвердилась.\n",
    "\n",
    "2. Музыкальные предпочтения не сильно меняются в течение недели — будь то Москва или Петербург. Небольшие различия заметны в начале недели, по понедельникам:\n",
    "* в Москве слушают музыку жанра “world”,\n",
    "* в Петербурге — джаз и классику.\n",
    "\n",
    "Таким образом, вторая гипотеза подтвердилась лишь отчасти. Этот результат мог оказаться иным, если бы не пропуски в данных.\n",
    "\n",
    "3. Во вкусах пользователей Москвы и Петербурга больше общего чем различий. Вопреки ожиданиям, предпочтения жанров в Петербурге напоминают московские.\n",
    "\n",
    "Третья гипотеза не подтвердилась. Если различия в предпочтениях и существуют, на основной массе пользователей они незаметны.\n",
    "\n",
    "**На практике исследования содержат проверки статистических гипотез.**\n",
    "Из данных одного сервиса не всегда можно сделать вывод о всех жителях города.\n",
    "Проверки статистических гипотез покажут, насколько они достоверны, исходя из имеющихся данных. "
   ]
  }
 ],
 "metadata": {
  "ExecuteTimeLog": [
   {
    "duration": 725,
    "start_time": "2022-02-25T07:10:48.529Z"
   },
   {
    "duration": 142,
    "start_time": "2022-02-25T07:11:52.669Z"
   },
   {
    "duration": 112,
    "start_time": "2022-02-25T07:12:08.619Z"
   },
   {
    "duration": 372,
    "start_time": "2022-02-25T07:12:16.178Z"
   },
   {
    "duration": 247,
    "start_time": "2022-02-25T07:12:33.700Z"
   },
   {
    "duration": 123,
    "start_time": "2022-02-25T07:12:58.206Z"
   },
   {
    "duration": 187,
    "start_time": "2022-02-25T07:13:07.732Z"
   },
   {
    "duration": 173,
    "start_time": "2022-02-25T07:13:11.770Z"
   },
   {
    "duration": 266,
    "start_time": "2022-02-25T07:13:42.810Z"
   },
   {
    "duration": 19,
    "start_time": "2022-02-25T07:13:55.407Z"
   },
   {
    "duration": 27,
    "start_time": "2022-02-25T07:14:16.472Z"
   },
   {
    "duration": 5,
    "start_time": "2022-02-25T07:19:02.707Z"
   },
   {
    "duration": 26,
    "start_time": "2022-02-25T07:21:16.507Z"
   },
   {
    "duration": 5,
    "start_time": "2022-02-25T07:21:37.030Z"
   },
   {
    "duration": 24,
    "start_time": "2022-02-25T07:26:34.629Z"
   },
   {
    "duration": 27,
    "start_time": "2022-02-25T07:26:44.826Z"
   },
   {
    "duration": 251,
    "start_time": "2022-02-25T07:35:57.905Z"
   },
   {
    "duration": 20,
    "start_time": "2022-02-25T07:36:05.840Z"
   },
   {
    "duration": 354,
    "start_time": "2022-02-25T07:36:43.749Z"
   },
   {
    "duration": 25,
    "start_time": "2022-02-25T07:36:50.975Z"
   },
   {
    "duration": 327,
    "start_time": "2022-02-25T11:43:01.545Z"
   },
   {
    "duration": 201,
    "start_time": "2022-02-25T11:43:21.012Z"
   },
   {
    "duration": 209,
    "start_time": "2022-02-25T11:43:27.283Z"
   },
   {
    "duration": 206,
    "start_time": "2022-02-25T11:44:47.332Z"
   },
   {
    "duration": 212,
    "start_time": "2022-02-25T11:44:54.627Z"
   },
   {
    "duration": 200,
    "start_time": "2022-02-25T11:45:25.340Z"
   },
   {
    "duration": 447,
    "start_time": "2022-02-25T11:45:48.121Z"
   },
   {
    "duration": 202,
    "start_time": "2022-02-25T11:46:01.027Z"
   },
   {
    "duration": 205,
    "start_time": "2022-02-25T11:46:05.185Z"
   },
   {
    "duration": 201,
    "start_time": "2022-02-25T11:46:07.745Z"
   },
   {
    "duration": 211,
    "start_time": "2022-02-25T11:46:10.475Z"
   },
   {
    "duration": 207,
    "start_time": "2022-02-25T11:46:14.598Z"
   },
   {
    "duration": 648,
    "start_time": "2022-02-25T11:46:18.938Z"
   },
   {
    "duration": 150,
    "start_time": "2022-02-25T11:46:20.254Z"
   },
   {
    "duration": 17,
    "start_time": "2022-02-25T11:46:22.103Z"
   },
   {
    "duration": 27,
    "start_time": "2022-02-25T11:46:24.636Z"
   },
   {
    "duration": 4,
    "start_time": "2022-02-25T11:46:27.497Z"
   },
   {
    "duration": 23,
    "start_time": "2022-02-25T11:46:29.165Z"
   },
   {
    "duration": 4,
    "start_time": "2022-02-25T11:46:31.199Z"
   },
   {
    "duration": 23,
    "start_time": "2022-02-25T11:46:32.472Z"
   },
   {
    "duration": 18,
    "start_time": "2022-02-25T11:46:34.670Z"
   },
   {
    "duration": 22,
    "start_time": "2022-02-25T11:46:36.982Z"
   },
   {
    "duration": 60,
    "start_time": "2022-02-25T11:46:38.536Z"
   },
   {
    "duration": 74,
    "start_time": "2022-02-25T11:48:00.184Z"
   },
   {
    "duration": 73,
    "start_time": "2022-02-25T11:48:23.819Z"
   },
   {
    "duration": 74,
    "start_time": "2022-02-25T11:48:31.939Z"
   },
   {
    "duration": 57,
    "start_time": "2022-02-25T11:48:48.682Z"
   },
   {
    "duration": 60,
    "start_time": "2022-02-25T11:49:55.283Z"
   },
   {
    "duration": 8,
    "start_time": "2022-02-25T11:50:03.689Z"
   },
   {
    "duration": 220,
    "start_time": "2022-02-25T12:03:20.052Z"
   },
   {
    "duration": 193,
    "start_time": "2022-02-25T12:03:42.844Z"
   },
   {
    "duration": 266,
    "start_time": "2022-02-25T12:05:04.076Z"
   },
   {
    "duration": 3,
    "start_time": "2022-02-25T12:05:21.638Z"
   },
   {
    "duration": 3,
    "start_time": "2022-02-25T12:05:28.609Z"
   },
   {
    "duration": 11,
    "start_time": "2022-02-25T12:08:26.708Z"
   },
   {
    "duration": 11,
    "start_time": "2022-02-25T12:08:34.218Z"
   },
   {
    "duration": 11,
    "start_time": "2022-02-25T12:08:44.007Z"
   },
   {
    "duration": 8,
    "start_time": "2022-02-25T12:09:34.403Z"
   },
   {
    "duration": 18,
    "start_time": "2022-02-25T12:15:16.630Z"
   },
   {
    "duration": 7,
    "start_time": "2022-02-25T12:15:22.713Z"
   },
   {
    "duration": 8,
    "start_time": "2022-02-25T12:19:49.952Z"
   },
   {
    "duration": 12,
    "start_time": "2022-02-25T12:20:50.645Z"
   },
   {
    "duration": 9,
    "start_time": "2022-02-25T12:21:36.794Z"
   },
   {
    "duration": 256,
    "start_time": "2022-02-25T12:22:52.514Z"
   },
   {
    "duration": 203,
    "start_time": "2022-02-25T12:23:13.452Z"
   },
   {
    "duration": 193,
    "start_time": "2022-02-25T12:23:51.586Z"
   },
   {
    "duration": 12,
    "start_time": "2022-02-25T12:41:45.426Z"
   },
   {
    "duration": 24,
    "start_time": "2022-02-25T12:42:06.751Z"
   },
   {
    "duration": 35,
    "start_time": "2022-02-25T12:42:58.910Z"
   },
   {
    "duration": 25,
    "start_time": "2022-02-25T13:47:19.738Z"
   },
   {
    "duration": 222,
    "start_time": "2022-02-25T13:48:21.597Z"
   },
   {
    "duration": 26,
    "start_time": "2022-02-25T13:50:59.067Z"
   },
   {
    "duration": 28,
    "start_time": "2022-02-25T13:51:06.582Z"
   },
   {
    "duration": 30,
    "start_time": "2022-02-25T13:51:49.104Z"
   },
   {
    "duration": 4,
    "start_time": "2022-02-26T06:08:38.170Z"
   },
   {
    "duration": 4,
    "start_time": "2022-02-26T06:08:44.420Z"
   },
   {
    "duration": 697,
    "start_time": "2022-02-26T06:09:42.298Z"
   },
   {
    "duration": 561,
    "start_time": "2022-02-26T06:09:53.667Z"
   },
   {
    "duration": 125,
    "start_time": "2022-02-26T06:09:55.811Z"
   },
   {
    "duration": 16,
    "start_time": "2022-02-26T06:09:57.972Z"
   },
   {
    "duration": 23,
    "start_time": "2022-02-26T06:10:06.990Z"
   },
   {
    "duration": 3,
    "start_time": "2022-02-26T06:10:11.541Z"
   },
   {
    "duration": 21,
    "start_time": "2022-02-26T06:10:14.557Z"
   },
   {
    "duration": 4,
    "start_time": "2022-02-26T06:10:17.230Z"
   },
   {
    "duration": 21,
    "start_time": "2022-02-26T06:10:21.600Z"
   },
   {
    "duration": 17,
    "start_time": "2022-02-26T06:10:34.502Z"
   },
   {
    "duration": 21,
    "start_time": "2022-02-26T06:10:36.097Z"
   },
   {
    "duration": 52,
    "start_time": "2022-02-26T06:10:39.906Z"
   },
   {
    "duration": 65,
    "start_time": "2022-02-26T06:10:41.804Z"
   },
   {
    "duration": 48,
    "start_time": "2022-02-26T06:10:43.235Z"
   },
   {
    "duration": 6,
    "start_time": "2022-02-26T06:10:47.539Z"
   },
   {
    "duration": 2,
    "start_time": "2022-02-26T06:10:49.650Z"
   },
   {
    "duration": 16,
    "start_time": "2022-02-26T06:10:50.860Z"
   },
   {
    "duration": 8,
    "start_time": "2022-02-26T06:10:52.659Z"
   },
   {
    "duration": 21,
    "start_time": "2022-02-26T06:10:56.919Z"
   },
   {
    "duration": 27,
    "start_time": "2022-02-26T06:10:59.204Z"
   },
   {
    "duration": 3,
    "start_time": "2022-02-26T06:11:04.960Z"
   },
   {
    "duration": 706,
    "start_time": "2022-02-26T06:11:07.019Z"
   },
   {
    "duration": 3,
    "start_time": "2022-02-26T06:14:18.579Z"
   },
   {
    "duration": 628,
    "start_time": "2022-02-26T06:14:21.635Z"
   },
   {
    "duration": 3,
    "start_time": "2022-02-26T06:24:47.363Z"
   },
   {
    "duration": 645,
    "start_time": "2022-02-26T06:24:54.092Z"
   },
   {
    "duration": 3,
    "start_time": "2022-02-26T06:25:51.505Z"
   },
   {
    "duration": 897,
    "start_time": "2022-02-26T06:25:53.540Z"
   },
   {
    "duration": 595,
    "start_time": "2022-02-26T06:56:53.578Z"
   },
   {
    "duration": 3,
    "start_time": "2022-02-26T06:57:03.039Z"
   },
   {
    "duration": 697,
    "start_time": "2022-02-26T06:57:17.600Z"
   },
   {
    "duration": 736,
    "start_time": "2022-02-26T06:57:38.142Z"
   },
   {
    "duration": 3,
    "start_time": "2022-02-26T06:59:48.716Z"
   },
   {
    "duration": 810,
    "start_time": "2022-02-26T06:59:51.077Z"
   },
   {
    "duration": 3,
    "start_time": "2022-02-26T07:03:45.988Z"
   },
   {
    "duration": 660,
    "start_time": "2022-02-26T07:03:50.262Z"
   },
   {
    "duration": 365,
    "start_time": "2022-02-26T07:07:54.667Z"
   },
   {
    "duration": 3,
    "start_time": "2022-02-26T07:08:33.437Z"
   },
   {
    "duration": 4,
    "start_time": "2022-02-26T07:08:39.215Z"
   },
   {
    "duration": 3,
    "start_time": "2022-02-26T07:08:50.904Z"
   },
   {
    "duration": 4,
    "start_time": "2022-02-26T07:08:54.395Z"
   },
   {
    "duration": 694,
    "start_time": "2022-02-26T07:08:57.325Z"
   },
   {
    "duration": 578,
    "start_time": "2022-02-26T07:11:33.602Z"
   },
   {
    "duration": 3,
    "start_time": "2022-02-26T07:13:08.266Z"
   },
   {
    "duration": 660,
    "start_time": "2022-02-26T07:13:10.923Z"
   },
   {
    "duration": 3,
    "start_time": "2022-02-26T07:13:30.466Z"
   },
   {
    "duration": 682,
    "start_time": "2022-02-26T07:13:33.405Z"
   },
   {
    "duration": 3,
    "start_time": "2022-02-26T07:15:46.004Z"
   },
   {
    "duration": 20,
    "start_time": "2022-02-26T07:15:48.296Z"
   },
   {
    "duration": 15,
    "start_time": "2022-02-26T07:16:47.692Z"
   },
   {
    "duration": 19,
    "start_time": "2022-02-26T07:17:42.388Z"
   },
   {
    "duration": 17,
    "start_time": "2022-02-26T07:17:44.225Z"
   },
   {
    "duration": 21,
    "start_time": "2022-02-26T07:17:45.615Z"
   },
   {
    "duration": 16,
    "start_time": "2022-02-26T07:17:46.858Z"
   },
   {
    "duration": 305,
    "start_time": "2022-02-26T07:26:16.487Z"
   },
   {
    "duration": 347,
    "start_time": "2022-02-26T07:26:52.148Z"
   },
   {
    "duration": 371,
    "start_time": "2022-02-26T07:27:40.366Z"
   },
   {
    "duration": 327,
    "start_time": "2022-02-26T07:29:58.437Z"
   },
   {
    "duration": 381,
    "start_time": "2022-02-26T07:31:20.585Z"
   },
   {
    "duration": 1320,
    "start_time": "2022-02-26T07:35:50.127Z"
   },
   {
    "duration": 375,
    "start_time": "2022-02-26T07:36:10.635Z"
   },
   {
    "duration": 116,
    "start_time": "2022-02-26T07:36:39.284Z"
   },
   {
    "duration": 112,
    "start_time": "2022-02-26T07:36:54.195Z"
   },
   {
    "duration": 326,
    "start_time": "2022-02-26T07:37:05.049Z"
   },
   {
    "duration": 319,
    "start_time": "2022-02-26T07:37:22.239Z"
   },
   {
    "duration": 351,
    "start_time": "2022-02-26T07:37:44.107Z"
   },
   {
    "duration": 349,
    "start_time": "2022-02-26T07:37:53.062Z"
   },
   {
    "duration": 2,
    "start_time": "2022-02-26T07:38:16.900Z"
   },
   {
    "duration": 128,
    "start_time": "2022-02-26T07:38:19.285Z"
   },
   {
    "duration": 9,
    "start_time": "2022-02-26T07:38:20.570Z"
   },
   {
    "duration": 23,
    "start_time": "2022-02-26T07:38:22.790Z"
   },
   {
    "duration": 3,
    "start_time": "2022-02-26T07:38:26.373Z"
   },
   {
    "duration": 16,
    "start_time": "2022-02-26T07:38:28.117Z"
   },
   {
    "duration": 4,
    "start_time": "2022-02-26T07:38:30.089Z"
   },
   {
    "duration": 21,
    "start_time": "2022-02-26T07:38:32.372Z"
   },
   {
    "duration": 15,
    "start_time": "2022-02-26T07:38:35.126Z"
   },
   {
    "duration": 20,
    "start_time": "2022-02-26T07:38:36.529Z"
   },
   {
    "duration": 52,
    "start_time": "2022-02-26T07:38:38.421Z"
   },
   {
    "duration": 54,
    "start_time": "2022-02-26T07:38:41.112Z"
   },
   {
    "duration": 46,
    "start_time": "2022-02-26T07:38:42.486Z"
   },
   {
    "duration": 7,
    "start_time": "2022-02-26T07:38:45.839Z"
   },
   {
    "duration": 3,
    "start_time": "2022-02-26T07:38:48.825Z"
   },
   {
    "duration": 16,
    "start_time": "2022-02-26T07:38:50.152Z"
   },
   {
    "duration": 6,
    "start_time": "2022-02-26T07:38:52.206Z"
   },
   {
    "duration": 20,
    "start_time": "2022-02-26T07:38:56.372Z"
   },
   {
    "duration": 25,
    "start_time": "2022-02-26T07:38:57.643Z"
   },
   {
    "duration": 3,
    "start_time": "2022-02-26T07:38:59.404Z"
   },
   {
    "duration": 20,
    "start_time": "2022-02-26T07:39:01.968Z"
   },
   {
    "duration": 15,
    "start_time": "2022-02-26T07:39:03.579Z"
   },
   {
    "duration": 19,
    "start_time": "2022-02-26T07:39:04.746Z"
   },
   {
    "duration": 17,
    "start_time": "2022-02-26T07:39:05.809Z"
   },
   {
    "duration": 21,
    "start_time": "2022-02-26T07:39:07.079Z"
   },
   {
    "duration": 19,
    "start_time": "2022-02-26T07:39:08.262Z"
   },
   {
    "duration": 321,
    "start_time": "2022-02-26T07:39:10.032Z"
   },
   {
    "duration": 398,
    "start_time": "2022-02-26T07:52:10.779Z"
   },
   {
    "duration": 334,
    "start_time": "2022-02-26T07:55:53.628Z"
   },
   {
    "duration": 382,
    "start_time": "2022-02-26T07:56:19.456Z"
   },
   {
    "duration": 423,
    "start_time": "2022-02-26T07:58:30.924Z"
   },
   {
    "duration": 412,
    "start_time": "2022-02-26T07:58:51.235Z"
   },
   {
    "duration": 373,
    "start_time": "2022-02-26T08:09:41.931Z"
   },
   {
    "duration": 343,
    "start_time": "2022-02-26T08:10:38.753Z"
   },
   {
    "duration": 340,
    "start_time": "2022-02-26T08:10:48.077Z"
   },
   {
    "duration": 6,
    "start_time": "2022-02-26T08:12:12.131Z"
   },
   {
    "duration": 112,
    "start_time": "2022-02-26T08:12:56.468Z"
   },
   {
    "duration": 412,
    "start_time": "2022-02-26T08:13:15.574Z"
   },
   {
    "duration": 386,
    "start_time": "2022-02-26T08:13:28.902Z"
   },
   {
    "duration": 7,
    "start_time": "2022-02-26T08:14:02.894Z"
   },
   {
    "duration": 7,
    "start_time": "2022-02-26T08:14:24.572Z"
   },
   {
    "duration": 7,
    "start_time": "2022-02-26T08:14:53.637Z"
   },
   {
    "duration": 6,
    "start_time": "2022-02-26T08:15:06.742Z"
   },
   {
    "duration": 373,
    "start_time": "2022-02-26T08:15:59.642Z"
   },
   {
    "duration": 339,
    "start_time": "2022-02-26T08:16:21.718Z"
   },
   {
    "duration": 7,
    "start_time": "2022-02-26T08:16:36.334Z"
   },
   {
    "duration": 5,
    "start_time": "2022-02-26T08:16:55.598Z"
   },
   {
    "duration": 325,
    "start_time": "2022-02-26T08:17:12.833Z"
   },
   {
    "duration": 362,
    "start_time": "2022-02-26T08:18:44.985Z"
   },
   {
    "duration": 326,
    "start_time": "2022-02-26T08:19:36.310Z"
   },
   {
    "duration": 5,
    "start_time": "2022-02-26T08:19:43.640Z"
   },
   {
    "duration": 338,
    "start_time": "2022-02-26T08:26:21.142Z"
   },
   {
    "duration": 6,
    "start_time": "2022-02-26T08:28:02.670Z"
   },
   {
    "duration": 8988,
    "start_time": "2022-02-26T09:01:07.709Z"
   },
   {
    "duration": 11,
    "start_time": "2022-02-26T09:25:25.720Z"
   },
   {
    "duration": 8,
    "start_time": "2022-02-26T09:25:32.912Z"
   },
   {
    "duration": 694,
    "start_time": "2022-02-26T09:38:31.693Z"
   },
   {
    "duration": 695,
    "start_time": "2022-02-26T09:41:41.919Z"
   },
   {
    "duration": 673,
    "start_time": "2022-02-26T09:42:09.615Z"
   },
   {
    "duration": 4,
    "start_time": "2022-02-26T09:43:40.663Z"
   },
   {
    "duration": 3,
    "start_time": "2022-02-26T09:43:45.638Z"
   },
   {
    "duration": 4,
    "start_time": "2022-02-26T09:44:06.551Z"
   },
   {
    "duration": 3,
    "start_time": "2022-02-26T09:44:16.177Z"
   },
   {
    "duration": 3,
    "start_time": "2022-02-26T09:48:41.463Z"
   },
   {
    "duration": 4,
    "start_time": "2022-02-26T09:48:43.756Z"
   },
   {
    "duration": 4,
    "start_time": "2022-02-26T09:59:03.578Z"
   },
   {
    "duration": 4,
    "start_time": "2022-02-26T10:00:32.017Z"
   },
   {
    "duration": 1850,
    "start_time": "2022-02-26T10:02:33.199Z"
   },
   {
    "duration": 1819,
    "start_time": "2022-02-26T10:03:28.028Z"
   },
   {
    "duration": 3,
    "start_time": "2022-02-26T10:04:11.898Z"
   },
   {
    "duration": 30,
    "start_time": "2022-02-26T10:04:15.616Z"
   },
   {
    "duration": 55,
    "start_time": "2022-02-26T10:05:20.319Z"
   },
   {
    "duration": 58,
    "start_time": "2022-02-26T10:05:58.750Z"
   },
   {
    "duration": 54,
    "start_time": "2022-02-26T10:07:24.998Z"
   },
   {
    "duration": 3,
    "start_time": "2022-02-26T10:09:27.658Z"
   },
   {
    "duration": 33,
    "start_time": "2022-02-26T10:09:29.859Z"
   },
   {
    "duration": 3,
    "start_time": "2022-02-26T10:10:51.973Z"
   },
   {
    "duration": 3,
    "start_time": "2022-02-26T10:10:54.630Z"
   },
   {
    "duration": 3,
    "start_time": "2022-02-26T10:11:11.923Z"
   },
   {
    "duration": 4,
    "start_time": "2022-02-26T10:11:15.323Z"
   },
   {
    "duration": 3,
    "start_time": "2022-02-26T10:12:47.419Z"
   },
   {
    "duration": 102,
    "start_time": "2022-02-26T10:13:27.783Z"
   },
   {
    "duration": 3,
    "start_time": "2022-02-26T10:16:44.526Z"
   },
   {
    "duration": 3,
    "start_time": "2022-02-26T10:16:46.071Z"
   },
   {
    "duration": 3,
    "start_time": "2022-02-26T10:26:28.292Z"
   },
   {
    "duration": 3,
    "start_time": "2022-02-26T10:27:37.395Z"
   },
   {
    "duration": 3,
    "start_time": "2022-02-26T10:28:44.480Z"
   },
   {
    "duration": 3,
    "start_time": "2022-02-26T10:29:37.434Z"
   },
   {
    "duration": 6,
    "start_time": "2022-02-26T10:34:03.701Z"
   },
   {
    "duration": 3,
    "start_time": "2022-02-26T10:36:43.392Z"
   },
   {
    "duration": 3,
    "start_time": "2022-02-26T10:37:28.265Z"
   },
   {
    "duration": 3,
    "start_time": "2022-02-26T10:37:38.762Z"
   },
   {
    "duration": 3,
    "start_time": "2022-02-26T10:37:46.078Z"
   },
   {
    "duration": 6,
    "start_time": "2022-02-26T10:39:17.553Z"
   },
   {
    "duration": 4,
    "start_time": "2022-02-26T10:40:02.688Z"
   },
   {
    "duration": 3,
    "start_time": "2022-02-26T10:40:14.188Z"
   },
   {
    "duration": 3,
    "start_time": "2022-02-26T10:44:56.706Z"
   },
   {
    "duration": 2,
    "start_time": "2022-02-26T10:46:07.507Z"
   },
   {
    "duration": 245,
    "start_time": "2022-02-26T14:02:42.470Z"
   },
   {
    "duration": 597,
    "start_time": "2022-02-26T14:02:48.859Z"
   },
   {
    "duration": 132,
    "start_time": "2022-02-26T14:02:57.028Z"
   },
   {
    "duration": 17,
    "start_time": "2022-02-26T14:03:16.049Z"
   },
   {
    "duration": 25,
    "start_time": "2022-02-26T14:03:20.753Z"
   },
   {
    "duration": 3,
    "start_time": "2022-02-26T14:03:37.873Z"
   },
   {
    "duration": 21,
    "start_time": "2022-02-26T14:03:53.560Z"
   },
   {
    "duration": 4,
    "start_time": "2022-02-26T14:03:59.738Z"
   },
   {
    "duration": 23,
    "start_time": "2022-02-26T14:04:09.393Z"
   },
   {
    "duration": 18,
    "start_time": "2022-02-26T14:05:11.201Z"
   },
   {
    "duration": 23,
    "start_time": "2022-02-26T14:10:12.426Z"
   },
   {
    "duration": 56,
    "start_time": "2022-02-26T14:10:42.783Z"
   },
   {
    "duration": 65,
    "start_time": "2022-02-26T14:11:23.197Z"
   },
   {
    "duration": 52,
    "start_time": "2022-02-26T14:11:40.473Z"
   },
   {
    "duration": 7,
    "start_time": "2022-02-26T14:11:48.284Z"
   },
   {
    "duration": 2,
    "start_time": "2022-02-26T14:14:09.626Z"
   },
   {
    "duration": 17,
    "start_time": "2022-02-26T14:14:16.610Z"
   },
   {
    "duration": 6,
    "start_time": "2022-02-26T14:14:22.330Z"
   },
   {
    "duration": 7,
    "start_time": "2022-02-26T14:15:26.137Z"
   },
   {
    "duration": 20,
    "start_time": "2022-02-26T14:27:51.175Z"
   },
   {
    "duration": 28,
    "start_time": "2022-02-26T14:28:09.038Z"
   },
   {
    "duration": 204,
    "start_time": "2022-02-26T14:30:38.592Z"
   },
   {
    "duration": 197,
    "start_time": "2022-02-26T14:31:18.928Z"
   },
   {
    "duration": 178,
    "start_time": "2022-02-26T14:31:51.711Z"
   },
   {
    "duration": 3,
    "start_time": "2022-02-26T14:32:34.210Z"
   },
   {
    "duration": 3,
    "start_time": "2022-02-26T14:33:19.095Z"
   },
   {
    "duration": 231,
    "start_time": "2022-02-26T14:33:34.044Z"
   },
   {
    "duration": 4,
    "start_time": "2022-02-26T14:33:56.872Z"
   },
   {
    "duration": 16,
    "start_time": "2022-02-26T14:33:59.883Z"
   },
   {
    "duration": 4,
    "start_time": "2022-02-26T14:34:21.980Z"
   },
   {
    "duration": 21,
    "start_time": "2022-02-26T14:34:24.640Z"
   },
   {
    "duration": 18,
    "start_time": "2022-02-26T14:34:29.762Z"
   },
   {
    "duration": 19,
    "start_time": "2022-02-26T14:34:31.715Z"
   },
   {
    "duration": 19,
    "start_time": "2022-02-26T14:34:33.457Z"
   },
   {
    "duration": 20,
    "start_time": "2022-02-26T14:34:35.296Z"
   },
   {
    "duration": 18,
    "start_time": "2022-02-26T14:34:36.790Z"
   },
   {
    "duration": 7,
    "start_time": "2022-02-26T14:34:40.844Z"
   },
   {
    "duration": 3,
    "start_time": "2022-02-26T14:35:50.571Z"
   },
   {
    "duration": 8,
    "start_time": "2022-02-26T14:36:08.436Z"
   },
   {
    "duration": 4,
    "start_time": "2022-02-26T14:36:35.724Z"
   },
   {
    "duration": 4,
    "start_time": "2022-02-26T14:37:07.923Z"
   },
   {
    "duration": 3,
    "start_time": "2022-02-26T14:37:10.086Z"
   },
   {
    "duration": 3,
    "start_time": "2022-02-26T14:37:29.568Z"
   },
   {
    "duration": 4,
    "start_time": "2022-02-26T14:37:54.964Z"
   },
   {
    "duration": 3,
    "start_time": "2022-02-26T14:38:23.899Z"
   },
   {
    "duration": 3,
    "start_time": "2022-02-26T14:38:27.627Z"
   },
   {
    "duration": 4,
    "start_time": "2022-02-26T14:40:45.640Z"
   },
   {
    "duration": 432,
    "start_time": "2022-02-28T06:49:27.952Z"
   },
   {
    "duration": 681,
    "start_time": "2022-02-28T06:49:37.932Z"
   },
   {
    "duration": 161,
    "start_time": "2022-02-28T06:49:40.480Z"
   },
   {
    "duration": 26,
    "start_time": "2022-02-28T06:49:42.175Z"
   },
   {
    "duration": 33,
    "start_time": "2022-02-28T06:49:44.012Z"
   },
   {
    "duration": 6,
    "start_time": "2022-02-28T06:49:47.454Z"
   },
   {
    "duration": 26,
    "start_time": "2022-02-28T06:49:49.949Z"
   },
   {
    "duration": 5,
    "start_time": "2022-02-28T06:49:51.531Z"
   },
   {
    "duration": 30,
    "start_time": "2022-02-28T06:49:53.037Z"
   },
   {
    "duration": 24,
    "start_time": "2022-02-28T06:49:56.932Z"
   },
   {
    "duration": 28,
    "start_time": "2022-02-28T06:49:58.385Z"
   },
   {
    "duration": 82,
    "start_time": "2022-02-28T06:50:01.023Z"
   },
   {
    "duration": 102,
    "start_time": "2022-02-28T06:50:03.662Z"
   },
   {
    "duration": 76,
    "start_time": "2022-02-28T06:50:04.895Z"
   },
   {
    "duration": 14,
    "start_time": "2022-02-28T06:50:07.682Z"
   },
   {
    "duration": 4,
    "start_time": "2022-02-28T06:50:16.155Z"
   },
   {
    "duration": 29,
    "start_time": "2022-02-28T06:50:17.824Z"
   },
   {
    "duration": 10,
    "start_time": "2022-02-28T06:50:20.180Z"
   },
   {
    "duration": 27,
    "start_time": "2022-02-28T06:50:25.496Z"
   },
   {
    "duration": 37,
    "start_time": "2022-02-28T06:50:27.754Z"
   },
   {
    "duration": 5,
    "start_time": "2022-02-28T06:50:29.677Z"
   },
   {
    "duration": 28,
    "start_time": "2022-02-28T06:50:33.632Z"
   },
   {
    "duration": 23,
    "start_time": "2022-02-28T06:50:35.078Z"
   },
   {
    "duration": 23,
    "start_time": "2022-02-28T06:50:36.492Z"
   },
   {
    "duration": 22,
    "start_time": "2022-02-28T06:50:37.642Z"
   },
   {
    "duration": 24,
    "start_time": "2022-02-28T06:50:39.426Z"
   },
   {
    "duration": 20,
    "start_time": "2022-02-28T06:50:41.176Z"
   },
   {
    "duration": 10,
    "start_time": "2022-02-28T06:50:42.718Z"
   },
   {
    "duration": 5,
    "start_time": "2022-02-28T06:50:44.529Z"
   },
   {
    "duration": 5,
    "start_time": "2022-02-28T06:50:45.887Z"
   },
   {
    "duration": 5,
    "start_time": "2022-02-28T06:50:47.568Z"
   },
   {
    "duration": 6049,
    "start_time": "2022-02-28T06:50:51.028Z"
   },
   {
    "duration": 5,
    "start_time": "2022-02-28T06:51:49.261Z"
   },
   {
    "duration": 5,
    "start_time": "2022-02-28T06:52:03.183Z"
   },
   {
    "duration": 5834,
    "start_time": "2022-02-28T06:52:20.853Z"
   },
   {
    "duration": 4,
    "start_time": "2022-02-28T06:53:27.065Z"
   },
   {
    "duration": 424,
    "start_time": "2022-02-28T06:53:32.350Z"
   },
   {
    "duration": 5,
    "start_time": "2022-02-28T06:53:43.821Z"
   },
   {
    "duration": 4,
    "start_time": "2022-02-28T06:55:43.713Z"
   },
   {
    "duration": 4,
    "start_time": "2022-02-28T06:55:48.157Z"
   },
   {
    "duration": 5,
    "start_time": "2022-02-28T06:57:52.045Z"
   },
   {
    "duration": 5,
    "start_time": "2022-02-28T06:57:57.213Z"
   },
   {
    "duration": 96,
    "start_time": "2022-02-28T06:58:00.802Z"
   },
   {
    "duration": 5,
    "start_time": "2022-02-28T06:58:45.354Z"
   },
   {
    "duration": 92,
    "start_time": "2022-02-28T06:58:49.026Z"
   },
   {
    "duration": 31,
    "start_time": "2022-02-28T07:00:42.819Z"
   },
   {
    "duration": 92,
    "start_time": "2022-02-28T07:00:55.575Z"
   },
   {
    "duration": 107,
    "start_time": "2022-02-28T07:01:52.024Z"
   },
   {
    "duration": 107,
    "start_time": "2022-02-28T07:05:13.622Z"
   },
   {
    "duration": 5,
    "start_time": "2022-02-28T07:07:00.398Z"
   },
   {
    "duration": 5829,
    "start_time": "2022-02-28T07:07:02.501Z"
   },
   {
    "duration": 5,
    "start_time": "2022-02-28T07:07:19.903Z"
   },
   {
    "duration": 6053,
    "start_time": "2022-02-28T07:07:21.536Z"
   },
   {
    "duration": 5,
    "start_time": "2022-02-28T07:07:52.426Z"
   },
   {
    "duration": 5916,
    "start_time": "2022-02-28T07:07:53.928Z"
   },
   {
    "duration": 5516,
    "start_time": "2022-02-28T07:09:38.545Z"
   },
   {
    "duration": 4,
    "start_time": "2022-02-28T07:09:53.497Z"
   },
   {
    "duration": 100,
    "start_time": "2022-02-28T07:09:54.804Z"
   },
   {
    "duration": 5,
    "start_time": "2022-02-28T07:12:13.122Z"
   },
   {
    "duration": 6128,
    "start_time": "2022-02-28T07:12:14.781Z"
   },
   {
    "duration": 5,
    "start_time": "2022-02-28T07:15:05.256Z"
   },
   {
    "duration": 5637,
    "start_time": "2022-02-28T07:15:07.805Z"
   },
   {
    "duration": 6,
    "start_time": "2022-02-28T07:15:37.034Z"
   },
   {
    "duration": 6177,
    "start_time": "2022-02-28T07:15:38.475Z"
   },
   {
    "duration": 5,
    "start_time": "2022-02-28T07:17:10.547Z"
   },
   {
    "duration": 5792,
    "start_time": "2022-02-28T07:17:12.695Z"
   },
   {
    "duration": 5,
    "start_time": "2022-02-28T07:18:46.317Z"
   },
   {
    "duration": 531,
    "start_time": "2022-02-28T07:18:47.680Z"
   },
   {
    "duration": 465,
    "start_time": "2022-02-28T07:18:49.944Z"
   },
   {
    "duration": 4,
    "start_time": "2022-02-28T07:18:56.493Z"
   },
   {
    "duration": 8110,
    "start_time": "2022-02-28T07:18:58.386Z"
   },
   {
    "duration": 4,
    "start_time": "2022-02-28T07:21:05.695Z"
   },
   {
    "duration": 7295,
    "start_time": "2022-02-28T07:21:07.057Z"
   },
   {
    "duration": 6145,
    "start_time": "2022-02-28T07:27:42.940Z"
   },
   {
    "duration": 5930,
    "start_time": "2022-02-28T07:28:19.330Z"
   },
   {
    "duration": 5737,
    "start_time": "2022-02-28T07:28:38.460Z"
   },
   {
    "duration": 6730,
    "start_time": "2022-02-28T07:28:57.387Z"
   },
   {
    "duration": 223,
    "start_time": "2022-02-28T07:32:18.845Z"
   },
   {
    "duration": 213,
    "start_time": "2022-02-28T07:32:55.351Z"
   },
   {
    "duration": 220,
    "start_time": "2022-02-28T07:34:13.403Z"
   },
   {
    "duration": 215,
    "start_time": "2022-02-28T07:34:42.880Z"
   },
   {
    "duration": 4,
    "start_time": "2022-02-28T07:35:56.171Z"
   },
   {
    "duration": 170,
    "start_time": "2022-02-28T07:35:57.799Z"
   },
   {
    "duration": 17,
    "start_time": "2022-02-28T07:35:59.036Z"
   },
   {
    "duration": 31,
    "start_time": "2022-02-28T07:36:01.298Z"
   },
   {
    "duration": 5,
    "start_time": "2022-02-28T07:36:04.137Z"
   },
   {
    "duration": 17,
    "start_time": "2022-02-28T07:36:05.687Z"
   },
   {
    "duration": 5,
    "start_time": "2022-02-28T07:36:06.828Z"
   },
   {
    "duration": 33,
    "start_time": "2022-02-28T07:36:08.864Z"
   },
   {
    "duration": 23,
    "start_time": "2022-02-28T07:36:11.072Z"
   },
   {
    "duration": 30,
    "start_time": "2022-02-28T07:36:12.238Z"
   },
   {
    "duration": 82,
    "start_time": "2022-02-28T07:36:14.102Z"
   },
   {
    "duration": 91,
    "start_time": "2022-02-28T07:36:15.913Z"
   },
   {
    "duration": 73,
    "start_time": "2022-02-28T07:36:16.895Z"
   },
   {
    "duration": 11,
    "start_time": "2022-02-28T07:36:18.737Z"
   },
   {
    "duration": 5,
    "start_time": "2022-02-28T07:36:22.008Z"
   },
   {
    "duration": 24,
    "start_time": "2022-02-28T07:36:23.603Z"
   },
   {
    "duration": 9,
    "start_time": "2022-02-28T07:36:25.463Z"
   },
   {
    "duration": 29,
    "start_time": "2022-02-28T07:36:28.476Z"
   },
   {
    "duration": 38,
    "start_time": "2022-02-28T07:36:30.557Z"
   },
   {
    "duration": 4,
    "start_time": "2022-02-28T07:36:32.834Z"
   },
   {
    "duration": 27,
    "start_time": "2022-02-28T07:36:36.953Z"
   },
   {
    "duration": 22,
    "start_time": "2022-02-28T07:36:39.371Z"
   },
   {
    "duration": 22,
    "start_time": "2022-02-28T07:36:40.861Z"
   },
   {
    "duration": 21,
    "start_time": "2022-02-28T07:36:41.978Z"
   },
   {
    "duration": 24,
    "start_time": "2022-02-28T07:36:43.095Z"
   },
   {
    "duration": 22,
    "start_time": "2022-02-28T07:36:45.059Z"
   },
   {
    "duration": 9,
    "start_time": "2022-02-28T07:36:49.658Z"
   },
   {
    "duration": 5,
    "start_time": "2022-02-28T07:37:06.400Z"
   },
   {
    "duration": 17,
    "start_time": "2022-02-28T07:37:26.740Z"
   },
   {
    "duration": 5,
    "start_time": "2022-02-28T07:37:47.952Z"
   },
   {
    "duration": 5,
    "start_time": "2022-02-28T07:37:51.391Z"
   },
   {
    "duration": 6192,
    "start_time": "2022-02-28T07:38:01.038Z"
   },
   {
    "duration": 36,
    "start_time": "2022-02-28T07:38:29.379Z"
   },
   {
    "duration": 14,
    "start_time": "2022-02-28T07:40:15.428Z"
   },
   {
    "duration": 11,
    "start_time": "2022-02-28T07:40:22.658Z"
   },
   {
    "duration": 5,
    "start_time": "2022-02-28T07:40:24.908Z"
   },
   {
    "duration": 36,
    "start_time": "2022-02-28T07:40:42.516Z"
   },
   {
    "duration": 25,
    "start_time": "2022-02-28T07:40:52.324Z"
   },
   {
    "duration": 35,
    "start_time": "2022-02-28T07:40:58.275Z"
   },
   {
    "duration": 26,
    "start_time": "2022-02-28T07:41:05.281Z"
   },
   {
    "duration": 237,
    "start_time": "2022-02-28T07:41:41.500Z"
   },
   {
    "duration": 27,
    "start_time": "2022-02-28T07:46:47.954Z"
   },
   {
    "duration": 19,
    "start_time": "2022-02-28T07:46:58.407Z"
   },
   {
    "duration": 18,
    "start_time": "2022-02-28T07:47:31.553Z"
   },
   {
    "duration": 7,
    "start_time": "2022-02-28T07:47:53.278Z"
   },
   {
    "duration": 6,
    "start_time": "2022-02-28T07:48:01.172Z"
   },
   {
    "duration": 12,
    "start_time": "2022-02-28T07:48:16.123Z"
   },
   {
    "duration": 12,
    "start_time": "2022-02-28T07:48:33.188Z"
   },
   {
    "duration": 5,
    "start_time": "2022-02-28T07:48:36.274Z"
   },
   {
    "duration": 32,
    "start_time": "2022-02-28T07:48:38.253Z"
   },
   {
    "duration": 25,
    "start_time": "2022-02-28T07:48:40.626Z"
   },
   {
    "duration": 34,
    "start_time": "2022-02-28T07:48:42.751Z"
   },
   {
    "duration": 26,
    "start_time": "2022-02-28T07:48:44.592Z"
   },
   {
    "duration": 29,
    "start_time": "2022-02-28T07:48:47.642Z"
   },
   {
    "duration": 14,
    "start_time": "2022-02-28T07:48:49.583Z"
   },
   {
    "duration": 17,
    "start_time": "2022-02-28T07:48:51.968Z"
   },
   {
    "duration": 15,
    "start_time": "2022-02-28T07:48:53.240Z"
   },
   {
    "duration": 798,
    "start_time": "2022-03-07T12:22:09.649Z"
   },
   {
    "duration": 207,
    "start_time": "2022-03-07T12:22:10.451Z"
   },
   {
    "duration": 30,
    "start_time": "2022-03-07T12:22:10.661Z"
   },
   {
    "duration": 33,
    "start_time": "2022-03-07T12:22:10.694Z"
   },
   {
    "duration": 5,
    "start_time": "2022-03-07T12:22:10.730Z"
   },
   {
    "duration": 59,
    "start_time": "2022-03-07T12:22:10.737Z"
   },
   {
    "duration": 9,
    "start_time": "2022-03-07T12:22:10.799Z"
   },
   {
    "duration": 63,
    "start_time": "2022-03-07T12:22:10.814Z"
   },
   {
    "duration": 24,
    "start_time": "2022-03-07T12:22:10.880Z"
   },
   {
    "duration": 31,
    "start_time": "2022-03-07T12:22:10.907Z"
   },
   {
    "duration": 133,
    "start_time": "2022-03-07T12:22:10.941Z"
   },
   {
    "duration": 113,
    "start_time": "2022-03-07T12:22:11.077Z"
   },
   {
    "duration": 94,
    "start_time": "2022-03-07T12:22:11.192Z"
   },
   {
    "duration": 11,
    "start_time": "2022-03-07T12:22:11.288Z"
   },
   {
    "duration": 23,
    "start_time": "2022-03-07T12:22:11.301Z"
   },
   {
    "duration": 48,
    "start_time": "2022-03-07T12:22:11.327Z"
   },
   {
    "duration": 10,
    "start_time": "2022-03-07T12:22:11.378Z"
   },
   {
    "duration": 35,
    "start_time": "2022-03-07T12:22:11.390Z"
   },
   {
    "duration": 86,
    "start_time": "2022-03-07T12:22:11.427Z"
   },
   {
    "duration": 6,
    "start_time": "2022-03-07T12:22:11.516Z"
   },
   {
    "duration": 61,
    "start_time": "2022-03-07T12:22:11.525Z"
   },
   {
    "duration": 22,
    "start_time": "2022-03-07T12:22:11.588Z"
   },
   {
    "duration": 26,
    "start_time": "2022-03-07T12:22:11.614Z"
   },
   {
    "duration": 47,
    "start_time": "2022-03-07T12:22:11.643Z"
   },
   {
    "duration": 29,
    "start_time": "2022-03-07T12:22:11.693Z"
   },
   {
    "duration": 55,
    "start_time": "2022-03-07T12:22:11.725Z"
   },
   {
    "duration": 10,
    "start_time": "2022-03-07T12:22:11.782Z"
   },
   {
    "duration": 22,
    "start_time": "2022-03-07T12:22:11.794Z"
   },
   {
    "duration": 12,
    "start_time": "2022-03-07T12:22:11.818Z"
   },
   {
    "duration": 4,
    "start_time": "2022-03-07T12:22:11.833Z"
   },
   {
    "duration": 64,
    "start_time": "2022-03-07T12:22:11.840Z"
   },
   {
    "duration": 24,
    "start_time": "2022-03-07T12:22:11.906Z"
   },
   {
    "duration": 63,
    "start_time": "2022-03-07T12:22:11.933Z"
   },
   {
    "duration": 26,
    "start_time": "2022-03-07T12:22:11.999Z"
   },
   {
    "duration": 64,
    "start_time": "2022-03-07T12:22:12.027Z"
   },
   {
    "duration": 14,
    "start_time": "2022-03-07T12:22:12.093Z"
   },
   {
    "duration": 22,
    "start_time": "2022-03-07T12:22:12.109Z"
   },
   {
    "duration": 40,
    "start_time": "2022-03-07T12:22:12.133Z"
   },
   {
    "duration": 19,
    "start_time": "2022-03-07T12:23:17.102Z"
   },
   {
    "duration": 6,
    "start_time": "2022-03-10T06:01:35.535Z"
   },
   {
    "duration": 530,
    "start_time": "2022-03-10T06:02:20.800Z"
   },
   {
    "duration": 676,
    "start_time": "2022-03-10T06:05:50.723Z"
   },
   {
    "duration": 172,
    "start_time": "2022-03-10T06:05:54.997Z"
   },
   {
    "duration": 32,
    "start_time": "2022-03-10T06:05:58.086Z"
   },
   {
    "duration": 11,
    "start_time": "2022-03-10T06:06:16.459Z"
   },
   {
    "duration": 15,
    "start_time": "2022-03-10T06:13:59.479Z"
   },
   {
    "duration": 34,
    "start_time": "2022-03-10T06:14:02.941Z"
   },
   {
    "duration": 10,
    "start_time": "2022-03-10T06:15:30.929Z"
   },
   {
    "duration": 6605,
    "start_time": "2022-03-10T06:15:46.411Z"
   },
   {
    "duration": 10,
    "start_time": "2022-03-10T06:16:07.982Z"
   },
   {
    "duration": 13,
    "start_time": "2022-03-10T06:16:22.658Z"
   },
   {
    "duration": 32,
    "start_time": "2022-03-10T06:16:26.314Z"
   },
   {
    "duration": 4,
    "start_time": "2022-03-10T06:21:54.593Z"
   },
   {
    "duration": 25,
    "start_time": "2022-03-10T06:22:08.832Z"
   },
   {
    "duration": 4,
    "start_time": "2022-03-10T06:36:05.196Z"
   },
   {
    "duration": 34,
    "start_time": "2022-03-10T06:36:13.249Z"
   },
   {
    "duration": 24,
    "start_time": "2022-03-10T06:36:22.323Z"
   },
   {
    "duration": 31,
    "start_time": "2022-03-10T06:36:30.701Z"
   },
   {
    "duration": 83,
    "start_time": "2022-03-10T06:36:37.170Z"
   },
   {
    "duration": 104,
    "start_time": "2022-03-10T06:36:44.982Z"
   },
   {
    "duration": 78,
    "start_time": "2022-03-10T06:36:47.345Z"
   },
   {
    "duration": 280,
    "start_time": "2022-03-10T06:53:18.832Z"
   },
   {
    "duration": 55,
    "start_time": "2022-03-10T06:53:43.538Z"
   },
   {
    "duration": 5,
    "start_time": "2022-03-10T06:54:48.100Z"
   },
   {
    "duration": 8,
    "start_time": "2022-03-10T06:57:05.899Z"
   },
   {
    "duration": 21,
    "start_time": "2022-03-10T06:57:30.433Z"
   },
   {
    "duration": 54,
    "start_time": "2022-03-10T06:59:07.896Z"
   },
   {
    "duration": 54,
    "start_time": "2022-03-10T07:00:02.168Z"
   },
   {
    "duration": 15,
    "start_time": "2022-03-10T07:05:44.193Z"
   },
   {
    "duration": 17,
    "start_time": "2022-03-10T07:08:41.496Z"
   },
   {
    "duration": 5,
    "start_time": "2022-03-10T07:10:02.466Z"
   },
   {
    "duration": 29,
    "start_time": "2022-03-10T07:10:10.300Z"
   },
   {
    "duration": 22,
    "start_time": "2022-03-10T07:10:11.626Z"
   },
   {
    "duration": 24,
    "start_time": "2022-03-10T07:10:13.183Z"
   },
   {
    "duration": 21,
    "start_time": "2022-03-10T07:10:16.310Z"
   },
   {
    "duration": 26,
    "start_time": "2022-03-10T07:10:18.822Z"
   },
   {
    "duration": 21,
    "start_time": "2022-03-10T07:10:20.074Z"
   },
   {
    "duration": 355,
    "start_time": "2022-03-10T07:14:36.019Z"
   },
   {
    "duration": 350,
    "start_time": "2022-03-10T07:14:52.627Z"
   },
   {
    "duration": 9,
    "start_time": "2022-03-10T07:22:31.710Z"
   },
   {
    "duration": 81,
    "start_time": "2022-03-10T07:30:14.872Z"
   },
   {
    "duration": 109,
    "start_time": "2022-03-10T07:30:30.358Z"
   },
   {
    "duration": 87,
    "start_time": "2022-03-10T07:30:41.753Z"
   },
   {
    "duration": 98,
    "start_time": "2022-03-10T07:31:00.228Z"
   },
   {
    "duration": 260,
    "start_time": "2022-03-10T07:32:54.141Z"
   },
   {
    "duration": 318,
    "start_time": "2022-03-10T07:36:06.114Z"
   },
   {
    "duration": 10,
    "start_time": "2022-03-10T07:37:18.122Z"
   },
   {
    "duration": 23,
    "start_time": "2022-03-10T07:40:14.729Z"
   },
   {
    "duration": 27,
    "start_time": "2022-03-10T07:40:33.774Z"
   },
   {
    "duration": 20,
    "start_time": "2022-03-10T07:40:57.561Z"
   },
   {
    "duration": 5,
    "start_time": "2022-03-10T07:46:12.811Z"
   },
   {
    "duration": 283,
    "start_time": "2022-03-10T07:46:32.838Z"
   },
   {
    "duration": 5,
    "start_time": "2022-03-10T07:52:03.402Z"
   },
   {
    "duration": 23,
    "start_time": "2022-03-10T07:52:27.240Z"
   },
   {
    "duration": 18,
    "start_time": "2022-03-10T07:53:08.570Z"
   },
   {
    "duration": 16,
    "start_time": "2022-03-10T07:53:20.148Z"
   },
   {
    "duration": 22,
    "start_time": "2022-03-10T07:53:25.274Z"
   },
   {
    "duration": 17,
    "start_time": "2022-03-10T07:53:29.463Z"
   },
   {
    "duration": 131,
    "start_time": "2022-03-10T07:55:57.021Z"
   },
   {
    "duration": 11,
    "start_time": "2022-03-10T07:56:11.774Z"
   },
   {
    "duration": 7,
    "start_time": "2022-03-10T07:56:16.388Z"
   },
   {
    "duration": 10,
    "start_time": "2022-03-10T07:57:44.490Z"
   },
   {
    "duration": 8,
    "start_time": "2022-03-10T07:57:47.203Z"
   },
   {
    "duration": 13,
    "start_time": "2022-03-10T08:05:52.701Z"
   },
   {
    "duration": 559,
    "start_time": "2022-03-10T19:28:40.327Z"
   },
   {
    "duration": 127,
    "start_time": "2022-03-10T19:28:40.888Z"
   },
   {
    "duration": 6,
    "start_time": "2022-03-10T19:28:41.017Z"
   },
   {
    "duration": 39,
    "start_time": "2022-03-10T19:28:41.025Z"
   },
   {
    "duration": 25,
    "start_time": "2022-03-10T19:28:41.066Z"
   },
   {
    "duration": 3,
    "start_time": "2022-03-10T19:28:41.093Z"
   },
   {
    "duration": 22,
    "start_time": "2022-03-10T19:28:41.098Z"
   },
   {
    "duration": 3,
    "start_time": "2022-03-10T19:28:41.121Z"
   },
   {
    "duration": 53,
    "start_time": "2022-03-10T19:28:41.126Z"
   },
   {
    "duration": 18,
    "start_time": "2022-03-10T19:28:41.181Z"
   },
   {
    "duration": 23,
    "start_time": "2022-03-10T19:28:41.201Z"
   },
   {
    "duration": 91,
    "start_time": "2022-03-10T19:28:41.226Z"
   },
   {
    "duration": 78,
    "start_time": "2022-03-10T19:28:41.318Z"
   },
   {
    "duration": 53,
    "start_time": "2022-03-10T19:28:41.397Z"
   },
   {
    "duration": 43,
    "start_time": "2022-03-10T19:28:41.459Z"
   },
   {
    "duration": 3,
    "start_time": "2022-03-10T19:28:41.504Z"
   },
   {
    "duration": 26,
    "start_time": "2022-03-10T19:28:41.509Z"
   },
   {
    "duration": 41,
    "start_time": "2022-03-10T19:28:41.558Z"
   },
   {
    "duration": 12,
    "start_time": "2022-03-10T19:28:41.601Z"
   },
   {
    "duration": 10,
    "start_time": "2022-03-10T19:28:41.614Z"
   },
   {
    "duration": 4,
    "start_time": "2022-03-10T19:28:41.625Z"
   },
   {
    "duration": 47,
    "start_time": "2022-03-10T19:28:41.630Z"
   },
   {
    "duration": 17,
    "start_time": "2022-03-10T19:28:41.678Z"
   },
   {
    "duration": 18,
    "start_time": "2022-03-10T19:28:41.697Z"
   },
   {
    "duration": 42,
    "start_time": "2022-03-10T19:28:41.717Z"
   },
   {
    "duration": 22,
    "start_time": "2022-03-10T19:28:41.761Z"
   },
   {
    "duration": 16,
    "start_time": "2022-03-10T19:28:41.785Z"
   },
   {
    "duration": 8,
    "start_time": "2022-03-10T19:28:41.803Z"
   },
   {
    "duration": 21,
    "start_time": "2022-03-10T19:28:41.813Z"
   },
   {
    "duration": 33,
    "start_time": "2022-03-10T19:28:41.836Z"
   },
   {
    "duration": 3,
    "start_time": "2022-03-10T19:28:41.871Z"
   },
   {
    "duration": 21,
    "start_time": "2022-03-10T19:28:41.875Z"
   },
   {
    "duration": 12,
    "start_time": "2022-03-10T19:28:41.898Z"
   },
   {
    "duration": 47,
    "start_time": "2022-03-10T19:28:41.911Z"
   },
   {
    "duration": 14,
    "start_time": "2022-03-10T19:28:41.960Z"
   },
   {
    "duration": 11,
    "start_time": "2022-03-10T19:28:41.975Z"
   },
   {
    "duration": 4,
    "start_time": "2022-03-10T19:28:41.988Z"
   },
   {
    "duration": 7,
    "start_time": "2022-03-10T19:28:41.994Z"
   },
   {
    "duration": 4,
    "start_time": "2022-03-10T19:28:42.003Z"
   },
   {
    "duration": 9,
    "start_time": "2022-03-10T19:29:33.356Z"
   },
   {
    "duration": 408,
    "start_time": "2022-11-13T15:36:17.860Z"
   },
   {
    "duration": 445,
    "start_time": "2022-11-13T15:36:19.877Z"
   },
   {
    "duration": 20,
    "start_time": "2022-11-13T15:36:21.313Z"
   },
   {
    "duration": 27,
    "start_time": "2022-11-13T15:37:31.937Z"
   },
   {
    "duration": 4,
    "start_time": "2022-11-13T15:39:42.606Z"
   },
   {
    "duration": 5,
    "start_time": "2022-11-13T15:41:16.280Z"
   },
   {
    "duration": 5,
    "start_time": "2022-11-13T15:41:34.004Z"
   },
   {
    "duration": 151,
    "start_time": "2022-11-13T15:41:35.834Z"
   },
   {
    "duration": 11,
    "start_time": "2022-11-13T15:41:37.062Z"
   },
   {
    "duration": 29,
    "start_time": "2022-11-13T15:41:39.131Z"
   },
   {
    "duration": 4,
    "start_time": "2022-11-13T15:41:43.261Z"
   },
   {
    "duration": 12,
    "start_time": "2022-11-13T15:41:45.737Z"
   },
   {
    "duration": 4,
    "start_time": "2022-11-13T15:41:47.335Z"
   },
   {
    "duration": 21,
    "start_time": "2022-11-13T15:42:11.921Z"
   },
   {
    "duration": 18,
    "start_time": "2022-11-13T15:43:32.404Z"
   },
   {
    "duration": 24,
    "start_time": "2022-11-13T15:44:06.177Z"
   },
   {
    "duration": 63,
    "start_time": "2022-11-13T15:44:24.745Z"
   },
   {
    "duration": 82,
    "start_time": "2022-11-13T15:44:43.696Z"
   },
   {
    "duration": 64,
    "start_time": "2022-11-13T15:45:00.460Z"
   },
   {
    "duration": 40,
    "start_time": "2022-11-13T15:46:02.313Z"
   },
   {
    "duration": 3,
    "start_time": "2022-11-13T15:47:50.113Z"
   },
   {
    "duration": 13,
    "start_time": "2022-11-13T15:49:20.915Z"
   },
   {
    "duration": 39,
    "start_time": "2022-11-13T15:49:31.406Z"
   },
   {
    "duration": 12,
    "start_time": "2022-11-13T15:51:05.790Z"
   },
   {
    "duration": 12,
    "start_time": "2022-11-13T15:52:26.970Z"
   },
   {
    "duration": 4,
    "start_time": "2022-11-13T15:54:26.904Z"
   },
   {
    "duration": 26,
    "start_time": "2022-11-13T15:54:47.195Z"
   },
   {
    "duration": 17,
    "start_time": "2022-11-13T15:54:50.466Z"
   },
   {
    "duration": 20,
    "start_time": "2022-11-13T15:54:52.967Z"
   },
   {
    "duration": 16,
    "start_time": "2022-11-13T15:54:56.402Z"
   },
   {
    "duration": 22,
    "start_time": "2022-11-13T15:54:58.966Z"
   },
   {
    "duration": 20,
    "start_time": "2022-11-13T15:55:00.469Z"
   },
   {
    "duration": 10,
    "start_time": "2022-11-13T15:57:12.908Z"
   },
   {
    "duration": 8,
    "start_time": "2022-11-13T15:57:17.184Z"
   },
   {
    "duration": 14,
    "start_time": "2022-11-13T15:58:49.842Z"
   },
   {
    "duration": 20,
    "start_time": "2022-11-13T15:58:58.318Z"
   },
   {
    "duration": 15,
    "start_time": "2022-11-13T15:59:05.870Z"
   },
   {
    "duration": 5,
    "start_time": "2022-11-13T16:00:28.070Z"
   },
   {
    "duration": 16,
    "start_time": "2022-11-13T16:00:52.905Z"
   },
   {
    "duration": 12,
    "start_time": "2022-11-13T16:01:01.770Z"
   },
   {
    "duration": 18,
    "start_time": "2022-11-13T16:01:19.301Z"
   },
   {
    "duration": 11,
    "start_time": "2022-11-13T16:01:25.590Z"
   },
   {
    "duration": 8,
    "start_time": "2022-11-13T16:03:21.216Z"
   },
   {
    "duration": 4,
    "start_time": "2022-11-13T16:03:40.708Z"
   },
   {
    "duration": 5,
    "start_time": "2022-11-13T16:04:13.421Z"
   },
   {
    "duration": 6,
    "start_time": "2022-11-13T16:04:25.570Z"
   },
   {
    "duration": 381,
    "start_time": "2022-11-13T16:07:40.307Z"
   },
   {
    "duration": 154,
    "start_time": "2022-11-13T16:07:40.690Z"
   },
   {
    "duration": 23,
    "start_time": "2022-11-13T16:07:40.846Z"
   },
   {
    "duration": 27,
    "start_time": "2022-11-13T16:07:40.871Z"
   },
   {
    "duration": 5,
    "start_time": "2022-11-13T16:07:40.899Z"
   },
   {
    "duration": 17,
    "start_time": "2022-11-13T16:07:40.906Z"
   },
   {
    "duration": 7,
    "start_time": "2022-11-13T16:07:40.925Z"
   },
   {
    "duration": 62,
    "start_time": "2022-11-13T16:07:40.933Z"
   },
   {
    "duration": 20,
    "start_time": "2022-11-13T16:07:40.997Z"
   },
   {
    "duration": 21,
    "start_time": "2022-11-13T16:07:41.020Z"
   },
   {
    "duration": 84,
    "start_time": "2022-11-13T16:07:41.043Z"
   },
   {
    "duration": 86,
    "start_time": "2022-11-13T16:07:41.129Z"
   },
   {
    "duration": 66,
    "start_time": "2022-11-13T16:07:41.217Z"
   },
   {
    "duration": 36,
    "start_time": "2022-11-13T16:07:41.284Z"
   },
   {
    "duration": 3,
    "start_time": "2022-11-13T16:07:41.321Z"
   },
   {
    "duration": 22,
    "start_time": "2022-11-13T16:07:41.325Z"
   },
   {
    "duration": 50,
    "start_time": "2022-11-13T16:07:41.349Z"
   },
   {
    "duration": 13,
    "start_time": "2022-11-13T16:07:41.401Z"
   },
   {
    "duration": 12,
    "start_time": "2022-11-13T16:07:41.416Z"
   },
   {
    "duration": 3,
    "start_time": "2022-11-13T16:07:41.430Z"
   },
   {
    "duration": 21,
    "start_time": "2022-11-13T16:07:41.467Z"
   },
   {
    "duration": 18,
    "start_time": "2022-11-13T16:07:41.490Z"
   },
   {
    "duration": 18,
    "start_time": "2022-11-13T16:07:41.510Z"
   },
   {
    "duration": 49,
    "start_time": "2022-11-13T16:07:41.530Z"
   },
   {
    "duration": 20,
    "start_time": "2022-11-13T16:07:41.581Z"
   },
   {
    "duration": 16,
    "start_time": "2022-11-13T16:07:41.602Z"
   },
   {
    "duration": 11,
    "start_time": "2022-11-13T16:07:41.620Z"
   },
   {
    "duration": 23,
    "start_time": "2022-11-13T16:07:41.670Z"
   },
   {
    "duration": 16,
    "start_time": "2022-11-13T16:07:41.694Z"
   },
   {
    "duration": 3,
    "start_time": "2022-11-13T16:07:41.712Z"
   },
   {
    "duration": 52,
    "start_time": "2022-11-13T16:07:41.717Z"
   },
   {
    "duration": 11,
    "start_time": "2022-11-13T16:07:41.770Z"
   },
   {
    "duration": 20,
    "start_time": "2022-11-13T16:07:41.783Z"
   },
   {
    "duration": 10,
    "start_time": "2022-11-13T16:07:41.804Z"
   },
   {
    "duration": 9,
    "start_time": "2022-11-13T16:07:41.815Z"
   },
   {
    "duration": 4,
    "start_time": "2022-11-13T16:07:41.826Z"
   },
   {
    "duration": 38,
    "start_time": "2022-11-13T16:07:41.832Z"
   },
   {
    "duration": 8,
    "start_time": "2022-11-13T16:07:41.872Z"
   }
  ],
  "colab": {
   "collapsed_sections": [
    "E0vqbgi9ay0H",
    "VUC88oWjTJw2"
   ],
   "name": "yandex_music_project_2021.2.ipynb",
   "provenance": []
  },
  "kernelspec": {
   "display_name": "Python 3 (ipykernel)",
   "language": "python",
   "name": "python3"
  },
  "language_info": {
   "codemirror_mode": {
    "name": "ipython",
    "version": 3
   },
   "file_extension": ".py",
   "mimetype": "text/x-python",
   "name": "python",
   "nbconvert_exporter": "python",
   "pygments_lexer": "ipython3",
   "version": "3.9.5"
  },
  "toc": {
   "base_numbering": 1,
   "nav_menu": {},
   "number_sections": true,
   "sideBar": true,
   "skip_h1_title": true,
   "title_cell": "Table of Contents",
   "title_sidebar": "Contents",
   "toc_cell": false,
   "toc_position": {},
   "toc_section_display": true,
   "toc_window_display": true
  }
 },
 "nbformat": 4,
 "nbformat_minor": 1
}
