{
 "cells": [
  {
   "cell_type": "markdown",
   "metadata": {},
   "source": [
    "# Определение стоимости автомобилей"
   ]
  },
  {
   "cell_type": "markdown",
   "metadata": {},
   "source": [
    "Сервис по продаже автомобилей с пробегом «Не бит, не крашен» разрабатывает приложение для привлечения новых клиентов. В нём можно быстро узнать рыночную стоимость своего автомобиля. В вашем распоряжении исторические данные: технические характеристики, комплектации и цены автомобилей. Вам нужно построить модель для определения стоимости. \n",
    "\n",
    "Заказчику важны:\n",
    "\n",
    "- качество предсказания;\n",
    "- скорость предсказания;\n",
    "- время обучения."
   ]
  },
  {
   "cell_type": "markdown",
   "metadata": {},
   "source": [
    "## Подготовка данных"
   ]
  },
  {
   "cell_type": "markdown",
   "metadata": {},
   "source": [
    "### Предобработка данных"
   ]
  },
  {
   "cell_type": "markdown",
   "metadata": {},
   "source": [
    "Импортируем необходимые библиотеки"
   ]
  },
  {
   "cell_type": "code",
   "execution_count": 1,
   "metadata": {},
   "outputs": [],
   "source": [
    "import pandas as pd\n",
    "import numpy as np\n",
    "from numpy.random import RandomState\n",
    "from sklearn.model_selection import train_test_split\n",
    "from sklearn.model_selection import cross_val_score\n",
    "from sklearn.model_selection import GridSearchCV\n",
    "from sklearn.linear_model import LinearRegression\n",
    "from sklearn.preprocessing import OrdinalEncoder\n",
    "from sklearn.ensemble import GradientBoostingRegressor\n",
    "from sklearn.ensemble import RandomForestRegressor\n",
    "from sklearn.metrics import mean_squared_error\n",
    "from catboost import CatBoostClassifier\n",
    "from catboost import CatBoostRegressor, Pool\n",
    "import lightgbm \n",
    "%matplotlib inline"
   ]
  },
  {
   "cell_type": "markdown",
   "metadata": {},
   "source": [
    "Откроем предоставленные данные и получим по ним информацию "
   ]
  },
  {
   "cell_type": "code",
   "execution_count": 2,
   "metadata": {
    "scrolled": true
   },
   "outputs": [
    {
     "name": "stdout",
     "output_type": "stream",
     "text": [
      "<class 'pandas.core.frame.DataFrame'>\n",
      "RangeIndex: 354369 entries, 0 to 354368\n",
      "Data columns (total 16 columns):\n",
      " #   Column             Non-Null Count   Dtype \n",
      "---  ------             --------------   ----- \n",
      " 0   DateCrawled        354369 non-null  object\n",
      " 1   Price              354369 non-null  int64 \n",
      " 2   VehicleType        316879 non-null  object\n",
      " 3   RegistrationYear   354369 non-null  int64 \n",
      " 4   Gearbox            334536 non-null  object\n",
      " 5   Power              354369 non-null  int64 \n",
      " 6   Model              334664 non-null  object\n",
      " 7   Kilometer          354369 non-null  int64 \n",
      " 8   RegistrationMonth  354369 non-null  int64 \n",
      " 9   FuelType           321474 non-null  object\n",
      " 10  Brand              354369 non-null  object\n",
      " 11  NotRepaired        283215 non-null  object\n",
      " 12  DateCreated        354369 non-null  object\n",
      " 13  NumberOfPictures   354369 non-null  int64 \n",
      " 14  PostalCode         354369 non-null  int64 \n",
      " 15  LastSeen           354369 non-null  object\n",
      "dtypes: int64(7), object(9)\n",
      "memory usage: 43.3+ MB\n"
     ]
    }
   ],
   "source": [
    "autos = pd.read_csv('/datasets/autos.csv')\n",
    "autos.info()"
   ]
  },
  {
   "cell_type": "markdown",
   "metadata": {},
   "source": [
    "В предоставленных данных 15 столбцов и 354369 строк. В 5 столбцах присутствуют пропуски. Все 5 столбцов содержат категорийные признаки, поэтому восстановление данных не представляется возможным. Удалять строки с пропущенными данными считаю некорректным, поскольку потеряется больше 10% данных. Поэтому заполним прпуски в 5 столбцах, используя моду"
   ]
  },
  {
   "cell_type": "code",
   "execution_count": 3,
   "metadata": {},
   "outputs": [],
   "source": [
    "autos['VehicleType'] = autos['VehicleType'].fillna(autos['VehicleType'].mode().values[0])\n",
    "autos['Gearbox'] = autos['Gearbox'].fillna(autos['Gearbox'].mode().values[0])\n",
    "autos['Model'] = autos['Model'].fillna(autos['Model'].mode().values[0])\n",
    "autos['FuelType'] = autos['FuelType'].fillna(autos['FuelType'].mode().values[0])\n",
    "autos['NotRepaired'] = autos['NotRepaired'].fillna(autos['NotRepaired'].mode().values[0])"
   ]
  },
  {
   "cell_type": "code",
   "execution_count": 4,
   "metadata": {
    "scrolled": true
   },
   "outputs": [
    {
     "name": "stdout",
     "output_type": "stream",
     "text": [
      "<class 'pandas.core.frame.DataFrame'>\n",
      "RangeIndex: 354369 entries, 0 to 354368\n",
      "Data columns (total 16 columns):\n",
      " #   Column             Non-Null Count   Dtype \n",
      "---  ------             --------------   ----- \n",
      " 0   DateCrawled        354369 non-null  object\n",
      " 1   Price              354369 non-null  int64 \n",
      " 2   VehicleType        354369 non-null  object\n",
      " 3   RegistrationYear   354369 non-null  int64 \n",
      " 4   Gearbox            354369 non-null  object\n",
      " 5   Power              354369 non-null  int64 \n",
      " 6   Model              354369 non-null  object\n",
      " 7   Kilometer          354369 non-null  int64 \n",
      " 8   RegistrationMonth  354369 non-null  int64 \n",
      " 9   FuelType           354369 non-null  object\n",
      " 10  Brand              354369 non-null  object\n",
      " 11  NotRepaired        354369 non-null  object\n",
      " 12  DateCreated        354369 non-null  object\n",
      " 13  NumberOfPictures   354369 non-null  int64 \n",
      " 14  PostalCode         354369 non-null  int64 \n",
      " 15  LastSeen           354369 non-null  object\n",
      "dtypes: int64(7), object(9)\n",
      "memory usage: 43.3+ MB\n"
     ]
    }
   ],
   "source": [
    "autos.info()"
   ]
  },
  {
   "cell_type": "markdown",
   "metadata": {},
   "source": [
    "Посмотрим как обстоят дела с числовыми данными"
   ]
  },
  {
   "cell_type": "code",
   "execution_count": 5,
   "metadata": {},
   "outputs": [
    {
     "data": {
      "text/html": [
       "<div>\n",
       "<style scoped>\n",
       "    .dataframe tbody tr th:only-of-type {\n",
       "        vertical-align: middle;\n",
       "    }\n",
       "\n",
       "    .dataframe tbody tr th {\n",
       "        vertical-align: top;\n",
       "    }\n",
       "\n",
       "    .dataframe thead th {\n",
       "        text-align: right;\n",
       "    }\n",
       "</style>\n",
       "<table border=\"1\" class=\"dataframe\">\n",
       "  <thead>\n",
       "    <tr style=\"text-align: right;\">\n",
       "      <th></th>\n",
       "      <th>Price</th>\n",
       "      <th>RegistrationYear</th>\n",
       "      <th>Power</th>\n",
       "      <th>Kilometer</th>\n",
       "      <th>RegistrationMonth</th>\n",
       "      <th>NumberOfPictures</th>\n",
       "      <th>PostalCode</th>\n",
       "    </tr>\n",
       "  </thead>\n",
       "  <tbody>\n",
       "    <tr>\n",
       "      <th>count</th>\n",
       "      <td>354369.000000</td>\n",
       "      <td>354369.000000</td>\n",
       "      <td>354369.000000</td>\n",
       "      <td>354369.000000</td>\n",
       "      <td>354369.000000</td>\n",
       "      <td>354369.0</td>\n",
       "      <td>354369.000000</td>\n",
       "    </tr>\n",
       "    <tr>\n",
       "      <th>mean</th>\n",
       "      <td>4416.656776</td>\n",
       "      <td>2004.234448</td>\n",
       "      <td>110.094337</td>\n",
       "      <td>128211.172535</td>\n",
       "      <td>5.714645</td>\n",
       "      <td>0.0</td>\n",
       "      <td>50508.689087</td>\n",
       "    </tr>\n",
       "    <tr>\n",
       "      <th>std</th>\n",
       "      <td>4514.158514</td>\n",
       "      <td>90.227958</td>\n",
       "      <td>189.850405</td>\n",
       "      <td>37905.341530</td>\n",
       "      <td>3.726421</td>\n",
       "      <td>0.0</td>\n",
       "      <td>25783.096248</td>\n",
       "    </tr>\n",
       "    <tr>\n",
       "      <th>min</th>\n",
       "      <td>0.000000</td>\n",
       "      <td>1000.000000</td>\n",
       "      <td>0.000000</td>\n",
       "      <td>5000.000000</td>\n",
       "      <td>0.000000</td>\n",
       "      <td>0.0</td>\n",
       "      <td>1067.000000</td>\n",
       "    </tr>\n",
       "    <tr>\n",
       "      <th>25%</th>\n",
       "      <td>1050.000000</td>\n",
       "      <td>1999.000000</td>\n",
       "      <td>69.000000</td>\n",
       "      <td>125000.000000</td>\n",
       "      <td>3.000000</td>\n",
       "      <td>0.0</td>\n",
       "      <td>30165.000000</td>\n",
       "    </tr>\n",
       "    <tr>\n",
       "      <th>50%</th>\n",
       "      <td>2700.000000</td>\n",
       "      <td>2003.000000</td>\n",
       "      <td>105.000000</td>\n",
       "      <td>150000.000000</td>\n",
       "      <td>6.000000</td>\n",
       "      <td>0.0</td>\n",
       "      <td>49413.000000</td>\n",
       "    </tr>\n",
       "    <tr>\n",
       "      <th>75%</th>\n",
       "      <td>6400.000000</td>\n",
       "      <td>2008.000000</td>\n",
       "      <td>143.000000</td>\n",
       "      <td>150000.000000</td>\n",
       "      <td>9.000000</td>\n",
       "      <td>0.0</td>\n",
       "      <td>71083.000000</td>\n",
       "    </tr>\n",
       "    <tr>\n",
       "      <th>max</th>\n",
       "      <td>20000.000000</td>\n",
       "      <td>9999.000000</td>\n",
       "      <td>20000.000000</td>\n",
       "      <td>150000.000000</td>\n",
       "      <td>12.000000</td>\n",
       "      <td>0.0</td>\n",
       "      <td>99998.000000</td>\n",
       "    </tr>\n",
       "  </tbody>\n",
       "</table>\n",
       "</div>"
      ],
      "text/plain": [
       "               Price  RegistrationYear          Power      Kilometer  \\\n",
       "count  354369.000000     354369.000000  354369.000000  354369.000000   \n",
       "mean     4416.656776       2004.234448     110.094337  128211.172535   \n",
       "std      4514.158514         90.227958     189.850405   37905.341530   \n",
       "min         0.000000       1000.000000       0.000000    5000.000000   \n",
       "25%      1050.000000       1999.000000      69.000000  125000.000000   \n",
       "50%      2700.000000       2003.000000     105.000000  150000.000000   \n",
       "75%      6400.000000       2008.000000     143.000000  150000.000000   \n",
       "max     20000.000000       9999.000000   20000.000000  150000.000000   \n",
       "\n",
       "       RegistrationMonth  NumberOfPictures     PostalCode  \n",
       "count      354369.000000          354369.0  354369.000000  \n",
       "mean            5.714645               0.0   50508.689087  \n",
       "std             3.726421               0.0   25783.096248  \n",
       "min             0.000000               0.0    1067.000000  \n",
       "25%             3.000000               0.0   30165.000000  \n",
       "50%             6.000000               0.0   49413.000000  \n",
       "75%             9.000000               0.0   71083.000000  \n",
       "max            12.000000               0.0   99998.000000  "
      ]
     },
     "execution_count": 5,
     "metadata": {},
     "output_type": "execute_result"
    }
   ],
   "source": [
    "autos.describe()"
   ]
  },
  {
   "cell_type": "markdown",
   "metadata": {},
   "source": [
    "Так как Price для нашего проекта это target, заполнение пропусков считаю исказит полученный результат, поэтому удалим строки с пропущенными данными. RegistrationYear не должен быть ниже 1950 и выше 2016. Power я думаю меньше 50 и выше 1000 не должно быть. В столбце Kilometer все в пределах нормы. RegistrationMonth нулевые значения поменяем на 1. Остальное оставим как есть"
   ]
  },
  {
   "cell_type": "code",
   "execution_count": 6,
   "metadata": {},
   "outputs": [],
   "source": [
    "autos = autos.drop(autos.query('Price < 100').index)"
   ]
  },
  {
   "cell_type": "markdown",
   "metadata": {},
   "source": [
    "0 в столбце RegistrationMonth заменим на 1 в одну строку"
   ]
  },
  {
   "cell_type": "code",
   "execution_count": 7,
   "metadata": {},
   "outputs": [],
   "source": [
    "autos.loc[autos['RegistrationMonth'] == 0, 'RegistrationMonth'] = 1"
   ]
  },
  {
   "cell_type": "markdown",
   "metadata": {},
   "source": [
    "Для тех строк, где есть условия, напишем функцию"
   ]
  },
  {
   "cell_type": "code",
   "execution_count": 8,
   "metadata": {},
   "outputs": [],
   "source": [
    "def new_reg_year(value):\n",
    "    if value > 2016:\n",
    "        return 2016\n",
    "    elif value < 1950:\n",
    "        return 1950\n",
    "    else:\n",
    "        return value\n",
    "autos['RegistrationYear'] = autos['RegistrationYear'].apply(new_reg_year)"
   ]
  },
  {
   "cell_type": "code",
   "execution_count": 9,
   "metadata": {},
   "outputs": [],
   "source": [
    "def horse_power(value):\n",
    "    if value < 50:\n",
    "        return 50\n",
    "    elif value > 1000:\n",
    "        return 1000\n",
    "    else:\n",
    "        return value\n",
    "autos['Power'] = autos['Power'].apply(horse_power)"
   ]
  },
  {
   "cell_type": "markdown",
   "metadata": {},
   "source": [
    "Посмотрим на результат"
   ]
  },
  {
   "cell_type": "code",
   "execution_count": 10,
   "metadata": {},
   "outputs": [
    {
     "data": {
      "text/html": [
       "<div>\n",
       "<style scoped>\n",
       "    .dataframe tbody tr th:only-of-type {\n",
       "        vertical-align: middle;\n",
       "    }\n",
       "\n",
       "    .dataframe tbody tr th {\n",
       "        vertical-align: top;\n",
       "    }\n",
       "\n",
       "    .dataframe thead th {\n",
       "        text-align: right;\n",
       "    }\n",
       "</style>\n",
       "<table border=\"1\" class=\"dataframe\">\n",
       "  <thead>\n",
       "    <tr style=\"text-align: right;\">\n",
       "      <th></th>\n",
       "      <th>Price</th>\n",
       "      <th>RegistrationYear</th>\n",
       "      <th>Power</th>\n",
       "      <th>Kilometer</th>\n",
       "      <th>RegistrationMonth</th>\n",
       "      <th>NumberOfPictures</th>\n",
       "      <th>PostalCode</th>\n",
       "    </tr>\n",
       "  </thead>\n",
       "  <tbody>\n",
       "    <tr>\n",
       "      <th>count</th>\n",
       "      <td>341055.000000</td>\n",
       "      <td>341055.000000</td>\n",
       "      <td>341055.000000</td>\n",
       "      <td>341055.00000</td>\n",
       "      <td>341055.000000</td>\n",
       "      <td>341055.0</td>\n",
       "      <td>341055.000000</td>\n",
       "    </tr>\n",
       "    <tr>\n",
       "      <th>mean</th>\n",
       "      <td>4588.861052</td>\n",
       "      <td>2003.161487</td>\n",
       "      <td>114.078647</td>\n",
       "      <td>128497.76429</td>\n",
       "      <td>5.891627</td>\n",
       "      <td>0.0</td>\n",
       "      <td>50695.796983</td>\n",
       "    </tr>\n",
       "    <tr>\n",
       "      <th>std</th>\n",
       "      <td>4514.844700</td>\n",
       "      <td>7.176948</td>\n",
       "      <td>61.365972</td>\n",
       "      <td>37243.80161</td>\n",
       "      <td>3.552481</td>\n",
       "      <td>0.0</td>\n",
       "      <td>25733.510931</td>\n",
       "    </tr>\n",
       "    <tr>\n",
       "      <th>min</th>\n",
       "      <td>100.000000</td>\n",
       "      <td>1950.000000</td>\n",
       "      <td>50.000000</td>\n",
       "      <td>5000.00000</td>\n",
       "      <td>1.000000</td>\n",
       "      <td>0.0</td>\n",
       "      <td>1067.000000</td>\n",
       "    </tr>\n",
       "    <tr>\n",
       "      <th>25%</th>\n",
       "      <td>1200.000000</td>\n",
       "      <td>1999.000000</td>\n",
       "      <td>70.000000</td>\n",
       "      <td>125000.00000</td>\n",
       "      <td>3.000000</td>\n",
       "      <td>0.0</td>\n",
       "      <td>30453.000000</td>\n",
       "    </tr>\n",
       "    <tr>\n",
       "      <th>50%</th>\n",
       "      <td>2900.000000</td>\n",
       "      <td>2003.000000</td>\n",
       "      <td>105.000000</td>\n",
       "      <td>150000.00000</td>\n",
       "      <td>6.000000</td>\n",
       "      <td>0.0</td>\n",
       "      <td>49525.000000</td>\n",
       "    </tr>\n",
       "    <tr>\n",
       "      <th>75%</th>\n",
       "      <td>6500.000000</td>\n",
       "      <td>2008.000000</td>\n",
       "      <td>143.000000</td>\n",
       "      <td>150000.00000</td>\n",
       "      <td>9.000000</td>\n",
       "      <td>0.0</td>\n",
       "      <td>71229.000000</td>\n",
       "    </tr>\n",
       "    <tr>\n",
       "      <th>max</th>\n",
       "      <td>20000.000000</td>\n",
       "      <td>2016.000000</td>\n",
       "      <td>1000.000000</td>\n",
       "      <td>150000.00000</td>\n",
       "      <td>12.000000</td>\n",
       "      <td>0.0</td>\n",
       "      <td>99998.000000</td>\n",
       "    </tr>\n",
       "  </tbody>\n",
       "</table>\n",
       "</div>"
      ],
      "text/plain": [
       "               Price  RegistrationYear          Power     Kilometer  \\\n",
       "count  341055.000000     341055.000000  341055.000000  341055.00000   \n",
       "mean     4588.861052       2003.161487     114.078647  128497.76429   \n",
       "std      4514.844700          7.176948      61.365972   37243.80161   \n",
       "min       100.000000       1950.000000      50.000000    5000.00000   \n",
       "25%      1200.000000       1999.000000      70.000000  125000.00000   \n",
       "50%      2900.000000       2003.000000     105.000000  150000.00000   \n",
       "75%      6500.000000       2008.000000     143.000000  150000.00000   \n",
       "max     20000.000000       2016.000000    1000.000000  150000.00000   \n",
       "\n",
       "       RegistrationMonth  NumberOfPictures     PostalCode  \n",
       "count      341055.000000          341055.0  341055.000000  \n",
       "mean            5.891627               0.0   50695.796983  \n",
       "std             3.552481               0.0   25733.510931  \n",
       "min             1.000000               0.0    1067.000000  \n",
       "25%             3.000000               0.0   30453.000000  \n",
       "50%             6.000000               0.0   49525.000000  \n",
       "75%             9.000000               0.0   71229.000000  \n",
       "max            12.000000               0.0   99998.000000  "
      ]
     },
     "execution_count": 10,
     "metadata": {},
     "output_type": "execute_result"
    }
   ],
   "source": [
    "autos.describe()"
   ]
  },
  {
   "cell_type": "markdown",
   "metadata": {},
   "source": [
    "Выбросы и нулевые значения были исправлены. Проверим на наличие дубликатов"
   ]
  },
  {
   "cell_type": "code",
   "execution_count": 11,
   "metadata": {},
   "outputs": [
    {
     "data": {
      "text/plain": [
       "5"
      ]
     },
     "execution_count": 11,
     "metadata": {},
     "output_type": "execute_result"
    }
   ],
   "source": [
    "autos.duplicated().sum()"
   ]
  },
  {
   "cell_type": "markdown",
   "metadata": {},
   "source": [
    "Дубликатов по отношению к общему объему инфомации ничтожно мало, поэтому просто удалим их"
   ]
  },
  {
   "cell_type": "code",
   "execution_count": 12,
   "metadata": {},
   "outputs": [],
   "source": [
    "autos = autos.drop_duplicates().reset_index(drop=True)"
   ]
  },
  {
   "cell_type": "markdown",
   "metadata": {},
   "source": [
    "В предоставленном датасете слишком много столбцов. Удалим ненужные"
   ]
  },
  {
   "cell_type": "code",
   "execution_count": 13,
   "metadata": {},
   "outputs": [
    {
     "data": {
      "text/plain": [
       "Index(['Price', 'VehicleType', 'RegistrationYear', 'Gearbox', 'Power', 'Model',\n",
       "       'Kilometer', 'RegistrationMonth', 'FuelType', 'Brand', 'NotRepaired'],\n",
       "      dtype='object')"
      ]
     },
     "execution_count": 13,
     "metadata": {},
     "output_type": "execute_result"
    }
   ],
   "source": [
    "autos = autos.drop(['DateCrawled', 'DateCreated', 'NumberOfPictures', 'PostalCode', 'LastSeen'], axis=1)\n",
    "autos.columns"
   ]
  },
  {
   "cell_type": "code",
   "execution_count": 14,
   "metadata": {
    "scrolled": true
   },
   "outputs": [
    {
     "data": {
      "text/html": [
       "<div>\n",
       "<style scoped>\n",
       "    .dataframe tbody tr th:only-of-type {\n",
       "        vertical-align: middle;\n",
       "    }\n",
       "\n",
       "    .dataframe tbody tr th {\n",
       "        vertical-align: top;\n",
       "    }\n",
       "\n",
       "    .dataframe thead th {\n",
       "        text-align: right;\n",
       "    }\n",
       "</style>\n",
       "<table border=\"1\" class=\"dataframe\">\n",
       "  <thead>\n",
       "    <tr style=\"text-align: right;\">\n",
       "      <th></th>\n",
       "      <th>Price</th>\n",
       "      <th>VehicleType</th>\n",
       "      <th>RegistrationYear</th>\n",
       "      <th>Gearbox</th>\n",
       "      <th>Power</th>\n",
       "      <th>Model</th>\n",
       "      <th>Kilometer</th>\n",
       "      <th>RegistrationMonth</th>\n",
       "      <th>FuelType</th>\n",
       "      <th>Brand</th>\n",
       "      <th>NotRepaired</th>\n",
       "    </tr>\n",
       "  </thead>\n",
       "  <tbody>\n",
       "    <tr>\n",
       "      <th>0</th>\n",
       "      <td>480</td>\n",
       "      <td>sedan</td>\n",
       "      <td>1993</td>\n",
       "      <td>manual</td>\n",
       "      <td>50</td>\n",
       "      <td>golf</td>\n",
       "      <td>150000</td>\n",
       "      <td>1</td>\n",
       "      <td>petrol</td>\n",
       "      <td>volkswagen</td>\n",
       "      <td>no</td>\n",
       "    </tr>\n",
       "    <tr>\n",
       "      <th>1</th>\n",
       "      <td>18300</td>\n",
       "      <td>coupe</td>\n",
       "      <td>2011</td>\n",
       "      <td>manual</td>\n",
       "      <td>190</td>\n",
       "      <td>golf</td>\n",
       "      <td>125000</td>\n",
       "      <td>5</td>\n",
       "      <td>gasoline</td>\n",
       "      <td>audi</td>\n",
       "      <td>yes</td>\n",
       "    </tr>\n",
       "    <tr>\n",
       "      <th>2</th>\n",
       "      <td>9800</td>\n",
       "      <td>suv</td>\n",
       "      <td>2004</td>\n",
       "      <td>auto</td>\n",
       "      <td>163</td>\n",
       "      <td>grand</td>\n",
       "      <td>125000</td>\n",
       "      <td>8</td>\n",
       "      <td>gasoline</td>\n",
       "      <td>jeep</td>\n",
       "      <td>no</td>\n",
       "    </tr>\n",
       "    <tr>\n",
       "      <th>3</th>\n",
       "      <td>1500</td>\n",
       "      <td>small</td>\n",
       "      <td>2001</td>\n",
       "      <td>manual</td>\n",
       "      <td>75</td>\n",
       "      <td>golf</td>\n",
       "      <td>150000</td>\n",
       "      <td>6</td>\n",
       "      <td>petrol</td>\n",
       "      <td>volkswagen</td>\n",
       "      <td>no</td>\n",
       "    </tr>\n",
       "    <tr>\n",
       "      <th>4</th>\n",
       "      <td>3600</td>\n",
       "      <td>small</td>\n",
       "      <td>2008</td>\n",
       "      <td>manual</td>\n",
       "      <td>69</td>\n",
       "      <td>fabia</td>\n",
       "      <td>90000</td>\n",
       "      <td>7</td>\n",
       "      <td>gasoline</td>\n",
       "      <td>skoda</td>\n",
       "      <td>no</td>\n",
       "    </tr>\n",
       "  </tbody>\n",
       "</table>\n",
       "</div>"
      ],
      "text/plain": [
       "   Price VehicleType  RegistrationYear Gearbox  Power  Model  Kilometer  \\\n",
       "0    480       sedan              1993  manual     50   golf     150000   \n",
       "1  18300       coupe              2011  manual    190   golf     125000   \n",
       "2   9800         suv              2004    auto    163  grand     125000   \n",
       "3   1500       small              2001  manual     75   golf     150000   \n",
       "4   3600       small              2008  manual     69  fabia      90000   \n",
       "\n",
       "   RegistrationMonth  FuelType       Brand NotRepaired  \n",
       "0                  1    petrol  volkswagen          no  \n",
       "1                  5  gasoline        audi         yes  \n",
       "2                  8  gasoline        jeep          no  \n",
       "3                  6    petrol  volkswagen          no  \n",
       "4                  7  gasoline       skoda          no  "
      ]
     },
     "execution_count": 14,
     "metadata": {},
     "output_type": "execute_result"
    }
   ],
   "source": [
    "autos.head()"
   ]
  },
  {
   "cell_type": "markdown",
   "metadata": {},
   "source": [
    "Выделим из всего датасета столбцы с категориальными и числовыми значениями "
   ]
  },
  {
   "cell_type": "code",
   "execution_count": 15,
   "metadata": {},
   "outputs": [],
   "source": [
    "numeric_features = ['DateCreated', 'Price', 'RegistrationYear', 'Power', 'Kilometer', 'LastSeen']\n",
    "categorical_features = ['VehicleType', 'Gearbox', 'Model', 'FuelType', 'NotRepaired', 'Brand']\n"
   ]
  },
  {
   "cell_type": "markdown",
   "metadata": {},
   "source": [
    "Сделаем копию нашего датасета и в одной из копий переведем категорийные данные в номинальные"
   ]
  },
  {
   "cell_type": "code",
   "execution_count": 16,
   "metadata": {
    "scrolled": true
   },
   "outputs": [
    {
     "data": {
      "text/html": [
       "<div>\n",
       "<style scoped>\n",
       "    .dataframe tbody tr th:only-of-type {\n",
       "        vertical-align: middle;\n",
       "    }\n",
       "\n",
       "    .dataframe tbody tr th {\n",
       "        vertical-align: top;\n",
       "    }\n",
       "\n",
       "    .dataframe thead th {\n",
       "        text-align: right;\n",
       "    }\n",
       "</style>\n",
       "<table border=\"1\" class=\"dataframe\">\n",
       "  <thead>\n",
       "    <tr style=\"text-align: right;\">\n",
       "      <th></th>\n",
       "      <th>Price</th>\n",
       "      <th>RegistrationYear</th>\n",
       "      <th>Power</th>\n",
       "      <th>Kilometer</th>\n",
       "      <th>RegistrationMonth</th>\n",
       "      <th>VehicleType_bus</th>\n",
       "      <th>VehicleType_convertible</th>\n",
       "      <th>VehicleType_coupe</th>\n",
       "      <th>VehicleType_other</th>\n",
       "      <th>VehicleType_sedan</th>\n",
       "      <th>...</th>\n",
       "      <th>Brand_smart</th>\n",
       "      <th>Brand_sonstige_autos</th>\n",
       "      <th>Brand_subaru</th>\n",
       "      <th>Brand_suzuki</th>\n",
       "      <th>Brand_toyota</th>\n",
       "      <th>Brand_trabant</th>\n",
       "      <th>Brand_volkswagen</th>\n",
       "      <th>Brand_volvo</th>\n",
       "      <th>NotRepaired_no</th>\n",
       "      <th>NotRepaired_yes</th>\n",
       "    </tr>\n",
       "  </thead>\n",
       "  <tbody>\n",
       "    <tr>\n",
       "      <th>0</th>\n",
       "      <td>480</td>\n",
       "      <td>1993</td>\n",
       "      <td>50</td>\n",
       "      <td>150000</td>\n",
       "      <td>1</td>\n",
       "      <td>0</td>\n",
       "      <td>0</td>\n",
       "      <td>0</td>\n",
       "      <td>0</td>\n",
       "      <td>1</td>\n",
       "      <td>...</td>\n",
       "      <td>0</td>\n",
       "      <td>0</td>\n",
       "      <td>0</td>\n",
       "      <td>0</td>\n",
       "      <td>0</td>\n",
       "      <td>0</td>\n",
       "      <td>1</td>\n",
       "      <td>0</td>\n",
       "      <td>1</td>\n",
       "      <td>0</td>\n",
       "    </tr>\n",
       "    <tr>\n",
       "      <th>1</th>\n",
       "      <td>18300</td>\n",
       "      <td>2011</td>\n",
       "      <td>190</td>\n",
       "      <td>125000</td>\n",
       "      <td>5</td>\n",
       "      <td>0</td>\n",
       "      <td>0</td>\n",
       "      <td>1</td>\n",
       "      <td>0</td>\n",
       "      <td>0</td>\n",
       "      <td>...</td>\n",
       "      <td>0</td>\n",
       "      <td>0</td>\n",
       "      <td>0</td>\n",
       "      <td>0</td>\n",
       "      <td>0</td>\n",
       "      <td>0</td>\n",
       "      <td>0</td>\n",
       "      <td>0</td>\n",
       "      <td>0</td>\n",
       "      <td>1</td>\n",
       "    </tr>\n",
       "    <tr>\n",
       "      <th>2</th>\n",
       "      <td>9800</td>\n",
       "      <td>2004</td>\n",
       "      <td>163</td>\n",
       "      <td>125000</td>\n",
       "      <td>8</td>\n",
       "      <td>0</td>\n",
       "      <td>0</td>\n",
       "      <td>0</td>\n",
       "      <td>0</td>\n",
       "      <td>0</td>\n",
       "      <td>...</td>\n",
       "      <td>0</td>\n",
       "      <td>0</td>\n",
       "      <td>0</td>\n",
       "      <td>0</td>\n",
       "      <td>0</td>\n",
       "      <td>0</td>\n",
       "      <td>0</td>\n",
       "      <td>0</td>\n",
       "      <td>1</td>\n",
       "      <td>0</td>\n",
       "    </tr>\n",
       "    <tr>\n",
       "      <th>3</th>\n",
       "      <td>1500</td>\n",
       "      <td>2001</td>\n",
       "      <td>75</td>\n",
       "      <td>150000</td>\n",
       "      <td>6</td>\n",
       "      <td>0</td>\n",
       "      <td>0</td>\n",
       "      <td>0</td>\n",
       "      <td>0</td>\n",
       "      <td>0</td>\n",
       "      <td>...</td>\n",
       "      <td>0</td>\n",
       "      <td>0</td>\n",
       "      <td>0</td>\n",
       "      <td>0</td>\n",
       "      <td>0</td>\n",
       "      <td>0</td>\n",
       "      <td>1</td>\n",
       "      <td>0</td>\n",
       "      <td>1</td>\n",
       "      <td>0</td>\n",
       "    </tr>\n",
       "    <tr>\n",
       "      <th>4</th>\n",
       "      <td>3600</td>\n",
       "      <td>2008</td>\n",
       "      <td>69</td>\n",
       "      <td>90000</td>\n",
       "      <td>7</td>\n",
       "      <td>0</td>\n",
       "      <td>0</td>\n",
       "      <td>0</td>\n",
       "      <td>0</td>\n",
       "      <td>0</td>\n",
       "      <td>...</td>\n",
       "      <td>0</td>\n",
       "      <td>0</td>\n",
       "      <td>0</td>\n",
       "      <td>0</td>\n",
       "      <td>0</td>\n",
       "      <td>0</td>\n",
       "      <td>0</td>\n",
       "      <td>0</td>\n",
       "      <td>1</td>\n",
       "      <td>0</td>\n",
       "    </tr>\n",
       "    <tr>\n",
       "      <th>...</th>\n",
       "      <td>...</td>\n",
       "      <td>...</td>\n",
       "      <td>...</td>\n",
       "      <td>...</td>\n",
       "      <td>...</td>\n",
       "      <td>...</td>\n",
       "      <td>...</td>\n",
       "      <td>...</td>\n",
       "      <td>...</td>\n",
       "      <td>...</td>\n",
       "      <td>...</td>\n",
       "      <td>...</td>\n",
       "      <td>...</td>\n",
       "      <td>...</td>\n",
       "      <td>...</td>\n",
       "      <td>...</td>\n",
       "      <td>...</td>\n",
       "      <td>...</td>\n",
       "      <td>...</td>\n",
       "      <td>...</td>\n",
       "      <td>...</td>\n",
       "    </tr>\n",
       "    <tr>\n",
       "      <th>341045</th>\n",
       "      <td>1150</td>\n",
       "      <td>2000</td>\n",
       "      <td>50</td>\n",
       "      <td>150000</td>\n",
       "      <td>3</td>\n",
       "      <td>1</td>\n",
       "      <td>0</td>\n",
       "      <td>0</td>\n",
       "      <td>0</td>\n",
       "      <td>0</td>\n",
       "      <td>...</td>\n",
       "      <td>0</td>\n",
       "      <td>0</td>\n",
       "      <td>0</td>\n",
       "      <td>0</td>\n",
       "      <td>0</td>\n",
       "      <td>0</td>\n",
       "      <td>0</td>\n",
       "      <td>0</td>\n",
       "      <td>1</td>\n",
       "      <td>0</td>\n",
       "    </tr>\n",
       "    <tr>\n",
       "      <th>341046</th>\n",
       "      <td>2200</td>\n",
       "      <td>2005</td>\n",
       "      <td>50</td>\n",
       "      <td>20000</td>\n",
       "      <td>1</td>\n",
       "      <td>0</td>\n",
       "      <td>0</td>\n",
       "      <td>0</td>\n",
       "      <td>0</td>\n",
       "      <td>1</td>\n",
       "      <td>...</td>\n",
       "      <td>0</td>\n",
       "      <td>1</td>\n",
       "      <td>0</td>\n",
       "      <td>0</td>\n",
       "      <td>0</td>\n",
       "      <td>0</td>\n",
       "      <td>0</td>\n",
       "      <td>0</td>\n",
       "      <td>1</td>\n",
       "      <td>0</td>\n",
       "    </tr>\n",
       "    <tr>\n",
       "      <th>341047</th>\n",
       "      <td>1199</td>\n",
       "      <td>2000</td>\n",
       "      <td>101</td>\n",
       "      <td>125000</td>\n",
       "      <td>3</td>\n",
       "      <td>0</td>\n",
       "      <td>1</td>\n",
       "      <td>0</td>\n",
       "      <td>0</td>\n",
       "      <td>0</td>\n",
       "      <td>...</td>\n",
       "      <td>1</td>\n",
       "      <td>0</td>\n",
       "      <td>0</td>\n",
       "      <td>0</td>\n",
       "      <td>0</td>\n",
       "      <td>0</td>\n",
       "      <td>0</td>\n",
       "      <td>0</td>\n",
       "      <td>1</td>\n",
       "      <td>0</td>\n",
       "    </tr>\n",
       "    <tr>\n",
       "      <th>341048</th>\n",
       "      <td>9200</td>\n",
       "      <td>1996</td>\n",
       "      <td>102</td>\n",
       "      <td>150000</td>\n",
       "      <td>3</td>\n",
       "      <td>1</td>\n",
       "      <td>0</td>\n",
       "      <td>0</td>\n",
       "      <td>0</td>\n",
       "      <td>0</td>\n",
       "      <td>...</td>\n",
       "      <td>0</td>\n",
       "      <td>0</td>\n",
       "      <td>0</td>\n",
       "      <td>0</td>\n",
       "      <td>0</td>\n",
       "      <td>0</td>\n",
       "      <td>1</td>\n",
       "      <td>0</td>\n",
       "      <td>1</td>\n",
       "      <td>0</td>\n",
       "    </tr>\n",
       "    <tr>\n",
       "      <th>341049</th>\n",
       "      <td>3400</td>\n",
       "      <td>2002</td>\n",
       "      <td>100</td>\n",
       "      <td>150000</td>\n",
       "      <td>6</td>\n",
       "      <td>0</td>\n",
       "      <td>0</td>\n",
       "      <td>0</td>\n",
       "      <td>0</td>\n",
       "      <td>0</td>\n",
       "      <td>...</td>\n",
       "      <td>0</td>\n",
       "      <td>0</td>\n",
       "      <td>0</td>\n",
       "      <td>0</td>\n",
       "      <td>0</td>\n",
       "      <td>0</td>\n",
       "      <td>1</td>\n",
       "      <td>0</td>\n",
       "      <td>1</td>\n",
       "      <td>0</td>\n",
       "    </tr>\n",
       "  </tbody>\n",
       "</table>\n",
       "<p>341050 rows × 314 columns</p>\n",
       "</div>"
      ],
      "text/plain": [
       "        Price  RegistrationYear  Power  Kilometer  RegistrationMonth  \\\n",
       "0         480              1993     50     150000                  1   \n",
       "1       18300              2011    190     125000                  5   \n",
       "2        9800              2004    163     125000                  8   \n",
       "3        1500              2001     75     150000                  6   \n",
       "4        3600              2008     69      90000                  7   \n",
       "...       ...               ...    ...        ...                ...   \n",
       "341045   1150              2000     50     150000                  3   \n",
       "341046   2200              2005     50      20000                  1   \n",
       "341047   1199              2000    101     125000                  3   \n",
       "341048   9200              1996    102     150000                  3   \n",
       "341049   3400              2002    100     150000                  6   \n",
       "\n",
       "        VehicleType_bus  VehicleType_convertible  VehicleType_coupe  \\\n",
       "0                     0                        0                  0   \n",
       "1                     0                        0                  1   \n",
       "2                     0                        0                  0   \n",
       "3                     0                        0                  0   \n",
       "4                     0                        0                  0   \n",
       "...                 ...                      ...                ...   \n",
       "341045                1                        0                  0   \n",
       "341046                0                        0                  0   \n",
       "341047                0                        1                  0   \n",
       "341048                1                        0                  0   \n",
       "341049                0                        0                  0   \n",
       "\n",
       "        VehicleType_other  VehicleType_sedan  ...  Brand_smart  \\\n",
       "0                       0                  1  ...            0   \n",
       "1                       0                  0  ...            0   \n",
       "2                       0                  0  ...            0   \n",
       "3                       0                  0  ...            0   \n",
       "4                       0                  0  ...            0   \n",
       "...                   ...                ...  ...          ...   \n",
       "341045                  0                  0  ...            0   \n",
       "341046                  0                  1  ...            0   \n",
       "341047                  0                  0  ...            1   \n",
       "341048                  0                  0  ...            0   \n",
       "341049                  0                  0  ...            0   \n",
       "\n",
       "        Brand_sonstige_autos  Brand_subaru  Brand_suzuki  Brand_toyota  \\\n",
       "0                          0             0             0             0   \n",
       "1                          0             0             0             0   \n",
       "2                          0             0             0             0   \n",
       "3                          0             0             0             0   \n",
       "4                          0             0             0             0   \n",
       "...                      ...           ...           ...           ...   \n",
       "341045                     0             0             0             0   \n",
       "341046                     1             0             0             0   \n",
       "341047                     0             0             0             0   \n",
       "341048                     0             0             0             0   \n",
       "341049                     0             0             0             0   \n",
       "\n",
       "        Brand_trabant  Brand_volkswagen  Brand_volvo  NotRepaired_no  \\\n",
       "0                   0                 1            0               1   \n",
       "1                   0                 0            0               0   \n",
       "2                   0                 0            0               1   \n",
       "3                   0                 1            0               1   \n",
       "4                   0                 0            0               1   \n",
       "...               ...               ...          ...             ...   \n",
       "341045              0                 0            0               1   \n",
       "341046              0                 0            0               1   \n",
       "341047              0                 0            0               1   \n",
       "341048              0                 1            0               1   \n",
       "341049              0                 1            0               1   \n",
       "\n",
       "        NotRepaired_yes  \n",
       "0                     0  \n",
       "1                     1  \n",
       "2                     0  \n",
       "3                     0  \n",
       "4                     0  \n",
       "...                 ...  \n",
       "341045                0  \n",
       "341046                0  \n",
       "341047                0  \n",
       "341048                0  \n",
       "341049                0  \n",
       "\n",
       "[341050 rows x 314 columns]"
      ]
     },
     "execution_count": 16,
     "metadata": {},
     "output_type": "execute_result"
    }
   ],
   "source": [
    "autos_nom = autos.copy()\n",
    "autos_nom = pd.get_dummies(autos_nom)\n",
    "autos_nom"
   ]
  },
  {
   "cell_type": "markdown",
   "metadata": {},
   "source": [
    "### Подготовка к обучению"
   ]
  },
  {
   "cell_type": "markdown",
   "metadata": {},
   "source": [
    "Выделим признаки и целевой признак"
   ]
  },
  {
   "cell_type": "code",
   "execution_count": 17,
   "metadata": {},
   "outputs": [],
   "source": [
    "features = autos.drop('Price', axis=1)\n",
    "target = autos['Price']"
   ]
  },
  {
   "cell_type": "markdown",
   "metadata": {},
   "source": [
    "Выделим признаки и целевой признак с переведенными категорийными данными"
   ]
  },
  {
   "cell_type": "code",
   "execution_count": 18,
   "metadata": {},
   "outputs": [],
   "source": [
    "features_nom = autos_nom.drop('Price', axis=1)\n",
    "target_nom = autos_nom['Price']"
   ]
  },
  {
   "cell_type": "markdown",
   "metadata": {},
   "source": [
    "Разделим датасет на обучающую, валидационную и тестовые выборки с переведенными категорийными данными"
   ]
  },
  {
   "cell_type": "code",
   "execution_count": 19,
   "metadata": {},
   "outputs": [
    {
     "data": {
      "text/plain": [
       "'Размер обучающей выборки с переведенными категорийными данными: (204630, 313)'"
      ]
     },
     "execution_count": 19,
     "metadata": {},
     "output_type": "execute_result"
    }
   ],
   "source": [
    "features_train_nom, features_test_nom, target_train_nom, target_test_nom = train_test_split(features_nom, target_nom, test_size=0.4, random_state=12345)\n",
    "f\"Размер обучающей выборки с переведенными категорийными данными: {features_train_nom.shape}\""
   ]
  },
  {
   "cell_type": "code",
   "execution_count": 20,
   "metadata": {},
   "outputs": [
    {
     "data": {
      "text/plain": [
       "'Размер обучающей выборки с переведенными категорийными данными: (204630, 313)'"
      ]
     },
     "execution_count": 20,
     "metadata": {},
     "output_type": "execute_result"
    }
   ],
   "source": [
    "features_test_nom, features_valid_nom, target_test_nom, target_valid_nom = train_test_split(features_test_nom, target_test_nom, test_size=0.5, random_state=12345)\n",
    "f\"Размер обучающей выборки с переведенными категорийными данными: {features_train_nom.shape}\""
   ]
  },
  {
   "cell_type": "code",
   "execution_count": 21,
   "metadata": {
    "scrolled": false
   },
   "outputs": [
    {
     "data": {
      "text/plain": [
       "'Размер тестовой выборки с переведенными категорийными данными: (68210, 313)'"
      ]
     },
     "execution_count": 21,
     "metadata": {},
     "output_type": "execute_result"
    }
   ],
   "source": [
    "f\"Размер тестовой выборки с переведенными категорийными данными: {features_test_nom.shape}\""
   ]
  },
  {
   "cell_type": "markdown",
   "metadata": {},
   "source": []
  },
  {
   "cell_type": "markdown",
   "metadata": {},
   "source": [
    "Разделим исходные данные на обучающую, валидационную и тестовую выборки.\n",
    "Сначала разделим исходный датасет на обучающую и валидационную выборки в пропорции 60% и 40%. Затем разделим валидационную выборку пополам на валидационную и тестовую. "
   ]
  },
  {
   "cell_type": "code",
   "execution_count": 22,
   "metadata": {},
   "outputs": [],
   "source": [
    "features_train, features_valid, target_train, target_valid = train_test_split(features, target, test_size=0.25, random_state=12345)\n"
   ]
  },
  {
   "cell_type": "code",
   "execution_count": 23,
   "metadata": {},
   "outputs": [
    {
     "data": {
      "text/plain": [
       "'Размер обучающей выборки: (255787, 10)'"
      ]
     },
     "execution_count": 23,
     "metadata": {},
     "output_type": "execute_result"
    }
   ],
   "source": [
    "features_train, features_test, target_train, target_test = train_test_split(features, target, test_size=0.25, random_state=12345)\n",
    "f\"Размер обучающей выборки: {features_train.shape}\""
   ]
  },
  {
   "cell_type": "code",
   "execution_count": 24,
   "metadata": {},
   "outputs": [
    {
     "data": {
      "text/plain": [
       "'Размер тестовой выборки: (85263, 10)'"
      ]
     },
     "execution_count": 24,
     "metadata": {},
     "output_type": "execute_result"
    }
   ],
   "source": [
    "f\"Размер тестовой выборки: {features_test.shape}\""
   ]
  },
  {
   "cell_type": "markdown",
   "metadata": {},
   "source": [
    "**Вывод**\n",
    "\n",
    "Были загружены необходимые для работы библиотеки. Далее был открыт предоставленный датасет и изучен на предмет аномалий в данных, пропусков и дубликатов. В результате были проделаны следующие действия:\n",
    "\n",
    "- в столбцах с категорийными данными строки с пропусками были заполнены, используя моду;\n",
    "- в столбце RegistrationMonth нулевые значения были заменены на 1;\n",
    "- в столбце Price нулевые значения были удалены, чтобы не исказить полученный результат, так как Price это цель проекта;\n",
    "- в столбце RegistrationYear минимальное значение сделали 1950, а максимальное 2021;\n",
    "- в столбце Power минимальное значение сделали 50, а максимальное 1000;\n",
    "- датасет был проверен на наличие дубликатов;\n",
    "- из-за малого количества дубликаты были удалены;\n",
    "- были удалены не представляющие ценности данные, а именно столбцы DateCrawled, DateCreated, NumberOfPictures, PostalCode, LastSeen;\n",
    "- Датасет был разделен на обучающую и тестовую выборки с переведенными категорийными данными и без.\n",
    "\n",
    "Датасет готов к дальнейшей работе"
   ]
  },
  {
   "cell_type": "markdown",
   "metadata": {},
   "source": [
    "## Обучение моделей"
   ]
  },
  {
   "cell_type": "markdown",
   "metadata": {},
   "source": [
    "Обучение будет происходить используя различные модели."
   ]
  },
  {
   "cell_type": "markdown",
   "metadata": {},
   "source": [
    "### Линейная регрессия"
   ]
  },
  {
   "cell_type": "code",
   "execution_count": 25,
   "metadata": {},
   "outputs": [
    {
     "name": "stdout",
     "output_type": "stream",
     "text": [
      "CPU times: user 42.6 s, sys: 19.1 s, total: 1min 1s\n",
      "Wall time: 1min 1s\n"
     ]
    }
   ],
   "source": [
    "%%time\n",
    "LR = LinearRegression()\n",
    "mse = cross_val_score(LR, features_train_nom, target_train_nom, cv=5, scoring='neg_mean_squared_error')"
   ]
  },
  {
   "cell_type": "code",
   "execution_count": 26,
   "metadata": {
    "scrolled": true
   },
   "outputs": [
    {
     "name": "stdout",
     "output_type": "stream",
     "text": [
      "RMSE модели линейной регрессии на валидационной выборке: 2807.09\n",
      "CPU times: user 389 µs, sys: 166 µs, total: 555 µs\n",
      "Wall time: 189 µs\n"
     ]
    }
   ],
   "source": [
    "%%time\n",
    "result = round((-mse.mean()) ** 0.5, 2)\n",
    "print(\"RMSE модели линейной регрессии на валидационной выборке:\", result)"
   ]
  },
  {
   "cell_type": "code",
   "execution_count": 27,
   "metadata": {
    "scrolled": true
   },
   "outputs": [
    {
     "name": "stdout",
     "output_type": "stream",
     "text": [
      "CPU times: user 10.6 s, sys: 4.8 s, total: 15.4 s\n",
      "Wall time: 15.5 s\n"
     ]
    },
    {
     "data": {
      "text/plain": [
       "LinearRegression()"
      ]
     },
     "execution_count": 27,
     "metadata": {},
     "output_type": "execute_result"
    }
   ],
   "source": [
    "%%time\n",
    "LR=LinearRegression()\n",
    "LR.fit(features_train_nom, target_train_nom)"
   ]
  },
  {
   "cell_type": "code",
   "execution_count": 28,
   "metadata": {},
   "outputs": [
    {
     "name": "stdout",
     "output_type": "stream",
     "text": [
      "CPU times: user 108 ms, sys: 90.3 ms, total: 198 ms\n",
      "Wall time: 194 ms\n"
     ]
    }
   ],
   "source": [
    "%%time\n",
    "predicted_valid = LR.predict(features_valid_nom)"
   ]
  },
  {
   "cell_type": "markdown",
   "metadata": {},
   "source": [
    "###  LightGBM"
   ]
  },
  {
   "cell_type": "markdown",
   "metadata": {},
   "source": []
  },
  {
   "cell_type": "code",
   "execution_count": 29,
   "metadata": {
    "scrolled": true
   },
   "outputs": [
    {
     "name": "stdout",
     "output_type": "stream",
     "text": [
      "CPU times: user 651 µs, sys: 284 µs, total: 935 µs\n",
      "Wall time: 121 µs\n"
     ]
    }
   ],
   "source": [
    "%%time\n",
    "\n",
    "autos_train = lightgbm.Dataset(features_train_nom, label=target_train_nom, free_raw_data=False, categorical_feature=categorical_features)\n",
    "autos_test = lightgbm.Dataset(features_test_nom, label=target_test_nom)\n",
    "param_grid = {'learning_rate':[0.1, 0.3, 0.5, 0.7],\n",
    "             'max_depth':[15,20,25,30],\n",
    "             }\n",
    "\n",
    "LGB = lightgbm.LGBMRegressor(n_jobs=7)\n",
    "\n",
    "grid_search = GridSearchCV(estimator=LGB,\n",
    "                          param_grid=param_grid,\n",
    "                          cv=3,\n",
    "                          n_jobs=-1,\n",
    "                          verbose=0,\n",
    "                          scoring='neg_mean_squared_error',\n",
    "                          )\n",
    "\n"
   ]
  },
  {
   "cell_type": "code",
   "execution_count": 30,
   "metadata": {
    "scrolled": true
   },
   "outputs": [
    {
     "name": "stdout",
     "output_type": "stream",
     "text": [
      "CPU times: user 3min 46s, sys: 9.59 s, total: 3min 55s\n",
      "Wall time: 3min 56s\n"
     ]
    },
    {
     "data": {
      "text/plain": [
       "GridSearchCV(cv=3, estimator=LGBMRegressor(n_jobs=7), n_jobs=-1,\n",
       "             param_grid={'learning_rate': [0.1, 0.3, 0.5, 0.7],\n",
       "                         'max_depth': [15, 20, 25, 30]},\n",
       "             scoring='neg_mean_squared_error')"
      ]
     },
     "execution_count": 30,
     "metadata": {},
     "output_type": "execute_result"
    }
   ],
   "source": [
    "%%time\n",
    "grid_search.fit(features_train_nom, target_train_nom)"
   ]
  },
  {
   "cell_type": "code",
   "execution_count": 31,
   "metadata": {},
   "outputs": [
    {
     "data": {
      "text/plain": [
       "{'learning_rate': 0.5, 'max_depth': 15}"
      ]
     },
     "execution_count": 31,
     "metadata": {},
     "output_type": "execute_result"
    }
   ],
   "source": [
    "grid_search.best_params_"
   ]
  },
  {
   "cell_type": "code",
   "execution_count": 32,
   "metadata": {},
   "outputs": [
    {
     "data": {
      "text/plain": [
       "'RMSE для LightGBM модели на валидационной выборке: 1701.976437'"
      ]
     },
     "execution_count": 32,
     "metadata": {},
     "output_type": "execute_result"
    }
   ],
   "source": [
    "'RMSE для LightGBM модели на валидационной выборке: {:2f}'.format((-grid_search.best_score_)**0.5)"
   ]
  },
  {
   "cell_type": "code",
   "execution_count": 33,
   "metadata": {},
   "outputs": [
    {
     "name": "stdout",
     "output_type": "stream",
     "text": [
      "CPU times: user 553 ms, sys: 66.8 ms, total: 619 ms\n",
      "Wall time: 679 ms\n"
     ]
    }
   ],
   "source": [
    "%%time\n",
    "predictions_LGBM = grid_search.best_estimator_.predict(features_valid_nom)"
   ]
  },
  {
   "cell_type": "markdown",
   "metadata": {},
   "source": [
    "### RandomForestRegressor"
   ]
  },
  {
   "cell_type": "markdown",
   "metadata": {},
   "source": [
    "Для модели RandomForestRegressor преобразуем категорийные данные в числовые используя Ordinal Encoder"
   ]
  },
  {
   "cell_type": "code",
   "execution_count": 34,
   "metadata": {},
   "outputs": [],
   "source": [
    "encoder = OrdinalEncoder()\n",
    "autos_ordinal = autos.copy()\n",
    "autos_ordinal[categorical_features] = pd.DataFrame(encoder.fit_transform(autos[categorical_features]),\n",
    "                            columns=categorical_features)\n",
    "\n",
    "features_ord = autos_ordinal.drop('Price', axis=1)\n",
    "target_ord = autos_ordinal['Price']"
   ]
  },
  {
   "cell_type": "code",
   "execution_count": 35,
   "metadata": {},
   "outputs": [],
   "source": [
    "features_train_ord, features_test_ord, target_train_ord, target_test_ord = train_test_split(features_ord, target_ord, test_size=0.4, random_state=12345)\n",
    "\n",
    "features_test_ord, features_valid_ord, target_test_ord, target_valid_ord = train_test_split(features_test_ord, target_test_ord, test_size=0.5, random_state=12345)\n"
   ]
  },
  {
   "cell_type": "code",
   "execution_count": 36,
   "metadata": {
    "scrolled": true
   },
   "outputs": [
    {
     "name": "stdout",
     "output_type": "stream",
     "text": [
      "CPU times: user 2 µs, sys: 0 ns, total: 2 µs\n",
      "Wall time: 5.72 µs\n"
     ]
    },
    {
     "data": {
      "text/plain": [
       "RandomForestRegressor()"
      ]
     },
     "execution_count": 36,
     "metadata": {},
     "output_type": "execute_result"
    }
   ],
   "source": [
    "%time\n",
    "model = RandomForestRegressor()\n",
    "model.fit(features_train_ord, target_train_ord)"
   ]
  },
  {
   "cell_type": "code",
   "execution_count": 37,
   "metadata": {},
   "outputs": [
    {
     "name": "stdout",
     "output_type": "stream",
     "text": [
      "CPU times: user 2.88 s, sys: 6.37 ms, total: 2.88 s\n",
      "Wall time: 2.89 s\n"
     ]
    }
   ],
   "source": [
    "%%time\n",
    "predictions_valid = model.predict(features_valid_ord)"
   ]
  },
  {
   "cell_type": "code",
   "execution_count": 38,
   "metadata": {},
   "outputs": [
    {
     "name": "stdout",
     "output_type": "stream",
     "text": [
      "RMSE для модели RandomForestRegressor на валидационной выборке: 1670.6113999397764\n",
      "CPU times: user 2.72 ms, sys: 0 ns, total: 2.72 ms\n",
      "Wall time: 1.54 ms\n"
     ]
    }
   ],
   "source": [
    "%%time\n",
    "result = (mean_squared_error(target_valid_ord, predictions_valid))**0.5\n",
    "print('RMSE для модели RandomForestRegressor на валидационной выборке:', result)"
   ]
  },
  {
   "cell_type": "markdown",
   "metadata": {},
   "source": [
    "## Анализ моделей"
   ]
  },
  {
   "cell_type": "markdown",
   "metadata": {},
   "source": [
    "Как мы уже писали в начале проекта заказчику важны 3 критерия:\n",
    "\n",
    "- качество предсказания;\n",
    "- скорость предсказания;\n",
    "- время обучения.\n",
    "\n",
    "Мы подобрали гиперпараметры и обучили 3 модели и на основании проделанной работы можем подвести следующий итог:\n",
    "\n",
    "- среднееквадратическая ошибка модели Линейной регрессии составила 2807.09, время предказания  составило 222 ms, обучился метод за 19.2 s;\n",
    "- среднееквадратическая ошибка модели LightGBM составила 1701,97, время предказания  составило 587 ms, обучился метод за 14min 51s;\n",
    "- среднееквадратическая ошибка модели RandomForestRegressor составила 1671.99, время предказания  составило 2.88 s, обучился метод за 5.96 µs.\n",
    "\n",
    "Таким образом мы делаем вывод, что из 3 выбранных нами моделей лучший результат у модели RandomForestRegressor"
   ]
  },
  {
   "cell_type": "markdown",
   "metadata": {},
   "source": [
    "Проверим качество предсказания, скорость предсказания и время обучения модели RandomForestRegressor на тестовой выборке "
   ]
  },
  {
   "cell_type": "code",
   "execution_count": 39,
   "metadata": {},
   "outputs": [
    {
     "name": "stdout",
     "output_type": "stream",
     "text": [
      "RMSE для модели RandomForestRegressor на тестовой выборке: 1671.0393954594597\n"
     ]
    }
   ],
   "source": [
    "model = RandomForestRegressor()\n",
    "model.fit(features_train_ord, target_train_ord)\n",
    "predictions_test = model.predict(features_test_ord)\n",
    "result = (mean_squared_error(target_test_ord, predictions_test))**0.5\n",
    "print('RMSE для модели RandomForestRegressor на тестовой выборке:', result)"
   ]
  },
  {
   "cell_type": "markdown",
   "metadata": {},
   "source": [
    "Как мы можем видеть разница в результате проверки качества предсказания на разных выборках практически отсутствует!"
   ]
  }
 ],
 "metadata": {
  "ExecuteTimeLog": [
   {
    "duration": 389,
    "start_time": "2022-08-17T10:51:43.376Z"
   },
   {
    "duration": 1303,
    "start_time": "2022-08-17T10:53:44.447Z"
   },
   {
    "duration": 869,
    "start_time": "2022-08-17T10:55:08.925Z"
   },
   {
    "duration": 868,
    "start_time": "2022-08-17T10:55:12.486Z"
   },
   {
    "duration": 351,
    "start_time": "2022-08-17T10:58:38.287Z"
   },
   {
    "duration": 504,
    "start_time": "2022-08-17T10:59:54.577Z"
   },
   {
    "duration": 71,
    "start_time": "2022-08-17T11:00:14.386Z"
   },
   {
    "duration": 545,
    "start_time": "2022-08-17T11:06:56.379Z"
   },
   {
    "duration": 29,
    "start_time": "2022-08-17T11:08:06.529Z"
   },
   {
    "duration": 16,
    "start_time": "2022-08-17T11:10:26.033Z"
   },
   {
    "duration": 3,
    "start_time": "2022-08-17T11:13:08.724Z"
   },
   {
    "duration": 54,
    "start_time": "2022-08-17T11:13:17.344Z"
   },
   {
    "duration": 64,
    "start_time": "2022-08-17T11:13:41.293Z"
   },
   {
    "duration": 58,
    "start_time": "2022-08-17T11:13:49.024Z"
   },
   {
    "duration": 54,
    "start_time": "2022-08-17T11:17:20.743Z"
   },
   {
    "duration": 60,
    "start_time": "2022-08-17T11:18:13.344Z"
   },
   {
    "duration": 78,
    "start_time": "2022-08-17T11:18:53.946Z"
   },
   {
    "duration": 88,
    "start_time": "2022-08-17T11:19:37.556Z"
   },
   {
    "duration": 69,
    "start_time": "2022-08-17T11:25:57.685Z"
   },
   {
    "duration": 241,
    "start_time": "2022-08-17T11:26:24.066Z"
   },
   {
    "duration": 218,
    "start_time": "2022-08-17T11:27:23.353Z"
   },
   {
    "duration": 206,
    "start_time": "2022-08-17T11:30:03.155Z"
   },
   {
    "duration": 235,
    "start_time": "2022-08-17T11:32:19.196Z"
   },
   {
    "duration": 70,
    "start_time": "2022-08-17T11:37:38.524Z"
   },
   {
    "duration": 76,
    "start_time": "2022-08-17T11:38:20.553Z"
   },
   {
    "duration": 21,
    "start_time": "2022-08-17T11:43:26.475Z"
   },
   {
    "duration": 54,
    "start_time": "2022-08-17T11:43:50.874Z"
   },
   {
    "duration": 313,
    "start_time": "2022-08-17T11:44:23.686Z"
   },
   {
    "duration": 133,
    "start_time": "2022-08-17T11:47:08.431Z"
   },
   {
    "duration": 101,
    "start_time": "2022-08-17T11:47:22.255Z"
   },
   {
    "duration": 4,
    "start_time": "2022-08-17T11:52:17.443Z"
   },
   {
    "duration": 4,
    "start_time": "2022-08-17T11:54:58.869Z"
   },
   {
    "duration": 145,
    "start_time": "2022-08-17T11:55:15.324Z"
   },
   {
    "duration": 84,
    "start_time": "2022-08-17T11:55:34.928Z"
   },
   {
    "duration": 4,
    "start_time": "2022-08-17T11:56:57.944Z"
   },
   {
    "duration": 69,
    "start_time": "2022-08-17T11:57:04.286Z"
   },
   {
    "duration": 49,
    "start_time": "2022-08-17T11:57:11.446Z"
   },
   {
    "duration": 4,
    "start_time": "2022-08-17T11:57:15.528Z"
   },
   {
    "duration": 53,
    "start_time": "2022-08-17T11:57:26.344Z"
   },
   {
    "duration": 55,
    "start_time": "2022-08-17T11:57:32.072Z"
   },
   {
    "duration": 51,
    "start_time": "2022-08-17T11:57:41.524Z"
   },
   {
    "duration": 28,
    "start_time": "2022-08-17T11:57:48.464Z"
   },
   {
    "duration": 56,
    "start_time": "2022-08-17T11:58:02.026Z"
   },
   {
    "duration": 108,
    "start_time": "2022-08-17T11:58:07.984Z"
   },
   {
    "duration": 147,
    "start_time": "2022-08-17T13:41:04.499Z"
   },
   {
    "duration": 134,
    "start_time": "2022-08-17T13:41:55.807Z"
   },
   {
    "duration": 250,
    "start_time": "2022-08-17T13:42:03.085Z"
   },
   {
    "duration": 233,
    "start_time": "2022-08-17T13:42:28.729Z"
   },
   {
    "duration": 398,
    "start_time": "2022-08-17T13:43:32.340Z"
   },
   {
    "duration": 12,
    "start_time": "2022-08-17T13:45:20.447Z"
   },
   {
    "duration": 6,
    "start_time": "2022-08-17T14:02:45.799Z"
   },
   {
    "duration": 95,
    "start_time": "2022-08-17T14:03:02.927Z"
   },
   {
    "duration": 9,
    "start_time": "2022-08-17T14:03:52.077Z"
   },
   {
    "duration": 9,
    "start_time": "2022-08-17T14:04:19.059Z"
   },
   {
    "duration": 9,
    "start_time": "2022-08-17T14:04:43.867Z"
   },
   {
    "duration": 9,
    "start_time": "2022-08-17T14:04:58.277Z"
   },
   {
    "duration": 8,
    "start_time": "2022-08-17T14:05:02.838Z"
   },
   {
    "duration": 8,
    "start_time": "2022-08-17T14:05:10.007Z"
   },
   {
    "duration": 455,
    "start_time": "2022-08-18T06:05:17.272Z"
   },
   {
    "duration": 1400,
    "start_time": "2022-08-18T06:05:20.015Z"
   },
   {
    "duration": 22,
    "start_time": "2022-08-18T06:13:05.728Z"
   },
   {
    "duration": 23,
    "start_time": "2022-08-18T06:16:47.489Z"
   },
   {
    "duration": 95,
    "start_time": "2022-08-18T06:19:41.664Z"
   },
   {
    "duration": 130,
    "start_time": "2022-08-18T06:20:02.949Z"
   },
   {
    "duration": 62,
    "start_time": "2022-08-18T06:24:23.219Z"
   },
   {
    "duration": 83,
    "start_time": "2022-08-18T06:24:52.749Z"
   },
   {
    "duration": 136,
    "start_time": "2022-08-18T06:24:57.914Z"
   },
   {
    "duration": 91,
    "start_time": "2022-08-18T06:27:48.170Z"
   },
   {
    "duration": 22,
    "start_time": "2022-08-18T06:55:35.324Z"
   },
   {
    "duration": 7,
    "start_time": "2022-08-18T06:58:58.729Z"
   },
   {
    "duration": 92,
    "start_time": "2022-08-18T06:59:11.770Z"
   },
   {
    "duration": 5,
    "start_time": "2022-08-18T07:00:44.357Z"
   },
   {
    "duration": 54,
    "start_time": "2022-08-18T07:07:08.466Z"
   },
   {
    "duration": 102,
    "start_time": "2022-08-18T07:07:15.300Z"
   },
   {
    "duration": 61,
    "start_time": "2022-08-18T07:07:17.820Z"
   },
   {
    "duration": 84,
    "start_time": "2022-08-18T07:07:28.634Z"
   },
   {
    "duration": 112,
    "start_time": "2022-08-18T07:07:31.960Z"
   },
   {
    "duration": 3,
    "start_time": "2022-08-18T07:09:11.739Z"
   },
   {
    "duration": 77,
    "start_time": "2022-08-18T07:09:38.759Z"
   },
   {
    "duration": 381,
    "start_time": "2022-08-18T07:11:33.297Z"
   },
   {
    "duration": 888,
    "start_time": "2022-08-18T07:11:33.680Z"
   },
   {
    "duration": 81,
    "start_time": "2022-08-18T07:11:34.570Z"
   },
   {
    "duration": 134,
    "start_time": "2022-08-18T07:11:34.653Z"
   },
   {
    "duration": 8,
    "start_time": "2022-08-18T07:11:34.788Z"
   },
   {
    "duration": 113,
    "start_time": "2022-08-18T07:11:34.797Z"
   },
   {
    "duration": 114,
    "start_time": "2022-08-18T07:11:34.912Z"
   },
   {
    "duration": 106,
    "start_time": "2022-08-18T07:11:35.027Z"
   },
   {
    "duration": 89,
    "start_time": "2022-08-18T07:11:35.134Z"
   },
   {
    "duration": 414,
    "start_time": "2022-08-18T07:11:35.226Z"
   },
   {
    "duration": 720,
    "start_time": "2022-08-18T07:11:35.642Z"
   },
   {
    "duration": 15,
    "start_time": "2022-08-18T07:11:36.364Z"
   },
   {
    "duration": 309,
    "start_time": "2022-08-18T07:11:36.387Z"
   },
   {
    "duration": 355,
    "start_time": "2022-08-18T07:13:09.745Z"
   },
   {
    "duration": 948,
    "start_time": "2022-08-18T07:13:10.103Z"
   },
   {
    "duration": 87,
    "start_time": "2022-08-18T07:13:11.053Z"
   },
   {
    "duration": 99,
    "start_time": "2022-08-18T07:13:11.142Z"
   },
   {
    "duration": 8,
    "start_time": "2022-08-18T07:13:11.242Z"
   },
   {
    "duration": 114,
    "start_time": "2022-08-18T07:13:11.252Z"
   },
   {
    "duration": 113,
    "start_time": "2022-08-18T07:13:11.368Z"
   },
   {
    "duration": 103,
    "start_time": "2022-08-18T07:13:11.483Z"
   },
   {
    "duration": 86,
    "start_time": "2022-08-18T07:13:11.588Z"
   },
   {
    "duration": 491,
    "start_time": "2022-08-18T07:13:11.675Z"
   },
   {
    "duration": 624,
    "start_time": "2022-08-18T07:13:12.168Z"
   },
   {
    "duration": 16,
    "start_time": "2022-08-18T07:13:12.793Z"
   },
   {
    "duration": 267,
    "start_time": "2022-08-18T07:13:12.811Z"
   },
   {
    "duration": 541,
    "start_time": "2022-08-18T07:16:25.764Z"
   },
   {
    "duration": 29,
    "start_time": "2022-08-18T07:21:31.179Z"
   },
   {
    "duration": 70,
    "start_time": "2022-08-18T07:22:57.059Z"
   },
   {
    "duration": 439,
    "start_time": "2022-08-18T07:23:09.875Z"
   },
   {
    "duration": 931,
    "start_time": "2022-08-18T07:23:10.317Z"
   },
   {
    "duration": 93,
    "start_time": "2022-08-18T07:23:11.250Z"
   },
   {
    "duration": 102,
    "start_time": "2022-08-18T07:23:11.346Z"
   },
   {
    "duration": 9,
    "start_time": "2022-08-18T07:23:11.449Z"
   },
   {
    "duration": 129,
    "start_time": "2022-08-18T07:23:11.459Z"
   },
   {
    "duration": 117,
    "start_time": "2022-08-18T07:23:11.590Z"
   },
   {
    "duration": 118,
    "start_time": "2022-08-18T07:23:11.709Z"
   },
   {
    "duration": 93,
    "start_time": "2022-08-18T07:23:11.829Z"
   },
   {
    "duration": 430,
    "start_time": "2022-08-18T07:23:11.925Z"
   },
   {
    "duration": 574,
    "start_time": "2022-08-18T07:23:12.357Z"
   },
   {
    "duration": 46,
    "start_time": "2022-08-18T07:23:12.933Z"
   },
   {
    "duration": 61,
    "start_time": "2022-08-18T07:23:34.104Z"
   },
   {
    "duration": 11,
    "start_time": "2022-08-18T07:23:44.914Z"
   },
   {
    "duration": 51,
    "start_time": "2022-08-18T07:37:50.663Z"
   },
   {
    "duration": 63,
    "start_time": "2022-08-18T07:37:58.043Z"
   },
   {
    "duration": 211,
    "start_time": "2022-08-18T07:39:46.067Z"
   },
   {
    "duration": 30,
    "start_time": "2022-08-18T07:43:16.100Z"
   },
   {
    "duration": 73,
    "start_time": "2022-08-18T07:43:31.020Z"
   },
   {
    "duration": 53,
    "start_time": "2022-08-18T07:44:35.540Z"
   },
   {
    "duration": 78,
    "start_time": "2022-08-18T07:44:37.959Z"
   },
   {
    "duration": 367,
    "start_time": "2022-08-18T07:44:48.921Z"
   },
   {
    "duration": 863,
    "start_time": "2022-08-18T07:44:49.290Z"
   },
   {
    "duration": 295,
    "start_time": "2022-08-18T07:44:50.155Z"
   },
   {
    "duration": 59,
    "start_time": "2022-08-18T07:44:50.452Z"
   },
   {
    "duration": 106,
    "start_time": "2022-08-18T07:44:50.513Z"
   },
   {
    "duration": 83,
    "start_time": "2022-08-18T07:44:50.620Z"
   },
   {
    "duration": 7,
    "start_time": "2022-08-18T07:44:50.704Z"
   },
   {
    "duration": 104,
    "start_time": "2022-08-18T07:44:50.713Z"
   },
   {
    "duration": 97,
    "start_time": "2022-08-18T07:44:50.819Z"
   },
   {
    "duration": 85,
    "start_time": "2022-08-18T07:44:50.919Z"
   },
   {
    "duration": 81,
    "start_time": "2022-08-18T07:44:51.006Z"
   },
   {
    "duration": 305,
    "start_time": "2022-08-18T07:44:51.088Z"
   },
   {
    "duration": 376,
    "start_time": "2022-08-18T07:44:51.395Z"
   },
   {
    "duration": 39,
    "start_time": "2022-08-18T07:44:51.773Z"
   },
   {
    "duration": 10,
    "start_time": "2022-08-18T07:44:51.814Z"
   },
   {
    "duration": 393,
    "start_time": "2022-08-18T07:46:18.454Z"
   },
   {
    "duration": 897,
    "start_time": "2022-08-18T07:46:18.849Z"
   },
   {
    "duration": 312,
    "start_time": "2022-08-18T07:46:19.747Z"
   },
   {
    "duration": 55,
    "start_time": "2022-08-18T07:46:20.061Z"
   },
   {
    "duration": 107,
    "start_time": "2022-08-18T07:46:20.117Z"
   },
   {
    "duration": 89,
    "start_time": "2022-08-18T07:46:20.225Z"
   },
   {
    "duration": 5,
    "start_time": "2022-08-18T07:46:20.316Z"
   },
   {
    "duration": 95,
    "start_time": "2022-08-18T07:46:20.323Z"
   },
   {
    "duration": 99,
    "start_time": "2022-08-18T07:46:20.419Z"
   },
   {
    "duration": 88,
    "start_time": "2022-08-18T07:46:20.520Z"
   },
   {
    "duration": 78,
    "start_time": "2022-08-18T07:46:20.610Z"
   },
   {
    "duration": 336,
    "start_time": "2022-08-18T07:46:20.689Z"
   },
   {
    "duration": 379,
    "start_time": "2022-08-18T07:46:21.027Z"
   },
   {
    "duration": 33,
    "start_time": "2022-08-18T07:46:21.408Z"
   },
   {
    "duration": 11,
    "start_time": "2022-08-18T07:46:21.442Z"
   },
   {
    "duration": 366,
    "start_time": "2022-08-18T07:58:31.130Z"
   },
   {
    "duration": 915,
    "start_time": "2022-08-18T07:58:31.498Z"
   },
   {
    "duration": 319,
    "start_time": "2022-08-18T07:58:32.415Z"
   },
   {
    "duration": 65,
    "start_time": "2022-08-18T07:58:32.737Z"
   },
   {
    "duration": 110,
    "start_time": "2022-08-18T07:58:32.804Z"
   },
   {
    "duration": 92,
    "start_time": "2022-08-18T07:58:32.916Z"
   },
   {
    "duration": 6,
    "start_time": "2022-08-18T07:58:33.010Z"
   },
   {
    "duration": 95,
    "start_time": "2022-08-18T07:58:33.017Z"
   },
   {
    "duration": 99,
    "start_time": "2022-08-18T07:58:33.114Z"
   },
   {
    "duration": 87,
    "start_time": "2022-08-18T07:58:33.215Z"
   },
   {
    "duration": 83,
    "start_time": "2022-08-18T07:58:33.304Z"
   },
   {
    "duration": 333,
    "start_time": "2022-08-18T07:58:33.389Z"
   },
   {
    "duration": 408,
    "start_time": "2022-08-18T07:58:33.724Z"
   },
   {
    "duration": 37,
    "start_time": "2022-08-18T07:58:34.133Z"
   },
   {
    "duration": 15,
    "start_time": "2022-08-18T07:58:34.172Z"
   },
   {
    "duration": 167,
    "start_time": "2022-08-18T08:07:30.474Z"
   },
   {
    "duration": 440,
    "start_time": "2022-08-18T08:07:39.970Z"
   },
   {
    "duration": 928,
    "start_time": "2022-08-18T08:07:40.412Z"
   },
   {
    "duration": 187,
    "start_time": "2022-08-18T08:07:41.342Z"
   },
   {
    "duration": 127,
    "start_time": "2022-08-18T08:07:41.531Z"
   },
   {
    "duration": 113,
    "start_time": "2022-08-18T08:07:41.660Z"
   },
   {
    "duration": 15,
    "start_time": "2022-08-18T08:07:41.774Z"
   },
   {
    "duration": 123,
    "start_time": "2022-08-18T08:07:41.791Z"
   },
   {
    "duration": 115,
    "start_time": "2022-08-18T08:07:41.916Z"
   },
   {
    "duration": 124,
    "start_time": "2022-08-18T08:07:42.033Z"
   },
   {
    "duration": 89,
    "start_time": "2022-08-18T08:07:42.160Z"
   },
   {
    "duration": 397,
    "start_time": "2022-08-18T08:07:42.251Z"
   },
   {
    "duration": 533,
    "start_time": "2022-08-18T08:07:42.650Z"
   },
   {
    "duration": 40,
    "start_time": "2022-08-18T08:07:43.185Z"
   },
   {
    "duration": 18,
    "start_time": "2022-08-18T08:07:43.227Z"
   },
   {
    "duration": 365,
    "start_time": "2022-08-18T08:10:12.635Z"
   },
   {
    "duration": 926,
    "start_time": "2022-08-18T08:10:13.002Z"
   },
   {
    "duration": 208,
    "start_time": "2022-08-18T08:10:13.930Z"
   },
   {
    "duration": 134,
    "start_time": "2022-08-18T08:10:14.139Z"
   },
   {
    "duration": 116,
    "start_time": "2022-08-18T08:10:14.276Z"
   },
   {
    "duration": 9,
    "start_time": "2022-08-18T08:10:14.393Z"
   },
   {
    "duration": 117,
    "start_time": "2022-08-18T08:10:14.404Z"
   },
   {
    "duration": 117,
    "start_time": "2022-08-18T08:10:14.523Z"
   },
   {
    "duration": 101,
    "start_time": "2022-08-18T08:10:14.641Z"
   },
   {
    "duration": 90,
    "start_time": "2022-08-18T08:10:14.744Z"
   },
   {
    "duration": 425,
    "start_time": "2022-08-18T08:10:14.836Z"
   },
   {
    "duration": 553,
    "start_time": "2022-08-18T08:10:15.263Z"
   },
   {
    "duration": 42,
    "start_time": "2022-08-18T08:10:15.818Z"
   },
   {
    "duration": 25,
    "start_time": "2022-08-18T08:10:15.863Z"
   },
   {
    "duration": 53,
    "start_time": "2022-08-18T09:43:36.323Z"
   },
   {
    "duration": 1062,
    "start_time": "2022-08-18T09:43:44.482Z"
   },
   {
    "duration": 1087,
    "start_time": "2022-08-18T09:43:45.546Z"
   },
   {
    "duration": 173,
    "start_time": "2022-08-18T09:43:46.635Z"
   },
   {
    "duration": 133,
    "start_time": "2022-08-18T09:43:46.810Z"
   },
   {
    "duration": 108,
    "start_time": "2022-08-18T09:43:46.945Z"
   },
   {
    "duration": 73,
    "start_time": "2022-08-18T09:43:47.054Z"
   },
   {
    "duration": 5,
    "start_time": "2022-08-18T09:43:47.129Z"
   },
   {
    "duration": 105,
    "start_time": "2022-08-18T09:43:47.135Z"
   },
   {
    "duration": 125,
    "start_time": "2022-08-18T09:43:47.241Z"
   },
   {
    "duration": 103,
    "start_time": "2022-08-18T09:43:47.368Z"
   },
   {
    "duration": 377,
    "start_time": "2022-08-18T09:43:47.472Z"
   },
   {
    "duration": 445,
    "start_time": "2022-08-18T09:43:47.850Z"
   },
   {
    "duration": 34,
    "start_time": "2022-08-18T09:43:48.298Z"
   },
   {
    "duration": 10,
    "start_time": "2022-08-18T09:43:48.334Z"
   },
   {
    "duration": 106,
    "start_time": "2022-08-18T10:24:35.319Z"
   },
   {
    "duration": 22,
    "start_time": "2022-08-18T10:24:49.455Z"
   },
   {
    "duration": 63,
    "start_time": "2022-08-18T10:24:51.555Z"
   },
   {
    "duration": 57,
    "start_time": "2022-08-20T11:48:22.436Z"
   },
   {
    "duration": 12,
    "start_time": "2022-08-20T11:49:02.034Z"
   },
   {
    "duration": 1098,
    "start_time": "2022-08-20T11:49:10.236Z"
   },
   {
    "duration": 3405,
    "start_time": "2022-08-20T11:49:11.336Z"
   },
   {
    "duration": 192,
    "start_time": "2022-08-20T11:49:14.743Z"
   },
   {
    "duration": 144,
    "start_time": "2022-08-20T11:49:14.938Z"
   },
   {
    "duration": 157,
    "start_time": "2022-08-20T11:49:15.093Z"
   },
   {
    "duration": 89,
    "start_time": "2022-08-20T11:49:15.252Z"
   },
   {
    "duration": 9,
    "start_time": "2022-08-20T11:49:15.343Z"
   },
   {
    "duration": 141,
    "start_time": "2022-08-20T11:49:15.354Z"
   },
   {
    "duration": 142,
    "start_time": "2022-08-20T11:49:15.497Z"
   },
   {
    "duration": 113,
    "start_time": "2022-08-20T11:49:15.642Z"
   },
   {
    "duration": 512,
    "start_time": "2022-08-20T11:49:15.757Z"
   },
   {
    "duration": 599,
    "start_time": "2022-08-20T11:49:16.271Z"
   },
   {
    "duration": 48,
    "start_time": "2022-08-20T11:49:16.871Z"
   },
   {
    "duration": 13,
    "start_time": "2022-08-20T11:49:16.921Z"
   },
   {
    "duration": 42,
    "start_time": "2022-08-20T11:49:16.936Z"
   },
   {
    "duration": 154,
    "start_time": "2022-08-20T11:49:16.992Z"
   },
   {
    "duration": 97,
    "start_time": "2022-08-20T11:49:29.971Z"
   },
   {
    "duration": 101,
    "start_time": "2022-08-20T11:49:50.930Z"
   },
   {
    "duration": 80,
    "start_time": "2022-08-20T11:50:21.099Z"
   },
   {
    "duration": 78,
    "start_time": "2022-08-20T11:50:28.721Z"
   },
   {
    "duration": 77,
    "start_time": "2022-08-20T11:50:29.867Z"
   },
   {
    "duration": 78,
    "start_time": "2022-08-20T11:50:39.887Z"
   },
   {
    "duration": 4,
    "start_time": "2022-08-20T11:50:40.922Z"
   },
   {
    "duration": 195,
    "start_time": "2022-08-20T12:00:19.739Z"
   },
   {
    "duration": 1760,
    "start_time": "2022-08-20T12:00:51.731Z"
   },
   {
    "duration": 1098,
    "start_time": "2022-08-20T12:00:53.493Z"
   },
   {
    "duration": 234,
    "start_time": "2022-08-20T12:00:54.593Z"
   },
   {
    "duration": 155,
    "start_time": "2022-08-20T12:00:54.829Z"
   },
   {
    "duration": 128,
    "start_time": "2022-08-20T12:00:54.994Z"
   },
   {
    "duration": 100,
    "start_time": "2022-08-20T12:00:55.124Z"
   },
   {
    "duration": 8,
    "start_time": "2022-08-20T12:00:55.226Z"
   },
   {
    "duration": 155,
    "start_time": "2022-08-20T12:00:55.236Z"
   },
   {
    "duration": 137,
    "start_time": "2022-08-20T12:00:55.393Z"
   },
   {
    "duration": 103,
    "start_time": "2022-08-20T12:00:55.532Z"
   },
   {
    "duration": 477,
    "start_time": "2022-08-20T12:00:55.637Z"
   },
   {
    "duration": 580,
    "start_time": "2022-08-20T12:00:56.116Z"
   },
   {
    "duration": 42,
    "start_time": "2022-08-20T12:00:56.698Z"
   },
   {
    "duration": 15,
    "start_time": "2022-08-20T12:00:56.743Z"
   },
   {
    "duration": 57,
    "start_time": "2022-08-20T12:00:56.759Z"
   },
   {
    "duration": 115,
    "start_time": "2022-08-20T12:00:56.818Z"
   },
   {
    "duration": 4,
    "start_time": "2022-08-20T12:00:56.935Z"
   },
   {
    "duration": 213,
    "start_time": "2022-08-20T12:00:56.941Z"
   },
   {
    "duration": 1480,
    "start_time": "2022-08-20T12:01:43.377Z"
   },
   {
    "duration": 1068,
    "start_time": "2022-08-20T12:01:44.859Z"
   },
   {
    "duration": 210,
    "start_time": "2022-08-20T12:01:45.930Z"
   },
   {
    "duration": 161,
    "start_time": "2022-08-20T12:01:46.142Z"
   },
   {
    "duration": 123,
    "start_time": "2022-08-20T12:01:46.304Z"
   },
   {
    "duration": 94,
    "start_time": "2022-08-20T12:01:46.429Z"
   },
   {
    "duration": 9,
    "start_time": "2022-08-20T12:01:46.525Z"
   },
   {
    "duration": 153,
    "start_time": "2022-08-20T12:01:46.536Z"
   },
   {
    "duration": 125,
    "start_time": "2022-08-20T12:01:46.692Z"
   },
   {
    "duration": 133,
    "start_time": "2022-08-20T12:01:46.821Z"
   },
   {
    "duration": 470,
    "start_time": "2022-08-20T12:01:46.956Z"
   },
   {
    "duration": 615,
    "start_time": "2022-08-20T12:01:47.428Z"
   },
   {
    "duration": 49,
    "start_time": "2022-08-20T12:01:48.045Z"
   },
   {
    "duration": 11,
    "start_time": "2022-08-20T12:01:48.096Z"
   },
   {
    "duration": 29,
    "start_time": "2022-08-20T12:01:48.109Z"
   },
   {
    "duration": 107,
    "start_time": "2022-08-20T12:01:48.140Z"
   },
   {
    "duration": 5,
    "start_time": "2022-08-20T12:01:48.250Z"
   },
   {
    "duration": 508,
    "start_time": "2022-08-20T12:01:48.257Z"
   },
   {
    "duration": 472,
    "start_time": "2022-08-20T12:09:37.935Z"
   },
   {
    "duration": 4,
    "start_time": "2022-08-20T12:43:39.299Z"
   },
   {
    "duration": 327,
    "start_time": "2022-08-20T12:44:32.785Z"
   },
   {
    "duration": 26,
    "start_time": "2022-08-20T12:48:42.288Z"
   },
   {
    "duration": 1087,
    "start_time": "2022-08-20T12:51:06.670Z"
   },
   {
    "duration": 1466,
    "start_time": "2022-08-20T12:52:19.697Z"
   },
   {
    "duration": 1098,
    "start_time": "2022-08-20T12:52:21.166Z"
   },
   {
    "duration": 205,
    "start_time": "2022-08-20T12:52:22.266Z"
   },
   {
    "duration": 148,
    "start_time": "2022-08-20T12:52:22.473Z"
   },
   {
    "duration": 119,
    "start_time": "2022-08-20T12:52:22.623Z"
   },
   {
    "duration": 87,
    "start_time": "2022-08-20T12:52:22.743Z"
   },
   {
    "duration": 7,
    "start_time": "2022-08-20T12:52:22.832Z"
   },
   {
    "duration": 136,
    "start_time": "2022-08-20T12:52:22.840Z"
   },
   {
    "duration": 105,
    "start_time": "2022-08-20T12:52:22.978Z"
   },
   {
    "duration": 106,
    "start_time": "2022-08-20T12:52:23.086Z"
   },
   {
    "duration": 449,
    "start_time": "2022-08-20T12:52:23.194Z"
   },
   {
    "duration": 575,
    "start_time": "2022-08-20T12:52:23.645Z"
   },
   {
    "duration": 41,
    "start_time": "2022-08-20T12:52:24.222Z"
   },
   {
    "duration": 12,
    "start_time": "2022-08-20T12:52:24.264Z"
   },
   {
    "duration": 996,
    "start_time": "2022-08-20T12:52:24.278Z"
   },
   {
    "duration": 21,
    "start_time": "2022-08-20T12:52:25.276Z"
   },
   {
    "duration": 75,
    "start_time": "2022-08-20T12:52:25.299Z"
   },
   {
    "duration": 18,
    "start_time": "2022-08-20T12:52:25.376Z"
   },
   {
    "duration": 253,
    "start_time": "2022-08-20T12:52:25.396Z"
   },
   {
    "duration": 1487,
    "start_time": "2022-08-20T12:56:20.906Z"
   },
   {
    "duration": 1043,
    "start_time": "2022-08-20T12:56:22.394Z"
   },
   {
    "duration": 208,
    "start_time": "2022-08-20T12:56:23.439Z"
   },
   {
    "duration": 146,
    "start_time": "2022-08-20T12:56:23.649Z"
   },
   {
    "duration": 119,
    "start_time": "2022-08-20T12:56:23.797Z"
   },
   {
    "duration": 84,
    "start_time": "2022-08-20T12:56:23.918Z"
   },
   {
    "duration": 7,
    "start_time": "2022-08-20T12:56:24.004Z"
   },
   {
    "duration": 131,
    "start_time": "2022-08-20T12:56:24.013Z"
   },
   {
    "duration": 108,
    "start_time": "2022-08-20T12:56:24.146Z"
   },
   {
    "duration": 101,
    "start_time": "2022-08-20T12:56:24.257Z"
   },
   {
    "duration": 457,
    "start_time": "2022-08-20T12:56:24.360Z"
   },
   {
    "duration": 563,
    "start_time": "2022-08-20T12:56:24.818Z"
   },
   {
    "duration": 40,
    "start_time": "2022-08-20T12:56:25.383Z"
   },
   {
    "duration": 12,
    "start_time": "2022-08-20T12:56:25.425Z"
   },
   {
    "duration": 1043,
    "start_time": "2022-08-20T12:56:25.439Z"
   },
   {
    "duration": 221,
    "start_time": "2022-08-20T12:56:26.484Z"
   },
   {
    "duration": 132,
    "start_time": "2022-08-20T12:56:26.707Z"
   },
   {
    "duration": 0,
    "start_time": "2022-08-20T12:56:26.841Z"
   },
   {
    "duration": 0,
    "start_time": "2022-08-20T12:56:26.843Z"
   },
   {
    "duration": 331,
    "start_time": "2022-08-20T12:56:44.812Z"
   },
   {
    "duration": 4,
    "start_time": "2022-08-20T12:56:48.099Z"
   },
   {
    "duration": 24539,
    "start_time": "2022-08-20T12:56:52.261Z"
   },
   {
    "duration": 1548,
    "start_time": "2022-08-20T12:59:29.504Z"
   },
   {
    "duration": 1197,
    "start_time": "2022-08-20T12:59:31.054Z"
   },
   {
    "duration": 221,
    "start_time": "2022-08-20T12:59:32.253Z"
   },
   {
    "duration": 150,
    "start_time": "2022-08-20T12:59:32.476Z"
   },
   {
    "duration": 123,
    "start_time": "2022-08-20T12:59:32.628Z"
   },
   {
    "duration": 90,
    "start_time": "2022-08-20T12:59:32.753Z"
   },
   {
    "duration": 7,
    "start_time": "2022-08-20T12:59:32.845Z"
   },
   {
    "duration": 145,
    "start_time": "2022-08-20T12:59:32.854Z"
   },
   {
    "duration": 120,
    "start_time": "2022-08-20T12:59:33.001Z"
   },
   {
    "duration": 100,
    "start_time": "2022-08-20T12:59:33.124Z"
   },
   {
    "duration": 454,
    "start_time": "2022-08-20T12:59:33.226Z"
   },
   {
    "duration": 558,
    "start_time": "2022-08-20T12:59:33.682Z"
   },
   {
    "duration": 38,
    "start_time": "2022-08-20T12:59:34.242Z"
   },
   {
    "duration": 18,
    "start_time": "2022-08-20T12:59:34.281Z"
   },
   {
    "duration": 1105,
    "start_time": "2022-08-20T12:59:34.301Z"
   },
   {
    "duration": 221,
    "start_time": "2022-08-20T12:59:35.407Z"
   },
   {
    "duration": 353,
    "start_time": "2022-08-20T12:59:35.630Z"
   },
   {
    "duration": 6,
    "start_time": "2022-08-20T12:59:35.985Z"
   },
   {
    "duration": 25404,
    "start_time": "2022-08-20T12:59:35.993Z"
   },
   {
    "duration": 1518,
    "start_time": "2022-08-20T13:02:45.017Z"
   },
   {
    "duration": 1035,
    "start_time": "2022-08-20T13:02:46.537Z"
   },
   {
    "duration": 213,
    "start_time": "2022-08-20T13:02:47.574Z"
   },
   {
    "duration": 142,
    "start_time": "2022-08-20T13:02:47.792Z"
   },
   {
    "duration": 126,
    "start_time": "2022-08-20T13:02:47.936Z"
   },
   {
    "duration": 81,
    "start_time": "2022-08-20T13:02:48.064Z"
   },
   {
    "duration": 6,
    "start_time": "2022-08-20T13:02:48.147Z"
   },
   {
    "duration": 134,
    "start_time": "2022-08-20T13:02:48.155Z"
   },
   {
    "duration": 112,
    "start_time": "2022-08-20T13:02:48.291Z"
   },
   {
    "duration": 98,
    "start_time": "2022-08-20T13:02:48.407Z"
   },
   {
    "duration": 430,
    "start_time": "2022-08-20T13:02:48.506Z"
   },
   {
    "duration": 568,
    "start_time": "2022-08-20T13:02:48.937Z"
   },
   {
    "duration": 36,
    "start_time": "2022-08-20T13:02:49.507Z"
   },
   {
    "duration": 24,
    "start_time": "2022-08-20T13:02:49.545Z"
   },
   {
    "duration": 1105,
    "start_time": "2022-08-20T13:02:49.571Z"
   },
   {
    "duration": 218,
    "start_time": "2022-08-20T13:02:50.678Z"
   },
   {
    "duration": 328,
    "start_time": "2022-08-20T13:02:50.898Z"
   },
   {
    "duration": 4,
    "start_time": "2022-08-20T13:02:51.228Z"
   },
   {
    "duration": 28,
    "start_time": "2022-08-20T13:02:51.234Z"
   },
   {
    "duration": 93,
    "start_time": "2022-08-20T13:02:51.264Z"
   },
   {
    "duration": 4,
    "start_time": "2022-08-20T13:02:51.359Z"
   },
   {
    "duration": 26335,
    "start_time": "2022-08-20T13:02:51.364Z"
   },
   {
    "duration": 110,
    "start_time": "2022-08-20T13:04:45.373Z"
   },
   {
    "duration": 10,
    "start_time": "2022-08-20T13:04:57.315Z"
   },
   {
    "duration": 261,
    "start_time": "2022-08-20T13:05:16.739Z"
   },
   {
    "duration": 297,
    "start_time": "2022-08-20T13:05:29.000Z"
   },
   {
    "duration": 5,
    "start_time": "2022-08-20T13:12:08.953Z"
   },
   {
    "duration": 7,
    "start_time": "2022-08-20T13:12:21.958Z"
   },
   {
    "duration": 83,
    "start_time": "2022-08-20T13:22:35.821Z"
   },
   {
    "duration": 1428,
    "start_time": "2022-08-20T13:23:24.545Z"
   },
   {
    "duration": 1017,
    "start_time": "2022-08-20T13:23:25.976Z"
   },
   {
    "duration": 230,
    "start_time": "2022-08-20T13:23:26.995Z"
   },
   {
    "duration": 141,
    "start_time": "2022-08-20T13:23:27.228Z"
   },
   {
    "duration": 123,
    "start_time": "2022-08-20T13:23:27.370Z"
   },
   {
    "duration": 78,
    "start_time": "2022-08-20T13:23:27.494Z"
   },
   {
    "duration": 22,
    "start_time": "2022-08-20T13:23:27.574Z"
   },
   {
    "duration": 131,
    "start_time": "2022-08-20T13:23:27.598Z"
   },
   {
    "duration": 105,
    "start_time": "2022-08-20T13:23:27.731Z"
   },
   {
    "duration": 109,
    "start_time": "2022-08-20T13:23:27.839Z"
   },
   {
    "duration": 442,
    "start_time": "2022-08-20T13:23:27.949Z"
   },
   {
    "duration": 521,
    "start_time": "2022-08-20T13:23:28.393Z"
   },
   {
    "duration": 35,
    "start_time": "2022-08-20T13:23:28.916Z"
   },
   {
    "duration": 11,
    "start_time": "2022-08-20T13:23:28.953Z"
   },
   {
    "duration": 1060,
    "start_time": "2022-08-20T13:23:28.966Z"
   },
   {
    "duration": 222,
    "start_time": "2022-08-20T13:23:30.028Z"
   },
   {
    "duration": 341,
    "start_time": "2022-08-20T13:23:30.251Z"
   },
   {
    "duration": 4,
    "start_time": "2022-08-20T13:23:30.594Z"
   },
   {
    "duration": 40,
    "start_time": "2022-08-20T13:23:30.599Z"
   },
   {
    "duration": 110,
    "start_time": "2022-08-20T13:23:30.641Z"
   },
   {
    "duration": 4,
    "start_time": "2022-08-20T13:23:30.753Z"
   },
   {
    "duration": 25951,
    "start_time": "2022-08-20T13:23:30.759Z"
   },
   {
    "duration": 381,
    "start_time": "2022-08-20T13:23:56.712Z"
   },
   {
    "duration": 97,
    "start_time": "2022-08-20T13:23:57.096Z"
   },
   {
    "duration": 1671,
    "start_time": "2022-08-20T13:23:57.194Z"
   },
   {
    "duration": 77,
    "start_time": "2022-08-20T13:23:58.868Z"
   },
   {
    "duration": 4,
    "start_time": "2022-08-20T13:23:58.947Z"
   },
   {
    "duration": 87,
    "start_time": "2022-08-20T13:24:28.468Z"
   },
   {
    "duration": 132,
    "start_time": "2022-08-20T13:29:00.604Z"
   },
   {
    "duration": 22,
    "start_time": "2022-08-20T13:29:56.906Z"
   },
   {
    "duration": 1553,
    "start_time": "2022-08-20T13:30:38.334Z"
   },
   {
    "duration": 1289,
    "start_time": "2022-08-20T13:30:39.889Z"
   },
   {
    "duration": 249,
    "start_time": "2022-08-20T13:30:41.179Z"
   },
   {
    "duration": 166,
    "start_time": "2022-08-20T13:30:41.430Z"
   },
   {
    "duration": 128,
    "start_time": "2022-08-20T13:30:41.599Z"
   },
   {
    "duration": 114,
    "start_time": "2022-08-20T13:30:41.730Z"
   },
   {
    "duration": 8,
    "start_time": "2022-08-20T13:30:41.846Z"
   },
   {
    "duration": 191,
    "start_time": "2022-08-20T13:30:41.856Z"
   },
   {
    "duration": 132,
    "start_time": "2022-08-20T13:30:42.049Z"
   },
   {
    "duration": 122,
    "start_time": "2022-08-20T13:30:42.184Z"
   },
   {
    "duration": 525,
    "start_time": "2022-08-20T13:30:42.308Z"
   },
   {
    "duration": 654,
    "start_time": "2022-08-20T13:30:42.834Z"
   },
   {
    "duration": 51,
    "start_time": "2022-08-20T13:30:43.490Z"
   },
   {
    "duration": 12,
    "start_time": "2022-08-20T13:30:43.543Z"
   },
   {
    "duration": 1319,
    "start_time": "2022-08-20T13:30:43.557Z"
   },
   {
    "duration": 235,
    "start_time": "2022-08-20T13:30:44.878Z"
   },
   {
    "duration": 370,
    "start_time": "2022-08-20T13:30:45.115Z"
   },
   {
    "duration": 6,
    "start_time": "2022-08-20T13:30:45.487Z"
   },
   {
    "duration": 57,
    "start_time": "2022-08-20T13:30:45.495Z"
   },
   {
    "duration": 105,
    "start_time": "2022-08-20T13:30:45.554Z"
   },
   {
    "duration": 5,
    "start_time": "2022-08-20T13:30:45.661Z"
   },
   {
    "duration": 38324,
    "start_time": "2022-08-20T13:30:45.669Z"
   },
   {
    "duration": 401,
    "start_time": "2022-08-20T13:31:23.996Z"
   },
   {
    "duration": 95,
    "start_time": "2022-08-20T13:31:24.400Z"
   },
   {
    "duration": 134,
    "start_time": "2022-08-20T13:31:24.497Z"
   },
   {
    "duration": 0,
    "start_time": "2022-08-20T13:31:24.632Z"
   },
   {
    "duration": 0,
    "start_time": "2022-08-20T13:31:24.634Z"
   },
   {
    "duration": 0,
    "start_time": "2022-08-20T13:31:24.636Z"
   },
   {
    "duration": 19,
    "start_time": "2022-08-20T13:36:51.971Z"
   },
   {
    "duration": 1576,
    "start_time": "2022-08-20T13:55:10.173Z"
   },
   {
    "duration": 1152,
    "start_time": "2022-08-20T13:55:11.751Z"
   },
   {
    "duration": 195,
    "start_time": "2022-08-20T13:55:12.905Z"
   },
   {
    "duration": 139,
    "start_time": "2022-08-20T13:55:13.103Z"
   },
   {
    "duration": 162,
    "start_time": "2022-08-20T13:55:13.243Z"
   },
   {
    "duration": 91,
    "start_time": "2022-08-20T13:55:13.406Z"
   },
   {
    "duration": 7,
    "start_time": "2022-08-20T13:55:13.498Z"
   },
   {
    "duration": 134,
    "start_time": "2022-08-20T13:55:13.507Z"
   },
   {
    "duration": 115,
    "start_time": "2022-08-20T13:55:13.644Z"
   },
   {
    "duration": 106,
    "start_time": "2022-08-20T13:55:13.762Z"
   },
   {
    "duration": 467,
    "start_time": "2022-08-20T13:55:13.870Z"
   },
   {
    "duration": 575,
    "start_time": "2022-08-20T13:55:14.339Z"
   },
   {
    "duration": 43,
    "start_time": "2022-08-20T13:55:14.915Z"
   },
   {
    "duration": 11,
    "start_time": "2022-08-20T13:55:14.960Z"
   },
   {
    "duration": 1000,
    "start_time": "2022-08-20T13:55:14.973Z"
   },
   {
    "duration": 222,
    "start_time": "2022-08-20T13:55:15.975Z"
   },
   {
    "duration": 335,
    "start_time": "2022-08-20T13:55:16.199Z"
   },
   {
    "duration": 3,
    "start_time": "2022-08-20T13:55:16.536Z"
   },
   {
    "duration": 19,
    "start_time": "2022-08-20T13:55:16.541Z"
   },
   {
    "duration": 98,
    "start_time": "2022-08-20T13:55:16.562Z"
   },
   {
    "duration": 3,
    "start_time": "2022-08-20T13:55:16.662Z"
   },
   {
    "duration": 23528,
    "start_time": "2022-08-20T13:55:16.667Z"
   },
   {
    "duration": 398,
    "start_time": "2022-08-20T13:55:40.197Z"
   },
   {
    "duration": 95,
    "start_time": "2022-08-20T13:55:40.598Z"
   },
   {
    "duration": 1432,
    "start_time": "2022-08-20T13:55:40.695Z"
   },
   {
    "duration": 88,
    "start_time": "2022-08-20T13:55:42.129Z"
   },
   {
    "duration": 84,
    "start_time": "2022-08-20T13:55:42.218Z"
   },
   {
    "duration": 3,
    "start_time": "2022-08-20T13:55:42.305Z"
   },
   {
    "duration": 87,
    "start_time": "2022-08-20T13:57:35.612Z"
   },
   {
    "duration": 82,
    "start_time": "2022-08-20T13:58:27.594Z"
   },
   {
    "duration": 1601,
    "start_time": "2022-08-20T14:20:52.308Z"
   },
   {
    "duration": 1165,
    "start_time": "2022-08-20T14:20:53.912Z"
   },
   {
    "duration": 229,
    "start_time": "2022-08-20T14:20:55.079Z"
   },
   {
    "duration": 154,
    "start_time": "2022-08-20T14:20:55.310Z"
   },
   {
    "duration": 127,
    "start_time": "2022-08-20T14:20:55.466Z"
   },
   {
    "duration": 83,
    "start_time": "2022-08-20T14:20:55.599Z"
   },
   {
    "duration": 14,
    "start_time": "2022-08-20T14:20:55.684Z"
   },
   {
    "duration": 153,
    "start_time": "2022-08-20T14:20:55.700Z"
   },
   {
    "duration": 130,
    "start_time": "2022-08-20T14:20:55.855Z"
   },
   {
    "duration": 123,
    "start_time": "2022-08-20T14:20:55.988Z"
   },
   {
    "duration": 527,
    "start_time": "2022-08-20T14:20:56.113Z"
   },
   {
    "duration": 662,
    "start_time": "2022-08-20T14:20:56.642Z"
   },
   {
    "duration": 44,
    "start_time": "2022-08-20T14:20:57.306Z"
   },
   {
    "duration": 12,
    "start_time": "2022-08-20T14:20:57.352Z"
   },
   {
    "duration": 1068,
    "start_time": "2022-08-20T14:20:57.366Z"
   },
   {
    "duration": 223,
    "start_time": "2022-08-20T14:20:58.437Z"
   },
   {
    "duration": 343,
    "start_time": "2022-08-20T14:20:58.662Z"
   },
   {
    "duration": 5,
    "start_time": "2022-08-20T14:20:59.008Z"
   },
   {
    "duration": 29,
    "start_time": "2022-08-20T14:20:59.015Z"
   },
   {
    "duration": 112,
    "start_time": "2022-08-20T14:20:59.047Z"
   },
   {
    "duration": 4,
    "start_time": "2022-08-20T14:20:59.161Z"
   },
   {
    "duration": 62344,
    "start_time": "2022-08-20T14:20:59.167Z"
   },
   {
    "duration": 508,
    "start_time": "2022-08-20T14:22:01.592Z"
   },
   {
    "duration": 91,
    "start_time": "2022-08-20T14:22:02.102Z"
   },
   {
    "duration": 85,
    "start_time": "2022-08-20T14:22:02.199Z"
   },
   {
    "duration": 0,
    "start_time": "2022-08-20T14:22:02.287Z"
   },
   {
    "duration": 217,
    "start_time": "2022-08-20T14:23:41.646Z"
   },
   {
    "duration": 568,
    "start_time": "2022-08-20T14:26:35.274Z"
   },
   {
    "duration": 1677,
    "start_time": "2022-08-20T14:27:18.236Z"
   },
   {
    "duration": 1067,
    "start_time": "2022-08-20T14:27:19.915Z"
   },
   {
    "duration": 203,
    "start_time": "2022-08-20T14:27:20.984Z"
   },
   {
    "duration": 144,
    "start_time": "2022-08-20T14:27:21.191Z"
   },
   {
    "duration": 117,
    "start_time": "2022-08-20T14:27:21.337Z"
   },
   {
    "duration": 90,
    "start_time": "2022-08-20T14:27:21.455Z"
   },
   {
    "duration": 7,
    "start_time": "2022-08-20T14:27:21.547Z"
   },
   {
    "duration": 143,
    "start_time": "2022-08-20T14:27:21.556Z"
   },
   {
    "duration": 131,
    "start_time": "2022-08-20T14:27:21.701Z"
   },
   {
    "duration": 130,
    "start_time": "2022-08-20T14:27:21.836Z"
   },
   {
    "duration": 522,
    "start_time": "2022-08-20T14:27:21.969Z"
   },
   {
    "duration": 653,
    "start_time": "2022-08-20T14:27:22.493Z"
   },
   {
    "duration": 50,
    "start_time": "2022-08-20T14:27:23.149Z"
   },
   {
    "duration": 15,
    "start_time": "2022-08-20T14:27:23.201Z"
   },
   {
    "duration": 1137,
    "start_time": "2022-08-20T14:27:23.218Z"
   },
   {
    "duration": 220,
    "start_time": "2022-08-20T14:27:24.357Z"
   },
   {
    "duration": 375,
    "start_time": "2022-08-20T14:27:24.581Z"
   },
   {
    "duration": 5,
    "start_time": "2022-08-20T14:27:24.958Z"
   },
   {
    "duration": 34,
    "start_time": "2022-08-20T14:27:24.965Z"
   },
   {
    "duration": 101,
    "start_time": "2022-08-20T14:27:25.001Z"
   },
   {
    "duration": 5,
    "start_time": "2022-08-20T14:27:25.104Z"
   },
   {
    "duration": 57389,
    "start_time": "2022-08-20T14:27:25.110Z"
   },
   {
    "duration": 391,
    "start_time": "2022-08-20T14:28:22.501Z"
   },
   {
    "duration": 8,
    "start_time": "2022-08-20T14:28:22.895Z"
   },
   {
    "duration": 731,
    "start_time": "2022-08-20T14:28:22.905Z"
   },
   {
    "duration": 77,
    "start_time": "2022-08-20T14:28:23.638Z"
   },
   {
    "duration": 1586,
    "start_time": "2022-08-20T14:30:12.946Z"
   },
   {
    "duration": 1104,
    "start_time": "2022-08-20T14:30:14.534Z"
   },
   {
    "duration": 202,
    "start_time": "2022-08-20T14:30:15.640Z"
   },
   {
    "duration": 157,
    "start_time": "2022-08-20T14:30:15.844Z"
   },
   {
    "duration": 116,
    "start_time": "2022-08-20T14:30:16.003Z"
   },
   {
    "duration": 86,
    "start_time": "2022-08-20T14:30:16.120Z"
   },
   {
    "duration": 8,
    "start_time": "2022-08-20T14:30:16.208Z"
   },
   {
    "duration": 138,
    "start_time": "2022-08-20T14:30:16.217Z"
   },
   {
    "duration": 112,
    "start_time": "2022-08-20T14:30:16.357Z"
   },
   {
    "duration": 105,
    "start_time": "2022-08-20T14:30:16.472Z"
   },
   {
    "duration": 492,
    "start_time": "2022-08-20T14:30:16.579Z"
   },
   {
    "duration": 581,
    "start_time": "2022-08-20T14:30:17.073Z"
   },
   {
    "duration": 50,
    "start_time": "2022-08-20T14:30:17.656Z"
   },
   {
    "duration": 12,
    "start_time": "2022-08-20T14:30:17.708Z"
   },
   {
    "duration": 1127,
    "start_time": "2022-08-20T14:30:17.722Z"
   },
   {
    "duration": 222,
    "start_time": "2022-08-20T14:30:18.851Z"
   },
   {
    "duration": 354,
    "start_time": "2022-08-20T14:30:19.075Z"
   },
   {
    "duration": 5,
    "start_time": "2022-08-20T14:30:19.431Z"
   },
   {
    "duration": 55,
    "start_time": "2022-08-20T14:30:19.438Z"
   },
   {
    "duration": 114,
    "start_time": "2022-08-20T14:30:19.495Z"
   },
   {
    "duration": 4,
    "start_time": "2022-08-20T14:30:19.611Z"
   },
   {
    "duration": 52985,
    "start_time": "2022-08-20T14:30:19.618Z"
   },
   {
    "duration": 486,
    "start_time": "2022-08-20T14:31:12.606Z"
   },
   {
    "duration": 8,
    "start_time": "2022-08-20T14:31:13.095Z"
   },
   {
    "duration": 280,
    "start_time": "2022-08-20T14:31:13.106Z"
   },
   {
    "duration": 87,
    "start_time": "2022-08-20T14:31:13.388Z"
   },
   {
    "duration": 219611,
    "start_time": "2022-08-20T14:32:32.098Z"
   },
   {
    "duration": 424,
    "start_time": "2022-08-20T14:36:11.711Z"
   },
   {
    "duration": 95,
    "start_time": "2022-08-20T14:37:04.382Z"
   },
   {
    "duration": 111,
    "start_time": "2022-08-20T14:37:07.850Z"
   },
   {
    "duration": 86,
    "start_time": "2022-08-20T14:37:13.040Z"
   },
   {
    "duration": 82,
    "start_time": "2022-08-20T14:37:37.535Z"
   },
   {
    "duration": 153,
    "start_time": "2022-08-20T14:37:42.884Z"
   },
   {
    "duration": 204,
    "start_time": "2022-08-20T14:40:36.612Z"
   },
   {
    "duration": 113,
    "start_time": "2022-08-20T14:45:08.979Z"
   },
   {
    "duration": 1533,
    "start_time": "2022-08-20T14:50:36.942Z"
   },
   {
    "duration": 1077,
    "start_time": "2022-08-20T14:50:38.479Z"
   },
   {
    "duration": 196,
    "start_time": "2022-08-20T14:50:39.559Z"
   },
   {
    "duration": 153,
    "start_time": "2022-08-20T14:50:39.757Z"
   },
   {
    "duration": 116,
    "start_time": "2022-08-20T14:50:39.911Z"
   },
   {
    "duration": 86,
    "start_time": "2022-08-20T14:50:40.028Z"
   },
   {
    "duration": 8,
    "start_time": "2022-08-20T14:50:40.116Z"
   },
   {
    "duration": 168,
    "start_time": "2022-08-20T14:50:40.126Z"
   },
   {
    "duration": 123,
    "start_time": "2022-08-20T14:50:40.297Z"
   },
   {
    "duration": 115,
    "start_time": "2022-08-20T14:50:40.422Z"
   },
   {
    "duration": 464,
    "start_time": "2022-08-20T14:50:40.539Z"
   },
   {
    "duration": 596,
    "start_time": "2022-08-20T14:50:41.005Z"
   },
   {
    "duration": 48,
    "start_time": "2022-08-20T14:50:41.603Z"
   },
   {
    "duration": 13,
    "start_time": "2022-08-20T14:50:41.653Z"
   },
   {
    "duration": 1184,
    "start_time": "2022-08-20T14:50:41.691Z"
   },
   {
    "duration": 221,
    "start_time": "2022-08-20T14:50:42.877Z"
   },
   {
    "duration": 353,
    "start_time": "2022-08-20T14:50:43.099Z"
   },
   {
    "duration": 4,
    "start_time": "2022-08-20T14:50:43.454Z"
   },
   {
    "duration": 32,
    "start_time": "2022-08-20T14:50:43.460Z"
   },
   {
    "duration": 97,
    "start_time": "2022-08-20T14:50:43.494Z"
   },
   {
    "duration": 5,
    "start_time": "2022-08-20T14:50:43.594Z"
   },
   {
    "duration": 28900,
    "start_time": "2022-08-20T14:50:43.600Z"
   },
   {
    "duration": 394,
    "start_time": "2022-08-20T14:51:12.502Z"
   },
   {
    "duration": 97,
    "start_time": "2022-08-20T14:51:12.898Z"
   },
   {
    "duration": 16104,
    "start_time": "2022-08-20T14:51:12.997Z"
   },
   {
    "duration": 212,
    "start_time": "2022-08-20T14:51:29.104Z"
   },
   {
    "duration": 80,
    "start_time": "2022-08-20T14:51:29.320Z"
   },
   {
    "duration": 645650,
    "start_time": "2022-08-20T14:51:29.401Z"
   },
   {
    "duration": 5593,
    "start_time": "2022-08-20T15:02:15.053Z"
   },
   {
    "duration": 6,
    "start_time": "2022-08-20T15:02:20.647Z"
   },
   {
    "duration": 91,
    "start_time": "2022-08-20T15:03:44.287Z"
   },
   {
    "duration": 5797,
    "start_time": "2022-08-20T15:03:48.294Z"
   },
   {
    "duration": 5,
    "start_time": "2022-08-20T15:03:54.093Z"
   },
   {
    "duration": 3340,
    "start_time": "2022-08-21T09:07:52.333Z"
   },
   {
    "duration": 3040,
    "start_time": "2022-08-21T09:07:55.676Z"
   },
   {
    "duration": 158,
    "start_time": "2022-08-21T09:07:58.718Z"
   },
   {
    "duration": 112,
    "start_time": "2022-08-21T09:07:58.878Z"
   },
   {
    "duration": 115,
    "start_time": "2022-08-21T09:07:58.993Z"
   },
   {
    "duration": 88,
    "start_time": "2022-08-21T09:07:59.109Z"
   },
   {
    "duration": 7,
    "start_time": "2022-08-21T09:07:59.199Z"
   },
   {
    "duration": 120,
    "start_time": "2022-08-21T09:07:59.207Z"
   },
   {
    "duration": 98,
    "start_time": "2022-08-21T09:07:59.329Z"
   },
   {
    "duration": 104,
    "start_time": "2022-08-21T09:07:59.429Z"
   },
   {
    "duration": 456,
    "start_time": "2022-08-21T09:07:59.534Z"
   },
   {
    "duration": 591,
    "start_time": "2022-08-21T09:07:59.992Z"
   },
   {
    "duration": 45,
    "start_time": "2022-08-21T09:08:00.585Z"
   },
   {
    "duration": 13,
    "start_time": "2022-08-21T09:08:00.633Z"
   },
   {
    "duration": 1206,
    "start_time": "2022-08-21T09:08:00.667Z"
   },
   {
    "duration": 221,
    "start_time": "2022-08-21T09:08:01.874Z"
   },
   {
    "duration": 361,
    "start_time": "2022-08-21T09:08:02.097Z"
   },
   {
    "duration": 8,
    "start_time": "2022-08-21T09:08:02.460Z"
   },
   {
    "duration": 21,
    "start_time": "2022-08-21T09:08:02.470Z"
   },
   {
    "duration": 97,
    "start_time": "2022-08-21T09:08:02.493Z"
   },
   {
    "duration": 4,
    "start_time": "2022-08-21T09:08:02.592Z"
   },
   {
    "duration": 11940,
    "start_time": "2022-08-21T09:08:07.540Z"
   },
   {
    "duration": 236,
    "start_time": "2022-08-21T09:08:19.482Z"
   },
   {
    "duration": 5,
    "start_time": "2022-08-21T09:08:25.808Z"
   },
   {
    "duration": 1073,
    "start_time": "2022-08-21T09:46:20.206Z"
   },
   {
    "duration": 5,
    "start_time": "2022-08-21T09:46:24.670Z"
   },
   {
    "duration": 6,
    "start_time": "2022-08-21T09:46:29.003Z"
   },
   {
    "duration": 1532,
    "start_time": "2022-08-22T09:27:38.992Z"
   },
   {
    "duration": 2949,
    "start_time": "2022-08-22T09:27:40.526Z"
   },
   {
    "duration": 141,
    "start_time": "2022-08-22T09:27:43.477Z"
   },
   {
    "duration": 99,
    "start_time": "2022-08-22T09:27:43.620Z"
   },
   {
    "duration": 90,
    "start_time": "2022-08-22T09:27:43.721Z"
   },
   {
    "duration": 62,
    "start_time": "2022-08-22T09:27:43.813Z"
   },
   {
    "duration": 5,
    "start_time": "2022-08-22T09:27:43.877Z"
   },
   {
    "duration": 113,
    "start_time": "2022-08-22T09:27:43.884Z"
   },
   {
    "duration": 95,
    "start_time": "2022-08-22T09:27:43.998Z"
   },
   {
    "duration": 86,
    "start_time": "2022-08-22T09:27:44.095Z"
   },
   {
    "duration": 345,
    "start_time": "2022-08-22T09:27:44.183Z"
   },
   {
    "duration": 444,
    "start_time": "2022-08-22T09:27:44.530Z"
   },
   {
    "duration": 37,
    "start_time": "2022-08-22T09:27:44.975Z"
   },
   {
    "duration": 9,
    "start_time": "2022-08-22T09:27:45.013Z"
   },
   {
    "duration": 717,
    "start_time": "2022-08-22T09:27:45.024Z"
   },
   {
    "duration": 206,
    "start_time": "2022-08-22T09:27:45.743Z"
   },
   {
    "duration": 367,
    "start_time": "2022-08-22T09:27:45.951Z"
   },
   {
    "duration": 4,
    "start_time": "2022-08-22T09:27:46.320Z"
   },
   {
    "duration": 18,
    "start_time": "2022-08-22T09:27:46.325Z"
   },
   {
    "duration": 82,
    "start_time": "2022-08-22T09:27:46.344Z"
   },
   {
    "duration": 3,
    "start_time": "2022-08-22T09:27:46.428Z"
   },
   {
    "duration": 20275,
    "start_time": "2022-08-22T09:27:46.432Z"
   },
   {
    "duration": 305,
    "start_time": "2022-08-22T09:28:06.708Z"
   },
   {
    "duration": 93,
    "start_time": "2022-08-22T09:28:07.014Z"
   },
   {
    "duration": 11799,
    "start_time": "2022-08-22T09:28:07.110Z"
   },
   {
    "duration": 1019,
    "start_time": "2022-08-22T09:28:18.911Z"
   },
   {
    "duration": 78,
    "start_time": "2022-08-22T09:28:19.932Z"
   },
   {
    "duration": 581285,
    "start_time": "2022-08-22T09:28:20.013Z"
   },
   {
    "duration": 5384,
    "start_time": "2022-08-22T09:38:01.299Z"
   },
   {
    "duration": 5,
    "start_time": "2022-08-22T09:38:06.685Z"
   },
   {
    "duration": 1524,
    "start_time": "2022-08-22T13:31:54.296Z"
   },
   {
    "duration": 1122,
    "start_time": "2022-08-22T13:31:55.823Z"
   },
   {
    "duration": 157,
    "start_time": "2022-08-22T13:31:56.947Z"
   },
   {
    "duration": 111,
    "start_time": "2022-08-22T13:31:57.105Z"
   },
   {
    "duration": 94,
    "start_time": "2022-08-22T13:31:57.217Z"
   },
   {
    "duration": 58,
    "start_time": "2022-08-22T13:31:57.313Z"
   },
   {
    "duration": 6,
    "start_time": "2022-08-22T13:31:57.372Z"
   },
   {
    "duration": 113,
    "start_time": "2022-08-22T13:31:57.379Z"
   },
   {
    "duration": 93,
    "start_time": "2022-08-22T13:31:57.494Z"
   },
   {
    "duration": 86,
    "start_time": "2022-08-22T13:31:57.590Z"
   },
   {
    "duration": 369,
    "start_time": "2022-08-22T13:31:57.677Z"
   },
   {
    "duration": 443,
    "start_time": "2022-08-22T13:31:58.047Z"
   },
   {
    "duration": 41,
    "start_time": "2022-08-22T13:31:58.492Z"
   },
   {
    "duration": 10,
    "start_time": "2022-08-22T13:31:58.535Z"
   },
   {
    "duration": 609,
    "start_time": "2022-08-22T13:31:58.547Z"
   },
   {
    "duration": 154,
    "start_time": "2022-08-22T13:31:59.157Z"
   },
   {
    "duration": 236,
    "start_time": "2022-08-22T13:31:59.312Z"
   },
   {
    "duration": 3,
    "start_time": "2022-08-22T13:31:59.550Z"
   },
   {
    "duration": 123,
    "start_time": "2022-08-22T13:31:59.554Z"
   },
   {
    "duration": 0,
    "start_time": "2022-08-22T13:31:59.679Z"
   },
   {
    "duration": 0,
    "start_time": "2022-08-22T13:31:59.680Z"
   },
   {
    "duration": 0,
    "start_time": "2022-08-22T13:31:59.680Z"
   },
   {
    "duration": 0,
    "start_time": "2022-08-22T13:31:59.681Z"
   },
   {
    "duration": 0,
    "start_time": "2022-08-22T13:31:59.682Z"
   },
   {
    "duration": 0,
    "start_time": "2022-08-22T13:31:59.683Z"
   },
   {
    "duration": 0,
    "start_time": "2022-08-22T13:31:59.684Z"
   },
   {
    "duration": 0,
    "start_time": "2022-08-22T13:31:59.685Z"
   },
   {
    "duration": 0,
    "start_time": "2022-08-22T13:31:59.685Z"
   },
   {
    "duration": 0,
    "start_time": "2022-08-22T13:31:59.686Z"
   },
   {
    "duration": 15,
    "start_time": "2022-08-22T13:34:06.336Z"
   },
   {
    "duration": 59,
    "start_time": "2022-08-22T13:34:12.263Z"
   },
   {
    "duration": 4,
    "start_time": "2022-08-22T13:34:14.943Z"
   },
   {
    "duration": 77501,
    "start_time": "2022-08-22T13:48:50.514Z"
   },
   {
    "duration": 5,
    "start_time": "2022-08-22T13:57:34.063Z"
   },
   {
    "duration": 4,
    "start_time": "2022-08-22T13:58:06.862Z"
   },
   {
    "duration": 5,
    "start_time": "2022-08-22T13:58:27.474Z"
   },
   {
    "duration": 131,
    "start_time": "2022-08-22T14:03:06.457Z"
   },
   {
    "duration": 19518,
    "start_time": "2022-08-22T14:03:29.895Z"
   },
   {
    "duration": 183,
    "start_time": "2022-08-22T14:13:03.574Z"
   },
   {
    "duration": 222,
    "start_time": "2022-08-22T14:15:06.092Z"
   },
   {
    "duration": 5,
    "start_time": "2022-08-22T14:17:41.069Z"
   },
   {
    "duration": 5,
    "start_time": "2022-08-22T14:28:33.190Z"
   },
   {
    "duration": 37,
    "start_time": "2022-08-22T14:28:51.726Z"
   },
   {
    "duration": 5,
    "start_time": "2022-08-22T14:29:49.379Z"
   },
   {
    "duration": 34,
    "start_time": "2022-08-22T17:36:02.374Z"
   },
   {
    "duration": 1518,
    "start_time": "2022-08-22T17:37:05.285Z"
   },
   {
    "duration": 1107,
    "start_time": "2022-08-22T17:37:06.805Z"
   },
   {
    "duration": 164,
    "start_time": "2022-08-22T17:37:07.914Z"
   },
   {
    "duration": 110,
    "start_time": "2022-08-22T17:37:08.081Z"
   },
   {
    "duration": 99,
    "start_time": "2022-08-22T17:37:08.193Z"
   },
   {
    "duration": 73,
    "start_time": "2022-08-22T17:37:08.294Z"
   },
   {
    "duration": 6,
    "start_time": "2022-08-22T17:37:08.369Z"
   },
   {
    "duration": 116,
    "start_time": "2022-08-22T17:37:08.377Z"
   },
   {
    "duration": 92,
    "start_time": "2022-08-22T17:37:08.495Z"
   },
   {
    "duration": 96,
    "start_time": "2022-08-22T17:37:08.590Z"
   },
   {
    "duration": 348,
    "start_time": "2022-08-22T17:37:08.688Z"
   },
   {
    "duration": 417,
    "start_time": "2022-08-22T17:37:09.038Z"
   },
   {
    "duration": 43,
    "start_time": "2022-08-22T17:37:09.458Z"
   },
   {
    "duration": 16,
    "start_time": "2022-08-22T17:37:09.502Z"
   },
   {
    "duration": 605,
    "start_time": "2022-08-22T17:37:09.519Z"
   },
   {
    "duration": 15,
    "start_time": "2022-08-22T17:37:10.125Z"
   },
   {
    "duration": 162,
    "start_time": "2022-08-22T17:37:10.142Z"
   },
   {
    "duration": 257,
    "start_time": "2022-08-22T17:37:10.306Z"
   },
   {
    "duration": 4,
    "start_time": "2022-08-22T17:37:10.564Z"
   },
   {
    "duration": 69,
    "start_time": "2022-08-22T17:37:10.569Z"
   },
   {
    "duration": 4,
    "start_time": "2022-08-22T17:37:10.641Z"
   },
   {
    "duration": 86788,
    "start_time": "2022-08-22T17:37:10.647Z"
   },
   {
    "duration": 6,
    "start_time": "2022-08-22T17:38:37.510Z"
   },
   {
    "duration": 18898,
    "start_time": "2022-08-22T17:38:37.518Z"
   },
   {
    "duration": 298,
    "start_time": "2022-08-22T17:38:56.418Z"
   },
   {
    "duration": 94,
    "start_time": "2022-08-22T17:38:56.718Z"
   },
   {
    "duration": 98,
    "start_time": "2022-08-22T17:38:56.814Z"
   },
   {
    "duration": 0,
    "start_time": "2022-08-22T17:38:56.914Z"
   },
   {
    "duration": 0,
    "start_time": "2022-08-22T17:38:56.915Z"
   },
   {
    "duration": 0,
    "start_time": "2022-08-22T17:38:56.916Z"
   },
   {
    "duration": 0,
    "start_time": "2022-08-22T17:38:56.917Z"
   },
   {
    "duration": 0,
    "start_time": "2022-08-22T17:38:56.918Z"
   },
   {
    "duration": 31,
    "start_time": "2022-08-22T17:39:17.315Z"
   },
   {
    "duration": 3,
    "start_time": "2022-08-22T17:44:54.820Z"
   },
   {
    "duration": 1374,
    "start_time": "2022-08-22T17:45:07.402Z"
   },
   {
    "duration": 826,
    "start_time": "2022-08-22T17:45:08.778Z"
   },
   {
    "duration": 156,
    "start_time": "2022-08-22T17:45:09.605Z"
   },
   {
    "duration": 108,
    "start_time": "2022-08-22T17:45:09.763Z"
   },
   {
    "duration": 95,
    "start_time": "2022-08-22T17:45:09.873Z"
   },
   {
    "duration": 67,
    "start_time": "2022-08-22T17:45:09.970Z"
   },
   {
    "duration": 5,
    "start_time": "2022-08-22T17:45:10.039Z"
   },
   {
    "duration": 107,
    "start_time": "2022-08-22T17:45:10.045Z"
   },
   {
    "duration": 99,
    "start_time": "2022-08-22T17:45:10.154Z"
   },
   {
    "duration": 95,
    "start_time": "2022-08-22T17:45:10.256Z"
   },
   {
    "duration": 355,
    "start_time": "2022-08-22T17:45:10.353Z"
   },
   {
    "duration": 447,
    "start_time": "2022-08-22T17:45:10.710Z"
   },
   {
    "duration": 36,
    "start_time": "2022-08-22T17:45:11.158Z"
   },
   {
    "duration": 18,
    "start_time": "2022-08-22T17:45:11.196Z"
   },
   {
    "duration": 6,
    "start_time": "2022-08-22T17:45:11.215Z"
   },
   {
    "duration": 557,
    "start_time": "2022-08-22T17:45:11.222Z"
   },
   {
    "duration": 15,
    "start_time": "2022-08-22T17:45:11.780Z"
   },
   {
    "duration": 155,
    "start_time": "2022-08-22T17:45:11.796Z"
   },
   {
    "duration": 236,
    "start_time": "2022-08-22T17:45:11.953Z"
   },
   {
    "duration": 3,
    "start_time": "2022-08-22T17:45:12.190Z"
   },
   {
    "duration": 63,
    "start_time": "2022-08-22T17:45:12.195Z"
   },
   {
    "duration": 4,
    "start_time": "2022-08-22T17:45:12.259Z"
   },
   {
    "duration": 80086,
    "start_time": "2022-08-22T17:45:12.264Z"
   },
   {
    "duration": 5,
    "start_time": "2022-08-22T17:46:32.412Z"
   },
   {
    "duration": 19794,
    "start_time": "2022-08-22T17:46:32.418Z"
   },
   {
    "duration": 301,
    "start_time": "2022-08-22T17:46:52.214Z"
   },
   {
    "duration": 7,
    "start_time": "2022-08-22T17:46:52.517Z"
   },
   {
    "duration": 124,
    "start_time": "2022-08-22T17:46:52.527Z"
   },
   {
    "duration": 0,
    "start_time": "2022-08-22T17:46:52.654Z"
   },
   {
    "duration": 0,
    "start_time": "2022-08-22T17:46:52.655Z"
   },
   {
    "duration": 0,
    "start_time": "2022-08-22T17:46:52.656Z"
   },
   {
    "duration": 1,
    "start_time": "2022-08-22T17:46:52.657Z"
   },
   {
    "duration": 0,
    "start_time": "2022-08-22T17:46:52.659Z"
   },
   {
    "duration": 154,
    "start_time": "2022-08-22T17:47:51.880Z"
   },
   {
    "duration": 58,
    "start_time": "2022-08-22T17:48:27.056Z"
   },
   {
    "duration": 1417,
    "start_time": "2022-08-22T17:49:32.527Z"
   },
   {
    "duration": 857,
    "start_time": "2022-08-22T17:49:33.945Z"
   },
   {
    "duration": 156,
    "start_time": "2022-08-22T17:49:34.804Z"
   },
   {
    "duration": 115,
    "start_time": "2022-08-22T17:49:34.962Z"
   },
   {
    "duration": 97,
    "start_time": "2022-08-22T17:49:35.079Z"
   },
   {
    "duration": 72,
    "start_time": "2022-08-22T17:49:35.177Z"
   },
   {
    "duration": 6,
    "start_time": "2022-08-22T17:49:35.251Z"
   },
   {
    "duration": 111,
    "start_time": "2022-08-22T17:49:35.258Z"
   },
   {
    "duration": 105,
    "start_time": "2022-08-22T17:49:35.371Z"
   },
   {
    "duration": 89,
    "start_time": "2022-08-22T17:49:35.479Z"
   },
   {
    "duration": 370,
    "start_time": "2022-08-22T17:49:35.570Z"
   },
   {
    "duration": 480,
    "start_time": "2022-08-22T17:49:35.941Z"
   },
   {
    "duration": 39,
    "start_time": "2022-08-22T17:49:36.423Z"
   },
   {
    "duration": 9,
    "start_time": "2022-08-22T17:49:36.464Z"
   },
   {
    "duration": 5,
    "start_time": "2022-08-22T17:49:36.475Z"
   },
   {
    "duration": 622,
    "start_time": "2022-08-22T17:49:36.481Z"
   },
   {
    "duration": 16,
    "start_time": "2022-08-22T17:49:37.106Z"
   },
   {
    "duration": 160,
    "start_time": "2022-08-22T17:49:37.123Z"
   },
   {
    "duration": 285,
    "start_time": "2022-08-22T17:49:37.285Z"
   },
   {
    "duration": 4,
    "start_time": "2022-08-22T17:49:37.572Z"
   },
   {
    "duration": 63,
    "start_time": "2022-08-22T17:49:37.578Z"
   },
   {
    "duration": 3,
    "start_time": "2022-08-22T17:49:37.643Z"
   },
   {
    "duration": 95793,
    "start_time": "2022-08-22T17:49:37.648Z"
   },
   {
    "duration": 5,
    "start_time": "2022-08-22T17:51:13.510Z"
   },
   {
    "duration": 20295,
    "start_time": "2022-08-22T17:51:13.517Z"
   },
   {
    "duration": 297,
    "start_time": "2022-08-22T17:51:33.814Z"
   },
   {
    "duration": 5,
    "start_time": "2022-08-22T17:51:34.114Z"
   },
   {
    "duration": 158,
    "start_time": "2022-08-22T17:51:34.211Z"
   },
   {
    "duration": 133,
    "start_time": "2022-08-22T17:51:34.371Z"
   },
   {
    "duration": 64,
    "start_time": "2022-08-22T17:51:34.506Z"
   },
   {
    "duration": 1236,
    "start_time": "2022-08-22T17:59:13.560Z"
   },
   {
    "duration": 867,
    "start_time": "2022-08-22T17:59:14.798Z"
   },
   {
    "duration": 178,
    "start_time": "2022-08-22T17:59:15.666Z"
   },
   {
    "duration": 107,
    "start_time": "2022-08-22T17:59:15.846Z"
   },
   {
    "duration": 100,
    "start_time": "2022-08-22T17:59:15.954Z"
   },
   {
    "duration": 77,
    "start_time": "2022-08-22T17:59:16.055Z"
   },
   {
    "duration": 7,
    "start_time": "2022-08-22T17:59:16.134Z"
   },
   {
    "duration": 127,
    "start_time": "2022-08-22T17:59:16.142Z"
   },
   {
    "duration": 97,
    "start_time": "2022-08-22T17:59:16.271Z"
   },
   {
    "duration": 86,
    "start_time": "2022-08-22T17:59:16.371Z"
   },
   {
    "duration": 384,
    "start_time": "2022-08-22T17:59:16.459Z"
   },
   {
    "duration": 470,
    "start_time": "2022-08-22T17:59:16.845Z"
   },
   {
    "duration": 39,
    "start_time": "2022-08-22T17:59:17.317Z"
   },
   {
    "duration": 9,
    "start_time": "2022-08-22T17:59:17.357Z"
   },
   {
    "duration": 4,
    "start_time": "2022-08-22T17:59:17.368Z"
   },
   {
    "duration": 590,
    "start_time": "2022-08-22T17:59:17.373Z"
   },
   {
    "duration": 15,
    "start_time": "2022-08-22T17:59:17.964Z"
   },
   {
    "duration": 157,
    "start_time": "2022-08-22T17:59:17.981Z"
   },
   {
    "duration": 241,
    "start_time": "2022-08-22T17:59:18.140Z"
   },
   {
    "duration": 3,
    "start_time": "2022-08-22T17:59:18.383Z"
   },
   {
    "duration": 58,
    "start_time": "2022-08-22T17:59:18.388Z"
   },
   {
    "duration": 4,
    "start_time": "2022-08-22T17:59:18.447Z"
   },
   {
    "duration": 74160,
    "start_time": "2022-08-22T17:59:18.452Z"
   },
   {
    "duration": 4,
    "start_time": "2022-08-22T18:00:32.614Z"
   },
   {
    "duration": 18291,
    "start_time": "2022-08-22T18:00:32.620Z"
   },
   {
    "duration": 214,
    "start_time": "2022-08-22T18:00:50.913Z"
   },
   {
    "duration": 6,
    "start_time": "2022-08-22T18:00:51.211Z"
   },
   {
    "duration": 127,
    "start_time": "2022-08-22T18:05:26.713Z"
   },
   {
    "duration": 0,
    "start_time": "2022-08-22T18:05:26.842Z"
   },
   {
    "duration": 0,
    "start_time": "2022-08-22T18:05:26.843Z"
   },
   {
    "duration": 0,
    "start_time": "2022-08-22T18:05:26.844Z"
   },
   {
    "duration": 0,
    "start_time": "2022-08-22T18:05:26.845Z"
   },
   {
    "duration": 0,
    "start_time": "2022-08-22T18:05:26.845Z"
   },
   {
    "duration": 274693,
    "start_time": "2022-08-22T18:10:38.519Z"
   },
   {
    "duration": 8,
    "start_time": "2022-08-22T18:15:13.214Z"
   },
   {
    "duration": 9,
    "start_time": "2022-08-22T18:16:08.617Z"
   },
   {
    "duration": 2,
    "start_time": "2022-08-22T18:16:48.829Z"
   },
   {
    "duration": 811,
    "start_time": "2022-08-22T18:18:31.106Z"
   },
   {
    "duration": 5,
    "start_time": "2022-08-22T18:22:04.016Z"
   },
   {
    "duration": 1572,
    "start_time": "2022-08-23T09:19:14.356Z"
   },
   {
    "duration": 1132,
    "start_time": "2022-08-23T09:19:15.930Z"
   },
   {
    "duration": 146,
    "start_time": "2022-08-23T09:19:17.064Z"
   },
   {
    "duration": 107,
    "start_time": "2022-08-23T09:19:17.212Z"
   },
   {
    "duration": 129,
    "start_time": "2022-08-23T09:19:17.321Z"
   },
   {
    "duration": 76,
    "start_time": "2022-08-23T09:19:17.452Z"
   },
   {
    "duration": 7,
    "start_time": "2022-08-23T09:19:17.529Z"
   },
   {
    "duration": 114,
    "start_time": "2022-08-23T09:19:17.538Z"
   },
   {
    "duration": 103,
    "start_time": "2022-08-23T09:19:17.654Z"
   },
   {
    "duration": 95,
    "start_time": "2022-08-23T09:19:17.760Z"
   },
   {
    "duration": 377,
    "start_time": "2022-08-23T09:19:17.857Z"
   },
   {
    "duration": 490,
    "start_time": "2022-08-23T09:19:18.236Z"
   },
   {
    "duration": 34,
    "start_time": "2022-08-23T09:19:18.728Z"
   },
   {
    "duration": 22,
    "start_time": "2022-08-23T09:19:18.764Z"
   },
   {
    "duration": 5,
    "start_time": "2022-08-23T09:19:18.787Z"
   },
   {
    "duration": 822,
    "start_time": "2022-08-23T09:19:18.793Z"
   },
   {
    "duration": 16,
    "start_time": "2022-08-23T09:19:19.617Z"
   },
   {
    "duration": 215,
    "start_time": "2022-08-23T09:19:19.634Z"
   },
   {
    "duration": 333,
    "start_time": "2022-08-23T09:19:19.851Z"
   },
   {
    "duration": 4,
    "start_time": "2022-08-23T09:19:20.185Z"
   },
   {
    "duration": 72,
    "start_time": "2022-08-23T09:19:20.191Z"
   },
   {
    "duration": 4,
    "start_time": "2022-08-23T09:19:20.265Z"
   },
   {
    "duration": 92201,
    "start_time": "2022-08-23T09:19:20.284Z"
   },
   {
    "duration": 95,
    "start_time": "2022-08-23T09:20:52.491Z"
   },
   {
    "duration": 21499,
    "start_time": "2022-08-23T09:20:52.588Z"
   },
   {
    "duration": 301,
    "start_time": "2022-08-23T09:21:14.088Z"
   },
   {
    "duration": 6,
    "start_time": "2022-08-23T09:21:14.488Z"
   },
   {
    "duration": 281294,
    "start_time": "2022-08-23T09:21:14.497Z"
   },
   {
    "duration": 3,
    "start_time": "2022-08-23T09:25:55.793Z"
   },
   {
    "duration": 713,
    "start_time": "2022-08-23T09:25:55.799Z"
   },
   {
    "duration": 71,
    "start_time": "2022-08-23T09:25:56.514Z"
   },
   {
    "duration": 7,
    "start_time": "2022-08-23T09:25:56.588Z"
   },
   {
    "duration": 208,
    "start_time": "2022-08-23T09:25:56.596Z"
   },
   {
    "duration": 84,
    "start_time": "2022-08-23T09:25:56.805Z"
   },
   {
    "duration": 1823,
    "start_time": "2022-08-23T14:04:35.623Z"
   },
   {
    "duration": 3444,
    "start_time": "2022-08-23T14:04:37.448Z"
   },
   {
    "duration": 220,
    "start_time": "2022-08-23T14:04:40.894Z"
   },
   {
    "duration": 143,
    "start_time": "2022-08-23T14:04:41.116Z"
   },
   {
    "duration": 131,
    "start_time": "2022-08-23T14:04:41.261Z"
   },
   {
    "duration": 97,
    "start_time": "2022-08-23T14:04:41.395Z"
   },
   {
    "duration": 9,
    "start_time": "2022-08-23T14:04:41.494Z"
   },
   {
    "duration": 144,
    "start_time": "2022-08-23T14:04:41.505Z"
   },
   {
    "duration": 125,
    "start_time": "2022-08-23T14:04:41.652Z"
   },
   {
    "duration": 128,
    "start_time": "2022-08-23T14:04:41.781Z"
   },
   {
    "duration": 610,
    "start_time": "2022-08-23T14:04:41.911Z"
   },
   {
    "duration": 669,
    "start_time": "2022-08-23T14:04:42.523Z"
   },
   {
    "duration": 44,
    "start_time": "2022-08-23T14:04:43.194Z"
   },
   {
    "duration": 12,
    "start_time": "2022-08-23T14:04:43.240Z"
   },
   {
    "duration": 6,
    "start_time": "2022-08-23T14:04:43.254Z"
   },
   {
    "duration": 1196,
    "start_time": "2022-08-23T14:04:43.262Z"
   },
   {
    "duration": 17,
    "start_time": "2022-08-23T14:04:44.461Z"
   },
   {
    "duration": 223,
    "start_time": "2022-08-23T14:04:44.492Z"
   },
   {
    "duration": 361,
    "start_time": "2022-08-23T14:04:44.717Z"
   },
   {
    "duration": 5,
    "start_time": "2022-08-23T14:04:45.079Z"
   },
   {
    "duration": 83,
    "start_time": "2022-08-23T14:04:45.091Z"
   },
   {
    "duration": 16,
    "start_time": "2022-08-23T14:04:45.176Z"
   },
   {
    "duration": 122204,
    "start_time": "2022-08-23T14:04:45.194Z"
   },
   {
    "duration": 90,
    "start_time": "2022-08-23T14:06:47.402Z"
   },
   {
    "duration": 30807,
    "start_time": "2022-08-23T14:06:47.495Z"
   },
   {
    "duration": 487,
    "start_time": "2022-08-23T14:07:18.304Z"
   },
   {
    "duration": 7,
    "start_time": "2022-08-23T14:07:18.793Z"
   },
   {
    "duration": 1676,
    "start_time": "2022-08-23T14:57:42.047Z"
   },
   {
    "duration": 1148,
    "start_time": "2022-08-23T14:57:43.725Z"
   },
   {
    "duration": 374,
    "start_time": "2022-08-23T14:57:44.876Z"
   },
   {
    "duration": 188,
    "start_time": "2022-08-23T14:57:45.254Z"
   },
   {
    "duration": 128,
    "start_time": "2022-08-23T14:57:45.444Z"
   },
   {
    "duration": 89,
    "start_time": "2022-08-23T14:57:45.574Z"
   },
   {
    "duration": 7,
    "start_time": "2022-08-23T14:57:45.665Z"
   },
   {
    "duration": 164,
    "start_time": "2022-08-23T14:57:45.675Z"
   },
   {
    "duration": 138,
    "start_time": "2022-08-23T14:57:45.841Z"
   },
   {
    "duration": 121,
    "start_time": "2022-08-23T14:57:45.982Z"
   },
   {
    "duration": 477,
    "start_time": "2022-08-23T14:57:46.106Z"
   },
   {
    "duration": 637,
    "start_time": "2022-08-23T14:57:46.585Z"
   },
   {
    "duration": 42,
    "start_time": "2022-08-23T14:57:47.224Z"
   },
   {
    "duration": 26,
    "start_time": "2022-08-23T14:57:47.268Z"
   },
   {
    "duration": 8,
    "start_time": "2022-08-23T14:57:47.296Z"
   },
   {
    "duration": 1183,
    "start_time": "2022-08-23T14:57:47.306Z"
   },
   {
    "duration": 22,
    "start_time": "2022-08-23T14:57:48.494Z"
   },
   {
    "duration": 247,
    "start_time": "2022-08-23T14:57:48.519Z"
   },
   {
    "duration": 483,
    "start_time": "2022-08-23T14:57:48.768Z"
   },
   {
    "duration": 6,
    "start_time": "2022-08-23T14:57:49.254Z"
   },
   {
    "duration": 122,
    "start_time": "2022-08-23T14:57:49.262Z"
   },
   {
    "duration": 8,
    "start_time": "2022-08-23T14:57:49.391Z"
   },
   {
    "duration": 135492,
    "start_time": "2022-08-23T14:57:49.401Z"
   },
   {
    "duration": 6,
    "start_time": "2022-08-23T15:00:04.895Z"
   },
   {
    "duration": 35694,
    "start_time": "2022-08-23T15:00:04.903Z"
   },
   {
    "duration": 403,
    "start_time": "2022-08-23T15:00:40.599Z"
   },
   {
    "duration": 91,
    "start_time": "2022-08-23T15:00:41.005Z"
   },
   {
    "duration": 1689,
    "start_time": "2022-08-23T15:07:23.286Z"
   },
   {
    "duration": 1090,
    "start_time": "2022-08-23T15:07:24.978Z"
   },
   {
    "duration": 202,
    "start_time": "2022-08-23T15:07:26.073Z"
   },
   {
    "duration": 148,
    "start_time": "2022-08-23T15:07:26.276Z"
   },
   {
    "duration": 118,
    "start_time": "2022-08-23T15:07:26.426Z"
   },
   {
    "duration": 92,
    "start_time": "2022-08-23T15:07:26.546Z"
   },
   {
    "duration": 7,
    "start_time": "2022-08-23T15:07:26.640Z"
   },
   {
    "duration": 142,
    "start_time": "2022-08-23T15:07:26.649Z"
   },
   {
    "duration": 136,
    "start_time": "2022-08-23T15:07:26.794Z"
   },
   {
    "duration": 111,
    "start_time": "2022-08-23T15:07:26.932Z"
   },
   {
    "duration": 470,
    "start_time": "2022-08-23T15:07:27.046Z"
   },
   {
    "duration": 585,
    "start_time": "2022-08-23T15:07:27.518Z"
   },
   {
    "duration": 40,
    "start_time": "2022-08-23T15:07:28.105Z"
   },
   {
    "duration": 12,
    "start_time": "2022-08-23T15:07:28.148Z"
   },
   {
    "duration": 10,
    "start_time": "2022-08-23T15:07:28.162Z"
   },
   {
    "duration": 1061,
    "start_time": "2022-08-23T15:07:28.191Z"
   },
   {
    "duration": 16,
    "start_time": "2022-08-23T15:07:29.254Z"
   },
   {
    "duration": 244,
    "start_time": "2022-08-23T15:07:29.272Z"
   },
   {
    "duration": 363,
    "start_time": "2022-08-23T15:07:29.519Z"
   },
   {
    "duration": 8,
    "start_time": "2022-08-23T15:07:29.884Z"
   },
   {
    "duration": 79,
    "start_time": "2022-08-23T15:07:29.894Z"
   },
   {
    "duration": 5,
    "start_time": "2022-08-23T15:07:29.992Z"
   },
   {
    "duration": 135302,
    "start_time": "2022-08-23T15:07:30.000Z"
   },
   {
    "duration": 102,
    "start_time": "2022-08-23T15:09:45.307Z"
   },
   {
    "duration": 40588,
    "start_time": "2022-08-23T15:09:45.417Z"
   },
   {
    "duration": 392,
    "start_time": "2022-08-23T15:10:26.008Z"
   },
   {
    "duration": 90,
    "start_time": "2022-08-23T15:10:26.405Z"
   },
   {
    "duration": 2804,
    "start_time": "2022-08-23T17:10:08.063Z"
   },
   {
    "duration": 892,
    "start_time": "2022-08-23T17:10:10.870Z"
   },
   {
    "duration": 159,
    "start_time": "2022-08-23T17:10:11.763Z"
   },
   {
    "duration": 107,
    "start_time": "2022-08-23T17:10:11.924Z"
   },
   {
    "duration": 112,
    "start_time": "2022-08-23T17:10:12.032Z"
   },
   {
    "duration": 74,
    "start_time": "2022-08-23T17:10:12.145Z"
   },
   {
    "duration": 5,
    "start_time": "2022-08-23T17:10:12.221Z"
   },
   {
    "duration": 119,
    "start_time": "2022-08-23T17:10:12.228Z"
   },
   {
    "duration": 102,
    "start_time": "2022-08-23T17:10:12.348Z"
   },
   {
    "duration": 93,
    "start_time": "2022-08-23T17:10:12.452Z"
   },
   {
    "duration": 430,
    "start_time": "2022-08-23T17:10:12.547Z"
   },
   {
    "duration": 514,
    "start_time": "2022-08-23T17:10:12.985Z"
   },
   {
    "duration": 39,
    "start_time": "2022-08-23T17:10:13.500Z"
   },
   {
    "duration": 11,
    "start_time": "2022-08-23T17:10:13.541Z"
   },
   {
    "duration": 4,
    "start_time": "2022-08-23T17:10:13.554Z"
   },
   {
    "duration": 814,
    "start_time": "2022-08-23T17:10:13.560Z"
   },
   {
    "duration": 26,
    "start_time": "2022-08-23T17:10:14.376Z"
   },
   {
    "duration": 219,
    "start_time": "2022-08-23T17:10:14.404Z"
   },
   {
    "duration": 354,
    "start_time": "2022-08-23T17:10:14.626Z"
   },
   {
    "duration": 9,
    "start_time": "2022-08-23T17:10:14.982Z"
   },
   {
    "duration": 84,
    "start_time": "2022-08-23T17:10:14.993Z"
   },
   {
    "duration": 4,
    "start_time": "2022-08-23T17:10:15.079Z"
   },
   {
    "duration": 103001,
    "start_time": "2022-08-23T17:10:15.084Z"
   },
   {
    "duration": 4,
    "start_time": "2022-08-23T17:11:58.087Z"
   },
   {
    "duration": 23100,
    "start_time": "2022-08-23T17:11:58.093Z"
   },
   {
    "duration": 304,
    "start_time": "2022-08-23T17:12:21.285Z"
   },
   {
    "duration": 96,
    "start_time": "2022-08-23T17:12:21.590Z"
   },
   {
    "duration": 261,
    "start_time": "2022-08-23T17:12:21.690Z"
   },
   {
    "duration": 9,
    "start_time": "2022-08-23T17:12:21.952Z"
   },
   {
    "duration": 0,
    "start_time": "2022-08-23T17:12:21.962Z"
   },
   {
    "duration": 0,
    "start_time": "2022-08-23T17:12:21.963Z"
   },
   {
    "duration": 0,
    "start_time": "2022-08-23T17:12:21.964Z"
   },
   {
    "duration": 0,
    "start_time": "2022-08-23T17:12:21.965Z"
   },
   {
    "duration": 0,
    "start_time": "2022-08-23T17:12:21.966Z"
   },
   {
    "duration": 86,
    "start_time": "2022-08-23T17:20:51.226Z"
   },
   {
    "duration": 85,
    "start_time": "2022-08-23T17:21:10.080Z"
   },
   {
    "duration": 139,
    "start_time": "2022-08-23T17:21:18.640Z"
   },
   {
    "duration": 3,
    "start_time": "2022-08-23T17:21:35.249Z"
   },
   {
    "duration": 414708,
    "start_time": "2022-08-23T17:21:35.884Z"
   },
   {
    "duration": 4,
    "start_time": "2022-08-23T17:30:02.234Z"
   },
   {
    "duration": 782,
    "start_time": "2022-08-23T17:30:04.729Z"
   },
   {
    "duration": 5,
    "start_time": "2022-08-23T17:30:05.885Z"
   },
   {
    "duration": 1573,
    "start_time": "2022-08-24T04:56:14.527Z"
   },
   {
    "duration": 1243,
    "start_time": "2022-08-24T04:56:16.102Z"
   },
   {
    "duration": 164,
    "start_time": "2022-08-24T04:56:17.346Z"
   },
   {
    "duration": 135,
    "start_time": "2022-08-24T04:56:17.512Z"
   },
   {
    "duration": 98,
    "start_time": "2022-08-24T04:56:17.649Z"
   },
   {
    "duration": 75,
    "start_time": "2022-08-24T04:56:17.748Z"
   },
   {
    "duration": 7,
    "start_time": "2022-08-24T04:56:17.824Z"
   },
   {
    "duration": 125,
    "start_time": "2022-08-24T04:56:17.833Z"
   },
   {
    "duration": 105,
    "start_time": "2022-08-24T04:56:17.960Z"
   },
   {
    "duration": 86,
    "start_time": "2022-08-24T04:56:18.067Z"
   },
   {
    "duration": 380,
    "start_time": "2022-08-24T04:56:18.154Z"
   },
   {
    "duration": 486,
    "start_time": "2022-08-24T04:56:18.535Z"
   },
   {
    "duration": 38,
    "start_time": "2022-08-24T04:56:19.023Z"
   },
   {
    "duration": 10,
    "start_time": "2022-08-24T04:56:19.063Z"
   },
   {
    "duration": 2,
    "start_time": "2022-08-24T04:56:19.087Z"
   },
   {
    "duration": 751,
    "start_time": "2022-08-24T04:56:19.091Z"
   },
   {
    "duration": 15,
    "start_time": "2022-08-24T04:56:19.843Z"
   },
   {
    "duration": 216,
    "start_time": "2022-08-24T04:56:19.860Z"
   },
   {
    "duration": 320,
    "start_time": "2022-08-24T04:56:20.078Z"
   },
   {
    "duration": 4,
    "start_time": "2022-08-24T04:56:20.399Z"
   },
   {
    "duration": 88,
    "start_time": "2022-08-24T04:56:20.404Z"
   },
   {
    "duration": 3,
    "start_time": "2022-08-24T04:56:20.494Z"
   },
   {
    "duration": 94892,
    "start_time": "2022-08-24T04:56:20.498Z"
   },
   {
    "duration": 95,
    "start_time": "2022-08-24T04:57:55.394Z"
   },
   {
    "duration": 29118,
    "start_time": "2022-08-24T04:57:55.491Z"
   },
   {
    "duration": 400,
    "start_time": "2022-08-24T04:58:24.688Z"
   },
   {
    "duration": 97,
    "start_time": "2022-08-24T04:58:25.090Z"
   },
   {
    "duration": 165,
    "start_time": "2022-08-24T04:58:25.191Z"
   },
   {
    "duration": 9,
    "start_time": "2022-08-24T04:58:25.358Z"
   },
   {
    "duration": 0,
    "start_time": "2022-08-24T04:58:25.369Z"
   },
   {
    "duration": 0,
    "start_time": "2022-08-24T04:58:25.371Z"
   },
   {
    "duration": 0,
    "start_time": "2022-08-24T04:58:25.372Z"
   },
   {
    "duration": 0,
    "start_time": "2022-08-24T04:58:25.373Z"
   },
   {
    "duration": 0,
    "start_time": "2022-08-24T04:58:25.375Z"
   },
   {
    "duration": 83,
    "start_time": "2022-08-24T06:39:26.486Z"
   },
   {
    "duration": 1472,
    "start_time": "2022-08-24T06:39:34.972Z"
   },
   {
    "duration": 1068,
    "start_time": "2022-08-24T06:39:36.446Z"
   },
   {
    "duration": 155,
    "start_time": "2022-08-24T06:39:37.515Z"
   },
   {
    "duration": 103,
    "start_time": "2022-08-24T06:39:37.671Z"
   },
   {
    "duration": 92,
    "start_time": "2022-08-24T06:39:37.775Z"
   },
   {
    "duration": 69,
    "start_time": "2022-08-24T06:39:37.869Z"
   },
   {
    "duration": 6,
    "start_time": "2022-08-24T06:39:37.940Z"
   },
   {
    "duration": 115,
    "start_time": "2022-08-24T06:39:37.948Z"
   },
   {
    "duration": 91,
    "start_time": "2022-08-24T06:39:38.064Z"
   },
   {
    "duration": 90,
    "start_time": "2022-08-24T06:39:38.158Z"
   },
   {
    "duration": 373,
    "start_time": "2022-08-24T06:39:38.250Z"
   },
   {
    "duration": 456,
    "start_time": "2022-08-24T06:39:38.624Z"
   },
   {
    "duration": 41,
    "start_time": "2022-08-24T06:39:39.082Z"
   },
   {
    "duration": 9,
    "start_time": "2022-08-24T06:39:39.125Z"
   },
   {
    "duration": 5,
    "start_time": "2022-08-24T06:39:39.136Z"
   },
   {
    "duration": 571,
    "start_time": "2022-08-24T06:39:39.142Z"
   },
   {
    "duration": 14,
    "start_time": "2022-08-24T06:39:39.715Z"
   },
   {
    "duration": 159,
    "start_time": "2022-08-24T06:39:39.731Z"
   },
   {
    "duration": 248,
    "start_time": "2022-08-24T06:39:39.891Z"
   },
   {
    "duration": 3,
    "start_time": "2022-08-24T06:39:40.141Z"
   },
   {
    "duration": 58,
    "start_time": "2022-08-24T06:39:40.145Z"
   },
   {
    "duration": 3,
    "start_time": "2022-08-24T06:39:40.204Z"
   },
   {
    "duration": 71325,
    "start_time": "2022-08-24T06:39:40.208Z"
   },
   {
    "duration": 97,
    "start_time": "2022-08-24T06:40:51.601Z"
   },
   {
    "duration": 18403,
    "start_time": "2022-08-24T06:40:51.700Z"
   },
   {
    "duration": 230,
    "start_time": "2022-08-24T06:41:10.105Z"
   },
   {
    "duration": 5,
    "start_time": "2022-08-24T06:41:10.399Z"
   },
   {
    "duration": 289000,
    "start_time": "2022-08-24T06:41:10.408Z"
   },
   {
    "duration": 4,
    "start_time": "2022-08-24T06:45:59.409Z"
   },
   {
    "duration": 800,
    "start_time": "2022-08-24T06:45:59.415Z"
   },
   {
    "duration": 4,
    "start_time": "2022-08-24T06:46:00.224Z"
   },
   {
    "duration": 9,
    "start_time": "2022-08-24T06:46:00.299Z"
   },
   {
    "duration": 146085,
    "start_time": "2022-08-24T06:46:00.309Z"
   },
   {
    "duration": 4,
    "start_time": "2022-08-24T06:48:26.396Z"
   },
   {
    "duration": 28,
    "start_time": "2022-08-24T06:56:41.100Z"
   },
   {
    "duration": 57,
    "start_time": "2022-08-24T06:56:49.191Z"
   },
   {
    "duration": 50,
    "start_time": "2022-08-24T06:56:57.302Z"
   },
   {
    "duration": 146531,
    "start_time": "2022-08-24T06:57:06.058Z"
   },
   {
    "duration": 3,
    "start_time": "2022-08-24T07:00:30.940Z"
   },
   {
    "duration": 455,
    "start_time": "2022-08-24T07:01:06.563Z"
   },
   {
    "duration": 504,
    "start_time": "2022-08-24T07:02:09.833Z"
   },
   {
    "duration": 482,
    "start_time": "2022-08-24T07:02:42.152Z"
   },
   {
    "duration": 1330,
    "start_time": "2022-08-24T07:03:41.942Z"
   },
   {
    "duration": 850,
    "start_time": "2022-08-24T07:03:43.274Z"
   },
   {
    "duration": 155,
    "start_time": "2022-08-24T07:03:44.126Z"
   },
   {
    "duration": 104,
    "start_time": "2022-08-24T07:03:44.282Z"
   },
   {
    "duration": 115,
    "start_time": "2022-08-24T07:03:44.387Z"
   },
   {
    "duration": 71,
    "start_time": "2022-08-24T07:03:44.504Z"
   },
   {
    "duration": 24,
    "start_time": "2022-08-24T07:03:44.577Z"
   },
   {
    "duration": 116,
    "start_time": "2022-08-24T07:03:44.603Z"
   },
   {
    "duration": 89,
    "start_time": "2022-08-24T07:03:44.721Z"
   },
   {
    "duration": 93,
    "start_time": "2022-08-24T07:03:44.814Z"
   },
   {
    "duration": 400,
    "start_time": "2022-08-24T07:03:44.908Z"
   },
   {
    "duration": 467,
    "start_time": "2022-08-24T07:03:45.310Z"
   },
   {
    "duration": 43,
    "start_time": "2022-08-24T07:03:45.778Z"
   },
   {
    "duration": 11,
    "start_time": "2022-08-24T07:03:45.823Z"
   },
   {
    "duration": 6,
    "start_time": "2022-08-24T07:03:45.836Z"
   },
   {
    "duration": 617,
    "start_time": "2022-08-24T07:03:45.844Z"
   },
   {
    "duration": 16,
    "start_time": "2022-08-24T07:03:46.463Z"
   },
   {
    "duration": 162,
    "start_time": "2022-08-24T07:03:46.481Z"
   },
   {
    "duration": 233,
    "start_time": "2022-08-24T07:03:46.644Z"
   },
   {
    "duration": 6,
    "start_time": "2022-08-24T07:03:46.878Z"
   },
   {
    "duration": 79,
    "start_time": "2022-08-24T07:03:46.886Z"
   },
   {
    "duration": 4,
    "start_time": "2022-08-24T07:03:46.966Z"
   },
   {
    "duration": 104173,
    "start_time": "2022-08-24T07:03:46.971Z"
   },
   {
    "duration": 5,
    "start_time": "2022-08-24T07:05:31.199Z"
   },
   {
    "duration": 17401,
    "start_time": "2022-08-24T07:05:31.205Z"
   },
   {
    "duration": 297,
    "start_time": "2022-08-24T07:05:48.608Z"
   },
   {
    "duration": 94,
    "start_time": "2022-08-24T07:05:48.907Z"
   },
   {
    "duration": 284612,
    "start_time": "2022-08-24T07:05:49.004Z"
   },
   {
    "duration": 3,
    "start_time": "2022-08-24T07:10:33.698Z"
   },
   {
    "duration": 716,
    "start_time": "2022-08-24T07:10:33.703Z"
   },
   {
    "duration": 6,
    "start_time": "2022-08-24T07:10:34.420Z"
   },
   {
    "duration": 12,
    "start_time": "2022-08-24T07:10:34.428Z"
   },
   {
    "duration": 146769,
    "start_time": "2022-08-24T07:10:34.442Z"
   },
   {
    "duration": 4,
    "start_time": "2022-08-24T07:13:01.213Z"
   },
   {
    "duration": 597,
    "start_time": "2022-08-24T07:13:01.218Z"
   },
   {
    "duration": 6,
    "start_time": "2022-08-24T07:17:10.729Z"
   },
   {
    "duration": 4,
    "start_time": "2022-08-24T07:17:12.440Z"
   },
   {
    "duration": 213246,
    "start_time": "2022-08-24T07:17:28.992Z"
   },
   {
    "duration": 613,
    "start_time": "2022-08-24T07:27:28.001Z"
   },
   {
    "duration": 4,
    "start_time": "2022-08-24T07:39:13.866Z"
   },
   {
    "duration": 281136,
    "start_time": "2022-08-24T07:39:16.263Z"
   },
   {
    "duration": 1333,
    "start_time": "2022-08-24T07:51:02.872Z"
   },
   {
    "duration": 878,
    "start_time": "2022-08-24T07:51:04.209Z"
   },
   {
    "duration": 177,
    "start_time": "2022-08-24T07:51:05.089Z"
   },
   {
    "duration": 105,
    "start_time": "2022-08-24T07:51:05.267Z"
   },
   {
    "duration": 100,
    "start_time": "2022-08-24T07:51:05.373Z"
   },
   {
    "duration": 82,
    "start_time": "2022-08-24T07:51:05.475Z"
   },
   {
    "duration": 7,
    "start_time": "2022-08-24T07:51:05.559Z"
   },
   {
    "duration": 108,
    "start_time": "2022-08-24T07:51:05.568Z"
   },
   {
    "duration": 94,
    "start_time": "2022-08-24T07:51:05.678Z"
   },
   {
    "duration": 88,
    "start_time": "2022-08-24T07:51:05.774Z"
   },
   {
    "duration": 379,
    "start_time": "2022-08-24T07:51:05.865Z"
   },
   {
    "duration": 466,
    "start_time": "2022-08-24T07:51:06.246Z"
   },
   {
    "duration": 45,
    "start_time": "2022-08-24T07:51:06.713Z"
   },
   {
    "duration": 10,
    "start_time": "2022-08-24T07:51:06.760Z"
   },
   {
    "duration": 9,
    "start_time": "2022-08-24T07:51:06.771Z"
   },
   {
    "duration": 587,
    "start_time": "2022-08-24T07:51:06.781Z"
   },
   {
    "duration": 15,
    "start_time": "2022-08-24T07:51:07.369Z"
   },
   {
    "duration": 157,
    "start_time": "2022-08-24T07:51:07.385Z"
   },
   {
    "duration": 249,
    "start_time": "2022-08-24T07:51:07.544Z"
   },
   {
    "duration": 5,
    "start_time": "2022-08-24T07:51:07.794Z"
   },
   {
    "duration": 54,
    "start_time": "2022-08-24T07:51:07.801Z"
   },
   {
    "duration": 3,
    "start_time": "2022-08-24T07:51:07.857Z"
   },
   {
    "duration": 73536,
    "start_time": "2022-08-24T07:51:07.862Z"
   },
   {
    "duration": 5,
    "start_time": "2022-08-24T07:52:21.400Z"
   },
   {
    "duration": 19399,
    "start_time": "2022-08-24T07:52:21.407Z"
   },
   {
    "duration": 298,
    "start_time": "2022-08-24T07:52:40.808Z"
   },
   {
    "duration": 90,
    "start_time": "2022-08-24T07:52:41.110Z"
   },
   {
    "duration": 101,
    "start_time": "2022-08-24T07:52:41.202Z"
   },
   {
    "duration": 298699,
    "start_time": "2022-08-24T07:52:41.305Z"
   },
   {
    "duration": 4,
    "start_time": "2022-08-24T07:57:40.005Z"
   },
   {
    "duration": 810,
    "start_time": "2022-08-24T07:57:40.010Z"
   },
   {
    "duration": 4,
    "start_time": "2022-08-24T07:57:40.899Z"
   },
   {
    "duration": 9,
    "start_time": "2022-08-24T07:57:40.904Z"
   },
   {
    "duration": 127,
    "start_time": "2022-08-24T07:57:40.915Z"
   },
   {
    "duration": 0,
    "start_time": "2022-08-24T07:57:41.044Z"
   },
   {
    "duration": 0,
    "start_time": "2022-08-24T07:57:41.045Z"
   },
   {
    "duration": 4,
    "start_time": "2022-08-24T08:06:50.211Z"
   },
   {
    "duration": 8,
    "start_time": "2022-08-24T08:06:52.204Z"
   },
   {
    "duration": 9,
    "start_time": "2022-08-24T08:53:42.239Z"
   },
   {
    "duration": 4,
    "start_time": "2022-08-24T08:54:07.770Z"
   },
   {
    "duration": 9,
    "start_time": "2022-08-24T08:54:09.014Z"
   },
   {
    "duration": 54,
    "start_time": "2022-08-24T08:58:06.113Z"
   },
   {
    "duration": 7,
    "start_time": "2022-08-24T08:59:00.907Z"
   },
   {
    "duration": 101,
    "start_time": "2022-08-24T08:59:03.442Z"
   },
   {
    "duration": 65,
    "start_time": "2022-08-24T09:32:34.341Z"
   },
   {
    "duration": 5,
    "start_time": "2022-08-24T09:32:40.342Z"
   },
   {
    "duration": 146078,
    "start_time": "2022-08-24T09:32:42.545Z"
   },
   {
    "duration": 4,
    "start_time": "2022-08-24T09:35:08.626Z"
   },
   {
    "duration": 464,
    "start_time": "2022-08-24T09:39:18.156Z"
   },
   {
    "duration": 52,
    "start_time": "2022-08-24T09:39:18.622Z"
   },
   {
    "duration": 4,
    "start_time": "2022-08-24T09:46:26.280Z"
   },
   {
    "duration": 6,
    "start_time": "2022-08-24T09:47:04.415Z"
   },
   {
    "duration": 2336,
    "start_time": "2022-08-24T10:05:30.662Z"
   },
   {
    "duration": 821,
    "start_time": "2022-08-24T10:05:33.000Z"
   },
   {
    "duration": 165,
    "start_time": "2022-08-24T10:05:33.823Z"
   },
   {
    "duration": 108,
    "start_time": "2022-08-24T10:05:33.990Z"
   },
   {
    "duration": 86,
    "start_time": "2022-08-24T10:05:34.099Z"
   },
   {
    "duration": 70,
    "start_time": "2022-08-24T10:05:34.187Z"
   },
   {
    "duration": 5,
    "start_time": "2022-08-24T10:05:34.259Z"
   },
   {
    "duration": 121,
    "start_time": "2022-08-24T10:05:34.266Z"
   },
   {
    "duration": 126,
    "start_time": "2022-08-24T10:05:34.388Z"
   },
   {
    "duration": 107,
    "start_time": "2022-08-24T10:05:34.517Z"
   },
   {
    "duration": 381,
    "start_time": "2022-08-24T10:05:34.626Z"
   },
   {
    "duration": 466,
    "start_time": "2022-08-24T10:05:35.008Z"
   },
   {
    "duration": 41,
    "start_time": "2022-08-24T10:05:35.475Z"
   },
   {
    "duration": 9,
    "start_time": "2022-08-24T10:05:35.517Z"
   },
   {
    "duration": 15,
    "start_time": "2022-08-24T10:05:35.527Z"
   },
   {
    "duration": 600,
    "start_time": "2022-08-24T10:05:35.543Z"
   },
   {
    "duration": 17,
    "start_time": "2022-08-24T10:05:36.144Z"
   },
   {
    "duration": 166,
    "start_time": "2022-08-24T10:05:36.162Z"
   },
   {
    "duration": 239,
    "start_time": "2022-08-24T10:05:36.329Z"
   },
   {
    "duration": 4,
    "start_time": "2022-08-24T10:05:36.569Z"
   },
   {
    "duration": 93,
    "start_time": "2022-08-24T10:05:36.574Z"
   },
   {
    "duration": 4,
    "start_time": "2022-08-24T10:05:36.668Z"
   },
   {
    "duration": 76826,
    "start_time": "2022-08-24T10:05:36.673Z"
   },
   {
    "duration": 6,
    "start_time": "2022-08-24T10:06:53.501Z"
   },
   {
    "duration": 20295,
    "start_time": "2022-08-24T10:06:53.513Z"
   },
   {
    "duration": 212,
    "start_time": "2022-08-24T10:07:13.899Z"
   },
   {
    "duration": 89,
    "start_time": "2022-08-24T10:07:14.113Z"
   },
   {
    "duration": 99,
    "start_time": "2022-08-24T10:07:14.206Z"
   },
   {
    "duration": 289698,
    "start_time": "2022-08-24T10:07:14.306Z"
   },
   {
    "duration": 4,
    "start_time": "2022-08-24T10:12:04.005Z"
   },
   {
    "duration": 802,
    "start_time": "2022-08-24T10:12:04.011Z"
   },
   {
    "duration": 4,
    "start_time": "2022-08-24T10:12:04.815Z"
   },
   {
    "duration": 5,
    "start_time": "2022-08-24T10:12:04.820Z"
   },
   {
    "duration": 1312,
    "start_time": "2022-08-24T10:36:05.975Z"
   },
   {
    "duration": 815,
    "start_time": "2022-08-24T10:36:07.289Z"
   },
   {
    "duration": 149,
    "start_time": "2022-08-24T10:36:08.106Z"
   },
   {
    "duration": 103,
    "start_time": "2022-08-24T10:36:08.257Z"
   },
   {
    "duration": 92,
    "start_time": "2022-08-24T10:36:08.361Z"
   },
   {
    "duration": 73,
    "start_time": "2022-08-24T10:36:08.454Z"
   },
   {
    "duration": 6,
    "start_time": "2022-08-24T10:36:08.528Z"
   },
   {
    "duration": 108,
    "start_time": "2022-08-24T10:36:08.536Z"
   },
   {
    "duration": 88,
    "start_time": "2022-08-24T10:36:08.646Z"
   },
   {
    "duration": 84,
    "start_time": "2022-08-24T10:36:08.736Z"
   },
   {
    "duration": 360,
    "start_time": "2022-08-24T10:36:08.822Z"
   },
   {
    "duration": 477,
    "start_time": "2022-08-24T10:36:09.184Z"
   },
   {
    "duration": 44,
    "start_time": "2022-08-24T10:36:09.662Z"
   },
   {
    "duration": 11,
    "start_time": "2022-08-24T10:36:09.708Z"
   },
   {
    "duration": 8,
    "start_time": "2022-08-24T10:36:09.720Z"
   },
   {
    "duration": 583,
    "start_time": "2022-08-24T10:36:09.730Z"
   },
   {
    "duration": 16,
    "start_time": "2022-08-24T10:36:10.314Z"
   },
   {
    "duration": 162,
    "start_time": "2022-08-24T10:36:10.332Z"
   },
   {
    "duration": 293,
    "start_time": "2022-08-24T10:36:10.496Z"
   },
   {
    "duration": 8,
    "start_time": "2022-08-24T10:36:10.791Z"
   },
   {
    "duration": 69,
    "start_time": "2022-08-24T10:36:10.801Z"
   },
   {
    "duration": 3,
    "start_time": "2022-08-24T10:36:10.871Z"
   },
   {
    "duration": 74123,
    "start_time": "2022-08-24T10:36:10.876Z"
   },
   {
    "duration": 6,
    "start_time": "2022-08-24T10:37:25.002Z"
   },
   {
    "duration": 18200,
    "start_time": "2022-08-24T10:37:25.099Z"
   },
   {
    "duration": 209,
    "start_time": "2022-08-24T10:37:43.301Z"
   },
   {
    "duration": 89,
    "start_time": "2022-08-24T10:37:43.511Z"
   },
   {
    "duration": 97,
    "start_time": "2022-08-24T10:37:43.604Z"
   },
   {
    "duration": 303202,
    "start_time": "2022-08-24T10:37:43.703Z"
   },
   {
    "duration": 3,
    "start_time": "2022-08-24T10:42:46.907Z"
   },
   {
    "duration": 792,
    "start_time": "2022-08-24T10:42:46.912Z"
   },
   {
    "duration": 4,
    "start_time": "2022-08-24T10:42:47.706Z"
   },
   {
    "duration": 8,
    "start_time": "2022-08-24T10:42:47.711Z"
   },
   {
    "duration": 1789,
    "start_time": "2022-08-24T13:10:55.996Z"
   },
   {
    "duration": 1339,
    "start_time": "2022-08-24T13:10:57.787Z"
   },
   {
    "duration": 177,
    "start_time": "2022-08-24T13:10:59.128Z"
   },
   {
    "duration": 113,
    "start_time": "2022-08-24T13:10:59.307Z"
   },
   {
    "duration": 110,
    "start_time": "2022-08-24T13:10:59.421Z"
   },
   {
    "duration": 99,
    "start_time": "2022-08-24T13:10:59.532Z"
   },
   {
    "duration": 8,
    "start_time": "2022-08-24T13:10:59.632Z"
   },
   {
    "duration": 113,
    "start_time": "2022-08-24T13:10:59.642Z"
   },
   {
    "duration": 94,
    "start_time": "2022-08-24T13:10:59.757Z"
   },
   {
    "duration": 86,
    "start_time": "2022-08-24T13:10:59.853Z"
   },
   {
    "duration": 473,
    "start_time": "2022-08-24T13:10:59.940Z"
   },
   {
    "duration": 611,
    "start_time": "2022-08-24T13:11:00.415Z"
   },
   {
    "duration": 50,
    "start_time": "2022-08-24T13:11:01.028Z"
   },
   {
    "duration": 22,
    "start_time": "2022-08-24T13:11:01.080Z"
   },
   {
    "duration": 55,
    "start_time": "2022-08-24T13:11:01.104Z"
   },
   {
    "duration": 1149,
    "start_time": "2022-08-24T13:11:01.161Z"
   },
   {
    "duration": 16,
    "start_time": "2022-08-24T13:11:02.311Z"
   },
   {
    "duration": 270,
    "start_time": "2022-08-24T13:11:02.328Z"
   },
   {
    "duration": 345,
    "start_time": "2022-08-24T13:11:02.600Z"
   },
   {
    "duration": 3,
    "start_time": "2022-08-24T13:11:02.947Z"
   },
   {
    "duration": 89,
    "start_time": "2022-08-24T13:11:02.952Z"
   },
   {
    "duration": 4,
    "start_time": "2022-08-24T13:11:03.042Z"
   },
   {
    "duration": 100459,
    "start_time": "2022-08-24T13:11:03.047Z"
   },
   {
    "duration": 96,
    "start_time": "2022-08-24T13:12:43.508Z"
   },
   {
    "duration": 28693,
    "start_time": "2022-08-24T13:12:43.606Z"
   },
   {
    "duration": 403,
    "start_time": "2022-08-24T13:13:12.301Z"
   },
   {
    "duration": 5,
    "start_time": "2022-08-24T13:13:12.705Z"
   },
   {
    "duration": 95,
    "start_time": "2022-08-24T13:13:12.714Z"
   },
   {
    "duration": 298303,
    "start_time": "2022-08-24T13:13:12.811Z"
   },
   {
    "duration": 4,
    "start_time": "2022-08-24T13:18:11.115Z"
   },
   {
    "duration": 814,
    "start_time": "2022-08-24T13:18:11.120Z"
   },
   {
    "duration": 67,
    "start_time": "2022-08-24T13:18:11.936Z"
   },
   {
    "duration": 10,
    "start_time": "2022-08-24T13:18:12.005Z"
   },
   {
    "duration": 1454,
    "start_time": "2022-08-24T14:09:56.650Z"
   },
   {
    "duration": 914,
    "start_time": "2022-08-24T14:09:58.106Z"
   },
   {
    "duration": 170,
    "start_time": "2022-08-24T14:09:59.022Z"
   },
   {
    "duration": 114,
    "start_time": "2022-08-24T14:09:59.194Z"
   },
   {
    "duration": 111,
    "start_time": "2022-08-24T14:09:59.309Z"
   },
   {
    "duration": 93,
    "start_time": "2022-08-24T14:09:59.422Z"
   },
   {
    "duration": 8,
    "start_time": "2022-08-24T14:09:59.517Z"
   },
   {
    "duration": 111,
    "start_time": "2022-08-24T14:09:59.526Z"
   },
   {
    "duration": 90,
    "start_time": "2022-08-24T14:09:59.639Z"
   },
   {
    "duration": 96,
    "start_time": "2022-08-24T14:09:59.731Z"
   },
   {
    "duration": 447,
    "start_time": "2022-08-24T14:09:59.828Z"
   },
   {
    "duration": 563,
    "start_time": "2022-08-24T14:10:00.276Z"
   },
   {
    "duration": 48,
    "start_time": "2022-08-24T14:10:00.841Z"
   },
   {
    "duration": 11,
    "start_time": "2022-08-24T14:10:00.901Z"
   },
   {
    "duration": 7,
    "start_time": "2022-08-24T14:10:00.914Z"
   },
   {
    "duration": 1172,
    "start_time": "2022-08-24T14:10:00.923Z"
   },
   {
    "duration": 16,
    "start_time": "2022-08-24T14:10:02.097Z"
   },
   {
    "duration": 225,
    "start_time": "2022-08-24T14:10:02.115Z"
   },
   {
    "duration": 348,
    "start_time": "2022-08-24T14:10:02.342Z"
   },
   {
    "duration": 4,
    "start_time": "2022-08-24T14:10:02.692Z"
   },
   {
    "duration": 81,
    "start_time": "2022-08-24T14:10:02.700Z"
   },
   {
    "duration": 4,
    "start_time": "2022-08-24T14:10:02.782Z"
   },
   {
    "duration": 105121,
    "start_time": "2022-08-24T14:10:02.787Z"
   },
   {
    "duration": 8,
    "start_time": "2022-08-24T14:11:47.911Z"
   },
   {
    "duration": 30502,
    "start_time": "2022-08-24T14:11:47.921Z"
   },
   {
    "duration": 400,
    "start_time": "2022-08-24T14:12:18.506Z"
   },
   {
    "duration": 9,
    "start_time": "2022-08-24T14:12:18.911Z"
   },
   {
    "duration": 18,
    "start_time": "2022-08-24T14:12:19.002Z"
   },
   {
    "duration": 742998,
    "start_time": "2022-08-24T14:12:19.022Z"
   },
   {
    "duration": 4,
    "start_time": "2022-08-24T14:24:42.023Z"
   },
   {
    "duration": 886,
    "start_time": "2022-08-24T14:24:42.029Z"
   },
   {
    "duration": 4,
    "start_time": "2022-08-24T14:24:42.917Z"
   },
   {
    "duration": 7,
    "start_time": "2022-08-24T14:24:42.923Z"
   },
   {
    "duration": 2967,
    "start_time": "2022-08-24T16:31:34.901Z"
   },
   {
    "duration": 3015,
    "start_time": "2022-08-24T16:31:37.870Z"
   },
   {
    "duration": 139,
    "start_time": "2022-08-24T16:31:40.887Z"
   },
   {
    "duration": 118,
    "start_time": "2022-08-24T16:31:41.027Z"
   },
   {
    "duration": 96,
    "start_time": "2022-08-24T16:31:41.147Z"
   },
   {
    "duration": 77,
    "start_time": "2022-08-24T16:31:41.244Z"
   },
   {
    "duration": 6,
    "start_time": "2022-08-24T16:31:41.323Z"
   },
   {
    "duration": 109,
    "start_time": "2022-08-24T16:31:41.330Z"
   },
   {
    "duration": 91,
    "start_time": "2022-08-24T16:31:41.441Z"
   },
   {
    "duration": 90,
    "start_time": "2022-08-24T16:31:41.534Z"
   },
   {
    "duration": 384,
    "start_time": "2022-08-24T16:31:41.626Z"
   },
   {
    "duration": 510,
    "start_time": "2022-08-24T16:31:42.011Z"
   },
   {
    "duration": 41,
    "start_time": "2022-08-24T16:31:42.523Z"
   },
   {
    "duration": 10,
    "start_time": "2022-08-24T16:31:42.567Z"
   },
   {
    "duration": 4,
    "start_time": "2022-08-24T16:31:42.578Z"
   },
   {
    "duration": 823,
    "start_time": "2022-08-24T16:31:42.583Z"
   },
   {
    "duration": 16,
    "start_time": "2022-08-24T16:31:43.408Z"
   },
   {
    "duration": 222,
    "start_time": "2022-08-24T16:31:43.426Z"
   },
   {
    "duration": 347,
    "start_time": "2022-08-24T16:31:43.649Z"
   },
   {
    "duration": 9,
    "start_time": "2022-08-24T16:31:43.998Z"
   },
   {
    "duration": 74,
    "start_time": "2022-08-24T16:31:44.009Z"
   },
   {
    "duration": 3,
    "start_time": "2022-08-24T16:31:44.085Z"
   },
   {
    "duration": 89301,
    "start_time": "2022-08-24T16:31:44.106Z"
   },
   {
    "duration": 4,
    "start_time": "2022-08-24T16:33:13.409Z"
   },
   {
    "duration": 20993,
    "start_time": "2022-08-24T16:33:13.414Z"
   },
   {
    "duration": 303,
    "start_time": "2022-08-24T16:33:34.409Z"
   },
   {
    "duration": 100,
    "start_time": "2022-08-24T16:33:34.715Z"
   },
   {
    "duration": 5,
    "start_time": "2022-08-24T16:33:34.906Z"
   },
   {
    "duration": 274002,
    "start_time": "2022-08-24T16:33:34.912Z"
   },
   {
    "duration": 3,
    "start_time": "2022-08-24T16:38:08.916Z"
   },
   {
    "duration": 708,
    "start_time": "2022-08-24T16:38:08.920Z"
   },
   {
    "duration": 4,
    "start_time": "2022-08-24T16:38:09.629Z"
   },
   {
    "duration": 72,
    "start_time": "2022-08-24T16:38:09.634Z"
   },
   {
    "duration": 1616466,
    "start_time": "2022-08-24T16:38:09.708Z"
   },
   {
    "duration": 137,
    "start_time": "2022-08-24T17:05:06.175Z"
   },
   {
    "duration": 0,
    "start_time": "2022-08-24T17:05:06.314Z"
   },
   {
    "duration": 0,
    "start_time": "2022-08-24T17:05:06.315Z"
   },
   {
    "duration": 146,
    "start_time": "2022-08-24T17:05:25.661Z"
   },
   {
    "duration": 4,
    "start_time": "2022-08-24T17:05:28.571Z"
   },
   {
    "duration": 4,
    "start_time": "2022-08-24T17:07:32.409Z"
   },
   {
    "duration": 5570,
    "start_time": "2022-08-24T17:07:32.414Z"
   },
   {
    "duration": 40,
    "start_time": "2022-08-24T17:07:37.985Z"
   },
   {
    "duration": 0,
    "start_time": "2022-08-24T17:07:38.029Z"
   },
   {
    "duration": 28,
    "start_time": "2022-08-24T17:07:40.152Z"
   },
   {
    "duration": 17,
    "start_time": "2022-08-24T17:07:43.577Z"
   },
   {
    "duration": 8,
    "start_time": "2022-08-24T17:08:00.638Z"
   },
   {
    "duration": 8,
    "start_time": "2022-08-24T17:08:06.456Z"
   },
   {
    "duration": 108,
    "start_time": "2022-08-24T17:08:16.077Z"
   },
   {
    "duration": 11,
    "start_time": "2022-08-24T17:08:19.710Z"
   },
   {
    "duration": 9,
    "start_time": "2022-08-24T17:08:27.343Z"
   },
   {
    "duration": 382,
    "start_time": "2022-08-24T17:08:31.355Z"
   },
   {
    "duration": 72785,
    "start_time": "2022-08-24T17:08:34.460Z"
   },
   {
    "duration": 3,
    "start_time": "2022-08-24T17:09:50.817Z"
   },
   {
    "duration": 571,
    "start_time": "2022-08-24T17:09:53.619Z"
   },
   {
    "duration": 161,
    "start_time": "2022-08-24T17:09:58.982Z"
   },
   {
    "duration": 116,
    "start_time": "2022-08-24T17:09:59.502Z"
   },
   {
    "duration": 280,
    "start_time": "2022-08-24T17:10:15.224Z"
   },
   {
    "duration": 5,
    "start_time": "2022-08-24T17:10:43.945Z"
   },
   {
    "duration": 7760,
    "start_time": "2022-08-24T17:10:44.129Z"
   },
   {
    "duration": 8,
    "start_time": "2022-08-24T17:10:51.891Z"
   },
   {
    "duration": 0,
    "start_time": "2022-08-24T17:10:51.901Z"
   },
   {
    "duration": 0,
    "start_time": "2022-08-24T17:10:51.902Z"
   },
   {
    "duration": 97,
    "start_time": "2022-08-24T17:38:31.167Z"
   },
   {
    "duration": 1589,
    "start_time": "2022-08-24T17:38:37.339Z"
   },
   {
    "duration": 1348,
    "start_time": "2022-08-24T17:38:38.930Z"
   },
   {
    "duration": 160,
    "start_time": "2022-08-24T17:38:40.280Z"
   },
   {
    "duration": 129,
    "start_time": "2022-08-24T17:38:40.442Z"
   },
   {
    "duration": 130,
    "start_time": "2022-08-24T17:38:40.574Z"
   },
   {
    "duration": 105,
    "start_time": "2022-08-24T17:38:40.706Z"
   },
   {
    "duration": 9,
    "start_time": "2022-08-24T17:38:40.813Z"
   },
   {
    "duration": 176,
    "start_time": "2022-08-24T17:38:40.824Z"
   },
   {
    "duration": 104,
    "start_time": "2022-08-24T17:38:41.002Z"
   },
   {
    "duration": 103,
    "start_time": "2022-08-24T17:38:41.109Z"
   },
   {
    "duration": 519,
    "start_time": "2022-08-24T17:38:41.214Z"
   },
   {
    "duration": 597,
    "start_time": "2022-08-24T17:38:41.735Z"
   },
   {
    "duration": 52,
    "start_time": "2022-08-24T17:38:42.333Z"
   },
   {
    "duration": 21,
    "start_time": "2022-08-24T17:38:42.388Z"
   },
   {
    "duration": 17,
    "start_time": "2022-08-24T17:38:42.411Z"
   },
   {
    "duration": 968,
    "start_time": "2022-08-24T17:38:42.430Z"
   },
   {
    "duration": 16,
    "start_time": "2022-08-24T17:38:43.400Z"
   },
   {
    "duration": 229,
    "start_time": "2022-08-24T17:38:43.418Z"
   },
   {
    "duration": 352,
    "start_time": "2022-08-24T17:38:43.649Z"
   },
   {
    "duration": 4,
    "start_time": "2022-08-24T17:38:44.003Z"
   },
   {
    "duration": 84,
    "start_time": "2022-08-24T17:38:44.008Z"
   },
   {
    "duration": 7,
    "start_time": "2022-08-24T17:38:44.094Z"
   },
   {
    "duration": 49,
    "start_time": "2022-08-27T12:19:28.913Z"
   },
   {
    "duration": 1709,
    "start_time": "2022-08-27T12:19:37.767Z"
   },
   {
    "duration": 3290,
    "start_time": "2022-08-27T12:19:39.478Z"
   },
   {
    "duration": 211,
    "start_time": "2022-08-27T12:19:42.770Z"
   },
   {
    "duration": 147,
    "start_time": "2022-08-27T12:19:42.983Z"
   },
   {
    "duration": 119,
    "start_time": "2022-08-27T12:19:43.132Z"
   },
   {
    "duration": 92,
    "start_time": "2022-08-27T12:19:43.252Z"
   },
   {
    "duration": 8,
    "start_time": "2022-08-27T12:19:43.346Z"
   },
   {
    "duration": 143,
    "start_time": "2022-08-27T12:19:43.356Z"
   },
   {
    "duration": 118,
    "start_time": "2022-08-27T12:19:43.501Z"
   },
   {
    "duration": 109,
    "start_time": "2022-08-27T12:19:43.622Z"
   },
   {
    "duration": 499,
    "start_time": "2022-08-27T12:19:43.734Z"
   },
   {
    "duration": 622,
    "start_time": "2022-08-27T12:19:44.235Z"
   },
   {
    "duration": 47,
    "start_time": "2022-08-27T12:19:44.859Z"
   },
   {
    "duration": 11,
    "start_time": "2022-08-27T12:19:44.908Z"
   },
   {
    "duration": 6,
    "start_time": "2022-08-27T12:19:44.921Z"
   },
   {
    "duration": 1040,
    "start_time": "2022-08-27T12:19:44.929Z"
   },
   {
    "duration": 27,
    "start_time": "2022-08-27T12:19:45.971Z"
   },
   {
    "duration": 222,
    "start_time": "2022-08-27T12:19:45.999Z"
   },
   {
    "duration": 347,
    "start_time": "2022-08-27T12:19:46.223Z"
   },
   {
    "duration": 4,
    "start_time": "2022-08-27T12:19:46.572Z"
   },
   {
    "duration": 74,
    "start_time": "2022-08-27T12:19:46.591Z"
   },
   {
    "duration": 5,
    "start_time": "2022-08-27T12:19:46.667Z"
   },
   {
    "duration": 104423,
    "start_time": "2022-08-27T12:19:46.674Z"
   },
   {
    "duration": 96,
    "start_time": "2022-08-27T12:21:31.100Z"
   },
   {
    "duration": 23695,
    "start_time": "2022-08-27T12:21:31.198Z"
   },
   {
    "duration": 7,
    "start_time": "2022-08-27T12:21:54.896Z"
   },
   {
    "duration": 305697,
    "start_time": "2022-08-27T12:21:54.905Z"
   },
   {
    "duration": 229,
    "start_time": "2022-08-27T12:27:00.606Z"
   },
   {
    "duration": 0,
    "start_time": "2022-08-27T12:27:00.837Z"
   },
   {
    "duration": 0,
    "start_time": "2022-08-27T12:27:00.839Z"
   },
   {
    "duration": 0,
    "start_time": "2022-08-27T12:27:00.841Z"
   },
   {
    "duration": 0,
    "start_time": "2022-08-27T12:27:00.842Z"
   },
   {
    "duration": 0,
    "start_time": "2022-08-27T12:27:00.844Z"
   },
   {
    "duration": 73,
    "start_time": "2022-08-27T12:41:32.446Z"
   },
   {
    "duration": 1499,
    "start_time": "2022-08-27T12:43:07.102Z"
   },
   {
    "duration": 1020,
    "start_time": "2022-08-27T12:43:08.603Z"
   },
   {
    "duration": 194,
    "start_time": "2022-08-27T12:43:09.624Z"
   },
   {
    "duration": 136,
    "start_time": "2022-08-27T12:43:09.820Z"
   },
   {
    "duration": 165,
    "start_time": "2022-08-27T12:43:09.958Z"
   },
   {
    "duration": 86,
    "start_time": "2022-08-27T12:43:10.125Z"
   },
   {
    "duration": 7,
    "start_time": "2022-08-27T12:43:10.213Z"
   },
   {
    "duration": 166,
    "start_time": "2022-08-27T12:43:10.222Z"
   },
   {
    "duration": 121,
    "start_time": "2022-08-27T12:43:10.391Z"
   },
   {
    "duration": 98,
    "start_time": "2022-08-27T12:43:10.516Z"
   },
   {
    "duration": 438,
    "start_time": "2022-08-27T12:43:10.616Z"
   },
   {
    "duration": 546,
    "start_time": "2022-08-27T12:43:11.055Z"
   },
   {
    "duration": 40,
    "start_time": "2022-08-27T12:43:11.603Z"
   },
   {
    "duration": 11,
    "start_time": "2022-08-27T12:43:11.645Z"
   },
   {
    "duration": 5,
    "start_time": "2022-08-27T12:43:11.658Z"
   },
   {
    "duration": 1045,
    "start_time": "2022-08-27T12:43:11.665Z"
   },
   {
    "duration": 17,
    "start_time": "2022-08-27T12:43:12.712Z"
   },
   {
    "duration": 226,
    "start_time": "2022-08-27T12:43:12.731Z"
   },
   {
    "duration": 362,
    "start_time": "2022-08-27T12:43:12.958Z"
   },
   {
    "duration": 4,
    "start_time": "2022-08-27T12:43:13.321Z"
   },
   {
    "duration": 82,
    "start_time": "2022-08-27T12:43:13.327Z"
   },
   {
    "duration": 94,
    "start_time": "2022-08-27T12:43:13.411Z"
   },
   {
    "duration": 3,
    "start_time": "2022-08-27T12:43:13.507Z"
   },
   {
    "duration": 102390,
    "start_time": "2022-08-27T12:43:13.512Z"
   },
   {
    "duration": 6,
    "start_time": "2022-08-27T12:44:55.994Z"
   },
   {
    "duration": 23697,
    "start_time": "2022-08-27T12:44:56.002Z"
   },
   {
    "duration": 5,
    "start_time": "2022-08-27T12:45:19.701Z"
   },
   {
    "duration": 301595,
    "start_time": "2022-08-27T12:45:19.710Z"
   },
   {
    "duration": 223,
    "start_time": "2022-08-27T12:50:21.306Z"
   },
   {
    "duration": 0,
    "start_time": "2022-08-27T12:50:21.530Z"
   },
   {
    "duration": 41,
    "start_time": "2022-08-27T12:56:47.897Z"
   },
   {
    "duration": 41,
    "start_time": "2022-08-27T12:58:36.252Z"
   },
   {
    "duration": 11,
    "start_time": "2022-08-27T13:00:40.770Z"
   },
   {
    "duration": 12,
    "start_time": "2022-08-27T13:03:35.484Z"
   },
   {
    "duration": 11,
    "start_time": "2022-08-27T13:07:39.372Z"
   },
   {
    "duration": 752,
    "start_time": "2022-08-27T13:07:49.218Z"
   },
   {
    "duration": 733,
    "start_time": "2022-08-27T13:08:13.829Z"
   },
   {
    "duration": 68,
    "start_time": "2022-08-27T13:08:17.470Z"
   },
   {
    "duration": 4,
    "start_time": "2022-08-27T13:13:18.641Z"
   },
   {
    "duration": 89,
    "start_time": "2022-08-27T13:16:08.734Z"
   },
   {
    "duration": 4,
    "start_time": "2022-08-27T13:16:29.266Z"
   },
   {
    "duration": 34504,
    "start_time": "2022-08-27T13:20:51.295Z"
   },
   {
    "duration": 4,
    "start_time": "2022-08-27T13:21:34.961Z"
   },
   {
    "duration": 27526,
    "start_time": "2022-08-27T13:21:52.168Z"
   },
   {
    "duration": 10,
    "start_time": "2022-08-27T13:26:04.420Z"
   },
   {
    "duration": 30,
    "start_time": "2022-08-27T13:26:30.236Z"
   },
   {
    "duration": 398,
    "start_time": "2022-08-27T13:29:21.830Z"
   },
   {
    "duration": 344,
    "start_time": "2022-08-27T13:29:24.496Z"
   },
   {
    "duration": 1567,
    "start_time": "2022-08-27T13:29:35.555Z"
   },
   {
    "duration": 1009,
    "start_time": "2022-08-27T13:29:37.124Z"
   },
   {
    "duration": 182,
    "start_time": "2022-08-27T13:29:38.135Z"
   },
   {
    "duration": 134,
    "start_time": "2022-08-27T13:29:38.319Z"
   },
   {
    "duration": 115,
    "start_time": "2022-08-27T13:29:38.455Z"
   },
   {
    "duration": 87,
    "start_time": "2022-08-27T13:29:38.571Z"
   },
   {
    "duration": 7,
    "start_time": "2022-08-27T13:29:38.660Z"
   },
   {
    "duration": 141,
    "start_time": "2022-08-27T13:29:38.669Z"
   },
   {
    "duration": 112,
    "start_time": "2022-08-27T13:29:38.812Z"
   },
   {
    "duration": 109,
    "start_time": "2022-08-27T13:29:38.927Z"
   },
   {
    "duration": 479,
    "start_time": "2022-08-27T13:29:39.038Z"
   },
   {
    "duration": 584,
    "start_time": "2022-08-27T13:29:39.519Z"
   },
   {
    "duration": 43,
    "start_time": "2022-08-27T13:29:40.104Z"
   },
   {
    "duration": 12,
    "start_time": "2022-08-27T13:29:40.149Z"
   },
   {
    "duration": 5,
    "start_time": "2022-08-27T13:29:40.163Z"
   },
   {
    "duration": 1052,
    "start_time": "2022-08-27T13:29:40.169Z"
   },
   {
    "duration": 16,
    "start_time": "2022-08-27T13:29:41.223Z"
   },
   {
    "duration": 226,
    "start_time": "2022-08-27T13:29:41.241Z"
   },
   {
    "duration": 357,
    "start_time": "2022-08-27T13:29:41.468Z"
   },
   {
    "duration": 388,
    "start_time": "2022-08-27T13:29:41.827Z"
   },
   {
    "duration": 5,
    "start_time": "2022-08-27T13:29:42.217Z"
   },
   {
    "duration": 86,
    "start_time": "2022-08-27T13:29:42.224Z"
   },
   {
    "duration": 94,
    "start_time": "2022-08-27T13:29:42.312Z"
   },
   {
    "duration": 5,
    "start_time": "2022-08-27T13:29:42.408Z"
   },
   {
    "duration": 100284,
    "start_time": "2022-08-27T13:29:42.414Z"
   },
   {
    "duration": 94,
    "start_time": "2022-08-27T13:31:22.700Z"
   },
   {
    "duration": 23903,
    "start_time": "2022-08-27T13:31:22.801Z"
   },
   {
    "duration": 253,
    "start_time": "2022-08-27T13:31:46.709Z"
   },
   {
    "duration": 0,
    "start_time": "2022-08-27T13:31:46.964Z"
   },
   {
    "duration": 0,
    "start_time": "2022-08-27T13:31:46.965Z"
   },
   {
    "duration": 0,
    "start_time": "2022-08-27T13:31:46.967Z"
   },
   {
    "duration": 0,
    "start_time": "2022-08-27T13:31:46.968Z"
   },
   {
    "duration": 0,
    "start_time": "2022-08-27T13:31:46.970Z"
   },
   {
    "duration": 0,
    "start_time": "2022-08-27T13:31:46.972Z"
   },
   {
    "duration": 0,
    "start_time": "2022-08-27T13:31:46.973Z"
   },
   {
    "duration": 0,
    "start_time": "2022-08-27T13:31:46.974Z"
   },
   {
    "duration": 0,
    "start_time": "2022-08-27T13:31:46.976Z"
   },
   {
    "duration": 270,
    "start_time": "2022-08-27T13:34:44.126Z"
   },
   {
    "duration": 358,
    "start_time": "2022-08-27T13:34:53.333Z"
   },
   {
    "duration": 6,
    "start_time": "2022-08-27T13:36:51.007Z"
   },
   {
    "duration": 314026,
    "start_time": "2022-08-27T13:36:52.679Z"
   },
   {
    "duration": 4,
    "start_time": "2022-08-27T13:42:06.708Z"
   },
   {
    "duration": 79,
    "start_time": "2022-08-27T13:42:06.714Z"
   },
   {
    "duration": 809,
    "start_time": "2022-08-27T13:42:06.796Z"
   },
   {
    "duration": 758,
    "start_time": "2022-08-27T13:42:07.607Z"
   },
   {
    "duration": 70,
    "start_time": "2022-08-27T13:42:08.367Z"
   },
   {
    "duration": 956,
    "start_time": "2022-08-27T13:43:12.899Z"
   },
   {
    "duration": 4431,
    "start_time": "2022-08-27T13:44:20.514Z"
   },
   {
    "duration": 1481,
    "start_time": "2022-08-27T13:49:22.280Z"
   },
   {
    "duration": 1006,
    "start_time": "2022-08-27T13:49:23.763Z"
   },
   {
    "duration": 182,
    "start_time": "2022-08-27T13:49:24.771Z"
   },
   {
    "duration": 163,
    "start_time": "2022-08-27T13:49:24.956Z"
   },
   {
    "duration": 127,
    "start_time": "2022-08-27T13:49:25.121Z"
   },
   {
    "duration": 85,
    "start_time": "2022-08-27T13:49:25.250Z"
   },
   {
    "duration": 7,
    "start_time": "2022-08-27T13:49:25.337Z"
   },
   {
    "duration": 137,
    "start_time": "2022-08-27T13:49:25.346Z"
   },
   {
    "duration": 113,
    "start_time": "2022-08-27T13:49:25.484Z"
   },
   {
    "duration": 113,
    "start_time": "2022-08-27T13:49:25.600Z"
   },
   {
    "duration": 489,
    "start_time": "2022-08-27T13:49:25.714Z"
   },
   {
    "duration": 595,
    "start_time": "2022-08-27T13:49:26.205Z"
   },
   {
    "duration": 45,
    "start_time": "2022-08-27T13:49:26.802Z"
   },
   {
    "duration": 12,
    "start_time": "2022-08-27T13:49:26.848Z"
   },
   {
    "duration": 15,
    "start_time": "2022-08-27T13:49:26.862Z"
   },
   {
    "duration": 1096,
    "start_time": "2022-08-27T13:49:26.892Z"
   },
   {
    "duration": 18,
    "start_time": "2022-08-27T13:49:27.990Z"
   },
   {
    "duration": 225,
    "start_time": "2022-08-27T13:49:28.009Z"
   },
   {
    "duration": 349,
    "start_time": "2022-08-27T13:49:28.236Z"
   },
   {
    "duration": 125,
    "start_time": "2022-08-27T13:49:28.586Z"
   },
   {
    "duration": 0,
    "start_time": "2022-08-27T13:49:28.713Z"
   },
   {
    "duration": 0,
    "start_time": "2022-08-27T13:49:28.714Z"
   },
   {
    "duration": 0,
    "start_time": "2022-08-27T13:49:28.715Z"
   },
   {
    "duration": 0,
    "start_time": "2022-08-27T13:49:28.716Z"
   },
   {
    "duration": 0,
    "start_time": "2022-08-27T13:49:28.717Z"
   },
   {
    "duration": 0,
    "start_time": "2022-08-27T13:49:28.718Z"
   },
   {
    "duration": 0,
    "start_time": "2022-08-27T13:49:28.720Z"
   },
   {
    "duration": 0,
    "start_time": "2022-08-27T13:49:28.721Z"
   },
   {
    "duration": 0,
    "start_time": "2022-08-27T13:49:28.722Z"
   },
   {
    "duration": 0,
    "start_time": "2022-08-27T13:49:28.723Z"
   },
   {
    "duration": 0,
    "start_time": "2022-08-27T13:49:28.724Z"
   },
   {
    "duration": 0,
    "start_time": "2022-08-27T13:49:28.726Z"
   },
   {
    "duration": 0,
    "start_time": "2022-08-27T13:49:28.727Z"
   },
   {
    "duration": 0,
    "start_time": "2022-08-27T13:49:28.728Z"
   },
   {
    "duration": 0,
    "start_time": "2022-08-27T13:49:28.729Z"
   },
   {
    "duration": 0,
    "start_time": "2022-08-27T13:49:28.730Z"
   },
   {
    "duration": 0,
    "start_time": "2022-08-27T13:49:28.731Z"
   },
   {
    "duration": 0,
    "start_time": "2022-08-27T13:49:28.733Z"
   },
   {
    "duration": 0,
    "start_time": "2022-08-27T13:49:28.734Z"
   },
   {
    "duration": 123,
    "start_time": "2022-08-27T13:52:57.996Z"
   },
   {
    "duration": 1526,
    "start_time": "2022-08-27T13:53:04.795Z"
   },
   {
    "duration": 1062,
    "start_time": "2022-08-27T13:53:06.323Z"
   },
   {
    "duration": 186,
    "start_time": "2022-08-27T13:53:07.391Z"
   },
   {
    "duration": 142,
    "start_time": "2022-08-27T13:53:07.579Z"
   },
   {
    "duration": 171,
    "start_time": "2022-08-27T13:53:07.723Z"
   },
   {
    "duration": 96,
    "start_time": "2022-08-27T13:53:07.896Z"
   },
   {
    "duration": 7,
    "start_time": "2022-08-27T13:53:07.994Z"
   },
   {
    "duration": 137,
    "start_time": "2022-08-27T13:53:08.002Z"
   },
   {
    "duration": 110,
    "start_time": "2022-08-27T13:53:08.140Z"
   },
   {
    "duration": 104,
    "start_time": "2022-08-27T13:53:08.253Z"
   },
   {
    "duration": 451,
    "start_time": "2022-08-27T13:53:08.359Z"
   },
   {
    "duration": 597,
    "start_time": "2022-08-27T13:53:08.812Z"
   },
   {
    "duration": 46,
    "start_time": "2022-08-27T13:53:09.412Z"
   },
   {
    "duration": 11,
    "start_time": "2022-08-27T13:53:09.460Z"
   },
   {
    "duration": 5,
    "start_time": "2022-08-27T13:53:09.492Z"
   },
   {
    "duration": 1051,
    "start_time": "2022-08-27T13:53:09.498Z"
   },
   {
    "duration": 16,
    "start_time": "2022-08-27T13:53:10.551Z"
   },
   {
    "duration": 237,
    "start_time": "2022-08-27T13:53:10.569Z"
   },
   {
    "duration": 348,
    "start_time": "2022-08-27T13:53:10.808Z"
   },
   {
    "duration": 116,
    "start_time": "2022-08-27T13:53:11.158Z"
   },
   {
    "duration": 4,
    "start_time": "2022-08-27T13:53:11.275Z"
   },
   {
    "duration": 92,
    "start_time": "2022-08-27T13:53:11.282Z"
   },
   {
    "duration": 103,
    "start_time": "2022-08-27T13:53:11.376Z"
   },
   {
    "duration": 14,
    "start_time": "2022-08-27T13:53:11.481Z"
   },
   {
    "duration": 205,
    "start_time": "2022-08-27T13:53:11.497Z"
   },
   {
    "duration": 85,
    "start_time": "2022-08-27T13:53:11.704Z"
   },
   {
    "duration": 160,
    "start_time": "2022-08-27T13:53:11.791Z"
   },
   {
    "duration": 103,
    "start_time": "2022-08-27T13:53:11.956Z"
   },
   {
    "duration": 7,
    "start_time": "2022-08-27T13:53:12.061Z"
   },
   {
    "duration": 111,
    "start_time": "2022-08-27T13:53:12.070Z"
   },
   {
    "duration": 11,
    "start_time": "2022-08-27T13:53:12.183Z"
   },
   {
    "duration": 0,
    "start_time": "2022-08-27T13:53:12.196Z"
   },
   {
    "duration": 0,
    "start_time": "2022-08-27T13:53:12.197Z"
   },
   {
    "duration": 0,
    "start_time": "2022-08-27T13:53:12.198Z"
   },
   {
    "duration": 0,
    "start_time": "2022-08-27T13:53:12.199Z"
   },
   {
    "duration": 0,
    "start_time": "2022-08-27T13:53:12.200Z"
   },
   {
    "duration": 0,
    "start_time": "2022-08-27T13:53:12.201Z"
   },
   {
    "duration": 0,
    "start_time": "2022-08-27T13:53:12.202Z"
   },
   {
    "duration": 0,
    "start_time": "2022-08-27T13:53:12.203Z"
   },
   {
    "duration": 1551,
    "start_time": "2022-08-27T13:59:44.467Z"
   },
   {
    "duration": 1047,
    "start_time": "2022-08-27T13:59:46.020Z"
   },
   {
    "duration": 186,
    "start_time": "2022-08-27T13:59:47.069Z"
   },
   {
    "duration": 136,
    "start_time": "2022-08-27T13:59:47.257Z"
   },
   {
    "duration": 155,
    "start_time": "2022-08-27T13:59:47.394Z"
   },
   {
    "duration": 96,
    "start_time": "2022-08-27T13:59:47.551Z"
   },
   {
    "duration": 7,
    "start_time": "2022-08-27T13:59:47.649Z"
   },
   {
    "duration": 126,
    "start_time": "2022-08-27T13:59:47.657Z"
   },
   {
    "duration": 111,
    "start_time": "2022-08-27T13:59:47.785Z"
   },
   {
    "duration": 102,
    "start_time": "2022-08-27T13:59:47.898Z"
   },
   {
    "duration": 445,
    "start_time": "2022-08-27T13:59:48.002Z"
   },
   {
    "duration": 584,
    "start_time": "2022-08-27T13:59:48.449Z"
   },
   {
    "duration": 45,
    "start_time": "2022-08-27T13:59:49.035Z"
   },
   {
    "duration": 12,
    "start_time": "2022-08-27T13:59:49.091Z"
   },
   {
    "duration": 5,
    "start_time": "2022-08-27T13:59:49.104Z"
   },
   {
    "duration": 959,
    "start_time": "2022-08-27T13:59:49.110Z"
   },
   {
    "duration": 21,
    "start_time": "2022-08-27T13:59:50.071Z"
   },
   {
    "duration": 216,
    "start_time": "2022-08-27T13:59:50.094Z"
   },
   {
    "duration": 340,
    "start_time": "2022-08-27T13:59:50.312Z"
   },
   {
    "duration": 111,
    "start_time": "2022-08-27T13:59:50.654Z"
   },
   {
    "duration": 4,
    "start_time": "2022-08-27T13:59:50.767Z"
   },
   {
    "duration": 81,
    "start_time": "2022-08-27T13:59:50.773Z"
   },
   {
    "duration": 93,
    "start_time": "2022-08-27T13:59:50.856Z"
   },
   {
    "duration": 4,
    "start_time": "2022-08-27T13:59:50.951Z"
   },
   {
    "duration": 80235,
    "start_time": "2022-08-27T13:59:50.957Z"
   },
   {
    "duration": 96,
    "start_time": "2022-08-27T14:01:11.195Z"
   },
   {
    "duration": 20104,
    "start_time": "2022-08-27T14:01:11.293Z"
   },
   {
    "duration": 292,
    "start_time": "2022-08-27T14:01:31.402Z"
   },
   {
    "duration": 97,
    "start_time": "2022-08-27T14:01:31.697Z"
   },
   {
    "duration": 751611,
    "start_time": "2022-08-27T14:01:31.796Z"
   },
   {
    "duration": 4,
    "start_time": "2022-08-27T14:14:03.409Z"
   },
   {
    "duration": 79,
    "start_time": "2022-08-27T14:14:03.415Z"
   },
   {
    "duration": 697,
    "start_time": "2022-08-27T14:14:03.496Z"
   },
   {
    "duration": 770,
    "start_time": "2022-08-27T14:14:04.195Z"
   },
   {
    "duration": 1189,
    "start_time": "2022-08-27T14:14:04.967Z"
   },
   {
    "duration": 0,
    "start_time": "2022-08-27T14:14:06.158Z"
   },
   {
    "duration": 0,
    "start_time": "2022-08-27T14:14:06.159Z"
   },
   {
    "duration": 0,
    "start_time": "2022-08-27T14:14:06.160Z"
   },
   {
    "duration": 0,
    "start_time": "2022-08-27T14:14:06.161Z"
   },
   {
    "duration": 1088,
    "start_time": "2022-08-27T14:16:25.297Z"
   },
   {
    "duration": 1172,
    "start_time": "2022-08-27T14:17:46.032Z"
   },
   {
    "duration": 2787,
    "start_time": "2022-08-27T15:46:24.061Z"
   },
   {
    "duration": 1102,
    "start_time": "2022-08-27T15:46:26.850Z"
   },
   {
    "duration": 184,
    "start_time": "2022-08-27T15:46:27.954Z"
   },
   {
    "duration": 101,
    "start_time": "2022-08-27T15:46:28.140Z"
   },
   {
    "duration": 104,
    "start_time": "2022-08-27T15:46:28.243Z"
   },
   {
    "duration": 73,
    "start_time": "2022-08-27T15:46:28.349Z"
   },
   {
    "duration": 7,
    "start_time": "2022-08-27T15:46:28.423Z"
   },
   {
    "duration": 116,
    "start_time": "2022-08-27T15:46:28.432Z"
   },
   {
    "duration": 95,
    "start_time": "2022-08-27T15:46:28.549Z"
   },
   {
    "duration": 92,
    "start_time": "2022-08-27T15:46:28.645Z"
   },
   {
    "duration": 357,
    "start_time": "2022-08-27T15:46:28.738Z"
   },
   {
    "duration": 455,
    "start_time": "2022-08-27T15:46:29.097Z"
   },
   {
    "duration": 44,
    "start_time": "2022-08-27T15:46:29.554Z"
   },
   {
    "duration": 9,
    "start_time": "2022-08-27T15:46:29.601Z"
   },
   {
    "duration": 5,
    "start_time": "2022-08-27T15:46:29.612Z"
   },
   {
    "duration": 606,
    "start_time": "2022-08-27T15:46:29.619Z"
   },
   {
    "duration": 14,
    "start_time": "2022-08-27T15:46:30.227Z"
   },
   {
    "duration": 160,
    "start_time": "2022-08-27T15:46:30.243Z"
   },
   {
    "duration": 250,
    "start_time": "2022-08-27T15:46:30.405Z"
   },
   {
    "duration": 94,
    "start_time": "2022-08-27T15:46:30.657Z"
   },
   {
    "duration": 3,
    "start_time": "2022-08-27T15:46:30.753Z"
   },
   {
    "duration": 73,
    "start_time": "2022-08-27T15:46:30.757Z"
   },
   {
    "duration": 61,
    "start_time": "2022-08-27T15:46:30.832Z"
   },
   {
    "duration": 3,
    "start_time": "2022-08-27T15:46:30.898Z"
   },
   {
    "duration": 14,
    "start_time": "2022-08-27T15:46:33.241Z"
   },
   {
    "duration": 580,
    "start_time": "2022-08-27T15:47:17.586Z"
   },
   {
    "duration": 472,
    "start_time": "2022-08-27T15:47:36.289Z"
   },
   {
    "duration": 489,
    "start_time": "2022-08-27T15:47:48.653Z"
   },
   {
    "duration": 19,
    "start_time": "2022-08-27T15:47:51.614Z"
   },
   {
    "duration": 10,
    "start_time": "2022-08-27T15:49:21.507Z"
   },
   {
    "duration": 506,
    "start_time": "2022-08-27T15:49:23.344Z"
   },
   {
    "duration": 64,
    "start_time": "2022-08-27T15:49:23.852Z"
   },
   {
    "duration": 54,
    "start_time": "2022-08-27T15:49:41.099Z"
   },
   {
    "duration": 61,
    "start_time": "2022-08-27T15:49:53.569Z"
   },
   {
    "duration": 49,
    "start_time": "2022-08-27T15:49:58.419Z"
   },
   {
    "duration": 60,
    "start_time": "2022-08-27T15:50:06.008Z"
   },
   {
    "duration": 250389,
    "start_time": "2022-08-27T15:50:31.593Z"
   },
   {
    "duration": 189,
    "start_time": "2022-08-27T15:54:41.984Z"
   },
   {
    "duration": 291,
    "start_time": "2022-08-27T15:58:10.219Z"
   },
   {
    "duration": 50,
    "start_time": "2022-08-27T16:16:46.729Z"
   },
   {
    "duration": 1508,
    "start_time": "2022-08-27T16:17:33.285Z"
   },
   {
    "duration": 1082,
    "start_time": "2022-08-27T16:17:34.796Z"
   },
   {
    "duration": 153,
    "start_time": "2022-08-27T16:17:35.880Z"
   },
   {
    "duration": 117,
    "start_time": "2022-08-27T16:17:36.035Z"
   },
   {
    "duration": 95,
    "start_time": "2022-08-27T16:17:36.154Z"
   },
   {
    "duration": 63,
    "start_time": "2022-08-27T16:17:36.250Z"
   },
   {
    "duration": 6,
    "start_time": "2022-08-27T16:17:36.315Z"
   },
   {
    "duration": 108,
    "start_time": "2022-08-27T16:17:36.322Z"
   },
   {
    "duration": 93,
    "start_time": "2022-08-27T16:17:36.432Z"
   },
   {
    "duration": 88,
    "start_time": "2022-08-27T16:17:36.527Z"
   },
   {
    "duration": 353,
    "start_time": "2022-08-27T16:17:36.617Z"
   },
   {
    "duration": 442,
    "start_time": "2022-08-27T16:17:36.971Z"
   },
   {
    "duration": 35,
    "start_time": "2022-08-27T16:17:37.415Z"
   },
   {
    "duration": 10,
    "start_time": "2022-08-27T16:17:37.451Z"
   },
   {
    "duration": 6,
    "start_time": "2022-08-27T16:17:37.463Z"
   },
   {
    "duration": 568,
    "start_time": "2022-08-27T16:17:37.470Z"
   },
   {
    "duration": 15,
    "start_time": "2022-08-27T16:17:38.040Z"
   },
   {
    "duration": 160,
    "start_time": "2022-08-27T16:17:38.057Z"
   },
   {
    "duration": 236,
    "start_time": "2022-08-27T16:17:38.219Z"
   },
   {
    "duration": 90,
    "start_time": "2022-08-27T16:17:38.457Z"
   },
   {
    "duration": 4,
    "start_time": "2022-08-27T16:17:38.549Z"
   },
   {
    "duration": 59,
    "start_time": "2022-08-27T16:17:38.554Z"
   },
   {
    "duration": 59,
    "start_time": "2022-08-27T16:17:38.615Z"
   },
   {
    "duration": 3,
    "start_time": "2022-08-27T16:17:38.675Z"
   },
   {
    "duration": 90419,
    "start_time": "2022-08-27T16:17:38.680Z"
   },
   {
    "duration": 3,
    "start_time": "2022-08-27T16:19:09.101Z"
   },
   {
    "duration": 19294,
    "start_time": "2022-08-27T16:19:09.106Z"
   },
   {
    "duration": 227,
    "start_time": "2022-08-27T16:19:28.403Z"
   },
   {
    "duration": 97,
    "start_time": "2022-08-27T16:19:28.701Z"
   },
   {
    "duration": 891802,
    "start_time": "2022-08-27T16:19:28.800Z"
   },
   {
    "duration": 4,
    "start_time": "2022-08-27T16:34:20.603Z"
   },
   {
    "duration": 5,
    "start_time": "2022-08-27T16:34:20.608Z"
   },
   {
    "duration": 591,
    "start_time": "2022-08-27T16:34:20.614Z"
   },
   {
    "duration": 597,
    "start_time": "2022-08-27T16:34:21.207Z"
   },
   {
    "duration": 52,
    "start_time": "2022-08-27T16:34:21.805Z"
   },
   {
    "duration": 56563,
    "start_time": "2022-08-27T16:34:21.859Z"
   },
   {
    "duration": 2881,
    "start_time": "2022-08-27T16:35:18.423Z"
   },
   {
    "duration": 21415,
    "start_time": "2022-08-27T16:35:21.306Z"
   },
   {
    "duration": 7,
    "start_time": "2022-08-27T16:35:42.799Z"
   },
   {
    "duration": 14597,
    "start_time": "2022-08-27T16:35:42.808Z"
   },
   {
    "duration": 175,
    "start_time": "2022-08-27T16:59:49.190Z"
   },
   {
    "duration": 4,
    "start_time": "2022-08-27T17:00:05.575Z"
   },
   {
    "duration": 5,
    "start_time": "2022-08-27T17:00:18.174Z"
   },
   {
    "duration": 5,
    "start_time": "2022-08-27T17:00:59.831Z"
   },
   {
    "duration": 4,
    "start_time": "2022-08-27T17:02:18.516Z"
   },
   {
    "duration": 59618,
    "start_time": "2022-08-27T17:18:48.084Z"
   },
   {
    "duration": 59476,
    "start_time": "2022-08-27T17:20:03.883Z"
   },
   {
    "duration": 1262,
    "start_time": "2022-08-27T17:24:02.838Z"
   },
   {
    "duration": 898,
    "start_time": "2022-08-27T17:24:04.101Z"
   },
   {
    "duration": 161,
    "start_time": "2022-08-27T17:24:05.001Z"
   },
   {
    "duration": 117,
    "start_time": "2022-08-27T17:24:05.165Z"
   },
   {
    "duration": 93,
    "start_time": "2022-08-27T17:24:05.283Z"
   },
   {
    "duration": 77,
    "start_time": "2022-08-27T17:24:05.378Z"
   },
   {
    "duration": 7,
    "start_time": "2022-08-27T17:24:05.456Z"
   },
   {
    "duration": 103,
    "start_time": "2022-08-27T17:24:05.464Z"
   },
   {
    "duration": 88,
    "start_time": "2022-08-27T17:24:05.570Z"
   },
   {
    "duration": 91,
    "start_time": "2022-08-27T17:24:05.661Z"
   },
   {
    "duration": 372,
    "start_time": "2022-08-27T17:24:05.754Z"
   },
   {
    "duration": 466,
    "start_time": "2022-08-27T17:24:06.128Z"
   },
   {
    "duration": 38,
    "start_time": "2022-08-27T17:24:06.595Z"
   },
   {
    "duration": 10,
    "start_time": "2022-08-27T17:24:06.635Z"
   },
   {
    "duration": 5,
    "start_time": "2022-08-27T17:24:06.646Z"
   },
   {
    "duration": 590,
    "start_time": "2022-08-27T17:24:06.652Z"
   },
   {
    "duration": 15,
    "start_time": "2022-08-27T17:24:07.244Z"
   },
   {
    "duration": 151,
    "start_time": "2022-08-27T17:24:07.261Z"
   },
   {
    "duration": 236,
    "start_time": "2022-08-27T17:24:07.414Z"
   },
   {
    "duration": 89,
    "start_time": "2022-08-27T17:24:07.651Z"
   },
   {
    "duration": 4,
    "start_time": "2022-08-27T17:24:07.741Z"
   },
   {
    "duration": 58,
    "start_time": "2022-08-27T17:24:07.747Z"
   },
   {
    "duration": 61,
    "start_time": "2022-08-27T17:24:07.806Z"
   },
   {
    "duration": 4,
    "start_time": "2022-08-27T17:24:07.869Z"
   },
   {
    "duration": 61833,
    "start_time": "2022-08-27T17:24:07.874Z"
   },
   {
    "duration": 94,
    "start_time": "2022-08-27T17:25:09.708Z"
   },
   {
    "duration": 15693,
    "start_time": "2022-08-27T17:25:09.807Z"
   },
   {
    "duration": 198,
    "start_time": "2022-08-27T17:25:25.503Z"
   },
   {
    "duration": 95,
    "start_time": "2022-08-27T17:25:25.703Z"
   },
   {
    "duration": 236204,
    "start_time": "2022-08-27T17:25:25.800Z"
   },
   {
    "duration": 3,
    "start_time": "2022-08-27T17:29:22.006Z"
   },
   {
    "duration": 5,
    "start_time": "2022-08-27T17:29:22.011Z"
   },
   {
    "duration": 688,
    "start_time": "2022-08-27T17:29:22.017Z"
   },
   {
    "duration": 578,
    "start_time": "2022-08-27T17:29:22.706Z"
   },
   {
    "duration": 59,
    "start_time": "2022-08-27T17:29:23.285Z"
   },
   {
    "duration": 57321,
    "start_time": "2022-08-27T17:29:23.345Z"
   },
   {
    "duration": 2893,
    "start_time": "2022-08-27T17:30:20.667Z"
   },
   {
    "duration": 5,
    "start_time": "2022-08-27T17:30:23.561Z"
   },
   {
    "duration": 60064,
    "start_time": "2022-08-27T17:30:23.568Z"
   }
  ],
  "kernelspec": {
   "display_name": "Python 3",
   "language": "python",
   "name": "python3"
  },
  "language_info": {
   "codemirror_mode": {
    "name": "ipython",
    "version": 3
   },
   "file_extension": ".py",
   "mimetype": "text/x-python",
   "name": "python",
   "nbconvert_exporter": "python",
   "pygments_lexer": "ipython3",
   "version": "3.7.4"
  },
  "toc": {
   "base_numbering": 1,
   "nav_menu": {},
   "number_sections": true,
   "sideBar": true,
   "skip_h1_title": true,
   "title_cell": "Table of Contents",
   "title_sidebar": "Contents",
   "toc_cell": false,
   "toc_position": {},
   "toc_section_display": true,
   "toc_window_display": false
  }
 },
 "nbformat": 4,
 "nbformat_minor": 2
}
