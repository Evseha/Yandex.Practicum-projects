{
 "cells": [
  {
   "cell_type": "markdown",
   "metadata": {
    "toc": true
   },
   "source": [
    "<h1>Содержание<span class=\"tocSkip\"></span></h1>\n",
    "<div class=\"toc\"><ul class=\"toc-item\"><li><span><a href=\"#Загрузка-данных\" data-toc-modified-id=\"Загрузка-данных-1\"><span class=\"toc-item-num\">1&nbsp;&nbsp;</span>Загрузка данных</a></span></li><li><span><a href=\"#Умножение-матриц\" data-toc-modified-id=\"Умножение-матриц-2\"><span class=\"toc-item-num\">2&nbsp;&nbsp;</span>Умножение матриц</a></span></li><li><span><a href=\"#Алгоритм-преобразования\" data-toc-modified-id=\"Алгоритм-преобразования-3\"><span class=\"toc-item-num\">3&nbsp;&nbsp;</span>Алгоритм преобразования</a></span></li><li><span><a href=\"#Проверка-алгоритма\" data-toc-modified-id=\"Проверка-алгоритма-4\"><span class=\"toc-item-num\">4&nbsp;&nbsp;</span>Проверка алгоритма</a></span></li><li><span><a href=\"#Чек-лист-проверки\" data-toc-modified-id=\"Чек-лист-проверки-5\"><span class=\"toc-item-num\">5&nbsp;&nbsp;</span>Чек-лист проверки</a></span></li></ul></div>"
   ]
  },
  {
   "cell_type": "markdown",
   "metadata": {},
   "source": [
    "# Защита персональных данных клиентов"
   ]
  },
  {
   "cell_type": "markdown",
   "metadata": {},
   "source": [
    "Вам нужно защитить данные клиентов страховой компании «Хоть потоп». Разработайте такой метод преобразования данных, чтобы по ним было сложно восстановить персональную информацию. Обоснуйте корректность его работы.\n",
    "\n",
    "Нужно защитить данные, чтобы при преобразовании качество моделей машинного обучения не ухудшилось. Подбирать наилучшую модель не требуется."
   ]
  },
  {
   "cell_type": "markdown",
   "metadata": {},
   "source": [
    "## Загрузка данных"
   ]
  },
  {
   "cell_type": "markdown",
   "metadata": {},
   "source": [
    "Импортируем необходимые библиотеки"
   ]
  },
  {
   "cell_type": "code",
   "execution_count": 1,
   "metadata": {},
   "outputs": [],
   "source": [
    "import pandas as pd\n",
    "import numpy as np\n",
    "from sklearn.metrics import r2_score\n",
    "from sklearn.linear_model import LinearRegression"
   ]
  },
  {
   "cell_type": "markdown",
   "metadata": {},
   "source": [
    "Откроем наш датасет и посмотрим информацию по нему"
   ]
  },
  {
   "cell_type": "code",
   "execution_count": 2,
   "metadata": {},
   "outputs": [
    {
     "name": "stdout",
     "output_type": "stream",
     "text": [
      "<class 'pandas.core.frame.DataFrame'>\n",
      "RangeIndex: 5000 entries, 0 to 4999\n",
      "Data columns (total 5 columns):\n",
      " #   Column             Non-Null Count  Dtype  \n",
      "---  ------             --------------  -----  \n",
      " 0   Пол                5000 non-null   int64  \n",
      " 1   Возраст            5000 non-null   float64\n",
      " 2   Зарплата           5000 non-null   float64\n",
      " 3   Члены семьи        5000 non-null   int64  \n",
      " 4   Страховые выплаты  5000 non-null   int64  \n",
      "dtypes: float64(2), int64(3)\n",
      "memory usage: 195.4 KB\n"
     ]
    },
    {
     "data": {
      "text/html": [
       "<div>\n",
       "<style scoped>\n",
       "    .dataframe tbody tr th:only-of-type {\n",
       "        vertical-align: middle;\n",
       "    }\n",
       "\n",
       "    .dataframe tbody tr th {\n",
       "        vertical-align: top;\n",
       "    }\n",
       "\n",
       "    .dataframe thead th {\n",
       "        text-align: right;\n",
       "    }\n",
       "</style>\n",
       "<table border=\"1\" class=\"dataframe\">\n",
       "  <thead>\n",
       "    <tr style=\"text-align: right;\">\n",
       "      <th></th>\n",
       "      <th>Пол</th>\n",
       "      <th>Возраст</th>\n",
       "      <th>Зарплата</th>\n",
       "      <th>Члены семьи</th>\n",
       "      <th>Страховые выплаты</th>\n",
       "    </tr>\n",
       "  </thead>\n",
       "  <tbody>\n",
       "    <tr>\n",
       "      <th>0</th>\n",
       "      <td>1</td>\n",
       "      <td>41.0</td>\n",
       "      <td>49600.0</td>\n",
       "      <td>1</td>\n",
       "      <td>0</td>\n",
       "    </tr>\n",
       "    <tr>\n",
       "      <th>1</th>\n",
       "      <td>0</td>\n",
       "      <td>46.0</td>\n",
       "      <td>38000.0</td>\n",
       "      <td>1</td>\n",
       "      <td>1</td>\n",
       "    </tr>\n",
       "    <tr>\n",
       "      <th>2</th>\n",
       "      <td>0</td>\n",
       "      <td>29.0</td>\n",
       "      <td>21000.0</td>\n",
       "      <td>0</td>\n",
       "      <td>0</td>\n",
       "    </tr>\n",
       "    <tr>\n",
       "      <th>3</th>\n",
       "      <td>0</td>\n",
       "      <td>21.0</td>\n",
       "      <td>41700.0</td>\n",
       "      <td>2</td>\n",
       "      <td>0</td>\n",
       "    </tr>\n",
       "    <tr>\n",
       "      <th>4</th>\n",
       "      <td>1</td>\n",
       "      <td>28.0</td>\n",
       "      <td>26100.0</td>\n",
       "      <td>0</td>\n",
       "      <td>0</td>\n",
       "    </tr>\n",
       "  </tbody>\n",
       "</table>\n",
       "</div>"
      ],
      "text/plain": [
       "   Пол  Возраст  Зарплата  Члены семьи  Страховые выплаты\n",
       "0    1     41.0   49600.0            1                  0\n",
       "1    0     46.0   38000.0            1                  1\n",
       "2    0     29.0   21000.0            0                  0\n",
       "3    0     21.0   41700.0            2                  0\n",
       "4    1     28.0   26100.0            0                  0"
      ]
     },
     "execution_count": 2,
     "metadata": {},
     "output_type": "execute_result"
    }
   ],
   "source": [
    "INSURANCE = pd.read_csv('/datasets/insurance.csv')\n",
    "INSURANCE.info()\n",
    "INSURANCE.head()"
   ]
  },
  {
   "cell_type": "markdown",
   "metadata": {},
   "source": [
    "В нашем датасете 5 столбцов и 5000 строк без пропусков в данных. Переведем столбцы \"Возраст\" и \"Зарплата\" в численный формат"
   ]
  },
  {
   "cell_type": "code",
   "execution_count": 3,
   "metadata": {},
   "outputs": [],
   "source": [
    "INSURANCE['Возраст'] = INSURANCE['Возраст'].astype('int')\n",
    "INSURANCE['Зарплата'] = INSURANCE['Зарплата'].astype('int')"
   ]
  },
  {
   "cell_type": "markdown",
   "metadata": {},
   "source": [
    "Проверим датасет на наличие дубликатов"
   ]
  },
  {
   "cell_type": "code",
   "execution_count": 4,
   "metadata": {},
   "outputs": [
    {
     "data": {
      "text/plain": [
       "153"
      ]
     },
     "execution_count": 4,
     "metadata": {},
     "output_type": "execute_result"
    }
   ],
   "source": [
    "INSURANCE.duplicated().sum()"
   ]
  },
  {
   "cell_type": "markdown",
   "metadata": {},
   "source": [
    "Дубликаты составляют менее 5 процентов, поэтому просто удалим их"
   ]
  },
  {
   "cell_type": "code",
   "execution_count": 5,
   "metadata": {},
   "outputs": [
    {
     "name": "stdout",
     "output_type": "stream",
     "text": [
      "<class 'pandas.core.frame.DataFrame'>\n",
      "Int64Index: 4847 entries, 0 to 4999\n",
      "Data columns (total 5 columns):\n",
      " #   Column             Non-Null Count  Dtype\n",
      "---  ------             --------------  -----\n",
      " 0   Пол                4847 non-null   int64\n",
      " 1   Возраст            4847 non-null   int64\n",
      " 2   Зарплата           4847 non-null   int64\n",
      " 3   Члены семьи        4847 non-null   int64\n",
      " 4   Страховые выплаты  4847 non-null   int64\n",
      "dtypes: int64(5)\n",
      "memory usage: 227.2 KB\n"
     ]
    }
   ],
   "source": [
    "INSURANCE = INSURANCE.drop_duplicates()\n",
    "INSURANCE.info()"
   ]
  },
  {
   "cell_type": "markdown",
   "metadata": {},
   "source": [
    "Теперь наши данные готовы к дальнейшей работе"
   ]
  },
  {
   "cell_type": "markdown",
   "metadata": {},
   "source": [
    "## Умножение матриц"
   ]
  },
  {
   "cell_type": "markdown",
   "metadata": {},
   "source": [
    "В этом задании вы можете записывать формулы в *Jupyter Notebook.*\n",
    "\n",
    "Чтобы записать формулу внутри текста, окружите её символами доллара \\\\$; если снаружи —  двойными символами \\\\$\\\\$. Эти формулы записываются на языке вёрстки *LaTeX.* \n",
    "\n",
    "Для примера мы записали формулы линейной регрессии. Можете их скопировать и отредактировать, чтобы решить задачу.\n",
    "\n",
    "Работать в *LaTeX* необязательно."
   ]
  },
  {
   "cell_type": "markdown",
   "metadata": {},
   "source": [
    "Обозначения:\n",
    "\n",
    "- $X$ — матрица признаков (нулевой столбец состоит из единиц)\n",
    "\n",
    "- $y$ — вектор целевого признака\n",
    "\n",
    "- $P$ — матрица, на которую умножаются признаки\n",
    "\n",
    "- $w$ — вектор весов линейной регрессии (нулевой элемент равен сдвигу)"
   ]
  },
  {
   "cell_type": "markdown",
   "metadata": {},
   "source": [
    "Предсказания:\n",
    "\n",
    "$$\n",
    "a = Xw\n",
    "$$\n",
    "\n",
    "Задача обучения:\n",
    "\n",
    "$$\n",
    "w = \\arg\\min_w MSE(Xw, y)\n",
    "$$\n",
    "\n",
    "Формула обучения:\n",
    "\n",
    "$$\n",
    "w = (X^T X)^{-1} X^T y\n",
    "$$"
   ]
  },
  {
   "cell_type": "markdown",
   "metadata": {},
   "source": [
    "**Задание:**\n",
    "\n",
    "Ответьте на вопрос и обоснуйте решение.\n",
    "\n",
    "Признаки умножают на обратимую матрицу. Изменится ли качество линейной регрессии? (Её можно обучить заново.)\n",
    "\n",
    "- a. Изменится. Приведите примеры матриц.\n",
    "- b. Не изменится. Укажите, как связаны параметры линейной регрессии в исходной задаче и в преобразованной."
   ]
  },
  {
   "cell_type": "markdown",
   "metadata": {},
   "source": [
    "**Ответ:** \n",
    "Качество линейной регрессии не меняется!"
   ]
  },
  {
   "cell_type": "markdown",
   "metadata": {},
   "source": [
    "**Обоснование:** \n",
    "\n",
    "Новая матрица признаков X1 появляется при умножении старой матрицы признаков X на обратимую матрицу P:\n",
    "\n",
    "$$X1 = XP$$\n",
    "\n",
    "Подставим значение новой матрицы признаков в формулу w1:\n",
    "\n",
    "$$w1 =  ((XP)^TXP)^{-1} (XP)^Ty$$\n",
    "\n",
    "Далее раскрываем скобки:\n",
    "\n",
    "$$w1 = (P^TX^TXP)^{-1}P^TX^Ty$$\n",
    "\n",
    "$$w1  =  (P^T X^T XP)^{-1}  P^T X^T y$$\n",
    "\n",
    "$$w1 =   P^{-1} (X^T X)^{-1} (P^T)^{-1} P^T X^T y$$\n",
    "\n",
    "$(P^T)^{-1} P^T$ равно единичной матрице E, так как P обратима, из этого следует:\n",
    "\n",
    "$$w1 = P^{-1} (X^T X)^{-1} E X^T y = P^{-1} (X^T X)^{-1} X^T y$$\n",
    "\n",
    "Таким образом так как $w = (X^T X)^{-1} X^T y$ мы получаем формулу для w:\n",
    "\n",
    "$$w1 = P^{-1} (X^T X)^{-1} X^T y = P^{-1} w$$\n",
    "\n",
    "Предсказания расчитываются формулой a = Xw. Подставим в данную формулу нашу формулу для w и вычислим a1:\n",
    "\n",
    "$$a1 = X1w1 = XP P^{-1} w$$\n",
    "\n",
    "Так как у нас обратимая матрица, то $P P^{-1}$ равна E(то есть единичной матрице, а мы помним что умножение на единичную матрицу возвращает матрицу):\n",
    "\n",
    "$$a1 = XP P^{-1} w = XEw = Xw$$\n",
    "\n",
    "А как мы знаем **Xw = a**. Соответственно мы приходим к выводу, что **a1 = a**!"
   ]
  },
  {
   "cell_type": "markdown",
   "metadata": {},
   "source": [
    "## Алгоритм преобразования"
   ]
  },
  {
   "cell_type": "markdown",
   "metadata": {},
   "source": [
    "**Алгоритм**\n",
    "Для решения нашей задачи нам потребуется сделать следующие шаги:\n",
    "\n",
    "- чтобы защитить данные клиентов страховой компании  «Хоть потоп», мы на основании предоставленных данных должны сформировать матрицу признаков и сгенерировать другую матрицу со схожими парамметрами;\n",
    "- перемножить сгенерированную матрицу на исходную;\n",
    "- расчитать качество модели матрицы исходных данных и сгенерированной матрицы."
   ]
  },
  {
   "cell_type": "markdown",
   "metadata": {},
   "source": [
    "**Обоснование**\n",
    "\n",
    "Исходя из вышеизложенного нами в пункте 2 утверждения, предсказания на измененной и изначальной матрице не должно отличаться. Подведя итоги мы расчитаем метрику R2 и убедимся в правильности нашего утверждения..."
   ]
  },
  {
   "cell_type": "markdown",
   "metadata": {},
   "source": [
    "## Проверка алгоритма"
   ]
  },
  {
   "cell_type": "markdown",
   "metadata": {},
   "source": [
    "Из предоставленных данных выделим целевой признак и остальные признаки"
   ]
  },
  {
   "cell_type": "code",
   "execution_count": 6,
   "metadata": {},
   "outputs": [],
   "source": [
    "features = INSURANCE.drop('Страховые выплаты', axis=1)\n",
    "target = INSURANCE['Страховые выплаты']"
   ]
  },
  {
   "cell_type": "markdown",
   "metadata": {},
   "source": [
    "На основании исходных данных создадим матрицу"
   ]
  },
  {
   "cell_type": "code",
   "execution_count": 7,
   "metadata": {},
   "outputs": [
    {
     "data": {
      "text/plain": [
       "array([[    1,    41, 49600,     1],\n",
       "       [    0,    46, 38000,     1],\n",
       "       [    0,    29, 21000,     0],\n",
       "       ...,\n",
       "       [    0,    20, 33900,     2],\n",
       "       [    1,    22, 32700,     3],\n",
       "       [    1,    28, 40600,     1]])"
      ]
     },
     "execution_count": 7,
     "metadata": {},
     "output_type": "execute_result"
    }
   ],
   "source": [
    "matrix = features.values\n",
    "matrix"
   ]
  },
  {
   "cell_type": "markdown",
   "metadata": {},
   "source": [
    "Сгенерируем матрицу 4х4 методом "
   ]
  },
  {
   "cell_type": "code",
   "execution_count": 8,
   "metadata": {},
   "outputs": [
    {
     "data": {
      "text/plain": [
       "array([[-1.06655954e+00, -4.78848718e-01, -7.95761900e-01,\n",
       "        -4.70641180e-01],\n",
       "       [ 1.13092715e+00, -5.45653587e-01, -1.14144081e+00,\n",
       "         2.11314582e+00],\n",
       "       [ 1.29012792e+00,  1.55318724e+00, -1.05593610e+00,\n",
       "        -2.31008995e-02],\n",
       "       [-1.25023828e-03, -6.77520546e-01, -1.00904382e+00,\n",
       "         4.80831602e-01]])"
      ]
     },
     "execution_count": 8,
     "metadata": {},
     "output_type": "execute_result"
    }
   ],
   "source": [
    "matrix_new = np.random.normal(size=(4,4))\n",
    "matrix_new"
   ]
  },
  {
   "cell_type": "markdown",
   "metadata": {},
   "source": [
    "Обратим сгенерированную матрицу и заодно проверим ее на обратимость. Хотя методом np.random.normal вероятность формирования необратимой матрицы близка к нулю"
   ]
  },
  {
   "cell_type": "code",
   "execution_count": 9,
   "metadata": {
    "scrolled": true
   },
   "outputs": [
    {
     "data": {
      "text/plain": [
       "array([[-1.73149451, -0.89421539,  0.12971787,  2.24130753],\n",
       "       [ 1.23860299,  0.78321938,  0.33524756, -2.21361212],\n",
       "       [-0.31716383,  0.03385831, -0.29234086, -0.47328677],\n",
       "       [ 1.07518305,  1.17233092, -0.14076748, -2.02676489]])"
      ]
     },
     "execution_count": 9,
     "metadata": {},
     "output_type": "execute_result"
    }
   ],
   "source": [
    "matrix_inv = np.linalg.inv(matrix_new)\n",
    "matrix_inv"
   ]
  },
  {
   "cell_type": "markdown",
   "metadata": {},
   "source": [
    "Перемножим исходную матрицу со сгенерированной и обращенной матрицей "
   ]
  },
  {
   "cell_type": "code",
   "execution_count": 10,
   "metadata": {},
   "outputs": [],
   "source": [
    "matrix_result = matrix @ matrix_inv"
   ]
  },
  {
   "cell_type": "markdown",
   "metadata": {},
   "source": [
    "Теперь на основании новых признаков сформируем таблицу "
   ]
  },
  {
   "cell_type": "code",
   "execution_count": 11,
   "metadata": {},
   "outputs": [
    {
     "data": {
      "text/html": [
       "<div>\n",
       "<style scoped>\n",
       "    .dataframe tbody tr th:only-of-type {\n",
       "        vertical-align: middle;\n",
       "    }\n",
       "\n",
       "    .dataframe tbody tr th {\n",
       "        vertical-align: top;\n",
       "    }\n",
       "\n",
       "    .dataframe thead th {\n",
       "        text-align: right;\n",
       "    }\n",
       "</style>\n",
       "<table border=\"1\" class=\"dataframe\">\n",
       "  <thead>\n",
       "    <tr style=\"text-align: right;\">\n",
       "      <th></th>\n",
       "      <th>Пол</th>\n",
       "      <th>Возраст</th>\n",
       "      <th>Зарплата</th>\n",
       "      <th>Члены семьи</th>\n",
       "    </tr>\n",
       "  </thead>\n",
       "  <tbody>\n",
       "    <tr>\n",
       "      <th>0</th>\n",
       "      <td>-15681.199664</td>\n",
       "      <td>1711.762085</td>\n",
       "      <td>-14486.372667</td>\n",
       "      <td>-23565.567227</td>\n",
       "    </tr>\n",
       "    <tr>\n",
       "      <th>1</th>\n",
       "      <td>-11994.174701</td>\n",
       "      <td>1323.816048</td>\n",
       "      <td>-11093.672145</td>\n",
       "      <td>-18088.750091</td>\n",
       "    </tr>\n",
       "    <tr>\n",
       "      <th>2</th>\n",
       "      <td>-6624.520989</td>\n",
       "      <td>733.737787</td>\n",
       "      <td>-6129.435928</td>\n",
       "      <td>-10003.216871</td>\n",
       "    </tr>\n",
       "    <tr>\n",
       "      <th>3</th>\n",
       "      <td>-13197.570772</td>\n",
       "      <td>1430.683627</td>\n",
       "      <td>-12183.855292</td>\n",
       "      <td>-19786.597593</td>\n",
       "    </tr>\n",
       "    <tr>\n",
       "      <th>4</th>\n",
       "      <td>-8245.026630</td>\n",
       "      <td>904.737713</td>\n",
       "      <td>-7620.579855</td>\n",
       "      <td>-12412.524466</td>\n",
       "    </tr>\n",
       "    <tr>\n",
       "      <th>...</th>\n",
       "      <td>...</td>\n",
       "      <td>...</td>\n",
       "      <td>...</td>\n",
       "      <td>...</td>\n",
       "    </tr>\n",
       "    <tr>\n",
       "      <th>4842</th>\n",
       "      <td>-11285.917558</td>\n",
       "      <td>1233.016327</td>\n",
       "      <td>-10427.463385</td>\n",
       "      <td>-16962.372272</td>\n",
       "    </tr>\n",
       "    <tr>\n",
       "      <th>4843</th>\n",
       "      <td>-16576.197120</td>\n",
       "      <td>1801.977022</td>\n",
       "      <td>-15307.403532</td>\n",
       "      <td>-24877.516199</td>\n",
       "    </tr>\n",
       "    <tr>\n",
       "      <th>4844</th>\n",
       "      <td>-10724.931484</td>\n",
       "      <td>1165.805621</td>\n",
       "      <td>-9903.931814</td>\n",
       "      <td>-16092.747194</td>\n",
       "    </tr>\n",
       "    <tr>\n",
       "      <th>4845</th>\n",
       "      <td>-10342.513991</td>\n",
       "      <td>1127.020208</td>\n",
       "      <td>-9552.463333</td>\n",
       "      <td>-15529.015754</td>\n",
       "    </tr>\n",
       "    <tr>\n",
       "      <th>4846</th>\n",
       "      <td>-12842.827013</td>\n",
       "      <td>1396.855480</td>\n",
       "      <td>-11859.663125</td>\n",
       "      <td>-19277.209361</td>\n",
       "    </tr>\n",
       "  </tbody>\n",
       "</table>\n",
       "<p>4847 rows × 4 columns</p>\n",
       "</div>"
      ],
      "text/plain": [
       "               Пол      Возраст      Зарплата   Члены семьи\n",
       "0    -15681.199664  1711.762085 -14486.372667 -23565.567227\n",
       "1    -11994.174701  1323.816048 -11093.672145 -18088.750091\n",
       "2     -6624.520989   733.737787  -6129.435928 -10003.216871\n",
       "3    -13197.570772  1430.683627 -12183.855292 -19786.597593\n",
       "4     -8245.026630   904.737713  -7620.579855 -12412.524466\n",
       "...            ...          ...           ...           ...\n",
       "4842 -11285.917558  1233.016327 -10427.463385 -16962.372272\n",
       "4843 -16576.197120  1801.977022 -15307.403532 -24877.516199\n",
       "4844 -10724.931484  1165.805621  -9903.931814 -16092.747194\n",
       "4845 -10342.513991  1127.020208  -9552.463333 -15529.015754\n",
       "4846 -12842.827013  1396.855480 -11859.663125 -19277.209361\n",
       "\n",
       "[4847 rows x 4 columns]"
      ]
     },
     "execution_count": 11,
     "metadata": {},
     "output_type": "execute_result"
    }
   ],
   "source": [
    "features_result = pd.DataFrame(matrix_result, columns=features.columns)\n",
    "features_result"
   ]
  },
  {
   "cell_type": "markdown",
   "metadata": {},
   "source": [
    "Итак мы получили совсем новые данные, не раскрывающие данные клиентов страховой компании «Хоть потоп». Далее нам обучить модель для расчета метрики R2. Для начала на исходных данных"
   ]
  },
  {
   "cell_type": "code",
   "execution_count": 12,
   "metadata": {},
   "outputs": [
    {
     "name": "stdout",
     "output_type": "stream",
     "text": [
      "0.4302010046633359\n"
     ]
    }
   ],
   "source": [
    "model = LinearRegression()\n",
    "model.fit(features, target)\n",
    "predictions = model.predict(features)\n",
    "print(r2_score(target, predictions))"
   ]
  },
  {
   "cell_type": "markdown",
   "metadata": {},
   "source": [
    "Далее в качестве вводных используем данные из сгенерированной матрицы"
   ]
  },
  {
   "cell_type": "code",
   "execution_count": 13,
   "metadata": {
    "scrolled": true
   },
   "outputs": [
    {
     "name": "stdout",
     "output_type": "stream",
     "text": [
      "0.4302010046633419\n"
     ]
    }
   ],
   "source": [
    "model = LinearRegression()\n",
    "model.fit(features_result, target)\n",
    "predictions = model.predict(features_result)\n",
    "print(r2_score(target, predictions))"
   ]
  },
  {
   "cell_type": "markdown",
   "metadata": {},
   "source": [
    "**Вывод**\n",
    "\n",
    "По полученным результатам, мы можем видеть, что метрики качества практически не отличаются"
   ]
  }
 ],
 "metadata": {
  "ExecuteTimeLog": [
   {
    "duration": 388,
    "start_time": "2022-08-13T09:54:00.488Z"
   },
   {
    "duration": 87,
    "start_time": "2022-08-13T09:55:57.035Z"
   },
   {
    "duration": 34,
    "start_time": "2022-08-13T09:56:25.067Z"
   },
   {
    "duration": 43,
    "start_time": "2022-08-13T09:56:43.847Z"
   },
   {
    "duration": 35,
    "start_time": "2022-08-13T09:59:22.186Z"
   },
   {
    "duration": 358,
    "start_time": "2022-08-15T05:05:56.925Z"
   },
   {
    "duration": 109,
    "start_time": "2022-08-15T05:05:59.927Z"
   },
   {
    "duration": 5,
    "start_time": "2022-08-15T05:15:40.602Z"
   },
   {
    "duration": 6,
    "start_time": "2022-08-15T05:16:24.104Z"
   },
   {
    "duration": 6,
    "start_time": "2022-08-15T05:23:31.681Z"
   },
   {
    "duration": 11,
    "start_time": "2022-08-15T05:23:40.493Z"
   },
   {
    "duration": 56,
    "start_time": "2022-08-15T11:26:43.935Z"
   },
   {
    "duration": 4,
    "start_time": "2022-08-15T11:27:32.784Z"
   },
   {
    "duration": 4,
    "start_time": "2022-08-15T11:29:40.684Z"
   },
   {
    "duration": 4,
    "start_time": "2022-08-15T11:30:45.087Z"
   },
   {
    "duration": 4,
    "start_time": "2022-08-15T11:56:12.642Z"
   },
   {
    "duration": 7,
    "start_time": "2022-08-15T11:57:48.084Z"
   },
   {
    "duration": 3,
    "start_time": "2022-08-15T12:03:01.293Z"
   },
   {
    "duration": 4,
    "start_time": "2022-08-15T12:03:43.814Z"
   },
   {
    "duration": 3,
    "start_time": "2022-08-15T12:08:53.963Z"
   },
   {
    "duration": 9,
    "start_time": "2022-08-15T12:10:50.244Z"
   },
   {
    "duration": 653,
    "start_time": "2022-08-15T12:34:14.222Z"
   },
   {
    "duration": 37,
    "start_time": "2022-08-15T12:38:42.883Z"
   },
   {
    "duration": 26,
    "start_time": "2022-08-15T12:40:38.098Z"
   },
   {
    "duration": 1049,
    "start_time": "2022-08-15T12:41:01.082Z"
   },
   {
    "duration": 53,
    "start_time": "2022-08-15T12:41:02.133Z"
   },
   {
    "duration": 4,
    "start_time": "2022-08-15T12:41:02.187Z"
   },
   {
    "duration": 11,
    "start_time": "2022-08-15T12:41:02.192Z"
   },
   {
    "duration": 11,
    "start_time": "2022-08-15T12:41:02.205Z"
   },
   {
    "duration": 3,
    "start_time": "2022-08-15T12:41:02.217Z"
   },
   {
    "duration": 19,
    "start_time": "2022-08-15T12:41:02.221Z"
   },
   {
    "duration": 15,
    "start_time": "2022-08-15T12:41:02.241Z"
   },
   {
    "duration": 15,
    "start_time": "2022-08-15T12:41:02.257Z"
   },
   {
    "duration": 32,
    "start_time": "2022-08-15T12:41:02.274Z"
   },
   {
    "duration": 16,
    "start_time": "2022-08-15T12:41:02.307Z"
   },
   {
    "duration": 88,
    "start_time": "2022-08-15T12:41:02.325Z"
   },
   {
    "duration": 10,
    "start_time": "2022-08-15T12:43:37.572Z"
   },
   {
    "duration": 1027,
    "start_time": "2022-08-15T12:47:36.501Z"
   },
   {
    "duration": 48,
    "start_time": "2022-08-15T12:47:37.530Z"
   },
   {
    "duration": 5,
    "start_time": "2022-08-15T12:47:37.579Z"
   },
   {
    "duration": 7,
    "start_time": "2022-08-15T12:47:37.586Z"
   },
   {
    "duration": 12,
    "start_time": "2022-08-15T12:47:37.594Z"
   },
   {
    "duration": 3,
    "start_time": "2022-08-15T12:47:37.607Z"
   },
   {
    "duration": 7,
    "start_time": "2022-08-15T12:47:37.611Z"
   },
   {
    "duration": 6,
    "start_time": "2022-08-15T12:47:37.620Z"
   },
   {
    "duration": 6,
    "start_time": "2022-08-15T12:47:37.627Z"
   },
   {
    "duration": 4,
    "start_time": "2022-08-15T12:47:37.635Z"
   },
   {
    "duration": 74,
    "start_time": "2022-08-15T12:47:37.640Z"
   },
   {
    "duration": 93,
    "start_time": "2022-08-15T12:47:37.716Z"
   },
   {
    "duration": 105,
    "start_time": "2022-08-15T12:47:37.810Z"
   },
   {
    "duration": 1472,
    "start_time": "2022-08-15T18:33:21.005Z"
   },
   {
    "duration": 124,
    "start_time": "2022-08-15T18:33:22.479Z"
   },
   {
    "duration": 5,
    "start_time": "2022-08-15T18:33:22.604Z"
   },
   {
    "duration": 7,
    "start_time": "2022-08-15T18:33:22.611Z"
   },
   {
    "duration": 11,
    "start_time": "2022-08-15T18:33:22.620Z"
   },
   {
    "duration": 3,
    "start_time": "2022-08-15T18:33:22.633Z"
   },
   {
    "duration": 7,
    "start_time": "2022-08-15T18:33:22.637Z"
   },
   {
    "duration": 5,
    "start_time": "2022-08-15T18:33:22.646Z"
   },
   {
    "duration": 47,
    "start_time": "2022-08-15T18:33:22.653Z"
   },
   {
    "duration": 15,
    "start_time": "2022-08-15T18:33:22.706Z"
   },
   {
    "duration": 18,
    "start_time": "2022-08-15T18:33:22.791Z"
   },
   {
    "duration": 90,
    "start_time": "2022-08-15T18:33:22.810Z"
   },
   {
    "duration": 91,
    "start_time": "2022-08-15T18:33:22.902Z"
   }
  ],
  "kernelspec": {
   "display_name": "Python 3",
   "language": "python",
   "name": "python3"
  },
  "language_info": {
   "codemirror_mode": {
    "name": "ipython",
    "version": 3
   },
   "file_extension": ".py",
   "mimetype": "text/x-python",
   "name": "python",
   "nbconvert_exporter": "python",
   "pygments_lexer": "ipython3",
   "version": "3.7.4"
  },
  "toc": {
   "base_numbering": 1,
   "nav_menu": {},
   "number_sections": true,
   "sideBar": true,
   "skip_h1_title": true,
   "title_cell": "Содержание",
   "title_sidebar": "Contents",
   "toc_cell": true,
   "toc_position": {
    "height": "calc(100% - 180px)",
    "left": "10px",
    "top": "150px",
    "width": "213.09px"
   },
   "toc_section_display": true,
   "toc_window_display": true
  }
 },
 "nbformat": 4,
 "nbformat_minor": 2
}
