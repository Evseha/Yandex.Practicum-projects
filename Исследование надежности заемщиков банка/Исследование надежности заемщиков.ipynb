{
 "cells": [
  {
   "cell_type": "markdown",
   "metadata": {},
   "source": [
    "# Исследование надежности заемщиков."
   ]
  },
  {
   "cell_type": "markdown",
   "metadata": {},
   "source": [
    "# Шаг 1. Обзор данных\n",
    "\n",
    "Заказчик — кредитный отдел банка. Нужно разобраться, влияет ли семейное положение и количество детей клиента на факт погашения кредита в срок. Входные данные от банка — статистика о платёжеспособности клиентов.\n",
    "Результаты исследования будут учтены при построении модели кредитного скоринга — специальной системы, которая оценивает способность потенциального заёмщика вернуть кредит банку.\n",
    "\n",
    "Банк предоставил статистику о платежеспособности клиентов в формате 'csv' со следующим описанием данных:\n",
    "\n",
    "•\tchildren — количество детей в семье\n",
    "\n",
    "•\tdays_employed — общий трудовой стаж в днях\n",
    "\n",
    "•\tdob_years — возраст клиента в годах\n",
    "\n",
    "•\teducation — уровень образования клиента\n",
    "\n",
    "•\teducation_id — идентификатор уровня образования\n",
    "\n",
    "•\tfamily_status — семейное положение\n",
    "\n",
    "•\tfamily_status_id — идентификатор семейного положения\n",
    "\n",
    "•\tgender — пол клиента\n",
    "\n",
    "•\tincome_type — тип занятости\n",
    "\n",
    "•\tdebt — имел ли задолженность по возврату кредитов\n",
    "\n",
    "•\ttotal_income — ежемесячный доход\n",
    "\n",
    "•\tpurpose — цель получения кредита\n",
    "\n"
   ]
  },
  {
   "cell_type": "code",
   "execution_count": 1,
   "metadata": {},
   "outputs": [
    {
     "data": {
      "text/html": [
       "<div>\n",
       "<style scoped>\n",
       "    .dataframe tbody tr th:only-of-type {\n",
       "        vertical-align: middle;\n",
       "    }\n",
       "\n",
       "    .dataframe tbody tr th {\n",
       "        vertical-align: top;\n",
       "    }\n",
       "\n",
       "    .dataframe thead th {\n",
       "        text-align: right;\n",
       "    }\n",
       "</style>\n",
       "<table border=\"1\" class=\"dataframe\">\n",
       "  <thead>\n",
       "    <tr style=\"text-align: right;\">\n",
       "      <th></th>\n",
       "      <th>children</th>\n",
       "      <th>days_employed</th>\n",
       "      <th>dob_years</th>\n",
       "      <th>education</th>\n",
       "      <th>education_id</th>\n",
       "      <th>family_status</th>\n",
       "      <th>family_status_id</th>\n",
       "      <th>gender</th>\n",
       "      <th>income_type</th>\n",
       "      <th>debt</th>\n",
       "      <th>total_income</th>\n",
       "      <th>purpose</th>\n",
       "    </tr>\n",
       "  </thead>\n",
       "  <tbody>\n",
       "    <tr>\n",
       "      <th>0</th>\n",
       "      <td>1</td>\n",
       "      <td>-8437.673028</td>\n",
       "      <td>42</td>\n",
       "      <td>высшее</td>\n",
       "      <td>0</td>\n",
       "      <td>женат / замужем</td>\n",
       "      <td>0</td>\n",
       "      <td>F</td>\n",
       "      <td>сотрудник</td>\n",
       "      <td>0</td>\n",
       "      <td>253875.639453</td>\n",
       "      <td>покупка жилья</td>\n",
       "    </tr>\n",
       "    <tr>\n",
       "      <th>1</th>\n",
       "      <td>1</td>\n",
       "      <td>-4024.803754</td>\n",
       "      <td>36</td>\n",
       "      <td>среднее</td>\n",
       "      <td>1</td>\n",
       "      <td>женат / замужем</td>\n",
       "      <td>0</td>\n",
       "      <td>F</td>\n",
       "      <td>сотрудник</td>\n",
       "      <td>0</td>\n",
       "      <td>112080.014102</td>\n",
       "      <td>приобретение автомобиля</td>\n",
       "    </tr>\n",
       "    <tr>\n",
       "      <th>2</th>\n",
       "      <td>0</td>\n",
       "      <td>-5623.422610</td>\n",
       "      <td>33</td>\n",
       "      <td>Среднее</td>\n",
       "      <td>1</td>\n",
       "      <td>женат / замужем</td>\n",
       "      <td>0</td>\n",
       "      <td>M</td>\n",
       "      <td>сотрудник</td>\n",
       "      <td>0</td>\n",
       "      <td>145885.952297</td>\n",
       "      <td>покупка жилья</td>\n",
       "    </tr>\n",
       "    <tr>\n",
       "      <th>3</th>\n",
       "      <td>3</td>\n",
       "      <td>-4124.747207</td>\n",
       "      <td>32</td>\n",
       "      <td>среднее</td>\n",
       "      <td>1</td>\n",
       "      <td>женат / замужем</td>\n",
       "      <td>0</td>\n",
       "      <td>M</td>\n",
       "      <td>сотрудник</td>\n",
       "      <td>0</td>\n",
       "      <td>267628.550329</td>\n",
       "      <td>дополнительное образование</td>\n",
       "    </tr>\n",
       "    <tr>\n",
       "      <th>4</th>\n",
       "      <td>0</td>\n",
       "      <td>340266.072047</td>\n",
       "      <td>53</td>\n",
       "      <td>среднее</td>\n",
       "      <td>1</td>\n",
       "      <td>гражданский брак</td>\n",
       "      <td>1</td>\n",
       "      <td>F</td>\n",
       "      <td>пенсионер</td>\n",
       "      <td>0</td>\n",
       "      <td>158616.077870</td>\n",
       "      <td>сыграть свадьбу</td>\n",
       "    </tr>\n",
       "    <tr>\n",
       "      <th>5</th>\n",
       "      <td>0</td>\n",
       "      <td>-926.185831</td>\n",
       "      <td>27</td>\n",
       "      <td>высшее</td>\n",
       "      <td>0</td>\n",
       "      <td>гражданский брак</td>\n",
       "      <td>1</td>\n",
       "      <td>M</td>\n",
       "      <td>компаньон</td>\n",
       "      <td>0</td>\n",
       "      <td>255763.565419</td>\n",
       "      <td>покупка жилья</td>\n",
       "    </tr>\n",
       "    <tr>\n",
       "      <th>6</th>\n",
       "      <td>0</td>\n",
       "      <td>-2879.202052</td>\n",
       "      <td>43</td>\n",
       "      <td>высшее</td>\n",
       "      <td>0</td>\n",
       "      <td>женат / замужем</td>\n",
       "      <td>0</td>\n",
       "      <td>F</td>\n",
       "      <td>компаньон</td>\n",
       "      <td>0</td>\n",
       "      <td>240525.971920</td>\n",
       "      <td>операции с жильем</td>\n",
       "    </tr>\n",
       "    <tr>\n",
       "      <th>7</th>\n",
       "      <td>0</td>\n",
       "      <td>-152.779569</td>\n",
       "      <td>50</td>\n",
       "      <td>СРЕДНЕЕ</td>\n",
       "      <td>1</td>\n",
       "      <td>женат / замужем</td>\n",
       "      <td>0</td>\n",
       "      <td>M</td>\n",
       "      <td>сотрудник</td>\n",
       "      <td>0</td>\n",
       "      <td>135823.934197</td>\n",
       "      <td>образование</td>\n",
       "    </tr>\n",
       "    <tr>\n",
       "      <th>8</th>\n",
       "      <td>2</td>\n",
       "      <td>-6929.865299</td>\n",
       "      <td>35</td>\n",
       "      <td>ВЫСШЕЕ</td>\n",
       "      <td>0</td>\n",
       "      <td>гражданский брак</td>\n",
       "      <td>1</td>\n",
       "      <td>F</td>\n",
       "      <td>сотрудник</td>\n",
       "      <td>0</td>\n",
       "      <td>95856.832424</td>\n",
       "      <td>на проведение свадьбы</td>\n",
       "    </tr>\n",
       "    <tr>\n",
       "      <th>9</th>\n",
       "      <td>0</td>\n",
       "      <td>-2188.756445</td>\n",
       "      <td>41</td>\n",
       "      <td>среднее</td>\n",
       "      <td>1</td>\n",
       "      <td>женат / замужем</td>\n",
       "      <td>0</td>\n",
       "      <td>M</td>\n",
       "      <td>сотрудник</td>\n",
       "      <td>0</td>\n",
       "      <td>144425.938277</td>\n",
       "      <td>покупка жилья для семьи</td>\n",
       "    </tr>\n",
       "  </tbody>\n",
       "</table>\n",
       "</div>"
      ],
      "text/plain": [
       "   children  days_employed  dob_years education  education_id  \\\n",
       "0         1   -8437.673028         42    высшее             0   \n",
       "1         1   -4024.803754         36   среднее             1   \n",
       "2         0   -5623.422610         33   Среднее             1   \n",
       "3         3   -4124.747207         32   среднее             1   \n",
       "4         0  340266.072047         53   среднее             1   \n",
       "5         0    -926.185831         27    высшее             0   \n",
       "6         0   -2879.202052         43    высшее             0   \n",
       "7         0    -152.779569         50   СРЕДНЕЕ             1   \n",
       "8         2   -6929.865299         35    ВЫСШЕЕ             0   \n",
       "9         0   -2188.756445         41   среднее             1   \n",
       "\n",
       "      family_status  family_status_id gender income_type  debt   total_income  \\\n",
       "0   женат / замужем                 0      F   сотрудник     0  253875.639453   \n",
       "1   женат / замужем                 0      F   сотрудник     0  112080.014102   \n",
       "2   женат / замужем                 0      M   сотрудник     0  145885.952297   \n",
       "3   женат / замужем                 0      M   сотрудник     0  267628.550329   \n",
       "4  гражданский брак                 1      F   пенсионер     0  158616.077870   \n",
       "5  гражданский брак                 1      M   компаньон     0  255763.565419   \n",
       "6   женат / замужем                 0      F   компаньон     0  240525.971920   \n",
       "7   женат / замужем                 0      M   сотрудник     0  135823.934197   \n",
       "8  гражданский брак                 1      F   сотрудник     0   95856.832424   \n",
       "9   женат / замужем                 0      M   сотрудник     0  144425.938277   \n",
       "\n",
       "                      purpose  \n",
       "0               покупка жилья  \n",
       "1     приобретение автомобиля  \n",
       "2               покупка жилья  \n",
       "3  дополнительное образование  \n",
       "4             сыграть свадьбу  \n",
       "5               покупка жилья  \n",
       "6           операции с жильем  \n",
       "7                 образование  \n",
       "8       на проведение свадьбы  \n",
       "9     покупка жилья для семьи  "
      ]
     },
     "execution_count": 1,
     "metadata": {},
     "output_type": "execute_result"
    }
   ],
   "source": [
    "import pandas as pd #вызовем библиотеку pandas\n",
    "client = pd.read_csv('/datasets/data.csv') #откроем с помощью pandas и присвоем имя таблице\n",
    "client.head(10) #выведем первые 10 строк на экран"
   ]
  },
  {
   "cell_type": "code",
   "execution_count": 2,
   "metadata": {},
   "outputs": [
    {
     "data": {
      "text/html": [
       "<div>\n",
       "<style scoped>\n",
       "    .dataframe tbody tr th:only-of-type {\n",
       "        vertical-align: middle;\n",
       "    }\n",
       "\n",
       "    .dataframe tbody tr th {\n",
       "        vertical-align: top;\n",
       "    }\n",
       "\n",
       "    .dataframe thead th {\n",
       "        text-align: right;\n",
       "    }\n",
       "</style>\n",
       "<table border=\"1\" class=\"dataframe\">\n",
       "  <thead>\n",
       "    <tr style=\"text-align: right;\">\n",
       "      <th></th>\n",
       "      <th>children</th>\n",
       "      <th>days_employed</th>\n",
       "      <th>dob_years</th>\n",
       "      <th>education</th>\n",
       "      <th>education_id</th>\n",
       "      <th>family_status</th>\n",
       "      <th>family_status_id</th>\n",
       "      <th>gender</th>\n",
       "      <th>income_type</th>\n",
       "      <th>debt</th>\n",
       "      <th>total_income</th>\n",
       "      <th>purpose</th>\n",
       "    </tr>\n",
       "  </thead>\n",
       "  <tbody>\n",
       "    <tr>\n",
       "      <th>21515</th>\n",
       "      <td>1</td>\n",
       "      <td>-467.685130</td>\n",
       "      <td>28</td>\n",
       "      <td>среднее</td>\n",
       "      <td>1</td>\n",
       "      <td>женат / замужем</td>\n",
       "      <td>0</td>\n",
       "      <td>F</td>\n",
       "      <td>сотрудник</td>\n",
       "      <td>1</td>\n",
       "      <td>109486.327999</td>\n",
       "      <td>заняться образованием</td>\n",
       "    </tr>\n",
       "    <tr>\n",
       "      <th>21516</th>\n",
       "      <td>0</td>\n",
       "      <td>-914.391429</td>\n",
       "      <td>42</td>\n",
       "      <td>высшее</td>\n",
       "      <td>0</td>\n",
       "      <td>женат / замужем</td>\n",
       "      <td>0</td>\n",
       "      <td>F</td>\n",
       "      <td>компаньон</td>\n",
       "      <td>0</td>\n",
       "      <td>322807.776603</td>\n",
       "      <td>покупка своего жилья</td>\n",
       "    </tr>\n",
       "    <tr>\n",
       "      <th>21517</th>\n",
       "      <td>0</td>\n",
       "      <td>-404.679034</td>\n",
       "      <td>42</td>\n",
       "      <td>высшее</td>\n",
       "      <td>0</td>\n",
       "      <td>гражданский брак</td>\n",
       "      <td>1</td>\n",
       "      <td>F</td>\n",
       "      <td>компаньон</td>\n",
       "      <td>0</td>\n",
       "      <td>178059.553491</td>\n",
       "      <td>на покупку своего автомобиля</td>\n",
       "    </tr>\n",
       "    <tr>\n",
       "      <th>21518</th>\n",
       "      <td>0</td>\n",
       "      <td>373995.710838</td>\n",
       "      <td>59</td>\n",
       "      <td>СРЕДНЕЕ</td>\n",
       "      <td>1</td>\n",
       "      <td>женат / замужем</td>\n",
       "      <td>0</td>\n",
       "      <td>F</td>\n",
       "      <td>пенсионер</td>\n",
       "      <td>0</td>\n",
       "      <td>153864.650328</td>\n",
       "      <td>сделка с автомобилем</td>\n",
       "    </tr>\n",
       "    <tr>\n",
       "      <th>21519</th>\n",
       "      <td>1</td>\n",
       "      <td>-2351.431934</td>\n",
       "      <td>37</td>\n",
       "      <td>ученая степень</td>\n",
       "      <td>4</td>\n",
       "      <td>в разводе</td>\n",
       "      <td>3</td>\n",
       "      <td>M</td>\n",
       "      <td>сотрудник</td>\n",
       "      <td>0</td>\n",
       "      <td>115949.039788</td>\n",
       "      <td>покупка коммерческой недвижимости</td>\n",
       "    </tr>\n",
       "    <tr>\n",
       "      <th>21520</th>\n",
       "      <td>1</td>\n",
       "      <td>-4529.316663</td>\n",
       "      <td>43</td>\n",
       "      <td>среднее</td>\n",
       "      <td>1</td>\n",
       "      <td>гражданский брак</td>\n",
       "      <td>1</td>\n",
       "      <td>F</td>\n",
       "      <td>компаньон</td>\n",
       "      <td>0</td>\n",
       "      <td>224791.862382</td>\n",
       "      <td>операции с жильем</td>\n",
       "    </tr>\n",
       "    <tr>\n",
       "      <th>21521</th>\n",
       "      <td>0</td>\n",
       "      <td>343937.404131</td>\n",
       "      <td>67</td>\n",
       "      <td>среднее</td>\n",
       "      <td>1</td>\n",
       "      <td>женат / замужем</td>\n",
       "      <td>0</td>\n",
       "      <td>F</td>\n",
       "      <td>пенсионер</td>\n",
       "      <td>0</td>\n",
       "      <td>155999.806512</td>\n",
       "      <td>сделка с автомобилем</td>\n",
       "    </tr>\n",
       "    <tr>\n",
       "      <th>21522</th>\n",
       "      <td>1</td>\n",
       "      <td>-2113.346888</td>\n",
       "      <td>38</td>\n",
       "      <td>среднее</td>\n",
       "      <td>1</td>\n",
       "      <td>гражданский брак</td>\n",
       "      <td>1</td>\n",
       "      <td>M</td>\n",
       "      <td>сотрудник</td>\n",
       "      <td>1</td>\n",
       "      <td>89672.561153</td>\n",
       "      <td>недвижимость</td>\n",
       "    </tr>\n",
       "    <tr>\n",
       "      <th>21523</th>\n",
       "      <td>3</td>\n",
       "      <td>-3112.481705</td>\n",
       "      <td>38</td>\n",
       "      <td>среднее</td>\n",
       "      <td>1</td>\n",
       "      <td>женат / замужем</td>\n",
       "      <td>0</td>\n",
       "      <td>M</td>\n",
       "      <td>сотрудник</td>\n",
       "      <td>1</td>\n",
       "      <td>244093.050500</td>\n",
       "      <td>на покупку своего автомобиля</td>\n",
       "    </tr>\n",
       "    <tr>\n",
       "      <th>21524</th>\n",
       "      <td>2</td>\n",
       "      <td>-1984.507589</td>\n",
       "      <td>40</td>\n",
       "      <td>среднее</td>\n",
       "      <td>1</td>\n",
       "      <td>женат / замужем</td>\n",
       "      <td>0</td>\n",
       "      <td>F</td>\n",
       "      <td>сотрудник</td>\n",
       "      <td>0</td>\n",
       "      <td>82047.418899</td>\n",
       "      <td>на покупку автомобиля</td>\n",
       "    </tr>\n",
       "  </tbody>\n",
       "</table>\n",
       "</div>"
      ],
      "text/plain": [
       "       children  days_employed  dob_years       education  education_id  \\\n",
       "21515         1    -467.685130         28         среднее             1   \n",
       "21516         0    -914.391429         42          высшее             0   \n",
       "21517         0    -404.679034         42          высшее             0   \n",
       "21518         0  373995.710838         59         СРЕДНЕЕ             1   \n",
       "21519         1   -2351.431934         37  ученая степень             4   \n",
       "21520         1   -4529.316663         43         среднее             1   \n",
       "21521         0  343937.404131         67         среднее             1   \n",
       "21522         1   -2113.346888         38         среднее             1   \n",
       "21523         3   -3112.481705         38         среднее             1   \n",
       "21524         2   -1984.507589         40         среднее             1   \n",
       "\n",
       "          family_status  family_status_id gender income_type  debt  \\\n",
       "21515   женат / замужем                 0      F   сотрудник     1   \n",
       "21516   женат / замужем                 0      F   компаньон     0   \n",
       "21517  гражданский брак                 1      F   компаньон     0   \n",
       "21518   женат / замужем                 0      F   пенсионер     0   \n",
       "21519         в разводе                 3      M   сотрудник     0   \n",
       "21520  гражданский брак                 1      F   компаньон     0   \n",
       "21521   женат / замужем                 0      F   пенсионер     0   \n",
       "21522  гражданский брак                 1      M   сотрудник     1   \n",
       "21523   женат / замужем                 0      M   сотрудник     1   \n",
       "21524   женат / замужем                 0      F   сотрудник     0   \n",
       "\n",
       "        total_income                            purpose  \n",
       "21515  109486.327999              заняться образованием  \n",
       "21516  322807.776603               покупка своего жилья  \n",
       "21517  178059.553491       на покупку своего автомобиля  \n",
       "21518  153864.650328               сделка с автомобилем  \n",
       "21519  115949.039788  покупка коммерческой недвижимости  \n",
       "21520  224791.862382                  операции с жильем  \n",
       "21521  155999.806512               сделка с автомобилем  \n",
       "21522   89672.561153                       недвижимость  \n",
       "21523  244093.050500       на покупку своего автомобиля  \n",
       "21524   82047.418899              на покупку автомобиля  "
      ]
     },
     "execution_count": 2,
     "metadata": {},
     "output_type": "execute_result"
    }
   ],
   "source": [
    "client.tail(10)"
   ]
  },
  {
   "cell_type": "markdown",
   "metadata": {},
   "source": [
    "Уже в первых 10 строках мы видим следующие ошибки в данных: \n",
    "- отрицательный стаж работы и количество детей. Мы можем предположить, что данная ошибка возникла в результате програмной ошибки. Может программа вместо прибавления количества отработанных дней и детей отнимала это количество \n",
    "- прыгающий регистр букв в образовании (Вероятно считали что СРЕДНЕЕ образование круче среднего)))) \n",
    "- непонятно в какой валюте исчисляется доход заемщика\n",
    "- минимальное значение в возрасте — 0\n",
    "\n",
    "Пока мы не видим пустые значения. Для получения информации о пустых значениях и формате строк в таблице запросим ее:"
   ]
  },
  {
   "cell_type": "code",
   "execution_count": 3,
   "metadata": {
    "scrolled": true
   },
   "outputs": [
    {
     "name": "stdout",
     "output_type": "stream",
     "text": [
      "<class 'pandas.core.frame.DataFrame'>\n",
      "RangeIndex: 21525 entries, 0 to 21524\n",
      "Data columns (total 12 columns):\n",
      " #   Column            Non-Null Count  Dtype  \n",
      "---  ------            --------------  -----  \n",
      " 0   children          21525 non-null  int64  \n",
      " 1   days_employed     19351 non-null  float64\n",
      " 2   dob_years         21525 non-null  int64  \n",
      " 3   education         21525 non-null  object \n",
      " 4   education_id      21525 non-null  int64  \n",
      " 5   family_status     21525 non-null  object \n",
      " 6   family_status_id  21525 non-null  int64  \n",
      " 7   gender            21525 non-null  object \n",
      " 8   income_type       21525 non-null  object \n",
      " 9   debt              21525 non-null  int64  \n",
      " 10  total_income      19351 non-null  float64\n",
      " 11  purpose           21525 non-null  object \n",
      "dtypes: float64(2), int64(5), object(5)\n",
      "memory usage: 2.0+ MB\n"
     ]
    }
   ],
   "source": [
    "client.info()"
   ]
  },
  {
   "cell_type": "markdown",
   "metadata": {},
   "source": [
    "Из полученных данных мы можем увидеть, что в столбце \"days_employed\" и столбце \"total_income\" равное количество пропущенных значений. Необходимо заполнить пропуски медианными значениями по столбцам. "
   ]
  },
  {
   "cell_type": "code",
   "execution_count": 4,
   "metadata": {},
   "outputs": [
    {
     "data": {
      "text/plain": [
       "Index(['children', 'days_employed', 'dob_years', 'education', 'education_id',\n",
       "       'family_status', 'family_status_id', 'gender', 'income_type', 'debt',\n",
       "       'total_income', 'purpose'],\n",
       "      dtype='object')"
      ]
     },
     "execution_count": 4,
     "metadata": {},
     "output_type": "execute_result"
    }
   ],
   "source": [
    "client.columns"
   ]
  },
  {
   "cell_type": "markdown",
   "metadata": {},
   "source": [
    "В названиях столбцов ошибок не замечено! Получим более расширенную информацию о таблице:"
   ]
  },
  {
   "cell_type": "code",
   "execution_count": 5,
   "metadata": {},
   "outputs": [
    {
     "data": {
      "text/html": [
       "<div>\n",
       "<style scoped>\n",
       "    .dataframe tbody tr th:only-of-type {\n",
       "        vertical-align: middle;\n",
       "    }\n",
       "\n",
       "    .dataframe tbody tr th {\n",
       "        vertical-align: top;\n",
       "    }\n",
       "\n",
       "    .dataframe thead th {\n",
       "        text-align: right;\n",
       "    }\n",
       "</style>\n",
       "<table border=\"1\" class=\"dataframe\">\n",
       "  <thead>\n",
       "    <tr style=\"text-align: right;\">\n",
       "      <th></th>\n",
       "      <th>children</th>\n",
       "      <th>days_employed</th>\n",
       "      <th>dob_years</th>\n",
       "      <th>education_id</th>\n",
       "      <th>family_status_id</th>\n",
       "      <th>debt</th>\n",
       "      <th>total_income</th>\n",
       "    </tr>\n",
       "  </thead>\n",
       "  <tbody>\n",
       "    <tr>\n",
       "      <th>count</th>\n",
       "      <td>21525.000000</td>\n",
       "      <td>19351.000000</td>\n",
       "      <td>21525.000000</td>\n",
       "      <td>21525.000000</td>\n",
       "      <td>21525.000000</td>\n",
       "      <td>21525.000000</td>\n",
       "      <td>1.935100e+04</td>\n",
       "    </tr>\n",
       "    <tr>\n",
       "      <th>mean</th>\n",
       "      <td>0.538908</td>\n",
       "      <td>63046.497661</td>\n",
       "      <td>43.293380</td>\n",
       "      <td>0.817236</td>\n",
       "      <td>0.972544</td>\n",
       "      <td>0.080883</td>\n",
       "      <td>1.674223e+05</td>\n",
       "    </tr>\n",
       "    <tr>\n",
       "      <th>std</th>\n",
       "      <td>1.381587</td>\n",
       "      <td>140827.311974</td>\n",
       "      <td>12.574584</td>\n",
       "      <td>0.548138</td>\n",
       "      <td>1.420324</td>\n",
       "      <td>0.272661</td>\n",
       "      <td>1.029716e+05</td>\n",
       "    </tr>\n",
       "    <tr>\n",
       "      <th>min</th>\n",
       "      <td>-1.000000</td>\n",
       "      <td>-18388.949901</td>\n",
       "      <td>0.000000</td>\n",
       "      <td>0.000000</td>\n",
       "      <td>0.000000</td>\n",
       "      <td>0.000000</td>\n",
       "      <td>2.066726e+04</td>\n",
       "    </tr>\n",
       "    <tr>\n",
       "      <th>25%</th>\n",
       "      <td>0.000000</td>\n",
       "      <td>-2747.423625</td>\n",
       "      <td>33.000000</td>\n",
       "      <td>1.000000</td>\n",
       "      <td>0.000000</td>\n",
       "      <td>0.000000</td>\n",
       "      <td>1.030532e+05</td>\n",
       "    </tr>\n",
       "    <tr>\n",
       "      <th>50%</th>\n",
       "      <td>0.000000</td>\n",
       "      <td>-1203.369529</td>\n",
       "      <td>42.000000</td>\n",
       "      <td>1.000000</td>\n",
       "      <td>0.000000</td>\n",
       "      <td>0.000000</td>\n",
       "      <td>1.450179e+05</td>\n",
       "    </tr>\n",
       "    <tr>\n",
       "      <th>75%</th>\n",
       "      <td>1.000000</td>\n",
       "      <td>-291.095954</td>\n",
       "      <td>53.000000</td>\n",
       "      <td>1.000000</td>\n",
       "      <td>1.000000</td>\n",
       "      <td>0.000000</td>\n",
       "      <td>2.034351e+05</td>\n",
       "    </tr>\n",
       "    <tr>\n",
       "      <th>max</th>\n",
       "      <td>20.000000</td>\n",
       "      <td>401755.400475</td>\n",
       "      <td>75.000000</td>\n",
       "      <td>4.000000</td>\n",
       "      <td>4.000000</td>\n",
       "      <td>1.000000</td>\n",
       "      <td>2.265604e+06</td>\n",
       "    </tr>\n",
       "  </tbody>\n",
       "</table>\n",
       "</div>"
      ],
      "text/plain": [
       "           children  days_employed     dob_years  education_id  \\\n",
       "count  21525.000000   19351.000000  21525.000000  21525.000000   \n",
       "mean       0.538908   63046.497661     43.293380      0.817236   \n",
       "std        1.381587  140827.311974     12.574584      0.548138   \n",
       "min       -1.000000  -18388.949901      0.000000      0.000000   \n",
       "25%        0.000000   -2747.423625     33.000000      1.000000   \n",
       "50%        0.000000   -1203.369529     42.000000      1.000000   \n",
       "75%        1.000000    -291.095954     53.000000      1.000000   \n",
       "max       20.000000  401755.400475     75.000000      4.000000   \n",
       "\n",
       "       family_status_id          debt  total_income  \n",
       "count      21525.000000  21525.000000  1.935100e+04  \n",
       "mean           0.972544      0.080883  1.674223e+05  \n",
       "std            1.420324      0.272661  1.029716e+05  \n",
       "min            0.000000      0.000000  2.066726e+04  \n",
       "25%            0.000000      0.000000  1.030532e+05  \n",
       "50%            0.000000      0.000000  1.450179e+05  \n",
       "75%            1.000000      0.000000  2.034351e+05  \n",
       "max            4.000000      1.000000  2.265604e+06  "
      ]
     },
     "execution_count": 5,
     "metadata": {},
     "output_type": "execute_result"
    }
   ],
   "source": [
    "client.describe()"
   ]
  },
  {
   "cell_type": "markdown",
   "metadata": {},
   "source": [
    "По полученным данным мы видим, что количество детей и количество отработанных дней в некоторых строках имеют отрицательное значение. Максимальное количество детей достигает цифры 20, что кажется сомнительным. 401755 дней это 1100 лет, обычные люди столько не живут. Максимальный возраст заемщика может быть 75 лет, в этом ошибки не наблюдается. Но минимальный никак не может ровняться нулю! Статусы образования и семейного положения вызывают вопросы. Также формат столбца с информацией о доходах неверный, информация нечитаема. \n",
    "Проверим, соответствуют ли строки с пропусками данных в столбцах \"days_employed\" и \"total_income\":"
   ]
  },
  {
   "cell_type": "code",
   "execution_count": 6,
   "metadata": {},
   "outputs": [
    {
     "name": "stdout",
     "output_type": "stream",
     "text": [
      "<class 'pandas.core.frame.DataFrame'>\n",
      "Int64Index: 2174 entries, 12 to 21510\n",
      "Data columns (total 12 columns):\n",
      " #   Column            Non-Null Count  Dtype  \n",
      "---  ------            --------------  -----  \n",
      " 0   children          2174 non-null   int64  \n",
      " 1   days_employed     0 non-null      float64\n",
      " 2   dob_years         2174 non-null   int64  \n",
      " 3   education         2174 non-null   object \n",
      " 4   education_id      2174 non-null   int64  \n",
      " 5   family_status     2174 non-null   object \n",
      " 6   family_status_id  2174 non-null   int64  \n",
      " 7   gender            2174 non-null   object \n",
      " 8   income_type       2174 non-null   object \n",
      " 9   debt              2174 non-null   int64  \n",
      " 10  total_income      0 non-null      float64\n",
      " 11  purpose           2174 non-null   object \n",
      "dtypes: float64(2), int64(5), object(5)\n",
      "memory usage: 220.8+ KB\n"
     ]
    }
   ],
   "source": [
    "client[(client['total_income'].isnull())&(client['days_employed'].isnull())].info()"
   ]
  },
  {
   "cell_type": "markdown",
   "metadata": {},
   "source": [
    "Предположение подтвердилось - строки с пропусками соответствуют в данных столбцах."
   ]
  },
  {
   "cell_type": "markdown",
   "metadata": {},
   "source": [
    "# Шаг 2 Предобработка данных\n",
    "## Шаг 2.1 Проверка на наличие дубликатов и их удаление "
   ]
  },
  {
   "cell_type": "markdown",
   "metadata": {},
   "source": [
    "Проверим наличие дубликатов"
   ]
  },
  {
   "cell_type": "code",
   "execution_count": 7,
   "metadata": {},
   "outputs": [
    {
     "data": {
      "text/plain": [
       "54"
      ]
     },
     "execution_count": 7,
     "metadata": {},
     "output_type": "execute_result"
    }
   ],
   "source": [
    "client.duplicated().sum()"
   ]
  },
  {
   "cell_type": "markdown",
   "metadata": {},
   "source": [
    "Удалим дубликаты"
   ]
  },
  {
   "cell_type": "code",
   "execution_count": 8,
   "metadata": {},
   "outputs": [
    {
     "data": {
      "text/plain": [
       "0"
      ]
     },
     "execution_count": 8,
     "metadata": {},
     "output_type": "execute_result"
    }
   ],
   "source": [
    "client = client.drop_duplicates().reset_index(drop=True)\n",
    "client.duplicated().sum()"
   ]
  },
  {
   "cell_type": "markdown",
   "metadata": {},
   "source": [
    "## Шаг 2.2 Заполнение пропусков"
   ]
  },
  {
   "cell_type": "markdown",
   "metadata": {},
   "source": [
    "Заполним пропуски в столбцу 'total_income' медианным значением. Этот метод лучше применять для сгруппированных данных и для столбцов"
   ]
  },
  {
   "cell_type": "code",
   "execution_count": 9,
   "metadata": {},
   "outputs": [
    {
     "data": {
      "text/html": [
       "<div>\n",
       "<style scoped>\n",
       "    .dataframe tbody tr th:only-of-type {\n",
       "        vertical-align: middle;\n",
       "    }\n",
       "\n",
       "    .dataframe tbody tr th {\n",
       "        vertical-align: top;\n",
       "    }\n",
       "\n",
       "    .dataframe thead th {\n",
       "        text-align: right;\n",
       "    }\n",
       "</style>\n",
       "<table border=\"1\" class=\"dataframe\">\n",
       "  <thead>\n",
       "    <tr style=\"text-align: right;\">\n",
       "      <th></th>\n",
       "      <th>children</th>\n",
       "      <th>days_employed</th>\n",
       "      <th>dob_years</th>\n",
       "      <th>education_id</th>\n",
       "      <th>family_status_id</th>\n",
       "      <th>debt</th>\n",
       "      <th>total_income</th>\n",
       "    </tr>\n",
       "  </thead>\n",
       "  <tbody>\n",
       "    <tr>\n",
       "      <th>count</th>\n",
       "      <td>21471.000000</td>\n",
       "      <td>19351.000000</td>\n",
       "      <td>21471.000000</td>\n",
       "      <td>21471.000000</td>\n",
       "      <td>21471.000000</td>\n",
       "      <td>21471.000000</td>\n",
       "      <td>2.147100e+04</td>\n",
       "    </tr>\n",
       "    <tr>\n",
       "      <th>mean</th>\n",
       "      <td>0.539565</td>\n",
       "      <td>63046.497661</td>\n",
       "      <td>43.279074</td>\n",
       "      <td>0.817195</td>\n",
       "      <td>0.973685</td>\n",
       "      <td>0.081086</td>\n",
       "      <td>1.652101e+05</td>\n",
       "    </tr>\n",
       "    <tr>\n",
       "      <th>std</th>\n",
       "      <td>1.382978</td>\n",
       "      <td>140827.311974</td>\n",
       "      <td>12.574291</td>\n",
       "      <td>0.548508</td>\n",
       "      <td>1.421082</td>\n",
       "      <td>0.272974</td>\n",
       "      <td>9.798384e+04</td>\n",
       "    </tr>\n",
       "    <tr>\n",
       "      <th>min</th>\n",
       "      <td>-1.000000</td>\n",
       "      <td>-18388.949901</td>\n",
       "      <td>0.000000</td>\n",
       "      <td>0.000000</td>\n",
       "      <td>0.000000</td>\n",
       "      <td>0.000000</td>\n",
       "      <td>2.066726e+04</td>\n",
       "    </tr>\n",
       "    <tr>\n",
       "      <th>25%</th>\n",
       "      <td>0.000000</td>\n",
       "      <td>-2747.423625</td>\n",
       "      <td>33.000000</td>\n",
       "      <td>1.000000</td>\n",
       "      <td>0.000000</td>\n",
       "      <td>0.000000</td>\n",
       "      <td>1.076553e+05</td>\n",
       "    </tr>\n",
       "    <tr>\n",
       "      <th>50%</th>\n",
       "      <td>0.000000</td>\n",
       "      <td>-1203.369529</td>\n",
       "      <td>42.000000</td>\n",
       "      <td>1.000000</td>\n",
       "      <td>0.000000</td>\n",
       "      <td>0.000000</td>\n",
       "      <td>1.450179e+05</td>\n",
       "    </tr>\n",
       "    <tr>\n",
       "      <th>75%</th>\n",
       "      <td>1.000000</td>\n",
       "      <td>-291.095954</td>\n",
       "      <td>53.000000</td>\n",
       "      <td>1.000000</td>\n",
       "      <td>1.000000</td>\n",
       "      <td>0.000000</td>\n",
       "      <td>1.957519e+05</td>\n",
       "    </tr>\n",
       "    <tr>\n",
       "      <th>max</th>\n",
       "      <td>20.000000</td>\n",
       "      <td>401755.400475</td>\n",
       "      <td>75.000000</td>\n",
       "      <td>4.000000</td>\n",
       "      <td>4.000000</td>\n",
       "      <td>1.000000</td>\n",
       "      <td>2.265604e+06</td>\n",
       "    </tr>\n",
       "  </tbody>\n",
       "</table>\n",
       "</div>"
      ],
      "text/plain": [
       "           children  days_employed     dob_years  education_id  \\\n",
       "count  21471.000000   19351.000000  21471.000000  21471.000000   \n",
       "mean       0.539565   63046.497661     43.279074      0.817195   \n",
       "std        1.382978  140827.311974     12.574291      0.548508   \n",
       "min       -1.000000  -18388.949901      0.000000      0.000000   \n",
       "25%        0.000000   -2747.423625     33.000000      1.000000   \n",
       "50%        0.000000   -1203.369529     42.000000      1.000000   \n",
       "75%        1.000000    -291.095954     53.000000      1.000000   \n",
       "max       20.000000  401755.400475     75.000000      4.000000   \n",
       "\n",
       "       family_status_id          debt  total_income  \n",
       "count      21471.000000  21471.000000  2.147100e+04  \n",
       "mean           0.973685      0.081086  1.652101e+05  \n",
       "std            1.421082      0.272974  9.798384e+04  \n",
       "min            0.000000      0.000000  2.066726e+04  \n",
       "25%            0.000000      0.000000  1.076553e+05  \n",
       "50%            0.000000      0.000000  1.450179e+05  \n",
       "75%            1.000000      0.000000  1.957519e+05  \n",
       "max            4.000000      1.000000  2.265604e+06  "
      ]
     },
     "execution_count": 9,
     "metadata": {},
     "output_type": "execute_result"
    }
   ],
   "source": [
    "client['total_income'] = client['total_income'].fillna(client['total_income'].median())   \n",
    "client.describe()"
   ]
  },
  {
   "cell_type": "markdown",
   "metadata": {},
   "source": [
    "Проверяем наличие пропусков:"
   ]
  },
  {
   "cell_type": "code",
   "execution_count": 10,
   "metadata": {},
   "outputs": [
    {
     "name": "stdout",
     "output_type": "stream",
     "text": [
      "<class 'pandas.core.frame.DataFrame'>\n",
      "RangeIndex: 21471 entries, 0 to 21470\n",
      "Data columns (total 12 columns):\n",
      " #   Column            Non-Null Count  Dtype  \n",
      "---  ------            --------------  -----  \n",
      " 0   children          21471 non-null  int64  \n",
      " 1   days_employed     19351 non-null  float64\n",
      " 2   dob_years         21471 non-null  int64  \n",
      " 3   education         21471 non-null  object \n",
      " 4   education_id      21471 non-null  int64  \n",
      " 5   family_status     21471 non-null  object \n",
      " 6   family_status_id  21471 non-null  int64  \n",
      " 7   gender            21471 non-null  object \n",
      " 8   income_type       21471 non-null  object \n",
      " 9   debt              21471 non-null  int64  \n",
      " 10  total_income      21471 non-null  float64\n",
      " 11  purpose           21471 non-null  object \n",
      "dtypes: float64(2), int64(5), object(5)\n",
      "memory usage: 2.0+ MB\n"
     ]
    }
   ],
   "source": [
    "client.info()"
   ]
  },
  {
   "cell_type": "markdown",
   "metadata": {},
   "source": [
    "В связи с тем, что в данные о трудовом стаже закралась аномалия, заполнять пропуски в данных по этому столбцу будем после выявления и исправления аномалии!"
   ]
  },
  {
   "cell_type": "markdown",
   "metadata": {},
   "source": [
    "## Шаг 2.3 Проверка данных на аномалии и исправления."
   ]
  },
  {
   "cell_type": "markdown",
   "metadata": {},
   "source": [
    "Максимальное количество детей достигает цифры 20! Если количество заемщиков с 20 детьми не повлияет на статистику, то выяснять причину аномалии смысла нет, просто удалим строки"
   ]
  },
  {
   "cell_type": "code",
   "execution_count": 11,
   "metadata": {},
   "outputs": [
    {
     "data": {
      "text/plain": [
       "76"
      ]
     },
     "execution_count": 11,
     "metadata": {},
     "output_type": "execute_result"
    }
   ],
   "source": [
    "client[client['children'] == 20]['children'].count()"
   ]
  },
  {
   "cell_type": "code",
   "execution_count": 12,
   "metadata": {},
   "outputs": [
    {
     "data": {
      "text/plain": [
       " 0    14107\n",
       " 1     4809\n",
       " 2     2128\n",
       " 3      330\n",
       "-1       47\n",
       " 4       41\n",
       " 5        9\n",
       "Name: children, dtype: int64"
      ]
     },
     "execution_count": 12,
     "metadata": {},
     "output_type": "execute_result"
    }
   ],
   "source": [
    "client['children'] = client['children'].replace(20,2)\n",
    "client['children'].value_counts()"
   ]
  },
  {
   "cell_type": "markdown",
   "metadata": {},
   "source": [
    "-1 детей заменим на 0, то есть их отсутствие"
   ]
  },
  {
   "cell_type": "code",
   "execution_count": 13,
   "metadata": {},
   "outputs": [
    {
     "data": {
      "text/plain": [
       "0    14154\n",
       "1     4809\n",
       "2     2128\n",
       "3      330\n",
       "4       41\n",
       "5        9\n",
       "Name: children, dtype: int64"
      ]
     },
     "execution_count": 13,
     "metadata": {},
     "output_type": "execute_result"
    }
   ],
   "source": [
    "client['children'] = client['children'].replace(-1,0)\n",
    "client['children'].value_counts()"
   ]
  },
  {
   "cell_type": "markdown",
   "metadata": {},
   "source": [
    "Проверим наличие аномалий в столбце gender:"
   ]
  },
  {
   "cell_type": "code",
   "execution_count": 14,
   "metadata": {},
   "outputs": [
    {
     "data": {
      "text/plain": [
       "F      14189\n",
       "M       7281\n",
       "XNA        1\n",
       "Name: gender, dtype: int64"
      ]
     },
     "execution_count": 14,
     "metadata": {},
     "output_type": "execute_result"
    }
   ],
   "source": [
    "client['gender'].value_counts()"
   ]
  },
  {
   "cell_type": "markdown",
   "metadata": {},
   "source": [
    "XNA в единственном экземпляре не испортит статистику, поэтому мы будем использовать данные которые не равны XNA"
   ]
  },
  {
   "cell_type": "code",
   "execution_count": 15,
   "metadata": {},
   "outputs": [
    {
     "data": {
      "text/plain": [
       "F    14189\n",
       "M     7281\n",
       "Name: gender, dtype: int64"
      ]
     },
     "execution_count": 15,
     "metadata": {},
     "output_type": "execute_result"
    }
   ],
   "source": [
    "client = client.loc[client['gender'] != 'XNA']\n",
    "client['gender'].value_counts()"
   ]
  },
  {
   "cell_type": "markdown",
   "metadata": {},
   "source": [
    "Разберемся с возрастом заемщиков. Возраст равный нулю нас не устраивает!"
   ]
  },
  {
   "cell_type": "code",
   "execution_count": 16,
   "metadata": {},
   "outputs": [
    {
     "data": {
      "text/plain": [
       "101"
      ]
     },
     "execution_count": 16,
     "metadata": {},
     "output_type": "execute_result"
    }
   ],
   "source": [
    "client[client['dob_years'] == 0]['dob_years'].count()"
   ]
  },
  {
   "cell_type": "markdown",
   "metadata": {},
   "source": [
    "В 101 строке скорее всего не указали возраст"
   ]
  },
  {
   "cell_type": "code",
   "execution_count": 17,
   "metadata": {},
   "outputs": [
    {
     "data": {
      "text/html": [
       "<div>\n",
       "<style scoped>\n",
       "    .dataframe tbody tr th:only-of-type {\n",
       "        vertical-align: middle;\n",
       "    }\n",
       "\n",
       "    .dataframe tbody tr th {\n",
       "        vertical-align: top;\n",
       "    }\n",
       "\n",
       "    .dataframe thead th {\n",
       "        text-align: right;\n",
       "    }\n",
       "</style>\n",
       "<table border=\"1\" class=\"dataframe\">\n",
       "  <thead>\n",
       "    <tr style=\"text-align: right;\">\n",
       "      <th></th>\n",
       "      <th>children</th>\n",
       "      <th>days_employed</th>\n",
       "      <th>dob_years</th>\n",
       "      <th>education</th>\n",
       "      <th>education_id</th>\n",
       "      <th>family_status</th>\n",
       "      <th>family_status_id</th>\n",
       "      <th>gender</th>\n",
       "      <th>income_type</th>\n",
       "      <th>debt</th>\n",
       "      <th>total_income</th>\n",
       "      <th>purpose</th>\n",
       "    </tr>\n",
       "  </thead>\n",
       "  <tbody>\n",
       "    <tr>\n",
       "      <th>99</th>\n",
       "      <td>0</td>\n",
       "      <td>346541.618895</td>\n",
       "      <td>0</td>\n",
       "      <td>Среднее</td>\n",
       "      <td>1</td>\n",
       "      <td>женат / замужем</td>\n",
       "      <td>0</td>\n",
       "      <td>F</td>\n",
       "      <td>пенсионер</td>\n",
       "      <td>0</td>\n",
       "      <td>71291.522491</td>\n",
       "      <td>автомобиль</td>\n",
       "    </tr>\n",
       "    <tr>\n",
       "      <th>149</th>\n",
       "      <td>0</td>\n",
       "      <td>-2664.273168</td>\n",
       "      <td>0</td>\n",
       "      <td>среднее</td>\n",
       "      <td>1</td>\n",
       "      <td>в разводе</td>\n",
       "      <td>3</td>\n",
       "      <td>F</td>\n",
       "      <td>сотрудник</td>\n",
       "      <td>0</td>\n",
       "      <td>70176.435951</td>\n",
       "      <td>операции с жильем</td>\n",
       "    </tr>\n",
       "    <tr>\n",
       "      <th>270</th>\n",
       "      <td>3</td>\n",
       "      <td>-1872.663186</td>\n",
       "      <td>0</td>\n",
       "      <td>среднее</td>\n",
       "      <td>1</td>\n",
       "      <td>женат / замужем</td>\n",
       "      <td>0</td>\n",
       "      <td>F</td>\n",
       "      <td>сотрудник</td>\n",
       "      <td>0</td>\n",
       "      <td>102166.458894</td>\n",
       "      <td>ремонт жилью</td>\n",
       "    </tr>\n",
       "    <tr>\n",
       "      <th>578</th>\n",
       "      <td>0</td>\n",
       "      <td>397856.565013</td>\n",
       "      <td>0</td>\n",
       "      <td>среднее</td>\n",
       "      <td>1</td>\n",
       "      <td>женат / замужем</td>\n",
       "      <td>0</td>\n",
       "      <td>F</td>\n",
       "      <td>пенсионер</td>\n",
       "      <td>0</td>\n",
       "      <td>97620.687042</td>\n",
       "      <td>строительство собственной недвижимости</td>\n",
       "    </tr>\n",
       "    <tr>\n",
       "      <th>1040</th>\n",
       "      <td>0</td>\n",
       "      <td>-1158.029561</td>\n",
       "      <td>0</td>\n",
       "      <td>высшее</td>\n",
       "      <td>0</td>\n",
       "      <td>в разводе</td>\n",
       "      <td>3</td>\n",
       "      <td>F</td>\n",
       "      <td>компаньон</td>\n",
       "      <td>0</td>\n",
       "      <td>303994.134987</td>\n",
       "      <td>свой автомобиль</td>\n",
       "    </tr>\n",
       "    <tr>\n",
       "      <th>1149</th>\n",
       "      <td>0</td>\n",
       "      <td>-934.654854</td>\n",
       "      <td>0</td>\n",
       "      <td>среднее</td>\n",
       "      <td>1</td>\n",
       "      <td>женат / замужем</td>\n",
       "      <td>0</td>\n",
       "      <td>F</td>\n",
       "      <td>компаньон</td>\n",
       "      <td>0</td>\n",
       "      <td>201852.430096</td>\n",
       "      <td>покупка недвижимости</td>\n",
       "    </tr>\n",
       "    <tr>\n",
       "      <th>1175</th>\n",
       "      <td>0</td>\n",
       "      <td>370879.508002</td>\n",
       "      <td>0</td>\n",
       "      <td>среднее</td>\n",
       "      <td>1</td>\n",
       "      <td>женат / замужем</td>\n",
       "      <td>0</td>\n",
       "      <td>F</td>\n",
       "      <td>пенсионер</td>\n",
       "      <td>0</td>\n",
       "      <td>313949.845188</td>\n",
       "      <td>получение дополнительного образования</td>\n",
       "    </tr>\n",
       "    <tr>\n",
       "      <th>1386</th>\n",
       "      <td>0</td>\n",
       "      <td>-5043.219890</td>\n",
       "      <td>0</td>\n",
       "      <td>высшее</td>\n",
       "      <td>0</td>\n",
       "      <td>женат / замужем</td>\n",
       "      <td>0</td>\n",
       "      <td>M</td>\n",
       "      <td>госслужащий</td>\n",
       "      <td>0</td>\n",
       "      <td>240523.618071</td>\n",
       "      <td>сделка с автомобилем</td>\n",
       "    </tr>\n",
       "    <tr>\n",
       "      <th>1890</th>\n",
       "      <td>0</td>\n",
       "      <td>NaN</td>\n",
       "      <td>0</td>\n",
       "      <td>высшее</td>\n",
       "      <td>0</td>\n",
       "      <td>Не женат / не замужем</td>\n",
       "      <td>4</td>\n",
       "      <td>F</td>\n",
       "      <td>сотрудник</td>\n",
       "      <td>0</td>\n",
       "      <td>145017.937533</td>\n",
       "      <td>жилье</td>\n",
       "    </tr>\n",
       "    <tr>\n",
       "      <th>1898</th>\n",
       "      <td>0</td>\n",
       "      <td>370144.537021</td>\n",
       "      <td>0</td>\n",
       "      <td>среднее</td>\n",
       "      <td>1</td>\n",
       "      <td>вдовец / вдова</td>\n",
       "      <td>2</td>\n",
       "      <td>F</td>\n",
       "      <td>пенсионер</td>\n",
       "      <td>0</td>\n",
       "      <td>127400.268338</td>\n",
       "      <td>на покупку автомобиля</td>\n",
       "    </tr>\n",
       "  </tbody>\n",
       "</table>\n",
       "</div>"
      ],
      "text/plain": [
       "      children  days_employed  dob_years education  education_id  \\\n",
       "99           0  346541.618895          0   Среднее             1   \n",
       "149          0   -2664.273168          0   среднее             1   \n",
       "270          3   -1872.663186          0   среднее             1   \n",
       "578          0  397856.565013          0   среднее             1   \n",
       "1040         0   -1158.029561          0    высшее             0   \n",
       "1149         0    -934.654854          0   среднее             1   \n",
       "1175         0  370879.508002          0   среднее             1   \n",
       "1386         0   -5043.219890          0    высшее             0   \n",
       "1890         0            NaN          0    высшее             0   \n",
       "1898         0  370144.537021          0   среднее             1   \n",
       "\n",
       "              family_status  family_status_id gender  income_type  debt  \\\n",
       "99          женат / замужем                 0      F    пенсионер     0   \n",
       "149               в разводе                 3      F    сотрудник     0   \n",
       "270         женат / замужем                 0      F    сотрудник     0   \n",
       "578         женат / замужем                 0      F    пенсионер     0   \n",
       "1040              в разводе                 3      F    компаньон     0   \n",
       "1149        женат / замужем                 0      F    компаньон     0   \n",
       "1175        женат / замужем                 0      F    пенсионер     0   \n",
       "1386        женат / замужем                 0      M  госслужащий     0   \n",
       "1890  Не женат / не замужем                 4      F    сотрудник     0   \n",
       "1898         вдовец / вдова                 2      F    пенсионер     0   \n",
       "\n",
       "       total_income                                 purpose  \n",
       "99     71291.522491                              автомобиль  \n",
       "149    70176.435951                       операции с жильем  \n",
       "270   102166.458894                            ремонт жилью  \n",
       "578    97620.687042  строительство собственной недвижимости  \n",
       "1040  303994.134987                         свой автомобиль  \n",
       "1149  201852.430096                    покупка недвижимости  \n",
       "1175  313949.845188   получение дополнительного образования  \n",
       "1386  240523.618071                    сделка с автомобилем  \n",
       "1890  145017.937533                                   жилье  \n",
       "1898  127400.268338                   на покупку автомобиля  "
      ]
     },
     "execution_count": 17,
     "metadata": {},
     "output_type": "execute_result"
    }
   ],
   "source": [
    "client[client['dob_years'] == 0].head(10)"
   ]
  },
  {
   "cell_type": "markdown",
   "metadata": {},
   "source": [
    "Из списка мы видим, что это люди из разных слоев населения, и госслужащий, и пенсионер и даже компаньон. Также мы видим, что разница в стаже работы также колоссальна. Следует запросить у банка данные по этим пропускам, поскольку если вставлять сюда значения, статистика нарушится.\n",
    "Из таблицы видно также, что не все данные в столбце образование строчные. Исправим данную ошибку"
   ]
  },
  {
   "cell_type": "code",
   "execution_count": 18,
   "metadata": {},
   "outputs": [
    {
     "data": {
      "text/plain": [
       "array(['высшее', 'среднее', 'неоконченное высшее', 'начальное',\n",
       "       'ученая степень'], dtype=object)"
      ]
     },
     "execution_count": 18,
     "metadata": {},
     "output_type": "execute_result"
    }
   ],
   "source": [
    "client['education'] = client['education'].str.lower()\n",
    "client['education'].unique()"
   ]
  },
  {
   "cell_type": "markdown",
   "metadata": {},
   "source": [
    "Проверим столбец вид дохода."
   ]
  },
  {
   "cell_type": "code",
   "execution_count": 19,
   "metadata": {},
   "outputs": [
    {
     "data": {
      "text/plain": [
       "array(['сотрудник', 'пенсионер', 'компаньон', 'госслужащий',\n",
       "       'безработный', 'предприниматель', 'студент', 'в декрете'],\n",
       "      dtype=object)"
      ]
     },
     "execution_count": 19,
     "metadata": {},
     "output_type": "execute_result"
    }
   ],
   "source": [
    "client['income_type'].unique()"
   ]
  },
  {
   "cell_type": "markdown",
   "metadata": {},
   "source": [
    "В столбце типа дохода все предельно ясно"
   ]
  },
  {
   "cell_type": "markdown",
   "metadata": {},
   "source": [
    "## Шаг 2.4. Изменение типов данных."
   ]
  },
  {
   "cell_type": "markdown",
   "metadata": {},
   "source": [
    "Наличие отрицательных количественых данных в таблице может говорить об ошибке подсчета в программе, собирающей статистику, либо о человеческом факторе. Исправим данные в столбцах 'days_employed' и 'children'"
   ]
  },
  {
   "cell_type": "code",
   "execution_count": 20,
   "metadata": {
    "scrolled": false
   },
   "outputs": [
    {
     "data": {
      "text/plain": [
       "count     19350.000000\n",
       "mean      66918.065141\n",
       "std      139033.698578\n",
       "min          24.141633\n",
       "25%         926.990457\n",
       "50%        2194.218768\n",
       "75%        5538.423086\n",
       "max      401755.400475\n",
       "Name: days_employed, dtype: float64"
      ]
     },
     "execution_count": 20,
     "metadata": {},
     "output_type": "execute_result"
    }
   ],
   "source": [
    "client['days_employed'] = client['days_employed'].abs()\n",
    "client['days_employed'].describe()"
   ]
  },
  {
   "cell_type": "markdown",
   "metadata": {},
   "source": [
    "После изменения данных в столбцах из отрицательного в положительный мы можем заменить пропущеные значения на медианные:"
   ]
  },
  {
   "cell_type": "code",
   "execution_count": 21,
   "metadata": {},
   "outputs": [
    {
     "data": {
      "text/plain": [
       "2194.218767670908"
      ]
     },
     "execution_count": 21,
     "metadata": {},
     "output_type": "execute_result"
    }
   ],
   "source": [
    "client['days_employed'].median()"
   ]
  },
  {
   "cell_type": "code",
   "execution_count": 22,
   "metadata": {},
   "outputs": [
    {
     "data": {
      "text/plain": [
       "count     21470.000000\n",
       "mean      60527.075187\n",
       "std      133395.557766\n",
       "min          24.141633\n",
       "25%        1024.256918\n",
       "50%        2194.218768\n",
       "75%        4794.914073\n",
       "max      401755.400475\n",
       "Name: days_employed, dtype: float64"
      ]
     },
     "execution_count": 22,
     "metadata": {},
     "output_type": "execute_result"
    }
   ],
   "source": [
    "client['days_employed'] = client['days_employed'].fillna(client['days_employed'].median())\n",
    "client['days_employed'].describe()"
   ]
  },
  {
   "cell_type": "code",
   "execution_count": 23,
   "metadata": {},
   "outputs": [
    {
     "data": {
      "text/plain": [
       "count    21470.000000\n",
       "mean         0.478062\n",
       "std          0.755842\n",
       "min          0.000000\n",
       "25%          0.000000\n",
       "50%          0.000000\n",
       "75%          1.000000\n",
       "max          5.000000\n",
       "Name: children, dtype: float64"
      ]
     },
     "execution_count": 23,
     "metadata": {},
     "output_type": "execute_result"
    }
   ],
   "source": [
    "client['children'] = client['children'].abs()\n",
    "client['children'].describe()"
   ]
  },
  {
   "cell_type": "markdown",
   "metadata": {},
   "source": [
    "Далее поменяем формат чисел в столбцах  'total_income' и 'days_employed' на целочисленный. Очевидно создатели таблицы хотели донести полную информацию, но для анализа достаточно будет целочисленных данных!"
   ]
  },
  {
   "cell_type": "code",
   "execution_count": 24,
   "metadata": {},
   "outputs": [
    {
     "data": {
      "text/html": [
       "<div>\n",
       "<style scoped>\n",
       "    .dataframe tbody tr th:only-of-type {\n",
       "        vertical-align: middle;\n",
       "    }\n",
       "\n",
       "    .dataframe tbody tr th {\n",
       "        vertical-align: top;\n",
       "    }\n",
       "\n",
       "    .dataframe thead th {\n",
       "        text-align: right;\n",
       "    }\n",
       "</style>\n",
       "<table border=\"1\" class=\"dataframe\">\n",
       "  <thead>\n",
       "    <tr style=\"text-align: right;\">\n",
       "      <th></th>\n",
       "      <th>children</th>\n",
       "      <th>days_employed</th>\n",
       "      <th>dob_years</th>\n",
       "      <th>education</th>\n",
       "      <th>education_id</th>\n",
       "      <th>family_status</th>\n",
       "      <th>family_status_id</th>\n",
       "      <th>gender</th>\n",
       "      <th>income_type</th>\n",
       "      <th>debt</th>\n",
       "      <th>total_income</th>\n",
       "      <th>purpose</th>\n",
       "    </tr>\n",
       "  </thead>\n",
       "  <tbody>\n",
       "    <tr>\n",
       "      <th>0</th>\n",
       "      <td>1</td>\n",
       "      <td>8437</td>\n",
       "      <td>42</td>\n",
       "      <td>высшее</td>\n",
       "      <td>0</td>\n",
       "      <td>женат / замужем</td>\n",
       "      <td>0</td>\n",
       "      <td>F</td>\n",
       "      <td>сотрудник</td>\n",
       "      <td>0</td>\n",
       "      <td>253875</td>\n",
       "      <td>покупка жилья</td>\n",
       "    </tr>\n",
       "    <tr>\n",
       "      <th>1</th>\n",
       "      <td>1</td>\n",
       "      <td>4024</td>\n",
       "      <td>36</td>\n",
       "      <td>среднее</td>\n",
       "      <td>1</td>\n",
       "      <td>женат / замужем</td>\n",
       "      <td>0</td>\n",
       "      <td>F</td>\n",
       "      <td>сотрудник</td>\n",
       "      <td>0</td>\n",
       "      <td>112080</td>\n",
       "      <td>приобретение автомобиля</td>\n",
       "    </tr>\n",
       "    <tr>\n",
       "      <th>2</th>\n",
       "      <td>0</td>\n",
       "      <td>5623</td>\n",
       "      <td>33</td>\n",
       "      <td>среднее</td>\n",
       "      <td>1</td>\n",
       "      <td>женат / замужем</td>\n",
       "      <td>0</td>\n",
       "      <td>M</td>\n",
       "      <td>сотрудник</td>\n",
       "      <td>0</td>\n",
       "      <td>145885</td>\n",
       "      <td>покупка жилья</td>\n",
       "    </tr>\n",
       "    <tr>\n",
       "      <th>3</th>\n",
       "      <td>3</td>\n",
       "      <td>4124</td>\n",
       "      <td>32</td>\n",
       "      <td>среднее</td>\n",
       "      <td>1</td>\n",
       "      <td>женат / замужем</td>\n",
       "      <td>0</td>\n",
       "      <td>M</td>\n",
       "      <td>сотрудник</td>\n",
       "      <td>0</td>\n",
       "      <td>267628</td>\n",
       "      <td>дополнительное образование</td>\n",
       "    </tr>\n",
       "    <tr>\n",
       "      <th>4</th>\n",
       "      <td>0</td>\n",
       "      <td>340266</td>\n",
       "      <td>53</td>\n",
       "      <td>среднее</td>\n",
       "      <td>1</td>\n",
       "      <td>гражданский брак</td>\n",
       "      <td>1</td>\n",
       "      <td>F</td>\n",
       "      <td>пенсионер</td>\n",
       "      <td>0</td>\n",
       "      <td>158616</td>\n",
       "      <td>сыграть свадьбу</td>\n",
       "    </tr>\n",
       "    <tr>\n",
       "      <th>5</th>\n",
       "      <td>0</td>\n",
       "      <td>926</td>\n",
       "      <td>27</td>\n",
       "      <td>высшее</td>\n",
       "      <td>0</td>\n",
       "      <td>гражданский брак</td>\n",
       "      <td>1</td>\n",
       "      <td>M</td>\n",
       "      <td>компаньон</td>\n",
       "      <td>0</td>\n",
       "      <td>255763</td>\n",
       "      <td>покупка жилья</td>\n",
       "    </tr>\n",
       "    <tr>\n",
       "      <th>6</th>\n",
       "      <td>0</td>\n",
       "      <td>2879</td>\n",
       "      <td>43</td>\n",
       "      <td>высшее</td>\n",
       "      <td>0</td>\n",
       "      <td>женат / замужем</td>\n",
       "      <td>0</td>\n",
       "      <td>F</td>\n",
       "      <td>компаньон</td>\n",
       "      <td>0</td>\n",
       "      <td>240525</td>\n",
       "      <td>операции с жильем</td>\n",
       "    </tr>\n",
       "    <tr>\n",
       "      <th>7</th>\n",
       "      <td>0</td>\n",
       "      <td>152</td>\n",
       "      <td>50</td>\n",
       "      <td>среднее</td>\n",
       "      <td>1</td>\n",
       "      <td>женат / замужем</td>\n",
       "      <td>0</td>\n",
       "      <td>M</td>\n",
       "      <td>сотрудник</td>\n",
       "      <td>0</td>\n",
       "      <td>135823</td>\n",
       "      <td>образование</td>\n",
       "    </tr>\n",
       "    <tr>\n",
       "      <th>8</th>\n",
       "      <td>2</td>\n",
       "      <td>6929</td>\n",
       "      <td>35</td>\n",
       "      <td>высшее</td>\n",
       "      <td>0</td>\n",
       "      <td>гражданский брак</td>\n",
       "      <td>1</td>\n",
       "      <td>F</td>\n",
       "      <td>сотрудник</td>\n",
       "      <td>0</td>\n",
       "      <td>95856</td>\n",
       "      <td>на проведение свадьбы</td>\n",
       "    </tr>\n",
       "    <tr>\n",
       "      <th>9</th>\n",
       "      <td>0</td>\n",
       "      <td>2188</td>\n",
       "      <td>41</td>\n",
       "      <td>среднее</td>\n",
       "      <td>1</td>\n",
       "      <td>женат / замужем</td>\n",
       "      <td>0</td>\n",
       "      <td>M</td>\n",
       "      <td>сотрудник</td>\n",
       "      <td>0</td>\n",
       "      <td>144425</td>\n",
       "      <td>покупка жилья для семьи</td>\n",
       "    </tr>\n",
       "  </tbody>\n",
       "</table>\n",
       "</div>"
      ],
      "text/plain": [
       "   children  days_employed  dob_years education  education_id  \\\n",
       "0         1           8437         42    высшее             0   \n",
       "1         1           4024         36   среднее             1   \n",
       "2         0           5623         33   среднее             1   \n",
       "3         3           4124         32   среднее             1   \n",
       "4         0         340266         53   среднее             1   \n",
       "5         0            926         27    высшее             0   \n",
       "6         0           2879         43    высшее             0   \n",
       "7         0            152         50   среднее             1   \n",
       "8         2           6929         35    высшее             0   \n",
       "9         0           2188         41   среднее             1   \n",
       "\n",
       "      family_status  family_status_id gender income_type  debt  total_income  \\\n",
       "0   женат / замужем                 0      F   сотрудник     0        253875   \n",
       "1   женат / замужем                 0      F   сотрудник     0        112080   \n",
       "2   женат / замужем                 0      M   сотрудник     0        145885   \n",
       "3   женат / замужем                 0      M   сотрудник     0        267628   \n",
       "4  гражданский брак                 1      F   пенсионер     0        158616   \n",
       "5  гражданский брак                 1      M   компаньон     0        255763   \n",
       "6   женат / замужем                 0      F   компаньон     0        240525   \n",
       "7   женат / замужем                 0      M   сотрудник     0        135823   \n",
       "8  гражданский брак                 1      F   сотрудник     0         95856   \n",
       "9   женат / замужем                 0      M   сотрудник     0        144425   \n",
       "\n",
       "                      purpose  \n",
       "0               покупка жилья  \n",
       "1     приобретение автомобиля  \n",
       "2               покупка жилья  \n",
       "3  дополнительное образование  \n",
       "4             сыграть свадьбу  \n",
       "5               покупка жилья  \n",
       "6           операции с жильем  \n",
       "7                 образование  \n",
       "8       на проведение свадьбы  \n",
       "9     покупка жилья для семьи  "
      ]
     },
     "execution_count": 24,
     "metadata": {},
     "output_type": "execute_result"
    }
   ],
   "source": [
    "client['total_income'] = client['total_income'].astype('int')\n",
    "client['days_employed'] = client['days_employed'].astype('int')\n",
    "client.head(10)"
   ]
  },
  {
   "cell_type": "markdown",
   "metadata": {},
   "source": [
    "## Шаг 2.5. Формирование дополнительных датафреймов словарей, декомпозиция исходного датафрейма."
   ]
  },
  {
   "cell_type": "markdown",
   "metadata": {},
   "source": [
    "Для упрощения анализа данных, мы можем убрать столбцы education и family_status и классифицировать их по показателям в столбцах  education_id и family_status_id соответственно. Создадим соответствующие датафреймы"
   ]
  },
  {
   "cell_type": "code",
   "execution_count": 25,
   "metadata": {},
   "outputs": [
    {
     "data": {
      "text/html": [
       "<div>\n",
       "<style scoped>\n",
       "    .dataframe tbody tr th:only-of-type {\n",
       "        vertical-align: middle;\n",
       "    }\n",
       "\n",
       "    .dataframe tbody tr th {\n",
       "        vertical-align: top;\n",
       "    }\n",
       "\n",
       "    .dataframe thead th {\n",
       "        text-align: right;\n",
       "    }\n",
       "</style>\n",
       "<table border=\"1\" class=\"dataframe\">\n",
       "  <thead>\n",
       "    <tr style=\"text-align: right;\">\n",
       "      <th></th>\n",
       "      <th>education</th>\n",
       "      <th>education_id</th>\n",
       "    </tr>\n",
       "  </thead>\n",
       "  <tbody>\n",
       "    <tr>\n",
       "      <th>0</th>\n",
       "      <td>высшее</td>\n",
       "      <td>0</td>\n",
       "    </tr>\n",
       "    <tr>\n",
       "      <th>1</th>\n",
       "      <td>среднее</td>\n",
       "      <td>1</td>\n",
       "    </tr>\n",
       "    <tr>\n",
       "      <th>13</th>\n",
       "      <td>неоконченное высшее</td>\n",
       "      <td>2</td>\n",
       "    </tr>\n",
       "    <tr>\n",
       "      <th>31</th>\n",
       "      <td>начальное</td>\n",
       "      <td>3</td>\n",
       "    </tr>\n",
       "    <tr>\n",
       "      <th>2962</th>\n",
       "      <td>ученая степень</td>\n",
       "      <td>4</td>\n",
       "    </tr>\n",
       "  </tbody>\n",
       "</table>\n",
       "</div>"
      ],
      "text/plain": [
       "                education  education_id\n",
       "0                  высшее             0\n",
       "1                 среднее             1\n",
       "13    неоконченное высшее             2\n",
       "31              начальное             3\n",
       "2962       ученая степень             4"
      ]
     },
     "execution_count": 25,
     "metadata": {},
     "output_type": "execute_result"
    }
   ],
   "source": [
    "client_education = client[['education','education_id']].drop_duplicates()\n",
    "client_education"
   ]
  },
  {
   "cell_type": "code",
   "execution_count": 26,
   "metadata": {},
   "outputs": [
    {
     "data": {
      "text/html": [
       "<div>\n",
       "<style scoped>\n",
       "    .dataframe tbody tr th:only-of-type {\n",
       "        vertical-align: middle;\n",
       "    }\n",
       "\n",
       "    .dataframe tbody tr th {\n",
       "        vertical-align: top;\n",
       "    }\n",
       "\n",
       "    .dataframe thead th {\n",
       "        text-align: right;\n",
       "    }\n",
       "</style>\n",
       "<table border=\"1\" class=\"dataframe\">\n",
       "  <thead>\n",
       "    <tr style=\"text-align: right;\">\n",
       "      <th></th>\n",
       "      <th>family_status</th>\n",
       "      <th>family_status_id</th>\n",
       "    </tr>\n",
       "  </thead>\n",
       "  <tbody>\n",
       "    <tr>\n",
       "      <th>0</th>\n",
       "      <td>женат / замужем</td>\n",
       "      <td>0</td>\n",
       "    </tr>\n",
       "    <tr>\n",
       "      <th>4</th>\n",
       "      <td>гражданский брак</td>\n",
       "      <td>1</td>\n",
       "    </tr>\n",
       "    <tr>\n",
       "      <th>18</th>\n",
       "      <td>вдовец / вдова</td>\n",
       "      <td>2</td>\n",
       "    </tr>\n",
       "    <tr>\n",
       "      <th>19</th>\n",
       "      <td>в разводе</td>\n",
       "      <td>3</td>\n",
       "    </tr>\n",
       "    <tr>\n",
       "      <th>24</th>\n",
       "      <td>Не женат / не замужем</td>\n",
       "      <td>4</td>\n",
       "    </tr>\n",
       "  </tbody>\n",
       "</table>\n",
       "</div>"
      ],
      "text/plain": [
       "            family_status  family_status_id\n",
       "0         женат / замужем                 0\n",
       "4        гражданский брак                 1\n",
       "18         вдовец / вдова                 2\n",
       "19              в разводе                 3\n",
       "24  Не женат / не замужем                 4"
      ]
     },
     "execution_count": 26,
     "metadata": {},
     "output_type": "execute_result"
    }
   ],
   "source": [
    "client_family_status = client[['family_status','family_status_id']].drop_duplicates()\n",
    "client_family_status"
   ]
  },
  {
   "cell_type": "markdown",
   "metadata": {},
   "source": [
    "## Шаг 2.6. Категоризация дохода."
   ]
  },
  {
   "cell_type": "markdown",
   "metadata": {},
   "source": [
    "Для удобства анализа таблицы присвоем уровням дохода из столбца total_income категории"
   ]
  },
  {
   "cell_type": "code",
   "execution_count": 27,
   "metadata": {},
   "outputs": [],
   "source": [
    "def income_status(total_income):\n",
    "    if total_income <= 30000:\n",
    "        return 'E'\n",
    "    elif total_income > 30000 and total_income <= 50000:\n",
    "        return 'D'\n",
    "    elif total_income > 50000 and total_income <= 200000:\n",
    "        return 'C'\n",
    "    elif total_income > 200000 and total_income <= 1000000:\n",
    "        return 'B'\n",
    "    elif total_income > 1000000:\n",
    "        return 'A'    \n",
    "    else:\n",
    "        return 'error'"
   ]
  },
  {
   "cell_type": "code",
   "execution_count": 28,
   "metadata": {
    "scrolled": true
   },
   "outputs": [
    {
     "data": {
      "text/plain": [
       "C    16033\n",
       "B     5040\n",
       "D      350\n",
       "A       25\n",
       "E       22\n",
       "Name: income_status, dtype: int64"
      ]
     },
     "execution_count": 28,
     "metadata": {},
     "output_type": "execute_result"
    }
   ],
   "source": [
    "client['income_status'] = client['total_income'].apply(income_status)\n",
    "client['income_status'].value_counts()"
   ]
  },
  {
   "cell_type": "markdown",
   "metadata": {},
   "source": [
    "Теперь мы можем удалить не нужные нам столбцы education, family_status, total_income"
   ]
  },
  {
   "cell_type": "code",
   "execution_count": 29,
   "metadata": {},
   "outputs": [
    {
     "data": {
      "text/html": [
       "<div>\n",
       "<style scoped>\n",
       "    .dataframe tbody tr th:only-of-type {\n",
       "        vertical-align: middle;\n",
       "    }\n",
       "\n",
       "    .dataframe tbody tr th {\n",
       "        vertical-align: top;\n",
       "    }\n",
       "\n",
       "    .dataframe thead th {\n",
       "        text-align: right;\n",
       "    }\n",
       "</style>\n",
       "<table border=\"1\" class=\"dataframe\">\n",
       "  <thead>\n",
       "    <tr style=\"text-align: right;\">\n",
       "      <th></th>\n",
       "      <th>children</th>\n",
       "      <th>days_employed</th>\n",
       "      <th>dob_years</th>\n",
       "      <th>education_id</th>\n",
       "      <th>family_status_id</th>\n",
       "      <th>gender</th>\n",
       "      <th>income_type</th>\n",
       "      <th>debt</th>\n",
       "      <th>purpose</th>\n",
       "      <th>income_status</th>\n",
       "    </tr>\n",
       "  </thead>\n",
       "  <tbody>\n",
       "    <tr>\n",
       "      <th>0</th>\n",
       "      <td>1</td>\n",
       "      <td>8437</td>\n",
       "      <td>42</td>\n",
       "      <td>0</td>\n",
       "      <td>0</td>\n",
       "      <td>F</td>\n",
       "      <td>сотрудник</td>\n",
       "      <td>0</td>\n",
       "      <td>покупка жилья</td>\n",
       "      <td>B</td>\n",
       "    </tr>\n",
       "    <tr>\n",
       "      <th>1</th>\n",
       "      <td>1</td>\n",
       "      <td>4024</td>\n",
       "      <td>36</td>\n",
       "      <td>1</td>\n",
       "      <td>0</td>\n",
       "      <td>F</td>\n",
       "      <td>сотрудник</td>\n",
       "      <td>0</td>\n",
       "      <td>приобретение автомобиля</td>\n",
       "      <td>C</td>\n",
       "    </tr>\n",
       "    <tr>\n",
       "      <th>2</th>\n",
       "      <td>0</td>\n",
       "      <td>5623</td>\n",
       "      <td>33</td>\n",
       "      <td>1</td>\n",
       "      <td>0</td>\n",
       "      <td>M</td>\n",
       "      <td>сотрудник</td>\n",
       "      <td>0</td>\n",
       "      <td>покупка жилья</td>\n",
       "      <td>C</td>\n",
       "    </tr>\n",
       "    <tr>\n",
       "      <th>3</th>\n",
       "      <td>3</td>\n",
       "      <td>4124</td>\n",
       "      <td>32</td>\n",
       "      <td>1</td>\n",
       "      <td>0</td>\n",
       "      <td>M</td>\n",
       "      <td>сотрудник</td>\n",
       "      <td>0</td>\n",
       "      <td>дополнительное образование</td>\n",
       "      <td>B</td>\n",
       "    </tr>\n",
       "    <tr>\n",
       "      <th>4</th>\n",
       "      <td>0</td>\n",
       "      <td>340266</td>\n",
       "      <td>53</td>\n",
       "      <td>1</td>\n",
       "      <td>1</td>\n",
       "      <td>F</td>\n",
       "      <td>пенсионер</td>\n",
       "      <td>0</td>\n",
       "      <td>сыграть свадьбу</td>\n",
       "      <td>C</td>\n",
       "    </tr>\n",
       "    <tr>\n",
       "      <th>5</th>\n",
       "      <td>0</td>\n",
       "      <td>926</td>\n",
       "      <td>27</td>\n",
       "      <td>0</td>\n",
       "      <td>1</td>\n",
       "      <td>M</td>\n",
       "      <td>компаньон</td>\n",
       "      <td>0</td>\n",
       "      <td>покупка жилья</td>\n",
       "      <td>B</td>\n",
       "    </tr>\n",
       "    <tr>\n",
       "      <th>6</th>\n",
       "      <td>0</td>\n",
       "      <td>2879</td>\n",
       "      <td>43</td>\n",
       "      <td>0</td>\n",
       "      <td>0</td>\n",
       "      <td>F</td>\n",
       "      <td>компаньон</td>\n",
       "      <td>0</td>\n",
       "      <td>операции с жильем</td>\n",
       "      <td>B</td>\n",
       "    </tr>\n",
       "    <tr>\n",
       "      <th>7</th>\n",
       "      <td>0</td>\n",
       "      <td>152</td>\n",
       "      <td>50</td>\n",
       "      <td>1</td>\n",
       "      <td>0</td>\n",
       "      <td>M</td>\n",
       "      <td>сотрудник</td>\n",
       "      <td>0</td>\n",
       "      <td>образование</td>\n",
       "      <td>C</td>\n",
       "    </tr>\n",
       "    <tr>\n",
       "      <th>8</th>\n",
       "      <td>2</td>\n",
       "      <td>6929</td>\n",
       "      <td>35</td>\n",
       "      <td>0</td>\n",
       "      <td>1</td>\n",
       "      <td>F</td>\n",
       "      <td>сотрудник</td>\n",
       "      <td>0</td>\n",
       "      <td>на проведение свадьбы</td>\n",
       "      <td>C</td>\n",
       "    </tr>\n",
       "    <tr>\n",
       "      <th>9</th>\n",
       "      <td>0</td>\n",
       "      <td>2188</td>\n",
       "      <td>41</td>\n",
       "      <td>1</td>\n",
       "      <td>0</td>\n",
       "      <td>M</td>\n",
       "      <td>сотрудник</td>\n",
       "      <td>0</td>\n",
       "      <td>покупка жилья для семьи</td>\n",
       "      <td>C</td>\n",
       "    </tr>\n",
       "  </tbody>\n",
       "</table>\n",
       "</div>"
      ],
      "text/plain": [
       "   children  days_employed  dob_years  education_id  family_status_id gender  \\\n",
       "0         1           8437         42             0                 0      F   \n",
       "1         1           4024         36             1                 0      F   \n",
       "2         0           5623         33             1                 0      M   \n",
       "3         3           4124         32             1                 0      M   \n",
       "4         0         340266         53             1                 1      F   \n",
       "5         0            926         27             0                 1      M   \n",
       "6         0           2879         43             0                 0      F   \n",
       "7         0            152         50             1                 0      M   \n",
       "8         2           6929         35             0                 1      F   \n",
       "9         0           2188         41             1                 0      M   \n",
       "\n",
       "  income_type  debt                     purpose income_status  \n",
       "0   сотрудник     0               покупка жилья             B  \n",
       "1   сотрудник     0     приобретение автомобиля             C  \n",
       "2   сотрудник     0               покупка жилья             C  \n",
       "3   сотрудник     0  дополнительное образование             B  \n",
       "4   пенсионер     0             сыграть свадьбу             C  \n",
       "5   компаньон     0               покупка жилья             B  \n",
       "6   компаньон     0           операции с жильем             B  \n",
       "7   сотрудник     0                 образование             C  \n",
       "8   сотрудник     0       на проведение свадьбы             C  \n",
       "9   сотрудник     0     покупка жилья для семьи             C  "
      ]
     },
     "execution_count": 29,
     "metadata": {},
     "output_type": "execute_result"
    }
   ],
   "source": [
    "client.drop(columns=['education', 'family_status', 'total_income'], inplace=True)\n",
    "client.head(10)"
   ]
  },
  {
   "cell_type": "markdown",
   "metadata": {},
   "source": [
    "## Шаг 2.7. Категоризация целей кредита"
   ]
  },
  {
   "cell_type": "code",
   "execution_count": 30,
   "metadata": {},
   "outputs": [
    {
     "data": {
      "text/plain": [
       "array(['автомобили', 'автомобиль', 'высшее образование',\n",
       "       'дополнительное образование', 'жилье',\n",
       "       'заняться высшим образованием', 'заняться образованием',\n",
       "       'на покупку автомобиля', 'на покупку подержанного автомобиля',\n",
       "       'на покупку своего автомобиля', 'на проведение свадьбы',\n",
       "       'недвижимость', 'образование', 'операции с жильем',\n",
       "       'операции с коммерческой недвижимостью',\n",
       "       'операции с недвижимостью', 'операции со своей недвижимостью',\n",
       "       'покупка жилой недвижимости', 'покупка жилья',\n",
       "       'покупка жилья для сдачи', 'покупка жилья для семьи',\n",
       "       'покупка коммерческой недвижимости', 'покупка недвижимости',\n",
       "       'покупка своего жилья', 'получение высшего образования',\n",
       "       'получение дополнительного образования', 'получение образования',\n",
       "       'приобретение автомобиля', 'профильное образование',\n",
       "       'ремонт жилью', 'свадьба', 'свой автомобиль',\n",
       "       'сделка с автомобилем', 'сделка с подержанным автомобилем',\n",
       "       'строительство жилой недвижимости', 'строительство недвижимости',\n",
       "       'строительство собственной недвижимости', 'сыграть свадьбу'],\n",
       "      dtype=object)"
      ]
     },
     "execution_count": 30,
     "metadata": {},
     "output_type": "execute_result"
    }
   ],
   "source": [
    "client['purpose'].sort_values().unique()"
   ]
  },
  {
   "cell_type": "markdown",
   "metadata": {},
   "source": [
    "У нас очень много целей кредита. Нужно сгруппировать данные. Для этого напишем функцию, заменяющую название целей кредита в обобщающее название"
   ]
  },
  {
   "cell_type": "code",
   "execution_count": 31,
   "metadata": {
    "scrolled": true
   },
   "outputs": [
    {
     "data": {
      "text/plain": [
       "Недвижимость    10813\n",
       "Автомобиль       4308\n",
       "Образование      4014\n",
       "Свадьба          2335\n",
       "Name: purpose_category, dtype: int64"
      ]
     },
     "execution_count": 31,
     "metadata": {},
     "output_type": "execute_result"
    }
   ],
   "source": [
    "def purpose_category(purpose):\n",
    "    if 'образован' in purpose:\n",
    "        return 'Образование'\n",
    "    if 'авто' in purpose:\n",
    "        return 'Автомобиль'\n",
    "    if 'свадь' in purpose:\n",
    "        return 'Свадьба'\n",
    "    if 'жиль' or 'недв' in purpose:\n",
    "        return 'Недвижимость'\n",
    "    return 'Ошибка классификации'\n",
    "\n",
    "client['purpose_category'] = client['purpose'].apply(purpose_category)\n",
    "client['purpose_category'].value_counts()"
   ]
  },
  {
   "cell_type": "markdown",
   "metadata": {},
   "source": [
    "Теперь можно удалить столбец purpose"
   ]
  },
  {
   "cell_type": "code",
   "execution_count": 32,
   "metadata": {
    "scrolled": false
   },
   "outputs": [
    {
     "data": {
      "text/html": [
       "<div>\n",
       "<style scoped>\n",
       "    .dataframe tbody tr th:only-of-type {\n",
       "        vertical-align: middle;\n",
       "    }\n",
       "\n",
       "    .dataframe tbody tr th {\n",
       "        vertical-align: top;\n",
       "    }\n",
       "\n",
       "    .dataframe thead th {\n",
       "        text-align: right;\n",
       "    }\n",
       "</style>\n",
       "<table border=\"1\" class=\"dataframe\">\n",
       "  <thead>\n",
       "    <tr style=\"text-align: right;\">\n",
       "      <th></th>\n",
       "      <th>children</th>\n",
       "      <th>days_employed</th>\n",
       "      <th>dob_years</th>\n",
       "      <th>education_id</th>\n",
       "      <th>family_status_id</th>\n",
       "      <th>gender</th>\n",
       "      <th>income_type</th>\n",
       "      <th>debt</th>\n",
       "      <th>income_status</th>\n",
       "      <th>purpose_category</th>\n",
       "    </tr>\n",
       "  </thead>\n",
       "  <tbody>\n",
       "    <tr>\n",
       "      <th>0</th>\n",
       "      <td>1</td>\n",
       "      <td>8437</td>\n",
       "      <td>42</td>\n",
       "      <td>0</td>\n",
       "      <td>0</td>\n",
       "      <td>F</td>\n",
       "      <td>сотрудник</td>\n",
       "      <td>0</td>\n",
       "      <td>B</td>\n",
       "      <td>Недвижимость</td>\n",
       "    </tr>\n",
       "    <tr>\n",
       "      <th>1</th>\n",
       "      <td>1</td>\n",
       "      <td>4024</td>\n",
       "      <td>36</td>\n",
       "      <td>1</td>\n",
       "      <td>0</td>\n",
       "      <td>F</td>\n",
       "      <td>сотрудник</td>\n",
       "      <td>0</td>\n",
       "      <td>C</td>\n",
       "      <td>Автомобиль</td>\n",
       "    </tr>\n",
       "    <tr>\n",
       "      <th>2</th>\n",
       "      <td>0</td>\n",
       "      <td>5623</td>\n",
       "      <td>33</td>\n",
       "      <td>1</td>\n",
       "      <td>0</td>\n",
       "      <td>M</td>\n",
       "      <td>сотрудник</td>\n",
       "      <td>0</td>\n",
       "      <td>C</td>\n",
       "      <td>Недвижимость</td>\n",
       "    </tr>\n",
       "    <tr>\n",
       "      <th>3</th>\n",
       "      <td>3</td>\n",
       "      <td>4124</td>\n",
       "      <td>32</td>\n",
       "      <td>1</td>\n",
       "      <td>0</td>\n",
       "      <td>M</td>\n",
       "      <td>сотрудник</td>\n",
       "      <td>0</td>\n",
       "      <td>B</td>\n",
       "      <td>Образование</td>\n",
       "    </tr>\n",
       "    <tr>\n",
       "      <th>4</th>\n",
       "      <td>0</td>\n",
       "      <td>340266</td>\n",
       "      <td>53</td>\n",
       "      <td>1</td>\n",
       "      <td>1</td>\n",
       "      <td>F</td>\n",
       "      <td>пенсионер</td>\n",
       "      <td>0</td>\n",
       "      <td>C</td>\n",
       "      <td>Свадьба</td>\n",
       "    </tr>\n",
       "  </tbody>\n",
       "</table>\n",
       "</div>"
      ],
      "text/plain": [
       "   children  days_employed  dob_years  education_id  family_status_id gender  \\\n",
       "0         1           8437         42             0                 0      F   \n",
       "1         1           4024         36             1                 0      F   \n",
       "2         0           5623         33             1                 0      M   \n",
       "3         3           4124         32             1                 0      M   \n",
       "4         0         340266         53             1                 1      F   \n",
       "\n",
       "  income_type  debt income_status purpose_category  \n",
       "0   сотрудник     0             B     Недвижимость  \n",
       "1   сотрудник     0             C       Автомобиль  \n",
       "2   сотрудник     0             C     Недвижимость  \n",
       "3   сотрудник     0             B      Образование  \n",
       "4   пенсионер     0             C          Свадьба  "
      ]
     },
     "execution_count": 32,
     "metadata": {},
     "output_type": "execute_result"
    }
   ],
   "source": [
    "client.drop(columns=['purpose'], inplace=True)\n",
    "client.head()"
   ]
  },
  {
   "cell_type": "markdown",
   "metadata": {},
   "source": [
    "## Шаг 2.8. Категоризация количества детей"
   ]
  },
  {
   "cell_type": "code",
   "execution_count": 33,
   "metadata": {},
   "outputs": [
    {
     "data": {
      "text/html": [
       "<div>\n",
       "<style scoped>\n",
       "    .dataframe tbody tr th:only-of-type {\n",
       "        vertical-align: middle;\n",
       "    }\n",
       "\n",
       "    .dataframe tbody tr th {\n",
       "        vertical-align: top;\n",
       "    }\n",
       "\n",
       "    .dataframe thead th {\n",
       "        text-align: right;\n",
       "    }\n",
       "</style>\n",
       "<table border=\"1\" class=\"dataframe\">\n",
       "  <thead>\n",
       "    <tr style=\"text-align: right;\">\n",
       "      <th></th>\n",
       "      <th>children</th>\n",
       "      <th>days_employed</th>\n",
       "      <th>dob_years</th>\n",
       "      <th>education_id</th>\n",
       "      <th>family_status_id</th>\n",
       "      <th>gender</th>\n",
       "      <th>income_type</th>\n",
       "      <th>debt</th>\n",
       "      <th>income_status</th>\n",
       "      <th>purpose_category</th>\n",
       "      <th>children_cat_id</th>\n",
       "    </tr>\n",
       "  </thead>\n",
       "  <tbody>\n",
       "    <tr>\n",
       "      <th>0</th>\n",
       "      <td>1</td>\n",
       "      <td>8437</td>\n",
       "      <td>42</td>\n",
       "      <td>0</td>\n",
       "      <td>0</td>\n",
       "      <td>F</td>\n",
       "      <td>сотрудник</td>\n",
       "      <td>0</td>\n",
       "      <td>B</td>\n",
       "      <td>Недвижимость</td>\n",
       "      <td>1</td>\n",
       "    </tr>\n",
       "    <tr>\n",
       "      <th>1</th>\n",
       "      <td>1</td>\n",
       "      <td>4024</td>\n",
       "      <td>36</td>\n",
       "      <td>1</td>\n",
       "      <td>0</td>\n",
       "      <td>F</td>\n",
       "      <td>сотрудник</td>\n",
       "      <td>0</td>\n",
       "      <td>C</td>\n",
       "      <td>Автомобиль</td>\n",
       "      <td>1</td>\n",
       "    </tr>\n",
       "    <tr>\n",
       "      <th>2</th>\n",
       "      <td>0</td>\n",
       "      <td>5623</td>\n",
       "      <td>33</td>\n",
       "      <td>1</td>\n",
       "      <td>0</td>\n",
       "      <td>M</td>\n",
       "      <td>сотрудник</td>\n",
       "      <td>0</td>\n",
       "      <td>C</td>\n",
       "      <td>Недвижимость</td>\n",
       "      <td>0</td>\n",
       "    </tr>\n",
       "    <tr>\n",
       "      <th>3</th>\n",
       "      <td>3</td>\n",
       "      <td>4124</td>\n",
       "      <td>32</td>\n",
       "      <td>1</td>\n",
       "      <td>0</td>\n",
       "      <td>M</td>\n",
       "      <td>сотрудник</td>\n",
       "      <td>0</td>\n",
       "      <td>B</td>\n",
       "      <td>Образование</td>\n",
       "      <td>3</td>\n",
       "    </tr>\n",
       "    <tr>\n",
       "      <th>4</th>\n",
       "      <td>0</td>\n",
       "      <td>340266</td>\n",
       "      <td>53</td>\n",
       "      <td>1</td>\n",
       "      <td>1</td>\n",
       "      <td>F</td>\n",
       "      <td>пенсионер</td>\n",
       "      <td>0</td>\n",
       "      <td>C</td>\n",
       "      <td>Свадьба</td>\n",
       "      <td>0</td>\n",
       "    </tr>\n",
       "    <tr>\n",
       "      <th>5</th>\n",
       "      <td>0</td>\n",
       "      <td>926</td>\n",
       "      <td>27</td>\n",
       "      <td>0</td>\n",
       "      <td>1</td>\n",
       "      <td>M</td>\n",
       "      <td>компаньон</td>\n",
       "      <td>0</td>\n",
       "      <td>B</td>\n",
       "      <td>Недвижимость</td>\n",
       "      <td>0</td>\n",
       "    </tr>\n",
       "    <tr>\n",
       "      <th>6</th>\n",
       "      <td>0</td>\n",
       "      <td>2879</td>\n",
       "      <td>43</td>\n",
       "      <td>0</td>\n",
       "      <td>0</td>\n",
       "      <td>F</td>\n",
       "      <td>компаньон</td>\n",
       "      <td>0</td>\n",
       "      <td>B</td>\n",
       "      <td>Недвижимость</td>\n",
       "      <td>0</td>\n",
       "    </tr>\n",
       "    <tr>\n",
       "      <th>7</th>\n",
       "      <td>0</td>\n",
       "      <td>152</td>\n",
       "      <td>50</td>\n",
       "      <td>1</td>\n",
       "      <td>0</td>\n",
       "      <td>M</td>\n",
       "      <td>сотрудник</td>\n",
       "      <td>0</td>\n",
       "      <td>C</td>\n",
       "      <td>Образование</td>\n",
       "      <td>0</td>\n",
       "    </tr>\n",
       "    <tr>\n",
       "      <th>8</th>\n",
       "      <td>2</td>\n",
       "      <td>6929</td>\n",
       "      <td>35</td>\n",
       "      <td>0</td>\n",
       "      <td>1</td>\n",
       "      <td>F</td>\n",
       "      <td>сотрудник</td>\n",
       "      <td>0</td>\n",
       "      <td>C</td>\n",
       "      <td>Свадьба</td>\n",
       "      <td>2</td>\n",
       "    </tr>\n",
       "    <tr>\n",
       "      <th>9</th>\n",
       "      <td>0</td>\n",
       "      <td>2188</td>\n",
       "      <td>41</td>\n",
       "      <td>1</td>\n",
       "      <td>0</td>\n",
       "      <td>M</td>\n",
       "      <td>сотрудник</td>\n",
       "      <td>0</td>\n",
       "      <td>C</td>\n",
       "      <td>Недвижимость</td>\n",
       "      <td>0</td>\n",
       "    </tr>\n",
       "  </tbody>\n",
       "</table>\n",
       "</div>"
      ],
      "text/plain": [
       "   children  days_employed  dob_years  education_id  family_status_id gender  \\\n",
       "0         1           8437         42             0                 0      F   \n",
       "1         1           4024         36             1                 0      F   \n",
       "2         0           5623         33             1                 0      M   \n",
       "3         3           4124         32             1                 0      M   \n",
       "4         0         340266         53             1                 1      F   \n",
       "5         0            926         27             0                 1      M   \n",
       "6         0           2879         43             0                 0      F   \n",
       "7         0            152         50             1                 0      M   \n",
       "8         2           6929         35             0                 1      F   \n",
       "9         0           2188         41             1                 0      M   \n",
       "\n",
       "  income_type  debt income_status purpose_category  children_cat_id  \n",
       "0   сотрудник     0             B     Недвижимость                1  \n",
       "1   сотрудник     0             C       Автомобиль                1  \n",
       "2   сотрудник     0             C     Недвижимость                0  \n",
       "3   сотрудник     0             B      Образование                3  \n",
       "4   пенсионер     0             C          Свадьба                0  \n",
       "5   компаньон     0             B     Недвижимость                0  \n",
       "6   компаньон     0             B     Недвижимость                0  \n",
       "7   сотрудник     0             C      Образование                0  \n",
       "8   сотрудник     0             C          Свадьба                2  \n",
       "9   сотрудник     0             C     Недвижимость                0  "
      ]
     },
     "execution_count": 33,
     "metadata": {},
     "output_type": "execute_result"
    }
   ],
   "source": [
    "def children_cat_id(children):\n",
    "    if children == 0:\n",
    "        return 0\n",
    "    elif children == 1:\n",
    "        return 1\n",
    "    elif children == 2:\n",
    "        return 2\n",
    "    elif children > 2:\n",
    "        return 3\n",
    "    else:\n",
    "        return 4\n",
    "\n",
    "client['children_cat_id'] = client['children'].apply(children_cat_id)\n",
    "client.head(10)"
   ]
  },
  {
   "cell_type": "markdown",
   "metadata": {},
   "source": [
    "Теперь можно столбец с количеством детей удалить из таблицы"
   ]
  },
  {
   "cell_type": "code",
   "execution_count": 34,
   "metadata": {},
   "outputs": [
    {
     "data": {
      "text/html": [
       "<div>\n",
       "<style scoped>\n",
       "    .dataframe tbody tr th:only-of-type {\n",
       "        vertical-align: middle;\n",
       "    }\n",
       "\n",
       "    .dataframe tbody tr th {\n",
       "        vertical-align: top;\n",
       "    }\n",
       "\n",
       "    .dataframe thead th {\n",
       "        text-align: right;\n",
       "    }\n",
       "</style>\n",
       "<table border=\"1\" class=\"dataframe\">\n",
       "  <thead>\n",
       "    <tr style=\"text-align: right;\">\n",
       "      <th></th>\n",
       "      <th>days_employed</th>\n",
       "      <th>dob_years</th>\n",
       "      <th>education_id</th>\n",
       "      <th>family_status_id</th>\n",
       "      <th>gender</th>\n",
       "      <th>income_type</th>\n",
       "      <th>debt</th>\n",
       "      <th>income_status</th>\n",
       "      <th>purpose_category</th>\n",
       "      <th>children_cat_id</th>\n",
       "    </tr>\n",
       "  </thead>\n",
       "  <tbody>\n",
       "    <tr>\n",
       "      <th>0</th>\n",
       "      <td>8437</td>\n",
       "      <td>42</td>\n",
       "      <td>0</td>\n",
       "      <td>0</td>\n",
       "      <td>F</td>\n",
       "      <td>сотрудник</td>\n",
       "      <td>0</td>\n",
       "      <td>B</td>\n",
       "      <td>Недвижимость</td>\n",
       "      <td>1</td>\n",
       "    </tr>\n",
       "    <tr>\n",
       "      <th>1</th>\n",
       "      <td>4024</td>\n",
       "      <td>36</td>\n",
       "      <td>1</td>\n",
       "      <td>0</td>\n",
       "      <td>F</td>\n",
       "      <td>сотрудник</td>\n",
       "      <td>0</td>\n",
       "      <td>C</td>\n",
       "      <td>Автомобиль</td>\n",
       "      <td>1</td>\n",
       "    </tr>\n",
       "    <tr>\n",
       "      <th>2</th>\n",
       "      <td>5623</td>\n",
       "      <td>33</td>\n",
       "      <td>1</td>\n",
       "      <td>0</td>\n",
       "      <td>M</td>\n",
       "      <td>сотрудник</td>\n",
       "      <td>0</td>\n",
       "      <td>C</td>\n",
       "      <td>Недвижимость</td>\n",
       "      <td>0</td>\n",
       "    </tr>\n",
       "    <tr>\n",
       "      <th>3</th>\n",
       "      <td>4124</td>\n",
       "      <td>32</td>\n",
       "      <td>1</td>\n",
       "      <td>0</td>\n",
       "      <td>M</td>\n",
       "      <td>сотрудник</td>\n",
       "      <td>0</td>\n",
       "      <td>B</td>\n",
       "      <td>Образование</td>\n",
       "      <td>3</td>\n",
       "    </tr>\n",
       "    <tr>\n",
       "      <th>4</th>\n",
       "      <td>340266</td>\n",
       "      <td>53</td>\n",
       "      <td>1</td>\n",
       "      <td>1</td>\n",
       "      <td>F</td>\n",
       "      <td>пенсионер</td>\n",
       "      <td>0</td>\n",
       "      <td>C</td>\n",
       "      <td>Свадьба</td>\n",
       "      <td>0</td>\n",
       "    </tr>\n",
       "  </tbody>\n",
       "</table>\n",
       "</div>"
      ],
      "text/plain": [
       "   days_employed  dob_years  education_id  family_status_id gender  \\\n",
       "0           8437         42             0                 0      F   \n",
       "1           4024         36             1                 0      F   \n",
       "2           5623         33             1                 0      M   \n",
       "3           4124         32             1                 0      M   \n",
       "4         340266         53             1                 1      F   \n",
       "\n",
       "  income_type  debt income_status purpose_category  children_cat_id  \n",
       "0   сотрудник     0             B     Недвижимость                1  \n",
       "1   сотрудник     0             C       Автомобиль                1  \n",
       "2   сотрудник     0             C     Недвижимость                0  \n",
       "3   сотрудник     0             B      Образование                3  \n",
       "4   пенсионер     0             C          Свадьба                0  "
      ]
     },
     "execution_count": 34,
     "metadata": {},
     "output_type": "execute_result"
    }
   ],
   "source": [
    "client.drop(columns=['children'], inplace=True)\n",
    "client.head()"
   ]
  },
  {
   "cell_type": "markdown",
   "metadata": {},
   "source": [
    "# Шаг 3 Ответы на вопросы."
   ]
  },
  {
   "cell_type": "markdown",
   "metadata": {},
   "source": [
    "#### Вопрос 1: •\tЕсть ли зависимость между количеством детей и возвратом кредита в срок?"
   ]
  },
  {
   "cell_type": "markdown",
   "metadata": {},
   "source": [
    "Для ответа на этот вопрос нам нужно сопоставить данные в столбце с информацией о количестве детей и данные из столбца о долгах перед банком"
   ]
  },
  {
   "cell_type": "code",
   "execution_count": 35,
   "metadata": {},
   "outputs": [
    {
     "data": {
      "text/html": [
       "<div>\n",
       "<style scoped>\n",
       "    .dataframe tbody tr th:only-of-type {\n",
       "        vertical-align: middle;\n",
       "    }\n",
       "\n",
       "    .dataframe tbody tr th {\n",
       "        vertical-align: top;\n",
       "    }\n",
       "\n",
       "    .dataframe thead th {\n",
       "        text-align: right;\n",
       "    }\n",
       "</style>\n",
       "<table border=\"1\" class=\"dataframe\">\n",
       "  <thead>\n",
       "    <tr style=\"text-align: right;\">\n",
       "      <th>debt</th>\n",
       "      <th>0</th>\n",
       "      <th>1</th>\n",
       "      <th>ratio</th>\n",
       "    </tr>\n",
       "    <tr>\n",
       "      <th>children_cat_id</th>\n",
       "      <th></th>\n",
       "      <th></th>\n",
       "      <th></th>\n",
       "    </tr>\n",
       "  </thead>\n",
       "  <tbody>\n",
       "    <tr>\n",
       "      <th>0</th>\n",
       "      <td>13089</td>\n",
       "      <td>1064</td>\n",
       "      <td>7.517841</td>\n",
       "    </tr>\n",
       "    <tr>\n",
       "      <th>1</th>\n",
       "      <td>4365</td>\n",
       "      <td>444</td>\n",
       "      <td>9.232689</td>\n",
       "    </tr>\n",
       "    <tr>\n",
       "      <th>2</th>\n",
       "      <td>1926</td>\n",
       "      <td>202</td>\n",
       "      <td>9.492481</td>\n",
       "    </tr>\n",
       "    <tr>\n",
       "      <th>3</th>\n",
       "      <td>349</td>\n",
       "      <td>31</td>\n",
       "      <td>8.157895</td>\n",
       "    </tr>\n",
       "  </tbody>\n",
       "</table>\n",
       "</div>"
      ],
      "text/plain": [
       "debt                 0     1     ratio\n",
       "children_cat_id                       \n",
       "0                13089  1064  7.517841\n",
       "1                 4365   444  9.232689\n",
       "2                 1926   202  9.492481\n",
       "3                  349    31  8.157895"
      ]
     },
     "execution_count": 35,
     "metadata": {},
     "output_type": "execute_result"
    }
   ],
   "source": [
    "children_pivot = client.pivot_table(index = ['children_cat_id'], \\\n",
    "                                columns = ['debt'], \\\n",
    "                                values = 'purpose_category', aggfunc='count')\n",
    "children_pivot['ratio'] = children_pivot[1] / (children_pivot[0]+children_pivot[1]) * 100\n",
    "children_pivot"
   ]
  },
  {
   "cell_type": "markdown",
   "metadata": {},
   "source": [
    "По результатам исследования можно сделать вывод, что заемщикам с 1 или 2 детьми можно доверять больше остальных. Заемщики без детей чаще всего задерживают оплату. Заемщики с 3 и более детьми немногим хуже оплачивают кредиты в срок чем заемщики с 1 или 2 детьми."
   ]
  },
  {
   "cell_type": "markdown",
   "metadata": {},
   "source": [
    "#### Вопрос 2: •\t•\tЕсть ли зависимость между семейным положением и возвратом кредита в срок?"
   ]
  },
  {
   "cell_type": "markdown",
   "metadata": {},
   "source": [
    "Найдем ответ на данный вопрос по схожей схеме"
   ]
  },
  {
   "cell_type": "code",
   "execution_count": 36,
   "metadata": {},
   "outputs": [
    {
     "data": {
      "text/html": [
       "<div>\n",
       "<style scoped>\n",
       "    .dataframe tbody tr th:only-of-type {\n",
       "        vertical-align: middle;\n",
       "    }\n",
       "\n",
       "    .dataframe tbody tr th {\n",
       "        vertical-align: top;\n",
       "    }\n",
       "\n",
       "    .dataframe thead th {\n",
       "        text-align: right;\n",
       "    }\n",
       "</style>\n",
       "<table border=\"1\" class=\"dataframe\">\n",
       "  <thead>\n",
       "    <tr style=\"text-align: right;\">\n",
       "      <th>debt</th>\n",
       "      <th>0</th>\n",
       "      <th>1</th>\n",
       "      <th>ratio</th>\n",
       "    </tr>\n",
       "    <tr>\n",
       "      <th>family_status_id</th>\n",
       "      <th></th>\n",
       "      <th></th>\n",
       "      <th></th>\n",
       "    </tr>\n",
       "  </thead>\n",
       "  <tbody>\n",
       "    <tr>\n",
       "      <th>0</th>\n",
       "      <td>11413</td>\n",
       "      <td>931</td>\n",
       "      <td>7.542126</td>\n",
       "    </tr>\n",
       "    <tr>\n",
       "      <th>1</th>\n",
       "      <td>3774</td>\n",
       "      <td>388</td>\n",
       "      <td>9.322441</td>\n",
       "    </tr>\n",
       "    <tr>\n",
       "      <th>2</th>\n",
       "      <td>896</td>\n",
       "      <td>63</td>\n",
       "      <td>6.569343</td>\n",
       "    </tr>\n",
       "    <tr>\n",
       "      <th>3</th>\n",
       "      <td>1110</td>\n",
       "      <td>85</td>\n",
       "      <td>7.112971</td>\n",
       "    </tr>\n",
       "    <tr>\n",
       "      <th>4</th>\n",
       "      <td>2536</td>\n",
       "      <td>274</td>\n",
       "      <td>9.750890</td>\n",
       "    </tr>\n",
       "  </tbody>\n",
       "</table>\n",
       "</div>"
      ],
      "text/plain": [
       "debt                  0    1     ratio\n",
       "family_status_id                      \n",
       "0                 11413  931  7.542126\n",
       "1                  3774  388  9.322441\n",
       "2                   896   63  6.569343\n",
       "3                  1110   85  7.112971\n",
       "4                  2536  274  9.750890"
      ]
     },
     "execution_count": 36,
     "metadata": {},
     "output_type": "execute_result"
    }
   ],
   "source": [
    "family_status_id_pivot = client.pivot_table(index = ['family_status_id'], \\\n",
    "                                columns = ['debt'], \\\n",
    "                                values = 'purpose_category', aggfunc='count')\n",
    "family_status_id_pivot['ratio'] = family_status_id_pivot[1] / (family_status_id_pivot[0] + family_status_id_pivot[1]) * 100\n",
    "family_status_id_pivot"
   ]
  },
  {
   "cell_type": "markdown",
   "metadata": {},
   "source": [
    "Как мы можем видеть из данных таблицы вдовы и вдовцы хуже всех оплачивают кредиты в срок. Женатые/замужние и люди вышедшие из этого статуса оплачивают кредиты примерно на одинаковом уровне. А вот люди не связавшие свои отношения узами брака оплачивают кредиты лучше всех остальных!"
   ]
  },
  {
   "cell_type": "markdown",
   "metadata": {},
   "source": [
    "#### Вопрос 3: •\t•\t•\tЕсть ли зависимость между уровнем дохода и возвратом кредита в срок?"
   ]
  },
  {
   "cell_type": "code",
   "execution_count": 37,
   "metadata": {},
   "outputs": [
    {
     "data": {
      "text/html": [
       "<div>\n",
       "<style scoped>\n",
       "    .dataframe tbody tr th:only-of-type {\n",
       "        vertical-align: middle;\n",
       "    }\n",
       "\n",
       "    .dataframe tbody tr th {\n",
       "        vertical-align: top;\n",
       "    }\n",
       "\n",
       "    .dataframe thead th {\n",
       "        text-align: right;\n",
       "    }\n",
       "</style>\n",
       "<table border=\"1\" class=\"dataframe\">\n",
       "  <thead>\n",
       "    <tr style=\"text-align: right;\">\n",
       "      <th>debt</th>\n",
       "      <th>0</th>\n",
       "      <th>1</th>\n",
       "      <th>ratio</th>\n",
       "    </tr>\n",
       "    <tr>\n",
       "      <th>income_status</th>\n",
       "      <th></th>\n",
       "      <th></th>\n",
       "      <th></th>\n",
       "    </tr>\n",
       "  </thead>\n",
       "  <tbody>\n",
       "    <tr>\n",
       "      <th>A</th>\n",
       "      <td>23</td>\n",
       "      <td>2</td>\n",
       "      <td>8.000000</td>\n",
       "    </tr>\n",
       "    <tr>\n",
       "      <th>B</th>\n",
       "      <td>4684</td>\n",
       "      <td>356</td>\n",
       "      <td>7.063492</td>\n",
       "    </tr>\n",
       "    <tr>\n",
       "      <th>C</th>\n",
       "      <td>14673</td>\n",
       "      <td>1360</td>\n",
       "      <td>8.482505</td>\n",
       "    </tr>\n",
       "    <tr>\n",
       "      <th>D</th>\n",
       "      <td>329</td>\n",
       "      <td>21</td>\n",
       "      <td>6.000000</td>\n",
       "    </tr>\n",
       "    <tr>\n",
       "      <th>E</th>\n",
       "      <td>20</td>\n",
       "      <td>2</td>\n",
       "      <td>9.090909</td>\n",
       "    </tr>\n",
       "  </tbody>\n",
       "</table>\n",
       "</div>"
      ],
      "text/plain": [
       "debt               0     1     ratio\n",
       "income_status                       \n",
       "A                 23     2  8.000000\n",
       "B               4684   356  7.063492\n",
       "C              14673  1360  8.482505\n",
       "D                329    21  6.000000\n",
       "E                 20     2  9.090909"
      ]
     },
     "execution_count": 37,
     "metadata": {},
     "output_type": "execute_result"
    }
   ],
   "source": [
    "income_status_pivot = client.pivot_table(index = ['income_status'], \\\n",
    "                                columns = ['debt'], \\\n",
    "                                values = 'purpose_category', aggfunc='count')\n",
    "income_status_pivot['ratio'] = income_status_pivot[1] / (income_status_pivot[0] +income_status_pivot[1]) * 100\n",
    "income_status_pivot"
   ]
  },
  {
   "cell_type": "markdown",
   "metadata": {},
   "source": [
    "По результатам исследований доходов заемщиков можно сделать вывод о том, что люди с маленьким и средним доходами стремятся заплатить кредиты в срок больше других. Люди с доходами ниже среднего возращают кредиты хуже всех. Средние показатели у заемщиков с доходами выше среднего и большими "
   ]
  },
  {
   "cell_type": "markdown",
   "metadata": {},
   "source": [
    "#### Вопрос 4: •\t•\t•\t•\tКак разные цели кредита влияют на его возврат в срок?"
   ]
  },
  {
   "cell_type": "code",
   "execution_count": 38,
   "metadata": {},
   "outputs": [
    {
     "data": {
      "text/html": [
       "<div>\n",
       "<style scoped>\n",
       "    .dataframe tbody tr th:only-of-type {\n",
       "        vertical-align: middle;\n",
       "    }\n",
       "\n",
       "    .dataframe tbody tr th {\n",
       "        vertical-align: top;\n",
       "    }\n",
       "\n",
       "    .dataframe thead th {\n",
       "        text-align: right;\n",
       "    }\n",
       "</style>\n",
       "<table border=\"1\" class=\"dataframe\">\n",
       "  <thead>\n",
       "    <tr style=\"text-align: right;\">\n",
       "      <th>debt</th>\n",
       "      <th>0</th>\n",
       "      <th>1</th>\n",
       "      <th>ratio</th>\n",
       "    </tr>\n",
       "    <tr>\n",
       "      <th>purpose_category</th>\n",
       "      <th></th>\n",
       "      <th></th>\n",
       "      <th></th>\n",
       "    </tr>\n",
       "  </thead>\n",
       "  <tbody>\n",
       "    <tr>\n",
       "      <th>Автомобиль</th>\n",
       "      <td>3905</td>\n",
       "      <td>403</td>\n",
       "      <td>9.354689</td>\n",
       "    </tr>\n",
       "    <tr>\n",
       "      <th>Недвижимость</th>\n",
       "      <td>10031</td>\n",
       "      <td>782</td>\n",
       "      <td>7.232036</td>\n",
       "    </tr>\n",
       "    <tr>\n",
       "      <th>Образование</th>\n",
       "      <td>3644</td>\n",
       "      <td>370</td>\n",
       "      <td>9.217738</td>\n",
       "    </tr>\n",
       "    <tr>\n",
       "      <th>Свадьба</th>\n",
       "      <td>2149</td>\n",
       "      <td>186</td>\n",
       "      <td>7.965739</td>\n",
       "    </tr>\n",
       "  </tbody>\n",
       "</table>\n",
       "</div>"
      ],
      "text/plain": [
       "debt                  0    1     ratio\n",
       "purpose_category                      \n",
       "Автомобиль         3905  403  9.354689\n",
       "Недвижимость      10031  782  7.232036\n",
       "Образование        3644  370  9.217738\n",
       "Свадьба            2149  186  7.965739"
      ]
     },
     "execution_count": 38,
     "metadata": {},
     "output_type": "execute_result"
    }
   ],
   "source": [
    "purpose_category_pivot = client.pivot_table(index = ['purpose_category'], \\\n",
    "                                columns = ['debt'], \\\n",
    "                                values = 'income_type', aggfunc='count')\n",
    "purpose_category_pivot['ratio'] = purpose_category_pivot[1] / (purpose_category_pivot[0]+purpose_category_pivot[1]) * 100\n",
    "purpose_category_pivot"
   ]
  },
  {
   "cell_type": "markdown",
   "metadata": {},
   "source": [
    "Как мы видим из таблицы хуже всех возращают кредиты в срок заемщики, получившие заемные средства на приобретение недвижимости. Немногим лучше возвращают кредиты в срок молодожены. Заемщики, получившие средства на образование или покупку автомобиля, оплачивают лучше других."
   ]
  },
  {
   "cell_type": "markdown",
   "metadata": {},
   "source": [
    "# Шаг 4 Общий вывод:"
   ]
  },
  {
   "cell_type": "markdown",
   "metadata": {},
   "source": [
    "Получив данные от банка мы тщательно изучили их. Из полученных данных мы выяснили, что есть пропущенные значения, есть данные с отрицательными значениями, есть некорректно заполненные данные. На следующем этапе нами были проделаны действия по устранению пропусков и аномалий в предоставленных данных. А именно:\n",
    "- заполнение пропусков в столбце с данными о доходах медиаными значениями;\n",
    "- исправление ошибочно заполненных данных в строке количества детей;\n",
    "- удаление единственной строки с некорректно заполненым половым признаком;\n",
    "- исправление данных об образовании в маленький регистр;\n",
    "- исправление данных о трудовом стаже и о количестве детей из отрицательного в положительный формат;\n",
    "- заполнение пропусков в столбце с данными о трудовом стаже медиаными значениями;\n",
    "- убрали столбцы с образованием и семейным положением, классифицировали их по показателям и создали новые столбцы;\n",
    "- разбили доходы, цели кредита и количество детей на категории.\n",
    "\n",
    "Далее провели анализ зависимости количества детей, материального и семейного положения на возврат кредитов срок. По результатам проведенных исследований были сделаны следующие выводы:\n",
    "- большая часть заемщиков с 1 или 2 детьми возвращают кредиты в срок. Заемщики без детей чаще всего задерживают оплату. Заемщики с 3 и более детьми немногим хуже оплачивают кредиты в срок чем заемщики с 1 или 2 детьми.\n",
    "- вдовы и вдовцы оплачивают кредиты в срок хуже, чем заемщики в другими семейными статусами. Женатые/замужние и люди вышедшие из этого статуса оплачивают кредиты примерно на одинаковом уровне. А вот люди не связавшие свои отношения узами брака оплачивают кредиты лучше всех остальных!\n",
    "- заемщики с маленьким и средним доходами стремятся заплатить кредиты в срок больше других. Люди с доходами ниже среднего возращают кредиты хуже всех. Средние показатели у заемщиков с доходами выше среднего и большими\n",
    "- хуже всех возращают кредиты в срок заемщики, получившие заемные средства на приобретение недвижимости. Немногим лучше возвращают кредиты в срок молодожены. Заемщики, получившие средства на образование или покупку автомобиля, оплачивают лучше других."
   ]
  },
  {
   "cell_type": "markdown",
   "metadata": {},
   "source": [
    "<h4>Комментарий ревьюера</h4>\n",
    "\n",
    "<div class=\"alert alert-info\">\n",
    "\n",
    "Осталось небольшое исправление в функции. В остальном всё хорошо\n",
    "\n",
    "</div>"
   ]
  }
 ],
 "metadata": {
  "ExecuteTimeLog": [
   {
    "duration": 75,
    "start_time": "2022-03-12T06:05:09.970Z"
   },
   {
    "duration": 774,
    "start_time": "2022-03-12T06:05:19.032Z"
   },
   {
    "duration": 81,
    "start_time": "2022-03-12T06:07:36.015Z"
   },
   {
    "duration": 69,
    "start_time": "2022-03-12T08:37:35.243Z"
   },
   {
    "duration": 77,
    "start_time": "2022-03-12T08:39:55.901Z"
   },
   {
    "duration": 16,
    "start_time": "2022-03-12T08:49:09.749Z"
   },
   {
    "duration": 333,
    "start_time": "2022-03-12T08:59:14.255Z"
   },
   {
    "duration": 85,
    "start_time": "2022-03-12T08:59:22.326Z"
   },
   {
    "duration": 5,
    "start_time": "2022-03-12T09:00:49.455Z"
   },
   {
    "duration": 6331,
    "start_time": "2022-03-12T09:03:59.985Z"
   },
   {
    "duration": 254,
    "start_time": "2022-03-12T09:04:35.278Z"
   },
   {
    "duration": 227,
    "start_time": "2022-03-12T09:04:39.006Z"
   },
   {
    "duration": 47,
    "start_time": "2022-03-12T09:04:44.853Z"
   },
   {
    "duration": 659,
    "start_time": "2022-03-14T05:25:09.467Z"
   },
   {
    "duration": 686,
    "start_time": "2022-03-14T14:24:58.602Z"
   },
   {
    "duration": 11,
    "start_time": "2022-03-14T14:25:08.274Z"
   },
   {
    "duration": 5,
    "start_time": "2022-03-14T14:25:16.172Z"
   },
   {
    "duration": 36,
    "start_time": "2022-03-14T14:25:22.412Z"
   },
   {
    "duration": 9,
    "start_time": "2022-03-14T14:45:33.126Z"
   },
   {
    "duration": 8,
    "start_time": "2022-03-14T14:46:52.934Z"
   },
   {
    "duration": 8,
    "start_time": "2022-03-14T14:46:55.546Z"
   },
   {
    "duration": 8,
    "start_time": "2022-03-14T14:47:22.069Z"
   },
   {
    "duration": 5,
    "start_time": "2022-03-14T14:47:35.317Z"
   },
   {
    "duration": 55,
    "start_time": "2022-03-14T14:47:38.902Z"
   },
   {
    "duration": 11,
    "start_time": "2022-03-14T14:47:41.483Z"
   },
   {
    "duration": 4,
    "start_time": "2022-03-14T14:47:43.567Z"
   },
   {
    "duration": 32,
    "start_time": "2022-03-14T14:47:44.914Z"
   },
   {
    "duration": 9,
    "start_time": "2022-03-14T14:47:48.179Z"
   },
   {
    "duration": 11,
    "start_time": "2022-03-14T14:48:20.854Z"
   },
   {
    "duration": 60,
    "start_time": "2022-03-14T14:55:23.677Z"
   },
   {
    "duration": 55,
    "start_time": "2022-03-14T14:55:49.869Z"
   },
   {
    "duration": 259,
    "start_time": "2022-03-16T07:54:03.556Z"
   },
   {
    "duration": 780,
    "start_time": "2022-03-16T07:54:09.197Z"
   },
   {
    "duration": 90,
    "start_time": "2022-03-16T07:54:16.397Z"
   },
   {
    "duration": 14,
    "start_time": "2022-03-16T07:54:18.850Z"
   },
   {
    "duration": 7,
    "start_time": "2022-03-16T07:54:20.816Z"
   },
   {
    "duration": 302,
    "start_time": "2022-03-16T12:11:37.836Z"
   },
   {
    "duration": 779,
    "start_time": "2022-03-16T12:11:43.804Z"
   },
   {
    "duration": 19,
    "start_time": "2022-03-16T12:12:01.095Z"
   },
   {
    "duration": 14,
    "start_time": "2022-03-16T12:33:58.305Z"
   },
   {
    "duration": 17,
    "start_time": "2022-03-16T12:34:50.030Z"
   },
   {
    "duration": 13,
    "start_time": "2022-03-16T12:35:07.286Z"
   },
   {
    "duration": 12,
    "start_time": "2022-03-16T12:36:06.711Z"
   },
   {
    "duration": 7,
    "start_time": "2022-03-16T12:58:05.814Z"
   },
   {
    "duration": 18,
    "start_time": "2022-03-16T12:58:17.378Z"
   },
   {
    "duration": 16,
    "start_time": "2022-03-16T12:58:32.546Z"
   },
   {
    "duration": 269,
    "start_time": "2022-03-16T12:58:49.911Z"
   },
   {
    "duration": 15,
    "start_time": "2022-03-16T12:58:59.741Z"
   },
   {
    "duration": 7,
    "start_time": "2022-03-16T12:59:43.095Z"
   },
   {
    "duration": 13,
    "start_time": "2022-03-16T13:00:45.567Z"
   },
   {
    "duration": 278,
    "start_time": "2022-03-16T13:00:55.670Z"
   },
   {
    "duration": 258,
    "start_time": "2022-03-16T13:01:52.936Z"
   },
   {
    "duration": 352,
    "start_time": "2022-03-16T13:03:10.576Z"
   },
   {
    "duration": 8,
    "start_time": "2022-03-16T13:03:15.270Z"
   },
   {
    "duration": 7,
    "start_time": "2022-03-16T13:03:22.184Z"
   },
   {
    "duration": 241,
    "start_time": "2022-03-16T13:03:29.753Z"
   },
   {
    "duration": 498,
    "start_time": "2022-03-16T13:11:09.185Z"
   },
   {
    "duration": 539,
    "start_time": "2022-03-18T04:42:33.127Z"
   },
   {
    "duration": 15,
    "start_time": "2022-03-18T04:42:36.559Z"
   },
   {
    "duration": 17,
    "start_time": "2022-03-18T04:42:40.445Z"
   },
   {
    "duration": 11,
    "start_time": "2022-03-18T04:42:44.889Z"
   },
   {
    "duration": 9,
    "start_time": "2022-03-18T04:42:47.101Z"
   },
   {
    "duration": 5,
    "start_time": "2022-03-18T04:42:50.278Z"
   },
   {
    "duration": 5,
    "start_time": "2022-03-18T04:42:54.451Z"
   },
   {
    "duration": 6,
    "start_time": "2022-03-18T04:43:40.628Z"
   },
   {
    "duration": 16,
    "start_time": "2022-03-18T04:44:15.260Z"
   },
   {
    "duration": 74,
    "start_time": "2022-03-18T04:44:32.341Z"
   },
   {
    "duration": 14,
    "start_time": "2022-03-18T04:44:41.292Z"
   },
   {
    "duration": 21,
    "start_time": "2022-03-18T04:44:59.779Z"
   },
   {
    "duration": 15,
    "start_time": "2022-03-18T04:45:13.456Z"
   },
   {
    "duration": 6,
    "start_time": "2022-03-18T04:45:19.287Z"
   },
   {
    "duration": 15,
    "start_time": "2022-03-18T04:45:21.118Z"
   },
   {
    "duration": 6,
    "start_time": "2022-03-18T04:51:50.126Z"
   },
   {
    "duration": 5,
    "start_time": "2022-03-18T04:51:51.674Z"
   },
   {
    "duration": 15,
    "start_time": "2022-03-18T04:51:52.839Z"
   },
   {
    "duration": 16,
    "start_time": "2022-03-18T04:55:40.041Z"
   },
   {
    "duration": 14,
    "start_time": "2022-03-18T04:56:38.669Z"
   },
   {
    "duration": 76,
    "start_time": "2022-03-18T06:31:01.867Z"
   },
   {
    "duration": 14,
    "start_time": "2022-03-18T06:31:05.047Z"
   },
   {
    "duration": 16,
    "start_time": "2022-03-18T06:31:08.186Z"
   },
   {
    "duration": 10,
    "start_time": "2022-03-18T06:31:10.469Z"
   },
   {
    "duration": 9,
    "start_time": "2022-03-18T06:31:11.866Z"
   },
   {
    "duration": 6,
    "start_time": "2022-03-18T06:31:14.697Z"
   },
   {
    "duration": 6,
    "start_time": "2022-03-18T06:31:16.938Z"
   },
   {
    "duration": 15,
    "start_time": "2022-03-18T06:31:19.190Z"
   },
   {
    "duration": 16,
    "start_time": "2022-03-18T06:32:15.181Z"
   },
   {
    "duration": 9,
    "start_time": "2022-03-18T06:32:40.111Z"
   },
   {
    "duration": 5,
    "start_time": "2022-03-18T06:32:43.808Z"
   },
   {
    "duration": 6,
    "start_time": "2022-03-18T06:32:44.846Z"
   },
   {
    "duration": 16,
    "start_time": "2022-03-18T06:32:46.724Z"
   },
   {
    "duration": 14,
    "start_time": "2022-03-18T06:32:49.500Z"
   },
   {
    "duration": 8,
    "start_time": "2022-03-18T07:11:06.512Z"
   },
   {
    "duration": 72,
    "start_time": "2022-03-18T07:14:28.852Z"
   },
   {
    "duration": 7,
    "start_time": "2022-03-18T07:14:38.176Z"
   },
   {
    "duration": 47,
    "start_time": "2022-03-18T07:24:34.153Z"
   },
   {
    "duration": 46,
    "start_time": "2022-03-18T07:25:16.499Z"
   },
   {
    "duration": 74,
    "start_time": "2022-03-18T07:34:37.313Z"
   },
   {
    "duration": 14,
    "start_time": "2022-03-18T07:34:39.649Z"
   },
   {
    "duration": 16,
    "start_time": "2022-03-18T07:34:43.592Z"
   },
   {
    "duration": 5,
    "start_time": "2022-03-18T07:34:45.769Z"
   },
   {
    "duration": 33,
    "start_time": "2022-03-18T07:34:47.355Z"
   },
   {
    "duration": 12,
    "start_time": "2022-03-18T07:34:49.543Z"
   },
   {
    "duration": 6,
    "start_time": "2022-03-18T07:34:54.290Z"
   },
   {
    "duration": 7,
    "start_time": "2022-03-18T07:35:07.314Z"
   },
   {
    "duration": 16,
    "start_time": "2022-03-18T07:35:24.047Z"
   },
   {
    "duration": 10,
    "start_time": "2022-03-18T07:40:13.738Z"
   },
   {
    "duration": 9,
    "start_time": "2022-03-18T07:40:17.101Z"
   },
   {
    "duration": 14,
    "start_time": "2022-03-18T07:41:29.283Z"
   },
   {
    "duration": 8,
    "start_time": "2022-03-18T07:41:44.021Z"
   },
   {
    "duration": 6,
    "start_time": "2022-03-18T07:41:46.844Z"
   },
   {
    "duration": 8,
    "start_time": "2022-03-18T07:43:12.913Z"
   },
   {
    "duration": 20,
    "start_time": "2022-03-18T07:44:53.506Z"
   },
   {
    "duration": 20,
    "start_time": "2022-03-18T08:06:12.587Z"
   },
   {
    "duration": 19,
    "start_time": "2022-03-18T08:06:39.915Z"
   },
   {
    "duration": 17,
    "start_time": "2022-03-18T08:07:13.303Z"
   },
   {
    "duration": 19,
    "start_time": "2022-03-18T08:07:18.702Z"
   },
   {
    "duration": 17,
    "start_time": "2022-03-18T08:07:20.984Z"
   },
   {
    "duration": 27,
    "start_time": "2022-03-18T08:07:45.142Z"
   },
   {
    "duration": 32,
    "start_time": "2022-03-18T08:08:43.487Z"
   },
   {
    "duration": 79,
    "start_time": "2022-03-18T08:08:53.951Z"
   },
   {
    "duration": 15,
    "start_time": "2022-03-18T08:08:55.753Z"
   },
   {
    "duration": 15,
    "start_time": "2022-03-18T08:08:58.663Z"
   },
   {
    "duration": 4,
    "start_time": "2022-03-18T08:09:00.666Z"
   },
   {
    "duration": 33,
    "start_time": "2022-03-18T08:09:02.108Z"
   },
   {
    "duration": 14,
    "start_time": "2022-03-18T08:09:04.336Z"
   },
   {
    "duration": 5,
    "start_time": "2022-03-18T08:09:07.919Z"
   },
   {
    "duration": 7,
    "start_time": "2022-03-18T08:09:09.673Z"
   },
   {
    "duration": 16,
    "start_time": "2022-03-18T08:09:11.339Z"
   },
   {
    "duration": 10,
    "start_time": "2022-03-18T08:09:13.314Z"
   },
   {
    "duration": 9,
    "start_time": "2022-03-18T08:09:15.297Z"
   },
   {
    "duration": 15,
    "start_time": "2022-03-18T08:09:18.116Z"
   },
   {
    "duration": 8,
    "start_time": "2022-03-18T08:09:20.994Z"
   },
   {
    "duration": 8,
    "start_time": "2022-03-18T08:09:22.935Z"
   },
   {
    "duration": 19,
    "start_time": "2022-03-18T08:09:25.676Z"
   },
   {
    "duration": 24,
    "start_time": "2022-03-18T08:09:29.522Z"
   },
   {
    "duration": 7,
    "start_time": "2022-03-18T08:09:50.554Z"
   },
   {
    "duration": 7,
    "start_time": "2022-03-18T08:10:06.604Z"
   },
   {
    "duration": 14,
    "start_time": "2022-03-18T08:10:26.220Z"
   },
   {
    "duration": 7,
    "start_time": "2022-03-18T08:10:36.072Z"
   },
   {
    "duration": 7,
    "start_time": "2022-03-18T08:10:56.822Z"
   },
   {
    "duration": 12,
    "start_time": "2022-03-18T08:11:23.430Z"
   },
   {
    "duration": 8,
    "start_time": "2022-03-18T08:11:46.017Z"
   },
   {
    "duration": 9,
    "start_time": "2022-03-18T08:13:29.930Z"
   },
   {
    "duration": 8,
    "start_time": "2022-03-18T08:13:55.016Z"
   },
   {
    "duration": 11,
    "start_time": "2022-03-18T08:14:03.961Z"
   },
   {
    "duration": 10,
    "start_time": "2022-03-18T08:14:07.774Z"
   },
   {
    "duration": 9,
    "start_time": "2022-03-18T08:14:36.675Z"
   },
   {
    "duration": 785,
    "start_time": "2022-03-18T08:17:39.571Z"
   },
   {
    "duration": 760,
    "start_time": "2022-03-18T08:18:22.382Z"
   },
   {
    "duration": 7,
    "start_time": "2022-03-18T08:19:33.667Z"
   },
   {
    "duration": 760,
    "start_time": "2022-03-18T08:21:36.733Z"
   },
   {
    "duration": 7,
    "start_time": "2022-03-18T08:27:43.023Z"
   },
   {
    "duration": 9,
    "start_time": "2022-03-18T08:28:14.806Z"
   },
   {
    "duration": 6,
    "start_time": "2022-03-18T08:45:13.990Z"
   },
   {
    "duration": 10,
    "start_time": "2022-03-18T08:46:05.186Z"
   },
   {
    "duration": 10,
    "start_time": "2022-03-18T08:46:40.549Z"
   },
   {
    "duration": 8,
    "start_time": "2022-03-18T08:48:43.504Z"
   },
   {
    "duration": 8,
    "start_time": "2022-03-18T08:48:54.670Z"
   },
   {
    "duration": 76,
    "start_time": "2022-03-18T08:49:35.171Z"
   },
   {
    "duration": 14,
    "start_time": "2022-03-18T08:49:37.914Z"
   },
   {
    "duration": 16,
    "start_time": "2022-03-18T08:49:40.209Z"
   },
   {
    "duration": 4,
    "start_time": "2022-03-18T08:49:42.832Z"
   },
   {
    "duration": 31,
    "start_time": "2022-03-18T08:49:44.255Z"
   },
   {
    "duration": 13,
    "start_time": "2022-03-18T08:49:47.829Z"
   },
   {
    "duration": 5,
    "start_time": "2022-03-18T08:49:50.755Z"
   },
   {
    "duration": 6,
    "start_time": "2022-03-18T08:49:52.245Z"
   },
   {
    "duration": 16,
    "start_time": "2022-03-18T08:49:55.313Z"
   },
   {
    "duration": 11,
    "start_time": "2022-03-18T08:49:58.611Z"
   },
   {
    "duration": 9,
    "start_time": "2022-03-18T08:50:00.735Z"
   },
   {
    "duration": 14,
    "start_time": "2022-03-18T08:50:02.944Z"
   },
   {
    "duration": 6,
    "start_time": "2022-03-18T08:50:05.624Z"
   },
   {
    "duration": 7,
    "start_time": "2022-03-18T08:50:06.949Z"
   },
   {
    "duration": 7,
    "start_time": "2022-03-18T08:50:19.427Z"
   },
   {
    "duration": 15,
    "start_time": "2022-03-18T08:51:10.310Z"
   },
   {
    "duration": 3068,
    "start_time": "2022-03-18T08:51:29.380Z"
   },
   {
    "duration": 3015,
    "start_time": "2022-03-18T08:52:11.229Z"
   },
   {
    "duration": 3113,
    "start_time": "2022-03-18T08:53:07.711Z"
   },
   {
    "duration": 101,
    "start_time": "2022-03-18T08:53:47.969Z"
   },
   {
    "duration": 14,
    "start_time": "2022-03-18T08:53:50.056Z"
   },
   {
    "duration": 17,
    "start_time": "2022-03-18T08:53:53.273Z"
   },
   {
    "duration": 4,
    "start_time": "2022-03-18T08:53:55.377Z"
   },
   {
    "duration": 33,
    "start_time": "2022-03-18T08:53:56.689Z"
   },
   {
    "duration": 14,
    "start_time": "2022-03-18T08:53:58.851Z"
   },
   {
    "duration": 7,
    "start_time": "2022-03-18T08:54:01.825Z"
   },
   {
    "duration": 11,
    "start_time": "2022-03-18T08:54:42.610Z"
   },
   {
    "duration": 11,
    "start_time": "2022-03-18T08:55:09.797Z"
   },
   {
    "duration": 12,
    "start_time": "2022-03-18T08:55:27.540Z"
   },
   {
    "duration": 16,
    "start_time": "2022-03-18T08:55:31.437Z"
   },
   {
    "duration": 9,
    "start_time": "2022-03-18T08:55:36.791Z"
   },
   {
    "duration": 9,
    "start_time": "2022-03-18T08:55:49.317Z"
   },
   {
    "duration": 16,
    "start_time": "2022-03-18T08:55:53.118Z"
   },
   {
    "duration": 8,
    "start_time": "2022-03-18T08:56:01.949Z"
   },
   {
    "duration": 8,
    "start_time": "2022-03-18T08:56:04.026Z"
   },
   {
    "duration": 15,
    "start_time": "2022-03-18T08:56:08.572Z"
   },
   {
    "duration": 15,
    "start_time": "2022-03-18T08:56:35.537Z"
   },
   {
    "duration": 3052,
    "start_time": "2022-03-18T08:57:25.185Z"
   },
   {
    "duration": 2958,
    "start_time": "2022-03-18T08:57:53.405Z"
   },
   {
    "duration": 3011,
    "start_time": "2022-03-18T08:58:03.754Z"
   },
   {
    "duration": 5,
    "start_time": "2022-03-18T08:58:09.858Z"
   },
   {
    "duration": 8,
    "start_time": "2022-03-18T08:58:10.838Z"
   },
   {
    "duration": 3070,
    "start_time": "2022-03-18T08:58:12.925Z"
   },
   {
    "duration": 79,
    "start_time": "2022-03-18T08:58:21.313Z"
   },
   {
    "duration": 14,
    "start_time": "2022-03-18T08:58:23.289Z"
   },
   {
    "duration": 17,
    "start_time": "2022-03-18T08:58:26.089Z"
   },
   {
    "duration": 5,
    "start_time": "2022-03-18T08:58:27.808Z"
   },
   {
    "duration": 41,
    "start_time": "2022-03-18T08:58:29.571Z"
   },
   {
    "duration": 15,
    "start_time": "2022-03-18T08:58:31.727Z"
   },
   {
    "duration": 13,
    "start_time": "2022-03-18T08:58:35.014Z"
   },
   {
    "duration": 12,
    "start_time": "2022-03-18T08:58:36.585Z"
   },
   {
    "duration": 16,
    "start_time": "2022-03-18T08:58:38.206Z"
   },
   {
    "duration": 10,
    "start_time": "2022-03-18T08:58:40.708Z"
   },
   {
    "duration": 9,
    "start_time": "2022-03-18T08:58:42.299Z"
   },
   {
    "duration": 15,
    "start_time": "2022-03-18T08:58:43.616Z"
   },
   {
    "duration": 9,
    "start_time": "2022-03-18T08:58:46.202Z"
   },
   {
    "duration": 7,
    "start_time": "2022-03-18T08:58:47.777Z"
   },
   {
    "duration": 16,
    "start_time": "2022-03-18T08:58:49.792Z"
   },
   {
    "duration": 13,
    "start_time": "2022-03-18T08:59:20.935Z"
   },
   {
    "duration": 3023,
    "start_time": "2022-03-18T08:59:34.927Z"
   },
   {
    "duration": 10,
    "start_time": "2022-03-18T08:59:41.536Z"
   },
   {
    "duration": 2968,
    "start_time": "2022-03-18T08:59:43.813Z"
   },
   {
    "duration": 16,
    "start_time": "2022-03-18T08:59:50.823Z"
   },
   {
    "duration": 5,
    "start_time": "2022-03-18T08:59:52.784Z"
   },
   {
    "duration": 33,
    "start_time": "2022-03-18T08:59:54.746Z"
   },
   {
    "duration": 3082,
    "start_time": "2022-03-18T08:59:56.715Z"
   },
   {
    "duration": 81,
    "start_time": "2022-03-18T09:00:07.653Z"
   },
   {
    "duration": 14,
    "start_time": "2022-03-18T09:00:09.970Z"
   },
   {
    "duration": 23,
    "start_time": "2022-03-18T09:00:12.639Z"
   },
   {
    "duration": 6,
    "start_time": "2022-03-18T09:00:14.363Z"
   },
   {
    "duration": 43,
    "start_time": "2022-03-18T09:00:15.892Z"
   },
   {
    "duration": 14,
    "start_time": "2022-03-18T09:00:18.000Z"
   },
   {
    "duration": 11,
    "start_time": "2022-03-18T09:00:31.758Z"
   },
   {
    "duration": 11,
    "start_time": "2022-03-18T09:00:33.441Z"
   },
   {
    "duration": 16,
    "start_time": "2022-03-18T09:00:35.197Z"
   },
   {
    "duration": 10,
    "start_time": "2022-03-18T09:00:37.233Z"
   },
   {
    "duration": 9,
    "start_time": "2022-03-18T09:00:39.027Z"
   },
   {
    "duration": 20,
    "start_time": "2022-03-18T09:00:55.988Z"
   },
   {
    "duration": 8,
    "start_time": "2022-03-18T09:01:00.028Z"
   },
   {
    "duration": 7,
    "start_time": "2022-03-18T09:01:01.971Z"
   },
   {
    "duration": 17,
    "start_time": "2022-03-18T09:01:04.052Z"
   },
   {
    "duration": 34,
    "start_time": "2022-03-18T09:02:04.918Z"
   },
   {
    "duration": 10,
    "start_time": "2022-03-18T09:02:12.457Z"
   },
   {
    "duration": 35,
    "start_time": "2022-03-18T09:02:25.582Z"
   },
   {
    "duration": 78,
    "start_time": "2022-03-18T09:04:55.388Z"
   },
   {
    "duration": 18,
    "start_time": "2022-03-18T09:04:57.013Z"
   },
   {
    "duration": 19,
    "start_time": "2022-03-18T09:04:59.461Z"
   },
   {
    "duration": 4,
    "start_time": "2022-03-18T09:05:01.216Z"
   },
   {
    "duration": 35,
    "start_time": "2022-03-18T09:05:02.890Z"
   },
   {
    "duration": 16,
    "start_time": "2022-03-18T09:05:05.030Z"
   },
   {
    "duration": 20,
    "start_time": "2022-03-18T09:05:07.928Z"
   },
   {
    "duration": 12,
    "start_time": "2022-03-18T09:05:09.714Z"
   },
   {
    "duration": 25,
    "start_time": "2022-03-18T09:05:11.333Z"
   },
   {
    "duration": 12,
    "start_time": "2022-03-18T09:05:13.387Z"
   },
   {
    "duration": 12,
    "start_time": "2022-03-18T09:05:15.103Z"
   },
   {
    "duration": 20,
    "start_time": "2022-03-18T09:05:16.700Z"
   },
   {
    "duration": 8,
    "start_time": "2022-03-18T09:05:19.000Z"
   },
   {
    "duration": 9,
    "start_time": "2022-03-18T09:05:20.833Z"
   },
   {
    "duration": 7,
    "start_time": "2022-03-18T09:06:12.757Z"
   },
   {
    "duration": 12,
    "start_time": "2022-03-18T09:20:48.045Z"
   },
   {
    "duration": 9,
    "start_time": "2022-03-18T09:21:21.240Z"
   },
   {
    "duration": 12,
    "start_time": "2022-03-18T09:21:37.344Z"
   },
   {
    "duration": 17,
    "start_time": "2022-03-18T09:23:55.885Z"
   },
   {
    "duration": 11,
    "start_time": "2022-03-18T09:24:16.272Z"
   },
   {
    "duration": 22,
    "start_time": "2022-03-18T09:24:27.774Z"
   },
   {
    "duration": 8,
    "start_time": "2022-03-18T09:30:21.041Z"
   },
   {
    "duration": 9,
    "start_time": "2022-03-18T09:39:40.493Z"
   },
   {
    "duration": 7,
    "start_time": "2022-03-18T09:39:58.607Z"
   },
   {
    "duration": 7,
    "start_time": "2022-03-18T09:40:03.022Z"
   },
   {
    "duration": 9,
    "start_time": "2022-03-18T09:40:04.832Z"
   },
   {
    "duration": 24,
    "start_time": "2022-03-18T09:40:33.491Z"
   },
   {
    "duration": 26,
    "start_time": "2022-03-18T09:41:33.332Z"
   },
   {
    "duration": 9,
    "start_time": "2022-03-18T09:42:25.476Z"
   },
   {
    "duration": 7,
    "start_time": "2022-03-18T09:42:27.672Z"
   },
   {
    "duration": 9,
    "start_time": "2022-03-18T09:42:28.881Z"
   },
   {
    "duration": 17,
    "start_time": "2022-03-18T09:42:36.472Z"
   },
   {
    "duration": 12,
    "start_time": "2022-03-18T09:42:39.463Z"
   },
   {
    "duration": 13,
    "start_time": "2022-03-18T09:42:41.273Z"
   },
   {
    "duration": 78,
    "start_time": "2022-03-18T09:42:49.159Z"
   },
   {
    "duration": 20,
    "start_time": "2022-03-18T09:42:50.817Z"
   },
   {
    "duration": 24,
    "start_time": "2022-03-18T09:42:55.838Z"
   },
   {
    "duration": 5,
    "start_time": "2022-03-18T09:42:57.853Z"
   },
   {
    "duration": 40,
    "start_time": "2022-03-18T09:42:59.670Z"
   },
   {
    "duration": 14,
    "start_time": "2022-03-18T09:43:01.520Z"
   },
   {
    "duration": 12,
    "start_time": "2022-03-18T09:43:03.964Z"
   },
   {
    "duration": 12,
    "start_time": "2022-03-18T09:43:05.819Z"
   },
   {
    "duration": 17,
    "start_time": "2022-03-18T09:43:07.602Z"
   },
   {
    "duration": 10,
    "start_time": "2022-03-18T09:43:10.262Z"
   },
   {
    "duration": 9,
    "start_time": "2022-03-18T09:43:12.908Z"
   },
   {
    "duration": 15,
    "start_time": "2022-03-18T09:43:16.611Z"
   },
   {
    "duration": 8,
    "start_time": "2022-03-18T09:43:19.751Z"
   },
   {
    "duration": 7,
    "start_time": "2022-03-18T09:43:20.937Z"
   },
   {
    "duration": 8,
    "start_time": "2022-03-18T09:43:22.654Z"
   },
   {
    "duration": 29,
    "start_time": "2022-03-18T09:43:25.274Z"
   },
   {
    "duration": 23,
    "start_time": "2022-03-18T09:44:30.321Z"
   },
   {
    "duration": 23,
    "start_time": "2022-03-18T09:44:42.062Z"
   },
   {
    "duration": 11,
    "start_time": "2022-03-18T09:44:51.952Z"
   },
   {
    "duration": 8,
    "start_time": "2022-03-18T09:44:58.155Z"
   },
   {
    "duration": 5,
    "start_time": "2022-03-18T09:45:04.023Z"
   },
   {
    "duration": 30,
    "start_time": "2022-03-18T09:45:06.738Z"
   },
   {
    "duration": 12,
    "start_time": "2022-03-18T09:45:10.240Z"
   },
   {
    "duration": 12,
    "start_time": "2022-03-18T09:45:12.917Z"
   },
   {
    "duration": 12,
    "start_time": "2022-03-18T09:45:14.734Z"
   },
   {
    "duration": 16,
    "start_time": "2022-03-18T09:45:16.217Z"
   },
   {
    "duration": 10,
    "start_time": "2022-03-18T09:45:19.190Z"
   },
   {
    "duration": 9,
    "start_time": "2022-03-18T09:45:20.807Z"
   },
   {
    "duration": 14,
    "start_time": "2022-03-18T09:45:22.474Z"
   },
   {
    "duration": 6,
    "start_time": "2022-03-18T09:45:24.981Z"
   },
   {
    "duration": 8,
    "start_time": "2022-03-18T09:45:25.990Z"
   },
   {
    "duration": 10,
    "start_time": "2022-03-18T09:45:29.048Z"
   },
   {
    "duration": 78,
    "start_time": "2022-03-18T09:45:33.516Z"
   },
   {
    "duration": 15,
    "start_time": "2022-03-18T09:45:35.326Z"
   },
   {
    "duration": 15,
    "start_time": "2022-03-18T09:45:37.913Z"
   },
   {
    "duration": 4,
    "start_time": "2022-03-18T09:45:40.068Z"
   },
   {
    "duration": 39,
    "start_time": "2022-03-18T09:45:41.771Z"
   },
   {
    "duration": 13,
    "start_time": "2022-03-18T09:45:43.823Z"
   },
   {
    "duration": 11,
    "start_time": "2022-03-18T09:45:46.468Z"
   },
   {
    "duration": 11,
    "start_time": "2022-03-18T09:45:49.281Z"
   },
   {
    "duration": 12,
    "start_time": "2022-03-18T09:45:50.533Z"
   },
   {
    "duration": 15,
    "start_time": "2022-03-18T09:45:52.560Z"
   },
   {
    "duration": 9,
    "start_time": "2022-03-18T09:45:54.799Z"
   },
   {
    "duration": 8,
    "start_time": "2022-03-18T09:45:56.575Z"
   },
   {
    "duration": 14,
    "start_time": "2022-03-18T09:45:58.304Z"
   },
   {
    "duration": 7,
    "start_time": "2022-03-18T09:46:01.239Z"
   },
   {
    "duration": 7,
    "start_time": "2022-03-18T09:46:02.462Z"
   },
   {
    "duration": 9,
    "start_time": "2022-03-18T09:46:05.067Z"
   },
   {
    "duration": 12,
    "start_time": "2022-03-18T09:46:13.052Z"
   },
   {
    "duration": 9,
    "start_time": "2022-03-18T09:46:36.352Z"
   },
   {
    "duration": 12,
    "start_time": "2022-03-18T09:47:03.974Z"
   },
   {
    "duration": 12,
    "start_time": "2022-03-18T09:49:33.044Z"
   },
   {
    "duration": 9,
    "start_time": "2022-03-18T09:54:06.015Z"
   },
   {
    "duration": 19,
    "start_time": "2022-03-18T09:57:01.543Z"
   },
   {
    "duration": 17,
    "start_time": "2022-03-18T09:57:13.004Z"
   },
   {
    "duration": 18,
    "start_time": "2022-03-18T09:57:34.684Z"
   },
   {
    "duration": 18,
    "start_time": "2022-03-18T09:57:45.863Z"
   },
   {
    "duration": 164,
    "start_time": "2022-03-18T09:58:30.172Z"
   },
   {
    "duration": 166,
    "start_time": "2022-03-18T09:58:43.260Z"
   },
   {
    "duration": 8,
    "start_time": "2022-03-18T09:58:53.672Z"
   },
   {
    "duration": 16,
    "start_time": "2022-03-18T09:59:00.827Z"
   },
   {
    "duration": 9,
    "start_time": "2022-03-18T09:59:09.591Z"
   },
   {
    "duration": 9,
    "start_time": "2022-03-18T09:59:22.883Z"
   },
   {
    "duration": 8,
    "start_time": "2022-03-18T09:59:32.596Z"
   },
   {
    "duration": 164,
    "start_time": "2022-03-18T10:01:26.437Z"
   },
   {
    "duration": 11,
    "start_time": "2022-03-18T10:01:33.125Z"
   },
   {
    "duration": 13,
    "start_time": "2022-03-18T10:01:43.483Z"
   },
   {
    "duration": 13,
    "start_time": "2022-03-18T10:02:39.493Z"
   },
   {
    "duration": 12,
    "start_time": "2022-03-18T10:03:22.431Z"
   },
   {
    "duration": 78,
    "start_time": "2022-03-18T10:06:35.917Z"
   },
   {
    "duration": 13,
    "start_time": "2022-03-18T10:06:38.036Z"
   },
   {
    "duration": 58,
    "start_time": "2022-03-18T10:06:40.584Z"
   },
   {
    "duration": 4,
    "start_time": "2022-03-18T10:06:42.296Z"
   },
   {
    "duration": 31,
    "start_time": "2022-03-18T10:06:43.569Z"
   },
   {
    "duration": 14,
    "start_time": "2022-03-18T10:06:45.884Z"
   },
   {
    "duration": 13,
    "start_time": "2022-03-18T10:06:49.393Z"
   },
   {
    "duration": 11,
    "start_time": "2022-03-18T10:06:52.316Z"
   },
   {
    "duration": 17,
    "start_time": "2022-03-18T10:06:54.539Z"
   },
   {
    "duration": 6,
    "start_time": "2022-03-18T10:06:57.669Z"
   },
   {
    "duration": 8,
    "start_time": "2022-03-18T10:06:59.288Z"
   },
   {
    "duration": 8,
    "start_time": "2022-03-18T10:07:02.060Z"
   },
   {
    "duration": 12,
    "start_time": "2022-03-18T10:07:04.594Z"
   },
   {
    "duration": 9,
    "start_time": "2022-03-18T10:07:06.552Z"
   },
   {
    "duration": 9,
    "start_time": "2022-03-18T10:07:08.827Z"
   },
   {
    "duration": 14,
    "start_time": "2022-03-18T10:07:10.918Z"
   },
   {
    "duration": 14,
    "start_time": "2022-03-18T10:07:18.861Z"
   },
   {
    "duration": 18,
    "start_time": "2022-03-18T10:08:13.890Z"
   },
   {
    "duration": 24,
    "start_time": "2022-03-18T10:13:27.233Z"
   },
   {
    "duration": 31,
    "start_time": "2022-03-18T10:13:35.951Z"
   },
   {
    "duration": 26,
    "start_time": "2022-03-18T10:14:05.009Z"
   },
   {
    "duration": 24,
    "start_time": "2022-03-18T10:14:10.400Z"
   },
   {
    "duration": 32,
    "start_time": "2022-03-18T10:14:16.485Z"
   },
   {
    "duration": 3051,
    "start_time": "2022-03-18T10:18:56.197Z"
   },
   {
    "duration": 6,
    "start_time": "2022-03-18T10:19:22.860Z"
   },
   {
    "duration": 9,
    "start_time": "2022-03-18T10:20:58.712Z"
   },
   {
    "duration": 169,
    "start_time": "2022-03-18T10:21:16.935Z"
   },
   {
    "duration": 170,
    "start_time": "2022-03-18T10:21:23.550Z"
   },
   {
    "duration": 6,
    "start_time": "2022-03-18T10:21:32.197Z"
   },
   {
    "duration": 14,
    "start_time": "2022-03-18T10:22:49.508Z"
   },
   {
    "duration": 47,
    "start_time": "2022-03-19T07:28:09.241Z"
   },
   {
    "duration": 413,
    "start_time": "2022-03-19T07:28:41.725Z"
   },
   {
    "duration": 12,
    "start_time": "2022-03-19T07:28:44.443Z"
   },
   {
    "duration": 15,
    "start_time": "2022-03-19T07:28:47.284Z"
   },
   {
    "duration": 4,
    "start_time": "2022-03-19T07:28:49.398Z"
   },
   {
    "duration": 27,
    "start_time": "2022-03-19T07:28:50.821Z"
   },
   {
    "duration": 16,
    "start_time": "2022-03-19T07:28:54.555Z"
   },
   {
    "duration": 11,
    "start_time": "2022-03-19T07:28:56.794Z"
   },
   {
    "duration": 11,
    "start_time": "2022-03-19T07:28:58.578Z"
   },
   {
    "duration": 13,
    "start_time": "2022-03-19T07:29:00.221Z"
   },
   {
    "duration": 5,
    "start_time": "2022-03-19T07:29:02.378Z"
   },
   {
    "duration": 6,
    "start_time": "2022-03-19T07:29:03.601Z"
   },
   {
    "duration": 6,
    "start_time": "2022-03-19T07:29:05.324Z"
   },
   {
    "duration": 10,
    "start_time": "2022-03-19T07:29:06.469Z"
   },
   {
    "duration": 9,
    "start_time": "2022-03-19T07:29:08.091Z"
   },
   {
    "duration": 8,
    "start_time": "2022-03-19T07:29:09.468Z"
   },
   {
    "duration": 12,
    "start_time": "2022-03-19T07:29:11.549Z"
   },
   {
    "duration": 7,
    "start_time": "2022-03-19T07:29:13.187Z"
   },
   {
    "duration": 9,
    "start_time": "2022-03-19T07:29:15.312Z"
   },
   {
    "duration": 13,
    "start_time": "2022-03-19T07:33:56.672Z"
   },
   {
    "duration": 5,
    "start_time": "2022-03-19T07:33:59.913Z"
   },
   {
    "duration": 6,
    "start_time": "2022-03-19T07:34:01.038Z"
   },
   {
    "duration": 7,
    "start_time": "2022-03-19T07:34:02.831Z"
   },
   {
    "duration": 11,
    "start_time": "2022-03-19T07:34:04.360Z"
   },
   {
    "duration": 79,
    "start_time": "2022-03-19T07:34:13.702Z"
   },
   {
    "duration": 12,
    "start_time": "2022-03-19T07:34:16.404Z"
   },
   {
    "duration": 15,
    "start_time": "2022-03-19T07:34:19.339Z"
   },
   {
    "duration": 3,
    "start_time": "2022-03-19T07:34:21.754Z"
   },
   {
    "duration": 27,
    "start_time": "2022-03-19T07:34:23.485Z"
   },
   {
    "duration": 12,
    "start_time": "2022-03-19T07:34:25.633Z"
   },
   {
    "duration": 9,
    "start_time": "2022-03-19T07:34:28.069Z"
   },
   {
    "duration": 11,
    "start_time": "2022-03-19T07:34:31.912Z"
   },
   {
    "duration": 10,
    "start_time": "2022-03-19T07:34:33.449Z"
   },
   {
    "duration": 13,
    "start_time": "2022-03-19T07:34:35.609Z"
   },
   {
    "duration": 5,
    "start_time": "2022-03-19T07:34:37.462Z"
   },
   {
    "duration": 6,
    "start_time": "2022-03-19T07:34:38.716Z"
   },
   {
    "duration": 7,
    "start_time": "2022-03-19T07:34:40.736Z"
   },
   {
    "duration": 9,
    "start_time": "2022-03-19T07:34:41.989Z"
   },
   {
    "duration": 5,
    "start_time": "2022-03-19T07:34:47.292Z"
   },
   {
    "duration": 12,
    "start_time": "2022-03-19T07:34:49.070Z"
   },
   {
    "duration": 20,
    "start_time": "2022-03-19T07:37:01.949Z"
   },
   {
    "duration": 22,
    "start_time": "2022-03-19T07:37:23.218Z"
   },
   {
    "duration": 15,
    "start_time": "2022-03-19T07:37:44.728Z"
   },
   {
    "duration": 5,
    "start_time": "2022-03-19T07:39:16.491Z"
   },
   {
    "duration": 6,
    "start_time": "2022-03-19T07:39:21.930Z"
   },
   {
    "duration": 6,
    "start_time": "2022-03-19T07:39:49.661Z"
   },
   {
    "duration": 4,
    "start_time": "2022-03-19T07:41:30.489Z"
   },
   {
    "duration": 27,
    "start_time": "2022-03-19T07:41:52.468Z"
   },
   {
    "duration": 8,
    "start_time": "2022-03-19T07:42:13.385Z"
   },
   {
    "duration": 8,
    "start_time": "2022-03-19T07:48:06.916Z"
   },
   {
    "duration": 78,
    "start_time": "2022-03-19T07:48:21.995Z"
   },
   {
    "duration": 12,
    "start_time": "2022-03-19T07:48:23.950Z"
   },
   {
    "duration": 21,
    "start_time": "2022-03-19T07:48:26.280Z"
   },
   {
    "duration": 4,
    "start_time": "2022-03-19T07:48:28.588Z"
   },
   {
    "duration": 35,
    "start_time": "2022-03-19T07:48:29.954Z"
   },
   {
    "duration": 16,
    "start_time": "2022-03-19T07:48:32.093Z"
   },
   {
    "duration": 12,
    "start_time": "2022-03-19T07:48:34.222Z"
   },
   {
    "duration": 12,
    "start_time": "2022-03-19T07:48:35.640Z"
   },
   {
    "duration": 21,
    "start_time": "2022-03-19T07:48:37.559Z"
   },
   {
    "duration": 5,
    "start_time": "2022-03-19T07:48:40.077Z"
   },
   {
    "duration": 6,
    "start_time": "2022-03-19T07:48:41.023Z"
   },
   {
    "duration": 8,
    "start_time": "2022-03-19T07:48:42.777Z"
   },
   {
    "duration": 10,
    "start_time": "2022-03-19T07:48:43.771Z"
   },
   {
    "duration": 5,
    "start_time": "2022-03-19T07:48:45.009Z"
   },
   {
    "duration": 13,
    "start_time": "2022-03-19T07:48:46.685Z"
   },
   {
    "duration": 14,
    "start_time": "2022-03-19T07:48:49.147Z"
   },
   {
    "duration": 5,
    "start_time": "2022-03-19T07:48:50.798Z"
   },
   {
    "duration": 8,
    "start_time": "2022-03-19T07:48:51.840Z"
   },
   {
    "duration": 17,
    "start_time": "2022-03-19T07:49:36.294Z"
   },
   {
    "duration": 16,
    "start_time": "2022-03-19T08:06:28.243Z"
   },
   {
    "duration": 17,
    "start_time": "2022-03-19T08:06:39.183Z"
   },
   {
    "duration": 29,
    "start_time": "2022-03-19T08:10:26.196Z"
   },
   {
    "duration": 38,
    "start_time": "2022-03-19T08:14:44.306Z"
   },
   {
    "duration": 22,
    "start_time": "2022-03-19T08:15:49.701Z"
   },
   {
    "duration": 193,
    "start_time": "2022-03-19T08:21:12.181Z"
   },
   {
    "duration": 82,
    "start_time": "2022-03-19T08:21:36.080Z"
   },
   {
    "duration": 12,
    "start_time": "2022-03-19T08:21:37.838Z"
   },
   {
    "duration": 16,
    "start_time": "2022-03-19T08:21:42.311Z"
   },
   {
    "duration": 3,
    "start_time": "2022-03-19T08:21:44.183Z"
   },
   {
    "duration": 29,
    "start_time": "2022-03-19T08:21:45.760Z"
   },
   {
    "duration": 13,
    "start_time": "2022-03-19T08:21:47.799Z"
   },
   {
    "duration": 10,
    "start_time": "2022-03-19T08:21:50.155Z"
   },
   {
    "duration": 11,
    "start_time": "2022-03-19T08:21:51.824Z"
   },
   {
    "duration": 14,
    "start_time": "2022-03-19T08:21:53.187Z"
   },
   {
    "duration": 6,
    "start_time": "2022-03-19T08:21:56.640Z"
   },
   {
    "duration": 7,
    "start_time": "2022-03-19T08:22:00.342Z"
   },
   {
    "duration": 12,
    "start_time": "2022-03-19T08:22:01.548Z"
   },
   {
    "duration": 6,
    "start_time": "2022-03-19T08:22:03.187Z"
   },
   {
    "duration": 14,
    "start_time": "2022-03-19T08:22:04.845Z"
   },
   {
    "duration": 13,
    "start_time": "2022-03-19T08:22:06.729Z"
   },
   {
    "duration": 5,
    "start_time": "2022-03-19T08:22:08.010Z"
   },
   {
    "duration": 27,
    "start_time": "2022-03-19T08:22:09.260Z"
   },
   {
    "duration": 28,
    "start_time": "2022-03-19T08:22:22.061Z"
   },
   {
    "duration": 28,
    "start_time": "2022-03-19T08:22:34.500Z"
   },
   {
    "duration": 41,
    "start_time": "2022-03-19T08:22:38.078Z"
   },
   {
    "duration": 22,
    "start_time": "2022-03-19T08:22:41.137Z"
   },
   {
    "duration": 8,
    "start_time": "2022-03-19T08:22:42.963Z"
   },
   {
    "duration": 8,
    "start_time": "2022-03-19T08:22:45.113Z"
   },
   {
    "duration": 11,
    "start_time": "2022-03-19T08:23:19.967Z"
   },
   {
    "duration": 16,
    "start_time": "2022-03-19T08:23:21.986Z"
   },
   {
    "duration": 23,
    "start_time": "2022-03-19T08:24:22.681Z"
   },
   {
    "duration": 16,
    "start_time": "2022-03-19T08:24:30.792Z"
   },
   {
    "duration": 17,
    "start_time": "2022-03-19T08:24:50.886Z"
   },
   {
    "duration": 67,
    "start_time": "2022-03-19T08:32:24.146Z"
   },
   {
    "duration": 15,
    "start_time": "2022-03-19T08:32:29.219Z"
   },
   {
    "duration": 14,
    "start_time": "2022-03-19T08:32:33.569Z"
   },
   {
    "duration": 4,
    "start_time": "2022-03-19T08:32:36.213Z"
   },
   {
    "duration": 28,
    "start_time": "2022-03-19T08:32:38.027Z"
   },
   {
    "duration": 12,
    "start_time": "2022-03-19T08:32:40.247Z"
   },
   {
    "duration": 9,
    "start_time": "2022-03-19T08:32:47.968Z"
   },
   {
    "duration": 9,
    "start_time": "2022-03-19T08:32:55.367Z"
   },
   {
    "duration": 14,
    "start_time": "2022-03-19T08:32:58.962Z"
   },
   {
    "duration": 6,
    "start_time": "2022-03-19T08:33:03.068Z"
   },
   {
    "duration": 6,
    "start_time": "2022-03-19T08:33:06.301Z"
   },
   {
    "duration": 6,
    "start_time": "2022-03-19T08:33:09.389Z"
   },
   {
    "duration": 10,
    "start_time": "2022-03-19T08:33:11.630Z"
   },
   {
    "duration": 5,
    "start_time": "2022-03-19T08:33:13.629Z"
   },
   {
    "duration": 14,
    "start_time": "2022-03-19T08:33:16.026Z"
   },
   {
    "duration": 15,
    "start_time": "2022-03-19T08:33:25.445Z"
   },
   {
    "duration": 5,
    "start_time": "2022-03-19T08:33:31.564Z"
   },
   {
    "duration": 9,
    "start_time": "2022-03-19T08:34:22.173Z"
   },
   {
    "duration": 8,
    "start_time": "2022-03-19T08:34:25.354Z"
   },
   {
    "duration": 13,
    "start_time": "2022-03-19T08:34:29.058Z"
   },
   {
    "duration": 12,
    "start_time": "2022-03-19T09:19:59.389Z"
   },
   {
    "duration": 4,
    "start_time": "2022-03-19T09:20:18.171Z"
   },
   {
    "duration": 3,
    "start_time": "2022-03-19T09:20:40.485Z"
   },
   {
    "duration": 3,
    "start_time": "2022-03-19T09:20:53.202Z"
   },
   {
    "duration": 10,
    "start_time": "2022-03-19T09:21:01.025Z"
   },
   {
    "duration": 7,
    "start_time": "2022-03-19T09:21:10.034Z"
   },
   {
    "duration": 7,
    "start_time": "2022-03-19T09:21:17.074Z"
   },
   {
    "duration": 8,
    "start_time": "2022-03-19T09:23:21.347Z"
   },
   {
    "duration": 9,
    "start_time": "2022-03-19T09:23:41.105Z"
   },
   {
    "duration": 7,
    "start_time": "2022-03-19T09:23:49.928Z"
   },
   {
    "duration": 19,
    "start_time": "2022-03-19T09:24:25.173Z"
   },
   {
    "duration": 11,
    "start_time": "2022-03-19T09:25:49.509Z"
   },
   {
    "duration": 4,
    "start_time": "2022-03-19T09:37:40.808Z"
   },
   {
    "duration": 5,
    "start_time": "2022-03-19T09:38:26.233Z"
   },
   {
    "duration": 32,
    "start_time": "2022-03-19T09:40:25.502Z"
   },
   {
    "duration": 10,
    "start_time": "2022-03-19T09:41:30.561Z"
   },
   {
    "duration": 7,
    "start_time": "2022-03-19T09:41:36.272Z"
   },
   {
    "duration": 5,
    "start_time": "2022-03-19T09:41:40.641Z"
   },
   {
    "duration": 966,
    "start_time": "2022-03-19T10:04:36.896Z"
   },
   {
    "duration": 917,
    "start_time": "2022-03-19T10:05:11.659Z"
   },
   {
    "duration": 17,
    "start_time": "2022-03-19T10:05:15.376Z"
   },
   {
    "duration": 22,
    "start_time": "2022-03-19T10:05:17.632Z"
   },
   {
    "duration": 4,
    "start_time": "2022-03-19T10:05:19.574Z"
   },
   {
    "duration": 38,
    "start_time": "2022-03-19T10:05:21.527Z"
   },
   {
    "duration": 16,
    "start_time": "2022-03-19T10:05:23.452Z"
   },
   {
    "duration": 11,
    "start_time": "2022-03-19T10:05:25.519Z"
   },
   {
    "duration": 11,
    "start_time": "2022-03-19T10:05:27.527Z"
   },
   {
    "duration": 20,
    "start_time": "2022-03-19T10:05:28.961Z"
   },
   {
    "duration": 6,
    "start_time": "2022-03-19T10:05:31.718Z"
   },
   {
    "duration": 7,
    "start_time": "2022-03-19T10:05:33.593Z"
   },
   {
    "duration": 7,
    "start_time": "2022-03-19T10:05:35.063Z"
   },
   {
    "duration": 11,
    "start_time": "2022-03-19T10:05:38.537Z"
   },
   {
    "duration": 7,
    "start_time": "2022-03-19T10:05:40.466Z"
   },
   {
    "duration": 18,
    "start_time": "2022-03-19T10:05:42.507Z"
   },
   {
    "duration": 15,
    "start_time": "2022-03-19T10:05:44.537Z"
   },
   {
    "duration": 6,
    "start_time": "2022-03-19T10:05:46.181Z"
   },
   {
    "duration": 9,
    "start_time": "2022-03-19T10:05:52.300Z"
   },
   {
    "duration": 9,
    "start_time": "2022-03-19T10:05:53.847Z"
   },
   {
    "duration": 22,
    "start_time": "2022-03-19T10:05:56.702Z"
   },
   {
    "duration": 13,
    "start_time": "2022-03-19T10:06:00.522Z"
   },
   {
    "duration": 19,
    "start_time": "2022-03-19T10:06:03.530Z"
   },
   {
    "duration": 894,
    "start_time": "2022-03-19T10:11:34.866Z"
   },
   {
    "duration": 104,
    "start_time": "2022-03-19T10:11:56.472Z"
   },
   {
    "duration": 18,
    "start_time": "2022-03-19T10:12:02.943Z"
   },
   {
    "duration": 16,
    "start_time": "2022-03-19T10:12:07.169Z"
   },
   {
    "duration": 5,
    "start_time": "2022-03-19T10:12:11.641Z"
   },
   {
    "duration": 41,
    "start_time": "2022-03-19T10:12:14.017Z"
   },
   {
    "duration": 14,
    "start_time": "2022-03-19T10:12:21.233Z"
   },
   {
    "duration": 12,
    "start_time": "2022-03-19T10:12:25.558Z"
   },
   {
    "duration": 12,
    "start_time": "2022-03-19T10:12:35.765Z"
   },
   {
    "duration": 18,
    "start_time": "2022-03-19T10:12:38.021Z"
   },
   {
    "duration": 8,
    "start_time": "2022-03-19T10:12:41.748Z"
   },
   {
    "duration": 8,
    "start_time": "2022-03-19T10:12:43.048Z"
   },
   {
    "duration": 10,
    "start_time": "2022-03-19T10:12:45.055Z"
   },
   {
    "duration": 13,
    "start_time": "2022-03-19T10:12:47.028Z"
   },
   {
    "duration": 6,
    "start_time": "2022-03-19T10:12:49.014Z"
   },
   {
    "duration": 17,
    "start_time": "2022-03-19T10:12:51.081Z"
   },
   {
    "duration": 24,
    "start_time": "2022-03-19T10:12:54.749Z"
   },
   {
    "duration": 7,
    "start_time": "2022-03-19T10:12:57.032Z"
   },
   {
    "duration": 10,
    "start_time": "2022-03-19T10:12:59.563Z"
   },
   {
    "duration": 9,
    "start_time": "2022-03-19T10:13:01.487Z"
   },
   {
    "duration": 13,
    "start_time": "2022-03-19T10:13:04.082Z"
   },
   {
    "duration": 16,
    "start_time": "2022-03-19T10:13:08.281Z"
   },
   {
    "duration": 17,
    "start_time": "2022-03-19T10:13:19.674Z"
   },
   {
    "duration": 199,
    "start_time": "2022-03-19T10:13:37.279Z"
   },
   {
    "duration": 16,
    "start_time": "2022-03-19T10:13:42.889Z"
   },
   {
    "duration": 50,
    "start_time": "2022-03-19T10:13:50.231Z"
   },
   {
    "duration": 9,
    "start_time": "2022-03-19T10:13:53.260Z"
   },
   {
    "duration": 6,
    "start_time": "2022-03-19T10:13:55.943Z"
   },
   {
    "duration": 933,
    "start_time": "2022-03-19T10:13:58.424Z"
   },
   {
    "duration": 10,
    "start_time": "2022-03-19T10:14:26.691Z"
   },
   {
    "duration": 1985,
    "start_time": "2022-03-19T10:14:32.492Z"
   },
   {
    "duration": 4,
    "start_time": "2022-03-19T10:16:07.028Z"
   },
   {
    "duration": 887,
    "start_time": "2022-03-19T10:16:12.431Z"
   },
   {
    "duration": 4,
    "start_time": "2022-03-19T10:17:42.645Z"
   },
   {
    "duration": 27,
    "start_time": "2022-03-19T10:17:44.488Z"
   },
   {
    "duration": 4,
    "start_time": "2022-03-19T10:22:40.031Z"
   },
   {
    "duration": 18,
    "start_time": "2022-03-19T10:22:41.462Z"
   },
   {
    "duration": 26,
    "start_time": "2022-03-19T10:24:24.028Z"
   },
   {
    "duration": 6,
    "start_time": "2022-03-19T10:26:32.915Z"
   },
   {
    "duration": 5,
    "start_time": "2022-03-19T10:26:45.784Z"
   },
   {
    "duration": 3630,
    "start_time": "2022-03-19T10:26:55.089Z"
   },
   {
    "duration": 10533,
    "start_time": "2022-03-19T10:35:10.579Z"
   },
   {
    "duration": 11,
    "start_time": "2022-03-19T10:35:57.041Z"
   },
   {
    "duration": 4141,
    "start_time": "2022-03-19T10:36:37.948Z"
   },
   {
    "duration": 22,
    "start_time": "2022-03-19T10:36:52.388Z"
   },
   {
    "duration": 13,
    "start_time": "2022-03-19T10:37:14.013Z"
   },
   {
    "duration": 69,
    "start_time": "2022-03-19T10:37:24.788Z"
   },
   {
    "duration": 11,
    "start_time": "2022-03-19T10:37:27.190Z"
   },
   {
    "duration": 21,
    "start_time": "2022-03-19T10:37:30.238Z"
   },
   {
    "duration": 5,
    "start_time": "2022-03-19T10:37:32.661Z"
   },
   {
    "duration": 31,
    "start_time": "2022-03-19T10:37:33.905Z"
   },
   {
    "duration": 13,
    "start_time": "2022-03-19T10:37:36.143Z"
   },
   {
    "duration": 15,
    "start_time": "2022-03-19T10:37:38.505Z"
   },
   {
    "duration": 10,
    "start_time": "2022-03-19T10:37:40.445Z"
   },
   {
    "duration": 16,
    "start_time": "2022-03-19T10:37:42.143Z"
   },
   {
    "duration": 7,
    "start_time": "2022-03-19T10:37:44.545Z"
   },
   {
    "duration": 7,
    "start_time": "2022-03-19T10:37:45.652Z"
   },
   {
    "duration": 8,
    "start_time": "2022-03-19T10:37:47.710Z"
   },
   {
    "duration": 12,
    "start_time": "2022-03-19T10:37:50.178Z"
   },
   {
    "duration": 5,
    "start_time": "2022-03-19T10:37:51.524Z"
   },
   {
    "duration": 15,
    "start_time": "2022-03-19T10:37:53.348Z"
   },
   {
    "duration": 13,
    "start_time": "2022-03-19T10:37:56.044Z"
   },
   {
    "duration": 5,
    "start_time": "2022-03-19T10:37:57.842Z"
   },
   {
    "duration": 9,
    "start_time": "2022-03-19T10:38:00.245Z"
   },
   {
    "duration": 10,
    "start_time": "2022-03-19T10:38:01.649Z"
   },
   {
    "duration": 16,
    "start_time": "2022-03-19T10:38:03.278Z"
   },
   {
    "duration": 18,
    "start_time": "2022-03-19T10:38:05.711Z"
   },
   {
    "duration": 6,
    "start_time": "2022-03-19T10:41:10.788Z"
   },
   {
    "duration": 8,
    "start_time": "2022-03-19T10:41:13.803Z"
   },
   {
    "duration": 11,
    "start_time": "2022-03-19T10:41:21.768Z"
   },
   {
    "duration": 3,
    "start_time": "2022-03-19T10:41:26.679Z"
   },
   {
    "duration": 17,
    "start_time": "2022-03-19T10:41:28.465Z"
   },
   {
    "duration": 18,
    "start_time": "2022-03-19T10:41:32.704Z"
   },
   {
    "duration": 6,
    "start_time": "2022-03-19T10:41:38.175Z"
   },
   {
    "duration": 4,
    "start_time": "2022-03-19T10:42:20.584Z"
   },
   {
    "duration": 17,
    "start_time": "2022-03-19T10:42:21.547Z"
   },
   {
    "duration": 16,
    "start_time": "2022-03-19T10:44:17.094Z"
   },
   {
    "duration": 7524,
    "start_time": "2022-03-19T10:55:49.034Z"
   },
   {
    "duration": 7836,
    "start_time": "2022-03-19T11:03:37.626Z"
   },
   {
    "duration": 19,
    "start_time": "2022-03-19T11:03:55.145Z"
   },
   {
    "duration": 193,
    "start_time": "2022-03-19T11:31:43.931Z"
   },
   {
    "duration": 190,
    "start_time": "2022-03-19T11:31:51.482Z"
   },
   {
    "duration": 204,
    "start_time": "2022-03-19T11:32:13.766Z"
   },
   {
    "duration": 108,
    "start_time": "2022-03-19T11:32:44.367Z"
   },
   {
    "duration": 15,
    "start_time": "2022-03-19T11:32:46.256Z"
   },
   {
    "duration": 21,
    "start_time": "2022-03-19T11:32:48.671Z"
   },
   {
    "duration": 4,
    "start_time": "2022-03-19T11:32:50.588Z"
   },
   {
    "duration": 28,
    "start_time": "2022-03-19T11:32:52.481Z"
   },
   {
    "duration": 12,
    "start_time": "2022-03-19T11:32:54.789Z"
   },
   {
    "duration": 10,
    "start_time": "2022-03-19T11:32:56.924Z"
   },
   {
    "duration": 10,
    "start_time": "2022-03-19T11:32:58.657Z"
   },
   {
    "duration": 14,
    "start_time": "2022-03-19T11:33:00.197Z"
   },
   {
    "duration": 5,
    "start_time": "2022-03-19T11:33:02.522Z"
   },
   {
    "duration": 7,
    "start_time": "2022-03-19T11:33:04.236Z"
   },
   {
    "duration": 5,
    "start_time": "2022-03-19T11:33:06.790Z"
   },
   {
    "duration": 6,
    "start_time": "2022-03-19T11:33:08.845Z"
   },
   {
    "duration": 5,
    "start_time": "2022-03-19T11:33:12.079Z"
   },
   {
    "duration": 6,
    "start_time": "2022-03-19T11:33:19.572Z"
   },
   {
    "duration": 68,
    "start_time": "2022-03-19T11:33:25.705Z"
   },
   {
    "duration": 12,
    "start_time": "2022-03-19T11:33:27.500Z"
   },
   {
    "duration": 15,
    "start_time": "2022-03-19T11:33:29.870Z"
   },
   {
    "duration": 4,
    "start_time": "2022-03-19T11:33:31.668Z"
   },
   {
    "duration": 28,
    "start_time": "2022-03-19T11:33:33.337Z"
   },
   {
    "duration": 12,
    "start_time": "2022-03-19T11:33:35.703Z"
   },
   {
    "duration": 10,
    "start_time": "2022-03-19T11:33:38.047Z"
   },
   {
    "duration": 10,
    "start_time": "2022-03-19T11:33:39.852Z"
   },
   {
    "duration": 13,
    "start_time": "2022-03-19T11:33:41.504Z"
   },
   {
    "duration": 6,
    "start_time": "2022-03-19T11:33:44.215Z"
   },
   {
    "duration": 7,
    "start_time": "2022-03-19T11:33:48.471Z"
   },
   {
    "duration": 6,
    "start_time": "2022-03-19T11:33:50.501Z"
   },
   {
    "duration": 7,
    "start_time": "2022-03-19T11:33:52.866Z"
   },
   {
    "duration": 14,
    "start_time": "2022-03-19T11:33:54.352Z"
   },
   {
    "duration": 6,
    "start_time": "2022-03-19T11:33:56.132Z"
   },
   {
    "duration": 13,
    "start_time": "2022-03-19T11:33:57.573Z"
   },
   {
    "duration": 16,
    "start_time": "2022-03-19T11:33:59.754Z"
   },
   {
    "duration": 5,
    "start_time": "2022-03-19T11:34:01.485Z"
   },
   {
    "duration": 12,
    "start_time": "2022-03-19T11:34:03.486Z"
   },
   {
    "duration": 8,
    "start_time": "2022-03-19T11:34:05.155Z"
   },
   {
    "duration": 16,
    "start_time": "2022-03-19T11:34:06.945Z"
   },
   {
    "duration": 20,
    "start_time": "2022-03-19T11:34:08.832Z"
   },
   {
    "duration": 16,
    "start_time": "2022-03-19T11:39:19.815Z"
   },
   {
    "duration": 20,
    "start_time": "2022-03-19T11:40:07.119Z"
   },
   {
    "duration": 6,
    "start_time": "2022-03-19T11:40:12.108Z"
   },
   {
    "duration": 6,
    "start_time": "2022-03-19T11:40:14.389Z"
   },
   {
    "duration": 11,
    "start_time": "2022-03-19T11:40:18.775Z"
   },
   {
    "duration": 3,
    "start_time": "2022-03-19T11:40:22.127Z"
   },
   {
    "duration": 17,
    "start_time": "2022-03-19T11:40:23.281Z"
   },
   {
    "duration": 13,
    "start_time": "2022-03-19T11:40:30.669Z"
   },
   {
    "duration": 18,
    "start_time": "2022-03-19T11:40:36.282Z"
   },
   {
    "duration": 211,
    "start_time": "2022-03-19T11:40:43.664Z"
   },
   {
    "duration": 184,
    "start_time": "2022-03-19T11:42:05.510Z"
   },
   {
    "duration": 110,
    "start_time": "2022-03-19T11:53:23.048Z"
   },
   {
    "duration": 15,
    "start_time": "2022-03-19T11:53:24.994Z"
   },
   {
    "duration": 20,
    "start_time": "2022-03-19T11:53:27.891Z"
   },
   {
    "duration": 5,
    "start_time": "2022-03-19T11:53:29.934Z"
   },
   {
    "duration": 28,
    "start_time": "2022-03-19T11:53:31.881Z"
   },
   {
    "duration": 12,
    "start_time": "2022-03-19T11:53:33.735Z"
   },
   {
    "duration": 9,
    "start_time": "2022-03-19T11:53:37.537Z"
   },
   {
    "duration": 10,
    "start_time": "2022-03-19T11:53:39.731Z"
   },
   {
    "duration": 13,
    "start_time": "2022-03-19T11:53:45.191Z"
   },
   {
    "duration": 5,
    "start_time": "2022-03-19T11:53:49.577Z"
   },
   {
    "duration": 6,
    "start_time": "2022-03-19T11:53:51.511Z"
   },
   {
    "duration": 6,
    "start_time": "2022-03-19T11:53:52.845Z"
   },
   {
    "duration": 10,
    "start_time": "2022-03-19T11:53:54.713Z"
   },
   {
    "duration": 5,
    "start_time": "2022-03-19T11:53:55.948Z"
   },
   {
    "duration": 14,
    "start_time": "2022-03-19T11:53:58.377Z"
   },
   {
    "duration": 14,
    "start_time": "2022-03-19T11:54:03.032Z"
   },
   {
    "duration": 5,
    "start_time": "2022-03-19T11:54:04.783Z"
   },
   {
    "duration": 9,
    "start_time": "2022-03-19T11:54:07.564Z"
   },
   {
    "duration": 8,
    "start_time": "2022-03-19T11:54:09.256Z"
   },
   {
    "duration": 13,
    "start_time": "2022-03-19T11:54:11.903Z"
   },
   {
    "duration": 17,
    "start_time": "2022-03-19T11:54:15.477Z"
   },
   {
    "duration": 21,
    "start_time": "2022-03-19T11:54:16.868Z"
   },
   {
    "duration": 6,
    "start_time": "2022-03-19T11:54:18.916Z"
   },
   {
    "duration": 6,
    "start_time": "2022-03-19T11:54:20.835Z"
   },
   {
    "duration": 3,
    "start_time": "2022-03-19T11:54:23.720Z"
   },
   {
    "duration": 17,
    "start_time": "2022-03-19T11:54:26.414Z"
   },
   {
    "duration": 16,
    "start_time": "2022-03-19T11:54:34.573Z"
   },
   {
    "duration": 26,
    "start_time": "2022-03-19T11:54:40.334Z"
   },
   {
    "duration": 193,
    "start_time": "2022-03-19T11:54:44.526Z"
   },
   {
    "duration": 295,
    "start_time": "2022-03-19T11:55:17.017Z"
   },
   {
    "duration": 217,
    "start_time": "2022-03-19T11:55:28.254Z"
   },
   {
    "duration": 235,
    "start_time": "2022-03-19T11:55:35.096Z"
   },
   {
    "duration": 251,
    "start_time": "2022-03-19T11:55:37.532Z"
   },
   {
    "duration": 201,
    "start_time": "2022-03-19T11:55:47.927Z"
   },
   {
    "duration": 209,
    "start_time": "2022-03-19T11:56:10.723Z"
   },
   {
    "duration": 14,
    "start_time": "2022-03-19T11:56:15.853Z"
   },
   {
    "duration": 200,
    "start_time": "2022-03-19T11:56:50.201Z"
   },
   {
    "duration": 26,
    "start_time": "2022-03-19T11:56:59.670Z"
   },
   {
    "duration": 10,
    "start_time": "2022-03-19T11:58:46.585Z"
   },
   {
    "duration": 5533,
    "start_time": "2022-03-19T12:01:36.594Z"
   },
   {
    "duration": 3844,
    "start_time": "2022-03-19T12:03:07.040Z"
   },
   {
    "duration": 3432,
    "start_time": "2022-03-19T12:03:45.151Z"
   },
   {
    "duration": 12,
    "start_time": "2022-03-19T12:06:02.024Z"
   },
   {
    "duration": 3652,
    "start_time": "2022-03-19T12:06:12.427Z"
   },
   {
    "duration": 71,
    "start_time": "2022-03-19T12:06:23.830Z"
   },
   {
    "duration": 16,
    "start_time": "2022-03-19T12:06:25.980Z"
   },
   {
    "duration": 14,
    "start_time": "2022-03-19T12:06:28.956Z"
   },
   {
    "duration": 4,
    "start_time": "2022-03-19T12:06:31.588Z"
   },
   {
    "duration": 36,
    "start_time": "2022-03-19T12:06:34.331Z"
   },
   {
    "duration": 15,
    "start_time": "2022-03-19T12:06:36.203Z"
   },
   {
    "duration": 14,
    "start_time": "2022-03-19T12:06:39.177Z"
   },
   {
    "duration": 12,
    "start_time": "2022-03-19T12:06:40.454Z"
   },
   {
    "duration": 13,
    "start_time": "2022-03-19T12:06:42.142Z"
   },
   {
    "duration": 5,
    "start_time": "2022-03-19T12:06:44.371Z"
   },
   {
    "duration": 7,
    "start_time": "2022-03-19T12:06:45.770Z"
   },
   {
    "duration": 10,
    "start_time": "2022-03-19T12:06:49.074Z"
   },
   {
    "duration": 11,
    "start_time": "2022-03-19T12:06:50.519Z"
   },
   {
    "duration": 6,
    "start_time": "2022-03-19T12:06:52.036Z"
   },
   {
    "duration": 15,
    "start_time": "2022-03-19T12:06:54.508Z"
   },
   {
    "duration": 22,
    "start_time": "2022-03-19T12:06:57.202Z"
   },
   {
    "duration": 5,
    "start_time": "2022-03-19T12:06:59.919Z"
   },
   {
    "duration": 11,
    "start_time": "2022-03-19T12:07:02.402Z"
   },
   {
    "duration": 15,
    "start_time": "2022-03-19T12:07:04.486Z"
   },
   {
    "duration": 13,
    "start_time": "2022-03-19T12:07:06.005Z"
   },
   {
    "duration": 26,
    "start_time": "2022-03-19T12:07:08.146Z"
   },
   {
    "duration": 27,
    "start_time": "2022-03-19T12:07:09.620Z"
   },
   {
    "duration": 8,
    "start_time": "2022-03-19T12:07:11.971Z"
   },
   {
    "duration": 6,
    "start_time": "2022-03-19T12:07:14.174Z"
   },
   {
    "duration": 15,
    "start_time": "2022-03-19T12:07:16.953Z"
   },
   {
    "duration": 4,
    "start_time": "2022-03-19T12:07:20.838Z"
   },
   {
    "duration": 24,
    "start_time": "2022-03-19T12:07:22.862Z"
   },
   {
    "duration": 12,
    "start_time": "2022-03-19T12:07:26.141Z"
   },
   {
    "duration": 16,
    "start_time": "2022-03-19T12:07:28.645Z"
   },
   {
    "duration": 41,
    "start_time": "2022-03-19T12:07:31.842Z"
   },
   {
    "duration": 10,
    "start_time": "2022-03-19T12:07:36.694Z"
   },
   {
    "duration": 9,
    "start_time": "2022-03-19T12:07:40.644Z"
   },
   {
    "duration": 8,
    "start_time": "2022-03-19T12:08:17.470Z"
   },
   {
    "duration": 8,
    "start_time": "2022-03-19T12:10:05.174Z"
   },
   {
    "duration": 10,
    "start_time": "2022-03-19T12:10:15.940Z"
   },
   {
    "duration": 5,
    "start_time": "2022-03-19T12:10:38.198Z"
   },
   {
    "duration": 9,
    "start_time": "2022-03-19T12:12:58.696Z"
   },
   {
    "duration": 10,
    "start_time": "2022-03-19T12:13:13.761Z"
   },
   {
    "duration": 20,
    "start_time": "2022-03-19T12:13:45.755Z"
   },
   {
    "duration": 3430,
    "start_time": "2022-03-19T12:14:34.844Z"
   },
   {
    "duration": 86,
    "start_time": "2022-03-19T12:15:01.496Z"
   },
   {
    "duration": 12,
    "start_time": "2022-03-19T12:15:03.418Z"
   },
   {
    "duration": 16,
    "start_time": "2022-03-19T12:15:05.483Z"
   },
   {
    "duration": 4,
    "start_time": "2022-03-19T12:15:07.531Z"
   },
   {
    "duration": 28,
    "start_time": "2022-03-19T12:15:08.685Z"
   },
   {
    "duration": 12,
    "start_time": "2022-03-19T12:15:10.931Z"
   },
   {
    "duration": 11,
    "start_time": "2022-03-19T12:15:13.453Z"
   },
   {
    "duration": 10,
    "start_time": "2022-03-19T12:15:21.875Z"
   },
   {
    "duration": 14,
    "start_time": "2022-03-19T12:15:24.203Z"
   },
   {
    "duration": 5,
    "start_time": "2022-03-19T12:15:26.225Z"
   },
   {
    "duration": 7,
    "start_time": "2022-03-19T12:15:27.590Z"
   },
   {
    "duration": 6,
    "start_time": "2022-03-19T12:15:29.512Z"
   },
   {
    "duration": 10,
    "start_time": "2022-03-19T12:15:30.857Z"
   },
   {
    "duration": 6,
    "start_time": "2022-03-19T12:15:32.644Z"
   },
   {
    "duration": 13,
    "start_time": "2022-03-19T12:15:33.724Z"
   },
   {
    "duration": 15,
    "start_time": "2022-03-19T12:15:35.649Z"
   },
   {
    "duration": 5,
    "start_time": "2022-03-19T12:15:37.261Z"
   },
   {
    "duration": 9,
    "start_time": "2022-03-19T12:15:38.931Z"
   },
   {
    "duration": 10,
    "start_time": "2022-03-19T12:15:40.231Z"
   },
   {
    "duration": 17,
    "start_time": "2022-03-19T12:15:42.049Z"
   },
   {
    "duration": 25,
    "start_time": "2022-03-19T12:15:44.023Z"
   },
   {
    "duration": 28,
    "start_time": "2022-03-19T12:15:45.318Z"
   },
   {
    "duration": 7,
    "start_time": "2022-03-19T12:15:47.963Z"
   },
   {
    "duration": 7,
    "start_time": "2022-03-19T12:15:49.836Z"
   },
   {
    "duration": 12,
    "start_time": "2022-03-19T12:15:53.893Z"
   },
   {
    "duration": 4,
    "start_time": "2022-03-19T12:15:58.876Z"
   },
   {
    "duration": 18,
    "start_time": "2022-03-19T12:16:00.096Z"
   },
   {
    "duration": 16,
    "start_time": "2022-03-19T12:16:05.274Z"
   },
   {
    "duration": 25,
    "start_time": "2022-03-19T12:16:08.618Z"
   },
   {
    "duration": 27,
    "start_time": "2022-03-19T13:22:49.150Z"
   },
   {
    "duration": 28,
    "start_time": "2022-03-19T13:29:55.655Z"
   },
   {
    "duration": 10,
    "start_time": "2022-03-19T13:30:04.755Z"
   },
   {
    "duration": 7,
    "start_time": "2022-03-19T13:30:15.750Z"
   },
   {
    "duration": 6,
    "start_time": "2022-03-19T13:30:17.960Z"
   },
   {
    "duration": 19,
    "start_time": "2022-03-19T13:30:24.041Z"
   },
   {
    "duration": 7,
    "start_time": "2022-03-19T13:31:12.931Z"
   },
   {
    "duration": 6,
    "start_time": "2022-03-19T13:31:34.394Z"
   },
   {
    "duration": 5,
    "start_time": "2022-03-19T13:31:54.405Z"
   },
   {
    "duration": 8,
    "start_time": "2022-03-19T13:33:26.971Z"
   },
   {
    "duration": 11,
    "start_time": "2022-03-19T13:33:44.196Z"
   },
   {
    "duration": 8,
    "start_time": "2022-03-19T13:33:49.061Z"
   },
   {
    "duration": 11,
    "start_time": "2022-03-19T13:34:00.170Z"
   },
   {
    "duration": 9,
    "start_time": "2022-03-19T13:40:00.714Z"
   },
   {
    "duration": 8,
    "start_time": "2022-03-19T13:40:18.853Z"
   },
   {
    "duration": 6,
    "start_time": "2022-03-19T13:40:58.420Z"
   },
   {
    "duration": 25,
    "start_time": "2022-03-19T13:42:14.639Z"
   },
   {
    "duration": 9,
    "start_time": "2022-03-19T13:45:19.728Z"
   },
   {
    "duration": 9,
    "start_time": "2022-03-19T13:45:54.986Z"
   },
   {
    "duration": 7,
    "start_time": "2022-03-19T13:47:16.058Z"
   },
   {
    "duration": 18,
    "start_time": "2022-03-19T13:47:18.126Z"
   },
   {
    "duration": 9,
    "start_time": "2022-03-19T13:49:42.798Z"
   },
   {
    "duration": 8,
    "start_time": "2022-03-19T13:49:57.367Z"
   },
   {
    "duration": 13,
    "start_time": "2022-03-19T13:50:32.236Z"
   },
   {
    "duration": 10,
    "start_time": "2022-03-19T13:51:27.950Z"
   },
   {
    "duration": 18,
    "start_time": "2022-03-19T13:51:41.617Z"
   },
   {
    "duration": 611,
    "start_time": "2022-03-19T17:52:20.391Z"
   },
   {
    "duration": 20,
    "start_time": "2022-03-19T17:52:21.005Z"
   },
   {
    "duration": 25,
    "start_time": "2022-03-19T17:52:21.027Z"
   },
   {
    "duration": 29,
    "start_time": "2022-03-19T17:52:21.055Z"
   },
   {
    "duration": 67,
    "start_time": "2022-03-19T17:52:21.086Z"
   },
   {
    "duration": 26,
    "start_time": "2022-03-19T17:52:21.155Z"
   },
   {
    "duration": 21,
    "start_time": "2022-03-19T17:52:21.183Z"
   },
   {
    "duration": 14,
    "start_time": "2022-03-19T17:52:21.206Z"
   },
   {
    "duration": 38,
    "start_time": "2022-03-19T17:52:21.222Z"
   },
   {
    "duration": 9,
    "start_time": "2022-03-19T17:52:21.285Z"
   },
   {
    "duration": 23,
    "start_time": "2022-03-19T17:52:21.296Z"
   },
   {
    "duration": 16,
    "start_time": "2022-03-19T17:52:21.322Z"
   },
   {
    "duration": 30,
    "start_time": "2022-03-19T17:52:21.340Z"
   },
   {
    "duration": 15,
    "start_time": "2022-03-19T17:52:21.372Z"
   },
   {
    "duration": 34,
    "start_time": "2022-03-19T17:52:21.389Z"
   },
   {
    "duration": 45,
    "start_time": "2022-03-19T17:52:21.426Z"
   },
   {
    "duration": 22,
    "start_time": "2022-03-19T17:52:21.474Z"
   },
   {
    "duration": 23,
    "start_time": "2022-03-19T17:52:21.498Z"
   },
   {
    "duration": 22,
    "start_time": "2022-03-19T17:52:21.524Z"
   },
   {
    "duration": 40,
    "start_time": "2022-03-19T17:52:21.549Z"
   },
   {
    "duration": 28,
    "start_time": "2022-03-19T17:52:21.591Z"
   },
   {
    "duration": 51,
    "start_time": "2022-03-19T17:52:21.623Z"
   },
   {
    "duration": 18,
    "start_time": "2022-03-19T17:52:21.677Z"
   },
   {
    "duration": 33,
    "start_time": "2022-03-19T17:52:21.697Z"
   },
   {
    "duration": 38,
    "start_time": "2022-03-19T17:52:21.732Z"
   },
   {
    "duration": 20,
    "start_time": "2022-03-19T17:52:21.772Z"
   },
   {
    "duration": 35,
    "start_time": "2022-03-19T17:52:21.795Z"
   },
   {
    "duration": 20,
    "start_time": "2022-03-19T17:52:21.836Z"
   },
   {
    "duration": 41,
    "start_time": "2022-03-19T17:52:21.858Z"
   },
   {
    "duration": 49,
    "start_time": "2022-03-19T17:52:21.901Z"
   },
   {
    "duration": 39,
    "start_time": "2022-03-19T17:52:21.952Z"
   },
   {
    "duration": 18,
    "start_time": "2022-03-19T17:52:21.994Z"
   },
   {
    "duration": 15,
    "start_time": "2022-03-19T17:52:22.015Z"
   },
   {
    "duration": 55,
    "start_time": "2022-03-19T17:52:22.032Z"
   },
   {
    "duration": 14,
    "start_time": "2022-03-19T17:52:22.089Z"
   },
   {
    "duration": 12,
    "start_time": "2022-03-19T17:52:22.106Z"
   },
   {
    "duration": 62,
    "start_time": "2022-03-19T17:52:22.121Z"
   },
   {
    "duration": 13,
    "start_time": "2022-03-19T17:52:22.186Z"
   },
   {
    "duration": 13,
    "start_time": "2022-03-19T17:52:22.202Z"
   },
   {
    "duration": 70,
    "start_time": "2022-03-19T17:52:22.217Z"
   },
   {
    "duration": 20,
    "start_time": "2022-03-19T17:52:22.289Z"
   },
   {
    "duration": 24,
    "start_time": "2022-03-19T17:52:22.311Z"
   },
   {
    "duration": 56,
    "start_time": "2022-03-19T17:52:22.337Z"
   },
   {
    "duration": 86,
    "start_time": "2022-03-19T17:52:22.395Z"
   },
   {
    "duration": 595,
    "start_time": "2022-03-19T17:52:43.198Z"
   },
   {
    "duration": 20,
    "start_time": "2022-03-19T17:52:43.796Z"
   },
   {
    "duration": 26,
    "start_time": "2022-03-19T17:52:43.819Z"
   },
   {
    "duration": 28,
    "start_time": "2022-03-19T17:52:43.847Z"
   },
   {
    "duration": 50,
    "start_time": "2022-03-19T17:52:43.880Z"
   },
   {
    "duration": 47,
    "start_time": "2022-03-19T17:52:43.932Z"
   },
   {
    "duration": 16,
    "start_time": "2022-03-19T17:52:43.982Z"
   },
   {
    "duration": 13,
    "start_time": "2022-03-19T17:52:44.001Z"
   },
   {
    "duration": 20,
    "start_time": "2022-03-19T17:52:44.016Z"
   },
   {
    "duration": 47,
    "start_time": "2022-03-19T17:52:44.038Z"
   },
   {
    "duration": 10,
    "start_time": "2022-03-19T17:52:44.090Z"
   },
   {
    "duration": 13,
    "start_time": "2022-03-19T17:52:44.103Z"
   },
   {
    "duration": 28,
    "start_time": "2022-03-19T17:52:44.119Z"
   },
   {
    "duration": 33,
    "start_time": "2022-03-19T17:52:44.153Z"
   },
   {
    "duration": 31,
    "start_time": "2022-03-19T17:52:44.188Z"
   },
   {
    "duration": 25,
    "start_time": "2022-03-19T17:52:44.221Z"
   },
   {
    "duration": 12,
    "start_time": "2022-03-19T17:52:44.248Z"
   },
   {
    "duration": 17,
    "start_time": "2022-03-19T17:52:44.274Z"
   },
   {
    "duration": 12,
    "start_time": "2022-03-19T17:52:44.294Z"
   },
   {
    "duration": 24,
    "start_time": "2022-03-19T17:52:44.309Z"
   },
   {
    "duration": 65,
    "start_time": "2022-03-19T17:52:44.336Z"
   },
   {
    "duration": 30,
    "start_time": "2022-03-19T17:52:44.403Z"
   },
   {
    "duration": 9,
    "start_time": "2022-03-19T17:52:44.436Z"
   },
   {
    "duration": 42,
    "start_time": "2022-03-19T17:52:44.447Z"
   },
   {
    "duration": 28,
    "start_time": "2022-03-19T17:52:44.492Z"
   },
   {
    "duration": 7,
    "start_time": "2022-03-19T17:52:44.523Z"
   },
   {
    "duration": 57,
    "start_time": "2022-03-19T17:52:44.532Z"
   },
   {
    "duration": 21,
    "start_time": "2022-03-19T17:52:44.591Z"
   },
   {
    "duration": 24,
    "start_time": "2022-03-19T17:52:44.615Z"
   },
   {
    "duration": 82,
    "start_time": "2022-03-19T17:52:44.642Z"
   },
   {
    "duration": 17,
    "start_time": "2022-03-19T17:52:44.726Z"
   },
   {
    "duration": 47,
    "start_time": "2022-03-19T17:52:44.745Z"
   },
   {
    "duration": 18,
    "start_time": "2022-03-19T17:52:44.795Z"
   },
   {
    "duration": 32,
    "start_time": "2022-03-19T17:52:44.816Z"
   },
   {
    "duration": 35,
    "start_time": "2022-03-19T17:52:44.850Z"
   },
   {
    "duration": 8,
    "start_time": "2022-03-19T17:52:44.887Z"
   },
   {
    "duration": 29,
    "start_time": "2022-03-19T17:52:44.897Z"
   },
   {
    "duration": 49,
    "start_time": "2022-03-19T17:52:44.928Z"
   },
   {
    "duration": 13,
    "start_time": "2022-03-19T17:52:44.980Z"
   },
   {
    "duration": 39,
    "start_time": "2022-03-19T17:52:44.995Z"
   },
   {
    "duration": 34,
    "start_time": "2022-03-19T17:52:45.041Z"
   },
   {
    "duration": 21,
    "start_time": "2022-03-19T17:52:45.077Z"
   },
   {
    "duration": 30,
    "start_time": "2022-03-19T17:52:45.100Z"
   },
   {
    "duration": 114,
    "start_time": "2022-03-19T20:19:19.897Z"
   },
   {
    "duration": 10,
    "start_time": "2022-03-19T20:19:25.719Z"
   },
   {
    "duration": 822,
    "start_time": "2022-03-19T20:19:34.553Z"
   },
   {
    "duration": 29,
    "start_time": "2022-03-19T20:19:35.378Z"
   },
   {
    "duration": 31,
    "start_time": "2022-03-19T20:19:35.410Z"
   },
   {
    "duration": 28,
    "start_time": "2022-03-19T20:19:35.444Z"
   },
   {
    "duration": 63,
    "start_time": "2022-03-19T20:19:35.475Z"
   },
   {
    "duration": 28,
    "start_time": "2022-03-19T20:19:35.541Z"
   },
   {
    "duration": 34,
    "start_time": "2022-03-19T20:19:35.571Z"
   },
   {
    "duration": 15,
    "start_time": "2022-03-19T20:19:35.607Z"
   },
   {
    "duration": 14,
    "start_time": "2022-03-19T20:19:35.624Z"
   },
   {
    "duration": 20,
    "start_time": "2022-03-19T20:19:35.670Z"
   },
   {
    "duration": 7,
    "start_time": "2022-03-19T20:19:35.693Z"
   },
   {
    "duration": 13,
    "start_time": "2022-03-19T20:19:35.703Z"
   },
   {
    "duration": 10,
    "start_time": "2022-03-19T20:19:35.719Z"
   },
   {
    "duration": 18,
    "start_time": "2022-03-19T20:19:35.768Z"
   },
   {
    "duration": 7,
    "start_time": "2022-03-19T20:19:35.789Z"
   },
   {
    "duration": 22,
    "start_time": "2022-03-19T20:19:35.798Z"
   },
   {
    "duration": 59,
    "start_time": "2022-03-19T20:19:35.823Z"
   },
   {
    "duration": 9,
    "start_time": "2022-03-19T20:19:35.885Z"
   },
   {
    "duration": 14,
    "start_time": "2022-03-19T20:19:35.897Z"
   },
   {
    "duration": 53,
    "start_time": "2022-03-19T20:19:35.913Z"
   },
   {
    "duration": 22,
    "start_time": "2022-03-19T20:19:35.969Z"
   },
   {
    "duration": 26,
    "start_time": "2022-03-19T20:19:35.993Z"
   },
   {
    "duration": 61,
    "start_time": "2022-03-19T20:19:36.022Z"
   },
   {
    "duration": 9,
    "start_time": "2022-03-19T20:19:36.085Z"
   },
   {
    "duration": 12,
    "start_time": "2022-03-19T20:19:36.097Z"
   },
   {
    "duration": 22,
    "start_time": "2022-03-19T20:19:36.111Z"
   },
   {
    "duration": 6,
    "start_time": "2022-03-19T20:19:36.168Z"
   },
   {
    "duration": 28,
    "start_time": "2022-03-19T20:19:36.179Z"
   },
   {
    "duration": 21,
    "start_time": "2022-03-19T20:19:36.209Z"
   },
   {
    "duration": 55,
    "start_time": "2022-03-19T20:19:36.232Z"
   },
   {
    "duration": 50,
    "start_time": "2022-03-19T20:19:36.290Z"
   },
   {
    "duration": 16,
    "start_time": "2022-03-19T20:19:36.367Z"
   },
   {
    "duration": 11,
    "start_time": "2022-03-19T20:19:36.385Z"
   },
   {
    "duration": 7,
    "start_time": "2022-03-19T20:19:36.399Z"
   },
   {
    "duration": 66,
    "start_time": "2022-03-19T20:19:36.408Z"
   },
   {
    "duration": 12,
    "start_time": "2022-03-19T20:19:36.477Z"
   },
   {
    "duration": 9,
    "start_time": "2022-03-19T20:19:36.491Z"
   },
   {
    "duration": 28,
    "start_time": "2022-03-19T20:19:36.502Z"
   },
   {
    "duration": 15,
    "start_time": "2022-03-19T20:19:36.569Z"
   },
   {
    "duration": 10,
    "start_time": "2022-03-19T20:19:36.587Z"
   },
   {
    "duration": 29,
    "start_time": "2022-03-19T20:19:36.599Z"
   },
   {
    "duration": 13,
    "start_time": "2022-03-19T20:19:36.668Z"
   },
   {
    "duration": 10,
    "start_time": "2022-03-19T20:19:36.683Z"
   },
   {
    "duration": 31,
    "start_time": "2022-03-19T20:19:36.696Z"
   },
   {
    "duration": 1705,
    "start_time": "2022-03-19T20:19:45.921Z"
   },
   {
    "duration": 25,
    "start_time": "2022-03-19T20:19:58.573Z"
   },
   {
    "duration": 81,
    "start_time": "2022-03-19T20:20:10.105Z"
   },
   {
    "duration": 19,
    "start_time": "2022-03-19T20:20:18.397Z"
   },
   {
    "duration": 37,
    "start_time": "2022-03-19T20:58:11.245Z"
   },
   {
    "duration": 32,
    "start_time": "2022-03-19T21:19:14.467Z"
   },
   {
    "duration": 15,
    "start_time": "2022-03-19T21:20:04.330Z"
   },
   {
    "duration": 6,
    "start_time": "2022-03-19T22:07:58.081Z"
   },
   {
    "duration": 5,
    "start_time": "2022-03-19T22:08:55.305Z"
   },
   {
    "duration": 119,
    "start_time": "2022-03-20T00:08:17.339Z"
   },
   {
    "duration": 41,
    "start_time": "2022-03-20T00:09:04.527Z"
   },
   {
    "duration": 460,
    "start_time": "2022-03-20T00:09:12.808Z"
   },
   {
    "duration": 21,
    "start_time": "2022-03-20T00:09:16.308Z"
   },
   {
    "duration": 13,
    "start_time": "2022-03-20T00:10:09.032Z"
   },
   {
    "duration": 139,
    "start_time": "2022-03-20T00:10:35.925Z"
   },
   {
    "duration": 26,
    "start_time": "2022-03-20T00:10:43.656Z"
   },
   {
    "duration": 136,
    "start_time": "2022-03-20T00:10:48.878Z"
   },
   {
    "duration": 43,
    "start_time": "2022-03-20T00:10:51.588Z"
   },
   {
    "duration": 46,
    "start_time": "2022-03-20T00:11:06.058Z"
   },
   {
    "duration": 5,
    "start_time": "2022-03-20T00:11:34.631Z"
   },
   {
    "duration": 131,
    "start_time": "2022-03-20T00:11:41.298Z"
   },
   {
    "duration": 18,
    "start_time": "2022-03-20T00:11:50.267Z"
   },
   {
    "duration": 119,
    "start_time": "2022-03-20T00:12:07.790Z"
   },
   {
    "duration": 12,
    "start_time": "2022-03-20T00:12:35.751Z"
   },
   {
    "duration": 105,
    "start_time": "2022-03-20T00:13:27.099Z"
   },
   {
    "duration": 2565,
    "start_time": "2022-03-20T00:13:30.653Z"
   },
   {
    "duration": 23,
    "start_time": "2022-03-20T00:14:01.971Z"
   },
   {
    "duration": 2136,
    "start_time": "2022-03-20T00:14:08.485Z"
   },
   {
    "duration": 10,
    "start_time": "2022-03-20T01:07:31.265Z"
   },
   {
    "duration": 471,
    "start_time": "2022-03-20T01:07:42.105Z"
   },
   {
    "duration": 12,
    "start_time": "2022-03-20T01:07:42.577Z"
   },
   {
    "duration": 17,
    "start_time": "2022-03-20T01:07:42.590Z"
   },
   {
    "duration": 3,
    "start_time": "2022-03-20T01:07:42.609Z"
   },
   {
    "duration": 43,
    "start_time": "2022-03-20T01:07:42.614Z"
   },
   {
    "duration": 12,
    "start_time": "2022-03-20T01:07:42.659Z"
   },
   {
    "duration": 10,
    "start_time": "2022-03-20T01:07:42.672Z"
   },
   {
    "duration": 9,
    "start_time": "2022-03-20T01:07:42.683Z"
   },
   {
    "duration": 12,
    "start_time": "2022-03-20T01:07:42.693Z"
   },
   {
    "duration": 6,
    "start_time": "2022-03-20T01:07:42.737Z"
   },
   {
    "duration": 13,
    "start_time": "2022-03-20T01:07:42.744Z"
   },
   {
    "duration": 8,
    "start_time": "2022-03-20T01:07:42.758Z"
   },
   {
    "duration": 13,
    "start_time": "2022-03-20T01:07:42.767Z"
   },
   {
    "duration": 5,
    "start_time": "2022-03-20T01:07:42.781Z"
   },
   {
    "duration": 16,
    "start_time": "2022-03-20T01:07:42.787Z"
   },
   {
    "duration": 43,
    "start_time": "2022-03-20T01:07:42.804Z"
   },
   {
    "duration": 5,
    "start_time": "2022-03-20T01:07:42.848Z"
   },
   {
    "duration": 10,
    "start_time": "2022-03-20T01:07:42.855Z"
   },
   {
    "duration": 11,
    "start_time": "2022-03-20T01:07:42.866Z"
   },
   {
    "duration": 12,
    "start_time": "2022-03-20T01:07:42.878Z"
   },
   {
    "duration": 20,
    "start_time": "2022-03-20T01:07:42.891Z"
   },
   {
    "duration": 43,
    "start_time": "2022-03-20T01:07:42.912Z"
   },
   {
    "duration": 6,
    "start_time": "2022-03-20T01:07:42.956Z"
   },
   {
    "duration": 9,
    "start_time": "2022-03-20T01:07:42.964Z"
   },
   {
    "duration": 7,
    "start_time": "2022-03-20T01:07:42.975Z"
   },
   {
    "duration": 21,
    "start_time": "2022-03-20T01:07:42.984Z"
   },
   {
    "duration": 12,
    "start_time": "2022-03-20T01:07:43.007Z"
   },
   {
    "duration": 12,
    "start_time": "2022-03-20T01:07:43.037Z"
   },
   {
    "duration": 14,
    "start_time": "2022-03-20T01:07:43.051Z"
   },
   {
    "duration": 26,
    "start_time": "2022-03-20T01:07:43.067Z"
   },
   {
    "duration": 12,
    "start_time": "2022-03-20T01:07:43.095Z"
   },
   {
    "duration": 34,
    "start_time": "2022-03-20T01:07:43.109Z"
   },
   {
    "duration": 5,
    "start_time": "2022-03-20T01:07:43.144Z"
   },
   {
    "duration": 22,
    "start_time": "2022-03-20T01:07:43.150Z"
   },
   {
    "duration": 7,
    "start_time": "2022-03-20T01:07:43.173Z"
   },
   {
    "duration": 13,
    "start_time": "2022-03-20T01:07:43.181Z"
   },
   {
    "duration": 20,
    "start_time": "2022-03-20T01:07:43.196Z"
   },
   {
    "duration": 9,
    "start_time": "2022-03-20T01:07:43.238Z"
   },
   {
    "duration": 11,
    "start_time": "2022-03-20T01:07:43.248Z"
   },
   {
    "duration": 18,
    "start_time": "2022-03-20T01:07:43.260Z"
   },
   {
    "duration": 9,
    "start_time": "2022-03-20T01:07:43.279Z"
   },
   {
    "duration": 6,
    "start_time": "2022-03-20T01:07:43.289Z"
   },
   {
    "duration": 43,
    "start_time": "2022-03-20T01:07:43.296Z"
   },
   {
    "duration": 15,
    "start_time": "2022-03-20T01:21:31.406Z"
   },
   {
    "duration": 512,
    "start_time": "2022-03-20T02:23:38.838Z"
   },
   {
    "duration": 12,
    "start_time": "2022-03-20T02:23:39.352Z"
   },
   {
    "duration": 18,
    "start_time": "2022-03-20T02:23:39.365Z"
   },
   {
    "duration": 4,
    "start_time": "2022-03-20T02:23:39.385Z"
   },
   {
    "duration": 55,
    "start_time": "2022-03-20T02:23:39.391Z"
   },
   {
    "duration": 16,
    "start_time": "2022-03-20T02:23:39.448Z"
   },
   {
    "duration": 11,
    "start_time": "2022-03-20T02:23:39.466Z"
   },
   {
    "duration": 9,
    "start_time": "2022-03-20T02:23:39.479Z"
   },
   {
    "duration": 12,
    "start_time": "2022-03-20T02:23:39.490Z"
   },
   {
    "duration": 37,
    "start_time": "2022-03-20T02:23:39.504Z"
   },
   {
    "duration": 9,
    "start_time": "2022-03-20T02:23:39.542Z"
   },
   {
    "duration": 9,
    "start_time": "2022-03-20T02:23:39.553Z"
   },
   {
    "duration": 14,
    "start_time": "2022-03-20T02:23:39.563Z"
   },
   {
    "duration": 4,
    "start_time": "2022-03-20T02:23:39.579Z"
   },
   {
    "duration": 15,
    "start_time": "2022-03-20T02:23:39.585Z"
   },
   {
    "duration": 39,
    "start_time": "2022-03-20T02:23:39.602Z"
   },
   {
    "duration": 6,
    "start_time": "2022-03-20T02:23:39.642Z"
   },
   {
    "duration": 12,
    "start_time": "2022-03-20T02:23:39.649Z"
   },
   {
    "duration": 8,
    "start_time": "2022-03-20T02:23:39.662Z"
   },
   {
    "duration": 19,
    "start_time": "2022-03-20T02:23:39.672Z"
   },
   {
    "duration": 18,
    "start_time": "2022-03-20T02:23:39.693Z"
   },
   {
    "duration": 50,
    "start_time": "2022-03-20T02:23:39.713Z"
   },
   {
    "duration": 7,
    "start_time": "2022-03-20T02:23:39.764Z"
   },
   {
    "duration": 10,
    "start_time": "2022-03-20T02:23:39.773Z"
   },
   {
    "duration": 7,
    "start_time": "2022-03-20T02:23:39.785Z"
   },
   {
    "duration": 19,
    "start_time": "2022-03-20T02:23:39.793Z"
   },
   {
    "duration": 34,
    "start_time": "2022-03-20T02:23:39.814Z"
   },
   {
    "duration": 17,
    "start_time": "2022-03-20T02:23:39.851Z"
   },
   {
    "duration": 28,
    "start_time": "2022-03-20T02:23:39.870Z"
   },
   {
    "duration": 13,
    "start_time": "2022-03-20T02:23:39.900Z"
   },
   {
    "duration": 26,
    "start_time": "2022-03-20T02:23:39.915Z"
   },
   {
    "duration": 12,
    "start_time": "2022-03-20T02:23:39.942Z"
   },
   {
    "duration": 15,
    "start_time": "2022-03-20T02:23:39.956Z"
   },
   {
    "duration": 23,
    "start_time": "2022-03-20T02:23:39.973Z"
   },
   {
    "duration": 7,
    "start_time": "2022-03-20T02:23:39.997Z"
   },
   {
    "duration": 32,
    "start_time": "2022-03-20T02:23:40.005Z"
   },
   {
    "duration": 19,
    "start_time": "2022-03-20T02:23:40.039Z"
   },
   {
    "duration": 9,
    "start_time": "2022-03-20T02:23:40.060Z"
   },
   {
    "duration": 6,
    "start_time": "2022-03-20T02:23:40.070Z"
   },
   {
    "duration": 20,
    "start_time": "2022-03-20T02:23:40.077Z"
   },
   {
    "duration": 46,
    "start_time": "2022-03-20T02:23:40.099Z"
   },
   {
    "duration": 6,
    "start_time": "2022-03-20T02:23:40.147Z"
   },
   {
    "duration": 19,
    "start_time": "2022-03-20T02:23:40.154Z"
   },
   {
    "duration": 622,
    "start_time": "2022-03-24T06:08:19.651Z"
   },
   {
    "duration": 104,
    "start_time": "2022-03-24T06:40:56.351Z"
   },
   {
    "duration": 86,
    "start_time": "2022-03-24T06:44:41.301Z"
   },
   {
    "duration": 19,
    "start_time": "2022-03-24T06:44:44.176Z"
   },
   {
    "duration": 20,
    "start_time": "2022-03-24T06:44:47.950Z"
   },
   {
    "duration": 4,
    "start_time": "2022-03-24T06:44:51.705Z"
   },
   {
    "duration": 52,
    "start_time": "2022-03-24T06:44:53.714Z"
   },
   {
    "duration": 22,
    "start_time": "2022-03-24T06:45:18.758Z"
   },
   {
    "duration": 27,
    "start_time": "2022-03-24T06:47:13.405Z"
   },
   {
    "duration": 29,
    "start_time": "2022-03-24T06:47:19.256Z"
   },
   {
    "duration": 51,
    "start_time": "2022-03-24T06:47:28.829Z"
   },
   {
    "duration": 8,
    "start_time": "2022-03-24T06:48:57.050Z"
   },
   {
    "duration": 86,
    "start_time": "2022-03-24T06:49:31.196Z"
   },
   {
    "duration": 35,
    "start_time": "2022-03-24T06:49:35.624Z"
   },
   {
    "duration": 102,
    "start_time": "2022-03-24T06:49:43.211Z"
   },
   {
    "duration": 27,
    "start_time": "2022-03-24T06:49:58.295Z"
   },
   {
    "duration": 6,
    "start_time": "2022-03-24T06:50:24.173Z"
   },
   {
    "duration": 42,
    "start_time": "2022-03-24T06:51:01.225Z"
   },
   {
    "duration": 132,
    "start_time": "2022-03-24T06:52:02.070Z"
   },
   {
    "duration": 20,
    "start_time": "2022-03-24T06:52:04.632Z"
   },
   {
    "duration": 6,
    "start_time": "2022-03-24T06:52:06.635Z"
   },
   {
    "duration": 45,
    "start_time": "2022-03-24T06:52:09.191Z"
   },
   {
    "duration": 18,
    "start_time": "2022-03-24T06:52:13.054Z"
   },
   {
    "duration": 26,
    "start_time": "2022-03-24T06:52:25.930Z"
   },
   {
    "duration": 49,
    "start_time": "2022-03-24T06:52:27.410Z"
   },
   {
    "duration": 47,
    "start_time": "2022-03-24T06:52:29.966Z"
   },
   {
    "duration": 81,
    "start_time": "2022-03-24T06:52:51.241Z"
   },
   {
    "duration": 19,
    "start_time": "2022-03-24T06:52:53.051Z"
   },
   {
    "duration": 20,
    "start_time": "2022-03-24T06:52:55.760Z"
   },
   {
    "duration": 5,
    "start_time": "2022-03-24T06:52:57.846Z"
   },
   {
    "duration": 44,
    "start_time": "2022-03-24T06:52:59.052Z"
   },
   {
    "duration": 18,
    "start_time": "2022-03-24T06:53:02.188Z"
   },
   {
    "duration": 26,
    "start_time": "2022-03-24T06:53:06.005Z"
   },
   {
    "duration": 47,
    "start_time": "2022-03-24T06:53:07.398Z"
   },
   {
    "duration": 43,
    "start_time": "2022-03-24T06:53:09.388Z"
   },
   {
    "duration": 50,
    "start_time": "2022-03-24T06:54:01.942Z"
   },
   {
    "duration": 131,
    "start_time": "2022-03-24T08:08:32.028Z"
   },
   {
    "duration": 22,
    "start_time": "2022-03-24T08:08:39.795Z"
   },
   {
    "duration": 64,
    "start_time": "2022-03-24T08:08:56.507Z"
   },
   {
    "duration": 20,
    "start_time": "2022-03-24T08:17:27.049Z"
   },
   {
    "duration": 91,
    "start_time": "2022-03-24T08:17:55.058Z"
   },
   {
    "duration": 20,
    "start_time": "2022-03-24T08:17:57.800Z"
   },
   {
    "duration": 23,
    "start_time": "2022-03-24T08:18:00.417Z"
   },
   {
    "duration": 6,
    "start_time": "2022-03-24T08:18:02.307Z"
   },
   {
    "duration": 44,
    "start_time": "2022-03-24T08:18:03.499Z"
   },
   {
    "duration": 20,
    "start_time": "2022-03-24T08:18:06.758Z"
   },
   {
    "duration": 27,
    "start_time": "2022-03-24T08:18:12.104Z"
   },
   {
    "duration": 52,
    "start_time": "2022-03-24T08:18:13.346Z"
   },
   {
    "duration": 43,
    "start_time": "2022-03-24T08:18:15.478Z"
   },
   {
    "duration": 20,
    "start_time": "2022-03-24T08:18:36.048Z"
   },
   {
    "duration": 7,
    "start_time": "2022-03-24T08:20:13.794Z"
   },
   {
    "duration": 9,
    "start_time": "2022-03-24T08:23:58.537Z"
   },
   {
    "duration": 723,
    "start_time": "2022-03-26T06:24:19.636Z"
   },
   {
    "duration": 29,
    "start_time": "2022-03-26T06:24:22.957Z"
   },
   {
    "duration": 33,
    "start_time": "2022-03-26T06:24:26.554Z"
   },
   {
    "duration": 5,
    "start_time": "2022-03-26T06:24:28.936Z"
   },
   {
    "duration": 62,
    "start_time": "2022-03-26T06:24:30.910Z"
   },
   {
    "duration": 20,
    "start_time": "2022-03-26T06:24:33.539Z"
   },
   {
    "duration": 27,
    "start_time": "2022-03-26T06:24:44.184Z"
   },
   {
    "duration": 61,
    "start_time": "2022-03-26T06:24:47.101Z"
   },
   {
    "duration": 45,
    "start_time": "2022-03-26T06:24:49.462Z"
   },
   {
    "duration": 20,
    "start_time": "2022-03-26T06:24:54.756Z"
   },
   {
    "duration": 10,
    "start_time": "2022-03-26T06:25:00.065Z"
   },
   {
    "duration": 15,
    "start_time": "2022-03-26T06:25:04.307Z"
   },
   {
    "duration": 6,
    "start_time": "2022-03-26T06:28:28.188Z"
   },
   {
    "duration": 4,
    "start_time": "2022-03-26T06:28:44.002Z"
   },
   {
    "duration": 132,
    "start_time": "2022-03-26T06:28:51.980Z"
   },
   {
    "duration": 84,
    "start_time": "2022-03-26T06:40:41.482Z"
   },
   {
    "duration": 20,
    "start_time": "2022-03-26T06:40:44.056Z"
   },
   {
    "duration": 22,
    "start_time": "2022-03-26T06:40:46.169Z"
   },
   {
    "duration": 6,
    "start_time": "2022-03-26T06:40:47.941Z"
   },
   {
    "duration": 46,
    "start_time": "2022-03-26T06:40:49.120Z"
   },
   {
    "duration": 19,
    "start_time": "2022-03-26T06:40:51.265Z"
   },
   {
    "duration": 27,
    "start_time": "2022-03-26T06:40:54.106Z"
   },
   {
    "duration": 51,
    "start_time": "2022-03-26T06:40:55.406Z"
   },
   {
    "duration": 45,
    "start_time": "2022-03-26T06:40:57.596Z"
   },
   {
    "duration": 20,
    "start_time": "2022-03-26T06:41:02.391Z"
   },
   {
    "duration": 10,
    "start_time": "2022-03-26T06:41:06.241Z"
   },
   {
    "duration": 18,
    "start_time": "2022-03-26T06:41:09.128Z"
   },
   {
    "duration": 15,
    "start_time": "2022-03-26T06:41:33.528Z"
   },
   {
    "duration": 10,
    "start_time": "2022-03-26T06:42:22.125Z"
   },
   {
    "duration": 8,
    "start_time": "2022-03-26T06:48:17.934Z"
   },
   {
    "duration": 10,
    "start_time": "2022-03-26T06:48:20.507Z"
   },
   {
    "duration": 10,
    "start_time": "2022-03-26T06:50:24.952Z"
   },
   {
    "duration": 10,
    "start_time": "2022-03-26T06:51:10.793Z"
   },
   {
    "duration": 15,
    "start_time": "2022-03-26T06:51:12.153Z"
   },
   {
    "duration": 8,
    "start_time": "2022-03-26T06:51:14.014Z"
   },
   {
    "duration": 22,
    "start_time": "2022-03-26T06:51:15.193Z"
   },
   {
    "duration": 21,
    "start_time": "2022-03-26T06:51:29.940Z"
   },
   {
    "duration": 88,
    "start_time": "2022-03-26T06:51:53.394Z"
   },
   {
    "duration": 20,
    "start_time": "2022-03-26T06:51:55.232Z"
   },
   {
    "duration": 23,
    "start_time": "2022-03-26T06:51:57.609Z"
   },
   {
    "duration": 6,
    "start_time": "2022-03-26T06:52:20.331Z"
   },
   {
    "duration": 45,
    "start_time": "2022-03-26T06:52:22.733Z"
   },
   {
    "duration": 18,
    "start_time": "2022-03-26T06:52:25.716Z"
   },
   {
    "duration": 27,
    "start_time": "2022-03-26T06:52:29.758Z"
   },
   {
    "duration": 52,
    "start_time": "2022-03-26T06:52:31.931Z"
   },
   {
    "duration": 43,
    "start_time": "2022-03-26T06:52:33.764Z"
   },
   {
    "duration": 20,
    "start_time": "2022-03-26T06:52:45.024Z"
   },
   {
    "duration": 9,
    "start_time": "2022-03-26T06:52:50.890Z"
   },
   {
    "duration": 12,
    "start_time": "2022-03-26T06:52:52.989Z"
   },
   {
    "duration": 10,
    "start_time": "2022-03-26T06:52:55.253Z"
   },
   {
    "duration": 13,
    "start_time": "2022-03-26T06:53:00.459Z"
   },
   {
    "duration": 15,
    "start_time": "2022-03-26T06:53:02.889Z"
   },
   {
    "duration": 9,
    "start_time": "2022-03-26T06:53:06.510Z"
   },
   {
    "duration": 21,
    "start_time": "2022-03-26T06:53:13.375Z"
   },
   {
    "duration": 20,
    "start_time": "2022-03-26T06:53:23.409Z"
   },
   {
    "duration": 7,
    "start_time": "2022-03-26T06:53:35.826Z"
   },
   {
    "duration": 13,
    "start_time": "2022-03-26T06:53:41.725Z"
   },
   {
    "duration": 16,
    "start_time": "2022-03-26T06:53:45.138Z"
   },
   {
    "duration": 12,
    "start_time": "2022-03-26T06:53:58.306Z"
   },
   {
    "duration": 22,
    "start_time": "2022-03-26T06:54:15.688Z"
   },
   {
    "duration": 12,
    "start_time": "2022-03-26T06:54:16.829Z"
   },
   {
    "duration": 15,
    "start_time": "2022-03-26T06:55:15.895Z"
   },
   {
    "duration": 84,
    "start_time": "2022-03-26T06:55:21.801Z"
   },
   {
    "duration": 21,
    "start_time": "2022-03-26T06:55:23.793Z"
   },
   {
    "duration": 21,
    "start_time": "2022-03-26T06:55:26.805Z"
   },
   {
    "duration": 7,
    "start_time": "2022-03-26T06:55:28.720Z"
   },
   {
    "duration": 45,
    "start_time": "2022-03-26T06:55:30.470Z"
   },
   {
    "duration": 19,
    "start_time": "2022-03-26T06:55:33.036Z"
   },
   {
    "duration": 27,
    "start_time": "2022-03-26T06:55:36.683Z"
   },
   {
    "duration": 51,
    "start_time": "2022-03-26T06:55:38.549Z"
   },
   {
    "duration": 45,
    "start_time": "2022-03-26T06:55:40.151Z"
   },
   {
    "duration": 21,
    "start_time": "2022-03-26T06:55:42.583Z"
   },
   {
    "duration": 8,
    "start_time": "2022-03-26T06:55:45.711Z"
   },
   {
    "duration": 9,
    "start_time": "2022-03-26T06:55:47.729Z"
   },
   {
    "duration": 9,
    "start_time": "2022-03-26T06:55:49.150Z"
   },
   {
    "duration": 10,
    "start_time": "2022-03-26T06:55:51.302Z"
   },
   {
    "duration": 17,
    "start_time": "2022-03-26T06:55:52.608Z"
   },
   {
    "duration": 8,
    "start_time": "2022-03-26T06:55:55.085Z"
   },
   {
    "duration": 23,
    "start_time": "2022-03-26T06:55:56.454Z"
   },
   {
    "duration": 20,
    "start_time": "2022-03-26T06:55:59.118Z"
   },
   {
    "duration": 9,
    "start_time": "2022-03-26T06:56:01.426Z"
   },
   {
    "duration": 13,
    "start_time": "2022-03-26T06:56:03.172Z"
   },
   {
    "duration": 13,
    "start_time": "2022-03-26T06:56:08.999Z"
   },
   {
    "duration": 13,
    "start_time": "2022-03-26T06:56:55.678Z"
   },
   {
    "duration": 12,
    "start_time": "2022-03-26T06:57:15.196Z"
   },
   {
    "duration": 23,
    "start_time": "2022-03-26T06:57:23.565Z"
   },
   {
    "duration": 9,
    "start_time": "2022-03-26T06:58:12.500Z"
   },
   {
    "duration": 8,
    "start_time": "2022-03-26T06:58:14.774Z"
   },
   {
    "duration": 19,
    "start_time": "2022-03-26T07:05:49.213Z"
   },
   {
    "duration": 15,
    "start_time": "2022-03-26T07:07:00.660Z"
   },
   {
    "duration": 16,
    "start_time": "2022-03-26T07:07:15.876Z"
   },
   {
    "duration": 16,
    "start_time": "2022-03-26T07:08:18.712Z"
   },
   {
    "duration": 15,
    "start_time": "2022-03-26T07:14:09.265Z"
   },
   {
    "duration": 5,
    "start_time": "2022-03-26T07:14:17.535Z"
   },
   {
    "duration": 19,
    "start_time": "2022-03-26T07:14:37.262Z"
   },
   {
    "duration": 5,
    "start_time": "2022-03-26T07:14:50.395Z"
   },
   {
    "duration": 30,
    "start_time": "2022-03-26T07:14:53.061Z"
   },
   {
    "duration": 37,
    "start_time": "2022-03-26T07:15:06.440Z"
   },
   {
    "duration": 71,
    "start_time": "2022-03-26T07:15:47.699Z"
   },
   {
    "duration": 5,
    "start_time": "2022-03-26T07:35:46.046Z"
   },
   {
    "duration": 72,
    "start_time": "2022-03-26T07:35:48.593Z"
   },
   {
    "duration": 22,
    "start_time": "2022-03-26T07:36:18.494Z"
   },
   {
    "duration": 21,
    "start_time": "2022-03-26T07:36:35.344Z"
   },
   {
    "duration": 91,
    "start_time": "2022-03-26T07:38:10.832Z"
   },
   {
    "duration": 21,
    "start_time": "2022-03-26T07:38:14.979Z"
   },
   {
    "duration": 19,
    "start_time": "2022-03-26T07:38:18.045Z"
   },
   {
    "duration": 6,
    "start_time": "2022-03-26T07:38:20.820Z"
   },
   {
    "duration": 45,
    "start_time": "2022-03-26T07:38:23.457Z"
   },
   {
    "duration": 18,
    "start_time": "2022-03-26T07:38:26.335Z"
   },
   {
    "duration": 28,
    "start_time": "2022-03-26T07:38:56.219Z"
   },
   {
    "duration": 55,
    "start_time": "2022-03-26T07:38:59.183Z"
   },
   {
    "duration": 46,
    "start_time": "2022-03-26T07:39:00.751Z"
   },
   {
    "duration": 21,
    "start_time": "2022-03-26T07:39:03.847Z"
   },
   {
    "duration": 9,
    "start_time": "2022-03-26T07:39:09.514Z"
   },
   {
    "duration": 9,
    "start_time": "2022-03-26T07:39:10.803Z"
   },
   {
    "duration": 9,
    "start_time": "2022-03-26T07:39:12.597Z"
   },
   {
    "duration": 11,
    "start_time": "2022-03-26T07:39:14.316Z"
   },
   {
    "duration": 15,
    "start_time": "2022-03-26T07:39:15.853Z"
   },
   {
    "duration": 9,
    "start_time": "2022-03-26T07:39:17.718Z"
   },
   {
    "duration": 21,
    "start_time": "2022-03-26T07:39:18.899Z"
   },
   {
    "duration": 19,
    "start_time": "2022-03-26T07:39:21.584Z"
   },
   {
    "duration": 7,
    "start_time": "2022-03-26T07:39:24.316Z"
   },
   {
    "duration": 12,
    "start_time": "2022-03-26T07:39:26.008Z"
   },
   {
    "duration": 12,
    "start_time": "2022-03-26T07:39:27.752Z"
   },
   {
    "duration": 12,
    "start_time": "2022-03-26T07:39:28.964Z"
   },
   {
    "duration": 21,
    "start_time": "2022-03-26T07:39:30.988Z"
   },
   {
    "duration": 19,
    "start_time": "2022-03-26T07:39:36.251Z"
   },
   {
    "duration": 17,
    "start_time": "2022-03-26T07:39:38.466Z"
   },
   {
    "duration": 5,
    "start_time": "2022-03-26T07:39:42.477Z"
   },
   {
    "duration": 21,
    "start_time": "2022-03-26T07:42:58.800Z"
   },
   {
    "duration": 10,
    "start_time": "2022-03-26T07:43:01.343Z"
   },
   {
    "duration": 26,
    "start_time": "2022-03-26T07:43:13.661Z"
   },
   {
    "duration": 28,
    "start_time": "2022-03-26T07:51:33.109Z"
   },
   {
    "duration": 20,
    "start_time": "2022-03-26T07:51:59.286Z"
   },
   {
    "duration": 17,
    "start_time": "2022-03-26T07:53:17.232Z"
   },
   {
    "duration": 17,
    "start_time": "2022-03-26T07:54:03.703Z"
   },
   {
    "duration": 82,
    "start_time": "2022-03-26T07:54:13.992Z"
   },
   {
    "duration": 19,
    "start_time": "2022-03-26T07:54:16.293Z"
   },
   {
    "duration": 21,
    "start_time": "2022-03-26T07:54:18.531Z"
   },
   {
    "duration": 5,
    "start_time": "2022-03-26T07:54:20.438Z"
   },
   {
    "duration": 44,
    "start_time": "2022-03-26T07:54:22.576Z"
   },
   {
    "duration": 20,
    "start_time": "2022-03-26T07:54:24.749Z"
   },
   {
    "duration": 27,
    "start_time": "2022-03-26T07:54:27.908Z"
   },
   {
    "duration": 54,
    "start_time": "2022-03-26T07:54:29.124Z"
   },
   {
    "duration": 46,
    "start_time": "2022-03-26T07:54:31.069Z"
   },
   {
    "duration": 21,
    "start_time": "2022-03-26T07:54:32.967Z"
   },
   {
    "duration": 8,
    "start_time": "2022-03-26T07:54:35.966Z"
   },
   {
    "duration": 8,
    "start_time": "2022-03-26T07:54:38.134Z"
   },
   {
    "duration": 8,
    "start_time": "2022-03-26T07:54:39.726Z"
   },
   {
    "duration": 9,
    "start_time": "2022-03-26T07:54:41.549Z"
   },
   {
    "duration": 15,
    "start_time": "2022-03-26T07:54:42.878Z"
   },
   {
    "duration": 7,
    "start_time": "2022-03-26T07:54:44.404Z"
   },
   {
    "duration": 22,
    "start_time": "2022-03-26T07:54:46.915Z"
   },
   {
    "duration": 22,
    "start_time": "2022-03-26T07:54:49.870Z"
   },
   {
    "duration": 7,
    "start_time": "2022-03-26T07:54:51.749Z"
   },
   {
    "duration": 13,
    "start_time": "2022-03-26T07:54:53.095Z"
   },
   {
    "duration": 14,
    "start_time": "2022-03-26T07:54:56.077Z"
   },
   {
    "duration": 13,
    "start_time": "2022-03-26T07:54:59.455Z"
   },
   {
    "duration": 20,
    "start_time": "2022-03-26T07:55:01.246Z"
   },
   {
    "duration": 18,
    "start_time": "2022-03-26T07:55:05.911Z"
   },
   {
    "duration": 17,
    "start_time": "2022-03-26T07:55:08.776Z"
   },
   {
    "duration": 5,
    "start_time": "2022-03-26T07:55:13.926Z"
   },
   {
    "duration": 21,
    "start_time": "2022-03-26T07:55:15.910Z"
   },
   {
    "duration": 23,
    "start_time": "2022-03-26T07:55:18.208Z"
   },
   {
    "duration": 25,
    "start_time": "2022-03-26T07:55:22.711Z"
   },
   {
    "duration": 32,
    "start_time": "2022-03-26T07:55:29.655Z"
   },
   {
    "duration": 21,
    "start_time": "2022-03-26T07:55:33.217Z"
   },
   {
    "duration": 8,
    "start_time": "2022-03-26T07:57:48.099Z"
   },
   {
    "duration": 16,
    "start_time": "2022-03-26T07:58:33.704Z"
   },
   {
    "duration": 14,
    "start_time": "2022-03-26T07:58:50.160Z"
   },
   {
    "duration": 86,
    "start_time": "2022-03-26T08:13:14.320Z"
   },
   {
    "duration": 19,
    "start_time": "2022-03-26T08:13:16.402Z"
   },
   {
    "duration": 21,
    "start_time": "2022-03-26T08:13:18.772Z"
   },
   {
    "duration": 5,
    "start_time": "2022-03-26T08:13:20.565Z"
   },
   {
    "duration": 44,
    "start_time": "2022-03-26T08:13:22.706Z"
   },
   {
    "duration": 19,
    "start_time": "2022-03-26T08:13:24.799Z"
   },
   {
    "duration": 30,
    "start_time": "2022-03-26T08:13:27.170Z"
   },
   {
    "duration": 56,
    "start_time": "2022-03-26T08:13:29.250Z"
   },
   {
    "duration": 45,
    "start_time": "2022-03-26T08:13:30.652Z"
   },
   {
    "duration": 22,
    "start_time": "2022-03-26T08:13:32.438Z"
   },
   {
    "duration": 8,
    "start_time": "2022-03-26T08:13:35.141Z"
   },
   {
    "duration": 10,
    "start_time": "2022-03-26T08:13:36.802Z"
   },
   {
    "duration": 17,
    "start_time": "2022-03-26T08:13:38.322Z"
   },
   {
    "duration": 10,
    "start_time": "2022-03-26T08:13:40.462Z"
   },
   {
    "duration": 15,
    "start_time": "2022-03-26T08:13:42.270Z"
   },
   {
    "duration": 7,
    "start_time": "2022-03-26T08:13:43.424Z"
   },
   {
    "duration": 26,
    "start_time": "2022-03-26T08:13:45.081Z"
   },
   {
    "duration": 21,
    "start_time": "2022-03-26T08:13:47.379Z"
   },
   {
    "duration": 7,
    "start_time": "2022-03-26T08:13:49.490Z"
   },
   {
    "duration": 12,
    "start_time": "2022-03-26T08:13:52.131Z"
   },
   {
    "duration": 13,
    "start_time": "2022-03-26T08:13:54.046Z"
   },
   {
    "duration": 11,
    "start_time": "2022-03-26T08:13:55.432Z"
   },
   {
    "duration": 22,
    "start_time": "2022-03-26T08:13:57.454Z"
   },
   {
    "duration": 18,
    "start_time": "2022-03-26T08:14:00.443Z"
   },
   {
    "duration": 16,
    "start_time": "2022-03-26T08:14:02.138Z"
   },
   {
    "duration": 5,
    "start_time": "2022-03-26T08:14:14.730Z"
   },
   {
    "duration": 21,
    "start_time": "2022-03-26T08:14:20.804Z"
   },
   {
    "duration": 30,
    "start_time": "2022-03-26T08:14:25.595Z"
   },
   {
    "duration": 38,
    "start_time": "2022-03-26T08:14:52.597Z"
   },
   {
    "duration": 21,
    "start_time": "2022-03-26T08:14:55.731Z"
   },
   {
    "duration": 22,
    "start_time": "2022-03-26T08:15:01.514Z"
   },
   {
    "duration": 13,
    "start_time": "2022-03-26T08:16:16.204Z"
   },
   {
    "duration": 11,
    "start_time": "2022-03-26T08:16:41.629Z"
   },
   {
    "duration": 11,
    "start_time": "2022-03-26T08:16:51.673Z"
   },
   {
    "duration": 31,
    "start_time": "2022-03-26T08:17:12.651Z"
   },
   {
    "duration": 17,
    "start_time": "2022-03-26T08:19:43.947Z"
   },
   {
    "duration": 107,
    "start_time": "2022-03-26T08:19:58.281Z"
   },
   {
    "duration": 19,
    "start_time": "2022-03-26T08:20:09.512Z"
   },
   {
    "duration": 94,
    "start_time": "2022-03-26T08:23:46.504Z"
   },
   {
    "duration": 20,
    "start_time": "2022-03-26T08:23:49.290Z"
   },
   {
    "duration": 21,
    "start_time": "2022-03-26T08:23:51.895Z"
   },
   {
    "duration": 6,
    "start_time": "2022-03-26T08:23:53.706Z"
   },
   {
    "duration": 44,
    "start_time": "2022-03-26T08:23:55.222Z"
   },
   {
    "duration": 20,
    "start_time": "2022-03-26T08:23:57.594Z"
   },
   {
    "duration": 27,
    "start_time": "2022-03-26T08:24:02.473Z"
   },
   {
    "duration": 64,
    "start_time": "2022-03-26T08:24:04.604Z"
   },
   {
    "duration": 47,
    "start_time": "2022-03-26T08:24:07.542Z"
   },
   {
    "duration": 22,
    "start_time": "2022-03-26T08:24:17.867Z"
   },
   {
    "duration": 8,
    "start_time": "2022-03-26T08:24:24.447Z"
   },
   {
    "duration": 9,
    "start_time": "2022-03-26T08:24:26.763Z"
   },
   {
    "duration": 9,
    "start_time": "2022-03-26T08:24:28.362Z"
   },
   {
    "duration": 10,
    "start_time": "2022-03-26T08:24:30.471Z"
   },
   {
    "duration": 16,
    "start_time": "2022-03-26T08:24:32.237Z"
   },
   {
    "duration": 9,
    "start_time": "2022-03-26T08:24:33.829Z"
   },
   {
    "duration": 22,
    "start_time": "2022-03-26T08:24:36.013Z"
   },
   {
    "duration": 22,
    "start_time": "2022-03-26T08:24:38.827Z"
   },
   {
    "duration": 10,
    "start_time": "2022-03-26T08:24:44.428Z"
   },
   {
    "duration": 13,
    "start_time": "2022-03-26T08:24:47.729Z"
   },
   {
    "duration": 15,
    "start_time": "2022-03-26T08:24:50.180Z"
   },
   {
    "duration": 14,
    "start_time": "2022-03-26T08:24:51.630Z"
   },
   {
    "duration": 31,
    "start_time": "2022-03-26T08:24:53.795Z"
   },
   {
    "duration": 17,
    "start_time": "2022-03-26T08:24:58.981Z"
   },
   {
    "duration": 16,
    "start_time": "2022-03-26T08:25:01.578Z"
   },
   {
    "duration": 5,
    "start_time": "2022-03-26T08:25:11.645Z"
   },
   {
    "duration": 21,
    "start_time": "2022-03-26T08:25:14.025Z"
   },
   {
    "duration": 24,
    "start_time": "2022-03-26T08:25:17.271Z"
   },
   {
    "duration": 25,
    "start_time": "2022-03-26T08:25:24.139Z"
   },
   {
    "duration": 21,
    "start_time": "2022-03-26T08:25:27.561Z"
   },
   {
    "duration": 21,
    "start_time": "2022-03-26T08:25:29.990Z"
   },
   {
    "duration": 30,
    "start_time": "2022-03-26T08:25:36.208Z"
   },
   {
    "duration": 19,
    "start_time": "2022-03-26T08:25:41.615Z"
   },
   {
    "duration": 22,
    "start_time": "2022-03-26T08:43:31.404Z"
   },
   {
    "duration": 9,
    "start_time": "2022-03-26T08:44:06.966Z"
   },
   {
    "duration": 43,
    "start_time": "2022-03-26T08:44:32.697Z"
   },
   {
    "duration": 12,
    "start_time": "2022-03-26T08:52:57.774Z"
   },
   {
    "duration": 28,
    "start_time": "2022-03-26T08:53:07.107Z"
   },
   {
    "duration": 9,
    "start_time": "2022-03-26T09:00:43.511Z"
   },
   {
    "duration": 17,
    "start_time": "2022-03-26T09:00:51.670Z"
   },
   {
    "duration": 2007,
    "start_time": "2022-03-26T09:00:57.069Z"
   },
   {
    "duration": 86,
    "start_time": "2022-03-26T09:01:05.962Z"
   },
   {
    "duration": 20,
    "start_time": "2022-03-26T09:01:08.243Z"
   },
   {
    "duration": 22,
    "start_time": "2022-03-26T09:01:10.793Z"
   },
   {
    "duration": 6,
    "start_time": "2022-03-26T09:01:12.761Z"
   },
   {
    "duration": 87,
    "start_time": "2022-03-26T09:01:14.344Z"
   },
   {
    "duration": 19,
    "start_time": "2022-03-26T09:01:16.842Z"
   },
   {
    "duration": 27,
    "start_time": "2022-03-26T09:01:20.467Z"
   },
   {
    "duration": 53,
    "start_time": "2022-03-26T09:01:21.791Z"
   },
   {
    "duration": 44,
    "start_time": "2022-03-26T09:01:24.184Z"
   },
   {
    "duration": 21,
    "start_time": "2022-03-26T09:01:27.115Z"
   },
   {
    "duration": 8,
    "start_time": "2022-03-26T09:04:24.425Z"
   },
   {
    "duration": 9,
    "start_time": "2022-03-26T09:04:27.534Z"
   },
   {
    "duration": 9,
    "start_time": "2022-03-26T09:04:30.853Z"
   },
   {
    "duration": 9,
    "start_time": "2022-03-26T09:04:35.994Z"
   },
   {
    "duration": 22,
    "start_time": "2022-03-26T09:04:37.617Z"
   },
   {
    "duration": 8,
    "start_time": "2022-03-26T09:04:39.512Z"
   },
   {
    "duration": 22,
    "start_time": "2022-03-26T09:04:41.828Z"
   },
   {
    "duration": 20,
    "start_time": "2022-03-26T09:05:01.923Z"
   },
   {
    "duration": 7,
    "start_time": "2022-03-26T09:05:05.996Z"
   },
   {
    "duration": 13,
    "start_time": "2022-03-26T09:05:08.957Z"
   },
   {
    "duration": 13,
    "start_time": "2022-03-26T09:05:14.550Z"
   },
   {
    "duration": 14,
    "start_time": "2022-03-26T09:05:15.973Z"
   },
   {
    "duration": 21,
    "start_time": "2022-03-26T09:05:18.117Z"
   },
   {
    "duration": 18,
    "start_time": "2022-03-26T09:05:28.350Z"
   },
   {
    "duration": 14,
    "start_time": "2022-03-26T09:05:30.144Z"
   },
   {
    "duration": 5,
    "start_time": "2022-03-26T09:05:35.038Z"
   },
   {
    "duration": 22,
    "start_time": "2022-03-26T09:05:37.916Z"
   },
   {
    "duration": 26,
    "start_time": "2022-03-26T09:05:40.764Z"
   },
   {
    "duration": 27,
    "start_time": "2022-03-26T09:05:46.335Z"
   },
   {
    "duration": 20,
    "start_time": "2022-03-26T09:05:48.588Z"
   },
   {
    "duration": 20,
    "start_time": "2022-03-26T09:05:54.832Z"
   },
   {
    "duration": 31,
    "start_time": "2022-03-26T09:05:58.008Z"
   },
   {
    "duration": 19,
    "start_time": "2022-03-26T09:06:11.954Z"
   },
   {
    "duration": 9,
    "start_time": "2022-03-26T09:07:14.104Z"
   },
   {
    "duration": 12,
    "start_time": "2022-03-26T09:07:40.989Z"
   },
   {
    "duration": 29,
    "start_time": "2022-03-26T09:10:46.513Z"
   },
   {
    "duration": 39,
    "start_time": "2022-03-26T09:10:59.516Z"
   },
   {
    "duration": 27,
    "start_time": "2022-03-26T09:11:20.579Z"
   },
   {
    "duration": 28,
    "start_time": "2022-03-26T09:18:16.379Z"
   },
   {
    "duration": 30,
    "start_time": "2022-03-26T09:24:01.267Z"
   },
   {
    "duration": 15,
    "start_time": "2022-03-26T09:24:09.807Z"
   },
   {
    "duration": 30,
    "start_time": "2022-03-26T09:24:19.034Z"
   },
   {
    "duration": 35,
    "start_time": "2022-03-26T09:34:05.083Z"
   },
   {
    "duration": 85,
    "start_time": "2022-03-26T10:10:40.390Z"
   },
   {
    "duration": 21,
    "start_time": "2022-03-26T10:10:42.425Z"
   },
   {
    "duration": 21,
    "start_time": "2022-03-26T10:10:44.923Z"
   },
   {
    "duration": 6,
    "start_time": "2022-03-26T10:10:50.367Z"
   },
   {
    "duration": 47,
    "start_time": "2022-03-26T10:10:52.407Z"
   },
   {
    "duration": 18,
    "start_time": "2022-03-26T10:10:54.629Z"
   },
   {
    "duration": 28,
    "start_time": "2022-03-26T10:11:00.309Z"
   },
   {
    "duration": 56,
    "start_time": "2022-03-26T10:11:01.808Z"
   },
   {
    "duration": 46,
    "start_time": "2022-03-26T10:11:03.952Z"
   },
   {
    "duration": 22,
    "start_time": "2022-03-26T10:11:06.636Z"
   },
   {
    "duration": 8,
    "start_time": "2022-03-26T10:11:09.704Z"
   },
   {
    "duration": 9,
    "start_time": "2022-03-26T10:11:11.433Z"
   },
   {
    "duration": 9,
    "start_time": "2022-03-26T10:11:13.475Z"
   },
   {
    "duration": 9,
    "start_time": "2022-03-26T10:11:15.084Z"
   },
   {
    "duration": 15,
    "start_time": "2022-03-26T10:11:16.921Z"
   },
   {
    "duration": 8,
    "start_time": "2022-03-26T10:11:18.169Z"
   },
   {
    "duration": 22,
    "start_time": "2022-03-26T10:11:19.862Z"
   },
   {
    "duration": 22,
    "start_time": "2022-03-26T10:11:22.313Z"
   },
   {
    "duration": 10,
    "start_time": "2022-03-26T10:11:24.243Z"
   },
   {
    "duration": 14,
    "start_time": "2022-03-26T10:11:26.129Z"
   },
   {
    "duration": 15,
    "start_time": "2022-03-26T10:11:27.922Z"
   },
   {
    "duration": 14,
    "start_time": "2022-03-26T10:11:29.959Z"
   },
   {
    "duration": 23,
    "start_time": "2022-03-26T10:11:31.591Z"
   },
   {
    "duration": 19,
    "start_time": "2022-03-26T10:11:34.652Z"
   },
   {
    "duration": 18,
    "start_time": "2022-03-26T10:11:35.940Z"
   },
   {
    "duration": 5,
    "start_time": "2022-03-26T10:11:38.960Z"
   },
   {
    "duration": 21,
    "start_time": "2022-03-26T10:11:41.000Z"
   },
   {
    "duration": 24,
    "start_time": "2022-03-26T10:11:43.066Z"
   },
   {
    "duration": 25,
    "start_time": "2022-03-26T10:11:45.895Z"
   },
   {
    "duration": 21,
    "start_time": "2022-03-26T10:11:47.864Z"
   },
   {
    "duration": 20,
    "start_time": "2022-03-26T10:11:51.233Z"
   },
   {
    "duration": 32,
    "start_time": "2022-03-26T10:11:55.109Z"
   },
   {
    "duration": 21,
    "start_time": "2022-03-26T10:11:58.413Z"
   },
   {
    "duration": 27,
    "start_time": "2022-03-26T10:12:00.621Z"
   },
   {
    "duration": 28,
    "start_time": "2022-03-26T10:12:03.954Z"
   },
   {
    "duration": 33,
    "start_time": "2022-03-26T10:12:06.037Z"
   },
   {
    "duration": 41,
    "start_time": "2022-03-26T10:12:08.300Z"
   },
   {
    "duration": 111,
    "start_time": "2022-03-26T12:49:58.020Z"
   },
   {
    "duration": 648,
    "start_time": "2022-03-26T12:50:24.649Z"
   },
   {
    "duration": 20,
    "start_time": "2022-03-26T12:50:25.301Z"
   },
   {
    "duration": 53,
    "start_time": "2022-03-26T12:50:25.323Z"
   },
   {
    "duration": 6,
    "start_time": "2022-03-26T12:50:25.379Z"
   },
   {
    "duration": 44,
    "start_time": "2022-03-26T12:50:25.390Z"
   },
   {
    "duration": 58,
    "start_time": "2022-03-26T12:50:25.436Z"
   },
   {
    "duration": 57,
    "start_time": "2022-03-26T12:50:25.497Z"
   },
   {
    "duration": 57,
    "start_time": "2022-03-26T12:50:25.564Z"
   },
   {
    "duration": 57,
    "start_time": "2022-03-26T12:50:25.623Z"
   },
   {
    "duration": 24,
    "start_time": "2022-03-26T12:50:25.683Z"
   },
   {
    "duration": 10,
    "start_time": "2022-03-26T12:50:25.710Z"
   },
   {
    "duration": 44,
    "start_time": "2022-03-26T12:50:25.723Z"
   },
   {
    "duration": 12,
    "start_time": "2022-03-26T12:50:25.769Z"
   },
   {
    "duration": 14,
    "start_time": "2022-03-26T12:50:25.786Z"
   },
   {
    "duration": 20,
    "start_time": "2022-03-26T12:50:25.802Z"
   },
   {
    "duration": 9,
    "start_time": "2022-03-26T12:50:25.824Z"
   },
   {
    "duration": 57,
    "start_time": "2022-03-26T12:50:25.835Z"
   },
   {
    "duration": 20,
    "start_time": "2022-03-26T12:50:25.895Z"
   },
   {
    "duration": 7,
    "start_time": "2022-03-26T12:50:25.918Z"
   },
   {
    "duration": 50,
    "start_time": "2022-03-26T12:50:25.928Z"
   },
   {
    "duration": 14,
    "start_time": "2022-03-26T12:50:25.981Z"
   },
   {
    "duration": 11,
    "start_time": "2022-03-26T12:50:25.997Z"
   },
   {
    "duration": 58,
    "start_time": "2022-03-26T12:50:26.010Z"
   },
   {
    "duration": 20,
    "start_time": "2022-03-26T12:50:26.075Z"
   },
   {
    "duration": 15,
    "start_time": "2022-03-26T12:50:26.098Z"
   },
   {
    "duration": 6,
    "start_time": "2022-03-26T12:50:26.115Z"
   },
   {
    "duration": 59,
    "start_time": "2022-03-26T12:50:26.123Z"
   },
   {
    "duration": 26,
    "start_time": "2022-03-26T12:50:26.185Z"
   },
   {
    "duration": 24,
    "start_time": "2022-03-26T12:50:26.214Z"
   },
   {
    "duration": 25,
    "start_time": "2022-03-26T12:50:26.273Z"
   },
   {
    "duration": 20,
    "start_time": "2022-03-26T12:50:26.300Z"
   },
   {
    "duration": 59,
    "start_time": "2022-03-26T12:50:26.323Z"
   },
   {
    "duration": 22,
    "start_time": "2022-03-26T12:50:26.385Z"
   },
   {
    "duration": 27,
    "start_time": "2022-03-26T12:50:26.409Z"
   },
   {
    "duration": 50,
    "start_time": "2022-03-26T12:50:26.444Z"
   },
   {
    "duration": 29,
    "start_time": "2022-03-26T12:50:26.496Z"
   },
   {
    "duration": 52,
    "start_time": "2022-03-26T12:50:26.527Z"
   },
   {
    "duration": 623,
    "start_time": "2022-03-26T14:16:53.871Z"
   },
   {
    "duration": 50,
    "start_time": "2022-03-26T14:16:54.498Z"
   },
   {
    "duration": 24,
    "start_time": "2022-03-26T14:16:54.550Z"
   },
   {
    "duration": 8,
    "start_time": "2022-03-26T14:16:54.579Z"
   },
   {
    "duration": 54,
    "start_time": "2022-03-26T14:16:54.590Z"
   },
   {
    "duration": 31,
    "start_time": "2022-03-26T14:16:54.647Z"
   },
   {
    "duration": 26,
    "start_time": "2022-03-26T14:16:54.683Z"
   },
   {
    "duration": 82,
    "start_time": "2022-03-26T14:16:54.712Z"
   },
   {
    "duration": 43,
    "start_time": "2022-03-26T14:16:54.797Z"
   },
   {
    "duration": 43,
    "start_time": "2022-03-26T14:16:54.844Z"
   },
   {
    "duration": 13,
    "start_time": "2022-03-26T14:16:54.890Z"
   },
   {
    "duration": 9,
    "start_time": "2022-03-26T14:16:54.906Z"
   },
   {
    "duration": 10,
    "start_time": "2022-03-26T14:16:54.917Z"
   },
   {
    "duration": 46,
    "start_time": "2022-03-26T14:16:54.930Z"
   },
   {
    "duration": 32,
    "start_time": "2022-03-26T14:16:54.979Z"
   },
   {
    "duration": 9,
    "start_time": "2022-03-26T14:16:55.013Z"
   },
   {
    "duration": 50,
    "start_time": "2022-03-26T14:16:55.024Z"
   },
   {
    "duration": 32,
    "start_time": "2022-03-26T14:16:55.077Z"
   },
   {
    "duration": 7,
    "start_time": "2022-03-26T14:16:55.111Z"
   },
   {
    "duration": 15,
    "start_time": "2022-03-26T14:16:55.121Z"
   },
   {
    "duration": 35,
    "start_time": "2022-03-26T14:16:55.139Z"
   },
   {
    "duration": 28,
    "start_time": "2022-03-26T14:16:55.176Z"
   },
   {
    "duration": 11,
    "start_time": "2022-03-26T14:16:55.206Z"
   },
   {
    "duration": 19,
    "start_time": "2022-03-26T14:16:55.219Z"
   },
   {
    "duration": 17,
    "start_time": "2022-03-26T14:16:55.275Z"
   },
   {
    "duration": 15,
    "start_time": "2022-03-26T14:16:55.294Z"
   },
   {
    "duration": 4,
    "start_time": "2022-03-26T14:16:55.311Z"
   },
   {
    "duration": 54,
    "start_time": "2022-03-26T14:16:55.320Z"
   },
   {
    "duration": 31,
    "start_time": "2022-03-26T14:16:55.376Z"
   },
   {
    "duration": 22,
    "start_time": "2022-03-26T14:16:55.410Z"
   },
   {
    "duration": 47,
    "start_time": "2022-03-26T14:16:55.434Z"
   },
   {
    "duration": 30,
    "start_time": "2022-03-26T14:16:55.483Z"
   },
   {
    "duration": 29,
    "start_time": "2022-03-26T14:16:55.515Z"
   },
   {
    "duration": 37,
    "start_time": "2022-03-26T14:16:55.546Z"
   },
   {
    "duration": 35,
    "start_time": "2022-03-26T14:16:55.585Z"
   },
   {
    "duration": 63,
    "start_time": "2022-03-26T14:16:55.623Z"
   },
   {
    "duration": 33,
    "start_time": "2022-03-26T14:16:55.688Z"
   },
   {
    "duration": 74,
    "start_time": "2022-03-26T14:16:55.723Z"
   },
   {
    "duration": 5,
    "start_time": "2022-03-26T15:21:08.522Z"
   },
   {
    "duration": 6,
    "start_time": "2022-03-26T15:21:20.137Z"
   },
   {
    "duration": 24,
    "start_time": "2022-03-26T15:21:38.988Z"
   },
   {
    "duration": 7,
    "start_time": "2022-03-26T15:21:56.522Z"
   },
   {
    "duration": 9,
    "start_time": "2022-03-26T15:22:01.901Z"
   },
   {
    "duration": 5,
    "start_time": "2022-03-26T15:24:49.183Z"
   },
   {
    "duration": 6,
    "start_time": "2022-03-26T15:24:57.611Z"
   },
   {
    "duration": 6,
    "start_time": "2022-03-26T15:25:02.583Z"
   },
   {
    "duration": 5,
    "start_time": "2022-03-26T15:25:17.246Z"
   },
   {
    "duration": 5,
    "start_time": "2022-03-26T15:25:24.595Z"
   },
   {
    "duration": 4,
    "start_time": "2022-03-26T15:25:28.339Z"
   },
   {
    "duration": 5,
    "start_time": "2022-03-26T15:25:58.348Z"
   },
   {
    "duration": 6,
    "start_time": "2022-03-26T15:26:26.212Z"
   },
   {
    "duration": 12,
    "start_time": "2022-03-26T15:26:33.966Z"
   },
   {
    "duration": 98,
    "start_time": "2022-03-26T15:27:32.904Z"
   },
   {
    "duration": 623,
    "start_time": "2022-03-26T15:27:39.443Z"
   },
   {
    "duration": 23,
    "start_time": "2022-03-26T15:27:40.073Z"
   },
   {
    "duration": 21,
    "start_time": "2022-03-26T15:27:40.098Z"
   },
   {
    "duration": 6,
    "start_time": "2022-03-26T15:27:40.121Z"
   },
   {
    "duration": 79,
    "start_time": "2022-03-26T15:27:40.130Z"
   },
   {
    "duration": 19,
    "start_time": "2022-03-26T15:27:40.211Z"
   },
   {
    "duration": 51,
    "start_time": "2022-03-26T15:27:40.232Z"
   },
   {
    "duration": 50,
    "start_time": "2022-03-26T15:27:40.285Z"
   },
   {
    "duration": 63,
    "start_time": "2022-03-26T15:27:40.337Z"
   },
   {
    "duration": 22,
    "start_time": "2022-03-26T15:27:40.403Z"
   },
   {
    "duration": 47,
    "start_time": "2022-03-26T15:27:40.428Z"
   },
   {
    "duration": 11,
    "start_time": "2022-03-26T15:27:40.478Z"
   },
   {
    "duration": 9,
    "start_time": "2022-03-26T15:27:40.491Z"
   },
   {
    "duration": 9,
    "start_time": "2022-03-26T15:27:40.505Z"
   },
   {
    "duration": 18,
    "start_time": "2022-03-26T15:27:40.517Z"
   },
   {
    "duration": 12,
    "start_time": "2022-03-26T15:27:40.568Z"
   },
   {
    "duration": 35,
    "start_time": "2022-03-26T15:27:40.583Z"
   },
   {
    "duration": 30,
    "start_time": "2022-03-26T15:27:40.620Z"
   },
   {
    "duration": 20,
    "start_time": "2022-03-26T15:27:40.652Z"
   },
   {
    "duration": 19,
    "start_time": "2022-03-26T15:27:40.674Z"
   },
   {
    "duration": 6,
    "start_time": "2022-03-26T15:27:40.695Z"
   },
   {
    "duration": 13,
    "start_time": "2022-03-26T15:27:40.703Z"
   },
   {
    "duration": 12,
    "start_time": "2022-03-26T15:27:40.718Z"
   },
   {
    "duration": 23,
    "start_time": "2022-03-26T15:27:40.767Z"
   },
   {
    "duration": 17,
    "start_time": "2022-03-26T15:27:40.792Z"
   },
   {
    "duration": 16,
    "start_time": "2022-03-26T15:27:40.811Z"
   },
   {
    "duration": 41,
    "start_time": "2022-03-26T15:27:40.829Z"
   },
   {
    "duration": 23,
    "start_time": "2022-03-26T15:27:40.872Z"
   },
   {
    "duration": 25,
    "start_time": "2022-03-26T15:27:40.897Z"
   },
   {
    "duration": 59,
    "start_time": "2022-03-26T15:27:40.925Z"
   },
   {
    "duration": 19,
    "start_time": "2022-03-26T15:27:40.986Z"
   },
   {
    "duration": 115,
    "start_time": "2022-03-26T15:27:41.008Z"
   },
   {
    "duration": 0,
    "start_time": "2022-03-26T15:27:41.125Z"
   },
   {
    "duration": 0,
    "start_time": "2022-03-26T15:27:41.126Z"
   },
   {
    "duration": 0,
    "start_time": "2022-03-26T15:27:41.128Z"
   },
   {
    "duration": 0,
    "start_time": "2022-03-26T15:27:41.129Z"
   },
   {
    "duration": 0,
    "start_time": "2022-03-26T15:27:41.130Z"
   },
   {
    "duration": 0,
    "start_time": "2022-03-26T15:27:41.132Z"
   },
   {
    "duration": 0,
    "start_time": "2022-03-26T15:27:41.133Z"
   },
   {
    "duration": 26,
    "start_time": "2022-03-26T15:27:55.365Z"
   },
   {
    "duration": 5,
    "start_time": "2022-03-26T15:29:16.041Z"
   },
   {
    "duration": 30,
    "start_time": "2022-03-26T15:29:48.462Z"
   },
   {
    "duration": 25,
    "start_time": "2022-03-26T15:29:52.423Z"
   },
   {
    "duration": 16,
    "start_time": "2022-03-26T15:30:23.903Z"
   },
   {
    "duration": 36,
    "start_time": "2022-03-26T15:30:29.960Z"
   },
   {
    "duration": 51,
    "start_time": "2022-03-26T16:40:29.970Z"
   },
   {
    "duration": 462,
    "start_time": "2022-03-26T16:40:34.243Z"
   },
   {
    "duration": 15,
    "start_time": "2022-03-26T16:40:34.707Z"
   },
   {
    "duration": 21,
    "start_time": "2022-03-26T16:40:34.724Z"
   },
   {
    "duration": 5,
    "start_time": "2022-03-26T16:40:34.748Z"
   },
   {
    "duration": 59,
    "start_time": "2022-03-26T16:40:34.755Z"
   },
   {
    "duration": 13,
    "start_time": "2022-03-26T16:40:34.816Z"
   },
   {
    "duration": 21,
    "start_time": "2022-03-26T16:40:34.831Z"
   },
   {
    "duration": 61,
    "start_time": "2022-03-26T16:40:34.854Z"
   },
   {
    "duration": 34,
    "start_time": "2022-03-26T16:40:34.917Z"
   },
   {
    "duration": 16,
    "start_time": "2022-03-26T16:40:34.954Z"
   },
   {
    "duration": 30,
    "start_time": "2022-03-26T16:40:34.972Z"
   },
   {
    "duration": 8,
    "start_time": "2022-03-26T16:40:35.005Z"
   },
   {
    "duration": 10,
    "start_time": "2022-03-26T16:40:35.016Z"
   },
   {
    "duration": 10,
    "start_time": "2022-03-26T16:40:35.028Z"
   },
   {
    "duration": 20,
    "start_time": "2022-03-26T16:40:35.040Z"
   },
   {
    "duration": 41,
    "start_time": "2022-03-26T16:40:35.062Z"
   },
   {
    "duration": 19,
    "start_time": "2022-03-26T16:40:35.105Z"
   },
   {
    "duration": 23,
    "start_time": "2022-03-26T16:40:35.126Z"
   },
   {
    "duration": 6,
    "start_time": "2022-03-26T16:40:35.151Z"
   },
   {
    "duration": 15,
    "start_time": "2022-03-26T16:40:35.159Z"
   },
   {
    "duration": 6,
    "start_time": "2022-03-26T16:40:35.202Z"
   },
   {
    "duration": 21,
    "start_time": "2022-03-26T16:40:35.210Z"
   },
   {
    "duration": 9,
    "start_time": "2022-03-26T16:40:35.233Z"
   },
   {
    "duration": 25,
    "start_time": "2022-03-26T16:40:35.244Z"
   },
   {
    "duration": 36,
    "start_time": "2022-03-26T16:40:35.271Z"
   },
   {
    "duration": 13,
    "start_time": "2022-03-26T16:40:35.309Z"
   },
   {
    "duration": 7,
    "start_time": "2022-03-26T16:40:35.324Z"
   },
   {
    "duration": 23,
    "start_time": "2022-03-26T16:40:35.336Z"
   },
   {
    "duration": 44,
    "start_time": "2022-03-26T16:40:35.361Z"
   },
   {
    "duration": 20,
    "start_time": "2022-03-26T16:40:35.408Z"
   },
   {
    "duration": 15,
    "start_time": "2022-03-26T16:40:35.430Z"
   },
   {
    "duration": 22,
    "start_time": "2022-03-26T16:40:35.447Z"
   },
   {
    "duration": 89,
    "start_time": "2022-03-26T16:40:35.471Z"
   },
   {
    "duration": 0,
    "start_time": "2022-03-26T16:40:35.561Z"
   },
   {
    "duration": 0,
    "start_time": "2022-03-26T16:40:35.563Z"
   },
   {
    "duration": 0,
    "start_time": "2022-03-26T16:40:35.565Z"
   },
   {
    "duration": 0,
    "start_time": "2022-03-26T16:40:35.567Z"
   },
   {
    "duration": 0,
    "start_time": "2022-03-26T16:40:35.569Z"
   },
   {
    "duration": 0,
    "start_time": "2022-03-26T16:40:35.570Z"
   },
   {
    "duration": 16,
    "start_time": "2022-03-26T16:40:54.960Z"
   },
   {
    "duration": 7,
    "start_time": "2022-03-26T16:41:11.236Z"
   },
   {
    "duration": 22,
    "start_time": "2022-03-26T16:42:31.463Z"
   },
   {
    "duration": 14,
    "start_time": "2022-03-26T16:42:48.856Z"
   },
   {
    "duration": 22,
    "start_time": "2022-03-26T16:42:51.150Z"
   },
   {
    "duration": 21,
    "start_time": "2022-03-26T16:44:41.349Z"
   },
   {
    "duration": 21,
    "start_time": "2022-03-26T16:44:42.355Z"
   },
   {
    "duration": 21,
    "start_time": "2022-03-26T16:44:43.861Z"
   },
   {
    "duration": 490,
    "start_time": "2022-03-27T06:15:46.006Z"
   },
   {
    "duration": 12,
    "start_time": "2022-03-27T06:15:48.764Z"
   },
   {
    "duration": 15,
    "start_time": "2022-03-27T06:15:51.421Z"
   },
   {
    "duration": 4,
    "start_time": "2022-03-27T06:15:53.683Z"
   },
   {
    "duration": 29,
    "start_time": "2022-03-27T06:15:55.297Z"
   },
   {
    "duration": 13,
    "start_time": "2022-03-27T06:16:08.847Z"
   },
   {
    "duration": 17,
    "start_time": "2022-03-27T06:16:17.102Z"
   },
   {
    "duration": 32,
    "start_time": "2022-03-27T06:16:18.533Z"
   },
   {
    "duration": 30,
    "start_time": "2022-03-27T06:16:24.202Z"
   },
   {
    "duration": 14,
    "start_time": "2022-03-27T06:16:35.315Z"
   },
   {
    "duration": 8,
    "start_time": "2022-03-27T06:16:54.938Z"
   },
   {
    "duration": 7,
    "start_time": "2022-03-27T06:16:58.092Z"
   },
   {
    "duration": 5,
    "start_time": "2022-03-27T06:17:18.207Z"
   },
   {
    "duration": 61,
    "start_time": "2022-03-27T06:23:17.002Z"
   },
   {
    "duration": 11,
    "start_time": "2022-03-27T06:23:19.445Z"
   },
   {
    "duration": 14,
    "start_time": "2022-03-27T06:23:21.428Z"
   },
   {
    "duration": 4,
    "start_time": "2022-03-27T06:23:23.093Z"
   },
   {
    "duration": 29,
    "start_time": "2022-03-27T06:23:24.292Z"
   },
   {
    "duration": 11,
    "start_time": "2022-03-27T06:23:26.419Z"
   },
   {
    "duration": 17,
    "start_time": "2022-03-27T06:23:29.731Z"
   },
   {
    "duration": 32,
    "start_time": "2022-03-27T06:23:31.103Z"
   },
   {
    "duration": 29,
    "start_time": "2022-03-27T06:23:33.688Z"
   },
   {
    "duration": 15,
    "start_time": "2022-03-27T06:23:36.659Z"
   },
   {
    "duration": 5,
    "start_time": "2022-03-27T06:23:39.316Z"
   },
   {
    "duration": 6,
    "start_time": "2022-03-27T06:23:45.823Z"
   },
   {
    "duration": 6,
    "start_time": "2022-03-27T06:23:51.498Z"
   },
   {
    "duration": 7,
    "start_time": "2022-03-27T06:23:55.138Z"
   },
   {
    "duration": 11,
    "start_time": "2022-03-27T06:23:57.188Z"
   },
   {
    "duration": 5,
    "start_time": "2022-03-27T06:23:59.753Z"
   },
   {
    "duration": 14,
    "start_time": "2022-03-27T06:24:01.158Z"
   },
   {
    "duration": 15,
    "start_time": "2022-03-27T06:24:04.665Z"
   },
   {
    "duration": 6,
    "start_time": "2022-03-27T06:24:07.054Z"
   },
   {
    "duration": 9,
    "start_time": "2022-03-27T06:24:09.147Z"
   },
   {
    "duration": 4,
    "start_time": "2022-03-27T06:24:11.109Z"
   },
   {
    "duration": 9,
    "start_time": "2022-03-27T06:24:12.745Z"
   },
   {
    "duration": 8,
    "start_time": "2022-03-27T06:24:15.286Z"
   },
   {
    "duration": 13,
    "start_time": "2022-03-27T06:24:17.960Z"
   },
   {
    "duration": 7,
    "start_time": "2022-03-27T06:24:21.807Z"
   },
   {
    "duration": 8,
    "start_time": "2022-03-27T06:24:32.684Z"
   },
   {
    "duration": 11,
    "start_time": "2022-03-27T06:24:46.396Z"
   },
   {
    "duration": 10,
    "start_time": "2022-03-27T06:24:54.531Z"
   },
   {
    "duration": 4,
    "start_time": "2022-03-27T06:25:10.559Z"
   },
   {
    "duration": 15,
    "start_time": "2022-03-27T06:25:19.361Z"
   },
   {
    "duration": 15,
    "start_time": "2022-03-27T06:25:31.076Z"
   },
   {
    "duration": 16,
    "start_time": "2022-03-27T06:25:35.660Z"
   },
   {
    "duration": 14,
    "start_time": "2022-03-27T06:25:39.864Z"
   },
   {
    "duration": 13,
    "start_time": "2022-03-27T06:25:44.143Z"
   },
   {
    "duration": 19,
    "start_time": "2022-03-27T06:25:46.978Z"
   },
   {
    "duration": 12,
    "start_time": "2022-03-27T06:25:49.978Z"
   },
   {
    "duration": 18,
    "start_time": "2022-03-27T06:25:52.235Z"
   },
   {
    "duration": 18,
    "start_time": "2022-03-27T06:25:55.763Z"
   },
   {
    "duration": 18,
    "start_time": "2022-03-27T06:25:58.424Z"
   },
   {
    "duration": 21,
    "start_time": "2022-03-27T06:26:00.545Z"
   },
   {
    "duration": 68,
    "start_time": "2022-03-27T06:53:37.947Z"
   },
   {
    "duration": 12,
    "start_time": "2022-03-27T06:53:40.429Z"
   },
   {
    "duration": 17,
    "start_time": "2022-03-27T06:53:43.027Z"
   },
   {
    "duration": 4,
    "start_time": "2022-03-27T06:53:45.442Z"
   },
   {
    "duration": 31,
    "start_time": "2022-03-27T06:53:46.756Z"
   },
   {
    "duration": 13,
    "start_time": "2022-03-27T06:53:50.086Z"
   },
   {
    "duration": 19,
    "start_time": "2022-03-27T06:54:00.578Z"
   },
   {
    "duration": 33,
    "start_time": "2022-03-27T06:54:02.681Z"
   },
   {
    "duration": 30,
    "start_time": "2022-03-27T06:54:07.779Z"
   },
   {
    "duration": 16,
    "start_time": "2022-03-27T06:54:59.876Z"
   },
   {
    "duration": 6,
    "start_time": "2022-03-27T06:55:03.321Z"
   },
   {
    "duration": 6,
    "start_time": "2022-03-27T06:55:06.288Z"
   },
   {
    "duration": 7,
    "start_time": "2022-03-27T06:55:08.180Z"
   },
   {
    "duration": 7,
    "start_time": "2022-03-27T06:55:10.275Z"
   },
   {
    "duration": 10,
    "start_time": "2022-03-27T06:55:11.994Z"
   },
   {
    "duration": 5,
    "start_time": "2022-03-27T06:55:13.528Z"
   },
   {
    "duration": 15,
    "start_time": "2022-03-27T06:55:15.879Z"
   },
   {
    "duration": 14,
    "start_time": "2022-03-27T06:55:19.119Z"
   },
   {
    "duration": 5,
    "start_time": "2022-03-27T06:55:21.093Z"
   },
   {
    "duration": 8,
    "start_time": "2022-03-27T06:55:23.340Z"
   },
   {
    "duration": 5,
    "start_time": "2022-03-27T06:55:26.018Z"
   },
   {
    "duration": 8,
    "start_time": "2022-03-27T06:55:27.204Z"
   },
   {
    "duration": 8,
    "start_time": "2022-03-27T06:55:29.045Z"
   },
   {
    "duration": 12,
    "start_time": "2022-03-27T06:55:31.993Z"
   },
   {
    "duration": 12,
    "start_time": "2022-03-27T06:57:01.901Z"
   },
   {
    "duration": 12,
    "start_time": "2022-03-27T06:57:03.883Z"
   },
   {
    "duration": 3,
    "start_time": "2022-03-27T06:57:13.606Z"
   },
   {
    "duration": 13,
    "start_time": "2022-03-27T06:57:18.248Z"
   },
   {
    "duration": 15,
    "start_time": "2022-03-27T06:58:52.605Z"
   },
   {
    "duration": 16,
    "start_time": "2022-03-27T06:59:03.950Z"
   },
   {
    "duration": 14,
    "start_time": "2022-03-27T06:59:07.685Z"
   },
   {
    "duration": 13,
    "start_time": "2022-03-27T06:59:15.712Z"
   },
   {
    "duration": 20,
    "start_time": "2022-03-27T06:59:24.877Z"
   },
   {
    "duration": 13,
    "start_time": "2022-03-27T06:59:30.036Z"
   },
   {
    "duration": 17,
    "start_time": "2022-03-27T07:01:22.441Z"
   },
   {
    "duration": 17,
    "start_time": "2022-03-27T07:01:28.695Z"
   },
   {
    "duration": 19,
    "start_time": "2022-03-27T07:01:31.023Z"
   },
   {
    "duration": 19,
    "start_time": "2022-03-27T07:01:33.849Z"
   },
   {
    "duration": 681,
    "start_time": "2022-03-28T07:32:54.384Z"
   },
   {
    "duration": 17,
    "start_time": "2022-03-28T07:32:57.103Z"
   },
   {
    "duration": 15,
    "start_time": "2022-03-28T07:33:01.940Z"
   },
   {
    "duration": 4,
    "start_time": "2022-03-28T07:33:03.650Z"
   },
   {
    "duration": 37,
    "start_time": "2022-03-28T07:33:05.618Z"
   },
   {
    "duration": 14,
    "start_time": "2022-03-28T07:33:07.646Z"
   },
   {
    "duration": 23,
    "start_time": "2022-03-28T07:33:10.424Z"
   },
   {
    "duration": 47,
    "start_time": "2022-03-28T07:33:12.458Z"
   },
   {
    "duration": 31,
    "start_time": "2022-03-28T07:33:15.055Z"
   },
   {
    "duration": 18,
    "start_time": "2022-03-28T07:33:18.245Z"
   },
   {
    "duration": 92,
    "start_time": "2022-03-28T07:33:21.896Z"
   },
   {
    "duration": 8,
    "start_time": "2022-03-28T07:33:24.063Z"
   },
   {
    "duration": 7,
    "start_time": "2022-03-28T07:33:26.124Z"
   },
   {
    "duration": 9,
    "start_time": "2022-03-28T07:33:28.062Z"
   },
   {
    "duration": 12,
    "start_time": "2022-03-28T07:33:30.043Z"
   },
   {
    "duration": 6,
    "start_time": "2022-03-28T07:33:31.401Z"
   },
   {
    "duration": 19,
    "start_time": "2022-03-28T07:33:32.866Z"
   },
   {
    "duration": 15,
    "start_time": "2022-03-28T07:33:35.492Z"
   },
   {
    "duration": 6,
    "start_time": "2022-03-28T07:33:37.283Z"
   },
   {
    "duration": 11,
    "start_time": "2022-03-28T07:33:40.231Z"
   },
   {
    "duration": 5,
    "start_time": "2022-03-28T07:33:42.809Z"
   },
   {
    "duration": 11,
    "start_time": "2022-03-28T07:33:44.697Z"
   },
   {
    "duration": 10,
    "start_time": "2022-03-28T07:33:46.769Z"
   },
   {
    "duration": 17,
    "start_time": "2022-03-28T07:33:48.508Z"
   },
   {
    "duration": 15,
    "start_time": "2022-03-28T07:33:53.338Z"
   },
   {
    "duration": 14,
    "start_time": "2022-03-28T07:33:56.140Z"
   },
   {
    "duration": 4,
    "start_time": "2022-03-28T07:34:02.941Z"
   },
   {
    "duration": 14,
    "start_time": "2022-03-28T07:34:07.239Z"
   },
   {
    "duration": 17,
    "start_time": "2022-03-28T07:34:16.634Z"
   },
   {
    "duration": 20,
    "start_time": "2022-03-28T07:34:19.850Z"
   },
   {
    "duration": 14,
    "start_time": "2022-03-28T07:34:22.330Z"
   },
   {
    "duration": 14,
    "start_time": "2022-03-28T07:34:24.991Z"
   },
   {
    "duration": 19,
    "start_time": "2022-03-28T07:34:27.191Z"
   },
   {
    "duration": 13,
    "start_time": "2022-03-28T07:34:29.462Z"
   },
   {
    "duration": 27,
    "start_time": "2022-03-28T07:34:31.437Z"
   },
   {
    "duration": 22,
    "start_time": "2022-03-28T07:34:34.788Z"
   },
   {
    "duration": 19,
    "start_time": "2022-03-28T07:34:36.504Z"
   },
   {
    "duration": 28,
    "start_time": "2022-03-28T07:34:38.175Z"
   },
   {
    "duration": 205,
    "start_time": "2022-03-28T07:35:14.934Z"
   }
  ],
  "kernelspec": {
   "display_name": "Python 3",
   "language": "python",
   "name": "python3"
  },
  "language_info": {
   "codemirror_mode": {
    "name": "ipython",
    "version": 3
   },
   "file_extension": ".py",
   "mimetype": "text/x-python",
   "name": "python",
   "nbconvert_exporter": "python",
   "pygments_lexer": "ipython3",
   "version": "3.7.4"
  },
  "toc": {
   "base_numbering": 1,
   "nav_menu": {},
   "number_sections": true,
   "sideBar": true,
   "skip_h1_title": true,
   "title_cell": "Table of Contents",
   "title_sidebar": "Contents",
   "toc_cell": false,
   "toc_position": {
    "height": "calc(100% - 180px)",
    "left": "10px",
    "top": "150px",
    "width": "405.188px"
   },
   "toc_section_display": true,
   "toc_window_display": true
  }
 },
 "nbformat": 4,
 "nbformat_minor": 5
}
