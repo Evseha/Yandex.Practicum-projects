{
 "cells": [
  {
   "cell_type": "markdown",
   "metadata": {
    "toc": true
   },
   "source": [
    "<h1>Содержание<span class=\"tocSkip\"></span></h1>\n",
    "<div class=\"toc\"><ul class=\"toc-item\"><li><span><a href=\"#Подготовка-данных\" data-toc-modified-id=\"Подготовка-данных-1\"><span class=\"toc-item-num\">1&nbsp;&nbsp;</span>Подготовка данных</a></span></li><li><span><a href=\"#Исследование-задачи\" data-toc-modified-id=\"Исследование-задачи-2\"><span class=\"toc-item-num\">2&nbsp;&nbsp;</span>Исследование задачи</a></span></li><li><span><a href=\"#Борьба-с-дисбалансом\" data-toc-modified-id=\"Борьба-с-дисбалансом-3\"><span class=\"toc-item-num\">3&nbsp;&nbsp;</span>Борьба с дисбалансом</a></span></li><li><span><a href=\"#Тестирование-модели\" data-toc-modified-id=\"Тестирование-модели-4\"><span class=\"toc-item-num\">4&nbsp;&nbsp;</span>Тестирование модели</a></span></li><li><span><a href=\"#Чек-лист-готовности-проекта\" data-toc-modified-id=\"Чек-лист-готовности-проекта-5\"><span class=\"toc-item-num\">5&nbsp;&nbsp;</span>Чек-лист готовности проекта</a></span></li></ul></div>"
   ]
  },
  {
   "cell_type": "markdown",
   "metadata": {},
   "source": [
    "# Отток клиентов"
   ]
  },
  {
   "cell_type": "markdown",
   "metadata": {},
   "source": [
    "Из «Бета-Банка» стали уходить клиенты. Каждый месяц. Немного, но заметно. Банковские маркетологи посчитали: сохранять текущих клиентов дешевле, чем привлекать новых.\n",
    "\n",
    "Нужно спрогнозировать, уйдёт клиент из банка в ближайшее время или нет. Нам предоставлены исторические данные о поведении клиентов и расторжении договоров с банком. \n",
    "\n",
    "Построим модель с предельно большим значением *F1*-меры. Нужно довести метрику до 0.59. Проверим *F1*-меру на тестовой выборке.\n",
    "\n",
    "Дополнительно измерим *AUC-ROC*, сравним её значение с *F1*-мерой."
   ]
  },
  {
   "cell_type": "markdown",
   "metadata": {},
   "source": [
    "Описание данных\n",
    "\n",
    " Признаки\n",
    "\n",
    "-\tRowNumber — индекс строки в данных\n",
    "-\tCustomerId — уникальный идентификатор клиента\n",
    "-\tSurname — фамилия\n",
    "-\tCreditScore — кредитный рейтинг\n",
    "-\tGeography — страна проживания\n",
    "-\tGender — пол\n",
    "-\tAge — возраст\n",
    "-\tTenure — сколько лет человек является клиентом банка\n",
    "-\tBalance — баланс на счёте\n",
    "-\tNumOfProducts — количество продуктов банка, используемых клиентом\n",
    "-\tHasCrCard — наличие кредитной карты\n",
    "-\tIsActiveMember — активность клиента\n",
    "-\tEstimatedSalary — предполагаемая зарплата\n",
    "\n",
    "Целевой признак\n",
    "\n",
    "-\tExited — факт ухода клиента\n"
   ]
  },
  {
   "cell_type": "markdown",
   "metadata": {},
   "source": [
    "## Подготовка данных"
   ]
  },
  {
   "cell_type": "markdown",
   "metadata": {},
   "source": [
    "Импорт всех необходимых библиотек"
   ]
  },
  {
   "cell_type": "code",
   "execution_count": null,
   "metadata": {},
   "outputs": [],
   "source": [
    "import pandas as pd\n",
    "import numpy as np\n",
    "from sklearn.metrics import f1_score\n",
    "from sklearn.metrics import auc\n",
    "from sklearn.metrics import roc_curve\n",
    "from sklearn.metrics import accuracy_score\n",
    "import matplotlib.pyplot as plt\n",
    "from sklearn.metrics import confusion_matrix\n",
    "from sklearn.metrics import recall_score\n",
    "from sklearn.metrics import precision_score\n",
    "from sklearn.metrics import f1_score\n",
    "from sklearn.linear_model import LogisticRegression\n",
    "from sklearn.ensemble import RandomForestClassifier\n",
    "from sklearn.tree import DecisionTreeClassifier\n",
    "from sklearn.model_selection import train_test_split\n",
    "from sklearn.model_selection import GridSearchCV\n",
    "from sklearn.utils import shuffle\n",
    "from sklearn.preprocessing import StandardScaler\n",
    "from sklearn.metrics import roc_auc_score \n",
    "from sklearn.metrics import mean_squared_error\n",
    "import warnings\n",
    "warnings.filterwarnings(\"ignore\")"
   ]
  },
  {
   "cell_type": "markdown",
   "metadata": {},
   "source": [
    "Открываем предоставленный датасет и изучим информацию о данных\n"
   ]
  },
  {
   "cell_type": "code",
   "execution_count": 2,
   "metadata": {},
   "outputs": [
    {
     "data": {
      "text/html": [
       "<div>\n",
       "<style scoped>\n",
       "    .dataframe tbody tr th:only-of-type {\n",
       "        vertical-align: middle;\n",
       "    }\n",
       "\n",
       "    .dataframe tbody tr th {\n",
       "        vertical-align: top;\n",
       "    }\n",
       "\n",
       "    .dataframe thead th {\n",
       "        text-align: right;\n",
       "    }\n",
       "</style>\n",
       "<table border=\"1\" class=\"dataframe\">\n",
       "  <thead>\n",
       "    <tr style=\"text-align: right;\">\n",
       "      <th></th>\n",
       "      <th>RowNumber</th>\n",
       "      <th>CustomerId</th>\n",
       "      <th>Surname</th>\n",
       "      <th>CreditScore</th>\n",
       "      <th>Geography</th>\n",
       "      <th>Gender</th>\n",
       "      <th>Age</th>\n",
       "      <th>Tenure</th>\n",
       "      <th>Balance</th>\n",
       "      <th>NumOfProducts</th>\n",
       "      <th>HasCrCard</th>\n",
       "      <th>IsActiveMember</th>\n",
       "      <th>EstimatedSalary</th>\n",
       "      <th>Exited</th>\n",
       "    </tr>\n",
       "  </thead>\n",
       "  <tbody>\n",
       "    <tr>\n",
       "      <th>0</th>\n",
       "      <td>1</td>\n",
       "      <td>15634602</td>\n",
       "      <td>Hargrave</td>\n",
       "      <td>619</td>\n",
       "      <td>France</td>\n",
       "      <td>Female</td>\n",
       "      <td>42</td>\n",
       "      <td>2.0</td>\n",
       "      <td>0.00</td>\n",
       "      <td>1</td>\n",
       "      <td>1</td>\n",
       "      <td>1</td>\n",
       "      <td>101348.88</td>\n",
       "      <td>1</td>\n",
       "    </tr>\n",
       "    <tr>\n",
       "      <th>1</th>\n",
       "      <td>2</td>\n",
       "      <td>15647311</td>\n",
       "      <td>Hill</td>\n",
       "      <td>608</td>\n",
       "      <td>Spain</td>\n",
       "      <td>Female</td>\n",
       "      <td>41</td>\n",
       "      <td>1.0</td>\n",
       "      <td>83807.86</td>\n",
       "      <td>1</td>\n",
       "      <td>0</td>\n",
       "      <td>1</td>\n",
       "      <td>112542.58</td>\n",
       "      <td>0</td>\n",
       "    </tr>\n",
       "    <tr>\n",
       "      <th>2</th>\n",
       "      <td>3</td>\n",
       "      <td>15619304</td>\n",
       "      <td>Onio</td>\n",
       "      <td>502</td>\n",
       "      <td>France</td>\n",
       "      <td>Female</td>\n",
       "      <td>42</td>\n",
       "      <td>8.0</td>\n",
       "      <td>159660.80</td>\n",
       "      <td>3</td>\n",
       "      <td>1</td>\n",
       "      <td>0</td>\n",
       "      <td>113931.57</td>\n",
       "      <td>1</td>\n",
       "    </tr>\n",
       "    <tr>\n",
       "      <th>3</th>\n",
       "      <td>4</td>\n",
       "      <td>15701354</td>\n",
       "      <td>Boni</td>\n",
       "      <td>699</td>\n",
       "      <td>France</td>\n",
       "      <td>Female</td>\n",
       "      <td>39</td>\n",
       "      <td>1.0</td>\n",
       "      <td>0.00</td>\n",
       "      <td>2</td>\n",
       "      <td>0</td>\n",
       "      <td>0</td>\n",
       "      <td>93826.63</td>\n",
       "      <td>0</td>\n",
       "    </tr>\n",
       "    <tr>\n",
       "      <th>4</th>\n",
       "      <td>5</td>\n",
       "      <td>15737888</td>\n",
       "      <td>Mitchell</td>\n",
       "      <td>850</td>\n",
       "      <td>Spain</td>\n",
       "      <td>Female</td>\n",
       "      <td>43</td>\n",
       "      <td>2.0</td>\n",
       "      <td>125510.82</td>\n",
       "      <td>1</td>\n",
       "      <td>1</td>\n",
       "      <td>1</td>\n",
       "      <td>79084.10</td>\n",
       "      <td>0</td>\n",
       "    </tr>\n",
       "  </tbody>\n",
       "</table>\n",
       "</div>"
      ],
      "text/plain": [
       "   RowNumber  CustomerId   Surname  CreditScore Geography  Gender  Age  \\\n",
       "0          1    15634602  Hargrave          619    France  Female   42   \n",
       "1          2    15647311      Hill          608     Spain  Female   41   \n",
       "2          3    15619304      Onio          502    France  Female   42   \n",
       "3          4    15701354      Boni          699    France  Female   39   \n",
       "4          5    15737888  Mitchell          850     Spain  Female   43   \n",
       "\n",
       "   Tenure    Balance  NumOfProducts  HasCrCard  IsActiveMember  \\\n",
       "0     2.0       0.00              1          1               1   \n",
       "1     1.0   83807.86              1          0               1   \n",
       "2     8.0  159660.80              3          1               0   \n",
       "3     1.0       0.00              2          0               0   \n",
       "4     2.0  125510.82              1          1               1   \n",
       "\n",
       "   EstimatedSalary  Exited  \n",
       "0        101348.88       1  \n",
       "1        112542.58       0  \n",
       "2        113931.57       1  \n",
       "3         93826.63       0  \n",
       "4         79084.10       0  "
      ]
     },
     "execution_count": 2,
     "metadata": {},
     "output_type": "execute_result"
    }
   ],
   "source": [
    "bank_client = pd.read_csv('/datasets/Churn.csv')\n",
    "bank_client.head()"
   ]
  },
  {
   "cell_type": "markdown",
   "metadata": {},
   "source": [
    "Получим статистические данные по датасету"
   ]
  },
  {
   "cell_type": "code",
   "execution_count": 3,
   "metadata": {
    "scrolled": true
   },
   "outputs": [
    {
     "data": {
      "text/html": [
       "<div>\n",
       "<style scoped>\n",
       "    .dataframe tbody tr th:only-of-type {\n",
       "        vertical-align: middle;\n",
       "    }\n",
       "\n",
       "    .dataframe tbody tr th {\n",
       "        vertical-align: top;\n",
       "    }\n",
       "\n",
       "    .dataframe thead th {\n",
       "        text-align: right;\n",
       "    }\n",
       "</style>\n",
       "<table border=\"1\" class=\"dataframe\">\n",
       "  <thead>\n",
       "    <tr style=\"text-align: right;\">\n",
       "      <th></th>\n",
       "      <th>RowNumber</th>\n",
       "      <th>CustomerId</th>\n",
       "      <th>CreditScore</th>\n",
       "      <th>Age</th>\n",
       "      <th>Tenure</th>\n",
       "      <th>Balance</th>\n",
       "      <th>NumOfProducts</th>\n",
       "      <th>HasCrCard</th>\n",
       "      <th>IsActiveMember</th>\n",
       "      <th>EstimatedSalary</th>\n",
       "      <th>Exited</th>\n",
       "    </tr>\n",
       "  </thead>\n",
       "  <tbody>\n",
       "    <tr>\n",
       "      <th>count</th>\n",
       "      <td>10000.00000</td>\n",
       "      <td>1.000000e+04</td>\n",
       "      <td>10000.000000</td>\n",
       "      <td>10000.000000</td>\n",
       "      <td>9091.000000</td>\n",
       "      <td>10000.000000</td>\n",
       "      <td>10000.000000</td>\n",
       "      <td>10000.00000</td>\n",
       "      <td>10000.000000</td>\n",
       "      <td>10000.000000</td>\n",
       "      <td>10000.000000</td>\n",
       "    </tr>\n",
       "    <tr>\n",
       "      <th>mean</th>\n",
       "      <td>5000.50000</td>\n",
       "      <td>1.569094e+07</td>\n",
       "      <td>650.528800</td>\n",
       "      <td>38.921800</td>\n",
       "      <td>4.997690</td>\n",
       "      <td>76485.889288</td>\n",
       "      <td>1.530200</td>\n",
       "      <td>0.70550</td>\n",
       "      <td>0.515100</td>\n",
       "      <td>100090.239881</td>\n",
       "      <td>0.203700</td>\n",
       "    </tr>\n",
       "    <tr>\n",
       "      <th>std</th>\n",
       "      <td>2886.89568</td>\n",
       "      <td>7.193619e+04</td>\n",
       "      <td>96.653299</td>\n",
       "      <td>10.487806</td>\n",
       "      <td>2.894723</td>\n",
       "      <td>62397.405202</td>\n",
       "      <td>0.581654</td>\n",
       "      <td>0.45584</td>\n",
       "      <td>0.499797</td>\n",
       "      <td>57510.492818</td>\n",
       "      <td>0.402769</td>\n",
       "    </tr>\n",
       "    <tr>\n",
       "      <th>min</th>\n",
       "      <td>1.00000</td>\n",
       "      <td>1.556570e+07</td>\n",
       "      <td>350.000000</td>\n",
       "      <td>18.000000</td>\n",
       "      <td>0.000000</td>\n",
       "      <td>0.000000</td>\n",
       "      <td>1.000000</td>\n",
       "      <td>0.00000</td>\n",
       "      <td>0.000000</td>\n",
       "      <td>11.580000</td>\n",
       "      <td>0.000000</td>\n",
       "    </tr>\n",
       "    <tr>\n",
       "      <th>25%</th>\n",
       "      <td>2500.75000</td>\n",
       "      <td>1.562853e+07</td>\n",
       "      <td>584.000000</td>\n",
       "      <td>32.000000</td>\n",
       "      <td>2.000000</td>\n",
       "      <td>0.000000</td>\n",
       "      <td>1.000000</td>\n",
       "      <td>0.00000</td>\n",
       "      <td>0.000000</td>\n",
       "      <td>51002.110000</td>\n",
       "      <td>0.000000</td>\n",
       "    </tr>\n",
       "    <tr>\n",
       "      <th>50%</th>\n",
       "      <td>5000.50000</td>\n",
       "      <td>1.569074e+07</td>\n",
       "      <td>652.000000</td>\n",
       "      <td>37.000000</td>\n",
       "      <td>5.000000</td>\n",
       "      <td>97198.540000</td>\n",
       "      <td>1.000000</td>\n",
       "      <td>1.00000</td>\n",
       "      <td>1.000000</td>\n",
       "      <td>100193.915000</td>\n",
       "      <td>0.000000</td>\n",
       "    </tr>\n",
       "    <tr>\n",
       "      <th>75%</th>\n",
       "      <td>7500.25000</td>\n",
       "      <td>1.575323e+07</td>\n",
       "      <td>718.000000</td>\n",
       "      <td>44.000000</td>\n",
       "      <td>7.000000</td>\n",
       "      <td>127644.240000</td>\n",
       "      <td>2.000000</td>\n",
       "      <td>1.00000</td>\n",
       "      <td>1.000000</td>\n",
       "      <td>149388.247500</td>\n",
       "      <td>0.000000</td>\n",
       "    </tr>\n",
       "    <tr>\n",
       "      <th>max</th>\n",
       "      <td>10000.00000</td>\n",
       "      <td>1.581569e+07</td>\n",
       "      <td>850.000000</td>\n",
       "      <td>92.000000</td>\n",
       "      <td>10.000000</td>\n",
       "      <td>250898.090000</td>\n",
       "      <td>4.000000</td>\n",
       "      <td>1.00000</td>\n",
       "      <td>1.000000</td>\n",
       "      <td>199992.480000</td>\n",
       "      <td>1.000000</td>\n",
       "    </tr>\n",
       "  </tbody>\n",
       "</table>\n",
       "</div>"
      ],
      "text/plain": [
       "         RowNumber    CustomerId   CreditScore           Age       Tenure  \\\n",
       "count  10000.00000  1.000000e+04  10000.000000  10000.000000  9091.000000   \n",
       "mean    5000.50000  1.569094e+07    650.528800     38.921800     4.997690   \n",
       "std     2886.89568  7.193619e+04     96.653299     10.487806     2.894723   \n",
       "min        1.00000  1.556570e+07    350.000000     18.000000     0.000000   \n",
       "25%     2500.75000  1.562853e+07    584.000000     32.000000     2.000000   \n",
       "50%     5000.50000  1.569074e+07    652.000000     37.000000     5.000000   \n",
       "75%     7500.25000  1.575323e+07    718.000000     44.000000     7.000000   \n",
       "max    10000.00000  1.581569e+07    850.000000     92.000000    10.000000   \n",
       "\n",
       "             Balance  NumOfProducts    HasCrCard  IsActiveMember  \\\n",
       "count   10000.000000   10000.000000  10000.00000    10000.000000   \n",
       "mean    76485.889288       1.530200      0.70550        0.515100   \n",
       "std     62397.405202       0.581654      0.45584        0.499797   \n",
       "min         0.000000       1.000000      0.00000        0.000000   \n",
       "25%         0.000000       1.000000      0.00000        0.000000   \n",
       "50%     97198.540000       1.000000      1.00000        1.000000   \n",
       "75%    127644.240000       2.000000      1.00000        1.000000   \n",
       "max    250898.090000       4.000000      1.00000        1.000000   \n",
       "\n",
       "       EstimatedSalary        Exited  \n",
       "count     10000.000000  10000.000000  \n",
       "mean     100090.239881      0.203700  \n",
       "std       57510.492818      0.402769  \n",
       "min          11.580000      0.000000  \n",
       "25%       51002.110000      0.000000  \n",
       "50%      100193.915000      0.000000  \n",
       "75%      149388.247500      0.000000  \n",
       "max      199992.480000      1.000000  "
      ]
     },
     "execution_count": 3,
     "metadata": {},
     "output_type": "execute_result"
    }
   ],
   "source": [
    "bank_client.describe()"
   ]
  },
  {
   "cell_type": "markdown",
   "metadata": {},
   "source": [
    "Получим общую информацию по датасету"
   ]
  },
  {
   "cell_type": "code",
   "execution_count": 4,
   "metadata": {},
   "outputs": [
    {
     "name": "stdout",
     "output_type": "stream",
     "text": [
      "<class 'pandas.core.frame.DataFrame'>\n",
      "RangeIndex: 10000 entries, 0 to 9999\n",
      "Data columns (total 14 columns):\n",
      " #   Column           Non-Null Count  Dtype  \n",
      "---  ------           --------------  -----  \n",
      " 0   RowNumber        10000 non-null  int64  \n",
      " 1   CustomerId       10000 non-null  int64  \n",
      " 2   Surname          10000 non-null  object \n",
      " 3   CreditScore      10000 non-null  int64  \n",
      " 4   Geography        10000 non-null  object \n",
      " 5   Gender           10000 non-null  object \n",
      " 6   Age              10000 non-null  int64  \n",
      " 7   Tenure           9091 non-null   float64\n",
      " 8   Balance          10000 non-null  float64\n",
      " 9   NumOfProducts    10000 non-null  int64  \n",
      " 10  HasCrCard        10000 non-null  int64  \n",
      " 11  IsActiveMember   10000 non-null  int64  \n",
      " 12  EstimatedSalary  10000 non-null  float64\n",
      " 13  Exited           10000 non-null  int64  \n",
      "dtypes: float64(3), int64(8), object(3)\n",
      "memory usage: 1.1+ MB\n"
     ]
    }
   ],
   "source": [
    "bank_client.info()"
   ]
  },
  {
   "cell_type": "markdown",
   "metadata": {},
   "source": [
    "Проверим датасет на наличие дубликатов"
   ]
  },
  {
   "cell_type": "code",
   "execution_count": 5,
   "metadata": {},
   "outputs": [
    {
     "name": "stdout",
     "output_type": "stream",
     "text": [
      "Количество дубликатов: 0\n"
     ]
    }
   ],
   "source": [
    "print('Количество дубликатов:' ,bank_client.duplicated().sum())"
   ]
  },
  {
   "cell_type": "markdown",
   "metadata": {},
   "source": [
    "Уберем первые три столбца - они нам не понадобятся"
   ]
  },
  {
   "cell_type": "code",
   "execution_count": 6,
   "metadata": {
    "scrolled": true
   },
   "outputs": [
    {
     "data": {
      "text/html": [
       "<div>\n",
       "<style scoped>\n",
       "    .dataframe tbody tr th:only-of-type {\n",
       "        vertical-align: middle;\n",
       "    }\n",
       "\n",
       "    .dataframe tbody tr th {\n",
       "        vertical-align: top;\n",
       "    }\n",
       "\n",
       "    .dataframe thead th {\n",
       "        text-align: right;\n",
       "    }\n",
       "</style>\n",
       "<table border=\"1\" class=\"dataframe\">\n",
       "  <thead>\n",
       "    <tr style=\"text-align: right;\">\n",
       "      <th></th>\n",
       "      <th>CreditScore</th>\n",
       "      <th>Geography</th>\n",
       "      <th>Gender</th>\n",
       "      <th>Age</th>\n",
       "      <th>Tenure</th>\n",
       "      <th>Balance</th>\n",
       "      <th>NumOfProducts</th>\n",
       "      <th>HasCrCard</th>\n",
       "      <th>IsActiveMember</th>\n",
       "      <th>EstimatedSalary</th>\n",
       "      <th>Exited</th>\n",
       "    </tr>\n",
       "  </thead>\n",
       "  <tbody>\n",
       "    <tr>\n",
       "      <th>0</th>\n",
       "      <td>619</td>\n",
       "      <td>France</td>\n",
       "      <td>Female</td>\n",
       "      <td>42</td>\n",
       "      <td>2.0</td>\n",
       "      <td>0.00</td>\n",
       "      <td>1</td>\n",
       "      <td>1</td>\n",
       "      <td>1</td>\n",
       "      <td>101348.88</td>\n",
       "      <td>1</td>\n",
       "    </tr>\n",
       "    <tr>\n",
       "      <th>1</th>\n",
       "      <td>608</td>\n",
       "      <td>Spain</td>\n",
       "      <td>Female</td>\n",
       "      <td>41</td>\n",
       "      <td>1.0</td>\n",
       "      <td>83807.86</td>\n",
       "      <td>1</td>\n",
       "      <td>0</td>\n",
       "      <td>1</td>\n",
       "      <td>112542.58</td>\n",
       "      <td>0</td>\n",
       "    </tr>\n",
       "    <tr>\n",
       "      <th>2</th>\n",
       "      <td>502</td>\n",
       "      <td>France</td>\n",
       "      <td>Female</td>\n",
       "      <td>42</td>\n",
       "      <td>8.0</td>\n",
       "      <td>159660.80</td>\n",
       "      <td>3</td>\n",
       "      <td>1</td>\n",
       "      <td>0</td>\n",
       "      <td>113931.57</td>\n",
       "      <td>1</td>\n",
       "    </tr>\n",
       "    <tr>\n",
       "      <th>3</th>\n",
       "      <td>699</td>\n",
       "      <td>France</td>\n",
       "      <td>Female</td>\n",
       "      <td>39</td>\n",
       "      <td>1.0</td>\n",
       "      <td>0.00</td>\n",
       "      <td>2</td>\n",
       "      <td>0</td>\n",
       "      <td>0</td>\n",
       "      <td>93826.63</td>\n",
       "      <td>0</td>\n",
       "    </tr>\n",
       "    <tr>\n",
       "      <th>4</th>\n",
       "      <td>850</td>\n",
       "      <td>Spain</td>\n",
       "      <td>Female</td>\n",
       "      <td>43</td>\n",
       "      <td>2.0</td>\n",
       "      <td>125510.82</td>\n",
       "      <td>1</td>\n",
       "      <td>1</td>\n",
       "      <td>1</td>\n",
       "      <td>79084.10</td>\n",
       "      <td>0</td>\n",
       "    </tr>\n",
       "  </tbody>\n",
       "</table>\n",
       "</div>"
      ],
      "text/plain": [
       "   CreditScore Geography  Gender  Age  Tenure    Balance  NumOfProducts  \\\n",
       "0          619    France  Female   42     2.0       0.00              1   \n",
       "1          608     Spain  Female   41     1.0   83807.86              1   \n",
       "2          502    France  Female   42     8.0  159660.80              3   \n",
       "3          699    France  Female   39     1.0       0.00              2   \n",
       "4          850     Spain  Female   43     2.0  125510.82              1   \n",
       "\n",
       "   HasCrCard  IsActiveMember  EstimatedSalary  Exited  \n",
       "0          1               1        101348.88       1  \n",
       "1          0               1        112542.58       0  \n",
       "2          1               0        113931.57       1  \n",
       "3          0               0         93826.63       0  \n",
       "4          1               1         79084.10       0  "
      ]
     },
     "execution_count": 6,
     "metadata": {},
     "output_type": "execute_result"
    }
   ],
   "source": [
    "bank_client = bank_client.drop(['RowNumber', 'CustomerId', 'Surname'], axis=1)\n",
    "bank_client.head()"
   ]
  },
  {
   "cell_type": "markdown",
   "metadata": {},
   "source": [
    "Переведем столбец Tenure в целочисленный формат"
   ]
  },
  {
   "cell_type": "code",
   "execution_count": 7,
   "metadata": {},
   "outputs": [
    {
     "data": {
      "text/plain": [
       "0"
      ]
     },
     "execution_count": 7,
     "metadata": {},
     "output_type": "execute_result"
    }
   ],
   "source": [
    "bank_client['Tenure'] = bank_client['Tenure'].astype('Int64')\n",
    "bank_client['Tenure'] = bank_client['Tenure'].fillna(bank_client['Tenure'].median())\n",
    "bank_client['Tenure'].isnull().sum()"
   ]
  },
  {
   "cell_type": "markdown",
   "metadata": {},
   "source": [
    "Переведем названия столбцов в нижний регистр"
   ]
  },
  {
   "cell_type": "code",
   "execution_count": 8,
   "metadata": {},
   "outputs": [
    {
     "data": {
      "text/plain": [
       "Index(['creditscore', 'geography', 'gender', 'age', 'tenure', 'balance',\n",
       "       'numofproducts', 'hascrcard', 'isactivemember', 'estimatedsalary',\n",
       "       'exited'],\n",
       "      dtype='object')"
      ]
     },
     "execution_count": 8,
     "metadata": {},
     "output_type": "execute_result"
    }
   ],
   "source": [
    "bank_client.columns = bank_client.columns.str.lower()\n",
    "bank_client.columns"
   ]
  },
  {
   "cell_type": "markdown",
   "metadata": {},
   "source": [
    "## Исследование задачи"
   ]
  },
  {
   "cell_type": "markdown",
   "metadata": {},
   "source": [
    "Рассчитаем долю объектов положительного класса"
   ]
  },
  {
   "cell_type": "code",
   "execution_count": 9,
   "metadata": {},
   "outputs": [
    {
     "data": {
      "text/plain": [
       "0.2037"
      ]
     },
     "execution_count": 9,
     "metadata": {},
     "output_type": "execute_result"
    }
   ],
   "source": [
    "bank_client['exited'].mean()"
   ]
  },
  {
   "cell_type": "markdown",
   "metadata": {},
   "source": [
    "Рассчитаем долю объектов отрицательного класса"
   ]
  },
  {
   "cell_type": "code",
   "execution_count": 10,
   "metadata": {},
   "outputs": [
    {
     "data": {
      "text/plain": [
       "0.7963"
      ]
     },
     "execution_count": 10,
     "metadata": {},
     "output_type": "execute_result"
    }
   ],
   "source": [
    "1 - bank_client['exited'].mean()"
   ]
  },
  {
   "cell_type": "markdown",
   "metadata": {},
   "source": [
    "Как мы видим из нашего расчета доля отрицательного класса намного больше"
   ]
  },
  {
   "cell_type": "markdown",
   "metadata": {},
   "source": [
    "Для удобства дальнейшего использования разобьем данные по дамми-значениям и переведем столбец gender в численный формат"
   ]
  },
  {
   "cell_type": "code",
   "execution_count": 11,
   "metadata": {},
   "outputs": [],
   "source": [
    "bank_client['gender'] = pd.get_dummies(bank_client['gender'], drop_first=True)\n",
    "bank_client_ohe = pd.get_dummies(bank_client['geography'])\n",
    "bank_client['france_user'] = bank_client_ohe['France']\n",
    "bank_client['germany_user'] = bank_client_ohe['Germany']\n",
    "bank_client['spain_user'] = bank_client_ohe['Spain']"
   ]
  },
  {
   "cell_type": "markdown",
   "metadata": {},
   "source": [
    "Разделим предоставленные данные на обучающую, тестовуюи валидационную выборки в пропорции 3:1:1"
   ]
  },
  {
   "cell_type": "code",
   "execution_count": 12,
   "metadata": {},
   "outputs": [
    {
     "name": "stdout",
     "output_type": "stream",
     "text": [
      "Обучающая выборка: (6000, 12)\n",
      "(6000,)\n",
      "Валидационная выборка: (2000, 12)\n",
      "(2000,)\n",
      "Тестовая выборка: (2000, 12)\n",
      "(2000,)\n"
     ]
    }
   ],
   "source": [
    "features = bank_client.drop(['exited','geography'], axis=1)\n",
    "target = bank_client['exited']\n",
    "\n",
    "features_train, features_test, target_train, target_test = train_test_split(features, target, test_size = 0.4, random_state=12345)\n",
    "features_test, features_valid, target_test, target_valid = train_test_split(features_test, target_test, test_size = 0.5, random_state=12345)\n",
    "print('Обучающая выборка:', features_train.shape)\n",
    "print(target_train.shape)\n",
    "print('Валидационная выборка:', features_valid.shape)\n",
    "print(target_valid.shape)\n",
    "print('Тестовая выборка:', features_test.shape)\n",
    "print(target_test.shape)"
   ]
  },
  {
   "cell_type": "markdown",
   "metadata": {},
   "source": [
    "Обучим модель методом DecisionTreeClassifier (Дерево Решений)"
   ]
  },
  {
   "cell_type": "code",
   "execution_count": 13,
   "metadata": {},
   "outputs": [
    {
     "name": "stdout",
     "output_type": "stream",
     "text": [
      "0.39749213828703583\n"
     ]
    }
   ],
   "source": [
    "best_model = None\n",
    "best_result = 10000\n",
    "best_depth = 0\n",
    "for depth in range(1, 6):\n",
    "    model = DecisionTreeClassifier(random_state=12345, max_depth=depth) \n",
    "    model.fit(features_train, target_train) \n",
    "    predicted_valid = model.predict(features_valid) \n",
    "    result = mean_squared_error(target_valid, predicted_valid) ** 0.5 \n",
    "    if result < best_result:\n",
    "        best_model = model\n",
    "        best_result = result\n",
    "        best_depth = depth\n",
    "print(best_result)"
   ]
  },
  {
   "cell_type": "code",
   "execution_count": 14,
   "metadata": {},
   "outputs": [
    {
     "name": "stdout",
     "output_type": "stream",
     "text": [
      "Матрица ошибок: [[1525   52]\n",
      " [ 264  159]]\n",
      "Полнота: 0.375886524822695\n",
      "Точность: 0.7535545023696683\n",
      "F1 мера: 0.5015772870662459\n"
     ]
    }
   ],
   "source": [
    "print('Матрица ошибок:', confusion_matrix(target_valid, predicted_valid))\n",
    "print('Полнота:', recall_score(target_valid, predicted_valid))\n",
    "print('Точность:', precision_score(target_valid, predicted_valid))\n",
    "print( 'F1 мера:', f1_score(predicted_valid, target_valid))"
   ]
  },
  {
   "cell_type": "markdown",
   "metadata": {},
   "source": [
    "Обучим модель методом LogisticRegression"
   ]
  },
  {
   "cell_type": "code",
   "execution_count": 15,
   "metadata": {},
   "outputs": [
    {
     "name": "stdout",
     "output_type": "stream",
     "text": [
      "F1 мера: 0.13441955193482688\n"
     ]
    }
   ],
   "source": [
    "model = LogisticRegression(random_state=12345, solver = 'liblinear')\n",
    "model.fit(features_train, target_train)\n",
    "predicted_valid = model.predict(features_valid)\n",
    "print('F1 мера:', f1_score(target_valid, predicted_valid))"
   ]
  },
  {
   "cell_type": "markdown",
   "metadata": {},
   "source": [
    "## Борьба с дисбалансом"
   ]
  },
  {
   "cell_type": "markdown",
   "metadata": {},
   "source": [
    "Напишем функцию, используя Upsampling(от англ. up, «вверх»; sampling, «выборка»), обучим модели с помощью новых данных и узнаем F1"
   ]
  },
  {
   "cell_type": "code",
   "execution_count": 16,
   "metadata": {},
   "outputs": [],
   "source": [
    "def checkstat (model, features, target): \n",
    "    model.fit(features, target)\n",
    "    predicted_valid=model.predict(features_valid)\n",
    "    print(\"F1:\", f1_score(target_valid, predicted_valid))\n",
    "    print(recall_score(target_valid, predicted_valid))\n",
    "    print(precision_score(target_valid, predicted_valid))"
   ]
  },
  {
   "cell_type": "code",
   "execution_count": 17,
   "metadata": {
    "scrolled": true
   },
   "outputs": [
    {
     "name": "stdout",
     "output_type": "stream",
     "text": [
      "F1: 0.3741814780168382\n",
      "0.9456264775413712\n",
      "0.23323615160349853\n",
      "F1: 0.520471894517696\n",
      "0.8865248226950354\n",
      "0.36836935166994106\n",
      "F1: 0.6021934197407777\n",
      "0.7139479905437353\n",
      "0.5206896551724138\n"
     ]
    }
   ],
   "source": [
    "def upsample(features, target, repeat):\n",
    "    features_zeros = features[target == 0]\n",
    "    features_ones = features[target == 1]\n",
    "    target_zeros = target[target == 0]\n",
    "    target_ones = target[target == 1]\n",
    "\n",
    "    features_upsampled = pd.concat([features_zeros] + [features_ones] * repeat)\n",
    "    target_upsampled = pd.concat([target_zeros] + [target_ones] * repeat)\n",
    "    \n",
    "    features_upsampled, target_upsampled = shuffle(\n",
    "        features_upsampled, target_upsampled, random_state=12345)\n",
    "    \n",
    "    return features_upsampled, target_upsampled\n",
    "\n",
    "features_upsampled, target_upsampled = upsample(features_train, target_train, 10)\n",
    "\n",
    "model_lr = LogisticRegression(random_state=12345, solver = 'liblinear')\n",
    "checkstat(model_lr, features_upsampled, target_upsampled)\n",
    "\n",
    "model_dtc = DecisionTreeClassifier(random_state=12345, max_depth=5)\n",
    "checkstat(model_dtc, features_upsampled, target_upsampled)\n",
    "\n",
    "model_rfc = RandomForestClassifier(random_state=12345, n_estimators=71, max_depth=5, class_weight='balanced')\n",
    "checkstat(model_rfc, features_upsampled, target_upsampled)\n"
   ]
  },
  {
   "cell_type": "markdown",
   "metadata": {},
   "source": [
    "По примеру предыдущей функции напишем функцию, используя Downsampling(от англ. down, «вниз»; sampling, «выборка»), обучим модели с помощью новых данных и узнаем F1"
   ]
  },
  {
   "cell_type": "code",
   "execution_count": 18,
   "metadata": {},
   "outputs": [
    {
     "name": "stdout",
     "output_type": "stream",
     "text": [
      "F1: 0.37337057728119183\n",
      "0.9479905437352246\n",
      "0.23246376811594202\n",
      "F1: 0.5112168592794017\n",
      "0.8888888888888888\n",
      "0.35877862595419846\n",
      "F1: 0.5485008818342151\n",
      "0.735224586288416\n",
      "0.43741209563994377\n"
     ]
    }
   ],
   "source": [
    "def downsample(features,target, fraction):\n",
    "    features_zeros = features[target==0]\n",
    "    features_ones = features[target==1]\n",
    "    target_zeros = target[target==0]\n",
    "    target_ones= target[target==1]\n",
    "    \n",
    "    features_downsampled = pd.concat(\n",
    "        [features_zeros.sample(frac=fraction, random_state=12345)] + [features_ones])\n",
    "    target_downsampled = pd.concat(\n",
    "        [target_zeros.sample(frac=fraction, random_state=12345)] + [target_ones])\n",
    "    \n",
    "    features_downsampled, target_downsampled= shuffle(\n",
    "        features_downsampled, target_downsampled, random_state=12345)\n",
    "    \n",
    "    return features_downsampled, target_downsampled\n",
    "\n",
    "features_downsampled, target_downsampled = downsample(features_train, target_train, 0.1)\n",
    "\n",
    "model_lr = LogisticRegression(random_state=12345, solver='liblinear')\n",
    "checkstat(model_lr,features_downsampled, target_downsampled)\n",
    "\n",
    "model_dtc = DecisionTreeClassifier(random_state=12345, max_depth=5)\n",
    "checkstat(model_dtc, features_downsampled, target_downsampled)\n",
    "\n",
    "model_rfc = RandomForestClassifier(random_state=12345, n_estimators=71, max_depth=5, class_weight='balanced')\n",
    "checkstat(model_rfc, features_downsampled, target_downsampled)"
   ]
  },
  {
   "cell_type": "markdown",
   "metadata": {},
   "source": [
    "Переберём значения порогов от 0 до 0.9 с шагом 0.02. Найдём для каждого значения точность и полноту. Напечатаем результаты на экране "
   ]
  },
  {
   "cell_type": "code",
   "execution_count": 19,
   "metadata": {},
   "outputs": [
    {
     "name": "stdout",
     "output_type": "stream",
     "text": [
      "Порог = 0.00 | Точность = 0.211, Полнота = 1.000, F1 = 0.349154\n",
      "Порог = 0.02 | Точность = 0.211, Полнота = 1.000, F1 = 0.349154\n",
      "Порог = 0.04 | Точность = 0.212, Полнота = 1.000, F1 = 0.350021\n",
      "Порог = 0.06 | Точность = 0.216, Полнота = 0.991, F1 = 0.354484\n",
      "Порог = 0.08 | Точность = 0.222, Полнота = 0.969, F1 = 0.361712\n",
      "Порог = 0.10 | Точность = 0.231, Полнота = 0.917, F1 = 0.368471\n",
      "Порог = 0.12 | Точность = 0.243, Полнота = 0.865, F1 = 0.379275\n",
      "Порог = 0.14 | Точность = 0.255, Полнота = 0.809, F1 = 0.387535\n",
      "Порог = 0.16 | Точность = 0.259, Полнота = 0.735, F1 = 0.383005\n",
      "Порог = 0.18 | Точность = 0.272, Полнота = 0.652, F1 = 0.383600\n",
      "Порог = 0.20 | Точность = 0.285, Полнота = 0.596, F1 = 0.385911\n",
      "Порог = 0.22 | Точность = 0.300, Полнота = 0.539, F1 = 0.385787\n",
      "Порог = 0.24 | Точность = 0.310, Полнота = 0.473, F1 = 0.374532\n",
      "Порог = 0.26 | Точность = 0.316, Полнота = 0.409, F1 = 0.356701\n",
      "Порог = 0.28 | Точность = 0.343, Полнота = 0.374, F1 = 0.357871\n",
      "Порог = 0.30 | Точность = 0.354, Полнота = 0.317, F1 = 0.334165\n",
      "Порог = 0.32 | Точность = 0.387, Полнота = 0.291, F1 = 0.331984\n",
      "Порог = 0.34 | Точность = 0.405, Полнота = 0.251, F1 = 0.309489\n",
      "Порог = 0.36 | Точность = 0.396, Полнота = 0.194, F1 = 0.260317\n",
      "Порог = 0.38 | Точность = 0.406, Полнота = 0.173, F1 = 0.242123\n",
      "Порог = 0.40 | Точность = 0.420, Полнота = 0.149, F1 = 0.219895\n",
      "Порог = 0.42 | Точность = 0.444, Полнота = 0.132, F1 = 0.204007\n",
      "Порог = 0.44 | Точность = 0.491, Полнота = 0.128, F1 = 0.202627\n",
      "Порог = 0.46 | Точность = 0.495, Полнота = 0.111, F1 = 0.181467\n",
      "Порог = 0.48 | Точность = 0.488, Полнота = 0.095, F1 = 0.158416\n",
      "Порог = 0.50 | Точность = 0.485, Полнота = 0.078, F1 = 0.134420\n",
      "Порог = 0.52 | Точность = 0.481, Полнота = 0.059, F1 = 0.105263\n",
      "Порог = 0.54 | Точность = 0.488, Полнота = 0.050, F1 = 0.090129\n",
      "Порог = 0.56 | Точность = 0.419, Полнота = 0.031, F1 = 0.057269\n",
      "Порог = 0.58 | Точность = 0.429, Полнота = 0.028, F1 = 0.053215\n",
      "Порог = 0.60 | Точность = 0.421, Полнота = 0.019, F1 = 0.036199\n",
      "Порог = 0.62 | Точность = 0.286, Полнота = 0.009, F1 = 0.018307\n",
      "Порог = 0.64 | Точность = 0.364, Полнота = 0.009, F1 = 0.018433\n",
      "Порог = 0.66 | Точность = 0.429, Полнота = 0.007, F1 = 0.013953\n",
      "Порог = 0.68 | Точность = 0.200, Полнота = 0.002, F1 = 0.004673\n",
      "Порог = 0.70 | Точность = 0.500, Полнота = 0.002, F1 = 0.004706\n",
      "Порог = 0.72 | Точность = 0.000, Полнота = 0.000, F1 = 0.000000\n",
      "Порог = 0.74 | Точность = 0.000, Полнота = 0.000, F1 = 0.000000\n",
      "Порог = 0.76 | Точность = 0.000, Полнота = 0.000, F1 = 0.000000\n",
      "Порог = 0.78 | Точность = 0.000, Полнота = 0.000, F1 = 0.000000\n",
      "Порог = 0.80 | Точность = 0.000, Полнота = 0.000, F1 = 0.000000\n",
      "Порог = 0.82 | Точность = 0.000, Полнота = 0.000, F1 = 0.000000\n",
      "Порог = 0.84 | Точность = 0.000, Полнота = 0.000, F1 = 0.000000\n",
      "Порог = 0.86 | Точность = 0.000, Полнота = 0.000, F1 = 0.000000\n",
      "Порог = 0.88 | Точность = 0.000, Полнота = 0.000, F1 = 0.000000\n"
     ]
    }
   ],
   "source": [
    "probabilities_valid = model.predict_proba(features_valid)\n",
    "probabilities_one_valid = probabilities_valid[:, 1]\n",
    "\n",
    "for threshold in np.arange(0, 0.9, 0.02):\n",
    "    predicted_valid = probabilities_one_valid > threshold\n",
    "    precision = precision_score(target_valid, predicted_valid)\n",
    "    recall = recall_score(target_valid, predicted_valid) \n",
    "    f1=f1_score(target_valid, predicted_valid)\n",
    "\n",
    "    print(\"Порог = {:.2f} | Точность = {:.3f}, Полнота = {:.3f}, F1 = {:3f}\".format(\n",
    "        threshold, precision, recall, f1))"
   ]
  },
  {
   "cell_type": "markdown",
   "metadata": {},
   "source": [
    "Как мы видим лучший показатель F1 при пороге 0.20.\n",
    "\n",
    "Построем Roc-кривую и визуализируем ее"
   ]
  },
  {
   "cell_type": "code",
   "execution_count": 20,
   "metadata": {},
   "outputs": [
    {
     "data": {
      "text/plain": [
       "Text(0.5, 1.0, 'ROC-кривая')"
      ]
     },
     "execution_count": 20,
     "metadata": {},
     "output_type": "execute_result"
    },
    {
     "data": {
      "image/png": "[encoded data removed]",
      "text/plain": [
       "<Figure size 432x288 with 1 Axes>"
      ]
     },
     "metadata": {
      "needs_background": "light"
     },
     "output_type": "display_data"
    }
   ],
   "source": [
    "fpr, tpr, thresholds = roc_curve(target_valid, probabilities_one_valid) # < напишите код здесь >\n",
    "\n",
    "plt.figure()\n",
    "plt.plot(fpr, tpr)\n",
    "plt.xlim([0.0, 1.0])\n",
    "plt.ylim([0.0, 1.0])\n",
    "plt.xlabel('False Positive Rate')\n",
    "plt.ylabel('True Positive Rate')\n",
    "plt.title(\"ROC-кривая\")"
   ]
  },
  {
   "cell_type": "markdown",
   "metadata": {},
   "source": [
    "Используя различные модели(DecisiontreeClassifier, RandomForestClassifier и LogisticRegression) найдем лучший результат и определим лучшую для расчета модель"
   ]
  },
  {
   "cell_type": "code",
   "execution_count": 21,
   "metadata": {},
   "outputs": [],
   "source": [
    "def proby (model, threshold=0.20):\n",
    "    threshold = 0.20\n",
    "    prob = []\n",
    "    probabilities_valid = model.predict_proba(features_valid)\n",
    "    probabilities_one_valid = probabilities_valid[:,1]\n",
    "    for probab in probabilities_one_valid:\n",
    "        if probab > threshold:\n",
    "            prob.append(1)\n",
    "        else:\n",
    "            prob.append(0)\n",
    "    return prob"
   ]
  },
  {
   "cell_type": "markdown",
   "metadata": {},
   "source": [
    "DecisionTreeClassifier (Дерево решений)"
   ]
  },
  {
   "cell_type": "code",
   "execution_count": 22,
   "metadata": {},
   "outputs": [
    {
     "name": "stdout",
     "output_type": "stream",
     "text": [
      "Точность наилучшей модели на валидационной выборке: 0.7065 минимум значений в листе: 1 Максимальная глубина: 14 лучшее разделение: 3 ROC-AUC: 0.7993564403189466\n"
     ]
    }
   ],
   "source": [
    "model_dtr = DecisionTreeClassifier(random_state=12345)\n",
    "best_model = None\n",
    "best_result = 3214\n",
    "best_leaf = 0\n",
    "best_depth = 5\n",
    "best_split = 2\n",
    "\n",
    "for split in range(3, 11):\n",
    "    for leaf in range(1, 11):\n",
    "        for depth in range (1, 15):\n",
    "            model_dtr = DecisionTreeClassifier(random_state=12345, max_depth=depth, min_samples_leaf=leaf, min_samples_split= split)\n",
    "            model_dtr.fit(features_train, target_train) \n",
    "            predictions_valid = model_dtr.predict(features_valid) \n",
    "            movedts_valid=proby(model_dtr, threshold)\n",
    "            result = model_dtr.score(features_valid, movedts_valid) \n",
    "            probabilities_valid = model_dtr.predict_proba(features_valid)\n",
    "            probabilities_one_valid = probabilities_valid[:, 1]\n",
    "            auc_roc = roc_auc_score(target_valid, probabilities_one_valid)\n",
    "            if result < best_result:\n",
    "                best_model = model_dtr\n",
    "                best_result = result\n",
    "                best_leaf = leaf\n",
    "                best_depth = depth\n",
    "                best_split=split\n",
    "print(\"Точность наилучшей модели на валидационной выборке:\", best_result, \n",
    "      \"минимум значений в листе:\", best_leaf, \"Максимальная глубина:\", depth, \"лучшее разделение:\", best_split, 'ROC-AUC:',auc_roc)"
   ]
  },
  {
   "cell_type": "code",
   "execution_count": 23,
   "metadata": {},
   "outputs": [
    {
     "name": "stdout",
     "output_type": "stream",
     "text": [
      "Точность наилучшей модели на валидационной выборке: 0.989 Количество деревьев: 1 Максимальная глубина: 14 ROC-AUC: 0.9999970018183971\n"
     ]
    }
   ],
   "source": [
    "for est in range(1, 101, 10):\n",
    "    for depth in range (1, 15):\n",
    "        model = RandomForestClassifier(random_state=12345, n_estimators=est, max_depth=depth)\n",
    "        model.fit(features_valid, target_valid) \n",
    "        predictions_valid = model.predict(features_valid)\n",
    "        movedts_valid=proby(model, 0.20)\n",
    "        result = model.score(features_valid, movedts_valid)\n",
    "        probabilities_valid = model.predict_proba(features_valid)\n",
    "        probabilities_one_valid = probabilities_valid[:, 1]\n",
    "        auc_roc = roc_auc_score(target_valid, probabilities_one_valid) \n",
    "        if result > best_result:\n",
    "            best_model = model\n",
    "            best_result = result\n",
    "            best_est = est\n",
    "            best_depth = depth\n",
    "\n",
    "print(\"Точность наилучшей модели на валидационной выборке:\", best_result, \n",
    "      \"Количество деревьев:\", best_est, \"Максимальная глубина:\", depth, 'ROC-AUC:',auc_roc)"
   ]
  },
  {
   "cell_type": "code",
   "execution_count": 24,
   "metadata": {},
   "outputs": [
    {
     "name": "stdout",
     "output_type": "stream",
     "text": [
      "Точность модели на валидационной выборке: 0.6005 ROC-AUC: 0.9999970018183971\n"
     ]
    }
   ],
   "source": [
    "model_lr = LogisticRegression(random_state=12345, solver='liblinear') \n",
    "model_lr.fit(features_train, target_train)\n",
    "movedts_valid=proby(model_lr, 0.20)\n",
    "result = model.score(features_valid, movedts_valid)\n",
    "probabilities_valid = model.predict_proba(features_valid)\n",
    "probabilities_one_valid = probabilities_valid[:, 1]\n",
    "auc_roc = roc_auc_score(target_valid, probabilities_one_valid)\n",
    "print(\"Точность модели на валидационной выборке:\", result, 'ROC-AUC:',auc_roc)"
   ]
  },
  {
   "cell_type": "markdown",
   "metadata": {},
   "source": [
    "Вывод - метод случайного леса показывает наилучший результат по сравнению с другими моделями"
   ]
  },
  {
   "cell_type": "markdown",
   "metadata": {},
   "source": [
    "## Тестирование модели"
   ]
  },
  {
   "cell_type": "markdown",
   "metadata": {},
   "source": [
    "Лучший показатель показал метод Случайного леса"
   ]
  },
  {
   "cell_type": "code",
   "execution_count": 25,
   "metadata": {},
   "outputs": [
    {
     "data": {
      "text/plain": [
       "0.997"
      ]
     },
     "execution_count": 25,
     "metadata": {},
     "output_type": "execute_result"
    }
   ],
   "source": [
    "model_test = RandomForestClassifier(random_state=12345, n_estimators=est, max_depth=depth)\n",
    "model_test.fit(features_test, target_test)\n",
    "predictions_test = model_test.predict(features_test)\n",
    "accuracy_test = accuracy_score(target_test, predictions_test)\n",
    "accuracy_test\n"
   ]
  },
  {
   "cell_type": "markdown",
   "metadata": {},
   "source": [
    "Тестирование модели показало, что модель способна правильно предсказать около 99% ответов"
   ]
  },
  {
   "cell_type": "markdown",
   "metadata": {},
   "source": [
    "# Вывод"
   ]
  },
  {
   "cell_type": "markdown",
   "metadata": {},
   "source": [
    "В данной работе проделали следующие шаги:\n",
    "- открывали предоставленный датасет и изучили информацию о данных (получили статистические данные, общую информацию по датасету, проверили датасет на наличие дубликатов)\n",
    "- перевели названия столбцов в нижний регистр\n",
    "- рассчитали долю объектов положительного и отрицательных классов и выяснили, что доля отрицательного класса в 4 раза больше\n",
    "- разделили предоставленные данные на обучающую, тестовуюи валидационную выборки в пропорции 3:1:1\n",
    "- провели работу по борьбе с дисбалансом (написали функцию, используя Upsampling и Downsampling, обучили модели с помощью новых данных и узнали F1, перебрали значения порогов от 0 до 0.9 с шагом 0.02 и нашли для каждого значения точность и полноту, выяснили, что лучший показатель F1 при пороге 0.20, построили Roc-кривую, используя различные модели(DecisiontreeClassifier, RandomForestClassifier и LogisticRegression) нашли лучший результат и определили лучшую для расчета модель\n",
    "- при тестировании модели выяснили, что модель может предсказать 99% ответов"
   ]
  }
 ],
 "metadata": {
  "ExecuteTimeLog": [
   {
    "duration": 56,
    "start_time": "2022-06-04T16:28:21.102Z"
   },
   {
    "duration": 872,
    "start_time": "2022-06-04T16:28:25.537Z"
   },
   {
    "duration": 10,
    "start_time": "2022-06-04T16:28:39.294Z"
   },
   {
    "duration": 483,
    "start_time": "2022-06-04T16:28:50.447Z"
   },
   {
    "duration": 10,
    "start_time": "2022-06-04T16:28:59.721Z"
   },
   {
    "duration": 9,
    "start_time": "2022-06-04T16:29:10.814Z"
   },
   {
    "duration": 105,
    "start_time": "2022-06-04T16:29:21.065Z"
   },
   {
    "duration": 10,
    "start_time": "2022-06-04T16:29:31.250Z"
   },
   {
    "duration": 3,
    "start_time": "2022-06-04T16:29:49.298Z"
   },
   {
    "duration": 159,
    "start_time": "2022-06-04T16:29:50.946Z"
   },
   {
    "duration": 53,
    "start_time": "2022-06-06T04:42:21.943Z"
   },
   {
    "duration": 1307,
    "start_time": "2022-06-06T04:42:28.757Z"
   },
   {
    "duration": 101,
    "start_time": "2022-06-06T04:42:30.066Z"
   },
   {
    "duration": 43,
    "start_time": "2022-06-06T04:42:30.168Z"
   },
   {
    "duration": 11,
    "start_time": "2022-06-06T04:42:58.582Z"
   },
   {
    "duration": 10,
    "start_time": "2022-06-06T04:45:18.763Z"
   },
   {
    "duration": 9,
    "start_time": "2022-06-06T04:46:08.290Z"
   },
   {
    "duration": 12,
    "start_time": "2022-06-06T04:49:33.934Z"
   },
   {
    "duration": 82,
    "start_time": "2022-06-06T09:47:37.676Z"
   },
   {
    "duration": 1573,
    "start_time": "2022-06-06T09:47:45.973Z"
   },
   {
    "duration": 105,
    "start_time": "2022-06-06T09:47:47.547Z"
   },
   {
    "duration": 61,
    "start_time": "2022-06-06T09:47:47.655Z"
   },
   {
    "duration": 14,
    "start_time": "2022-06-06T09:47:47.718Z"
   },
   {
    "duration": 35,
    "start_time": "2022-06-06T09:47:47.734Z"
   },
   {
    "duration": 20,
    "start_time": "2022-06-06T09:47:47.771Z"
   },
   {
    "duration": 128,
    "start_time": "2022-06-06T09:48:02.045Z"
   },
   {
    "duration": 10,
    "start_time": "2022-06-06T09:48:07.010Z"
   },
   {
    "duration": 4,
    "start_time": "2022-06-06T09:58:49.273Z"
   },
   {
    "duration": 12,
    "start_time": "2022-06-06T09:58:56.868Z"
   },
   {
    "duration": 17,
    "start_time": "2022-06-06T09:59:06.639Z"
   },
   {
    "duration": 6,
    "start_time": "2022-06-06T09:59:25.623Z"
   },
   {
    "duration": 38,
    "start_time": "2022-06-06T10:00:03.916Z"
   },
   {
    "duration": 7,
    "start_time": "2022-06-06T10:01:06.361Z"
   },
   {
    "duration": 6,
    "start_time": "2022-06-06T10:01:51.583Z"
   },
   {
    "duration": 17,
    "start_time": "2022-06-06T10:16:07.240Z"
   },
   {
    "duration": 6,
    "start_time": "2022-06-06T10:16:14.044Z"
   },
   {
    "duration": 1483,
    "start_time": "2022-06-06T10:16:43.966Z"
   },
   {
    "duration": 92,
    "start_time": "2022-06-06T10:16:45.452Z"
   },
   {
    "duration": 68,
    "start_time": "2022-06-06T10:16:45.546Z"
   },
   {
    "duration": 15,
    "start_time": "2022-06-06T10:16:45.616Z"
   },
   {
    "duration": 14,
    "start_time": "2022-06-06T10:16:45.632Z"
   },
   {
    "duration": 42,
    "start_time": "2022-06-06T10:16:45.648Z"
   },
   {
    "duration": 15,
    "start_time": "2022-06-06T10:16:45.693Z"
   },
   {
    "duration": 16,
    "start_time": "2022-06-06T10:16:45.712Z"
   },
   {
    "duration": 16,
    "start_time": "2022-06-06T10:16:45.730Z"
   },
   {
    "duration": 2852,
    "start_time": "2022-06-10T13:09:47.238Z"
   },
   {
    "duration": 118,
    "start_time": "2022-06-10T13:09:50.092Z"
   },
   {
    "duration": 40,
    "start_time": "2022-06-10T13:09:50.212Z"
   },
   {
    "duration": 18,
    "start_time": "2022-06-10T13:09:50.255Z"
   },
   {
    "duration": 37,
    "start_time": "2022-06-10T13:09:50.274Z"
   },
   {
    "duration": 13,
    "start_time": "2022-06-10T13:09:50.313Z"
   },
   {
    "duration": 7,
    "start_time": "2022-06-10T13:09:50.328Z"
   },
   {
    "duration": 8,
    "start_time": "2022-06-10T13:09:50.336Z"
   },
   {
    "duration": 6,
    "start_time": "2022-06-10T13:09:50.346Z"
   },
   {
    "duration": 116,
    "start_time": "2022-06-10T13:30:49.211Z"
   },
   {
    "duration": 12,
    "start_time": "2022-06-10T13:31:23.031Z"
   },
   {
    "duration": 10,
    "start_time": "2022-06-10T13:31:31.342Z"
   },
   {
    "duration": 12,
    "start_time": "2022-06-10T13:34:02.625Z"
   },
   {
    "duration": 20,
    "start_time": "2022-06-10T13:34:21.573Z"
   },
   {
    "duration": 13,
    "start_time": "2022-06-10T13:40:56.306Z"
   },
   {
    "duration": 13,
    "start_time": "2022-06-10T13:42:52.247Z"
   },
   {
    "duration": 10,
    "start_time": "2022-06-10T13:43:56.220Z"
   },
   {
    "duration": 1433,
    "start_time": "2022-06-10T13:45:09.887Z"
   },
   {
    "duration": 78,
    "start_time": "2022-06-10T13:45:11.322Z"
   },
   {
    "duration": 45,
    "start_time": "2022-06-10T13:45:11.401Z"
   },
   {
    "duration": 19,
    "start_time": "2022-06-10T13:45:11.448Z"
   },
   {
    "duration": 14,
    "start_time": "2022-06-10T13:45:11.470Z"
   },
   {
    "duration": 31,
    "start_time": "2022-06-10T13:45:11.486Z"
   },
   {
    "duration": 42,
    "start_time": "2022-06-10T13:45:11.519Z"
   },
   {
    "duration": 74,
    "start_time": "2022-06-10T13:45:11.567Z"
   },
   {
    "duration": 9,
    "start_time": "2022-06-10T13:45:11.643Z"
   },
   {
    "duration": 20,
    "start_time": "2022-06-10T13:45:11.653Z"
   },
   {
    "duration": 1344,
    "start_time": "2022-06-10T13:46:14.796Z"
   },
   {
    "duration": 79,
    "start_time": "2022-06-10T13:46:16.142Z"
   },
   {
    "duration": 56,
    "start_time": "2022-06-10T13:46:16.223Z"
   },
   {
    "duration": 21,
    "start_time": "2022-06-10T13:46:16.283Z"
   },
   {
    "duration": 18,
    "start_time": "2022-06-10T13:46:16.308Z"
   },
   {
    "duration": 5,
    "start_time": "2022-06-10T13:46:16.327Z"
   },
   {
    "duration": 10,
    "start_time": "2022-06-10T13:46:16.333Z"
   },
   {
    "duration": 7,
    "start_time": "2022-06-10T13:46:16.345Z"
   },
   {
    "duration": 30,
    "start_time": "2022-06-10T13:46:16.353Z"
   },
   {
    "duration": 32,
    "start_time": "2022-06-10T13:46:16.396Z"
   },
   {
    "duration": 1279,
    "start_time": "2022-06-10T13:48:19.817Z"
   },
   {
    "duration": 51,
    "start_time": "2022-06-10T13:48:21.099Z"
   },
   {
    "duration": 50,
    "start_time": "2022-06-10T13:48:21.152Z"
   },
   {
    "duration": 19,
    "start_time": "2022-06-10T13:48:21.204Z"
   },
   {
    "duration": 17,
    "start_time": "2022-06-10T13:48:21.226Z"
   },
   {
    "duration": 53,
    "start_time": "2022-06-10T13:48:21.245Z"
   },
   {
    "duration": 17,
    "start_time": "2022-06-10T13:48:21.299Z"
   },
   {
    "duration": 26,
    "start_time": "2022-06-10T13:48:21.317Z"
   },
   {
    "duration": 13,
    "start_time": "2022-06-10T13:48:21.344Z"
   },
   {
    "duration": 47,
    "start_time": "2022-06-10T13:48:21.359Z"
   },
   {
    "duration": 149,
    "start_time": "2022-06-10T13:48:21.407Z"
   },
   {
    "duration": 19,
    "start_time": "2022-06-10T13:48:34.248Z"
   },
   {
    "duration": 11,
    "start_time": "2022-06-10T13:49:11.295Z"
   },
   {
    "duration": 22,
    "start_time": "2022-06-10T14:00:03.507Z"
   },
   {
    "duration": 20,
    "start_time": "2022-06-10T14:06:29.577Z"
   },
   {
    "duration": 1359,
    "start_time": "2022-06-10T14:06:44.122Z"
   },
   {
    "duration": 67,
    "start_time": "2022-06-10T14:06:45.485Z"
   },
   {
    "duration": 64,
    "start_time": "2022-06-10T14:06:45.553Z"
   },
   {
    "duration": 17,
    "start_time": "2022-06-10T14:06:45.619Z"
   },
   {
    "duration": 10,
    "start_time": "2022-06-10T14:06:45.637Z"
   },
   {
    "duration": 153,
    "start_time": "2022-06-10T14:06:45.649Z"
   },
   {
    "duration": 0,
    "start_time": "2022-06-10T14:06:45.804Z"
   },
   {
    "duration": 0,
    "start_time": "2022-06-10T14:06:45.805Z"
   },
   {
    "duration": 0,
    "start_time": "2022-06-10T14:06:45.806Z"
   },
   {
    "duration": 0,
    "start_time": "2022-06-10T14:06:45.807Z"
   },
   {
    "duration": 0,
    "start_time": "2022-06-10T14:06:45.812Z"
   },
   {
    "duration": 0,
    "start_time": "2022-06-10T14:06:45.813Z"
   },
   {
    "duration": 12,
    "start_time": "2022-06-10T14:07:03.709Z"
   },
   {
    "duration": 1383,
    "start_time": "2022-06-10T14:07:11.004Z"
   },
   {
    "duration": 62,
    "start_time": "2022-06-10T14:07:12.394Z"
   },
   {
    "duration": 49,
    "start_time": "2022-06-10T14:07:12.464Z"
   },
   {
    "duration": 16,
    "start_time": "2022-06-10T14:07:12.514Z"
   },
   {
    "duration": 10,
    "start_time": "2022-06-10T14:07:12.533Z"
   },
   {
    "duration": 34,
    "start_time": "2022-06-10T14:07:12.544Z"
   },
   {
    "duration": 6,
    "start_time": "2022-06-10T14:07:12.579Z"
   },
   {
    "duration": 6,
    "start_time": "2022-06-10T14:07:12.587Z"
   },
   {
    "duration": 27,
    "start_time": "2022-06-10T14:07:12.595Z"
   },
   {
    "duration": 19,
    "start_time": "2022-06-10T14:07:12.623Z"
   },
   {
    "duration": 22,
    "start_time": "2022-06-10T14:07:12.644Z"
   },
   {
    "duration": 52,
    "start_time": "2022-06-10T14:07:12.670Z"
   },
   {
    "duration": 126,
    "start_time": "2022-06-10T14:11:07.930Z"
   },
   {
    "duration": 1336,
    "start_time": "2022-06-10T14:12:06.132Z"
   },
   {
    "duration": 86,
    "start_time": "2022-06-10T14:12:07.477Z"
   },
   {
    "duration": 47,
    "start_time": "2022-06-10T14:12:07.570Z"
   },
   {
    "duration": 28,
    "start_time": "2022-06-10T14:12:07.621Z"
   },
   {
    "duration": 81,
    "start_time": "2022-06-10T14:12:07.651Z"
   },
   {
    "duration": 22,
    "start_time": "2022-06-10T14:12:07.734Z"
   },
   {
    "duration": 66,
    "start_time": "2022-06-10T14:12:07.758Z"
   },
   {
    "duration": 13,
    "start_time": "2022-06-10T14:12:07.826Z"
   },
   {
    "duration": 7,
    "start_time": "2022-06-10T14:12:07.841Z"
   },
   {
    "duration": 15,
    "start_time": "2022-06-10T14:12:07.851Z"
   },
   {
    "duration": 70,
    "start_time": "2022-06-10T14:12:07.871Z"
   },
   {
    "duration": 33,
    "start_time": "2022-06-10T14:12:07.942Z"
   },
   {
    "duration": 175,
    "start_time": "2022-06-10T14:12:07.976Z"
   },
   {
    "duration": 16,
    "start_time": "2022-06-10T14:12:27.008Z"
   },
   {
    "duration": 17,
    "start_time": "2022-06-10T14:13:03.034Z"
   },
   {
    "duration": 21,
    "start_time": "2022-06-10T14:13:28.586Z"
   },
   {
    "duration": 21,
    "start_time": "2022-06-10T14:13:53.099Z"
   },
   {
    "duration": 1353,
    "start_time": "2022-06-10T14:15:06.125Z"
   },
   {
    "duration": 67,
    "start_time": "2022-06-10T14:15:07.483Z"
   },
   {
    "duration": 63,
    "start_time": "2022-06-10T14:15:07.552Z"
   },
   {
    "duration": 21,
    "start_time": "2022-06-10T14:15:07.617Z"
   },
   {
    "duration": 12,
    "start_time": "2022-06-10T14:15:07.640Z"
   },
   {
    "duration": 32,
    "start_time": "2022-06-10T14:15:07.654Z"
   },
   {
    "duration": 22,
    "start_time": "2022-06-10T14:15:07.695Z"
   },
   {
    "duration": 18,
    "start_time": "2022-06-10T14:15:07.719Z"
   },
   {
    "duration": 7,
    "start_time": "2022-06-10T14:15:07.738Z"
   },
   {
    "duration": 9,
    "start_time": "2022-06-10T14:15:07.748Z"
   },
   {
    "duration": 47,
    "start_time": "2022-06-10T14:15:07.761Z"
   },
   {
    "duration": 30,
    "start_time": "2022-06-10T14:15:07.809Z"
   },
   {
    "duration": 8,
    "start_time": "2022-06-10T14:15:07.841Z"
   },
   {
    "duration": 18,
    "start_time": "2022-06-10T14:17:01.887Z"
   },
   {
    "duration": 58,
    "start_time": "2022-06-10T14:20:56.404Z"
   },
   {
    "duration": 27,
    "start_time": "2022-06-10T14:21:52.497Z"
   },
   {
    "duration": 45,
    "start_time": "2022-06-10T14:23:59.332Z"
   },
   {
    "duration": 153,
    "start_time": "2022-06-10T14:32:31.311Z"
   },
   {
    "duration": 1424,
    "start_time": "2022-06-11T07:55:49.352Z"
   },
   {
    "duration": 99,
    "start_time": "2022-06-11T07:55:50.778Z"
   },
   {
    "duration": 41,
    "start_time": "2022-06-11T07:55:50.879Z"
   },
   {
    "duration": 13,
    "start_time": "2022-06-11T07:55:50.923Z"
   },
   {
    "duration": 10,
    "start_time": "2022-06-11T07:55:50.938Z"
   },
   {
    "duration": 13,
    "start_time": "2022-06-11T07:55:50.950Z"
   },
   {
    "duration": 42,
    "start_time": "2022-06-11T07:55:50.964Z"
   },
   {
    "duration": 11,
    "start_time": "2022-06-11T07:55:51.007Z"
   },
   {
    "duration": 5,
    "start_time": "2022-06-11T07:55:51.020Z"
   },
   {
    "duration": 12,
    "start_time": "2022-06-11T07:55:51.027Z"
   },
   {
    "duration": 10,
    "start_time": "2022-06-11T07:55:51.041Z"
   },
   {
    "duration": 58,
    "start_time": "2022-06-11T07:55:51.052Z"
   },
   {
    "duration": 15,
    "start_time": "2022-06-11T07:55:51.111Z"
   },
   {
    "duration": 90,
    "start_time": "2022-06-11T07:55:51.128Z"
   },
   {
    "duration": 221,
    "start_time": "2022-06-11T07:55:51.297Z"
   },
   {
    "duration": 4,
    "start_time": "2022-06-11T08:03:15.699Z"
   },
   {
    "duration": 134,
    "start_time": "2022-06-11T08:03:19.007Z"
   },
   {
    "duration": 116,
    "start_time": "2022-06-11T08:03:25.435Z"
   },
   {
    "duration": 1573,
    "start_time": "2022-06-11T08:03:35.587Z"
   },
   {
    "duration": 70,
    "start_time": "2022-06-11T08:03:37.162Z"
   },
   {
    "duration": 42,
    "start_time": "2022-06-11T08:03:37.234Z"
   },
   {
    "duration": 20,
    "start_time": "2022-06-11T08:03:37.278Z"
   },
   {
    "duration": 24,
    "start_time": "2022-06-11T08:03:37.300Z"
   },
   {
    "duration": 29,
    "start_time": "2022-06-11T08:03:37.326Z"
   },
   {
    "duration": 8,
    "start_time": "2022-06-11T08:03:37.356Z"
   },
   {
    "duration": 10,
    "start_time": "2022-06-11T08:03:37.365Z"
   },
   {
    "duration": 5,
    "start_time": "2022-06-11T08:03:37.376Z"
   },
   {
    "duration": 21,
    "start_time": "2022-06-11T08:03:37.383Z"
   },
   {
    "duration": 42,
    "start_time": "2022-06-11T08:03:37.407Z"
   },
   {
    "duration": 30,
    "start_time": "2022-06-11T08:03:37.451Z"
   },
   {
    "duration": 17,
    "start_time": "2022-06-11T08:03:37.483Z"
   },
   {
    "duration": 48,
    "start_time": "2022-06-11T08:03:37.502Z"
   },
   {
    "duration": 8,
    "start_time": "2022-06-11T08:03:37.595Z"
   },
   {
    "duration": 227,
    "start_time": "2022-06-11T08:03:37.606Z"
   },
   {
    "duration": 275,
    "start_time": "2022-06-11T08:04:04.236Z"
   },
   {
    "duration": 172,
    "start_time": "2022-06-11T08:05:44.653Z"
   },
   {
    "duration": 114,
    "start_time": "2022-06-11T08:05:54.691Z"
   },
   {
    "duration": 11,
    "start_time": "2022-06-11T08:15:31.067Z"
   },
   {
    "duration": 15,
    "start_time": "2022-06-11T08:17:06.890Z"
   },
   {
    "duration": 30,
    "start_time": "2022-06-11T08:17:19.627Z"
   },
   {
    "duration": 1568,
    "start_time": "2022-06-11T08:17:30.409Z"
   },
   {
    "duration": 83,
    "start_time": "2022-06-11T08:17:31.980Z"
   },
   {
    "duration": 76,
    "start_time": "2022-06-11T08:17:32.065Z"
   },
   {
    "duration": 16,
    "start_time": "2022-06-11T08:17:32.143Z"
   },
   {
    "duration": 34,
    "start_time": "2022-06-11T08:17:32.161Z"
   },
   {
    "duration": 30,
    "start_time": "2022-06-11T08:17:32.215Z"
   },
   {
    "duration": 6,
    "start_time": "2022-06-11T08:17:32.247Z"
   },
   {
    "duration": 17,
    "start_time": "2022-06-11T08:17:32.255Z"
   },
   {
    "duration": 6,
    "start_time": "2022-06-11T08:17:32.274Z"
   },
   {
    "duration": 9,
    "start_time": "2022-06-11T08:17:32.282Z"
   },
   {
    "duration": 47,
    "start_time": "2022-06-11T08:17:32.299Z"
   },
   {
    "duration": 32,
    "start_time": "2022-06-11T08:17:32.348Z"
   },
   {
    "duration": 13,
    "start_time": "2022-06-11T08:17:32.381Z"
   },
   {
    "duration": 124,
    "start_time": "2022-06-11T08:17:32.399Z"
   },
   {
    "duration": 87,
    "start_time": "2022-06-11T08:17:32.525Z"
   },
   {
    "duration": 200,
    "start_time": "2022-06-11T08:17:32.614Z"
   },
   {
    "duration": 204,
    "start_time": "2022-06-11T08:17:32.823Z"
   },
   {
    "duration": 1355,
    "start_time": "2022-06-13T06:02:08.177Z"
   },
   {
    "duration": 88,
    "start_time": "2022-06-13T06:02:09.534Z"
   },
   {
    "duration": 37,
    "start_time": "2022-06-13T06:02:09.623Z"
   },
   {
    "duration": 11,
    "start_time": "2022-06-13T06:02:09.661Z"
   },
   {
    "duration": 9,
    "start_time": "2022-06-13T06:02:09.674Z"
   },
   {
    "duration": 13,
    "start_time": "2022-06-13T06:02:09.685Z"
   },
   {
    "duration": 7,
    "start_time": "2022-06-13T06:02:09.699Z"
   },
   {
    "duration": 9,
    "start_time": "2022-06-13T06:02:09.708Z"
   },
   {
    "duration": 5,
    "start_time": "2022-06-13T06:02:09.718Z"
   },
   {
    "duration": 37,
    "start_time": "2022-06-13T06:02:09.726Z"
   },
   {
    "duration": 10,
    "start_time": "2022-06-13T06:02:09.765Z"
   },
   {
    "duration": 29,
    "start_time": "2022-06-13T06:02:09.777Z"
   },
   {
    "duration": 9,
    "start_time": "2022-06-13T06:02:09.808Z"
   },
   {
    "duration": 51,
    "start_time": "2022-06-13T06:02:09.819Z"
   },
   {
    "duration": 87,
    "start_time": "2022-06-13T06:02:09.872Z"
   },
   {
    "duration": 199,
    "start_time": "2022-06-13T06:02:09.961Z"
   },
   {
    "duration": 206,
    "start_time": "2022-06-13T06:02:10.162Z"
   },
   {
    "duration": 19,
    "start_time": "2022-06-13T06:31:02.235Z"
   },
   {
    "duration": 82,
    "start_time": "2022-06-13T06:31:19.906Z"
   },
   {
    "duration": 271,
    "start_time": "2022-06-13T06:41:13.030Z"
   },
   {
    "duration": 342,
    "start_time": "2022-06-13T06:47:24.591Z"
   },
   {
    "duration": 152,
    "start_time": "2022-06-13T06:55:34.136Z"
   },
   {
    "duration": 28,
    "start_time": "2022-06-13T07:08:00.703Z"
   },
   {
    "duration": 3,
    "start_time": "2022-06-13T07:09:13.790Z"
   },
   {
    "duration": 22,
    "start_time": "2022-06-13T07:11:21.373Z"
   },
   {
    "duration": 4,
    "start_time": "2022-06-13T07:14:39.023Z"
   },
   {
    "duration": 23,
    "start_time": "2022-06-13T07:14:41.408Z"
   },
   {
    "duration": 25,
    "start_time": "2022-06-13T07:14:42.968Z"
   },
   {
    "duration": 1180,
    "start_time": "2022-06-13T07:14:48.302Z"
   },
   {
    "duration": 50,
    "start_time": "2022-06-13T07:14:49.484Z"
   },
   {
    "duration": 36,
    "start_time": "2022-06-13T07:14:49.536Z"
   },
   {
    "duration": 11,
    "start_time": "2022-06-13T07:14:49.575Z"
   },
   {
    "duration": 17,
    "start_time": "2022-06-13T07:14:49.587Z"
   },
   {
    "duration": 17,
    "start_time": "2022-06-13T07:14:49.606Z"
   },
   {
    "duration": 9,
    "start_time": "2022-06-13T07:14:49.624Z"
   },
   {
    "duration": 8,
    "start_time": "2022-06-13T07:14:49.635Z"
   },
   {
    "duration": 5,
    "start_time": "2022-06-13T07:14:49.659Z"
   },
   {
    "duration": 8,
    "start_time": "2022-06-13T07:14:49.666Z"
   },
   {
    "duration": 11,
    "start_time": "2022-06-13T07:14:49.675Z"
   },
   {
    "duration": 28,
    "start_time": "2022-06-13T07:14:49.688Z"
   },
   {
    "duration": 10,
    "start_time": "2022-06-13T07:14:49.718Z"
   },
   {
    "duration": 130,
    "start_time": "2022-06-13T07:14:49.730Z"
   },
   {
    "duration": 4,
    "start_time": "2022-06-13T07:14:49.862Z"
   },
   {
    "duration": 192,
    "start_time": "2022-06-13T07:14:49.868Z"
   },
   {
    "duration": 297,
    "start_time": "2022-06-13T07:14:50.063Z"
   },
   {
    "duration": 439,
    "start_time": "2022-06-13T07:14:50.362Z"
   },
   {
    "duration": 125,
    "start_time": "2022-06-13T07:14:50.802Z"
   },
   {
    "duration": 4,
    "start_time": "2022-06-13T07:14:50.928Z"
   },
   {
    "duration": 130,
    "start_time": "2022-06-13T07:14:50.933Z"
   },
   {
    "duration": 3,
    "start_time": "2022-06-13T07:15:33.395Z"
   },
   {
    "duration": 21740,
    "start_time": "2022-06-13T07:15:34.991Z"
   },
   {
    "duration": 18986,
    "start_time": "2022-06-13T07:17:37.788Z"
   },
   {
    "duration": 94,
    "start_time": "2022-06-13T07:18:13.251Z"
   },
   {
    "duration": 7,
    "start_time": "2022-06-13T07:30:02.126Z"
   },
   {
    "duration": 3,
    "start_time": "2022-06-13T07:32:17.952Z"
   },
   {
    "duration": 8,
    "start_time": "2022-06-13T07:32:44.951Z"
   },
   {
    "duration": 289,
    "start_time": "2022-06-13T07:38:35.013Z"
   },
   {
    "duration": 1302,
    "start_time": "2022-06-13T07:39:52.539Z"
   },
   {
    "duration": 60,
    "start_time": "2022-06-13T07:39:53.843Z"
   },
   {
    "duration": 37,
    "start_time": "2022-06-13T07:39:53.904Z"
   },
   {
    "duration": 16,
    "start_time": "2022-06-13T07:39:53.943Z"
   },
   {
    "duration": 13,
    "start_time": "2022-06-13T07:39:53.960Z"
   },
   {
    "duration": 13,
    "start_time": "2022-06-13T07:39:53.975Z"
   },
   {
    "duration": 10,
    "start_time": "2022-06-13T07:39:53.990Z"
   },
   {
    "duration": 14,
    "start_time": "2022-06-13T07:39:54.001Z"
   },
   {
    "duration": 7,
    "start_time": "2022-06-13T07:39:54.017Z"
   },
   {
    "duration": 9,
    "start_time": "2022-06-13T07:39:54.027Z"
   },
   {
    "duration": 39,
    "start_time": "2022-06-13T07:39:54.037Z"
   },
   {
    "duration": 31,
    "start_time": "2022-06-13T07:39:54.078Z"
   },
   {
    "duration": 10,
    "start_time": "2022-06-13T07:39:54.110Z"
   },
   {
    "duration": 55,
    "start_time": "2022-06-13T07:39:54.122Z"
   },
   {
    "duration": 82,
    "start_time": "2022-06-13T07:39:54.181Z"
   },
   {
    "duration": 198,
    "start_time": "2022-06-13T07:39:54.266Z"
   },
   {
    "duration": 300,
    "start_time": "2022-06-13T07:39:54.466Z"
   },
   {
    "duration": 365,
    "start_time": "2022-06-13T07:39:54.769Z"
   },
   {
    "duration": 140,
    "start_time": "2022-06-13T07:39:55.135Z"
   },
   {
    "duration": 3,
    "start_time": "2022-06-13T07:39:55.277Z"
   },
   {
    "duration": 23317,
    "start_time": "2022-06-13T07:39:55.282Z"
   },
   {
    "duration": 19921,
    "start_time": "2022-06-13T07:40:18.601Z"
   },
   {
    "duration": 108,
    "start_time": "2022-06-13T07:40:38.523Z"
   },
   {
    "duration": 6,
    "start_time": "2022-06-13T07:40:38.633Z"
   },
   {
    "duration": 4,
    "start_time": "2022-06-13T07:40:38.640Z"
   },
   {
    "duration": 356,
    "start_time": "2022-06-13T07:40:38.646Z"
   },
   {
    "duration": 929,
    "start_time": "2022-06-13T07:42:02.253Z"
   },
   {
    "duration": 3,
    "start_time": "2022-06-13T07:42:27.014Z"
   },
   {
    "duration": 861,
    "start_time": "2022-06-13T07:42:28.752Z"
   },
   {
    "duration": 1232,
    "start_time": "2022-06-13T08:09:40.920Z"
   },
   {
    "duration": 53,
    "start_time": "2022-06-13T08:09:42.153Z"
   },
   {
    "duration": 37,
    "start_time": "2022-06-13T08:09:42.207Z"
   },
   {
    "duration": 12,
    "start_time": "2022-06-13T08:09:42.246Z"
   },
   {
    "duration": 20,
    "start_time": "2022-06-13T08:09:42.262Z"
   },
   {
    "duration": 11,
    "start_time": "2022-06-13T08:09:42.284Z"
   },
   {
    "duration": 9,
    "start_time": "2022-06-13T08:09:42.296Z"
   },
   {
    "duration": 8,
    "start_time": "2022-06-13T08:09:42.306Z"
   },
   {
    "duration": 8,
    "start_time": "2022-06-13T08:09:42.315Z"
   },
   {
    "duration": 15,
    "start_time": "2022-06-13T08:09:42.325Z"
   },
   {
    "duration": 30,
    "start_time": "2022-06-13T08:09:42.341Z"
   },
   {
    "duration": 36,
    "start_time": "2022-06-13T08:09:42.373Z"
   },
   {
    "duration": 11,
    "start_time": "2022-06-13T08:09:42.410Z"
   },
   {
    "duration": 37,
    "start_time": "2022-06-13T08:09:42.423Z"
   },
   {
    "duration": 8,
    "start_time": "2022-06-13T08:09:42.461Z"
   },
   {
    "duration": 202,
    "start_time": "2022-06-13T08:09:42.559Z"
   },
   {
    "duration": 205,
    "start_time": "2022-06-13T08:09:42.764Z"
   },
   {
    "duration": 379,
    "start_time": "2022-06-13T08:09:43.060Z"
   },
   {
    "duration": 138,
    "start_time": "2022-06-13T08:09:43.441Z"
   },
   {
    "duration": 3,
    "start_time": "2022-06-13T08:09:43.580Z"
   },
   {
    "duration": 23144,
    "start_time": "2022-06-13T08:09:43.585Z"
   },
   {
    "duration": 20276,
    "start_time": "2022-06-13T08:10:06.731Z"
   },
   {
    "duration": 111,
    "start_time": "2022-06-13T08:10:27.009Z"
   },
   {
    "duration": 12,
    "start_time": "2022-06-13T08:10:27.123Z"
   },
   {
    "duration": 4,
    "start_time": "2022-06-13T08:10:27.138Z"
   },
   {
    "duration": 942,
    "start_time": "2022-06-13T08:10:27.144Z"
   },
   {
    "duration": 2816,
    "start_time": "2022-06-13T16:15:38.876Z"
   },
   {
    "duration": 687,
    "start_time": "2022-06-13T16:15:41.696Z"
   },
   {
    "duration": 154,
    "start_time": "2022-06-13T16:15:42.387Z"
   },
   {
    "duration": 31,
    "start_time": "2022-06-13T16:15:42.543Z"
   },
   {
    "duration": 70,
    "start_time": "2022-06-13T16:15:42.579Z"
   },
   {
    "duration": 128,
    "start_time": "2022-06-13T16:15:42.653Z"
   },
   {
    "duration": 117,
    "start_time": "2022-06-13T16:15:42.783Z"
   },
   {
    "duration": 61,
    "start_time": "2022-06-13T16:15:42.903Z"
   },
   {
    "duration": 74,
    "start_time": "2022-06-13T16:15:42.968Z"
   },
   {
    "duration": 50,
    "start_time": "2022-06-13T16:15:43.045Z"
   },
   {
    "duration": 57,
    "start_time": "2022-06-13T16:15:43.102Z"
   },
   {
    "duration": 107,
    "start_time": "2022-06-13T16:15:43.162Z"
   },
   {
    "duration": 40,
    "start_time": "2022-06-13T16:15:43.280Z"
   },
   {
    "duration": 81,
    "start_time": "2022-06-13T16:15:43.334Z"
   },
   {
    "duration": 77,
    "start_time": "2022-06-13T16:15:43.460Z"
   },
   {
    "duration": 181,
    "start_time": "2022-06-13T16:15:43.563Z"
   },
   {
    "duration": 285,
    "start_time": "2022-06-13T16:15:43.783Z"
   },
   {
    "duration": 492,
    "start_time": "2022-06-13T16:15:44.083Z"
   },
   {
    "duration": 207,
    "start_time": "2022-06-13T16:15:44.577Z"
   },
   {
    "duration": 17,
    "start_time": "2022-06-13T16:15:44.797Z"
   },
   {
    "duration": 34683,
    "start_time": "2022-06-13T16:15:44.825Z"
   },
   {
    "duration": 29515,
    "start_time": "2022-06-13T16:16:19.523Z"
   },
   {
    "duration": 135,
    "start_time": "2022-06-13T16:16:49.041Z"
   },
   {
    "duration": 19,
    "start_time": "2022-06-13T16:16:49.179Z"
   },
   {
    "duration": 34,
    "start_time": "2022-06-13T16:16:49.201Z"
   },
   {
    "duration": 1140,
    "start_time": "2022-06-13T16:16:49.238Z"
   },
   {
    "duration": 144,
    "start_time": "2022-06-13T16:16:50.381Z"
   },
   {
    "duration": 78,
    "start_time": "2022-06-13T16:18:21.687Z"
   },
   {
    "duration": 217,
    "start_time": "2022-06-13T16:20:14.891Z"
   },
   {
    "duration": 6,
    "start_time": "2022-06-13T16:27:13.206Z"
   },
   {
    "duration": 21,
    "start_time": "2022-06-13T16:38:28.616Z"
   },
   {
    "duration": 7,
    "start_time": "2022-06-13T16:40:56.527Z"
   },
   {
    "duration": 11,
    "start_time": "2022-06-13T16:40:58.682Z"
   },
   {
    "duration": 33100,
    "start_time": "2022-06-13T17:03:34.176Z"
   },
   {
    "duration": 31056,
    "start_time": "2022-06-13T17:04:28.813Z"
   },
   {
    "duration": 5,
    "start_time": "2022-06-13T17:05:52.943Z"
   },
   {
    "duration": 6,
    "start_time": "2022-06-13T17:05:57.691Z"
   },
   {
    "duration": 164,
    "start_time": "2022-06-13T17:06:08.004Z"
   },
   {
    "duration": 25080,
    "start_time": "2022-06-13T17:06:37.301Z"
   },
   {
    "duration": 1484,
    "start_time": "2022-06-16T05:35:53.106Z"
   },
   {
    "duration": 96,
    "start_time": "2022-06-16T05:35:56.905Z"
   },
   {
    "duration": 41,
    "start_time": "2022-06-16T05:35:59.243Z"
   },
   {
    "duration": 13,
    "start_time": "2022-06-16T05:36:00.774Z"
   },
   {
    "duration": 11,
    "start_time": "2022-06-16T05:36:03.045Z"
   },
   {
    "duration": 13,
    "start_time": "2022-06-16T05:36:04.946Z"
   },
   {
    "duration": 5,
    "start_time": "2022-06-16T05:36:28.265Z"
   },
   {
    "duration": 8,
    "start_time": "2022-06-16T05:36:33.370Z"
   },
   {
    "duration": 5,
    "start_time": "2022-06-16T05:36:34.616Z"
   },
   {
    "duration": 5,
    "start_time": "2022-06-16T05:37:07.516Z"
   },
   {
    "duration": 5,
    "start_time": "2022-06-16T05:41:30.982Z"
   },
   {
    "duration": 1403,
    "start_time": "2022-06-16T07:07:57.784Z"
   },
   {
    "duration": 72,
    "start_time": "2022-06-16T07:07:59.189Z"
   },
   {
    "duration": 46,
    "start_time": "2022-06-16T07:07:59.263Z"
   },
   {
    "duration": 12,
    "start_time": "2022-06-16T07:07:59.310Z"
   },
   {
    "duration": 14,
    "start_time": "2022-06-16T07:07:59.324Z"
   },
   {
    "duration": 43,
    "start_time": "2022-06-16T07:07:59.340Z"
   },
   {
    "duration": 19,
    "start_time": "2022-06-16T07:07:59.385Z"
   },
   {
    "duration": 18,
    "start_time": "2022-06-16T07:07:59.406Z"
   },
   {
    "duration": 16,
    "start_time": "2022-06-16T07:07:59.426Z"
   },
   {
    "duration": 210,
    "start_time": "2022-06-16T07:07:59.443Z"
   },
   {
    "duration": 0,
    "start_time": "2022-06-16T07:07:59.655Z"
   },
   {
    "duration": 0,
    "start_time": "2022-06-16T07:07:59.657Z"
   },
   {
    "duration": 0,
    "start_time": "2022-06-16T07:07:59.667Z"
   },
   {
    "duration": 0,
    "start_time": "2022-06-16T07:07:59.667Z"
   },
   {
    "duration": 0,
    "start_time": "2022-06-16T07:07:59.668Z"
   },
   {
    "duration": 0,
    "start_time": "2022-06-16T07:07:59.670Z"
   },
   {
    "duration": 0,
    "start_time": "2022-06-16T07:07:59.670Z"
   },
   {
    "duration": 0,
    "start_time": "2022-06-16T07:07:59.675Z"
   },
   {
    "duration": 0,
    "start_time": "2022-06-16T07:07:59.675Z"
   },
   {
    "duration": 0,
    "start_time": "2022-06-16T07:07:59.676Z"
   },
   {
    "duration": 0,
    "start_time": "2022-06-16T07:07:59.676Z"
   },
   {
    "duration": 0,
    "start_time": "2022-06-16T07:07:59.677Z"
   },
   {
    "duration": 0,
    "start_time": "2022-06-16T07:07:59.685Z"
   },
   {
    "duration": 0,
    "start_time": "2022-06-16T07:07:59.686Z"
   },
   {
    "duration": 0,
    "start_time": "2022-06-16T07:07:59.687Z"
   },
   {
    "duration": 0,
    "start_time": "2022-06-16T07:07:59.689Z"
   },
   {
    "duration": 8,
    "start_time": "2022-06-16T07:10:08.880Z"
   },
   {
    "duration": 15,
    "start_time": "2022-06-16T07:10:19.318Z"
   },
   {
    "duration": 21,
    "start_time": "2022-06-16T07:10:27.060Z"
   },
   {
    "duration": 1289,
    "start_time": "2022-06-16T07:10:43.965Z"
   },
   {
    "duration": 61,
    "start_time": "2022-06-16T07:10:45.256Z"
   },
   {
    "duration": 38,
    "start_time": "2022-06-16T07:10:45.318Z"
   },
   {
    "duration": 12,
    "start_time": "2022-06-16T07:10:45.357Z"
   },
   {
    "duration": 11,
    "start_time": "2022-06-16T07:10:45.370Z"
   },
   {
    "duration": 14,
    "start_time": "2022-06-16T07:10:45.382Z"
   },
   {
    "duration": 7,
    "start_time": "2022-06-16T07:10:45.398Z"
   },
   {
    "duration": 11,
    "start_time": "2022-06-16T07:10:45.407Z"
   },
   {
    "duration": 17,
    "start_time": "2022-06-16T07:10:45.420Z"
   },
   {
    "duration": 24,
    "start_time": "2022-06-16T07:10:45.440Z"
   },
   {
    "duration": 13,
    "start_time": "2022-06-16T07:10:45.466Z"
   },
   {
    "duration": 128,
    "start_time": "2022-06-16T07:10:45.481Z"
   },
   {
    "duration": 0,
    "start_time": "2022-06-16T07:10:45.611Z"
   },
   {
    "duration": 0,
    "start_time": "2022-06-16T07:10:45.613Z"
   },
   {
    "duration": 0,
    "start_time": "2022-06-16T07:10:45.614Z"
   },
   {
    "duration": 0,
    "start_time": "2022-06-16T07:10:45.615Z"
   },
   {
    "duration": 0,
    "start_time": "2022-06-16T07:10:45.616Z"
   },
   {
    "duration": 0,
    "start_time": "2022-06-16T07:10:45.618Z"
   },
   {
    "duration": 0,
    "start_time": "2022-06-16T07:10:45.619Z"
   },
   {
    "duration": 0,
    "start_time": "2022-06-16T07:10:45.620Z"
   },
   {
    "duration": 0,
    "start_time": "2022-06-16T07:10:45.621Z"
   },
   {
    "duration": 0,
    "start_time": "2022-06-16T07:10:45.622Z"
   },
   {
    "duration": 0,
    "start_time": "2022-06-16T07:10:45.623Z"
   },
   {
    "duration": 0,
    "start_time": "2022-06-16T07:10:45.624Z"
   },
   {
    "duration": 0,
    "start_time": "2022-06-16T07:10:45.625Z"
   },
   {
    "duration": 0,
    "start_time": "2022-06-16T07:10:45.626Z"
   },
   {
    "duration": 1312,
    "start_time": "2022-06-16T07:15:50.154Z"
   },
   {
    "duration": 57,
    "start_time": "2022-06-16T07:15:51.468Z"
   },
   {
    "duration": 42,
    "start_time": "2022-06-16T07:15:51.527Z"
   },
   {
    "duration": 15,
    "start_time": "2022-06-16T07:15:51.571Z"
   },
   {
    "duration": 19,
    "start_time": "2022-06-16T07:15:51.589Z"
   },
   {
    "duration": 17,
    "start_time": "2022-06-16T07:15:51.610Z"
   },
   {
    "duration": 37,
    "start_time": "2022-06-16T07:15:51.629Z"
   },
   {
    "duration": 7,
    "start_time": "2022-06-16T07:15:51.669Z"
   },
   {
    "duration": 8,
    "start_time": "2022-06-16T07:15:51.678Z"
   },
   {
    "duration": 13,
    "start_time": "2022-06-16T07:15:51.689Z"
   },
   {
    "duration": 26,
    "start_time": "2022-06-16T07:15:51.703Z"
   },
   {
    "duration": 200,
    "start_time": "2022-06-16T07:15:51.731Z"
   },
   {
    "duration": 0,
    "start_time": "2022-06-16T07:15:51.933Z"
   },
   {
    "duration": 0,
    "start_time": "2022-06-16T07:15:51.935Z"
   },
   {
    "duration": 0,
    "start_time": "2022-06-16T07:15:51.936Z"
   },
   {
    "duration": 0,
    "start_time": "2022-06-16T07:15:51.938Z"
   },
   {
    "duration": 0,
    "start_time": "2022-06-16T07:15:51.939Z"
   },
   {
    "duration": 0,
    "start_time": "2022-06-16T07:15:51.941Z"
   },
   {
    "duration": 0,
    "start_time": "2022-06-16T07:15:51.942Z"
   },
   {
    "duration": 0,
    "start_time": "2022-06-16T07:15:51.944Z"
   },
   {
    "duration": 0,
    "start_time": "2022-06-16T07:15:51.945Z"
   },
   {
    "duration": 0,
    "start_time": "2022-06-16T07:15:51.965Z"
   },
   {
    "duration": 0,
    "start_time": "2022-06-16T07:15:51.966Z"
   },
   {
    "duration": 0,
    "start_time": "2022-06-16T07:15:51.967Z"
   },
   {
    "duration": 0,
    "start_time": "2022-06-16T07:15:51.969Z"
   },
   {
    "duration": 0,
    "start_time": "2022-06-16T07:15:51.970Z"
   },
   {
    "duration": 21,
    "start_time": "2022-06-16T07:16:43.764Z"
   },
   {
    "duration": 1253,
    "start_time": "2022-06-17T05:30:42.246Z"
   },
   {
    "duration": 176,
    "start_time": "2022-06-17T05:30:43.501Z"
   },
   {
    "duration": 36,
    "start_time": "2022-06-17T05:30:43.678Z"
   },
   {
    "duration": 13,
    "start_time": "2022-06-17T05:30:43.715Z"
   },
   {
    "duration": 10,
    "start_time": "2022-06-17T05:30:43.730Z"
   },
   {
    "duration": 12,
    "start_time": "2022-06-17T05:30:43.741Z"
   },
   {
    "duration": 6,
    "start_time": "2022-06-17T05:30:43.755Z"
   },
   {
    "duration": 5,
    "start_time": "2022-06-17T05:30:43.762Z"
   },
   {
    "duration": 5,
    "start_time": "2022-06-17T05:30:43.769Z"
   },
   {
    "duration": 7,
    "start_time": "2022-06-17T05:30:43.777Z"
   },
   {
    "duration": 42,
    "start_time": "2022-06-17T05:30:43.785Z"
   },
   {
    "duration": 106,
    "start_time": "2022-06-17T05:30:43.828Z"
   },
   {
    "duration": 0,
    "start_time": "2022-06-17T05:30:43.935Z"
   },
   {
    "duration": 0,
    "start_time": "2022-06-17T05:30:43.936Z"
   },
   {
    "duration": 0,
    "start_time": "2022-06-17T05:30:43.937Z"
   },
   {
    "duration": 0,
    "start_time": "2022-06-17T05:30:43.938Z"
   },
   {
    "duration": 0,
    "start_time": "2022-06-17T05:30:43.939Z"
   },
   {
    "duration": 0,
    "start_time": "2022-06-17T05:30:43.941Z"
   },
   {
    "duration": 1,
    "start_time": "2022-06-17T05:30:43.941Z"
   },
   {
    "duration": 0,
    "start_time": "2022-06-17T05:30:43.943Z"
   },
   {
    "duration": 0,
    "start_time": "2022-06-17T05:30:43.945Z"
   },
   {
    "duration": 0,
    "start_time": "2022-06-17T05:30:43.945Z"
   },
   {
    "duration": 0,
    "start_time": "2022-06-17T05:30:43.947Z"
   },
   {
    "duration": 0,
    "start_time": "2022-06-17T05:30:43.948Z"
   },
   {
    "duration": 0,
    "start_time": "2022-06-17T05:30:43.949Z"
   },
   {
    "duration": 0,
    "start_time": "2022-06-17T05:30:43.950Z"
   },
   {
    "duration": 1110,
    "start_time": "2022-06-17T05:31:16.423Z"
   },
   {
    "duration": 51,
    "start_time": "2022-06-17T05:31:17.536Z"
   },
   {
    "duration": 43,
    "start_time": "2022-06-17T05:31:17.589Z"
   },
   {
    "duration": 13,
    "start_time": "2022-06-17T05:31:17.634Z"
   },
   {
    "duration": 15,
    "start_time": "2022-06-17T05:31:17.649Z"
   },
   {
    "duration": 13,
    "start_time": "2022-06-17T05:31:17.665Z"
   },
   {
    "duration": 11,
    "start_time": "2022-06-17T05:31:17.680Z"
   },
   {
    "duration": 7,
    "start_time": "2022-06-17T05:31:17.692Z"
   },
   {
    "duration": 26,
    "start_time": "2022-06-17T05:31:17.700Z"
   },
   {
    "duration": 8,
    "start_time": "2022-06-17T05:31:17.728Z"
   },
   {
    "duration": 12,
    "start_time": "2022-06-17T05:31:17.737Z"
   },
   {
    "duration": 112,
    "start_time": "2022-06-17T05:31:17.751Z"
   },
   {
    "duration": 0,
    "start_time": "2022-06-17T05:31:17.864Z"
   },
   {
    "duration": 0,
    "start_time": "2022-06-17T05:31:17.865Z"
   },
   {
    "duration": 0,
    "start_time": "2022-06-17T05:31:17.866Z"
   },
   {
    "duration": 0,
    "start_time": "2022-06-17T05:31:17.867Z"
   },
   {
    "duration": 0,
    "start_time": "2022-06-17T05:31:17.868Z"
   },
   {
    "duration": 0,
    "start_time": "2022-06-17T05:31:17.869Z"
   },
   {
    "duration": 0,
    "start_time": "2022-06-17T05:31:17.870Z"
   },
   {
    "duration": 1,
    "start_time": "2022-06-17T05:31:17.870Z"
   },
   {
    "duration": 0,
    "start_time": "2022-06-17T05:31:17.872Z"
   },
   {
    "duration": 0,
    "start_time": "2022-06-17T05:31:17.872Z"
   },
   {
    "duration": 0,
    "start_time": "2022-06-17T05:31:17.873Z"
   },
   {
    "duration": 0,
    "start_time": "2022-06-17T05:31:17.874Z"
   },
   {
    "duration": 0,
    "start_time": "2022-06-17T05:31:17.875Z"
   },
   {
    "duration": 0,
    "start_time": "2022-06-17T05:31:17.876Z"
   },
   {
    "duration": 1186,
    "start_time": "2022-06-17T05:31:59.833Z"
   },
   {
    "duration": 51,
    "start_time": "2022-06-17T05:32:01.021Z"
   },
   {
    "duration": 37,
    "start_time": "2022-06-17T05:32:01.074Z"
   },
   {
    "duration": 10,
    "start_time": "2022-06-17T05:32:01.113Z"
   },
   {
    "duration": 43,
    "start_time": "2022-06-17T05:32:01.126Z"
   },
   {
    "duration": 42,
    "start_time": "2022-06-17T05:32:01.171Z"
   },
   {
    "duration": 34,
    "start_time": "2022-06-17T05:32:01.214Z"
   },
   {
    "duration": 20,
    "start_time": "2022-06-17T05:32:01.250Z"
   },
   {
    "duration": 16,
    "start_time": "2022-06-17T05:32:01.272Z"
   },
   {
    "duration": 11,
    "start_time": "2022-06-17T05:32:01.290Z"
   },
   {
    "duration": 16,
    "start_time": "2022-06-17T05:32:01.303Z"
   },
   {
    "duration": 37,
    "start_time": "2022-06-17T05:32:01.320Z"
   },
   {
    "duration": 10,
    "start_time": "2022-06-17T05:32:01.359Z"
   },
   {
    "duration": 57,
    "start_time": "2022-06-17T05:32:01.370Z"
   },
   {
    "duration": 4,
    "start_time": "2022-06-17T05:32:01.428Z"
   },
   {
    "duration": 293,
    "start_time": "2022-06-17T05:32:01.433Z"
   },
   {
    "duration": 194,
    "start_time": "2022-06-17T05:32:01.732Z"
   },
   {
    "duration": 370,
    "start_time": "2022-06-17T05:32:01.928Z"
   },
   {
    "duration": 116,
    "start_time": "2022-06-17T05:32:02.300Z"
   },
   {
    "duration": 3,
    "start_time": "2022-06-17T05:32:02.426Z"
   },
   {
    "duration": 20726,
    "start_time": "2022-06-17T05:32:02.430Z"
   },
   {
    "duration": 17776,
    "start_time": "2022-06-17T05:32:23.158Z"
   },
   {
    "duration": 97,
    "start_time": "2022-06-17T05:32:40.936Z"
   },
   {
    "duration": 6,
    "start_time": "2022-06-17T05:32:41.035Z"
   },
   {
    "duration": 26,
    "start_time": "2022-06-17T05:32:41.042Z"
   },
   {
    "duration": 880,
    "start_time": "2022-06-17T05:32:41.070Z"
   },
   {
    "duration": 3,
    "start_time": "2022-06-17T05:34:34.369Z"
   },
   {
    "duration": 56,
    "start_time": "2022-06-17T05:34:36.511Z"
   },
   {
    "duration": 36,
    "start_time": "2022-06-17T05:34:38.484Z"
   },
   {
    "duration": 12,
    "start_time": "2022-06-17T05:34:41.411Z"
   },
   {
    "duration": 11,
    "start_time": "2022-06-17T05:34:43.279Z"
   },
   {
    "duration": 11,
    "start_time": "2022-06-17T05:34:45.231Z"
   },
   {
    "duration": 102,
    "start_time": "2022-06-17T05:34:47.098Z"
   },
   {
    "duration": 5,
    "start_time": "2022-06-17T05:34:58.154Z"
   },
   {
    "duration": 12,
    "start_time": "2022-06-17T05:35:10.301Z"
   },
   {
    "duration": 1183,
    "start_time": "2022-06-17T05:35:19.586Z"
   },
   {
    "duration": 59,
    "start_time": "2022-06-17T05:35:20.771Z"
   },
   {
    "duration": 37,
    "start_time": "2022-06-17T05:35:20.832Z"
   },
   {
    "duration": 10,
    "start_time": "2022-06-17T05:35:20.871Z"
   },
   {
    "duration": 10,
    "start_time": "2022-06-17T05:35:20.883Z"
   },
   {
    "duration": 31,
    "start_time": "2022-06-17T05:35:20.894Z"
   },
   {
    "duration": 11,
    "start_time": "2022-06-17T05:35:20.927Z"
   },
   {
    "duration": 4,
    "start_time": "2022-06-17T05:35:20.940Z"
   },
   {
    "duration": 7,
    "start_time": "2022-06-17T05:35:20.945Z"
   },
   {
    "duration": 5,
    "start_time": "2022-06-17T05:35:20.955Z"
   },
   {
    "duration": 9,
    "start_time": "2022-06-17T05:35:20.962Z"
   },
   {
    "duration": 16,
    "start_time": "2022-06-17T05:35:20.972Z"
   },
   {
    "duration": 124,
    "start_time": "2022-06-17T05:35:20.990Z"
   },
   {
    "duration": 0,
    "start_time": "2022-06-17T05:35:21.116Z"
   },
   {
    "duration": 0,
    "start_time": "2022-06-17T05:35:21.117Z"
   },
   {
    "duration": 0,
    "start_time": "2022-06-17T05:35:21.125Z"
   },
   {
    "duration": 0,
    "start_time": "2022-06-17T05:35:21.126Z"
   },
   {
    "duration": 0,
    "start_time": "2022-06-17T05:35:21.127Z"
   },
   {
    "duration": 0,
    "start_time": "2022-06-17T05:35:21.128Z"
   },
   {
    "duration": 0,
    "start_time": "2022-06-17T05:35:21.128Z"
   },
   {
    "duration": 0,
    "start_time": "2022-06-17T05:35:21.129Z"
   },
   {
    "duration": 0,
    "start_time": "2022-06-17T05:35:21.130Z"
   },
   {
    "duration": 0,
    "start_time": "2022-06-17T05:35:21.131Z"
   },
   {
    "duration": 0,
    "start_time": "2022-06-17T05:35:21.132Z"
   },
   {
    "duration": 0,
    "start_time": "2022-06-17T05:35:21.133Z"
   },
   {
    "duration": 0,
    "start_time": "2022-06-17T05:35:21.134Z"
   },
   {
    "duration": 0,
    "start_time": "2022-06-17T05:35:21.135Z"
   },
   {
    "duration": 653,
    "start_time": "2022-06-17T05:38:23.297Z"
   },
   {
    "duration": 3,
    "start_time": "2022-06-17T05:38:39.757Z"
   },
   {
    "duration": 46,
    "start_time": "2022-06-17T05:38:41.891Z"
   },
   {
    "duration": 37,
    "start_time": "2022-06-17T05:38:43.598Z"
   },
   {
    "duration": 11,
    "start_time": "2022-06-17T05:38:45.340Z"
   },
   {
    "duration": 11,
    "start_time": "2022-06-17T05:38:47.426Z"
   },
   {
    "duration": 17,
    "start_time": "2022-06-17T05:38:48.812Z"
   },
   {
    "duration": 7,
    "start_time": "2022-06-17T05:38:50.580Z"
   },
   {
    "duration": 5,
    "start_time": "2022-06-17T05:39:33.658Z"
   },
   {
    "duration": 7,
    "start_time": "2022-06-17T05:40:35.303Z"
   },
   {
    "duration": 14,
    "start_time": "2022-06-17T05:43:14.204Z"
   },
   {
    "duration": 1145,
    "start_time": "2022-06-17T05:43:44.212Z"
   },
   {
    "duration": 50,
    "start_time": "2022-06-17T05:43:45.360Z"
   },
   {
    "duration": 36,
    "start_time": "2022-06-17T05:43:45.412Z"
   },
   {
    "duration": 14,
    "start_time": "2022-06-17T05:43:45.450Z"
   },
   {
    "duration": 10,
    "start_time": "2022-06-17T05:43:45.466Z"
   },
   {
    "duration": 18,
    "start_time": "2022-06-17T05:43:45.477Z"
   },
   {
    "duration": 143,
    "start_time": "2022-06-17T05:43:45.497Z"
   },
   {
    "duration": 0,
    "start_time": "2022-06-17T05:43:45.642Z"
   },
   {
    "duration": 0,
    "start_time": "2022-06-17T05:43:45.644Z"
   },
   {
    "duration": 0,
    "start_time": "2022-06-17T05:43:45.645Z"
   },
   {
    "duration": 0,
    "start_time": "2022-06-17T05:43:45.646Z"
   },
   {
    "duration": 0,
    "start_time": "2022-06-17T05:43:45.647Z"
   },
   {
    "duration": 0,
    "start_time": "2022-06-17T05:43:45.648Z"
   },
   {
    "duration": 0,
    "start_time": "2022-06-17T05:43:45.649Z"
   },
   {
    "duration": 0,
    "start_time": "2022-06-17T05:43:45.650Z"
   },
   {
    "duration": 0,
    "start_time": "2022-06-17T05:43:45.651Z"
   },
   {
    "duration": 0,
    "start_time": "2022-06-17T05:43:45.652Z"
   },
   {
    "duration": 0,
    "start_time": "2022-06-17T05:43:45.653Z"
   },
   {
    "duration": 0,
    "start_time": "2022-06-17T05:43:45.654Z"
   },
   {
    "duration": 0,
    "start_time": "2022-06-17T05:43:45.655Z"
   },
   {
    "duration": 0,
    "start_time": "2022-06-17T05:43:45.656Z"
   },
   {
    "duration": 0,
    "start_time": "2022-06-17T05:43:45.657Z"
   },
   {
    "duration": 0,
    "start_time": "2022-06-17T05:43:45.658Z"
   },
   {
    "duration": 0,
    "start_time": "2022-06-17T05:43:45.659Z"
   },
   {
    "duration": 0,
    "start_time": "2022-06-17T05:43:45.659Z"
   },
   {
    "duration": 0,
    "start_time": "2022-06-17T05:43:45.660Z"
   },
   {
    "duration": 0,
    "start_time": "2022-06-17T05:43:45.661Z"
   },
   {
    "duration": 11,
    "start_time": "2022-06-17T05:44:36.700Z"
   },
   {
    "duration": 11,
    "start_time": "2022-06-17T05:44:39.910Z"
   },
   {
    "duration": 11,
    "start_time": "2022-06-17T05:44:50.055Z"
   },
   {
    "duration": 14,
    "start_time": "2022-06-17T05:45:33.793Z"
   },
   {
    "duration": 6,
    "start_time": "2022-06-17T05:45:59.042Z"
   },
   {
    "duration": 1172,
    "start_time": "2022-06-17T05:46:11.670Z"
   },
   {
    "duration": 52,
    "start_time": "2022-06-17T05:46:12.843Z"
   },
   {
    "duration": 36,
    "start_time": "2022-06-17T05:46:12.896Z"
   },
   {
    "duration": 11,
    "start_time": "2022-06-17T05:46:12.935Z"
   },
   {
    "duration": 26,
    "start_time": "2022-06-17T05:46:12.947Z"
   },
   {
    "duration": 17,
    "start_time": "2022-06-17T05:46:12.974Z"
   },
   {
    "duration": 27,
    "start_time": "2022-06-17T05:46:12.992Z"
   },
   {
    "duration": 10,
    "start_time": "2022-06-17T05:46:13.020Z"
   },
   {
    "duration": 12,
    "start_time": "2022-06-17T05:46:13.031Z"
   },
   {
    "duration": 14,
    "start_time": "2022-06-17T05:46:13.045Z"
   },
   {
    "duration": 16,
    "start_time": "2022-06-17T05:46:13.061Z"
   },
   {
    "duration": 24,
    "start_time": "2022-06-17T05:46:13.078Z"
   },
   {
    "duration": 49,
    "start_time": "2022-06-17T05:46:13.103Z"
   },
   {
    "duration": 11,
    "start_time": "2022-06-17T05:46:13.154Z"
   },
   {
    "duration": 61,
    "start_time": "2022-06-17T05:46:13.167Z"
   },
   {
    "duration": 4,
    "start_time": "2022-06-17T05:46:13.229Z"
   },
   {
    "duration": 198,
    "start_time": "2022-06-17T05:46:13.235Z"
   },
   {
    "duration": 244,
    "start_time": "2022-06-17T05:46:13.435Z"
   },
   {
    "duration": 379,
    "start_time": "2022-06-17T05:46:13.726Z"
   },
   {
    "duration": 124,
    "start_time": "2022-06-17T05:46:14.106Z"
   },
   {
    "duration": 3,
    "start_time": "2022-06-17T05:46:14.231Z"
   },
   {
    "duration": 23476,
    "start_time": "2022-06-17T05:46:14.235Z"
   },
   {
    "duration": 18546,
    "start_time": "2022-06-17T05:46:37.713Z"
   },
   {
    "duration": 101,
    "start_time": "2022-06-17T05:46:56.260Z"
   },
   {
    "duration": 6,
    "start_time": "2022-06-17T05:46:56.363Z"
   },
   {
    "duration": 5,
    "start_time": "2022-06-17T05:46:56.370Z"
   },
   {
    "duration": 961,
    "start_time": "2022-06-17T05:46:56.377Z"
   },
   {
    "duration": 27,
    "start_time": "2022-06-17T05:51:22.372Z"
   },
   {
    "duration": 5,
    "start_time": "2022-06-17T05:52:06.854Z"
   },
   {
    "duration": 1340,
    "start_time": "2022-06-17T05:52:45.650Z"
   },
   {
    "duration": 52,
    "start_time": "2022-06-17T05:52:46.992Z"
   },
   {
    "duration": 39,
    "start_time": "2022-06-17T05:52:47.045Z"
   },
   {
    "duration": 13,
    "start_time": "2022-06-17T05:52:47.086Z"
   },
   {
    "duration": 37,
    "start_time": "2022-06-17T05:52:47.100Z"
   },
   {
    "duration": 18,
    "start_time": "2022-06-17T05:52:47.139Z"
   },
   {
    "duration": 12,
    "start_time": "2022-06-17T05:52:47.160Z"
   },
   {
    "duration": 5,
    "start_time": "2022-06-17T05:52:47.175Z"
   },
   {
    "duration": 13,
    "start_time": "2022-06-17T05:52:47.183Z"
   },
   {
    "duration": 29,
    "start_time": "2022-06-17T05:52:47.199Z"
   },
   {
    "duration": 8,
    "start_time": "2022-06-17T05:52:47.230Z"
   },
   {
    "duration": 12,
    "start_time": "2022-06-17T05:52:47.240Z"
   },
   {
    "duration": 43,
    "start_time": "2022-06-17T05:52:47.253Z"
   },
   {
    "duration": 37,
    "start_time": "2022-06-17T05:52:47.298Z"
   },
   {
    "duration": 41,
    "start_time": "2022-06-17T05:52:47.338Z"
   },
   {
    "duration": 4,
    "start_time": "2022-06-17T05:52:47.429Z"
   },
   {
    "duration": 291,
    "start_time": "2022-06-17T05:52:47.436Z"
   },
   {
    "duration": 195,
    "start_time": "2022-06-17T05:52:47.730Z"
   },
   {
    "duration": 376,
    "start_time": "2022-06-17T05:52:47.927Z"
   },
   {
    "duration": 145,
    "start_time": "2022-06-17T05:52:48.305Z"
   },
   {
    "duration": 3,
    "start_time": "2022-06-17T05:52:48.451Z"
   },
   {
    "duration": 123,
    "start_time": "2022-06-17T05:52:48.456Z"
   },
   {
    "duration": 0,
    "start_time": "2022-06-17T05:52:48.581Z"
   },
   {
    "duration": 0,
    "start_time": "2022-06-17T05:52:48.583Z"
   },
   {
    "duration": 0,
    "start_time": "2022-06-17T05:52:48.584Z"
   },
   {
    "duration": 0,
    "start_time": "2022-06-17T05:52:48.585Z"
   },
   {
    "duration": 0,
    "start_time": "2022-06-17T05:52:48.586Z"
   },
   {
    "duration": 4,
    "start_time": "2022-06-17T05:55:22.308Z"
   },
   {
    "duration": 23298,
    "start_time": "2022-06-17T05:55:25.920Z"
   },
   {
    "duration": 19157,
    "start_time": "2022-06-17T05:55:49.220Z"
   },
   {
    "duration": 103,
    "start_time": "2022-06-17T05:56:08.379Z"
   },
   {
    "duration": 252,
    "start_time": "2022-06-17T05:57:51.377Z"
   },
   {
    "duration": 25,
    "start_time": "2022-06-17T06:08:47.253Z"
   },
   {
    "duration": 1237,
    "start_time": "2022-06-17T06:09:18.522Z"
   },
   {
    "duration": 50,
    "start_time": "2022-06-17T06:09:19.762Z"
   },
   {
    "duration": 39,
    "start_time": "2022-06-17T06:09:19.813Z"
   },
   {
    "duration": 20,
    "start_time": "2022-06-17T06:09:19.854Z"
   },
   {
    "duration": 28,
    "start_time": "2022-06-17T06:09:19.876Z"
   },
   {
    "duration": 36,
    "start_time": "2022-06-17T06:09:19.906Z"
   },
   {
    "duration": 18,
    "start_time": "2022-06-17T06:09:19.943Z"
   },
   {
    "duration": 27,
    "start_time": "2022-06-17T06:09:19.963Z"
   },
   {
    "duration": 29,
    "start_time": "2022-06-17T06:09:19.991Z"
   },
   {
    "duration": 21,
    "start_time": "2022-06-17T06:09:20.023Z"
   },
   {
    "duration": 25,
    "start_time": "2022-06-17T06:09:20.046Z"
   },
   {
    "duration": 35,
    "start_time": "2022-06-17T06:09:20.072Z"
   },
   {
    "duration": 58,
    "start_time": "2022-06-17T06:09:20.108Z"
   },
   {
    "duration": 12,
    "start_time": "2022-06-17T06:09:20.167Z"
   },
   {
    "duration": 48,
    "start_time": "2022-06-17T06:09:20.180Z"
   },
   {
    "duration": 4,
    "start_time": "2022-06-17T06:09:20.229Z"
   },
   {
    "duration": 293,
    "start_time": "2022-06-17T06:09:20.234Z"
   },
   {
    "duration": 198,
    "start_time": "2022-06-17T06:09:20.529Z"
   },
   {
    "duration": 373,
    "start_time": "2022-06-17T06:09:20.729Z"
   },
   {
    "duration": 137,
    "start_time": "2022-06-17T06:09:21.104Z"
   },
   {
    "duration": 3,
    "start_time": "2022-06-17T06:09:21.242Z"
   },
   {
    "duration": 23162,
    "start_time": "2022-06-17T06:09:21.247Z"
   },
   {
    "duration": 20421,
    "start_time": "2022-06-17T06:09:44.410Z"
   },
   {
    "duration": 208,
    "start_time": "2022-06-17T06:10:04.832Z"
   },
   {
    "duration": 6,
    "start_time": "2022-06-17T06:10:05.042Z"
   },
   {
    "duration": 5,
    "start_time": "2022-06-17T06:10:05.049Z"
   },
   {
    "duration": 898,
    "start_time": "2022-06-17T06:10:05.055Z"
   },
   {
    "duration": 231,
    "start_time": "2022-06-17T06:10:56.846Z"
   },
   {
    "duration": 1299,
    "start_time": "2022-06-17T06:11:47.833Z"
   },
   {
    "duration": 51,
    "start_time": "2022-06-17T06:11:49.133Z"
   },
   {
    "duration": 54,
    "start_time": "2022-06-17T06:11:49.185Z"
   },
   {
    "duration": 14,
    "start_time": "2022-06-17T06:11:49.242Z"
   },
   {
    "duration": 9,
    "start_time": "2022-06-17T06:11:49.257Z"
   },
   {
    "duration": 14,
    "start_time": "2022-06-17T06:11:49.268Z"
   },
   {
    "duration": 9,
    "start_time": "2022-06-17T06:11:49.284Z"
   },
   {
    "duration": 33,
    "start_time": "2022-06-17T06:11:49.294Z"
   },
   {
    "duration": 4,
    "start_time": "2022-06-17T06:11:49.328Z"
   },
   {
    "duration": 6,
    "start_time": "2022-06-17T06:11:49.335Z"
   },
   {
    "duration": 8,
    "start_time": "2022-06-17T06:11:49.343Z"
   },
   {
    "duration": 11,
    "start_time": "2022-06-17T06:11:49.353Z"
   },
   {
    "duration": 30,
    "start_time": "2022-06-17T06:11:49.366Z"
   },
   {
    "duration": 36,
    "start_time": "2022-06-17T06:11:49.398Z"
   },
   {
    "duration": 30,
    "start_time": "2022-06-17T06:11:49.436Z"
   },
   {
    "duration": 4,
    "start_time": "2022-06-17T06:11:49.526Z"
   },
   {
    "duration": 196,
    "start_time": "2022-06-17T06:11:49.531Z"
   },
   {
    "duration": 200,
    "start_time": "2022-06-17T06:11:49.729Z"
   },
   {
    "duration": 366,
    "start_time": "2022-06-17T06:11:49.931Z"
   },
   {
    "duration": 141,
    "start_time": "2022-06-17T06:11:50.299Z"
   },
   {
    "duration": 4,
    "start_time": "2022-06-17T06:11:50.441Z"
   },
   {
    "duration": 27162,
    "start_time": "2022-06-17T06:11:50.446Z"
   },
   {
    "duration": 20759,
    "start_time": "2022-06-17T06:12:17.610Z"
   },
   {
    "duration": 206,
    "start_time": "2022-06-17T06:12:38.370Z"
   },
   {
    "duration": 6,
    "start_time": "2022-06-17T06:12:38.578Z"
   },
   {
    "duration": 4,
    "start_time": "2022-06-17T06:12:38.585Z"
   },
   {
    "duration": 843,
    "start_time": "2022-06-17T06:12:38.590Z"
   },
   {
    "duration": 1068,
    "start_time": "2022-06-17T06:23:54.362Z"
   },
   {
    "duration": 1027,
    "start_time": "2022-06-17T06:24:52.094Z"
   },
   {
    "duration": 423,
    "start_time": "2022-06-17T06:25:13.205Z"
   },
   {
    "duration": 1171,
    "start_time": "2022-06-17T06:30:33.301Z"
   },
   {
    "duration": 51,
    "start_time": "2022-06-17T06:30:34.474Z"
   },
   {
    "duration": 38,
    "start_time": "2022-06-17T06:30:34.526Z"
   },
   {
    "duration": 11,
    "start_time": "2022-06-17T06:30:34.566Z"
   },
   {
    "duration": 10,
    "start_time": "2022-06-17T06:30:34.578Z"
   },
   {
    "duration": 20,
    "start_time": "2022-06-17T06:30:34.589Z"
   },
   {
    "duration": 10,
    "start_time": "2022-06-17T06:30:34.625Z"
   },
   {
    "duration": 4,
    "start_time": "2022-06-17T06:30:34.637Z"
   },
   {
    "duration": 5,
    "start_time": "2022-06-17T06:30:34.642Z"
   },
   {
    "duration": 4,
    "start_time": "2022-06-17T06:30:34.650Z"
   },
   {
    "duration": 8,
    "start_time": "2022-06-17T06:30:34.655Z"
   },
   {
    "duration": 11,
    "start_time": "2022-06-17T06:30:34.665Z"
   },
   {
    "duration": 58,
    "start_time": "2022-06-17T06:30:34.678Z"
   },
   {
    "duration": 11,
    "start_time": "2022-06-17T06:30:34.737Z"
   },
   {
    "duration": 81,
    "start_time": "2022-06-17T06:30:34.749Z"
   },
   {
    "duration": 94,
    "start_time": "2022-06-17T06:30:34.831Z"
   },
   {
    "duration": 1060,
    "start_time": "2022-06-17T06:30:34.927Z"
   },
   {
    "duration": 418,
    "start_time": "2022-06-17T06:30:35.988Z"
   },
   {
    "duration": 384,
    "start_time": "2022-06-17T06:30:36.408Z"
   },
   {
    "duration": 124,
    "start_time": "2022-06-17T06:30:36.794Z"
   },
   {
    "duration": 7,
    "start_time": "2022-06-17T06:30:36.919Z"
   },
   {
    "duration": 26054,
    "start_time": "2022-06-17T06:30:36.927Z"
   },
   {
    "duration": 21371,
    "start_time": "2022-06-17T06:31:02.983Z"
   },
   {
    "duration": 220,
    "start_time": "2022-06-17T06:31:24.355Z"
   },
   {
    "duration": 6,
    "start_time": "2022-06-17T06:31:24.576Z"
   },
   {
    "duration": 4,
    "start_time": "2022-06-17T06:31:24.584Z"
   },
   {
    "duration": 845,
    "start_time": "2022-06-17T06:31:24.589Z"
   },
   {
    "duration": 21130,
    "start_time": "2022-06-17T06:32:17.497Z"
   },
   {
    "duration": 4,
    "start_time": "2022-06-17T06:35:44.208Z"
   },
   {
    "duration": 4,
    "start_time": "2022-06-17T06:35:59.174Z"
   },
   {
    "duration": 47,
    "start_time": "2022-06-17T06:36:01.176Z"
   },
   {
    "duration": 40,
    "start_time": "2022-06-17T06:36:04.454Z"
   },
   {
    "duration": 13,
    "start_time": "2022-06-17T06:36:06.069Z"
   },
   {
    "duration": 10,
    "start_time": "2022-06-17T06:36:08.978Z"
   },
   {
    "duration": 14,
    "start_time": "2022-06-17T06:36:10.548Z"
   },
   {
    "duration": 8,
    "start_time": "2022-06-17T06:36:12.656Z"
   },
   {
    "duration": 5,
    "start_time": "2022-06-17T06:36:19.500Z"
   },
   {
    "duration": 4,
    "start_time": "2022-06-17T06:36:48.097Z"
   },
   {
    "duration": 4,
    "start_time": "2022-06-17T06:36:49.156Z"
   },
   {
    "duration": 8,
    "start_time": "2022-06-17T06:36:51.276Z"
   },
   {
    "duration": 12,
    "start_time": "2022-06-17T06:36:55.355Z"
   },
   {
    "duration": 32,
    "start_time": "2022-06-17T06:36:57.530Z"
   },
   {
    "duration": 12,
    "start_time": "2022-06-17T06:36:59.267Z"
   },
   {
    "duration": 36,
    "start_time": "2022-06-17T06:37:06.589Z"
   },
   {
    "duration": 96,
    "start_time": "2022-06-17T06:41:30.306Z"
   },
   {
    "duration": 11,
    "start_time": "2022-06-17T06:41:40.356Z"
   },
   {
    "duration": 18,
    "start_time": "2022-06-17T06:41:49.048Z"
   },
   {
    "duration": 32,
    "start_time": "2022-06-17T06:42:25.581Z"
   },
   {
    "duration": 54,
    "start_time": "2022-06-17T06:42:39.469Z"
   },
   {
    "duration": 4,
    "start_time": "2022-06-17T06:44:40.739Z"
   },
   {
    "duration": 47,
    "start_time": "2022-06-17T06:44:44.393Z"
   },
   {
    "duration": 38,
    "start_time": "2022-06-17T06:44:46.066Z"
   },
   {
    "duration": 14,
    "start_time": "2022-06-17T06:44:47.552Z"
   },
   {
    "duration": 9,
    "start_time": "2022-06-17T06:44:49.587Z"
   },
   {
    "duration": 13,
    "start_time": "2022-06-17T06:44:50.950Z"
   },
   {
    "duration": 9,
    "start_time": "2022-06-17T06:44:52.771Z"
   },
   {
    "duration": 4,
    "start_time": "2022-06-17T06:44:55.326Z"
   },
   {
    "duration": 5,
    "start_time": "2022-06-17T06:44:57.223Z"
   },
   {
    "duration": 5,
    "start_time": "2022-06-17T06:44:58.159Z"
   },
   {
    "duration": 8,
    "start_time": "2022-06-17T06:44:59.925Z"
   },
   {
    "duration": 11,
    "start_time": "2022-06-17T06:45:04.037Z"
   },
   {
    "duration": 55,
    "start_time": "2022-06-17T06:45:07.649Z"
   },
   {
    "duration": 54,
    "start_time": "2022-06-17T06:45:23.393Z"
   },
   {
    "duration": 10,
    "start_time": "2022-06-17T06:45:27.635Z"
   },
   {
    "duration": 61,
    "start_time": "2022-06-17T06:45:30.667Z"
   },
   {
    "duration": 3,
    "start_time": "2022-06-17T06:45:36.145Z"
   },
   {
    "duration": 767,
    "start_time": "2022-06-17T06:45:43.126Z"
   },
   {
    "duration": 355,
    "start_time": "2022-06-17T06:46:02.605Z"
   },
   {
    "duration": 310,
    "start_time": "2022-06-17T06:46:07.770Z"
   },
   {
    "duration": 104,
    "start_time": "2022-06-17T06:46:24.577Z"
   },
   {
    "duration": 3,
    "start_time": "2022-06-17T06:46:29.140Z"
   },
   {
    "duration": 26284,
    "start_time": "2022-06-17T06:47:40.464Z"
   },
   {
    "duration": 21466,
    "start_time": "2022-06-17T06:48:41.053Z"
   },
   {
    "duration": 275,
    "start_time": "2022-06-17T06:49:21.993Z"
   },
   {
    "duration": 314,
    "start_time": "2022-06-17T07:03:49.808Z"
   },
   {
    "duration": 314,
    "start_time": "2022-06-17T07:04:38.787Z"
   },
   {
    "duration": 1396,
    "start_time": "2022-06-17T07:20:01.677Z"
   },
   {
    "duration": 54,
    "start_time": "2022-06-17T07:20:03.075Z"
   },
   {
    "duration": 45,
    "start_time": "2022-06-17T07:20:03.132Z"
   },
   {
    "duration": 15,
    "start_time": "2022-06-17T07:20:03.180Z"
   },
   {
    "duration": 20,
    "start_time": "2022-06-17T07:20:03.197Z"
   },
   {
    "duration": 15,
    "start_time": "2022-06-17T07:20:03.226Z"
   },
   {
    "duration": 21,
    "start_time": "2022-06-17T07:20:03.243Z"
   },
   {
    "duration": 10,
    "start_time": "2022-06-17T07:20:03.265Z"
   },
   {
    "duration": 19,
    "start_time": "2022-06-17T07:20:03.277Z"
   },
   {
    "duration": 16,
    "start_time": "2022-06-17T07:20:03.299Z"
   },
   {
    "duration": 13,
    "start_time": "2022-06-17T07:20:03.317Z"
   },
   {
    "duration": 21,
    "start_time": "2022-06-17T07:20:03.332Z"
   },
   {
    "duration": 118,
    "start_time": "2022-06-17T07:20:03.356Z"
   },
   {
    "duration": 0,
    "start_time": "2022-06-17T07:20:03.476Z"
   },
   {
    "duration": 0,
    "start_time": "2022-06-17T07:20:03.477Z"
   },
   {
    "duration": 0,
    "start_time": "2022-06-17T07:20:03.478Z"
   },
   {
    "duration": 0,
    "start_time": "2022-06-17T07:20:03.480Z"
   },
   {
    "duration": 0,
    "start_time": "2022-06-17T07:20:03.482Z"
   },
   {
    "duration": 0,
    "start_time": "2022-06-17T07:20:03.483Z"
   },
   {
    "duration": 0,
    "start_time": "2022-06-17T07:20:03.485Z"
   },
   {
    "duration": 0,
    "start_time": "2022-06-17T07:20:03.487Z"
   },
   {
    "duration": 0,
    "start_time": "2022-06-17T07:20:03.488Z"
   },
   {
    "duration": 0,
    "start_time": "2022-06-17T07:20:03.489Z"
   },
   {
    "duration": 0,
    "start_time": "2022-06-17T07:20:03.491Z"
   },
   {
    "duration": 0,
    "start_time": "2022-06-17T07:20:03.492Z"
   },
   {
    "duration": 4,
    "start_time": "2022-06-17T07:20:44.828Z"
   },
   {
    "duration": 17,
    "start_time": "2022-06-17T07:20:54.513Z"
   },
   {
    "duration": 10,
    "start_time": "2022-06-17T07:53:57.999Z"
   },
   {
    "duration": 17,
    "start_time": "2022-06-17T07:54:05.911Z"
   },
   {
    "duration": 1103,
    "start_time": "2022-06-17T08:22:10.750Z"
   },
   {
    "duration": 49,
    "start_time": "2022-06-17T08:22:11.855Z"
   },
   {
    "duration": 35,
    "start_time": "2022-06-17T08:22:11.906Z"
   },
   {
    "duration": 11,
    "start_time": "2022-06-17T08:22:11.943Z"
   },
   {
    "duration": 10,
    "start_time": "2022-06-17T08:22:11.955Z"
   },
   {
    "duration": 12,
    "start_time": "2022-06-17T08:22:11.966Z"
   },
   {
    "duration": 7,
    "start_time": "2022-06-17T08:22:11.980Z"
   },
   {
    "duration": 7,
    "start_time": "2022-06-17T08:22:11.988Z"
   },
   {
    "duration": 32,
    "start_time": "2022-06-17T08:22:11.996Z"
   },
   {
    "duration": 5,
    "start_time": "2022-06-17T08:22:12.031Z"
   },
   {
    "duration": 22,
    "start_time": "2022-06-17T08:22:12.037Z"
   },
   {
    "duration": 12,
    "start_time": "2022-06-17T08:22:12.060Z"
   },
   {
    "duration": 66,
    "start_time": "2022-06-17T08:22:12.073Z"
   },
   {
    "duration": 103,
    "start_time": "2022-06-17T08:22:12.140Z"
   },
   {
    "duration": 0,
    "start_time": "2022-06-17T08:22:12.244Z"
   },
   {
    "duration": 0,
    "start_time": "2022-06-17T08:22:12.246Z"
   },
   {
    "duration": 0,
    "start_time": "2022-06-17T08:22:12.247Z"
   },
   {
    "duration": 0,
    "start_time": "2022-06-17T08:22:12.248Z"
   },
   {
    "duration": 0,
    "start_time": "2022-06-17T08:22:12.249Z"
   },
   {
    "duration": 0,
    "start_time": "2022-06-17T08:22:12.250Z"
   },
   {
    "duration": 0,
    "start_time": "2022-06-17T08:22:12.251Z"
   },
   {
    "duration": 0,
    "start_time": "2022-06-17T08:22:12.252Z"
   },
   {
    "duration": 0,
    "start_time": "2022-06-17T08:22:12.252Z"
   },
   {
    "duration": 0,
    "start_time": "2022-06-17T08:22:12.253Z"
   },
   {
    "duration": 0,
    "start_time": "2022-06-17T08:22:12.254Z"
   },
   {
    "duration": 57,
    "start_time": "2022-06-17T08:22:35.442Z"
   },
   {
    "duration": 12,
    "start_time": "2022-06-17T08:22:37.045Z"
   },
   {
    "duration": 1189,
    "start_time": "2022-06-17T08:22:46.661Z"
   },
   {
    "duration": 51,
    "start_time": "2022-06-17T08:22:47.852Z"
   },
   {
    "duration": 38,
    "start_time": "2022-06-17T08:22:47.904Z"
   },
   {
    "duration": 11,
    "start_time": "2022-06-17T08:22:47.944Z"
   },
   {
    "duration": 9,
    "start_time": "2022-06-17T08:22:47.956Z"
   },
   {
    "duration": 15,
    "start_time": "2022-06-17T08:22:47.967Z"
   },
   {
    "duration": 11,
    "start_time": "2022-06-17T08:22:47.984Z"
   },
   {
    "duration": 4,
    "start_time": "2022-06-17T08:22:47.996Z"
   },
   {
    "duration": 4,
    "start_time": "2022-06-17T08:22:48.026Z"
   },
   {
    "duration": 6,
    "start_time": "2022-06-17T08:22:48.033Z"
   },
   {
    "duration": 21,
    "start_time": "2022-06-17T08:22:48.042Z"
   },
   {
    "duration": 12,
    "start_time": "2022-06-17T08:22:48.064Z"
   },
   {
    "duration": 118,
    "start_time": "2022-06-17T08:22:48.077Z"
   },
   {
    "duration": 0,
    "start_time": "2022-06-17T08:22:48.196Z"
   },
   {
    "duration": 0,
    "start_time": "2022-06-17T08:22:48.197Z"
   },
   {
    "duration": 0,
    "start_time": "2022-06-17T08:22:48.198Z"
   },
   {
    "duration": 0,
    "start_time": "2022-06-17T08:22:48.199Z"
   },
   {
    "duration": 0,
    "start_time": "2022-06-17T08:22:48.200Z"
   },
   {
    "duration": 0,
    "start_time": "2022-06-17T08:22:48.201Z"
   },
   {
    "duration": 0,
    "start_time": "2022-06-17T08:22:48.202Z"
   },
   {
    "duration": 0,
    "start_time": "2022-06-17T08:22:48.203Z"
   },
   {
    "duration": 0,
    "start_time": "2022-06-17T08:22:48.204Z"
   },
   {
    "duration": 0,
    "start_time": "2022-06-17T08:22:48.205Z"
   },
   {
    "duration": 0,
    "start_time": "2022-06-17T08:22:48.225Z"
   },
   {
    "duration": 0,
    "start_time": "2022-06-17T08:22:48.226Z"
   },
   {
    "duration": 54,
    "start_time": "2022-06-17T08:23:07.951Z"
   },
   {
    "duration": 1088,
    "start_time": "2022-06-17T08:23:17.365Z"
   },
   {
    "duration": 55,
    "start_time": "2022-06-17T08:23:18.455Z"
   },
   {
    "duration": 37,
    "start_time": "2022-06-17T08:23:18.512Z"
   },
   {
    "duration": 12,
    "start_time": "2022-06-17T08:23:18.551Z"
   },
   {
    "duration": 10,
    "start_time": "2022-06-17T08:23:18.564Z"
   },
   {
    "duration": 13,
    "start_time": "2022-06-17T08:23:18.575Z"
   },
   {
    "duration": 12,
    "start_time": "2022-06-17T08:23:18.589Z"
   },
   {
    "duration": 28,
    "start_time": "2022-06-17T08:23:18.603Z"
   },
   {
    "duration": 5,
    "start_time": "2022-06-17T08:23:18.632Z"
   },
   {
    "duration": 5,
    "start_time": "2022-06-17T08:23:18.640Z"
   },
   {
    "duration": 9,
    "start_time": "2022-06-17T08:23:18.646Z"
   },
   {
    "duration": 13,
    "start_time": "2022-06-17T08:23:18.656Z"
   },
   {
    "duration": 99,
    "start_time": "2022-06-17T08:23:18.670Z"
   },
   {
    "duration": 13,
    "start_time": "2022-06-17T08:23:18.771Z"
   },
   {
    "duration": 52,
    "start_time": "2022-06-17T08:23:18.786Z"
   },
   {
    "duration": 5,
    "start_time": "2022-06-17T08:23:18.840Z"
   },
   {
    "duration": 805,
    "start_time": "2022-06-17T08:23:18.927Z"
   },
   {
    "duration": 344,
    "start_time": "2022-06-17T08:23:19.733Z"
   },
   {
    "duration": 308,
    "start_time": "2022-06-17T08:23:20.079Z"
   },
   {
    "duration": 123,
    "start_time": "2022-06-17T08:23:20.389Z"
   },
   {
    "duration": 3,
    "start_time": "2022-06-17T08:23:20.513Z"
   },
   {
    "duration": 26833,
    "start_time": "2022-06-17T08:23:20.525Z"
   },
   {
    "duration": 20257,
    "start_time": "2022-06-17T08:23:47.360Z"
   },
   {
    "duration": 262,
    "start_time": "2022-06-17T08:24:07.619Z"
   },
   {
    "duration": 328,
    "start_time": "2022-06-17T08:24:07.883Z"
   },
   {
    "duration": 44,
    "start_time": "2022-06-17T12:58:50.013Z"
   },
   {
    "duration": 45,
    "start_time": "2022-06-18T06:54:49.616Z"
   },
   {
    "duration": 1436,
    "start_time": "2022-06-18T06:54:55.721Z"
   },
   {
    "duration": 102,
    "start_time": "2022-06-18T06:54:57.159Z"
   },
   {
    "duration": 43,
    "start_time": "2022-06-18T06:54:57.262Z"
   },
   {
    "duration": 13,
    "start_time": "2022-06-18T06:54:57.308Z"
   },
   {
    "duration": 11,
    "start_time": "2022-06-18T06:54:57.326Z"
   },
   {
    "duration": 13,
    "start_time": "2022-06-18T06:54:57.339Z"
   },
   {
    "duration": 15,
    "start_time": "2022-06-18T06:54:57.354Z"
   },
   {
    "duration": 5,
    "start_time": "2022-06-18T06:54:57.371Z"
   },
   {
    "duration": 7,
    "start_time": "2022-06-18T06:54:57.378Z"
   },
   {
    "duration": 4,
    "start_time": "2022-06-18T06:54:57.388Z"
   },
   {
    "duration": 39,
    "start_time": "2022-06-18T06:54:57.394Z"
   },
   {
    "duration": 14,
    "start_time": "2022-06-18T06:54:57.435Z"
   },
   {
    "duration": 79,
    "start_time": "2022-06-18T06:54:57.450Z"
   },
   {
    "duration": 12,
    "start_time": "2022-06-18T06:54:57.531Z"
   },
   {
    "duration": 83,
    "start_time": "2022-06-18T06:54:57.544Z"
   },
   {
    "duration": 94,
    "start_time": "2022-06-18T06:54:57.634Z"
   },
   {
    "duration": 802,
    "start_time": "2022-06-18T06:54:57.729Z"
   },
   {
    "duration": 354,
    "start_time": "2022-06-18T06:54:58.532Z"
   },
   {
    "duration": 373,
    "start_time": "2022-06-18T06:54:58.887Z"
   },
   {
    "duration": 132,
    "start_time": "2022-06-18T06:54:59.261Z"
   },
   {
    "duration": 3,
    "start_time": "2022-06-18T06:54:59.395Z"
   },
   {
    "duration": 29735,
    "start_time": "2022-06-18T06:54:59.399Z"
   },
   {
    "duration": 22819,
    "start_time": "2022-06-18T06:55:29.136Z"
   },
   {
    "duration": 240,
    "start_time": "2022-06-18T06:55:51.957Z"
   },
   {
    "duration": 122,
    "start_time": "2022-06-18T06:55:52.199Z"
   },
   {
    "duration": 46,
    "start_time": "2022-06-18T08:21:35.542Z"
   },
   {
    "duration": 1340,
    "start_time": "2022-06-18T08:21:47.388Z"
   },
   {
    "duration": 87,
    "start_time": "2022-06-18T08:21:48.729Z"
   },
   {
    "duration": 37,
    "start_time": "2022-06-18T08:21:48.818Z"
   },
   {
    "duration": 11,
    "start_time": "2022-06-18T08:21:48.857Z"
   },
   {
    "duration": 9,
    "start_time": "2022-06-18T08:21:48.870Z"
   },
   {
    "duration": 13,
    "start_time": "2022-06-18T08:21:48.880Z"
   },
   {
    "duration": 9,
    "start_time": "2022-06-18T08:21:48.894Z"
   },
   {
    "duration": 22,
    "start_time": "2022-06-18T08:21:48.904Z"
   },
   {
    "duration": 5,
    "start_time": "2022-06-18T08:21:48.928Z"
   },
   {
    "duration": 14,
    "start_time": "2022-06-18T08:21:48.935Z"
   },
   {
    "duration": 8,
    "start_time": "2022-06-18T08:21:48.951Z"
   },
   {
    "duration": 12,
    "start_time": "2022-06-18T08:21:48.960Z"
   },
   {
    "duration": 79,
    "start_time": "2022-06-18T08:21:48.973Z"
   },
   {
    "duration": 10,
    "start_time": "2022-06-18T08:21:49.054Z"
   },
   {
    "duration": 62,
    "start_time": "2022-06-18T08:21:49.066Z"
   },
   {
    "duration": 94,
    "start_time": "2022-06-18T08:21:49.130Z"
   },
   {
    "duration": 811,
    "start_time": "2022-06-18T08:21:49.226Z"
   },
   {
    "duration": 339,
    "start_time": "2022-06-18T08:21:50.039Z"
   },
   {
    "duration": 308,
    "start_time": "2022-06-18T08:21:50.380Z"
   },
   {
    "duration": 123,
    "start_time": "2022-06-18T08:21:50.689Z"
   },
   {
    "duration": 3,
    "start_time": "2022-06-18T08:21:50.823Z"
   },
   {
    "duration": 27737,
    "start_time": "2022-06-18T08:21:50.828Z"
   },
   {
    "duration": 21299,
    "start_time": "2022-06-18T08:22:18.567Z"
   },
   {
    "duration": 217,
    "start_time": "2022-06-18T08:22:39.868Z"
   },
   {
    "duration": 340,
    "start_time": "2022-06-18T08:22:40.087Z"
   },
   {
    "duration": 102,
    "start_time": "2022-06-18T08:25:40.380Z"
   },
   {
    "duration": 28082,
    "start_time": "2022-06-18T08:30:23.617Z"
   },
   {
    "duration": 12,
    "start_time": "2022-06-18T08:32:30.913Z"
   },
   {
    "duration": 9,
    "start_time": "2022-06-18T08:32:56.181Z"
   },
   {
    "duration": 282,
    "start_time": "2022-06-18T08:33:03.150Z"
   },
   {
    "duration": 270,
    "start_time": "2022-06-18T08:34:46.754Z"
   },
   {
    "duration": 1258,
    "start_time": "2022-06-18T08:44:01.159Z"
   },
   {
    "duration": 52,
    "start_time": "2022-06-18T08:44:02.418Z"
   },
   {
    "duration": 37,
    "start_time": "2022-06-18T08:44:02.472Z"
   },
   {
    "duration": 13,
    "start_time": "2022-06-18T08:44:02.512Z"
   },
   {
    "duration": 24,
    "start_time": "2022-06-18T08:44:02.527Z"
   },
   {
    "duration": 19,
    "start_time": "2022-06-18T08:44:02.553Z"
   },
   {
    "duration": 16,
    "start_time": "2022-06-18T08:44:02.574Z"
   },
   {
    "duration": 12,
    "start_time": "2022-06-18T08:44:02.592Z"
   },
   {
    "duration": 8,
    "start_time": "2022-06-18T08:44:02.606Z"
   },
   {
    "duration": 8,
    "start_time": "2022-06-18T08:44:02.622Z"
   },
   {
    "duration": 16,
    "start_time": "2022-06-18T08:44:02.632Z"
   },
   {
    "duration": 21,
    "start_time": "2022-06-18T08:44:02.650Z"
   },
   {
    "duration": 84,
    "start_time": "2022-06-18T08:44:02.673Z"
   },
   {
    "duration": 13,
    "start_time": "2022-06-18T08:44:02.759Z"
   },
   {
    "duration": 52,
    "start_time": "2022-06-18T08:44:02.774Z"
   },
   {
    "duration": 4,
    "start_time": "2022-06-18T08:44:02.828Z"
   },
   {
    "duration": 958,
    "start_time": "2022-06-18T08:44:02.834Z"
   },
   {
    "duration": 398,
    "start_time": "2022-06-18T08:44:03.794Z"
   },
   {
    "duration": 353,
    "start_time": "2022-06-18T08:44:04.193Z"
   },
   {
    "duration": 132,
    "start_time": "2022-06-18T08:44:04.548Z"
   },
   {
    "duration": 4,
    "start_time": "2022-06-18T08:44:04.682Z"
   },
   {
    "duration": 28760,
    "start_time": "2022-06-18T08:44:04.687Z"
   },
   {
    "duration": 22386,
    "start_time": "2022-06-18T08:44:33.449Z"
   },
   {
    "duration": 253,
    "start_time": "2022-06-18T08:44:55.837Z"
   },
   {
    "duration": 279,
    "start_time": "2022-06-18T08:44:56.091Z"
   }
  ],
  "kernelspec": {
   "display_name": "Python 3",
   "language": "python",
   "name": "python3"
  },
  "language_info": {
   "codemirror_mode": {
    "name": "ipython",
    "version": 3
   },
   "file_extension": ".py",
   "mimetype": "text/x-python",
   "name": "python",
   "nbconvert_exporter": "python",
   "pygments_lexer": "ipython3",
   "version": "3.7.4"
  },
  "toc": {
   "base_numbering": 1,
   "nav_menu": {},
   "number_sections": true,
   "sideBar": true,
   "skip_h1_title": true,
   "title_cell": "Содержание",
   "title_sidebar": "Contents",
   "toc_cell": true,
   "toc_position": {},
   "toc_section_display": true,
   "toc_window_display": true
  }
 },
 "nbformat": 4,
 "nbformat_minor": 2
}
