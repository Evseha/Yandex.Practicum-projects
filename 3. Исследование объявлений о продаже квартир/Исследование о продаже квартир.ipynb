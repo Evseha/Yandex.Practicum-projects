{
 "cells": [
  {
   "cell_type": "markdown",
   "metadata": {
    "toc": true
   },
   "source": [
    "<h1>Содержание<span class=\"tocSkip\"></span></h1>\n",
    "<div class=\"toc\"><ul class=\"toc-item\"><li><span><a href=\"#Изучение-данных-из-файла\" data-toc-modified-id=\"Изучение-данных-из-файла-1\"><span class=\"toc-item-num\">1&nbsp;&nbsp;</span>Изучение данных из файла</a></span><ul class=\"toc-item\"><li><span><a href=\"#Вывод\" data-toc-modified-id=\"Вывод-1.1\"><span class=\"toc-item-num\">1.1&nbsp;&nbsp;</span>Вывод</a></span></li></ul></li><li><span><a href=\"#Предобработка-данных\" data-toc-modified-id=\"Предобработка-данных-2\"><span class=\"toc-item-num\">2&nbsp;&nbsp;</span>Предобработка данных</a></span><ul class=\"toc-item\"><li><span><a href=\"#Удаление-дубликатов\" data-toc-modified-id=\"Удаление-дубликатов-2.1\"><span class=\"toc-item-num\">2.1&nbsp;&nbsp;</span>Удаление дубликатов</a></span></li><li><span><a href=\"#Заполнение-пропусков-и-преобразование-в-необходимый-для-анализа-формат\" data-toc-modified-id=\"Заполнение-пропусков-и-преобразование-в-необходимый-для-анализа-формат-2.2\"><span class=\"toc-item-num\">2.2&nbsp;&nbsp;</span>Заполнение пропусков и преобразование в необходимый для анализа формат</a></span><ul class=\"toc-item\"><li><span><a href=\"#Заполнение-пропусков-в-данных-ceiling_height\" data-toc-modified-id=\"Заполнение-пропусков-в-данных-ceiling_height-2.2.1\"><span class=\"toc-item-num\">2.2.1&nbsp;&nbsp;</span>Заполнение пропусков в данных ceiling_height</a></span></li><li><span><a href=\"#Заполнение-пропусков-в-данных-floors_total\" data-toc-modified-id=\"Заполнение-пропусков-в-данных-floors_total-2.2.2\"><span class=\"toc-item-num\">2.2.2&nbsp;&nbsp;</span>Заполнение пропусков в данных floors_total</a></span></li><li><span><a href=\"#Заполнение-пропусков-в-данных-is-apartment\" data-toc-modified-id=\"Заполнение-пропусков-в-данных-is-apartment-2.2.3\"><span class=\"toc-item-num\">2.2.3&nbsp;&nbsp;</span>Заполнение пропусков в данных is apartment</a></span></li><li><span><a href=\"#Заполнение-пропусков-в-данных-living_area\" data-toc-modified-id=\"Заполнение-пропусков-в-данных-living_area-2.2.4\"><span class=\"toc-item-num\">2.2.4&nbsp;&nbsp;</span>Заполнение пропусков в данных living_area</a></span></li><li><span><a href=\"#Заполнение-пропусков-в-данных-kitchen_area\" data-toc-modified-id=\"Заполнение-пропусков-в-данных-kitchen_area-2.2.5\"><span class=\"toc-item-num\">2.2.5&nbsp;&nbsp;</span>Заполнение пропусков в данных kitchen_area</a></span></li><li><span><a href=\"#Заполнение-пропусков-в-данных-balcony\" data-toc-modified-id=\"Заполнение-пропусков-в-данных-balcony-2.2.6\"><span class=\"toc-item-num\">2.2.6&nbsp;&nbsp;</span>Заполнение пропусков в данных balcony</a></span></li><li><span><a href=\"#Заполнение-пропусков-в-данных-locality_name\" data-toc-modified-id=\"Заполнение-пропусков-в-данных-locality_name-2.2.7\"><span class=\"toc-item-num\">2.2.7&nbsp;&nbsp;</span>Заполнение пропусков в данных locality_name</a></span></li><li><span><a href=\"#Заполнение-пропусков-в-данных-park_around_3000-и-перевод-в-целочисленное\" data-toc-modified-id=\"Заполнение-пропусков-в-данных-park_around_3000-и-перевод-в-целочисленное-2.2.8\"><span class=\"toc-item-num\">2.2.8&nbsp;&nbsp;</span>Заполнение пропусков в данных park_around_3000 и перевод в целочисленное</a></span></li><li><span><a href=\"#Заполнение-пропусков-в-данных-ponds_around3000-и-перевод-в-целочисленное\" data-toc-modified-id=\"Заполнение-пропусков-в-данных-ponds_around3000-и-перевод-в-целочисленное-2.2.9\"><span class=\"toc-item-num\">2.2.9&nbsp;&nbsp;</span>Заполнение пропусков в данных ponds_around3000 и перевод в целочисленное</a></span></li><li><span><a href=\"#Заполнение-пропусков-в-данных-days_exposition\" data-toc-modified-id=\"Заполнение-пропусков-в-данных-days_exposition-2.2.10\"><span class=\"toc-item-num\">2.2.10&nbsp;&nbsp;</span>Заполнение пропусков в данных days_exposition</a></span></li></ul></li></ul></li><li><span><a href=\"#Расчёты-и-добавление-результатов-в-таблицу\" data-toc-modified-id=\"Расчёты-и-добавление-результатов-в-таблицу-3\"><span class=\"toc-item-num\">3&nbsp;&nbsp;</span>Расчёты и добавление результатов в таблицу</a></span><ul class=\"toc-item\"><li><span><a href=\"#Расчёты-и-добавление-цены-квадратного-метра\" data-toc-modified-id=\"Расчёты-и-добавление-цены-квадратного-метра-3.1\"><span class=\"toc-item-num\">3.1&nbsp;&nbsp;</span>Расчёты и добавление цены квадратного метра</a></span></li><li><span><a href=\"#Расчёты-и-добавление-дня-недели,-месяца-и-года-публикации-объявления\" data-toc-modified-id=\"Расчёты-и-добавление-дня-недели,-месяца-и-года-публикации-объявления-3.2\"><span class=\"toc-item-num\">3.2&nbsp;&nbsp;</span>Расчёты и добавление дня недели, месяца и года публикации объявления</a></span></li><li><span><a href=\"#Расчёты-и-добавление-столбца-с-видом-этажа\" data-toc-modified-id=\"Расчёты-и-добавление-столбца-с-видом-этажа-3.3\"><span class=\"toc-item-num\">3.3&nbsp;&nbsp;</span>Расчёты и добавление столбца с видом этажа</a></span></li><li><span><a href=\"#Расчёты-и-добавление-столбцов-с-соотношениями-жилой-и-общей-площади,-а-также-отношение-площади-кухни-к-общей\" data-toc-modified-id=\"Расчёты-и-добавление-столбцов-с-соотношениями-жилой-и-общей-площади,-а-также-отношение-площади-кухни-к-общей-3.4\"><span class=\"toc-item-num\">3.4&nbsp;&nbsp;</span>Расчёты и добавление столбцов с соотношениями жилой и общей площади, а также отношение площади кухни к общей</a></span></li></ul></li><li><span><a href=\"#Исследовательский-анализ-данных\" data-toc-modified-id=\"Исследовательский-анализ-данных-4\"><span class=\"toc-item-num\">4&nbsp;&nbsp;</span>Исследовательский анализ данных</a></span><ul class=\"toc-item\"><li><span><a href=\"#Изучение-данных\" data-toc-modified-id=\"Изучение-данных-4.1\"><span class=\"toc-item-num\">4.1&nbsp;&nbsp;</span>Изучение данных</a></span></li><li><span><a href=\"#Изучение-времени-продажи-квартир\" data-toc-modified-id=\"Изучение-времени-продажи-квартир-4.2\"><span class=\"toc-item-num\">4.2&nbsp;&nbsp;</span>Изучение времени продажи квартир</a></span></li><li><span><a href=\"#Работа-с-редкими-и-выбивающимися-значениями\" data-toc-modified-id=\"Работа-с-редкими-и-выбивающимися-значениями-4.3\"><span class=\"toc-item-num\">4.3&nbsp;&nbsp;</span>Работа с редкими и выбивающимися значениями</a></span></li><li><span><a href=\"#Изучение-факторов,-влияющих-на-стоимость-квартиры\" data-toc-modified-id=\"Изучение-факторов,-влияющих-на-стоимость-квартиры-4.4\"><span class=\"toc-item-num\">4.4&nbsp;&nbsp;</span>Изучение факторов, влияющих на стоимость квартиры</a></span></li></ul></li><li><span><a href=\"#Общий-вывод\" data-toc-modified-id=\"Общий-вывод-5\"><span class=\"toc-item-num\">5&nbsp;&nbsp;</span>Общий вывод</a></span></li><li><span><a href=\"#Чек-лист-готовности-проекта\" data-toc-modified-id=\"Чек-лист-готовности-проекта-6\"><span class=\"toc-item-num\">6&nbsp;&nbsp;</span>Чек-лист готовности проекта</a></span></li></ul></div>"
   ]
  },
  {
   "cell_type": "markdown",
   "metadata": {},
   "source": [
    "# Исследование объявлений о продаже квартир\n",
    "\n",
    "В вашем распоряжении данные сервиса Яндекc Недвижимость — архив объявлений о продаже квартир в Санкт-Петербурге и соседних населённых пунктах за несколько лет. Нужно научиться определять рыночную стоимость объектов недвижимости. Ваша задача — установить параметры. Это позволит построить автоматизированную систему: она отследит аномалии и мошенническую деятельность. \n",
    "\n",
    "По каждой квартире на продажу доступны два вида данных. Первые вписаны пользователем, вторые получены автоматически на основе картографических данных. Например, расстояние до центра, аэропорта, ближайшего парка и водоёма. "
   ]
  },
  {
   "cell_type": "markdown",
   "metadata": {},
   "source": [
    "## Изучение данных из файла"
   ]
  },
  {
   "cell_type": "markdown",
   "metadata": {},
   "source": [
    "К данным нам были предоставлены следующие описания:\n",
    "\n",
    "Описание данных\n",
    "\n",
    "-\tairports_nearest — расстояние до ближайшего аэропорта в метрах (м)\n",
    "-\tbalcony — число балконов\n",
    "-\tceiling_height — высота потолков (м)\n",
    "-\tcityCenters_nearest — расстояние до центра города (м)\n",
    "-\tdays_exposition — сколько дней было размещено объявление (от публикации до снятия)\n",
    "-\tfirst_day_exposition — дата публикации\n",
    "-\tfloor — этаж\n",
    "-\tfloors_total — всего этажей в доме\n",
    "-\tis_apartment — апартаменты (булев тип)\n",
    "-\tkitchen_area — площадь кухни в квадратных метрах (м²)\n",
    "-\tlast_price — цена на момент снятия с публикации\n",
    "-\tliving_area — жилая площадь в квадратных метрах (м²)\n",
    "-\tlocality_name — название населённого пункта\n",
    "-\topen_plan — свободная планировка (булев тип)\n",
    "-\tparks_around3000 — число парков в радиусе 3 км\n",
    "-\tparks_nearest — расстояние до ближайшего парка (м)\n",
    "-\tponds_around3000 — число водоёмов в радиусе 3 км\n",
    "-\tponds_nearest — расстояние до ближайшего водоёма (м)\n",
    "-\trooms — число комнат\n",
    "-\tstudio — квартира-студия (булев тип)\n",
    "-\ttotal_area — площадь квартиры в квадратных метрах (м²)\n",
    "-\ttotal_images — число фотографий квартиры в объявлении\n"
   ]
  },
  {
   "cell_type": "markdown",
   "metadata": {},
   "source": [
    "Для начала откроем предоставленный файл и посмотрим что мы имеем:"
   ]
  },
  {
   "cell_type": "code",
   "execution_count": 1,
   "metadata": {},
   "outputs": [],
   "source": [
    "import pandas as pd\n",
    "import copy\n",
    "import matplotlib.pyplot as plt \n",
    "import seaborn as sns \n",
    "import warnings\n",
    "warnings.filterwarnings(\"ignore\")"
   ]
  },
  {
   "cell_type": "code",
   "execution_count": 66,
   "metadata": {},
   "outputs": [
    {
     "name": "stdout",
     "output_type": "stream",
     "text": [
      "<class 'pandas.core.frame.DataFrame'>\n",
      "RangeIndex: 23699 entries, 0 to 23698\n",
      "Data columns (total 22 columns):\n",
      "total_images            23699 non-null int64\n",
      "last_price              23699 non-null float64\n",
      "total_area              23699 non-null float64\n",
      "first_day_exposition    23699 non-null object\n",
      "rooms                   23699 non-null int64\n",
      "ceiling_height          14504 non-null float64\n",
      "floors_total            23613 non-null float64\n",
      "living_area             21796 non-null float64\n",
      "floor                   23699 non-null int64\n",
      "is_apartment            2775 non-null object\n",
      "studio                  23699 non-null bool\n",
      "open_plan               23699 non-null bool\n",
      "kitchen_area            21421 non-null float64\n",
      "balcony                 12180 non-null float64\n",
      "locality_name           23650 non-null object\n",
      "airports_nearest        18157 non-null float64\n",
      "cityCenters_nearest     18180 non-null float64\n",
      "parks_around3000        18181 non-null float64\n",
      "parks_nearest           8079 non-null float64\n",
      "ponds_around3000        18181 non-null float64\n",
      "ponds_nearest           9110 non-null float64\n",
      "days_exposition         20518 non-null float64\n",
      "dtypes: bool(2), float64(14), int64(3), object(3)\n",
      "memory usage: 3.4+ MB\n"
     ]
    }
   ],
   "source": [
    "real_estate = pd.read_csv('D:\\Женя\\Обучение Женя\\Datasets/real_estate_data.csv', sep = '\\t')\n",
    "real_estate.info()"
   ]
  },
  {
   "cell_type": "markdown",
   "metadata": {},
   "source": [
    "### Вывод"
   ]
  },
  {
   "cell_type": "markdown",
   "metadata": {},
   "source": [
    "По полученным данным можно сделать выводы:\n",
    "- Пропуски в данных в следующих столбцах:\n",
    "    - ceiling_height;\n",
    "    - floors_total;\n",
    "    - is_apartment;\n",
    "    - living_area;\n",
    "    - kitchen_area;\n",
    "    - balcony;\n",
    "    - locality_name;\n",
    "    - airports_nearest;\n",
    "    - cityCenters_nearest;\n",
    "    - parks_around3000;\n",
    "    - parks_nearest;\n",
    "    - ponds_around3000;\n",
    "    - ponds_nearest;\n",
    "    - days_exposition.\n",
    "- Неверный формат в следующих столбцах:\n",
    "    - first_day_exposition;\n",
    "    - floors_total;\n",
    "    - is_apartment;\n",
    "    - parks_around3000;\n",
    "    - ponds_around3000;\n",
    "    - days_exposition."
   ]
  },
  {
   "cell_type": "markdown",
   "metadata": {},
   "source": [
    "## Предобработка данных"
   ]
  },
  {
   "cell_type": "markdown",
   "metadata": {},
   "source": [
    "### Удаление дубликатов"
   ]
  },
  {
   "cell_type": "markdown",
   "metadata": {},
   "source": [
    "Проверим данные на наличие дубликатов и удалим дубликаты если их не много"
   ]
  },
  {
   "cell_type": "code",
   "execution_count": 3,
   "metadata": {},
   "outputs": [
    {
     "data": {
      "text/plain": [
       "0"
      ]
     },
     "execution_count": 3,
     "metadata": {},
     "output_type": "execute_result"
    }
   ],
   "source": [
    "real_estate.duplicated().sum()"
   ]
  },
  {
   "cell_type": "markdown",
   "metadata": {},
   "source": [
    "Дубликатов нет!"
   ]
  },
  {
   "cell_type": "markdown",
   "metadata": {},
   "source": [
    "### Заполнение пропусков и преобразование в необходимый для анализа формат"
   ]
  },
  {
   "cell_type": "markdown",
   "metadata": {},
   "source": [
    "#### Заполнение пропусков в данных ceiling_height"
   ]
  },
  {
   "cell_type": "code",
   "execution_count": 4,
   "metadata": {},
   "outputs": [
    {
     "data": {
      "text/plain": [
       "count    14504.000000\n",
       "mean         2.771499\n",
       "std          1.261056\n",
       "min          1.000000\n",
       "25%          2.520000\n",
       "50%          2.650000\n",
       "75%          2.800000\n",
       "max        100.000000\n",
       "Name: ceiling_height, dtype: float64"
      ]
     },
     "execution_count": 4,
     "metadata": {},
     "output_type": "execute_result"
    }
   ],
   "source": [
    "real_estate['ceiling_height'].describe()"
   ]
  },
  {
   "cell_type": "markdown",
   "metadata": {},
   "source": [
    "Поскольку 38,8 процентов пропущено в данных о высоте потолков, мы не можем оставить данный столбец без внимания и нам нужно заполнить пропуски медианой. Сгруппируем по параметру 'floor'"
   ]
  },
  {
   "cell_type": "code",
   "execution_count": 5,
   "metadata": {},
   "outputs": [
    {
     "name": "stdout",
     "output_type": "stream",
     "text": [
      "4\n"
     ]
    }
   ],
   "source": [
    "for floor in real_estate['floor'].unique():\n",
    "    median = real_estate.loc[real_estate['floor'] == floor, 'ceiling_height'].median()\n",
    "    real_estate.loc[(real_estate['ceiling_height'].isna()) & (real_estate['floor'] == floor), \n",
    "                    'ceiling_height'] = median\n",
    "print(real_estate['ceiling_height'].isna().sum())"
   ]
  },
  {
   "cell_type": "markdown",
   "metadata": {},
   "source": [
    "Также в данных присутствуют нереально завышенные и заниженные данные. Пока оставим данные выбросы в исходном виде."
   ]
  },
  {
   "cell_type": "code",
   "execution_count": 6,
   "metadata": {
    "scrolled": true
   },
   "outputs": [
    {
     "data": {
      "text/plain": [
       "<matplotlib.axes._subplots.AxesSubplot at 0xd4b3e30>"
      ]
     },
     "execution_count": 6,
     "metadata": {},
     "output_type": "execute_result"
    },
    {
     "data": {
      "image/png": "[encoded data removed]",
      "text/plain": [
       "<Figure size 432x288 with 1 Axes>"
      ]
     },
     "metadata": {
      "needs_background": "light"
     },
     "output_type": "display_data"
    }
   ],
   "source": [
    "real_estate['ceiling_height'].plot(y='ceiling_height', kind='hist', bins=30, range=(2,5))"
   ]
  },
  {
   "cell_type": "markdown",
   "metadata": {},
   "source": [
    "#### Заполнение пропусков в данных floors_total "
   ]
  },
  {
   "cell_type": "markdown",
   "metadata": {},
   "source": [
    "Расчитаем количество пропусков в столбце"
   ]
  },
  {
   "cell_type": "code",
   "execution_count": 7,
   "metadata": {},
   "outputs": [
    {
     "data": {
      "text/plain": [
       "86"
      ]
     },
     "execution_count": 7,
     "metadata": {},
     "output_type": "execute_result"
    }
   ],
   "source": [
    "real_estate['floors_total'].isna().sum()"
   ]
  },
  {
   "cell_type": "markdown",
   "metadata": {},
   "source": [
    "Удалим строки с данными пропусками"
   ]
  },
  {
   "cell_type": "code",
   "execution_count": 8,
   "metadata": {},
   "outputs": [
    {
     "data": {
      "text/plain": [
       "0"
      ]
     },
     "execution_count": 8,
     "metadata": {},
     "output_type": "execute_result"
    }
   ],
   "source": [
    "real_estate.dropna(subset=['floors_total'], inplace=True)\n",
    "real_estate['floors_total'].isna().sum()"
   ]
  },
  {
   "cell_type": "code",
   "execution_count": 9,
   "metadata": {},
   "outputs": [
    {
     "data": {
      "text/plain": [
       "<matplotlib.axes._subplots.AxesSubplot at 0xd7b0430>"
      ]
     },
     "execution_count": 9,
     "metadata": {},
     "output_type": "execute_result"
    },
    {
     "data": {
      "image/png": "[encoded data removed]",
      "text/plain": [
       "<Figure size 432x288 with 1 Axes>"
      ]
     },
     "metadata": {
      "needs_background": "light"
     },
     "output_type": "display_data"
    }
   ],
   "source": [
    "real_estate['floors_total'].plot(y='floors_total', kind='hist', bins=30, range=(2,35))"
   ]
  },
  {
   "cell_type": "markdown",
   "metadata": {},
   "source": [
    "#### Заполнение пропусков в данных is apartment"
   ]
  },
  {
   "cell_type": "markdown",
   "metadata": {},
   "source": [
    "Скорее всего данный параметр появился позже начала сбора статистики и для анализа не представляет какой либо значимости. Поэтому мы просто удалим данный столбец"
   ]
  },
  {
   "cell_type": "code",
   "execution_count": 10,
   "metadata": {},
   "outputs": [
    {
     "data": {
      "text/plain": [
       "Index(['total_images', 'last_price', 'total_area', 'first_day_exposition',\n",
       "       'rooms', 'ceiling_height', 'floors_total', 'living_area', 'floor',\n",
       "       'studio', 'open_plan', 'kitchen_area', 'balcony', 'locality_name',\n",
       "       'airports_nearest', 'cityCenters_nearest', 'parks_around3000',\n",
       "       'parks_nearest', 'ponds_around3000', 'ponds_nearest',\n",
       "       'days_exposition'],\n",
       "      dtype='object')"
      ]
     },
     "execution_count": 10,
     "metadata": {},
     "output_type": "execute_result"
    }
   ],
   "source": [
    "real_estate.drop(columns=['is_apartment'], inplace=True)\n",
    "real_estate.columns"
   ]
  },
  {
   "cell_type": "markdown",
   "metadata": {},
   "source": [
    "#### Заполнение пропусков в данных living_area"
   ]
  },
  {
   "cell_type": "markdown",
   "metadata": {},
   "source": [
    "Данные в этом столбце можно расчитать соотношением жилой площади к общей площади"
   ]
  },
  {
   "cell_type": "code",
   "execution_count": 11,
   "metadata": {},
   "outputs": [
    {
     "data": {
      "text/plain": [
       "False    23613\n",
       "Name: living_area, dtype: int64"
      ]
     },
     "execution_count": 11,
     "metadata": {},
     "output_type": "execute_result"
    }
   ],
   "source": [
    "mean_living_area = (real_estate['living_area'] / real_estate['total_area']).mean()\n",
    "real_estate['living_area'] = real_estate['living_area'].fillna(real_estate['total_area'] *mean_living_area)\n",
    "real_estate['living_area'].isna().value_counts()"
   ]
  },
  {
   "cell_type": "code",
   "execution_count": 12,
   "metadata": {},
   "outputs": [
    {
     "data": {
      "text/plain": [
       "<matplotlib.axes._subplots.AxesSubplot at 0xdefb670>"
      ]
     },
     "execution_count": 12,
     "metadata": {},
     "output_type": "execute_result"
    },
    {
     "data": {
      "image/png": "[encoded data removed]",
      "text/plain": [
       "<Figure size 432x288 with 1 Axes>"
      ]
     },
     "metadata": {
      "needs_background": "light"
     },
     "output_type": "display_data"
    }
   ],
   "source": [
    "real_estate['living_area'].plot(y='living_area', kind='hist', bins=30, range=(2,200))"
   ]
  },
  {
   "cell_type": "markdown",
   "metadata": {},
   "source": [
    "#### Заполнение пропусков в данных kitchen_area"
   ]
  },
  {
   "cell_type": "markdown",
   "metadata": {},
   "source": [
    "Пропуски в данных о площади кухни заполним также соотношением данных площади кухни и общей площади "
   ]
  },
  {
   "cell_type": "code",
   "execution_count": 13,
   "metadata": {},
   "outputs": [
    {
     "data": {
      "text/plain": [
       "False    23613\n",
       "Name: kitchen_area, dtype: int64"
      ]
     },
     "execution_count": 13,
     "metadata": {},
     "output_type": "execute_result"
    }
   ],
   "source": [
    "mean_kitchen_area = (real_estate['kitchen_area'] / real_estate['total_area']).mean()\n",
    "real_estate['kitchen_area'] = real_estate['kitchen_area'].fillna(round((real_estate['total_area'] *mean_kitchen_area), 1))\n",
    "real_estate['kitchen_area'].isna().value_counts()"
   ]
  },
  {
   "cell_type": "code",
   "execution_count": 14,
   "metadata": {
    "scrolled": true
   },
   "outputs": [
    {
     "data": {
      "text/plain": [
       "<matplotlib.axes._subplots.AxesSubplot at 0xdebe4b0>"
      ]
     },
     "execution_count": 14,
     "metadata": {},
     "output_type": "execute_result"
    },
    {
     "data": {
      "image/png": "[encoded data removed]",
      "text/plain": [
       "<Figure size 432x288 with 1 Axes>"
      ]
     },
     "metadata": {
      "needs_background": "light"
     },
     "output_type": "display_data"
    }
   ],
   "source": [
    "real_estate['kitchen_area'].plot(y='kitchen_area', kind='hist', bins=30, range=(2,50))"
   ]
  },
  {
   "cell_type": "markdown",
   "metadata": {},
   "source": [
    "#### Заполнение пропусков в данных balcony"
   ]
  },
  {
   "cell_type": "markdown",
   "metadata": {},
   "source": [
    "Вероятно пропуски в данном столбце означали отсутсвие балкона впринципе. Поэтому просто заменим на '0'. Заодно переведем формат столбца в целочисленный\n"
   ]
  },
  {
   "cell_type": "code",
   "execution_count": 15,
   "metadata": {},
   "outputs": [],
   "source": [
    "real_estate['balcony'] = real_estate['balcony'].fillna(0).astype(int)"
   ]
  },
  {
   "cell_type": "code",
   "execution_count": 16,
   "metadata": {},
   "outputs": [
    {
     "data": {
      "text/plain": [
       "<matplotlib.axes._subplots.AxesSubplot at 0xdeb7cf0>"
      ]
     },
     "execution_count": 16,
     "metadata": {},
     "output_type": "execute_result"
    },
    {
     "data": {
      "image/png": "[encoded data removed]",
      "text/plain": [
       "<Figure size 432x288 with 1 Axes>"
      ]
     },
     "metadata": {
      "needs_background": "light"
     },
     "output_type": "display_data"
    }
   ],
   "source": [
    "real_estate['balcony'].plot(y='balcony', kind='hist', bins=30, range=(0,10))"
   ]
  },
  {
   "cell_type": "markdown",
   "metadata": {},
   "source": [
    "#### Заполнение пропусков в данных locality_name"
   ]
  },
  {
   "cell_type": "markdown",
   "metadata": {},
   "source": [
    "Данные в данном столбце важны для анализа, но восстановить эти данные нет возможности. Так как пропусков мало удаляем строки с пропущенными данными в данном столце"
   ]
  },
  {
   "cell_type": "code",
   "execution_count": 17,
   "metadata": {},
   "outputs": [],
   "source": [
    "real_estate = real_estate.dropna(subset = ['locality_name']).reset_index(drop=True)"
   ]
  },
  {
   "cell_type": "markdown",
   "metadata": {},
   "source": [
    "#### Заполнение пропусков в данных park_around_3000 и перевод в целочисленное "
   ]
  },
  {
   "cell_type": "markdown",
   "metadata": {},
   "source": [
    "Отсутствие записей в данных скорее всего означает отсутствие, поэтому заменим пустые значения на '0'"
   ]
  },
  {
   "cell_type": "code",
   "execution_count": 18,
   "metadata": {},
   "outputs": [],
   "source": [
    "real_estate['parks_around3000'] = real_estate['parks_around3000'].fillna(0).astype(int)"
   ]
  },
  {
   "cell_type": "code",
   "execution_count": 19,
   "metadata": {},
   "outputs": [
    {
     "data": {
      "text/plain": [
       "0"
      ]
     },
     "execution_count": 19,
     "metadata": {},
     "output_type": "execute_result"
    }
   ],
   "source": [
    "real_estate['parks_around3000'].isna().sum()"
   ]
  },
  {
   "cell_type": "code",
   "execution_count": 20,
   "metadata": {},
   "outputs": [
    {
     "data": {
      "text/plain": [
       "<matplotlib.axes._subplots.AxesSubplot at 0xe734a30>"
      ]
     },
     "execution_count": 20,
     "metadata": {},
     "output_type": "execute_result"
    },
    {
     "data": {
      "image/png": "[encoded data removed]",
      "text/plain": [
       "<Figure size 432x288 with 1 Axes>"
      ]
     },
     "metadata": {
      "needs_background": "light"
     },
     "output_type": "display_data"
    }
   ],
   "source": [
    "real_estate['parks_around3000'].plot(y='parks_around3000', kind='hist', bins=30, range=(0,10)) "
   ]
  },
  {
   "cell_type": "markdown",
   "metadata": {},
   "source": [
    "#### Заполнение пропусков в данных ponds_around3000 и перевод в целочисленное "
   ]
  },
  {
   "cell_type": "markdown",
   "metadata": {},
   "source": [
    "Наблюдается схожая ситуация с наличием парков по близости"
   ]
  },
  {
   "cell_type": "code",
   "execution_count": 21,
   "metadata": {},
   "outputs": [],
   "source": [
    "real_estate['ponds_around3000'] = real_estate['ponds_around3000'].fillna(0).astype(int)"
   ]
  },
  {
   "cell_type": "code",
   "execution_count": 22,
   "metadata": {},
   "outputs": [
    {
     "data": {
      "text/plain": [
       "0"
      ]
     },
     "execution_count": 22,
     "metadata": {},
     "output_type": "execute_result"
    }
   ],
   "source": [
    "real_estate['ponds_around3000'].isna().sum()"
   ]
  },
  {
   "cell_type": "code",
   "execution_count": 23,
   "metadata": {},
   "outputs": [
    {
     "data": {
      "text/plain": [
       "<matplotlib.axes._subplots.AxesSubplot at 0xdf84c30>"
      ]
     },
     "execution_count": 23,
     "metadata": {},
     "output_type": "execute_result"
    },
    {
     "data": {
      "image/png": "[encoded data removed]",
      "text/plain": [
       "<Figure size 432x288 with 1 Axes>"
      ]
     },
     "metadata": {
      "needs_background": "light"
     },
     "output_type": "display_data"
    }
   ],
   "source": [
    "real_estate['ponds_around3000'].plot(y='ponds_around3000', kind='hist', bins=30, range=(0,10)) "
   ]
  },
  {
   "cell_type": "code",
   "execution_count": 24,
   "metadata": {
    "scrolled": true
   },
   "outputs": [
    {
     "data": {
      "text/plain": [
       "total_images                0\n",
       "last_price                  0\n",
       "total_area                  0\n",
       "first_day_exposition        0\n",
       "rooms                       0\n",
       "ceiling_height              4\n",
       "floors_total                0\n",
       "living_area                 0\n",
       "floor                       0\n",
       "studio                      0\n",
       "open_plan                   0\n",
       "kitchen_area                0\n",
       "balcony                     0\n",
       "locality_name               0\n",
       "airports_nearest         5524\n",
       "cityCenters_nearest      5501\n",
       "parks_around3000            0\n",
       "parks_nearest           15535\n",
       "ponds_around3000            0\n",
       "ponds_nearest           14529\n",
       "days_exposition          3171\n",
       "dtype: int64"
      ]
     },
     "execution_count": 24,
     "metadata": {},
     "output_type": "execute_result"
    }
   ],
   "source": [
    "real_estate.isna().sum()"
   ]
  },
  {
   "cell_type": "markdown",
   "metadata": {},
   "source": [
    "#### Заполнение пропусков в данных days_exposition"
   ]
  },
  {
   "cell_type": "code",
   "execution_count": 25,
   "metadata": {},
   "outputs": [],
   "source": [
    "real_estate['days_exposition'].fillna(9999, inplace=True)\n",
    "real_estate['days_exposition'] = real_estate['days_exposition'].astype(int)"
   ]
  },
  {
   "cell_type": "code",
   "execution_count": 26,
   "metadata": {},
   "outputs": [
    {
     "data": {
      "text/plain": [
       "<matplotlib.axes._subplots.AxesSubplot at 0xe9aa7b0>"
      ]
     },
     "execution_count": 26,
     "metadata": {},
     "output_type": "execute_result"
    },
    {
     "data": {
      "image/png": "[encoded data removed]",
      "text/plain": [
       "<Figure size 432x288 with 1 Axes>"
      ]
     },
     "metadata": {
      "needs_background": "light"
     },
     "output_type": "display_data"
    }
   ],
   "source": [
    "real_estate['days_exposition'].plot(y='days_exposition', kind='hist', bins=30, range=(0,1000)) "
   ]
  },
  {
   "cell_type": "markdown",
   "metadata": {},
   "source": [
    "В ходе предобработки данных были обнаружены пропуски в данных и произведены следующие действия:\n",
    "- в столбце с данными о высоте потолков было почти 40 процентов пропусков в данных.  Сгруппировав по параметру 'floor' мы присвоели пропускам среднее значение;\n",
    "- Из столбца 'floors_total' мы удалили строки с пропущенными данными, так как их количество не испортит нам статистику;\n",
    "- Поскольку параметр 'is_apartment' не представляет для аналитики ценности, мы просто удалили столбец с этими данными;\n",
    "- расчитав соотношение жилой площади к общей и площади кухни к общей площади, мы заполнили пропуски в столбцах с данными о жилой площади и площади кухни среднимм значениями;\n",
    "- пропуски в данных о наличии балкона видимо считались отсутствием балкона, поэтому мы заполнили пропусками нулевым значением;\n",
    "- данные о названии населенного пункта конечно же важны для исследования, но восстановить эти данные проблематично, поэтому удаляем строки с пропущенными значениями в данном столбце;\n",
    "- пропуски в данных о наличии на расстоянии 3000 от квартиры парка или водоема мы заменили также на нулевые значения и исправили данные в данных столбцах на целочисленные;\n",
    "- пропуски в данных о днях продажи квартиры мы заполнили 9999, так как не возможно восстановить эти данные, а удалять нельзя, потому что таких пропусков много!"
   ]
  },
  {
   "cell_type": "markdown",
   "metadata": {},
   "source": [
    "## Расчёты и добавление результатов в таблицу"
   ]
  },
  {
   "cell_type": "markdown",
   "metadata": {},
   "source": [
    "### Расчёты и добавление цены квадратного метра"
   ]
  },
  {
   "cell_type": "markdown",
   "metadata": {},
   "source": [
    "Расчитаем и добавим в нашу таблицу столбец с информацией о стоимости квадратного метра"
   ]
  },
  {
   "cell_type": "code",
   "execution_count": 27,
   "metadata": {},
   "outputs": [
    {
     "data": {
      "text/html": [
       "<div>\n",
       "<style scoped>\n",
       "    .dataframe tbody tr th:only-of-type {\n",
       "        vertical-align: middle;\n",
       "    }\n",
       "\n",
       "    .dataframe tbody tr th {\n",
       "        vertical-align: top;\n",
       "    }\n",
       "\n",
       "    .dataframe thead th {\n",
       "        text-align: right;\n",
       "    }\n",
       "</style>\n",
       "<table border=\"1\" class=\"dataframe\">\n",
       "  <thead>\n",
       "    <tr style=\"text-align: right;\">\n",
       "      <th></th>\n",
       "      <th>square_meter_price</th>\n",
       "    </tr>\n",
       "  </thead>\n",
       "  <tbody>\n",
       "    <tr>\n",
       "      <td>19273</td>\n",
       "      <td>57500</td>\n",
       "    </tr>\n",
       "    <tr>\n",
       "      <td>911</td>\n",
       "      <td>52380</td>\n",
       "    </tr>\n",
       "    <tr>\n",
       "      <td>4269</td>\n",
       "      <td>77844</td>\n",
       "    </tr>\n",
       "    <tr>\n",
       "      <td>2308</td>\n",
       "      <td>70000</td>\n",
       "    </tr>\n",
       "    <tr>\n",
       "      <td>15963</td>\n",
       "      <td>104000</td>\n",
       "    </tr>\n",
       "  </tbody>\n",
       "</table>\n",
       "</div>"
      ],
      "text/plain": [
       "       square_meter_price\n",
       "19273               57500\n",
       "911                 52380\n",
       "4269                77844\n",
       "2308                70000\n",
       "15963              104000"
      ]
     },
     "execution_count": 27,
     "metadata": {},
     "output_type": "execute_result"
    }
   ],
   "source": [
    "real_estate['square_meter_price'] = (real_estate['last_price'] / real_estate['total_area']).astype(int)\n",
    "real_estate[['square_meter_price']].sample(5, random_state=42)"
   ]
  },
  {
   "cell_type": "markdown",
   "metadata": {},
   "source": [
    "### Расчёты и добавление дня недели, месяца и года публикации объявления"
   ]
  },
  {
   "cell_type": "code",
   "execution_count": 28,
   "metadata": {},
   "outputs": [
    {
     "data": {
      "text/html": [
       "<div>\n",
       "<style scoped>\n",
       "    .dataframe tbody tr th:only-of-type {\n",
       "        vertical-align: middle;\n",
       "    }\n",
       "\n",
       "    .dataframe tbody tr th {\n",
       "        vertical-align: top;\n",
       "    }\n",
       "\n",
       "    .dataframe thead th {\n",
       "        text-align: right;\n",
       "    }\n",
       "</style>\n",
       "<table border=\"1\" class=\"dataframe\">\n",
       "  <thead>\n",
       "    <tr style=\"text-align: right;\">\n",
       "      <th></th>\n",
       "      <th>first_day_exposition_year</th>\n",
       "      <th>first_day_exposition_month</th>\n",
       "      <th>first_day_exposition_weekday</th>\n",
       "    </tr>\n",
       "  </thead>\n",
       "  <tbody>\n",
       "    <tr>\n",
       "      <td>19273</td>\n",
       "      <td>2018</td>\n",
       "      <td>2</td>\n",
       "      <td>4</td>\n",
       "    </tr>\n",
       "    <tr>\n",
       "      <td>911</td>\n",
       "      <td>2018</td>\n",
       "      <td>5</td>\n",
       "      <td>0</td>\n",
       "    </tr>\n",
       "    <tr>\n",
       "      <td>4269</td>\n",
       "      <td>2017</td>\n",
       "      <td>11</td>\n",
       "      <td>6</td>\n",
       "    </tr>\n",
       "    <tr>\n",
       "      <td>2308</td>\n",
       "      <td>2019</td>\n",
       "      <td>4</td>\n",
       "      <td>5</td>\n",
       "    </tr>\n",
       "    <tr>\n",
       "      <td>15963</td>\n",
       "      <td>2019</td>\n",
       "      <td>3</td>\n",
       "      <td>6</td>\n",
       "    </tr>\n",
       "  </tbody>\n",
       "</table>\n",
       "</div>"
      ],
      "text/plain": [
       "       first_day_exposition_year  first_day_exposition_month  \\\n",
       "19273                       2018                           2   \n",
       "911                         2018                           5   \n",
       "4269                        2017                          11   \n",
       "2308                        2019                           4   \n",
       "15963                       2019                           3   \n",
       "\n",
       "       first_day_exposition_weekday  \n",
       "19273                             4  \n",
       "911                               0  \n",
       "4269                              6  \n",
       "2308                              5  \n",
       "15963                             6  "
      ]
     },
     "execution_count": 28,
     "metadata": {},
     "output_type": "execute_result"
    }
   ],
   "source": [
    "real_estate['first_day_exposition_year'] = pd.DatetimeIndex(real_estate['first_day_exposition']).year\n",
    "real_estate['first_day_exposition_month'] = pd.DatetimeIndex(real_estate['first_day_exposition']).month\n",
    "real_estate['first_day_exposition_weekday'] = pd.DatetimeIndex(real_estate['first_day_exposition']).weekday\n",
    "real_estate[['first_day_exposition_year', 'first_day_exposition_month', 'first_day_exposition_weekday']].sample(5, random_state=42)"
   ]
  },
  {
   "cell_type": "markdown",
   "metadata": {},
   "source": [
    "### Расчёты и добавление столбца с видом этажа"
   ]
  },
  {
   "cell_type": "code",
   "execution_count": 29,
   "metadata": {},
   "outputs": [],
   "source": [
    "def floor_category(row):\n",
    "    if row['floor'] == row['floors_total'] == 1:\n",
    "        return 'первый'\n",
    "    elif (row['floor'] == 1) and (row['floor'] != row['floors_total']):\n",
    "        return 'первый'\n",
    "    elif row['floor'] == row['floors_total']:\n",
    "        return 'последний'\n",
    "    else:\n",
    "        return 'другой'"
   ]
  },
  {
   "cell_type": "code",
   "execution_count": 30,
   "metadata": {},
   "outputs": [
    {
     "data": {
      "text/plain": [
       "другой       17326\n",
       "последний     3330\n",
       "первый        2909\n",
       "Name: floor_category, dtype: int64"
      ]
     },
     "execution_count": 30,
     "metadata": {},
     "output_type": "execute_result"
    }
   ],
   "source": [
    "real_estate['floor_category'] = real_estate.apply(floor_category, axis=1)\n",
    "real_estate['floor_category'].value_counts()"
   ]
  },
  {
   "cell_type": "markdown",
   "metadata": {},
   "source": [
    "### Расчёты и добавление столбцов с соотношениями жилой и общей площади, а также отношение площади кухни к общей"
   ]
  },
  {
   "cell_type": "code",
   "execution_count": 31,
   "metadata": {},
   "outputs": [
    {
     "data": {
      "text/html": [
       "<div>\n",
       "<style scoped>\n",
       "    .dataframe tbody tr th:only-of-type {\n",
       "        vertical-align: middle;\n",
       "    }\n",
       "\n",
       "    .dataframe tbody tr th {\n",
       "        vertical-align: top;\n",
       "    }\n",
       "\n",
       "    .dataframe thead th {\n",
       "        text-align: right;\n",
       "    }\n",
       "</style>\n",
       "<table border=\"1\" class=\"dataframe\">\n",
       "  <thead>\n",
       "    <tr style=\"text-align: right;\">\n",
       "      <th></th>\n",
       "      <th>total_images</th>\n",
       "      <th>last_price</th>\n",
       "      <th>total_area</th>\n",
       "      <th>first_day_exposition</th>\n",
       "      <th>rooms</th>\n",
       "      <th>ceiling_height</th>\n",
       "      <th>floors_total</th>\n",
       "      <th>living_area</th>\n",
       "      <th>floor</th>\n",
       "      <th>studio</th>\n",
       "      <th>...</th>\n",
       "      <th>ponds_around3000</th>\n",
       "      <th>ponds_nearest</th>\n",
       "      <th>days_exposition</th>\n",
       "      <th>square_meter_price</th>\n",
       "      <th>first_day_exposition_year</th>\n",
       "      <th>first_day_exposition_month</th>\n",
       "      <th>first_day_exposition_weekday</th>\n",
       "      <th>floor_category</th>\n",
       "      <th>living_to_total_ratio</th>\n",
       "      <th>kitchen_to_total_ratio</th>\n",
       "    </tr>\n",
       "  </thead>\n",
       "  <tbody>\n",
       "    <tr>\n",
       "      <td>0</td>\n",
       "      <td>20</td>\n",
       "      <td>13000000.0</td>\n",
       "      <td>108.0</td>\n",
       "      <td>2019-03-07T00:00:00</td>\n",
       "      <td>3</td>\n",
       "      <td>2.70</td>\n",
       "      <td>16.0</td>\n",
       "      <td>51.000000</td>\n",
       "      <td>8</td>\n",
       "      <td>False</td>\n",
       "      <td>...</td>\n",
       "      <td>2</td>\n",
       "      <td>755.0</td>\n",
       "      <td>9999</td>\n",
       "      <td>120370</td>\n",
       "      <td>2019</td>\n",
       "      <td>3</td>\n",
       "      <td>3</td>\n",
       "      <td>другой</td>\n",
       "      <td>0.472222</td>\n",
       "      <td>0.231481</td>\n",
       "    </tr>\n",
       "    <tr>\n",
       "      <td>1</td>\n",
       "      <td>7</td>\n",
       "      <td>3350000.0</td>\n",
       "      <td>40.4</td>\n",
       "      <td>2018-12-04T00:00:00</td>\n",
       "      <td>1</td>\n",
       "      <td>2.60</td>\n",
       "      <td>11.0</td>\n",
       "      <td>18.600000</td>\n",
       "      <td>1</td>\n",
       "      <td>False</td>\n",
       "      <td>...</td>\n",
       "      <td>0</td>\n",
       "      <td>NaN</td>\n",
       "      <td>81</td>\n",
       "      <td>82920</td>\n",
       "      <td>2018</td>\n",
       "      <td>12</td>\n",
       "      <td>1</td>\n",
       "      <td>первый</td>\n",
       "      <td>0.460396</td>\n",
       "      <td>0.272277</td>\n",
       "    </tr>\n",
       "    <tr>\n",
       "      <td>2</td>\n",
       "      <td>10</td>\n",
       "      <td>5196000.0</td>\n",
       "      <td>56.0</td>\n",
       "      <td>2015-08-20T00:00:00</td>\n",
       "      <td>2</td>\n",
       "      <td>2.65</td>\n",
       "      <td>5.0</td>\n",
       "      <td>34.300000</td>\n",
       "      <td>4</td>\n",
       "      <td>False</td>\n",
       "      <td>...</td>\n",
       "      <td>2</td>\n",
       "      <td>574.0</td>\n",
       "      <td>558</td>\n",
       "      <td>92785</td>\n",
       "      <td>2015</td>\n",
       "      <td>8</td>\n",
       "      <td>3</td>\n",
       "      <td>другой</td>\n",
       "      <td>0.612500</td>\n",
       "      <td>0.148214</td>\n",
       "    </tr>\n",
       "    <tr>\n",
       "      <td>3</td>\n",
       "      <td>0</td>\n",
       "      <td>64900000.0</td>\n",
       "      <td>159.0</td>\n",
       "      <td>2015-07-24T00:00:00</td>\n",
       "      <td>3</td>\n",
       "      <td>2.60</td>\n",
       "      <td>14.0</td>\n",
       "      <td>89.826726</td>\n",
       "      <td>9</td>\n",
       "      <td>False</td>\n",
       "      <td>...</td>\n",
       "      <td>3</td>\n",
       "      <td>234.0</td>\n",
       "      <td>424</td>\n",
       "      <td>408176</td>\n",
       "      <td>2015</td>\n",
       "      <td>7</td>\n",
       "      <td>4</td>\n",
       "      <td>другой</td>\n",
       "      <td>0.564948</td>\n",
       "      <td>0.187421</td>\n",
       "    </tr>\n",
       "    <tr>\n",
       "      <td>4</td>\n",
       "      <td>2</td>\n",
       "      <td>10000000.0</td>\n",
       "      <td>100.0</td>\n",
       "      <td>2018-06-19T00:00:00</td>\n",
       "      <td>2</td>\n",
       "      <td>3.03</td>\n",
       "      <td>14.0</td>\n",
       "      <td>32.000000</td>\n",
       "      <td>13</td>\n",
       "      <td>False</td>\n",
       "      <td>...</td>\n",
       "      <td>1</td>\n",
       "      <td>48.0</td>\n",
       "      <td>121</td>\n",
       "      <td>100000</td>\n",
       "      <td>2018</td>\n",
       "      <td>6</td>\n",
       "      <td>1</td>\n",
       "      <td>другой</td>\n",
       "      <td>0.320000</td>\n",
       "      <td>0.410000</td>\n",
       "    </tr>\n",
       "  </tbody>\n",
       "</table>\n",
       "<p>5 rows × 28 columns</p>\n",
       "</div>"
      ],
      "text/plain": [
       "   total_images  last_price  total_area first_day_exposition  rooms  \\\n",
       "0            20  13000000.0       108.0  2019-03-07T00:00:00      3   \n",
       "1             7   3350000.0        40.4  2018-12-04T00:00:00      1   \n",
       "2            10   5196000.0        56.0  2015-08-20T00:00:00      2   \n",
       "3             0  64900000.0       159.0  2015-07-24T00:00:00      3   \n",
       "4             2  10000000.0       100.0  2018-06-19T00:00:00      2   \n",
       "\n",
       "   ceiling_height  floors_total  living_area  floor  studio  ...  \\\n",
       "0            2.70          16.0    51.000000      8   False  ...   \n",
       "1            2.60          11.0    18.600000      1   False  ...   \n",
       "2            2.65           5.0    34.300000      4   False  ...   \n",
       "3            2.60          14.0    89.826726      9   False  ...   \n",
       "4            3.03          14.0    32.000000     13   False  ...   \n",
       "\n",
       "   ponds_around3000  ponds_nearest  days_exposition square_meter_price  \\\n",
       "0                 2          755.0             9999             120370   \n",
       "1                 0            NaN               81              82920   \n",
       "2                 2          574.0              558              92785   \n",
       "3                 3          234.0              424             408176   \n",
       "4                 1           48.0              121             100000   \n",
       "\n",
       "   first_day_exposition_year  first_day_exposition_month  \\\n",
       "0                       2019                           3   \n",
       "1                       2018                          12   \n",
       "2                       2015                           8   \n",
       "3                       2015                           7   \n",
       "4                       2018                           6   \n",
       "\n",
       "   first_day_exposition_weekday  floor_category  living_to_total_ratio  \\\n",
       "0                             3          другой               0.472222   \n",
       "1                             1          первый               0.460396   \n",
       "2                             3          другой               0.612500   \n",
       "3                             4          другой               0.564948   \n",
       "4                             1          другой               0.320000   \n",
       "\n",
       "   kitchen_to_total_ratio  \n",
       "0                0.231481  \n",
       "1                0.272277  \n",
       "2                0.148214  \n",
       "3                0.187421  \n",
       "4                0.410000  \n",
       "\n",
       "[5 rows x 28 columns]"
      ]
     },
     "execution_count": 31,
     "metadata": {},
     "output_type": "execute_result"
    }
   ],
   "source": [
    "real_estate['living_to_total_ratio'] = real_estate['living_area']/real_estate['total_area']\n",
    "real_estate['kitchen_to_total_ratio'] = real_estate['kitchen_area']/real_estate['total_area']\n",
    "real_estate.head()"
   ]
  },
  {
   "cell_type": "markdown",
   "metadata": {},
   "source": [
    "На данном этапе мы выполнили предобработку предоставленных данных, заполнили пропущенные значения, расчитали и добавили необходимые столбцы."
   ]
  },
  {
   "cell_type": "markdown",
   "metadata": {},
   "source": [
    "## Исследовательский анализ данных"
   ]
  },
  {
   "cell_type": "markdown",
   "metadata": {},
   "source": [
    "### Изучение данных"
   ]
  },
  {
   "cell_type": "markdown",
   "metadata": {},
   "source": [
    "Изучим данные по площади квартир и построим гистограмму"
   ]
  },
  {
   "cell_type": "code",
   "execution_count": 32,
   "metadata": {
    "scrolled": false
   },
   "outputs": [
    {
     "data": {
      "text/plain": [
       "<matplotlib.axes._subplots.AxesSubplot at 0xeac2710>"
      ]
     },
     "execution_count": 32,
     "metadata": {},
     "output_type": "execute_result"
    },
    {
     "data": {
      "image/png": "[encoded data removed]",
      "text/plain": [
       "<Figure size 432x288 with 1 Axes>"
      ]
     },
     "metadata": {
      "needs_background": "light"
     },
     "output_type": "display_data"
    }
   ],
   "source": [
    "real_estate['total_area'].hist(bins=30, range=(10,200))"
   ]
  },
  {
   "cell_type": "markdown",
   "metadata": {},
   "source": [
    "Самые большие по площади квартиры:"
   ]
  },
  {
   "cell_type": "code",
   "execution_count": 33,
   "metadata": {
    "scrolled": false
   },
   "outputs": [
    {
     "data": {
      "text/plain": [
       "19431    900.0\n",
       "12787    631.2\n",
       "3103     631.0\n",
       "15565    618.0\n",
       "5330     590.0\n",
       "4216     517.0\n",
       "7977     507.0\n",
       "5863     500.0\n",
       "14930    500.0\n",
       "12330    495.0\n",
       "Name: total_area, dtype: float64"
      ]
     },
     "execution_count": 33,
     "metadata": {},
     "output_type": "execute_result"
    }
   ],
   "source": [
    "real_estate['total_area'].sort_values(ascending=False).head(10)"
   ]
  },
  {
   "cell_type": "markdown",
   "metadata": {},
   "source": [
    "Есть и необычно большие квартиры в Ленинградской области, но все же большее количество имеет стандартное значение как видно из гистограммы. "
   ]
  },
  {
   "cell_type": "markdown",
   "metadata": {},
   "source": [
    "Данные по стоимости квартир:"
   ]
  },
  {
   "cell_type": "code",
   "execution_count": 34,
   "metadata": {
    "scrolled": false
   },
   "outputs": [
    {
     "data": {
      "text/plain": [
       "<matplotlib.axes._subplots.AxesSubplot at 0xea1ef90>"
      ]
     },
     "execution_count": 34,
     "metadata": {},
     "output_type": "execute_result"
    },
    {
     "data": {
      "image/png": "[encoded data removed]",
      "text/plain": [
       "<Figure size 432x288 with 1 Axes>"
      ]
     },
     "metadata": {
      "needs_background": "light"
     },
     "output_type": "display_data"
    }
   ],
   "source": [
    "real_estate['last_price'].plot(y='last_price', kind='hist', bins=30, range=(10,10000000))"
   ]
  },
  {
   "cell_type": "markdown",
   "metadata": {},
   "source": [
    "Самые дорогие квартиры"
   ]
  },
  {
   "cell_type": "code",
   "execution_count": 35,
   "metadata": {
    "scrolled": false
   },
   "outputs": [
    {
     "data": {
      "text/plain": [
       "12897    763000000.0\n",
       "19431    420000000.0\n",
       "14621    401300000.0\n",
       "1431     330000000.0\n",
       "15565    300000000.0\n",
       "22701    289238400.0\n",
       "16372    245000000.0\n",
       "13671    240000000.0\n",
       "5863     230000000.0\n",
       "8857     190870000.0\n",
       "Name: last_price, dtype: float64"
      ]
     },
     "execution_count": 35,
     "metadata": {},
     "output_type": "execute_result"
    }
   ],
   "source": [
    "real_estate['last_price'].sort_values(ascending=False).head(10)"
   ]
  },
  {
   "cell_type": "markdown",
   "metadata": {},
   "source": [
    "Как и с ситуацией с площадью квартир мы можем сказать, что есть и необычно высокие значения, и необычно низкие, но все же доминирует разумные данные."
   ]
  },
  {
   "cell_type": "markdown",
   "metadata": {},
   "source": [
    "Данные по количеству комнат:"
   ]
  },
  {
   "cell_type": "code",
   "execution_count": 36,
   "metadata": {
    "scrolled": true
   },
   "outputs": [
    {
     "data": {
      "text/plain": [
       "<matplotlib.axes._subplots.AxesSubplot at 0xdc40430>"
      ]
     },
     "execution_count": 36,
     "metadata": {},
     "output_type": "execute_result"
    },
    {
     "data": {
      "image/png": "[encoded data removed]",
      "text/plain": [
       "<Figure size 432x288 with 1 Axes>"
      ]
     },
     "metadata": {
      "needs_background": "light"
     },
     "output_type": "display_data"
    }
   ],
   "source": [
    "real_estate['rooms'].plot(y='rooms', kind='hist', bins=30, range=(1,10))"
   ]
  },
  {
   "cell_type": "markdown",
   "metadata": {},
   "source": [
    "Самое большое количество комнат"
   ]
  },
  {
   "cell_type": "code",
   "execution_count": 37,
   "metadata": {
    "scrolled": false
   },
   "outputs": [
    {
     "data": {
      "text/plain": [
       "14414    19\n",
       "18744    16\n",
       "5330     15\n",
       "20712    14\n",
       "862      14\n",
       "19431    12\n",
       "9642     11\n",
       "645      11\n",
       "18017    10\n",
       "18787    10\n",
       "Name: rooms, dtype: int64"
      ]
     },
     "execution_count": 37,
     "metadata": {},
     "output_type": "execute_result"
    }
   ],
   "source": [
    "real_estate['rooms'].sort_values(ascending=False).head(10)"
   ]
  },
  {
   "cell_type": "markdown",
   "metadata": {},
   "source": [
    "Многокомнатных квартир не так много, исходя из полученных данных. Мы видим, что большинство одна, двух или трехкомнатные квартиры"
   ]
  },
  {
   "cell_type": "markdown",
   "metadata": {},
   "source": [
    "Данные по высоте потолков:"
   ]
  },
  {
   "cell_type": "code",
   "execution_count": 38,
   "metadata": {
    "scrolled": true
   },
   "outputs": [
    {
     "data": {
      "text/plain": [
       "<matplotlib.axes._subplots.AxesSubplot at 0xdcb29b0>"
      ]
     },
     "execution_count": 38,
     "metadata": {},
     "output_type": "execute_result"
    },
    {
     "data": {
      "image/png": "[encoded data removed]",
      "text/plain": [
       "<Figure size 432x288 with 1 Axes>"
      ]
     },
     "metadata": {
      "needs_background": "light"
     },
     "output_type": "display_data"
    }
   ],
   "source": [
    "real_estate['ceiling_height'].plot(y='ceiling_height', kind='hist', bins=30, range=(2,5))"
   ]
  },
  {
   "cell_type": "markdown",
   "metadata": {},
   "source": [
    "Самые высокие потолки"
   ]
  },
  {
   "cell_type": "code",
   "execution_count": 39,
   "metadata": {
    "scrolled": true
   },
   "outputs": [
    {
     "data": {
      "text/plain": [
       "22739    100.0\n",
       "22211     32.0\n",
       "3134      32.0\n",
       "21256     27.5\n",
       "10713     27.0\n",
       "17756     27.0\n",
       "5219      27.0\n",
       "5777      27.0\n",
       "22807     27.0\n",
       "21700     27.0\n",
       "Name: ceiling_height, dtype: float64"
      ]
     },
     "execution_count": 39,
     "metadata": {},
     "output_type": "execute_result"
    }
   ],
   "source": [
    "real_estate['ceiling_height'].sort_values(ascending=False).head(10)"
   ]
  },
  {
   "cell_type": "markdown",
   "metadata": {},
   "source": [
    "Вероятнее всего в данные по высоте потолков закралась аномалия. Но так как для нашего анализа высота потолков не так важна, оставим все как есть."
   ]
  },
  {
   "cell_type": "markdown",
   "metadata": {},
   "source": [
    "### Изучение времени продажи квартир"
   ]
  },
  {
   "cell_type": "markdown",
   "metadata": {},
   "source": [
    "Расчитаем медиану и среднее значение продажи квартир. Далее построим гистаграмму"
   ]
  },
  {
   "cell_type": "code",
   "execution_count": 40,
   "metadata": {},
   "outputs": [
    {
     "data": {
      "text/plain": [
       "95.0"
      ]
     },
     "execution_count": 40,
     "metadata": {},
     "output_type": "execute_result"
    }
   ],
   "source": [
    "real_estate['days_exposition'].fillna(9999, inplace=True)\n",
    "real_estate['days_exposition'] = real_estate['days_exposition'].astype(int)\n",
    "real_estate.query('days_exposition != 9999')['days_exposition'].median()\n"
   ]
  },
  {
   "cell_type": "code",
   "execution_count": 41,
   "metadata": {},
   "outputs": [
    {
     "data": {
      "text/plain": [
       "180.7413945278023"
      ]
     },
     "execution_count": 41,
     "metadata": {},
     "output_type": "execute_result"
    }
   ],
   "source": [
    "real_estate.query('days_exposition != 9999')['days_exposition'].mean()"
   ]
  },
  {
   "cell_type": "code",
   "execution_count": 42,
   "metadata": {},
   "outputs": [],
   "source": [
    "real_estate['days_exposition'] = real_estate['days_exposition'].astype(int)"
   ]
  },
  {
   "cell_type": "code",
   "execution_count": 43,
   "metadata": {
    "scrolled": true
   },
   "outputs": [
    {
     "data": {
      "text/plain": [
       "<matplotlib.axes._subplots.AxesSubplot at 0xdd225f0>"
      ]
     },
     "execution_count": 43,
     "metadata": {},
     "output_type": "execute_result"
    },
    {
     "data": {
      "image/png": "[encoded data removed]",
      "text/plain": [
       "<Figure size 432x288 with 1 Axes>"
      ]
     },
     "metadata": {
      "needs_background": "light"
     },
     "output_type": "display_data"
    }
   ],
   "source": [
    "real_estate['days_exposition'].plot(y='days_exposition', kind='hist', bins=30, range=(0,1000))"
   ]
  },
  {
   "cell_type": "code",
   "execution_count": 44,
   "metadata": {},
   "outputs": [
    {
     "data": {
      "text/plain": [
       "count    20394.000000\n",
       "mean       180.741395\n",
       "std        219.732782\n",
       "min          1.000000\n",
       "25%         45.000000\n",
       "50%         95.000000\n",
       "75%        231.000000\n",
       "max       1580.000000\n",
       "Name: days_exposition, dtype: float64"
      ]
     },
     "execution_count": 44,
     "metadata": {},
     "output_type": "execute_result"
    }
   ],
   "source": [
    "real_estate.query('days_exposition !=9999')['days_exposition'].describe()"
   ]
  },
  {
   "cell_type": "markdown",
   "metadata": {},
   "source": [
    "Как мы видим из описания данных в столбце о сроках продажи квартир самая бысрая продажа состоялась за 1 день! Исходя из среднего значения мы можем сделать вывод, что квартиры редко продавались намного больше чем за 250 дней.\n",
    "Медианное время продажи - 95 дней. Среднее время продажи - 181 день.\n",
    "Исходя из данных первого квантиля быстрой продажей можно назвать срок в 45 дней и меньше. А глядя на данные третьего квантиля - считать долгой продажей - 230 дней и дольше."
   ]
  },
  {
   "cell_type": "code",
   "execution_count": 45,
   "metadata": {},
   "outputs": [
    {
     "data": {
      "text/plain": [
       "<matplotlib.axes._subplots.AxesSubplot at 0xdd98f30>"
      ]
     },
     "execution_count": 45,
     "metadata": {},
     "output_type": "execute_result"
    },
    {
     "data": {
      "image/png": "[encoded data removed]",
      "text/plain": [
       "<Figure size 432x288 with 1 Axes>"
      ]
     },
     "metadata": {
      "needs_background": "light"
     },
     "output_type": "display_data"
    }
   ],
   "source": [
    "real_estate.query('days_exposition !=9999')['days_exposition'].plot(y='days_exposition', kind='hist', bins=30, range=(0,1000))"
   ]
  },
  {
   "cell_type": "markdown",
   "metadata": {},
   "source": [
    "### Работа с редкими и выбивающимися значениями\n"
   ]
  },
  {
   "cell_type": "markdown",
   "metadata": {},
   "source": [
    "Рассмотрим выбивающиеся значения в данных"
   ]
  },
  {
   "cell_type": "code",
   "execution_count": 46,
   "metadata": {},
   "outputs": [
    {
     "data": {
      "text/html": [
       "<div>\n",
       "<style scoped>\n",
       "    .dataframe tbody tr th:only-of-type {\n",
       "        vertical-align: middle;\n",
       "    }\n",
       "\n",
       "    .dataframe tbody tr th {\n",
       "        vertical-align: top;\n",
       "    }\n",
       "\n",
       "    .dataframe thead th {\n",
       "        text-align: right;\n",
       "    }\n",
       "</style>\n",
       "<table border=\"1\" class=\"dataframe\">\n",
       "  <thead>\n",
       "    <tr style=\"text-align: right;\">\n",
       "      <th></th>\n",
       "      <th>total_images</th>\n",
       "      <th>last_price</th>\n",
       "      <th>total_area</th>\n",
       "      <th>rooms</th>\n",
       "      <th>ceiling_height</th>\n",
       "      <th>floors_total</th>\n",
       "      <th>living_area</th>\n",
       "      <th>floor</th>\n",
       "      <th>kitchen_area</th>\n",
       "      <th>balcony</th>\n",
       "      <th>...</th>\n",
       "      <th>parks_nearest</th>\n",
       "      <th>ponds_around3000</th>\n",
       "      <th>ponds_nearest</th>\n",
       "      <th>days_exposition</th>\n",
       "      <th>square_meter_price</th>\n",
       "      <th>first_day_exposition_year</th>\n",
       "      <th>first_day_exposition_month</th>\n",
       "      <th>first_day_exposition_weekday</th>\n",
       "      <th>living_to_total_ratio</th>\n",
       "      <th>kitchen_to_total_ratio</th>\n",
       "    </tr>\n",
       "  </thead>\n",
       "  <tbody>\n",
       "    <tr>\n",
       "      <td>count</td>\n",
       "      <td>23565.000000</td>\n",
       "      <td>2.356500e+04</td>\n",
       "      <td>23565.000000</td>\n",
       "      <td>23565.000000</td>\n",
       "      <td>23561.000000</td>\n",
       "      <td>23565.000000</td>\n",
       "      <td>23565.000000</td>\n",
       "      <td>23565.000000</td>\n",
       "      <td>23565.000000</td>\n",
       "      <td>23565.000000</td>\n",
       "      <td>...</td>\n",
       "      <td>8030.000000</td>\n",
       "      <td>23565.000000</td>\n",
       "      <td>9036.000000</td>\n",
       "      <td>23565.000000</td>\n",
       "      <td>2.356500e+04</td>\n",
       "      <td>23565.000000</td>\n",
       "      <td>23565.000000</td>\n",
       "      <td>23565.000000</td>\n",
       "      <td>23565.000000</td>\n",
       "      <td>23565.000000</td>\n",
       "    </tr>\n",
       "    <tr>\n",
       "      <td>mean</td>\n",
       "      <td>9.878421</td>\n",
       "      <td>6.540058e+06</td>\n",
       "      <td>60.322824</td>\n",
       "      <td>2.070656</td>\n",
       "      <td>2.722956</td>\n",
       "      <td>10.675875</td>\n",
       "      <td>34.561055</td>\n",
       "      <td>5.878124</td>\n",
       "      <td>10.565347</td>\n",
       "      <td>0.593677</td>\n",
       "      <td>...</td>\n",
       "      <td>490.580448</td>\n",
       "      <td>0.589900</td>\n",
       "      <td>518.289509</td>\n",
       "      <td>1501.925271</td>\n",
       "      <td>9.940539e+04</td>\n",
       "      <td>2017.371016</td>\n",
       "      <td>6.401570</td>\n",
       "      <td>2.567367</td>\n",
       "      <td>0.564938</td>\n",
       "      <td>0.187339</td>\n",
       "    </tr>\n",
       "    <tr>\n",
       "      <td>std</td>\n",
       "      <td>5.681156</td>\n",
       "      <td>1.091093e+07</td>\n",
       "      <td>35.657060</td>\n",
       "      <td>1.078591</td>\n",
       "      <td>0.991533</td>\n",
       "      <td>6.594823</td>\n",
       "      <td>22.346086</td>\n",
       "      <td>4.871485</td>\n",
       "      <td>6.093133</td>\n",
       "      <td>0.960660</td>\n",
       "      <td>...</td>\n",
       "      <td>341.572956</td>\n",
       "      <td>0.883966</td>\n",
       "      <td>278.009558</td>\n",
       "      <td>3356.852644</td>\n",
       "      <td>5.038944e+04</td>\n",
       "      <td>1.037393</td>\n",
       "      <td>3.492948</td>\n",
       "      <td>1.788279</td>\n",
       "      <td>0.101056</td>\n",
       "      <td>0.069453</td>\n",
       "    </tr>\n",
       "    <tr>\n",
       "      <td>min</td>\n",
       "      <td>0.000000</td>\n",
       "      <td>1.219000e+04</td>\n",
       "      <td>12.000000</td>\n",
       "      <td>0.000000</td>\n",
       "      <td>1.000000</td>\n",
       "      <td>1.000000</td>\n",
       "      <td>2.000000</td>\n",
       "      <td>1.000000</td>\n",
       "      <td>1.300000</td>\n",
       "      <td>0.000000</td>\n",
       "      <td>...</td>\n",
       "      <td>1.000000</td>\n",
       "      <td>0.000000</td>\n",
       "      <td>13.000000</td>\n",
       "      <td>1.000000</td>\n",
       "      <td>1.110000e+02</td>\n",
       "      <td>2014.000000</td>\n",
       "      <td>1.000000</td>\n",
       "      <td>0.000000</td>\n",
       "      <td>0.021583</td>\n",
       "      <td>0.025381</td>\n",
       "    </tr>\n",
       "    <tr>\n",
       "      <td>25%</td>\n",
       "      <td>6.000000</td>\n",
       "      <td>3.400000e+06</td>\n",
       "      <td>40.000000</td>\n",
       "      <td>1.000000</td>\n",
       "      <td>2.600000</td>\n",
       "      <td>5.000000</td>\n",
       "      <td>19.000000</td>\n",
       "      <td>2.000000</td>\n",
       "      <td>7.000000</td>\n",
       "      <td>0.000000</td>\n",
       "      <td>...</td>\n",
       "      <td>288.000000</td>\n",
       "      <td>0.000000</td>\n",
       "      <td>293.000000</td>\n",
       "      <td>45.000000</td>\n",
       "      <td>7.656600e+04</td>\n",
       "      <td>2017.000000</td>\n",
       "      <td>3.000000</td>\n",
       "      <td>1.000000</td>\n",
       "      <td>0.500000</td>\n",
       "      <td>0.136738</td>\n",
       "    </tr>\n",
       "    <tr>\n",
       "      <td>50%</td>\n",
       "      <td>9.000000</td>\n",
       "      <td>4.646000e+06</td>\n",
       "      <td>52.000000</td>\n",
       "      <td>2.000000</td>\n",
       "      <td>2.650000</td>\n",
       "      <td>9.000000</td>\n",
       "      <td>30.000000</td>\n",
       "      <td>4.000000</td>\n",
       "      <td>9.000000</td>\n",
       "      <td>0.000000</td>\n",
       "      <td>...</td>\n",
       "      <td>455.000000</td>\n",
       "      <td>0.000000</td>\n",
       "      <td>503.000000</td>\n",
       "      <td>124.000000</td>\n",
       "      <td>9.500000e+04</td>\n",
       "      <td>2017.000000</td>\n",
       "      <td>6.000000</td>\n",
       "      <td>3.000000</td>\n",
       "      <td>0.564948</td>\n",
       "      <td>0.182000</td>\n",
       "    </tr>\n",
       "    <tr>\n",
       "      <td>75%</td>\n",
       "      <td>14.000000</td>\n",
       "      <td>6.790000e+06</td>\n",
       "      <td>69.700000</td>\n",
       "      <td>3.000000</td>\n",
       "      <td>2.700000</td>\n",
       "      <td>16.000000</td>\n",
       "      <td>42.100000</td>\n",
       "      <td>8.000000</td>\n",
       "      <td>12.000000</td>\n",
       "      <td>1.000000</td>\n",
       "      <td>...</td>\n",
       "      <td>612.000000</td>\n",
       "      <td>1.000000</td>\n",
       "      <td>730.000000</td>\n",
       "      <td>390.000000</td>\n",
       "      <td>1.142130e+05</td>\n",
       "      <td>2018.000000</td>\n",
       "      <td>10.000000</td>\n",
       "      <td>4.000000</td>\n",
       "      <td>0.631732</td>\n",
       "      <td>0.223881</td>\n",
       "    </tr>\n",
       "    <tr>\n",
       "      <td>max</td>\n",
       "      <td>50.000000</td>\n",
       "      <td>7.630000e+08</td>\n",
       "      <td>900.000000</td>\n",
       "      <td>19.000000</td>\n",
       "      <td>100.000000</td>\n",
       "      <td>60.000000</td>\n",
       "      <td>409.700000</td>\n",
       "      <td>33.000000</td>\n",
       "      <td>112.000000</td>\n",
       "      <td>5.000000</td>\n",
       "      <td>...</td>\n",
       "      <td>3190.000000</td>\n",
       "      <td>3.000000</td>\n",
       "      <td>1344.000000</td>\n",
       "      <td>9999.000000</td>\n",
       "      <td>1.907500e+06</td>\n",
       "      <td>2019.000000</td>\n",
       "      <td>12.000000</td>\n",
       "      <td>6.000000</td>\n",
       "      <td>1.000000</td>\n",
       "      <td>0.787879</td>\n",
       "    </tr>\n",
       "  </tbody>\n",
       "</table>\n",
       "<p>8 rows × 23 columns</p>\n",
       "</div>"
      ],
      "text/plain": [
       "       total_images    last_price    total_area         rooms  ceiling_height  \\\n",
       "count  23565.000000  2.356500e+04  23565.000000  23565.000000    23561.000000   \n",
       "mean       9.878421  6.540058e+06     60.322824      2.070656        2.722956   \n",
       "std        5.681156  1.091093e+07     35.657060      1.078591        0.991533   \n",
       "min        0.000000  1.219000e+04     12.000000      0.000000        1.000000   \n",
       "25%        6.000000  3.400000e+06     40.000000      1.000000        2.600000   \n",
       "50%        9.000000  4.646000e+06     52.000000      2.000000        2.650000   \n",
       "75%       14.000000  6.790000e+06     69.700000      3.000000        2.700000   \n",
       "max       50.000000  7.630000e+08    900.000000     19.000000      100.000000   \n",
       "\n",
       "       floors_total   living_area         floor  kitchen_area       balcony  \\\n",
       "count  23565.000000  23565.000000  23565.000000  23565.000000  23565.000000   \n",
       "mean      10.675875     34.561055      5.878124     10.565347      0.593677   \n",
       "std        6.594823     22.346086      4.871485      6.093133      0.960660   \n",
       "min        1.000000      2.000000      1.000000      1.300000      0.000000   \n",
       "25%        5.000000     19.000000      2.000000      7.000000      0.000000   \n",
       "50%        9.000000     30.000000      4.000000      9.000000      0.000000   \n",
       "75%       16.000000     42.100000      8.000000     12.000000      1.000000   \n",
       "max       60.000000    409.700000     33.000000    112.000000      5.000000   \n",
       "\n",
       "       ...  parks_nearest  ponds_around3000  ponds_nearest  days_exposition  \\\n",
       "count  ...    8030.000000      23565.000000    9036.000000     23565.000000   \n",
       "mean   ...     490.580448          0.589900     518.289509      1501.925271   \n",
       "std    ...     341.572956          0.883966     278.009558      3356.852644   \n",
       "min    ...       1.000000          0.000000      13.000000         1.000000   \n",
       "25%    ...     288.000000          0.000000     293.000000        45.000000   \n",
       "50%    ...     455.000000          0.000000     503.000000       124.000000   \n",
       "75%    ...     612.000000          1.000000     730.000000       390.000000   \n",
       "max    ...    3190.000000          3.000000    1344.000000      9999.000000   \n",
       "\n",
       "       square_meter_price  first_day_exposition_year  \\\n",
       "count        2.356500e+04               23565.000000   \n",
       "mean         9.940539e+04                2017.371016   \n",
       "std          5.038944e+04                   1.037393   \n",
       "min          1.110000e+02                2014.000000   \n",
       "25%          7.656600e+04                2017.000000   \n",
       "50%          9.500000e+04                2017.000000   \n",
       "75%          1.142130e+05                2018.000000   \n",
       "max          1.907500e+06                2019.000000   \n",
       "\n",
       "       first_day_exposition_month  first_day_exposition_weekday  \\\n",
       "count                23565.000000                  23565.000000   \n",
       "mean                     6.401570                      2.567367   \n",
       "std                      3.492948                      1.788279   \n",
       "min                      1.000000                      0.000000   \n",
       "25%                      3.000000                      1.000000   \n",
       "50%                      6.000000                      3.000000   \n",
       "75%                     10.000000                      4.000000   \n",
       "max                     12.000000                      6.000000   \n",
       "\n",
       "       living_to_total_ratio  kitchen_to_total_ratio  \n",
       "count           23565.000000            23565.000000  \n",
       "mean                0.564938                0.187339  \n",
       "std                 0.101056                0.069453  \n",
       "min                 0.021583                0.025381  \n",
       "25%                 0.500000                0.136738  \n",
       "50%                 0.564948                0.182000  \n",
       "75%                 0.631732                0.223881  \n",
       "max                 1.000000                0.787879  \n",
       "\n",
       "[8 rows x 23 columns]"
      ]
     },
     "execution_count": 46,
     "metadata": {},
     "output_type": "execute_result"
    }
   ],
   "source": [
    "real_estate.describe()"
   ]
  },
  {
   "cell_type": "markdown",
   "metadata": {},
   "source": [
    "Напишем функцию, которая подсчитает границы с учетом 1.5 размаха"
   ]
  },
  {
   "cell_type": "code",
   "execution_count": 47,
   "metadata": {},
   "outputs": [],
   "source": [
    "def quartile_range(df, column):\n",
    "    q1 = df[column].quantile(0.25)\n",
    "    q3 = df[column].quantile(0.75)\n",
    "    qr = q3 - q1\n",
    "    dfq = df.loc[(df[column] < q3 + 1.5*qr) & (df[column] > q1 - 1.5*qr), column]\n",
    "    return dfq"
   ]
  },
  {
   "cell_type": "markdown",
   "metadata": {},
   "source": [
    "Применим нашу функцию к столбцам с выбросами"
   ]
  },
  {
   "cell_type": "code",
   "execution_count": 48,
   "metadata": {},
   "outputs": [],
   "source": [
    "strange_columns = ['last_price', 'total_area', 'rooms', 'ceiling_height', 'living_area', 'kitchen_area', 'days_exposition']\n",
    "for col in strange_columns:\n",
    "    real_estate[col] = quartile_range(real_estate, col)"
   ]
  },
  {
   "cell_type": "markdown",
   "metadata": {},
   "source": [
    "Посмотрим на результат и на наличие выбросов"
   ]
  },
  {
   "cell_type": "code",
   "execution_count": 49,
   "metadata": {
    "scrolled": true
   },
   "outputs": [
    {
     "data": {
      "text/html": [
       "<div>\n",
       "<style scoped>\n",
       "    .dataframe tbody tr th:only-of-type {\n",
       "        vertical-align: middle;\n",
       "    }\n",
       "\n",
       "    .dataframe tbody tr th {\n",
       "        vertical-align: top;\n",
       "    }\n",
       "\n",
       "    .dataframe thead th {\n",
       "        text-align: right;\n",
       "    }\n",
       "</style>\n",
       "<table border=\"1\" class=\"dataframe\">\n",
       "  <thead>\n",
       "    <tr style=\"text-align: right;\">\n",
       "      <th></th>\n",
       "      <th>total_images</th>\n",
       "      <th>last_price</th>\n",
       "      <th>total_area</th>\n",
       "      <th>rooms</th>\n",
       "      <th>ceiling_height</th>\n",
       "      <th>floors_total</th>\n",
       "      <th>living_area</th>\n",
       "      <th>floor</th>\n",
       "      <th>kitchen_area</th>\n",
       "      <th>balcony</th>\n",
       "      <th>...</th>\n",
       "      <th>parks_nearest</th>\n",
       "      <th>ponds_around3000</th>\n",
       "      <th>ponds_nearest</th>\n",
       "      <th>days_exposition</th>\n",
       "      <th>square_meter_price</th>\n",
       "      <th>first_day_exposition_year</th>\n",
       "      <th>first_day_exposition_month</th>\n",
       "      <th>first_day_exposition_weekday</th>\n",
       "      <th>living_to_total_ratio</th>\n",
       "      <th>kitchen_to_total_ratio</th>\n",
       "    </tr>\n",
       "  </thead>\n",
       "  <tbody>\n",
       "    <tr>\n",
       "      <td>count</td>\n",
       "      <td>23565.000000</td>\n",
       "      <td>2.151900e+04</td>\n",
       "      <td>22326.000000</td>\n",
       "      <td>23371.000000</td>\n",
       "      <td>20597.000000</td>\n",
       "      <td>23565.000000</td>\n",
       "      <td>22684.000000</td>\n",
       "      <td>23565.000000</td>\n",
       "      <td>22221.000000</td>\n",
       "      <td>23565.000000</td>\n",
       "      <td>...</td>\n",
       "      <td>8030.000000</td>\n",
       "      <td>23565.000000</td>\n",
       "      <td>9036.000000</td>\n",
       "      <td>19996.000000</td>\n",
       "      <td>2.356500e+04</td>\n",
       "      <td>23565.000000</td>\n",
       "      <td>23565.000000</td>\n",
       "      <td>23565.000000</td>\n",
       "      <td>23565.000000</td>\n",
       "      <td>23565.000000</td>\n",
       "    </tr>\n",
       "    <tr>\n",
       "      <td>mean</td>\n",
       "      <td>9.878421</td>\n",
       "      <td>4.837115e+06</td>\n",
       "      <td>54.319704</td>\n",
       "      <td>2.030208</td>\n",
       "      <td>2.629270</td>\n",
       "      <td>10.675875</td>\n",
       "      <td>31.503583</td>\n",
       "      <td>5.878124</td>\n",
       "      <td>9.461129</td>\n",
       "      <td>0.593677</td>\n",
       "      <td>...</td>\n",
       "      <td>490.580448</td>\n",
       "      <td>0.589900</td>\n",
       "      <td>518.289509</td>\n",
       "      <td>162.414783</td>\n",
       "      <td>9.940539e+04</td>\n",
       "      <td>2017.371016</td>\n",
       "      <td>6.401570</td>\n",
       "      <td>2.567367</td>\n",
       "      <td>0.564938</td>\n",
       "      <td>0.187339</td>\n",
       "    </tr>\n",
       "    <tr>\n",
       "      <td>std</td>\n",
       "      <td>5.681156</td>\n",
       "      <td>2.215774e+06</td>\n",
       "      <td>19.331030</td>\n",
       "      <td>0.973563</td>\n",
       "      <td>0.085209</td>\n",
       "      <td>6.594823</td>\n",
       "      <td>13.748181</td>\n",
       "      <td>4.871485</td>\n",
       "      <td>3.174684</td>\n",
       "      <td>0.960660</td>\n",
       "      <td>...</td>\n",
       "      <td>341.572956</td>\n",
       "      <td>0.883966</td>\n",
       "      <td>278.009558</td>\n",
       "      <td>177.715098</td>\n",
       "      <td>5.038944e+04</td>\n",
       "      <td>1.037393</td>\n",
       "      <td>3.492948</td>\n",
       "      <td>1.788279</td>\n",
       "      <td>0.101056</td>\n",
       "      <td>0.069453</td>\n",
       "    </tr>\n",
       "    <tr>\n",
       "      <td>min</td>\n",
       "      <td>0.000000</td>\n",
       "      <td>1.219000e+04</td>\n",
       "      <td>12.000000</td>\n",
       "      <td>0.000000</td>\n",
       "      <td>2.460000</td>\n",
       "      <td>1.000000</td>\n",
       "      <td>2.000000</td>\n",
       "      <td>1.000000</td>\n",
       "      <td>1.300000</td>\n",
       "      <td>0.000000</td>\n",
       "      <td>...</td>\n",
       "      <td>1.000000</td>\n",
       "      <td>0.000000</td>\n",
       "      <td>13.000000</td>\n",
       "      <td>1.000000</td>\n",
       "      <td>1.110000e+02</td>\n",
       "      <td>2014.000000</td>\n",
       "      <td>1.000000</td>\n",
       "      <td>0.000000</td>\n",
       "      <td>0.021583</td>\n",
       "      <td>0.025381</td>\n",
       "    </tr>\n",
       "    <tr>\n",
       "      <td>25%</td>\n",
       "      <td>6.000000</td>\n",
       "      <td>3.300000e+06</td>\n",
       "      <td>39.400000</td>\n",
       "      <td>1.000000</td>\n",
       "      <td>2.600000</td>\n",
       "      <td>5.000000</td>\n",
       "      <td>18.700000</td>\n",
       "      <td>2.000000</td>\n",
       "      <td>7.000000</td>\n",
       "      <td>0.000000</td>\n",
       "      <td>...</td>\n",
       "      <td>288.000000</td>\n",
       "      <td>0.000000</td>\n",
       "      <td>293.000000</td>\n",
       "      <td>44.000000</td>\n",
       "      <td>7.656600e+04</td>\n",
       "      <td>2017.000000</td>\n",
       "      <td>3.000000</td>\n",
       "      <td>1.000000</td>\n",
       "      <td>0.500000</td>\n",
       "      <td>0.136738</td>\n",
       "    </tr>\n",
       "    <tr>\n",
       "      <td>50%</td>\n",
       "      <td>9.000000</td>\n",
       "      <td>4.400000e+06</td>\n",
       "      <td>50.000000</td>\n",
       "      <td>2.000000</td>\n",
       "      <td>2.650000</td>\n",
       "      <td>9.000000</td>\n",
       "      <td>30.000000</td>\n",
       "      <td>4.000000</td>\n",
       "      <td>9.000000</td>\n",
       "      <td>0.000000</td>\n",
       "      <td>...</td>\n",
       "      <td>455.000000</td>\n",
       "      <td>0.000000</td>\n",
       "      <td>503.000000</td>\n",
       "      <td>92.000000</td>\n",
       "      <td>9.500000e+04</td>\n",
       "      <td>2017.000000</td>\n",
       "      <td>6.000000</td>\n",
       "      <td>3.000000</td>\n",
       "      <td>0.564948</td>\n",
       "      <td>0.182000</td>\n",
       "    </tr>\n",
       "    <tr>\n",
       "      <td>75%</td>\n",
       "      <td>14.000000</td>\n",
       "      <td>6.000000e+06</td>\n",
       "      <td>65.500000</td>\n",
       "      <td>3.000000</td>\n",
       "      <td>2.700000</td>\n",
       "      <td>16.000000</td>\n",
       "      <td>40.500000</td>\n",
       "      <td>8.000000</td>\n",
       "      <td>11.100000</td>\n",
       "      <td>1.000000</td>\n",
       "      <td>...</td>\n",
       "      <td>612.000000</td>\n",
       "      <td>1.000000</td>\n",
       "      <td>730.000000</td>\n",
       "      <td>217.000000</td>\n",
       "      <td>1.142130e+05</td>\n",
       "      <td>2018.000000</td>\n",
       "      <td>10.000000</td>\n",
       "      <td>4.000000</td>\n",
       "      <td>0.631732</td>\n",
       "      <td>0.223881</td>\n",
       "    </tr>\n",
       "    <tr>\n",
       "      <td>max</td>\n",
       "      <td>50.000000</td>\n",
       "      <td>1.186686e+07</td>\n",
       "      <td>114.200000</td>\n",
       "      <td>5.000000</td>\n",
       "      <td>2.850000</td>\n",
       "      <td>60.000000</td>\n",
       "      <td>76.700000</td>\n",
       "      <td>33.000000</td>\n",
       "      <td>19.450000</td>\n",
       "      <td>5.000000</td>\n",
       "      <td>...</td>\n",
       "      <td>3190.000000</td>\n",
       "      <td>3.000000</td>\n",
       "      <td>1344.000000</td>\n",
       "      <td>907.000000</td>\n",
       "      <td>1.907500e+06</td>\n",
       "      <td>2019.000000</td>\n",
       "      <td>12.000000</td>\n",
       "      <td>6.000000</td>\n",
       "      <td>1.000000</td>\n",
       "      <td>0.787879</td>\n",
       "    </tr>\n",
       "  </tbody>\n",
       "</table>\n",
       "<p>8 rows × 23 columns</p>\n",
       "</div>"
      ],
      "text/plain": [
       "       total_images    last_price    total_area         rooms  ceiling_height  \\\n",
       "count  23565.000000  2.151900e+04  22326.000000  23371.000000    20597.000000   \n",
       "mean       9.878421  4.837115e+06     54.319704      2.030208        2.629270   \n",
       "std        5.681156  2.215774e+06     19.331030      0.973563        0.085209   \n",
       "min        0.000000  1.219000e+04     12.000000      0.000000        2.460000   \n",
       "25%        6.000000  3.300000e+06     39.400000      1.000000        2.600000   \n",
       "50%        9.000000  4.400000e+06     50.000000      2.000000        2.650000   \n",
       "75%       14.000000  6.000000e+06     65.500000      3.000000        2.700000   \n",
       "max       50.000000  1.186686e+07    114.200000      5.000000        2.850000   \n",
       "\n",
       "       floors_total   living_area         floor  kitchen_area       balcony  \\\n",
       "count  23565.000000  22684.000000  23565.000000  22221.000000  23565.000000   \n",
       "mean      10.675875     31.503583      5.878124      9.461129      0.593677   \n",
       "std        6.594823     13.748181      4.871485      3.174684      0.960660   \n",
       "min        1.000000      2.000000      1.000000      1.300000      0.000000   \n",
       "25%        5.000000     18.700000      2.000000      7.000000      0.000000   \n",
       "50%        9.000000     30.000000      4.000000      9.000000      0.000000   \n",
       "75%       16.000000     40.500000      8.000000     11.100000      1.000000   \n",
       "max       60.000000     76.700000     33.000000     19.450000      5.000000   \n",
       "\n",
       "       ...  parks_nearest  ponds_around3000  ponds_nearest  days_exposition  \\\n",
       "count  ...    8030.000000      23565.000000    9036.000000     19996.000000   \n",
       "mean   ...     490.580448          0.589900     518.289509       162.414783   \n",
       "std    ...     341.572956          0.883966     278.009558       177.715098   \n",
       "min    ...       1.000000          0.000000      13.000000         1.000000   \n",
       "25%    ...     288.000000          0.000000     293.000000        44.000000   \n",
       "50%    ...     455.000000          0.000000     503.000000        92.000000   \n",
       "75%    ...     612.000000          1.000000     730.000000       217.000000   \n",
       "max    ...    3190.000000          3.000000    1344.000000       907.000000   \n",
       "\n",
       "       square_meter_price  first_day_exposition_year  \\\n",
       "count        2.356500e+04               23565.000000   \n",
       "mean         9.940539e+04                2017.371016   \n",
       "std          5.038944e+04                   1.037393   \n",
       "min          1.110000e+02                2014.000000   \n",
       "25%          7.656600e+04                2017.000000   \n",
       "50%          9.500000e+04                2017.000000   \n",
       "75%          1.142130e+05                2018.000000   \n",
       "max          1.907500e+06                2019.000000   \n",
       "\n",
       "       first_day_exposition_month  first_day_exposition_weekday  \\\n",
       "count                23565.000000                  23565.000000   \n",
       "mean                     6.401570                      2.567367   \n",
       "std                      3.492948                      1.788279   \n",
       "min                      1.000000                      0.000000   \n",
       "25%                      3.000000                      1.000000   \n",
       "50%                      6.000000                      3.000000   \n",
       "75%                     10.000000                      4.000000   \n",
       "max                     12.000000                      6.000000   \n",
       "\n",
       "       living_to_total_ratio  kitchen_to_total_ratio  \n",
       "count           23565.000000            23565.000000  \n",
       "mean                0.564938                0.187339  \n",
       "std                 0.101056                0.069453  \n",
       "min                 0.021583                0.025381  \n",
       "25%                 0.500000                0.136738  \n",
       "50%                 0.564948                0.182000  \n",
       "75%                 0.631732                0.223881  \n",
       "max                 1.000000                0.787879  \n",
       "\n",
       "[8 rows x 23 columns]"
      ]
     },
     "execution_count": 49,
     "metadata": {},
     "output_type": "execute_result"
    }
   ],
   "source": [
    "real_estate.describe()"
   ]
  },
  {
   "cell_type": "markdown",
   "metadata": {},
   "source": [
    "Написав вышеописанную функцию и применив ее к столбцам с выбросами мы отбросили выбивающиеся значения и данные приобрели адекватные значения. Если смотреть на объем данных, сильных изменений в таблице не наблюдается, что говорит о сохранении статистических данных из таблицы!"
   ]
  },
  {
   "cell_type": "markdown",
   "metadata": {},
   "source": [
    "### Изучение факторов, влияющих на стоимость квартиры"
   ]
  },
  {
   "cell_type": "markdown",
   "metadata": {},
   "source": [
    "Изучим следующие факторы:\n",
    "- зависимость цены от площади квартиры, корреляцию"
   ]
  },
  {
   "cell_type": "code",
   "execution_count": 50,
   "metadata": {
    "scrolled": true
   },
   "outputs": [
    {
     "data": {
      "image/png": "[encoded data removed]",
      "text/plain": [
       "<Figure size 432x432 with 1 Axes>"
      ]
     },
     "metadata": {
      "needs_background": "light"
     },
     "output_type": "display_data"
    },
    {
     "data": {
      "text/html": [
       "<div>\n",
       "<style scoped>\n",
       "    .dataframe tbody tr th:only-of-type {\n",
       "        vertical-align: middle;\n",
       "    }\n",
       "\n",
       "    .dataframe tbody tr th {\n",
       "        vertical-align: top;\n",
       "    }\n",
       "\n",
       "    .dataframe thead th {\n",
       "        text-align: right;\n",
       "    }\n",
       "</style>\n",
       "<table border=\"1\" class=\"dataframe\">\n",
       "  <thead>\n",
       "    <tr style=\"text-align: right;\">\n",
       "      <th></th>\n",
       "      <th>last_price</th>\n",
       "      <th>total_area</th>\n",
       "    </tr>\n",
       "  </thead>\n",
       "  <tbody>\n",
       "    <tr>\n",
       "      <td>last_price</td>\n",
       "      <td>1.000000</td>\n",
       "      <td>0.905372</td>\n",
       "    </tr>\n",
       "    <tr>\n",
       "      <td>total_area</td>\n",
       "      <td>0.905372</td>\n",
       "      <td>1.000000</td>\n",
       "    </tr>\n",
       "  </tbody>\n",
       "</table>\n",
       "</div>"
      ],
      "text/plain": [
       "            last_price  total_area\n",
       "last_price    1.000000    0.905372\n",
       "total_area    0.905372    1.000000"
      ]
     },
     "execution_count": 50,
     "metadata": {},
     "output_type": "execute_result"
    }
   ],
   "source": [
    "real_estate.pivot_table(index='total_area', values='last_price').plot(grid=True, style='o', figsize=(6,6))\n",
    "plt.show()\n",
    "real_estate.pivot_table(index='floor', values=['total_area', 'last_price']).corr()"
   ]
  },
  {
   "cell_type": "markdown",
   "metadata": {},
   "source": [
    "Очевидно, что стоимость квартиры практически напрямую зависит от площади квартиры!"
   ]
  },
  {
   "cell_type": "markdown",
   "metadata": {},
   "source": [
    "- зависимость ценообразования от количества комнат, корреляцию"
   ]
  },
  {
   "cell_type": "code",
   "execution_count": 51,
   "metadata": {
    "scrolled": true
   },
   "outputs": [
    {
     "data": {
      "image/png": "[encoded data removed]",
      "text/plain": [
       "<Figure size 360x360 with 1 Axes>"
      ]
     },
     "metadata": {
      "needs_background": "light"
     },
     "output_type": "display_data"
    },
    {
     "data": {
      "text/html": [
       "<div>\n",
       "<style scoped>\n",
       "    .dataframe tbody tr th:only-of-type {\n",
       "        vertical-align: middle;\n",
       "    }\n",
       "\n",
       "    .dataframe tbody tr th {\n",
       "        vertical-align: top;\n",
       "    }\n",
       "\n",
       "    .dataframe thead th {\n",
       "        text-align: right;\n",
       "    }\n",
       "</style>\n",
       "<table border=\"1\" class=\"dataframe\">\n",
       "  <thead>\n",
       "    <tr style=\"text-align: right;\">\n",
       "      <th></th>\n",
       "      <th>last_price</th>\n",
       "      <th>rooms</th>\n",
       "    </tr>\n",
       "  </thead>\n",
       "  <tbody>\n",
       "    <tr>\n",
       "      <td>last_price</td>\n",
       "      <td>1.000000</td>\n",
       "      <td>0.537551</td>\n",
       "    </tr>\n",
       "    <tr>\n",
       "      <td>rooms</td>\n",
       "      <td>0.537551</td>\n",
       "      <td>1.000000</td>\n",
       "    </tr>\n",
       "  </tbody>\n",
       "</table>\n",
       "</div>"
      ],
      "text/plain": [
       "            last_price     rooms\n",
       "last_price    1.000000  0.537551\n",
       "rooms         0.537551  1.000000"
      ]
     },
     "execution_count": 51,
     "metadata": {},
     "output_type": "execute_result"
    }
   ],
   "source": [
    "real_estate.query('rooms > 0').pivot_table(index='rooms', values='last_price').plot(grid=True, style='o-', figsize=(5, 5))\n",
    "plt.show()\n",
    "real_estate.query('rooms > 0').pivot_table(index='floor', values=['rooms', 'last_price']).corr()"
   ]
  },
  {
   "cell_type": "markdown",
   "metadata": {},
   "source": [
    "Стоимость возрастает пропорционально количеству комнат в квартире, что естественно!"
   ]
  },
  {
   "cell_type": "markdown",
   "metadata": {},
   "source": [
    "- зависимость отдаленности от центра города, корреляцию"
   ]
  },
  {
   "cell_type": "code",
   "execution_count": 52,
   "metadata": {
    "scrolled": true
   },
   "outputs": [
    {
     "data": {
      "image/png": "[encoded data removed]",
      "text/plain": [
       "<Figure size 360x360 with 1 Axes>"
      ]
     },
     "metadata": {
      "needs_background": "light"
     },
     "output_type": "display_data"
    },
    {
     "data": {
      "text/html": [
       "<div>\n",
       "<style scoped>\n",
       "    .dataframe tbody tr th:only-of-type {\n",
       "        vertical-align: middle;\n",
       "    }\n",
       "\n",
       "    .dataframe tbody tr th {\n",
       "        vertical-align: top;\n",
       "    }\n",
       "\n",
       "    .dataframe thead th {\n",
       "        text-align: right;\n",
       "    }\n",
       "</style>\n",
       "<table border=\"1\" class=\"dataframe\">\n",
       "  <thead>\n",
       "    <tr style=\"text-align: right;\">\n",
       "      <th></th>\n",
       "      <th>cityCenters_nearest</th>\n",
       "      <th>last_price</th>\n",
       "    </tr>\n",
       "  </thead>\n",
       "  <tbody>\n",
       "    <tr>\n",
       "      <td>cityCenters_nearest</td>\n",
       "      <td>1.000000</td>\n",
       "      <td>0.712077</td>\n",
       "    </tr>\n",
       "    <tr>\n",
       "      <td>last_price</td>\n",
       "      <td>0.712077</td>\n",
       "      <td>1.000000</td>\n",
       "    </tr>\n",
       "  </tbody>\n",
       "</table>\n",
       "</div>"
      ],
      "text/plain": [
       "                     cityCenters_nearest  last_price\n",
       "cityCenters_nearest             1.000000    0.712077\n",
       "last_price                      0.712077    1.000000"
      ]
     },
     "execution_count": 52,
     "metadata": {},
     "output_type": "execute_result"
    }
   ],
   "source": [
    "real_estate.pivot_table(index='cityCenters_nearest', values='last_price').plot(grid=True, style='o', figsize=(5, 5))\n",
    "plt.show()\n",
    "real_estate.pivot_table(index='floor', values=['cityCenters_nearest', 'last_price']).corr()"
   ]
  },
  {
   "cell_type": "markdown",
   "metadata": {},
   "source": [
    "Стоимость квартир ближе к центру в цене несомненно возрастает, но как видно из корреляции это не совсем ключевой фактор!"
   ]
  },
  {
   "cell_type": "markdown",
   "metadata": {},
   "source": [
    "- зависимость цены от этажа, на котором расположена квартира"
   ]
  },
  {
   "cell_type": "code",
   "execution_count": 53,
   "metadata": {
    "scrolled": true
   },
   "outputs": [
    {
     "data": {
      "image/png": "[encoded data removed]",
      "text/plain": [
       "<Figure size 360x360 with 1 Axes>"
      ]
     },
     "metadata": {
      "needs_background": "light"
     },
     "output_type": "display_data"
    }
   ],
   "source": [
    "real_estate.pivot_table(index='floor_category', values='last_price', aggfunc='median').plot(grid=True, style='o-', figsize=(5, 5))\n",
    "plt.show()"
   ]
  },
  {
   "cell_type": "markdown",
   "metadata": {},
   "source": [
    "Как и следовало ожидать, квартиры на первом этаже стоят гораздо дешевле остальных. Квартиры на последних этажах пользуются спросом не намного больше квартир на первом этаже. А вот квартиры на других этажах гораздо дороже вышеперечисленных!"
   ]
  },
  {
   "cell_type": "markdown",
   "metadata": {},
   "source": [
    "- зависимость от года размещения"
   ]
  },
  {
   "cell_type": "code",
   "execution_count": 54,
   "metadata": {},
   "outputs": [
    {
     "data": {
      "image/png": "[encoded data removed]",
      "text/plain": [
       "<Figure size 360x360 with 1 Axes>"
      ]
     },
     "metadata": {
      "needs_background": "light"
     },
     "output_type": "display_data"
    }
   ],
   "source": [
    "real_estate.pivot_table(index='first_day_exposition_year', values='last_price').plot(grid=True, style='o-', figsize = (5,5))\n",
    "plt.show()"
   ]
  },
  {
   "cell_type": "markdown",
   "metadata": {},
   "source": [
    "За 2 - года с 2014 по 2016 стоимость квартир стремительно падала. Но замедлив падение в 2017 и немного поднявшись в 2018, в 2019 начала стремительно расти"
   ]
  },
  {
   "cell_type": "markdown",
   "metadata": {},
   "source": [
    "- зависимость от месяца размещения"
   ]
  },
  {
   "cell_type": "code",
   "execution_count": 55,
   "metadata": {
    "scrolled": true
   },
   "outputs": [
    {
     "data": {
      "image/png": "[encoded data removed]",
      "text/plain": [
       "<Figure size 360x360 with 1 Axes>"
      ]
     },
     "metadata": {
      "needs_background": "light"
     },
     "output_type": "display_data"
    }
   ],
   "source": [
    "real_estate.pivot_table(index='first_day_exposition_month', values='last_price').plot(grid=True, style='o-', figsize = (5,5))\n",
    "plt.show()"
   ]
  },
  {
   "cell_type": "markdown",
   "metadata": {},
   "source": [
    "В данных видим зависимость от месяца размещения! Квартиры дорожают перед и после июня - вероятно в сезон отпусков спрос на недвижимость падает!..."
   ]
  },
  {
   "cell_type": "markdown",
   "metadata": {},
   "source": [
    "- зависимость от дня размещения"
   ]
  },
  {
   "cell_type": "code",
   "execution_count": 56,
   "metadata": {
    "scrolled": true
   },
   "outputs": [
    {
     "data": {
      "image/png": "[encoded data removed]",
      "text/plain": [
       "<Figure size 360x360 with 1 Axes>"
      ]
     },
     "metadata": {
      "needs_background": "light"
     },
     "output_type": "display_data"
    }
   ],
   "source": [
    "real_estate.pivot_table(index='first_day_exposition_weekday', values='last_price').plot(grid=True, style='o-', figsize = (5,5))\n",
    "plt.show()"
   ]
  },
  {
   "cell_type": "markdown",
   "metadata": {},
   "source": [
    "Как и человек, цена на квартиру в начале неделе на подъеме, что не скажешь к концу рабочей недели! Зато в субботу набирается сил и в воскресенье стремится к подъему!)))"
   ]
  },
  {
   "cell_type": "markdown",
   "metadata": {},
   "source": [
    "- найдем 10 населенных пунктов с наибольшим числом объявлений, найдем среднюю цену за квадратный метр в данных населенных пунктах, найдем населенные пукнты с самой высокой и самой низкой стоимостью жилья"
   ]
  },
  {
   "cell_type": "code",
   "execution_count": 57,
   "metadata": {},
   "outputs": [
    {
     "data": {
      "text/html": [
       "<div>\n",
       "<style scoped>\n",
       "    .dataframe tbody tr th:only-of-type {\n",
       "        vertical-align: middle;\n",
       "    }\n",
       "\n",
       "    .dataframe tbody tr th {\n",
       "        vertical-align: top;\n",
       "    }\n",
       "\n",
       "    .dataframe thead th {\n",
       "        text-align: right;\n",
       "    }\n",
       "</style>\n",
       "<table border=\"1\" class=\"dataframe\">\n",
       "  <thead>\n",
       "    <tr style=\"text-align: right;\">\n",
       "      <th></th>\n",
       "      <th>count</th>\n",
       "      <th>mean</th>\n",
       "    </tr>\n",
       "    <tr>\n",
       "      <th>locality_name</th>\n",
       "      <th></th>\n",
       "      <th></th>\n",
       "    </tr>\n",
       "  </thead>\n",
       "  <tbody>\n",
       "    <tr>\n",
       "      <td>Санкт-Петербург</td>\n",
       "      <td>15651</td>\n",
       "      <td>114868.433902</td>\n",
       "    </tr>\n",
       "    <tr>\n",
       "      <td>посёлок Мурино</td>\n",
       "      <td>520</td>\n",
       "      <td>85672.803846</td>\n",
       "    </tr>\n",
       "    <tr>\n",
       "      <td>посёлок Шушары</td>\n",
       "      <td>439</td>\n",
       "      <td>78550.883827</td>\n",
       "    </tr>\n",
       "    <tr>\n",
       "      <td>Всеволожск</td>\n",
       "      <td>398</td>\n",
       "      <td>68654.007538</td>\n",
       "    </tr>\n",
       "    <tr>\n",
       "      <td>Пушкин</td>\n",
       "      <td>369</td>\n",
       "      <td>103125.373984</td>\n",
       "    </tr>\n",
       "    <tr>\n",
       "      <td>Колпино</td>\n",
       "      <td>338</td>\n",
       "      <td>75424.150888</td>\n",
       "    </tr>\n",
       "    <tr>\n",
       "      <td>посёлок Парголово</td>\n",
       "      <td>327</td>\n",
       "      <td>90175.489297</td>\n",
       "    </tr>\n",
       "    <tr>\n",
       "      <td>Гатчина</td>\n",
       "      <td>307</td>\n",
       "      <td>68745.693811</td>\n",
       "    </tr>\n",
       "    <tr>\n",
       "      <td>деревня Кудрово</td>\n",
       "      <td>299</td>\n",
       "      <td>92473.086957</td>\n",
       "    </tr>\n",
       "    <tr>\n",
       "      <td>Выборг</td>\n",
       "      <td>237</td>\n",
       "      <td>58141.489451</td>\n",
       "    </tr>\n",
       "  </tbody>\n",
       "</table>\n",
       "</div>"
      ],
      "text/plain": [
       "                   count           mean\n",
       "locality_name                          \n",
       "Санкт-Петербург    15651  114868.433902\n",
       "посёлок Мурино       520   85672.803846\n",
       "посёлок Шушары       439   78550.883827\n",
       "Всеволожск           398   68654.007538\n",
       "Пушкин               369  103125.373984\n",
       "Колпино              338   75424.150888\n",
       "посёлок Парголово    327   90175.489297\n",
       "Гатчина              307   68745.693811\n",
       "деревня Кудрово      299   92473.086957\n",
       "Выборг               237   58141.489451"
      ]
     },
     "execution_count": 57,
     "metadata": {},
     "output_type": "execute_result"
    }
   ],
   "source": [
    "ten_city = real_estate.pivot_table(index='locality_name', values='square_meter_price', aggfunc=['count', 'mean'])\n",
    "ten_city.columns=['count', 'mean']\n",
    "ten_city.sort_values('count', ascending=False).head(10)\n"
   ]
  },
  {
   "cell_type": "markdown",
   "metadata": {},
   "source": [
    "Как мы видим из получившейся таблицы большее количество квартир, как и большая стоимость за квадратный метр в городе Санкт-Петербург. А меньшее количество квартир и меньшая стоимость за квадратный метр в Выборге"
   ]
  },
  {
   "cell_type": "markdown",
   "metadata": {},
   "source": [
    "- изучим стоимость квартир исходя из расстояния от центра города"
   ]
  },
  {
   "cell_type": "code",
   "execution_count": 58,
   "metadata": {},
   "outputs": [
    {
     "data": {
      "text/html": [
       "<div>\n",
       "<style scoped>\n",
       "    .dataframe tbody tr th:only-of-type {\n",
       "        vertical-align: middle;\n",
       "    }\n",
       "\n",
       "    .dataframe tbody tr th {\n",
       "        vertical-align: top;\n",
       "    }\n",
       "\n",
       "    .dataframe thead th {\n",
       "        text-align: right;\n",
       "    }\n",
       "</style>\n",
       "<table border=\"1\" class=\"dataframe\">\n",
       "  <thead>\n",
       "    <tr style=\"text-align: right;\">\n",
       "      <th></th>\n",
       "      <th>total_images</th>\n",
       "      <th>last_price</th>\n",
       "      <th>total_area</th>\n",
       "      <th>first_day_exposition</th>\n",
       "      <th>rooms</th>\n",
       "      <th>ceiling_height</th>\n",
       "      <th>floors_total</th>\n",
       "      <th>living_area</th>\n",
       "      <th>floor</th>\n",
       "      <th>studio</th>\n",
       "      <th>...</th>\n",
       "      <th>ponds_nearest</th>\n",
       "      <th>days_exposition</th>\n",
       "      <th>square_meter_price</th>\n",
       "      <th>first_day_exposition_year</th>\n",
       "      <th>first_day_exposition_month</th>\n",
       "      <th>first_day_exposition_weekday</th>\n",
       "      <th>floor_category</th>\n",
       "      <th>living_to_total_ratio</th>\n",
       "      <th>kitchen_to_total_ratio</th>\n",
       "      <th>cityCenters_nearest_km</th>\n",
       "    </tr>\n",
       "  </thead>\n",
       "  <tbody>\n",
       "    <tr>\n",
       "      <td>0</td>\n",
       "      <td>20</td>\n",
       "      <td>NaN</td>\n",
       "      <td>108.00</td>\n",
       "      <td>2019-03-07T00:00:00</td>\n",
       "      <td>3.0</td>\n",
       "      <td>2.70</td>\n",
       "      <td>16.0</td>\n",
       "      <td>51.000000</td>\n",
       "      <td>8</td>\n",
       "      <td>False</td>\n",
       "      <td>...</td>\n",
       "      <td>755.0</td>\n",
       "      <td>NaN</td>\n",
       "      <td>120370</td>\n",
       "      <td>2019</td>\n",
       "      <td>3</td>\n",
       "      <td>3</td>\n",
       "      <td>другой</td>\n",
       "      <td>0.472222</td>\n",
       "      <td>0.231481</td>\n",
       "      <td>16</td>\n",
       "    </tr>\n",
       "    <tr>\n",
       "      <td>1</td>\n",
       "      <td>7</td>\n",
       "      <td>3350000.0</td>\n",
       "      <td>40.40</td>\n",
       "      <td>2018-12-04T00:00:00</td>\n",
       "      <td>1.0</td>\n",
       "      <td>2.60</td>\n",
       "      <td>11.0</td>\n",
       "      <td>18.600000</td>\n",
       "      <td>1</td>\n",
       "      <td>False</td>\n",
       "      <td>...</td>\n",
       "      <td>NaN</td>\n",
       "      <td>81.0</td>\n",
       "      <td>82920</td>\n",
       "      <td>2018</td>\n",
       "      <td>12</td>\n",
       "      <td>1</td>\n",
       "      <td>первый</td>\n",
       "      <td>0.460396</td>\n",
       "      <td>0.272277</td>\n",
       "      <td>18</td>\n",
       "    </tr>\n",
       "    <tr>\n",
       "      <td>2</td>\n",
       "      <td>10</td>\n",
       "      <td>5196000.0</td>\n",
       "      <td>56.00</td>\n",
       "      <td>2015-08-20T00:00:00</td>\n",
       "      <td>2.0</td>\n",
       "      <td>2.65</td>\n",
       "      <td>5.0</td>\n",
       "      <td>34.300000</td>\n",
       "      <td>4</td>\n",
       "      <td>False</td>\n",
       "      <td>...</td>\n",
       "      <td>574.0</td>\n",
       "      <td>558.0</td>\n",
       "      <td>92785</td>\n",
       "      <td>2015</td>\n",
       "      <td>8</td>\n",
       "      <td>3</td>\n",
       "      <td>другой</td>\n",
       "      <td>0.612500</td>\n",
       "      <td>0.148214</td>\n",
       "      <td>13</td>\n",
       "    </tr>\n",
       "    <tr>\n",
       "      <td>3</td>\n",
       "      <td>0</td>\n",
       "      <td>NaN</td>\n",
       "      <td>NaN</td>\n",
       "      <td>2015-07-24T00:00:00</td>\n",
       "      <td>3.0</td>\n",
       "      <td>2.60</td>\n",
       "      <td>14.0</td>\n",
       "      <td>NaN</td>\n",
       "      <td>9</td>\n",
       "      <td>False</td>\n",
       "      <td>...</td>\n",
       "      <td>234.0</td>\n",
       "      <td>424.0</td>\n",
       "      <td>408176</td>\n",
       "      <td>2015</td>\n",
       "      <td>7</td>\n",
       "      <td>4</td>\n",
       "      <td>другой</td>\n",
       "      <td>0.564948</td>\n",
       "      <td>0.187421</td>\n",
       "      <td>6</td>\n",
       "    </tr>\n",
       "    <tr>\n",
       "      <td>4</td>\n",
       "      <td>2</td>\n",
       "      <td>10000000.0</td>\n",
       "      <td>100.00</td>\n",
       "      <td>2018-06-19T00:00:00</td>\n",
       "      <td>2.0</td>\n",
       "      <td>NaN</td>\n",
       "      <td>14.0</td>\n",
       "      <td>32.000000</td>\n",
       "      <td>13</td>\n",
       "      <td>False</td>\n",
       "      <td>...</td>\n",
       "      <td>48.0</td>\n",
       "      <td>121.0</td>\n",
       "      <td>100000</td>\n",
       "      <td>2018</td>\n",
       "      <td>6</td>\n",
       "      <td>1</td>\n",
       "      <td>другой</td>\n",
       "      <td>0.320000</td>\n",
       "      <td>0.410000</td>\n",
       "      <td>8</td>\n",
       "    </tr>\n",
       "    <tr>\n",
       "      <td>...</td>\n",
       "      <td>...</td>\n",
       "      <td>...</td>\n",
       "      <td>...</td>\n",
       "      <td>...</td>\n",
       "      <td>...</td>\n",
       "      <td>...</td>\n",
       "      <td>...</td>\n",
       "      <td>...</td>\n",
       "      <td>...</td>\n",
       "      <td>...</td>\n",
       "      <td>...</td>\n",
       "      <td>...</td>\n",
       "      <td>...</td>\n",
       "      <td>...</td>\n",
       "      <td>...</td>\n",
       "      <td>...</td>\n",
       "      <td>...</td>\n",
       "      <td>...</td>\n",
       "      <td>...</td>\n",
       "      <td>...</td>\n",
       "      <td>...</td>\n",
       "    </tr>\n",
       "    <tr>\n",
       "      <td>23560</td>\n",
       "      <td>9</td>\n",
       "      <td>9700000.0</td>\n",
       "      <td>NaN</td>\n",
       "      <td>2017-03-21T00:00:00</td>\n",
       "      <td>3.0</td>\n",
       "      <td>NaN</td>\n",
       "      <td>5.0</td>\n",
       "      <td>73.300000</td>\n",
       "      <td>3</td>\n",
       "      <td>False</td>\n",
       "      <td>...</td>\n",
       "      <td>381.0</td>\n",
       "      <td>NaN</td>\n",
       "      <td>72490</td>\n",
       "      <td>2017</td>\n",
       "      <td>3</td>\n",
       "      <td>1</td>\n",
       "      <td>другой</td>\n",
       "      <td>0.547792</td>\n",
       "      <td>0.103356</td>\n",
       "      <td>4</td>\n",
       "    </tr>\n",
       "    <tr>\n",
       "      <td>23561</td>\n",
       "      <td>14</td>\n",
       "      <td>3100000.0</td>\n",
       "      <td>59.00</td>\n",
       "      <td>2018-01-15T00:00:00</td>\n",
       "      <td>3.0</td>\n",
       "      <td>2.65</td>\n",
       "      <td>5.0</td>\n",
       "      <td>38.000000</td>\n",
       "      <td>4</td>\n",
       "      <td>False</td>\n",
       "      <td>...</td>\n",
       "      <td>NaN</td>\n",
       "      <td>45.0</td>\n",
       "      <td>52542</td>\n",
       "      <td>2018</td>\n",
       "      <td>1</td>\n",
       "      <td>0</td>\n",
       "      <td>другой</td>\n",
       "      <td>0.644068</td>\n",
       "      <td>0.144068</td>\n",
       "      <td>100000</td>\n",
       "    </tr>\n",
       "    <tr>\n",
       "      <td>23562</td>\n",
       "      <td>18</td>\n",
       "      <td>2500000.0</td>\n",
       "      <td>56.70</td>\n",
       "      <td>2018-02-11T00:00:00</td>\n",
       "      <td>2.0</td>\n",
       "      <td>2.60</td>\n",
       "      <td>3.0</td>\n",
       "      <td>29.700000</td>\n",
       "      <td>1</td>\n",
       "      <td>False</td>\n",
       "      <td>...</td>\n",
       "      <td>NaN</td>\n",
       "      <td>NaN</td>\n",
       "      <td>44091</td>\n",
       "      <td>2018</td>\n",
       "      <td>2</td>\n",
       "      <td>6</td>\n",
       "      <td>первый</td>\n",
       "      <td>0.523810</td>\n",
       "      <td>0.186949</td>\n",
       "      <td>100000</td>\n",
       "    </tr>\n",
       "    <tr>\n",
       "      <td>23563</td>\n",
       "      <td>13</td>\n",
       "      <td>11475000.0</td>\n",
       "      <td>76.75</td>\n",
       "      <td>2017-03-28T00:00:00</td>\n",
       "      <td>2.0</td>\n",
       "      <td>NaN</td>\n",
       "      <td>17.0</td>\n",
       "      <td>43.359756</td>\n",
       "      <td>12</td>\n",
       "      <td>False</td>\n",
       "      <td>...</td>\n",
       "      <td>196.0</td>\n",
       "      <td>602.0</td>\n",
       "      <td>149511</td>\n",
       "      <td>2017</td>\n",
       "      <td>3</td>\n",
       "      <td>1</td>\n",
       "      <td>другой</td>\n",
       "      <td>0.564948</td>\n",
       "      <td>0.303583</td>\n",
       "      <td>10</td>\n",
       "    </tr>\n",
       "    <tr>\n",
       "      <td>23564</td>\n",
       "      <td>4</td>\n",
       "      <td>1350000.0</td>\n",
       "      <td>32.30</td>\n",
       "      <td>2017-07-21T00:00:00</td>\n",
       "      <td>1.0</td>\n",
       "      <td>2.50</td>\n",
       "      <td>5.0</td>\n",
       "      <td>12.300000</td>\n",
       "      <td>1</td>\n",
       "      <td>False</td>\n",
       "      <td>...</td>\n",
       "      <td>NaN</td>\n",
       "      <td>NaN</td>\n",
       "      <td>41795</td>\n",
       "      <td>2017</td>\n",
       "      <td>7</td>\n",
       "      <td>4</td>\n",
       "      <td>первый</td>\n",
       "      <td>0.380805</td>\n",
       "      <td>0.278638</td>\n",
       "      <td>100000</td>\n",
       "    </tr>\n",
       "  </tbody>\n",
       "</table>\n",
       "<p>23565 rows × 29 columns</p>\n",
       "</div>"
      ],
      "text/plain": [
       "       total_images  last_price  total_area first_day_exposition  rooms  \\\n",
       "0                20         NaN      108.00  2019-03-07T00:00:00    3.0   \n",
       "1                 7   3350000.0       40.40  2018-12-04T00:00:00    1.0   \n",
       "2                10   5196000.0       56.00  2015-08-20T00:00:00    2.0   \n",
       "3                 0         NaN         NaN  2015-07-24T00:00:00    3.0   \n",
       "4                 2  10000000.0      100.00  2018-06-19T00:00:00    2.0   \n",
       "...             ...         ...         ...                  ...    ...   \n",
       "23560             9   9700000.0         NaN  2017-03-21T00:00:00    3.0   \n",
       "23561            14   3100000.0       59.00  2018-01-15T00:00:00    3.0   \n",
       "23562            18   2500000.0       56.70  2018-02-11T00:00:00    2.0   \n",
       "23563            13  11475000.0       76.75  2017-03-28T00:00:00    2.0   \n",
       "23564             4   1350000.0       32.30  2017-07-21T00:00:00    1.0   \n",
       "\n",
       "       ceiling_height  floors_total  living_area  floor  studio  ...  \\\n",
       "0                2.70          16.0    51.000000      8   False  ...   \n",
       "1                2.60          11.0    18.600000      1   False  ...   \n",
       "2                2.65           5.0    34.300000      4   False  ...   \n",
       "3                2.60          14.0          NaN      9   False  ...   \n",
       "4                 NaN          14.0    32.000000     13   False  ...   \n",
       "...               ...           ...          ...    ...     ...  ...   \n",
       "23560             NaN           5.0    73.300000      3   False  ...   \n",
       "23561            2.65           5.0    38.000000      4   False  ...   \n",
       "23562            2.60           3.0    29.700000      1   False  ...   \n",
       "23563             NaN          17.0    43.359756     12   False  ...   \n",
       "23564            2.50           5.0    12.300000      1   False  ...   \n",
       "\n",
       "       ponds_nearest  days_exposition  square_meter_price  \\\n",
       "0              755.0              NaN              120370   \n",
       "1                NaN             81.0               82920   \n",
       "2              574.0            558.0               92785   \n",
       "3              234.0            424.0              408176   \n",
       "4               48.0            121.0              100000   \n",
       "...              ...              ...                 ...   \n",
       "23560          381.0              NaN               72490   \n",
       "23561            NaN             45.0               52542   \n",
       "23562            NaN              NaN               44091   \n",
       "23563          196.0            602.0              149511   \n",
       "23564            NaN              NaN               41795   \n",
       "\n",
       "      first_day_exposition_year  first_day_exposition_month  \\\n",
       "0                          2019                           3   \n",
       "1                          2018                          12   \n",
       "2                          2015                           8   \n",
       "3                          2015                           7   \n",
       "4                          2018                           6   \n",
       "...                         ...                         ...   \n",
       "23560                      2017                           3   \n",
       "23561                      2018                           1   \n",
       "23562                      2018                           2   \n",
       "23563                      2017                           3   \n",
       "23564                      2017                           7   \n",
       "\n",
       "       first_day_exposition_weekday  floor_category  living_to_total_ratio  \\\n",
       "0                                 3          другой               0.472222   \n",
       "1                                 1          первый               0.460396   \n",
       "2                                 3          другой               0.612500   \n",
       "3                                 4          другой               0.564948   \n",
       "4                                 1          другой               0.320000   \n",
       "...                             ...             ...                    ...   \n",
       "23560                             1          другой               0.547792   \n",
       "23561                             0          другой               0.644068   \n",
       "23562                             6          первый               0.523810   \n",
       "23563                             1          другой               0.564948   \n",
       "23564                             4          первый               0.380805   \n",
       "\n",
       "       kitchen_to_total_ratio  cityCenters_nearest_km  \n",
       "0                    0.231481                      16  \n",
       "1                    0.272277                      18  \n",
       "2                    0.148214                      13  \n",
       "3                    0.187421                       6  \n",
       "4                    0.410000                       8  \n",
       "...                       ...                     ...  \n",
       "23560                0.103356                       4  \n",
       "23561                0.144068                  100000  \n",
       "23562                0.186949                  100000  \n",
       "23563                0.303583                      10  \n",
       "23564                0.278638                  100000  \n",
       "\n",
       "[23565 rows x 29 columns]"
      ]
     },
     "execution_count": 58,
     "metadata": {},
     "output_type": "execute_result"
    },
    {
     "data": {
      "image/png": "[encoded data removed]",
      "text/plain": [
       "<Figure size 432x288 with 1 Axes>"
      ]
     },
     "metadata": {
      "needs_background": "light"
     },
     "output_type": "display_data"
    }
   ],
   "source": [
    "real_estate['cityCenters_nearest_km'] = real_estate['cityCenters_nearest']/1000 \n",
    "real_estate['cityCenters_nearest_km'] = real_estate['cityCenters_nearest_km'].fillna(100000)\n",
    "real_estate['cityCenters_nearest_km'] = real_estate['cityCenters_nearest_km'].astype(int)\n",
    "real_estate_km = real_estate.query('locality_name == \"Санкт-Петербург\" and cityCenters_nearest_km !=100000').pivot_table(index = 'cityCenters_nearest_km', values = 'square_meter_price')\n",
    "real_estate_km.plot()\n",
    "real_estate"
   ]
  },
  {
   "cell_type": "markdown",
   "metadata": {},
   "source": [
    "Исходя из того, что Санкт-Петербург большой город, посчитаем радиус центра в 10 км"
   ]
  },
  {
   "cell_type": "markdown",
   "metadata": {},
   "source": [
    "- выделим квартиры в центре и изучим и проанализируем параметры"
   ]
  },
  {
   "cell_type": "code",
   "execution_count": 59,
   "metadata": {},
   "outputs": [],
   "source": [
    "center_spb = real_estate.query('cityCenters_nearest_km <=10 and locality_name == \"Санкт-Петербург\"')"
   ]
  },
  {
   "cell_type": "markdown",
   "metadata": {},
   "source": [
    "-- Посмотрим зависимость стоимости квадратного метра от количества комнат"
   ]
  },
  {
   "cell_type": "code",
   "execution_count": 60,
   "metadata": {},
   "outputs": [
    {
     "data": {
      "text/plain": [
       "0.030267925659092136"
      ]
     },
     "execution_count": 60,
     "metadata": {},
     "output_type": "execute_result"
    },
    {
     "data": {
      "image/png": "[encoded data removed]",
      "text/plain": [
       "<Figure size 432x288 with 1 Axes>"
      ]
     },
     "metadata": {
      "needs_background": "light"
     },
     "output_type": "display_data"
    }
   ],
   "source": [
    "center_spb_rooms = center_spb.pivot_table(index='rooms', values = 'square_meter_price', aggfunc = ['mean', 'count', 'median'])\n",
    "center_spb_rooms.columns = ['mean', 'count', 'median']\n",
    "center_spb_rooms.query('count > 50').plot(y='median')\n",
    "center_spb_rooms.query('count > 50').sort_values('median', ascending=False)\n",
    "center_spb['rooms'].corr(center_spb['square_meter_price'])"
   ]
  },
  {
   "cell_type": "markdown",
   "metadata": {},
   "source": [
    "Судя по графику стоимость квадратного метра однокомнатной квартиры выше остальных. Больше комнат в квартире - ниже стоимость квадратного метра"
   ]
  },
  {
   "cell_type": "markdown",
   "metadata": {},
   "source": [
    "-- Посмотрим зависимость стоимости квадратного метра от этажа"
   ]
  },
  {
   "cell_type": "code",
   "execution_count": 61,
   "metadata": {},
   "outputs": [
    {
     "data": {
      "text/html": [
       "<div>\n",
       "<style scoped>\n",
       "    .dataframe tbody tr th:only-of-type {\n",
       "        vertical-align: middle;\n",
       "    }\n",
       "\n",
       "    .dataframe tbody tr th {\n",
       "        vertical-align: top;\n",
       "    }\n",
       "\n",
       "    .dataframe thead th {\n",
       "        text-align: right;\n",
       "    }\n",
       "</style>\n",
       "<table border=\"1\" class=\"dataframe\">\n",
       "  <thead>\n",
       "    <tr style=\"text-align: right;\">\n",
       "      <th></th>\n",
       "      <th>mean</th>\n",
       "      <th>count</th>\n",
       "      <th>median</th>\n",
       "    </tr>\n",
       "    <tr>\n",
       "      <th>floor_category</th>\n",
       "      <th></th>\n",
       "      <th></th>\n",
       "      <th></th>\n",
       "    </tr>\n",
       "  </thead>\n",
       "  <tbody>\n",
       "    <tr>\n",
       "      <td>первый</td>\n",
       "      <td>113675.556923</td>\n",
       "      <td>650</td>\n",
       "      <td>101874.5</td>\n",
       "    </tr>\n",
       "    <tr>\n",
       "      <td>последний</td>\n",
       "      <td>134788.901182</td>\n",
       "      <td>931</td>\n",
       "      <td>112079.0</td>\n",
       "    </tr>\n",
       "  </tbody>\n",
       "</table>\n",
       "</div>"
      ],
      "text/plain": [
       "                         mean  count    median\n",
       "floor_category                                \n",
       "первый          113675.556923    650  101874.5\n",
       "последний       134788.901182    931  112079.0"
      ]
     },
     "execution_count": 61,
     "metadata": {},
     "output_type": "execute_result"
    },
    {
     "data": {
      "image/png": "[encoded data removed]",
      "text/plain": [
       "<Figure size 432x288 with 1 Axes>"
      ]
     },
     "metadata": {
      "needs_background": "light"
     },
     "output_type": "display_data"
    }
   ],
   "source": [
    "center_spb_floor_category = center_spb.query('floor_category != \"другой\"').pivot_table(index='floor_category', values = 'square_meter_price', aggfunc = ['mean', 'count', 'median'])\n",
    "center_spb_floor_category.columns = ['mean', 'count', 'median']\n",
    "center_spb_floor_category.plot(y='median')\n",
    "center_spb_floor_category"
   ]
  },
  {
   "cell_type": "markdown",
   "metadata": {},
   "source": [
    "Квартиры на первом этаже дешевле, чем квартиры на других этажах"
   ]
  },
  {
   "cell_type": "markdown",
   "metadata": {},
   "source": [
    "-- Посмотрим зависимость стоимости квартир от удаленности от центра. Но можно предположить, что выбросов не будет, так как мы сделали выборку по центральному району"
   ]
  },
  {
   "cell_type": "code",
   "execution_count": 62,
   "metadata": {},
   "outputs": [
    {
     "data": {
      "text/plain": [
       "-0.18625328773221841"
      ]
     },
     "execution_count": 62,
     "metadata": {},
     "output_type": "execute_result"
    },
    {
     "data": {
      "image/png": "[encoded data removed]",
      "text/plain": [
       "<Figure size 432x288 with 1 Axes>"
      ]
     },
     "metadata": {
      "needs_background": "light"
     },
     "output_type": "display_data"
    }
   ],
   "source": [
    "center_spb.plot(kind = 'scatter', y = 'square_meter_price', x = 'cityCenters_nearest', alpha = 0.3)\n",
    "\n",
    "center_spb['cityCenters_nearest'].corr(center_spb['square_meter_price'])"
   ]
  },
  {
   "cell_type": "markdown",
   "metadata": {},
   "source": [
    "-- теперь расчитаем зависимость от даты подачи объявления. Для начала день "
   ]
  },
  {
   "cell_type": "code",
   "execution_count": 63,
   "metadata": {},
   "outputs": [
    {
     "data": {
      "text/html": [
       "<div>\n",
       "<style scoped>\n",
       "    .dataframe tbody tr th:only-of-type {\n",
       "        vertical-align: middle;\n",
       "    }\n",
       "\n",
       "    .dataframe tbody tr th {\n",
       "        vertical-align: top;\n",
       "    }\n",
       "\n",
       "    .dataframe thead th {\n",
       "        text-align: right;\n",
       "    }\n",
       "</style>\n",
       "<table border=\"1\" class=\"dataframe\">\n",
       "  <thead>\n",
       "    <tr style=\"text-align: right;\">\n",
       "      <th></th>\n",
       "      <th>mean</th>\n",
       "      <th>count</th>\n",
       "      <th>median</th>\n",
       "    </tr>\n",
       "    <tr>\n",
       "      <th>first_day_exposition_weekday</th>\n",
       "      <th></th>\n",
       "      <th></th>\n",
       "      <th></th>\n",
       "    </tr>\n",
       "  </thead>\n",
       "  <tbody>\n",
       "    <tr>\n",
       "      <td>6</td>\n",
       "      <td>132316.026316</td>\n",
       "      <td>380</td>\n",
       "      <td>120362.0</td>\n",
       "    </tr>\n",
       "    <tr>\n",
       "      <td>5</td>\n",
       "      <td>139217.470199</td>\n",
       "      <td>453</td>\n",
       "      <td>117857.0</td>\n",
       "    </tr>\n",
       "    <tr>\n",
       "      <td>0</td>\n",
       "      <td>133365.792453</td>\n",
       "      <td>901</td>\n",
       "      <td>116981.0</td>\n",
       "    </tr>\n",
       "    <tr>\n",
       "      <td>2</td>\n",
       "      <td>132217.050296</td>\n",
       "      <td>1014</td>\n",
       "      <td>115469.5</td>\n",
       "    </tr>\n",
       "    <tr>\n",
       "      <td>3</td>\n",
       "      <td>133283.888312</td>\n",
       "      <td>1155</td>\n",
       "      <td>115264.0</td>\n",
       "    </tr>\n",
       "    <tr>\n",
       "      <td>4</td>\n",
       "      <td>131164.019019</td>\n",
       "      <td>999</td>\n",
       "      <td>114999.0</td>\n",
       "    </tr>\n",
       "    <tr>\n",
       "      <td>1</td>\n",
       "      <td>131194.660413</td>\n",
       "      <td>1066</td>\n",
       "      <td>114017.5</td>\n",
       "    </tr>\n",
       "  </tbody>\n",
       "</table>\n",
       "</div>"
      ],
      "text/plain": [
       "                                       mean  count    median\n",
       "first_day_exposition_weekday                                \n",
       "6                             132316.026316    380  120362.0\n",
       "5                             139217.470199    453  117857.0\n",
       "0                             133365.792453    901  116981.0\n",
       "2                             132217.050296   1014  115469.5\n",
       "3                             133283.888312   1155  115264.0\n",
       "4                             131164.019019    999  114999.0\n",
       "1                             131194.660413   1066  114017.5"
      ]
     },
     "execution_count": 63,
     "metadata": {},
     "output_type": "execute_result"
    },
    {
     "data": {
      "image/png": "[encoded data removed]",
      "text/plain": [
       "<Figure size 432x288 with 1 Axes>"
      ]
     },
     "metadata": {
      "needs_background": "light"
     },
     "output_type": "display_data"
    }
   ],
   "source": [
    "center_spb_weekday_exposition = center_spb.pivot_table(index = 'first_day_exposition_weekday', values = 'square_meter_price', aggfunc = ['mean', 'count', 'median'])\n",
    "center_spb_weekday_exposition.columns = ['mean', 'count', 'median']\n",
    "center_spb_weekday_exposition.plot(y = 'median')\n",
    "\n",
    "center_spb_weekday_exposition.sort_values('median', ascending = False)"
   ]
  },
  {
   "cell_type": "markdown",
   "metadata": {},
   "source": [
    "Судя по графику стоимость квартир дешевле всего во вторник. Пик стоимости достигается в воскресенье"
   ]
  },
  {
   "cell_type": "markdown",
   "metadata": {},
   "source": [
    "-- далее расчитаем зависимость стоимости квартир от месяца подачи объявления"
   ]
  },
  {
   "cell_type": "code",
   "execution_count": 64,
   "metadata": {},
   "outputs": [
    {
     "data": {
      "text/html": [
       "<div>\n",
       "<style scoped>\n",
       "    .dataframe tbody tr th:only-of-type {\n",
       "        vertical-align: middle;\n",
       "    }\n",
       "\n",
       "    .dataframe tbody tr th {\n",
       "        vertical-align: top;\n",
       "    }\n",
       "\n",
       "    .dataframe thead th {\n",
       "        text-align: right;\n",
       "    }\n",
       "</style>\n",
       "<table border=\"1\" class=\"dataframe\">\n",
       "  <thead>\n",
       "    <tr style=\"text-align: right;\">\n",
       "      <th></th>\n",
       "      <th>mean</th>\n",
       "      <th>count</th>\n",
       "      <th>median</th>\n",
       "    </tr>\n",
       "    <tr>\n",
       "      <th>first_day_exposition_month</th>\n",
       "      <th></th>\n",
       "      <th></th>\n",
       "      <th></th>\n",
       "    </tr>\n",
       "  </thead>\n",
       "  <tbody>\n",
       "    <tr>\n",
       "      <td>3</td>\n",
       "      <td>133638.915515</td>\n",
       "      <td>651</td>\n",
       "      <td>120289.0</td>\n",
       "    </tr>\n",
       "    <tr>\n",
       "      <td>1</td>\n",
       "      <td>135756.391892</td>\n",
       "      <td>370</td>\n",
       "      <td>119392.5</td>\n",
       "    </tr>\n",
       "    <tr>\n",
       "      <td>9</td>\n",
       "      <td>133753.060904</td>\n",
       "      <td>509</td>\n",
       "      <td>119047.0</td>\n",
       "    </tr>\n",
       "    <tr>\n",
       "      <td>8</td>\n",
       "      <td>134041.823256</td>\n",
       "      <td>430</td>\n",
       "      <td>118878.0</td>\n",
       "    </tr>\n",
       "    <tr>\n",
       "      <td>11</td>\n",
       "      <td>131623.114286</td>\n",
       "      <td>560</td>\n",
       "      <td>116078.0</td>\n",
       "    </tr>\n",
       "    <tr>\n",
       "      <td>4</td>\n",
       "      <td>138065.403748</td>\n",
       "      <td>587</td>\n",
       "      <td>115555.0</td>\n",
       "    </tr>\n",
       "    <tr>\n",
       "      <td>10</td>\n",
       "      <td>129248.915187</td>\n",
       "      <td>507</td>\n",
       "      <td>114872.0</td>\n",
       "    </tr>\n",
       "    <tr>\n",
       "      <td>7</td>\n",
       "      <td>131733.937634</td>\n",
       "      <td>465</td>\n",
       "      <td>114655.0</td>\n",
       "    </tr>\n",
       "    <tr>\n",
       "      <td>12</td>\n",
       "      <td>135168.338384</td>\n",
       "      <td>396</td>\n",
       "      <td>114348.5</td>\n",
       "    </tr>\n",
       "    <tr>\n",
       "      <td>6</td>\n",
       "      <td>131488.141649</td>\n",
       "      <td>473</td>\n",
       "      <td>113350.0</td>\n",
       "    </tr>\n",
       "    <tr>\n",
       "      <td>2</td>\n",
       "      <td>131317.592705</td>\n",
       "      <td>658</td>\n",
       "      <td>113132.0</td>\n",
       "    </tr>\n",
       "    <tr>\n",
       "      <td>5</td>\n",
       "      <td>126497.483425</td>\n",
       "      <td>362</td>\n",
       "      <td>112637.0</td>\n",
       "    </tr>\n",
       "  </tbody>\n",
       "</table>\n",
       "</div>"
      ],
      "text/plain": [
       "                                     mean  count    median\n",
       "first_day_exposition_month                                \n",
       "3                           133638.915515    651  120289.0\n",
       "1                           135756.391892    370  119392.5\n",
       "9                           133753.060904    509  119047.0\n",
       "8                           134041.823256    430  118878.0\n",
       "11                          131623.114286    560  116078.0\n",
       "4                           138065.403748    587  115555.0\n",
       "10                          129248.915187    507  114872.0\n",
       "7                           131733.937634    465  114655.0\n",
       "12                          135168.338384    396  114348.5\n",
       "6                           131488.141649    473  113350.0\n",
       "2                           131317.592705    658  113132.0\n",
       "5                           126497.483425    362  112637.0"
      ]
     },
     "execution_count": 64,
     "metadata": {},
     "output_type": "execute_result"
    },
    {
     "data": {
      "image/png": "[encoded data removed]",
      "text/plain": [
       "<Figure size 432x288 with 1 Axes>"
      ]
     },
     "metadata": {
      "needs_background": "light"
     },
     "output_type": "display_data"
    }
   ],
   "source": [
    "center_spb_month_exposition = center_spb.pivot_table(index = 'first_day_exposition_month', values = 'square_meter_price', aggfunc = ['mean', 'count', 'median'])\n",
    "center_spb_month_exposition.columns = ['mean', 'count', 'median']\n",
    "center_spb_month_exposition.plot(y = 'median')\n",
    "\n",
    "center_spb_month_exposition.sort_values('median', ascending = False)"
   ]
  },
  {
   "cell_type": "markdown",
   "metadata": {},
   "source": [
    "Судя по графику мы видим самую высокую стоимость квартир в марте, в январе, в августе и в сентябре. Тогда как в феврале и мае самые низкие стоимости квартир. "
   ]
  },
  {
   "cell_type": "markdown",
   "metadata": {},
   "source": [
    "-- и наконец расчитаем зависимость стоимости квартир от года подачи объявления"
   ]
  },
  {
   "cell_type": "code",
   "execution_count": 65,
   "metadata": {},
   "outputs": [
    {
     "data": {
      "text/html": [
       "<div>\n",
       "<style scoped>\n",
       "    .dataframe tbody tr th:only-of-type {\n",
       "        vertical-align: middle;\n",
       "    }\n",
       "\n",
       "    .dataframe tbody tr th {\n",
       "        vertical-align: top;\n",
       "    }\n",
       "\n",
       "    .dataframe thead th {\n",
       "        text-align: right;\n",
       "    }\n",
       "</style>\n",
       "<table border=\"1\" class=\"dataframe\">\n",
       "  <thead>\n",
       "    <tr style=\"text-align: right;\">\n",
       "      <th></th>\n",
       "      <th>mean</th>\n",
       "      <th>count</th>\n",
       "      <th>median</th>\n",
       "    </tr>\n",
       "    <tr>\n",
       "      <th>first_day_exposition_year</th>\n",
       "      <th></th>\n",
       "      <th></th>\n",
       "      <th></th>\n",
       "    </tr>\n",
       "  </thead>\n",
       "  <tbody>\n",
       "    <tr>\n",
       "      <td>2014</td>\n",
       "      <td>159558.767857</td>\n",
       "      <td>56</td>\n",
       "      <td>137227.5</td>\n",
       "    </tr>\n",
       "    <tr>\n",
       "      <td>2019</td>\n",
       "      <td>142568.837681</td>\n",
       "      <td>690</td>\n",
       "      <td>125125.0</td>\n",
       "    </tr>\n",
       "    <tr>\n",
       "      <td>2018</td>\n",
       "      <td>130013.715468</td>\n",
       "      <td>1933</td>\n",
       "      <td>116699.0</td>\n",
       "    </tr>\n",
       "    <tr>\n",
       "      <td>2015</td>\n",
       "      <td>135862.269058</td>\n",
       "      <td>446</td>\n",
       "      <td>113599.0</td>\n",
       "    </tr>\n",
       "    <tr>\n",
       "      <td>2017</td>\n",
       "      <td>131016.597763</td>\n",
       "      <td>2056</td>\n",
       "      <td>113235.0</td>\n",
       "    </tr>\n",
       "    <tr>\n",
       "      <td>2016</td>\n",
       "      <td>131914.266836</td>\n",
       "      <td>787</td>\n",
       "      <td>111432.0</td>\n",
       "    </tr>\n",
       "  </tbody>\n",
       "</table>\n",
       "</div>"
      ],
      "text/plain": [
       "                                    mean  count    median\n",
       "first_day_exposition_year                                \n",
       "2014                       159558.767857     56  137227.5\n",
       "2019                       142568.837681    690  125125.0\n",
       "2018                       130013.715468   1933  116699.0\n",
       "2015                       135862.269058    446  113599.0\n",
       "2017                       131016.597763   2056  113235.0\n",
       "2016                       131914.266836    787  111432.0"
      ]
     },
     "execution_count": 65,
     "metadata": {},
     "output_type": "execute_result"
    },
    {
     "data": {
      "image/png": "[encoded data removed]",
      "text/plain": [
       "<Figure size 432x288 with 1 Axes>"
      ]
     },
     "metadata": {
      "needs_background": "light"
     },
     "output_type": "display_data"
    }
   ],
   "source": [
    "center_spb_year_exposition = center_spb.pivot_table(index = 'first_day_exposition_year', values = 'square_meter_price', aggfunc = ['mean', 'count', 'median'])\n",
    "center_spb_year_exposition.columns = ['mean', 'count', 'median']\n",
    "center_spb_year_exposition.plot(y = 'median')\n",
    "\n",
    "center_spb_year_exposition.sort_values('median', ascending = False)"
   ]
  },
  {
   "cell_type": "markdown",
   "metadata": {},
   "source": [
    "Стоимость квартир заметно упала с 2014 по 2015 год и продолжала падать до 2016 года. Но после 2016 цены начали рости"
   ]
  },
  {
   "cell_type": "markdown",
   "metadata": {},
   "source": [
    "## Общий вывод"
   ]
  },
  {
   "cell_type": "markdown",
   "metadata": {},
   "source": [
    "Мы получили данные и подготовили их для анализа. А именно - мы заполнили пропуски в данных, заменил форматы некоторых данных на более удобные для анализа, расчитали из полученных данных стоимость квадратного метра квартир, получили категории по этажам квартир, выделили из дат подачи объявлений дни недели, месяцы и года, расчитали соотношение жилой и общей площади, а также отношение площади кухни к общей, далее добавили наши расчеты в таблицу с данными. Провели исследовательский анализ данных. А именно:\n",
    "- Изучили следующие параметры: площадь, цена, число комнат, высота потолков\n",
    "- Изучили время продажи квартиры\n",
    "- Выяснили какие факторы больше всего влияют на стоимость квартиры, изучили, зависит ли цена от площади, числа комнат, удалённости от центра\n",
    "- Изучили зависимость цены от того, на каком этаже расположена квартира: первом, последнем или другом\n",
    "- Изучили зависимость отдаты размещения: дня недели, месяца и года\n",
    "- Выбрали 10 населённых пунктов с наибольшим числом объявлений. Посчитали среднюю цену квадратного метра в этих населённых пунктах. Выделили населённые пункты с самой высокой и низкой стоимостью жилья\n",
    "- Изучили предложения квартир на предмет расстоянии до центра. Выделили квартиры в Санкт-Петербурге\n",
    "- Выделили сегмент квартир в центре. Проанализировали эту территорию и изучили зависимость следующих параметров на стоимость квартир:число комнат, этаж, удалённость от центра, дата размещения объявления.\n",
    "Исходя из проделанной нами работы мы можем сделать следующие выводы:\n",
    "- продолжительность продажи квартиры варьируется в среднем от 1 до 230 дней\n",
    "- стоимость квартиры напрямую зависит от площади квартиры\n",
    "- количество комнат не сильно влияет на стоимость. Тогда квартиры на первом этаже дешевле квартир на последних и других этажах\n",
    "- стоимость квартир в разные дни недели и разные месяцы месяцы отличаются заметно, тогда стоимость квартир плавно меняется год от года\n",
    "- большее количество и большая стоимость продоваемых квартир в городе Санкт-Петербург\n",
    "- стоимость квартир зависит от удаленности от центра города."
   ]
  }
 ],
 "metadata": {
  "ExecuteTimeLog": [
   {
    "duration": 520,
    "start_time": "2022-03-29T07:28:30.037Z"
   },
   {
    "duration": 94,
    "start_time": "2022-03-29T07:29:02.878Z"
   },
   {
    "duration": 469,
    "start_time": "2022-03-29T09:07:32.433Z"
   },
   {
    "duration": 76,
    "start_time": "2022-03-29T09:17:54.693Z"
   },
   {
    "duration": 8,
    "start_time": "2022-03-29T09:41:02.980Z"
   },
   {
    "duration": 13,
    "start_time": "2022-03-29T09:42:17.077Z"
   },
   {
    "duration": 8,
    "start_time": "2022-03-29T09:42:32.161Z"
   },
   {
    "duration": 5,
    "start_time": "2022-03-29T09:42:56.907Z"
   },
   {
    "duration": 7,
    "start_time": "2022-03-29T09:43:21.577Z"
   },
   {
    "duration": 159,
    "start_time": "2022-03-29T09:45:18.065Z"
   },
   {
    "duration": 11,
    "start_time": "2022-03-29T09:45:22.936Z"
   },
   {
    "duration": 591,
    "start_time": "2022-03-29T09:49:07.943Z"
   },
   {
    "duration": 146,
    "start_time": "2022-03-29T09:49:43.661Z"
   },
   {
    "duration": 143,
    "start_time": "2022-03-29T09:49:55.577Z"
   },
   {
    "duration": 170,
    "start_time": "2022-03-29T09:50:18.651Z"
   },
   {
    "duration": 340,
    "start_time": "2022-03-29T09:50:25.229Z"
   },
   {
    "duration": 73,
    "start_time": "2022-03-29T09:51:29.354Z"
   },
   {
    "duration": 40,
    "start_time": "2022-03-29T09:51:47.236Z"
   },
   {
    "duration": 7,
    "start_time": "2022-03-29T09:54:59.741Z"
   },
   {
    "duration": 8,
    "start_time": "2022-03-29T09:55:26.860Z"
   },
   {
    "duration": 8,
    "start_time": "2022-03-29T09:55:44.251Z"
   },
   {
    "duration": 111,
    "start_time": "2022-03-31T04:38:31.250Z"
   },
   {
    "duration": 66,
    "start_time": "2022-03-31T04:38:34.408Z"
   },
   {
    "duration": 603,
    "start_time": "2022-03-31T04:38:41.613Z"
   },
   {
    "duration": 21,
    "start_time": "2022-03-31T04:38:45.899Z"
   },
   {
    "duration": 11,
    "start_time": "2022-03-31T04:38:47.216Z"
   },
   {
    "duration": 16,
    "start_time": "2022-03-31T04:38:55.132Z"
   },
   {
    "duration": 45,
    "start_time": "2022-03-31T04:41:14.958Z"
   },
   {
    "duration": 33,
    "start_time": "2022-03-31T04:41:27.924Z"
   },
   {
    "duration": 13,
    "start_time": "2022-03-31T05:59:04.048Z"
   },
   {
    "duration": 912,
    "start_time": "2022-03-31T06:06:02.218Z"
   },
   {
    "duration": 12,
    "start_time": "2022-03-31T06:09:53.107Z"
   },
   {
    "duration": 255,
    "start_time": "2022-03-31T06:10:35.808Z"
   },
   {
    "duration": 268,
    "start_time": "2022-03-31T06:10:51.813Z"
   },
   {
    "duration": 318,
    "start_time": "2022-03-31T06:11:03.212Z"
   },
   {
    "duration": 12,
    "start_time": "2022-03-31T06:11:36.769Z"
   },
   {
    "duration": 13,
    "start_time": "2022-03-31T06:12:33.137Z"
   },
   {
    "duration": 32,
    "start_time": "2022-03-31T06:24:17.814Z"
   },
   {
    "duration": 31,
    "start_time": "2022-03-31T06:24:45.492Z"
   },
   {
    "duration": 30,
    "start_time": "2022-03-31T06:25:17.911Z"
   },
   {
    "duration": 26,
    "start_time": "2022-03-31T06:40:42.742Z"
   },
   {
    "duration": 71,
    "start_time": "2022-03-31T06:53:36.663Z"
   },
   {
    "duration": 653,
    "start_time": "2022-03-31T06:53:44.370Z"
   },
   {
    "duration": 40,
    "start_time": "2022-03-31T06:54:10.520Z"
   },
   {
    "duration": 13,
    "start_time": "2022-03-31T06:54:12.409Z"
   },
   {
    "duration": 16,
    "start_time": "2022-03-31T06:54:13.734Z"
   },
   {
    "duration": 13,
    "start_time": "2022-03-31T06:54:15.378Z"
   },
   {
    "duration": 615,
    "start_time": "2022-03-31T06:54:17.470Z"
   },
   {
    "duration": 244,
    "start_time": "2022-03-31T06:54:43.966Z"
   },
   {
    "duration": 248,
    "start_time": "2022-03-31T06:54:53.840Z"
   },
   {
    "duration": 31,
    "start_time": "2022-03-31T06:56:20.113Z"
   },
   {
    "duration": 31,
    "start_time": "2022-03-31T06:56:36.119Z"
   },
   {
    "duration": 42,
    "start_time": "2022-03-31T06:56:55.892Z"
   },
   {
    "duration": 76,
    "start_time": "2022-03-31T07:03:31.464Z"
   },
   {
    "duration": 58,
    "start_time": "2022-03-31T07:04:00.472Z"
   },
   {
    "duration": 7,
    "start_time": "2022-03-31T07:04:28.242Z"
   },
   {
    "duration": 13,
    "start_time": "2022-03-31T07:04:55.360Z"
   },
   {
    "duration": 50,
    "start_time": "2022-03-31T07:05:21.738Z"
   },
   {
    "duration": 12,
    "start_time": "2022-03-31T07:05:53.075Z"
   },
   {
    "duration": 15,
    "start_time": "2022-03-31T07:13:40.850Z"
   },
   {
    "duration": 25,
    "start_time": "2022-03-31T07:15:45.871Z"
   },
   {
    "duration": 122,
    "start_time": "2022-03-31T07:16:24.895Z"
   },
   {
    "duration": 139,
    "start_time": "2022-03-31T07:16:40.028Z"
   },
   {
    "duration": 122,
    "start_time": "2022-03-31T07:16:53.819Z"
   },
   {
    "duration": 33,
    "start_time": "2022-03-31T07:16:56.845Z"
   },
   {
    "duration": 12,
    "start_time": "2022-03-31T07:16:57.914Z"
   },
   {
    "duration": 14,
    "start_time": "2022-03-31T07:16:59.172Z"
   },
   {
    "duration": 17,
    "start_time": "2022-03-31T07:17:01.129Z"
   },
   {
    "duration": 242,
    "start_time": "2022-03-31T07:17:03.192Z"
   },
   {
    "duration": 14,
    "start_time": "2022-03-31T07:22:33.118Z"
   },
   {
    "duration": 13,
    "start_time": "2022-03-31T07:22:48.528Z"
   },
   {
    "duration": 118,
    "start_time": "2022-03-31T07:22:54.230Z"
   },
   {
    "duration": 34,
    "start_time": "2022-03-31T07:22:57.416Z"
   },
   {
    "duration": 13,
    "start_time": "2022-03-31T07:22:58.654Z"
   },
   {
    "duration": 14,
    "start_time": "2022-03-31T07:22:59.850Z"
   },
   {
    "duration": 12,
    "start_time": "2022-03-31T07:23:06.430Z"
   },
   {
    "duration": 318,
    "start_time": "2022-03-31T07:23:08.926Z"
   },
   {
    "duration": 14,
    "start_time": "2022-03-31T07:23:11.365Z"
   },
   {
    "duration": 13,
    "start_time": "2022-03-31T07:23:25.528Z"
   },
   {
    "duration": 117,
    "start_time": "2022-03-31T07:23:46.508Z"
   },
   {
    "duration": 33,
    "start_time": "2022-03-31T07:23:49.518Z"
   },
   {
    "duration": 12,
    "start_time": "2022-03-31T07:23:50.667Z"
   },
   {
    "duration": 13,
    "start_time": "2022-03-31T07:23:52.450Z"
   },
   {
    "duration": 14,
    "start_time": "2022-03-31T07:23:53.773Z"
   },
   {
    "duration": 245,
    "start_time": "2022-03-31T07:23:55.320Z"
   },
   {
    "duration": 12,
    "start_time": "2022-03-31T07:23:57.415Z"
   },
   {
    "duration": 126,
    "start_time": "2022-03-31T07:24:17.909Z"
   },
   {
    "duration": 35,
    "start_time": "2022-03-31T07:24:21.441Z"
   },
   {
    "duration": 14,
    "start_time": "2022-03-31T07:24:22.459Z"
   },
   {
    "duration": 13,
    "start_time": "2022-03-31T07:24:24.168Z"
   },
   {
    "duration": 14,
    "start_time": "2022-03-31T07:24:26.484Z"
   },
   {
    "duration": 247,
    "start_time": "2022-03-31T07:24:28.180Z"
   },
   {
    "duration": 13,
    "start_time": "2022-03-31T07:24:48.227Z"
   },
   {
    "duration": 53,
    "start_time": "2022-03-31T07:27:30.196Z"
   },
   {
    "duration": 27,
    "start_time": "2022-03-31T07:27:40.213Z"
   },
   {
    "duration": 114,
    "start_time": "2022-03-31T07:27:45.086Z"
   },
   {
    "duration": 33,
    "start_time": "2022-03-31T07:27:47.734Z"
   },
   {
    "duration": 12,
    "start_time": "2022-03-31T07:27:49.766Z"
   },
   {
    "duration": 13,
    "start_time": "2022-03-31T07:27:51.568Z"
   },
   {
    "duration": 11,
    "start_time": "2022-03-31T07:27:54.367Z"
   },
   {
    "duration": 257,
    "start_time": "2022-03-31T07:27:56.649Z"
   },
   {
    "duration": 13,
    "start_time": "2022-03-31T07:29:06.221Z"
   },
   {
    "duration": 99,
    "start_time": "2022-03-31T07:29:19.212Z"
   },
   {
    "duration": 13,
    "start_time": "2022-03-31T07:29:26.023Z"
   },
   {
    "duration": 13,
    "start_time": "2022-03-31T07:30:37.521Z"
   },
   {
    "duration": 8,
    "start_time": "2022-03-31T07:52:15.123Z"
   },
   {
    "duration": 11,
    "start_time": "2022-03-31T07:52:19.076Z"
   },
   {
    "duration": 12,
    "start_time": "2022-03-31T07:53:06.619Z"
   },
   {
    "duration": 26,
    "start_time": "2022-03-31T07:53:24.465Z"
   },
   {
    "duration": 8,
    "start_time": "2022-03-31T07:56:18.368Z"
   },
   {
    "duration": 14,
    "start_time": "2022-03-31T07:56:58.216Z"
   },
   {
    "duration": 14,
    "start_time": "2022-03-31T07:57:31.764Z"
   },
   {
    "duration": 10,
    "start_time": "2022-03-31T08:16:02.579Z"
   },
   {
    "duration": 60,
    "start_time": "2022-03-31T08:16:13.701Z"
   },
   {
    "duration": 154,
    "start_time": "2022-03-31T08:36:39.920Z"
   },
   {
    "duration": 14,
    "start_time": "2022-03-31T08:36:56.089Z"
   },
   {
    "duration": 13,
    "start_time": "2022-03-31T08:37:04.642Z"
   },
   {
    "duration": 14,
    "start_time": "2022-03-31T08:37:39.654Z"
   },
   {
    "duration": 13,
    "start_time": "2022-03-31T08:54:53.365Z"
   },
   {
    "duration": 12,
    "start_time": "2022-03-31T08:55:03.005Z"
   },
   {
    "duration": 9,
    "start_time": "2022-03-31T09:01:37.777Z"
   },
   {
    "duration": 8,
    "start_time": "2022-03-31T09:02:00.952Z"
   },
   {
    "duration": 8,
    "start_time": "2022-03-31T09:02:11.757Z"
   },
   {
    "duration": 8,
    "start_time": "2022-03-31T09:02:24.996Z"
   },
   {
    "duration": 7,
    "start_time": "2022-03-31T09:02:33.672Z"
   },
   {
    "duration": 257,
    "start_time": "2022-03-31T09:19:56.524Z"
   },
   {
    "duration": 377,
    "start_time": "2022-03-31T09:20:14.667Z"
   },
   {
    "duration": 252,
    "start_time": "2022-03-31T09:20:24.660Z"
   },
   {
    "duration": 116,
    "start_time": "2022-03-31T09:20:49.495Z"
   },
   {
    "duration": 36,
    "start_time": "2022-03-31T09:20:52.943Z"
   },
   {
    "duration": 12,
    "start_time": "2022-03-31T09:20:55.032Z"
   },
   {
    "duration": 68,
    "start_time": "2022-03-31T09:33:50.177Z"
   },
   {
    "duration": 17,
    "start_time": "2022-03-31T09:34:08.718Z"
   },
   {
    "duration": 487,
    "start_time": "2022-04-01T05:05:57.631Z"
   },
   {
    "duration": 28,
    "start_time": "2022-04-01T05:06:01.309Z"
   },
   {
    "duration": 10,
    "start_time": "2022-04-01T05:06:03.994Z"
   },
   {
    "duration": 10,
    "start_time": "2022-04-01T05:06:06.029Z"
   },
   {
    "duration": 603,
    "start_time": "2022-04-01T05:06:08.962Z"
   },
   {
    "duration": 10,
    "start_time": "2022-04-01T05:06:12.947Z"
   },
   {
    "duration": 7,
    "start_time": "2022-04-01T05:57:32.551Z"
   },
   {
    "duration": 8,
    "start_time": "2022-04-01T05:58:21.651Z"
   },
   {
    "duration": 9,
    "start_time": "2022-04-01T05:58:29.241Z"
   },
   {
    "duration": 3,
    "start_time": "2022-04-01T06:04:22.162Z"
   },
   {
    "duration": 16,
    "start_time": "2022-04-01T06:05:01.264Z"
   },
   {
    "duration": 10,
    "start_time": "2022-04-01T06:06:23.454Z"
   },
   {
    "duration": 68,
    "start_time": "2022-04-01T06:12:06.160Z"
   },
   {
    "duration": 72,
    "start_time": "2022-04-01T06:12:27.231Z"
   },
   {
    "duration": 79,
    "start_time": "2022-04-01T06:12:44.267Z"
   },
   {
    "duration": 70,
    "start_time": "2022-04-01T06:13:36.032Z"
   },
   {
    "duration": 89,
    "start_time": "2022-04-01T06:14:07.948Z"
   },
   {
    "duration": 90,
    "start_time": "2022-04-01T06:14:33.659Z"
   },
   {
    "duration": 23,
    "start_time": "2022-04-01T06:14:45.969Z"
   },
   {
    "duration": 10,
    "start_time": "2022-04-01T06:15:17.324Z"
   },
   {
    "duration": 12,
    "start_time": "2022-04-01T06:15:19.156Z"
   },
   {
    "duration": 171,
    "start_time": "2022-04-01T06:15:21.644Z"
   },
   {
    "duration": 9,
    "start_time": "2022-04-01T06:15:24.342Z"
   },
   {
    "duration": 71,
    "start_time": "2022-04-01T06:15:29.790Z"
   },
   {
    "duration": 41,
    "start_time": "2022-04-01T06:15:37.973Z"
   },
   {
    "duration": 40,
    "start_time": "2022-04-01T06:15:50.806Z"
   },
   {
    "duration": 41,
    "start_time": "2022-04-01T06:16:10.061Z"
   },
   {
    "duration": 38,
    "start_time": "2022-04-01T06:16:39.492Z"
   },
   {
    "duration": 26,
    "start_time": "2022-04-01T06:16:46.883Z"
   },
   {
    "duration": 30,
    "start_time": "2022-04-01T06:17:32.372Z"
   },
   {
    "duration": 34,
    "start_time": "2022-04-01T06:17:46.800Z"
   },
   {
    "duration": 38,
    "start_time": "2022-04-01T06:18:45.034Z"
   },
   {
    "duration": 31,
    "start_time": "2022-04-01T06:19:06.120Z"
   },
   {
    "duration": 30,
    "start_time": "2022-04-01T06:39:58.588Z"
   },
   {
    "duration": 92,
    "start_time": "2022-04-01T06:50:11.079Z"
   },
   {
    "duration": 21,
    "start_time": "2022-04-01T06:50:24.318Z"
   },
   {
    "duration": 19,
    "start_time": "2022-04-01T06:51:41.228Z"
   },
   {
    "duration": 4,
    "start_time": "2022-04-01T06:52:30.803Z"
   },
   {
    "duration": 33,
    "start_time": "2022-04-01T06:55:51.970Z"
   },
   {
    "duration": 23,
    "start_time": "2022-04-01T06:58:52.850Z"
   },
   {
    "duration": 8,
    "start_time": "2022-04-01T07:08:31.145Z"
   },
   {
    "duration": 9,
    "start_time": "2022-04-01T07:09:15.792Z"
   },
   {
    "duration": 62,
    "start_time": "2022-04-01T07:09:56.860Z"
   },
   {
    "duration": 53,
    "start_time": "2022-04-01T07:10:16.176Z"
   },
   {
    "duration": 55,
    "start_time": "2022-04-01T07:10:27.936Z"
   },
   {
    "duration": 54,
    "start_time": "2022-04-01T07:10:46.506Z"
   },
   {
    "duration": 5,
    "start_time": "2022-04-01T07:18:13.261Z"
   },
   {
    "duration": 9,
    "start_time": "2022-04-01T07:18:50.888Z"
   },
   {
    "duration": 11,
    "start_time": "2022-04-01T07:18:58.447Z"
   },
   {
    "duration": 4,
    "start_time": "2022-04-01T07:19:31.090Z"
   },
   {
    "duration": 11,
    "start_time": "2022-04-01T07:19:33.289Z"
   },
   {
    "duration": 31,
    "start_time": "2022-04-01T07:29:55.772Z"
   },
   {
    "duration": 13,
    "start_time": "2022-04-01T07:30:51.253Z"
   },
   {
    "duration": 90,
    "start_time": "2022-04-01T07:31:29.163Z"
   },
   {
    "duration": 24,
    "start_time": "2022-04-01T07:31:34.728Z"
   },
   {
    "duration": 10,
    "start_time": "2022-04-01T07:31:36.172Z"
   },
   {
    "duration": 55,
    "start_time": "2022-04-01T07:31:38.334Z"
   },
   {
    "duration": 158,
    "start_time": "2022-04-01T07:31:52.270Z"
   },
   {
    "duration": 5,
    "start_time": "2022-04-01T07:31:55.177Z"
   },
   {
    "duration": 11,
    "start_time": "2022-04-01T07:31:57.992Z"
   },
   {
    "duration": 8,
    "start_time": "2022-04-01T07:32:00.186Z"
   },
   {
    "duration": 215,
    "start_time": "2022-04-01T07:33:10.842Z"
   },
   {
    "duration": 154,
    "start_time": "2022-04-01T07:33:19.624Z"
   },
   {
    "duration": 154,
    "start_time": "2022-04-01T07:33:36.244Z"
   },
   {
    "duration": 5,
    "start_time": "2022-04-01T07:38:27.498Z"
   },
   {
    "duration": 4,
    "start_time": "2022-04-01T07:38:40.965Z"
   },
   {
    "duration": 5,
    "start_time": "2022-04-01T07:40:05.425Z"
   },
   {
    "duration": 90,
    "start_time": "2022-04-01T07:40:19.582Z"
   },
   {
    "duration": 90,
    "start_time": "2022-04-01T07:40:31.182Z"
   },
   {
    "duration": 5,
    "start_time": "2022-04-01T07:40:36.577Z"
   },
   {
    "duration": 4,
    "start_time": "2022-04-01T07:40:52.685Z"
   },
   {
    "duration": 11,
    "start_time": "2022-04-01T07:49:57.374Z"
   },
   {
    "duration": 8,
    "start_time": "2022-04-01T07:54:49.437Z"
   },
   {
    "duration": 8,
    "start_time": "2022-04-01T07:55:19.522Z"
   },
   {
    "duration": 152,
    "start_time": "2022-04-01T07:57:49.015Z"
   },
   {
    "duration": 159,
    "start_time": "2022-04-01T07:58:03.160Z"
   },
   {
    "duration": 172,
    "start_time": "2022-04-01T07:58:10.417Z"
   },
   {
    "duration": 9,
    "start_time": "2022-04-01T08:01:43.572Z"
   },
   {
    "duration": 146,
    "start_time": "2022-04-01T08:02:34.733Z"
   },
   {
    "duration": 6,
    "start_time": "2022-04-01T08:05:11.842Z"
   },
   {
    "duration": 6,
    "start_time": "2022-04-01T08:05:39.701Z"
   },
   {
    "duration": 6,
    "start_time": "2022-04-01T08:06:51.201Z"
   },
   {
    "duration": 163,
    "start_time": "2022-04-01T08:07:52.271Z"
   },
   {
    "duration": 12,
    "start_time": "2022-04-01T08:18:03.973Z"
   },
   {
    "duration": 15,
    "start_time": "2022-04-01T08:19:44.247Z"
   },
   {
    "duration": 9,
    "start_time": "2022-04-01T13:42:39.300Z"
   },
   {
    "duration": 1003,
    "start_time": "2022-04-01T13:46:42.673Z"
   },
   {
    "duration": 8,
    "start_time": "2022-04-01T13:47:20.878Z"
   },
   {
    "duration": 4,
    "start_time": "2022-04-01T13:53:49.644Z"
   },
   {
    "duration": 127,
    "start_time": "2022-04-01T13:54:26.626Z"
   },
   {
    "duration": 35,
    "start_time": "2022-04-01T13:54:29.859Z"
   },
   {
    "duration": 12,
    "start_time": "2022-04-01T13:54:31.753Z"
   },
   {
    "duration": 55,
    "start_time": "2022-04-01T13:54:34.476Z"
   },
   {
    "duration": 181,
    "start_time": "2022-04-01T13:54:37.006Z"
   },
   {
    "duration": 4,
    "start_time": "2022-04-01T13:54:39.325Z"
   },
   {
    "duration": 10,
    "start_time": "2022-04-01T13:54:40.800Z"
   },
   {
    "duration": 161,
    "start_time": "2022-04-01T13:54:42.986Z"
   },
   {
    "duration": 8,
    "start_time": "2022-04-01T13:54:45.662Z"
   },
   {
    "duration": 8,
    "start_time": "2022-04-01T13:54:49.718Z"
   },
   {
    "duration": 166,
    "start_time": "2022-04-01T13:54:51.261Z"
   },
   {
    "duration": 8,
    "start_time": "2022-04-01T13:54:55.700Z"
   },
   {
    "duration": 218,
    "start_time": "2022-04-01T13:54:58.715Z"
   },
   {
    "duration": 7,
    "start_time": "2022-04-01T13:55:01.323Z"
   },
   {
    "duration": 166,
    "start_time": "2022-04-01T13:55:03.612Z"
   },
   {
    "duration": 10,
    "start_time": "2022-04-01T13:55:06.682Z"
   },
   {
    "duration": 5,
    "start_time": "2022-04-01T13:59:05.247Z"
   },
   {
    "duration": 4,
    "start_time": "2022-04-01T13:59:22.459Z"
   },
   {
    "duration": 154,
    "start_time": "2022-04-01T14:00:02.185Z"
   },
   {
    "duration": 1001,
    "start_time": "2022-04-01T14:02:13.958Z"
   },
   {
    "duration": 5,
    "start_time": "2022-04-01T14:03:11.511Z"
   },
   {
    "duration": 5,
    "start_time": "2022-04-01T14:03:13.657Z"
   },
   {
    "duration": 163,
    "start_time": "2022-04-01T14:03:15.398Z"
   },
   {
    "duration": 4,
    "start_time": "2022-04-01T14:03:19.277Z"
   },
   {
    "duration": 5,
    "start_time": "2022-04-01T14:03:20.519Z"
   },
   {
    "duration": 156,
    "start_time": "2022-04-01T14:03:22.077Z"
   },
   {
    "duration": 8,
    "start_time": "2022-04-01T14:09:24.897Z"
   },
   {
    "duration": 5,
    "start_time": "2022-04-01T14:10:31.068Z"
   },
   {
    "duration": 157,
    "start_time": "2022-04-01T14:10:33.372Z"
   },
   {
    "duration": 93,
    "start_time": "2022-04-01T14:10:41.253Z"
   },
   {
    "duration": 24,
    "start_time": "2022-04-01T14:10:45.065Z"
   },
   {
    "duration": 10,
    "start_time": "2022-04-01T14:10:46.977Z"
   },
   {
    "duration": 54,
    "start_time": "2022-04-01T14:10:49.075Z"
   },
   {
    "duration": 148,
    "start_time": "2022-04-01T14:10:51.317Z"
   },
   {
    "duration": 6,
    "start_time": "2022-04-01T14:10:54.205Z"
   },
   {
    "duration": 10,
    "start_time": "2022-04-01T14:10:59.385Z"
   },
   {
    "duration": 156,
    "start_time": "2022-04-01T14:11:02.287Z"
   },
   {
    "duration": 8,
    "start_time": "2022-04-01T14:11:06.144Z"
   },
   {
    "duration": 9,
    "start_time": "2022-04-01T14:11:08.424Z"
   },
   {
    "duration": 172,
    "start_time": "2022-04-01T14:11:17.789Z"
   },
   {
    "duration": 10,
    "start_time": "2022-04-01T14:11:20.342Z"
   },
   {
    "duration": 146,
    "start_time": "2022-04-01T14:11:22.358Z"
   },
   {
    "duration": 6,
    "start_time": "2022-04-01T14:11:25.821Z"
   },
   {
    "duration": 153,
    "start_time": "2022-04-01T14:11:27.647Z"
   },
   {
    "duration": 13,
    "start_time": "2022-04-01T14:11:30.450Z"
   },
   {
    "duration": 5,
    "start_time": "2022-04-01T14:11:32.565Z"
   },
   {
    "duration": 5,
    "start_time": "2022-04-01T14:11:34.094Z"
   },
   {
    "duration": 244,
    "start_time": "2022-04-01T14:11:36.364Z"
   },
   {
    "duration": 5,
    "start_time": "2022-04-01T14:11:39.987Z"
   },
   {
    "duration": 5,
    "start_time": "2022-04-01T14:11:41.179Z"
   },
   {
    "duration": 147,
    "start_time": "2022-04-01T14:11:42.600Z"
   },
   {
    "duration": 9,
    "start_time": "2022-04-01T14:11:45.444Z"
   },
   {
    "duration": 4,
    "start_time": "2022-04-01T14:15:56.660Z"
   },
   {
    "duration": 72,
    "start_time": "2022-04-01T14:22:20.489Z"
   },
   {
    "duration": 9,
    "start_time": "2022-04-01T14:24:07.744Z"
   },
   {
    "duration": 10,
    "start_time": "2022-04-01T14:25:11.582Z"
   },
   {
    "duration": 10,
    "start_time": "2022-04-01T14:25:33.315Z"
   },
   {
    "duration": 11,
    "start_time": "2022-04-01T14:25:57.926Z"
   },
   {
    "duration": 9,
    "start_time": "2022-04-01T14:31:25.076Z"
   },
   {
    "duration": 494,
    "start_time": "2022-04-01T14:32:40.431Z"
   },
   {
    "duration": 21,
    "start_time": "2022-04-01T14:32:43.992Z"
   },
   {
    "duration": 9,
    "start_time": "2022-04-01T14:32:46.332Z"
   },
   {
    "duration": 55,
    "start_time": "2022-04-01T14:32:48.271Z"
   },
   {
    "duration": 144,
    "start_time": "2022-04-01T14:32:51.050Z"
   },
   {
    "duration": 5,
    "start_time": "2022-04-01T14:32:52.949Z"
   },
   {
    "duration": 8,
    "start_time": "2022-04-01T14:32:54.304Z"
   },
   {
    "duration": 150,
    "start_time": "2022-04-01T14:32:55.786Z"
   },
   {
    "duration": 8,
    "start_time": "2022-04-01T14:32:58.266Z"
   },
   {
    "duration": 8,
    "start_time": "2022-04-01T14:33:00.796Z"
   },
   {
    "duration": 172,
    "start_time": "2022-04-01T14:33:02.472Z"
   },
   {
    "duration": 9,
    "start_time": "2022-04-01T14:33:05.855Z"
   },
   {
    "duration": 139,
    "start_time": "2022-04-01T14:33:07.683Z"
   },
   {
    "duration": 6,
    "start_time": "2022-04-01T14:33:10.160Z"
   },
   {
    "duration": 271,
    "start_time": "2022-04-01T14:33:11.717Z"
   },
   {
    "duration": 10,
    "start_time": "2022-04-01T14:33:14.028Z"
   },
   {
    "duration": 5,
    "start_time": "2022-04-01T14:33:16.334Z"
   },
   {
    "duration": 5,
    "start_time": "2022-04-01T14:33:18.606Z"
   },
   {
    "duration": 155,
    "start_time": "2022-04-01T14:33:20.158Z"
   },
   {
    "duration": 5,
    "start_time": "2022-04-01T14:33:22.680Z"
   },
   {
    "duration": 4,
    "start_time": "2022-04-01T14:33:23.957Z"
   },
   {
    "duration": 145,
    "start_time": "2022-04-01T14:33:25.252Z"
   },
   {
    "duration": 9,
    "start_time": "2022-04-01T14:33:28.517Z"
   },
   {
    "duration": 11,
    "start_time": "2022-04-01T14:33:37.392Z"
   },
   {
    "duration": 36,
    "start_time": "2022-04-01T14:33:40.396Z"
   },
   {
    "duration": 30,
    "start_time": "2022-04-01T14:35:11.473Z"
   },
   {
    "duration": 29,
    "start_time": "2022-04-01T14:35:23.186Z"
   },
   {
    "duration": 34,
    "start_time": "2022-04-01T14:36:03.113Z"
   },
   {
    "duration": 3,
    "start_time": "2022-04-01T14:37:11.742Z"
   },
   {
    "duration": 8,
    "start_time": "2022-04-01T14:38:00.793Z"
   },
   {
    "duration": 10,
    "start_time": "2022-04-01T14:46:44.494Z"
   },
   {
    "duration": 4,
    "start_time": "2022-04-01T14:47:18.897Z"
   },
   {
    "duration": 1228,
    "start_time": "2022-04-01T14:47:21.015Z"
   },
   {
    "duration": 4,
    "start_time": "2022-04-01T14:47:40.250Z"
   },
   {
    "duration": 1176,
    "start_time": "2022-04-01T14:47:42.733Z"
   },
   {
    "duration": 4,
    "start_time": "2022-04-01T14:48:02.020Z"
   },
   {
    "duration": 396,
    "start_time": "2022-04-01T14:48:03.799Z"
   },
   {
    "duration": 1095,
    "start_time": "2022-04-01T14:54:04.340Z"
   },
   {
    "duration": 32,
    "start_time": "2022-04-01T14:54:18.633Z"
   },
   {
    "duration": 1934,
    "start_time": "2022-04-02T07:16:00.632Z"
   },
   {
    "duration": 49,
    "start_time": "2022-04-02T07:16:06.664Z"
   },
   {
    "duration": 14,
    "start_time": "2022-04-02T07:16:08.397Z"
   },
   {
    "duration": 86,
    "start_time": "2022-04-02T07:16:10.561Z"
   },
   {
    "duration": 272,
    "start_time": "2022-04-02T07:16:13.365Z"
   },
   {
    "duration": 7,
    "start_time": "2022-04-02T07:16:15.501Z"
   },
   {
    "duration": 15,
    "start_time": "2022-04-02T07:16:17.618Z"
   },
   {
    "duration": 238,
    "start_time": "2022-04-02T07:16:19.228Z"
   },
   {
    "duration": 10,
    "start_time": "2022-04-02T07:16:22.307Z"
   },
   {
    "duration": 19,
    "start_time": "2022-04-02T07:16:24.894Z"
   },
   {
    "duration": 269,
    "start_time": "2022-04-02T07:16:26.733Z"
   },
   {
    "duration": 14,
    "start_time": "2022-04-02T07:16:30.299Z"
   },
   {
    "duration": 231,
    "start_time": "2022-04-02T07:16:32.912Z"
   },
   {
    "duration": 8,
    "start_time": "2022-04-02T07:16:36.571Z"
   },
   {
    "duration": 246,
    "start_time": "2022-04-02T07:16:38.546Z"
   },
   {
    "duration": 18,
    "start_time": "2022-04-02T07:16:41.774Z"
   },
   {
    "duration": 8,
    "start_time": "2022-04-02T07:16:43.954Z"
   },
   {
    "duration": 6,
    "start_time": "2022-04-02T07:16:48.034Z"
   },
   {
    "duration": 273,
    "start_time": "2022-04-02T07:16:50.424Z"
   },
   {
    "duration": 8,
    "start_time": "2022-04-02T07:16:53.407Z"
   },
   {
    "duration": 6,
    "start_time": "2022-04-02T07:16:55.760Z"
   },
   {
    "duration": 259,
    "start_time": "2022-04-02T07:16:57.351Z"
   },
   {
    "duration": 12,
    "start_time": "2022-04-02T07:17:00.344Z"
   },
   {
    "duration": 18,
    "start_time": "2022-04-02T07:17:19.534Z"
   },
   {
    "duration": 44,
    "start_time": "2022-04-02T07:17:22.804Z"
   },
   {
    "duration": 6,
    "start_time": "2022-04-02T07:17:26.209Z"
   },
   {
    "duration": 756,
    "start_time": "2022-04-02T07:17:27.751Z"
   },
   {
    "duration": 34,
    "start_time": "2022-04-02T07:17:32.828Z"
   },
   {
    "duration": 155,
    "start_time": "2022-04-02T07:25:44.613Z"
   },
   {
    "duration": 269,
    "start_time": "2022-04-02T07:29:19.607Z"
   },
   {
    "duration": 307,
    "start_time": "2022-04-02T07:30:31.909Z"
   },
   {
    "duration": 148,
    "start_time": "2022-04-02T07:30:45.986Z"
   },
   {
    "duration": 274,
    "start_time": "2022-04-02T07:31:09.528Z"
   },
   {
    "duration": 285,
    "start_time": "2022-04-02T07:34:00.956Z"
   },
   {
    "duration": 14,
    "start_time": "2022-04-02T07:35:50.157Z"
   },
   {
    "duration": 11,
    "start_time": "2022-04-02T07:37:03.213Z"
   },
   {
    "duration": 282,
    "start_time": "2022-04-02T07:38:19.459Z"
   },
   {
    "duration": 329,
    "start_time": "2022-04-02T07:38:45.467Z"
   },
   {
    "duration": 290,
    "start_time": "2022-04-02T07:38:50.559Z"
   },
   {
    "duration": 331,
    "start_time": "2022-04-02T07:40:15.319Z"
   },
   {
    "duration": 288,
    "start_time": "2022-04-02T07:40:22.539Z"
   },
   {
    "duration": 9,
    "start_time": "2022-04-02T07:40:52.650Z"
   },
   {
    "duration": 297,
    "start_time": "2022-04-02T07:43:07.342Z"
   },
   {
    "duration": 270,
    "start_time": "2022-04-02T07:43:19.976Z"
   },
   {
    "duration": 381,
    "start_time": "2022-04-02T07:43:32.139Z"
   },
   {
    "duration": 9,
    "start_time": "2022-04-02T07:44:09.760Z"
   },
   {
    "duration": 146,
    "start_time": "2022-04-02T07:46:57.526Z"
   },
   {
    "duration": 275,
    "start_time": "2022-04-02T07:47:15.298Z"
   },
   {
    "duration": 2510,
    "start_time": "2022-04-02T07:56:22.008Z"
   },
   {
    "duration": 23,
    "start_time": "2022-04-02T07:57:11.804Z"
   },
   {
    "duration": 14,
    "start_time": "2022-04-02T07:57:27.215Z"
   },
   {
    "duration": 15,
    "start_time": "2022-04-02T07:57:40.804Z"
   },
   {
    "duration": 14,
    "start_time": "2022-04-02T07:57:49.621Z"
   },
   {
    "duration": 38,
    "start_time": "2022-04-02T07:59:30.030Z"
   },
   {
    "duration": 336,
    "start_time": "2022-04-02T08:00:20.218Z"
   },
   {
    "duration": 24,
    "start_time": "2022-04-02T08:01:11.901Z"
   },
   {
    "duration": 29,
    "start_time": "2022-04-02T08:01:39.970Z"
   },
   {
    "duration": 366,
    "start_time": "2022-04-02T08:02:38.047Z"
   },
   {
    "duration": 367,
    "start_time": "2022-04-02T08:03:01.587Z"
   },
   {
    "duration": 19,
    "start_time": "2022-04-02T08:03:50.136Z"
   },
   {
    "duration": 189,
    "start_time": "2022-04-02T08:04:32.066Z"
   },
   {
    "duration": 2682,
    "start_time": "2022-04-02T08:04:58.161Z"
   },
   {
    "duration": 10,
    "start_time": "2022-04-02T08:07:24.090Z"
   },
   {
    "duration": 8,
    "start_time": "2022-04-02T08:07:49.224Z"
   },
   {
    "duration": 9,
    "start_time": "2022-04-02T08:08:10.140Z"
   },
   {
    "duration": 9,
    "start_time": "2022-04-02T08:08:18.508Z"
   },
   {
    "duration": 121,
    "start_time": "2022-04-02T08:13:12.200Z"
   },
   {
    "duration": 34,
    "start_time": "2022-04-02T08:13:16.200Z"
   },
   {
    "duration": 14,
    "start_time": "2022-04-02T08:13:17.638Z"
   },
   {
    "duration": 92,
    "start_time": "2022-04-02T08:13:22.650Z"
   },
   {
    "duration": 255,
    "start_time": "2022-04-02T08:13:25.252Z"
   },
   {
    "duration": 7,
    "start_time": "2022-04-02T08:13:27.240Z"
   },
   {
    "duration": 36,
    "start_time": "2022-04-02T08:13:28.475Z"
   },
   {
    "duration": 262,
    "start_time": "2022-04-02T08:13:31.708Z"
   },
   {
    "duration": 11,
    "start_time": "2022-04-02T08:13:34.508Z"
   },
   {
    "duration": 12,
    "start_time": "2022-04-02T08:13:37.451Z"
   },
   {
    "duration": 266,
    "start_time": "2022-04-02T08:13:39.400Z"
   },
   {
    "duration": 12,
    "start_time": "2022-04-02T08:13:42.066Z"
   },
   {
    "duration": 240,
    "start_time": "2022-04-02T08:13:43.787Z"
   },
   {
    "duration": 7,
    "start_time": "2022-04-02T08:13:46.557Z"
   },
   {
    "duration": 251,
    "start_time": "2022-04-02T08:13:48.536Z"
   },
   {
    "duration": 28,
    "start_time": "2022-04-02T08:13:51.279Z"
   },
   {
    "duration": 5,
    "start_time": "2022-04-02T08:13:53.365Z"
   },
   {
    "duration": 16,
    "start_time": "2022-04-02T08:13:54.686Z"
   },
   {
    "duration": 264,
    "start_time": "2022-04-02T08:13:56.840Z"
   },
   {
    "duration": 6,
    "start_time": "2022-04-02T08:13:59.677Z"
   },
   {
    "duration": 7,
    "start_time": "2022-04-02T08:14:00.954Z"
   },
   {
    "duration": 252,
    "start_time": "2022-04-02T08:14:02.907Z"
   },
   {
    "duration": 13,
    "start_time": "2022-04-02T08:14:07.427Z"
   },
   {
    "duration": 6,
    "start_time": "2022-04-02T08:16:53.297Z"
   },
   {
    "duration": 11,
    "start_time": "2022-04-02T08:17:28.000Z"
   },
   {
    "duration": 406,
    "start_time": "2022-04-02T08:17:35.646Z"
   },
   {
    "duration": 21,
    "start_time": "2022-04-02T08:17:59.167Z"
   },
   {
    "duration": 49,
    "start_time": "2022-04-02T08:18:01.579Z"
   },
   {
    "duration": 6,
    "start_time": "2022-04-02T08:18:03.875Z"
   },
   {
    "duration": 668,
    "start_time": "2022-04-02T08:18:04.910Z"
   },
   {
    "duration": 39,
    "start_time": "2022-04-02T08:18:07.549Z"
   },
   {
    "duration": 243,
    "start_time": "2022-04-02T08:18:12.525Z"
   },
   {
    "duration": 11,
    "start_time": "2022-04-02T08:18:14.714Z"
   },
   {
    "duration": 251,
    "start_time": "2022-04-02T08:18:18.258Z"
   },
   {
    "duration": 239,
    "start_time": "2022-04-02T08:18:56.608Z"
   },
   {
    "duration": 12,
    "start_time": "2022-04-02T08:19:06.167Z"
   },
   {
    "duration": 242,
    "start_time": "2022-04-02T08:19:33.591Z"
   },
   {
    "duration": 8,
    "start_time": "2022-04-02T08:19:39.232Z"
   },
   {
    "duration": 235,
    "start_time": "2022-04-02T08:20:02.330Z"
   },
   {
    "duration": 10,
    "start_time": "2022-04-02T08:21:47.032Z"
   },
   {
    "duration": 20,
    "start_time": "2022-04-02T08:21:50.820Z"
   },
   {
    "duration": 16,
    "start_time": "2022-04-02T08:21:52.715Z"
   },
   {
    "duration": 212,
    "start_time": "2022-04-02T08:22:04.526Z"
   },
   {
    "duration": 227,
    "start_time": "2022-04-02T08:22:17.915Z"
   },
   {
    "duration": 232,
    "start_time": "2022-04-02T08:22:24.896Z"
   },
   {
    "duration": 10,
    "start_time": "2022-04-02T08:23:20.873Z"
   },
   {
    "duration": 9,
    "start_time": "2022-04-02T08:24:34.603Z"
   },
   {
    "duration": 12,
    "start_time": "2022-04-02T08:24:58.540Z"
   },
   {
    "duration": 10,
    "start_time": "2022-04-02T08:25:17.136Z"
   },
   {
    "duration": 10,
    "start_time": "2022-04-02T08:25:25.024Z"
   },
   {
    "duration": 9,
    "start_time": "2022-04-02T08:25:30.027Z"
   },
   {
    "duration": 10,
    "start_time": "2022-04-02T08:25:33.690Z"
   },
   {
    "duration": 9,
    "start_time": "2022-04-02T08:25:38.880Z"
   },
   {
    "duration": 10,
    "start_time": "2022-04-02T08:25:43.479Z"
   },
   {
    "duration": 10,
    "start_time": "2022-04-02T08:25:49.355Z"
   },
   {
    "duration": 10,
    "start_time": "2022-04-02T08:25:54.699Z"
   },
   {
    "duration": 10,
    "start_time": "2022-04-02T08:25:59.510Z"
   },
   {
    "duration": 9,
    "start_time": "2022-04-02T08:26:03.553Z"
   },
   {
    "duration": 10,
    "start_time": "2022-04-02T08:26:08.681Z"
   },
   {
    "duration": 9,
    "start_time": "2022-04-02T08:26:13.338Z"
   },
   {
    "duration": 10,
    "start_time": "2022-04-02T08:26:17.278Z"
   },
   {
    "duration": 6,
    "start_time": "2022-04-02T08:27:23.709Z"
   },
   {
    "duration": 232,
    "start_time": "2022-04-02T08:27:26.076Z"
   },
   {
    "duration": 10,
    "start_time": "2022-04-02T08:27:41.229Z"
   },
   {
    "duration": 10,
    "start_time": "2022-04-02T08:27:48.547Z"
   },
   {
    "duration": 11,
    "start_time": "2022-04-02T08:27:53.431Z"
   },
   {
    "duration": 11,
    "start_time": "2022-04-02T08:27:57.799Z"
   },
   {
    "duration": 11,
    "start_time": "2022-04-02T08:28:02.023Z"
   },
   {
    "duration": 343,
    "start_time": "2022-04-02T08:29:16.077Z"
   },
   {
    "duration": 109,
    "start_time": "2022-04-02T08:30:20.409Z"
   },
   {
    "duration": 33,
    "start_time": "2022-04-02T08:30:24.834Z"
   },
   {
    "duration": 15,
    "start_time": "2022-04-02T08:30:27.856Z"
   },
   {
    "duration": 76,
    "start_time": "2022-04-02T08:30:29.313Z"
   },
   {
    "duration": 376,
    "start_time": "2022-04-02T08:30:31.652Z"
   },
   {
    "duration": 7,
    "start_time": "2022-04-02T08:30:33.999Z"
   },
   {
    "duration": 14,
    "start_time": "2022-04-02T08:30:36.406Z"
   },
   {
    "duration": 227,
    "start_time": "2022-04-02T08:30:37.722Z"
   },
   {
    "duration": 11,
    "start_time": "2022-04-02T08:30:40.167Z"
   },
   {
    "duration": 11,
    "start_time": "2022-04-02T08:30:42.343Z"
   },
   {
    "duration": 249,
    "start_time": "2022-04-02T08:30:45.007Z"
   },
   {
    "duration": 12,
    "start_time": "2022-04-02T08:30:49.027Z"
   },
   {
    "duration": 213,
    "start_time": "2022-04-02T08:30:51.029Z"
   },
   {
    "duration": 8,
    "start_time": "2022-04-02T08:30:52.881Z"
   },
   {
    "duration": 229,
    "start_time": "2022-04-02T08:30:54.241Z"
   },
   {
    "duration": 18,
    "start_time": "2022-04-02T08:30:56.036Z"
   },
   {
    "duration": 6,
    "start_time": "2022-04-02T08:30:58.894Z"
   },
   {
    "duration": 7,
    "start_time": "2022-04-02T08:30:59.928Z"
   },
   {
    "duration": 235,
    "start_time": "2022-04-02T08:31:01.621Z"
   },
   {
    "duration": 6,
    "start_time": "2022-04-02T08:31:04.444Z"
   },
   {
    "duration": 7,
    "start_time": "2022-04-02T08:31:05.675Z"
   },
   {
    "duration": 230,
    "start_time": "2022-04-02T08:31:07.147Z"
   },
   {
    "duration": 11,
    "start_time": "2022-04-02T08:31:09.634Z"
   },
   {
    "duration": 6,
    "start_time": "2022-04-02T08:31:11.843Z"
   },
   {
    "duration": 225,
    "start_time": "2022-04-02T08:31:14.494Z"
   },
   {
    "duration": 87,
    "start_time": "2022-04-02T08:33:03.240Z"
   },
   {
    "duration": 15,
    "start_time": "2022-04-02T08:33:54.862Z"
   },
   {
    "duration": 39,
    "start_time": "2022-04-02T08:33:57.242Z"
   },
   {
    "duration": 5,
    "start_time": "2022-04-02T08:33:59.480Z"
   },
   {
    "duration": 616,
    "start_time": "2022-04-02T08:34:00.526Z"
   },
   {
    "duration": 35,
    "start_time": "2022-04-02T08:34:02.759Z"
   },
   {
    "duration": 238,
    "start_time": "2022-04-02T08:34:05.432Z"
   },
   {
    "duration": 11,
    "start_time": "2022-04-02T08:34:08.717Z"
   },
   {
    "duration": 223,
    "start_time": "2022-04-02T08:34:11.208Z"
   },
   {
    "duration": 10,
    "start_time": "2022-04-02T08:34:13.891Z"
   },
   {
    "duration": 218,
    "start_time": "2022-04-02T08:34:15.723Z"
   },
   {
    "duration": 9,
    "start_time": "2022-04-02T08:34:20.314Z"
   },
   {
    "duration": 223,
    "start_time": "2022-04-02T08:34:22.777Z"
   },
   {
    "duration": 11,
    "start_time": "2022-04-02T08:34:25.061Z"
   },
   {
    "duration": 24,
    "start_time": "2022-04-02T08:34:27.840Z"
   },
   {
    "duration": 17,
    "start_time": "2022-04-02T08:34:32.545Z"
   },
   {
    "duration": 18,
    "start_time": "2022-04-02T08:34:50.012Z"
   },
   {
    "duration": 15,
    "start_time": "2022-04-02T08:34:55.782Z"
   },
   {
    "duration": 232,
    "start_time": "2022-04-02T08:34:58.346Z"
   },
   {
    "duration": 9,
    "start_time": "2022-04-02T08:35:02.087Z"
   },
   {
    "duration": 12,
    "start_time": "2022-04-02T08:36:45.682Z"
   },
   {
    "duration": 19,
    "start_time": "2022-04-02T08:37:23.384Z"
   },
   {
    "duration": 248,
    "start_time": "2022-04-02T08:38:18.273Z"
   },
   {
    "duration": 5,
    "start_time": "2022-04-02T08:58:27.696Z"
   },
   {
    "duration": 29,
    "start_time": "2022-04-02T09:03:29.267Z"
   },
   {
    "duration": 6,
    "start_time": "2022-04-02T09:04:09.628Z"
   },
   {
    "duration": 45,
    "start_time": "2022-04-02T09:04:11.068Z"
   },
   {
    "duration": 157,
    "start_time": "2022-04-02T09:04:50.088Z"
   },
   {
    "duration": 44,
    "start_time": "2022-04-02T09:06:02.092Z"
   },
   {
    "duration": 118,
    "start_time": "2022-04-02T09:06:03.312Z"
   },
   {
    "duration": 138,
    "start_time": "2022-04-02T10:19:42.222Z"
   },
   {
    "duration": 141,
    "start_time": "2022-04-02T10:20:08.805Z"
   },
   {
    "duration": 139,
    "start_time": "2022-04-02T10:20:26.065Z"
   },
   {
    "duration": 173,
    "start_time": "2022-04-02T10:21:00.738Z"
   },
   {
    "duration": 185,
    "start_time": "2022-04-02T10:21:31.475Z"
   },
   {
    "duration": 157,
    "start_time": "2022-04-02T10:21:35.440Z"
   },
   {
    "duration": 186,
    "start_time": "2022-04-02T10:21:48.937Z"
   },
   {
    "duration": 109,
    "start_time": "2022-04-02T10:22:11.939Z"
   },
   {
    "duration": 30,
    "start_time": "2022-04-02T10:22:16.841Z"
   },
   {
    "duration": 12,
    "start_time": "2022-04-02T10:22:18.902Z"
   },
   {
    "duration": 73,
    "start_time": "2022-04-02T10:22:20.897Z"
   },
   {
    "duration": 224,
    "start_time": "2022-04-02T10:22:22.828Z"
   },
   {
    "duration": 6,
    "start_time": "2022-04-02T10:22:25.446Z"
   },
   {
    "duration": 15,
    "start_time": "2022-04-02T10:22:27.110Z"
   },
   {
    "duration": 394,
    "start_time": "2022-04-02T10:22:28.442Z"
   },
   {
    "duration": 11,
    "start_time": "2022-04-02T10:22:31.177Z"
   },
   {
    "duration": 12,
    "start_time": "2022-04-02T10:22:32.953Z"
   },
   {
    "duration": 244,
    "start_time": "2022-04-02T10:22:34.079Z"
   },
   {
    "duration": 12,
    "start_time": "2022-04-02T10:22:36.081Z"
   },
   {
    "duration": 224,
    "start_time": "2022-04-02T10:22:38.035Z"
   },
   {
    "duration": 7,
    "start_time": "2022-04-02T10:22:40.437Z"
   },
   {
    "duration": 228,
    "start_time": "2022-04-02T10:22:41.470Z"
   },
   {
    "duration": 15,
    "start_time": "2022-04-02T10:22:43.440Z"
   },
   {
    "duration": 7,
    "start_time": "2022-04-02T10:22:46.182Z"
   },
   {
    "duration": 7,
    "start_time": "2022-04-02T10:22:47.115Z"
   },
   {
    "duration": 236,
    "start_time": "2022-04-02T10:22:48.503Z"
   },
   {
    "duration": 7,
    "start_time": "2022-04-02T10:22:53.002Z"
   },
   {
    "duration": 7,
    "start_time": "2022-04-02T10:22:53.969Z"
   },
   {
    "duration": 255,
    "start_time": "2022-04-02T10:22:55.567Z"
   },
   {
    "duration": 11,
    "start_time": "2022-04-02T10:22:58.336Z"
   },
   {
    "duration": 6,
    "start_time": "2022-04-02T10:23:00.431Z"
   },
   {
    "duration": 250,
    "start_time": "2022-04-02T10:23:01.410Z"
   },
   {
    "duration": 17,
    "start_time": "2022-04-02T10:23:03.658Z"
   },
   {
    "duration": 42,
    "start_time": "2022-04-02T10:23:05.783Z"
   },
   {
    "duration": 6,
    "start_time": "2022-04-02T10:23:07.845Z"
   },
   {
    "duration": 663,
    "start_time": "2022-04-02T10:23:09.334Z"
   },
   {
    "duration": 36,
    "start_time": "2022-04-02T10:23:11.661Z"
   },
   {
    "duration": 352,
    "start_time": "2022-04-02T10:23:14.228Z"
   },
   {
    "duration": 13,
    "start_time": "2022-04-02T10:23:16.260Z"
   },
   {
    "duration": 237,
    "start_time": "2022-04-02T10:23:18.417Z"
   },
   {
    "duration": 12,
    "start_time": "2022-04-02T10:23:20.745Z"
   },
   {
    "duration": 238,
    "start_time": "2022-04-02T10:23:22.687Z"
   },
   {
    "duration": 8,
    "start_time": "2022-04-02T10:23:24.711Z"
   },
   {
    "duration": 247,
    "start_time": "2022-04-02T10:23:27.480Z"
   },
   {
    "duration": 10,
    "start_time": "2022-04-02T10:23:29.506Z"
   },
   {
    "duration": 22,
    "start_time": "2022-04-02T10:23:34.278Z"
   },
   {
    "duration": 15,
    "start_time": "2022-04-02T10:23:35.840Z"
   },
   {
    "duration": 242,
    "start_time": "2022-04-02T10:23:38.367Z"
   },
   {
    "duration": 17,
    "start_time": "2022-04-02T10:23:41.372Z"
   },
   {
    "duration": 241,
    "start_time": "2022-04-02T10:23:45.005Z"
   },
   {
    "duration": 5,
    "start_time": "2022-04-02T10:23:53.100Z"
   },
   {
    "duration": 44,
    "start_time": "2022-04-02T10:23:55.600Z"
   },
   {
    "duration": 118,
    "start_time": "2022-04-02T10:23:59.571Z"
   },
   {
    "duration": 139,
    "start_time": "2022-04-02T10:24:05.160Z"
   },
   {
    "duration": 22,
    "start_time": "2022-04-02T10:24:14.111Z"
   },
   {
    "duration": 301,
    "start_time": "2022-04-02T10:24:21.947Z"
   },
   {
    "duration": 159,
    "start_time": "2022-04-02T10:24:31.650Z"
   },
   {
    "duration": 224,
    "start_time": "2022-04-02T10:24:37.868Z"
   },
   {
    "duration": 336,
    "start_time": "2022-04-02T10:27:40.057Z"
   },
   {
    "duration": 15,
    "start_time": "2022-04-02T10:34:53.038Z"
   },
   {
    "duration": 225,
    "start_time": "2022-04-02T10:35:08.880Z"
   },
   {
    "duration": 261,
    "start_time": "2022-04-02T10:39:46.031Z"
   },
   {
    "duration": 25,
    "start_time": "2022-04-02T10:41:58.882Z"
   },
   {
    "duration": 210,
    "start_time": "2022-04-02T10:42:41.900Z"
   },
   {
    "duration": 28,
    "start_time": "2022-04-02T10:45:46.808Z"
   },
   {
    "duration": 170,
    "start_time": "2022-04-02T10:46:28.638Z"
   },
   {
    "duration": 202,
    "start_time": "2022-04-02T10:47:46.743Z"
   },
   {
    "duration": 163,
    "start_time": "2022-04-02T10:48:16.631Z"
   },
   {
    "duration": 417,
    "start_time": "2022-04-02T10:48:48.968Z"
   },
   {
    "duration": 139,
    "start_time": "2022-04-02T10:49:22.388Z"
   },
   {
    "duration": 24,
    "start_time": "2022-04-02T10:49:22.673Z"
   },
   {
    "duration": 20,
    "start_time": "2022-04-02T10:49:28.942Z"
   },
   {
    "duration": 221,
    "start_time": "2022-04-02T10:49:57.487Z"
   },
   {
    "duration": 25,
    "start_time": "2022-04-02T10:51:28.093Z"
   },
   {
    "duration": 15,
    "start_time": "2022-04-02T10:57:57.336Z"
   },
   {
    "duration": 23,
    "start_time": "2022-04-02T11:04:00.375Z"
   },
   {
    "duration": 29,
    "start_time": "2022-04-02T11:04:47.369Z"
   },
   {
    "duration": 105,
    "start_time": "2022-04-02T11:05:47.295Z"
   },
   {
    "duration": 34,
    "start_time": "2022-04-02T11:05:50.716Z"
   },
   {
    "duration": 14,
    "start_time": "2022-04-02T11:05:52.068Z"
   },
   {
    "duration": 76,
    "start_time": "2022-04-02T11:05:53.946Z"
   },
   {
    "duration": 240,
    "start_time": "2022-04-02T11:05:56.193Z"
   },
   {
    "duration": 7,
    "start_time": "2022-04-02T11:05:58.155Z"
   },
   {
    "duration": 13,
    "start_time": "2022-04-02T11:05:59.967Z"
   },
   {
    "duration": 239,
    "start_time": "2022-04-02T11:06:02.547Z"
   },
   {
    "duration": 10,
    "start_time": "2022-04-02T11:06:05.035Z"
   },
   {
    "duration": 16,
    "start_time": "2022-04-02T11:06:07.113Z"
   },
   {
    "duration": 298,
    "start_time": "2022-04-02T11:06:08.833Z"
   },
   {
    "duration": 12,
    "start_time": "2022-04-02T11:06:11.415Z"
   },
   {
    "duration": 344,
    "start_time": "2022-04-02T11:06:12.997Z"
   },
   {
    "duration": 5,
    "start_time": "2022-04-02T11:06:15.847Z"
   },
   {
    "duration": 245,
    "start_time": "2022-04-02T11:06:17.181Z"
   },
   {
    "duration": 15,
    "start_time": "2022-04-02T11:06:23.024Z"
   },
   {
    "duration": 6,
    "start_time": "2022-04-02T11:06:29.447Z"
   },
   {
    "duration": 7,
    "start_time": "2022-04-02T11:06:31.379Z"
   },
   {
    "duration": 232,
    "start_time": "2022-04-02T11:06:32.698Z"
   },
   {
    "duration": 6,
    "start_time": "2022-04-02T11:06:34.881Z"
   },
   {
    "duration": 6,
    "start_time": "2022-04-02T11:06:36.188Z"
   },
   {
    "duration": 239,
    "start_time": "2022-04-02T11:06:37.827Z"
   },
   {
    "duration": 13,
    "start_time": "2022-04-02T11:06:40.613Z"
   },
   {
    "duration": 5,
    "start_time": "2022-04-02T11:06:42.870Z"
   },
   {
    "duration": 236,
    "start_time": "2022-04-02T11:06:44.477Z"
   },
   {
    "duration": 14,
    "start_time": "2022-04-02T11:06:47.371Z"
   },
   {
    "duration": 41,
    "start_time": "2022-04-02T11:06:49.334Z"
   },
   {
    "duration": 5,
    "start_time": "2022-04-02T11:06:51.481Z"
   },
   {
    "duration": 621,
    "start_time": "2022-04-02T11:06:53.611Z"
   },
   {
    "duration": 36,
    "start_time": "2022-04-02T11:06:55.929Z"
   },
   {
    "duration": 241,
    "start_time": "2022-04-02T11:06:58.695Z"
   },
   {
    "duration": 12,
    "start_time": "2022-04-02T11:07:01.165Z"
   },
   {
    "duration": 233,
    "start_time": "2022-04-02T11:07:03.820Z"
   },
   {
    "duration": 10,
    "start_time": "2022-04-02T11:07:06.139Z"
   },
   {
    "duration": 230,
    "start_time": "2022-04-02T11:07:08.560Z"
   },
   {
    "duration": 9,
    "start_time": "2022-04-02T11:07:10.858Z"
   },
   {
    "duration": 231,
    "start_time": "2022-04-02T11:07:13.114Z"
   },
   {
    "duration": 11,
    "start_time": "2022-04-02T11:07:15.358Z"
   },
   {
    "duration": 21,
    "start_time": "2022-04-02T11:07:17.692Z"
   },
   {
    "duration": 15,
    "start_time": "2022-04-02T11:07:19.451Z"
   },
   {
    "duration": 254,
    "start_time": "2022-04-02T11:07:21.028Z"
   },
   {
    "duration": 18,
    "start_time": "2022-04-02T11:07:24.934Z"
   },
   {
    "duration": 263,
    "start_time": "2022-04-02T11:07:27.239Z"
   },
   {
    "duration": 5,
    "start_time": "2022-04-02T11:07:30.087Z"
   },
   {
    "duration": 45,
    "start_time": "2022-04-02T11:07:32.312Z"
   },
   {
    "duration": 164,
    "start_time": "2022-04-02T11:07:34.023Z"
   },
   {
    "duration": 332,
    "start_time": "2022-04-02T11:07:37.540Z"
   },
   {
    "duration": 350,
    "start_time": "2022-04-02T11:07:40.855Z"
   },
   {
    "duration": 388,
    "start_time": "2022-04-02T11:07:44.501Z"
   },
   {
    "duration": 341,
    "start_time": "2022-04-02T11:07:49.193Z"
   },
   {
    "duration": 335,
    "start_time": "2022-04-02T11:07:52.020Z"
   },
   {
    "duration": 253,
    "start_time": "2022-04-02T11:07:55.065Z"
   },
   {
    "duration": 311,
    "start_time": "2022-04-02T11:07:58.163Z"
   },
   {
    "duration": 31,
    "start_time": "2022-04-02T11:08:04.101Z"
   },
   {
    "duration": 1500,
    "start_time": "2022-04-05T06:20:04.553Z"
   },
   {
    "duration": 24,
    "start_time": "2022-04-05T06:20:09.385Z"
   },
   {
    "duration": 10,
    "start_time": "2022-04-05T06:20:10.969Z"
   },
   {
    "duration": 51,
    "start_time": "2022-04-05T06:20:13.062Z"
   },
   {
    "duration": 141,
    "start_time": "2022-04-05T06:20:15.722Z"
   },
   {
    "duration": 5,
    "start_time": "2022-04-05T06:20:17.803Z"
   },
   {
    "duration": 10,
    "start_time": "2022-04-05T06:20:19.630Z"
   },
   {
    "duration": 134,
    "start_time": "2022-04-05T06:20:20.880Z"
   },
   {
    "duration": 8,
    "start_time": "2022-04-05T06:20:23.043Z"
   },
   {
    "duration": 7,
    "start_time": "2022-04-05T06:20:25.120Z"
   },
   {
    "duration": 134,
    "start_time": "2022-04-05T06:20:26.821Z"
   },
   {
    "duration": 8,
    "start_time": "2022-04-05T06:20:29.413Z"
   },
   {
    "duration": 126,
    "start_time": "2022-04-05T06:20:30.474Z"
   },
   {
    "duration": 6,
    "start_time": "2022-04-05T06:20:32.522Z"
   },
   {
    "duration": 133,
    "start_time": "2022-04-05T06:20:33.454Z"
   },
   {
    "duration": 11,
    "start_time": "2022-04-05T06:20:35.762Z"
   },
   {
    "duration": 6,
    "start_time": "2022-04-05T06:20:37.981Z"
   },
   {
    "duration": 4,
    "start_time": "2022-04-05T06:20:38.946Z"
   },
   {
    "duration": 140,
    "start_time": "2022-04-05T06:20:40.183Z"
   },
   {
    "duration": 6,
    "start_time": "2022-04-05T06:20:43.506Z"
   },
   {
    "duration": 5,
    "start_time": "2022-04-05T06:20:44.681Z"
   },
   {
    "duration": 128,
    "start_time": "2022-04-05T06:20:46.371Z"
   },
   {
    "duration": 8,
    "start_time": "2022-04-05T06:20:49.249Z"
   },
   {
    "duration": 5,
    "start_time": "2022-04-05T06:20:52.210Z"
   },
   {
    "duration": 131,
    "start_time": "2022-04-05T06:20:53.435Z"
   },
   {
    "duration": 11,
    "start_time": "2022-04-05T06:20:55.593Z"
   },
   {
    "duration": 29,
    "start_time": "2022-04-05T06:20:57.850Z"
   },
   {
    "duration": 3,
    "start_time": "2022-04-05T06:21:00.033Z"
   },
   {
    "duration": 432,
    "start_time": "2022-04-05T06:21:01.397Z"
   },
   {
    "duration": 21,
    "start_time": "2022-04-05T06:21:03.754Z"
   },
   {
    "duration": 136,
    "start_time": "2022-04-05T06:21:07.123Z"
   },
   {
    "duration": 7,
    "start_time": "2022-04-05T06:21:09.188Z"
   },
   {
    "duration": 153,
    "start_time": "2022-04-05T06:21:11.155Z"
   },
   {
    "duration": 8,
    "start_time": "2022-04-05T06:21:12.796Z"
   },
   {
    "duration": 133,
    "start_time": "2022-04-05T06:21:14.385Z"
   },
   {
    "duration": 6,
    "start_time": "2022-04-05T06:21:15.996Z"
   },
   {
    "duration": 130,
    "start_time": "2022-04-05T06:21:17.669Z"
   },
   {
    "duration": 6,
    "start_time": "2022-04-05T06:21:19.189Z"
   },
   {
    "duration": 14,
    "start_time": "2022-04-05T06:21:21.141Z"
   },
   {
    "duration": 10,
    "start_time": "2022-04-05T06:21:22.281Z"
   },
   {
    "duration": 136,
    "start_time": "2022-04-05T06:21:23.313Z"
   },
   {
    "duration": 12,
    "start_time": "2022-04-05T06:21:25.358Z"
   },
   {
    "duration": 141,
    "start_time": "2022-04-05T06:21:27.293Z"
   },
   {
    "duration": 4,
    "start_time": "2022-04-05T06:21:29.209Z"
   },
   {
    "duration": 27,
    "start_time": "2022-04-05T06:21:31.042Z"
   },
   {
    "duration": 80,
    "start_time": "2022-04-05T06:21:32.371Z"
   },
   {
    "duration": 134,
    "start_time": "2022-04-05T06:21:34.994Z"
   },
   {
    "duration": 141,
    "start_time": "2022-04-05T06:21:38.646Z"
   },
   {
    "duration": 144,
    "start_time": "2022-04-05T06:21:41.073Z"
   },
   {
    "duration": 130,
    "start_time": "2022-04-05T06:21:43.481Z"
   },
   {
    "duration": 117,
    "start_time": "2022-04-05T06:21:45.873Z"
   },
   {
    "duration": 190,
    "start_time": "2022-04-05T06:21:48.042Z"
   },
   {
    "duration": 128,
    "start_time": "2022-04-05T06:21:49.913Z"
   },
   {
    "duration": 100,
    "start_time": "2022-04-05T06:21:53.136Z"
   },
   {
    "duration": 19,
    "start_time": "2022-04-05T06:23:16.217Z"
   },
   {
    "duration": 20,
    "start_time": "2022-04-05T06:23:33.836Z"
   },
   {
    "duration": 24,
    "start_time": "2022-04-05T06:38:22.126Z"
   },
   {
    "duration": 26,
    "start_time": "2022-04-05T06:39:14.540Z"
   },
   {
    "duration": 18,
    "start_time": "2022-04-05T06:44:01.159Z"
   },
   {
    "duration": 8,
    "start_time": "2022-04-05T06:44:24.053Z"
   },
   {
    "duration": 24,
    "start_time": "2022-04-05T06:49:33.182Z"
   },
   {
    "duration": 970,
    "start_time": "2022-04-05T06:50:49.265Z"
   },
   {
    "duration": 21,
    "start_time": "2022-04-05T06:50:53.828Z"
   },
   {
    "duration": 9,
    "start_time": "2022-04-05T06:50:55.821Z"
   },
   {
    "duration": 49,
    "start_time": "2022-04-05T06:50:57.825Z"
   },
   {
    "duration": 126,
    "start_time": "2022-04-05T06:50:59.726Z"
   },
   {
    "duration": 4,
    "start_time": "2022-04-05T06:51:01.807Z"
   },
   {
    "duration": 8,
    "start_time": "2022-04-05T06:51:03.003Z"
   },
   {
    "duration": 127,
    "start_time": "2022-04-05T06:51:04.375Z"
   },
   {
    "duration": 7,
    "start_time": "2022-04-05T06:51:06.260Z"
   },
   {
    "duration": 8,
    "start_time": "2022-04-05T06:51:08.227Z"
   },
   {
    "duration": 133,
    "start_time": "2022-04-05T06:51:09.422Z"
   },
   {
    "duration": 8,
    "start_time": "2022-04-05T06:51:11.355Z"
   },
   {
    "duration": 120,
    "start_time": "2022-04-05T06:51:13.079Z"
   },
   {
    "duration": 6,
    "start_time": "2022-04-05T06:51:15.231Z"
   },
   {
    "duration": 135,
    "start_time": "2022-04-05T06:51:16.387Z"
   },
   {
    "duration": 12,
    "start_time": "2022-04-05T06:51:18.279Z"
   },
   {
    "duration": 4,
    "start_time": "2022-04-05T06:51:19.896Z"
   },
   {
    "duration": 4,
    "start_time": "2022-04-05T06:51:21.024Z"
   },
   {
    "duration": 134,
    "start_time": "2022-04-05T06:51:49.989Z"
   },
   {
    "duration": 5,
    "start_time": "2022-04-05T06:51:52.920Z"
   },
   {
    "duration": 4,
    "start_time": "2022-04-05T06:51:53.926Z"
   },
   {
    "duration": 125,
    "start_time": "2022-04-05T06:51:55.090Z"
   },
   {
    "duration": 8,
    "start_time": "2022-04-05T06:51:57.221Z"
   },
   {
    "duration": 4,
    "start_time": "2022-04-05T06:51:59.427Z"
   },
   {
    "duration": 147,
    "start_time": "2022-04-05T06:52:00.574Z"
   },
   {
    "duration": 11,
    "start_time": "2022-04-05T06:52:02.640Z"
   },
   {
    "duration": 30,
    "start_time": "2022-04-05T06:52:04.611Z"
   },
   {
    "duration": 3,
    "start_time": "2022-04-05T06:52:06.423Z"
   },
   {
    "duration": 349,
    "start_time": "2022-04-05T06:52:07.923Z"
   },
   {
    "duration": 22,
    "start_time": "2022-04-05T06:52:13.444Z"
   },
   {
    "duration": 145,
    "start_time": "2022-04-05T06:52:16.175Z"
   },
   {
    "duration": 8,
    "start_time": "2022-04-05T06:52:18.905Z"
   },
   {
    "duration": 230,
    "start_time": "2022-04-05T06:52:20.842Z"
   },
   {
    "duration": 8,
    "start_time": "2022-04-05T06:52:22.734Z"
   },
   {
    "duration": 135,
    "start_time": "2022-04-05T06:52:24.666Z"
   },
   {
    "duration": 6,
    "start_time": "2022-04-05T06:52:26.517Z"
   },
   {
    "duration": 132,
    "start_time": "2022-04-05T06:52:28.562Z"
   },
   {
    "duration": 7,
    "start_time": "2022-04-05T06:52:30.329Z"
   },
   {
    "duration": 12,
    "start_time": "2022-04-05T06:52:32.177Z"
   },
   {
    "duration": 9,
    "start_time": "2022-04-05T06:52:33.453Z"
   },
   {
    "duration": 137,
    "start_time": "2022-04-05T06:52:35.281Z"
   },
   {
    "duration": 10,
    "start_time": "2022-04-05T06:52:37.697Z"
   },
   {
    "duration": 136,
    "start_time": "2022-04-05T06:52:39.841Z"
   },
   {
    "duration": 3,
    "start_time": "2022-04-05T06:52:42.260Z"
   },
   {
    "duration": 26,
    "start_time": "2022-04-05T06:52:44.191Z"
   },
   {
    "duration": 73,
    "start_time": "2022-04-05T06:52:45.608Z"
   },
   {
    "duration": 128,
    "start_time": "2022-04-05T06:52:48.364Z"
   },
   {
    "duration": 140,
    "start_time": "2022-04-05T06:52:50.760Z"
   },
   {
    "duration": 150,
    "start_time": "2022-04-05T06:52:54.476Z"
   },
   {
    "duration": 124,
    "start_time": "2022-04-05T06:52:56.795Z"
   },
   {
    "duration": 114,
    "start_time": "2022-04-05T06:52:58.853Z"
   },
   {
    "duration": 125,
    "start_time": "2022-04-05T06:53:00.924Z"
   },
   {
    "duration": 129,
    "start_time": "2022-04-05T06:53:02.909Z"
   },
   {
    "duration": 23,
    "start_time": "2022-04-05T06:53:05.137Z"
   },
   {
    "duration": 25,
    "start_time": "2022-04-05T06:53:17.709Z"
   },
   {
    "duration": 26,
    "start_time": "2022-04-05T06:53:40.005Z"
   },
   {
    "duration": 24,
    "start_time": "2022-04-05T06:54:14.383Z"
   },
   {
    "duration": 24,
    "start_time": "2022-04-05T06:54:44.261Z"
   },
   {
    "duration": 22,
    "start_time": "2022-04-05T06:54:56.439Z"
   },
   {
    "duration": 23,
    "start_time": "2022-04-05T06:55:31.363Z"
   },
   {
    "duration": 24,
    "start_time": "2022-04-05T06:55:42.942Z"
   },
   {
    "duration": 1966,
    "start_time": "2022-04-07T04:44:21.072Z"
   },
   {
    "duration": 35,
    "start_time": "2022-04-07T04:44:27.777Z"
   },
   {
    "duration": 13,
    "start_time": "2022-04-07T04:44:29.471Z"
   },
   {
    "duration": 51,
    "start_time": "2022-04-07T04:44:31.200Z"
   },
   {
    "duration": 150,
    "start_time": "2022-04-07T04:44:33.077Z"
   },
   {
    "duration": 5,
    "start_time": "2022-04-07T04:44:35.068Z"
   },
   {
    "duration": 10,
    "start_time": "2022-04-07T04:44:36.942Z"
   },
   {
    "duration": 133,
    "start_time": "2022-04-07T04:44:39.662Z"
   },
   {
    "duration": 8,
    "start_time": "2022-04-07T04:44:42.296Z"
   },
   {
    "duration": 8,
    "start_time": "2022-04-07T04:44:44.282Z"
   },
   {
    "duration": 139,
    "start_time": "2022-04-07T04:44:46.731Z"
   },
   {
    "duration": 8,
    "start_time": "2022-04-07T04:44:49.402Z"
   },
   {
    "duration": 124,
    "start_time": "2022-04-07T04:44:52.056Z"
   },
   {
    "duration": 6,
    "start_time": "2022-04-07T04:44:55.162Z"
   },
   {
    "duration": 133,
    "start_time": "2022-04-07T04:44:56.557Z"
   },
   {
    "duration": 12,
    "start_time": "2022-04-07T04:44:58.861Z"
   },
   {
    "duration": 7,
    "start_time": "2022-04-07T04:45:00.227Z"
   },
   {
    "duration": 5,
    "start_time": "2022-04-07T04:45:02.534Z"
   },
   {
    "duration": 146,
    "start_time": "2022-04-07T04:45:04.063Z"
   },
   {
    "duration": 6,
    "start_time": "2022-04-07T04:45:06.911Z"
   },
   {
    "duration": 5,
    "start_time": "2022-04-07T04:45:08.058Z"
   },
   {
    "duration": 129,
    "start_time": "2022-04-07T04:45:09.413Z"
   },
   {
    "duration": 9,
    "start_time": "2022-04-07T04:45:11.299Z"
   },
   {
    "duration": 6,
    "start_time": "2022-04-07T04:45:13.354Z"
   },
   {
    "duration": 137,
    "start_time": "2022-04-07T04:45:14.619Z"
   },
   {
    "duration": 13,
    "start_time": "2022-04-07T04:45:17.032Z"
   },
   {
    "duration": 30,
    "start_time": "2022-04-07T04:45:19.136Z"
   },
   {
    "duration": 3,
    "start_time": "2022-04-07T04:45:21.388Z"
   },
   {
    "duration": 438,
    "start_time": "2022-04-07T04:45:22.537Z"
   },
   {
    "duration": 23,
    "start_time": "2022-04-07T04:45:25.444Z"
   },
   {
    "duration": 137,
    "start_time": "2022-04-07T04:45:29.798Z"
   },
   {
    "duration": 8,
    "start_time": "2022-04-07T04:45:32.090Z"
   },
   {
    "duration": 136,
    "start_time": "2022-04-07T04:45:33.916Z"
   },
   {
    "duration": 8,
    "start_time": "2022-04-07T04:45:35.648Z"
   },
   {
    "duration": 132,
    "start_time": "2022-04-07T04:45:36.919Z"
   },
   {
    "duration": 6,
    "start_time": "2022-04-07T04:45:38.628Z"
   },
   {
    "duration": 126,
    "start_time": "2022-04-07T04:45:40.337Z"
   },
   {
    "duration": 7,
    "start_time": "2022-04-07T04:45:42.421Z"
   },
   {
    "duration": 15,
    "start_time": "2022-04-07T04:45:44.385Z"
   },
   {
    "duration": 9,
    "start_time": "2022-04-07T04:45:45.612Z"
   },
   {
    "duration": 137,
    "start_time": "2022-04-07T04:45:46.941Z"
   },
   {
    "duration": 12,
    "start_time": "2022-04-07T04:45:49.500Z"
   },
   {
    "duration": 143,
    "start_time": "2022-04-07T04:45:51.461Z"
   },
   {
    "duration": 4,
    "start_time": "2022-04-07T04:45:54.156Z"
   },
   {
    "duration": 28,
    "start_time": "2022-04-07T04:45:55.947Z"
   },
   {
    "duration": 79,
    "start_time": "2022-04-07T04:45:57.184Z"
   },
   {
    "duration": 137,
    "start_time": "2022-04-07T04:46:01.208Z"
   },
   {
    "duration": 142,
    "start_time": "2022-04-07T04:46:03.687Z"
   },
   {
    "duration": 150,
    "start_time": "2022-04-07T04:46:06.691Z"
   },
   {
    "duration": 126,
    "start_time": "2022-04-07T04:46:09.243Z"
   },
   {
    "duration": 123,
    "start_time": "2022-04-07T04:46:11.740Z"
   },
   {
    "duration": 211,
    "start_time": "2022-04-07T04:46:13.833Z"
   },
   {
    "duration": 130,
    "start_time": "2022-04-07T04:46:16.005Z"
   },
   {
    "duration": 23,
    "start_time": "2022-04-07T04:46:18.848Z"
   },
   {
    "duration": 90,
    "start_time": "2022-04-07T04:53:41.680Z"
   },
   {
    "duration": 5,
    "start_time": "2022-04-07T04:53:46.108Z"
   },
   {
    "duration": 166,
    "start_time": "2022-04-07T05:00:42.394Z"
   },
   {
    "duration": 75,
    "start_time": "2022-04-07T05:06:30.659Z"
   },
   {
    "duration": 9,
    "start_time": "2022-04-07T05:06:48.149Z"
   },
   {
    "duration": 157,
    "start_time": "2022-04-07T05:15:40.341Z"
   },
   {
    "duration": 137,
    "start_time": "2022-04-07T05:22:55.222Z"
   },
   {
    "duration": 128,
    "start_time": "2022-04-07T05:27:56.065Z"
   },
   {
    "duration": 2457,
    "start_time": "2022-04-07T05:31:09.042Z"
   },
   {
    "duration": 136,
    "start_time": "2022-04-07T05:31:45.174Z"
   },
   {
    "duration": 146,
    "start_time": "2022-04-07T05:31:54.970Z"
   },
   {
    "duration": 13,
    "start_time": "2022-04-07T05:34:56.121Z"
   },
   {
    "duration": 140,
    "start_time": "2022-04-07T05:35:14.323Z"
   },
   {
    "duration": 134,
    "start_time": "2022-04-07T05:38:38.175Z"
   },
   {
    "duration": 138,
    "start_time": "2022-04-07T05:42:37.213Z"
   },
   {
    "duration": 128,
    "start_time": "2022-04-07T05:43:22.879Z"
   },
   {
    "duration": 1723,
    "start_time": "2022-04-18T10:46:10.753Z"
   },
   {
    "duration": 25,
    "start_time": "2022-04-18T10:46:17.557Z"
   },
   {
    "duration": 10,
    "start_time": "2022-04-18T10:46:20.078Z"
   },
   {
    "duration": 3,
    "start_time": "2022-04-18T10:46:26.872Z"
   },
   {
    "duration": 52,
    "start_time": "2022-04-18T10:47:12.700Z"
   },
   {
    "duration": 171,
    "start_time": "2022-04-18T10:47:55.291Z"
   },
   {
    "duration": 6,
    "start_time": "2022-04-18T10:47:57.687Z"
   },
   {
    "duration": 15,
    "start_time": "2022-04-18T10:47:59.970Z"
   },
   {
    "duration": 193,
    "start_time": "2022-04-18T10:48:01.452Z"
   },
   {
    "duration": 9,
    "start_time": "2022-04-18T10:48:05.354Z"
   },
   {
    "duration": 8,
    "start_time": "2022-04-18T10:51:24.996Z"
   },
   {
    "duration": 148,
    "start_time": "2022-04-18T10:51:28.739Z"
   },
   {
    "duration": 9,
    "start_time": "2022-04-18T10:51:34.985Z"
   },
   {
    "duration": 138,
    "start_time": "2022-04-18T10:51:36.894Z"
   },
   {
    "duration": 7,
    "start_time": "2022-04-18T10:51:39.704Z"
   },
   {
    "duration": 165,
    "start_time": "2022-04-18T10:51:41.310Z"
   },
   {
    "duration": 13,
    "start_time": "2022-04-18T10:51:49.737Z"
   },
   {
    "duration": 8,
    "start_time": "2022-04-18T10:53:13.795Z"
   },
   {
    "duration": 6,
    "start_time": "2022-04-18T10:53:15.324Z"
   },
   {
    "duration": 155,
    "start_time": "2022-04-18T10:53:18.359Z"
   },
   {
    "duration": 7,
    "start_time": "2022-04-18T10:53:21.292Z"
   },
   {
    "duration": 5,
    "start_time": "2022-04-18T10:53:22.463Z"
   },
   {
    "duration": 155,
    "start_time": "2022-04-18T10:53:23.703Z"
   },
   {
    "duration": 12,
    "start_time": "2022-04-18T10:53:26.033Z"
   },
   {
    "duration": 8,
    "start_time": "2022-04-18T10:53:28.943Z"
   },
   {
    "duration": 184,
    "start_time": "2022-04-18T10:53:30.085Z"
   },
   {
    "duration": 13,
    "start_time": "2022-04-18T11:30:17.180Z"
   },
   {
    "duration": 204,
    "start_time": "2022-04-18T11:30:23.339Z"
   },
   {
    "duration": 42,
    "start_time": "2022-04-18T11:30:30.141Z"
   },
   {
    "duration": 4,
    "start_time": "2022-04-18T11:30:34.203Z"
   },
   {
    "duration": 501,
    "start_time": "2022-04-18T11:30:36.272Z"
   },
   {
    "duration": 23,
    "start_time": "2022-04-18T11:30:39.257Z"
   },
   {
    "duration": 236,
    "start_time": "2022-04-18T11:30:44.437Z"
   },
   {
    "duration": 9,
    "start_time": "2022-04-18T11:30:46.941Z"
   },
   {
    "duration": 165,
    "start_time": "2022-04-18T11:30:48.902Z"
   },
   {
    "duration": 9,
    "start_time": "2022-04-18T11:30:51.249Z"
   },
   {
    "duration": 160,
    "start_time": "2022-04-18T11:30:52.813Z"
   },
   {
    "duration": 7,
    "start_time": "2022-04-18T11:30:54.542Z"
   },
   {
    "duration": 199,
    "start_time": "2022-04-18T11:30:56.424Z"
   },
   {
    "duration": 7,
    "start_time": "2022-04-18T11:30:58.579Z"
   },
   {
    "duration": 24,
    "start_time": "2022-04-18T11:31:11.284Z"
   },
   {
    "duration": 11,
    "start_time": "2022-04-18T11:31:13.052Z"
   },
   {
    "duration": 172,
    "start_time": "2022-04-18T11:31:14.474Z"
   },
   {
    "duration": 16,
    "start_time": "2022-04-18T11:31:16.986Z"
   },
   {
    "duration": 254,
    "start_time": "2022-04-18T11:31:21.061Z"
   },
   {
    "duration": 4,
    "start_time": "2022-04-18T11:31:28.474Z"
   },
   {
    "duration": 38,
    "start_time": "2022-04-18T11:31:30.309Z"
   },
   {
    "duration": 97,
    "start_time": "2022-04-18T11:31:32.040Z"
   },
   {
    "duration": 140,
    "start_time": "2022-04-18T11:52:54.949Z"
   },
   {
    "duration": 142,
    "start_time": "2022-04-18T11:53:02.705Z"
   },
   {
    "duration": 165,
    "start_time": "2022-04-18T11:57:03.863Z"
   },
   {
    "duration": 227,
    "start_time": "2022-04-18T12:50:57.010Z"
   },
   {
    "duration": 214,
    "start_time": "2022-04-18T12:50:59.679Z"
   },
   {
    "duration": 345,
    "start_time": "2022-04-18T12:51:02.052Z"
   },
   {
    "duration": 145,
    "start_time": "2022-04-18T12:51:04.360Z"
   },
   {
    "duration": 25,
    "start_time": "2022-04-18T12:51:06.796Z"
   },
   {
    "duration": 192,
    "start_time": "2022-04-18T12:51:09.216Z"
   },
   {
    "duration": 10,
    "start_time": "2022-04-18T12:51:14.912Z"
   },
   {
    "duration": 171,
    "start_time": "2022-04-18T12:51:16.577Z"
   },
   {
    "duration": 188,
    "start_time": "2022-04-18T12:51:19.940Z"
   },
   {
    "duration": 129,
    "start_time": "2022-04-18T12:51:31.206Z"
   },
   {
    "duration": 145,
    "start_time": "2022-04-18T12:51:36.864Z"
   },
   {
    "duration": 155,
    "start_time": "2022-04-18T12:51:39.746Z"
   },
   {
    "duration": 138,
    "start_time": "2022-04-18T12:51:42.764Z"
   },
   {
    "duration": 139,
    "start_time": "2022-04-18T12:51:46.678Z"
   },
   {
    "duration": 103,
    "start_time": "2022-04-18T13:00:32.018Z"
   },
   {
    "duration": 26,
    "start_time": "2022-04-18T13:00:39.208Z"
   },
   {
    "duration": 9,
    "start_time": "2022-04-18T13:00:41.936Z"
   },
   {
    "duration": 3,
    "start_time": "2022-04-18T13:00:44.727Z"
   },
   {
    "duration": 47,
    "start_time": "2022-04-18T13:00:48.337Z"
   },
   {
    "duration": 135,
    "start_time": "2022-04-18T13:00:51.219Z"
   },
   {
    "duration": 5,
    "start_time": "2022-04-18T13:00:53.380Z"
   },
   {
    "duration": 9,
    "start_time": "2022-04-18T13:00:54.748Z"
   },
   {
    "duration": 143,
    "start_time": "2022-04-18T13:00:56.003Z"
   },
   {
    "duration": 7,
    "start_time": "2022-04-18T13:01:05.167Z"
   },
   {
    "duration": 9,
    "start_time": "2022-04-18T13:01:07.193Z"
   },
   {
    "duration": 151,
    "start_time": "2022-04-18T13:01:09.089Z"
   },
   {
    "duration": 9,
    "start_time": "2022-04-18T13:01:13.430Z"
   },
   {
    "duration": 145,
    "start_time": "2022-04-18T13:01:14.813Z"
   },
   {
    "duration": 7,
    "start_time": "2022-04-18T13:01:16.935Z"
   },
   {
    "duration": 153,
    "start_time": "2022-04-18T13:01:17.833Z"
   },
   {
    "duration": 14,
    "start_time": "2022-04-18T13:01:20.833Z"
   },
   {
    "duration": 5,
    "start_time": "2022-04-18T13:01:23.142Z"
   },
   {
    "duration": 5,
    "start_time": "2022-04-18T13:01:24.712Z"
   },
   {
    "duration": 260,
    "start_time": "2022-04-18T13:01:26.332Z"
   },
   {
    "duration": 4,
    "start_time": "2022-04-18T13:01:29.464Z"
   },
   {
    "duration": 4,
    "start_time": "2022-04-18T13:01:30.310Z"
   },
   {
    "duration": 139,
    "start_time": "2022-04-18T13:01:31.596Z"
   },
   {
    "duration": 9,
    "start_time": "2022-04-18T13:01:34.256Z"
   },
   {
    "duration": 4,
    "start_time": "2022-04-18T13:01:37.431Z"
   },
   {
    "duration": 151,
    "start_time": "2022-04-18T13:01:38.535Z"
   },
   {
    "duration": 11,
    "start_time": "2022-04-18T13:02:29.063Z"
   },
   {
    "duration": 30,
    "start_time": "2022-04-18T13:02:31.560Z"
   },
   {
    "duration": 4,
    "start_time": "2022-04-18T13:02:33.712Z"
   },
   {
    "duration": 376,
    "start_time": "2022-04-18T13:02:35.710Z"
   },
   {
    "duration": 22,
    "start_time": "2022-04-18T13:02:37.800Z"
   },
   {
    "duration": 155,
    "start_time": "2022-04-18T13:02:42.705Z"
   },
   {
    "duration": 9,
    "start_time": "2022-04-18T13:02:45.339Z"
   },
   {
    "duration": 154,
    "start_time": "2022-04-18T13:02:47.668Z"
   },
   {
    "duration": 9,
    "start_time": "2022-04-18T13:02:50.243Z"
   },
   {
    "duration": 135,
    "start_time": "2022-04-18T13:02:53.171Z"
   },
   {
    "duration": 8,
    "start_time": "2022-04-18T13:02:54.890Z"
   },
   {
    "duration": 146,
    "start_time": "2022-04-18T13:02:56.826Z"
   },
   {
    "duration": 8,
    "start_time": "2022-04-18T13:03:13.272Z"
   },
   {
    "duration": 14,
    "start_time": "2022-04-18T13:03:23.300Z"
   },
   {
    "duration": 11,
    "start_time": "2022-04-18T13:03:24.667Z"
   },
   {
    "duration": 159,
    "start_time": "2022-04-18T13:03:26.166Z"
   },
   {
    "duration": 14,
    "start_time": "2022-04-18T13:03:28.299Z"
   },
   {
    "duration": 155,
    "start_time": "2022-04-18T13:03:31.310Z"
   },
   {
    "duration": 76,
    "start_time": "2022-04-18T13:03:36.806Z"
   },
   {
    "duration": 4,
    "start_time": "2022-04-18T13:05:57.012Z"
   },
   {
    "duration": 29,
    "start_time": "2022-04-18T13:05:58.582Z"
   },
   {
    "duration": 80,
    "start_time": "2022-04-18T13:06:00.648Z"
   },
   {
    "duration": 2008,
    "start_time": "2022-04-19T05:28:58.504Z"
   },
   {
    "duration": 49,
    "start_time": "2022-04-19T05:29:00.515Z"
   },
   {
    "duration": 13,
    "start_time": "2022-04-19T05:29:00.566Z"
   },
   {
    "duration": 18,
    "start_time": "2022-04-19T05:29:00.582Z"
   },
   {
    "duration": 93,
    "start_time": "2022-04-19T05:29:00.603Z"
   },
   {
    "duration": 294,
    "start_time": "2022-04-19T05:29:00.699Z"
   },
   {
    "duration": 7,
    "start_time": "2022-04-19T05:29:00.995Z"
   },
   {
    "duration": 22,
    "start_time": "2022-04-19T05:29:01.004Z"
   },
   {
    "duration": 282,
    "start_time": "2022-04-19T05:29:01.028Z"
   },
   {
    "duration": 12,
    "start_time": "2022-04-19T05:29:01.315Z"
   },
   {
    "duration": 30,
    "start_time": "2022-04-19T05:29:01.329Z"
   },
   {
    "duration": 290,
    "start_time": "2022-04-19T05:29:01.361Z"
   },
   {
    "duration": 12,
    "start_time": "2022-04-19T05:29:01.654Z"
   },
   {
    "duration": 250,
    "start_time": "2022-04-19T05:29:01.668Z"
   },
   {
    "duration": 8,
    "start_time": "2022-04-19T05:29:01.920Z"
   },
   {
    "duration": 268,
    "start_time": "2022-04-19T05:29:01.930Z"
   },
   {
    "duration": 18,
    "start_time": "2022-04-19T05:29:02.201Z"
   },
   {
    "duration": 8,
    "start_time": "2022-04-19T05:29:02.221Z"
   },
   {
    "duration": 10,
    "start_time": "2022-04-19T05:29:02.252Z"
   },
   {
    "duration": 268,
    "start_time": "2022-04-19T05:29:02.264Z"
   },
   {
    "duration": 18,
    "start_time": "2022-04-19T05:29:02.534Z"
   },
   {
    "duration": 8,
    "start_time": "2022-04-19T05:29:02.554Z"
   },
   {
    "duration": 273,
    "start_time": "2022-04-19T05:29:02.564Z"
   },
   {
    "duration": 22,
    "start_time": "2022-04-19T05:29:02.840Z"
   },
   {
    "duration": 9,
    "start_time": "2022-04-19T05:29:02.865Z"
   },
   {
    "duration": 457,
    "start_time": "2022-04-19T05:29:02.877Z"
   },
   {
    "duration": 33,
    "start_time": "2022-04-19T05:29:03.337Z"
   },
   {
    "duration": 214,
    "start_time": "2022-04-19T05:29:03.380Z"
   },
   {
    "duration": 6,
    "start_time": "2022-04-19T05:29:03.598Z"
   },
   {
    "duration": 1345,
    "start_time": "2022-04-19T05:29:03.607Z"
   },
   {
    "duration": 40,
    "start_time": "2022-04-19T05:29:04.955Z"
   },
   {
    "duration": 292,
    "start_time": "2022-04-19T05:29:04.997Z"
   },
   {
    "duration": 10,
    "start_time": "2022-04-19T05:29:05.291Z"
   },
   {
    "duration": 378,
    "start_time": "2022-04-19T05:29:05.304Z"
   },
   {
    "duration": 11,
    "start_time": "2022-04-19T05:29:05.684Z"
   },
   {
    "duration": 275,
    "start_time": "2022-04-19T05:29:05.697Z"
   },
   {
    "duration": 12,
    "start_time": "2022-04-19T05:29:05.975Z"
   },
   {
    "duration": 272,
    "start_time": "2022-04-19T05:29:05.989Z"
   },
   {
    "duration": 11,
    "start_time": "2022-04-19T05:29:06.264Z"
   },
   {
    "duration": 38,
    "start_time": "2022-04-19T05:29:06.277Z"
   },
   {
    "duration": 42,
    "start_time": "2022-04-19T05:29:06.317Z"
   },
   {
    "duration": 277,
    "start_time": "2022-04-19T05:29:06.361Z"
   },
   {
    "duration": 28,
    "start_time": "2022-04-19T05:29:06.641Z"
   },
   {
    "duration": 282,
    "start_time": "2022-04-19T05:29:06.671Z"
   },
   {
    "duration": 132,
    "start_time": "2022-04-19T05:29:06.955Z"
   },
   {
    "duration": 6,
    "start_time": "2022-04-19T05:29:07.089Z"
   },
   {
    "duration": 65,
    "start_time": "2022-04-19T05:29:07.097Z"
   },
   {
    "duration": 133,
    "start_time": "2022-04-19T05:29:07.165Z"
   },
   {
    "duration": 261,
    "start_time": "2022-04-19T05:29:07.301Z"
   },
   {
    "duration": 274,
    "start_time": "2022-04-19T05:29:07.565Z"
   },
   {
    "duration": 292,
    "start_time": "2022-04-19T05:29:07.842Z"
   },
   {
    "duration": 261,
    "start_time": "2022-04-19T05:29:08.136Z"
   },
   {
    "duration": 342,
    "start_time": "2022-04-19T05:29:08.399Z"
   },
   {
    "duration": 350,
    "start_time": "2022-04-19T05:29:08.743Z"
   },
   {
    "duration": 254,
    "start_time": "2022-04-19T05:29:09.096Z"
   },
   {
    "duration": 38,
    "start_time": "2022-04-19T05:29:09.352Z"
   },
   {
    "duration": 320,
    "start_time": "2022-04-19T05:29:09.392Z"
   },
   {
    "duration": 13,
    "start_time": "2022-04-19T05:29:09.715Z"
   },
   {
    "duration": 301,
    "start_time": "2022-04-19T05:29:09.731Z"
   },
   {
    "duration": 242,
    "start_time": "2022-04-19T05:29:10.034Z"
   },
   {
    "duration": 273,
    "start_time": "2022-04-19T05:29:10.279Z"
   },
   {
    "duration": 273,
    "start_time": "2022-04-19T05:29:10.554Z"
   },
   {
    "duration": 279,
    "start_time": "2022-04-19T05:29:10.829Z"
   },
   {
    "duration": 260,
    "start_time": "2022-04-19T05:29:11.110Z"
   }
  ],
  "kernelspec": {
   "display_name": "Python 3",
   "language": "python",
   "name": "python3"
  },
  "language_info": {
   "codemirror_mode": {
    "name": "ipython",
    "version": 3
   },
   "file_extension": ".py",
   "mimetype": "text/x-python",
   "name": "python",
   "nbconvert_exporter": "python",
   "pygments_lexer": "ipython3",
   "version": "3.7.4"
  },
  "toc": {
   "base_numbering": 1,
   "nav_menu": {},
   "number_sections": true,
   "sideBar": true,
   "skip_h1_title": true,
   "title_cell": "Содержание",
   "title_sidebar": "Contents",
   "toc_cell": true,
   "toc_position": {
    "height": "calc(100% - 180px)",
    "left": "10px",
    "top": "150px",
    "width": "165px"
   },
   "toc_section_display": true,
   "toc_window_display": false
  }
 },
 "nbformat": 4,
 "nbformat_minor": 4
}
