{
 "cells": [
  {
   "cell_type": "markdown",
   "metadata": {},
   "source": [
    "# Рекомендация тарифов"
   ]
  },
  {
   "cell_type": "markdown",
   "metadata": {},
   "source": [
    "В нашем распоряжении данные о поведении клиентов, которые уже перешли на эти тарифы (из проекта курса «Статистический анализ данных»). Нужно построить модель для задачи классификации, которая выберет подходящий тариф. Предобработка данных не понадобится — я её уже сделал.\n",
    "\n",
    "Построим модель с максимально большим значением *accuracy*. Чтобы сдать проект успешно, нужно довести долю правильных ответов по крайней мере до 0.75. Проверим *accuracy* на тестовой выборке."
   ]
  },
  {
   "cell_type": "markdown",
   "metadata": {},
   "source": [
    "## Откройте и изучите файл"
   ]
  },
  {
   "cell_type": "markdown",
   "metadata": {},
   "source": [
    "Импортируем необходимые данные"
   ]
  },
  {
   "cell_type": "code",
   "execution_count": 1,
   "metadata": {},
   "outputs": [],
   "source": [
    "import pandas as pd\n",
    "import numpy as np\n",
    "from sklearn.model_selection import train_test_split\n",
    "from sklearn.linear_model import LogisticRegression\n",
    "from sklearn.ensemble import RandomForestClassifier\n",
    "from sklearn.tree import DecisionTreeClassifier\n",
    "from sklearn.metrics import accuracy_score\n",
    "from sklearn.metrics import roc_curve\n",
    "from sklearn.metrics import auc\n",
    "import matplotlib.pyplot as plt \n",
    "from sklearn.metrics import mean_squared_error\n",
    "from sklearn.model_selection import GridSearchCV\n",
    "from sklearn.svm import SVC\n",
    "from sklearn.datasets import load_digits\n",
    "from sklearn.dummy import DummyClassifier\n",
    "import warnings"
   ]
  },
  {
   "cell_type": "code",
   "execution_count": 2,
   "metadata": {},
   "outputs": [
    {
     "data": {
      "text/html": [
       "<div>\n",
       "<style scoped>\n",
       "    .dataframe tbody tr th:only-of-type {\n",
       "        vertical-align: middle;\n",
       "    }\n",
       "\n",
       "    .dataframe tbody tr th {\n",
       "        vertical-align: top;\n",
       "    }\n",
       "\n",
       "    .dataframe thead th {\n",
       "        text-align: right;\n",
       "    }\n",
       "</style>\n",
       "<table border=\"1\" class=\"dataframe\">\n",
       "  <thead>\n",
       "    <tr style=\"text-align: right;\">\n",
       "      <th></th>\n",
       "      <th>calls</th>\n",
       "      <th>minutes</th>\n",
       "      <th>messages</th>\n",
       "      <th>mb_used</th>\n",
       "      <th>is_ultra</th>\n",
       "    </tr>\n",
       "  </thead>\n",
       "  <tbody>\n",
       "    <tr>\n",
       "      <td>0</td>\n",
       "      <td>40.0</td>\n",
       "      <td>311.90</td>\n",
       "      <td>83.0</td>\n",
       "      <td>19915.42</td>\n",
       "      <td>0</td>\n",
       "    </tr>\n",
       "    <tr>\n",
       "      <td>1</td>\n",
       "      <td>85.0</td>\n",
       "      <td>516.75</td>\n",
       "      <td>56.0</td>\n",
       "      <td>22696.96</td>\n",
       "      <td>0</td>\n",
       "    </tr>\n",
       "    <tr>\n",
       "      <td>2</td>\n",
       "      <td>77.0</td>\n",
       "      <td>467.66</td>\n",
       "      <td>86.0</td>\n",
       "      <td>21060.45</td>\n",
       "      <td>0</td>\n",
       "    </tr>\n",
       "    <tr>\n",
       "      <td>3</td>\n",
       "      <td>106.0</td>\n",
       "      <td>745.53</td>\n",
       "      <td>81.0</td>\n",
       "      <td>8437.39</td>\n",
       "      <td>1</td>\n",
       "    </tr>\n",
       "    <tr>\n",
       "      <td>4</td>\n",
       "      <td>66.0</td>\n",
       "      <td>418.74</td>\n",
       "      <td>1.0</td>\n",
       "      <td>14502.75</td>\n",
       "      <td>0</td>\n",
       "    </tr>\n",
       "    <tr>\n",
       "      <td>5</td>\n",
       "      <td>58.0</td>\n",
       "      <td>344.56</td>\n",
       "      <td>21.0</td>\n",
       "      <td>15823.37</td>\n",
       "      <td>0</td>\n",
       "    </tr>\n",
       "    <tr>\n",
       "      <td>6</td>\n",
       "      <td>57.0</td>\n",
       "      <td>431.64</td>\n",
       "      <td>20.0</td>\n",
       "      <td>3738.90</td>\n",
       "      <td>1</td>\n",
       "    </tr>\n",
       "    <tr>\n",
       "      <td>7</td>\n",
       "      <td>15.0</td>\n",
       "      <td>132.40</td>\n",
       "      <td>6.0</td>\n",
       "      <td>21911.60</td>\n",
       "      <td>0</td>\n",
       "    </tr>\n",
       "    <tr>\n",
       "      <td>8</td>\n",
       "      <td>7.0</td>\n",
       "      <td>43.39</td>\n",
       "      <td>3.0</td>\n",
       "      <td>2538.67</td>\n",
       "      <td>1</td>\n",
       "    </tr>\n",
       "    <tr>\n",
       "      <td>9</td>\n",
       "      <td>90.0</td>\n",
       "      <td>665.41</td>\n",
       "      <td>38.0</td>\n",
       "      <td>17358.61</td>\n",
       "      <td>0</td>\n",
       "    </tr>\n",
       "  </tbody>\n",
       "</table>\n",
       "</div>"
      ],
      "text/plain": [
       "   calls  minutes  messages   mb_used  is_ultra\n",
       "0   40.0   311.90      83.0  19915.42         0\n",
       "1   85.0   516.75      56.0  22696.96         0\n",
       "2   77.0   467.66      86.0  21060.45         0\n",
       "3  106.0   745.53      81.0   8437.39         1\n",
       "4   66.0   418.74       1.0  14502.75         0\n",
       "5   58.0   344.56      21.0  15823.37         0\n",
       "6   57.0   431.64      20.0   3738.90         1\n",
       "7   15.0   132.40       6.0  21911.60         0\n",
       "8    7.0    43.39       3.0   2538.67         1\n",
       "9   90.0   665.41      38.0  17358.61         0"
      ]
     },
     "execution_count": 2,
     "metadata": {},
     "output_type": "execute_result"
    }
   ],
   "source": [
    "users_behavior = pd.read_csv('D:\\Женя\\Обучение Женя\\Datasets/users_behavior.csv')\n",
    "users_behavior.head(10)"
   ]
  },
  {
   "cell_type": "markdown",
   "metadata": {},
   "source": [
    "Проверим типы данных"
   ]
  },
  {
   "cell_type": "code",
   "execution_count": 3,
   "metadata": {},
   "outputs": [
    {
     "name": "stdout",
     "output_type": "stream",
     "text": [
      "<class 'pandas.core.frame.DataFrame'>\n",
      "RangeIndex: 3214 entries, 0 to 3213\n",
      "Data columns (total 5 columns):\n",
      "calls       3214 non-null float64\n",
      "minutes     3214 non-null float64\n",
      "messages    3214 non-null float64\n",
      "mb_used     3214 non-null float64\n",
      "is_ultra    3214 non-null int64\n",
      "dtypes: float64(4), int64(1)\n",
      "memory usage: 125.6 KB\n"
     ]
    }
   ],
   "source": [
    "users_behavior.info()"
   ]
  },
  {
   "cell_type": "markdown",
   "metadata": {},
   "source": [
    "В столбце messages поменяем тип данных на целочисленный"
   ]
  },
  {
   "cell_type": "code",
   "execution_count": 4,
   "metadata": {
    "scrolled": true
   },
   "outputs": [
    {
     "name": "stdout",
     "output_type": "stream",
     "text": [
      "<class 'pandas.core.frame.DataFrame'>\n",
      "RangeIndex: 3214 entries, 0 to 3213\n",
      "Data columns (total 5 columns):\n",
      "calls       3214 non-null float64\n",
      "minutes     3214 non-null float64\n",
      "messages    3214 non-null Int64\n",
      "mb_used     3214 non-null float64\n",
      "is_ultra    3214 non-null int64\n",
      "dtypes: Int64(1), float64(3), int64(1)\n",
      "memory usage: 128.7 KB\n"
     ]
    }
   ],
   "source": [
    "users_behavior['messages'] = users_behavior['messages'].astype('Int64')\n",
    "users_behavior.info()"
   ]
  },
  {
   "cell_type": "code",
   "execution_count": 5,
   "metadata": {
    "scrolled": true
   },
   "outputs": [
    {
     "data": {
      "text/html": [
       "<div>\n",
       "<style scoped>\n",
       "    .dataframe tbody tr th:only-of-type {\n",
       "        vertical-align: middle;\n",
       "    }\n",
       "\n",
       "    .dataframe tbody tr th {\n",
       "        vertical-align: top;\n",
       "    }\n",
       "\n",
       "    .dataframe thead th {\n",
       "        text-align: right;\n",
       "    }\n",
       "</style>\n",
       "<table border=\"1\" class=\"dataframe\">\n",
       "  <thead>\n",
       "    <tr style=\"text-align: right;\">\n",
       "      <th></th>\n",
       "      <th>calls</th>\n",
       "      <th>minutes</th>\n",
       "      <th>messages</th>\n",
       "      <th>mb_used</th>\n",
       "      <th>is_ultra</th>\n",
       "    </tr>\n",
       "  </thead>\n",
       "  <tbody>\n",
       "    <tr>\n",
       "      <td>count</td>\n",
       "      <td>3214.000000</td>\n",
       "      <td>3214.000000</td>\n",
       "      <td>3214.000000</td>\n",
       "      <td>3214.000000</td>\n",
       "      <td>3214.000000</td>\n",
       "    </tr>\n",
       "    <tr>\n",
       "      <td>mean</td>\n",
       "      <td>63.038892</td>\n",
       "      <td>438.208787</td>\n",
       "      <td>38.281269</td>\n",
       "      <td>17207.673836</td>\n",
       "      <td>0.306472</td>\n",
       "    </tr>\n",
       "    <tr>\n",
       "      <td>std</td>\n",
       "      <td>33.236368</td>\n",
       "      <td>234.569872</td>\n",
       "      <td>36.148326</td>\n",
       "      <td>7570.968246</td>\n",
       "      <td>0.461100</td>\n",
       "    </tr>\n",
       "    <tr>\n",
       "      <td>min</td>\n",
       "      <td>0.000000</td>\n",
       "      <td>0.000000</td>\n",
       "      <td>0.000000</td>\n",
       "      <td>0.000000</td>\n",
       "      <td>0.000000</td>\n",
       "    </tr>\n",
       "    <tr>\n",
       "      <td>25%</td>\n",
       "      <td>40.000000</td>\n",
       "      <td>274.575000</td>\n",
       "      <td>9.000000</td>\n",
       "      <td>12491.902500</td>\n",
       "      <td>0.000000</td>\n",
       "    </tr>\n",
       "    <tr>\n",
       "      <td>50%</td>\n",
       "      <td>62.000000</td>\n",
       "      <td>430.600000</td>\n",
       "      <td>30.000000</td>\n",
       "      <td>16943.235000</td>\n",
       "      <td>0.000000</td>\n",
       "    </tr>\n",
       "    <tr>\n",
       "      <td>75%</td>\n",
       "      <td>82.000000</td>\n",
       "      <td>571.927500</td>\n",
       "      <td>57.000000</td>\n",
       "      <td>21424.700000</td>\n",
       "      <td>1.000000</td>\n",
       "    </tr>\n",
       "    <tr>\n",
       "      <td>max</td>\n",
       "      <td>244.000000</td>\n",
       "      <td>1632.060000</td>\n",
       "      <td>224.000000</td>\n",
       "      <td>49745.730000</td>\n",
       "      <td>1.000000</td>\n",
       "    </tr>\n",
       "  </tbody>\n",
       "</table>\n",
       "</div>"
      ],
      "text/plain": [
       "             calls      minutes     messages       mb_used     is_ultra\n",
       "count  3214.000000  3214.000000  3214.000000   3214.000000  3214.000000\n",
       "mean     63.038892   438.208787    38.281269  17207.673836     0.306472\n",
       "std      33.236368   234.569872    36.148326   7570.968246     0.461100\n",
       "min       0.000000     0.000000     0.000000      0.000000     0.000000\n",
       "25%      40.000000   274.575000     9.000000  12491.902500     0.000000\n",
       "50%      62.000000   430.600000    30.000000  16943.235000     0.000000\n",
       "75%      82.000000   571.927500    57.000000  21424.700000     1.000000\n",
       "max     244.000000  1632.060000   224.000000  49745.730000     1.000000"
      ]
     },
     "execution_count": 5,
     "metadata": {},
     "output_type": "execute_result"
    }
   ],
   "source": [
    "users_behavior.describe()"
   ]
  },
  {
   "cell_type": "markdown",
   "metadata": {},
   "source": [
    "Видим информацию с разных ракурсов"
   ]
  },
  {
   "cell_type": "markdown",
   "metadata": {},
   "source": [
    "Проверим данные на наличие дубликатов"
   ]
  },
  {
   "cell_type": "code",
   "execution_count": 6,
   "metadata": {},
   "outputs": [
    {
     "data": {
      "text/plain": [
       "0"
      ]
     },
     "execution_count": 6,
     "metadata": {},
     "output_type": "execute_result"
    }
   ],
   "source": [
    "users_behavior.duplicated().sum()"
   ]
  },
  {
   "cell_type": "markdown",
   "metadata": {},
   "source": [
    "Дубликатов не найдено"
   ]
  },
  {
   "cell_type": "markdown",
   "metadata": {},
   "source": [
    "Даные были проверены на предмет пропусков, дубликатов. С данными никаких аномалий не обнаружено, названия столбцов заданы корректно!"
   ]
  },
  {
   "cell_type": "markdown",
   "metadata": {},
   "source": [
    "## Разбейте данные на выборки"
   ]
  },
  {
   "cell_type": "markdown",
   "metadata": {},
   "source": [
    "Разделим исходные данные на обучающую, валидационную и тестовую выборки.\n",
    "Сначала разделим исходный датасет на обучающую и валидационную выборки в пропорции 60% и 40%. Затем разделим валидационную выборку пополам на валидационную и тестовую. "
   ]
  },
  {
   "cell_type": "code",
   "execution_count": 7,
   "metadata": {},
   "outputs": [],
   "source": [
    "users_behavior_train, users_behavior_valid = train_test_split(users_behavior, \n",
    "                                        train_size=0.60, test_size=0.40, random_state=123, stratify=users_behavior['is_ultra'])\n",
    "users_behavior_valid, users_behavior_test = train_test_split(users_behavior_valid, \n",
    "                                       train_size = 0.50, test_size=0.50, random_state=123, stratify=users_behavior_valid['is_ultra'])"
   ]
  },
  {
   "cell_type": "markdown",
   "metadata": {},
   "source": [
    "В каждой выборке выделим признаки (features) и целевой признак (target). В нашем случае целевой признак это данные из столбца is_ultra."
   ]
  },
  {
   "cell_type": "code",
   "execution_count": 8,
   "metadata": {},
   "outputs": [],
   "source": [
    "#обучающая выборка\n",
    "features_train = users_behavior_train.drop(['is_ultra'], axis=1)\n",
    "target_train = users_behavior_train['is_ultra']\n",
    "\n",
    "#валидационная выборка\n",
    "features_valid = users_behavior_valid.drop(['is_ultra'], axis=1)\n",
    "target_valid = users_behavior_valid['is_ultra']\n",
    "\n",
    "#тестовая выборка\n",
    "features_test = users_behavior_test.drop(['is_ultra'], axis=1)\n",
    "target_test = users_behavior_test['is_ultra']"
   ]
  },
  {
   "cell_type": "markdown",
   "metadata": {},
   "source": [
    "## Исследуйте модели"
   ]
  },
  {
   "cell_type": "markdown",
   "metadata": {},
   "source": [
    "# Random Forest"
   ]
  },
  {
   "cell_type": "code",
   "execution_count": 9,
   "metadata": {},
   "outputs": [
    {
     "name": "stdout",
     "output_type": "stream",
     "text": [
      "Result RF: 0.7682737169517885\n"
     ]
    },
    {
     "name": "stderr",
     "output_type": "stream",
     "text": [
      "D:\\Anakonda\\lib\\site-packages\\sklearn\\ensemble\\forest.py:245: FutureWarning: The default value of n_estimators will change from 10 in version 0.20 to 100 in 0.22.\n",
      "  \"10 in version 0.20 to 100 in 0.22.\", FutureWarning)\n"
     ]
    }
   ],
   "source": [
    "model_rf = RandomForestClassifier(random_state=123)\n",
    "model_rf.fit(features_train, target_train)\n",
    "predictions_rf = model_rf.predict(features_valid)\n",
    "accuracy_rf = accuracy_score(target_valid, predictions_rf)\n",
    "print('Result RF:', accuracy_rf)"
   ]
  },
  {
   "cell_type": "markdown",
   "metadata": {},
   "source": [
    "Мы получили данный результат, но это не лучшмй результат, поскольку мы не настроили гиперпараметры. С помощью цикла найдем лучший результат. Для этого в переменной result_rf сохраним все результаты и из нее найдем максимальный. А результат без гиперпараметров сохраним в переменной without_parameters"
   ]
  },
  {
   "cell_type": "code",
   "execution_count": 10,
   "metadata": {},
   "outputs": [],
   "source": [
    "without_hyperparameters = []\n",
    "without_hyperparameters.append({'RandomForestClassifier':accuracy_rf})"
   ]
  },
  {
   "cell_type": "code",
   "execution_count": 11,
   "metadata": {},
   "outputs": [],
   "source": [
    "result_rf =[]\n",
    "for depth in range(1, 11):\n",
    "    for est in range(10, 101, 10):\n",
    "        model = RandomForestClassifier(random_state=123, n_estimators=est, max_depth=depth)\n",
    "        model.fit(features_train, target_train)\n",
    "        predictions_valid = model.predict(features_valid)\n",
    "        accuracy_valid = accuracy_score(target_valid, predictions_valid)\n",
    "        result_rf.append({'Model name': 'RandomForestClassifier',\n",
    "                         'Hyperparameters': {'random_state':123,\n",
    "                                            'n_estimators': est,\n",
    "                                            'max_depth': depth},\n",
    "                         'Accuracy score': accuracy_valid})"
   ]
  },
  {
   "cell_type": "markdown",
   "metadata": {},
   "source": [
    "Сохраним лучший результат в переменной users_behavior_rf"
   ]
  },
  {
   "cell_type": "code",
   "execution_count": 12,
   "metadata": {
    "scrolled": true
   },
   "outputs": [
    {
     "data": {
      "text/html": [
       "<div>\n",
       "<style scoped>\n",
       "    .dataframe tbody tr th:only-of-type {\n",
       "        vertical-align: middle;\n",
       "    }\n",
       "\n",
       "    .dataframe tbody tr th {\n",
       "        vertical-align: top;\n",
       "    }\n",
       "\n",
       "    .dataframe thead th {\n",
       "        text-align: right;\n",
       "    }\n",
       "</style>\n",
       "<table border=\"1\" class=\"dataframe\">\n",
       "  <thead>\n",
       "    <tr style=\"text-align: right;\">\n",
       "      <th></th>\n",
       "      <th>Model name</th>\n",
       "      <th>Hyperparameters</th>\n",
       "      <th>Accuracy score</th>\n",
       "    </tr>\n",
       "  </thead>\n",
       "  <tbody>\n",
       "    <tr>\n",
       "      <td>70</td>\n",
       "      <td>RandomForestClassifier</td>\n",
       "      <td>{'random_state': 123, 'n_estimators': 10, 'max...</td>\n",
       "      <td>0.802488</td>\n",
       "    </tr>\n",
       "    <tr>\n",
       "      <td>77</td>\n",
       "      <td>RandomForestClassifier</td>\n",
       "      <td>{'random_state': 123, 'n_estimators': 80, 'max...</td>\n",
       "      <td>0.802488</td>\n",
       "    </tr>\n",
       "  </tbody>\n",
       "</table>\n",
       "</div>"
      ],
      "text/plain": [
       "                Model name                                    Hyperparameters  \\\n",
       "70  RandomForestClassifier  {'random_state': 123, 'n_estimators': 10, 'max...   \n",
       "77  RandomForestClassifier  {'random_state': 123, 'n_estimators': 80, 'max...   \n",
       "\n",
       "    Accuracy score  \n",
       "70        0.802488  \n",
       "77        0.802488  "
      ]
     },
     "execution_count": 12,
     "metadata": {},
     "output_type": "execute_result"
    }
   ],
   "source": [
    "users_behavior_rf = pd.DataFrame.from_dict(result_rf)\n",
    "users_behavior_rf[users_behavior_rf['Accuracy score'] == users_behavior_rf['Accuracy score'].max()]"
   ]
  },
  {
   "cell_type": "markdown",
   "metadata": {},
   "source": [
    "Наилучший результат достигнутый моделью - 0.835148 "
   ]
  },
  {
   "cell_type": "markdown",
   "metadata": {},
   "source": [
    "Сохраним результат в переменной best_result"
   ]
  },
  {
   "cell_type": "code",
   "execution_count": 13,
   "metadata": {},
   "outputs": [],
   "source": [
    "best_results =[]\n",
    "best_results.append(users_behavior_rf.loc[86])"
   ]
  },
  {
   "cell_type": "markdown",
   "metadata": {},
   "source": [
    "# DecisionTree"
   ]
  },
  {
   "cell_type": "markdown",
   "metadata": {},
   "source": [
    "Также как и в предыдущем шаге попробуем получить результат без гиперпараметров"
   ]
  },
  {
   "cell_type": "code",
   "execution_count": 14,
   "metadata": {},
   "outputs": [
    {
     "name": "stdout",
     "output_type": "stream",
     "text": [
      "Result DT: 0.6920684292379471\n"
     ]
    }
   ],
   "source": [
    "model_dt = DecisionTreeClassifier(random_state=123)\n",
    "model_dt.fit(features_train, target_train)\n",
    "predictions_valid = model_dt.predict(features_valid)\n",
    "accuracy_dt = accuracy_score(target_valid, predictions_valid)\n",
    "print('Result DT:', accuracy_dt)"
   ]
  },
  {
   "cell_type": "markdown",
   "metadata": {},
   "source": [
    "Сохраним результат в переменной without_parameters"
   ]
  },
  {
   "cell_type": "code",
   "execution_count": 15,
   "metadata": {},
   "outputs": [],
   "source": [
    "without_hyperparameters.append({'DecisionTreeClassifier':accuracy_dt})"
   ]
  },
  {
   "cell_type": "markdown",
   "metadata": {},
   "source": [
    "Для получения лучшего результата переберем в цикле гиперпараметр глубины деревьев(depth). Результат сохраним в переменной result_dt"
   ]
  },
  {
   "cell_type": "code",
   "execution_count": 16,
   "metadata": {},
   "outputs": [],
   "source": [
    "result_dt = []\n",
    "for depth in range(1,11):\n",
    "    model = DecisionTreeClassifier(random_state=123, max_depth=depth)\n",
    "    model.fit(features_train, target_train)\n",
    "    predictions_valid = model.predict(features_valid)\n",
    "    accuracy_valid = accuracy_score(target_valid, predictions_valid)\n",
    "    result_dt.append({'Model name': 'DecisionTreeClassifier',\n",
    "                     'Hyperparameters': {'random_state': 123, 'max_depth':depth},\n",
    "                                        'Accuracy score': accuracy_valid})"
   ]
  },
  {
   "cell_type": "markdown",
   "metadata": {},
   "source": [
    "Выведим лучший результат"
   ]
  },
  {
   "cell_type": "code",
   "execution_count": 17,
   "metadata": {},
   "outputs": [
    {
     "data": {
      "text/html": [
       "<div>\n",
       "<style scoped>\n",
       "    .dataframe tbody tr th:only-of-type {\n",
       "        vertical-align: middle;\n",
       "    }\n",
       "\n",
       "    .dataframe tbody tr th {\n",
       "        vertical-align: top;\n",
       "    }\n",
       "\n",
       "    .dataframe thead th {\n",
       "        text-align: right;\n",
       "    }\n",
       "</style>\n",
       "<table border=\"1\" class=\"dataframe\">\n",
       "  <thead>\n",
       "    <tr style=\"text-align: right;\">\n",
       "      <th></th>\n",
       "      <th>Model name</th>\n",
       "      <th>Hyperparameters</th>\n",
       "      <th>Accuracy score</th>\n",
       "    </tr>\n",
       "  </thead>\n",
       "  <tbody>\n",
       "    <tr>\n",
       "      <td>7</td>\n",
       "      <td>DecisionTreeClassifier</td>\n",
       "      <td>{'random_state': 123, 'max_depth': 8}</td>\n",
       "      <td>0.807154</td>\n",
       "    </tr>\n",
       "  </tbody>\n",
       "</table>\n",
       "</div>"
      ],
      "text/plain": [
       "               Model name                        Hyperparameters  \\\n",
       "7  DecisionTreeClassifier  {'random_state': 123, 'max_depth': 8}   \n",
       "\n",
       "   Accuracy score  \n",
       "7        0.807154  "
      ]
     },
     "execution_count": 17,
     "metadata": {},
     "output_type": "execute_result"
    }
   ],
   "source": [
    "users_behavior_dt = pd.DataFrame.from_dict(result_dt)\n",
    "users_behavior_dt[users_behavior_dt['Accuracy score'] == users_behavior_dt['Accuracy score'].max()]"
   ]
  },
  {
   "cell_type": "markdown",
   "metadata": {},
   "source": [
    "Наилучший результат получается при параметрах max_depth: 5 и равен 0.822706"
   ]
  },
  {
   "cell_type": "markdown",
   "metadata": {},
   "source": [
    "Сохраним результат в переменной best_result"
   ]
  },
  {
   "cell_type": "code",
   "execution_count": 18,
   "metadata": {},
   "outputs": [],
   "source": [
    "best_results.append(users_behavior_dt.loc[4])"
   ]
  },
  {
   "cell_type": "markdown",
   "metadata": {},
   "source": [
    "# LogisticRegression"
   ]
  },
  {
   "cell_type": "markdown",
   "metadata": {},
   "source": [
    "Также проверим результат без гиперпараметров и сохраним в переменную without_parameters"
   ]
  },
  {
   "cell_type": "code",
   "execution_count": 19,
   "metadata": {},
   "outputs": [
    {
     "name": "stderr",
     "output_type": "stream",
     "text": [
      "D:\\Anakonda\\lib\\site-packages\\sklearn\\linear_model\\logistic.py:432: FutureWarning: Default solver will be changed to 'lbfgs' in 0.22. Specify a solver to silence this warning.\n",
      "  FutureWarning)\n"
     ]
    },
    {
     "data": {
      "text/plain": [
       "0.6936236391912908"
      ]
     },
     "execution_count": 19,
     "metadata": {},
     "output_type": "execute_result"
    }
   ],
   "source": [
    "model_lr_without_hyperparameters = LogisticRegression()\n",
    "model_lr_without_hyperparameters.fit(features_train, target_train)\n",
    "predictions_lr = model_lr_without_hyperparameters.predict(features_valid)\n",
    "accuracy_lr = accuracy_score(target_valid, predictions_lr)\n",
    "accuracy_lr"
   ]
  },
  {
   "cell_type": "code",
   "execution_count": 20,
   "metadata": {},
   "outputs": [],
   "source": [
    "without_hyperparameters.append({'LogisticRegression':accuracy_lr})"
   ]
  },
  {
   "cell_type": "markdown",
   "metadata": {},
   "source": [
    "Применим гиперпараметры"
   ]
  },
  {
   "cell_type": "code",
   "execution_count": 21,
   "metadata": {},
   "outputs": [
    {
     "data": {
      "text/plain": [
       "0.6967340590979783"
      ]
     },
     "execution_count": 21,
     "metadata": {},
     "output_type": "execute_result"
    }
   ],
   "source": [
    "results_lr = []\n",
    "model_lr = LogisticRegression(random_state=123, solver='lbfgs', penalty='l2')\n",
    "model_lr.fit(features_train, target_train)\n",
    "predictions_lr = model_lr.predict(features_valid)\n",
    "accuracy_lr = accuracy_score(target_valid, predictions_lr)\n",
    "results_lr.append({'Model name': 'LogisticRegression',\n",
    "                 'Hyperparameters': {'random_state': 123, 'solver':'lbfgs', 'penalty': 'l2'},\n",
    "                 'Accuracy score': accuracy_lr})\n",
    "accuracy_lr"
   ]
  },
  {
   "cell_type": "markdown",
   "metadata": {},
   "source": [
    "Попробуем применить другие гиперпараметры(solver='liblinear', penalty='l1')"
   ]
  },
  {
   "cell_type": "code",
   "execution_count": 22,
   "metadata": {},
   "outputs": [
    {
     "data": {
      "text/plain": [
       "0.6936236391912908"
      ]
     },
     "execution_count": 22,
     "metadata": {},
     "output_type": "execute_result"
    }
   ],
   "source": [
    "model_lr = LogisticRegression(random_state=123, solver='liblinear', penalty='l1', C=0.001)\n",
    "model_lr.fit(features_train, target_train)\n",
    "predictions_lr = model_lr.predict(features_valid)\n",
    "accuracy_lr = accuracy_score(target_valid, predictions_lr)\n",
    "results_lr.append({'Model name': 'LogisticRegression',\n",
    "                 'Hyperparameters': {'random_state': 123, 'solver':'liblinear', 'penalty': 'l1'},\n",
    "                 'Accuracy score': accuracy_lr})\n",
    "accuracy_lr"
   ]
  },
  {
   "cell_type": "markdown",
   "metadata": {},
   "source": [
    "Результат лучше. Добавим его в best_results"
   ]
  },
  {
   "cell_type": "code",
   "execution_count": 23,
   "metadata": {},
   "outputs": [],
   "source": [
    "users_behavior_lr = pd.DataFrame.from_dict(results_lr)\n",
    "best_results.append(users_behavior_lr.loc[1])"
   ]
  },
  {
   "cell_type": "markdown",
   "metadata": {},
   "source": [
    "# Сравнение моделей"
   ]
  },
  {
   "cell_type": "markdown",
   "metadata": {},
   "source": [
    "Для начала сравним результаты расчетов без применения гиперпараметров"
   ]
  },
  {
   "cell_type": "code",
   "execution_count": 24,
   "metadata": {},
   "outputs": [
    {
     "data": {
      "text/html": [
       "<div>\n",
       "<style scoped>\n",
       "    .dataframe tbody tr th:only-of-type {\n",
       "        vertical-align: middle;\n",
       "    }\n",
       "\n",
       "    .dataframe tbody tr th {\n",
       "        vertical-align: top;\n",
       "    }\n",
       "\n",
       "    .dataframe thead th {\n",
       "        text-align: right;\n",
       "    }\n",
       "</style>\n",
       "<table border=\"1\" class=\"dataframe\">\n",
       "  <thead>\n",
       "    <tr style=\"text-align: right;\">\n",
       "      <th></th>\n",
       "      <th>RandomForestClassifier</th>\n",
       "      <th>DecisionTreeClassifier</th>\n",
       "      <th>LogisticRegression</th>\n",
       "    </tr>\n",
       "  </thead>\n",
       "  <tbody>\n",
       "    <tr>\n",
       "      <td>0</td>\n",
       "      <td>0.768274</td>\n",
       "      <td>NaN</td>\n",
       "      <td>NaN</td>\n",
       "    </tr>\n",
       "    <tr>\n",
       "      <td>1</td>\n",
       "      <td>NaN</td>\n",
       "      <td>0.692068</td>\n",
       "      <td>NaN</td>\n",
       "    </tr>\n",
       "    <tr>\n",
       "      <td>2</td>\n",
       "      <td>NaN</td>\n",
       "      <td>NaN</td>\n",
       "      <td>0.693624</td>\n",
       "    </tr>\n",
       "  </tbody>\n",
       "</table>\n",
       "</div>"
      ],
      "text/plain": [
       "   RandomForestClassifier  DecisionTreeClassifier  LogisticRegression\n",
       "0                0.768274                     NaN                 NaN\n",
       "1                     NaN                0.692068                 NaN\n",
       "2                     NaN                     NaN            0.693624"
      ]
     },
     "execution_count": 24,
     "metadata": {},
     "output_type": "execute_result"
    }
   ],
   "source": [
    "pd.DataFrame(without_hyperparameters)"
   ]
  },
  {
   "cell_type": "markdown",
   "metadata": {},
   "source": [
    "Из таблицы видно, что лучший результат показал RandomForestClassifier. Худший DecisionTreeClassifier "
   ]
  },
  {
   "cell_type": "markdown",
   "metadata": {},
   "source": [
    "Посмотрим на лучшие расчеты с гиперпараметрами"
   ]
  },
  {
   "cell_type": "code",
   "execution_count": 25,
   "metadata": {},
   "outputs": [
    {
     "data": {
      "text/html": [
       "<div>\n",
       "<style scoped>\n",
       "    .dataframe tbody tr th:only-of-type {\n",
       "        vertical-align: middle;\n",
       "    }\n",
       "\n",
       "    .dataframe tbody tr th {\n",
       "        vertical-align: top;\n",
       "    }\n",
       "\n",
       "    .dataframe thead th {\n",
       "        text-align: right;\n",
       "    }\n",
       "</style>\n",
       "<table border=\"1\" class=\"dataframe\">\n",
       "  <thead>\n",
       "    <tr style=\"text-align: right;\">\n",
       "      <th></th>\n",
       "      <th>Model name</th>\n",
       "      <th>Hyperparameters</th>\n",
       "      <th>Accuracy score</th>\n",
       "    </tr>\n",
       "  </thead>\n",
       "  <tbody>\n",
       "    <tr>\n",
       "      <td>86</td>\n",
       "      <td>RandomForestClassifier</td>\n",
       "      <td>{'random_state': 123, 'n_estimators': 70, 'max...</td>\n",
       "      <td>0.791602</td>\n",
       "    </tr>\n",
       "    <tr>\n",
       "      <td>4</td>\n",
       "      <td>DecisionTreeClassifier</td>\n",
       "      <td>{'random_state': 123, 'max_depth': 5}</td>\n",
       "      <td>0.783826</td>\n",
       "    </tr>\n",
       "    <tr>\n",
       "      <td>1</td>\n",
       "      <td>LogisticRegression</td>\n",
       "      <td>{'random_state': 123, 'solver': 'liblinear', '...</td>\n",
       "      <td>0.693624</td>\n",
       "    </tr>\n",
       "  </tbody>\n",
       "</table>\n",
       "</div>"
      ],
      "text/plain": [
       "                Model name                                    Hyperparameters  \\\n",
       "86  RandomForestClassifier  {'random_state': 123, 'n_estimators': 70, 'max...   \n",
       "4   DecisionTreeClassifier              {'random_state': 123, 'max_depth': 5}   \n",
       "1       LogisticRegression  {'random_state': 123, 'solver': 'liblinear', '...   \n",
       "\n",
       "    Accuracy score  \n",
       "86        0.791602  \n",
       "4         0.783826  \n",
       "1         0.693624  "
      ]
     },
     "execution_count": 25,
     "metadata": {},
     "output_type": "execute_result"
    }
   ],
   "source": [
    "pd.DataFrame(best_results)"
   ]
  },
  {
   "cell_type": "markdown",
   "metadata": {},
   "source": [
    "Из данной таблицы видно, что лучший результат получился также методом RandomForestClassifier. Худший методом LogisticRegression"
   ]
  },
  {
   "cell_type": "markdown",
   "metadata": {},
   "source": [
    "# Вывод"
   ]
  },
  {
   "cell_type": "markdown",
   "metadata": {},
   "source": [
    "Были произведены расчеты путем применения трех методов - RandomForestClassifier, DecisionTreeClassifier и LogisticRegression. Каждую модель обучили на обучающей и валидационной выборках. Было выяснено, что без применения гиперпараметров лушчий результат показал метод RandomForestClassifier (метод Случайного леса). Также с настройкой гиперпараметров лидирует результат того же метода - RandomForestClassifier. \n",
    "\n",
    "Проверим модель RandomForestClassifier на тестовой выборке c гиперпараметрами(n_estimators=70, max_depth=9)"
   ]
  },
  {
   "cell_type": "markdown",
   "metadata": {},
   "source": [
    "## Проверьте модель на тестовой выборке"
   ]
  },
  {
   "cell_type": "code",
   "execution_count": 26,
   "metadata": {},
   "outputs": [
    {
     "data": {
      "text/plain": [
       "0.8195956454121306"
      ]
     },
     "execution_count": 26,
     "metadata": {},
     "output_type": "execute_result"
    }
   ],
   "source": [
    "model_test = RandomForestClassifier(random_state=123, n_estimators=70, max_depth=9)\n",
    "model_test.fit(features_train, target_train)\n",
    "predictions_test = model_test.predict(features_test)\n",
    "accuracy_test = accuracy_score(target_test, predictions_test)\n",
    "accuracy_test"
   ]
  },
  {
   "cell_type": "markdown",
   "metadata": {},
   "source": [
    "Проверка модели показала, что модель способна правильно предсказать около 82% ответов."
   ]
  },
  {
   "cell_type": "markdown",
   "metadata": {},
   "source": [
    "## (бонус) Проверьте модели на адекватность"
   ]
  },
  {
   "cell_type": "markdown",
   "metadata": {},
   "source": [
    "Для проверки модели на адекватность используем DummyModels"
   ]
  },
  {
   "cell_type": "code",
   "execution_count": 27,
   "metadata": {},
   "outputs": [
    {
     "name": "stdout",
     "output_type": "stream",
     "text": [
      "0.6936236391912908\n"
     ]
    }
   ],
   "source": [
    "dummy_final = DummyClassifier(strategy='most_frequent')\n",
    "dummy_final.fit(features_train, target_train)\n",
    "predictions_test = dummy_final.predict(features_test)\n",
    "accuracy_final = accuracy_score(target_test, predictions_test)\n",
    "print(accuracy_final)"
   ]
  },
  {
   "cell_type": "markdown",
   "metadata": {},
   "source": []
  }
 ],
 "metadata": {
  "ExecuteTimeLog": [
   {
    "duration": 1677,
    "start_time": "2022-05-28T13:40:18.445Z"
   },
   {
    "duration": 311,
    "start_time": "2022-05-28T13:40:20.124Z"
   },
   {
    "duration": 285,
    "start_time": "2022-05-28T15:19:03.836Z"
   },
   {
    "duration": 139,
    "start_time": "2022-05-28T15:40:22.734Z"
   },
   {
    "duration": 88,
    "start_time": "2022-05-28T15:47:16.873Z"
   },
   {
    "duration": 55,
    "start_time": "2022-05-29T04:09:12.421Z"
   },
   {
    "duration": 1019,
    "start_time": "2022-05-29T04:09:20.832Z"
   },
   {
    "duration": 0,
    "start_time": "2022-05-29T04:09:21.854Z"
   },
   {
    "duration": 10,
    "start_time": "2022-05-29T04:09:58.627Z"
   },
   {
    "duration": 308,
    "start_time": "2022-05-29T04:10:34.671Z"
   },
   {
    "duration": 188,
    "start_time": "2022-05-29T04:10:37.023Z"
   },
   {
    "duration": 1087,
    "start_time": "2022-05-29T04:11:52.535Z"
   },
   {
    "duration": 98,
    "start_time": "2022-05-29T04:11:53.624Z"
   },
   {
    "duration": 11,
    "start_time": "2022-05-29T04:11:53.724Z"
   },
   {
    "duration": 123,
    "start_time": "2022-05-29T04:13:35.025Z"
   },
   {
    "duration": 11,
    "start_time": "2022-05-29T04:14:14.596Z"
   },
   {
    "duration": 32,
    "start_time": "2022-05-29T04:15:12.130Z"
   },
   {
    "duration": 4,
    "start_time": "2022-05-29T04:15:15.847Z"
   },
   {
    "duration": 7,
    "start_time": "2022-05-29T04:15:18.148Z"
   },
   {
    "duration": 9,
    "start_time": "2022-05-29T04:24:23.015Z"
   },
   {
    "duration": 9,
    "start_time": "2022-05-29T04:24:33.483Z"
   },
   {
    "duration": 16,
    "start_time": "2022-05-29T04:24:59.113Z"
   },
   {
    "duration": 1100,
    "start_time": "2022-05-29T04:25:11.360Z"
   },
   {
    "duration": 99,
    "start_time": "2022-05-29T04:25:12.462Z"
   },
   {
    "duration": 11,
    "start_time": "2022-05-29T04:25:12.562Z"
   },
   {
    "duration": 28,
    "start_time": "2022-05-29T04:25:12.575Z"
   },
   {
    "duration": 6,
    "start_time": "2022-05-29T04:25:12.605Z"
   },
   {
    "duration": 125,
    "start_time": "2022-05-29T04:25:12.613Z"
   },
   {
    "duration": 0,
    "start_time": "2022-05-29T04:25:12.741Z"
   },
   {
    "duration": 4,
    "start_time": "2022-05-29T04:25:27.048Z"
   },
   {
    "duration": 6,
    "start_time": "2022-05-29T04:25:29.982Z"
   },
   {
    "duration": 4,
    "start_time": "2022-05-29T04:25:43.651Z"
   },
   {
    "duration": 6,
    "start_time": "2022-05-29T04:25:54.874Z"
   },
   {
    "duration": 4,
    "start_time": "2022-05-29T04:25:59.173Z"
   },
   {
    "duration": 5,
    "start_time": "2022-05-29T04:26:22.545Z"
   },
   {
    "duration": 5,
    "start_time": "2022-05-29T04:28:53.876Z"
   },
   {
    "duration": 12,
    "start_time": "2022-05-29T04:49:45.086Z"
   },
   {
    "duration": 30,
    "start_time": "2022-05-29T04:50:31.762Z"
   },
   {
    "duration": 1152,
    "start_time": "2022-05-29T04:51:08.936Z"
   },
   {
    "duration": 133,
    "start_time": "2022-05-29T04:51:10.089Z"
   },
   {
    "duration": 11,
    "start_time": "2022-05-29T04:51:10.223Z"
   },
   {
    "duration": 13,
    "start_time": "2022-05-29T04:51:10.236Z"
   },
   {
    "duration": 6,
    "start_time": "2022-05-29T04:51:10.251Z"
   },
   {
    "duration": 4,
    "start_time": "2022-05-29T04:51:10.258Z"
   },
   {
    "duration": 7,
    "start_time": "2022-05-29T04:51:10.263Z"
   },
   {
    "duration": 7,
    "start_time": "2022-05-29T04:51:10.271Z"
   },
   {
    "duration": 149,
    "start_time": "2022-05-29T04:51:10.279Z"
   },
   {
    "duration": 100181,
    "start_time": "2022-05-29T04:52:17.096Z"
   },
   {
    "duration": 10,
    "start_time": "2022-05-29T05:03:01.703Z"
   },
   {
    "duration": 4,
    "start_time": "2022-05-29T05:03:16.586Z"
   },
   {
    "duration": 36,
    "start_time": "2022-05-29T05:03:19.905Z"
   },
   {
    "duration": 10,
    "start_time": "2022-05-29T05:03:21.627Z"
   },
   {
    "duration": 12,
    "start_time": "2022-05-29T05:03:23.332Z"
   },
   {
    "duration": 6,
    "start_time": "2022-05-29T05:03:24.909Z"
   },
   {
    "duration": 4,
    "start_time": "2022-05-29T05:03:27.093Z"
   },
   {
    "duration": 5,
    "start_time": "2022-05-29T05:03:28.219Z"
   },
   {
    "duration": 5,
    "start_time": "2022-05-29T05:03:29.375Z"
   },
   {
    "duration": 1212,
    "start_time": "2022-05-29T05:05:00.574Z"
   },
   {
    "duration": 121,
    "start_time": "2022-05-29T05:05:01.788Z"
   },
   {
    "duration": 18,
    "start_time": "2022-05-29T05:05:01.911Z"
   },
   {
    "duration": 42,
    "start_time": "2022-05-29T05:05:01.931Z"
   },
   {
    "duration": 22,
    "start_time": "2022-05-29T05:05:01.975Z"
   },
   {
    "duration": 31,
    "start_time": "2022-05-29T05:05:01.998Z"
   },
   {
    "duration": 32,
    "start_time": "2022-05-29T05:05:02.031Z"
   },
   {
    "duration": 37,
    "start_time": "2022-05-29T05:05:02.065Z"
   },
   {
    "duration": 104547,
    "start_time": "2022-05-29T05:05:02.105Z"
   },
   {
    "duration": 8,
    "start_time": "2022-05-29T05:06:46.654Z"
   },
   {
    "duration": 113,
    "start_time": "2022-05-29T05:07:09.517Z"
   },
   {
    "duration": 1143,
    "start_time": "2022-05-29T05:07:58.665Z"
   },
   {
    "duration": 106,
    "start_time": "2022-05-29T05:07:59.810Z"
   },
   {
    "duration": 11,
    "start_time": "2022-05-29T05:07:59.918Z"
   },
   {
    "duration": 10,
    "start_time": "2022-05-29T05:07:59.931Z"
   },
   {
    "duration": 5,
    "start_time": "2022-05-29T05:07:59.943Z"
   },
   {
    "duration": 8,
    "start_time": "2022-05-29T05:07:59.950Z"
   },
   {
    "duration": 9,
    "start_time": "2022-05-29T05:07:59.960Z"
   },
   {
    "duration": 5,
    "start_time": "2022-05-29T05:07:59.971Z"
   },
   {
    "duration": 150,
    "start_time": "2022-05-29T05:07:59.977Z"
   },
   {
    "duration": 0,
    "start_time": "2022-05-29T05:08:00.129Z"
   },
   {
    "duration": 0,
    "start_time": "2022-05-29T05:08:00.130Z"
   },
   {
    "duration": 127437,
    "start_time": "2022-05-29T05:08:12.547Z"
   },
   {
    "duration": 8,
    "start_time": "2022-05-29T05:10:19.987Z"
   },
   {
    "duration": 46,
    "start_time": "2022-05-29T05:10:19.996Z"
   },
   {
    "duration": 20,
    "start_time": "2022-05-29T05:11:03.358Z"
   },
   {
    "duration": 20,
    "start_time": "2022-05-29T05:11:12.715Z"
   },
   {
    "duration": 19,
    "start_time": "2022-05-29T05:11:16.691Z"
   },
   {
    "duration": 23,
    "start_time": "2022-05-29T05:11:31.351Z"
   },
   {
    "duration": 23,
    "start_time": "2022-05-29T05:12:58.689Z"
   },
   {
    "duration": 24,
    "start_time": "2022-05-29T05:16:17.890Z"
   },
   {
    "duration": 36,
    "start_time": "2022-05-29T05:16:29.868Z"
   },
   {
    "duration": 20,
    "start_time": "2022-05-29T05:27:04.213Z"
   },
   {
    "duration": 22,
    "start_time": "2022-05-29T05:27:11.860Z"
   },
   {
    "duration": 4796,
    "start_time": "2022-05-29T05:29:18.825Z"
   },
   {
    "duration": 4814,
    "start_time": "2022-05-29T05:29:31.164Z"
   },
   {
    "duration": 142955,
    "start_time": "2022-05-29T05:29:49.805Z"
   },
   {
    "duration": 8,
    "start_time": "2022-05-29T05:42:04.666Z"
   },
   {
    "duration": 18,
    "start_time": "2022-05-29T05:44:03.360Z"
   },
   {
    "duration": 218,
    "start_time": "2022-05-29T05:44:45.215Z"
   },
   {
    "duration": 4,
    "start_time": "2022-05-29T05:48:26.204Z"
   },
   {
    "duration": 24,
    "start_time": "2022-05-29T06:10:30.342Z"
   },
   {
    "duration": 27,
    "start_time": "2022-05-29T06:10:44.104Z"
   },
   {
    "duration": 31,
    "start_time": "2022-05-29T06:10:53.845Z"
   },
   {
    "duration": 12,
    "start_time": "2022-05-29T06:17:43.578Z"
   },
   {
    "duration": 14,
    "start_time": "2022-05-29T06:18:14.724Z"
   },
   {
    "duration": 1133,
    "start_time": "2022-05-29T06:18:29.209Z"
   },
   {
    "duration": 113,
    "start_time": "2022-05-29T06:18:30.344Z"
   },
   {
    "duration": 11,
    "start_time": "2022-05-29T06:18:30.459Z"
   },
   {
    "duration": 30,
    "start_time": "2022-05-29T06:18:30.472Z"
   },
   {
    "duration": 5,
    "start_time": "2022-05-29T06:18:30.504Z"
   },
   {
    "duration": 44,
    "start_time": "2022-05-29T06:18:30.511Z"
   },
   {
    "duration": 23,
    "start_time": "2022-05-29T06:18:30.558Z"
   },
   {
    "duration": 18,
    "start_time": "2022-05-29T06:18:30.583Z"
   },
   {
    "duration": 105038,
    "start_time": "2022-05-29T06:18:30.602Z"
   },
   {
    "duration": 124,
    "start_time": "2022-05-29T06:20:15.644Z"
   },
   {
    "duration": 0,
    "start_time": "2022-05-29T06:20:15.770Z"
   },
   {
    "duration": 0,
    "start_time": "2022-05-29T06:20:15.772Z"
   },
   {
    "duration": 10,
    "start_time": "2022-05-29T06:43:05.193Z"
   },
   {
    "duration": 10,
    "start_time": "2022-05-29T06:53:05.511Z"
   },
   {
    "duration": 6,
    "start_time": "2022-05-29T06:53:28.157Z"
   },
   {
    "duration": 6,
    "start_time": "2022-05-29T06:53:44.754Z"
   },
   {
    "duration": 12,
    "start_time": "2022-05-29T07:01:09.333Z"
   },
   {
    "duration": 1113,
    "start_time": "2022-05-29T07:02:09.522Z"
   },
   {
    "duration": 101,
    "start_time": "2022-05-29T07:02:10.636Z"
   },
   {
    "duration": 10,
    "start_time": "2022-05-29T07:02:10.739Z"
   },
   {
    "duration": 12,
    "start_time": "2022-05-29T07:02:10.751Z"
   },
   {
    "duration": 5,
    "start_time": "2022-05-29T07:02:10.764Z"
   },
   {
    "duration": 124,
    "start_time": "2022-05-29T07:02:10.771Z"
   },
   {
    "duration": 0,
    "start_time": "2022-05-29T07:02:10.897Z"
   },
   {
    "duration": 0,
    "start_time": "2022-05-29T07:02:10.898Z"
   },
   {
    "duration": 0,
    "start_time": "2022-05-29T07:02:10.899Z"
   },
   {
    "duration": 0,
    "start_time": "2022-05-29T07:02:10.900Z"
   },
   {
    "duration": 0,
    "start_time": "2022-05-29T07:02:10.901Z"
   },
   {
    "duration": 5,
    "start_time": "2022-05-29T07:02:52.954Z"
   },
   {
    "duration": 6,
    "start_time": "2022-05-29T07:02:55.905Z"
   },
   {
    "duration": 9,
    "start_time": "2022-05-29T07:09:24.260Z"
   },
   {
    "duration": 1083,
    "start_time": "2022-05-29T07:09:43.525Z"
   },
   {
    "duration": 107,
    "start_time": "2022-05-29T07:09:44.612Z"
   },
   {
    "duration": 11,
    "start_time": "2022-05-29T07:09:44.721Z"
   },
   {
    "duration": 11,
    "start_time": "2022-05-29T07:09:44.733Z"
   },
   {
    "duration": 7,
    "start_time": "2022-05-29T07:09:44.746Z"
   },
   {
    "duration": 5,
    "start_time": "2022-05-29T07:09:44.754Z"
   },
   {
    "duration": 6,
    "start_time": "2022-05-29T07:09:44.760Z"
   },
   {
    "duration": 388,
    "start_time": "2022-05-29T07:09:44.767Z"
   },
   {
    "duration": 4,
    "start_time": "2022-05-29T07:09:45.158Z"
   },
   {
    "duration": 0,
    "start_time": "2022-05-29T07:09:45.163Z"
   },
   {
    "duration": 0,
    "start_time": "2022-05-29T07:09:45.165Z"
   },
   {
    "duration": 113,
    "start_time": "2022-05-29T07:22:34.922Z"
   },
   {
    "duration": 33,
    "start_time": "2022-05-29T07:22:52.706Z"
   },
   {
    "duration": 12706,
    "start_time": "2022-05-29T07:22:58.087Z"
   },
   {
    "duration": 609,
    "start_time": "2022-05-29T07:26:15.657Z"
   },
   {
    "duration": 256,
    "start_time": "2022-05-29T07:26:27.054Z"
   },
   {
    "duration": 8,
    "start_time": "2022-05-29T07:28:42.525Z"
   },
   {
    "duration": 11,
    "start_time": "2022-05-29T07:35:55.265Z"
   },
   {
    "duration": 1060,
    "start_time": "2022-05-29T07:36:21.063Z"
   },
   {
    "duration": 103,
    "start_time": "2022-05-29T07:36:22.125Z"
   },
   {
    "duration": 10,
    "start_time": "2022-05-29T07:36:22.230Z"
   },
   {
    "duration": 11,
    "start_time": "2022-05-29T07:36:22.242Z"
   },
   {
    "duration": 5,
    "start_time": "2022-05-29T07:36:22.255Z"
   },
   {
    "duration": 6,
    "start_time": "2022-05-29T07:36:22.262Z"
   },
   {
    "duration": 10,
    "start_time": "2022-05-29T07:36:22.269Z"
   },
   {
    "duration": 403,
    "start_time": "2022-05-29T07:36:22.280Z"
   },
   {
    "duration": 12526,
    "start_time": "2022-05-29T07:36:22.685Z"
   },
   {
    "duration": 16,
    "start_time": "2022-05-29T07:36:35.212Z"
   },
   {
    "duration": 122,
    "start_time": "2022-05-29T07:36:35.230Z"
   },
   {
    "duration": 0,
    "start_time": "2022-05-29T07:36:35.354Z"
   },
   {
    "duration": 0,
    "start_time": "2022-05-29T07:36:35.355Z"
   },
   {
    "duration": 17,
    "start_time": "2022-05-29T07:41:16.857Z"
   },
   {
    "duration": 11,
    "start_time": "2022-05-29T07:47:40.369Z"
   },
   {
    "duration": 21,
    "start_time": "2022-05-29T07:47:56.723Z"
   },
   {
    "duration": 68,
    "start_time": "2022-05-29T07:48:05.539Z"
   },
   {
    "duration": 9,
    "start_time": "2022-05-29T07:49:58.081Z"
   },
   {
    "duration": 3,
    "start_time": "2022-05-29T07:55:13.353Z"
   },
   {
    "duration": 1150,
    "start_time": "2022-05-29T07:56:31.895Z"
   },
   {
    "duration": 120,
    "start_time": "2022-05-29T07:56:33.046Z"
   },
   {
    "duration": 9,
    "start_time": "2022-05-29T07:56:33.168Z"
   },
   {
    "duration": 14,
    "start_time": "2022-05-29T07:56:33.179Z"
   },
   {
    "duration": 5,
    "start_time": "2022-05-29T07:56:33.195Z"
   },
   {
    "duration": 6,
    "start_time": "2022-05-29T07:56:33.201Z"
   },
   {
    "duration": 29,
    "start_time": "2022-05-29T07:56:33.209Z"
   },
   {
    "duration": 382,
    "start_time": "2022-05-29T07:56:33.240Z"
   },
   {
    "duration": 13096,
    "start_time": "2022-05-29T07:56:33.626Z"
   },
   {
    "duration": 21,
    "start_time": "2022-05-29T07:56:46.725Z"
   },
   {
    "duration": 3,
    "start_time": "2022-05-29T07:56:46.748Z"
   },
   {
    "duration": 21,
    "start_time": "2022-05-29T07:56:46.752Z"
   },
   {
    "duration": 91,
    "start_time": "2022-05-29T07:56:46.774Z"
   },
   {
    "duration": 11,
    "start_time": "2022-05-29T07:56:46.866Z"
   },
   {
    "duration": 119,
    "start_time": "2022-05-29T07:56:46.879Z"
   },
   {
    "duration": 8,
    "start_time": "2022-05-29T07:58:25.887Z"
   },
   {
    "duration": 1246,
    "start_time": "2022-05-29T07:58:32.310Z"
   },
   {
    "duration": 122,
    "start_time": "2022-05-29T07:58:33.559Z"
   },
   {
    "duration": 10,
    "start_time": "2022-05-29T07:58:33.683Z"
   },
   {
    "duration": 25,
    "start_time": "2022-05-29T07:58:33.695Z"
   },
   {
    "duration": 41,
    "start_time": "2022-05-29T07:58:33.721Z"
   },
   {
    "duration": 20,
    "start_time": "2022-05-29T07:58:33.764Z"
   },
   {
    "duration": 26,
    "start_time": "2022-05-29T07:58:33.786Z"
   },
   {
    "duration": 474,
    "start_time": "2022-05-29T07:58:33.814Z"
   },
   {
    "duration": 14044,
    "start_time": "2022-05-29T07:58:34.290Z"
   },
   {
    "duration": 22,
    "start_time": "2022-05-29T07:58:48.338Z"
   },
   {
    "duration": 5,
    "start_time": "2022-05-29T07:58:48.362Z"
   },
   {
    "duration": 18,
    "start_time": "2022-05-29T07:58:48.368Z"
   },
   {
    "duration": 91,
    "start_time": "2022-05-29T07:58:48.388Z"
   },
   {
    "duration": 8,
    "start_time": "2022-05-29T07:58:48.481Z"
   },
   {
    "duration": 136,
    "start_time": "2022-05-29T07:58:48.491Z"
   },
   {
    "duration": 9,
    "start_time": "2022-05-29T07:59:32.705Z"
   },
   {
    "duration": 4,
    "start_time": "2022-05-29T08:00:14.600Z"
   },
   {
    "duration": 3,
    "start_time": "2022-05-29T08:00:17.180Z"
   },
   {
    "duration": 3,
    "start_time": "2022-05-29T08:00:56.878Z"
   },
   {
    "duration": 1236,
    "start_time": "2022-05-29T08:05:20.837Z"
   },
   {
    "duration": 124,
    "start_time": "2022-05-29T08:05:22.074Z"
   },
   {
    "duration": 12,
    "start_time": "2022-05-29T08:05:22.199Z"
   },
   {
    "duration": 44,
    "start_time": "2022-05-29T08:05:22.213Z"
   },
   {
    "duration": 95,
    "start_time": "2022-05-29T08:05:22.259Z"
   },
   {
    "duration": 8,
    "start_time": "2022-05-29T08:05:22.357Z"
   },
   {
    "duration": 11,
    "start_time": "2022-05-29T08:05:22.368Z"
   },
   {
    "duration": 443,
    "start_time": "2022-05-29T08:05:22.381Z"
   },
   {
    "duration": 17,
    "start_time": "2022-05-29T08:05:22.828Z"
   },
   {
    "duration": 14500,
    "start_time": "2022-05-29T08:05:22.853Z"
   },
   {
    "duration": 11,
    "start_time": "2022-05-29T08:05:37.356Z"
   },
   {
    "duration": 3,
    "start_time": "2022-05-29T08:05:37.368Z"
   },
   {
    "duration": 23,
    "start_time": "2022-05-29T08:05:37.373Z"
   },
   {
    "duration": 94,
    "start_time": "2022-05-29T08:05:37.398Z"
   },
   {
    "duration": 10,
    "start_time": "2022-05-29T08:05:37.494Z"
   },
   {
    "duration": 7,
    "start_time": "2022-05-29T08:05:37.506Z"
   },
   {
    "duration": 3,
    "start_time": "2022-05-29T08:06:32.905Z"
   },
   {
    "duration": 144,
    "start_time": "2022-05-29T08:22:42.372Z"
   },
   {
    "duration": 1068,
    "start_time": "2022-05-29T08:22:57.973Z"
   },
   {
    "duration": 111,
    "start_time": "2022-05-29T08:22:59.043Z"
   },
   {
    "duration": 11,
    "start_time": "2022-05-29T08:22:59.156Z"
   },
   {
    "duration": 11,
    "start_time": "2022-05-29T08:22:59.169Z"
   },
   {
    "duration": 5,
    "start_time": "2022-05-29T08:22:59.181Z"
   },
   {
    "duration": 6,
    "start_time": "2022-05-29T08:22:59.188Z"
   },
   {
    "duration": 43,
    "start_time": "2022-05-29T08:22:59.196Z"
   },
   {
    "duration": 408,
    "start_time": "2022-05-29T08:22:59.241Z"
   },
   {
    "duration": 3,
    "start_time": "2022-05-29T08:22:59.650Z"
   },
   {
    "duration": 13436,
    "start_time": "2022-05-29T08:22:59.655Z"
   },
   {
    "duration": 10,
    "start_time": "2022-05-29T08:23:13.093Z"
   },
   {
    "duration": 11,
    "start_time": "2022-05-29T08:23:13.105Z"
   },
   {
    "duration": 36,
    "start_time": "2022-05-29T08:23:13.118Z"
   },
   {
    "duration": 6,
    "start_time": "2022-05-29T08:23:13.156Z"
   },
   {
    "duration": 84,
    "start_time": "2022-05-29T08:23:13.164Z"
   },
   {
    "duration": 9,
    "start_time": "2022-05-29T08:23:13.250Z"
   },
   {
    "duration": 15,
    "start_time": "2022-05-29T08:23:13.260Z"
   },
   {
    "duration": 169,
    "start_time": "2022-05-29T08:23:13.277Z"
   },
   {
    "duration": 33,
    "start_time": "2022-05-29T08:23:33.589Z"
   },
   {
    "duration": 3,
    "start_time": "2022-05-29T08:24:12.161Z"
   },
   {
    "duration": 24,
    "start_time": "2022-05-29T08:29:42.819Z"
   },
   {
    "duration": 40,
    "start_time": "2022-05-29T08:30:24.147Z"
   },
   {
    "duration": 21,
    "start_time": "2022-05-29T08:31:10.326Z"
   },
   {
    "duration": 12,
    "start_time": "2022-05-29T08:31:14.850Z"
   },
   {
    "duration": 13,
    "start_time": "2022-05-29T08:31:27.400Z"
   },
   {
    "duration": 1095,
    "start_time": "2022-05-29T08:31:40.583Z"
   },
   {
    "duration": 105,
    "start_time": "2022-05-29T08:31:41.680Z"
   },
   {
    "duration": 12,
    "start_time": "2022-05-29T08:31:41.786Z"
   },
   {
    "duration": 10,
    "start_time": "2022-05-29T08:31:41.800Z"
   },
   {
    "duration": 19,
    "start_time": "2022-05-29T08:31:41.811Z"
   },
   {
    "duration": 8,
    "start_time": "2022-05-29T08:31:41.832Z"
   },
   {
    "duration": 10,
    "start_time": "2022-05-29T08:31:41.841Z"
   },
   {
    "duration": 394,
    "start_time": "2022-05-29T08:31:41.852Z"
   },
   {
    "duration": 2,
    "start_time": "2022-05-29T08:31:42.248Z"
   },
   {
    "duration": 13221,
    "start_time": "2022-05-29T08:31:42.253Z"
   },
   {
    "duration": 11,
    "start_time": "2022-05-29T08:31:55.475Z"
   },
   {
    "duration": 4,
    "start_time": "2022-05-29T08:31:55.487Z"
   },
   {
    "duration": 19,
    "start_time": "2022-05-29T08:31:55.492Z"
   },
   {
    "duration": 3,
    "start_time": "2022-05-29T08:31:55.527Z"
   },
   {
    "duration": 78,
    "start_time": "2022-05-29T08:31:55.531Z"
   },
   {
    "duration": 20,
    "start_time": "2022-05-29T08:31:55.611Z"
   },
   {
    "duration": 7,
    "start_time": "2022-05-29T08:31:55.633Z"
   },
   {
    "duration": 44,
    "start_time": "2022-05-29T08:31:55.642Z"
   },
   {
    "duration": 4,
    "start_time": "2022-05-29T08:31:55.688Z"
   },
   {
    "duration": 155,
    "start_time": "2022-05-29T08:31:55.693Z"
   },
   {
    "duration": 12,
    "start_time": "2022-05-29T08:32:10.947Z"
   },
   {
    "duration": 1137,
    "start_time": "2022-05-29T08:32:23.486Z"
   },
   {
    "duration": 118,
    "start_time": "2022-05-29T08:32:24.625Z"
   },
   {
    "duration": 14,
    "start_time": "2022-05-29T08:32:24.745Z"
   },
   {
    "duration": 13,
    "start_time": "2022-05-29T08:32:24.762Z"
   },
   {
    "duration": 7,
    "start_time": "2022-05-29T08:32:24.777Z"
   },
   {
    "duration": 10,
    "start_time": "2022-05-29T08:32:24.785Z"
   },
   {
    "duration": 30,
    "start_time": "2022-05-29T08:32:24.797Z"
   },
   {
    "duration": 409,
    "start_time": "2022-05-29T08:32:24.829Z"
   },
   {
    "duration": 3,
    "start_time": "2022-05-29T08:32:25.239Z"
   },
   {
    "duration": 13063,
    "start_time": "2022-05-29T08:32:25.244Z"
   },
   {
    "duration": 18,
    "start_time": "2022-05-29T08:32:38.309Z"
   },
   {
    "duration": 3,
    "start_time": "2022-05-29T08:32:38.329Z"
   },
   {
    "duration": 19,
    "start_time": "2022-05-29T08:32:38.334Z"
   },
   {
    "duration": 3,
    "start_time": "2022-05-29T08:32:38.354Z"
   },
   {
    "duration": 94,
    "start_time": "2022-05-29T08:32:38.358Z"
   },
   {
    "duration": 9,
    "start_time": "2022-05-29T08:32:38.453Z"
   },
   {
    "duration": 6,
    "start_time": "2022-05-29T08:32:38.464Z"
   },
   {
    "duration": 36,
    "start_time": "2022-05-29T08:32:38.472Z"
   },
   {
    "duration": 18,
    "start_time": "2022-05-29T08:32:38.510Z"
   },
   {
    "duration": 121,
    "start_time": "2022-05-29T08:32:38.530Z"
   },
   {
    "duration": 12,
    "start_time": "2022-05-29T08:37:52.179Z"
   },
   {
    "duration": 50,
    "start_time": "2022-05-29T08:38:43.219Z"
   },
   {
    "duration": 14,
    "start_time": "2022-05-29T08:40:02.559Z"
   },
   {
    "duration": 9,
    "start_time": "2022-05-29T08:41:47.199Z"
   },
   {
    "duration": 9,
    "start_time": "2022-05-29T08:42:06.624Z"
   },
   {
    "duration": 17,
    "start_time": "2022-05-29T08:42:15.070Z"
   },
   {
    "duration": 9,
    "start_time": "2022-05-29T08:43:11.139Z"
   },
   {
    "duration": 20,
    "start_time": "2022-05-29T08:43:22.711Z"
   },
   {
    "duration": 17,
    "start_time": "2022-05-29T08:43:58.477Z"
   },
   {
    "duration": 17,
    "start_time": "2022-05-29T08:44:01.214Z"
   },
   {
    "duration": 1212,
    "start_time": "2022-05-29T08:44:10.302Z"
   },
   {
    "duration": 140,
    "start_time": "2022-05-29T08:44:11.516Z"
   },
   {
    "duration": 11,
    "start_time": "2022-05-29T08:44:11.657Z"
   },
   {
    "duration": 43,
    "start_time": "2022-05-29T08:44:11.670Z"
   },
   {
    "duration": 33,
    "start_time": "2022-05-29T08:44:11.714Z"
   },
   {
    "duration": 24,
    "start_time": "2022-05-29T08:44:11.749Z"
   },
   {
    "duration": 30,
    "start_time": "2022-05-29T08:44:11.774Z"
   },
   {
    "duration": 421,
    "start_time": "2022-05-29T08:44:11.806Z"
   },
   {
    "duration": 3,
    "start_time": "2022-05-29T08:44:12.232Z"
   },
   {
    "duration": 13359,
    "start_time": "2022-05-29T08:44:12.238Z"
   },
   {
    "duration": 12,
    "start_time": "2022-05-29T08:44:25.598Z"
   },
   {
    "duration": 15,
    "start_time": "2022-05-29T08:44:25.611Z"
   },
   {
    "duration": 18,
    "start_time": "2022-05-29T08:44:25.628Z"
   },
   {
    "duration": 4,
    "start_time": "2022-05-29T08:44:25.647Z"
   },
   {
    "duration": 92,
    "start_time": "2022-05-29T08:44:25.652Z"
   },
   {
    "duration": 9,
    "start_time": "2022-05-29T08:44:25.746Z"
   },
   {
    "duration": 6,
    "start_time": "2022-05-29T08:44:25.756Z"
   },
   {
    "duration": 35,
    "start_time": "2022-05-29T08:44:25.763Z"
   },
   {
    "duration": 3,
    "start_time": "2022-05-29T08:44:25.799Z"
   },
   {
    "duration": 36,
    "start_time": "2022-05-29T08:44:25.803Z"
   },
   {
    "duration": 121,
    "start_time": "2022-05-29T08:44:25.841Z"
   },
   {
    "duration": 15,
    "start_time": "2022-05-29T08:46:57.193Z"
   },
   {
    "duration": 26,
    "start_time": "2022-05-29T08:47:05.812Z"
   },
   {
    "duration": 16,
    "start_time": "2022-05-29T08:47:12.558Z"
   },
   {
    "duration": 14,
    "start_time": "2022-05-29T08:48:25.600Z"
   },
   {
    "duration": 1064,
    "start_time": "2022-05-29T08:48:31.555Z"
   },
   {
    "duration": 113,
    "start_time": "2022-05-29T08:48:32.627Z"
   },
   {
    "duration": 11,
    "start_time": "2022-05-29T08:48:32.741Z"
   },
   {
    "duration": 10,
    "start_time": "2022-05-29T08:48:32.754Z"
   },
   {
    "duration": 5,
    "start_time": "2022-05-29T08:48:32.766Z"
   },
   {
    "duration": 11,
    "start_time": "2022-05-29T08:48:32.773Z"
   },
   {
    "duration": 6,
    "start_time": "2022-05-29T08:48:32.785Z"
   },
   {
    "duration": 392,
    "start_time": "2022-05-29T08:48:32.792Z"
   },
   {
    "duration": 3,
    "start_time": "2022-05-29T08:48:33.185Z"
   },
   {
    "duration": 12579,
    "start_time": "2022-05-29T08:48:33.190Z"
   },
   {
    "duration": 11,
    "start_time": "2022-05-29T08:48:45.771Z"
   },
   {
    "duration": 3,
    "start_time": "2022-05-29T08:48:45.783Z"
   },
   {
    "duration": 23,
    "start_time": "2022-05-29T08:48:45.787Z"
   },
   {
    "duration": 16,
    "start_time": "2022-05-29T08:48:45.811Z"
   },
   {
    "duration": 68,
    "start_time": "2022-05-29T08:48:45.829Z"
   },
   {
    "duration": 8,
    "start_time": "2022-05-29T08:48:45.899Z"
   },
   {
    "duration": 3,
    "start_time": "2022-05-29T08:48:45.926Z"
   },
   {
    "duration": 37,
    "start_time": "2022-05-29T08:48:45.931Z"
   },
   {
    "duration": 2,
    "start_time": "2022-05-29T08:48:45.970Z"
   },
   {
    "duration": 17,
    "start_time": "2022-05-29T08:48:45.973Z"
   },
   {
    "duration": 124,
    "start_time": "2022-05-29T08:48:45.992Z"
   },
   {
    "duration": 35,
    "start_time": "2022-05-29T08:50:17.420Z"
   },
   {
    "duration": 13,
    "start_time": "2022-05-29T08:50:21.071Z"
   },
   {
    "duration": 4,
    "start_time": "2022-05-29T08:50:22.874Z"
   },
   {
    "duration": 10,
    "start_time": "2022-05-29T08:54:09.264Z"
   },
   {
    "duration": 11,
    "start_time": "2022-05-29T08:54:25.641Z"
   },
   {
    "duration": 10,
    "start_time": "2022-05-29T08:57:41.328Z"
   },
   {
    "duration": 222,
    "start_time": "2022-05-29T09:08:55.936Z"
   },
   {
    "duration": 221,
    "start_time": "2022-05-29T09:26:58.979Z"
   },
   {
    "duration": 2537,
    "start_time": "2022-05-29T09:41:54.805Z"
   },
   {
    "duration": 396,
    "start_time": "2022-05-29T09:41:57.344Z"
   },
   {
    "duration": 52,
    "start_time": "2022-05-29T09:41:57.742Z"
   },
   {
    "duration": 14,
    "start_time": "2022-05-29T09:41:57.796Z"
   },
   {
    "duration": 19,
    "start_time": "2022-05-29T09:41:57.813Z"
   },
   {
    "duration": 71,
    "start_time": "2022-05-29T09:41:57.834Z"
   },
   {
    "duration": 39,
    "start_time": "2022-05-29T09:41:57.907Z"
   },
   {
    "duration": 1073,
    "start_time": "2022-05-29T09:41:57.947Z"
   },
   {
    "duration": 3,
    "start_time": "2022-05-29T09:41:59.023Z"
   },
   {
    "duration": 35505,
    "start_time": "2022-05-29T09:41:59.028Z"
   },
   {
    "duration": 69,
    "start_time": "2022-05-29T09:42:34.535Z"
   },
   {
    "duration": 4,
    "start_time": "2022-05-29T09:42:34.606Z"
   },
   {
    "duration": 89,
    "start_time": "2022-05-29T09:42:34.612Z"
   },
   {
    "duration": 3,
    "start_time": "2022-05-29T09:42:34.705Z"
   },
   {
    "duration": 212,
    "start_time": "2022-05-29T09:42:34.710Z"
   },
   {
    "duration": 13,
    "start_time": "2022-05-29T09:42:34.924Z"
   },
   {
    "duration": 10,
    "start_time": "2022-05-29T09:42:34.995Z"
   },
   {
    "duration": 100,
    "start_time": "2022-05-29T09:42:35.010Z"
   },
   {
    "duration": 3,
    "start_time": "2022-05-29T09:42:35.112Z"
   },
   {
    "duration": 126,
    "start_time": "2022-05-29T09:42:35.117Z"
   },
   {
    "duration": 31,
    "start_time": "2022-05-29T09:42:35.294Z"
   },
   {
    "duration": 15,
    "start_time": "2022-05-29T09:42:35.327Z"
   },
   {
    "duration": 87,
    "start_time": "2022-05-29T09:42:35.343Z"
   },
   {
    "duration": 12,
    "start_time": "2022-05-29T09:42:35.431Z"
   },
   {
    "duration": 571,
    "start_time": "2022-05-29T09:42:35.445Z"
   },
   {
    "duration": 523,
    "start_time": "2022-05-29T09:42:36.018Z"
   },
   {
    "duration": 58,
    "start_time": "2022-05-29T10:43:50.667Z"
   },
   {
    "duration": 1366,
    "start_time": "2022-05-29T10:44:02.949Z"
   },
   {
    "duration": 193,
    "start_time": "2022-05-29T10:44:04.317Z"
   },
   {
    "duration": 12,
    "start_time": "2022-05-29T10:44:04.512Z"
   },
   {
    "duration": 25,
    "start_time": "2022-05-29T10:44:04.526Z"
   },
   {
    "duration": 25,
    "start_time": "2022-05-29T10:44:04.558Z"
   },
   {
    "duration": 7,
    "start_time": "2022-05-29T10:44:04.585Z"
   },
   {
    "duration": 7,
    "start_time": "2022-05-29T10:44:04.593Z"
   },
   {
    "duration": 6,
    "start_time": "2022-05-29T10:44:04.602Z"
   },
   {
    "duration": 425,
    "start_time": "2022-05-29T10:44:04.609Z"
   },
   {
    "duration": 3,
    "start_time": "2022-05-29T10:44:05.035Z"
   },
   {
    "duration": 13823,
    "start_time": "2022-05-29T10:44:05.040Z"
   },
   {
    "duration": 11,
    "start_time": "2022-05-29T10:44:18.865Z"
   },
   {
    "duration": 12,
    "start_time": "2022-05-29T10:44:18.877Z"
   },
   {
    "duration": 31,
    "start_time": "2022-05-29T10:44:18.892Z"
   },
   {
    "duration": 5,
    "start_time": "2022-05-29T10:44:18.925Z"
   },
   {
    "duration": 87,
    "start_time": "2022-05-29T10:44:18.932Z"
   },
   {
    "duration": 10,
    "start_time": "2022-05-29T10:44:19.020Z"
   },
   {
    "duration": 14,
    "start_time": "2022-05-29T10:44:19.032Z"
   },
   {
    "duration": 44,
    "start_time": "2022-05-29T10:44:19.048Z"
   },
   {
    "duration": 2,
    "start_time": "2022-05-29T10:44:19.095Z"
   },
   {
    "duration": 49,
    "start_time": "2022-05-29T10:44:19.099Z"
   },
   {
    "duration": 14,
    "start_time": "2022-05-29T10:44:19.149Z"
   },
   {
    "duration": 10,
    "start_time": "2022-05-29T10:44:19.164Z"
   },
   {
    "duration": 10,
    "start_time": "2022-05-29T10:44:19.176Z"
   },
   {
    "duration": 20,
    "start_time": "2022-05-29T10:44:19.188Z"
   },
   {
    "duration": 225,
    "start_time": "2022-05-29T10:44:19.209Z"
   },
   {
    "duration": 237,
    "start_time": "2022-05-29T10:44:19.437Z"
   },
   {
    "duration": 1337,
    "start_time": "2022-05-30T08:34:51.264Z"
   },
   {
    "duration": 207,
    "start_time": "2022-05-30T08:34:52.603Z"
   },
   {
    "duration": 12,
    "start_time": "2022-05-30T08:34:52.812Z"
   },
   {
    "duration": 16,
    "start_time": "2022-05-30T08:34:52.826Z"
   },
   {
    "duration": 26,
    "start_time": "2022-05-30T08:34:52.844Z"
   },
   {
    "duration": 6,
    "start_time": "2022-05-30T08:34:52.872Z"
   },
   {
    "duration": 125,
    "start_time": "2022-05-30T08:34:52.894Z"
   },
   {
    "duration": 0,
    "start_time": "2022-05-30T08:34:53.022Z"
   },
   {
    "duration": 0,
    "start_time": "2022-05-30T08:34:53.024Z"
   },
   {
    "duration": 0,
    "start_time": "2022-05-30T08:34:53.026Z"
   },
   {
    "duration": 0,
    "start_time": "2022-05-30T08:34:53.028Z"
   },
   {
    "duration": 0,
    "start_time": "2022-05-30T08:34:53.029Z"
   },
   {
    "duration": 0,
    "start_time": "2022-05-30T08:34:53.031Z"
   },
   {
    "duration": 0,
    "start_time": "2022-05-30T08:34:53.033Z"
   },
   {
    "duration": 0,
    "start_time": "2022-05-30T08:34:53.034Z"
   },
   {
    "duration": 0,
    "start_time": "2022-05-30T08:34:53.035Z"
   },
   {
    "duration": 0,
    "start_time": "2022-05-30T08:34:53.037Z"
   },
   {
    "duration": 0,
    "start_time": "2022-05-30T08:34:53.039Z"
   },
   {
    "duration": 0,
    "start_time": "2022-05-30T08:34:53.040Z"
   },
   {
    "duration": 0,
    "start_time": "2022-05-30T08:34:53.041Z"
   },
   {
    "duration": 0,
    "start_time": "2022-05-30T08:34:53.042Z"
   },
   {
    "duration": 0,
    "start_time": "2022-05-30T08:34:53.044Z"
   },
   {
    "duration": 0,
    "start_time": "2022-05-30T08:34:53.045Z"
   },
   {
    "duration": 0,
    "start_time": "2022-05-30T08:34:53.046Z"
   },
   {
    "duration": 0,
    "start_time": "2022-05-30T08:34:53.047Z"
   },
   {
    "duration": 0,
    "start_time": "2022-05-30T08:34:53.048Z"
   },
   {
    "duration": 0,
    "start_time": "2022-05-30T08:34:53.049Z"
   },
   {
    "duration": 40,
    "start_time": "2022-05-30T08:36:31.410Z"
   },
   {
    "duration": 6,
    "start_time": "2022-05-30T08:37:49.875Z"
   },
   {
    "duration": 1989,
    "start_time": "2022-05-31T05:52:18.548Z"
   },
   {
    "duration": 284,
    "start_time": "2022-05-31T05:52:20.539Z"
   },
   {
    "duration": 16,
    "start_time": "2022-05-31T05:52:22.203Z"
   },
   {
    "duration": 14,
    "start_time": "2022-05-31T05:52:24.032Z"
   },
   {
    "duration": 51,
    "start_time": "2022-05-31T05:52:25.929Z"
   },
   {
    "duration": 9,
    "start_time": "2022-05-31T05:52:27.754Z"
   },
   {
    "duration": 190,
    "start_time": "2022-05-31T05:52:32.188Z"
   },
   {
    "duration": 54,
    "start_time": "2022-05-31T05:52:58.762Z"
   },
   {
    "duration": 6,
    "start_time": "2022-05-31T05:55:36.894Z"
   },
   {
    "duration": 33,
    "start_time": "2022-05-31T06:43:12.987Z"
   },
   {
    "duration": 1302,
    "start_time": "2022-05-31T06:43:41.916Z"
   },
   {
    "duration": 126,
    "start_time": "2022-05-31T06:43:43.220Z"
   },
   {
    "duration": 16,
    "start_time": "2022-05-31T06:43:43.348Z"
   },
   {
    "duration": 24,
    "start_time": "2022-05-31T06:43:43.366Z"
   },
   {
    "duration": 24,
    "start_time": "2022-05-31T06:43:43.392Z"
   },
   {
    "duration": 6,
    "start_time": "2022-05-31T06:43:43.417Z"
   },
   {
    "duration": 7,
    "start_time": "2022-05-31T06:43:43.425Z"
   },
   {
    "duration": 9,
    "start_time": "2022-05-31T06:43:43.433Z"
   },
   {
    "duration": 412,
    "start_time": "2022-05-31T06:43:43.458Z"
   },
   {
    "duration": 3,
    "start_time": "2022-05-31T06:43:43.875Z"
   },
   {
    "duration": 13596,
    "start_time": "2022-05-31T06:43:43.880Z"
   },
   {
    "duration": 11,
    "start_time": "2022-05-31T06:43:57.478Z"
   },
   {
    "duration": 4,
    "start_time": "2022-05-31T06:43:57.491Z"
   },
   {
    "duration": 24,
    "start_time": "2022-05-31T06:43:57.497Z"
   },
   {
    "duration": 3,
    "start_time": "2022-05-31T06:43:57.522Z"
   },
   {
    "duration": 97,
    "start_time": "2022-05-31T06:43:57.526Z"
   },
   {
    "duration": 10,
    "start_time": "2022-05-31T06:43:57.624Z"
   },
   {
    "duration": 26,
    "start_time": "2022-05-31T06:43:57.636Z"
   },
   {
    "duration": 49,
    "start_time": "2022-05-31T06:43:57.670Z"
   },
   {
    "duration": 3,
    "start_time": "2022-05-31T06:43:57.721Z"
   },
   {
    "duration": 55,
    "start_time": "2022-05-31T06:43:57.726Z"
   },
   {
    "duration": 17,
    "start_time": "2022-05-31T06:43:57.782Z"
   },
   {
    "duration": 5,
    "start_time": "2022-05-31T06:43:57.800Z"
   },
   {
    "duration": 12,
    "start_time": "2022-05-31T06:43:57.807Z"
   },
   {
    "duration": 11,
    "start_time": "2022-05-31T06:43:57.820Z"
   },
   {
    "duration": 237,
    "start_time": "2022-05-31T06:43:57.832Z"
   },
   {
    "duration": 216,
    "start_time": "2022-05-31T06:43:58.071Z"
   },
   {
    "duration": 27,
    "start_time": "2022-05-31T08:24:43.308Z"
   },
   {
    "duration": 144,
    "start_time": "2022-05-31T08:24:48.630Z"
   },
   {
    "duration": 8,
    "start_time": "2022-05-31T08:25:16.803Z"
   },
   {
    "duration": 1639,
    "start_time": "2022-05-31T20:57:01.034Z"
   },
   {
    "duration": 132,
    "start_time": "2022-05-31T20:57:02.675Z"
   },
   {
    "duration": 12,
    "start_time": "2022-05-31T20:57:03.891Z"
   },
   {
    "duration": 14,
    "start_time": "2022-05-31T20:57:04.790Z"
   },
   {
    "duration": 31,
    "start_time": "2022-05-31T20:57:05.289Z"
   },
   {
    "duration": 6,
    "start_time": "2022-05-31T20:57:06.692Z"
   },
   {
    "duration": 9,
    "start_time": "2022-05-31T20:57:09.239Z"
   },
   {
    "duration": 115,
    "start_time": "2022-05-31T21:02:19.052Z"
   },
   {
    "duration": 6,
    "start_time": "2022-05-31T21:02:26.461Z"
   },
   {
    "duration": 21,
    "start_time": "2022-05-31T21:02:32.116Z"
   },
   {
    "duration": 23,
    "start_time": "2022-05-31T21:02:37.033Z"
   },
   {
    "duration": 14,
    "start_time": "2022-05-31T21:02:38.358Z"
   },
   {
    "duration": 28,
    "start_time": "2022-05-31T21:11:32.212Z"
   },
   {
    "duration": 5,
    "start_time": "2022-05-31T21:11:42.419Z"
   },
   {
    "duration": 6,
    "start_time": "2022-05-31T21:11:54.705Z"
   },
   {
    "duration": 1504,
    "start_time": "2022-06-03T08:32:08.060Z"
   },
   {
    "duration": 125,
    "start_time": "2022-06-03T08:32:09.568Z"
   },
   {
    "duration": 13,
    "start_time": "2022-06-03T08:32:09.695Z"
   },
   {
    "duration": 40,
    "start_time": "2022-06-03T08:32:09.710Z"
   },
   {
    "duration": 38,
    "start_time": "2022-06-03T08:32:09.752Z"
   },
   {
    "duration": 6,
    "start_time": "2022-06-03T08:32:09.791Z"
   },
   {
    "duration": 22,
    "start_time": "2022-06-03T08:32:09.798Z"
   },
   {
    "duration": 28,
    "start_time": "2022-06-03T08:32:09.826Z"
   },
   {
    "duration": 460,
    "start_time": "2022-06-03T08:32:09.856Z"
   },
   {
    "duration": 6,
    "start_time": "2022-06-03T08:32:10.319Z"
   },
   {
    "duration": 14446,
    "start_time": "2022-06-03T08:32:10.326Z"
   },
   {
    "duration": 11,
    "start_time": "2022-06-03T08:32:24.774Z"
   },
   {
    "duration": 3,
    "start_time": "2022-06-03T08:32:24.787Z"
   },
   {
    "duration": 21,
    "start_time": "2022-06-03T08:32:24.791Z"
   },
   {
    "duration": 17,
    "start_time": "2022-06-03T08:32:24.825Z"
   },
   {
    "duration": 85,
    "start_time": "2022-06-03T08:32:24.844Z"
   },
   {
    "duration": 13,
    "start_time": "2022-06-03T08:32:24.930Z"
   },
   {
    "duration": 5,
    "start_time": "2022-06-03T08:32:24.945Z"
   },
   {
    "duration": 32,
    "start_time": "2022-06-03T08:32:24.951Z"
   },
   {
    "duration": 3,
    "start_time": "2022-06-03T08:32:24.985Z"
   },
   {
    "duration": 40,
    "start_time": "2022-06-03T08:32:24.990Z"
   },
   {
    "duration": 20,
    "start_time": "2022-06-03T08:32:25.033Z"
   },
   {
    "duration": 5,
    "start_time": "2022-06-03T08:32:25.055Z"
   },
   {
    "duration": 13,
    "start_time": "2022-06-03T08:32:25.062Z"
   },
   {
    "duration": 14,
    "start_time": "2022-06-03T08:32:25.077Z"
   },
   {
    "duration": 269,
    "start_time": "2022-06-03T08:32:25.093Z"
   },
   {
    "duration": 229,
    "start_time": "2022-06-03T08:32:25.363Z"
   },
   {
    "duration": 5,
    "start_time": "2022-06-03T08:32:25.595Z"
   },
   {
    "duration": 18,
    "start_time": "2022-06-03T08:34:33.847Z"
   },
   {
    "duration": 18,
    "start_time": "2022-06-03T08:34:37.947Z"
   },
   {
    "duration": 6,
    "start_time": "2022-06-03T09:05:47.962Z"
   }
  ],
  "kernelspec": {
   "display_name": "Python 3",
   "language": "python",
   "name": "python3"
  },
  "language_info": {
   "codemirror_mode": {
    "name": "ipython",
    "version": 3
   },
   "file_extension": ".py",
   "mimetype": "text/x-python",
   "name": "python",
   "nbconvert_exporter": "python",
   "pygments_lexer": "ipython3",
   "version": "3.7.4"
  },
  "toc": {
   "base_numbering": 1,
   "nav_menu": {},
   "number_sections": true,
   "sideBar": true,
   "skip_h1_title": true,
   "title_cell": "Table of Contents",
   "title_sidebar": "Contents",
   "toc_cell": false,
   "toc_position": {},
   "toc_section_display": true,
   "toc_window_display": false
  }
 },
 "nbformat": 4,
 "nbformat_minor": 2
}
