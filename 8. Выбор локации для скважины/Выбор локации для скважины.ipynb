{
 "cells": [
  {
   "cell_type": "markdown",
   "metadata": {},
   "source": [
    "# Выбор локации для скважины"
   ]
  },
  {
   "cell_type": "markdown",
   "metadata": {},
   "source": [
    "Допустим, вы работаете в добывающей компании «ГлавРосГосНефть». Нужно решить, где бурить новую скважину.\n",
    "\n",
    "Вам предоставлены пробы нефти в трёх регионах: в каждом 10 000 месторождений, где измерили качество нефти и объём её запасов. Постройте модель машинного обучения, которая поможет определить регион, где добыча принесёт наибольшую прибыль. Проанализируйте возможную прибыль и риски техникой *Bootstrap.*\n",
    "\n",
    "Шаги для выбора локации:\n",
    "\n",
    "- В избранном регионе ищут месторождения, для каждого определяют значения признаков;\n",
    "- Строят модель и оценивают объём запасов;\n",
    "- Выбирают месторождения с самым высокими оценками значений. Количество месторождений зависит от бюджета компании и стоимости разработки одной скважины;\n",
    "- Прибыль равна суммарной прибыли отобранных месторождений."
   ]
  },
  {
   "cell_type": "markdown",
   "metadata": {},
   "source": [
    "# Описание данных\n",
    "\n",
    "Данные геологоразведки трёх регионов находятся в файлах:\n",
    "\n",
    "- /datasets/geo_data_0.csv. Скачать датасет\n",
    "- /datasets/geo_data_1.csv. Скачать датасет\n",
    "- /datasets/geo_data_2.csv. Скачать датасет\n",
    "\n",
    "\n",
    "- id — уникальный идентификатор скважины;\n",
    "- f0, f1, f2 — три признака точек (неважно, что они означают, но сами признаки значимы);\n",
    "- product — объём запасов в скважине (тыс. баррелей).\n",
    "\n",
    "Условия задачи:\n",
    "\n",
    "- Lля обучения модели подходит только линейная регрессия (остальные — недостаточно предсказуемые).\n",
    "- При разведке региона исследуют 500 точек, из которых с помощью машинного обучения выбирают 200 лучших для разработки.\n",
    "- Бюджет на разработку скважин в регионе — 10 млрд рублей.\n",
    "- При нынешних ценах один баррель сырья приносит 450 рублей дохода. Доход с каждой единицы продукта составляет 450 тыс. рублей, поскольку объём указан в тысячах баррелей.\n",
    "- После оценки рисков нужно оставить лишь те регионы, в которых вероятность убытков меньше 2.5%. Среди них выбирают регион с наибольшей средней прибылью.\n",
    "\n",
    "Данные синтетические: детали контрактов и характеристики месторождений не разглашаются.\n"
   ]
  },
  {
   "cell_type": "markdown",
   "metadata": {},
   "source": [
    "Признаки для модели:\n",
    "- f0;\n",
    "- f1;\n",
    "- f2.\n",
    "\n",
    "Целевой признак:\n",
    "\n",
    "- product."
   ]
  },
  {
   "cell_type": "markdown",
   "metadata": {},
   "source": [
    "## Загрузка и подготовка данных"
   ]
  },
  {
   "cell_type": "markdown",
   "metadata": {},
   "source": [
    "Импортируем необходимые для работы библиотеки"
   ]
  },
  {
   "cell_type": "code",
   "execution_count": 1,
   "metadata": {},
   "outputs": [],
   "source": [
    "import pandas as pd\n",
    "import numpy as np\n",
    "from sklearn.model_selection import train_test_split\n",
    "from sklearn.metrics import mean_squared_error\n",
    "from sklearn.linear_model import LinearRegression\n",
    "from sklearn.preprocessing import StandardScaler\n",
    "from sklearn.utils import shuffle\n",
    "import matplotlib.pyplot as plt \n",
    "import scipy as sp\n",
    "import scipy.stats\n",
    "import seaborn as sns\n",
    "import warnings\n",
    "warnings.filterwarnings('ignore')\n",
    "from numpy.random import RandomState\n",
    "state = RandomState(12345)"
   ]
  },
  {
   "cell_type": "markdown",
   "metadata": {},
   "source": [
    "Загрузим каждый регион в свой датафрейм и получим информацию о каждом"
   ]
  },
  {
   "cell_type": "code",
   "execution_count": 2,
   "metadata": {},
   "outputs": [
    {
     "name": "stdout",
     "output_type": "stream",
     "text": [
      "<class 'pandas.core.frame.DataFrame'>\n",
      "RangeIndex: 100000 entries, 0 to 99999\n",
      "Data columns (total 5 columns):\n",
      " #   Column   Non-Null Count   Dtype  \n",
      "---  ------   --------------   -----  \n",
      " 0   id       100000 non-null  object \n",
      " 1   f0       100000 non-null  float64\n",
      " 2   f1       100000 non-null  float64\n",
      " 3   f2       100000 non-null  float64\n",
      " 4   product  100000 non-null  float64\n",
      "dtypes: float64(4), object(1)\n",
      "memory usage: 3.8+ MB\n"
     ]
    },
    {
     "data": {
      "text/html": [
       "<div>\n",
       "<style scoped>\n",
       "    .dataframe tbody tr th:only-of-type {\n",
       "        vertical-align: middle;\n",
       "    }\n",
       "\n",
       "    .dataframe tbody tr th {\n",
       "        vertical-align: top;\n",
       "    }\n",
       "\n",
       "    .dataframe thead th {\n",
       "        text-align: right;\n",
       "    }\n",
       "</style>\n",
       "<table border=\"1\" class=\"dataframe\">\n",
       "  <thead>\n",
       "    <tr style=\"text-align: right;\">\n",
       "      <th></th>\n",
       "      <th>f0</th>\n",
       "      <th>f1</th>\n",
       "      <th>f2</th>\n",
       "      <th>product</th>\n",
       "    </tr>\n",
       "  </thead>\n",
       "  <tbody>\n",
       "    <tr>\n",
       "      <th>count</th>\n",
       "      <td>100000.000000</td>\n",
       "      <td>100000.000000</td>\n",
       "      <td>100000.000000</td>\n",
       "      <td>100000.000000</td>\n",
       "    </tr>\n",
       "    <tr>\n",
       "      <th>mean</th>\n",
       "      <td>0.500419</td>\n",
       "      <td>0.250143</td>\n",
       "      <td>2.502647</td>\n",
       "      <td>92.500000</td>\n",
       "    </tr>\n",
       "    <tr>\n",
       "      <th>std</th>\n",
       "      <td>0.871832</td>\n",
       "      <td>0.504433</td>\n",
       "      <td>3.248248</td>\n",
       "      <td>44.288691</td>\n",
       "    </tr>\n",
       "    <tr>\n",
       "      <th>min</th>\n",
       "      <td>-1.408605</td>\n",
       "      <td>-0.848218</td>\n",
       "      <td>-12.088328</td>\n",
       "      <td>0.000000</td>\n",
       "    </tr>\n",
       "    <tr>\n",
       "      <th>25%</th>\n",
       "      <td>-0.072580</td>\n",
       "      <td>-0.200881</td>\n",
       "      <td>0.287748</td>\n",
       "      <td>56.497507</td>\n",
       "    </tr>\n",
       "    <tr>\n",
       "      <th>50%</th>\n",
       "      <td>0.502360</td>\n",
       "      <td>0.250252</td>\n",
       "      <td>2.515969</td>\n",
       "      <td>91.849972</td>\n",
       "    </tr>\n",
       "    <tr>\n",
       "      <th>75%</th>\n",
       "      <td>1.073581</td>\n",
       "      <td>0.700646</td>\n",
       "      <td>4.715088</td>\n",
       "      <td>128.564089</td>\n",
       "    </tr>\n",
       "    <tr>\n",
       "      <th>max</th>\n",
       "      <td>2.362331</td>\n",
       "      <td>1.343769</td>\n",
       "      <td>16.003790</td>\n",
       "      <td>185.364347</td>\n",
       "    </tr>\n",
       "  </tbody>\n",
       "</table>\n",
       "</div>"
      ],
      "text/plain": [
       "                  f0             f1             f2        product\n",
       "count  100000.000000  100000.000000  100000.000000  100000.000000\n",
       "mean        0.500419       0.250143       2.502647      92.500000\n",
       "std         0.871832       0.504433       3.248248      44.288691\n",
       "min        -1.408605      -0.848218     -12.088328       0.000000\n",
       "25%        -0.072580      -0.200881       0.287748      56.497507\n",
       "50%         0.502360       0.250252       2.515969      91.849972\n",
       "75%         1.073581       0.700646       4.715088     128.564089\n",
       "max         2.362331       1.343769      16.003790     185.364347"
      ]
     },
     "execution_count": 2,
     "metadata": {},
     "output_type": "execute_result"
    }
   ],
   "source": [
    "geo_data_0 = pd.read_csv('/datasets/geo_data_0.csv')\n",
    "geo_data_0.info()\n",
    "geo_data_0.describe()"
   ]
  },
  {
   "cell_type": "code",
   "execution_count": 3,
   "metadata": {},
   "outputs": [
    {
     "name": "stdout",
     "output_type": "stream",
     "text": [
      "<class 'pandas.core.frame.DataFrame'>\n",
      "RangeIndex: 100000 entries, 0 to 99999\n",
      "Data columns (total 5 columns):\n",
      " #   Column   Non-Null Count   Dtype  \n",
      "---  ------   --------------   -----  \n",
      " 0   id       100000 non-null  object \n",
      " 1   f0       100000 non-null  float64\n",
      " 2   f1       100000 non-null  float64\n",
      " 3   f2       100000 non-null  float64\n",
      " 4   product  100000 non-null  float64\n",
      "dtypes: float64(4), object(1)\n",
      "memory usage: 3.8+ MB\n"
     ]
    },
    {
     "data": {
      "text/html": [
       "<div>\n",
       "<style scoped>\n",
       "    .dataframe tbody tr th:only-of-type {\n",
       "        vertical-align: middle;\n",
       "    }\n",
       "\n",
       "    .dataframe tbody tr th {\n",
       "        vertical-align: top;\n",
       "    }\n",
       "\n",
       "    .dataframe thead th {\n",
       "        text-align: right;\n",
       "    }\n",
       "</style>\n",
       "<table border=\"1\" class=\"dataframe\">\n",
       "  <thead>\n",
       "    <tr style=\"text-align: right;\">\n",
       "      <th></th>\n",
       "      <th>f0</th>\n",
       "      <th>f1</th>\n",
       "      <th>f2</th>\n",
       "      <th>product</th>\n",
       "    </tr>\n",
       "  </thead>\n",
       "  <tbody>\n",
       "    <tr>\n",
       "      <th>count</th>\n",
       "      <td>100000.000000</td>\n",
       "      <td>100000.000000</td>\n",
       "      <td>100000.000000</td>\n",
       "      <td>100000.000000</td>\n",
       "    </tr>\n",
       "    <tr>\n",
       "      <th>mean</th>\n",
       "      <td>1.141296</td>\n",
       "      <td>-4.796579</td>\n",
       "      <td>2.494541</td>\n",
       "      <td>68.825000</td>\n",
       "    </tr>\n",
       "    <tr>\n",
       "      <th>std</th>\n",
       "      <td>8.965932</td>\n",
       "      <td>5.119872</td>\n",
       "      <td>1.703572</td>\n",
       "      <td>45.944423</td>\n",
       "    </tr>\n",
       "    <tr>\n",
       "      <th>min</th>\n",
       "      <td>-31.609576</td>\n",
       "      <td>-26.358598</td>\n",
       "      <td>-0.018144</td>\n",
       "      <td>0.000000</td>\n",
       "    </tr>\n",
       "    <tr>\n",
       "      <th>25%</th>\n",
       "      <td>-6.298551</td>\n",
       "      <td>-8.267985</td>\n",
       "      <td>1.000021</td>\n",
       "      <td>26.953261</td>\n",
       "    </tr>\n",
       "    <tr>\n",
       "      <th>50%</th>\n",
       "      <td>1.153055</td>\n",
       "      <td>-4.813172</td>\n",
       "      <td>2.011479</td>\n",
       "      <td>57.085625</td>\n",
       "    </tr>\n",
       "    <tr>\n",
       "      <th>75%</th>\n",
       "      <td>8.621015</td>\n",
       "      <td>-1.332816</td>\n",
       "      <td>3.999904</td>\n",
       "      <td>107.813044</td>\n",
       "    </tr>\n",
       "    <tr>\n",
       "      <th>max</th>\n",
       "      <td>29.421755</td>\n",
       "      <td>18.734063</td>\n",
       "      <td>5.019721</td>\n",
       "      <td>137.945408</td>\n",
       "    </tr>\n",
       "  </tbody>\n",
       "</table>\n",
       "</div>"
      ],
      "text/plain": [
       "                  f0             f1             f2        product\n",
       "count  100000.000000  100000.000000  100000.000000  100000.000000\n",
       "mean        1.141296      -4.796579       2.494541      68.825000\n",
       "std         8.965932       5.119872       1.703572      45.944423\n",
       "min       -31.609576     -26.358598      -0.018144       0.000000\n",
       "25%        -6.298551      -8.267985       1.000021      26.953261\n",
       "50%         1.153055      -4.813172       2.011479      57.085625\n",
       "75%         8.621015      -1.332816       3.999904     107.813044\n",
       "max        29.421755      18.734063       5.019721     137.945408"
      ]
     },
     "execution_count": 3,
     "metadata": {},
     "output_type": "execute_result"
    }
   ],
   "source": [
    "geo_data_1 = pd.read_csv('/datasets/geo_data_1.csv')\n",
    "geo_data_1.info()\n",
    "geo_data_1.describe()"
   ]
  },
  {
   "cell_type": "code",
   "execution_count": 4,
   "metadata": {
    "scrolled": true
   },
   "outputs": [
    {
     "name": "stdout",
     "output_type": "stream",
     "text": [
      "<class 'pandas.core.frame.DataFrame'>\n",
      "RangeIndex: 100000 entries, 0 to 99999\n",
      "Data columns (total 5 columns):\n",
      " #   Column   Non-Null Count   Dtype  \n",
      "---  ------   --------------   -----  \n",
      " 0   id       100000 non-null  object \n",
      " 1   f0       100000 non-null  float64\n",
      " 2   f1       100000 non-null  float64\n",
      " 3   f2       100000 non-null  float64\n",
      " 4   product  100000 non-null  float64\n",
      "dtypes: float64(4), object(1)\n",
      "memory usage: 3.8+ MB\n"
     ]
    },
    {
     "data": {
      "text/html": [
       "<div>\n",
       "<style scoped>\n",
       "    .dataframe tbody tr th:only-of-type {\n",
       "        vertical-align: middle;\n",
       "    }\n",
       "\n",
       "    .dataframe tbody tr th {\n",
       "        vertical-align: top;\n",
       "    }\n",
       "\n",
       "    .dataframe thead th {\n",
       "        text-align: right;\n",
       "    }\n",
       "</style>\n",
       "<table border=\"1\" class=\"dataframe\">\n",
       "  <thead>\n",
       "    <tr style=\"text-align: right;\">\n",
       "      <th></th>\n",
       "      <th>f0</th>\n",
       "      <th>f1</th>\n",
       "      <th>f2</th>\n",
       "      <th>product</th>\n",
       "    </tr>\n",
       "  </thead>\n",
       "  <tbody>\n",
       "    <tr>\n",
       "      <th>count</th>\n",
       "      <td>100000.000000</td>\n",
       "      <td>100000.000000</td>\n",
       "      <td>100000.000000</td>\n",
       "      <td>100000.000000</td>\n",
       "    </tr>\n",
       "    <tr>\n",
       "      <th>mean</th>\n",
       "      <td>0.002023</td>\n",
       "      <td>-0.002081</td>\n",
       "      <td>2.495128</td>\n",
       "      <td>95.000000</td>\n",
       "    </tr>\n",
       "    <tr>\n",
       "      <th>std</th>\n",
       "      <td>1.732045</td>\n",
       "      <td>1.730417</td>\n",
       "      <td>3.473445</td>\n",
       "      <td>44.749921</td>\n",
       "    </tr>\n",
       "    <tr>\n",
       "      <th>min</th>\n",
       "      <td>-8.760004</td>\n",
       "      <td>-7.084020</td>\n",
       "      <td>-11.970335</td>\n",
       "      <td>0.000000</td>\n",
       "    </tr>\n",
       "    <tr>\n",
       "      <th>25%</th>\n",
       "      <td>-1.162288</td>\n",
       "      <td>-1.174820</td>\n",
       "      <td>0.130359</td>\n",
       "      <td>59.450441</td>\n",
       "    </tr>\n",
       "    <tr>\n",
       "      <th>50%</th>\n",
       "      <td>0.009424</td>\n",
       "      <td>-0.009482</td>\n",
       "      <td>2.484236</td>\n",
       "      <td>94.925613</td>\n",
       "    </tr>\n",
       "    <tr>\n",
       "      <th>75%</th>\n",
       "      <td>1.158535</td>\n",
       "      <td>1.163678</td>\n",
       "      <td>4.858794</td>\n",
       "      <td>130.595027</td>\n",
       "    </tr>\n",
       "    <tr>\n",
       "      <th>max</th>\n",
       "      <td>7.238262</td>\n",
       "      <td>7.844801</td>\n",
       "      <td>16.739402</td>\n",
       "      <td>190.029838</td>\n",
       "    </tr>\n",
       "  </tbody>\n",
       "</table>\n",
       "</div>"
      ],
      "text/plain": [
       "                  f0             f1             f2        product\n",
       "count  100000.000000  100000.000000  100000.000000  100000.000000\n",
       "mean        0.002023      -0.002081       2.495128      95.000000\n",
       "std         1.732045       1.730417       3.473445      44.749921\n",
       "min        -8.760004      -7.084020     -11.970335       0.000000\n",
       "25%        -1.162288      -1.174820       0.130359      59.450441\n",
       "50%         0.009424      -0.009482       2.484236      94.925613\n",
       "75%         1.158535       1.163678       4.858794     130.595027\n",
       "max         7.238262       7.844801      16.739402     190.029838"
      ]
     },
     "execution_count": 4,
     "metadata": {},
     "output_type": "execute_result"
    }
   ],
   "source": [
    "geo_data_2 = pd.read_csv('/datasets/geo_data_2.csv')\n",
    "geo_data_2.info()\n",
    "geo_data_2.describe()"
   ]
  },
  {
   "cell_type": "markdown",
   "metadata": {},
   "source": [
    "Во всех датафремах отсутствуют пропуски, но присутствуют нулевые значения в столбцах product. Посчитаем их количество"
   ]
  },
  {
   "cell_type": "code",
   "execution_count": 5,
   "metadata": {},
   "outputs": [
    {
     "data": {
      "text/html": [
       "<div>\n",
       "<style scoped>\n",
       "    .dataframe tbody tr th:only-of-type {\n",
       "        vertical-align: middle;\n",
       "    }\n",
       "\n",
       "    .dataframe tbody tr th {\n",
       "        vertical-align: top;\n",
       "    }\n",
       "\n",
       "    .dataframe thead th {\n",
       "        text-align: right;\n",
       "    }\n",
       "</style>\n",
       "<table border=\"1\" class=\"dataframe\">\n",
       "  <thead>\n",
       "    <tr style=\"text-align: right;\">\n",
       "      <th></th>\n",
       "      <th>id</th>\n",
       "      <th>f0</th>\n",
       "      <th>f1</th>\n",
       "      <th>f2</th>\n",
       "      <th>product</th>\n",
       "    </tr>\n",
       "  </thead>\n",
       "  <tbody>\n",
       "    <tr>\n",
       "      <th>57263</th>\n",
       "      <td>zCM5W</td>\n",
       "      <td>-0.702064</td>\n",
       "      <td>0.375992</td>\n",
       "      <td>0.236572</td>\n",
       "      <td>0.0</td>\n",
       "    </tr>\n",
       "  </tbody>\n",
       "</table>\n",
       "</div>"
      ],
      "text/plain": [
       "          id        f0        f1        f2  product\n",
       "57263  zCM5W -0.702064  0.375992  0.236572      0.0"
      ]
     },
     "execution_count": 5,
     "metadata": {},
     "output_type": "execute_result"
    }
   ],
   "source": [
    "geo_data_0[geo_data_0['product'] == 0]"
   ]
  },
  {
   "cell_type": "code",
   "execution_count": 6,
   "metadata": {},
   "outputs": [
    {
     "data": {
      "text/html": [
       "<div>\n",
       "<style scoped>\n",
       "    .dataframe tbody tr th:only-of-type {\n",
       "        vertical-align: middle;\n",
       "    }\n",
       "\n",
       "    .dataframe tbody tr th {\n",
       "        vertical-align: top;\n",
       "    }\n",
       "\n",
       "    .dataframe thead th {\n",
       "        text-align: right;\n",
       "    }\n",
       "</style>\n",
       "<table border=\"1\" class=\"dataframe\">\n",
       "  <thead>\n",
       "    <tr style=\"text-align: right;\">\n",
       "      <th></th>\n",
       "      <th>id</th>\n",
       "      <th>f0</th>\n",
       "      <th>f1</th>\n",
       "      <th>f2</th>\n",
       "      <th>product</th>\n",
       "    </tr>\n",
       "  </thead>\n",
       "  <tbody>\n",
       "    <tr>\n",
       "      <th>11</th>\n",
       "      <td>OXyvW</td>\n",
       "      <td>16.320755</td>\n",
       "      <td>-0.562946</td>\n",
       "      <td>-0.001783</td>\n",
       "      <td>0.0</td>\n",
       "    </tr>\n",
       "    <tr>\n",
       "      <th>13</th>\n",
       "      <td>igmai</td>\n",
       "      <td>6.695604</td>\n",
       "      <td>-0.749449</td>\n",
       "      <td>-0.007630</td>\n",
       "      <td>0.0</td>\n",
       "    </tr>\n",
       "    <tr>\n",
       "      <th>62</th>\n",
       "      <td>Qjy5w</td>\n",
       "      <td>21.418478</td>\n",
       "      <td>-5.134490</td>\n",
       "      <td>-0.002836</td>\n",
       "      <td>0.0</td>\n",
       "    </tr>\n",
       "    <tr>\n",
       "      <th>63</th>\n",
       "      <td>G6WCj</td>\n",
       "      <td>6.822701</td>\n",
       "      <td>3.104979</td>\n",
       "      <td>-0.000723</td>\n",
       "      <td>0.0</td>\n",
       "    </tr>\n",
       "    <tr>\n",
       "      <th>77</th>\n",
       "      <td>MzQhL</td>\n",
       "      <td>6.750150</td>\n",
       "      <td>-11.893512</td>\n",
       "      <td>-0.001601</td>\n",
       "      <td>0.0</td>\n",
       "    </tr>\n",
       "    <tr>\n",
       "      <th>...</th>\n",
       "      <td>...</td>\n",
       "      <td>...</td>\n",
       "      <td>...</td>\n",
       "      <td>...</td>\n",
       "      <td>...</td>\n",
       "    </tr>\n",
       "    <tr>\n",
       "      <th>99936</th>\n",
       "      <td>YrRU8</td>\n",
       "      <td>5.085749</td>\n",
       "      <td>-3.980305</td>\n",
       "      <td>0.005063</td>\n",
       "      <td>0.0</td>\n",
       "    </tr>\n",
       "    <tr>\n",
       "      <th>99948</th>\n",
       "      <td>Jbnur</td>\n",
       "      <td>8.277805</td>\n",
       "      <td>-9.178818</td>\n",
       "      <td>0.003275</td>\n",
       "      <td>0.0</td>\n",
       "    </tr>\n",
       "    <tr>\n",
       "      <th>99956</th>\n",
       "      <td>aV1cJ</td>\n",
       "      <td>13.343983</td>\n",
       "      <td>-1.290200</td>\n",
       "      <td>0.005980</td>\n",
       "      <td>0.0</td>\n",
       "    </tr>\n",
       "    <tr>\n",
       "      <th>99961</th>\n",
       "      <td>Zjbn2</td>\n",
       "      <td>13.854163</td>\n",
       "      <td>-11.528089</td>\n",
       "      <td>-0.005556</td>\n",
       "      <td>0.0</td>\n",
       "    </tr>\n",
       "    <tr>\n",
       "      <th>99973</th>\n",
       "      <td>VsayB</td>\n",
       "      <td>12.698645</td>\n",
       "      <td>-4.384673</td>\n",
       "      <td>-0.002600</td>\n",
       "      <td>0.0</td>\n",
       "    </tr>\n",
       "  </tbody>\n",
       "</table>\n",
       "<p>8235 rows × 5 columns</p>\n",
       "</div>"
      ],
      "text/plain": [
       "          id         f0         f1        f2  product\n",
       "11     OXyvW  16.320755  -0.562946 -0.001783      0.0\n",
       "13     igmai   6.695604  -0.749449 -0.007630      0.0\n",
       "62     Qjy5w  21.418478  -5.134490 -0.002836      0.0\n",
       "63     G6WCj   6.822701   3.104979 -0.000723      0.0\n",
       "77     MzQhL   6.750150 -11.893512 -0.001601      0.0\n",
       "...      ...        ...        ...       ...      ...\n",
       "99936  YrRU8   5.085749  -3.980305  0.005063      0.0\n",
       "99948  Jbnur   8.277805  -9.178818  0.003275      0.0\n",
       "99956  aV1cJ  13.343983  -1.290200  0.005980      0.0\n",
       "99961  Zjbn2  13.854163 -11.528089 -0.005556      0.0\n",
       "99973  VsayB  12.698645  -4.384673 -0.002600      0.0\n",
       "\n",
       "[8235 rows x 5 columns]"
      ]
     },
     "execution_count": 6,
     "metadata": {},
     "output_type": "execute_result"
    }
   ],
   "source": [
    "geo_data_1[geo_data_1['product'] == 0]"
   ]
  },
  {
   "cell_type": "code",
   "execution_count": 7,
   "metadata": {
    "scrolled": true
   },
   "outputs": [
    {
     "data": {
      "text/html": [
       "<div>\n",
       "<style scoped>\n",
       "    .dataframe tbody tr th:only-of-type {\n",
       "        vertical-align: middle;\n",
       "    }\n",
       "\n",
       "    .dataframe tbody tr th {\n",
       "        vertical-align: top;\n",
       "    }\n",
       "\n",
       "    .dataframe thead th {\n",
       "        text-align: right;\n",
       "    }\n",
       "</style>\n",
       "<table border=\"1\" class=\"dataframe\">\n",
       "  <thead>\n",
       "    <tr style=\"text-align: right;\">\n",
       "      <th></th>\n",
       "      <th>id</th>\n",
       "      <th>f0</th>\n",
       "      <th>f1</th>\n",
       "      <th>f2</th>\n",
       "      <th>product</th>\n",
       "    </tr>\n",
       "  </thead>\n",
       "  <tbody>\n",
       "    <tr>\n",
       "      <th>68149</th>\n",
       "      <td>qeefd</td>\n",
       "      <td>-0.865596</td>\n",
       "      <td>-1.615247</td>\n",
       "      <td>-4.126441</td>\n",
       "      <td>0.0</td>\n",
       "    </tr>\n",
       "  </tbody>\n",
       "</table>\n",
       "</div>"
      ],
      "text/plain": [
       "          id        f0        f1        f2  product\n",
       "68149  qeefd -0.865596 -1.615247 -4.126441      0.0"
      ]
     },
     "execution_count": 7,
     "metadata": {},
     "output_type": "execute_result"
    }
   ],
   "source": [
    "geo_data_2[geo_data_2['product'] == 0]"
   ]
  },
  {
   "cell_type": "markdown",
   "metadata": {},
   "source": [
    "В первом и третьем датасете всего по одному нулевому значению, а вот во втором  8235 из 100000."
   ]
  },
  {
   "cell_type": "markdown",
   "metadata": {},
   "source": [
    "Столбец id не пригодится нам, удалим его в каждом датасете"
   ]
  },
  {
   "cell_type": "code",
   "execution_count": 8,
   "metadata": {},
   "outputs": [],
   "source": [
    "geo_data_0 = geo_data_0.drop(['id'],axis=1)\n",
    "geo_data_1 = geo_data_1.drop(['id'],axis=1)\n",
    "geo_data_2 = geo_data_2.drop(['id'],axis=1)"
   ]
  },
  {
   "cell_type": "markdown",
   "metadata": {},
   "source": []
  },
  {
   "cell_type": "markdown",
   "metadata": {},
   "source": [
    "Чтобы визулизировать наши данные построим гистограммы "
   ]
  },
  {
   "cell_type": "code",
   "execution_count": 9,
   "metadata": {},
   "outputs": [
    {
     "data": {
      "text/plain": [
       "<AxesSubplot:>"
      ]
     },
     "execution_count": 9,
     "metadata": {},
     "output_type": "execute_result"
    },
    {
     "data": {
      "image/png": "[encoded data removed]",
      "text/plain": [
       "<Figure size 432x288 with 1 Axes>"
      ]
     },
     "metadata": {
      "needs_background": "light"
     },
     "output_type": "display_data"
    }
   ],
   "source": [
    "pd.Series(geo_data_0['product']).hist(range=(0, 200),bins=100)"
   ]
  },
  {
   "cell_type": "code",
   "execution_count": 10,
   "metadata": {},
   "outputs": [
    {
     "data": {
      "text/plain": [
       "<AxesSubplot:>"
      ]
     },
     "execution_count": 10,
     "metadata": {},
     "output_type": "execute_result"
    },
    {
     "data": {
      "image/png": "[encoded data removed]",
      "text/plain": [
       "<Figure size 432x288 with 1 Axes>"
      ]
     },
     "metadata": {
      "needs_background": "light"
     },
     "output_type": "display_data"
    }
   ],
   "source": [
    "pd.Series(geo_data_1['product']).hist(range=(0, 150),bins=50)"
   ]
  },
  {
   "cell_type": "code",
   "execution_count": 11,
   "metadata": {},
   "outputs": [
    {
     "data": {
      "text/plain": [
       "<AxesSubplot:>"
      ]
     },
     "execution_count": 11,
     "metadata": {},
     "output_type": "execute_result"
    },
    {
     "data": {
      "image/png": "[encoded data removed]",
      "text/plain": [
       "<Figure size 432x288 with 1 Axes>"
      ]
     },
     "metadata": {
      "needs_background": "light"
     },
     "output_type": "display_data"
    }
   ],
   "source": [
    "pd.Series(geo_data_2['product']).hist(range=(0, 200),bins=100)"
   ]
  },
  {
   "cell_type": "markdown",
   "metadata": {},
   "source": [
    "# Вывод\n",
    "\n",
    "В первом и третьем датасете по одному нулевому значению наблюдается, тогда как во втором 8.235%"
   ]
  },
  {
   "cell_type": "markdown",
   "metadata": {},
   "source": [
    "## Обучение и проверка модели"
   ]
  },
  {
   "cell_type": "markdown",
   "metadata": {},
   "source": [
    "Для группировки данных по трем датасетам в единую таблицу создадим листы для хранения результатов прогнозирования и их метрик. Проверим модель на всех трех датасетах с помощью цикла и сохраним результаты прогнозирований и метрик в наши листы"
   ]
  },
  {
   "cell_type": "code",
   "execution_count": 12,
   "metadata": {},
   "outputs": [],
   "source": [
    "rmse_list = []\n",
    "predictions_list = []\n",
    "score_list = []\n",
    "target_list = []\n",
    "predictions_data = pd.DataFrame()\n",
    "target_data = pd.DataFrame()\n",
    "\n",
    "for i,j in zip([geo_data_0, geo_data_1, geo_data_2], range(3)):\n",
    "    features = i.drop(['product'], axis=1)\n",
    "    target = i['product']\n",
    "    features_train, features_valid, target_train, target_valid = train_test_split(\n",
    "    features, target, test_size=0.25, random_state=12345)\n",
    "    \n",
    "    model = LinearRegression(n_jobs = -1)\n",
    "    model.fit(features_train, target_train)\n",
    "    predictions = model.predict(features_valid)\n",
    "    rmse = mean_squared_error(target_valid, predictions)**0.5\n",
    "    rmse_list.append(rmse)\n",
    "    predictions_list.append(predictions.mean())\n",
    "    score_list.append(model.score(features_train, target_train))\n",
    "    target_list.append(i['product'].mean())\n",
    "    target_data[j] = target_valid\n",
    "    predictions_data[j] = predictions"
   ]
  },
  {
   "cell_type": "markdown",
   "metadata": {},
   "source": [
    "После цикла создадим таблицу по полученным данным"
   ]
  },
  {
   "cell_type": "code",
   "execution_count": 13,
   "metadata": {},
   "outputs": [
    {
     "data": {
      "text/html": [
       "<div>\n",
       "<style scoped>\n",
       "    .dataframe tbody tr th:only-of-type {\n",
       "        vertical-align: middle;\n",
       "    }\n",
       "\n",
       "    .dataframe tbody tr th {\n",
       "        vertical-align: top;\n",
       "    }\n",
       "\n",
       "    .dataframe thead th {\n",
       "        text-align: right;\n",
       "    }\n",
       "</style>\n",
       "<table border=\"1\" class=\"dataframe\">\n",
       "  <thead>\n",
       "    <tr style=\"text-align: right;\">\n",
       "      <th></th>\n",
       "      <th>region 1</th>\n",
       "      <th>region 2</th>\n",
       "      <th>region 3</th>\n",
       "    </tr>\n",
       "  </thead>\n",
       "  <tbody>\n",
       "    <tr>\n",
       "      <th>RMSE</th>\n",
       "      <td>37.579422</td>\n",
       "      <td>0.893099</td>\n",
       "      <td>40.029709</td>\n",
       "    </tr>\n",
       "    <tr>\n",
       "      <th>Score</th>\n",
       "      <td>0.274239</td>\n",
       "      <td>0.999625</td>\n",
       "      <td>0.196614</td>\n",
       "    </tr>\n",
       "    <tr>\n",
       "      <th>Predicted mean</th>\n",
       "      <td>92.592568</td>\n",
       "      <td>68.728547</td>\n",
       "      <td>94.965046</td>\n",
       "    </tr>\n",
       "    <tr>\n",
       "      <th>Target mean</th>\n",
       "      <td>92.500000</td>\n",
       "      <td>68.825000</td>\n",
       "      <td>95.000000</td>\n",
       "    </tr>\n",
       "  </tbody>\n",
       "</table>\n",
       "</div>"
      ],
      "text/plain": [
       "                 region 1   region 2   region 3\n",
       "RMSE            37.579422   0.893099  40.029709\n",
       "Score            0.274239   0.999625   0.196614\n",
       "Predicted mean  92.592568  68.728547  94.965046\n",
       "Target mean     92.500000  68.825000  95.000000"
      ]
     },
     "execution_count": 13,
     "metadata": {},
     "output_type": "execute_result"
    }
   ],
   "source": [
    "target_data = target_data.reset_index(drop=True)\n",
    "scorelist = pd.DataFrame(\n",
    "    data=[rmse_list, score_list, predictions_list, target_list],\n",
    "    index=['RMSE', 'Score', 'Predicted mean', 'Target mean'],\n",
    "    columns=['region 1', 'region 2', 'region 3'])\n",
    "scorelist"
   ]
  },
  {
   "cell_type": "markdown",
   "metadata": {},
   "source": [
    "Рассматривая полученные данные по каждому региону можно сделать следующие выводы:\n",
    "\n",
    "- средние спрогнозированные результаты почти идентичны с со средним значением target;\n",
    "- модели первого и третьего регионов показывают плохой результат, не стоит бурить новую скважину в одном из этих регионов;\n",
    "- модель региона под номером 2 показывает хороший результат. "
   ]
  },
  {
   "cell_type": "markdown",
   "metadata": {},
   "source": [
    "## Подготовка к расчёту прибыли"
   ]
  },
  {
   "cell_type": "markdown",
   "metadata": {},
   "source": [
    "Условия задачи таковы:\n",
    "\n",
    "- При разведке региона исследуют 500 точек, из которых с помощью машинного обучения выбирают 200 лучших для разработки.\n",
    "- Бюджет на разработку скважин в регионе — 10 млрд рублей.\n",
    "- При нынешних ценах один баррель сырья приносит 450 рублей дохода. Доход с каждой единицы продукта составляет 450 тыс. рублей, поскольку объём указан в тысячах баррелей.\n",
    "- После оценки рисков нужно оставить лишь те регионы, в которых вероятность убытков меньше 2.5%. Среди них выбирают регион с наибольшей средней прибылью.\n",
    "\n",
    "На основании вышеизложенного посчитаем цену за бурение одной скважины и достаточный объем сырья для безубыточного бурения новой скважины"
   ]
  },
  {
   "cell_type": "code",
   "execution_count": 14,
   "metadata": {},
   "outputs": [
    {
     "data": {
      "text/plain": [
       "50000000.0"
      ]
     },
     "execution_count": 14,
     "metadata": {},
     "output_type": "execute_result"
    }
   ],
   "source": [
    "RESEARCH_POINTS = 500\n",
    "BEST_POINTS = 200\n",
    "BUDGET = 10000000000\n",
    "ONE_BARREL_PROFIT = 450\n",
    "ONE_PRODUCT_PROFIT = 450000\n",
    "WELLBORING_PRICE = BUDGET/BEST_POINTS\n",
    "WELLBORING_PRICE"
   ]
  },
  {
   "cell_type": "code",
   "execution_count": 15,
   "metadata": {},
   "outputs": [
    {
     "data": {
      "text/plain": [
       "111.11111111111111"
      ]
     },
     "execution_count": 15,
     "metadata": {},
     "output_type": "execute_result"
    }
   ],
   "source": [
    "PRODUCT_MIN = WELLBORING_PRICE/ONE_PRODUCT_PROFIT\n",
    "PRODUCT_MIN"
   ]
  },
  {
   "cell_type": "markdown",
   "metadata": {},
   "source": [
    "Для расчета прибыли по выбранным скважинам и предсказаниям модели напишем функцию"
   ]
  },
  {
   "cell_type": "code",
   "execution_count": 16,
   "metadata": {},
   "outputs": [],
   "source": [
    "def profit(target, probabilities, count):\n",
    "    probs_sorted = probabilities.sort_values(ascending=False)\n",
    "    selected = target[probs_sorted.index][:count]\n",
    "    return(450000*selected.sum() - (BUDGET))"
   ]
  },
  {
   "cell_type": "markdown",
   "metadata": {},
   "source": [
    "Рассчитаем прибыль по каждому из трех регионов"
   ]
  },
  {
   "cell_type": "code",
   "execution_count": 17,
   "metadata": {
    "scrolled": false
   },
   "outputs": [
    {
     "name": "stdout",
     "output_type": "stream",
     "text": [
      "Прибыль первого региона: 3.32 млрд рублей\n",
      "Прибыль второго региона: 2.42 млрд рублей\n",
      "Прибыль третьего региона: 2.71 млрд рублей\n"
     ]
    }
   ],
   "source": [
    "print('Прибыль первого региона: {:.2f} млрд рублей'.format(profit(target_data[0], predictions_data[0], 200)/1000000000))\n",
    "print('Прибыль второго региона: {:.2f} млрд рублей'.format(profit(target_data[1], predictions_data[1], 200)/1000000000))\n",
    "print('Прибыль третьего региона: {:.2f} млрд рублей'.format(profit(target_data[2], predictions_data[2], 200)/1000000000))"
   ]
  },
  {
   "cell_type": "markdown",
   "metadata": {},
   "source": [
    "## Расчёт прибыли и рисков "
   ]
  },
  {
   "cell_type": "markdown",
   "metadata": {},
   "source": [
    "Используя метод bootstrap посчитаем прибыль для каждого региона"
   ]
  },
  {
   "cell_type": "code",
   "execution_count": 18,
   "metadata": {},
   "outputs": [
    {
     "name": "stdout",
     "output_type": "stream",
     "text": [
      "Средняя прибыль: 0.042593852691059246\n",
      "2,5% квантиль: -0.010209009483793654\n",
      "Риск: 6.0\n",
      "95% доверительный интервал: (-102090094.83793654, 947976353.3583689)\n"
     ]
    }
   ],
   "source": [
    "profits = []\n",
    "\n",
    "for i in range(1000):\n",
    "    target_subsample = target_data[0].sample(n=500, replace=True, random_state=state)\n",
    "    probs_subsample = predictions_data[0][target_subsample.index]\n",
    "    profits.append(profit(target_subsample, probs_subsample, 200))\n",
    "    \n",
    "profits = pd.Series(profits)\n",
    "lower = profits.quantile(0.025)\n",
    "mean = profits.mean()\n",
    "risks_1 = (profits < 0).mean()*100\n",
    "print('Средняя прибыль:', mean/10000000000)\n",
    "print('2,5% квантиль:', lower/10000000000)\n",
    "print('Риск: {}'.format(risks_1))\n",
    "final_profits = []\n",
    "confidence_interval_1 = (profits.quantile(0.025), profits.quantile(0.975))\n",
    "print('95% доверительный интервал:', confidence_interval_1)\n",
    "final_profits.append(('region 1', mean/10000000000, lower/10000000000, confidence_interval_1, risks_1))"
   ]
  },
  {
   "cell_type": "code",
   "execution_count": 19,
   "metadata": {},
   "outputs": [
    {
     "name": "stdout",
     "output_type": "stream",
     "text": [
      "Средняя прибыль: 0.051825949369732484\n",
      "2,5% квантиль: 0.012812323143308444\n",
      "Риск: 0.30\n",
      "95% доверительный интервал: (128123231.43308444, 953612982.0669085)\n"
     ]
    }
   ],
   "source": [
    "profits = []\n",
    "\n",
    "for i in range(1000):\n",
    "    target_subsample = target_data[1].sample(n=500, replace=True, random_state=state)\n",
    "    probs_subsample = predictions_data[1][target_subsample.index]\n",
    "    profits.append(profit(target_subsample, probs_subsample, 200))\n",
    "    \n",
    "profits = pd.Series(profits)\n",
    "lower = profits.quantile(0.025)\n",
    "mean = profits.mean()\n",
    "risks_2 = (profits < 0).mean()*100\n",
    "print('Средняя прибыль:', mean/10000000000)\n",
    "print('2,5% квантиль:', lower/10000000000)\n",
    "print('Риск: {:.2f}'.format(risks_2))\n",
    "confidence_interval_2 = (profits.quantile(0.025), profits.quantile(0.975))\n",
    "print('95% доверительный интервал:', confidence_interval_2)\n",
    "final_profits.append(('region 2', mean/10000000000, lower/10000000000, confidence_interval_2, risks_2))"
   ]
  },
  {
   "cell_type": "code",
   "execution_count": 20,
   "metadata": {},
   "outputs": [
    {
     "name": "stdout",
     "output_type": "stream",
     "text": [
      "Средняя прибыль: 0.04201940053440501\n",
      "2,5% квантиль: -0.011585260916001143\n",
      "Риск: 6.20\n",
      "95% доверительный интервал: (-115852609.16001143, 989629939.8445739)\n"
     ]
    }
   ],
   "source": [
    "profits = []\n",
    "\n",
    "for i in range(1000):\n",
    "    target_subsample = target_data[2].sample(n=500, replace=True, random_state=state)\n",
    "    probs_subsample = predictions_data[2][target_subsample.index]\n",
    "    profits.append(profit(target_subsample, probs_subsample, 200))\n",
    "    \n",
    "profits = pd.Series(profits)\n",
    "lower = profits.quantile(0.025)\n",
    "mean = profits.mean()\n",
    "risks_3 = (profits < 0).mean()*100\n",
    "print('Средняя прибыль:', mean/10000000000)\n",
    "print('2,5% квантиль:', lower/10000000000)\n",
    "print('Риск: {:.2f}'.format(risks_3))\n",
    "confidence_interval_3 = (profits.quantile(0.025), profits.quantile(0.975))\n",
    "print('95% доверительный интервал:', confidence_interval_3)\n",
    "final_profits.append(('region 3', mean/10000000000, lower/10000000000, confidence_interval_3, risks_3))"
   ]
  },
  {
   "cell_type": "markdown",
   "metadata": {},
   "source": [
    "Для сравнения полученных данных сгруппируем полученные результаты в одну таблицу"
   ]
  },
  {
   "cell_type": "code",
   "execution_count": 21,
   "metadata": {},
   "outputs": [
    {
     "data": {
      "text/html": [
       "<style  type=\"text/css\" >\n",
       "#T_f2480_row0_col1,#T_f2480_row0_col2{\n",
       "            background-color:  #deedde;\n",
       "            color:  #000000;\n",
       "        }#T_f2480_row0_col4{\n",
       "            background-color:  #078407;\n",
       "            color:  #f1f1f1;\n",
       "        }#T_f2480_row1_col1,#T_f2480_row1_col2,#T_f2480_row2_col4{\n",
       "            background-color:  #008000;\n",
       "            color:  #f1f1f1;\n",
       "        }#T_f2480_row1_col4,#T_f2480_row2_col1,#T_f2480_row2_col2{\n",
       "            background-color:  #ebf3eb;\n",
       "            color:  #000000;\n",
       "        }</style><table id=\"T_f2480_\" ><thead>    <tr>        <th class=\"blank level0\" ></th>        <th class=\"col_heading level0 col0\" >Region</th>        <th class=\"col_heading level0 col1\" >Mean Profit</th>        <th class=\"col_heading level0 col2\" >Quantile 2.5%</th>        <th class=\"col_heading level0 col3\" >Interval 95%</th>        <th class=\"col_heading level0 col4\" >Risks %</th>    </tr></thead><tbody>\n",
       "                <tr>\n",
       "                        <th id=\"T_f2480_level0_row0\" class=\"row_heading level0 row0\" >0</th>\n",
       "                        <td id=\"T_f2480_row0_col0\" class=\"data row0 col0\" >region 1</td>\n",
       "                        <td id=\"T_f2480_row0_col1\" class=\"data row0 col1\" >0.042594</td>\n",
       "                        <td id=\"T_f2480_row0_col2\" class=\"data row0 col2\" >-0.010209</td>\n",
       "                        <td id=\"T_f2480_row0_col3\" class=\"data row0 col3\" >(-102090094.83793654, 947976353.3583689)</td>\n",
       "                        <td id=\"T_f2480_row0_col4\" class=\"data row0 col4\" >6.000000</td>\n",
       "            </tr>\n",
       "            <tr>\n",
       "                        <th id=\"T_f2480_level0_row1\" class=\"row_heading level0 row1\" >1</th>\n",
       "                        <td id=\"T_f2480_row1_col0\" class=\"data row1 col0\" >region 2</td>\n",
       "                        <td id=\"T_f2480_row1_col1\" class=\"data row1 col1\" >0.051826</td>\n",
       "                        <td id=\"T_f2480_row1_col2\" class=\"data row1 col2\" >0.012812</td>\n",
       "                        <td id=\"T_f2480_row1_col3\" class=\"data row1 col3\" >(128123231.43308444, 953612982.0669085)</td>\n",
       "                        <td id=\"T_f2480_row1_col4\" class=\"data row1 col4\" >0.300000</td>\n",
       "            </tr>\n",
       "            <tr>\n",
       "                        <th id=\"T_f2480_level0_row2\" class=\"row_heading level0 row2\" >2</th>\n",
       "                        <td id=\"T_f2480_row2_col0\" class=\"data row2 col0\" >region 3</td>\n",
       "                        <td id=\"T_f2480_row2_col1\" class=\"data row2 col1\" >0.042019</td>\n",
       "                        <td id=\"T_f2480_row2_col2\" class=\"data row2 col2\" >-0.011585</td>\n",
       "                        <td id=\"T_f2480_row2_col3\" class=\"data row2 col3\" >(-115852609.16001143, 989629939.8445739)</td>\n",
       "                        <td id=\"T_f2480_row2_col4\" class=\"data row2 col4\" >6.200000</td>\n",
       "            </tr>\n",
       "    </tbody></table>"
      ],
      "text/plain": [
       "<pandas.io.formats.style.Styler at 0x7f94087cad00>"
      ]
     },
     "execution_count": 21,
     "metadata": {},
     "output_type": "execute_result"
    }
   ],
   "source": [
    "result_data = pd.DataFrame(final_profits, columns=['Region', 'Mean Profit', 'Quantile 2.5%', 'Interval 95%', 'Risks %'])\n",
    "cm = sns.light_palette(\"green\", as_cmap=True)\n",
    "result = result_data.style.background_gradient(cmap=cm)\n",
    "result"
   ]
  },
  {
   "cell_type": "markdown",
   "metadata": {},
   "source": [
    "Как мы видим из таблицы самые лучшие показатели у второго региона!"
   ]
  },
  {
   "cell_type": "markdown",
   "metadata": {},
   "source": [
    "# Общий вывод"
   ]
  },
  {
   "cell_type": "markdown",
   "metadata": {},
   "source": [
    "Для прогнозирования объема добываемого сырья нам было предоставлено 3 датасета по трем регионам. В первом и третьем датасете по одному нулевому значению наблюдается, тогда как во втором 8.235%. \n",
    "На основании полученных после обучения и проверки модели методом Логической регрессии данных по каждому региону можно сделать следующие выводы:\n",
    "\n",
    "- средние спрогнозированные результаты почти идентичны с со средним значением target;\n",
    "- модели первого и третьего регионов показывают плохой результат, не стоит бурить новую скважину в одном из этих регионов;\n",
    "- модель региона под номером 2 показывает хороший результат. \n",
    "\n",
    "После расчетов прибили каждого региона следует вывод, что регион под номером 2 пригоден для использования в качестве региона для новой скважины!\n",
    "\n",
    "По итогам расчета прибыли и рисков по каждому региону было выяснено, что самые лучшие показатели у второго региона. "
   ]
  }
 ],
 "metadata": {
  "ExecuteTimeLog": [
   {
    "duration": 1079,
    "start_time": "2022-06-23T06:38:06.851Z"
   },
   {
    "duration": 387,
    "start_time": "2022-06-23T06:38:37.063Z"
   },
   {
    "duration": 781,
    "start_time": "2022-06-23T07:18:59.667Z"
   },
   {
    "duration": 551,
    "start_time": "2022-06-23T07:20:11.211Z"
   },
   {
    "duration": 550,
    "start_time": "2022-06-23T07:20:28.154Z"
   },
   {
    "duration": 168,
    "start_time": "2022-06-23T07:24:02.171Z"
   },
   {
    "duration": 161,
    "start_time": "2022-06-23T07:24:52.264Z"
   },
   {
    "duration": 163,
    "start_time": "2022-06-23T07:25:32.952Z"
   },
   {
    "duration": 211,
    "start_time": "2022-06-23T07:26:16.830Z"
   },
   {
    "duration": 169,
    "start_time": "2022-06-23T07:26:21.691Z"
   },
   {
    "duration": 74,
    "start_time": "2022-06-23T07:29:00.488Z"
   },
   {
    "duration": 9,
    "start_time": "2022-06-23T07:29:37.188Z"
   },
   {
    "duration": 18,
    "start_time": "2022-06-23T07:30:12.035Z"
   },
   {
    "duration": 13,
    "start_time": "2022-06-23T07:30:33.793Z"
   },
   {
    "duration": 1343,
    "start_time": "2022-06-23T07:30:48.406Z"
   },
   {
    "duration": 170,
    "start_time": "2022-06-23T07:30:49.751Z"
   },
   {
    "duration": 155,
    "start_time": "2022-06-23T07:30:49.926Z"
   },
   {
    "duration": 160,
    "start_time": "2022-06-23T07:30:50.083Z"
   },
   {
    "duration": 20,
    "start_time": "2022-06-23T07:30:50.245Z"
   },
   {
    "duration": 102,
    "start_time": "2022-06-23T07:31:31.288Z"
   },
   {
    "duration": 1220,
    "start_time": "2022-06-23T07:32:35.882Z"
   },
   {
    "duration": 184,
    "start_time": "2022-06-23T07:32:37.104Z"
   },
   {
    "duration": 161,
    "start_time": "2022-06-23T07:32:37.290Z"
   },
   {
    "duration": 151,
    "start_time": "2022-06-23T07:32:37.453Z"
   },
   {
    "duration": 20,
    "start_time": "2022-06-23T07:32:37.605Z"
   },
   {
    "duration": 5,
    "start_time": "2022-06-23T07:36:51.061Z"
   },
   {
    "duration": 5,
    "start_time": "2022-06-23T07:39:06.766Z"
   },
   {
    "duration": 5,
    "start_time": "2022-06-23T07:39:12.818Z"
   },
   {
    "duration": 4,
    "start_time": "2022-06-23T07:39:18.505Z"
   },
   {
    "duration": 5,
    "start_time": "2022-06-23T07:39:24.516Z"
   },
   {
    "duration": 1264,
    "start_time": "2022-06-23T07:39:34.007Z"
   },
   {
    "duration": 170,
    "start_time": "2022-06-23T07:39:35.274Z"
   },
   {
    "duration": 149,
    "start_time": "2022-06-23T07:39:35.446Z"
   },
   {
    "duration": 146,
    "start_time": "2022-06-23T07:39:35.597Z"
   },
   {
    "duration": 4,
    "start_time": "2022-06-23T07:39:35.745Z"
   },
   {
    "duration": 6,
    "start_time": "2022-06-23T07:39:35.751Z"
   },
   {
    "duration": 5,
    "start_time": "2022-06-23T07:39:35.758Z"
   },
   {
    "duration": 15,
    "start_time": "2022-06-23T07:39:35.765Z"
   },
   {
    "duration": 13,
    "start_time": "2022-06-23T07:40:01.692Z"
   },
   {
    "duration": 11,
    "start_time": "2022-06-23T07:40:38.829Z"
   },
   {
    "duration": 101,
    "start_time": "2022-06-23T07:41:01.520Z"
   },
   {
    "duration": 11,
    "start_time": "2022-06-23T07:41:08.688Z"
   },
   {
    "duration": 4,
    "start_time": "2022-06-23T07:43:31.474Z"
   },
   {
    "duration": 90,
    "start_time": "2022-06-23T07:43:45.102Z"
   },
   {
    "duration": 6,
    "start_time": "2022-06-23T07:43:50.876Z"
   },
   {
    "duration": 74,
    "start_time": "2022-06-23T07:44:55.374Z"
   },
   {
    "duration": 3,
    "start_time": "2022-06-23T07:45:05.292Z"
   },
   {
    "duration": 1227,
    "start_time": "2022-06-23T07:45:34.778Z"
   },
   {
    "duration": 2,
    "start_time": "2022-06-23T07:46:02.679Z"
   },
   {
    "duration": 6,
    "start_time": "2022-06-23T07:46:05.604Z"
   },
   {
    "duration": 8,
    "start_time": "2022-06-23T07:46:26.686Z"
   },
   {
    "duration": 6,
    "start_time": "2022-06-23T07:46:31.152Z"
   },
   {
    "duration": 5,
    "start_time": "2022-06-23T07:46:40.235Z"
   },
   {
    "duration": 10,
    "start_time": "2022-06-23T07:49:07.974Z"
   },
   {
    "duration": 10,
    "start_time": "2022-06-23T07:49:27.140Z"
   },
   {
    "duration": 11,
    "start_time": "2022-06-23T07:50:01.189Z"
   },
   {
    "duration": 68,
    "start_time": "2022-06-23T08:10:29.774Z"
   },
   {
    "duration": 260,
    "start_time": "2022-06-23T08:20:35.676Z"
   },
   {
    "duration": 245,
    "start_time": "2022-06-23T08:20:47.711Z"
   },
   {
    "duration": 231,
    "start_time": "2022-06-23T08:39:42.350Z"
   },
   {
    "duration": 292,
    "start_time": "2022-06-23T08:39:52.774Z"
   },
   {
    "duration": 168,
    "start_time": "2022-06-23T08:41:58.143Z"
   },
   {
    "duration": 9,
    "start_time": "2022-06-25T12:06:02.361Z"
   },
   {
    "duration": 1440,
    "start_time": "2022-06-25T12:06:08.876Z"
   },
   {
    "duration": 411,
    "start_time": "2022-06-25T12:06:10.317Z"
   },
   {
    "duration": 236,
    "start_time": "2022-06-25T12:06:10.729Z"
   },
   {
    "duration": 251,
    "start_time": "2022-06-25T12:06:10.966Z"
   },
   {
    "duration": 11,
    "start_time": "2022-06-25T12:06:11.219Z"
   },
   {
    "duration": 13,
    "start_time": "2022-06-25T12:06:11.231Z"
   },
   {
    "duration": 9,
    "start_time": "2022-06-25T12:06:11.245Z"
   },
   {
    "duration": 22,
    "start_time": "2022-06-25T12:06:11.256Z"
   },
   {
    "duration": 267,
    "start_time": "2022-06-25T12:06:11.279Z"
   },
   {
    "duration": 280,
    "start_time": "2022-06-25T12:06:11.547Z"
   },
   {
    "duration": 334,
    "start_time": "2022-06-25T12:06:11.829Z"
   },
   {
    "duration": 189,
    "start_time": "2022-06-25T12:06:12.166Z"
   },
   {
    "duration": 11,
    "start_time": "2022-06-25T12:06:12.357Z"
   },
   {
    "duration": 4,
    "start_time": "2022-06-25T12:08:28.412Z"
   },
   {
    "duration": 115,
    "start_time": "2022-06-25T12:11:09.659Z"
   },
   {
    "duration": 21,
    "start_time": "2022-06-25T12:11:18.830Z"
   },
   {
    "duration": 163,
    "start_time": "2022-06-25T12:19:37.905Z"
   },
   {
    "duration": 13,
    "start_time": "2022-06-25T12:19:58.166Z"
   },
   {
    "duration": 24,
    "start_time": "2022-06-25T12:26:16.252Z"
   },
   {
    "duration": 26,
    "start_time": "2022-06-25T12:26:52.987Z"
   },
   {
    "duration": 60,
    "start_time": "2022-06-25T12:26:59.407Z"
   },
   {
    "duration": 31,
    "start_time": "2022-06-25T12:28:28.656Z"
   },
   {
    "duration": 3,
    "start_time": "2022-06-25T12:46:58.536Z"
   },
   {
    "duration": 20,
    "start_time": "2022-06-25T12:48:45.655Z"
   },
   {
    "duration": 70,
    "start_time": "2022-06-25T12:58:20.499Z"
   },
   {
    "duration": 9,
    "start_time": "2022-06-25T12:58:28.847Z"
   },
   {
    "duration": 10,
    "start_time": "2022-06-25T12:59:11.964Z"
   },
   {
    "duration": 200,
    "start_time": "2022-06-25T13:15:55.001Z"
   },
   {
    "duration": 403,
    "start_time": "2022-06-25T13:16:59.184Z"
   },
   {
    "duration": 10,
    "start_time": "2022-06-25T13:21:06.838Z"
   },
   {
    "duration": 5,
    "start_time": "2022-06-25T13:21:14.920Z"
   },
   {
    "duration": 10,
    "start_time": "2022-06-25T13:21:24.107Z"
   },
   {
    "duration": 5,
    "start_time": "2022-06-25T13:54:38.917Z"
   },
   {
    "duration": 6,
    "start_time": "2022-06-25T13:55:28.979Z"
   },
   {
    "duration": 3,
    "start_time": "2022-06-25T14:04:07.981Z"
   },
   {
    "duration": 3,
    "start_time": "2022-06-25T14:08:02.041Z"
   },
   {
    "duration": 9,
    "start_time": "2022-06-25T14:08:28.790Z"
   },
   {
    "duration": 8,
    "start_time": "2022-06-25T14:08:37.333Z"
   },
   {
    "duration": 10,
    "start_time": "2022-06-25T14:09:12.280Z"
   },
   {
    "duration": 10,
    "start_time": "2022-06-25T14:09:23.982Z"
   },
   {
    "duration": 9,
    "start_time": "2022-06-25T14:09:44.023Z"
   },
   {
    "duration": 4,
    "start_time": "2022-06-25T14:10:47.399Z"
   },
   {
    "duration": 3,
    "start_time": "2022-06-25T14:11:06.929Z"
   },
   {
    "duration": 9,
    "start_time": "2022-06-25T14:11:22.827Z"
   },
   {
    "duration": 9,
    "start_time": "2022-06-25T14:11:46.195Z"
   },
   {
    "duration": 20,
    "start_time": "2022-06-25T14:12:14.880Z"
   },
   {
    "duration": 11,
    "start_time": "2022-06-25T14:28:05.857Z"
   },
   {
    "duration": 1570,
    "start_time": "2022-06-25T14:28:58.290Z"
   },
   {
    "duration": 15,
    "start_time": "2022-06-25T14:32:04.579Z"
   },
   {
    "duration": 1671,
    "start_time": "2022-06-25T14:32:45.348Z"
   },
   {
    "duration": 1625,
    "start_time": "2022-06-25T14:34:13.093Z"
   },
   {
    "duration": 1339,
    "start_time": "2022-06-25T14:35:05.572Z"
   },
   {
    "duration": 174,
    "start_time": "2022-06-25T14:35:06.913Z"
   },
   {
    "duration": 155,
    "start_time": "2022-06-25T14:35:07.088Z"
   },
   {
    "duration": 165,
    "start_time": "2022-06-25T14:35:07.245Z"
   },
   {
    "duration": 15,
    "start_time": "2022-06-25T14:35:07.411Z"
   },
   {
    "duration": 20,
    "start_time": "2022-06-25T14:35:07.428Z"
   },
   {
    "duration": 13,
    "start_time": "2022-06-25T14:35:07.468Z"
   },
   {
    "duration": 17,
    "start_time": "2022-06-25T14:35:07.483Z"
   },
   {
    "duration": 311,
    "start_time": "2022-06-25T14:35:07.502Z"
   },
   {
    "duration": 272,
    "start_time": "2022-06-25T14:35:07.815Z"
   },
   {
    "duration": 268,
    "start_time": "2022-06-25T14:35:08.088Z"
   },
   {
    "duration": 326,
    "start_time": "2022-06-25T14:35:08.358Z"
   },
   {
    "duration": 392,
    "start_time": "2022-06-25T14:35:08.686Z"
   },
   {
    "duration": 97,
    "start_time": "2022-06-25T14:35:09.080Z"
   },
   {
    "duration": 7,
    "start_time": "2022-06-25T14:35:09.268Z"
   },
   {
    "duration": 9,
    "start_time": "2022-06-25T14:35:09.277Z"
   },
   {
    "duration": 6,
    "start_time": "2022-06-25T14:35:09.288Z"
   },
   {
    "duration": 25,
    "start_time": "2022-06-25T14:35:09.296Z"
   },
   {
    "duration": 1611,
    "start_time": "2022-06-25T14:35:09.323Z"
   },
   {
    "duration": 97,
    "start_time": "2022-06-25T14:35:25.219Z"
   },
   {
    "duration": 1323,
    "start_time": "2022-06-25T14:36:04.862Z"
   },
   {
    "duration": 178,
    "start_time": "2022-06-25T14:36:06.187Z"
   },
   {
    "duration": 158,
    "start_time": "2022-06-25T14:36:06.368Z"
   },
   {
    "duration": 166,
    "start_time": "2022-06-25T14:36:06.529Z"
   },
   {
    "duration": 11,
    "start_time": "2022-06-25T14:36:06.697Z"
   },
   {
    "duration": 16,
    "start_time": "2022-06-25T14:36:06.709Z"
   },
   {
    "duration": 10,
    "start_time": "2022-06-25T14:36:06.727Z"
   },
   {
    "duration": 44,
    "start_time": "2022-06-25T14:36:06.739Z"
   },
   {
    "duration": 289,
    "start_time": "2022-06-25T14:36:06.785Z"
   },
   {
    "duration": 285,
    "start_time": "2022-06-25T14:36:07.077Z"
   },
   {
    "duration": 279,
    "start_time": "2022-06-25T14:36:07.367Z"
   },
   {
    "duration": 293,
    "start_time": "2022-06-25T14:36:07.648Z"
   },
   {
    "duration": 431,
    "start_time": "2022-06-25T14:36:07.943Z"
   },
   {
    "duration": 96,
    "start_time": "2022-06-25T14:36:08.376Z"
   },
   {
    "duration": 102,
    "start_time": "2022-06-25T14:36:08.474Z"
   },
   {
    "duration": 8,
    "start_time": "2022-06-25T14:36:08.577Z"
   },
   {
    "duration": 5,
    "start_time": "2022-06-25T14:36:08.586Z"
   },
   {
    "duration": 22,
    "start_time": "2022-06-25T14:36:08.592Z"
   },
   {
    "duration": 124,
    "start_time": "2022-06-25T14:36:08.616Z"
   },
   {
    "duration": 12,
    "start_time": "2022-06-25T14:36:31.775Z"
   },
   {
    "duration": 1686,
    "start_time": "2022-06-25T14:36:52.368Z"
   },
   {
    "duration": 1640,
    "start_time": "2022-06-25T14:37:28.130Z"
   },
   {
    "duration": 1403,
    "start_time": "2022-06-25T14:37:40.138Z"
   },
   {
    "duration": 1323,
    "start_time": "2022-06-25T14:38:12.571Z"
   },
   {
    "duration": 176,
    "start_time": "2022-06-25T14:38:13.895Z"
   },
   {
    "duration": 166,
    "start_time": "2022-06-25T14:38:14.073Z"
   },
   {
    "duration": 161,
    "start_time": "2022-06-25T14:38:14.241Z"
   },
   {
    "duration": 11,
    "start_time": "2022-06-25T14:38:14.403Z"
   },
   {
    "duration": 15,
    "start_time": "2022-06-25T14:38:14.416Z"
   },
   {
    "duration": 10,
    "start_time": "2022-06-25T14:38:14.433Z"
   },
   {
    "duration": 17,
    "start_time": "2022-06-25T14:38:14.468Z"
   },
   {
    "duration": 295,
    "start_time": "2022-06-25T14:38:14.487Z"
   },
   {
    "duration": 275,
    "start_time": "2022-06-25T14:38:14.785Z"
   },
   {
    "duration": 265,
    "start_time": "2022-06-25T14:38:15.067Z"
   },
   {
    "duration": 290,
    "start_time": "2022-06-25T14:38:15.333Z"
   },
   {
    "duration": 255,
    "start_time": "2022-06-25T14:38:15.625Z"
   },
   {
    "duration": 15,
    "start_time": "2022-06-25T14:38:15.967Z"
   },
   {
    "duration": 5,
    "start_time": "2022-06-25T14:38:16.068Z"
   },
   {
    "duration": 9,
    "start_time": "2022-06-25T14:38:16.074Z"
   },
   {
    "duration": 5,
    "start_time": "2022-06-25T14:38:16.085Z"
   },
   {
    "duration": 26,
    "start_time": "2022-06-25T14:38:16.092Z"
   },
   {
    "duration": 1389,
    "start_time": "2022-06-25T14:38:16.119Z"
   },
   {
    "duration": 1391,
    "start_time": "2022-06-25T14:39:01.947Z"
   },
   {
    "duration": 1356,
    "start_time": "2022-06-25T14:39:25.485Z"
   },
   {
    "duration": 1387,
    "start_time": "2022-06-25T14:40:36.865Z"
   },
   {
    "duration": 1389,
    "start_time": "2022-06-25T14:40:59.121Z"
   },
   {
    "duration": 1592,
    "start_time": "2022-06-25T14:41:05.476Z"
   },
   {
    "duration": 1338,
    "start_time": "2022-06-25T14:43:42.007Z"
   },
   {
    "duration": 1380,
    "start_time": "2022-06-25T14:44:11.081Z"
   },
   {
    "duration": 1353,
    "start_time": "2022-06-25T14:44:23.063Z"
   },
   {
    "duration": 46,
    "start_time": "2022-06-25T14:45:21.768Z"
   },
   {
    "duration": 4,
    "start_time": "2022-06-25T14:47:09.191Z"
   },
   {
    "duration": 101,
    "start_time": "2022-06-25T14:47:58.542Z"
   },
   {
    "duration": 11,
    "start_time": "2022-06-25T14:48:06.724Z"
   },
   {
    "duration": 1466,
    "start_time": "2022-06-25T14:48:36.272Z"
   },
   {
    "duration": 192,
    "start_time": "2022-06-25T14:48:37.740Z"
   },
   {
    "duration": 173,
    "start_time": "2022-06-25T14:48:37.934Z"
   },
   {
    "duration": 165,
    "start_time": "2022-06-25T14:48:38.109Z"
   },
   {
    "duration": 11,
    "start_time": "2022-06-25T14:48:38.276Z"
   },
   {
    "duration": 15,
    "start_time": "2022-06-25T14:48:38.288Z"
   },
   {
    "duration": 10,
    "start_time": "2022-06-25T14:48:38.305Z"
   },
   {
    "duration": 17,
    "start_time": "2022-06-25T14:48:38.316Z"
   },
   {
    "duration": 311,
    "start_time": "2022-06-25T14:48:38.334Z"
   },
   {
    "duration": 300,
    "start_time": "2022-06-25T14:48:38.649Z"
   },
   {
    "duration": 380,
    "start_time": "2022-06-25T14:48:38.951Z"
   },
   {
    "duration": 211,
    "start_time": "2022-06-25T14:48:39.333Z"
   },
   {
    "duration": 422,
    "start_time": "2022-06-25T14:48:39.545Z"
   },
   {
    "duration": 99,
    "start_time": "2022-06-25T14:48:39.969Z"
   },
   {
    "duration": 9,
    "start_time": "2022-06-25T14:48:40.070Z"
   },
   {
    "duration": 5,
    "start_time": "2022-06-25T14:48:40.080Z"
   },
   {
    "duration": 5,
    "start_time": "2022-06-25T14:48:40.087Z"
   },
   {
    "duration": 20,
    "start_time": "2022-06-25T14:48:40.094Z"
   },
   {
    "duration": 1416,
    "start_time": "2022-06-25T14:48:40.115Z"
   },
   {
    "duration": 1302,
    "start_time": "2022-06-25T14:48:41.532Z"
   },
   {
    "duration": 1334,
    "start_time": "2022-06-25T14:48:42.836Z"
   },
   {
    "duration": 110,
    "start_time": "2022-06-25T14:48:44.172Z"
   },
   {
    "duration": 53,
    "start_time": "2022-06-25T14:48:49.972Z"
   },
   {
    "duration": 1368,
    "start_time": "2022-06-25T14:49:08.207Z"
   },
   {
    "duration": 194,
    "start_time": "2022-06-25T14:49:09.579Z"
   },
   {
    "duration": 156,
    "start_time": "2022-06-25T14:49:09.775Z"
   },
   {
    "duration": 152,
    "start_time": "2022-06-25T14:49:09.933Z"
   },
   {
    "duration": 10,
    "start_time": "2022-06-25T14:49:10.087Z"
   },
   {
    "duration": 13,
    "start_time": "2022-06-25T14:49:10.098Z"
   },
   {
    "duration": 9,
    "start_time": "2022-06-25T14:49:10.112Z"
   },
   {
    "duration": 14,
    "start_time": "2022-06-25T14:49:10.122Z"
   },
   {
    "duration": 258,
    "start_time": "2022-06-25T14:49:10.169Z"
   },
   {
    "duration": 253,
    "start_time": "2022-06-25T14:49:10.428Z"
   },
   {
    "duration": 356,
    "start_time": "2022-06-25T14:49:10.683Z"
   },
   {
    "duration": 202,
    "start_time": "2022-06-25T14:49:11.041Z"
   },
   {
    "duration": 427,
    "start_time": "2022-06-25T14:49:11.244Z"
   },
   {
    "duration": 97,
    "start_time": "2022-06-25T14:49:11.673Z"
   },
   {
    "duration": 7,
    "start_time": "2022-06-25T14:49:11.772Z"
   },
   {
    "duration": 89,
    "start_time": "2022-06-25T14:49:11.780Z"
   },
   {
    "duration": 5,
    "start_time": "2022-06-25T14:49:11.871Z"
   },
   {
    "duration": 20,
    "start_time": "2022-06-25T14:49:11.878Z"
   },
   {
    "duration": 1316,
    "start_time": "2022-06-25T14:49:11.899Z"
   },
   {
    "duration": 1326,
    "start_time": "2022-06-25T14:49:13.216Z"
   },
   {
    "duration": 1360,
    "start_time": "2022-06-25T14:49:14.544Z"
   },
   {
    "duration": 49,
    "start_time": "2022-06-25T14:49:15.906Z"
   },
   {
    "duration": 1557,
    "start_time": "2022-06-25T14:50:24.641Z"
   },
   {
    "duration": 20,
    "start_time": "2022-06-25T14:50:26.514Z"
   },
   {
    "duration": 1363,
    "start_time": "2022-06-25T14:51:24.957Z"
   },
   {
    "duration": 1563,
    "start_time": "2022-06-25T14:51:47.194Z"
   },
   {
    "duration": 1484,
    "start_time": "2022-06-25T14:52:19.207Z"
   },
   {
    "duration": 14,
    "start_time": "2022-06-25T14:52:22.328Z"
   },
   {
    "duration": 1348,
    "start_time": "2022-06-25T14:52:34.010Z"
   },
   {
    "duration": 182,
    "start_time": "2022-06-25T14:52:35.360Z"
   },
   {
    "duration": 168,
    "start_time": "2022-06-25T14:52:35.544Z"
   },
   {
    "duration": 174,
    "start_time": "2022-06-25T14:52:35.714Z"
   },
   {
    "duration": 11,
    "start_time": "2022-06-25T14:52:35.890Z"
   },
   {
    "duration": 15,
    "start_time": "2022-06-25T14:52:35.903Z"
   },
   {
    "duration": 10,
    "start_time": "2022-06-25T14:52:35.919Z"
   },
   {
    "duration": 50,
    "start_time": "2022-06-25T14:52:35.931Z"
   },
   {
    "duration": 290,
    "start_time": "2022-06-25T14:52:35.983Z"
   },
   {
    "duration": 279,
    "start_time": "2022-06-25T14:52:36.275Z"
   },
   {
    "duration": 376,
    "start_time": "2022-06-25T14:52:36.556Z"
   },
   {
    "duration": 223,
    "start_time": "2022-06-25T14:52:36.934Z"
   },
   {
    "duration": 419,
    "start_time": "2022-06-25T14:52:37.159Z"
   },
   {
    "duration": 92,
    "start_time": "2022-06-25T14:52:37.582Z"
   },
   {
    "duration": 21,
    "start_time": "2022-06-25T14:52:37.676Z"
   },
   {
    "duration": 5,
    "start_time": "2022-06-25T14:52:37.700Z"
   },
   {
    "duration": 5,
    "start_time": "2022-06-25T14:52:37.707Z"
   },
   {
    "duration": 36,
    "start_time": "2022-06-25T14:52:37.767Z"
   },
   {
    "duration": 1607,
    "start_time": "2022-06-25T14:52:37.805Z"
   },
   {
    "duration": 0,
    "start_time": "2022-06-25T14:52:39.414Z"
   },
   {
    "duration": 0,
    "start_time": "2022-06-25T14:52:39.415Z"
   },
   {
    "duration": 0,
    "start_time": "2022-06-25T14:52:39.417Z"
   },
   {
    "duration": 1434,
    "start_time": "2022-06-25T14:53:07.390Z"
   },
   {
    "duration": 1429,
    "start_time": "2022-06-25T14:53:20.614Z"
   },
   {
    "duration": 1454,
    "start_time": "2022-06-25T14:53:54.858Z"
   },
   {
    "duration": 1418,
    "start_time": "2022-06-25T14:54:04.393Z"
   },
   {
    "duration": 56,
    "start_time": "2022-06-25T14:54:17.430Z"
   },
   {
    "duration": 1420,
    "start_time": "2022-06-25T14:54:49.681Z"
   },
   {
    "duration": 1407,
    "start_time": "2022-06-25T14:54:55.123Z"
   },
   {
    "duration": 1500,
    "start_time": "2022-06-25T14:54:59.131Z"
   },
   {
    "duration": 19,
    "start_time": "2022-06-25T14:55:02.097Z"
   },
   {
    "duration": 1585,
    "start_time": "2022-06-27T08:29:03.769Z"
   },
   {
    "duration": 556,
    "start_time": "2022-06-27T08:29:05.356Z"
   },
   {
    "duration": 667,
    "start_time": "2022-06-27T08:29:05.913Z"
   },
   {
    "duration": 595,
    "start_time": "2022-06-27T08:29:06.582Z"
   },
   {
    "duration": 10,
    "start_time": "2022-06-27T08:29:07.179Z"
   },
   {
    "duration": 13,
    "start_time": "2022-06-27T08:29:07.190Z"
   },
   {
    "duration": 9,
    "start_time": "2022-06-27T08:29:07.204Z"
   },
   {
    "duration": 35,
    "start_time": "2022-06-27T08:29:07.215Z"
   },
   {
    "duration": 307,
    "start_time": "2022-06-27T08:29:07.251Z"
   },
   {
    "duration": 258,
    "start_time": "2022-06-27T08:29:07.560Z"
   },
   {
    "duration": 333,
    "start_time": "2022-06-27T08:29:07.819Z"
   },
   {
    "duration": 194,
    "start_time": "2022-06-27T08:29:08.154Z"
   },
   {
    "duration": 493,
    "start_time": "2022-06-27T08:29:08.350Z"
   },
   {
    "duration": 96,
    "start_time": "2022-06-27T08:29:08.847Z"
   },
   {
    "duration": 190,
    "start_time": "2022-06-27T08:29:08.945Z"
   },
   {
    "duration": 0,
    "start_time": "2022-06-27T08:29:09.136Z"
   },
   {
    "duration": 0,
    "start_time": "2022-06-27T08:29:09.137Z"
   },
   {
    "duration": 0,
    "start_time": "2022-06-27T08:29:09.140Z"
   },
   {
    "duration": 0,
    "start_time": "2022-06-27T08:29:09.142Z"
   },
   {
    "duration": 0,
    "start_time": "2022-06-27T08:29:09.143Z"
   },
   {
    "duration": 0,
    "start_time": "2022-06-27T08:29:09.144Z"
   },
   {
    "duration": 0,
    "start_time": "2022-06-27T08:29:09.146Z"
   },
   {
    "duration": 1389,
    "start_time": "2022-06-27T08:29:29.924Z"
   },
   {
    "duration": 164,
    "start_time": "2022-06-27T08:29:31.314Z"
   },
   {
    "duration": 152,
    "start_time": "2022-06-27T08:29:31.480Z"
   },
   {
    "duration": 155,
    "start_time": "2022-06-27T08:29:31.634Z"
   },
   {
    "duration": 9,
    "start_time": "2022-06-27T08:29:31.791Z"
   },
   {
    "duration": 13,
    "start_time": "2022-06-27T08:29:31.801Z"
   },
   {
    "duration": 8,
    "start_time": "2022-06-27T08:29:31.829Z"
   },
   {
    "duration": 18,
    "start_time": "2022-06-27T08:29:31.839Z"
   },
   {
    "duration": 271,
    "start_time": "2022-06-27T08:29:31.858Z"
   },
   {
    "duration": 246,
    "start_time": "2022-06-27T08:29:32.132Z"
   },
   {
    "duration": 313,
    "start_time": "2022-06-27T08:29:32.379Z"
   },
   {
    "duration": 198,
    "start_time": "2022-06-27T08:29:32.693Z"
   },
   {
    "duration": 437,
    "start_time": "2022-06-27T08:29:32.892Z"
   },
   {
    "duration": 99,
    "start_time": "2022-06-27T08:29:33.331Z"
   },
   {
    "duration": 4,
    "start_time": "2022-06-27T08:29:33.432Z"
   },
   {
    "duration": 6,
    "start_time": "2022-06-27T08:29:33.437Z"
   },
   {
    "duration": 4,
    "start_time": "2022-06-27T08:29:33.445Z"
   },
   {
    "duration": 129,
    "start_time": "2022-06-27T08:29:33.451Z"
   },
   {
    "duration": 0,
    "start_time": "2022-06-27T08:29:33.581Z"
   },
   {
    "duration": 0,
    "start_time": "2022-06-27T08:29:33.582Z"
   },
   {
    "duration": 0,
    "start_time": "2022-06-27T08:29:33.584Z"
   },
   {
    "duration": 0,
    "start_time": "2022-06-27T08:29:33.585Z"
   },
   {
    "duration": 3,
    "start_time": "2022-06-27T08:30:41.808Z"
   },
   {
    "duration": 18,
    "start_time": "2022-06-27T08:30:44.316Z"
   },
   {
    "duration": 1449,
    "start_time": "2022-06-27T08:31:57.193Z"
   },
   {
    "duration": 1335,
    "start_time": "2022-06-27T08:32:00.414Z"
   },
   {
    "duration": 1361,
    "start_time": "2022-06-27T08:32:21.505Z"
   },
   {
    "duration": 1419,
    "start_time": "2022-06-27T08:32:28.036Z"
   },
   {
    "duration": 62,
    "start_time": "2022-06-27T08:32:37.892Z"
   },
   {
    "duration": 1470,
    "start_time": "2022-06-27T08:41:16.315Z"
   },
   {
    "duration": 209,
    "start_time": "2022-06-27T08:41:17.788Z"
   },
   {
    "duration": 164,
    "start_time": "2022-06-27T08:41:17.999Z"
   },
   {
    "duration": 157,
    "start_time": "2022-06-27T08:41:18.165Z"
   },
   {
    "duration": 12,
    "start_time": "2022-06-27T08:41:18.324Z"
   },
   {
    "duration": 12,
    "start_time": "2022-06-27T08:41:18.337Z"
   },
   {
    "duration": 7,
    "start_time": "2022-06-27T08:41:18.351Z"
   },
   {
    "duration": 12,
    "start_time": "2022-06-27T08:41:18.359Z"
   },
   {
    "duration": 269,
    "start_time": "2022-06-27T08:41:18.372Z"
   },
   {
    "duration": 185,
    "start_time": "2022-06-27T08:41:18.643Z"
   },
   {
    "duration": 330,
    "start_time": "2022-06-27T08:41:18.829Z"
   },
   {
    "duration": 477,
    "start_time": "2022-06-27T08:41:19.161Z"
   },
   {
    "duration": 100,
    "start_time": "2022-06-27T08:41:19.730Z"
   },
   {
    "duration": 5,
    "start_time": "2022-06-27T08:41:19.832Z"
   },
   {
    "duration": 7,
    "start_time": "2022-06-27T08:41:19.839Z"
   },
   {
    "duration": 6,
    "start_time": "2022-06-27T08:41:19.848Z"
   },
   {
    "duration": 18,
    "start_time": "2022-06-27T08:41:19.856Z"
   },
   {
    "duration": 1328,
    "start_time": "2022-06-27T08:41:19.876Z"
   },
   {
    "duration": 1325,
    "start_time": "2022-06-27T08:41:21.206Z"
   },
   {
    "duration": 1312,
    "start_time": "2022-06-27T08:41:22.532Z"
   },
   {
    "duration": 49,
    "start_time": "2022-06-27T08:41:23.846Z"
   },
   {
    "duration": 17,
    "start_time": "2022-06-27T08:44:50.306Z"
   },
   {
    "duration": 1327,
    "start_time": "2022-06-27T08:49:04.244Z"
   },
   {
    "duration": 187,
    "start_time": "2022-06-27T08:49:05.573Z"
   },
   {
    "duration": 160,
    "start_time": "2022-06-27T08:49:05.761Z"
   },
   {
    "duration": 181,
    "start_time": "2022-06-27T08:49:05.930Z"
   },
   {
    "duration": 26,
    "start_time": "2022-06-27T08:49:06.113Z"
   },
   {
    "duration": 15,
    "start_time": "2022-06-27T08:49:06.144Z"
   },
   {
    "duration": 9,
    "start_time": "2022-06-27T08:49:06.161Z"
   },
   {
    "duration": 17,
    "start_time": "2022-06-27T08:49:06.172Z"
   },
   {
    "duration": 304,
    "start_time": "2022-06-27T08:49:06.190Z"
   },
   {
    "duration": 201,
    "start_time": "2022-06-27T08:49:06.497Z"
   },
   {
    "duration": 367,
    "start_time": "2022-06-27T08:49:06.700Z"
   },
   {
    "duration": 366,
    "start_time": "2022-06-27T08:49:07.069Z"
   },
   {
    "duration": 107,
    "start_time": "2022-06-27T08:49:07.438Z"
   },
   {
    "duration": 4,
    "start_time": "2022-06-27T08:49:07.547Z"
   },
   {
    "duration": 7,
    "start_time": "2022-06-27T08:49:07.553Z"
   },
   {
    "duration": 5,
    "start_time": "2022-06-27T08:49:07.561Z"
   },
   {
    "duration": 20,
    "start_time": "2022-06-27T08:49:07.568Z"
   },
   {
    "duration": 1367,
    "start_time": "2022-06-27T08:49:07.589Z"
   },
   {
    "duration": 1326,
    "start_time": "2022-06-27T08:49:08.957Z"
   },
   {
    "duration": 1382,
    "start_time": "2022-06-27T08:49:10.285Z"
   },
   {
    "duration": 52,
    "start_time": "2022-06-27T08:49:11.669Z"
   }
  ],
  "kernelspec": {
   "display_name": "Python 3",
   "language": "python",
   "name": "python3"
  },
  "language_info": {
   "codemirror_mode": {
    "name": "ipython",
    "version": 3
   },
   "file_extension": ".py",
   "mimetype": "text/x-python",
   "name": "python",
   "nbconvert_exporter": "python",
   "pygments_lexer": "ipython3",
   "version": "3.7.4"
  },
  "toc": {
   "base_numbering": 1,
   "nav_menu": {},
   "number_sections": true,
   "sideBar": true,
   "skip_h1_title": true,
   "title_cell": "Table of Contents",
   "title_sidebar": "Contents",
   "toc_cell": false,
   "toc_position": {},
   "toc_section_display": true,
   "toc_window_display": false
  }
 },
 "nbformat": 4,
 "nbformat_minor": 2
}
