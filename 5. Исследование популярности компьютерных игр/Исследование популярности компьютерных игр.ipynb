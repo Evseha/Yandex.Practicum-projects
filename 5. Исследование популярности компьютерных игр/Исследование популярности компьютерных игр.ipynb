{
 "cells": [
  {
   "cell_type": "markdown",
   "metadata": {},
   "source": [
    "# Исследование популярности компьютерных игр "
   ]
  },
  {
   "cell_type": "markdown",
   "metadata": {},
   "source": [
    "#  Описание проекта"
   ]
  },
  {
   "cell_type": "markdown",
   "metadata": {},
   "source": [
    "Мы работаем в интернет-магазине «Стримчик», который продаёт по всему миру компьютерные игры. Из открытых источников доступны исторические данные о продажах игр, оценки пользователей и экспертов, жанры и платформы (например, Xbox или PlayStation). Перед нами данные до 2016 года. Представим, что сейчас декабрь 2016 г., и мы планируем кампанию на 2017-й. Нужно отработать принцип работы с данными. Неважно, прогнозируем ли мы продажи на 2017 год по данным 2016-го или же 2027-й — по данным 2026 года.\n",
    "В наборе данных попадается аббревиатура ESRB (Entertainment Software Rating Board) — это ассоциация, определяющая возрастной рейтинг компьютерных игр. ESRB оценивает игровой контент и присваивает ему подходящую возрастную категорию, например, «Для взрослых», «Для детей младшего возраста» или «Для подростков».\n",
    "\n",
    "Описание данных:\n",
    "\n",
    "-\tName — название игры\n",
    "-\tPlatform — платформа\n",
    "-\tYear_of_Release — год выпуска\n",
    "-\tGenre — жанр игры\n",
    "-\tNA_sales — продажи в Северной Америке (миллионы проданных копий)\n",
    "-\tEU_sales — продажи в Европе (миллионы проданных копий)\n",
    "-\tJP_sales — продажи в Японии (миллионы проданных копий)\n",
    "-\tOther_sales — продажи в других странах (миллионы проданных копий)\n",
    "-\tCritic_Score — оценка критиков (максимум 100)\n",
    "-\tUser_Score — оценка пользователей (максимум 10)\n",
    "-\tRating — рейтинг от организации ESRB (англ. Entertainment Software Rating Board). Эта ассоциация определяет рейтинг компьютерных игр и присваивает им подходящую возрастную категорию.\n",
    "\n",
    "Нам нужно выявить определяющие успешность игры закономерности. Это позволит сделать ставку на потенциально популярный продукт и спланировать рекламные кампании."
   ]
  },
  {
   "cell_type": "markdown",
   "metadata": {},
   "source": [
    "## Откроем предоставленную информацию и изучим данные"
   ]
  },
  {
   "cell_type": "markdown",
   "metadata": {},
   "source": [
    "Осуществим импорт необходимых библиотек, откроем и изучим предоставленные данные"
   ]
  },
  {
   "cell_type": "code",
   "execution_count": 1,
   "metadata": {},
   "outputs": [],
   "source": [
    "import pandas as pd\n",
    "import matplotlib.pyplot as plt\n",
    "import seaborn as sns\n",
    "import math\n",
    "from scipy import stats as st\n",
    "import numpy as np\n",
    "import warnings"
   ]
  },
  {
   "cell_type": "code",
   "execution_count": 2,
   "metadata": {},
   "outputs": [
    {
     "data": {
      "text/html": [
       "<div>\n",
       "<style scoped>\n",
       "    .dataframe tbody tr th:only-of-type {\n",
       "        vertical-align: middle;\n",
       "    }\n",
       "\n",
       "    .dataframe tbody tr th {\n",
       "        vertical-align: top;\n",
       "    }\n",
       "\n",
       "    .dataframe thead th {\n",
       "        text-align: right;\n",
       "    }\n",
       "</style>\n",
       "<table border=\"1\" class=\"dataframe\">\n",
       "  <thead>\n",
       "    <tr style=\"text-align: right;\">\n",
       "      <th></th>\n",
       "      <th>Name</th>\n",
       "      <th>Platform</th>\n",
       "      <th>Year_of_Release</th>\n",
       "      <th>Genre</th>\n",
       "      <th>NA_sales</th>\n",
       "      <th>EU_sales</th>\n",
       "      <th>JP_sales</th>\n",
       "      <th>Other_sales</th>\n",
       "      <th>Critic_Score</th>\n",
       "      <th>User_Score</th>\n",
       "      <th>Rating</th>\n",
       "    </tr>\n",
       "  </thead>\n",
       "  <tbody>\n",
       "    <tr>\n",
       "      <th>0</th>\n",
       "      <td>Wii Sports</td>\n",
       "      <td>Wii</td>\n",
       "      <td>2006.0</td>\n",
       "      <td>Sports</td>\n",
       "      <td>41.36</td>\n",
       "      <td>28.96</td>\n",
       "      <td>3.77</td>\n",
       "      <td>8.45</td>\n",
       "      <td>76.0</td>\n",
       "      <td>8</td>\n",
       "      <td>E</td>\n",
       "    </tr>\n",
       "    <tr>\n",
       "      <th>1</th>\n",
       "      <td>Super Mario Bros.</td>\n",
       "      <td>NES</td>\n",
       "      <td>1985.0</td>\n",
       "      <td>Platform</td>\n",
       "      <td>29.08</td>\n",
       "      <td>3.58</td>\n",
       "      <td>6.81</td>\n",
       "      <td>0.77</td>\n",
       "      <td>NaN</td>\n",
       "      <td>NaN</td>\n",
       "      <td>NaN</td>\n",
       "    </tr>\n",
       "    <tr>\n",
       "      <th>2</th>\n",
       "      <td>Mario Kart Wii</td>\n",
       "      <td>Wii</td>\n",
       "      <td>2008.0</td>\n",
       "      <td>Racing</td>\n",
       "      <td>15.68</td>\n",
       "      <td>12.76</td>\n",
       "      <td>3.79</td>\n",
       "      <td>3.29</td>\n",
       "      <td>82.0</td>\n",
       "      <td>8.3</td>\n",
       "      <td>E</td>\n",
       "    </tr>\n",
       "    <tr>\n",
       "      <th>3</th>\n",
       "      <td>Wii Sports Resort</td>\n",
       "      <td>Wii</td>\n",
       "      <td>2009.0</td>\n",
       "      <td>Sports</td>\n",
       "      <td>15.61</td>\n",
       "      <td>10.93</td>\n",
       "      <td>3.28</td>\n",
       "      <td>2.95</td>\n",
       "      <td>80.0</td>\n",
       "      <td>8</td>\n",
       "      <td>E</td>\n",
       "    </tr>\n",
       "    <tr>\n",
       "      <th>4</th>\n",
       "      <td>Pokemon Red/Pokemon Blue</td>\n",
       "      <td>GB</td>\n",
       "      <td>1996.0</td>\n",
       "      <td>Role-Playing</td>\n",
       "      <td>11.27</td>\n",
       "      <td>8.89</td>\n",
       "      <td>10.22</td>\n",
       "      <td>1.00</td>\n",
       "      <td>NaN</td>\n",
       "      <td>NaN</td>\n",
       "      <td>NaN</td>\n",
       "    </tr>\n",
       "    <tr>\n",
       "      <th>5</th>\n",
       "      <td>Tetris</td>\n",
       "      <td>GB</td>\n",
       "      <td>1989.0</td>\n",
       "      <td>Puzzle</td>\n",
       "      <td>23.20</td>\n",
       "      <td>2.26</td>\n",
       "      <td>4.22</td>\n",
       "      <td>0.58</td>\n",
       "      <td>NaN</td>\n",
       "      <td>NaN</td>\n",
       "      <td>NaN</td>\n",
       "    </tr>\n",
       "    <tr>\n",
       "      <th>6</th>\n",
       "      <td>New Super Mario Bros.</td>\n",
       "      <td>DS</td>\n",
       "      <td>2006.0</td>\n",
       "      <td>Platform</td>\n",
       "      <td>11.28</td>\n",
       "      <td>9.14</td>\n",
       "      <td>6.50</td>\n",
       "      <td>2.88</td>\n",
       "      <td>89.0</td>\n",
       "      <td>8.5</td>\n",
       "      <td>E</td>\n",
       "    </tr>\n",
       "    <tr>\n",
       "      <th>7</th>\n",
       "      <td>Wii Play</td>\n",
       "      <td>Wii</td>\n",
       "      <td>2006.0</td>\n",
       "      <td>Misc</td>\n",
       "      <td>13.96</td>\n",
       "      <td>9.18</td>\n",
       "      <td>2.93</td>\n",
       "      <td>2.84</td>\n",
       "      <td>58.0</td>\n",
       "      <td>6.6</td>\n",
       "      <td>E</td>\n",
       "    </tr>\n",
       "    <tr>\n",
       "      <th>8</th>\n",
       "      <td>New Super Mario Bros. Wii</td>\n",
       "      <td>Wii</td>\n",
       "      <td>2009.0</td>\n",
       "      <td>Platform</td>\n",
       "      <td>14.44</td>\n",
       "      <td>6.94</td>\n",
       "      <td>4.70</td>\n",
       "      <td>2.24</td>\n",
       "      <td>87.0</td>\n",
       "      <td>8.4</td>\n",
       "      <td>E</td>\n",
       "    </tr>\n",
       "    <tr>\n",
       "      <th>9</th>\n",
       "      <td>Duck Hunt</td>\n",
       "      <td>NES</td>\n",
       "      <td>1984.0</td>\n",
       "      <td>Shooter</td>\n",
       "      <td>26.93</td>\n",
       "      <td>0.63</td>\n",
       "      <td>0.28</td>\n",
       "      <td>0.47</td>\n",
       "      <td>NaN</td>\n",
       "      <td>NaN</td>\n",
       "      <td>NaN</td>\n",
       "    </tr>\n",
       "  </tbody>\n",
       "</table>\n",
       "</div>"
      ],
      "text/plain": [
       "                        Name Platform  Year_of_Release         Genre  \\\n",
       "0                 Wii Sports      Wii           2006.0        Sports   \n",
       "1          Super Mario Bros.      NES           1985.0      Platform   \n",
       "2             Mario Kart Wii      Wii           2008.0        Racing   \n",
       "3          Wii Sports Resort      Wii           2009.0        Sports   \n",
       "4   Pokemon Red/Pokemon Blue       GB           1996.0  Role-Playing   \n",
       "5                     Tetris       GB           1989.0        Puzzle   \n",
       "6      New Super Mario Bros.       DS           2006.0      Platform   \n",
       "7                   Wii Play      Wii           2006.0          Misc   \n",
       "8  New Super Mario Bros. Wii      Wii           2009.0      Platform   \n",
       "9                  Duck Hunt      NES           1984.0       Shooter   \n",
       "\n",
       "   NA_sales  EU_sales  JP_sales  Other_sales  Critic_Score User_Score Rating  \n",
       "0     41.36     28.96      3.77         8.45          76.0          8      E  \n",
       "1     29.08      3.58      6.81         0.77           NaN        NaN    NaN  \n",
       "2     15.68     12.76      3.79         3.29          82.0        8.3      E  \n",
       "3     15.61     10.93      3.28         2.95          80.0          8      E  \n",
       "4     11.27      8.89     10.22         1.00           NaN        NaN    NaN  \n",
       "5     23.20      2.26      4.22         0.58           NaN        NaN    NaN  \n",
       "6     11.28      9.14      6.50         2.88          89.0        8.5      E  \n",
       "7     13.96      9.18      2.93         2.84          58.0        6.6      E  \n",
       "8     14.44      6.94      4.70         2.24          87.0        8.4      E  \n",
       "9     26.93      0.63      0.28         0.47           NaN        NaN    NaN  "
      ]
     },
     "execution_count": 2,
     "metadata": {},
     "output_type": "execute_result"
    }
   ],
   "source": [
    "games = pd.read_csv('/datasets/games.csv')\n",
    "games.head(10)"
   ]
  },
  {
   "cell_type": "markdown",
   "metadata": {},
   "source": [
    "Проверим таблицу на наличие дубликатов"
   ]
  },
  {
   "cell_type": "code",
   "execution_count": 3,
   "metadata": {},
   "outputs": [
    {
     "data": {
      "text/plain": [
       "0"
      ]
     },
     "execution_count": 3,
     "metadata": {},
     "output_type": "execute_result"
    }
   ],
   "source": [
    "games.duplicated().sum()"
   ]
  },
  {
   "cell_type": "markdown",
   "metadata": {},
   "source": [
    "Проверим совпадение названия игры и платформы:"
   ]
  },
  {
   "cell_type": "code",
   "execution_count": 4,
   "metadata": {
    "scrolled": true
   },
   "outputs": [
    {
     "data": {
      "text/plain": [
       "5"
      ]
     },
     "execution_count": 4,
     "metadata": {},
     "output_type": "execute_result"
    }
   ],
   "source": [
    "games.duplicated(subset = ['Name', 'Platform']).sum()"
   ]
  },
  {
   "cell_type": "markdown",
   "metadata": {},
   "source": [
    "Количество совпадений не критично для анализа, оставим как есть"
   ]
  },
  {
   "cell_type": "markdown",
   "metadata": {},
   "source": [
    "Получим общую информацию о таблице"
   ]
  },
  {
   "cell_type": "code",
   "execution_count": 5,
   "metadata": {},
   "outputs": [
    {
     "name": "stdout",
     "output_type": "stream",
     "text": [
      "<class 'pandas.core.frame.DataFrame'>\n",
      "RangeIndex: 16715 entries, 0 to 16714\n",
      "Data columns (total 11 columns):\n",
      " #   Column           Non-Null Count  Dtype  \n",
      "---  ------           --------------  -----  \n",
      " 0   Name             16713 non-null  object \n",
      " 1   Platform         16715 non-null  object \n",
      " 2   Year_of_Release  16446 non-null  float64\n",
      " 3   Genre            16713 non-null  object \n",
      " 4   NA_sales         16715 non-null  float64\n",
      " 5   EU_sales         16715 non-null  float64\n",
      " 6   JP_sales         16715 non-null  float64\n",
      " 7   Other_sales      16715 non-null  float64\n",
      " 8   Critic_Score     8137 non-null   float64\n",
      " 9   User_Score       10014 non-null  object \n",
      " 10  Rating           9949 non-null   object \n",
      "dtypes: float64(6), object(5)\n",
      "memory usage: 1.4+ MB\n"
     ]
    }
   ],
   "source": [
    "games.info()"
   ]
  },
  {
   "cell_type": "code",
   "execution_count": 6,
   "metadata": {},
   "outputs": [
    {
     "data": {
      "text/plain": [
       "Name                  2\n",
       "Platform              0\n",
       "Year_of_Release     269\n",
       "Genre                 2\n",
       "NA_sales              0\n",
       "EU_sales              0\n",
       "JP_sales              0\n",
       "Other_sales           0\n",
       "Critic_Score       8578\n",
       "User_Score         6701\n",
       "Rating             6766\n",
       "dtype: int64"
      ]
     },
     "execution_count": 6,
     "metadata": {},
     "output_type": "execute_result"
    }
   ],
   "source": [
    "games.isna().sum()"
   ]
  },
  {
   "cell_type": "markdown",
   "metadata": {},
   "source": [
    "Из полученных данных мы видим:\n",
    "- Во всех названиях столбцов присутствует верхний регистр, надо привести в нижний регистр;\n",
    "- В графе Name и Genre по 2 пропуска (возможно это одни и те же строки);\n",
    "- В графе Year_of_Release есть пропущенные значения и формат нужно исправить на целочисленный (пропущенные значения нам не так важны для анализа, поэтому можно заменить на \"0\");\n",
    "- Пропуски в Rating заменим на 'undefined';\n",
    "- Пропуски в Critic_Score, User_Score оставим не заполненными\n",
    "- Добавим столбец с суммарными продажами"
   ]
  },
  {
   "cell_type": "markdown",
   "metadata": {},
   "source": [
    "## Подготовка данных"
   ]
  },
  {
   "cell_type": "markdown",
   "metadata": {},
   "source": [
    "### Переименуем столбцы"
   ]
  },
  {
   "cell_type": "code",
   "execution_count": 7,
   "metadata": {},
   "outputs": [
    {
     "data": {
      "text/plain": [
       "Index(['Name', 'Platform', 'Year_of_Release', 'Genre', 'NA_sales', 'EU_sales',\n",
       "       'JP_sales', 'Other_sales', 'Critic_Score', 'User_Score', 'Rating'],\n",
       "      dtype='object')"
      ]
     },
     "execution_count": 7,
     "metadata": {},
     "output_type": "execute_result"
    }
   ],
   "source": [
    "games.columns"
   ]
  },
  {
   "cell_type": "code",
   "execution_count": 8,
   "metadata": {
    "scrolled": false
   },
   "outputs": [],
   "source": [
    "columns = ['name', 'platform', 'year_of_release', 'genre', 'na_sales', 'eu_sales', \n",
    "           'jp_sales', 'other_sales', 'critic_score', 'user_score', 'rating']\n",
    "games.columns = columns"
   ]
  },
  {
   "cell_type": "markdown",
   "metadata": {},
   "source": [
    "### Работа с пропусками"
   ]
  },
  {
   "cell_type": "markdown",
   "metadata": {},
   "source": [
    "Проверим, соответствуют ли строки с пропусками в данных в столбцах 'name' и 'genre'"
   ]
  },
  {
   "cell_type": "code",
   "execution_count": 9,
   "metadata": {},
   "outputs": [
    {
     "name": "stdout",
     "output_type": "stream",
     "text": [
      "<class 'pandas.core.frame.DataFrame'>\n",
      "Int64Index: 2 entries, 659 to 14244\n",
      "Data columns (total 11 columns):\n",
      " #   Column           Non-Null Count  Dtype  \n",
      "---  ------           --------------  -----  \n",
      " 0   name             0 non-null      object \n",
      " 1   platform         2 non-null      object \n",
      " 2   year_of_release  2 non-null      float64\n",
      " 3   genre            0 non-null      object \n",
      " 4   na_sales         2 non-null      float64\n",
      " 5   eu_sales         2 non-null      float64\n",
      " 6   jp_sales         2 non-null      float64\n",
      " 7   other_sales      2 non-null      float64\n",
      " 8   critic_score     0 non-null      float64\n",
      " 9   user_score       0 non-null      object \n",
      " 10  rating           0 non-null      object \n",
      "dtypes: float64(6), object(5)\n",
      "memory usage: 192.0+ bytes\n"
     ]
    }
   ],
   "source": [
    "games[(games['name'].isnull())&(games['genre'].isnull())].info()"
   ]
  },
  {
   "cell_type": "markdown",
   "metadata": {},
   "source": [
    "Предположение подтвердилось - строки с пропусками соответствуют в данных столбцах. Заменим пропущенные значения на пустые строки"
   ]
  },
  {
   "cell_type": "code",
   "execution_count": 10,
   "metadata": {},
   "outputs": [],
   "source": [
    "games.fillna(\n",
    "    {\"name\" : \" \", \n",
    "     \"genre\" : \" \"}\n",
    "    , inplace=True\n",
    ")"
   ]
  },
  {
   "cell_type": "markdown",
   "metadata": {},
   "source": [
    "В столбце user_score нам нужно 'tbd' ('to be determined') заменить на NaN"
   ]
  },
  {
   "cell_type": "code",
   "execution_count": 11,
   "metadata": {},
   "outputs": [
    {
     "data": {
      "text/plain": [
       "array(['8', nan, '8.3', '8.5', '6.6', '8.4', '8.6', '7.7', '6.3', '7.4',\n",
       "       '8.2', '9', '7.9', '8.1', '8.7', '7.1', '3.4', '5.3', '4.8', '3.2',\n",
       "       '8.9', '6.4', '7.8', '7.5', '2.6', '7.2', '9.2', '7', '7.3', '4.3',\n",
       "       '7.6', '5.7', '5', '9.1', '6.5', 'tbd', '8.8', '6.9', '9.4', '6.8',\n",
       "       '6.1', '6.7', '5.4', '4', '4.9', '4.5', '9.3', '6.2', '4.2', '6',\n",
       "       '3.7', '4.1', '5.8', '5.6', '5.5', '4.4', '4.6', '5.9', '3.9',\n",
       "       '3.1', '2.9', '5.2', '3.3', '4.7', '5.1', '3.5', '2.5', '1.9', '3',\n",
       "       '2.7', '2.2', '2', '9.5', '2.1', '3.6', '2.8', '1.8', '3.8', '0',\n",
       "       '1.6', '9.6', '2.4', '1.7', '1.1', '0.3', '1.5', '0.7', '1.2',\n",
       "       '2.3', '0.5', '1.3', '0.2', '0.6', '1.4', '0.9', '1', '9.7'],\n",
       "      dtype=object)"
      ]
     },
     "execution_count": 11,
     "metadata": {},
     "output_type": "execute_result"
    }
   ],
   "source": [
    "games['user_score'].unique()"
   ]
  },
  {
   "cell_type": "code",
   "execution_count": 12,
   "metadata": {},
   "outputs": [
    {
     "data": {
      "text/plain": [
       "array(['8', nan, '8.3', '8.5', '6.6', '8.4', '8.6', '7.7', '6.3', '7.4',\n",
       "       '8.2', '9', '7.9', '8.1', '8.7', '7.1', '3.4', '5.3', '4.8', '3.2',\n",
       "       '8.9', '6.4', '7.8', '7.5', '2.6', '7.2', '9.2', '7', '7.3', '4.3',\n",
       "       '7.6', '5.7', '5', '9.1', '6.5', 'NaN', '8.8', '6.9', '9.4', '6.8',\n",
       "       '6.1', '6.7', '5.4', '4', '4.9', '4.5', '9.3', '6.2', '4.2', '6',\n",
       "       '3.7', '4.1', '5.8', '5.6', '5.5', '4.4', '4.6', '5.9', '3.9',\n",
       "       '3.1', '2.9', '5.2', '3.3', '4.7', '5.1', '3.5', '2.5', '1.9', '3',\n",
       "       '2.7', '2.2', '2', '9.5', '2.1', '3.6', '2.8', '1.8', '3.8', '0',\n",
       "       '1.6', '9.6', '2.4', '1.7', '1.1', '0.3', '1.5', '0.7', '1.2',\n",
       "       '2.3', '0.5', '1.3', '0.2', '0.6', '1.4', '0.9', '1', '9.7'],\n",
       "      dtype=object)"
      ]
     },
     "execution_count": 12,
     "metadata": {},
     "output_type": "execute_result"
    }
   ],
   "source": [
    "games['user_score'] = games['user_score'].replace('tbd', 'NaN')\n",
    "games['user_score'].unique()"
   ]
  },
  {
   "cell_type": "markdown",
   "metadata": {},
   "source": [
    "Пропуски в Rating мы заменим на 'undefined'"
   ]
  },
  {
   "cell_type": "code",
   "execution_count": 13,
   "metadata": {},
   "outputs": [
    {
     "data": {
      "text/plain": [
       "undefined    6766\n",
       "E            3990\n",
       "T            2961\n",
       "M            1563\n",
       "E10+         1420\n",
       "EC              8\n",
       "RP              3\n",
       "K-A             3\n",
       "AO              1\n",
       "Name: rating, dtype: int64"
      ]
     },
     "execution_count": 13,
     "metadata": {},
     "output_type": "execute_result"
    }
   ],
   "source": [
    "games['rating'] = games['rating'].fillna('undefined')\n",
    "games['rating'].value_counts()"
   ]
  },
  {
   "cell_type": "markdown",
   "metadata": {},
   "source": [
    "### Поменяем формат"
   ]
  },
  {
   "cell_type": "markdown",
   "metadata": {},
   "source": [
    "Приведем данные в столбцах year_of_release и critic_score в целочисленный формат"
   ]
  },
  {
   "cell_type": "code",
   "execution_count": 14,
   "metadata": {},
   "outputs": [],
   "source": [
    "games['year_of_release'] = games['year_of_release'].astype('Int64')\n",
    "games['critic_score'] = games['critic_score'].astype(float)\n",
    "games['user_score'] = games['user_score'].astype(float)"
   ]
  },
  {
   "cell_type": "markdown",
   "metadata": {},
   "source": [
    "### Добавим столбец"
   ]
  },
  {
   "cell_type": "markdown",
   "metadata": {},
   "source": [
    "Добавим столбец с суммарными продажами total_sales"
   ]
  },
  {
   "cell_type": "code",
   "execution_count": 15,
   "metadata": {},
   "outputs": [
    {
     "data": {
      "text/html": [
       "<div>\n",
       "<style scoped>\n",
       "    .dataframe tbody tr th:only-of-type {\n",
       "        vertical-align: middle;\n",
       "    }\n",
       "\n",
       "    .dataframe tbody tr th {\n",
       "        vertical-align: top;\n",
       "    }\n",
       "\n",
       "    .dataframe thead th {\n",
       "        text-align: right;\n",
       "    }\n",
       "</style>\n",
       "<table border=\"1\" class=\"dataframe\">\n",
       "  <thead>\n",
       "    <tr style=\"text-align: right;\">\n",
       "      <th></th>\n",
       "      <th>name</th>\n",
       "      <th>platform</th>\n",
       "      <th>year_of_release</th>\n",
       "      <th>genre</th>\n",
       "      <th>na_sales</th>\n",
       "      <th>eu_sales</th>\n",
       "      <th>jp_sales</th>\n",
       "      <th>other_sales</th>\n",
       "      <th>critic_score</th>\n",
       "      <th>user_score</th>\n",
       "      <th>rating</th>\n",
       "      <th>total_sales</th>\n",
       "    </tr>\n",
       "  </thead>\n",
       "  <tbody>\n",
       "    <tr>\n",
       "      <th>0</th>\n",
       "      <td>Wii Sports</td>\n",
       "      <td>Wii</td>\n",
       "      <td>2006</td>\n",
       "      <td>Sports</td>\n",
       "      <td>41.36</td>\n",
       "      <td>28.96</td>\n",
       "      <td>3.77</td>\n",
       "      <td>8.45</td>\n",
       "      <td>76.0</td>\n",
       "      <td>8.0</td>\n",
       "      <td>E</td>\n",
       "      <td>82.54</td>\n",
       "    </tr>\n",
       "    <tr>\n",
       "      <th>1</th>\n",
       "      <td>Super Mario Bros.</td>\n",
       "      <td>NES</td>\n",
       "      <td>1985</td>\n",
       "      <td>Platform</td>\n",
       "      <td>29.08</td>\n",
       "      <td>3.58</td>\n",
       "      <td>6.81</td>\n",
       "      <td>0.77</td>\n",
       "      <td>NaN</td>\n",
       "      <td>NaN</td>\n",
       "      <td>undefined</td>\n",
       "      <td>40.24</td>\n",
       "    </tr>\n",
       "    <tr>\n",
       "      <th>2</th>\n",
       "      <td>Mario Kart Wii</td>\n",
       "      <td>Wii</td>\n",
       "      <td>2008</td>\n",
       "      <td>Racing</td>\n",
       "      <td>15.68</td>\n",
       "      <td>12.76</td>\n",
       "      <td>3.79</td>\n",
       "      <td>3.29</td>\n",
       "      <td>82.0</td>\n",
       "      <td>8.3</td>\n",
       "      <td>E</td>\n",
       "      <td>35.52</td>\n",
       "    </tr>\n",
       "    <tr>\n",
       "      <th>3</th>\n",
       "      <td>Wii Sports Resort</td>\n",
       "      <td>Wii</td>\n",
       "      <td>2009</td>\n",
       "      <td>Sports</td>\n",
       "      <td>15.61</td>\n",
       "      <td>10.93</td>\n",
       "      <td>3.28</td>\n",
       "      <td>2.95</td>\n",
       "      <td>80.0</td>\n",
       "      <td>8.0</td>\n",
       "      <td>E</td>\n",
       "      <td>32.77</td>\n",
       "    </tr>\n",
       "    <tr>\n",
       "      <th>4</th>\n",
       "      <td>Pokemon Red/Pokemon Blue</td>\n",
       "      <td>GB</td>\n",
       "      <td>1996</td>\n",
       "      <td>Role-Playing</td>\n",
       "      <td>11.27</td>\n",
       "      <td>8.89</td>\n",
       "      <td>10.22</td>\n",
       "      <td>1.00</td>\n",
       "      <td>NaN</td>\n",
       "      <td>NaN</td>\n",
       "      <td>undefined</td>\n",
       "      <td>31.38</td>\n",
       "    </tr>\n",
       "  </tbody>\n",
       "</table>\n",
       "</div>"
      ],
      "text/plain": [
       "                       name platform  year_of_release         genre  na_sales  \\\n",
       "0                Wii Sports      Wii             2006        Sports     41.36   \n",
       "1         Super Mario Bros.      NES             1985      Platform     29.08   \n",
       "2            Mario Kart Wii      Wii             2008        Racing     15.68   \n",
       "3         Wii Sports Resort      Wii             2009        Sports     15.61   \n",
       "4  Pokemon Red/Pokemon Blue       GB             1996  Role-Playing     11.27   \n",
       "\n",
       "   eu_sales  jp_sales  other_sales  critic_score  user_score     rating  \\\n",
       "0     28.96      3.77         8.45          76.0         8.0          E   \n",
       "1      3.58      6.81         0.77           NaN         NaN  undefined   \n",
       "2     12.76      3.79         3.29          82.0         8.3          E   \n",
       "3     10.93      3.28         2.95          80.0         8.0          E   \n",
       "4      8.89     10.22         1.00           NaN         NaN  undefined   \n",
       "\n",
       "   total_sales  \n",
       "0        82.54  \n",
       "1        40.24  \n",
       "2        35.52  \n",
       "3        32.77  \n",
       "4        31.38  "
      ]
     },
     "execution_count": 15,
     "metadata": {},
     "output_type": "execute_result"
    }
   ],
   "source": [
    "games['total_sales'] = games[['na_sales','eu_sales','jp_sales','other_sales']].sum(axis = 1)\n",
    "games.head()"
   ]
  },
  {
   "cell_type": "markdown",
   "metadata": {},
   "source": [
    "## Исследовательский анализ данных"
   ]
  },
  {
   "cell_type": "markdown",
   "metadata": {},
   "source": [
    "### Посмотрим сколько игр выпускалось в разные годы. Важны ли данные за все периоды?"
   ]
  },
  {
   "cell_type": "code",
   "execution_count": 16,
   "metadata": {},
   "outputs": [
    {
     "data": {
      "text/html": [
       "<div>\n",
       "<style scoped>\n",
       "    .dataframe tbody tr th:only-of-type {\n",
       "        vertical-align: middle;\n",
       "    }\n",
       "\n",
       "    .dataframe tbody tr th {\n",
       "        vertical-align: top;\n",
       "    }\n",
       "\n",
       "    .dataframe thead tr th {\n",
       "        text-align: left;\n",
       "    }\n",
       "\n",
       "    .dataframe thead tr:last-of-type th {\n",
       "        text-align: right;\n",
       "    }\n",
       "</style>\n",
       "<table border=\"1\" class=\"dataframe\">\n",
       "  <thead>\n",
       "    <tr>\n",
       "      <th></th>\n",
       "      <th>sum</th>\n",
       "      <th>count</th>\n",
       "    </tr>\n",
       "    <tr>\n",
       "      <th></th>\n",
       "      <th>total_sales</th>\n",
       "      <th>total_sales</th>\n",
       "    </tr>\n",
       "    <tr>\n",
       "      <th>year_of_release</th>\n",
       "      <th></th>\n",
       "      <th></th>\n",
       "    </tr>\n",
       "  </thead>\n",
       "  <tbody>\n",
       "    <tr>\n",
       "      <th>1980</th>\n",
       "      <td>11.38</td>\n",
       "      <td>9</td>\n",
       "    </tr>\n",
       "    <tr>\n",
       "      <th>1981</th>\n",
       "      <td>35.68</td>\n",
       "      <td>46</td>\n",
       "    </tr>\n",
       "    <tr>\n",
       "      <th>1982</th>\n",
       "      <td>28.88</td>\n",
       "      <td>36</td>\n",
       "    </tr>\n",
       "    <tr>\n",
       "      <th>1983</th>\n",
       "      <td>16.80</td>\n",
       "      <td>17</td>\n",
       "    </tr>\n",
       "    <tr>\n",
       "      <th>1984</th>\n",
       "      <td>50.35</td>\n",
       "      <td>14</td>\n",
       "    </tr>\n",
       "    <tr>\n",
       "      <th>1985</th>\n",
       "      <td>53.95</td>\n",
       "      <td>14</td>\n",
       "    </tr>\n",
       "    <tr>\n",
       "      <th>1986</th>\n",
       "      <td>37.08</td>\n",
       "      <td>21</td>\n",
       "    </tr>\n",
       "    <tr>\n",
       "      <th>1987</th>\n",
       "      <td>21.70</td>\n",
       "      <td>16</td>\n",
       "    </tr>\n",
       "    <tr>\n",
       "      <th>1988</th>\n",
       "      <td>47.21</td>\n",
       "      <td>15</td>\n",
       "    </tr>\n",
       "    <tr>\n",
       "      <th>1989</th>\n",
       "      <td>73.45</td>\n",
       "      <td>17</td>\n",
       "    </tr>\n",
       "    <tr>\n",
       "      <th>1990</th>\n",
       "      <td>49.37</td>\n",
       "      <td>16</td>\n",
       "    </tr>\n",
       "    <tr>\n",
       "      <th>1991</th>\n",
       "      <td>32.23</td>\n",
       "      <td>41</td>\n",
       "    </tr>\n",
       "    <tr>\n",
       "      <th>1992</th>\n",
       "      <td>76.16</td>\n",
       "      <td>43</td>\n",
       "    </tr>\n",
       "    <tr>\n",
       "      <th>1993</th>\n",
       "      <td>48.41</td>\n",
       "      <td>62</td>\n",
       "    </tr>\n",
       "    <tr>\n",
       "      <th>1994</th>\n",
       "      <td>79.23</td>\n",
       "      <td>121</td>\n",
       "    </tr>\n",
       "    <tr>\n",
       "      <th>1995</th>\n",
       "      <td>88.12</td>\n",
       "      <td>219</td>\n",
       "    </tr>\n",
       "    <tr>\n",
       "      <th>1996</th>\n",
       "      <td>199.15</td>\n",
       "      <td>263</td>\n",
       "    </tr>\n",
       "    <tr>\n",
       "      <th>1997</th>\n",
       "      <td>201.07</td>\n",
       "      <td>289</td>\n",
       "    </tr>\n",
       "    <tr>\n",
       "      <th>1998</th>\n",
       "      <td>256.31</td>\n",
       "      <td>379</td>\n",
       "    </tr>\n",
       "    <tr>\n",
       "      <th>1999</th>\n",
       "      <td>251.11</td>\n",
       "      <td>338</td>\n",
       "    </tr>\n",
       "    <tr>\n",
       "      <th>2000</th>\n",
       "      <td>201.66</td>\n",
       "      <td>350</td>\n",
       "    </tr>\n",
       "    <tr>\n",
       "      <th>2001</th>\n",
       "      <td>331.46</td>\n",
       "      <td>482</td>\n",
       "    </tr>\n",
       "    <tr>\n",
       "      <th>2002</th>\n",
       "      <td>394.97</td>\n",
       "      <td>829</td>\n",
       "    </tr>\n",
       "    <tr>\n",
       "      <th>2003</th>\n",
       "      <td>357.54</td>\n",
       "      <td>775</td>\n",
       "    </tr>\n",
       "    <tr>\n",
       "      <th>2004</th>\n",
       "      <td>418.68</td>\n",
       "      <td>762</td>\n",
       "    </tr>\n",
       "    <tr>\n",
       "      <th>2005</th>\n",
       "      <td>457.82</td>\n",
       "      <td>939</td>\n",
       "    </tr>\n",
       "    <tr>\n",
       "      <th>2006</th>\n",
       "      <td>517.71</td>\n",
       "      <td>1006</td>\n",
       "    </tr>\n",
       "    <tr>\n",
       "      <th>2007</th>\n",
       "      <td>604.75</td>\n",
       "      <td>1197</td>\n",
       "    </tr>\n",
       "    <tr>\n",
       "      <th>2008</th>\n",
       "      <td>671.50</td>\n",
       "      <td>1427</td>\n",
       "    </tr>\n",
       "    <tr>\n",
       "      <th>2009</th>\n",
       "      <td>658.82</td>\n",
       "      <td>1426</td>\n",
       "    </tr>\n",
       "    <tr>\n",
       "      <th>2010</th>\n",
       "      <td>590.13</td>\n",
       "      <td>1255</td>\n",
       "    </tr>\n",
       "    <tr>\n",
       "      <th>2011</th>\n",
       "      <td>507.58</td>\n",
       "      <td>1136</td>\n",
       "    </tr>\n",
       "    <tr>\n",
       "      <th>2012</th>\n",
       "      <td>355.84</td>\n",
       "      <td>653</td>\n",
       "    </tr>\n",
       "    <tr>\n",
       "      <th>2013</th>\n",
       "      <td>361.24</td>\n",
       "      <td>544</td>\n",
       "    </tr>\n",
       "    <tr>\n",
       "      <th>2014</th>\n",
       "      <td>331.53</td>\n",
       "      <td>581</td>\n",
       "    </tr>\n",
       "    <tr>\n",
       "      <th>2015</th>\n",
       "      <td>267.98</td>\n",
       "      <td>606</td>\n",
       "    </tr>\n",
       "    <tr>\n",
       "      <th>2016</th>\n",
       "      <td>129.94</td>\n",
       "      <td>502</td>\n",
       "    </tr>\n",
       "  </tbody>\n",
       "</table>\n",
       "</div>"
      ],
      "text/plain": [
       "                        sum       count\n",
       "                total_sales total_sales\n",
       "year_of_release                        \n",
       "1980                  11.38           9\n",
       "1981                  35.68          46\n",
       "1982                  28.88          36\n",
       "1983                  16.80          17\n",
       "1984                  50.35          14\n",
       "1985                  53.95          14\n",
       "1986                  37.08          21\n",
       "1987                  21.70          16\n",
       "1988                  47.21          15\n",
       "1989                  73.45          17\n",
       "1990                  49.37          16\n",
       "1991                  32.23          41\n",
       "1992                  76.16          43\n",
       "1993                  48.41          62\n",
       "1994                  79.23         121\n",
       "1995                  88.12         219\n",
       "1996                 199.15         263\n",
       "1997                 201.07         289\n",
       "1998                 256.31         379\n",
       "1999                 251.11         338\n",
       "2000                 201.66         350\n",
       "2001                 331.46         482\n",
       "2002                 394.97         829\n",
       "2003                 357.54         775\n",
       "2004                 418.68         762\n",
       "2005                 457.82         939\n",
       "2006                 517.71        1006\n",
       "2007                 604.75        1197\n",
       "2008                 671.50        1427\n",
       "2009                 658.82        1426\n",
       "2010                 590.13        1255\n",
       "2011                 507.58        1136\n",
       "2012                 355.84         653\n",
       "2013                 361.24         544\n",
       "2014                 331.53         581\n",
       "2015                 267.98         606\n",
       "2016                 129.94         502"
      ]
     },
     "execution_count": 16,
     "metadata": {},
     "output_type": "execute_result"
    }
   ],
   "source": [
    "platform_sales = games.pivot_table(index='year_of_release', values='total_sales', aggfunc=['sum','count'])\n",
    "platform_sales"
   ]
  },
  {
   "cell_type": "code",
   "execution_count": 17,
   "metadata": {},
   "outputs": [
    {
     "data": {
      "image/png": "[encoded data removed]",
      "text/plain": [
       "<Figure size 864x432 with 1 Axes>"
      ]
     },
     "metadata": {
      "needs_background": "light"
     },
     "output_type": "display_data"
    }
   ],
   "source": [
    "games_in_time = games.pivot_table(index='year_of_release', values='name', aggfunc='count')\n",
    "plt.figure(figsize=(12,6))\n",
    "sns.lineplot(data=games_in_time)\n",
    "plt.title(\"Количество игр выпускаемые в разные года\")\n",
    "plt.xlabel(\"Год выпуска\")\n",
    "plt.ylabel(\"Количество выпущенных игр\")\n",
    "plt.legend('')\n",
    "plt.show()"
   ]
  },
  {
   "cell_type": "markdown",
   "metadata": {},
   "source": [
    "Как мы видим из графика начав свой рост в 90е годы и достигнув пика в 2008 году выпуск игр пошел на спад. Считаю приемлимым взять в анализ данные начиная с 2012 года."
   ]
  },
  {
   "cell_type": "code",
   "execution_count": 18,
   "metadata": {
    "scrolled": true
   },
   "outputs": [
    {
     "data": {
      "text/plain": [
       "PS3     493\n",
       "PSV     411\n",
       "3DS     396\n",
       "PS4     392\n",
       "X360    292\n",
       "PC      250\n",
       "XOne    247\n",
       "PSP     173\n",
       "WiiU    147\n",
       "Wii      54\n",
       "DS       31\n",
       "Name: platform, dtype: int64"
      ]
     },
     "execution_count": 18,
     "metadata": {},
     "output_type": "execute_result"
    }
   ],
   "source": [
    "games_to_analize = games.loc[games['year_of_release'] >= 2012]\n",
    "games_to_analize['platform'].value_counts()"
   ]
  },
  {
   "cell_type": "markdown",
   "metadata": {},
   "source": [
    "### Определим топ платформ "
   ]
  },
  {
   "cell_type": "code",
   "execution_count": 19,
   "metadata": {
    "scrolled": true
   },
   "outputs": [
    {
     "data": {
      "image/png": "[encoded data removed]",
      "text/plain": [
       "<Figure size 936x432 with 1 Axes>"
      ]
     },
     "metadata": {
      "needs_background": "light"
     },
     "output_type": "display_data"
    }
   ],
   "source": [
    "platform_of_games = games_to_analize.pivot_table(\n",
    "    index='platform', values='total_sales', aggfunc='sum').sort_values(by='total_sales', ascending=False)\n",
    "\n",
    "plt.figure(figsize=(13,6))\n",
    "sns.barplot(x=platform_of_games.index,y=platform_of_games['total_sales'])\n",
    "plt.title(\"Продажи по платформам за весь период\")\n",
    "plt.xlabel(\"Название платформы\")\n",
    "plt.ylabel(\"Количество продаж\")\n",
    "plt.show()"
   ]
  },
  {
   "cell_type": "markdown",
   "metadata": {},
   "source": [
    "Как видно из графика самые популярные платформы это PS4, X360, PS3, 3DS, XOne.\n",
    "Так как платформы X360, PS3, Wii, PSP уже потеряли свою актуальность, уберем их из списка анализируемых платформ и сосредоточим внимание на более актуальной информации"
   ]
  },
  {
   "cell_type": "code",
   "execution_count": 20,
   "metadata": {},
   "outputs": [],
   "source": [
    "games_to_analize = games_to_analize[games_to_analize['platform'].isin(['PS4', '3DS','XOne','WiiU','PC','PSV','DS'])]  "
   ]
  },
  {
   "cell_type": "markdown",
   "metadata": {},
   "source": [
    "Чтобы нам получить сводную таблицу и получать данные, напишем функцию"
   ]
  },
  {
   "cell_type": "code",
   "execution_count": 21,
   "metadata": {},
   "outputs": [],
   "source": [
    "def platform_total_sale(name, data):\n",
    "    pie = games[(games['platform'] == name) & (games['year_of_release'] > 2012)]\n",
    "    total = pie.pivot_table(index = 'year_of_release', values='total_sales', aggfunc = 'sum').sort_values('year_of_release', ascending=False)\n",
    "    return total"
   ]
  },
  {
   "cell_type": "markdown",
   "metadata": {},
   "source": [
    "Построим таблицу по 5 самым востребованным платформам"
   ]
  },
  {
   "cell_type": "code",
   "execution_count": 22,
   "metadata": {
    "scrolled": true
   },
   "outputs": [
    {
     "data": {
      "text/html": [
       "<div>\n",
       "<style scoped>\n",
       "    .dataframe tbody tr th:only-of-type {\n",
       "        vertical-align: middle;\n",
       "    }\n",
       "\n",
       "    .dataframe tbody tr th {\n",
       "        vertical-align: top;\n",
       "    }\n",
       "\n",
       "    .dataframe thead th {\n",
       "        text-align: right;\n",
       "    }\n",
       "</style>\n",
       "<table border=\"1\" class=\"dataframe\">\n",
       "  <thead>\n",
       "    <tr style=\"text-align: right;\">\n",
       "      <th></th>\n",
       "      <th>platform</th>\n",
       "      <th>total_sales</th>\n",
       "    </tr>\n",
       "  </thead>\n",
       "  <tbody>\n",
       "    <tr>\n",
       "      <th>0</th>\n",
       "      <td>PS4</td>\n",
       "      <td>314.14</td>\n",
       "    </tr>\n",
       "    <tr>\n",
       "      <th>1</th>\n",
       "      <td>3DS</td>\n",
       "      <td>194.61</td>\n",
       "    </tr>\n",
       "    <tr>\n",
       "      <th>2</th>\n",
       "      <td>XOne</td>\n",
       "      <td>159.32</td>\n",
       "    </tr>\n",
       "    <tr>\n",
       "      <th>3</th>\n",
       "      <td>WiiU</td>\n",
       "      <td>82.19</td>\n",
       "    </tr>\n",
       "    <tr>\n",
       "      <th>4</th>\n",
       "      <td>PC</td>\n",
       "      <td>62.65</td>\n",
       "    </tr>\n",
       "  </tbody>\n",
       "</table>\n",
       "</div>"
      ],
      "text/plain": [
       "  platform  total_sales\n",
       "0      PS4       314.14\n",
       "1      3DS       194.61\n",
       "2     XOne       159.32\n",
       "3     WiiU        82.19\n",
       "4       PC        62.65"
      ]
     },
     "execution_count": 22,
     "metadata": {},
     "output_type": "execute_result"
    }
   ],
   "source": [
    "top_5_platform = games_to_analize.pivot_table(index='platform', values='total_sales', aggfunc='sum').sort_values(by='total_sales', ascending=False).head(5)\n",
    "top_5_platform = top_5_platform.reset_index()\n",
    "top_5_platform"
   ]
  },
  {
   "cell_type": "markdown",
   "metadata": {},
   "source": [
    "Визуализируем поведение платформ на отрезке времени в 5 лет"
   ]
  },
  {
   "cell_type": "code",
   "execution_count": 23,
   "metadata": {},
   "outputs": [
    {
     "data": {
      "image/png": "[encoded data removed]",
      "text/plain": [
       "<Figure size 864x432 with 1 Axes>"
      ]
     },
     "metadata": {
      "needs_background": "light"
     },
     "output_type": "display_data"
    }
   ],
   "source": [
    "plt.figure(figsize=(12,6))\n",
    "plt.title('Количество продаж популярных игровых платформ')\n",
    "plt.xlabel('Годы игровых релизов')\n",
    "plt.xticks(np.arange(2013,2017,1))\n",
    "plt.ylabel('Продажи')\n",
    "\n",
    "for i in list(top_5_platform['platform']):\n",
    "    sns.lineplot(data=platform_total_sale(i,games_to_analize)['total_sales'], label=i)\n",
    "    plt.legend()"
   ]
  },
  {
   "cell_type": "markdown",
   "metadata": {},
   "source": [
    "<div class=\"alert alert-success\">\n",
    "<h2> Комментарий ревьюера 😊 v_2<a class=\"tocSkip\"> </h2>\n",
    " \n",
    "Чтобы скорректировать значения на оси Х, используй `plt.xticks(np.arange(2013,2017,1))` </div>\n",
    "</div>"
   ]
  },
  {
   "cell_type": "markdown",
   "metadata": {},
   "source": []
  },
  {
   "cell_type": "markdown",
   "metadata": {},
   "source": [
    "По данному графику мы видим, что в среднем платформа пользуется популярностью около 10 лет. Пик популярностью примерно приходится на середину жизненного цикла платформы. По графику видно, что популярность всех платформ падает. Но по прежнему высокие продажи у PS4, XOne и 3DS"
   ]
  },
  {
   "cell_type": "markdown",
   "metadata": {},
   "source": [
    "### Сделаем разбивку по платформам и построим график \"ящик с усами\". Для этого необходимо сохранить наш Топ 5 в переменной"
   ]
  },
  {
   "cell_type": "markdown",
   "metadata": {},
   "source": [
    "Так как больше 1.4 миллионов продаж скорее всего выброс в данных, поставим ограничение"
   ]
  },
  {
   "cell_type": "code",
   "execution_count": 24,
   "metadata": {},
   "outputs": [
    {
     "data": {
      "text/plain": [
       "count    1286.000000\n",
       "mean        0.243554\n",
       "std         0.299405\n",
       "min         0.010000\n",
       "25%         0.040000\n",
       "50%         0.120000\n",
       "75%         0.330000\n",
       "max         1.390000\n",
       "Name: total_sales, dtype: float64"
      ]
     },
     "execution_count": 24,
     "metadata": {},
     "output_type": "execute_result"
    }
   ],
   "source": [
    "top_5 = ['PS4', '3DS', 'WiiU', 'XOne','PC']\n",
    "games_top_5_platforms = games_to_analize[games_to_analize['platform'].isin(['PS4', '3DS', 'WiiU', 'XOne','PC'])]\n",
    "games_top_5_platforms = games_top_5_platforms[games_top_5_platforms['total_sales'] < 1.4]\n",
    "games_top_5_platforms['total_sales'].describe()"
   ]
  },
  {
   "cell_type": "code",
   "execution_count": 25,
   "metadata": {
    "scrolled": true
   },
   "outputs": [
    {
     "data": {
      "text/plain": [
       "Text(0, 0.5, 'Глобальные продажи')"
      ]
     },
     "execution_count": 25,
     "metadata": {},
     "output_type": "execute_result"
    },
    {
     "data": {
      "image/png": "[encoded data removed]",
      "text/plain": [
       "<Figure size 864x432 with 1 Axes>"
      ]
     },
     "metadata": {
      "needs_background": "light"
     },
     "output_type": "display_data"
    }
   ],
   "source": [
    "plt.figure(figsize=(12,6))\n",
    "sns.boxplot(data = games_top_5_platforms, x='platform', y='total_sales')\n",
    "plt.title(\"Ящик с усами\", fontsize=15)\n",
    "plt.xlabel('Платформа', fontsize=12)\n",
    "plt.ylabel('Глобальные продажи', fontsize=12)"
   ]
  },
  {
   "cell_type": "markdown",
   "metadata": {},
   "source": [
    "Исходя из графика мы можем видеть, что медиана у всех платформ проходит ниже среднего. На первом месте по продажам платформа XOne, после WiiU, потом PS4, 3DS и PC на последних местах"
   ]
  },
  {
   "cell_type": "markdown",
   "metadata": {},
   "source": [
    "Также рассмотрим все платформы"
   ]
  },
  {
   "cell_type": "code",
   "execution_count": 26,
   "metadata": {},
   "outputs": [
    {
     "data": {
      "text/plain": [
       "Text(0, 0.5, 'Глобальные продажи')"
      ]
     },
     "execution_count": 26,
     "metadata": {},
     "output_type": "execute_result"
    },
    {
     "data": {
      "image/png": "[encoded data removed]",
      "text/plain": [
       "<Figure size 864x432 with 1 Axes>"
      ]
     },
     "metadata": {
      "needs_background": "light"
     },
     "output_type": "display_data"
    }
   ],
   "source": [
    "plt.figure(figsize=(12,6))\n",
    "sns.boxplot(data = games, x='platform', y='total_sales')\n",
    "plt.title(\"Ящик с усами\", fontsize=15)\n",
    "plt.xlabel('Платформа', fontsize=12)\n",
    "plt.ylabel('Глобальные продажи', fontsize=12)"
   ]
  },
  {
   "cell_type": "markdown",
   "metadata": {},
   "source": [
    "По графику мы можем видеть, что у первых трех на графике платформ есть много выбросов "
   ]
  },
  {
   "cell_type": "markdown",
   "metadata": {},
   "source": [
    "Посмотрим, как влияют на продажи внутри одной популярной платформы отзывы пользователей и критиков. Построем диаграмму рассеяния и посчитаем корреляцию между отзывами и продажами"
   ]
  },
  {
   "cell_type": "markdown",
   "metadata": {},
   "source": [
    "Расчитаем корреляцию между оценками пользователей и продажами для платформы XOne"
   ]
  },
  {
   "cell_type": "code",
   "execution_count": 27,
   "metadata": {},
   "outputs": [
    {
     "data": {
      "text/plain": [
       "-0.06892505328279414"
      ]
     },
     "execution_count": 27,
     "metadata": {},
     "output_type": "execute_result"
    }
   ],
   "source": [
    "xone = games_to_analize[games_to_analize['platform'] == 'XOne']\n",
    "xone['user_score'].corr(xone['total_sales'])"
   ]
  },
  {
   "cell_type": "markdown",
   "metadata": {},
   "source": [
    "Построим диаграмму рассеяния"
   ]
  },
  {
   "cell_type": "code",
   "execution_count": 28,
   "metadata": {
    "scrolled": true
   },
   "outputs": [
    {
     "data": {
      "text/plain": [
       "Text(0.5, 1.0, 'test')"
      ]
     },
     "execution_count": 28,
     "metadata": {},
     "output_type": "execute_result"
    },
    {
     "data": {
      "image/png": "[encoded data removed]",
      "text/plain": [
       "<Figure size 864x432 with 1 Axes>"
      ]
     },
     "metadata": {
      "needs_background": "light"
     },
     "output_type": "display_data"
    }
   ],
   "source": [
    "plt.figure(figsize=(12,6))\n",
    "sns.scatterplot(x='user_score', y='total_sales', data=xone)\n",
    "plt.title('test')"
   ]
  },
  {
   "cell_type": "markdown",
   "metadata": {},
   "source": [
    "Построим диаграмму рассеяния по оценкам критиков"
   ]
  },
  {
   "cell_type": "code",
   "execution_count": 29,
   "metadata": {
    "scrolled": true
   },
   "outputs": [
    {
     "data": {
      "text/plain": [
       "Text(0.5, 1.0, 'test')"
      ]
     },
     "execution_count": 29,
     "metadata": {},
     "output_type": "execute_result"
    },
    {
     "data": {
      "image/png": "[encoded data removed]",
      "text/plain": [
       "<Figure size 864x432 with 1 Axes>"
      ]
     },
     "metadata": {
      "needs_background": "light"
     },
     "output_type": "display_data"
    }
   ],
   "source": [
    "plt.figure(figsize=(12,6))\n",
    "sns.scatterplot(x='critic_score', y='total_sales', data=xone)\n",
    "plt.title('test')"
   ]
  },
  {
   "cell_type": "markdown",
   "metadata": {},
   "source": [
    "Расчитаем корреляцию между оценками критиков и продажами для платформы XOne"
   ]
  },
  {
   "cell_type": "code",
   "execution_count": 30,
   "metadata": {},
   "outputs": [
    {
     "data": {
      "text/plain": [
       "0.4169983280084017"
      ]
     },
     "execution_count": 30,
     "metadata": {},
     "output_type": "execute_result"
    }
   ],
   "source": [
    "xone['critic_score'].corr(xone['total_sales'])"
   ]
  },
  {
   "cell_type": "markdown",
   "metadata": {},
   "source": [
    "Судя по графикам, оценки пользователей немного лучше оценок критиков!"
   ]
  },
  {
   "cell_type": "markdown",
   "metadata": {},
   "source": [
    "Посмотрим, как влияют на продажи отзывы пользователей и критиков на примере платформы WiiU. Построем диаграмму рассеяния и посчитаем корреляцию между отзывами и продажами"
   ]
  },
  {
   "cell_type": "code",
   "execution_count": 31,
   "metadata": {},
   "outputs": [
    {
     "data": {
      "text/plain": [
       "0.4002190202148617"
      ]
     },
     "execution_count": 31,
     "metadata": {},
     "output_type": "execute_result"
    }
   ],
   "source": [
    "wiiu = games_to_analize[games_to_analize['platform'] == 'WiiU']\n",
    "wiiu['user_score'].corr(wiiu['total_sales'])"
   ]
  },
  {
   "cell_type": "markdown",
   "metadata": {},
   "source": [
    "Построим диаграмму рассеяния"
   ]
  },
  {
   "cell_type": "code",
   "execution_count": 32,
   "metadata": {},
   "outputs": [
    {
     "data": {
      "text/plain": [
       "Text(0.5, 1.0, 'test')"
      ]
     },
     "execution_count": 32,
     "metadata": {},
     "output_type": "execute_result"
    },
    {
     "data": {
      "image/png": "[encoded data removed]",
      "text/plain": [
       "<Figure size 864x432 with 1 Axes>"
      ]
     },
     "metadata": {
      "needs_background": "light"
     },
     "output_type": "display_data"
    }
   ],
   "source": [
    "plt.figure(figsize=(12,6))\n",
    "sns.scatterplot(x='user_score', y='total_sales', data=wiiu)\n",
    "plt.title('test')"
   ]
  },
  {
   "cell_type": "markdown",
   "metadata": {},
   "source": [
    "Построим диаграмму рассеяния на основе отзывов критиков"
   ]
  },
  {
   "cell_type": "code",
   "execution_count": 33,
   "metadata": {
    "scrolled": true
   },
   "outputs": [
    {
     "data": {
      "text/plain": [
       "Text(0.5, 1.0, 'test')"
      ]
     },
     "execution_count": 33,
     "metadata": {},
     "output_type": "execute_result"
    },
    {
     "data": {
      "image/png": "[encoded data removed]",
      "text/plain": [
       "<Figure size 864x432 with 1 Axes>"
      ]
     },
     "metadata": {
      "needs_background": "light"
     },
     "output_type": "display_data"
    }
   ],
   "source": [
    "plt.figure(figsize=(12,6))\n",
    "sns.scatterplot(x='critic_score', y='total_sales', data=wiiu)\n",
    "plt.title('test')"
   ]
  },
  {
   "cell_type": "markdown",
   "metadata": {},
   "source": [
    "Расчитаем корреляцию между оценками пользователей и продажами для платформы WiiU"
   ]
  },
  {
   "cell_type": "code",
   "execution_count": 34,
   "metadata": {},
   "outputs": [
    {
     "data": {
      "text/plain": [
       "0.34837976012017485"
      ]
     },
     "execution_count": 34,
     "metadata": {},
     "output_type": "execute_result"
    }
   ],
   "source": [
    "wiiu['critic_score'].corr(wiiu['total_sales'])"
   ]
  },
  {
   "cell_type": "markdown",
   "metadata": {},
   "source": [
    "Повторим наши процедуры и посмотрим, как влияют на продажи отзывы пользователей и критиков на примере платформы PS4. Построем диаграмму рассеяния и посчитаем корреляцию между отзывами и продажами"
   ]
  },
  {
   "cell_type": "code",
   "execution_count": 35,
   "metadata": {},
   "outputs": [
    {
     "data": {
      "text/plain": [
       "-0.031957110204556376"
      ]
     },
     "execution_count": 35,
     "metadata": {},
     "output_type": "execute_result"
    }
   ],
   "source": [
    "ps4 = games_to_analize[games_to_analize['platform'] == 'PS4']\n",
    "ps4['user_score'].corr(ps4['total_sales'])"
   ]
  },
  {
   "cell_type": "markdown",
   "metadata": {},
   "source": [
    "Построим диаграмму рассеяния"
   ]
  },
  {
   "cell_type": "code",
   "execution_count": 36,
   "metadata": {},
   "outputs": [
    {
     "data": {
      "text/plain": [
       "Text(0.5, 1.0, 'test')"
      ]
     },
     "execution_count": 36,
     "metadata": {},
     "output_type": "execute_result"
    },
    {
     "data": {
      "image/png": "[encoded data removed]",
      "text/plain": [
       "<Figure size 864x432 with 1 Axes>"
      ]
     },
     "metadata": {
      "needs_background": "light"
     },
     "output_type": "display_data"
    }
   ],
   "source": [
    "plt.figure(figsize=(12,6))\n",
    "sns.scatterplot(x='user_score', y='total_sales', data=ps4)\n",
    "plt.title('test')"
   ]
  },
  {
   "cell_type": "markdown",
   "metadata": {},
   "source": [
    "Построим диаграмму рассеяния на основе отзывов критиков"
   ]
  },
  {
   "cell_type": "code",
   "execution_count": 37,
   "metadata": {},
   "outputs": [
    {
     "data": {
      "text/plain": [
       "Text(0.5, 1.0, 'test')"
      ]
     },
     "execution_count": 37,
     "metadata": {},
     "output_type": "execute_result"
    },
    {
     "data": {
      "image/png": "[encoded data removed]",
      "text/plain": [
       "<Figure size 864x432 with 1 Axes>"
      ]
     },
     "metadata": {
      "needs_background": "light"
     },
     "output_type": "display_data"
    }
   ],
   "source": [
    "plt.figure(figsize=(12,6))\n",
    "sns.scatterplot(x='critic_score', y='total_sales', data=ps4)\n",
    "plt.title('test')"
   ]
  },
  {
   "cell_type": "markdown",
   "metadata": {},
   "source": [
    "Корреляция между отзывами критиков и продажами"
   ]
  },
  {
   "cell_type": "code",
   "execution_count": 38,
   "metadata": {},
   "outputs": [
    {
     "data": {
      "text/plain": [
       "0.40656790206178095"
      ]
     },
     "execution_count": 38,
     "metadata": {},
     "output_type": "execute_result"
    }
   ],
   "source": [
    "ps4['critic_score'].corr(ps4['total_sales'])"
   ]
  },
  {
   "cell_type": "markdown",
   "metadata": {},
   "source": [
    "Сделаем те же графики и расчеты для остальных платформ"
   ]
  },
  {
   "cell_type": "code",
   "execution_count": 39,
   "metadata": {},
   "outputs": [
    {
     "data": {
      "text/plain": [
       "0.024744361388391978"
      ]
     },
     "execution_count": 39,
     "metadata": {},
     "output_type": "execute_result"
    }
   ],
   "source": [
    "games_to_analize['user_score'].corr(games_to_analize['total_sales'])"
   ]
  },
  {
   "cell_type": "code",
   "execution_count": 40,
   "metadata": {},
   "outputs": [
    {
     "data": {
      "text/plain": [
       "0.3083045118607608"
      ]
     },
     "execution_count": 40,
     "metadata": {},
     "output_type": "execute_result"
    }
   ],
   "source": [
    "games_to_analize['critic_score'].corr(games_to_analize['total_sales'])"
   ]
  },
  {
   "cell_type": "code",
   "execution_count": 41,
   "metadata": {},
   "outputs": [
    {
     "data": {
      "text/plain": [
       "Text(0.5, 1.0, 'test')"
      ]
     },
     "execution_count": 41,
     "metadata": {},
     "output_type": "execute_result"
    },
    {
     "data": {
      "image/png": "[encoded data removed]",
      "text/plain": [
       "<Figure size 864x432 with 1 Axes>"
      ]
     },
     "metadata": {
      "needs_background": "light"
     },
     "output_type": "display_data"
    }
   ],
   "source": [
    "plt.figure(figsize=(12,6))\n",
    "sns.scatterplot(x='user_score', y='total_sales', data=games_to_analize)\n",
    "plt.title('test')"
   ]
  },
  {
   "cell_type": "code",
   "execution_count": 42,
   "metadata": {
    "scrolled": true
   },
   "outputs": [
    {
     "data": {
      "text/plain": [
       "Text(0.5, 1.0, 'test')"
      ]
     },
     "execution_count": 42,
     "metadata": {},
     "output_type": "execute_result"
    },
    {
     "data": {
      "image/png": "[encoded data removed]",
      "text/plain": [
       "<Figure size 864x432 with 1 Axes>"
      ]
     },
     "metadata": {
      "needs_background": "light"
     },
     "output_type": "display_data"
    }
   ],
   "source": [
    "plt.figure(figsize=(12,6))\n",
    "sns.scatterplot(x='critic_score', y='total_sales', data=games_to_analize)\n",
    "plt.title('test')"
   ]
  },
  {
   "cell_type": "markdown",
   "metadata": {},
   "source": [
    "Из диаграмм и чистых цифр корреляции видно, что зависимости между продажами и отзывами пользователей почти нет или она отрицательная. А вот зависимость между продажами и отзывами критиков довольно сильная и стабильная (корреляция около 0.4 для полпулярных платформ и около 0.3 для всех платформ)."
   ]
  },
  {
   "cell_type": "markdown",
   "metadata": {},
   "source": [
    "### Возьмем данные за актуальный период"
   ]
  },
  {
   "cell_type": "markdown",
   "metadata": {},
   "source": [
    "Судя по тому, что средний жизненный цикл платформы составляет около 10 лет, для расчета показателей на 2017 год, нам следует выбрать период с 2012 по 2016 года. Потому что в 2017 году платформы начавшие свой жизненный цикл в 2012 году, будут переживать примерно половину от своего жизненного цикла."
   ]
  },
  {
   "cell_type": "code",
   "execution_count": 43,
   "metadata": {},
   "outputs": [],
   "source": [
    "platforms = games_to_analize.query('year_of_release >= 2012 and year_of_release <=2016')['platform'].unique()"
   ]
  },
  {
   "cell_type": "code",
   "execution_count": 44,
   "metadata": {
    "scrolled": true
   },
   "outputs": [
    {
     "data": {
      "image/png": "[encoded data removed]",
      "text/plain": [
       "<Figure size 1440x720 with 1 Axes>"
      ]
     },
     "metadata": {
      "needs_background": "light"
     },
     "output_type": "display_data"
    }
   ],
   "source": [
    "for current_platform in platforms:\n",
    "    (\n",
    "    games_to_analize.query('platform == @current_platform'). \n",
    "    groupby('year_of_release')['total_sales'].\n",
    "    sum().\n",
    "    plot(grid=True, figsize = (20,10))\n",
    "    )\n",
    "plt.xlim(2012, 2016)\n",
    "plt.xlabel('Года')\n",
    "plt.ylabel('Продажи в мире (миллионы долларов)')\n",
    "plt.title('Распределение продаж игр по различным платформам в период с 2012 по 2016 год')\n",
    "plt.legend(platforms)\n",
    "plt.show()"
   ]
  },
  {
   "cell_type": "markdown",
   "metadata": {},
   "source": [
    "Судя по графику мы можем сделать вывод, что 3 платформы останутся в 2017 году актуальными из нашего списка - PS4, XOne и 3DS. \n",
    "Также видно, что 2 платформы не так давно появились на рынке, а одна уже давно идет на спад, соответственно ее жизненный цикл подхожит к концу. Соответственно мы можем сделать вывод, что PS4 и XOne будут актуальными и потенциально прибыльными еще приблизительно 3-4 года. То есть на 2017 и 2019 годы можно рассчитывать на их потенциальную прибыльность.\n"
   ]
  },
  {
   "cell_type": "markdown",
   "metadata": {},
   "source": [
    "### Рассчитаем прибыльность по жанрам"
   ]
  },
  {
   "cell_type": "markdown",
   "metadata": {},
   "source": [
    "Выделим самые прибыльные, жанры с самыми высокими и самыми низкими продажами"
   ]
  },
  {
   "cell_type": "code",
   "execution_count": 45,
   "metadata": {
    "scrolled": true
   },
   "outputs": [
    {
     "data": {
      "text/plain": [
       "<function matplotlib.pyplot.show(close=None, block=None)>"
      ]
     },
     "execution_count": 45,
     "metadata": {},
     "output_type": "execute_result"
    },
    {
     "data": {
      "image/png": "[encoded data removed]",
      "text/plain": [
       "<Figure size 1440x720 with 1 Axes>"
      ]
     },
     "metadata": {
      "needs_background": "light"
     },
     "output_type": "display_data"
    }
   ],
   "source": [
    "plt.figure(figsize=(20,10))\n",
    "platforms_boxplot = sns.boxplot(x='genre',\n",
    "                               y = 'total_sales',\n",
    "                               palette = 'rainbow',\n",
    "                               data = games_to_analize,\n",
    "                               fliersize =4, \n",
    "                               width = 0.25, showfliers=False)\n",
    "plt.ylim(0,2)\n",
    "plt.show"
   ]
  },
  {
   "cell_type": "code",
   "execution_count": 46,
   "metadata": {},
   "outputs": [
    {
     "data": {
      "image/png": "[encoded data removed]",
      "text/plain": [
       "<Figure size 432x288 with 1 Axes>"
      ]
     },
     "metadata": {
      "needs_background": "light"
     },
     "output_type": "display_data"
    }
   ],
   "source": [
    "popularity_of_genres = games_to_analize.groupby(['genre'])['total_sales'].sum().plot(kind='bar')"
   ]
  },
  {
   "cell_type": "markdown",
   "metadata": {},
   "source": [
    "Видно, что самый популярный жанр это Action. На втором месте Shooter, затем Role-playing. Менее популярны такие жанры как Sports, Platform, Misc, Racing, Fighting и Simulation. А самые последние места по популярности занимают такие жанры как Adventure, Strategy и Puzzle."
   ]
  },
  {
   "cell_type": "markdown",
   "metadata": {},
   "source": [
    "# Вывод"
   ]
  },
  {
   "cell_type": "markdown",
   "metadata": {},
   "source": [
    "Быди проделаны следующие процедуры:\n",
    "- для анализа были отобраны данные по играм, начиная с 2012 года\n",
    "- были определены самые популярные платформы\n",
    "- было выяснено, что в среднем платформа набирает обороты в первые 2 года и пользуется спросом в течении 8-10 лет\n",
    "- были определены с5 самых попелярных платформ.  На первом месте по продажам платформа XOne, после WiiU, потом PS4, 3DS и DS на последних местах Выяснили, как влияют на продажи первых трех по популярности платформ отзывы пользователей и критиков. Построили диаграмму рассеяния и посчитали корреляцию между отзывами и продажами\n",
    "- были отобраны данные за актуальный по нашему мнению период с 2012 по 2016 года. Был сделан вывод, что 3 платформы останутся в 2017 году актуальными из нашего списка - PS4, XOne и 3DS. Также видно, что 2 платформы не так давно появились на рынке, а одна уже давно идет на спад, соответственно ее жизненный цикл подхожит к концу. Выяснили, что PS4 и XOne будут актуальными и потенциально прибыльными еще приблизительно 3-4 года. То есть на 2017 и 2019 годы можно рассчитывать на их потенциальную прибыльность\n",
    "- Определили, что самый популярный жанр это Action. На втором месте Shooter, затем Role-playing. Менее популярны такие жанры как Sports, Platform, Misc, Racing, Fighting и Simulation. А самые последние места по популярности занимают такие жанры как Adventure, Strategy и Puzzle."
   ]
  },
  {
   "cell_type": "markdown",
   "metadata": {},
   "source": [
    "## Составим портрет пользователя каждого региона"
   ]
  },
  {
   "cell_type": "markdown",
   "metadata": {},
   "source": [
    "Определим для каждого региона(NA, EU, JP):\n",
    "- Самые популярные платформы;\n",
    "- Самые популярные жанры;\n",
    "- Влияет ли рейтинг ESRB на продажи в отдельном регионе"
   ]
  },
  {
   "cell_type": "markdown",
   "metadata": {},
   "source": [
    "Выберем период, который, как мы посчитали, актуальный!"
   ]
  },
  {
   "cell_type": "markdown",
   "metadata": {},
   "source": [
    "### Определим самые популярные платформы"
   ]
  },
  {
   "cell_type": "markdown",
   "metadata": {},
   "source": [
    "#### Для Cеверной Америки"
   ]
  },
  {
   "cell_type": "code",
   "execution_count": 47,
   "metadata": {},
   "outputs": [
    {
     "data": {
      "text/plain": [
       "platform\n",
       "PS4     108.74\n",
       "XOne     93.12\n",
       "3DS      55.31\n",
       "WiiU     38.10\n",
       "PC       19.12\n",
       "Name: na_sales, dtype: float64"
      ]
     },
     "execution_count": 47,
     "metadata": {},
     "output_type": "execute_result"
    }
   ],
   "source": [
    "top_platforms_na = games_to_analize.groupby(['platform'])['na_sales'].sum().sort_values(ascending=False).head(5)\n",
    "top_platforms_na"
   ]
  },
  {
   "cell_type": "markdown",
   "metadata": {},
   "source": [
    "Как мы выяснили самые популярные платформы в Северной Америке это PS4, XOne, 3DS, WiiU и PC"
   ]
  },
  {
   "cell_type": "markdown",
   "metadata": {},
   "source": [
    "#### Для Европы"
   ]
  },
  {
   "cell_type": "code",
   "execution_count": 48,
   "metadata": {},
   "outputs": [
    {
     "data": {
      "text/plain": [
       "platform\n",
       "PS4     141.09\n",
       "XOne     51.59\n",
       "3DS      42.64\n",
       "PC       37.76\n",
       "WiiU     25.13\n",
       "Name: eu_sales, dtype: float64"
      ]
     },
     "execution_count": 48,
     "metadata": {},
     "output_type": "execute_result"
    }
   ],
   "source": [
    "top_platforms_eu = games_to_analize.groupby(['platform'])['eu_sales'].sum().sort_values(ascending=False).head(5)\n",
    "top_platforms_eu"
   ]
  },
  {
   "cell_type": "markdown",
   "metadata": {},
   "source": [
    "В Европе же на певром месте стоит PS4, на втором XOne и далее 3DS, PC, WiiU."
   ]
  },
  {
   "cell_type": "markdown",
   "metadata": {},
   "source": [
    "#### Для Японии"
   ]
  },
  {
   "cell_type": "code",
   "execution_count": 49,
   "metadata": {},
   "outputs": [
    {
     "data": {
      "text/plain": [
       "platform\n",
       "3DS     87.79\n",
       "PSV     21.04\n",
       "PS4     15.96\n",
       "WiiU    13.01\n",
       "DS       3.72\n",
       "Name: jp_sales, dtype: float64"
      ]
     },
     "execution_count": 49,
     "metadata": {},
     "output_type": "execute_result"
    }
   ],
   "source": [
    "top_platforms_jp = games_to_analize.groupby(['platform'])['jp_sales'].sum().sort_values(ascending=False).head(5)\n",
    "top_platforms_jp"
   ]
  },
  {
   "cell_type": "markdown",
   "metadata": {},
   "source": [
    "В Японии лидирует 3DS, следом PSV, PS4, WiiU и DS"
   ]
  },
  {
   "cell_type": "markdown",
   "metadata": {},
   "source": [
    "### Определим самые популярные жанры"
   ]
  },
  {
   "cell_type": "markdown",
   "metadata": {},
   "source": [
    "#### Для Cеверной Америки"
   ]
  },
  {
   "cell_type": "code",
   "execution_count": 50,
   "metadata": {},
   "outputs": [
    {
     "data": {
      "text/plain": [
       "genre\n",
       "Action          86.19\n",
       "Shooter         77.76\n",
       "Role-Playing    50.27\n",
       "Sports          38.78\n",
       "Platform        21.03\n",
       "Name: na_sales, dtype: float64"
      ]
     },
     "execution_count": 50,
     "metadata": {},
     "output_type": "execute_result"
    }
   ],
   "source": [
    "top_na_genres_na = games_to_analize.groupby(['genre'])['na_sales'].sum().sort_values(ascending=False).head(5)\n",
    "top_na_genres_na"
   ]
  },
  {
   "cell_type": "markdown",
   "metadata": {},
   "source": [
    "В Северной Америке лидирует жанр Action. На втором месте Shooter, на третьем Role-Playing, далее Sports и Platform"
   ]
  },
  {
   "cell_type": "markdown",
   "metadata": {},
   "source": [
    "#### Для Европы"
   ]
  },
  {
   "cell_type": "code",
   "execution_count": 51,
   "metadata": {},
   "outputs": [
    {
     "data": {
      "text/plain": [
       "genre\n",
       "Action          83.71\n",
       "Shooter         67.62\n",
       "Sports          41.13\n",
       "Role-Playing    40.25\n",
       "Platform        18.24\n",
       "Name: eu_sales, dtype: float64"
      ]
     },
     "execution_count": 51,
     "metadata": {},
     "output_type": "execute_result"
    }
   ],
   "source": [
    "top__eu_genres_eu = games_to_analize.groupby(['genre'])['eu_sales'].sum().sort_values(ascending=False).head(5)\n",
    "top__eu_genres_eu"
   ]
  },
  {
   "cell_type": "markdown",
   "metadata": {},
   "source": [
    "В Европе лидирует Action, на втором месте Shooter, на третьем Sports, далее Role-Playing и Platform"
   ]
  },
  {
   "cell_type": "markdown",
   "metadata": {},
   "source": [
    "#### Для Японии"
   ]
  },
  {
   "cell_type": "code",
   "execution_count": 52,
   "metadata": {},
   "outputs": [
    {
     "data": {
      "text/plain": [
       "genre\n",
       "Role-Playing    54.57\n",
       "Action          34.46\n",
       "Misc            10.53\n",
       "Simulation       9.61\n",
       "Platform         8.55\n",
       "Name: jp_sales, dtype: float64"
      ]
     },
     "execution_count": 52,
     "metadata": {},
     "output_type": "execute_result"
    }
   ],
   "source": [
    "top_jp_genres_jp = games_to_analize.groupby(['genre'])['jp_sales'].sum().sort_values(ascending=False).head(5)\n",
    "top_jp_genres_jp"
   ]
  },
  {
   "cell_type": "markdown",
   "metadata": {},
   "source": [
    "В Японии на первом месте жанр Role-Playing. Action занимает второе место, Misc, Simulation и Platform соответственно третье, четвертое и пятое места"
   ]
  },
  {
   "cell_type": "markdown",
   "metadata": {},
   "source": [
    "### Определим влияет ли рейтинг ESRB на продажи в отдельном регионе"
   ]
  },
  {
   "cell_type": "markdown",
   "metadata": {},
   "source": [
    "В нашем датасете использовани следующие рейтинги:\n",
    "- Mature(M);\n",
    "- Adults Only(AO);\n",
    "- Everyone(E);\n",
    "- Everyone10+(E10+);\n",
    "- Early Childhood (EC);\n",
    "- Rating Pending (RP);\n",
    "- Teen (T)"
   ]
  },
  {
   "cell_type": "markdown",
   "metadata": {},
   "source": [
    "#### Для Cеверной Америки"
   ]
  },
  {
   "cell_type": "code",
   "execution_count": 53,
   "metadata": {
    "scrolled": true
   },
   "outputs": [
    {
     "data": {
      "text/html": [
       "<div>\n",
       "<style scoped>\n",
       "    .dataframe tbody tr th:only-of-type {\n",
       "        vertical-align: middle;\n",
       "    }\n",
       "\n",
       "    .dataframe tbody tr th {\n",
       "        vertical-align: top;\n",
       "    }\n",
       "\n",
       "    .dataframe thead th {\n",
       "        text-align: right;\n",
       "    }\n",
       "</style>\n",
       "<table border=\"1\" class=\"dataframe\">\n",
       "  <thead>\n",
       "    <tr style=\"text-align: right;\">\n",
       "      <th></th>\n",
       "      <th>total_sum</th>\n",
       "      <th>sum_per_game</th>\n",
       "    </tr>\n",
       "    <tr>\n",
       "      <th>rating</th>\n",
       "      <th></th>\n",
       "      <th></th>\n",
       "    </tr>\n",
       "  </thead>\n",
       "  <tbody>\n",
       "    <tr>\n",
       "      <th>E</th>\n",
       "      <td>66.62</td>\n",
       "      <td>0.262283</td>\n",
       "    </tr>\n",
       "    <tr>\n",
       "      <th>E10+</th>\n",
       "      <td>40.63</td>\n",
       "      <td>0.192559</td>\n",
       "    </tr>\n",
       "    <tr>\n",
       "      <th>M</th>\n",
       "      <td>106.53</td>\n",
       "      <td>0.363584</td>\n",
       "    </tr>\n",
       "    <tr>\n",
       "      <th>T</th>\n",
       "      <td>39.97</td>\n",
       "      <td>0.149142</td>\n",
       "    </tr>\n",
       "    <tr>\n",
       "      <th>undefined</th>\n",
       "      <td>76.21</td>\n",
       "      <td>0.089870</td>\n",
       "    </tr>\n",
       "  </tbody>\n",
       "</table>\n",
       "</div>"
      ],
      "text/plain": [
       "           total_sum  sum_per_game\n",
       "rating                            \n",
       "E              66.62      0.262283\n",
       "E10+           40.63      0.192559\n",
       "M             106.53      0.363584\n",
       "T              39.97      0.149142\n",
       "undefined      76.21      0.089870"
      ]
     },
     "execution_count": 53,
     "metadata": {},
     "output_type": "execute_result"
    }
   ],
   "source": [
    "esrb_na = games_to_analize.groupby(['rating'])['na_sales'].agg([sum, lambda x: sum(x)/len(x)])\n",
    "esrb_na.columns = ['total_sum', 'sum_per_game']\n",
    "esrb_na"
   ]
  },
  {
   "cell_type": "markdown",
   "metadata": {},
   "source": [
    "Самым продаваемыми стали Mature(M), затем игры без рейтинга, Everyone(E) занимают третье место, потом Everyone10+(E10+) и Teen(T)"
   ]
  },
  {
   "cell_type": "markdown",
   "metadata": {},
   "source": [
    "#### Для Европы"
   ]
  },
  {
   "cell_type": "code",
   "execution_count": 54,
   "metadata": {
    "scrolled": true
   },
   "outputs": [
    {
     "data": {
      "text/html": [
       "<div>\n",
       "<style scoped>\n",
       "    .dataframe tbody tr th:only-of-type {\n",
       "        vertical-align: middle;\n",
       "    }\n",
       "\n",
       "    .dataframe tbody tr th {\n",
       "        vertical-align: top;\n",
       "    }\n",
       "\n",
       "    .dataframe thead th {\n",
       "        text-align: right;\n",
       "    }\n",
       "</style>\n",
       "<table border=\"1\" class=\"dataframe\">\n",
       "  <thead>\n",
       "    <tr style=\"text-align: right;\">\n",
       "      <th></th>\n",
       "      <th>total_sum</th>\n",
       "      <th>sum_per_game</th>\n",
       "    </tr>\n",
       "    <tr>\n",
       "      <th>rating</th>\n",
       "      <th></th>\n",
       "      <th></th>\n",
       "    </tr>\n",
       "  </thead>\n",
       "  <tbody>\n",
       "    <tr>\n",
       "      <th>E</th>\n",
       "      <td>70.74</td>\n",
       "      <td>0.278504</td>\n",
       "    </tr>\n",
       "    <tr>\n",
       "      <th>E10+</th>\n",
       "      <td>31.14</td>\n",
       "      <td>0.147583</td>\n",
       "    </tr>\n",
       "    <tr>\n",
       "      <th>M</th>\n",
       "      <td>103.98</td>\n",
       "      <td>0.354881</td>\n",
       "    </tr>\n",
       "    <tr>\n",
       "      <th>T</th>\n",
       "      <td>36.35</td>\n",
       "      <td>0.135634</td>\n",
       "    </tr>\n",
       "    <tr>\n",
       "      <th>undefined</th>\n",
       "      <td>70.89</td>\n",
       "      <td>0.083597</td>\n",
       "    </tr>\n",
       "  </tbody>\n",
       "</table>\n",
       "</div>"
      ],
      "text/plain": [
       "           total_sum  sum_per_game\n",
       "rating                            \n",
       "E              70.74      0.278504\n",
       "E10+           31.14      0.147583\n",
       "M             103.98      0.354881\n",
       "T              36.35      0.135634\n",
       "undefined      70.89      0.083597"
      ]
     },
     "execution_count": 54,
     "metadata": {},
     "output_type": "execute_result"
    }
   ],
   "source": [
    "esrb_eu = games_to_analize.groupby(['rating'])['eu_sales'].agg([sum, lambda x: sum(x)/len(x)])\n",
    "esrb_eu.columns = ['total_sum', 'sum_per_game']\n",
    "esrb_eu"
   ]
  },
  {
   "cell_type": "markdown",
   "metadata": {},
   "source": [
    "В Европе лидирует Mature(M), игры без рейтинга на втором месте, затем Everyone(E), следом Teen(T) и Everyone10+(E10+)"
   ]
  },
  {
   "cell_type": "markdown",
   "metadata": {},
   "source": [
    "#### Для Японии"
   ]
  },
  {
   "cell_type": "code",
   "execution_count": 55,
   "metadata": {},
   "outputs": [
    {
     "data": {
      "text/html": [
       "<div>\n",
       "<style scoped>\n",
       "    .dataframe tbody tr th:only-of-type {\n",
       "        vertical-align: middle;\n",
       "    }\n",
       "\n",
       "    .dataframe tbody tr th {\n",
       "        vertical-align: top;\n",
       "    }\n",
       "\n",
       "    .dataframe thead th {\n",
       "        text-align: right;\n",
       "    }\n",
       "</style>\n",
       "<table border=\"1\" class=\"dataframe\">\n",
       "  <thead>\n",
       "    <tr style=\"text-align: right;\">\n",
       "      <th></th>\n",
       "      <th>total_sum</th>\n",
       "      <th>sum_per_game</th>\n",
       "    </tr>\n",
       "    <tr>\n",
       "      <th>rating</th>\n",
       "      <th></th>\n",
       "      <th></th>\n",
       "    </tr>\n",
       "  </thead>\n",
       "  <tbody>\n",
       "    <tr>\n",
       "      <th>E</th>\n",
       "      <td>24.36</td>\n",
       "      <td>0.095906</td>\n",
       "    </tr>\n",
       "    <tr>\n",
       "      <th>E10+</th>\n",
       "      <td>7.63</td>\n",
       "      <td>0.036161</td>\n",
       "    </tr>\n",
       "    <tr>\n",
       "      <th>M</th>\n",
       "      <td>9.15</td>\n",
       "      <td>0.031229</td>\n",
       "    </tr>\n",
       "    <tr>\n",
       "      <th>T</th>\n",
       "      <td>15.37</td>\n",
       "      <td>0.057351</td>\n",
       "    </tr>\n",
       "    <tr>\n",
       "      <th>undefined</th>\n",
       "      <td>85.35</td>\n",
       "      <td>0.100649</td>\n",
       "    </tr>\n",
       "  </tbody>\n",
       "</table>\n",
       "</div>"
      ],
      "text/plain": [
       "           total_sum  sum_per_game\n",
       "rating                            \n",
       "E              24.36      0.095906\n",
       "E10+            7.63      0.036161\n",
       "M               9.15      0.031229\n",
       "T              15.37      0.057351\n",
       "undefined      85.35      0.100649"
      ]
     },
     "execution_count": 55,
     "metadata": {},
     "output_type": "execute_result"
    }
   ],
   "source": [
    "esrb_jp = games_to_analize.groupby(['rating'])['jp_sales'].agg([sum, lambda x: sum(x)/len(x)])\n",
    "esrb_jp.columns = ['total_sum', 'sum_per_game']\n",
    "esrb_jp"
   ]
  },
  {
   "cell_type": "markdown",
   "metadata": {},
   "source": [
    "В Японии же на первом месте стоят игры без рейтинга, затем Everyone(E), за ним Teen (T), Mature(M) и Everyone10+(E10+)"
   ]
  },
  {
   "cell_type": "markdown",
   "metadata": {},
   "source": [
    "# Вывод"
   ]
  },
  {
   "cell_type": "markdown",
   "metadata": {},
   "source": [
    "На данном этапе для пользователя каждого региона (NA, EU, JP) были определены:\n",
    "\n",
    "- Самые популярные платформы (топ-5). Если посмотреть на доли продаж по конкретным платформам, то видно, что в Северной Америке самые популярные платформы это PS4, XOne, 3DS, WiiU и PC. В Европе же на певром месте стоит PS4, на втором XOne и далее 3DS, PC, WiiU. В Японии лидирует 3DS, следом PSV, PS4, WiiU и DS.\n",
    "Если посмотреть на доли продаж по конкретным жанрам игр, то видно, что в Северной Америке на первом месте жанр Action. На втором месте Shooter, на третьем Role-Playing, далее Sports и Platform. В Европе лидирует Action, на втором месте Shooter, на третьем Sports, далее Role-Playing и Platform. В Японии на первом месте жанр Role-Playing. Action занимает второе место, Misc, Simulation и Platform соответственно третье, четвертое и пятое места.\n",
    "Также было выяснено, что рейтинг ESRB влияет на продажи в отдельном регионе. Было выяснено, что самыми продаваемыми в Северной Америке и в Европе являются игры в категории Mature (M), затем игры без рейтинга, затем Everyone (E), и затем меняются местами игры в категории Everyone 10+ (E10+) и Teen (T). В Японии на первом месте стоят игры без рейтинга, затем Everyone(E), за ним Teen (T), Mature(M) и Everyone10+(E10+)"
   ]
  },
  {
   "cell_type": "markdown",
   "metadata": {},
   "source": [
    "## Проверка гипотез"
   ]
  },
  {
   "cell_type": "markdown",
   "metadata": {},
   "source": [
    "Проверим следущие гипотезы:\n",
    "- Средние пользовательские рейтинги платформ Xbox One и PC одинаковые;\n",
    "- Средние пользовательские рейтинги жанров Action и Sports разные."
   ]
  },
  {
   "cell_type": "markdown",
   "metadata": {},
   "source": [
    "Нулевая гипотеза - Средние пользовательские рейтинги платформ Xbox One и PC одинаковые.\n",
    "\n",
    "Альтернативная гипотеза - Средние пользовательские рейтинги платформ Xbox One и PC различны"
   ]
  },
  {
   "cell_type": "code",
   "execution_count": 56,
   "metadata": {},
   "outputs": [
    {
     "data": {
      "text/plain": [
       "<matplotlib.legend.Legend at 0x7f5e62764b80>"
      ]
     },
     "execution_count": 56,
     "metadata": {},
     "output_type": "execute_result"
    },
    {
     "data": {
      "image/png": "[encoded data removed]",
      "text/plain": [
       "<Figure size 432x288 with 1 Axes>"
      ]
     },
     "metadata": {
      "needs_background": "light"
     },
     "output_type": "display_data"
    }
   ],
   "source": [
    "two_platforms = ['XOne','PC']\n",
    "for platform in two_platforms:\n",
    "    games_to_analize.loc[games_to_analize['platform'] == platform]['user_score'].hist(bins=10, alpha = 0.5, label=platform)\n",
    "plt.xlabel('user_score')\n",
    "plt.title('Гистограмма распределения пользовательских рейтингов платформ Xbox One и PC')\n",
    "plt.legend()"
   ]
  },
  {
   "cell_type": "code",
   "execution_count": 57,
   "metadata": {},
   "outputs": [
    {
     "data": {
      "text/plain": [
       "6.521428571428572"
      ]
     },
     "execution_count": 57,
     "metadata": {},
     "output_type": "execute_result"
    }
   ],
   "source": [
    "(games_to_analize.loc[games_to_analize['platform'] == 'XOne', 'user_score']).mean()"
   ]
  },
  {
   "cell_type": "code",
   "execution_count": 58,
   "metadata": {},
   "outputs": [
    {
     "data": {
      "text/plain": [
       "6.428640776699029"
      ]
     },
     "execution_count": 58,
     "metadata": {},
     "output_type": "execute_result"
    }
   ],
   "source": [
    "(games_to_analize.loc[games_to_analize['platform'] == 'PC', 'user_score']).mean()"
   ]
  },
  {
   "cell_type": "code",
   "execution_count": 59,
   "metadata": {},
   "outputs": [
    {
     "name": "stdout",
     "output_type": "stream",
     "text": [
      "p-value: 0.5489537965134912\n",
      "Не удалось отвергнуть нулевую гипотезу\n"
     ]
    }
   ],
   "source": [
    "data1 = games_to_analize.loc[games_to_analize['platform'] == 'XOne', 'user_score'].dropna()\n",
    "data2 = games_to_analize.loc[games_to_analize['platform'] == 'PC', 'user_score'].dropna()\n",
    "alpha = 0.05\n",
    "\n",
    "results = st.ttest_ind(\n",
    "    data1,\n",
    "    data2,\n",
    "    equal_var = False)\n",
    "\n",
    "print('p-value:', results.pvalue)\n",
    "\n",
    "if (results.pvalue < alpha):\n",
    "    print('Отвергаем нулевую гипотезу')\n",
    "else:\n",
    "    print('Не удалось отвергнуть нулевую гипотезу')"
   ]
  },
  {
   "cell_type": "markdown",
   "metadata": {},
   "source": [
    "Вывод - у нас нет оснований утверждать, что средние пользовательские рейтинги платформ Xbox One и PC значимо различаются"
   ]
  },
  {
   "cell_type": "markdown",
   "metadata": {},
   "source": [
    "Теперь разберемся с жанрами"
   ]
  },
  {
   "cell_type": "markdown",
   "metadata": {},
   "source": [
    "Нулевая гипотеза - Средние пользовательские рейтинги жанров Action и Sports одинаковые.\n",
    "\n",
    "Альтернативная гипотеза - Средние пользовательские рейтинги жанров Action и Sports различны"
   ]
  },
  {
   "cell_type": "code",
   "execution_count": 60,
   "metadata": {},
   "outputs": [
    {
     "data": {
      "text/plain": [
       "<matplotlib.legend.Legend at 0x7f5e624ed550>"
      ]
     },
     "execution_count": 60,
     "metadata": {},
     "output_type": "execute_result"
    },
    {
     "data": {
      "image/png": "[encoded data removed]",
      "text/plain": [
       "<Figure size 432x288 with 1 Axes>"
      ]
     },
     "metadata": {
      "needs_background": "light"
     },
     "output_type": "display_data"
    }
   ],
   "source": [
    "two_genres = ['Action','Sports']\n",
    "for genre in two_genres:\n",
    "    games_to_analize.loc[games_to_analize['genre'] == genre]['user_score'].hist(bins=10, alpha = 0.5, label=genre)\n",
    "plt.xlabel('user_score')\n",
    "plt.title('Гистограмма распределения пользовательских рейтингов жанров Action и Sports')\n",
    "plt.legend()"
   ]
  },
  {
   "cell_type": "code",
   "execution_count": 61,
   "metadata": {},
   "outputs": [
    {
     "data": {
      "text/plain": [
       "6.884660766961652"
      ]
     },
     "execution_count": 61,
     "metadata": {},
     "output_type": "execute_result"
    }
   ],
   "source": [
    "(games_to_analize.loc[games_to_analize['genre'] == 'Action', 'user_score']).mean()"
   ]
  },
  {
   "cell_type": "code",
   "execution_count": 62,
   "metadata": {},
   "outputs": [
    {
     "data": {
      "text/plain": [
       "5.658928571428571"
      ]
     },
     "execution_count": 62,
     "metadata": {},
     "output_type": "execute_result"
    }
   ],
   "source": [
    "(games_to_analize.loc[games_to_analize['genre'] == 'Sports', 'user_score']).mean()"
   ]
  },
  {
   "cell_type": "code",
   "execution_count": 63,
   "metadata": {},
   "outputs": [
    {
     "name": "stdout",
     "output_type": "stream",
     "text": [
      "p-value: 2.1485834461972547e-11\n",
      "Отвергаем нулевую гипотезу\n"
     ]
    }
   ],
   "source": [
    "data3 = games_to_analize.loc[games_to_analize['genre'] == 'Action', 'user_score'].dropna()\n",
    "data4 = games_to_analize.loc[games_to_analize['genre'] == 'Sports', 'user_score'].dropna()\n",
    "alpha = 0.05\n",
    "\n",
    "results = st.ttest_ind(\n",
    "    data3,\n",
    "    data4,\n",
    "    equal_var = False)\n",
    "\n",
    "print('p-value:', results.pvalue)\n",
    "\n",
    "if (results.pvalue < alpha):\n",
    "    print('Отвергаем нулевую гипотезу')\n",
    "else:\n",
    "    print('Не удалось отвергнуть нулевую гипотезу')"
   ]
  },
  {
   "cell_type": "markdown",
   "metadata": {},
   "source": [
    "Вывод - у нас есть основания пологать, что средние пользовательские рейтинги жанров Action и Sports значимо различаются"
   ]
  },
  {
   "cell_type": "markdown",
   "metadata": {},
   "source": [
    "# Вывод"
   ]
  },
  {
   "cell_type": "markdown",
   "metadata": {},
   "source": [
    "На данном этапе мы проверили 2 гипотезы. Проверка первой показала, что у нас нет оснований утверждать, что средние пользовательские рейтинги платформ Xbox One и PC значимо различаются. Проверка второй гипотеза показала, что у нас есть основания пологать, что средние пользовательские рейтинги жанров Action и Sports значимо различаются"
   ]
  },
  {
   "cell_type": "markdown",
   "metadata": {},
   "source": [
    "# Общий вывод по работе"
   ]
  },
  {
   "cell_type": "markdown",
   "metadata": {},
   "source": [
    "В этой работе были проведены следующие шаги:\n",
    "\n",
    "1Для ответа на поставленную задачубыли проделаны следующие шаги:\n",
    "\n",
    "1) В 1 шаге мы ознакомились с данными:\n",
    "\n",
    "Определили, что нужно перевести название столбцов в нижний регистр, поменять типы данных в некоторых столбцах, добавить столбец с общим количесвтом продаж по датасету.\n",
    "\n",
    "2) Во 2 шаге были подготовлены предоставленные данные для анализа:\n",
    "\n",
    "Название всех столбцов было приведено к нижнему регистру, были исправлены типы данных в некоторых столбцах (в столбцах year_of_release и user_score), были исправлены аномалии в данных (значения tbd в столбце user_score были заменены на nan), была произведена работа с пропусками.\n",
    "\n",
    "3) В шаге 3 было рассмотрено:\n",
    "\n",
    "Сколько игр выпускалось в разные годы и были отсечены года, не релевантные для дальнейшего анализа (до 1996 года).\n",
    "Как менялись продажи по платформам. Были выбраны платформы с наибольшими суммарными продажами (PS2, X360, PS3, Wii, DS) и построены распределения их прибыльности по годам. Был сделан вывод, что обычно платформам нужно 1-2 года, чтобы набрать популярность и что средний цикл их жизни около 8-10 лет (примерно к середине этого срока - то есть лет через 5 - на рынке появляется что-то другое и начинает отвоевывать у первой платформы популярность).\n",
    "Был выделен актуальный период рассмотрения данных, на основе которого можно будет сделать прогноз на 2017 год (это период с 2012 по 2016 год). К 2014-2015 году практически все платформы, которые мы рассматриваем в данном периоде, уже подходят к логическому концу их жизненного цикла, кроме двух платформ -  PS4 и XOne, и в 2017-2019 годы можно рассчитывать на их потенциальную прибыльность.\n",
    "\n",
    "Для трех популярных платформ были посчитаны корелляции между прибылью и рейтингами пользователей, и между прибылью и рейтингами критиков, также для этих параметров были построены диаграммы рассеяния.\n",
    "Было рассмотренно общее распределение игр по жанрам. По суммарным продажам резко выделяется жанр Action. На втором месте Sports, затем Shooter. Менее популярны такие жанры как Role-playing, Misc, Racing, platform, Simulation и Fighting. Эти 4 жанра сильно выделяются на общем фоне остальных жанров, которые коллеблются между 10-75 мл долларов по суммарным продажам. Самыми не прибыльными являются жанры Puzzle и Strategy.\n",
    "\n",
    "4) В шаге 4 для пользователя каждого региона (NA, EU, JP) были определены:\n",
    "\n",
    "Самые популярные платформы (топ-5). Если посмотреть на доли продаж по конкретным платформам, то видно, что во всех трех странах среди лидеров выделяяется PS2. X360 также в тройке лидеро в Северной Америке и Европе, но не в Японии.\n",
    "Если посмотреть на доли продаж по конкретным жанрам игр, то видно, что во всех трех регионах популярным является жанр Action, Sports и Shooter, в Северной Америке и Европе также популярны жанры Misc и Racing, а жанр Platform входит в топ только в Японии.\n",
    "Также было выяснено, что рейтинг ESRB влияет на продажи в отдельном регионе. Было выяснено, что самыми продаваемыми во всех регионах являются игры в категории Everyone (E), затем в Северной Америке и Японии идут Teen (T) и Mature (M), а Европе наоборот Mature (M) затем Teen (T).\n",
    "\n",
    "5) И на 5-ом шаге были проверены две гипотезы:\n",
    "\n",
    "Проверка первой показала, что у нас нет оснований утверждать, что средние пользовательские рейтинги платформ Xbox One и PC значимо различаются. Проверка второй гипотеза показала, что у нас есть основания пологать, что средние пользовательские рейтинги жанров Action и Sports значимо различаются"
   ]
  }
 ],
 "metadata": {
  "ExecuteTimeLog": [
   {
    "duration": 1559,
    "start_time": "2022-05-04T07:22:59.867Z"
   },
   {
    "duration": 20,
    "start_time": "2022-05-04T07:23:38.272Z"
   },
   {
    "duration": 23,
    "start_time": "2022-05-04T07:23:45.764Z"
   },
   {
    "duration": 15,
    "start_time": "2022-05-04T07:25:34.020Z"
   },
   {
    "duration": 117,
    "start_time": "2022-05-04T07:51:56.936Z"
   },
   {
    "duration": 6,
    "start_time": "2022-05-04T07:52:11.562Z"
   },
   {
    "duration": 15,
    "start_time": "2022-05-04T07:54:21.923Z"
   },
   {
    "duration": 32,
    "start_time": "2022-05-04T08:10:21.195Z"
   },
   {
    "duration": 13,
    "start_time": "2022-05-04T08:16:42.819Z"
   },
   {
    "duration": 15,
    "start_time": "2022-05-04T08:16:54.552Z"
   },
   {
    "duration": 13,
    "start_time": "2022-05-04T08:17:02.947Z"
   },
   {
    "duration": 25,
    "start_time": "2022-05-04T08:17:08.123Z"
   },
   {
    "duration": 46,
    "start_time": "2022-05-04T08:19:19.985Z"
   },
   {
    "duration": 1474,
    "start_time": "2022-05-04T08:24:22.281Z"
   },
   {
    "duration": 17,
    "start_time": "2022-05-04T08:24:23.757Z"
   },
   {
    "duration": 29,
    "start_time": "2022-05-04T08:24:23.776Z"
   },
   {
    "duration": 6,
    "start_time": "2022-05-04T08:24:23.807Z"
   },
   {
    "duration": 35,
    "start_time": "2022-05-04T08:24:23.815Z"
   },
   {
    "duration": 148,
    "start_time": "2022-05-04T08:24:23.852Z"
   },
   {
    "duration": 1319,
    "start_time": "2022-05-12T05:17:23.792Z"
   },
   {
    "duration": 18,
    "start_time": "2022-05-12T05:17:25.113Z"
   },
   {
    "duration": 14,
    "start_time": "2022-05-12T05:17:25.132Z"
   },
   {
    "duration": 20,
    "start_time": "2022-05-12T05:17:25.148Z"
   },
   {
    "duration": 15,
    "start_time": "2022-05-12T05:17:25.169Z"
   },
   {
    "duration": 115,
    "start_time": "2022-05-12T05:17:25.186Z"
   },
   {
    "duration": 29,
    "start_time": "2022-05-12T05:18:53.312Z"
   },
   {
    "duration": 17,
    "start_time": "2022-05-12T05:24:03.687Z"
   },
   {
    "duration": 35,
    "start_time": "2022-05-12T05:25:10.998Z"
   },
   {
    "duration": 18,
    "start_time": "2022-05-12T05:25:22.973Z"
   },
   {
    "duration": 16,
    "start_time": "2022-05-12T05:25:48.325Z"
   },
   {
    "duration": 15,
    "start_time": "2022-05-12T05:26:01.987Z"
   },
   {
    "duration": 13,
    "start_time": "2022-05-12T05:26:04.999Z"
   },
   {
    "duration": 14,
    "start_time": "2022-05-12T05:26:20.417Z"
   },
   {
    "duration": 16,
    "start_time": "2022-05-12T05:26:26.834Z"
   },
   {
    "duration": 7,
    "start_time": "2022-05-12T05:27:44.225Z"
   },
   {
    "duration": 6,
    "start_time": "2022-05-12T05:28:07.862Z"
   },
   {
    "duration": 7,
    "start_time": "2022-05-12T05:28:28.366Z"
   },
   {
    "duration": 7,
    "start_time": "2022-05-12T05:28:39.634Z"
   },
   {
    "duration": 1315,
    "start_time": "2022-05-12T05:29:18.900Z"
   },
   {
    "duration": 17,
    "start_time": "2022-05-12T05:29:20.216Z"
   },
   {
    "duration": 13,
    "start_time": "2022-05-12T05:29:20.234Z"
   },
   {
    "duration": 18,
    "start_time": "2022-05-12T05:29:20.249Z"
   },
   {
    "duration": 15,
    "start_time": "2022-05-12T05:29:20.269Z"
   },
   {
    "duration": 20,
    "start_time": "2022-05-12T05:29:20.286Z"
   },
   {
    "duration": 106,
    "start_time": "2022-05-12T05:29:57.692Z"
   },
   {
    "duration": 18,
    "start_time": "2022-05-12T05:30:35.496Z"
   },
   {
    "duration": 16,
    "start_time": "2022-05-12T05:33:29.318Z"
   },
   {
    "duration": 1280,
    "start_time": "2022-05-12T05:34:17.556Z"
   },
   {
    "duration": 16,
    "start_time": "2022-05-12T05:34:18.838Z"
   },
   {
    "duration": 19,
    "start_time": "2022-05-12T05:34:18.856Z"
   },
   {
    "duration": 5,
    "start_time": "2022-05-12T05:34:18.877Z"
   },
   {
    "duration": 16,
    "start_time": "2022-05-12T05:34:18.883Z"
   },
   {
    "duration": 17,
    "start_time": "2022-05-12T05:34:18.902Z"
   },
   {
    "duration": 18,
    "start_time": "2022-05-12T05:34:18.920Z"
   },
   {
    "duration": 18,
    "start_time": "2022-05-12T05:38:55.950Z"
   },
   {
    "duration": 18,
    "start_time": "2022-05-12T05:39:43.682Z"
   },
   {
    "duration": 13,
    "start_time": "2022-05-12T05:41:41.325Z"
   },
   {
    "duration": 17,
    "start_time": "2022-05-12T05:46:01.787Z"
   },
   {
    "duration": 18,
    "start_time": "2022-05-12T05:46:33.797Z"
   },
   {
    "duration": 11,
    "start_time": "2022-05-12T05:47:04.006Z"
   },
   {
    "duration": 10,
    "start_time": "2022-05-12T05:47:26.752Z"
   },
   {
    "duration": 11,
    "start_time": "2022-05-12T05:47:34.935Z"
   },
   {
    "duration": 9,
    "start_time": "2022-05-12T05:47:54.674Z"
   },
   {
    "duration": 5,
    "start_time": "2022-05-12T05:48:01.945Z"
   },
   {
    "duration": 6,
    "start_time": "2022-05-12T05:48:34.750Z"
   },
   {
    "duration": 125,
    "start_time": "2022-05-12T05:48:54.743Z"
   },
   {
    "duration": 145,
    "start_time": "2022-05-12T05:49:03.359Z"
   },
   {
    "duration": 126,
    "start_time": "2022-05-12T05:49:05.123Z"
   },
   {
    "duration": 5,
    "start_time": "2022-05-12T05:49:07.504Z"
   },
   {
    "duration": 123,
    "start_time": "2022-05-12T05:49:17.790Z"
   },
   {
    "duration": 5,
    "start_time": "2022-05-12T05:49:24.958Z"
   },
   {
    "duration": 7,
    "start_time": "2022-05-12T05:50:10.595Z"
   },
   {
    "duration": 24,
    "start_time": "2022-05-12T05:50:18.143Z"
   },
   {
    "duration": 625,
    "start_time": "2022-05-12T05:52:25.194Z"
   },
   {
    "duration": 610,
    "start_time": "2022-05-12T05:52:58.179Z"
   },
   {
    "duration": 541,
    "start_time": "2022-05-12T05:53:24.305Z"
   },
   {
    "duration": 11,
    "start_time": "2022-05-12T05:53:41.220Z"
   },
   {
    "duration": 519,
    "start_time": "2022-05-12T05:53:50.690Z"
   },
   {
    "duration": 17,
    "start_time": "2022-05-12T05:54:13.878Z"
   },
   {
    "duration": 17,
    "start_time": "2022-05-12T05:56:08.069Z"
   },
   {
    "duration": 15,
    "start_time": "2022-05-12T05:56:27.619Z"
   },
   {
    "duration": 15,
    "start_time": "2022-05-12T05:56:31.979Z"
   },
   {
    "duration": 17,
    "start_time": "2022-05-12T06:02:58.887Z"
   },
   {
    "duration": 13,
    "start_time": "2022-05-12T06:03:13.443Z"
   },
   {
    "duration": 1485,
    "start_time": "2022-05-12T06:03:30.908Z"
   },
   {
    "duration": 21,
    "start_time": "2022-05-12T06:03:32.395Z"
   },
   {
    "duration": 18,
    "start_time": "2022-05-12T06:03:32.418Z"
   },
   {
    "duration": 8,
    "start_time": "2022-05-12T06:03:32.438Z"
   },
   {
    "duration": 32,
    "start_time": "2022-05-12T06:03:32.468Z"
   },
   {
    "duration": 17,
    "start_time": "2022-05-12T06:03:32.502Z"
   },
   {
    "duration": 122,
    "start_time": "2022-05-12T06:03:32.521Z"
   },
   {
    "duration": 0,
    "start_time": "2022-05-12T06:03:32.645Z"
   },
   {
    "duration": 1,
    "start_time": "2022-05-12T06:03:32.646Z"
   },
   {
    "duration": 16,
    "start_time": "2022-05-12T06:04:09.835Z"
   },
   {
    "duration": 11,
    "start_time": "2022-05-12T06:04:27.293Z"
   },
   {
    "duration": 16,
    "start_time": "2022-05-12T06:04:57.478Z"
   },
   {
    "duration": 1658,
    "start_time": "2022-05-12T06:05:06.525Z"
   },
   {
    "duration": 26,
    "start_time": "2022-05-12T06:05:08.188Z"
   },
   {
    "duration": 24,
    "start_time": "2022-05-12T06:05:08.216Z"
   },
   {
    "duration": 18,
    "start_time": "2022-05-12T06:05:08.243Z"
   },
   {
    "duration": 31,
    "start_time": "2022-05-12T06:05:08.272Z"
   },
   {
    "duration": 25,
    "start_time": "2022-05-12T06:05:08.305Z"
   },
   {
    "duration": 21,
    "start_time": "2022-05-12T06:05:08.332Z"
   },
   {
    "duration": 34,
    "start_time": "2022-05-12T06:05:08.355Z"
   },
   {
    "duration": 7,
    "start_time": "2022-05-12T06:12:57.029Z"
   },
   {
    "duration": 20,
    "start_time": "2022-05-12T06:13:01.076Z"
   },
   {
    "duration": 24,
    "start_time": "2022-05-12T06:13:10.692Z"
   },
   {
    "duration": 3,
    "start_time": "2022-05-12T06:14:58.510Z"
   },
   {
    "duration": 17,
    "start_time": "2022-05-12T06:15:02.229Z"
   },
   {
    "duration": 211,
    "start_time": "2022-05-12T06:15:58.300Z"
   },
   {
    "duration": 7,
    "start_time": "2022-05-12T06:16:32.772Z"
   },
   {
    "duration": 4,
    "start_time": "2022-05-12T06:17:18.932Z"
   },
   {
    "duration": 19,
    "start_time": "2022-05-12T06:17:21.487Z"
   },
   {
    "duration": 1528,
    "start_time": "2022-05-12T06:17:49.203Z"
   },
   {
    "duration": 20,
    "start_time": "2022-05-12T06:17:50.734Z"
   },
   {
    "duration": 29,
    "start_time": "2022-05-12T06:17:50.757Z"
   },
   {
    "duration": 6,
    "start_time": "2022-05-12T06:17:50.790Z"
   },
   {
    "duration": 29,
    "start_time": "2022-05-12T06:17:50.798Z"
   },
   {
    "duration": 14,
    "start_time": "2022-05-12T06:17:50.829Z"
   },
   {
    "duration": 30,
    "start_time": "2022-05-12T06:17:50.846Z"
   },
   {
    "duration": 26,
    "start_time": "2022-05-12T06:17:50.883Z"
   },
   {
    "duration": 4,
    "start_time": "2022-05-12T06:17:50.911Z"
   },
   {
    "duration": 175,
    "start_time": "2022-05-12T06:17:50.918Z"
   },
   {
    "duration": 11,
    "start_time": "2022-05-12T06:24:04.784Z"
   },
   {
    "duration": 1251,
    "start_time": "2022-05-12T06:24:16.967Z"
   },
   {
    "duration": 17,
    "start_time": "2022-05-12T06:24:18.220Z"
   },
   {
    "duration": 14,
    "start_time": "2022-05-12T06:24:18.238Z"
   },
   {
    "duration": 4,
    "start_time": "2022-05-12T06:24:18.254Z"
   },
   {
    "duration": 4,
    "start_time": "2022-05-12T06:24:18.267Z"
   },
   {
    "duration": 15,
    "start_time": "2022-05-12T06:24:18.273Z"
   },
   {
    "duration": 7,
    "start_time": "2022-05-12T06:24:18.290Z"
   },
   {
    "duration": 21,
    "start_time": "2022-05-12T06:24:18.299Z"
   },
   {
    "duration": 3,
    "start_time": "2022-05-12T06:24:18.322Z"
   },
   {
    "duration": 116,
    "start_time": "2022-05-12T06:24:18.327Z"
   },
   {
    "duration": 13,
    "start_time": "2022-05-12T06:25:37.381Z"
   },
   {
    "duration": 10,
    "start_time": "2022-05-12T06:26:09.530Z"
   },
   {
    "duration": 1322,
    "start_time": "2022-05-17T10:16:54.467Z"
   },
   {
    "duration": 15,
    "start_time": "2022-05-17T10:16:55.791Z"
   },
   {
    "duration": 13,
    "start_time": "2022-05-17T10:16:55.808Z"
   },
   {
    "duration": 9,
    "start_time": "2022-05-17T10:16:55.823Z"
   },
   {
    "duration": 5,
    "start_time": "2022-05-17T10:16:55.833Z"
   },
   {
    "duration": 8,
    "start_time": "2022-05-17T10:16:55.840Z"
   },
   {
    "duration": 17,
    "start_time": "2022-05-17T10:16:55.849Z"
   },
   {
    "duration": 7,
    "start_time": "2022-05-17T10:16:57.053Z"
   },
   {
    "duration": 14,
    "start_time": "2022-05-17T10:16:57.063Z"
   },
   {
    "duration": 13,
    "start_time": "2022-05-17T10:16:57.079Z"
   },
   {
    "duration": 6,
    "start_time": "2022-05-17T10:16:57.094Z"
   },
   {
    "duration": 19,
    "start_time": "2022-05-17T10:16:57.102Z"
   },
   {
    "duration": 50,
    "start_time": "2022-05-17T10:16:57.122Z"
   },
   {
    "duration": 223,
    "start_time": "2022-05-17T10:16:57.174Z"
   },
   {
    "duration": 9,
    "start_time": "2022-05-17T10:16:57.399Z"
   },
   {
    "duration": 284,
    "start_time": "2022-05-17T10:16:57.410Z"
   },
   {
    "duration": 4,
    "start_time": "2022-05-17T10:16:57.696Z"
   },
   {
    "duration": 18,
    "start_time": "2022-05-17T10:16:57.702Z"
   },
   {
    "duration": 344,
    "start_time": "2022-05-17T10:16:57.721Z"
   },
   {
    "duration": 13,
    "start_time": "2022-05-17T10:16:58.066Z"
   },
   {
    "duration": 192,
    "start_time": "2022-05-17T10:16:58.080Z"
   },
   {
    "duration": 8,
    "start_time": "2022-05-17T10:16:58.274Z"
   },
   {
    "duration": 137,
    "start_time": "2022-05-17T10:16:58.601Z"
   },
   {
    "duration": 141,
    "start_time": "2022-05-17T10:16:59.244Z"
   },
   {
    "duration": 6,
    "start_time": "2022-05-17T10:16:59.387Z"
   },
   {
    "duration": 11,
    "start_time": "2022-05-17T10:16:59.394Z"
   },
   {
    "duration": 5,
    "start_time": "2022-05-17T10:16:59.834Z"
   },
   {
    "duration": 208,
    "start_time": "2022-05-17T10:17:00.000Z"
   },
   {
    "duration": 138,
    "start_time": "2022-05-17T10:17:01.579Z"
   },
   {
    "duration": 7,
    "start_time": "2022-05-17T10:17:01.972Z"
   },
   {
    "duration": 392,
    "start_time": "2022-05-17T10:17:02.013Z"
   },
   {
    "duration": 320,
    "start_time": "2022-05-17T10:17:02.407Z"
   },
   {
    "duration": 147,
    "start_time": "2022-05-17T10:17:02.729Z"
   },
   {
    "duration": 8,
    "start_time": "2022-05-17T10:17:02.878Z"
   },
   {
    "duration": 18,
    "start_time": "2022-05-17T10:17:02.888Z"
   },
   {
    "duration": 12,
    "start_time": "2022-05-17T10:17:02.908Z"
   },
   {
    "duration": 8,
    "start_time": "2022-05-17T10:17:02.921Z"
   },
   {
    "duration": 8,
    "start_time": "2022-05-17T10:17:02.931Z"
   },
   {
    "duration": 24,
    "start_time": "2022-05-17T10:17:02.940Z"
   },
   {
    "duration": 11,
    "start_time": "2022-05-17T10:17:02.967Z"
   },
   {
    "duration": 13,
    "start_time": "2022-05-17T10:17:02.979Z"
   },
   {
    "duration": 14,
    "start_time": "2022-05-17T10:17:02.993Z"
   },
   {
    "duration": 162,
    "start_time": "2022-05-17T10:17:03.009Z"
   },
   {
    "duration": 7,
    "start_time": "2022-05-17T10:17:03.172Z"
   },
   {
    "duration": 13,
    "start_time": "2022-05-17T10:17:03.180Z"
   },
   {
    "duration": 11,
    "start_time": "2022-05-17T10:17:03.194Z"
   },
   {
    "duration": 175,
    "start_time": "2022-05-17T10:17:03.207Z"
   },
   {
    "duration": 5,
    "start_time": "2022-05-17T10:17:03.384Z"
   },
   {
    "duration": 12,
    "start_time": "2022-05-17T10:17:03.390Z"
   },
   {
    "duration": 8,
    "start_time": "2022-05-17T10:17:03.403Z"
   },
   {
    "duration": 19,
    "start_time": "2022-05-17T10:37:37.989Z"
   },
   {
    "duration": 3184,
    "start_time": "2022-05-17T11:22:59.431Z"
   },
   {
    "duration": 5,
    "start_time": "2022-05-17T11:23:23.875Z"
   },
   {
    "duration": 22,
    "start_time": "2022-05-17T11:33:56.438Z"
   },
   {
    "duration": 10,
    "start_time": "2022-05-17T11:34:50.894Z"
   },
   {
    "duration": 2451,
    "start_time": "2022-05-17T11:45:59.777Z"
   },
   {
    "duration": 5,
    "start_time": "2022-05-17T11:46:41.519Z"
   },
   {
    "duration": 347,
    "start_time": "2022-05-17T11:46:59.748Z"
   },
   {
    "duration": 276,
    "start_time": "2022-05-17T11:47:11.502Z"
   },
   {
    "duration": 283,
    "start_time": "2022-05-17T11:47:19.826Z"
   },
   {
    "duration": 280,
    "start_time": "2022-05-17T11:47:52.533Z"
   },
   {
    "duration": 225,
    "start_time": "2022-05-17T11:48:20.006Z"
   },
   {
    "duration": 273,
    "start_time": "2022-05-17T11:48:44.537Z"
   },
   {
    "duration": 490,
    "start_time": "2022-05-17T11:48:57.183Z"
   },
   {
    "duration": 275,
    "start_time": "2022-05-17T11:49:04.128Z"
   },
   {
    "duration": 241,
    "start_time": "2022-05-17T11:49:20.045Z"
   },
   {
    "duration": 1371,
    "start_time": "2022-05-21T08:07:10.291Z"
   },
   {
    "duration": 205,
    "start_time": "2022-05-21T08:07:12.399Z"
   },
   {
    "duration": 1000,
    "start_time": "2022-05-21T08:31:14.463Z"
   },
   {
    "duration": 1172,
    "start_time": "2022-05-21T08:31:40.261Z"
   },
   {
    "duration": 69,
    "start_time": "2022-05-21T08:31:41.436Z"
   },
   {
    "duration": 16,
    "start_time": "2022-05-21T08:31:41.507Z"
   },
   {
    "duration": 14,
    "start_time": "2022-05-21T08:31:41.525Z"
   },
   {
    "duration": 10,
    "start_time": "2022-05-21T08:31:41.541Z"
   },
   {
    "duration": 34,
    "start_time": "2022-05-21T08:31:41.553Z"
   },
   {
    "duration": 15,
    "start_time": "2022-05-21T08:31:41.589Z"
   },
   {
    "duration": 18,
    "start_time": "2022-05-21T08:31:41.606Z"
   },
   {
    "duration": 7,
    "start_time": "2022-05-21T08:31:41.628Z"
   },
   {
    "duration": 11,
    "start_time": "2022-05-21T08:31:41.637Z"
   },
   {
    "duration": 13,
    "start_time": "2022-05-21T08:31:41.650Z"
   },
   {
    "duration": 27,
    "start_time": "2022-05-21T08:31:41.665Z"
   },
   {
    "duration": 12,
    "start_time": "2022-05-21T08:31:41.694Z"
   },
   {
    "duration": 21,
    "start_time": "2022-05-21T08:31:41.710Z"
   },
   {
    "duration": 19,
    "start_time": "2022-05-21T08:31:41.732Z"
   },
   {
    "duration": 222,
    "start_time": "2022-05-21T08:31:41.784Z"
   },
   {
    "duration": 10,
    "start_time": "2022-05-21T08:31:42.008Z"
   },
   {
    "duration": 381,
    "start_time": "2022-05-21T08:31:42.019Z"
   },
   {
    "duration": 3,
    "start_time": "2022-05-21T08:31:42.402Z"
   },
   {
    "duration": 38,
    "start_time": "2022-05-21T08:31:42.407Z"
   },
   {
    "duration": 367,
    "start_time": "2022-05-21T08:31:42.447Z"
   },
   {
    "duration": 18,
    "start_time": "2022-05-21T08:31:42.816Z"
   },
   {
    "duration": 212,
    "start_time": "2022-05-21T08:31:42.835Z"
   },
   {
    "duration": 9,
    "start_time": "2022-05-21T08:31:43.049Z"
   },
   {
    "duration": 177,
    "start_time": "2022-05-21T08:31:43.059Z"
   },
   {
    "duration": 165,
    "start_time": "2022-05-21T08:31:43.237Z"
   },
   {
    "duration": 6,
    "start_time": "2022-05-21T08:31:43.403Z"
   },
   {
    "duration": 13,
    "start_time": "2022-05-21T08:31:43.411Z"
   },
   {
    "duration": 5,
    "start_time": "2022-05-21T08:31:43.426Z"
   },
   {
    "duration": 205,
    "start_time": "2022-05-21T08:31:43.433Z"
   },
   {
    "duration": 186,
    "start_time": "2022-05-21T08:31:43.640Z"
   },
   {
    "duration": 8,
    "start_time": "2022-05-21T08:31:43.828Z"
   },
   {
    "duration": 427,
    "start_time": "2022-05-21T08:31:43.838Z"
   },
   {
    "duration": 491,
    "start_time": "2022-05-21T08:31:44.268Z"
   },
   {
    "duration": 169,
    "start_time": "2022-05-21T08:31:44.761Z"
   },
   {
    "duration": 8,
    "start_time": "2022-05-21T08:31:44.932Z"
   },
   {
    "duration": 9,
    "start_time": "2022-05-21T08:31:44.942Z"
   },
   {
    "duration": 34,
    "start_time": "2022-05-21T08:31:44.952Z"
   },
   {
    "duration": 10,
    "start_time": "2022-05-21T08:31:44.988Z"
   },
   {
    "duration": 10,
    "start_time": "2022-05-21T08:31:45.000Z"
   },
   {
    "duration": 10,
    "start_time": "2022-05-21T08:31:45.016Z"
   },
   {
    "duration": 18,
    "start_time": "2022-05-21T08:31:45.029Z"
   },
   {
    "duration": 45,
    "start_time": "2022-05-21T08:31:45.049Z"
   },
   {
    "duration": 13,
    "start_time": "2022-05-21T08:31:45.096Z"
   },
   {
    "duration": 200,
    "start_time": "2022-05-21T08:31:45.111Z"
   },
   {
    "duration": 7,
    "start_time": "2022-05-21T08:31:45.313Z"
   },
   {
    "duration": 9,
    "start_time": "2022-05-21T08:31:45.321Z"
   },
   {
    "duration": 9,
    "start_time": "2022-05-21T08:31:45.333Z"
   },
   {
    "duration": 225,
    "start_time": "2022-05-21T08:31:45.344Z"
   },
   {
    "duration": 14,
    "start_time": "2022-05-21T08:31:45.571Z"
   },
   {
    "duration": 26,
    "start_time": "2022-05-21T08:31:45.586Z"
   },
   {
    "duration": 14,
    "start_time": "2022-05-21T08:31:45.614Z"
   },
   {
    "duration": 24,
    "start_time": "2022-05-21T08:34:59.382Z"
   },
   {
    "duration": 227,
    "start_time": "2022-05-21T08:39:53.865Z"
   },
   {
    "duration": 308,
    "start_time": "2022-05-21T08:42:41.057Z"
   },
   {
    "duration": 9,
    "start_time": "2022-05-21T08:46:45.613Z"
   },
   {
    "duration": 251,
    "start_time": "2022-05-21T08:46:56.875Z"
   },
   {
    "duration": 4,
    "start_time": "2022-05-21T08:48:15.564Z"
   },
   {
    "duration": 21,
    "start_time": "2022-05-21T08:48:18.786Z"
   },
   {
    "duration": 302,
    "start_time": "2022-05-21T08:48:53.477Z"
   },
   {
    "duration": 486,
    "start_time": "2022-05-21T08:50:08.066Z"
   },
   {
    "duration": 452,
    "start_time": "2022-05-21T08:50:21.456Z"
   },
   {
    "duration": 12,
    "start_time": "2022-05-21T09:07:03.321Z"
   },
   {
    "duration": 179,
    "start_time": "2022-05-21T09:07:25.003Z"
   },
   {
    "duration": 11,
    "start_time": "2022-05-21T10:01:04.705Z"
   },
   {
    "duration": 13,
    "start_time": "2022-05-21T10:09:17.856Z"
   },
   {
    "duration": 1146,
    "start_time": "2022-05-21T10:40:44.927Z"
   },
   {
    "duration": 70,
    "start_time": "2022-05-21T10:40:46.075Z"
   },
   {
    "duration": 17,
    "start_time": "2022-05-21T10:40:46.147Z"
   },
   {
    "duration": 37,
    "start_time": "2022-05-21T10:40:46.166Z"
   },
   {
    "duration": 9,
    "start_time": "2022-05-21T10:40:46.205Z"
   },
   {
    "duration": 5,
    "start_time": "2022-05-21T10:40:46.216Z"
   },
   {
    "duration": 6,
    "start_time": "2022-05-21T10:40:46.223Z"
   },
   {
    "duration": 14,
    "start_time": "2022-05-21T10:40:46.231Z"
   },
   {
    "duration": 5,
    "start_time": "2022-05-21T10:40:46.247Z"
   },
   {
    "duration": 29,
    "start_time": "2022-05-21T10:40:46.256Z"
   },
   {
    "duration": 11,
    "start_time": "2022-05-21T10:40:46.287Z"
   },
   {
    "duration": 9,
    "start_time": "2022-05-21T10:40:46.299Z"
   },
   {
    "duration": 10,
    "start_time": "2022-05-21T10:40:46.310Z"
   },
   {
    "duration": 18,
    "start_time": "2022-05-21T10:40:46.323Z"
   },
   {
    "duration": 50,
    "start_time": "2022-05-21T10:40:46.342Z"
   },
   {
    "duration": 221,
    "start_time": "2022-05-21T10:40:46.393Z"
   },
   {
    "duration": 8,
    "start_time": "2022-05-21T10:40:46.616Z"
   },
   {
    "duration": 302,
    "start_time": "2022-05-21T10:40:46.625Z"
   },
   {
    "duration": 4,
    "start_time": "2022-05-21T10:40:46.929Z"
   },
   {
    "duration": 19,
    "start_time": "2022-05-21T10:40:46.935Z"
   },
   {
    "duration": 313,
    "start_time": "2022-05-21T10:40:46.956Z"
   },
   {
    "duration": 21,
    "start_time": "2022-05-21T10:40:47.271Z"
   },
   {
    "duration": 202,
    "start_time": "2022-05-21T10:40:47.293Z"
   },
   {
    "duration": 6,
    "start_time": "2022-05-21T10:40:47.497Z"
   },
   {
    "duration": 166,
    "start_time": "2022-05-21T10:40:47.505Z"
   },
   {
    "duration": 185,
    "start_time": "2022-05-21T10:40:47.673Z"
   },
   {
    "duration": 7,
    "start_time": "2022-05-21T10:40:47.860Z"
   },
   {
    "duration": 19,
    "start_time": "2022-05-21T10:40:47.872Z"
   },
   {
    "duration": 7,
    "start_time": "2022-05-21T10:40:47.893Z"
   },
   {
    "duration": 208,
    "start_time": "2022-05-21T10:40:47.902Z"
   },
   {
    "duration": 179,
    "start_time": "2022-05-21T10:40:48.112Z"
   },
   {
    "duration": 8,
    "start_time": "2022-05-21T10:40:48.292Z"
   },
   {
    "duration": 453,
    "start_time": "2022-05-21T10:40:48.301Z"
   },
   {
    "duration": 409,
    "start_time": "2022-05-21T10:40:48.755Z"
   },
   {
    "duration": 148,
    "start_time": "2022-05-21T10:40:49.166Z"
   },
   {
    "duration": 7,
    "start_time": "2022-05-21T10:40:49.316Z"
   },
   {
    "duration": 9,
    "start_time": "2022-05-21T10:40:49.324Z"
   },
   {
    "duration": 9,
    "start_time": "2022-05-21T10:40:49.334Z"
   },
   {
    "duration": 6,
    "start_time": "2022-05-21T10:40:49.344Z"
   },
   {
    "duration": 37,
    "start_time": "2022-05-21T10:40:49.352Z"
   },
   {
    "duration": 7,
    "start_time": "2022-05-21T10:40:49.391Z"
   },
   {
    "duration": 11,
    "start_time": "2022-05-21T10:40:49.400Z"
   },
   {
    "duration": 11,
    "start_time": "2022-05-21T10:40:49.412Z"
   },
   {
    "duration": 9,
    "start_time": "2022-05-21T10:40:49.425Z"
   },
   {
    "duration": 211,
    "start_time": "2022-05-21T10:40:49.435Z"
   },
   {
    "duration": 7,
    "start_time": "2022-05-21T10:40:49.648Z"
   },
   {
    "duration": 6,
    "start_time": "2022-05-21T10:40:49.657Z"
   },
   {
    "duration": 37,
    "start_time": "2022-05-21T10:40:49.664Z"
   },
   {
    "duration": 192,
    "start_time": "2022-05-21T10:40:49.703Z"
   },
   {
    "duration": 6,
    "start_time": "2022-05-21T10:40:49.897Z"
   },
   {
    "duration": 10,
    "start_time": "2022-05-21T10:40:49.905Z"
   },
   {
    "duration": 9,
    "start_time": "2022-05-21T10:40:49.916Z"
   },
   {
    "duration": 7,
    "start_time": "2022-05-21T10:43:30.311Z"
   },
   {
    "duration": 158,
    "start_time": "2022-05-21T10:43:32.770Z"
   },
   {
    "duration": 168,
    "start_time": "2022-05-21T10:43:35.963Z"
   },
   {
    "duration": 6,
    "start_time": "2022-05-21T10:43:38.607Z"
   },
   {
    "duration": 37,
    "start_time": "2022-05-21T10:57:59.032Z"
   },
   {
    "duration": 1152,
    "start_time": "2022-05-21T10:58:31.882Z"
   },
   {
    "duration": 73,
    "start_time": "2022-05-21T10:58:33.036Z"
   },
   {
    "duration": 16,
    "start_time": "2022-05-21T10:58:33.110Z"
   },
   {
    "duration": 18,
    "start_time": "2022-05-21T10:58:33.128Z"
   },
   {
    "duration": 15,
    "start_time": "2022-05-21T10:58:33.147Z"
   },
   {
    "duration": 20,
    "start_time": "2022-05-21T10:58:33.164Z"
   },
   {
    "duration": 3,
    "start_time": "2022-05-21T10:58:33.186Z"
   },
   {
    "duration": 15,
    "start_time": "2022-05-21T10:58:33.190Z"
   },
   {
    "duration": 4,
    "start_time": "2022-05-21T10:58:33.207Z"
   },
   {
    "duration": 7,
    "start_time": "2022-05-21T10:58:33.213Z"
   },
   {
    "duration": 10,
    "start_time": "2022-05-21T10:58:33.221Z"
   },
   {
    "duration": 8,
    "start_time": "2022-05-21T10:58:33.232Z"
   },
   {
    "duration": 52,
    "start_time": "2022-05-21T10:58:33.241Z"
   },
   {
    "duration": 17,
    "start_time": "2022-05-21T10:58:33.295Z"
   },
   {
    "duration": 18,
    "start_time": "2022-05-21T10:58:33.314Z"
   },
   {
    "duration": 240,
    "start_time": "2022-05-21T10:58:33.334Z"
   },
   {
    "duration": 14,
    "start_time": "2022-05-21T10:58:33.575Z"
   },
   {
    "duration": 279,
    "start_time": "2022-05-21T10:58:33.591Z"
   },
   {
    "duration": 3,
    "start_time": "2022-05-21T10:58:33.872Z"
   },
   {
    "duration": 16,
    "start_time": "2022-05-21T10:58:33.883Z"
   },
   {
    "duration": 311,
    "start_time": "2022-05-21T10:58:33.900Z"
   },
   {
    "duration": 11,
    "start_time": "2022-05-21T10:58:34.213Z"
   },
   {
    "duration": 201,
    "start_time": "2022-05-21T10:58:34.226Z"
   },
   {
    "duration": 7,
    "start_time": "2022-05-21T10:58:34.428Z"
   },
   {
    "duration": 170,
    "start_time": "2022-05-21T10:58:34.436Z"
   },
   {
    "duration": 185,
    "start_time": "2022-05-21T10:58:34.608Z"
   },
   {
    "duration": 5,
    "start_time": "2022-05-21T10:58:34.795Z"
   },
   {
    "duration": 9,
    "start_time": "2022-05-21T10:58:34.803Z"
   },
   {
    "duration": 180,
    "start_time": "2022-05-21T10:58:34.813Z"
   },
   {
    "duration": 178,
    "start_time": "2022-05-21T10:58:34.994Z"
   },
   {
    "duration": 9,
    "start_time": "2022-05-21T10:58:35.174Z"
   },
   {
    "duration": 12,
    "start_time": "2022-05-21T10:58:35.185Z"
   },
   {
    "duration": 164,
    "start_time": "2022-05-21T10:58:35.199Z"
   },
   {
    "duration": 154,
    "start_time": "2022-05-21T10:58:35.365Z"
   },
   {
    "duration": 6,
    "start_time": "2022-05-21T10:58:35.521Z"
   },
   {
    "duration": 8,
    "start_time": "2022-05-21T10:58:35.529Z"
   },
   {
    "duration": 6,
    "start_time": "2022-05-21T10:58:35.538Z"
   },
   {
    "duration": 170,
    "start_time": "2022-05-21T10:58:35.545Z"
   },
   {
    "duration": 169,
    "start_time": "2022-05-21T10:58:35.717Z"
   },
   {
    "duration": 8,
    "start_time": "2022-05-21T10:58:35.888Z"
   },
   {
    "duration": 541,
    "start_time": "2022-05-21T10:58:35.897Z"
   },
   {
    "duration": 341,
    "start_time": "2022-05-21T10:58:36.439Z"
   },
   {
    "duration": 165,
    "start_time": "2022-05-21T10:58:36.784Z"
   },
   {
    "duration": 10,
    "start_time": "2022-05-21T10:58:36.951Z"
   },
   {
    "duration": 27,
    "start_time": "2022-05-21T10:58:36.963Z"
   },
   {
    "duration": 8,
    "start_time": "2022-05-21T10:58:36.992Z"
   },
   {
    "duration": 12,
    "start_time": "2022-05-21T10:58:37.002Z"
   },
   {
    "duration": 9,
    "start_time": "2022-05-21T10:58:37.016Z"
   },
   {
    "duration": 9,
    "start_time": "2022-05-21T10:58:37.026Z"
   },
   {
    "duration": 48,
    "start_time": "2022-05-21T10:58:37.037Z"
   },
   {
    "duration": 16,
    "start_time": "2022-05-21T10:58:37.087Z"
   },
   {
    "duration": 13,
    "start_time": "2022-05-21T10:58:37.105Z"
   },
   {
    "duration": 220,
    "start_time": "2022-05-21T10:58:37.120Z"
   },
   {
    "duration": 6,
    "start_time": "2022-05-21T10:58:37.342Z"
   },
   {
    "duration": 8,
    "start_time": "2022-05-21T10:58:37.350Z"
   },
   {
    "duration": 24,
    "start_time": "2022-05-21T10:58:37.360Z"
   },
   {
    "duration": 192,
    "start_time": "2022-05-21T10:58:37.386Z"
   },
   {
    "duration": 7,
    "start_time": "2022-05-21T10:58:37.580Z"
   },
   {
    "duration": 12,
    "start_time": "2022-05-21T10:58:37.588Z"
   },
   {
    "duration": 10,
    "start_time": "2022-05-21T10:58:37.601Z"
   },
   {
    "duration": 60,
    "start_time": "2022-05-21T13:24:05.804Z"
   },
   {
    "duration": 1412,
    "start_time": "2022-05-21T13:24:14.329Z"
   },
   {
    "duration": 97,
    "start_time": "2022-05-21T13:24:15.743Z"
   },
   {
    "duration": 26,
    "start_time": "2022-05-21T13:24:15.841Z"
   },
   {
    "duration": 14,
    "start_time": "2022-05-21T13:24:15.870Z"
   },
   {
    "duration": 9,
    "start_time": "2022-05-21T13:24:15.886Z"
   },
   {
    "duration": 5,
    "start_time": "2022-05-21T13:24:15.896Z"
   },
   {
    "duration": 6,
    "start_time": "2022-05-21T13:24:15.903Z"
   },
   {
    "duration": 14,
    "start_time": "2022-05-21T13:24:15.910Z"
   },
   {
    "duration": 7,
    "start_time": "2022-05-21T13:24:15.926Z"
   },
   {
    "duration": 7,
    "start_time": "2022-05-21T13:24:15.959Z"
   },
   {
    "duration": 13,
    "start_time": "2022-05-21T13:24:15.968Z"
   },
   {
    "duration": 8,
    "start_time": "2022-05-21T13:24:15.983Z"
   },
   {
    "duration": 11,
    "start_time": "2022-05-21T13:24:15.993Z"
   },
   {
    "duration": 18,
    "start_time": "2022-05-21T13:24:16.006Z"
   },
   {
    "duration": 47,
    "start_time": "2022-05-21T13:24:16.025Z"
   },
   {
    "duration": 239,
    "start_time": "2022-05-21T13:24:16.074Z"
   },
   {
    "duration": 8,
    "start_time": "2022-05-21T13:24:16.316Z"
   },
   {
    "duration": 290,
    "start_time": "2022-05-21T13:24:16.326Z"
   },
   {
    "duration": 4,
    "start_time": "2022-05-21T13:24:16.618Z"
   },
   {
    "duration": 32,
    "start_time": "2022-05-21T13:24:16.624Z"
   },
   {
    "duration": 324,
    "start_time": "2022-05-21T13:24:16.659Z"
   },
   {
    "duration": 11,
    "start_time": "2022-05-21T13:24:16.985Z"
   },
   {
    "duration": 232,
    "start_time": "2022-05-21T13:24:16.998Z"
   },
   {
    "duration": 601,
    "start_time": "2022-05-21T13:24:17.232Z"
   },
   {
    "duration": 18,
    "start_time": "2022-05-21T13:24:17.835Z"
   },
   {
    "duration": 215,
    "start_time": "2022-05-21T13:24:17.855Z"
   },
   {
    "duration": 250,
    "start_time": "2022-05-21T13:24:18.073Z"
   },
   {
    "duration": 5,
    "start_time": "2022-05-21T13:24:18.329Z"
   },
   {
    "duration": 21,
    "start_time": "2022-05-21T13:24:18.336Z"
   },
   {
    "duration": 202,
    "start_time": "2022-05-21T13:24:18.358Z"
   },
   {
    "duration": 254,
    "start_time": "2022-05-21T13:24:18.568Z"
   },
   {
    "duration": 5,
    "start_time": "2022-05-21T13:24:18.824Z"
   },
   {
    "duration": 14,
    "start_time": "2022-05-21T13:24:18.830Z"
   },
   {
    "duration": 161,
    "start_time": "2022-05-21T13:24:18.852Z"
   },
   {
    "duration": 166,
    "start_time": "2022-05-21T13:24:19.014Z"
   },
   {
    "duration": 5,
    "start_time": "2022-05-21T13:24:19.182Z"
   },
   {
    "duration": 13,
    "start_time": "2022-05-21T13:24:19.189Z"
   },
   {
    "duration": 10,
    "start_time": "2022-05-21T13:24:19.204Z"
   },
   {
    "duration": 189,
    "start_time": "2022-05-21T13:24:19.216Z"
   },
   {
    "duration": 165,
    "start_time": "2022-05-21T13:24:19.407Z"
   },
   {
    "duration": 7,
    "start_time": "2022-05-21T13:24:19.574Z"
   },
   {
    "duration": 486,
    "start_time": "2022-05-21T13:24:19.582Z"
   },
   {
    "duration": 357,
    "start_time": "2022-05-21T13:24:20.070Z"
   },
   {
    "duration": 171,
    "start_time": "2022-05-21T13:24:20.429Z"
   },
   {
    "duration": 9,
    "start_time": "2022-05-21T13:24:20.601Z"
   },
   {
    "duration": 12,
    "start_time": "2022-05-21T13:24:20.612Z"
   },
   {
    "duration": 17,
    "start_time": "2022-05-21T13:24:20.625Z"
   },
   {
    "duration": 12,
    "start_time": "2022-05-21T13:24:20.655Z"
   },
   {
    "duration": 12,
    "start_time": "2022-05-21T13:24:20.669Z"
   },
   {
    "duration": 11,
    "start_time": "2022-05-21T13:24:20.683Z"
   },
   {
    "duration": 14,
    "start_time": "2022-05-21T13:24:20.696Z"
   },
   {
    "duration": 14,
    "start_time": "2022-05-21T13:24:20.712Z"
   },
   {
    "duration": 38,
    "start_time": "2022-05-21T13:24:20.728Z"
   },
   {
    "duration": 185,
    "start_time": "2022-05-21T13:24:20.769Z"
   },
   {
    "duration": 9,
    "start_time": "2022-05-21T13:24:20.955Z"
   },
   {
    "duration": 17,
    "start_time": "2022-05-21T13:24:20.965Z"
   },
   {
    "duration": 10,
    "start_time": "2022-05-21T13:24:20.984Z"
   },
   {
    "duration": 206,
    "start_time": "2022-05-21T13:24:20.995Z"
   },
   {
    "duration": 6,
    "start_time": "2022-05-21T13:24:21.203Z"
   },
   {
    "duration": 13,
    "start_time": "2022-05-21T13:24:21.211Z"
   },
   {
    "duration": 9,
    "start_time": "2022-05-21T13:24:21.226Z"
   },
   {
    "duration": 402,
    "start_time": "2022-05-21T13:31:50.906Z"
   },
   {
    "duration": 1114,
    "start_time": "2022-05-21T13:59:56.872Z"
   },
   {
    "duration": 63,
    "start_time": "2022-05-21T13:59:57.988Z"
   },
   {
    "duration": 17,
    "start_time": "2022-05-21T13:59:58.052Z"
   },
   {
    "duration": 14,
    "start_time": "2022-05-21T13:59:58.072Z"
   },
   {
    "duration": 8,
    "start_time": "2022-05-21T13:59:58.087Z"
   },
   {
    "duration": 7,
    "start_time": "2022-05-21T13:59:58.097Z"
   },
   {
    "duration": 5,
    "start_time": "2022-05-21T13:59:58.105Z"
   },
   {
    "duration": 45,
    "start_time": "2022-05-21T13:59:58.112Z"
   },
   {
    "duration": 7,
    "start_time": "2022-05-21T13:59:58.159Z"
   },
   {
    "duration": 8,
    "start_time": "2022-05-21T13:59:58.168Z"
   },
   {
    "duration": 12,
    "start_time": "2022-05-21T13:59:58.177Z"
   },
   {
    "duration": 9,
    "start_time": "2022-05-21T13:59:58.190Z"
   },
   {
    "duration": 10,
    "start_time": "2022-05-21T13:59:58.201Z"
   },
   {
    "duration": 43,
    "start_time": "2022-05-21T13:59:58.213Z"
   },
   {
    "duration": 25,
    "start_time": "2022-05-21T13:59:58.259Z"
   },
   {
    "duration": 223,
    "start_time": "2022-05-21T13:59:58.286Z"
   },
   {
    "duration": 9,
    "start_time": "2022-05-21T13:59:58.510Z"
   },
   {
    "duration": 273,
    "start_time": "2022-05-21T13:59:58.521Z"
   },
   {
    "duration": 3,
    "start_time": "2022-05-21T13:59:58.796Z"
   },
   {
    "duration": 18,
    "start_time": "2022-05-21T13:59:58.801Z"
   },
   {
    "duration": 333,
    "start_time": "2022-05-21T13:59:58.820Z"
   },
   {
    "duration": 13,
    "start_time": "2022-05-21T13:59:59.155Z"
   },
   {
    "duration": 238,
    "start_time": "2022-05-21T13:59:59.169Z"
   },
   {
    "duration": 6,
    "start_time": "2022-05-21T13:59:59.410Z"
   },
   {
    "duration": 184,
    "start_time": "2022-05-21T13:59:59.418Z"
   },
   {
    "duration": 194,
    "start_time": "2022-05-21T13:59:59.604Z"
   },
   {
    "duration": 5,
    "start_time": "2022-05-21T13:59:59.799Z"
   },
   {
    "duration": 8,
    "start_time": "2022-05-21T13:59:59.807Z"
   },
   {
    "duration": 181,
    "start_time": "2022-05-21T13:59:59.816Z"
   },
   {
    "duration": 180,
    "start_time": "2022-05-21T13:59:59.999Z"
   },
   {
    "duration": 5,
    "start_time": "2022-05-21T14:00:00.180Z"
   },
   {
    "duration": 40,
    "start_time": "2022-05-21T14:00:00.186Z"
   },
   {
    "duration": 151,
    "start_time": "2022-05-21T14:00:00.227Z"
   },
   {
    "duration": 159,
    "start_time": "2022-05-21T14:00:00.380Z"
   },
   {
    "duration": 5,
    "start_time": "2022-05-21T14:00:00.541Z"
   },
   {
    "duration": 41,
    "start_time": "2022-05-21T14:00:00.552Z"
   },
   {
    "duration": 36,
    "start_time": "2022-05-21T14:00:00.595Z"
   },
   {
    "duration": 190,
    "start_time": "2022-05-21T14:00:00.632Z"
   },
   {
    "duration": 154,
    "start_time": "2022-05-21T14:00:00.824Z"
   },
   {
    "duration": 9,
    "start_time": "2022-05-21T14:00:00.980Z"
   },
   {
    "duration": 526,
    "start_time": "2022-05-21T14:00:00.990Z"
   },
   {
    "duration": 307,
    "start_time": "2022-05-21T14:00:01.518Z"
   },
   {
    "duration": 169,
    "start_time": "2022-05-21T14:00:01.827Z"
   },
   {
    "duration": 10,
    "start_time": "2022-05-21T14:00:01.997Z"
   },
   {
    "duration": 16,
    "start_time": "2022-05-21T14:00:02.009Z"
   },
   {
    "duration": 24,
    "start_time": "2022-05-21T14:00:02.027Z"
   },
   {
    "duration": 44,
    "start_time": "2022-05-21T14:00:02.052Z"
   },
   {
    "duration": 51,
    "start_time": "2022-05-21T14:00:02.098Z"
   },
   {
    "duration": 32,
    "start_time": "2022-05-21T14:00:02.152Z"
   },
   {
    "duration": 42,
    "start_time": "2022-05-21T14:00:02.185Z"
   },
   {
    "duration": 35,
    "start_time": "2022-05-21T14:00:02.229Z"
   },
   {
    "duration": 78,
    "start_time": "2022-05-21T14:00:02.266Z"
   },
   {
    "duration": 176,
    "start_time": "2022-05-21T14:00:02.345Z"
   },
   {
    "duration": 6,
    "start_time": "2022-05-21T14:00:02.523Z"
   },
   {
    "duration": 16,
    "start_time": "2022-05-21T14:00:02.530Z"
   },
   {
    "duration": 22,
    "start_time": "2022-05-21T14:00:02.547Z"
   },
   {
    "duration": 220,
    "start_time": "2022-05-21T14:00:02.571Z"
   },
   {
    "duration": 7,
    "start_time": "2022-05-21T14:00:02.792Z"
   },
   {
    "duration": 8,
    "start_time": "2022-05-21T14:00:02.801Z"
   },
   {
    "duration": 18,
    "start_time": "2022-05-21T14:00:02.810Z"
   },
   {
    "duration": 1122,
    "start_time": "2022-05-22T06:56:10.748Z"
   },
   {
    "duration": 85,
    "start_time": "2022-05-22T06:56:11.871Z"
   },
   {
    "duration": 17,
    "start_time": "2022-05-22T06:56:11.958Z"
   },
   {
    "duration": 13,
    "start_time": "2022-05-22T06:56:11.977Z"
   },
   {
    "duration": 9,
    "start_time": "2022-05-22T06:56:11.991Z"
   },
   {
    "duration": 23,
    "start_time": "2022-05-22T06:56:12.001Z"
   },
   {
    "duration": 4,
    "start_time": "2022-05-22T06:56:12.025Z"
   },
   {
    "duration": 16,
    "start_time": "2022-05-22T06:56:12.031Z"
   },
   {
    "duration": 5,
    "start_time": "2022-05-22T06:56:12.049Z"
   },
   {
    "duration": 9,
    "start_time": "2022-05-22T06:56:12.056Z"
   },
   {
    "duration": 11,
    "start_time": "2022-05-22T06:56:12.066Z"
   },
   {
    "duration": 7,
    "start_time": "2022-05-22T06:56:12.079Z"
   },
   {
    "duration": 35,
    "start_time": "2022-05-22T06:56:12.088Z"
   },
   {
    "duration": 19,
    "start_time": "2022-05-22T06:56:12.125Z"
   },
   {
    "duration": 17,
    "start_time": "2022-05-22T06:56:12.146Z"
   },
   {
    "duration": 232,
    "start_time": "2022-05-22T06:56:12.165Z"
   },
   {
    "duration": 7,
    "start_time": "2022-05-22T06:56:12.399Z"
   },
   {
    "duration": 362,
    "start_time": "2022-05-22T06:56:12.408Z"
   },
   {
    "duration": 5,
    "start_time": "2022-05-22T06:56:12.773Z"
   },
   {
    "duration": 30,
    "start_time": "2022-05-22T06:56:12.780Z"
   },
   {
    "duration": 353,
    "start_time": "2022-05-22T06:56:12.812Z"
   },
   {
    "duration": 12,
    "start_time": "2022-05-22T06:56:13.167Z"
   },
   {
    "duration": 203,
    "start_time": "2022-05-22T06:56:13.181Z"
   },
   {
    "duration": 6,
    "start_time": "2022-05-22T06:56:13.386Z"
   },
   {
    "duration": 180,
    "start_time": "2022-05-22T06:56:13.393Z"
   },
   {
    "duration": 187,
    "start_time": "2022-05-22T06:56:13.575Z"
   },
   {
    "duration": 5,
    "start_time": "2022-05-22T06:56:13.763Z"
   },
   {
    "duration": 8,
    "start_time": "2022-05-22T06:56:13.772Z"
   },
   {
    "duration": 183,
    "start_time": "2022-05-22T06:56:13.782Z"
   },
   {
    "duration": 197,
    "start_time": "2022-05-22T06:56:13.967Z"
   },
   {
    "duration": 6,
    "start_time": "2022-05-22T06:56:14.165Z"
   },
   {
    "duration": 10,
    "start_time": "2022-05-22T06:56:14.172Z"
   },
   {
    "duration": 169,
    "start_time": "2022-05-22T06:56:14.183Z"
   },
   {
    "duration": 162,
    "start_time": "2022-05-22T06:56:14.354Z"
   },
   {
    "duration": 8,
    "start_time": "2022-05-22T06:56:14.518Z"
   },
   {
    "duration": 9,
    "start_time": "2022-05-22T06:56:14.528Z"
   },
   {
    "duration": 10,
    "start_time": "2022-05-22T06:56:14.539Z"
   },
   {
    "duration": 172,
    "start_time": "2022-05-22T06:56:14.551Z"
   },
   {
    "duration": 156,
    "start_time": "2022-05-22T06:56:14.725Z"
   },
   {
    "duration": 9,
    "start_time": "2022-05-22T06:56:14.883Z"
   },
   {
    "duration": 546,
    "start_time": "2022-05-22T06:56:14.893Z"
   },
   {
    "duration": 317,
    "start_time": "2022-05-22T06:56:15.441Z"
   },
   {
    "duration": 147,
    "start_time": "2022-05-22T06:56:15.760Z"
   },
   {
    "duration": 17,
    "start_time": "2022-05-22T06:56:15.909Z"
   },
   {
    "duration": 10,
    "start_time": "2022-05-22T06:56:15.927Z"
   },
   {
    "duration": 13,
    "start_time": "2022-05-22T06:56:15.938Z"
   },
   {
    "duration": 8,
    "start_time": "2022-05-22T06:56:15.953Z"
   },
   {
    "duration": 15,
    "start_time": "2022-05-22T06:56:15.963Z"
   },
   {
    "duration": 11,
    "start_time": "2022-05-22T06:56:15.980Z"
   },
   {
    "duration": 31,
    "start_time": "2022-05-22T06:56:15.993Z"
   },
   {
    "duration": 12,
    "start_time": "2022-05-22T06:56:16.026Z"
   },
   {
    "duration": 12,
    "start_time": "2022-05-22T06:56:16.039Z"
   },
   {
    "duration": 186,
    "start_time": "2022-05-22T06:56:16.052Z"
   },
   {
    "duration": 7,
    "start_time": "2022-05-22T06:56:16.240Z"
   },
   {
    "duration": 8,
    "start_time": "2022-05-22T06:56:16.249Z"
   },
   {
    "duration": 9,
    "start_time": "2022-05-22T06:56:16.259Z"
   },
   {
    "duration": 211,
    "start_time": "2022-05-22T06:56:16.269Z"
   },
   {
    "duration": 7,
    "start_time": "2022-05-22T06:56:16.482Z"
   },
   {
    "duration": 11,
    "start_time": "2022-05-22T06:56:16.490Z"
   },
   {
    "duration": 21,
    "start_time": "2022-05-22T06:56:16.502Z"
   },
   {
    "duration": 544,
    "start_time": "2022-05-22T06:57:36.637Z"
   },
   {
    "duration": 6,
    "start_time": "2022-05-22T06:57:44.602Z"
   },
   {
    "duration": 6,
    "start_time": "2022-05-22T06:58:16.219Z"
   },
   {
    "duration": 493,
    "start_time": "2022-05-22T06:58:35.513Z"
   },
   {
    "duration": 11,
    "start_time": "2022-05-22T07:00:12.532Z"
   },
   {
    "duration": 10,
    "start_time": "2022-05-22T07:04:42.686Z"
   },
   {
    "duration": 15,
    "start_time": "2022-05-22T07:04:48.094Z"
   },
   {
    "duration": 24,
    "start_time": "2022-05-22T07:05:14.841Z"
   },
   {
    "duration": 1350,
    "start_time": "2022-05-22T12:07:48.210Z"
   },
   {
    "duration": 112,
    "start_time": "2022-05-22T12:07:49.562Z"
   },
   {
    "duration": 20,
    "start_time": "2022-05-22T12:07:49.676Z"
   },
   {
    "duration": 13,
    "start_time": "2022-05-22T12:07:49.699Z"
   },
   {
    "duration": 7,
    "start_time": "2022-05-22T12:07:49.714Z"
   },
   {
    "duration": 25,
    "start_time": "2022-05-22T12:07:49.723Z"
   },
   {
    "duration": 13,
    "start_time": "2022-05-22T12:07:49.754Z"
   },
   {
    "duration": 18,
    "start_time": "2022-05-22T12:07:49.769Z"
   },
   {
    "duration": 5,
    "start_time": "2022-05-22T12:07:49.789Z"
   },
   {
    "duration": 7,
    "start_time": "2022-05-22T12:07:49.797Z"
   },
   {
    "duration": 10,
    "start_time": "2022-05-22T12:07:49.806Z"
   },
   {
    "duration": 15,
    "start_time": "2022-05-22T12:07:49.817Z"
   },
   {
    "duration": 31,
    "start_time": "2022-05-22T12:07:49.837Z"
   },
   {
    "duration": 17,
    "start_time": "2022-05-22T12:07:49.869Z"
   },
   {
    "duration": 17,
    "start_time": "2022-05-22T12:07:49.887Z"
   },
   {
    "duration": 218,
    "start_time": "2022-05-22T12:07:49.906Z"
   },
   {
    "duration": 11,
    "start_time": "2022-05-22T12:07:50.125Z"
   },
   {
    "duration": 299,
    "start_time": "2022-05-22T12:07:50.137Z"
   },
   {
    "duration": 3,
    "start_time": "2022-05-22T12:07:50.439Z"
   },
   {
    "duration": 31,
    "start_time": "2022-05-22T12:07:50.444Z"
   },
   {
    "duration": 314,
    "start_time": "2022-05-22T12:07:50.477Z"
   },
   {
    "duration": 14,
    "start_time": "2022-05-22T12:07:50.793Z"
   },
   {
    "duration": 214,
    "start_time": "2022-05-22T12:07:50.809Z"
   },
   {
    "duration": 16,
    "start_time": "2022-05-22T12:07:51.025Z"
   },
   {
    "duration": 168,
    "start_time": "2022-05-22T12:07:51.051Z"
   },
   {
    "duration": 194,
    "start_time": "2022-05-22T12:07:51.221Z"
   },
   {
    "duration": 22,
    "start_time": "2022-05-22T12:07:51.418Z"
   },
   {
    "duration": 24,
    "start_time": "2022-05-22T12:07:51.443Z"
   },
   {
    "duration": 169,
    "start_time": "2022-05-22T12:07:51.469Z"
   },
   {
    "duration": 168,
    "start_time": "2022-05-22T12:07:51.639Z"
   },
   {
    "duration": 5,
    "start_time": "2022-05-22T12:07:51.810Z"
   },
   {
    "duration": 23,
    "start_time": "2022-05-22T12:07:51.816Z"
   },
   {
    "duration": 162,
    "start_time": "2022-05-22T12:07:51.842Z"
   },
   {
    "duration": 162,
    "start_time": "2022-05-22T12:07:52.006Z"
   },
   {
    "duration": 5,
    "start_time": "2022-05-22T12:07:52.170Z"
   },
   {
    "duration": 7,
    "start_time": "2022-05-22T12:07:52.177Z"
   },
   {
    "duration": 7,
    "start_time": "2022-05-22T12:07:52.186Z"
   },
   {
    "duration": 176,
    "start_time": "2022-05-22T12:07:52.194Z"
   },
   {
    "duration": 174,
    "start_time": "2022-05-22T12:07:52.372Z"
   },
   {
    "duration": 8,
    "start_time": "2022-05-22T12:07:52.548Z"
   },
   {
    "duration": 577,
    "start_time": "2022-05-22T12:07:52.559Z"
   },
   {
    "duration": 322,
    "start_time": "2022-05-22T12:07:53.152Z"
   },
   {
    "duration": 159,
    "start_time": "2022-05-22T12:07:53.476Z"
   },
   {
    "duration": 12,
    "start_time": "2022-05-22T12:07:53.636Z"
   },
   {
    "duration": 22,
    "start_time": "2022-05-22T12:07:53.650Z"
   },
   {
    "duration": 12,
    "start_time": "2022-05-22T12:07:53.673Z"
   },
   {
    "duration": 11,
    "start_time": "2022-05-22T12:07:53.686Z"
   },
   {
    "duration": 17,
    "start_time": "2022-05-22T12:07:53.699Z"
   },
   {
    "duration": 7,
    "start_time": "2022-05-22T12:07:53.718Z"
   },
   {
    "duration": 49,
    "start_time": "2022-05-22T12:07:53.726Z"
   },
   {
    "duration": 11,
    "start_time": "2022-05-22T12:07:53.777Z"
   },
   {
    "duration": 12,
    "start_time": "2022-05-22T12:07:53.789Z"
   },
   {
    "duration": 181,
    "start_time": "2022-05-22T12:07:53.803Z"
   },
   {
    "duration": 8,
    "start_time": "2022-05-22T12:07:53.986Z"
   },
   {
    "duration": 10,
    "start_time": "2022-05-22T12:07:53.995Z"
   },
   {
    "duration": 30,
    "start_time": "2022-05-22T12:07:54.006Z"
   },
   {
    "duration": 216,
    "start_time": "2022-05-22T12:07:54.043Z"
   },
   {
    "duration": 8,
    "start_time": "2022-05-22T12:07:54.261Z"
   },
   {
    "duration": 11,
    "start_time": "2022-05-22T12:07:54.272Z"
   },
   {
    "duration": 12,
    "start_time": "2022-05-22T12:07:54.285Z"
   },
   {
    "duration": 39,
    "start_time": "2022-05-22T12:26:59.069Z"
   },
   {
    "duration": 1414,
    "start_time": "2022-05-25T08:22:20.520Z"
   },
   {
    "duration": 118,
    "start_time": "2022-05-25T08:22:21.936Z"
   },
   {
    "duration": 17,
    "start_time": "2022-05-25T08:22:22.056Z"
   },
   {
    "duration": 22,
    "start_time": "2022-05-25T08:22:22.076Z"
   },
   {
    "duration": 12,
    "start_time": "2022-05-25T08:22:22.100Z"
   },
   {
    "duration": 12,
    "start_time": "2022-05-25T08:22:22.114Z"
   },
   {
    "duration": 8,
    "start_time": "2022-05-25T08:22:22.128Z"
   },
   {
    "duration": 33,
    "start_time": "2022-05-25T08:22:22.138Z"
   },
   {
    "duration": 22,
    "start_time": "2022-05-25T08:22:22.173Z"
   },
   {
    "duration": 8,
    "start_time": "2022-05-25T08:22:22.198Z"
   },
   {
    "duration": 21,
    "start_time": "2022-05-25T08:22:22.208Z"
   },
   {
    "duration": 19,
    "start_time": "2022-05-25T08:22:22.231Z"
   },
   {
    "duration": 17,
    "start_time": "2022-05-25T08:22:22.252Z"
   },
   {
    "duration": 37,
    "start_time": "2022-05-25T08:22:22.271Z"
   },
   {
    "duration": 115,
    "start_time": "2022-05-25T08:22:22.310Z"
   },
   {
    "duration": 0,
    "start_time": "2022-05-25T08:22:22.428Z"
   },
   {
    "duration": 0,
    "start_time": "2022-05-25T08:22:22.429Z"
   },
   {
    "duration": 0,
    "start_time": "2022-05-25T08:22:22.430Z"
   },
   {
    "duration": 0,
    "start_time": "2022-05-25T08:22:22.431Z"
   },
   {
    "duration": 0,
    "start_time": "2022-05-25T08:22:22.433Z"
   },
   {
    "duration": 1,
    "start_time": "2022-05-25T08:22:22.433Z"
   },
   {
    "duration": 0,
    "start_time": "2022-05-25T08:22:22.435Z"
   },
   {
    "duration": 0,
    "start_time": "2022-05-25T08:22:22.436Z"
   },
   {
    "duration": 0,
    "start_time": "2022-05-25T08:22:22.437Z"
   },
   {
    "duration": 0,
    "start_time": "2022-05-25T08:22:22.438Z"
   },
   {
    "duration": 0,
    "start_time": "2022-05-25T08:22:22.439Z"
   },
   {
    "duration": 0,
    "start_time": "2022-05-25T08:22:22.439Z"
   },
   {
    "duration": 0,
    "start_time": "2022-05-25T08:22:22.441Z"
   },
   {
    "duration": 0,
    "start_time": "2022-05-25T08:22:22.465Z"
   },
   {
    "duration": 0,
    "start_time": "2022-05-25T08:22:22.466Z"
   },
   {
    "duration": 0,
    "start_time": "2022-05-25T08:22:22.468Z"
   },
   {
    "duration": 0,
    "start_time": "2022-05-25T08:22:22.469Z"
   },
   {
    "duration": 0,
    "start_time": "2022-05-25T08:22:22.470Z"
   },
   {
    "duration": 0,
    "start_time": "2022-05-25T08:22:22.471Z"
   },
   {
    "duration": 0,
    "start_time": "2022-05-25T08:22:22.472Z"
   },
   {
    "duration": 0,
    "start_time": "2022-05-25T08:22:22.474Z"
   },
   {
    "duration": 0,
    "start_time": "2022-05-25T08:22:22.475Z"
   },
   {
    "duration": 0,
    "start_time": "2022-05-25T08:22:22.476Z"
   },
   {
    "duration": 0,
    "start_time": "2022-05-25T08:22:22.477Z"
   },
   {
    "duration": 0,
    "start_time": "2022-05-25T08:22:22.478Z"
   },
   {
    "duration": 0,
    "start_time": "2022-05-25T08:22:22.479Z"
   },
   {
    "duration": 0,
    "start_time": "2022-05-25T08:22:22.481Z"
   },
   {
    "duration": 0,
    "start_time": "2022-05-25T08:22:22.482Z"
   },
   {
    "duration": 0,
    "start_time": "2022-05-25T08:22:22.483Z"
   },
   {
    "duration": 0,
    "start_time": "2022-05-25T08:22:22.484Z"
   },
   {
    "duration": 0,
    "start_time": "2022-05-25T08:22:22.484Z"
   },
   {
    "duration": 0,
    "start_time": "2022-05-25T08:22:22.486Z"
   },
   {
    "duration": 0,
    "start_time": "2022-05-25T08:22:22.486Z"
   },
   {
    "duration": 0,
    "start_time": "2022-05-25T08:22:22.487Z"
   },
   {
    "duration": 0,
    "start_time": "2022-05-25T08:22:22.488Z"
   },
   {
    "duration": 0,
    "start_time": "2022-05-25T08:22:22.489Z"
   },
   {
    "duration": 0,
    "start_time": "2022-05-25T08:22:22.490Z"
   },
   {
    "duration": 0,
    "start_time": "2022-05-25T08:22:22.491Z"
   },
   {
    "duration": 0,
    "start_time": "2022-05-25T08:22:22.492Z"
   },
   {
    "duration": 0,
    "start_time": "2022-05-25T08:22:22.493Z"
   },
   {
    "duration": 0,
    "start_time": "2022-05-25T08:22:22.494Z"
   },
   {
    "duration": 0,
    "start_time": "2022-05-25T08:22:22.495Z"
   },
   {
    "duration": 0,
    "start_time": "2022-05-25T08:22:22.496Z"
   },
   {
    "duration": 0,
    "start_time": "2022-05-25T08:22:22.497Z"
   },
   {
    "duration": 0,
    "start_time": "2022-05-25T08:22:22.498Z"
   },
   {
    "duration": 1286,
    "start_time": "2022-05-25T08:23:22.501Z"
   },
   {
    "duration": 80,
    "start_time": "2022-05-25T08:23:23.789Z"
   },
   {
    "duration": 125,
    "start_time": "2022-05-25T08:23:23.870Z"
   },
   {
    "duration": 0,
    "start_time": "2022-05-25T08:23:23.999Z"
   },
   {
    "duration": 0,
    "start_time": "2022-05-25T08:23:24.000Z"
   },
   {
    "duration": 0,
    "start_time": "2022-05-25T08:23:24.001Z"
   },
   {
    "duration": 0,
    "start_time": "2022-05-25T08:23:24.003Z"
   },
   {
    "duration": 0,
    "start_time": "2022-05-25T08:23:24.004Z"
   },
   {
    "duration": 0,
    "start_time": "2022-05-25T08:23:24.005Z"
   },
   {
    "duration": 0,
    "start_time": "2022-05-25T08:23:24.006Z"
   },
   {
    "duration": 0,
    "start_time": "2022-05-25T08:23:24.007Z"
   },
   {
    "duration": 0,
    "start_time": "2022-05-25T08:23:24.008Z"
   },
   {
    "duration": 0,
    "start_time": "2022-05-25T08:23:24.010Z"
   },
   {
    "duration": 0,
    "start_time": "2022-05-25T08:23:24.010Z"
   },
   {
    "duration": 0,
    "start_time": "2022-05-25T08:23:24.012Z"
   },
   {
    "duration": 0,
    "start_time": "2022-05-25T08:23:24.013Z"
   },
   {
    "duration": 0,
    "start_time": "2022-05-25T08:23:24.014Z"
   },
   {
    "duration": 0,
    "start_time": "2022-05-25T08:23:24.015Z"
   },
   {
    "duration": 0,
    "start_time": "2022-05-25T08:23:24.017Z"
   },
   {
    "duration": 0,
    "start_time": "2022-05-25T08:23:24.018Z"
   },
   {
    "duration": 0,
    "start_time": "2022-05-25T08:23:24.019Z"
   },
   {
    "duration": 0,
    "start_time": "2022-05-25T08:23:24.020Z"
   },
   {
    "duration": 0,
    "start_time": "2022-05-25T08:23:24.021Z"
   },
   {
    "duration": 0,
    "start_time": "2022-05-25T08:23:24.022Z"
   },
   {
    "duration": 0,
    "start_time": "2022-05-25T08:23:24.023Z"
   },
   {
    "duration": 0,
    "start_time": "2022-05-25T08:23:24.024Z"
   },
   {
    "duration": 0,
    "start_time": "2022-05-25T08:23:24.065Z"
   },
   {
    "duration": 0,
    "start_time": "2022-05-25T08:23:24.069Z"
   },
   {
    "duration": 0,
    "start_time": "2022-05-25T08:23:24.071Z"
   },
   {
    "duration": 0,
    "start_time": "2022-05-25T08:23:24.072Z"
   },
   {
    "duration": 0,
    "start_time": "2022-05-25T08:23:24.073Z"
   },
   {
    "duration": 0,
    "start_time": "2022-05-25T08:23:24.074Z"
   },
   {
    "duration": 0,
    "start_time": "2022-05-25T08:23:24.075Z"
   },
   {
    "duration": 0,
    "start_time": "2022-05-25T08:23:24.077Z"
   },
   {
    "duration": 0,
    "start_time": "2022-05-25T08:23:24.078Z"
   },
   {
    "duration": 0,
    "start_time": "2022-05-25T08:23:24.079Z"
   },
   {
    "duration": 0,
    "start_time": "2022-05-25T08:23:24.080Z"
   },
   {
    "duration": 0,
    "start_time": "2022-05-25T08:23:24.082Z"
   },
   {
    "duration": 0,
    "start_time": "2022-05-25T08:23:24.083Z"
   },
   {
    "duration": 0,
    "start_time": "2022-05-25T08:23:24.084Z"
   },
   {
    "duration": 0,
    "start_time": "2022-05-25T08:23:24.085Z"
   },
   {
    "duration": 0,
    "start_time": "2022-05-25T08:23:24.087Z"
   },
   {
    "duration": 0,
    "start_time": "2022-05-25T08:23:24.087Z"
   },
   {
    "duration": 0,
    "start_time": "2022-05-25T08:23:24.089Z"
   },
   {
    "duration": 0,
    "start_time": "2022-05-25T08:23:24.090Z"
   },
   {
    "duration": 0,
    "start_time": "2022-05-25T08:23:24.091Z"
   },
   {
    "duration": 0,
    "start_time": "2022-05-25T08:23:24.092Z"
   },
   {
    "duration": 0,
    "start_time": "2022-05-25T08:23:24.093Z"
   },
   {
    "duration": 0,
    "start_time": "2022-05-25T08:23:24.094Z"
   },
   {
    "duration": 0,
    "start_time": "2022-05-25T08:23:24.095Z"
   },
   {
    "duration": 0,
    "start_time": "2022-05-25T08:23:24.096Z"
   },
   {
    "duration": 0,
    "start_time": "2022-05-25T08:23:24.097Z"
   },
   {
    "duration": 0,
    "start_time": "2022-05-25T08:23:24.098Z"
   },
   {
    "duration": 0,
    "start_time": "2022-05-25T08:23:24.100Z"
   },
   {
    "duration": 0,
    "start_time": "2022-05-25T08:23:24.101Z"
   },
   {
    "duration": 0,
    "start_time": "2022-05-25T08:23:24.166Z"
   },
   {
    "duration": 0,
    "start_time": "2022-05-25T08:23:24.167Z"
   },
   {
    "duration": 0,
    "start_time": "2022-05-25T08:23:24.168Z"
   },
   {
    "duration": 0,
    "start_time": "2022-05-25T08:23:24.169Z"
   },
   {
    "duration": 0,
    "start_time": "2022-05-25T08:23:24.171Z"
   },
   {
    "duration": 1264,
    "start_time": "2022-05-25T08:24:06.729Z"
   },
   {
    "duration": 79,
    "start_time": "2022-05-25T08:24:07.995Z"
   },
   {
    "duration": 20,
    "start_time": "2022-05-25T08:24:08.076Z"
   },
   {
    "duration": 18,
    "start_time": "2022-05-25T08:24:08.099Z"
   },
   {
    "duration": 17,
    "start_time": "2022-05-25T08:24:08.119Z"
   },
   {
    "duration": 7,
    "start_time": "2022-05-25T08:24:08.166Z"
   },
   {
    "duration": 5,
    "start_time": "2022-05-25T08:24:08.175Z"
   },
   {
    "duration": 19,
    "start_time": "2022-05-25T08:24:08.182Z"
   },
   {
    "duration": 6,
    "start_time": "2022-05-25T08:24:08.203Z"
   },
   {
    "duration": 7,
    "start_time": "2022-05-25T08:24:08.212Z"
   },
   {
    "duration": 44,
    "start_time": "2022-05-25T08:24:08.221Z"
   },
   {
    "duration": 10,
    "start_time": "2022-05-25T08:24:08.267Z"
   },
   {
    "duration": 19,
    "start_time": "2022-05-25T08:24:08.279Z"
   },
   {
    "duration": 21,
    "start_time": "2022-05-25T08:24:08.300Z"
   },
   {
    "duration": 136,
    "start_time": "2022-05-25T08:24:08.323Z"
   },
   {
    "duration": 0,
    "start_time": "2022-05-25T08:24:08.465Z"
   },
   {
    "duration": 0,
    "start_time": "2022-05-25T08:24:08.466Z"
   },
   {
    "duration": 0,
    "start_time": "2022-05-25T08:24:08.467Z"
   },
   {
    "duration": 0,
    "start_time": "2022-05-25T08:24:08.468Z"
   },
   {
    "duration": 0,
    "start_time": "2022-05-25T08:24:08.469Z"
   },
   {
    "duration": 1,
    "start_time": "2022-05-25T08:24:08.470Z"
   },
   {
    "duration": 0,
    "start_time": "2022-05-25T08:24:08.472Z"
   },
   {
    "duration": 0,
    "start_time": "2022-05-25T08:24:08.473Z"
   },
   {
    "duration": 0,
    "start_time": "2022-05-25T08:24:08.474Z"
   },
   {
    "duration": 0,
    "start_time": "2022-05-25T08:24:08.475Z"
   },
   {
    "duration": 0,
    "start_time": "2022-05-25T08:24:08.476Z"
   },
   {
    "duration": 0,
    "start_time": "2022-05-25T08:24:08.477Z"
   },
   {
    "duration": 0,
    "start_time": "2022-05-25T08:24:08.478Z"
   },
   {
    "duration": 0,
    "start_time": "2022-05-25T08:24:08.479Z"
   },
   {
    "duration": 0,
    "start_time": "2022-05-25T08:24:08.480Z"
   },
   {
    "duration": 0,
    "start_time": "2022-05-25T08:24:08.481Z"
   },
   {
    "duration": 0,
    "start_time": "2022-05-25T08:24:08.482Z"
   },
   {
    "duration": 0,
    "start_time": "2022-05-25T08:24:08.483Z"
   },
   {
    "duration": 0,
    "start_time": "2022-05-25T08:24:08.484Z"
   },
   {
    "duration": 0,
    "start_time": "2022-05-25T08:24:08.486Z"
   },
   {
    "duration": 0,
    "start_time": "2022-05-25T08:24:08.487Z"
   },
   {
    "duration": 0,
    "start_time": "2022-05-25T08:24:08.488Z"
   },
   {
    "duration": 0,
    "start_time": "2022-05-25T08:24:08.489Z"
   },
   {
    "duration": 0,
    "start_time": "2022-05-25T08:24:08.490Z"
   },
   {
    "duration": 0,
    "start_time": "2022-05-25T08:24:08.492Z"
   },
   {
    "duration": 0,
    "start_time": "2022-05-25T08:24:08.493Z"
   },
   {
    "duration": 0,
    "start_time": "2022-05-25T08:24:08.494Z"
   },
   {
    "duration": 0,
    "start_time": "2022-05-25T08:24:08.494Z"
   },
   {
    "duration": 0,
    "start_time": "2022-05-25T08:24:08.496Z"
   },
   {
    "duration": 0,
    "start_time": "2022-05-25T08:24:08.497Z"
   },
   {
    "duration": 0,
    "start_time": "2022-05-25T08:24:08.498Z"
   },
   {
    "duration": 0,
    "start_time": "2022-05-25T08:24:08.499Z"
   },
   {
    "duration": 0,
    "start_time": "2022-05-25T08:24:08.500Z"
   },
   {
    "duration": 0,
    "start_time": "2022-05-25T08:24:08.501Z"
   },
   {
    "duration": 0,
    "start_time": "2022-05-25T08:24:08.564Z"
   },
   {
    "duration": 0,
    "start_time": "2022-05-25T08:24:08.567Z"
   },
   {
    "duration": 0,
    "start_time": "2022-05-25T08:24:08.568Z"
   },
   {
    "duration": 0,
    "start_time": "2022-05-25T08:24:08.569Z"
   },
   {
    "duration": 0,
    "start_time": "2022-05-25T08:24:08.570Z"
   },
   {
    "duration": 0,
    "start_time": "2022-05-25T08:24:08.571Z"
   },
   {
    "duration": 0,
    "start_time": "2022-05-25T08:24:08.572Z"
   },
   {
    "duration": 0,
    "start_time": "2022-05-25T08:24:08.584Z"
   },
   {
    "duration": 0,
    "start_time": "2022-05-25T08:24:08.586Z"
   },
   {
    "duration": 0,
    "start_time": "2022-05-25T08:24:08.587Z"
   },
   {
    "duration": 0,
    "start_time": "2022-05-25T08:24:08.589Z"
   },
   {
    "duration": 27,
    "start_time": "2022-05-25T08:24:28.778Z"
   },
   {
    "duration": 385,
    "start_time": "2022-05-25T08:24:46.095Z"
   },
   {
    "duration": 1311,
    "start_time": "2022-05-25T08:24:53.032Z"
   },
   {
    "duration": 78,
    "start_time": "2022-05-25T08:24:54.345Z"
   },
   {
    "duration": 20,
    "start_time": "2022-05-25T08:24:54.425Z"
   },
   {
    "duration": 26,
    "start_time": "2022-05-25T08:24:54.448Z"
   },
   {
    "duration": 13,
    "start_time": "2022-05-25T08:24:54.476Z"
   },
   {
    "duration": 5,
    "start_time": "2022-05-25T08:24:54.492Z"
   },
   {
    "duration": 7,
    "start_time": "2022-05-25T08:24:54.499Z"
   },
   {
    "duration": 25,
    "start_time": "2022-05-25T08:24:54.507Z"
   },
   {
    "duration": 53,
    "start_time": "2022-05-25T08:24:54.534Z"
   },
   {
    "duration": 19,
    "start_time": "2022-05-25T08:24:54.592Z"
   },
   {
    "duration": 15,
    "start_time": "2022-05-25T08:24:54.614Z"
   },
   {
    "duration": 13,
    "start_time": "2022-05-25T08:24:54.631Z"
   },
   {
    "duration": 13,
    "start_time": "2022-05-25T08:24:54.646Z"
   },
   {
    "duration": 22,
    "start_time": "2022-05-25T08:24:54.660Z"
   },
   {
    "duration": 26,
    "start_time": "2022-05-25T08:24:54.684Z"
   },
   {
    "duration": 256,
    "start_time": "2022-05-25T08:24:54.712Z"
   },
   {
    "duration": 10,
    "start_time": "2022-05-25T08:24:54.971Z"
   },
   {
    "duration": 311,
    "start_time": "2022-05-25T08:24:54.983Z"
   },
   {
    "duration": 5,
    "start_time": "2022-05-25T08:24:55.296Z"
   },
   {
    "duration": 21,
    "start_time": "2022-05-25T08:24:55.303Z"
   },
   {
    "duration": 361,
    "start_time": "2022-05-25T08:24:55.327Z"
   },
   {
    "duration": 13,
    "start_time": "2022-05-25T08:24:55.690Z"
   },
   {
    "duration": 231,
    "start_time": "2022-05-25T08:24:55.704Z"
   },
   {
    "duration": 10,
    "start_time": "2022-05-25T08:24:55.937Z"
   },
   {
    "duration": 187,
    "start_time": "2022-05-25T08:24:55.948Z"
   },
   {
    "duration": 210,
    "start_time": "2022-05-25T08:24:56.137Z"
   },
   {
    "duration": 5,
    "start_time": "2022-05-25T08:24:56.349Z"
   },
   {
    "duration": 7,
    "start_time": "2022-05-25T08:24:56.368Z"
   },
   {
    "duration": 198,
    "start_time": "2022-05-25T08:24:56.377Z"
   },
   {
    "duration": 199,
    "start_time": "2022-05-25T08:24:56.577Z"
   },
   {
    "duration": 5,
    "start_time": "2022-05-25T08:24:56.779Z"
   },
   {
    "duration": 8,
    "start_time": "2022-05-25T08:24:56.786Z"
   },
   {
    "duration": 183,
    "start_time": "2022-05-25T08:24:56.796Z"
   },
   {
    "duration": 166,
    "start_time": "2022-05-25T08:24:56.981Z"
   },
   {
    "duration": 5,
    "start_time": "2022-05-25T08:24:57.149Z"
   },
   {
    "duration": 30,
    "start_time": "2022-05-25T08:24:57.156Z"
   },
   {
    "duration": 19,
    "start_time": "2022-05-25T08:24:57.188Z"
   },
   {
    "duration": 174,
    "start_time": "2022-05-25T08:24:57.209Z"
   },
   {
    "duration": 202,
    "start_time": "2022-05-25T08:24:57.386Z"
   },
   {
    "duration": 9,
    "start_time": "2022-05-25T08:24:57.590Z"
   },
   {
    "duration": 613,
    "start_time": "2022-05-25T08:24:57.602Z"
   },
   {
    "duration": 340,
    "start_time": "2022-05-25T08:24:58.217Z"
   },
   {
    "duration": 171,
    "start_time": "2022-05-25T08:24:58.565Z"
   },
   {
    "duration": 9,
    "start_time": "2022-05-25T08:24:58.738Z"
   },
   {
    "duration": 9,
    "start_time": "2022-05-25T08:24:58.764Z"
   },
   {
    "duration": 13,
    "start_time": "2022-05-25T08:24:58.775Z"
   },
   {
    "duration": 11,
    "start_time": "2022-05-25T08:24:58.790Z"
   },
   {
    "duration": 11,
    "start_time": "2022-05-25T08:24:58.803Z"
   },
   {
    "duration": 11,
    "start_time": "2022-05-25T08:24:58.816Z"
   },
   {
    "duration": 52,
    "start_time": "2022-05-25T08:24:58.830Z"
   },
   {
    "duration": 19,
    "start_time": "2022-05-25T08:24:58.885Z"
   },
   {
    "duration": 24,
    "start_time": "2022-05-25T08:24:58.907Z"
   },
   {
    "duration": 292,
    "start_time": "2022-05-25T08:24:58.933Z"
   },
   {
    "duration": 8,
    "start_time": "2022-05-25T08:24:59.228Z"
   },
   {
    "duration": 33,
    "start_time": "2022-05-25T08:24:59.238Z"
   },
   {
    "duration": 39,
    "start_time": "2022-05-25T08:24:59.273Z"
   },
   {
    "duration": 225,
    "start_time": "2022-05-25T08:24:59.315Z"
   },
   {
    "duration": 7,
    "start_time": "2022-05-25T08:24:59.542Z"
   },
   {
    "duration": 22,
    "start_time": "2022-05-25T08:24:59.551Z"
   },
   {
    "duration": 18,
    "start_time": "2022-05-25T08:24:59.575Z"
   },
   {
    "duration": 8,
    "start_time": "2022-05-25T08:30:18.522Z"
   },
   {
    "duration": 1343,
    "start_time": "2022-05-25T08:30:31.457Z"
   },
   {
    "duration": 91,
    "start_time": "2022-05-25T08:30:32.802Z"
   },
   {
    "duration": 29,
    "start_time": "2022-05-25T08:30:32.896Z"
   },
   {
    "duration": 23,
    "start_time": "2022-05-25T08:30:32.928Z"
   },
   {
    "duration": 19,
    "start_time": "2022-05-25T08:30:32.953Z"
   },
   {
    "duration": 22,
    "start_time": "2022-05-25T08:30:32.975Z"
   },
   {
    "duration": 11,
    "start_time": "2022-05-25T08:30:32.999Z"
   },
   {
    "duration": 21,
    "start_time": "2022-05-25T08:30:33.012Z"
   },
   {
    "duration": 9,
    "start_time": "2022-05-25T08:30:33.035Z"
   },
   {
    "duration": 10,
    "start_time": "2022-05-25T08:30:33.047Z"
   },
   {
    "duration": 23,
    "start_time": "2022-05-25T08:30:33.058Z"
   },
   {
    "duration": 10,
    "start_time": "2022-05-25T08:30:33.083Z"
   },
   {
    "duration": 15,
    "start_time": "2022-05-25T08:30:33.095Z"
   },
   {
    "duration": 20,
    "start_time": "2022-05-25T08:30:33.112Z"
   },
   {
    "duration": 55,
    "start_time": "2022-05-25T08:30:33.134Z"
   },
   {
    "duration": 254,
    "start_time": "2022-05-25T08:30:33.191Z"
   },
   {
    "duration": 10,
    "start_time": "2022-05-25T08:30:33.447Z"
   },
   {
    "duration": 338,
    "start_time": "2022-05-25T08:30:33.470Z"
   },
   {
    "duration": 3,
    "start_time": "2022-05-25T08:30:33.811Z"
   },
   {
    "duration": 26,
    "start_time": "2022-05-25T08:30:33.816Z"
   },
   {
    "duration": 397,
    "start_time": "2022-05-25T08:30:33.844Z"
   },
   {
    "duration": 33,
    "start_time": "2022-05-25T08:30:34.243Z"
   },
   {
    "duration": 243,
    "start_time": "2022-05-25T08:30:34.286Z"
   },
   {
    "duration": 9,
    "start_time": "2022-05-25T08:30:34.531Z"
   },
   {
    "duration": 249,
    "start_time": "2022-05-25T08:30:34.542Z"
   },
   {
    "duration": 234,
    "start_time": "2022-05-25T08:30:34.794Z"
   },
   {
    "duration": 6,
    "start_time": "2022-05-25T08:30:35.029Z"
   },
   {
    "duration": 12,
    "start_time": "2022-05-25T08:30:35.039Z"
   },
   {
    "duration": 219,
    "start_time": "2022-05-25T08:30:35.068Z"
   },
   {
    "duration": 233,
    "start_time": "2022-05-25T08:30:35.289Z"
   },
   {
    "duration": 8,
    "start_time": "2022-05-25T08:30:35.525Z"
   },
   {
    "duration": 23,
    "start_time": "2022-05-25T08:30:35.535Z"
   },
   {
    "duration": 195,
    "start_time": "2022-05-25T08:30:35.566Z"
   },
   {
    "duration": 190,
    "start_time": "2022-05-25T08:30:35.769Z"
   },
   {
    "duration": 20,
    "start_time": "2022-05-25T08:30:35.961Z"
   },
   {
    "duration": 10,
    "start_time": "2022-05-25T08:30:35.988Z"
   },
   {
    "duration": 20,
    "start_time": "2022-05-25T08:30:36.000Z"
   },
   {
    "duration": 207,
    "start_time": "2022-05-25T08:30:36.022Z"
   },
   {
    "duration": 208,
    "start_time": "2022-05-25T08:30:36.231Z"
   },
   {
    "duration": 8,
    "start_time": "2022-05-25T08:30:36.441Z"
   },
   {
    "duration": 976,
    "start_time": "2022-05-25T08:30:36.451Z"
   },
   {
    "duration": 695,
    "start_time": "2022-05-25T08:30:37.430Z"
   },
   {
    "duration": 194,
    "start_time": "2022-05-25T08:30:38.128Z"
   },
   {
    "duration": 9,
    "start_time": "2022-05-25T08:30:38.324Z"
   },
   {
    "duration": 34,
    "start_time": "2022-05-25T08:30:38.335Z"
   },
   {
    "duration": 26,
    "start_time": "2022-05-25T08:30:38.372Z"
   },
   {
    "duration": 32,
    "start_time": "2022-05-25T08:30:38.400Z"
   },
   {
    "duration": 20,
    "start_time": "2022-05-25T08:30:38.434Z"
   },
   {
    "duration": 29,
    "start_time": "2022-05-25T08:30:38.456Z"
   },
   {
    "duration": 31,
    "start_time": "2022-05-25T08:30:38.487Z"
   },
   {
    "duration": 32,
    "start_time": "2022-05-25T08:30:38.520Z"
   },
   {
    "duration": 46,
    "start_time": "2022-05-25T08:30:38.554Z"
   },
   {
    "duration": 215,
    "start_time": "2022-05-25T08:30:38.601Z"
   },
   {
    "duration": 7,
    "start_time": "2022-05-25T08:30:38.818Z"
   },
   {
    "duration": 24,
    "start_time": "2022-05-25T08:30:38.827Z"
   },
   {
    "duration": 68,
    "start_time": "2022-05-25T08:30:38.853Z"
   },
   {
    "duration": 279,
    "start_time": "2022-05-25T08:30:38.923Z"
   },
   {
    "duration": 10,
    "start_time": "2022-05-25T08:30:39.205Z"
   },
   {
    "duration": 20,
    "start_time": "2022-05-25T08:30:39.217Z"
   },
   {
    "duration": 28,
    "start_time": "2022-05-25T08:30:39.239Z"
   },
   {
    "duration": 1282,
    "start_time": "2022-05-25T08:32:58.202Z"
   },
   {
    "duration": 77,
    "start_time": "2022-05-25T08:32:59.487Z"
   },
   {
    "duration": 22,
    "start_time": "2022-05-25T08:32:59.566Z"
   },
   {
    "duration": 21,
    "start_time": "2022-05-25T08:32:59.591Z"
   },
   {
    "duration": 22,
    "start_time": "2022-05-25T08:32:59.615Z"
   },
   {
    "duration": 28,
    "start_time": "2022-05-25T08:32:59.638Z"
   },
   {
    "duration": 33,
    "start_time": "2022-05-25T08:32:59.669Z"
   },
   {
    "duration": 31,
    "start_time": "2022-05-25T08:32:59.704Z"
   },
   {
    "duration": 17,
    "start_time": "2022-05-25T08:32:59.737Z"
   },
   {
    "duration": 36,
    "start_time": "2022-05-25T08:32:59.757Z"
   },
   {
    "duration": 43,
    "start_time": "2022-05-25T08:32:59.795Z"
   },
   {
    "duration": 27,
    "start_time": "2022-05-25T08:32:59.840Z"
   },
   {
    "duration": 25,
    "start_time": "2022-05-25T08:32:59.869Z"
   },
   {
    "duration": 23,
    "start_time": "2022-05-25T08:32:59.896Z"
   },
   {
    "duration": 26,
    "start_time": "2022-05-25T08:32:59.921Z"
   },
   {
    "duration": 241,
    "start_time": "2022-05-25T08:32:59.948Z"
   },
   {
    "duration": 9,
    "start_time": "2022-05-25T08:33:00.192Z"
   },
   {
    "duration": 299,
    "start_time": "2022-05-25T08:33:00.203Z"
   },
   {
    "duration": 4,
    "start_time": "2022-05-25T08:33:00.505Z"
   },
   {
    "duration": 47,
    "start_time": "2022-05-25T08:33:00.511Z"
   },
   {
    "duration": 378,
    "start_time": "2022-05-25T08:33:00.560Z"
   },
   {
    "duration": 22,
    "start_time": "2022-05-25T08:33:00.943Z"
   },
   {
    "duration": 275,
    "start_time": "2022-05-25T08:33:00.967Z"
   },
   {
    "duration": 8,
    "start_time": "2022-05-25T08:33:01.243Z"
   },
   {
    "duration": 209,
    "start_time": "2022-05-25T08:33:01.264Z"
   },
   {
    "duration": 199,
    "start_time": "2022-05-25T08:33:01.475Z"
   },
   {
    "duration": 6,
    "start_time": "2022-05-25T08:33:01.676Z"
   },
   {
    "duration": 38,
    "start_time": "2022-05-25T08:33:01.686Z"
   },
   {
    "duration": 205,
    "start_time": "2022-05-25T08:33:01.726Z"
   },
   {
    "duration": 206,
    "start_time": "2022-05-25T08:33:01.933Z"
   },
   {
    "duration": 6,
    "start_time": "2022-05-25T08:33:02.142Z"
   },
   {
    "duration": 41,
    "start_time": "2022-05-25T08:33:02.149Z"
   },
   {
    "duration": 187,
    "start_time": "2022-05-25T08:33:02.192Z"
   },
   {
    "duration": 169,
    "start_time": "2022-05-25T08:33:02.381Z"
   },
   {
    "duration": 22,
    "start_time": "2022-05-25T08:33:02.552Z"
   },
   {
    "duration": 6,
    "start_time": "2022-05-25T08:33:02.577Z"
   },
   {
    "duration": 25,
    "start_time": "2022-05-25T08:33:02.585Z"
   },
   {
    "duration": 172,
    "start_time": "2022-05-25T08:33:02.612Z"
   },
   {
    "duration": 185,
    "start_time": "2022-05-25T08:33:02.785Z"
   },
   {
    "duration": 8,
    "start_time": "2022-05-25T08:33:02.972Z"
   },
   {
    "duration": 629,
    "start_time": "2022-05-25T08:33:02.982Z"
   },
   {
    "duration": 344,
    "start_time": "2022-05-25T08:33:03.614Z"
   },
   {
    "duration": 177,
    "start_time": "2022-05-25T08:33:03.960Z"
   },
   {
    "duration": 7,
    "start_time": "2022-05-25T08:33:04.139Z"
   },
   {
    "duration": 20,
    "start_time": "2022-05-25T08:33:04.148Z"
   },
   {
    "duration": 28,
    "start_time": "2022-05-25T08:33:04.170Z"
   },
   {
    "duration": 25,
    "start_time": "2022-05-25T08:33:04.200Z"
   },
   {
    "duration": 33,
    "start_time": "2022-05-25T08:33:04.227Z"
   },
   {
    "duration": 17,
    "start_time": "2022-05-25T08:33:04.262Z"
   },
   {
    "duration": 43,
    "start_time": "2022-05-25T08:33:04.281Z"
   },
   {
    "duration": 29,
    "start_time": "2022-05-25T08:33:04.326Z"
   },
   {
    "duration": 20,
    "start_time": "2022-05-25T08:33:04.356Z"
   },
   {
    "duration": 204,
    "start_time": "2022-05-25T08:33:04.378Z"
   },
   {
    "duration": 7,
    "start_time": "2022-05-25T08:33:04.585Z"
   },
   {
    "duration": 25,
    "start_time": "2022-05-25T08:33:04.594Z"
   },
   {
    "duration": 17,
    "start_time": "2022-05-25T08:33:04.621Z"
   },
   {
    "duration": 224,
    "start_time": "2022-05-25T08:33:04.640Z"
   },
   {
    "duration": 7,
    "start_time": "2022-05-25T08:33:04.866Z"
   },
   {
    "duration": 29,
    "start_time": "2022-05-25T08:33:04.875Z"
   },
   {
    "duration": 19,
    "start_time": "2022-05-25T08:33:04.906Z"
   },
   {
    "duration": 1243,
    "start_time": "2022-05-25T08:50:20.504Z"
   },
   {
    "duration": 82,
    "start_time": "2022-05-25T08:50:21.750Z"
   },
   {
    "duration": 20,
    "start_time": "2022-05-25T08:50:21.835Z"
   },
   {
    "duration": 16,
    "start_time": "2022-05-25T08:50:21.858Z"
   },
   {
    "duration": 11,
    "start_time": "2022-05-25T08:50:21.876Z"
   },
   {
    "duration": 9,
    "start_time": "2022-05-25T08:50:21.889Z"
   },
   {
    "duration": 15,
    "start_time": "2022-05-25T08:50:21.900Z"
   },
   {
    "duration": 22,
    "start_time": "2022-05-25T08:50:21.918Z"
   },
   {
    "duration": 28,
    "start_time": "2022-05-25T08:50:21.943Z"
   },
   {
    "duration": 13,
    "start_time": "2022-05-25T08:50:21.974Z"
   },
   {
    "duration": 18,
    "start_time": "2022-05-25T08:50:21.989Z"
   },
   {
    "duration": 16,
    "start_time": "2022-05-25T08:50:22.010Z"
   },
   {
    "duration": 12,
    "start_time": "2022-05-25T08:50:22.028Z"
   },
   {
    "duration": 35,
    "start_time": "2022-05-25T08:50:22.042Z"
   },
   {
    "duration": 28,
    "start_time": "2022-05-25T08:50:22.079Z"
   },
   {
    "duration": 240,
    "start_time": "2022-05-25T08:50:22.108Z"
   },
   {
    "duration": 17,
    "start_time": "2022-05-25T08:50:22.349Z"
   },
   {
    "duration": 316,
    "start_time": "2022-05-25T08:50:22.368Z"
   },
   {
    "duration": 3,
    "start_time": "2022-05-25T08:50:22.686Z"
   },
   {
    "duration": 21,
    "start_time": "2022-05-25T08:50:22.691Z"
   },
   {
    "duration": 355,
    "start_time": "2022-05-25T08:50:22.714Z"
   },
   {
    "duration": 13,
    "start_time": "2022-05-25T08:50:23.071Z"
   },
   {
    "duration": 228,
    "start_time": "2022-05-25T08:50:23.086Z"
   },
   {
    "duration": 8,
    "start_time": "2022-05-25T08:50:23.316Z"
   },
   {
    "duration": 197,
    "start_time": "2022-05-25T08:50:23.325Z"
   },
   {
    "duration": 217,
    "start_time": "2022-05-25T08:50:23.524Z"
   },
   {
    "duration": 6,
    "start_time": "2022-05-25T08:50:23.743Z"
   },
   {
    "duration": 7,
    "start_time": "2022-05-25T08:50:23.764Z"
   },
   {
    "duration": 195,
    "start_time": "2022-05-25T08:50:23.773Z"
   },
   {
    "duration": 191,
    "start_time": "2022-05-25T08:50:23.969Z"
   },
   {
    "duration": 6,
    "start_time": "2022-05-25T08:50:24.164Z"
   },
   {
    "duration": 8,
    "start_time": "2022-05-25T08:50:24.172Z"
   },
   {
    "duration": 180,
    "start_time": "2022-05-25T08:50:24.182Z"
   },
   {
    "duration": 171,
    "start_time": "2022-05-25T08:50:24.364Z"
   },
   {
    "duration": 5,
    "start_time": "2022-05-25T08:50:24.537Z"
   },
   {
    "duration": 8,
    "start_time": "2022-05-25T08:50:24.543Z"
   },
   {
    "duration": 12,
    "start_time": "2022-05-25T08:50:24.564Z"
   },
   {
    "duration": 169,
    "start_time": "2022-05-25T08:50:24.578Z"
   },
   {
    "duration": 170,
    "start_time": "2022-05-25T08:50:24.749Z"
   },
   {
    "duration": 9,
    "start_time": "2022-05-25T08:50:24.921Z"
   },
   {
    "duration": 607,
    "start_time": "2022-05-25T08:50:24.932Z"
   },
   {
    "duration": 323,
    "start_time": "2022-05-25T08:50:25.541Z"
   },
   {
    "duration": 166,
    "start_time": "2022-05-25T08:50:25.866Z"
   },
   {
    "duration": 7,
    "start_time": "2022-05-25T08:50:26.034Z"
   },
   {
    "duration": 26,
    "start_time": "2022-05-25T08:50:26.043Z"
   },
   {
    "duration": 8,
    "start_time": "2022-05-25T08:50:26.071Z"
   },
   {
    "duration": 9,
    "start_time": "2022-05-25T08:50:26.081Z"
   },
   {
    "duration": 10,
    "start_time": "2022-05-25T08:50:26.091Z"
   },
   {
    "duration": 10,
    "start_time": "2022-05-25T08:50:26.103Z"
   },
   {
    "duration": 59,
    "start_time": "2022-05-25T08:50:26.114Z"
   },
   {
    "duration": 12,
    "start_time": "2022-05-25T08:50:26.175Z"
   },
   {
    "duration": 16,
    "start_time": "2022-05-25T08:50:26.188Z"
   },
   {
    "duration": 214,
    "start_time": "2022-05-25T08:50:26.206Z"
   },
   {
    "duration": 8,
    "start_time": "2022-05-25T08:50:26.421Z"
   },
   {
    "duration": 9,
    "start_time": "2022-05-25T08:50:26.430Z"
   },
   {
    "duration": 27,
    "start_time": "2022-05-25T08:50:26.440Z"
   },
   {
    "duration": 223,
    "start_time": "2022-05-25T08:50:26.469Z"
   },
   {
    "duration": 6,
    "start_time": "2022-05-25T08:50:26.694Z"
   },
   {
    "duration": 8,
    "start_time": "2022-05-25T08:50:26.702Z"
   },
   {
    "duration": 10,
    "start_time": "2022-05-25T08:50:26.712Z"
   },
   {
    "duration": 26,
    "start_time": "2022-05-25T08:55:21.804Z"
   },
   {
    "duration": 118,
    "start_time": "2022-05-25T08:55:34.847Z"
   },
   {
    "duration": 15,
    "start_time": "2022-05-25T08:55:43.816Z"
   },
   {
    "duration": 76,
    "start_time": "2022-05-25T16:49:19.732Z"
   },
   {
    "duration": 1368,
    "start_time": "2022-05-25T16:49:41.123Z"
   },
   {
    "duration": 207,
    "start_time": "2022-05-25T16:49:42.493Z"
   },
   {
    "duration": 17,
    "start_time": "2022-05-25T16:49:42.701Z"
   },
   {
    "duration": 14,
    "start_time": "2022-05-25T16:49:42.720Z"
   },
   {
    "duration": 15,
    "start_time": "2022-05-25T16:49:42.737Z"
   },
   {
    "duration": 20,
    "start_time": "2022-05-25T16:49:42.757Z"
   },
   {
    "duration": 7,
    "start_time": "2022-05-25T16:49:42.778Z"
   },
   {
    "duration": 19,
    "start_time": "2022-05-25T16:49:42.786Z"
   },
   {
    "duration": 5,
    "start_time": "2022-05-25T16:49:42.806Z"
   },
   {
    "duration": 7,
    "start_time": "2022-05-25T16:49:42.813Z"
   },
   {
    "duration": 16,
    "start_time": "2022-05-25T16:49:42.822Z"
   },
   {
    "duration": 20,
    "start_time": "2022-05-25T16:49:42.839Z"
   },
   {
    "duration": 11,
    "start_time": "2022-05-25T16:49:42.861Z"
   },
   {
    "duration": 16,
    "start_time": "2022-05-25T16:49:42.875Z"
   },
   {
    "duration": 22,
    "start_time": "2022-05-25T16:49:42.893Z"
   },
   {
    "duration": 311,
    "start_time": "2022-05-25T16:49:42.916Z"
   },
   {
    "duration": 131,
    "start_time": "2022-05-25T16:49:43.229Z"
   },
   {
    "duration": 0,
    "start_time": "2022-05-25T16:49:43.362Z"
   },
   {
    "duration": 0,
    "start_time": "2022-05-25T16:49:43.363Z"
   },
   {
    "duration": 0,
    "start_time": "2022-05-25T16:49:43.364Z"
   },
   {
    "duration": 0,
    "start_time": "2022-05-25T16:49:43.365Z"
   },
   {
    "duration": 0,
    "start_time": "2022-05-25T16:49:43.366Z"
   },
   {
    "duration": 0,
    "start_time": "2022-05-25T16:49:43.367Z"
   },
   {
    "duration": 0,
    "start_time": "2022-05-25T16:49:43.368Z"
   },
   {
    "duration": 0,
    "start_time": "2022-05-25T16:49:43.369Z"
   },
   {
    "duration": 0,
    "start_time": "2022-05-25T16:49:43.370Z"
   },
   {
    "duration": 0,
    "start_time": "2022-05-25T16:49:43.371Z"
   },
   {
    "duration": 0,
    "start_time": "2022-05-25T16:49:43.372Z"
   },
   {
    "duration": 0,
    "start_time": "2022-05-25T16:49:43.373Z"
   },
   {
    "duration": 0,
    "start_time": "2022-05-25T16:49:43.374Z"
   },
   {
    "duration": 0,
    "start_time": "2022-05-25T16:49:43.375Z"
   },
   {
    "duration": 0,
    "start_time": "2022-05-25T16:49:43.376Z"
   },
   {
    "duration": 0,
    "start_time": "2022-05-25T16:49:43.377Z"
   },
   {
    "duration": 0,
    "start_time": "2022-05-25T16:49:43.378Z"
   },
   {
    "duration": 0,
    "start_time": "2022-05-25T16:49:43.379Z"
   },
   {
    "duration": 0,
    "start_time": "2022-05-25T16:49:43.380Z"
   },
   {
    "duration": 0,
    "start_time": "2022-05-25T16:49:43.381Z"
   },
   {
    "duration": 0,
    "start_time": "2022-05-25T16:49:43.382Z"
   },
   {
    "duration": 0,
    "start_time": "2022-05-25T16:49:43.383Z"
   },
   {
    "duration": 0,
    "start_time": "2022-05-25T16:49:43.384Z"
   },
   {
    "duration": 0,
    "start_time": "2022-05-25T16:49:43.385Z"
   },
   {
    "duration": 0,
    "start_time": "2022-05-25T16:49:43.386Z"
   },
   {
    "duration": 0,
    "start_time": "2022-05-25T16:49:43.387Z"
   },
   {
    "duration": 0,
    "start_time": "2022-05-25T16:49:43.388Z"
   },
   {
    "duration": 0,
    "start_time": "2022-05-25T16:49:43.389Z"
   },
   {
    "duration": 0,
    "start_time": "2022-05-25T16:49:43.390Z"
   },
   {
    "duration": 0,
    "start_time": "2022-05-25T16:49:43.391Z"
   },
   {
    "duration": 0,
    "start_time": "2022-05-25T16:49:43.392Z"
   },
   {
    "duration": 0,
    "start_time": "2022-05-25T16:49:43.442Z"
   },
   {
    "duration": 0,
    "start_time": "2022-05-25T16:49:43.443Z"
   },
   {
    "duration": 0,
    "start_time": "2022-05-25T16:49:43.444Z"
   },
   {
    "duration": 0,
    "start_time": "2022-05-25T16:49:43.445Z"
   },
   {
    "duration": 0,
    "start_time": "2022-05-25T16:49:43.460Z"
   },
   {
    "duration": 1,
    "start_time": "2022-05-25T16:49:43.460Z"
   },
   {
    "duration": 0,
    "start_time": "2022-05-25T16:49:43.462Z"
   },
   {
    "duration": 0,
    "start_time": "2022-05-25T16:49:43.462Z"
   },
   {
    "duration": 0,
    "start_time": "2022-05-25T16:49:43.463Z"
   },
   {
    "duration": 0,
    "start_time": "2022-05-25T16:49:43.464Z"
   },
   {
    "duration": 0,
    "start_time": "2022-05-25T16:49:43.465Z"
   },
   {
    "duration": 0,
    "start_time": "2022-05-25T16:49:43.466Z"
   },
   {
    "duration": 13,
    "start_time": "2022-05-25T16:50:04.254Z"
   },
   {
    "duration": 13,
    "start_time": "2022-05-25T16:50:17.456Z"
   },
   {
    "duration": 288,
    "start_time": "2022-05-25T16:51:33.433Z"
   },
   {
    "duration": 416,
    "start_time": "2022-05-25T16:52:03.938Z"
   },
   {
    "duration": 14,
    "start_time": "2022-05-25T16:55:28.110Z"
   },
   {
    "duration": 10,
    "start_time": "2022-05-25T16:55:45.507Z"
   },
   {
    "duration": 13,
    "start_time": "2022-05-25T16:57:21.517Z"
   },
   {
    "duration": 566,
    "start_time": "2022-05-25T16:58:14.640Z"
   },
   {
    "duration": 10,
    "start_time": "2022-05-25T16:59:25.367Z"
   },
   {
    "duration": 11,
    "start_time": "2022-05-25T16:59:34.468Z"
   },
   {
    "duration": 6,
    "start_time": "2022-05-25T17:00:04.414Z"
   },
   {
    "duration": 7,
    "start_time": "2022-05-25T17:01:10.920Z"
   },
   {
    "duration": 9,
    "start_time": "2022-05-25T17:01:17.038Z"
   },
   {
    "duration": 10,
    "start_time": "2022-05-25T17:02:57.629Z"
   },
   {
    "duration": 11,
    "start_time": "2022-05-25T17:03:12.621Z"
   },
   {
    "duration": 10,
    "start_time": "2022-05-25T17:03:20.630Z"
   },
   {
    "duration": 13,
    "start_time": "2022-05-25T17:03:31.025Z"
   },
   {
    "duration": 1582,
    "start_time": "2022-05-27T05:07:25.212Z"
   },
   {
    "duration": 147,
    "start_time": "2022-05-27T05:07:26.802Z"
   },
   {
    "duration": 39,
    "start_time": "2022-05-27T05:07:26.951Z"
   },
   {
    "duration": 20,
    "start_time": "2022-05-27T05:07:26.996Z"
   },
   {
    "duration": 10,
    "start_time": "2022-05-27T05:07:27.018Z"
   },
   {
    "duration": 5,
    "start_time": "2022-05-27T05:07:27.029Z"
   },
   {
    "duration": 13,
    "start_time": "2022-05-27T05:07:27.035Z"
   },
   {
    "duration": 61,
    "start_time": "2022-05-27T05:07:27.050Z"
   },
   {
    "duration": 12,
    "start_time": "2022-05-27T05:07:27.113Z"
   },
   {
    "duration": 10,
    "start_time": "2022-05-27T05:07:27.128Z"
   },
   {
    "duration": 28,
    "start_time": "2022-05-27T05:07:27.139Z"
   },
   {
    "duration": 21,
    "start_time": "2022-05-27T05:07:27.169Z"
   },
   {
    "duration": 18,
    "start_time": "2022-05-27T05:07:27.192Z"
   },
   {
    "duration": 23,
    "start_time": "2022-05-27T05:07:27.212Z"
   },
   {
    "duration": 35,
    "start_time": "2022-05-27T05:07:27.237Z"
   },
   {
    "duration": 245,
    "start_time": "2022-05-27T05:07:27.273Z"
   },
   {
    "duration": 7,
    "start_time": "2022-05-27T05:07:27.520Z"
   },
   {
    "duration": 372,
    "start_time": "2022-05-27T05:07:27.528Z"
   },
   {
    "duration": 4,
    "start_time": "2022-05-27T05:07:27.902Z"
   },
   {
    "duration": 18,
    "start_time": "2022-05-27T05:07:27.907Z"
   },
   {
    "duration": 409,
    "start_time": "2022-05-27T05:07:27.927Z"
   },
   {
    "duration": 12,
    "start_time": "2022-05-27T05:07:28.338Z"
   },
   {
    "duration": 251,
    "start_time": "2022-05-27T05:07:28.370Z"
   },
   {
    "duration": 8,
    "start_time": "2022-05-27T05:07:28.622Z"
   },
   {
    "duration": 201,
    "start_time": "2022-05-27T05:07:28.631Z"
   },
   {
    "duration": 245,
    "start_time": "2022-05-27T05:07:28.833Z"
   },
   {
    "duration": 18,
    "start_time": "2022-05-27T05:07:29.080Z"
   },
   {
    "duration": 7,
    "start_time": "2022-05-27T05:07:29.102Z"
   },
   {
    "duration": 215,
    "start_time": "2022-05-27T05:07:29.111Z"
   },
   {
    "duration": 210,
    "start_time": "2022-05-27T05:07:29.328Z"
   },
   {
    "duration": 5,
    "start_time": "2022-05-27T05:07:29.540Z"
   },
   {
    "duration": 49,
    "start_time": "2022-05-27T05:07:29.547Z"
   },
   {
    "duration": 206,
    "start_time": "2022-05-27T05:07:29.598Z"
   },
   {
    "duration": 198,
    "start_time": "2022-05-27T05:07:29.807Z"
   },
   {
    "duration": 5,
    "start_time": "2022-05-27T05:07:30.007Z"
   },
   {
    "duration": 16,
    "start_time": "2022-05-27T05:07:30.013Z"
   },
   {
    "duration": 5,
    "start_time": "2022-05-27T05:07:30.031Z"
   },
   {
    "duration": 197,
    "start_time": "2022-05-27T05:07:30.038Z"
   },
   {
    "duration": 191,
    "start_time": "2022-05-27T05:07:30.237Z"
   },
   {
    "duration": 9,
    "start_time": "2022-05-27T05:07:30.429Z"
   },
   {
    "duration": 638,
    "start_time": "2022-05-27T05:07:30.440Z"
   },
   {
    "duration": 445,
    "start_time": "2022-05-27T05:07:31.086Z"
   },
   {
    "duration": 192,
    "start_time": "2022-05-27T05:07:31.533Z"
   },
   {
    "duration": 7,
    "start_time": "2022-05-27T05:07:31.727Z"
   },
   {
    "duration": 41,
    "start_time": "2022-05-27T05:07:31.736Z"
   },
   {
    "duration": 36,
    "start_time": "2022-05-27T05:07:31.781Z"
   },
   {
    "duration": 18,
    "start_time": "2022-05-27T05:07:31.820Z"
   },
   {
    "duration": 11,
    "start_time": "2022-05-27T05:07:31.840Z"
   },
   {
    "duration": 41,
    "start_time": "2022-05-27T05:07:31.867Z"
   },
   {
    "duration": 19,
    "start_time": "2022-05-27T05:07:31.910Z"
   },
   {
    "duration": 10,
    "start_time": "2022-05-27T05:07:31.931Z"
   },
   {
    "duration": 63,
    "start_time": "2022-05-27T05:07:31.943Z"
   },
   {
    "duration": 221,
    "start_time": "2022-05-27T05:07:32.008Z"
   },
   {
    "duration": 8,
    "start_time": "2022-05-27T05:07:32.231Z"
   },
   {
    "duration": 7,
    "start_time": "2022-05-27T05:07:32.240Z"
   },
   {
    "duration": 56,
    "start_time": "2022-05-27T05:07:32.249Z"
   },
   {
    "duration": 280,
    "start_time": "2022-05-27T05:07:32.307Z"
   },
   {
    "duration": 12,
    "start_time": "2022-05-27T05:07:32.595Z"
   },
   {
    "duration": 25,
    "start_time": "2022-05-27T05:07:32.609Z"
   },
   {
    "duration": 76,
    "start_time": "2022-05-27T05:07:32.636Z"
   },
   {
    "duration": 612,
    "start_time": "2022-05-27T05:11:42.438Z"
   },
   {
    "duration": 1332,
    "start_time": "2022-05-27T05:12:09.291Z"
   },
   {
    "duration": 96,
    "start_time": "2022-05-27T05:12:10.625Z"
   },
   {
    "duration": 22,
    "start_time": "2022-05-27T05:12:10.724Z"
   },
   {
    "duration": 36,
    "start_time": "2022-05-27T05:12:10.749Z"
   },
   {
    "duration": 25,
    "start_time": "2022-05-27T05:12:10.790Z"
   },
   {
    "duration": 15,
    "start_time": "2022-05-27T05:12:10.817Z"
   },
   {
    "duration": 10,
    "start_time": "2022-05-27T05:12:10.833Z"
   },
   {
    "duration": 26,
    "start_time": "2022-05-27T05:12:10.845Z"
   },
   {
    "duration": 30,
    "start_time": "2022-05-27T05:12:10.873Z"
   },
   {
    "duration": 11,
    "start_time": "2022-05-27T05:12:10.906Z"
   },
   {
    "duration": 11,
    "start_time": "2022-05-27T05:12:10.919Z"
   },
   {
    "duration": 8,
    "start_time": "2022-05-27T05:12:10.932Z"
   },
   {
    "duration": 27,
    "start_time": "2022-05-27T05:12:10.941Z"
   },
   {
    "duration": 41,
    "start_time": "2022-05-27T05:12:10.976Z"
   },
   {
    "duration": 23,
    "start_time": "2022-05-27T05:12:11.018Z"
   },
   {
    "duration": 269,
    "start_time": "2022-05-27T05:12:11.043Z"
   },
   {
    "duration": 9,
    "start_time": "2022-05-27T05:12:11.313Z"
   },
   {
    "duration": 367,
    "start_time": "2022-05-27T05:12:11.323Z"
   },
   {
    "duration": 7,
    "start_time": "2022-05-27T05:12:11.693Z"
   },
   {
    "duration": 17,
    "start_time": "2022-05-27T05:12:11.705Z"
   },
   {
    "duration": 404,
    "start_time": "2022-05-27T05:12:11.724Z"
   },
   {
    "duration": 13,
    "start_time": "2022-05-27T05:12:12.129Z"
   },
   {
    "duration": 283,
    "start_time": "2022-05-27T05:12:12.144Z"
   },
   {
    "duration": 7,
    "start_time": "2022-05-27T05:12:12.428Z"
   },
   {
    "duration": 244,
    "start_time": "2022-05-27T05:12:12.437Z"
   },
   {
    "duration": 237,
    "start_time": "2022-05-27T05:12:12.684Z"
   },
   {
    "duration": 5,
    "start_time": "2022-05-27T05:12:12.922Z"
   },
   {
    "duration": 10,
    "start_time": "2022-05-27T05:12:12.930Z"
   },
   {
    "duration": 199,
    "start_time": "2022-05-27T05:12:12.941Z"
   },
   {
    "duration": 229,
    "start_time": "2022-05-27T05:12:13.143Z"
   },
   {
    "duration": 17,
    "start_time": "2022-05-27T05:12:13.379Z"
   },
   {
    "duration": 16,
    "start_time": "2022-05-27T05:12:13.399Z"
   },
   {
    "duration": 197,
    "start_time": "2022-05-27T05:12:13.416Z"
   },
   {
    "duration": 196,
    "start_time": "2022-05-27T05:12:13.615Z"
   },
   {
    "duration": 5,
    "start_time": "2022-05-27T05:12:13.813Z"
   },
   {
    "duration": 11,
    "start_time": "2022-05-27T05:12:13.819Z"
   },
   {
    "duration": 5,
    "start_time": "2022-05-27T05:12:13.832Z"
   },
   {
    "duration": 225,
    "start_time": "2022-05-27T05:12:13.839Z"
   },
   {
    "duration": 212,
    "start_time": "2022-05-27T05:12:14.066Z"
   },
   {
    "duration": 12,
    "start_time": "2022-05-27T05:12:14.283Z"
   },
   {
    "duration": 677,
    "start_time": "2022-05-27T05:12:14.297Z"
   },
   {
    "duration": 601,
    "start_time": "2022-05-27T05:12:14.985Z"
   },
   {
    "duration": 449,
    "start_time": "2022-05-27T05:12:15.595Z"
   },
   {
    "duration": 232,
    "start_time": "2022-05-27T05:12:16.046Z"
   },
   {
    "duration": 15,
    "start_time": "2022-05-27T05:12:16.280Z"
   },
   {
    "duration": 35,
    "start_time": "2022-05-27T05:12:16.297Z"
   },
   {
    "duration": 23,
    "start_time": "2022-05-27T05:12:16.334Z"
   },
   {
    "duration": 51,
    "start_time": "2022-05-27T05:12:16.359Z"
   },
   {
    "duration": 20,
    "start_time": "2022-05-27T05:12:16.412Z"
   },
   {
    "duration": 14,
    "start_time": "2022-05-27T05:12:16.434Z"
   },
   {
    "duration": 55,
    "start_time": "2022-05-27T05:12:16.451Z"
   },
   {
    "duration": 22,
    "start_time": "2022-05-27T05:12:16.507Z"
   },
   {
    "duration": 16,
    "start_time": "2022-05-27T05:12:16.530Z"
   },
   {
    "duration": 262,
    "start_time": "2022-05-27T05:12:16.548Z"
   },
   {
    "duration": 7,
    "start_time": "2022-05-27T05:12:16.811Z"
   },
   {
    "duration": 10,
    "start_time": "2022-05-27T05:12:16.819Z"
   },
   {
    "duration": 39,
    "start_time": "2022-05-27T05:12:16.830Z"
   },
   {
    "duration": 265,
    "start_time": "2022-05-27T05:12:16.870Z"
   },
   {
    "duration": 6,
    "start_time": "2022-05-27T05:12:17.137Z"
   },
   {
    "duration": 55,
    "start_time": "2022-05-27T05:12:17.144Z"
   },
   {
    "duration": 11,
    "start_time": "2022-05-27T05:12:17.200Z"
   },
   {
    "duration": 450,
    "start_time": "2022-05-27T05:14:18.034Z"
   },
   {
    "duration": 14,
    "start_time": "2022-05-27T05:18:27.980Z"
   },
   {
    "duration": 226,
    "start_time": "2022-05-27T05:18:51.777Z"
   },
   {
    "duration": 189,
    "start_time": "2022-05-27T05:20:18.733Z"
   },
   {
    "duration": 6,
    "start_time": "2022-05-27T05:20:29.410Z"
   },
   {
    "duration": 231,
    "start_time": "2022-05-27T05:20:33.006Z"
   },
   {
    "duration": 350,
    "start_time": "2022-05-27T05:20:41.980Z"
   },
   {
    "duration": 7,
    "start_time": "2022-05-27T05:20:51.143Z"
   },
   {
    "duration": 28,
    "start_time": "2022-05-27T05:22:07.442Z"
   },
   {
    "duration": 8,
    "start_time": "2022-05-27T05:22:13.937Z"
   },
   {
    "duration": 187,
    "start_time": "2022-05-27T05:22:22.241Z"
   },
   {
    "duration": 221,
    "start_time": "2022-05-27T05:22:28.069Z"
   },
   {
    "duration": 7,
    "start_time": "2022-05-27T05:22:53.297Z"
   },
   {
    "duration": 219,
    "start_time": "2022-05-27T05:23:02.086Z"
   },
   {
    "duration": 213,
    "start_time": "2022-05-27T05:23:08.496Z"
   },
   {
    "duration": 5,
    "start_time": "2022-05-27T05:23:15.905Z"
   },
   {
    "duration": 31,
    "start_time": "2022-05-27T05:24:05.207Z"
   },
   {
    "duration": 6,
    "start_time": "2022-05-27T05:24:26.420Z"
   },
   {
    "duration": 204,
    "start_time": "2022-05-27T05:24:32.184Z"
   },
   {
    "duration": 209,
    "start_time": "2022-05-27T05:24:38.794Z"
   },
   {
    "duration": 5,
    "start_time": "2022-05-27T05:24:46.396Z"
   },
   {
    "duration": 1367,
    "start_time": "2022-05-27T05:25:04.278Z"
   },
   {
    "duration": 99,
    "start_time": "2022-05-27T05:25:05.648Z"
   },
   {
    "duration": 39,
    "start_time": "2022-05-27T05:25:05.749Z"
   },
   {
    "duration": 34,
    "start_time": "2022-05-27T05:25:05.796Z"
   },
   {
    "duration": 9,
    "start_time": "2022-05-27T05:25:05.832Z"
   },
   {
    "duration": 8,
    "start_time": "2022-05-27T05:25:05.842Z"
   },
   {
    "duration": 49,
    "start_time": "2022-05-27T05:25:05.851Z"
   },
   {
    "duration": 20,
    "start_time": "2022-05-27T05:25:05.902Z"
   },
   {
    "duration": 5,
    "start_time": "2022-05-27T05:25:05.924Z"
   },
   {
    "duration": 13,
    "start_time": "2022-05-27T05:25:05.930Z"
   },
   {
    "duration": 33,
    "start_time": "2022-05-27T05:25:05.944Z"
   },
   {
    "duration": 25,
    "start_time": "2022-05-27T05:25:05.981Z"
   },
   {
    "duration": 10,
    "start_time": "2022-05-27T05:25:06.008Z"
   },
   {
    "duration": 23,
    "start_time": "2022-05-27T05:25:06.022Z"
   },
   {
    "duration": 52,
    "start_time": "2022-05-27T05:25:06.047Z"
   },
   {
    "duration": 275,
    "start_time": "2022-05-27T05:25:06.101Z"
   },
   {
    "duration": 9,
    "start_time": "2022-05-27T05:25:06.378Z"
   },
   {
    "duration": 357,
    "start_time": "2022-05-27T05:25:06.388Z"
   },
   {
    "duration": 9,
    "start_time": "2022-05-27T05:25:06.747Z"
   },
   {
    "duration": 49,
    "start_time": "2022-05-27T05:25:06.765Z"
   },
   {
    "duration": 334,
    "start_time": "2022-05-27T05:25:06.816Z"
   },
   {
    "duration": 30,
    "start_time": "2022-05-27T05:25:07.152Z"
   },
   {
    "duration": 211,
    "start_time": "2022-05-27T05:25:07.190Z"
   },
   {
    "duration": 6,
    "start_time": "2022-05-27T05:25:07.403Z"
   },
   {
    "duration": 205,
    "start_time": "2022-05-27T05:25:07.411Z"
   },
   {
    "duration": 392,
    "start_time": "2022-05-27T05:25:07.618Z"
   },
   {
    "duration": 5,
    "start_time": "2022-05-27T05:25:08.013Z"
   },
   {
    "duration": 0,
    "start_time": "2022-05-27T05:25:08.068Z"
   },
   {
    "duration": 0,
    "start_time": "2022-05-27T05:25:08.069Z"
   },
   {
    "duration": 0,
    "start_time": "2022-05-27T05:25:08.070Z"
   },
   {
    "duration": 0,
    "start_time": "2022-05-27T05:25:08.071Z"
   },
   {
    "duration": 0,
    "start_time": "2022-05-27T05:25:08.072Z"
   },
   {
    "duration": 0,
    "start_time": "2022-05-27T05:25:08.073Z"
   },
   {
    "duration": 0,
    "start_time": "2022-05-27T05:25:08.074Z"
   },
   {
    "duration": 0,
    "start_time": "2022-05-27T05:25:08.075Z"
   },
   {
    "duration": 0,
    "start_time": "2022-05-27T05:25:08.076Z"
   },
   {
    "duration": 0,
    "start_time": "2022-05-27T05:25:08.077Z"
   },
   {
    "duration": 0,
    "start_time": "2022-05-27T05:25:08.083Z"
   },
   {
    "duration": 0,
    "start_time": "2022-05-27T05:25:08.084Z"
   },
   {
    "duration": 0,
    "start_time": "2022-05-27T05:25:08.085Z"
   },
   {
    "duration": 0,
    "start_time": "2022-05-27T05:25:08.086Z"
   },
   {
    "duration": 0,
    "start_time": "2022-05-27T05:25:08.087Z"
   },
   {
    "duration": 0,
    "start_time": "2022-05-27T05:25:08.092Z"
   },
   {
    "duration": 0,
    "start_time": "2022-05-27T05:25:08.095Z"
   },
   {
    "duration": 0,
    "start_time": "2022-05-27T05:25:08.096Z"
   },
   {
    "duration": 0,
    "start_time": "2022-05-27T05:25:08.097Z"
   },
   {
    "duration": 0,
    "start_time": "2022-05-27T05:25:08.098Z"
   },
   {
    "duration": 0,
    "start_time": "2022-05-27T05:25:08.099Z"
   },
   {
    "duration": 0,
    "start_time": "2022-05-27T05:25:08.100Z"
   },
   {
    "duration": 0,
    "start_time": "2022-05-27T05:25:08.101Z"
   },
   {
    "duration": 0,
    "start_time": "2022-05-27T05:25:08.102Z"
   },
   {
    "duration": 0,
    "start_time": "2022-05-27T05:25:08.105Z"
   },
   {
    "duration": 0,
    "start_time": "2022-05-27T05:25:08.106Z"
   },
   {
    "duration": 0,
    "start_time": "2022-05-27T05:25:08.107Z"
   },
   {
    "duration": 0,
    "start_time": "2022-05-27T05:25:08.108Z"
   },
   {
    "duration": 0,
    "start_time": "2022-05-27T05:25:08.109Z"
   },
   {
    "duration": 0,
    "start_time": "2022-05-27T05:25:08.110Z"
   },
   {
    "duration": 0,
    "start_time": "2022-05-27T05:25:08.111Z"
   },
   {
    "duration": 0,
    "start_time": "2022-05-27T05:25:08.112Z"
   },
   {
    "duration": 0,
    "start_time": "2022-05-27T05:25:08.112Z"
   },
   {
    "duration": 0,
    "start_time": "2022-05-27T05:25:08.113Z"
   },
   {
    "duration": 6,
    "start_time": "2022-05-27T05:25:35.110Z"
   },
   {
    "duration": 1334,
    "start_time": "2022-05-27T05:25:41.392Z"
   },
   {
    "duration": 99,
    "start_time": "2022-05-27T05:25:42.729Z"
   },
   {
    "duration": 19,
    "start_time": "2022-05-27T05:25:42.830Z"
   },
   {
    "duration": 35,
    "start_time": "2022-05-27T05:25:42.851Z"
   },
   {
    "duration": 26,
    "start_time": "2022-05-27T05:25:42.888Z"
   },
   {
    "duration": 7,
    "start_time": "2022-05-27T05:25:42.916Z"
   },
   {
    "duration": 7,
    "start_time": "2022-05-27T05:25:42.924Z"
   },
   {
    "duration": 15,
    "start_time": "2022-05-27T05:25:42.932Z"
   },
   {
    "duration": 26,
    "start_time": "2022-05-27T05:25:42.949Z"
   },
   {
    "duration": 32,
    "start_time": "2022-05-27T05:25:42.978Z"
   },
   {
    "duration": 12,
    "start_time": "2022-05-27T05:25:43.012Z"
   },
   {
    "duration": 9,
    "start_time": "2022-05-27T05:25:43.026Z"
   },
   {
    "duration": 9,
    "start_time": "2022-05-27T05:25:43.037Z"
   },
   {
    "duration": 35,
    "start_time": "2022-05-27T05:25:43.047Z"
   },
   {
    "duration": 56,
    "start_time": "2022-05-27T05:25:43.084Z"
   },
   {
    "duration": 331,
    "start_time": "2022-05-27T05:25:43.142Z"
   },
   {
    "duration": 15,
    "start_time": "2022-05-27T05:25:43.479Z"
   },
   {
    "duration": 326,
    "start_time": "2022-05-27T05:25:43.496Z"
   },
   {
    "duration": 4,
    "start_time": "2022-05-27T05:25:43.824Z"
   },
   {
    "duration": 20,
    "start_time": "2022-05-27T05:25:43.830Z"
   },
   {
    "duration": 395,
    "start_time": "2022-05-27T05:25:43.852Z"
   },
   {
    "duration": 31,
    "start_time": "2022-05-27T05:25:44.249Z"
   },
   {
    "duration": 222,
    "start_time": "2022-05-27T05:25:44.282Z"
   },
   {
    "duration": 7,
    "start_time": "2022-05-27T05:25:44.506Z"
   },
   {
    "duration": 216,
    "start_time": "2022-05-27T05:25:44.514Z"
   },
   {
    "duration": 200,
    "start_time": "2022-05-27T05:25:44.732Z"
   },
   {
    "duration": 6,
    "start_time": "2022-05-27T05:25:44.933Z"
   },
   {
    "duration": 33,
    "start_time": "2022-05-27T05:25:44.943Z"
   },
   {
    "duration": 232,
    "start_time": "2022-05-27T05:25:44.978Z"
   },
   {
    "duration": 231,
    "start_time": "2022-05-27T05:25:45.212Z"
   },
   {
    "duration": 34,
    "start_time": "2022-05-27T05:25:45.445Z"
   },
   {
    "duration": 33,
    "start_time": "2022-05-27T05:25:45.487Z"
   },
   {
    "duration": 269,
    "start_time": "2022-05-27T05:25:45.522Z"
   },
   {
    "duration": 215,
    "start_time": "2022-05-27T05:25:45.795Z"
   },
   {
    "duration": 5,
    "start_time": "2022-05-27T05:25:46.012Z"
   },
   {
    "duration": 9,
    "start_time": "2022-05-27T05:25:46.019Z"
   },
   {
    "duration": 7,
    "start_time": "2022-05-27T05:25:46.030Z"
   },
   {
    "duration": 208,
    "start_time": "2022-05-27T05:25:46.039Z"
   },
   {
    "duration": 228,
    "start_time": "2022-05-27T05:25:46.248Z"
   },
   {
    "duration": 18,
    "start_time": "2022-05-27T05:25:46.478Z"
   },
   {
    "duration": 693,
    "start_time": "2022-05-27T05:25:46.498Z"
   },
   {
    "duration": 515,
    "start_time": "2022-05-27T05:25:47.193Z"
   },
   {
    "duration": 388,
    "start_time": "2022-05-27T05:25:47.709Z"
   },
   {
    "duration": 191,
    "start_time": "2022-05-27T05:25:48.099Z"
   },
   {
    "duration": 10,
    "start_time": "2022-05-27T05:25:48.292Z"
   },
   {
    "duration": 138,
    "start_time": "2022-05-27T05:25:48.304Z"
   },
   {
    "duration": 0,
    "start_time": "2022-05-27T05:25:48.444Z"
   },
   {
    "duration": 0,
    "start_time": "2022-05-27T05:25:48.445Z"
   },
   {
    "duration": 0,
    "start_time": "2022-05-27T05:25:48.446Z"
   },
   {
    "duration": 0,
    "start_time": "2022-05-27T05:25:48.447Z"
   },
   {
    "duration": 0,
    "start_time": "2022-05-27T05:25:48.448Z"
   },
   {
    "duration": 0,
    "start_time": "2022-05-27T05:25:48.449Z"
   },
   {
    "duration": 0,
    "start_time": "2022-05-27T05:25:48.450Z"
   },
   {
    "duration": 0,
    "start_time": "2022-05-27T05:25:48.458Z"
   },
   {
    "duration": 0,
    "start_time": "2022-05-27T05:25:48.462Z"
   },
   {
    "duration": 0,
    "start_time": "2022-05-27T05:25:48.467Z"
   },
   {
    "duration": 0,
    "start_time": "2022-05-27T05:25:48.469Z"
   },
   {
    "duration": 0,
    "start_time": "2022-05-27T05:25:48.470Z"
   },
   {
    "duration": 0,
    "start_time": "2022-05-27T05:25:48.471Z"
   },
   {
    "duration": 0,
    "start_time": "2022-05-27T05:25:48.472Z"
   },
   {
    "duration": 0,
    "start_time": "2022-05-27T05:25:48.474Z"
   },
   {
    "duration": 7,
    "start_time": "2022-05-27T05:26:02.233Z"
   },
   {
    "duration": 8,
    "start_time": "2022-05-27T05:26:08.101Z"
   },
   {
    "duration": 7,
    "start_time": "2022-05-27T05:26:11.295Z"
   },
   {
    "duration": 7,
    "start_time": "2022-05-27T05:26:20.427Z"
   },
   {
    "duration": 7,
    "start_time": "2022-05-27T05:26:23.399Z"
   },
   {
    "duration": 15,
    "start_time": "2022-05-27T05:26:29.296Z"
   },
   {
    "duration": 21,
    "start_time": "2022-05-27T05:26:32.686Z"
   },
   {
    "duration": 12,
    "start_time": "2022-05-27T05:26:36.295Z"
   },
   {
    "duration": 1311,
    "start_time": "2022-05-27T05:28:08.691Z"
   },
   {
    "duration": 96,
    "start_time": "2022-05-27T05:28:10.004Z"
   },
   {
    "duration": 17,
    "start_time": "2022-05-27T05:28:10.103Z"
   },
   {
    "duration": 13,
    "start_time": "2022-05-27T05:28:10.122Z"
   },
   {
    "duration": 37,
    "start_time": "2022-05-27T05:28:10.137Z"
   },
   {
    "duration": 19,
    "start_time": "2022-05-27T05:28:10.182Z"
   },
   {
    "duration": 8,
    "start_time": "2022-05-27T05:28:10.203Z"
   },
   {
    "duration": 15,
    "start_time": "2022-05-27T05:28:10.212Z"
   },
   {
    "duration": 8,
    "start_time": "2022-05-27T05:28:10.228Z"
   },
   {
    "duration": 8,
    "start_time": "2022-05-27T05:28:10.239Z"
   },
   {
    "duration": 52,
    "start_time": "2022-05-27T05:28:10.248Z"
   },
   {
    "duration": 8,
    "start_time": "2022-05-27T05:28:10.302Z"
   },
   {
    "duration": 10,
    "start_time": "2022-05-27T05:28:10.312Z"
   },
   {
    "duration": 18,
    "start_time": "2022-05-27T05:28:10.324Z"
   },
   {
    "duration": 38,
    "start_time": "2022-05-27T05:28:10.344Z"
   },
   {
    "duration": 252,
    "start_time": "2022-05-27T05:28:10.384Z"
   },
   {
    "duration": 8,
    "start_time": "2022-05-27T05:28:10.637Z"
   },
   {
    "duration": 357,
    "start_time": "2022-05-27T05:28:10.646Z"
   },
   {
    "duration": 3,
    "start_time": "2022-05-27T05:28:11.005Z"
   },
   {
    "duration": 16,
    "start_time": "2022-05-27T05:28:11.010Z"
   },
   {
    "duration": 373,
    "start_time": "2022-05-27T05:28:11.028Z"
   },
   {
    "duration": 11,
    "start_time": "2022-05-27T05:28:11.403Z"
   },
   {
    "duration": 208,
    "start_time": "2022-05-27T05:28:11.416Z"
   },
   {
    "duration": 7,
    "start_time": "2022-05-27T05:28:11.625Z"
   },
   {
    "duration": 214,
    "start_time": "2022-05-27T05:28:11.633Z"
   },
   {
    "duration": 222,
    "start_time": "2022-05-27T05:28:11.850Z"
   },
   {
    "duration": 8,
    "start_time": "2022-05-27T05:28:12.073Z"
   },
   {
    "duration": 25,
    "start_time": "2022-05-27T05:28:12.085Z"
   },
   {
    "duration": 264,
    "start_time": "2022-05-27T05:28:12.111Z"
   },
   {
    "duration": 254,
    "start_time": "2022-05-27T05:28:12.379Z"
   },
   {
    "duration": 6,
    "start_time": "2022-05-27T05:28:12.636Z"
   },
   {
    "duration": 49,
    "start_time": "2022-05-27T05:28:12.644Z"
   },
   {
    "duration": 227,
    "start_time": "2022-05-27T05:28:12.695Z"
   },
   {
    "duration": 191,
    "start_time": "2022-05-27T05:28:12.924Z"
   },
   {
    "duration": 6,
    "start_time": "2022-05-27T05:28:13.117Z"
   },
   {
    "duration": 18,
    "start_time": "2022-05-27T05:28:13.125Z"
   },
   {
    "duration": 13,
    "start_time": "2022-05-27T05:28:13.145Z"
   },
   {
    "duration": 236,
    "start_time": "2022-05-27T05:28:13.159Z"
   },
   {
    "duration": 199,
    "start_time": "2022-05-27T05:28:13.399Z"
   },
   {
    "duration": 9,
    "start_time": "2022-05-27T05:28:13.600Z"
   },
   {
    "duration": 688,
    "start_time": "2022-05-27T05:28:13.610Z"
   },
   {
    "duration": 529,
    "start_time": "2022-05-27T05:28:14.301Z"
   },
   {
    "duration": 455,
    "start_time": "2022-05-27T05:28:14.831Z"
   },
   {
    "duration": 252,
    "start_time": "2022-05-27T05:28:15.293Z"
   },
   {
    "duration": 33,
    "start_time": "2022-05-27T05:28:15.547Z"
   },
   {
    "duration": 35,
    "start_time": "2022-05-27T05:28:15.590Z"
   },
   {
    "duration": 19,
    "start_time": "2022-05-27T05:28:15.627Z"
   },
   {
    "duration": 56,
    "start_time": "2022-05-27T05:28:15.648Z"
   },
   {
    "duration": 25,
    "start_time": "2022-05-27T05:28:15.706Z"
   },
   {
    "duration": 46,
    "start_time": "2022-05-27T05:28:15.733Z"
   },
   {
    "duration": 45,
    "start_time": "2022-05-27T05:28:15.781Z"
   },
   {
    "duration": 17,
    "start_time": "2022-05-27T05:28:15.828Z"
   },
   {
    "duration": 55,
    "start_time": "2022-05-27T05:28:15.847Z"
   },
   {
    "duration": 244,
    "start_time": "2022-05-27T05:28:15.905Z"
   },
   {
    "duration": 31,
    "start_time": "2022-05-27T05:28:16.151Z"
   },
   {
    "duration": 18,
    "start_time": "2022-05-27T05:28:16.183Z"
   },
   {
    "duration": 16,
    "start_time": "2022-05-27T05:28:16.205Z"
   },
   {
    "duration": 279,
    "start_time": "2022-05-27T05:28:16.223Z"
   },
   {
    "duration": 7,
    "start_time": "2022-05-27T05:28:16.504Z"
   },
   {
    "duration": 8,
    "start_time": "2022-05-27T05:28:16.513Z"
   },
   {
    "duration": 8,
    "start_time": "2022-05-27T05:28:16.523Z"
   },
   {
    "duration": 7,
    "start_time": "2022-05-27T05:29:12.097Z"
   },
   {
    "duration": 170,
    "start_time": "2022-05-27T05:29:27.724Z"
   },
   {
    "duration": 9,
    "start_time": "2022-05-27T05:29:32.805Z"
   },
   {
    "duration": 9,
    "start_time": "2022-05-27T05:30:30.092Z"
   },
   {
    "duration": 608,
    "start_time": "2022-05-27T05:30:35.290Z"
   },
   {
    "duration": 491,
    "start_time": "2022-05-27T05:30:46.346Z"
   },
   {
    "duration": 8,
    "start_time": "2022-05-27T05:31:05.195Z"
   },
   {
    "duration": 530,
    "start_time": "2022-05-27T05:31:06.309Z"
   },
   {
    "duration": 23,
    "start_time": "2022-05-27T05:34:50.000Z"
   },
   {
    "duration": 16,
    "start_time": "2022-05-27T05:35:02.233Z"
   },
   {
    "duration": 14,
    "start_time": "2022-05-27T05:35:18.608Z"
   },
   {
    "duration": 17,
    "start_time": "2022-05-27T05:35:53.449Z"
   },
   {
    "duration": 27,
    "start_time": "2022-05-27T05:36:27.970Z"
   },
   {
    "duration": 42,
    "start_time": "2022-05-27T05:36:44.845Z"
   },
   {
    "duration": 11,
    "start_time": "2022-05-27T05:39:11.287Z"
   },
   {
    "duration": 1357,
    "start_time": "2022-05-27T05:39:21.438Z"
   },
   {
    "duration": 93,
    "start_time": "2022-05-27T05:39:22.805Z"
   },
   {
    "duration": 26,
    "start_time": "2022-05-27T05:39:22.904Z"
   },
   {
    "duration": 16,
    "start_time": "2022-05-27T05:39:22.933Z"
   },
   {
    "duration": 37,
    "start_time": "2022-05-27T05:39:22.951Z"
   },
   {
    "duration": 28,
    "start_time": "2022-05-27T05:39:22.990Z"
   },
   {
    "duration": 13,
    "start_time": "2022-05-27T05:39:23.020Z"
   },
   {
    "duration": 27,
    "start_time": "2022-05-27T05:39:23.035Z"
   },
   {
    "duration": 36,
    "start_time": "2022-05-27T05:39:23.064Z"
   },
   {
    "duration": 19,
    "start_time": "2022-05-27T05:39:23.104Z"
   },
   {
    "duration": 82,
    "start_time": "2022-05-27T05:39:23.124Z"
   },
   {
    "duration": 19,
    "start_time": "2022-05-27T05:39:23.208Z"
   },
   {
    "duration": 65,
    "start_time": "2022-05-27T05:39:23.229Z"
   },
   {
    "duration": 69,
    "start_time": "2022-05-27T05:39:23.297Z"
   },
   {
    "duration": 53,
    "start_time": "2022-05-27T05:39:23.368Z"
   },
   {
    "duration": 359,
    "start_time": "2022-05-27T05:39:23.423Z"
   },
   {
    "duration": 25,
    "start_time": "2022-05-27T05:39:23.784Z"
   },
   {
    "duration": 447,
    "start_time": "2022-05-27T05:39:23.819Z"
   },
   {
    "duration": 6,
    "start_time": "2022-05-27T05:39:24.270Z"
   },
   {
    "duration": 64,
    "start_time": "2022-05-27T05:39:24.280Z"
   },
   {
    "duration": 482,
    "start_time": "2022-05-27T05:39:24.346Z"
   },
   {
    "duration": 39,
    "start_time": "2022-05-27T05:39:24.835Z"
   },
   {
    "duration": 349,
    "start_time": "2022-05-27T05:39:24.880Z"
   },
   {
    "duration": 12,
    "start_time": "2022-05-27T05:39:25.230Z"
   },
   {
    "duration": 381,
    "start_time": "2022-05-27T05:39:25.252Z"
   },
   {
    "duration": 269,
    "start_time": "2022-05-27T05:39:25.635Z"
   },
   {
    "duration": 5,
    "start_time": "2022-05-27T05:39:25.906Z"
   },
   {
    "duration": 20,
    "start_time": "2022-05-27T05:39:25.916Z"
   },
   {
    "duration": 411,
    "start_time": "2022-05-27T05:39:25.939Z"
   },
   {
    "duration": 266,
    "start_time": "2022-05-27T05:39:26.359Z"
   },
   {
    "duration": 6,
    "start_time": "2022-05-27T05:39:26.627Z"
   },
   {
    "duration": 155,
    "start_time": "2022-05-27T05:39:26.635Z"
   },
   {
    "duration": 326,
    "start_time": "2022-05-27T05:39:26.792Z"
   },
   {
    "duration": 239,
    "start_time": "2022-05-27T05:39:27.122Z"
   },
   {
    "duration": 12,
    "start_time": "2022-05-27T05:39:27.372Z"
   },
   {
    "duration": 128,
    "start_time": "2022-05-27T05:39:27.390Z"
   },
   {
    "duration": 13,
    "start_time": "2022-05-27T05:39:27.521Z"
   },
   {
    "duration": 300,
    "start_time": "2022-05-27T05:39:27.536Z"
   },
   {
    "duration": 332,
    "start_time": "2022-05-27T05:39:27.838Z"
   },
   {
    "duration": 16,
    "start_time": "2022-05-27T05:39:28.182Z"
   },
   {
    "duration": 894,
    "start_time": "2022-05-27T05:39:28.204Z"
   },
   {
    "duration": 538,
    "start_time": "2022-05-27T05:39:29.101Z"
   },
   {
    "duration": 193,
    "start_time": "2022-05-27T05:39:29.641Z"
   },
   {
    "duration": 6,
    "start_time": "2022-05-27T05:39:29.836Z"
   },
   {
    "duration": 23,
    "start_time": "2022-05-27T05:39:29.855Z"
   },
   {
    "duration": 50,
    "start_time": "2022-05-27T05:39:29.880Z"
   },
   {
    "duration": 16,
    "start_time": "2022-05-27T05:39:29.932Z"
   },
   {
    "duration": 73,
    "start_time": "2022-05-27T05:39:29.950Z"
   },
   {
    "duration": 35,
    "start_time": "2022-05-27T05:39:30.025Z"
   },
   {
    "duration": 57,
    "start_time": "2022-05-27T05:39:30.064Z"
   },
   {
    "duration": 43,
    "start_time": "2022-05-27T05:39:30.124Z"
   },
   {
    "duration": 96,
    "start_time": "2022-05-27T05:39:30.169Z"
   },
   {
    "duration": 76,
    "start_time": "2022-05-27T05:39:30.267Z"
   },
   {
    "duration": 85,
    "start_time": "2022-05-27T05:39:30.345Z"
   },
   {
    "duration": 353,
    "start_time": "2022-05-27T05:39:30.432Z"
   },
   {
    "duration": 6,
    "start_time": "2022-05-27T05:39:30.787Z"
   },
   {
    "duration": 9,
    "start_time": "2022-05-27T05:39:30.795Z"
   },
   {
    "duration": 51,
    "start_time": "2022-05-27T05:39:30.806Z"
   },
   {
    "duration": 284,
    "start_time": "2022-05-27T05:39:30.858Z"
   },
   {
    "duration": 8,
    "start_time": "2022-05-27T05:39:31.144Z"
   },
   {
    "duration": 111,
    "start_time": "2022-05-27T05:39:31.154Z"
   },
   {
    "duration": 153,
    "start_time": "2022-05-27T05:39:31.271Z"
   },
   {
    "duration": 15,
    "start_time": "2022-05-27T05:40:46.028Z"
   },
   {
    "duration": 17,
    "start_time": "2022-05-27T05:40:54.879Z"
   },
   {
    "duration": 1427,
    "start_time": "2022-05-27T05:41:07.484Z"
   },
   {
    "duration": 89,
    "start_time": "2022-05-27T05:41:08.914Z"
   },
   {
    "duration": 29,
    "start_time": "2022-05-27T05:41:09.005Z"
   },
   {
    "duration": 49,
    "start_time": "2022-05-27T05:41:09.036Z"
   },
   {
    "duration": 27,
    "start_time": "2022-05-27T05:41:09.088Z"
   },
   {
    "duration": 12,
    "start_time": "2022-05-27T05:41:09.117Z"
   },
   {
    "duration": 5,
    "start_time": "2022-05-27T05:41:09.131Z"
   },
   {
    "duration": 37,
    "start_time": "2022-05-27T05:41:09.137Z"
   },
   {
    "duration": 33,
    "start_time": "2022-05-27T05:41:09.176Z"
   },
   {
    "duration": 10,
    "start_time": "2022-05-27T05:41:09.211Z"
   },
   {
    "duration": 15,
    "start_time": "2022-05-27T05:41:09.222Z"
   },
   {
    "duration": 10,
    "start_time": "2022-05-27T05:41:09.239Z"
   },
   {
    "duration": 67,
    "start_time": "2022-05-27T05:41:09.251Z"
   },
   {
    "duration": 22,
    "start_time": "2022-05-27T05:41:09.322Z"
   },
   {
    "duration": 32,
    "start_time": "2022-05-27T05:41:09.346Z"
   },
   {
    "duration": 312,
    "start_time": "2022-05-27T05:41:09.380Z"
   },
   {
    "duration": 11,
    "start_time": "2022-05-27T05:41:09.693Z"
   },
   {
    "duration": 326,
    "start_time": "2022-05-27T05:41:09.707Z"
   },
   {
    "duration": 5,
    "start_time": "2022-05-27T05:41:10.035Z"
   },
   {
    "duration": 75,
    "start_time": "2022-05-27T05:41:10.042Z"
   },
   {
    "duration": 394,
    "start_time": "2022-05-27T05:41:10.120Z"
   },
   {
    "duration": 14,
    "start_time": "2022-05-27T05:41:10.516Z"
   },
   {
    "duration": 254,
    "start_time": "2022-05-27T05:41:10.532Z"
   },
   {
    "duration": 10,
    "start_time": "2022-05-27T05:41:10.787Z"
   },
   {
    "duration": 211,
    "start_time": "2022-05-27T05:41:10.799Z"
   },
   {
    "duration": 216,
    "start_time": "2022-05-27T05:41:11.012Z"
   },
   {
    "duration": 6,
    "start_time": "2022-05-27T05:41:11.230Z"
   },
   {
    "duration": 22,
    "start_time": "2022-05-27T05:41:11.239Z"
   },
   {
    "duration": 234,
    "start_time": "2022-05-27T05:41:11.275Z"
   },
   {
    "duration": 210,
    "start_time": "2022-05-27T05:41:11.511Z"
   },
   {
    "duration": 6,
    "start_time": "2022-05-27T05:41:11.723Z"
   },
   {
    "duration": 16,
    "start_time": "2022-05-27T05:41:11.731Z"
   },
   {
    "duration": 233,
    "start_time": "2022-05-27T05:41:11.757Z"
   },
   {
    "duration": 236,
    "start_time": "2022-05-27T05:41:11.992Z"
   },
   {
    "duration": 6,
    "start_time": "2022-05-27T05:41:12.230Z"
   },
   {
    "duration": 32,
    "start_time": "2022-05-27T05:41:12.238Z"
   },
   {
    "duration": 28,
    "start_time": "2022-05-27T05:41:12.283Z"
   },
   {
    "duration": 181,
    "start_time": "2022-05-27T05:41:12.314Z"
   },
   {
    "duration": 216,
    "start_time": "2022-05-27T05:41:12.497Z"
   },
   {
    "duration": 11,
    "start_time": "2022-05-27T05:41:12.715Z"
   },
   {
    "duration": 785,
    "start_time": "2022-05-27T05:41:12.734Z"
   },
   {
    "duration": 404,
    "start_time": "2022-05-27T05:41:13.522Z"
   },
   {
    "duration": 213,
    "start_time": "2022-05-27T05:41:13.928Z"
   },
   {
    "duration": 8,
    "start_time": "2022-05-27T05:41:14.143Z"
   },
   {
    "duration": 27,
    "start_time": "2022-05-27T05:41:14.155Z"
   },
   {
    "duration": 31,
    "start_time": "2022-05-27T05:41:14.184Z"
   },
   {
    "duration": 14,
    "start_time": "2022-05-27T05:41:14.217Z"
   },
   {
    "duration": 13,
    "start_time": "2022-05-27T05:41:14.233Z"
   },
   {
    "duration": 12,
    "start_time": "2022-05-27T05:41:14.248Z"
   },
   {
    "duration": 46,
    "start_time": "2022-05-27T05:41:14.262Z"
   },
   {
    "duration": 10,
    "start_time": "2022-05-27T05:41:14.310Z"
   },
   {
    "duration": 14,
    "start_time": "2022-05-27T05:41:14.322Z"
   },
   {
    "duration": 16,
    "start_time": "2022-05-27T05:41:14.338Z"
   },
   {
    "duration": 47,
    "start_time": "2022-05-27T05:41:14.356Z"
   },
   {
    "duration": 257,
    "start_time": "2022-05-27T05:41:14.404Z"
   },
   {
    "duration": 7,
    "start_time": "2022-05-27T05:41:14.663Z"
   },
   {
    "duration": 8,
    "start_time": "2022-05-27T05:41:14.672Z"
   },
   {
    "duration": 37,
    "start_time": "2022-05-27T05:41:14.682Z"
   },
   {
    "duration": 293,
    "start_time": "2022-05-27T05:41:14.721Z"
   },
   {
    "duration": 8,
    "start_time": "2022-05-27T05:41:15.016Z"
   },
   {
    "duration": 10,
    "start_time": "2022-05-27T05:41:15.026Z"
   },
   {
    "duration": 53,
    "start_time": "2022-05-27T05:41:15.052Z"
   },
   {
    "duration": 531,
    "start_time": "2022-05-27T05:46:16.452Z"
   },
   {
    "duration": 189,
    "start_time": "2022-05-27T05:48:49.795Z"
   },
   {
    "duration": 187,
    "start_time": "2022-05-27T05:49:31.030Z"
   },
   {
    "duration": 189,
    "start_time": "2022-05-27T05:50:05.843Z"
   },
   {
    "duration": 28,
    "start_time": "2022-05-27T05:51:05.437Z"
   },
   {
    "duration": 8,
    "start_time": "2022-05-27T05:51:27.300Z"
   },
   {
    "duration": 8,
    "start_time": "2022-05-27T05:51:31.642Z"
   },
   {
    "duration": 16,
    "start_time": "2022-05-27T05:51:40.693Z"
   },
   {
    "duration": 23,
    "start_time": "2022-05-27T05:54:50.130Z"
   },
   {
    "duration": 9,
    "start_time": "2022-05-27T05:55:03.581Z"
   },
   {
    "duration": 8,
    "start_time": "2022-05-27T05:55:52.090Z"
   },
   {
    "duration": 1304,
    "start_time": "2022-05-27T05:56:32.981Z"
   },
   {
    "duration": 101,
    "start_time": "2022-05-27T05:56:34.287Z"
   },
   {
    "duration": 22,
    "start_time": "2022-05-27T05:56:34.392Z"
   },
   {
    "duration": 14,
    "start_time": "2022-05-27T05:56:34.416Z"
   },
   {
    "duration": 14,
    "start_time": "2022-05-27T05:56:34.432Z"
   },
   {
    "duration": 41,
    "start_time": "2022-05-27T05:56:34.455Z"
   },
   {
    "duration": 9,
    "start_time": "2022-05-27T05:56:34.498Z"
   },
   {
    "duration": 30,
    "start_time": "2022-05-27T05:56:34.509Z"
   },
   {
    "duration": 19,
    "start_time": "2022-05-27T05:56:34.541Z"
   },
   {
    "duration": 59,
    "start_time": "2022-05-27T05:56:34.568Z"
   },
   {
    "duration": 12,
    "start_time": "2022-05-27T05:56:34.629Z"
   },
   {
    "duration": 49,
    "start_time": "2022-05-27T05:56:34.643Z"
   },
   {
    "duration": 15,
    "start_time": "2022-05-27T05:56:34.694Z"
   },
   {
    "duration": 27,
    "start_time": "2022-05-27T05:56:34.710Z"
   },
   {
    "duration": 28,
    "start_time": "2022-05-27T05:56:34.738Z"
   },
   {
    "duration": 261,
    "start_time": "2022-05-27T05:56:34.767Z"
   },
   {
    "duration": 10,
    "start_time": "2022-05-27T05:56:35.030Z"
   },
   {
    "duration": 389,
    "start_time": "2022-05-27T05:56:35.041Z"
   },
   {
    "duration": 8,
    "start_time": "2022-05-27T05:56:35.432Z"
   },
   {
    "duration": 77,
    "start_time": "2022-05-27T05:56:35.442Z"
   },
   {
    "duration": 456,
    "start_time": "2022-05-27T05:56:35.521Z"
   },
   {
    "duration": 15,
    "start_time": "2022-05-27T05:56:35.978Z"
   },
   {
    "duration": 213,
    "start_time": "2022-05-27T05:56:35.994Z"
   },
   {
    "duration": 7,
    "start_time": "2022-05-27T05:56:36.209Z"
   },
   {
    "duration": 195,
    "start_time": "2022-05-27T05:56:36.218Z"
   },
   {
    "duration": 207,
    "start_time": "2022-05-27T05:56:36.415Z"
   },
   {
    "duration": 5,
    "start_time": "2022-05-27T05:56:36.624Z"
   },
   {
    "duration": 29,
    "start_time": "2022-05-27T05:56:36.632Z"
   },
   {
    "duration": 204,
    "start_time": "2022-05-27T05:56:36.664Z"
   },
   {
    "duration": 204,
    "start_time": "2022-05-27T05:56:36.870Z"
   },
   {
    "duration": 6,
    "start_time": "2022-05-27T05:56:37.082Z"
   },
   {
    "duration": 13,
    "start_time": "2022-05-27T05:56:37.092Z"
   },
   {
    "duration": 204,
    "start_time": "2022-05-27T05:56:37.107Z"
   },
   {
    "duration": 195,
    "start_time": "2022-05-27T05:56:37.313Z"
   },
   {
    "duration": 6,
    "start_time": "2022-05-27T05:56:37.510Z"
   },
   {
    "duration": 14,
    "start_time": "2022-05-27T05:56:37.518Z"
   },
   {
    "duration": 21,
    "start_time": "2022-05-27T05:56:37.534Z"
   },
   {
    "duration": 192,
    "start_time": "2022-05-27T05:56:37.558Z"
   },
   {
    "duration": 188,
    "start_time": "2022-05-27T05:56:37.752Z"
   },
   {
    "duration": 18,
    "start_time": "2022-05-27T05:56:37.942Z"
   },
   {
    "duration": 658,
    "start_time": "2022-05-27T05:56:37.966Z"
   },
   {
    "duration": 381,
    "start_time": "2022-05-27T05:56:38.626Z"
   },
   {
    "duration": 194,
    "start_time": "2022-05-27T05:56:39.009Z"
   },
   {
    "duration": 155,
    "start_time": "2022-05-27T05:56:39.205Z"
   },
   {
    "duration": 0,
    "start_time": "2022-05-27T05:56:39.362Z"
   },
   {
    "duration": 0,
    "start_time": "2022-05-27T05:56:39.363Z"
   },
   {
    "duration": 0,
    "start_time": "2022-05-27T05:56:39.364Z"
   },
   {
    "duration": 0,
    "start_time": "2022-05-27T05:56:39.366Z"
   },
   {
    "duration": 0,
    "start_time": "2022-05-27T05:56:39.367Z"
   },
   {
    "duration": 0,
    "start_time": "2022-05-27T05:56:39.369Z"
   },
   {
    "duration": 0,
    "start_time": "2022-05-27T05:56:39.370Z"
   },
   {
    "duration": 0,
    "start_time": "2022-05-27T05:56:39.371Z"
   },
   {
    "duration": 0,
    "start_time": "2022-05-27T05:56:39.372Z"
   },
   {
    "duration": 0,
    "start_time": "2022-05-27T05:56:39.374Z"
   },
   {
    "duration": 0,
    "start_time": "2022-05-27T05:56:39.375Z"
   },
   {
    "duration": 0,
    "start_time": "2022-05-27T05:56:39.377Z"
   },
   {
    "duration": 0,
    "start_time": "2022-05-27T05:56:39.378Z"
   },
   {
    "duration": 0,
    "start_time": "2022-05-27T05:56:39.379Z"
   },
   {
    "duration": 0,
    "start_time": "2022-05-27T05:56:39.381Z"
   },
   {
    "duration": 0,
    "start_time": "2022-05-27T05:56:39.382Z"
   },
   {
    "duration": 0,
    "start_time": "2022-05-27T05:56:39.383Z"
   },
   {
    "duration": 0,
    "start_time": "2022-05-27T05:56:39.385Z"
   },
   {
    "duration": 1222,
    "start_time": "2022-05-27T05:57:09.410Z"
   },
   {
    "duration": 96,
    "start_time": "2022-05-27T05:57:10.635Z"
   },
   {
    "duration": 16,
    "start_time": "2022-05-27T05:57:10.732Z"
   },
   {
    "duration": 33,
    "start_time": "2022-05-27T05:57:10.750Z"
   },
   {
    "duration": 18,
    "start_time": "2022-05-27T05:57:10.785Z"
   },
   {
    "duration": 5,
    "start_time": "2022-05-27T05:57:10.805Z"
   },
   {
    "duration": 7,
    "start_time": "2022-05-27T05:57:10.811Z"
   },
   {
    "duration": 24,
    "start_time": "2022-05-27T05:57:10.820Z"
   },
   {
    "duration": 10,
    "start_time": "2022-05-27T05:57:10.846Z"
   },
   {
    "duration": 38,
    "start_time": "2022-05-27T05:57:10.860Z"
   },
   {
    "duration": 11,
    "start_time": "2022-05-27T05:57:10.900Z"
   },
   {
    "duration": 7,
    "start_time": "2022-05-27T05:57:10.913Z"
   },
   {
    "duration": 10,
    "start_time": "2022-05-27T05:57:10.922Z"
   },
   {
    "duration": 18,
    "start_time": "2022-05-27T05:57:10.934Z"
   },
   {
    "duration": 35,
    "start_time": "2022-05-27T05:57:10.960Z"
   },
   {
    "duration": 242,
    "start_time": "2022-05-27T05:57:10.996Z"
   },
   {
    "duration": 18,
    "start_time": "2022-05-27T05:57:11.240Z"
   },
   {
    "duration": 288,
    "start_time": "2022-05-27T05:57:11.275Z"
   },
   {
    "duration": 6,
    "start_time": "2022-05-27T05:57:11.565Z"
   },
   {
    "duration": 35,
    "start_time": "2022-05-27T05:57:11.573Z"
   },
   {
    "duration": 312,
    "start_time": "2022-05-27T05:57:11.609Z"
   },
   {
    "duration": 11,
    "start_time": "2022-05-27T05:57:11.923Z"
   },
   {
    "duration": 201,
    "start_time": "2022-05-27T05:57:11.935Z"
   },
   {
    "duration": 25,
    "start_time": "2022-05-27T05:57:12.138Z"
   },
   {
    "duration": 217,
    "start_time": "2022-05-27T05:57:12.171Z"
   },
   {
    "duration": 217,
    "start_time": "2022-05-27T05:57:12.393Z"
   },
   {
    "duration": 5,
    "start_time": "2022-05-27T05:57:12.612Z"
   },
   {
    "duration": 23,
    "start_time": "2022-05-27T05:57:12.622Z"
   },
   {
    "duration": 232,
    "start_time": "2022-05-27T05:57:12.647Z"
   },
   {
    "duration": 224,
    "start_time": "2022-05-27T05:57:12.881Z"
   },
   {
    "duration": 5,
    "start_time": "2022-05-27T05:57:13.107Z"
   },
   {
    "duration": 24,
    "start_time": "2022-05-27T05:57:13.113Z"
   },
   {
    "duration": 182,
    "start_time": "2022-05-27T05:57:13.139Z"
   },
   {
    "duration": 246,
    "start_time": "2022-05-27T05:57:13.323Z"
   },
   {
    "duration": 14,
    "start_time": "2022-05-27T05:57:13.573Z"
   },
   {
    "duration": 15,
    "start_time": "2022-05-27T05:57:13.589Z"
   },
   {
    "duration": 7,
    "start_time": "2022-05-27T05:57:13.606Z"
   },
   {
    "duration": 185,
    "start_time": "2022-05-27T05:57:13.615Z"
   },
   {
    "duration": 184,
    "start_time": "2022-05-27T05:57:13.802Z"
   },
   {
    "duration": 14,
    "start_time": "2022-05-27T05:57:13.988Z"
   },
   {
    "duration": 608,
    "start_time": "2022-05-27T05:57:14.004Z"
   },
   {
    "duration": 367,
    "start_time": "2022-05-27T05:57:14.614Z"
   },
   {
    "duration": 178,
    "start_time": "2022-05-27T05:57:14.982Z"
   },
   {
    "duration": 24,
    "start_time": "2022-05-27T05:57:15.174Z"
   },
   {
    "duration": 19,
    "start_time": "2022-05-27T05:57:15.200Z"
   },
   {
    "duration": 51,
    "start_time": "2022-05-27T05:57:15.221Z"
   },
   {
    "duration": 43,
    "start_time": "2022-05-27T05:57:15.273Z"
   },
   {
    "duration": 20,
    "start_time": "2022-05-27T05:57:15.319Z"
   },
   {
    "duration": 14,
    "start_time": "2022-05-27T05:57:15.342Z"
   },
   {
    "duration": 51,
    "start_time": "2022-05-27T05:57:15.358Z"
   },
   {
    "duration": 31,
    "start_time": "2022-05-27T05:57:15.411Z"
   },
   {
    "duration": 94,
    "start_time": "2022-05-27T05:57:15.445Z"
   },
   {
    "duration": 74,
    "start_time": "2022-05-27T05:57:15.542Z"
   },
   {
    "duration": 285,
    "start_time": "2022-05-27T05:57:15.618Z"
   },
   {
    "duration": 7,
    "start_time": "2022-05-27T05:57:15.906Z"
   },
   {
    "duration": 11,
    "start_time": "2022-05-27T05:57:15.915Z"
   },
   {
    "duration": 13,
    "start_time": "2022-05-27T05:57:15.928Z"
   },
   {
    "duration": 264,
    "start_time": "2022-05-27T05:57:15.956Z"
   },
   {
    "duration": 7,
    "start_time": "2022-05-27T05:57:16.223Z"
   },
   {
    "duration": 22,
    "start_time": "2022-05-27T05:57:16.232Z"
   },
   {
    "duration": 13,
    "start_time": "2022-05-27T05:57:16.256Z"
   },
   {
    "duration": 11,
    "start_time": "2022-05-27T06:02:57.945Z"
   },
   {
    "duration": 1252,
    "start_time": "2022-05-27T06:03:51.161Z"
   },
   {
    "duration": 79,
    "start_time": "2022-05-27T06:03:52.415Z"
   },
   {
    "duration": 22,
    "start_time": "2022-05-27T06:03:52.496Z"
   },
   {
    "duration": 15,
    "start_time": "2022-05-27T06:03:52.520Z"
   },
   {
    "duration": 16,
    "start_time": "2022-05-27T06:03:52.552Z"
   },
   {
    "duration": 32,
    "start_time": "2022-05-27T06:03:52.570Z"
   },
   {
    "duration": 17,
    "start_time": "2022-05-27T06:03:52.604Z"
   },
   {
    "duration": 21,
    "start_time": "2022-05-27T06:03:52.623Z"
   },
   {
    "duration": 45,
    "start_time": "2022-05-27T06:03:52.646Z"
   },
   {
    "duration": 7,
    "start_time": "2022-05-27T06:03:52.695Z"
   },
   {
    "duration": 10,
    "start_time": "2022-05-27T06:03:52.704Z"
   },
   {
    "duration": 8,
    "start_time": "2022-05-27T06:03:52.716Z"
   },
   {
    "duration": 9,
    "start_time": "2022-05-27T06:03:52.725Z"
   },
   {
    "duration": 32,
    "start_time": "2022-05-27T06:03:52.736Z"
   },
   {
    "duration": 36,
    "start_time": "2022-05-27T06:03:52.773Z"
   },
   {
    "duration": 228,
    "start_time": "2022-05-27T06:03:52.811Z"
   },
   {
    "duration": 23,
    "start_time": "2022-05-27T06:03:53.041Z"
   },
   {
    "duration": 313,
    "start_time": "2022-05-27T06:03:53.065Z"
   },
   {
    "duration": 3,
    "start_time": "2022-05-27T06:03:53.382Z"
   },
   {
    "duration": 17,
    "start_time": "2022-05-27T06:03:53.387Z"
   },
   {
    "duration": 324,
    "start_time": "2022-05-27T06:03:53.405Z"
   },
   {
    "duration": 11,
    "start_time": "2022-05-27T06:03:53.731Z"
   },
   {
    "duration": 179,
    "start_time": "2022-05-27T06:03:53.764Z"
   },
   {
    "duration": 8,
    "start_time": "2022-05-27T06:03:53.944Z"
   },
   {
    "duration": 231,
    "start_time": "2022-05-27T06:03:53.953Z"
   },
   {
    "duration": 183,
    "start_time": "2022-05-27T06:03:54.187Z"
   },
   {
    "duration": 5,
    "start_time": "2022-05-27T06:03:54.381Z"
   },
   {
    "duration": 15,
    "start_time": "2022-05-27T06:03:54.391Z"
   },
   {
    "duration": 202,
    "start_time": "2022-05-27T06:03:54.407Z"
   },
   {
    "duration": 203,
    "start_time": "2022-05-27T06:03:54.610Z"
   },
   {
    "duration": 5,
    "start_time": "2022-05-27T06:03:54.814Z"
   },
   {
    "duration": 19,
    "start_time": "2022-05-27T06:03:54.820Z"
   },
   {
    "duration": 177,
    "start_time": "2022-05-27T06:03:54.840Z"
   },
   {
    "duration": 198,
    "start_time": "2022-05-27T06:03:55.018Z"
   },
   {
    "duration": 7,
    "start_time": "2022-05-27T06:03:55.218Z"
   },
   {
    "duration": 12,
    "start_time": "2022-05-27T06:03:55.227Z"
   },
   {
    "duration": 9,
    "start_time": "2022-05-27T06:03:55.255Z"
   },
   {
    "duration": 249,
    "start_time": "2022-05-27T06:03:55.269Z"
   },
   {
    "duration": 199,
    "start_time": "2022-05-27T06:03:55.520Z"
   },
   {
    "duration": 7,
    "start_time": "2022-05-27T06:03:55.720Z"
   },
   {
    "duration": 603,
    "start_time": "2022-05-27T06:03:55.729Z"
   },
   {
    "duration": 338,
    "start_time": "2022-05-27T06:03:56.333Z"
   },
   {
    "duration": 160,
    "start_time": "2022-05-27T06:03:56.679Z"
   },
   {
    "duration": 12,
    "start_time": "2022-05-27T06:03:56.841Z"
   },
   {
    "duration": 35,
    "start_time": "2022-05-27T06:03:56.856Z"
   },
   {
    "duration": 9,
    "start_time": "2022-05-27T06:03:56.893Z"
   },
   {
    "duration": 8,
    "start_time": "2022-05-27T06:03:56.904Z"
   },
   {
    "duration": 13,
    "start_time": "2022-05-27T06:03:56.913Z"
   },
   {
    "duration": 10,
    "start_time": "2022-05-27T06:03:56.928Z"
   },
   {
    "duration": 10,
    "start_time": "2022-05-27T06:03:56.939Z"
   },
   {
    "duration": 49,
    "start_time": "2022-05-27T06:03:56.950Z"
   },
   {
    "duration": 17,
    "start_time": "2022-05-27T06:03:57.000Z"
   },
   {
    "duration": 15,
    "start_time": "2022-05-27T06:03:57.018Z"
   },
   {
    "duration": 198,
    "start_time": "2022-05-27T06:03:57.035Z"
   },
   {
    "duration": 6,
    "start_time": "2022-05-27T06:03:57.235Z"
   },
   {
    "duration": 35,
    "start_time": "2022-05-27T06:03:57.243Z"
   },
   {
    "duration": 45,
    "start_time": "2022-05-27T06:03:57.279Z"
   },
   {
    "duration": 218,
    "start_time": "2022-05-27T06:03:57.326Z"
   },
   {
    "duration": 16,
    "start_time": "2022-05-27T06:03:57.546Z"
   },
   {
    "duration": 29,
    "start_time": "2022-05-27T06:03:57.563Z"
   },
   {
    "duration": 11,
    "start_time": "2022-05-27T06:03:57.594Z"
   },
   {
    "duration": 1202,
    "start_time": "2022-05-27T06:28:10.483Z"
   },
   {
    "duration": 81,
    "start_time": "2022-05-27T06:28:11.687Z"
   },
   {
    "duration": 19,
    "start_time": "2022-05-27T06:28:11.771Z"
   },
   {
    "duration": 13,
    "start_time": "2022-05-27T06:28:11.792Z"
   },
   {
    "duration": 10,
    "start_time": "2022-05-27T06:28:11.807Z"
   },
   {
    "duration": 6,
    "start_time": "2022-05-27T06:28:11.818Z"
   },
   {
    "duration": 5,
    "start_time": "2022-05-27T06:28:11.826Z"
   },
   {
    "duration": 29,
    "start_time": "2022-05-27T06:28:11.833Z"
   },
   {
    "duration": 7,
    "start_time": "2022-05-27T06:28:11.863Z"
   },
   {
    "duration": 22,
    "start_time": "2022-05-27T06:28:11.877Z"
   },
   {
    "duration": 14,
    "start_time": "2022-05-27T06:28:11.901Z"
   },
   {
    "duration": 23,
    "start_time": "2022-05-27T06:28:11.917Z"
   },
   {
    "duration": 8,
    "start_time": "2022-05-27T06:28:11.942Z"
   },
   {
    "duration": 44,
    "start_time": "2022-05-27T06:28:11.952Z"
   },
   {
    "duration": 24,
    "start_time": "2022-05-27T06:28:11.998Z"
   },
   {
    "duration": 254,
    "start_time": "2022-05-27T06:28:12.024Z"
   },
   {
    "duration": 9,
    "start_time": "2022-05-27T06:28:12.280Z"
   },
   {
    "duration": 348,
    "start_time": "2022-05-27T06:28:12.290Z"
   },
   {
    "duration": 0,
    "start_time": "2022-05-27T06:28:12.641Z"
   },
   {
    "duration": 0,
    "start_time": "2022-05-27T06:28:12.642Z"
   },
   {
    "duration": 0,
    "start_time": "2022-05-27T06:28:12.643Z"
   },
   {
    "duration": 0,
    "start_time": "2022-05-27T06:28:12.655Z"
   },
   {
    "duration": 0,
    "start_time": "2022-05-27T06:28:12.656Z"
   },
   {
    "duration": 0,
    "start_time": "2022-05-27T06:28:12.660Z"
   },
   {
    "duration": 0,
    "start_time": "2022-05-27T06:28:12.662Z"
   },
   {
    "duration": 0,
    "start_time": "2022-05-27T06:28:12.663Z"
   },
   {
    "duration": 0,
    "start_time": "2022-05-27T06:28:12.666Z"
   },
   {
    "duration": 0,
    "start_time": "2022-05-27T06:28:12.666Z"
   },
   {
    "duration": 0,
    "start_time": "2022-05-27T06:28:12.668Z"
   },
   {
    "duration": 0,
    "start_time": "2022-05-27T06:28:12.669Z"
   },
   {
    "duration": 0,
    "start_time": "2022-05-27T06:28:12.670Z"
   },
   {
    "duration": 1,
    "start_time": "2022-05-27T06:28:12.671Z"
   },
   {
    "duration": 0,
    "start_time": "2022-05-27T06:28:12.673Z"
   },
   {
    "duration": 0,
    "start_time": "2022-05-27T06:28:12.677Z"
   },
   {
    "duration": 0,
    "start_time": "2022-05-27T06:28:12.679Z"
   },
   {
    "duration": 0,
    "start_time": "2022-05-27T06:28:12.680Z"
   },
   {
    "duration": 0,
    "start_time": "2022-05-27T06:28:12.681Z"
   },
   {
    "duration": 0,
    "start_time": "2022-05-27T06:28:12.682Z"
   },
   {
    "duration": 0,
    "start_time": "2022-05-27T06:28:12.683Z"
   },
   {
    "duration": 0,
    "start_time": "2022-05-27T06:28:12.684Z"
   },
   {
    "duration": 0,
    "start_time": "2022-05-27T06:28:12.685Z"
   },
   {
    "duration": 0,
    "start_time": "2022-05-27T06:28:12.691Z"
   },
   {
    "duration": 0,
    "start_time": "2022-05-27T06:28:12.692Z"
   },
   {
    "duration": 0,
    "start_time": "2022-05-27T06:28:12.694Z"
   },
   {
    "duration": 0,
    "start_time": "2022-05-27T06:28:12.695Z"
   },
   {
    "duration": 0,
    "start_time": "2022-05-27T06:28:12.697Z"
   },
   {
    "duration": 0,
    "start_time": "2022-05-27T06:28:12.699Z"
   },
   {
    "duration": 0,
    "start_time": "2022-05-27T06:28:12.700Z"
   },
   {
    "duration": 0,
    "start_time": "2022-05-27T06:28:12.701Z"
   },
   {
    "duration": 0,
    "start_time": "2022-05-27T06:28:12.702Z"
   },
   {
    "duration": 0,
    "start_time": "2022-05-27T06:28:12.703Z"
   },
   {
    "duration": 0,
    "start_time": "2022-05-27T06:28:12.704Z"
   },
   {
    "duration": 0,
    "start_time": "2022-05-27T06:28:12.706Z"
   },
   {
    "duration": 0,
    "start_time": "2022-05-27T06:28:12.753Z"
   },
   {
    "duration": 0,
    "start_time": "2022-05-27T06:28:12.754Z"
   },
   {
    "duration": 0,
    "start_time": "2022-05-27T06:28:12.755Z"
   },
   {
    "duration": 0,
    "start_time": "2022-05-27T06:28:12.755Z"
   },
   {
    "duration": 0,
    "start_time": "2022-05-27T06:28:12.756Z"
   },
   {
    "duration": 0,
    "start_time": "2022-05-27T06:28:12.757Z"
   },
   {
    "duration": 0,
    "start_time": "2022-05-27T06:28:12.758Z"
   },
   {
    "duration": 0,
    "start_time": "2022-05-27T06:28:12.759Z"
   },
   {
    "duration": 1219,
    "start_time": "2022-05-27T06:29:22.972Z"
   },
   {
    "duration": 79,
    "start_time": "2022-05-27T06:29:24.193Z"
   },
   {
    "duration": 18,
    "start_time": "2022-05-27T06:29:24.274Z"
   },
   {
    "duration": 12,
    "start_time": "2022-05-27T06:29:24.295Z"
   },
   {
    "duration": 16,
    "start_time": "2022-05-27T06:29:24.310Z"
   },
   {
    "duration": 8,
    "start_time": "2022-05-27T06:29:24.328Z"
   },
   {
    "duration": 21,
    "start_time": "2022-05-27T06:29:24.338Z"
   },
   {
    "duration": 43,
    "start_time": "2022-05-27T06:29:24.361Z"
   },
   {
    "duration": 5,
    "start_time": "2022-05-27T06:29:24.406Z"
   },
   {
    "duration": 11,
    "start_time": "2022-05-27T06:29:24.413Z"
   },
   {
    "duration": 14,
    "start_time": "2022-05-27T06:29:24.426Z"
   },
   {
    "duration": 21,
    "start_time": "2022-05-27T06:29:24.443Z"
   },
   {
    "duration": 36,
    "start_time": "2022-05-27T06:29:24.465Z"
   },
   {
    "duration": 20,
    "start_time": "2022-05-27T06:29:24.504Z"
   },
   {
    "duration": 23,
    "start_time": "2022-05-27T06:29:24.525Z"
   },
   {
    "duration": 241,
    "start_time": "2022-05-27T06:29:24.549Z"
   },
   {
    "duration": 8,
    "start_time": "2022-05-27T06:29:24.792Z"
   },
   {
    "duration": 4,
    "start_time": "2022-05-27T06:29:24.802Z"
   },
   {
    "duration": 1222,
    "start_time": "2022-05-27T06:31:37.025Z"
   },
   {
    "duration": 85,
    "start_time": "2022-05-27T06:31:38.249Z"
   },
   {
    "duration": 21,
    "start_time": "2022-05-27T06:31:38.336Z"
   },
   {
    "duration": 24,
    "start_time": "2022-05-27T06:31:38.366Z"
   },
   {
    "duration": 10,
    "start_time": "2022-05-27T06:31:38.391Z"
   },
   {
    "duration": 6,
    "start_time": "2022-05-27T06:31:38.402Z"
   },
   {
    "duration": 7,
    "start_time": "2022-05-27T06:31:38.410Z"
   },
   {
    "duration": 23,
    "start_time": "2022-05-27T06:31:38.418Z"
   },
   {
    "duration": 10,
    "start_time": "2022-05-27T06:31:38.442Z"
   },
   {
    "duration": 21,
    "start_time": "2022-05-27T06:31:38.465Z"
   },
   {
    "duration": 15,
    "start_time": "2022-05-27T06:31:38.488Z"
   },
   {
    "duration": 8,
    "start_time": "2022-05-27T06:31:38.505Z"
   },
   {
    "duration": 11,
    "start_time": "2022-05-27T06:31:38.515Z"
   },
   {
    "duration": 19,
    "start_time": "2022-05-27T06:31:38.528Z"
   },
   {
    "duration": 31,
    "start_time": "2022-05-27T06:31:38.549Z"
   },
   {
    "duration": 236,
    "start_time": "2022-05-27T06:31:38.583Z"
   },
   {
    "duration": 8,
    "start_time": "2022-05-27T06:31:38.820Z"
   },
   {
    "duration": 16,
    "start_time": "2022-05-27T06:31:38.830Z"
   },
   {
    "duration": 1257,
    "start_time": "2022-05-27T06:58:33.478Z"
   },
   {
    "duration": 125,
    "start_time": "2022-05-27T06:58:34.737Z"
   },
   {
    "duration": 24,
    "start_time": "2022-05-27T06:58:34.864Z"
   },
   {
    "duration": 21,
    "start_time": "2022-05-27T06:58:34.890Z"
   },
   {
    "duration": 9,
    "start_time": "2022-05-27T06:58:34.913Z"
   },
   {
    "duration": 6,
    "start_time": "2022-05-27T06:58:34.924Z"
   },
   {
    "duration": 20,
    "start_time": "2022-05-27T06:58:34.932Z"
   },
   {
    "duration": 22,
    "start_time": "2022-05-27T06:58:34.954Z"
   },
   {
    "duration": 22,
    "start_time": "2022-05-27T06:58:34.978Z"
   },
   {
    "duration": 8,
    "start_time": "2022-05-27T06:58:35.002Z"
   },
   {
    "duration": 15,
    "start_time": "2022-05-27T06:58:35.012Z"
   },
   {
    "duration": 8,
    "start_time": "2022-05-27T06:58:35.029Z"
   },
   {
    "duration": 19,
    "start_time": "2022-05-27T06:58:35.038Z"
   },
   {
    "duration": 37,
    "start_time": "2022-05-27T06:58:35.060Z"
   },
   {
    "duration": 26,
    "start_time": "2022-05-27T06:58:35.099Z"
   },
   {
    "duration": 284,
    "start_time": "2022-05-27T06:58:35.126Z"
   },
   {
    "duration": 12,
    "start_time": "2022-05-27T06:58:35.412Z"
   },
   {
    "duration": 369,
    "start_time": "2022-05-27T06:58:35.427Z"
   },
   {
    "duration": 4,
    "start_time": "2022-05-27T06:58:35.808Z"
   },
   {
    "duration": 22,
    "start_time": "2022-05-27T06:58:35.814Z"
   },
   {
    "duration": 402,
    "start_time": "2022-05-27T06:58:35.838Z"
   },
   {
    "duration": 17,
    "start_time": "2022-05-27T06:58:36.242Z"
   },
   {
    "duration": 258,
    "start_time": "2022-05-27T06:58:36.260Z"
   },
   {
    "duration": 7,
    "start_time": "2022-05-27T06:58:36.520Z"
   },
   {
    "duration": 192,
    "start_time": "2022-05-27T06:58:36.529Z"
   },
   {
    "duration": 218,
    "start_time": "2022-05-27T06:58:36.723Z"
   },
   {
    "duration": 19,
    "start_time": "2022-05-27T06:58:36.943Z"
   },
   {
    "duration": 13,
    "start_time": "2022-05-27T06:58:36.967Z"
   },
   {
    "duration": 188,
    "start_time": "2022-05-27T06:58:36.982Z"
   },
   {
    "duration": 186,
    "start_time": "2022-05-27T06:58:37.171Z"
   },
   {
    "duration": 6,
    "start_time": "2022-05-27T06:58:37.359Z"
   },
   {
    "duration": 40,
    "start_time": "2022-05-27T06:58:37.367Z"
   },
   {
    "duration": 182,
    "start_time": "2022-05-27T06:58:37.409Z"
   },
   {
    "duration": 219,
    "start_time": "2022-05-27T06:58:37.593Z"
   },
   {
    "duration": 6,
    "start_time": "2022-05-27T06:58:37.814Z"
   },
   {
    "duration": 16,
    "start_time": "2022-05-27T06:58:37.822Z"
   },
   {
    "duration": 13,
    "start_time": "2022-05-27T06:58:37.840Z"
   },
   {
    "duration": 216,
    "start_time": "2022-05-27T06:58:37.855Z"
   },
   {
    "duration": 208,
    "start_time": "2022-05-27T06:58:38.073Z"
   },
   {
    "duration": 12,
    "start_time": "2022-05-27T06:58:38.282Z"
   },
   {
    "duration": 625,
    "start_time": "2022-05-27T06:58:38.299Z"
   },
   {
    "duration": 485,
    "start_time": "2022-05-27T06:58:38.926Z"
   },
   {
    "duration": 375,
    "start_time": "2022-05-27T06:58:39.413Z"
   },
   {
    "duration": 193,
    "start_time": "2022-05-27T06:58:39.790Z"
   },
   {
    "duration": 10,
    "start_time": "2022-05-27T06:58:39.987Z"
   },
   {
    "duration": 9,
    "start_time": "2022-05-27T06:58:39.999Z"
   },
   {
    "duration": 10,
    "start_time": "2022-05-27T06:58:40.010Z"
   },
   {
    "duration": 12,
    "start_time": "2022-05-27T06:58:40.022Z"
   },
   {
    "duration": 34,
    "start_time": "2022-05-27T06:58:40.036Z"
   },
   {
    "duration": 21,
    "start_time": "2022-05-27T06:58:40.077Z"
   },
   {
    "duration": 13,
    "start_time": "2022-05-27T06:58:40.100Z"
   },
   {
    "duration": 13,
    "start_time": "2022-05-27T06:58:40.115Z"
   },
   {
    "duration": 15,
    "start_time": "2022-05-27T06:58:40.131Z"
   },
   {
    "duration": 218,
    "start_time": "2022-05-27T06:58:40.154Z"
   },
   {
    "duration": 16,
    "start_time": "2022-05-27T06:58:40.373Z"
   },
   {
    "duration": 13,
    "start_time": "2022-05-27T06:58:40.391Z"
   },
   {
    "duration": 13,
    "start_time": "2022-05-27T06:58:40.406Z"
   },
   {
    "duration": 222,
    "start_time": "2022-05-27T06:58:40.421Z"
   },
   {
    "duration": 10,
    "start_time": "2022-05-27T06:58:40.645Z"
   },
   {
    "duration": 41,
    "start_time": "2022-05-27T06:58:40.656Z"
   },
   {
    "duration": 26,
    "start_time": "2022-05-27T06:58:40.699Z"
   },
   {
    "duration": 579,
    "start_time": "2022-05-27T07:14:45.148Z"
   },
   {
    "duration": 686,
    "start_time": "2022-05-27T07:15:49.452Z"
   },
   {
    "duration": 17,
    "start_time": "2022-05-27T07:17:31.860Z"
   },
   {
    "duration": 648,
    "start_time": "2022-05-27T07:17:34.095Z"
   },
   {
    "duration": 666,
    "start_time": "2022-05-27T07:17:44.267Z"
   },
   {
    "duration": 780,
    "start_time": "2022-05-27T07:18:00.256Z"
   },
   {
    "duration": 709,
    "start_time": "2022-05-27T07:18:36.823Z"
   },
   {
    "duration": 540,
    "start_time": "2022-05-27T07:18:42.876Z"
   },
   {
    "duration": 1779,
    "start_time": "2022-05-27T07:22:54.807Z"
   },
   {
    "duration": 26,
    "start_time": "2022-05-27T07:23:04.776Z"
   },
   {
    "duration": 2169,
    "start_time": "2022-05-27T07:23:27.781Z"
   },
   {
    "duration": 152,
    "start_time": "2022-05-27T07:23:29.952Z"
   },
   {
    "duration": 37,
    "start_time": "2022-05-27T07:23:30.105Z"
   },
   {
    "duration": 43,
    "start_time": "2022-05-27T07:23:30.144Z"
   },
   {
    "duration": 123,
    "start_time": "2022-05-27T07:23:30.195Z"
   },
   {
    "duration": 16,
    "start_time": "2022-05-27T07:23:30.320Z"
   },
   {
    "duration": 11,
    "start_time": "2022-05-27T07:23:30.338Z"
   },
   {
    "duration": 67,
    "start_time": "2022-05-27T07:23:30.362Z"
   },
   {
    "duration": 18,
    "start_time": "2022-05-27T07:23:30.432Z"
   },
   {
    "duration": 83,
    "start_time": "2022-05-27T07:23:30.451Z"
   },
   {
    "duration": 91,
    "start_time": "2022-05-27T07:23:30.536Z"
   },
   {
    "duration": 113,
    "start_time": "2022-05-27T07:23:30.629Z"
   },
   {
    "duration": 67,
    "start_time": "2022-05-27T07:23:30.744Z"
   },
   {
    "duration": 47,
    "start_time": "2022-05-27T07:23:30.816Z"
   },
   {
    "duration": 59,
    "start_time": "2022-05-27T07:23:30.866Z"
   },
   {
    "duration": 293,
    "start_time": "2022-05-27T07:23:30.928Z"
   },
   {
    "duration": 10,
    "start_time": "2022-05-27T07:23:31.223Z"
   },
   {
    "duration": 481,
    "start_time": "2022-05-27T07:23:31.236Z"
   },
   {
    "duration": 4,
    "start_time": "2022-05-27T07:23:31.721Z"
   },
   {
    "duration": 58,
    "start_time": "2022-05-27T07:23:31.730Z"
   },
   {
    "duration": 535,
    "start_time": "2022-05-27T07:23:31.790Z"
   },
   {
    "duration": 13,
    "start_time": "2022-05-27T07:23:32.327Z"
   },
   {
    "duration": 353,
    "start_time": "2022-05-27T07:23:32.342Z"
   },
   {
    "duration": 8,
    "start_time": "2022-05-27T07:23:32.697Z"
   },
   {
    "duration": 338,
    "start_time": "2022-05-27T07:23:32.707Z"
   },
   {
    "duration": 267,
    "start_time": "2022-05-27T07:23:33.047Z"
   },
   {
    "duration": 6,
    "start_time": "2022-05-27T07:23:33.321Z"
   },
   {
    "duration": 13,
    "start_time": "2022-05-27T07:23:33.328Z"
   },
   {
    "duration": 198,
    "start_time": "2022-05-27T07:23:33.343Z"
   },
   {
    "duration": 233,
    "start_time": "2022-05-27T07:23:33.543Z"
   },
   {
    "duration": 9,
    "start_time": "2022-05-27T07:23:33.777Z"
   },
   {
    "duration": 69,
    "start_time": "2022-05-27T07:23:33.788Z"
   },
   {
    "duration": 243,
    "start_time": "2022-05-27T07:23:33.859Z"
   },
   {
    "duration": 215,
    "start_time": "2022-05-27T07:23:34.104Z"
   },
   {
    "duration": 12,
    "start_time": "2022-05-27T07:23:34.321Z"
   },
   {
    "duration": 19,
    "start_time": "2022-05-27T07:23:34.335Z"
   },
   {
    "duration": 68,
    "start_time": "2022-05-27T07:23:34.360Z"
   },
   {
    "duration": 250,
    "start_time": "2022-05-27T07:23:34.430Z"
   },
   {
    "duration": 208,
    "start_time": "2022-05-27T07:23:34.689Z"
   },
   {
    "duration": 12,
    "start_time": "2022-05-27T07:23:34.908Z"
   },
   {
    "duration": 548,
    "start_time": "2022-05-27T07:23:34.926Z"
   },
   {
    "duration": 542,
    "start_time": "2022-05-27T07:23:35.478Z"
   },
   {
    "duration": 248,
    "start_time": "2022-05-27T07:23:36.025Z"
   },
   {
    "duration": 13,
    "start_time": "2022-05-27T07:23:36.277Z"
   },
   {
    "duration": 40,
    "start_time": "2022-05-27T07:23:36.299Z"
   },
   {
    "duration": 67,
    "start_time": "2022-05-27T07:23:36.341Z"
   },
   {
    "duration": 25,
    "start_time": "2022-05-27T07:23:36.411Z"
   },
   {
    "duration": 13,
    "start_time": "2022-05-27T07:23:36.438Z"
   },
   {
    "duration": 56,
    "start_time": "2022-05-27T07:23:36.461Z"
   },
   {
    "duration": 49,
    "start_time": "2022-05-27T07:23:36.520Z"
   },
   {
    "duration": 64,
    "start_time": "2022-05-27T07:23:36.571Z"
   },
   {
    "duration": 30,
    "start_time": "2022-05-27T07:23:36.638Z"
   },
   {
    "duration": 272,
    "start_time": "2022-05-27T07:23:36.670Z"
   },
   {
    "duration": 24,
    "start_time": "2022-05-27T07:23:36.944Z"
   },
   {
    "duration": 72,
    "start_time": "2022-05-27T07:23:36.970Z"
   },
   {
    "duration": 17,
    "start_time": "2022-05-27T07:23:37.045Z"
   },
   {
    "duration": 280,
    "start_time": "2022-05-27T07:23:37.065Z"
   },
   {
    "duration": 38,
    "start_time": "2022-05-27T07:23:37.348Z"
   },
   {
    "duration": 32,
    "start_time": "2022-05-27T07:23:37.390Z"
   },
   {
    "duration": 17,
    "start_time": "2022-05-27T07:23:37.424Z"
   },
   {
    "duration": 7,
    "start_time": "2022-05-27T07:26:18.176Z"
   },
   {
    "duration": 440,
    "start_time": "2022-05-27T07:26:24.431Z"
   },
   {
    "duration": 4,
    "start_time": "2022-05-27T07:34:47.338Z"
   },
   {
    "duration": 122,
    "start_time": "2022-05-27T07:34:48.601Z"
   },
   {
    "duration": 24,
    "start_time": "2022-05-27T07:34:50.980Z"
   },
   {
    "duration": 187,
    "start_time": "2022-05-27T07:35:02.964Z"
   },
   {
    "duration": 11,
    "start_time": "2022-05-27T07:35:20.124Z"
   },
   {
    "duration": 26,
    "start_time": "2022-05-27T07:35:37.775Z"
   },
   {
    "duration": 29,
    "start_time": "2022-05-27T07:36:45.674Z"
   },
   {
    "duration": 28,
    "start_time": "2022-05-27T07:36:52.601Z"
   },
   {
    "duration": 16,
    "start_time": "2022-05-27T07:37:00.544Z"
   },
   {
    "duration": 16,
    "start_time": "2022-05-27T07:37:54.920Z"
   },
   {
    "duration": 24,
    "start_time": "2022-05-27T07:37:57.975Z"
   },
   {
    "duration": 9,
    "start_time": "2022-05-27T07:38:02.318Z"
   },
   {
    "duration": 6,
    "start_time": "2022-05-27T07:38:03.898Z"
   },
   {
    "duration": 16,
    "start_time": "2022-05-27T07:38:12.401Z"
   },
   {
    "duration": 6,
    "start_time": "2022-05-27T07:38:14.738Z"
   },
   {
    "duration": 6,
    "start_time": "2022-05-27T07:38:16.498Z"
   },
   {
    "duration": 13,
    "start_time": "2022-05-27T07:38:18.188Z"
   },
   {
    "duration": 23,
    "start_time": "2022-05-27T07:38:30.108Z"
   },
   {
    "duration": 10,
    "start_time": "2022-05-27T07:38:34.504Z"
   },
   {
    "duration": 30,
    "start_time": "2022-05-27T07:38:36.485Z"
   },
   {
    "duration": 34,
    "start_time": "2022-05-27T07:38:45.497Z"
   },
   {
    "duration": 264,
    "start_time": "2022-05-27T07:38:49.422Z"
   },
   {
    "duration": 11,
    "start_time": "2022-05-27T07:38:59.196Z"
   },
   {
    "duration": 338,
    "start_time": "2022-05-27T07:39:01.473Z"
   },
   {
    "duration": 1631,
    "start_time": "2022-05-27T07:47:55.541Z"
   },
   {
    "duration": 115,
    "start_time": "2022-05-27T07:47:57.178Z"
   },
   {
    "duration": 27,
    "start_time": "2022-05-27T07:47:57.299Z"
   },
   {
    "duration": 26,
    "start_time": "2022-05-27T07:47:57.328Z"
   },
   {
    "duration": 81,
    "start_time": "2022-05-27T07:47:57.358Z"
   },
   {
    "duration": 15,
    "start_time": "2022-05-27T07:47:57.441Z"
   },
   {
    "duration": 67,
    "start_time": "2022-05-27T07:47:57.458Z"
   },
   {
    "duration": 9,
    "start_time": "2022-05-27T07:47:57.527Z"
   },
   {
    "duration": 32,
    "start_time": "2022-05-27T07:47:57.538Z"
   },
   {
    "duration": 37,
    "start_time": "2022-05-27T07:47:57.577Z"
   },
   {
    "duration": 10,
    "start_time": "2022-05-27T07:47:57.620Z"
   },
   {
    "duration": 14,
    "start_time": "2022-05-27T07:47:57.632Z"
   },
   {
    "duration": 66,
    "start_time": "2022-05-27T07:47:57.647Z"
   },
   {
    "duration": 19,
    "start_time": "2022-05-27T07:47:57.715Z"
   },
   {
    "duration": 32,
    "start_time": "2022-05-27T07:47:57.736Z"
   },
   {
    "duration": 51,
    "start_time": "2022-05-27T07:47:57.772Z"
   },
   {
    "duration": 319,
    "start_time": "2022-05-27T07:47:57.825Z"
   },
   {
    "duration": 29,
    "start_time": "2022-05-27T07:47:58.146Z"
   },
   {
    "duration": 351,
    "start_time": "2022-05-27T07:47:58.177Z"
   },
   {
    "duration": 4,
    "start_time": "2022-05-27T07:47:58.531Z"
   },
   {
    "duration": 33,
    "start_time": "2022-05-27T07:47:58.537Z"
   },
   {
    "duration": 457,
    "start_time": "2022-05-27T07:47:58.573Z"
   },
   {
    "duration": 5,
    "start_time": "2022-05-27T07:47:59.032Z"
   },
   {
    "duration": 71,
    "start_time": "2022-05-27T07:47:59.040Z"
   },
   {
    "duration": 245,
    "start_time": "2022-05-27T07:47:59.114Z"
   },
   {
    "duration": 7,
    "start_time": "2022-05-27T07:47:59.361Z"
   },
   {
    "duration": 212,
    "start_time": "2022-05-27T07:47:59.370Z"
   },
   {
    "duration": 210,
    "start_time": "2022-05-27T07:47:59.590Z"
   },
   {
    "duration": 6,
    "start_time": "2022-05-27T07:47:59.802Z"
   },
   {
    "duration": 14,
    "start_time": "2022-05-27T07:47:59.810Z"
   },
   {
    "duration": 220,
    "start_time": "2022-05-27T07:47:59.826Z"
   },
   {
    "duration": 265,
    "start_time": "2022-05-27T07:48:00.055Z"
   },
   {
    "duration": 6,
    "start_time": "2022-05-27T07:48:00.321Z"
   },
   {
    "duration": 17,
    "start_time": "2022-05-27T07:48:00.329Z"
   },
   {
    "duration": 225,
    "start_time": "2022-05-27T07:48:00.348Z"
   },
   {
    "duration": 168,
    "start_time": "2022-05-27T07:48:00.575Z"
   },
   {
    "duration": 5,
    "start_time": "2022-05-27T07:48:00.745Z"
   },
   {
    "duration": 58,
    "start_time": "2022-05-27T07:48:00.752Z"
   },
   {
    "duration": 22,
    "start_time": "2022-05-27T07:48:00.812Z"
   },
   {
    "duration": 285,
    "start_time": "2022-05-27T07:48:00.836Z"
   },
   {
    "duration": 222,
    "start_time": "2022-05-27T07:48:01.123Z"
   },
   {
    "duration": 12,
    "start_time": "2022-05-27T07:48:01.347Z"
   },
   {
    "duration": 477,
    "start_time": "2022-05-27T07:48:01.360Z"
   },
   {
    "duration": 601,
    "start_time": "2022-05-27T07:48:01.840Z"
   },
   {
    "duration": 223,
    "start_time": "2022-05-27T07:48:02.444Z"
   },
   {
    "duration": 11,
    "start_time": "2022-05-27T07:48:02.669Z"
   },
   {
    "duration": 51,
    "start_time": "2022-05-27T07:48:02.682Z"
   },
   {
    "duration": 23,
    "start_time": "2022-05-27T07:48:02.735Z"
   },
   {
    "duration": 57,
    "start_time": "2022-05-27T07:48:02.760Z"
   },
   {
    "duration": 18,
    "start_time": "2022-05-27T07:48:02.819Z"
   },
   {
    "duration": 12,
    "start_time": "2022-05-27T07:48:02.838Z"
   },
   {
    "duration": 68,
    "start_time": "2022-05-27T07:48:02.852Z"
   },
   {
    "duration": 16,
    "start_time": "2022-05-27T07:48:02.922Z"
   },
   {
    "duration": 15,
    "start_time": "2022-05-27T07:48:02.940Z"
   },
   {
    "duration": 272,
    "start_time": "2022-05-27T07:48:02.957Z"
   },
   {
    "duration": 8,
    "start_time": "2022-05-27T07:48:03.231Z"
   },
   {
    "duration": 49,
    "start_time": "2022-05-27T07:48:03.260Z"
   },
   {
    "duration": 24,
    "start_time": "2022-05-27T07:48:03.311Z"
   },
   {
    "duration": 259,
    "start_time": "2022-05-27T07:48:03.337Z"
   },
   {
    "duration": 8,
    "start_time": "2022-05-27T07:48:03.601Z"
   },
   {
    "duration": 12,
    "start_time": "2022-05-27T07:48:03.610Z"
   },
   {
    "duration": 9,
    "start_time": "2022-05-27T07:48:03.624Z"
   },
   {
    "duration": 1436,
    "start_time": "2022-05-27T07:50:00.792Z"
   },
   {
    "duration": 115,
    "start_time": "2022-05-27T07:50:02.233Z"
   },
   {
    "duration": 24,
    "start_time": "2022-05-27T07:50:02.350Z"
   },
   {
    "duration": 52,
    "start_time": "2022-05-27T07:50:02.378Z"
   },
   {
    "duration": 27,
    "start_time": "2022-05-27T07:50:02.432Z"
   },
   {
    "duration": 66,
    "start_time": "2022-05-27T07:50:02.461Z"
   },
   {
    "duration": 20,
    "start_time": "2022-05-27T07:50:02.529Z"
   },
   {
    "duration": 77,
    "start_time": "2022-05-27T07:50:02.552Z"
   },
   {
    "duration": 47,
    "start_time": "2022-05-27T07:50:02.632Z"
   },
   {
    "duration": 51,
    "start_time": "2022-05-27T07:50:02.685Z"
   },
   {
    "duration": 80,
    "start_time": "2022-05-27T07:50:02.739Z"
   },
   {
    "duration": 17,
    "start_time": "2022-05-27T07:50:02.820Z"
   },
   {
    "duration": 21,
    "start_time": "2022-05-27T07:50:02.839Z"
   },
   {
    "duration": 59,
    "start_time": "2022-05-27T07:50:02.862Z"
   },
   {
    "duration": 31,
    "start_time": "2022-05-27T07:50:02.924Z"
   },
   {
    "duration": 45,
    "start_time": "2022-05-27T07:50:02.960Z"
   },
   {
    "duration": 278,
    "start_time": "2022-05-27T07:50:03.006Z"
   },
   {
    "duration": 10,
    "start_time": "2022-05-27T07:50:03.286Z"
   },
   {
    "duration": 341,
    "start_time": "2022-05-27T07:50:03.304Z"
   },
   {
    "duration": 3,
    "start_time": "2022-05-27T07:50:03.647Z"
   },
   {
    "duration": 66,
    "start_time": "2022-05-27T07:50:03.655Z"
   },
   {
    "duration": 421,
    "start_time": "2022-05-27T07:50:03.723Z"
   },
   {
    "duration": 7,
    "start_time": "2022-05-27T07:50:04.146Z"
   },
   {
    "duration": 86,
    "start_time": "2022-05-27T07:50:04.155Z"
   },
   {
    "duration": 220,
    "start_time": "2022-05-27T07:50:04.243Z"
   },
   {
    "duration": 7,
    "start_time": "2022-05-27T07:50:04.465Z"
   },
   {
    "duration": 211,
    "start_time": "2022-05-27T07:50:04.474Z"
   },
   {
    "duration": 153,
    "start_time": "2022-05-27T07:50:04.692Z"
   },
   {
    "duration": 6,
    "start_time": "2022-05-27T07:50:04.847Z"
   },
   {
    "duration": 64,
    "start_time": "2022-05-27T07:50:04.854Z"
   },
   {
    "duration": 217,
    "start_time": "2022-05-27T07:50:04.920Z"
   },
   {
    "duration": 257,
    "start_time": "2022-05-27T07:50:05.138Z"
   },
   {
    "duration": 11,
    "start_time": "2022-05-27T07:50:05.398Z"
   },
   {
    "duration": 32,
    "start_time": "2022-05-27T07:50:05.414Z"
   },
   {
    "duration": 269,
    "start_time": "2022-05-27T07:50:05.448Z"
   },
   {
    "duration": 217,
    "start_time": "2022-05-27T07:50:05.719Z"
   },
   {
    "duration": 7,
    "start_time": "2022-05-27T07:50:05.940Z"
   },
   {
    "duration": 69,
    "start_time": "2022-05-27T07:50:05.949Z"
   },
   {
    "duration": 12,
    "start_time": "2022-05-27T07:50:06.020Z"
   },
   {
    "duration": 240,
    "start_time": "2022-05-27T07:50:06.034Z"
   },
   {
    "duration": 222,
    "start_time": "2022-05-27T07:50:06.276Z"
   },
   {
    "duration": 7,
    "start_time": "2022-05-27T07:50:06.508Z"
   },
   {
    "duration": 404,
    "start_time": "2022-05-27T07:50:06.517Z"
   },
   {
    "duration": 512,
    "start_time": "2022-05-27T07:50:06.923Z"
   },
   {
    "duration": 210,
    "start_time": "2022-05-27T07:50:07.437Z"
   },
   {
    "duration": 10,
    "start_time": "2022-05-27T07:50:07.649Z"
   },
   {
    "duration": 60,
    "start_time": "2022-05-27T07:50:07.661Z"
   },
   {
    "duration": 13,
    "start_time": "2022-05-27T07:50:07.723Z"
   },
   {
    "duration": 10,
    "start_time": "2022-05-27T07:50:07.738Z"
   },
   {
    "duration": 63,
    "start_time": "2022-05-27T07:50:07.750Z"
   },
   {
    "duration": 15,
    "start_time": "2022-05-27T07:50:07.815Z"
   },
   {
    "duration": 17,
    "start_time": "2022-05-27T07:50:07.832Z"
   },
   {
    "duration": 14,
    "start_time": "2022-05-27T07:50:07.851Z"
   },
   {
    "duration": 51,
    "start_time": "2022-05-27T07:50:07.867Z"
   },
   {
    "duration": 292,
    "start_time": "2022-05-27T07:50:07.920Z"
   },
   {
    "duration": 13,
    "start_time": "2022-05-27T07:50:08.214Z"
   },
   {
    "duration": 32,
    "start_time": "2022-05-27T07:50:08.229Z"
   },
   {
    "duration": 47,
    "start_time": "2022-05-27T07:50:08.265Z"
   },
   {
    "duration": 304,
    "start_time": "2022-05-27T07:50:08.314Z"
   },
   {
    "duration": 11,
    "start_time": "2022-05-27T07:50:08.621Z"
   },
   {
    "duration": 9,
    "start_time": "2022-05-27T07:50:08.633Z"
   },
   {
    "duration": 66,
    "start_time": "2022-05-27T07:50:08.655Z"
   },
   {
    "duration": 16,
    "start_time": "2022-05-27T07:54:35.169Z"
   },
   {
    "duration": 317,
    "start_time": "2022-05-27T07:54:37.774Z"
   },
   {
    "duration": 10,
    "start_time": "2022-05-27T07:56:21.530Z"
   },
   {
    "duration": 244,
    "start_time": "2022-05-27T07:56:28.476Z"
   },
   {
    "duration": 324,
    "start_time": "2022-05-27T07:56:34.242Z"
   },
   {
    "duration": 18,
    "start_time": "2022-05-27T07:56:41.468Z"
   },
   {
    "duration": 20,
    "start_time": "2022-05-27T07:57:36.586Z"
   },
   {
    "duration": 494,
    "start_time": "2022-05-27T07:57:38.232Z"
   },
   {
    "duration": 383,
    "start_time": "2022-05-27T07:57:41.082Z"
   },
   {
    "duration": 13,
    "start_time": "2022-05-27T07:57:50.816Z"
   },
   {
    "duration": 7,
    "start_time": "2022-05-27T07:58:28.397Z"
   },
   {
    "duration": 386,
    "start_time": "2022-05-27T07:58:39.915Z"
   },
   {
    "duration": 317,
    "start_time": "2022-05-27T07:58:45.107Z"
   },
   {
    "duration": 8,
    "start_time": "2022-05-27T07:58:51.136Z"
   },
   {
    "duration": 870,
    "start_time": "2022-05-27T08:00:55.275Z"
   },
   {
    "duration": 628,
    "start_time": "2022-05-27T08:01:05.503Z"
   },
   {
    "duration": 1823,
    "start_time": "2022-05-27T08:05:59.897Z"
   },
   {
    "duration": 119,
    "start_time": "2022-05-27T08:06:01.726Z"
   },
   {
    "duration": 30,
    "start_time": "2022-05-27T08:06:01.849Z"
   },
   {
    "duration": 51,
    "start_time": "2022-05-27T08:06:01.886Z"
   },
   {
    "duration": 57,
    "start_time": "2022-05-27T08:06:01.946Z"
   },
   {
    "duration": 43,
    "start_time": "2022-05-27T08:06:02.009Z"
   },
   {
    "duration": 167,
    "start_time": "2022-05-27T08:06:02.061Z"
   },
   {
    "duration": 88,
    "start_time": "2022-05-27T08:06:02.230Z"
   },
   {
    "duration": 92,
    "start_time": "2022-05-27T08:06:02.320Z"
   },
   {
    "duration": 120,
    "start_time": "2022-05-27T08:06:02.417Z"
   },
   {
    "duration": 21,
    "start_time": "2022-05-27T08:06:02.540Z"
   },
   {
    "duration": 143,
    "start_time": "2022-05-27T08:06:02.563Z"
   },
   {
    "duration": 53,
    "start_time": "2022-05-27T08:06:02.709Z"
   },
   {
    "duration": 125,
    "start_time": "2022-05-27T08:06:02.765Z"
   },
   {
    "duration": 54,
    "start_time": "2022-05-27T08:06:02.901Z"
   },
   {
    "duration": 54,
    "start_time": "2022-05-27T08:06:02.959Z"
   },
   {
    "duration": 361,
    "start_time": "2022-05-27T08:06:03.023Z"
   },
   {
    "duration": 11,
    "start_time": "2022-05-27T08:06:03.388Z"
   },
   {
    "duration": 391,
    "start_time": "2022-05-27T08:06:03.400Z"
   },
   {
    "duration": 14,
    "start_time": "2022-05-27T08:06:03.798Z"
   },
   {
    "duration": 29,
    "start_time": "2022-05-27T08:06:03.819Z"
   },
   {
    "duration": 548,
    "start_time": "2022-05-27T08:06:03.849Z"
   },
   {
    "duration": 5,
    "start_time": "2022-05-27T08:06:04.399Z"
   },
   {
    "duration": 34,
    "start_time": "2022-05-27T08:06:04.406Z"
   },
   {
    "duration": 291,
    "start_time": "2022-05-27T08:06:04.442Z"
   },
   {
    "duration": 7,
    "start_time": "2022-05-27T08:06:04.735Z"
   },
   {
    "duration": 229,
    "start_time": "2022-05-27T08:06:04.744Z"
   },
   {
    "duration": 297,
    "start_time": "2022-05-27T08:06:04.978Z"
   },
   {
    "duration": 23,
    "start_time": "2022-05-27T08:06:05.277Z"
   },
   {
    "duration": 22,
    "start_time": "2022-05-27T08:06:05.308Z"
   },
   {
    "duration": 333,
    "start_time": "2022-05-27T08:06:05.334Z"
   },
   {
    "duration": 291,
    "start_time": "2022-05-27T08:06:05.670Z"
   },
   {
    "duration": 9,
    "start_time": "2022-05-27T08:06:05.967Z"
   },
   {
    "duration": 76,
    "start_time": "2022-05-27T08:06:05.981Z"
   },
   {
    "duration": 338,
    "start_time": "2022-05-27T08:06:06.068Z"
   },
   {
    "duration": 280,
    "start_time": "2022-05-27T08:06:06.413Z"
   },
   {
    "duration": 13,
    "start_time": "2022-05-27T08:06:06.710Z"
   },
   {
    "duration": 58,
    "start_time": "2022-05-27T08:06:06.725Z"
   },
   {
    "duration": 62,
    "start_time": "2022-05-27T08:06:06.785Z"
   },
   {
    "duration": 338,
    "start_time": "2022-05-27T08:06:06.849Z"
   },
   {
    "duration": 318,
    "start_time": "2022-05-27T08:06:07.190Z"
   },
   {
    "duration": 14,
    "start_time": "2022-05-27T08:06:07.512Z"
   },
   {
    "duration": 695,
    "start_time": "2022-05-27T08:06:07.529Z"
   },
   {
    "duration": 507,
    "start_time": "2022-05-27T08:06:08.226Z"
   },
   {
    "duration": 222,
    "start_time": "2022-05-27T08:06:08.738Z"
   },
   {
    "duration": 8,
    "start_time": "2022-05-27T08:06:08.962Z"
   },
   {
    "duration": 62,
    "start_time": "2022-05-27T08:06:08.972Z"
   },
   {
    "duration": 10,
    "start_time": "2022-05-27T08:06:09.036Z"
   },
   {
    "duration": 37,
    "start_time": "2022-05-27T08:06:09.048Z"
   },
   {
    "duration": 29,
    "start_time": "2022-05-27T08:06:09.087Z"
   },
   {
    "duration": 10,
    "start_time": "2022-05-27T08:06:09.120Z"
   },
   {
    "duration": 15,
    "start_time": "2022-05-27T08:06:09.131Z"
   },
   {
    "duration": 77,
    "start_time": "2022-05-27T08:06:09.148Z"
   },
   {
    "duration": 15,
    "start_time": "2022-05-27T08:06:09.227Z"
   },
   {
    "duration": 268,
    "start_time": "2022-05-27T08:06:09.244Z"
   },
   {
    "duration": 14,
    "start_time": "2022-05-27T08:06:09.514Z"
   },
   {
    "duration": 8,
    "start_time": "2022-05-27T08:06:09.530Z"
   },
   {
    "duration": 10,
    "start_time": "2022-05-27T08:06:09.539Z"
   },
   {
    "duration": 319,
    "start_time": "2022-05-27T08:06:09.553Z"
   },
   {
    "duration": 12,
    "start_time": "2022-05-27T08:06:09.875Z"
   },
   {
    "duration": 45,
    "start_time": "2022-05-27T08:06:09.891Z"
   },
   {
    "duration": 25,
    "start_time": "2022-05-27T08:06:09.938Z"
   },
   {
    "duration": 1236,
    "start_time": "2022-05-28T07:14:24.990Z"
   },
   {
    "duration": 114,
    "start_time": "2022-05-28T07:14:26.228Z"
   },
   {
    "duration": 16,
    "start_time": "2022-05-28T07:14:26.344Z"
   },
   {
    "duration": 9,
    "start_time": "2022-05-28T07:14:26.362Z"
   },
   {
    "duration": 18,
    "start_time": "2022-05-28T07:14:26.373Z"
   },
   {
    "duration": 8,
    "start_time": "2022-05-28T07:14:26.393Z"
   },
   {
    "duration": 10,
    "start_time": "2022-05-28T07:14:26.403Z"
   },
   {
    "duration": 8,
    "start_time": "2022-05-28T07:14:26.415Z"
   },
   {
    "duration": 37,
    "start_time": "2022-05-28T07:14:26.426Z"
   },
   {
    "duration": 6,
    "start_time": "2022-05-28T07:14:26.467Z"
   },
   {
    "duration": 9,
    "start_time": "2022-05-28T07:14:26.475Z"
   },
   {
    "duration": 12,
    "start_time": "2022-05-28T07:14:26.486Z"
   },
   {
    "duration": 12,
    "start_time": "2022-05-28T07:14:26.500Z"
   },
   {
    "duration": 9,
    "start_time": "2022-05-28T07:14:26.514Z"
   },
   {
    "duration": 57,
    "start_time": "2022-05-28T07:14:26.525Z"
   },
   {
    "duration": 24,
    "start_time": "2022-05-28T07:14:26.584Z"
   },
   {
    "duration": 290,
    "start_time": "2022-05-28T07:14:26.610Z"
   },
   {
    "duration": 9,
    "start_time": "2022-05-28T07:14:26.903Z"
   },
   {
    "duration": 316,
    "start_time": "2022-05-28T07:14:26.914Z"
   },
   {
    "duration": 5,
    "start_time": "2022-05-28T07:14:27.232Z"
   },
   {
    "duration": 31,
    "start_time": "2022-05-28T07:14:27.239Z"
   },
   {
    "duration": 327,
    "start_time": "2022-05-28T07:14:27.272Z"
   },
   {
    "duration": 5,
    "start_time": "2022-05-28T07:14:27.600Z"
   },
   {
    "duration": 23,
    "start_time": "2022-05-28T07:14:27.606Z"
   },
   {
    "duration": 195,
    "start_time": "2022-05-28T07:14:27.631Z"
   },
   {
    "duration": 6,
    "start_time": "2022-05-28T07:14:27.827Z"
   },
   {
    "duration": 174,
    "start_time": "2022-05-28T07:14:27.835Z"
   },
   {
    "duration": 178,
    "start_time": "2022-05-28T07:14:28.014Z"
   },
   {
    "duration": 5,
    "start_time": "2022-05-28T07:14:28.195Z"
   },
   {
    "duration": 10,
    "start_time": "2022-05-28T07:14:28.202Z"
   },
   {
    "duration": 192,
    "start_time": "2022-05-28T07:14:28.213Z"
   },
   {
    "duration": 190,
    "start_time": "2022-05-28T07:14:28.407Z"
   },
   {
    "duration": 5,
    "start_time": "2022-05-28T07:14:28.599Z"
   },
   {
    "duration": 13,
    "start_time": "2022-05-28T07:14:28.605Z"
   },
   {
    "duration": 188,
    "start_time": "2022-05-28T07:14:28.620Z"
   },
   {
    "duration": 178,
    "start_time": "2022-05-28T07:14:28.810Z"
   },
   {
    "duration": 7,
    "start_time": "2022-05-28T07:14:28.990Z"
   },
   {
    "duration": 12,
    "start_time": "2022-05-28T07:14:28.999Z"
   },
   {
    "duration": 7,
    "start_time": "2022-05-28T07:14:29.013Z"
   },
   {
    "duration": 183,
    "start_time": "2022-05-28T07:14:29.022Z"
   },
   {
    "duration": 197,
    "start_time": "2022-05-28T07:14:29.207Z"
   },
   {
    "duration": 9,
    "start_time": "2022-05-28T07:14:29.406Z"
   },
   {
    "duration": 472,
    "start_time": "2022-05-28T07:14:29.416Z"
   },
   {
    "duration": 296,
    "start_time": "2022-05-28T07:14:29.890Z"
   },
   {
    "duration": 160,
    "start_time": "2022-05-28T07:14:30.188Z"
   },
   {
    "duration": 11,
    "start_time": "2022-05-28T07:14:30.349Z"
   },
   {
    "duration": 12,
    "start_time": "2022-05-28T07:14:30.362Z"
   },
   {
    "duration": 31,
    "start_time": "2022-05-28T07:14:30.376Z"
   },
   {
    "duration": 23,
    "start_time": "2022-05-28T07:14:30.409Z"
   },
   {
    "duration": 16,
    "start_time": "2022-05-28T07:14:30.433Z"
   },
   {
    "duration": 26,
    "start_time": "2022-05-28T07:14:30.450Z"
   },
   {
    "duration": 13,
    "start_time": "2022-05-28T07:14:30.478Z"
   },
   {
    "duration": 11,
    "start_time": "2022-05-28T07:14:30.492Z"
   },
   {
    "duration": 20,
    "start_time": "2022-05-28T07:14:30.505Z"
   },
   {
    "duration": 175,
    "start_time": "2022-05-28T07:14:30.526Z"
   },
   {
    "duration": 6,
    "start_time": "2022-05-28T07:14:30.702Z"
   },
   {
    "duration": 13,
    "start_time": "2022-05-28T07:14:30.710Z"
   },
   {
    "duration": 10,
    "start_time": "2022-05-28T07:14:30.725Z"
   },
   {
    "duration": 205,
    "start_time": "2022-05-28T07:14:30.738Z"
   },
   {
    "duration": 14,
    "start_time": "2022-05-28T07:14:30.945Z"
   },
   {
    "duration": 13,
    "start_time": "2022-05-28T07:14:30.962Z"
   },
   {
    "duration": 15,
    "start_time": "2022-05-28T07:14:30.977Z"
   },
   {
    "duration": 1409,
    "start_time": "2022-05-28T07:43:24.417Z"
   },
   {
    "duration": 119,
    "start_time": "2022-05-28T07:43:25.829Z"
   },
   {
    "duration": 19,
    "start_time": "2022-05-28T07:43:25.949Z"
   },
   {
    "duration": 9,
    "start_time": "2022-05-28T07:43:25.970Z"
   },
   {
    "duration": 14,
    "start_time": "2022-05-28T07:43:25.981Z"
   },
   {
    "duration": 9,
    "start_time": "2022-05-28T07:43:25.997Z"
   },
   {
    "duration": 10,
    "start_time": "2022-05-28T07:43:26.007Z"
   },
   {
    "duration": 6,
    "start_time": "2022-05-28T07:43:26.019Z"
   },
   {
    "duration": 44,
    "start_time": "2022-05-28T07:43:26.027Z"
   },
   {
    "duration": 8,
    "start_time": "2022-05-28T07:43:26.074Z"
   },
   {
    "duration": 6,
    "start_time": "2022-05-28T07:43:26.084Z"
   },
   {
    "duration": 8,
    "start_time": "2022-05-28T07:43:26.092Z"
   },
   {
    "duration": 9,
    "start_time": "2022-05-28T07:43:26.101Z"
   },
   {
    "duration": 10,
    "start_time": "2022-05-28T07:43:26.111Z"
   },
   {
    "duration": 49,
    "start_time": "2022-05-28T07:43:26.123Z"
   },
   {
    "duration": 25,
    "start_time": "2022-05-28T07:43:26.174Z"
   },
   {
    "duration": 236,
    "start_time": "2022-05-28T07:43:26.201Z"
   },
   {
    "duration": 27,
    "start_time": "2022-05-28T07:43:26.439Z"
   },
   {
    "duration": 290,
    "start_time": "2022-05-28T07:43:26.467Z"
   },
   {
    "duration": 7,
    "start_time": "2022-05-28T07:43:26.759Z"
   },
   {
    "duration": 18,
    "start_time": "2022-05-28T07:43:26.767Z"
   },
   {
    "duration": 338,
    "start_time": "2022-05-28T07:43:26.787Z"
   },
   {
    "duration": 5,
    "start_time": "2022-05-28T07:43:27.127Z"
   },
   {
    "duration": 13,
    "start_time": "2022-05-28T07:43:27.134Z"
   },
   {
    "duration": 216,
    "start_time": "2022-05-28T07:43:27.165Z"
   },
   {
    "duration": 9,
    "start_time": "2022-05-28T07:43:27.383Z"
   },
   {
    "duration": 218,
    "start_time": "2022-05-28T07:43:27.393Z"
   },
   {
    "duration": 192,
    "start_time": "2022-05-28T07:43:27.616Z"
   },
   {
    "duration": 5,
    "start_time": "2022-05-28T07:43:27.810Z"
   },
   {
    "duration": 10,
    "start_time": "2022-05-28T07:43:27.816Z"
   },
   {
    "duration": 198,
    "start_time": "2022-05-28T07:43:27.827Z"
   },
   {
    "duration": 191,
    "start_time": "2022-05-28T07:43:28.027Z"
   },
   {
    "duration": 5,
    "start_time": "2022-05-28T07:43:28.220Z"
   },
   {
    "duration": 8,
    "start_time": "2022-05-28T07:43:28.226Z"
   },
   {
    "duration": 202,
    "start_time": "2022-05-28T07:43:28.235Z"
   },
   {
    "duration": 198,
    "start_time": "2022-05-28T07:43:28.439Z"
   },
   {
    "duration": 6,
    "start_time": "2022-05-28T07:43:28.639Z"
   },
   {
    "duration": 18,
    "start_time": "2022-05-28T07:43:28.647Z"
   },
   {
    "duration": 6,
    "start_time": "2022-05-28T07:43:28.667Z"
   },
   {
    "duration": 214,
    "start_time": "2022-05-28T07:43:28.675Z"
   },
   {
    "duration": 231,
    "start_time": "2022-05-28T07:43:28.892Z"
   },
   {
    "duration": 8,
    "start_time": "2022-05-28T07:43:29.125Z"
   },
   {
    "duration": 504,
    "start_time": "2022-05-28T07:43:29.135Z"
   },
   {
    "duration": 318,
    "start_time": "2022-05-28T07:43:29.641Z"
   },
   {
    "duration": 163,
    "start_time": "2022-05-28T07:43:29.965Z"
   },
   {
    "duration": 8,
    "start_time": "2022-05-28T07:43:30.129Z"
   },
   {
    "duration": 18,
    "start_time": "2022-05-28T07:43:30.138Z"
   },
   {
    "duration": 7,
    "start_time": "2022-05-28T07:43:30.164Z"
   },
   {
    "duration": 21,
    "start_time": "2022-05-28T07:43:30.173Z"
   },
   {
    "duration": 27,
    "start_time": "2022-05-28T07:43:30.195Z"
   },
   {
    "duration": 14,
    "start_time": "2022-05-28T07:43:30.224Z"
   },
   {
    "duration": 25,
    "start_time": "2022-05-28T07:43:30.239Z"
   },
   {
    "duration": 18,
    "start_time": "2022-05-28T07:43:30.266Z"
   },
   {
    "duration": 27,
    "start_time": "2022-05-28T07:43:30.286Z"
   },
   {
    "duration": 227,
    "start_time": "2022-05-28T07:43:30.315Z"
   },
   {
    "duration": 9,
    "start_time": "2022-05-28T07:43:30.544Z"
   },
   {
    "duration": 36,
    "start_time": "2022-05-28T07:43:30.565Z"
   },
   {
    "duration": 29,
    "start_time": "2022-05-28T07:43:30.603Z"
   },
   {
    "duration": 210,
    "start_time": "2022-05-28T07:43:30.634Z"
   },
   {
    "duration": 8,
    "start_time": "2022-05-28T07:43:30.846Z"
   },
   {
    "duration": 20,
    "start_time": "2022-05-28T07:43:30.871Z"
   },
   {
    "duration": 29,
    "start_time": "2022-05-28T07:43:30.892Z"
   },
   {
    "duration": 760,
    "start_time": "2022-05-28T07:47:48.494Z"
   },
   {
    "duration": 1291,
    "start_time": "2022-05-28T07:48:19.037Z"
   },
   {
    "duration": 74,
    "start_time": "2022-05-28T07:48:20.330Z"
   },
   {
    "duration": 17,
    "start_time": "2022-05-28T07:48:20.406Z"
   },
   {
    "duration": 9,
    "start_time": "2022-05-28T07:48:20.426Z"
   },
   {
    "duration": 34,
    "start_time": "2022-05-28T07:48:20.436Z"
   },
   {
    "duration": 10,
    "start_time": "2022-05-28T07:48:20.472Z"
   },
   {
    "duration": 7,
    "start_time": "2022-05-28T07:48:20.484Z"
   },
   {
    "duration": 12,
    "start_time": "2022-05-28T07:48:20.493Z"
   },
   {
    "duration": 23,
    "start_time": "2022-05-28T07:48:20.506Z"
   },
   {
    "duration": 7,
    "start_time": "2022-05-28T07:48:20.532Z"
   },
   {
    "duration": 14,
    "start_time": "2022-05-28T07:48:20.540Z"
   },
   {
    "duration": 14,
    "start_time": "2022-05-28T07:48:20.555Z"
   },
   {
    "duration": 15,
    "start_time": "2022-05-28T07:48:20.572Z"
   },
   {
    "duration": 27,
    "start_time": "2022-05-28T07:48:20.589Z"
   },
   {
    "duration": 17,
    "start_time": "2022-05-28T07:48:20.618Z"
   },
   {
    "duration": 28,
    "start_time": "2022-05-28T07:48:20.637Z"
   },
   {
    "duration": 223,
    "start_time": "2022-05-28T07:48:20.667Z"
   },
   {
    "duration": 9,
    "start_time": "2022-05-28T07:48:20.892Z"
   },
   {
    "duration": 299,
    "start_time": "2022-05-28T07:48:20.903Z"
   },
   {
    "duration": 4,
    "start_time": "2022-05-28T07:48:21.205Z"
   },
   {
    "duration": 19,
    "start_time": "2022-05-28T07:48:21.210Z"
   },
   {
    "duration": 325,
    "start_time": "2022-05-28T07:48:21.231Z"
   },
   {
    "duration": 4,
    "start_time": "2022-05-28T07:48:21.565Z"
   },
   {
    "duration": 13,
    "start_time": "2022-05-28T07:48:21.571Z"
   },
   {
    "duration": 223,
    "start_time": "2022-05-28T07:48:21.586Z"
   },
   {
    "duration": 6,
    "start_time": "2022-05-28T07:48:21.811Z"
   },
   {
    "duration": 189,
    "start_time": "2022-05-28T07:48:21.819Z"
   },
   {
    "duration": 190,
    "start_time": "2022-05-28T07:48:22.012Z"
   },
   {
    "duration": 6,
    "start_time": "2022-05-28T07:48:22.203Z"
   },
   {
    "duration": 8,
    "start_time": "2022-05-28T07:48:22.211Z"
   },
   {
    "duration": 194,
    "start_time": "2022-05-28T07:48:22.220Z"
   },
   {
    "duration": 186,
    "start_time": "2022-05-28T07:48:22.416Z"
   },
   {
    "duration": 5,
    "start_time": "2022-05-28T07:48:22.604Z"
   },
   {
    "duration": 11,
    "start_time": "2022-05-28T07:48:22.611Z"
   },
   {
    "duration": 260,
    "start_time": "2022-05-28T07:48:22.624Z"
   },
   {
    "duration": 213,
    "start_time": "2022-05-28T07:48:22.886Z"
   },
   {
    "duration": 7,
    "start_time": "2022-05-28T07:48:23.101Z"
   },
   {
    "duration": 9,
    "start_time": "2022-05-28T07:48:23.110Z"
   },
   {
    "duration": 8,
    "start_time": "2022-05-28T07:48:23.120Z"
   },
   {
    "duration": 209,
    "start_time": "2022-05-28T07:48:23.130Z"
   },
   {
    "duration": 195,
    "start_time": "2022-05-28T07:48:23.342Z"
   },
   {
    "duration": 7,
    "start_time": "2022-05-28T07:48:23.539Z"
   },
   {
    "duration": 511,
    "start_time": "2022-05-28T07:48:23.548Z"
   },
   {
    "duration": 353,
    "start_time": "2022-05-28T07:48:24.061Z"
   },
   {
    "duration": 186,
    "start_time": "2022-05-28T07:48:24.415Z"
   },
   {
    "duration": 9,
    "start_time": "2022-05-28T07:48:24.603Z"
   },
   {
    "duration": 12,
    "start_time": "2022-05-28T07:48:24.614Z"
   },
   {
    "duration": 8,
    "start_time": "2022-05-28T07:48:24.628Z"
   },
   {
    "duration": 32,
    "start_time": "2022-05-28T07:48:24.637Z"
   },
   {
    "duration": 9,
    "start_time": "2022-05-28T07:48:24.671Z"
   },
   {
    "duration": 16,
    "start_time": "2022-05-28T07:48:24.681Z"
   },
   {
    "duration": 15,
    "start_time": "2022-05-28T07:48:24.699Z"
   },
   {
    "duration": 14,
    "start_time": "2022-05-28T07:48:24.716Z"
   },
   {
    "duration": 35,
    "start_time": "2022-05-28T07:48:24.732Z"
   },
   {
    "duration": 237,
    "start_time": "2022-05-28T07:48:24.769Z"
   },
   {
    "duration": 7,
    "start_time": "2022-05-28T07:48:25.008Z"
   },
   {
    "duration": 14,
    "start_time": "2022-05-28T07:48:25.017Z"
   },
   {
    "duration": 14,
    "start_time": "2022-05-28T07:48:25.033Z"
   },
   {
    "duration": 224,
    "start_time": "2022-05-28T07:48:25.065Z"
   },
   {
    "duration": 8,
    "start_time": "2022-05-28T07:48:25.291Z"
   },
   {
    "duration": 9,
    "start_time": "2022-05-28T07:48:25.300Z"
   },
   {
    "duration": 14,
    "start_time": "2022-05-28T07:48:25.310Z"
   },
   {
    "duration": 3,
    "start_time": "2022-05-28T08:12:16.332Z"
   },
   {
    "duration": 16,
    "start_time": "2022-05-28T08:12:23.802Z"
   },
   {
    "duration": 1201,
    "start_time": "2022-05-28T08:17:35.030Z"
   },
   {
    "duration": 74,
    "start_time": "2022-05-28T08:17:36.234Z"
   },
   {
    "duration": 18,
    "start_time": "2022-05-28T08:17:36.309Z"
   },
   {
    "duration": 8,
    "start_time": "2022-05-28T08:17:36.329Z"
   },
   {
    "duration": 37,
    "start_time": "2022-05-28T08:17:36.339Z"
   },
   {
    "duration": 10,
    "start_time": "2022-05-28T08:17:36.377Z"
   },
   {
    "duration": 5,
    "start_time": "2022-05-28T08:17:36.389Z"
   },
   {
    "duration": 5,
    "start_time": "2022-05-28T08:17:36.395Z"
   },
   {
    "duration": 18,
    "start_time": "2022-05-28T08:17:36.402Z"
   },
   {
    "duration": 6,
    "start_time": "2022-05-28T08:17:36.423Z"
   },
   {
    "duration": 38,
    "start_time": "2022-05-28T08:17:36.431Z"
   },
   {
    "duration": 10,
    "start_time": "2022-05-28T08:17:36.471Z"
   },
   {
    "duration": 12,
    "start_time": "2022-05-28T08:17:36.483Z"
   },
   {
    "duration": 20,
    "start_time": "2022-05-28T08:17:36.497Z"
   },
   {
    "duration": 31,
    "start_time": "2022-05-28T08:17:36.519Z"
   },
   {
    "duration": 50,
    "start_time": "2022-05-28T08:17:36.551Z"
   },
   {
    "duration": 226,
    "start_time": "2022-05-28T08:17:36.603Z"
   },
   {
    "duration": 8,
    "start_time": "2022-05-28T08:17:36.831Z"
   },
   {
    "duration": 286,
    "start_time": "2022-05-28T08:17:36.841Z"
   },
   {
    "duration": 5,
    "start_time": "2022-05-28T08:17:37.128Z"
   },
   {
    "duration": 9,
    "start_time": "2022-05-28T08:17:37.135Z"
   },
   {
    "duration": 33,
    "start_time": "2022-05-28T08:17:37.146Z"
   },
   {
    "duration": 345,
    "start_time": "2022-05-28T08:17:37.181Z"
   },
   {
    "duration": 14,
    "start_time": "2022-05-28T08:17:37.528Z"
   },
   {
    "duration": 226,
    "start_time": "2022-05-28T08:17:37.544Z"
   },
   {
    "duration": 7,
    "start_time": "2022-05-28T08:17:37.771Z"
   },
   {
    "duration": 201,
    "start_time": "2022-05-28T08:17:37.779Z"
   },
   {
    "duration": 183,
    "start_time": "2022-05-28T08:17:37.984Z"
   },
   {
    "duration": 6,
    "start_time": "2022-05-28T08:17:38.168Z"
   },
   {
    "duration": 9,
    "start_time": "2022-05-28T08:17:38.176Z"
   },
   {
    "duration": 196,
    "start_time": "2022-05-28T08:17:38.187Z"
   },
   {
    "duration": 184,
    "start_time": "2022-05-28T08:17:38.384Z"
   },
   {
    "duration": 6,
    "start_time": "2022-05-28T08:17:38.570Z"
   },
   {
    "duration": 17,
    "start_time": "2022-05-28T08:17:38.577Z"
   },
   {
    "duration": 198,
    "start_time": "2022-05-28T08:17:38.596Z"
   },
   {
    "duration": 241,
    "start_time": "2022-05-28T08:17:38.795Z"
   },
   {
    "duration": 6,
    "start_time": "2022-05-28T08:17:39.038Z"
   },
   {
    "duration": 20,
    "start_time": "2022-05-28T08:17:39.046Z"
   },
   {
    "duration": 10,
    "start_time": "2022-05-28T08:17:39.069Z"
   },
   {
    "duration": 218,
    "start_time": "2022-05-28T08:17:39.081Z"
   },
   {
    "duration": 186,
    "start_time": "2022-05-28T08:17:39.301Z"
   },
   {
    "duration": 8,
    "start_time": "2022-05-28T08:17:39.488Z"
   },
   {
    "duration": 526,
    "start_time": "2022-05-28T08:17:39.497Z"
   },
   {
    "duration": 340,
    "start_time": "2022-05-28T08:17:40.025Z"
   },
   {
    "duration": 162,
    "start_time": "2022-05-28T08:17:40.367Z"
   },
   {
    "duration": 9,
    "start_time": "2022-05-28T08:17:40.531Z"
   },
   {
    "duration": 25,
    "start_time": "2022-05-28T08:17:40.542Z"
   },
   {
    "duration": 18,
    "start_time": "2022-05-28T08:17:40.569Z"
   },
   {
    "duration": 15,
    "start_time": "2022-05-28T08:17:40.590Z"
   },
   {
    "duration": 10,
    "start_time": "2022-05-28T08:17:40.607Z"
   },
   {
    "duration": 9,
    "start_time": "2022-05-28T08:17:40.619Z"
   },
   {
    "duration": 13,
    "start_time": "2022-05-28T08:17:40.630Z"
   },
   {
    "duration": 34,
    "start_time": "2022-05-28T08:17:40.645Z"
   },
   {
    "duration": 13,
    "start_time": "2022-05-28T08:17:40.680Z"
   },
   {
    "duration": 225,
    "start_time": "2022-05-28T08:17:40.695Z"
   },
   {
    "duration": 8,
    "start_time": "2022-05-28T08:17:40.922Z"
   },
   {
    "duration": 11,
    "start_time": "2022-05-28T08:17:40.931Z"
   },
   {
    "duration": 26,
    "start_time": "2022-05-28T08:17:40.943Z"
   },
   {
    "duration": 223,
    "start_time": "2022-05-28T08:17:40.971Z"
   },
   {
    "duration": 8,
    "start_time": "2022-05-28T08:17:41.195Z"
   },
   {
    "duration": 7,
    "start_time": "2022-05-28T08:17:41.205Z"
   },
   {
    "duration": 10,
    "start_time": "2022-05-28T08:17:41.213Z"
   },
   {
    "duration": 320,
    "start_time": "2022-05-28T08:22:57.103Z"
   },
   {
    "duration": 13,
    "start_time": "2022-05-28T08:23:18.480Z"
   },
   {
    "duration": 212,
    "start_time": "2022-05-28T08:23:22.333Z"
   },
   {
    "duration": 195,
    "start_time": "2022-05-28T08:27:34.982Z"
   },
   {
    "duration": 1281,
    "start_time": "2022-05-28T08:28:15.843Z"
   },
   {
    "duration": 76,
    "start_time": "2022-05-28T08:28:17.126Z"
   },
   {
    "duration": 17,
    "start_time": "2022-05-28T08:28:17.204Z"
   },
   {
    "duration": 10,
    "start_time": "2022-05-28T08:28:17.224Z"
   },
   {
    "duration": 33,
    "start_time": "2022-05-28T08:28:17.236Z"
   },
   {
    "duration": 10,
    "start_time": "2022-05-28T08:28:17.271Z"
   },
   {
    "duration": 6,
    "start_time": "2022-05-28T08:28:17.283Z"
   },
   {
    "duration": 27,
    "start_time": "2022-05-28T08:28:17.292Z"
   },
   {
    "duration": 23,
    "start_time": "2022-05-28T08:28:17.321Z"
   },
   {
    "duration": 18,
    "start_time": "2022-05-28T08:28:17.347Z"
   },
   {
    "duration": 6,
    "start_time": "2022-05-28T08:28:17.367Z"
   },
   {
    "duration": 16,
    "start_time": "2022-05-28T08:28:17.375Z"
   },
   {
    "duration": 20,
    "start_time": "2022-05-28T08:28:17.393Z"
   },
   {
    "duration": 9,
    "start_time": "2022-05-28T08:28:17.416Z"
   },
   {
    "duration": 48,
    "start_time": "2022-05-28T08:28:17.427Z"
   },
   {
    "duration": 30,
    "start_time": "2022-05-28T08:28:17.478Z"
   },
   {
    "duration": 241,
    "start_time": "2022-05-28T08:28:17.509Z"
   },
   {
    "duration": 19,
    "start_time": "2022-05-28T08:28:17.752Z"
   },
   {
    "duration": 290,
    "start_time": "2022-05-28T08:28:17.772Z"
   },
   {
    "duration": 5,
    "start_time": "2022-05-28T08:28:18.064Z"
   },
   {
    "duration": 7,
    "start_time": "2022-05-28T08:28:18.071Z"
   },
   {
    "duration": 19,
    "start_time": "2022-05-28T08:28:18.080Z"
   },
   {
    "duration": 334,
    "start_time": "2022-05-28T08:28:18.101Z"
   },
   {
    "duration": 26,
    "start_time": "2022-05-28T08:28:18.438Z"
   },
   {
    "duration": 232,
    "start_time": "2022-05-28T08:28:18.466Z"
   },
   {
    "duration": 7,
    "start_time": "2022-05-28T08:28:18.699Z"
   },
   {
    "duration": 231,
    "start_time": "2022-05-28T08:28:18.708Z"
   },
   {
    "duration": 232,
    "start_time": "2022-05-28T08:28:18.944Z"
   },
   {
    "duration": 6,
    "start_time": "2022-05-28T08:28:19.178Z"
   },
   {
    "duration": 8,
    "start_time": "2022-05-28T08:28:19.186Z"
   },
   {
    "duration": 199,
    "start_time": "2022-05-28T08:28:19.195Z"
   },
   {
    "duration": 192,
    "start_time": "2022-05-28T08:28:19.397Z"
   },
   {
    "duration": 6,
    "start_time": "2022-05-28T08:28:19.591Z"
   },
   {
    "duration": 8,
    "start_time": "2022-05-28T08:28:19.599Z"
   },
   {
    "duration": 201,
    "start_time": "2022-05-28T08:28:19.609Z"
   },
   {
    "duration": 191,
    "start_time": "2022-05-28T08:28:19.812Z"
   },
   {
    "duration": 6,
    "start_time": "2022-05-28T08:28:20.005Z"
   },
   {
    "duration": 23,
    "start_time": "2022-05-28T08:28:20.013Z"
   },
   {
    "duration": 6,
    "start_time": "2022-05-28T08:28:20.038Z"
   },
   {
    "duration": 196,
    "start_time": "2022-05-28T08:28:20.046Z"
   },
   {
    "duration": 199,
    "start_time": "2022-05-28T08:28:20.244Z"
   },
   {
    "duration": 8,
    "start_time": "2022-05-28T08:28:20.446Z"
   },
   {
    "duration": 494,
    "start_time": "2022-05-28T08:28:20.465Z"
   },
   {
    "duration": 341,
    "start_time": "2022-05-28T08:28:20.962Z"
   },
   {
    "duration": 171,
    "start_time": "2022-05-28T08:28:21.305Z"
   },
   {
    "duration": 8,
    "start_time": "2022-05-28T08:28:21.478Z"
   },
   {
    "duration": 9,
    "start_time": "2022-05-28T08:28:21.488Z"
   },
   {
    "duration": 7,
    "start_time": "2022-05-28T08:28:21.499Z"
   },
   {
    "duration": 9,
    "start_time": "2022-05-28T08:28:21.508Z"
   },
   {
    "duration": 8,
    "start_time": "2022-05-28T08:28:21.519Z"
   },
   {
    "duration": 7,
    "start_time": "2022-05-28T08:28:21.565Z"
   },
   {
    "duration": 12,
    "start_time": "2022-05-28T08:28:21.574Z"
   },
   {
    "duration": 13,
    "start_time": "2022-05-28T08:28:21.588Z"
   },
   {
    "duration": 13,
    "start_time": "2022-05-28T08:28:21.603Z"
   },
   {
    "duration": 237,
    "start_time": "2022-05-28T08:28:21.618Z"
   },
   {
    "duration": 8,
    "start_time": "2022-05-28T08:28:21.857Z"
   },
   {
    "duration": 9,
    "start_time": "2022-05-28T08:28:21.867Z"
   },
   {
    "duration": 9,
    "start_time": "2022-05-28T08:28:21.877Z"
   },
   {
    "duration": 226,
    "start_time": "2022-05-28T08:28:21.887Z"
   },
   {
    "duration": 5,
    "start_time": "2022-05-28T08:28:22.115Z"
   },
   {
    "duration": 18,
    "start_time": "2022-05-28T08:28:22.121Z"
   },
   {
    "duration": 15,
    "start_time": "2022-05-28T08:28:22.141Z"
   },
   {
    "duration": 731,
    "start_time": "2022-05-28T08:35:08.647Z"
   },
   {
    "duration": 7,
    "start_time": "2022-05-28T11:08:15.143Z"
   },
   {
    "duration": 5,
    "start_time": "2022-05-28T11:08:20.048Z"
   },
   {
    "duration": 6,
    "start_time": "2022-05-28T11:08:20.623Z"
   },
   {
    "duration": 6,
    "start_time": "2022-05-28T11:08:44.710Z"
   },
   {
    "duration": 5,
    "start_time": "2022-05-28T11:08:45.401Z"
   },
   {
    "duration": 7,
    "start_time": "2022-05-28T11:08:45.970Z"
   },
   {
    "duration": 1478,
    "start_time": "2022-08-17T13:30:52.090Z"
   },
   {
    "duration": 112,
    "start_time": "2022-08-17T13:30:53.570Z"
   },
   {
    "duration": 22,
    "start_time": "2022-08-17T13:30:53.684Z"
   },
   {
    "duration": 11,
    "start_time": "2022-08-17T13:30:53.708Z"
   },
   {
    "duration": 13,
    "start_time": "2022-08-17T13:30:53.722Z"
   },
   {
    "duration": 8,
    "start_time": "2022-08-17T13:30:53.736Z"
   },
   {
    "duration": 6,
    "start_time": "2022-08-17T13:30:53.746Z"
   },
   {
    "duration": 4,
    "start_time": "2022-08-17T13:30:53.753Z"
   },
   {
    "duration": 18,
    "start_time": "2022-08-17T13:30:53.758Z"
   },
   {
    "duration": 37,
    "start_time": "2022-08-17T13:30:53.778Z"
   },
   {
    "duration": 7,
    "start_time": "2022-08-17T13:30:53.817Z"
   },
   {
    "duration": 12,
    "start_time": "2022-08-17T13:30:53.826Z"
   },
   {
    "duration": 10,
    "start_time": "2022-08-17T13:30:53.840Z"
   },
   {
    "duration": 6,
    "start_time": "2022-08-17T13:30:53.854Z"
   },
   {
    "duration": 19,
    "start_time": "2022-08-17T13:30:53.862Z"
   },
   {
    "duration": 47,
    "start_time": "2022-08-17T13:30:53.882Z"
   },
   {
    "duration": 197,
    "start_time": "2022-08-17T13:30:53.931Z"
   },
   {
    "duration": 8,
    "start_time": "2022-08-17T13:30:54.130Z"
   },
   {
    "duration": 188,
    "start_time": "2022-08-17T13:30:54.139Z"
   },
   {
    "duration": 4,
    "start_time": "2022-08-17T13:30:54.329Z"
   },
   {
    "duration": 7,
    "start_time": "2022-08-17T13:30:54.335Z"
   },
   {
    "duration": 17,
    "start_time": "2022-08-17T13:30:54.343Z"
   },
   {
    "duration": 304,
    "start_time": "2022-08-17T13:30:54.361Z"
   },
   {
    "duration": 11,
    "start_time": "2022-08-17T13:30:54.667Z"
   },
   {
    "duration": 189,
    "start_time": "2022-08-17T13:30:54.679Z"
   },
   {
    "duration": 480,
    "start_time": "2022-08-17T13:30:54.870Z"
   },
   {
    "duration": 6,
    "start_time": "2022-08-17T13:30:55.352Z"
   },
   {
    "duration": 268,
    "start_time": "2022-08-17T13:30:55.360Z"
   },
   {
    "duration": 159,
    "start_time": "2022-08-17T13:30:55.630Z"
   },
   {
    "duration": 5,
    "start_time": "2022-08-17T13:30:55.791Z"
   },
   {
    "duration": 6,
    "start_time": "2022-08-17T13:30:55.810Z"
   },
   {
    "duration": 162,
    "start_time": "2022-08-17T13:30:55.818Z"
   },
   {
    "duration": 150,
    "start_time": "2022-08-17T13:30:55.982Z"
   },
   {
    "duration": 5,
    "start_time": "2022-08-17T13:30:56.133Z"
   },
   {
    "duration": 10,
    "start_time": "2022-08-17T13:30:56.140Z"
   },
   {
    "duration": 198,
    "start_time": "2022-08-17T13:30:56.151Z"
   },
   {
    "duration": 167,
    "start_time": "2022-08-17T13:30:56.351Z"
   },
   {
    "duration": 6,
    "start_time": "2022-08-17T13:30:56.520Z"
   },
   {
    "duration": 7,
    "start_time": "2022-08-17T13:30:56.527Z"
   },
   {
    "duration": 11,
    "start_time": "2022-08-17T13:30:56.536Z"
   },
   {
    "duration": 181,
    "start_time": "2022-08-17T13:30:56.551Z"
   },
   {
    "duration": 181,
    "start_time": "2022-08-17T13:30:56.734Z"
   },
   {
    "duration": 7,
    "start_time": "2022-08-17T13:30:56.916Z"
   },
   {
    "duration": 354,
    "start_time": "2022-08-17T13:30:56.925Z"
   },
   {
    "duration": 296,
    "start_time": "2022-08-17T13:30:57.280Z"
   },
   {
    "duration": 205,
    "start_time": "2022-08-17T13:30:57.577Z"
   },
   {
    "duration": 7,
    "start_time": "2022-08-17T13:30:57.783Z"
   },
   {
    "duration": 19,
    "start_time": "2022-08-17T13:30:57.792Z"
   },
   {
    "duration": 6,
    "start_time": "2022-08-17T13:30:57.813Z"
   },
   {
    "duration": 11,
    "start_time": "2022-08-17T13:30:57.821Z"
   },
   {
    "duration": 8,
    "start_time": "2022-08-17T13:30:57.833Z"
   },
   {
    "duration": 9,
    "start_time": "2022-08-17T13:30:57.843Z"
   },
   {
    "duration": 13,
    "start_time": "2022-08-17T13:30:57.855Z"
   },
   {
    "duration": 43,
    "start_time": "2022-08-17T13:30:57.869Z"
   },
   {
    "duration": 11,
    "start_time": "2022-08-17T13:30:57.913Z"
   },
   {
    "duration": 188,
    "start_time": "2022-08-17T13:30:57.925Z"
   },
   {
    "duration": 5,
    "start_time": "2022-08-17T13:30:58.114Z"
   },
   {
    "duration": 7,
    "start_time": "2022-08-17T13:30:58.121Z"
   },
   {
    "duration": 7,
    "start_time": "2022-08-17T13:30:58.130Z"
   },
   {
    "duration": 192,
    "start_time": "2022-08-17T13:30:58.139Z"
   },
   {
    "duration": 5,
    "start_time": "2022-08-17T13:30:58.332Z"
   },
   {
    "duration": 6,
    "start_time": "2022-08-17T13:30:58.339Z"
   },
   {
    "duration": 10,
    "start_time": "2022-08-17T13:30:58.347Z"
   }
  ],
  "kernelspec": {
   "display_name": "Python 3",
   "language": "python",
   "name": "python3"
  },
  "language_info": {
   "codemirror_mode": {
    "name": "ipython",
    "version": 3
   },
   "file_extension": ".py",
   "mimetype": "text/x-python",
   "name": "python",
   "nbconvert_exporter": "python",
   "pygments_lexer": "ipython3",
   "version": "3.7.4"
  },
  "toc": {
   "base_numbering": 1,
   "nav_menu": {},
   "number_sections": true,
   "sideBar": true,
   "skip_h1_title": true,
   "title_cell": "Table of Contents",
   "title_sidebar": "Contents",
   "toc_cell": false,
   "toc_position": {},
   "toc_section_display": true,
   "toc_window_display": false
  }
 },
 "nbformat": 4,
 "nbformat_minor": 1
}
