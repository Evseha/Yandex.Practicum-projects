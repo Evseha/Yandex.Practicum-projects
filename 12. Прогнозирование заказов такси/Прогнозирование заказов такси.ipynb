{
 "cells": [
  {
   "cell_type": "markdown",
   "metadata": {
    "toc": true
   },
   "source": [
    "<h1>Содержание<span class=\"tocSkip\"></span></h1>\n",
    "<div class=\"toc\"><ul class=\"toc-item\"><li><span><a href=\"#Подготовка\" data-toc-modified-id=\"Подготовка-1\"><span class=\"toc-item-num\">1&nbsp;&nbsp;</span>Подготовка</a></span></li><li><span><a href=\"#Анализ\" data-toc-modified-id=\"Анализ-2\"><span class=\"toc-item-num\">2&nbsp;&nbsp;</span>Анализ</a></span></li><li><span><a href=\"#Обучение\" data-toc-modified-id=\"Обучение-3\"><span class=\"toc-item-num\">3&nbsp;&nbsp;</span>Обучение</a></span></li><li><span><a href=\"#Тестирование\" data-toc-modified-id=\"Тестирование-4\"><span class=\"toc-item-num\">4&nbsp;&nbsp;</span>Тестирование</a></span></li><li><span><a href=\"#Чек-лист-проверки\" data-toc-modified-id=\"Чек-лист-проверки-5\"><span class=\"toc-item-num\">5&nbsp;&nbsp;</span>Чек-лист проверки</a></span></li></ul></div>"
   ]
  },
  {
   "cell_type": "markdown",
   "metadata": {},
   "source": [
    "#  Прогнозирование заказов такси"
   ]
  },
  {
   "cell_type": "markdown",
   "metadata": {},
   "source": [
    "Компания «Чётенькое такси» собрала исторические данные о заказах такси в аэропортах. Чтобы привлекать больше водителей в период пиковой нагрузки, нужно спрогнозировать количество заказов такси на следующий час. Постройте модель для такого предсказания.\n",
    "\n",
    "Значение метрики *RMSE* на тестовой выборке должно быть не больше 48.\n",
    "\n",
    "Вам нужно:\n",
    "\n",
    "1. Загрузить данные и выполнить их ресемплирование по одному часу.\n",
    "2. Проанализировать данные.\n",
    "3. Обучить разные модели с различными гиперпараметрами. Сделать тестовую выборку размером 10% от исходных данных.\n",
    "4. Проверить данные на тестовой выборке и сделать выводы.\n",
    "\n",
    "\n",
    "Данные лежат в файле `taxi.csv`. Количество заказов находится в столбце `num_orders` (от англ. *number of orders*, «число заказов»)."
   ]
  },
  {
   "cell_type": "markdown",
   "metadata": {},
   "source": [
    "## Подготовка"
   ]
  },
  {
   "cell_type": "markdown",
   "metadata": {},
   "source": [
    "Импортируем необходиме для работы библиотеки"
   ]
  },
  {
   "cell_type": "code",
   "execution_count": 1,
   "metadata": {},
   "outputs": [],
   "source": [
    "import pandas as pd\n",
    "import numpy as np\n",
    "from sklearn.metrics import mean_squared_error\n",
    "from sklearn.model_selection import train_test_split\n",
    "from sklearn.linear_model import LinearRegression\n",
    "from statsmodels.tsa.seasonal import seasonal_decompose\n",
    "import matplotlib.pyplot as plt\n",
    "from sklearn.linear_model import LogisticRegression\n",
    "from sklearn.ensemble import RandomForestClassifier\n",
    "from sklearn.tree import DecisionTreeRegressor\n",
    "from lightgbm import LGBMRegressor\n",
    "from sklearn.model_selection import train_test_split\n",
    "from sklearn.model_selection import GridSearchCV\n",
    "from sklearn.utils import shuffle\n",
    "from sklearn.model_selection import TimeSeriesSplit\n",
    "import warnings\n",
    "warnings.filterwarnings(\"ignore\")"
   ]
  },
  {
   "cell_type": "markdown",
   "metadata": {},
   "source": [
    "Откроем наш датасет и изучим информацию по нему"
   ]
  },
  {
   "cell_type": "code",
   "execution_count": 2,
   "metadata": {},
   "outputs": [
    {
     "data": {
      "text/html": [
       "<div>\n",
       "<style scoped>\n",
       "    .dataframe tbody tr th:only-of-type {\n",
       "        vertical-align: middle;\n",
       "    }\n",
       "\n",
       "    .dataframe tbody tr th {\n",
       "        vertical-align: top;\n",
       "    }\n",
       "\n",
       "    .dataframe thead th {\n",
       "        text-align: right;\n",
       "    }\n",
       "</style>\n",
       "<table border=\"1\" class=\"dataframe\">\n",
       "  <thead>\n",
       "    <tr style=\"text-align: right;\">\n",
       "      <th></th>\n",
       "      <th>num_orders</th>\n",
       "    </tr>\n",
       "    <tr>\n",
       "      <th>datetime</th>\n",
       "      <th></th>\n",
       "    </tr>\n",
       "  </thead>\n",
       "  <tbody>\n",
       "    <tr>\n",
       "      <th>2018-03-01 00:00:00</th>\n",
       "      <td>9</td>\n",
       "    </tr>\n",
       "    <tr>\n",
       "      <th>2018-03-01 00:10:00</th>\n",
       "      <td>14</td>\n",
       "    </tr>\n",
       "    <tr>\n",
       "      <th>2018-03-01 00:20:00</th>\n",
       "      <td>28</td>\n",
       "    </tr>\n",
       "    <tr>\n",
       "      <th>2018-03-01 00:30:00</th>\n",
       "      <td>20</td>\n",
       "    </tr>\n",
       "    <tr>\n",
       "      <th>2018-03-01 00:40:00</th>\n",
       "      <td>32</td>\n",
       "    </tr>\n",
       "  </tbody>\n",
       "</table>\n",
       "</div>"
      ],
      "text/plain": [
       "                     num_orders\n",
       "datetime                       \n",
       "2018-03-01 00:00:00           9\n",
       "2018-03-01 00:10:00          14\n",
       "2018-03-01 00:20:00          28\n",
       "2018-03-01 00:30:00          20\n",
       "2018-03-01 00:40:00          32"
      ]
     },
     "execution_count": 2,
     "metadata": {},
     "output_type": "execute_result"
    }
   ],
   "source": [
    "taxi = pd.read_csv('/datasets/taxi.csv', index_col=[0], parse_dates=[0])\n",
    "taxi.sort_index(inplace=True)\n",
    "taxi.head()"
   ]
  },
  {
   "cell_type": "code",
   "execution_count": 3,
   "metadata": {
    "scrolled": true
   },
   "outputs": [
    {
     "name": "stdout",
     "output_type": "stream",
     "text": [
      "<class 'pandas.core.frame.DataFrame'>\n",
      "DatetimeIndex: 26496 entries, 2018-03-01 00:00:00 to 2018-08-31 23:50:00\n",
      "Data columns (total 1 columns):\n",
      " #   Column      Non-Null Count  Dtype\n",
      "---  ------      --------------  -----\n",
      " 0   num_orders  26496 non-null  int64\n",
      "dtypes: int64(1)\n",
      "memory usage: 414.0 KB\n"
     ]
    }
   ],
   "source": [
    "taxi.info()"
   ]
  },
  {
   "cell_type": "markdown",
   "metadata": {},
   "source": [
    "Выполним ресемплирование по одному часу и посмотрим как это выглядит"
   ]
  },
  {
   "cell_type": "code",
   "execution_count": 4,
   "metadata": {},
   "outputs": [
    {
     "data": {
      "text/plain": [
       "<AxesSubplot:xlabel='datetime'>"
      ]
     },
     "execution_count": 4,
     "metadata": {},
     "output_type": "execute_result"
    },
    {
     "data": {
      "image/png": "[encoded data removed]",
      "text/plain": [
       "<Figure size 1080x504 with 1 Axes>"
      ]
     },
     "metadata": {
      "needs_background": "light"
     },
     "output_type": "display_data"
    }
   ],
   "source": [
    "taxi.sort_index(inplace=True)\n",
    "taxi = taxi.resample('1H').sum()\n",
    "figsize = (15,7)\n",
    "taxi.plot(figsize=figsize)"
   ]
  },
  {
   "cell_type": "markdown",
   "metadata": {},
   "source": [
    "Мы модем сделать вывод, что ближе к учебному году спрос на такси увеличивается, околонулевых значений становится меньше, спрос на такси в выходные дни зашкаливает. В последние жаркие деньки лета хочется и отдохнуть, и к учебному году успеть приготовиться"
   ]
  },
  {
   "cell_type": "markdown",
   "metadata": {},
   "source": [
    "## Анализ"
   ]
  },
  {
   "cell_type": "markdown",
   "metadata": {},
   "source": [
    "Рассмотрим наши данные с разных сторон"
   ]
  },
  {
   "cell_type": "markdown",
   "metadata": {},
   "source": [
    "Построим графики за последний месяц"
   ]
  },
  {
   "cell_type": "code",
   "execution_count": 5,
   "metadata": {},
   "outputs": [
    {
     "data": {
      "image/png": "[encoded data removed]",
      "text/plain": [
       "<Figure size 1080x504 with 2 Axes>"
      ]
     },
     "metadata": {
      "needs_background": "light"
     },
     "output_type": "display_data"
    }
   ],
   "source": [
    "decomposed = seasonal_decompose(taxi['2018-08-01':'2018-08-31'])\n",
    "plt.subplot(312)\n",
    "decomposed.seasonal.plot(ax=plt.gca(), figsize=figsize)# < напишите код здесь >\n",
    "plt.title('Seasonality')\n",
    "plt.subplot(313)\n",
    "decomposed.resid.plot(ax=plt.gca(), figsize=figsize)# < напишите код здесь >\n",
    "plt.title('Residuals')\n",
    "plt.tight_layout()"
   ]
  },
  {
   "cell_type": "markdown",
   "metadata": {},
   "source": [
    "По графикам за последний месяц конечно же видно динамику роста заказа такси к концу рассматриваемого последнего месяца. Также видно, что в течении дня наблюдается рост потребности населения в такси, к вечеру достигает пика и к утру следующего дня сходит к минимальным значениям. "
   ]
  },
  {
   "cell_type": "markdown",
   "metadata": {},
   "source": [
    "Мы не можем сказать, что временной ряд является стационарным, так как у него меняется среднее значение"
   ]
  },
  {
   "cell_type": "markdown",
   "metadata": {},
   "source": [
    "Создадим признаки для обучения модели"
   ]
  },
  {
   "cell_type": "code",
   "execution_count": 6,
   "metadata": {},
   "outputs": [],
   "source": [
    "taxi = taxi.resample('1H').sum()\n",
    "\n",
    "def make_features(taxi, max_lag, rolling_mean_size):\n",
    "    taxi['hour'] = taxi.index.hour\n",
    "    taxi['dayofweek'] = taxi.index.dayofweek\n",
    "    for lag in range(1, max_lag + 1):\n",
    "        taxi['lag_{}'.format(lag)] = taxi['num_orders'].shift(lag)\n",
    "    taxi['rolling_mean'] = taxi['num_orders'].shift().rolling(rolling_mean_size).mean()   \n",
    "    return taxi"
   ]
  },
  {
   "cell_type": "code",
   "execution_count": 7,
   "metadata": {},
   "outputs": [
    {
     "name": "stdout",
     "output_type": "stream",
     "text": [
      "                     num_orders  hour  dayofweek  lag_1  lag_2  rolling_mean\n",
      "datetime                                                                    \n",
      "2018-03-01 00:00:00         124     0          3    NaN    NaN           NaN\n",
      "2018-03-01 01:00:00          85     1          3  124.0    NaN           NaN\n",
      "2018-03-01 02:00:00          71     2          3   85.0  124.0           NaN\n",
      "2018-03-01 03:00:00          66     3          3   71.0   85.0           NaN\n",
      "2018-03-01 04:00:00          43     4          3   66.0   71.0           NaN\n",
      "2018-03-01 05:00:00           6     5          3   43.0   66.0           NaN\n",
      "2018-03-01 06:00:00          12     6          3    6.0   43.0           NaN\n",
      "2018-03-01 07:00:00          15     7          3   12.0    6.0           NaN\n",
      "2018-03-01 08:00:00          34     8          3   15.0   12.0           NaN\n",
      "2018-03-01 09:00:00          69     9          3   34.0   15.0           NaN\n",
      "2018-03-01 10:00:00          64    10          3   69.0   34.0           NaN\n",
      "2018-03-01 11:00:00          96    11          3   64.0   69.0           NaN\n",
      "2018-03-01 12:00:00          30    12          3   96.0   64.0           NaN\n",
      "2018-03-01 13:00:00          32    13          3   30.0   96.0           NaN\n",
      "2018-03-01 14:00:00          48    14          3   32.0   30.0           NaN\n",
      "2018-03-01 15:00:00          66    15          3   48.0   32.0           NaN\n",
      "2018-03-01 16:00:00          43    16          3   66.0   48.0           NaN\n",
      "2018-03-01 17:00:00          44    17          3   43.0   66.0           NaN\n",
      "2018-03-01 18:00:00          73    18          3   44.0   43.0           NaN\n",
      "2018-03-01 19:00:00          45    19          3   73.0   44.0           NaN\n",
      "2018-03-01 20:00:00          61    20          3   45.0   73.0           NaN\n",
      "2018-03-01 21:00:00          66    21          3   61.0   45.0           NaN\n",
      "2018-03-01 22:00:00         113    22          3   66.0   61.0           NaN\n",
      "2018-03-01 23:00:00          58    23          3  113.0   66.0     56.782609\n"
     ]
    }
   ],
   "source": [
    "make_features(taxi, 2, 23)\n",
    "print(taxi.head(24))"
   ]
  },
  {
   "cell_type": "markdown",
   "metadata": {},
   "source": [
    "Разобьем наши данные на тренировочную и тестовые выборки. Так как нам нужно обучить модель предсказывать на час, возьмем период с середины июля по конец августа"
   ]
  },
  {
   "cell_type": "code",
   "execution_count": 8,
   "metadata": {},
   "outputs": [
    {
     "data": {
      "text/html": [
       "<div>\n",
       "<style scoped>\n",
       "    .dataframe tbody tr th:only-of-type {\n",
       "        vertical-align: middle;\n",
       "    }\n",
       "\n",
       "    .dataframe tbody tr th {\n",
       "        vertical-align: top;\n",
       "    }\n",
       "\n",
       "    .dataframe thead th {\n",
       "        text-align: right;\n",
       "    }\n",
       "</style>\n",
       "<table border=\"1\" class=\"dataframe\">\n",
       "  <thead>\n",
       "    <tr style=\"text-align: right;\">\n",
       "      <th></th>\n",
       "      <th>num_orders</th>\n",
       "      <th>hour</th>\n",
       "      <th>dayofweek</th>\n",
       "      <th>lag_1</th>\n",
       "      <th>lag_2</th>\n",
       "      <th>rolling_mean</th>\n",
       "    </tr>\n",
       "    <tr>\n",
       "      <th>datetime</th>\n",
       "      <th></th>\n",
       "      <th></th>\n",
       "      <th></th>\n",
       "      <th></th>\n",
       "      <th></th>\n",
       "      <th></th>\n",
       "    </tr>\n",
       "  </thead>\n",
       "  <tbody>\n",
       "    <tr>\n",
       "      <th>2018-07-16 00:00:00</th>\n",
       "      <td>224</td>\n",
       "      <td>0</td>\n",
       "      <td>0</td>\n",
       "      <td>100.0</td>\n",
       "      <td>98.0</td>\n",
       "      <td>89.173913</td>\n",
       "    </tr>\n",
       "    <tr>\n",
       "      <th>2018-07-16 01:00:00</th>\n",
       "      <td>109</td>\n",
       "      <td>1</td>\n",
       "      <td>0</td>\n",
       "      <td>224.0</td>\n",
       "      <td>100.0</td>\n",
       "      <td>95.608696</td>\n",
       "    </tr>\n",
       "    <tr>\n",
       "      <th>2018-07-16 02:00:00</th>\n",
       "      <td>126</td>\n",
       "      <td>2</td>\n",
       "      <td>0</td>\n",
       "      <td>109.0</td>\n",
       "      <td>224.0</td>\n",
       "      <td>94.782609</td>\n",
       "    </tr>\n",
       "    <tr>\n",
       "      <th>2018-07-16 03:00:00</th>\n",
       "      <td>136</td>\n",
       "      <td>3</td>\n",
       "      <td>0</td>\n",
       "      <td>126.0</td>\n",
       "      <td>109.0</td>\n",
       "      <td>96.739130</td>\n",
       "    </tr>\n",
       "    <tr>\n",
       "      <th>2018-07-16 04:00:00</th>\n",
       "      <td>187</td>\n",
       "      <td>4</td>\n",
       "      <td>0</td>\n",
       "      <td>136.0</td>\n",
       "      <td>126.0</td>\n",
       "      <td>98.478261</td>\n",
       "    </tr>\n",
       "    <tr>\n",
       "      <th>...</th>\n",
       "      <td>...</td>\n",
       "      <td>...</td>\n",
       "      <td>...</td>\n",
       "      <td>...</td>\n",
       "      <td>...</td>\n",
       "      <td>...</td>\n",
       "    </tr>\n",
       "    <tr>\n",
       "      <th>2018-08-31 19:00:00</th>\n",
       "      <td>136</td>\n",
       "      <td>19</td>\n",
       "      <td>4</td>\n",
       "      <td>207.0</td>\n",
       "      <td>217.0</td>\n",
       "      <td>168.913043</td>\n",
       "    </tr>\n",
       "    <tr>\n",
       "      <th>2018-08-31 20:00:00</th>\n",
       "      <td>154</td>\n",
       "      <td>20</td>\n",
       "      <td>4</td>\n",
       "      <td>136.0</td>\n",
       "      <td>207.0</td>\n",
       "      <td>168.652174</td>\n",
       "    </tr>\n",
       "    <tr>\n",
       "      <th>2018-08-31 21:00:00</th>\n",
       "      <td>159</td>\n",
       "      <td>21</td>\n",
       "      <td>4</td>\n",
       "      <td>154.0</td>\n",
       "      <td>136.0</td>\n",
       "      <td>166.739130</td>\n",
       "    </tr>\n",
       "    <tr>\n",
       "      <th>2018-08-31 22:00:00</th>\n",
       "      <td>223</td>\n",
       "      <td>22</td>\n",
       "      <td>4</td>\n",
       "      <td>159.0</td>\n",
       "      <td>154.0</td>\n",
       "      <td>166.782609</td>\n",
       "    </tr>\n",
       "    <tr>\n",
       "      <th>2018-08-31 23:00:00</th>\n",
       "      <td>205</td>\n",
       "      <td>23</td>\n",
       "      <td>4</td>\n",
       "      <td>223.0</td>\n",
       "      <td>159.0</td>\n",
       "      <td>165.782609</td>\n",
       "    </tr>\n",
       "  </tbody>\n",
       "</table>\n",
       "<p>1128 rows × 6 columns</p>\n",
       "</div>"
      ],
      "text/plain": [
       "                     num_orders  hour  dayofweek  lag_1  lag_2  rolling_mean\n",
       "datetime                                                                    \n",
       "2018-07-16 00:00:00         224     0          0  100.0   98.0     89.173913\n",
       "2018-07-16 01:00:00         109     1          0  224.0  100.0     95.608696\n",
       "2018-07-16 02:00:00         126     2          0  109.0  224.0     94.782609\n",
       "2018-07-16 03:00:00         136     3          0  126.0  109.0     96.739130\n",
       "2018-07-16 04:00:00         187     4          0  136.0  126.0     98.478261\n",
       "...                         ...   ...        ...    ...    ...           ...\n",
       "2018-08-31 19:00:00         136    19          4  207.0  217.0    168.913043\n",
       "2018-08-31 20:00:00         154    20          4  136.0  207.0    168.652174\n",
       "2018-08-31 21:00:00         159    21          4  154.0  136.0    166.739130\n",
       "2018-08-31 22:00:00         223    22          4  159.0  154.0    166.782609\n",
       "2018-08-31 23:00:00         205    23          4  223.0  159.0    165.782609\n",
       "\n",
       "[1128 rows x 6 columns]"
      ]
     },
     "execution_count": 8,
     "metadata": {},
     "output_type": "execute_result"
    }
   ],
   "source": [
    "taxi_new = taxi['2018-07-16':'2018-08-31']\n",
    "taxi_new"
   ]
  },
  {
   "cell_type": "code",
   "execution_count": 9,
   "metadata": {},
   "outputs": [],
   "source": [
    "train, test = train_test_split(taxi_new, shuffle=False, test_size=0.1)\n",
    "train = train.dropna()"
   ]
  },
  {
   "cell_type": "code",
   "execution_count": 10,
   "metadata": {},
   "outputs": [
    {
     "name": "stdout",
     "output_type": "stream",
     "text": [
      "Обучающая выборка: (1015, 5)\n",
      "(1015,)\n",
      "Тестовая выборка: (113, 5)\n",
      "(113,)\n"
     ]
    }
   ],
   "source": [
    "features_train = train.drop(['num_orders'], axis=1)\n",
    "target_train = train['num_orders']\n",
    "features_test = test.drop(['num_orders'], axis=1)\n",
    "target_test = test['num_orders']\n",
    "print('Обучающая выборка:', features_train.shape)\n",
    "print(target_train.shape)\n",
    "print('Тестовая выборка:', features_test.shape)\n",
    "print(target_test.shape)"
   ]
  },
  {
   "cell_type": "markdown",
   "metadata": {},
   "source": [
    "**Вывод**\n",
    "\n",
    "Данные были проанализированы и подготовленны к обучению"
   ]
  },
  {
   "cell_type": "markdown",
   "metadata": {},
   "source": [
    "## Обучение"
   ]
  },
  {
   "cell_type": "markdown",
   "metadata": {},
   "source": []
  },
  {
   "cell_type": "markdown",
   "metadata": {},
   "source": [
    "Обучение будем производить применяя различные модели. Начнем с модели **Дерево решений**"
   ]
  },
  {
   "cell_type": "code",
   "execution_count": 11,
   "metadata": {},
   "outputs": [
    {
     "name": "stdout",
     "output_type": "stream",
     "text": [
      "CPU times: user 29 µs, sys: 6 µs, total: 35 µs\n",
      "Wall time: 37.9 µs\n"
     ]
    }
   ],
   "source": [
    "%%time\n",
    "dt = DecisionTreeRegressor()\n",
    "max_depth_parameters = [i for i in range(1,30)]\n",
    "hyperparams = [{'criterion':['mse'],\n",
    "               'max_depth':max_depth_parameters,\n",
    "               'random_state':[12345]}]"
   ]
  },
  {
   "cell_type": "code",
   "execution_count": 12,
   "metadata": {},
   "outputs": [
    {
     "name": "stdout",
     "output_type": "stream",
     "text": [
      "CPU times: user 911 ms, sys: 3.87 ms, total: 915 ms\n",
      "Wall time: 936 ms\n"
     ]
    },
    {
     "data": {
      "text/plain": [
       "GridSearchCV(estimator=DecisionTreeRegressor(),\n",
       "             param_grid=[{'criterion': ['mse'],\n",
       "                          'max_depth': [1, 2, 3, 4, 5, 6, 7, 8, 9, 10, 11, 12,\n",
       "                                        13, 14, 15, 16, 17, 18, 19, 20, 21, 22,\n",
       "                                        23, 24, 25, 26, 27, 28, 29],\n",
       "                          'random_state': [12345]}],\n",
       "             scoring='neg_mean_squared_error')"
      ]
     },
     "execution_count": 12,
     "metadata": {},
     "output_type": "execute_result"
    }
   ],
   "source": [
    "%%time\n",
    "tscv = TimeSeriesSplit(n_splits=8) # в документации написано количество расколов, я так понимаю это сколько часетй стало от начального датасета?\n",
    "dt_grid = GridSearchCV(dt, param_grid=hyperparams, scoring='neg_mean_squared_error') \n",
    "dt_grid.fit(features_train, target_train)"
   ]
  },
  {
   "cell_type": "code",
   "execution_count": 13,
   "metadata": {},
   "outputs": [
    {
     "data": {
      "text/plain": [
       "{'criterion': 'mse', 'max_depth': 3, 'random_state': 12345}"
      ]
     },
     "execution_count": 13,
     "metadata": {},
     "output_type": "execute_result"
    }
   ],
   "source": [
    "dt_grid.best_params_"
   ]
  },
  {
   "cell_type": "markdown",
   "metadata": {},
   "source": [
    "Далее обучим модель **LGBMRegressor**"
   ]
  },
  {
   "cell_type": "code",
   "execution_count": 14,
   "metadata": {},
   "outputs": [
    {
     "name": "stdout",
     "output_type": "stream",
     "text": [
      "CPU times: user 25 µs, sys: 4 µs, total: 29 µs\n",
      "Wall time: 32.7 µs\n"
     ]
    }
   ],
   "source": [
    "%%time\n",
    "lgbm = LGBMRegressor()\n",
    "hyperparams = [{'learning_rate':[x/10 for x in range(1, 6)],\n",
    "                'random_state':[12345]}]"
   ]
  },
  {
   "cell_type": "code",
   "execution_count": 15,
   "metadata": {},
   "outputs": [
    {
     "name": "stdout",
     "output_type": "stream",
     "text": [
      "CPU times: user 15.9 s, sys: 177 ms, total: 16.1 s\n",
      "Wall time: 16.2 s\n"
     ]
    },
    {
     "data": {
      "text/plain": [
       "GridSearchCV(estimator=LGBMRegressor(),\n",
       "             param_grid=[{'learning_rate': [0.1, 0.2, 0.3, 0.4, 0.5],\n",
       "                          'random_state': [12345]}],\n",
       "             scoring='neg_mean_squared_error')"
      ]
     },
     "execution_count": 15,
     "metadata": {},
     "output_type": "execute_result"
    }
   ],
   "source": [
    "%%time\n",
    "lgbm_grid = GridSearchCV(lgbm, hyperparams, scoring='neg_mean_squared_error')\n",
    "lgbm_grid.fit(features_train, target_train)"
   ]
  },
  {
   "cell_type": "code",
   "execution_count": 16,
   "metadata": {},
   "outputs": [
    {
     "data": {
      "text/plain": [
       "{'learning_rate': 0.1, 'random_state': 12345}"
      ]
     },
     "execution_count": 16,
     "metadata": {},
     "output_type": "execute_result"
    }
   ],
   "source": [
    "lgbm_grid.best_params_"
   ]
  },
  {
   "cell_type": "markdown",
   "metadata": {},
   "source": [
    "**Вывод**\n",
    "\n",
    "Добавили признаков для обучения моделей, разбили наш датаест на тренировочную и тестовую выборки, подобрали гиперпараметры и обучили 2 модели, готовы к предсказаниям"
   ]
  },
  {
   "cell_type": "markdown",
   "metadata": {},
   "source": [
    "## Тестирование"
   ]
  },
  {
   "cell_type": "markdown",
   "metadata": {},
   "source": [
    "Первой протестируем метод Дерево решений"
   ]
  },
  {
   "cell_type": "code",
   "execution_count": 17,
   "metadata": {
    "scrolled": false
   },
   "outputs": [
    {
     "name": "stdout",
     "output_type": "stream",
     "text": [
      "RMSE DecisionTreeRegressor: 52.81354409525127\n"
     ]
    }
   ],
   "source": [
    "predictions_dt_grid = dt_grid.predict(features_test)\n",
    "result = (mean_squared_error(target_test, predictions_dt_grid))**0.5\n",
    "print('RMSE DecisionTreeRegressor:', result)"
   ]
  },
  {
   "cell_type": "markdown",
   "metadata": {},
   "source": []
  },
  {
   "cell_type": "code",
   "execution_count": 18,
   "metadata": {},
   "outputs": [
    {
     "data": {
      "text/plain": [
       "Text(0.5, 1.0, 'Результат модели, 2 дня')"
      ]
     },
     "execution_count": 18,
     "metadata": {},
     "output_type": "execute_result"
    },
    {
     "data": {
      "image/png": "[encoded data removed]",
      "text/plain": [
       "<Figure size 1080x504 with 1 Axes>"
      ]
     },
     "metadata": {
      "needs_background": "light"
     },
     "output_type": "display_data"
    }
   ],
   "source": [
    "plt.figure(figsize=figsize)\n",
    "plt.plot(target_test.index,\n",
    "        target_test,\n",
    "        'y-',\n",
    "        target_test.index,\n",
    "        predictions_dt_grid,\n",
    "        'g-')\n",
    "plt.title('Результат модели, 2 дня')"
   ]
  },
  {
   "cell_type": "markdown",
   "metadata": {},
   "source": [
    "Как мы можем видеть из графика модель не очень хорошо справилась со своей задачей. RMSE 52.81  это не очень хороший результат! "
   ]
  },
  {
   "cell_type": "markdown",
   "metadata": {},
   "source": [
    "Далее LGBMRegressor"
   ]
  },
  {
   "cell_type": "code",
   "execution_count": 19,
   "metadata": {},
   "outputs": [
    {
     "name": "stdout",
     "output_type": "stream",
     "text": [
      "RMSE LGBMRegressor: 44.93718714751378\n"
     ]
    }
   ],
   "source": [
    "predictions_lgbm_grid = lgbm_grid.predict(features_test)\n",
    "print(f'RMSE LGBMRegressor: {mean_squared_error(target_test, predictions_lgbm_grid, squared=False)}')"
   ]
  },
  {
   "cell_type": "code",
   "execution_count": 20,
   "metadata": {
    "scrolled": true
   },
   "outputs": [
    {
     "data": {
      "text/plain": [
       "Text(0.5, 1.0, \"Text(0.5, 1.0, 'Результат модели, 2 дня')\")"
      ]
     },
     "execution_count": 20,
     "metadata": {},
     "output_type": "execute_result"
    },
    {
     "data": {
      "image/png": "[encoded data removed]",
      "text/plain": [
       "<Figure size 1080x504 with 1 Axes>"
      ]
     },
     "metadata": {
      "needs_background": "light"
     },
     "output_type": "display_data"
    }
   ],
   "source": [
    "plt.figure(figsize=figsize)\n",
    "plt.plot(target_test.index,\n",
    "        target_test,\n",
    "        'y-',\n",
    "        target_test.index,\n",
    "        predictions_lgbm_grid,\n",
    "        'g-')\n",
    "plt.title(plt.title('Результат модели, 2 дня'))"
   ]
  },
  {
   "cell_type": "markdown",
   "metadata": {},
   "source": [
    "Модель LGBMRegressor гораздо лучше справилось с поставленной задачей. Как мы видим из графика модель больше усреднила значения и не подвержена выбросам. "
   ]
  }
 ],
 "metadata": {
  "ExecuteTimeLog": [
   {
    "duration": 46,
    "start_time": "2022-08-29T17:34:13.207Z"
   },
   {
    "duration": 1105,
    "start_time": "2022-08-29T17:34:18.586Z"
   },
   {
    "duration": 0,
    "start_time": "2022-08-29T17:34:19.692Z"
   },
   {
    "duration": 28,
    "start_time": "2022-08-29T17:35:01.428Z"
   },
   {
    "duration": 126,
    "start_time": "2022-08-29T17:35:02.905Z"
   },
   {
    "duration": 12,
    "start_time": "2022-08-29T17:35:14.632Z"
   },
   {
    "duration": 12,
    "start_time": "2022-08-29T17:35:26.843Z"
   },
   {
    "duration": 12,
    "start_time": "2022-08-29T17:35:33.711Z"
   },
   {
    "duration": 8,
    "start_time": "2022-08-29T17:35:49.462Z"
   },
   {
    "duration": 11,
    "start_time": "2022-08-29T17:37:49.452Z"
   },
   {
    "duration": 16,
    "start_time": "2022-08-29T17:38:10.015Z"
   },
   {
    "duration": 2,
    "start_time": "2022-08-29T17:38:39.249Z"
   },
   {
    "duration": 48,
    "start_time": "2022-08-29T17:38:40.653Z"
   },
   {
    "duration": 9,
    "start_time": "2022-08-29T17:38:42.381Z"
   },
   {
    "duration": 6,
    "start_time": "2022-08-29T17:38:43.723Z"
   },
   {
    "duration": 643,
    "start_time": "2022-08-29T17:38:47.344Z"
   },
   {
    "duration": 8,
    "start_time": "2022-08-29T17:54:09.877Z"
   },
   {
    "duration": 816,
    "start_time": "2022-08-29T17:56:11.315Z"
   },
   {
    "duration": 1000,
    "start_time": "2022-08-29T17:56:33.318Z"
   },
   {
    "duration": 145,
    "start_time": "2022-08-29T17:57:32.518Z"
   },
   {
    "duration": 9,
    "start_time": "2022-08-29T18:10:27.885Z"
   },
   {
    "duration": 37,
    "start_time": "2022-08-29T18:10:55.053Z"
   },
   {
    "duration": 53,
    "start_time": "2022-08-29T18:10:56.048Z"
   },
   {
    "duration": 1138,
    "start_time": "2022-08-29T18:11:00.605Z"
   },
   {
    "duration": 60,
    "start_time": "2022-08-29T18:11:01.745Z"
   },
   {
    "duration": 10,
    "start_time": "2022-08-29T18:11:01.806Z"
   },
   {
    "duration": 517,
    "start_time": "2022-08-29T18:11:01.818Z"
   },
   {
    "duration": 125,
    "start_time": "2022-08-29T18:11:02.337Z"
   },
   {
    "duration": 0,
    "start_time": "2022-08-29T18:11:02.463Z"
   },
   {
    "duration": 0,
    "start_time": "2022-08-29T18:11:02.464Z"
   },
   {
    "duration": 3,
    "start_time": "2022-08-29T18:11:38.403Z"
   },
   {
    "duration": 1458,
    "start_time": "2022-08-29T18:11:43.706Z"
   },
   {
    "duration": 55,
    "start_time": "2022-08-29T18:11:45.166Z"
   },
   {
    "duration": 10,
    "start_time": "2022-08-29T18:11:45.223Z"
   },
   {
    "duration": 253,
    "start_time": "2022-08-29T18:11:45.236Z"
   },
   {
    "duration": 685,
    "start_time": "2022-08-29T18:11:45.491Z"
   },
   {
    "duration": 8,
    "start_time": "2022-08-29T18:11:46.178Z"
   },
   {
    "duration": 162,
    "start_time": "2022-08-29T18:11:46.188Z"
   },
   {
    "duration": 299,
    "start_time": "2022-08-29T18:13:19.387Z"
   },
   {
    "duration": 595,
    "start_time": "2022-08-29T18:13:55.684Z"
   },
   {
    "duration": 295,
    "start_time": "2022-08-29T18:14:16.369Z"
   },
   {
    "duration": 644,
    "start_time": "2022-08-29T18:14:57.270Z"
   },
   {
    "duration": 741,
    "start_time": "2022-08-29T18:22:17.191Z"
   },
   {
    "duration": 1340,
    "start_time": "2022-08-29T18:23:36.459Z"
   },
   {
    "duration": 55,
    "start_time": "2022-08-29T18:23:37.800Z"
   },
   {
    "duration": 10,
    "start_time": "2022-08-29T18:23:37.856Z"
   },
   {
    "duration": 322,
    "start_time": "2022-08-29T18:23:37.868Z"
   },
   {
    "duration": 801,
    "start_time": "2022-08-29T18:23:38.191Z"
   },
   {
    "duration": 17,
    "start_time": "2022-08-29T18:23:38.993Z"
   },
   {
    "duration": 174,
    "start_time": "2022-08-29T18:23:39.011Z"
   },
   {
    "duration": 257,
    "start_time": "2022-08-29T18:24:40.133Z"
   },
   {
    "duration": 687,
    "start_time": "2022-08-29T18:24:43.646Z"
   },
   {
    "duration": 977,
    "start_time": "2022-08-29T18:28:09.397Z"
   },
   {
    "duration": 614,
    "start_time": "2022-08-29T18:32:38.685Z"
   },
   {
    "duration": 702,
    "start_time": "2022-08-29T18:34:00.525Z"
   },
   {
    "duration": 48,
    "start_time": "2022-08-29T18:41:30.242Z"
   },
   {
    "duration": 9,
    "start_time": "2022-08-29T18:43:16.675Z"
   },
   {
    "duration": 103,
    "start_time": "2022-08-29T18:43:34.120Z"
   },
   {
    "duration": 9,
    "start_time": "2022-08-29T18:43:44.389Z"
   },
   {
    "duration": 9,
    "start_time": "2022-08-29T18:43:49.548Z"
   },
   {
    "duration": 15,
    "start_time": "2022-08-29T18:43:53.764Z"
   },
   {
    "duration": 6,
    "start_time": "2022-08-29T18:51:09.373Z"
   },
   {
    "duration": 5,
    "start_time": "2022-08-29T18:52:54.164Z"
   },
   {
    "duration": 1112,
    "start_time": "2022-08-29T19:00:31.664Z"
   },
   {
    "duration": 57,
    "start_time": "2022-08-29T19:00:32.778Z"
   },
   {
    "duration": 9,
    "start_time": "2022-08-29T19:00:32.837Z"
   },
   {
    "duration": 562,
    "start_time": "2022-08-29T19:00:32.848Z"
   },
   {
    "duration": 121,
    "start_time": "2022-08-29T19:00:33.412Z"
   },
   {
    "duration": 0,
    "start_time": "2022-08-29T19:00:33.534Z"
   },
   {
    "duration": 0,
    "start_time": "2022-08-29T19:00:33.536Z"
   },
   {
    "duration": 0,
    "start_time": "2022-08-29T19:00:33.537Z"
   },
   {
    "duration": 0,
    "start_time": "2022-08-29T19:00:33.537Z"
   },
   {
    "duration": 0,
    "start_time": "2022-08-29T19:00:33.538Z"
   },
   {
    "duration": 9,
    "start_time": "2022-08-29T19:01:46.887Z"
   },
   {
    "duration": 1098,
    "start_time": "2022-08-29T19:02:03.622Z"
   },
   {
    "duration": 57,
    "start_time": "2022-08-29T19:02:04.722Z"
   },
   {
    "duration": 9,
    "start_time": "2022-08-29T19:02:04.781Z"
   },
   {
    "duration": 578,
    "start_time": "2022-08-29T19:02:04.792Z"
   },
   {
    "duration": 113,
    "start_time": "2022-08-29T19:02:05.372Z"
   },
   {
    "duration": 0,
    "start_time": "2022-08-29T19:02:05.487Z"
   },
   {
    "duration": 0,
    "start_time": "2022-08-29T19:02:05.488Z"
   },
   {
    "duration": 0,
    "start_time": "2022-08-29T19:02:05.489Z"
   },
   {
    "duration": 0,
    "start_time": "2022-08-29T19:02:05.490Z"
   },
   {
    "duration": 0,
    "start_time": "2022-08-29T19:02:05.491Z"
   },
   {
    "duration": 1432,
    "start_time": "2022-08-29T19:03:16.297Z"
   },
   {
    "duration": 56,
    "start_time": "2022-08-29T19:03:17.731Z"
   },
   {
    "duration": 9,
    "start_time": "2022-08-29T19:03:17.788Z"
   },
   {
    "duration": 291,
    "start_time": "2022-08-29T19:03:17.799Z"
   },
   {
    "duration": 739,
    "start_time": "2022-08-29T19:03:18.091Z"
   },
   {
    "duration": 647,
    "start_time": "2022-08-29T19:03:18.832Z"
   },
   {
    "duration": 7,
    "start_time": "2022-08-29T19:03:19.480Z"
   },
   {
    "duration": 28,
    "start_time": "2022-08-29T19:03:19.489Z"
   },
   {
    "duration": 6,
    "start_time": "2022-08-29T19:03:19.519Z"
   },
   {
    "duration": 7,
    "start_time": "2022-08-29T19:03:19.527Z"
   },
   {
    "duration": 1421,
    "start_time": "2022-08-29T19:05:00.633Z"
   },
   {
    "duration": 57,
    "start_time": "2022-08-29T19:05:02.056Z"
   },
   {
    "duration": 9,
    "start_time": "2022-08-29T19:05:02.115Z"
   },
   {
    "duration": 324,
    "start_time": "2022-08-29T19:05:02.126Z"
   },
   {
    "duration": 775,
    "start_time": "2022-08-29T19:05:02.452Z"
   },
   {
    "duration": 658,
    "start_time": "2022-08-29T19:05:03.228Z"
   },
   {
    "duration": 8,
    "start_time": "2022-08-29T19:05:03.887Z"
   },
   {
    "duration": 22,
    "start_time": "2022-08-29T19:05:03.896Z"
   },
   {
    "duration": 7,
    "start_time": "2022-08-29T19:05:03.919Z"
   },
   {
    "duration": 12,
    "start_time": "2022-08-29T19:05:03.928Z"
   },
   {
    "duration": 125,
    "start_time": "2022-08-29T19:23:45.576Z"
   },
   {
    "duration": 10,
    "start_time": "2022-08-29T19:23:54.049Z"
   },
   {
    "duration": 12,
    "start_time": "2022-08-29T19:24:00.623Z"
   },
   {
    "duration": 12,
    "start_time": "2022-08-29T19:25:05.775Z"
   },
   {
    "duration": 99,
    "start_time": "2022-08-29T19:25:15.767Z"
   },
   {
    "duration": 10,
    "start_time": "2022-08-29T19:26:21.427Z"
   },
   {
    "duration": 1257,
    "start_time": "2022-08-29T19:26:48.168Z"
   },
   {
    "duration": 56,
    "start_time": "2022-08-29T19:26:49.427Z"
   },
   {
    "duration": 9,
    "start_time": "2022-08-29T19:26:49.485Z"
   },
   {
    "duration": 286,
    "start_time": "2022-08-29T19:26:49.496Z"
   },
   {
    "duration": 760,
    "start_time": "2022-08-29T19:26:49.784Z"
   },
   {
    "duration": 642,
    "start_time": "2022-08-29T19:26:50.546Z"
   },
   {
    "duration": 7,
    "start_time": "2022-08-29T19:26:51.192Z"
   },
   {
    "duration": 17,
    "start_time": "2022-08-29T19:26:51.209Z"
   },
   {
    "duration": 14,
    "start_time": "2022-08-29T19:26:51.227Z"
   },
   {
    "duration": 14,
    "start_time": "2022-08-29T19:26:51.243Z"
   },
   {
    "duration": 106,
    "start_time": "2022-08-29T19:26:51.258Z"
   },
   {
    "duration": 80,
    "start_time": "2022-08-29T19:27:01.477Z"
   },
   {
    "duration": 63,
    "start_time": "2022-08-29T19:28:40.565Z"
   },
   {
    "duration": 14,
    "start_time": "2022-08-29T19:33:15.400Z"
   },
   {
    "duration": 14,
    "start_time": "2022-08-29T19:33:19.383Z"
   },
   {
    "duration": 10,
    "start_time": "2022-08-29T19:40:29.684Z"
   },
   {
    "duration": 1353,
    "start_time": "2022-08-29T19:41:01.410Z"
   },
   {
    "duration": 57,
    "start_time": "2022-08-29T19:41:02.765Z"
   },
   {
    "duration": 10,
    "start_time": "2022-08-29T19:41:02.824Z"
   },
   {
    "duration": 308,
    "start_time": "2022-08-29T19:41:02.836Z"
   },
   {
    "duration": 782,
    "start_time": "2022-08-29T19:41:03.145Z"
   },
   {
    "duration": 652,
    "start_time": "2022-08-29T19:41:03.928Z"
   },
   {
    "duration": 7,
    "start_time": "2022-08-29T19:41:04.581Z"
   },
   {
    "duration": 27,
    "start_time": "2022-08-29T19:41:04.590Z"
   },
   {
    "duration": 6,
    "start_time": "2022-08-29T19:41:04.619Z"
   },
   {
    "duration": 6,
    "start_time": "2022-08-29T19:41:04.627Z"
   },
   {
    "duration": 18,
    "start_time": "2022-08-29T19:41:04.634Z"
   },
   {
    "duration": 106,
    "start_time": "2022-08-29T19:43:30.667Z"
   },
   {
    "duration": 401,
    "start_time": "2022-08-29T19:43:41.946Z"
   },
   {
    "duration": 1277,
    "start_time": "2022-08-29T19:46:38.778Z"
   },
   {
    "duration": 55,
    "start_time": "2022-08-29T19:46:40.057Z"
   },
   {
    "duration": 10,
    "start_time": "2022-08-29T19:46:40.114Z"
   },
   {
    "duration": 311,
    "start_time": "2022-08-29T19:46:40.127Z"
   },
   {
    "duration": 775,
    "start_time": "2022-08-29T19:46:40.440Z"
   },
   {
    "duration": 659,
    "start_time": "2022-08-29T19:46:41.216Z"
   },
   {
    "duration": 7,
    "start_time": "2022-08-29T19:46:41.877Z"
   },
   {
    "duration": 27,
    "start_time": "2022-08-29T19:46:41.886Z"
   },
   {
    "duration": 7,
    "start_time": "2022-08-29T19:46:41.914Z"
   },
   {
    "duration": 8,
    "start_time": "2022-08-29T19:46:41.923Z"
   },
   {
    "duration": 5,
    "start_time": "2022-08-29T19:46:41.933Z"
   },
   {
    "duration": 420,
    "start_time": "2022-08-29T19:46:41.939Z"
   },
   {
    "duration": 1433,
    "start_time": "2022-08-29T19:49:05.783Z"
   },
   {
    "duration": 61,
    "start_time": "2022-08-29T19:49:07.220Z"
   },
   {
    "duration": 12,
    "start_time": "2022-08-29T19:49:07.284Z"
   },
   {
    "duration": 311,
    "start_time": "2022-08-29T19:49:07.299Z"
   },
   {
    "duration": 781,
    "start_time": "2022-08-29T19:49:07.612Z"
   },
   {
    "duration": 616,
    "start_time": "2022-08-29T19:49:08.395Z"
   },
   {
    "duration": 7,
    "start_time": "2022-08-29T19:49:09.013Z"
   },
   {
    "duration": 25,
    "start_time": "2022-08-29T19:49:09.021Z"
   },
   {
    "duration": 18,
    "start_time": "2022-08-29T19:49:09.047Z"
   },
   {
    "duration": 27,
    "start_time": "2022-08-29T19:49:09.067Z"
   },
   {
    "duration": 26,
    "start_time": "2022-08-29T19:49:09.096Z"
   },
   {
    "duration": 434,
    "start_time": "2022-08-29T19:49:09.124Z"
   },
   {
    "duration": 114,
    "start_time": "2022-08-29T19:49:09.560Z"
   },
   {
    "duration": 3,
    "start_time": "2022-08-29T19:50:24.572Z"
   },
   {
    "duration": 3719,
    "start_time": "2022-08-29T19:52:12.598Z"
   },
   {
    "duration": 1124,
    "start_time": "2022-08-29T19:53:15.168Z"
   },
   {
    "duration": 0,
    "start_time": "2022-08-29T19:53:16.294Z"
   },
   {
    "duration": 0,
    "start_time": "2022-08-29T19:53:16.296Z"
   },
   {
    "duration": 0,
    "start_time": "2022-08-29T19:53:16.297Z"
   },
   {
    "duration": 0,
    "start_time": "2022-08-29T19:53:16.298Z"
   },
   {
    "duration": 0,
    "start_time": "2022-08-29T19:53:16.300Z"
   },
   {
    "duration": 0,
    "start_time": "2022-08-29T19:53:16.302Z"
   },
   {
    "duration": 0,
    "start_time": "2022-08-29T19:53:16.303Z"
   },
   {
    "duration": 0,
    "start_time": "2022-08-29T19:53:16.304Z"
   },
   {
    "duration": 0,
    "start_time": "2022-08-29T19:53:16.306Z"
   },
   {
    "duration": 0,
    "start_time": "2022-08-29T19:53:16.307Z"
   },
   {
    "duration": 0,
    "start_time": "2022-08-29T19:53:16.308Z"
   },
   {
    "duration": 0,
    "start_time": "2022-08-29T19:53:16.310Z"
   },
   {
    "duration": 0,
    "start_time": "2022-08-29T19:53:16.311Z"
   },
   {
    "duration": 469,
    "start_time": "2022-08-29T19:53:56.140Z"
   },
   {
    "duration": 1324,
    "start_time": "2022-08-29T19:54:04.349Z"
   },
   {
    "duration": 57,
    "start_time": "2022-08-29T19:54:05.675Z"
   },
   {
    "duration": 9,
    "start_time": "2022-08-29T19:54:05.734Z"
   },
   {
    "duration": 314,
    "start_time": "2022-08-29T19:54:05.745Z"
   },
   {
    "duration": 749,
    "start_time": "2022-08-29T19:54:06.060Z"
   },
   {
    "duration": 668,
    "start_time": "2022-08-29T19:54:06.810Z"
   },
   {
    "duration": 7,
    "start_time": "2022-08-29T19:54:07.480Z"
   },
   {
    "duration": 29,
    "start_time": "2022-08-29T19:54:07.489Z"
   },
   {
    "duration": 7,
    "start_time": "2022-08-29T19:54:07.519Z"
   },
   {
    "duration": 7,
    "start_time": "2022-08-29T19:54:07.528Z"
   },
   {
    "duration": 8,
    "start_time": "2022-08-29T19:54:07.536Z"
   },
   {
    "duration": 459,
    "start_time": "2022-08-29T19:54:07.546Z"
   },
   {
    "duration": 4,
    "start_time": "2022-08-29T19:54:08.009Z"
   },
   {
    "duration": 4300,
    "start_time": "2022-08-29T19:54:08.015Z"
   },
   {
    "duration": 4,
    "start_time": "2022-08-29T20:04:19.681Z"
   },
   {
    "duration": 5,
    "start_time": "2022-08-29T20:04:41.602Z"
   },
   {
    "duration": 6,
    "start_time": "2022-08-29T20:06:16.245Z"
   },
   {
    "duration": 114,
    "start_time": "2022-08-29T20:06:48.843Z"
   },
   {
    "duration": 11,
    "start_time": "2022-08-29T20:07:03.918Z"
   },
   {
    "duration": 6,
    "start_time": "2022-08-29T20:07:15.409Z"
   },
   {
    "duration": 8,
    "start_time": "2022-08-29T20:09:18.934Z"
   },
   {
    "duration": 6,
    "start_time": "2022-08-29T20:11:55.287Z"
   },
   {
    "duration": 1387,
    "start_time": "2022-08-29T20:12:15.995Z"
   },
   {
    "duration": 54,
    "start_time": "2022-08-29T20:12:17.385Z"
   },
   {
    "duration": 10,
    "start_time": "2022-08-29T20:12:17.441Z"
   },
   {
    "duration": 289,
    "start_time": "2022-08-29T20:12:17.454Z"
   },
   {
    "duration": 770,
    "start_time": "2022-08-29T20:12:17.745Z"
   },
   {
    "duration": 653,
    "start_time": "2022-08-29T20:12:18.516Z"
   },
   {
    "duration": 8,
    "start_time": "2022-08-29T20:12:19.171Z"
   },
   {
    "duration": 29,
    "start_time": "2022-08-29T20:12:19.180Z"
   },
   {
    "duration": 7,
    "start_time": "2022-08-29T20:12:19.211Z"
   },
   {
    "duration": 13,
    "start_time": "2022-08-29T20:12:19.220Z"
   },
   {
    "duration": 9,
    "start_time": "2022-08-29T20:12:19.234Z"
   },
   {
    "duration": 433,
    "start_time": "2022-08-29T20:12:19.245Z"
   },
   {
    "duration": 4,
    "start_time": "2022-08-29T20:12:19.680Z"
   },
   {
    "duration": 10,
    "start_time": "2022-08-29T20:12:19.686Z"
   },
   {
    "duration": 3608,
    "start_time": "2022-08-29T20:12:19.709Z"
   },
   {
    "duration": 4,
    "start_time": "2022-08-29T20:12:23.319Z"
   },
   {
    "duration": 13,
    "start_time": "2022-08-29T20:12:23.325Z"
   },
   {
    "duration": 71,
    "start_time": "2022-08-29T20:12:23.340Z"
   },
   {
    "duration": 1559,
    "start_time": "2022-08-30T06:39:32.617Z"
   },
   {
    "duration": 125,
    "start_time": "2022-08-30T06:39:34.178Z"
   },
   {
    "duration": 12,
    "start_time": "2022-08-30T06:39:41.457Z"
   },
   {
    "duration": 306,
    "start_time": "2022-08-30T06:39:43.344Z"
   },
   {
    "duration": 806,
    "start_time": "2022-08-30T06:42:13.167Z"
   },
   {
    "duration": 612,
    "start_time": "2022-08-30T06:42:18.126Z"
   },
   {
    "duration": 7,
    "start_time": "2022-08-30T06:43:02.947Z"
   },
   {
    "duration": 14,
    "start_time": "2022-08-30T06:44:05.122Z"
   },
   {
    "duration": 8,
    "start_time": "2022-08-30T06:44:37.634Z"
   },
   {
    "duration": 6,
    "start_time": "2022-08-30T06:44:38.154Z"
   },
   {
    "duration": 16,
    "start_time": "2022-08-30T06:44:50.863Z"
   },
   {
    "duration": 50,
    "start_time": "2022-08-31T14:12:43.795Z"
   },
   {
    "duration": 6,
    "start_time": "2022-08-31T14:32:51.178Z"
   },
   {
    "duration": 1762,
    "start_time": "2022-08-31T14:33:06.707Z"
   },
   {
    "duration": 125,
    "start_time": "2022-08-31T14:33:08.472Z"
   },
   {
    "duration": 10,
    "start_time": "2022-08-31T14:33:08.599Z"
   },
   {
    "duration": 312,
    "start_time": "2022-08-31T14:33:08.611Z"
   },
   {
    "duration": 627,
    "start_time": "2022-08-31T14:33:08.925Z"
   },
   {
    "duration": 493,
    "start_time": "2022-08-31T14:33:09.554Z"
   },
   {
    "duration": 9,
    "start_time": "2022-08-31T14:33:10.048Z"
   },
   {
    "duration": 28,
    "start_time": "2022-08-31T14:33:10.059Z"
   },
   {
    "duration": 14,
    "start_time": "2022-08-31T14:33:10.088Z"
   },
   {
    "duration": 17,
    "start_time": "2022-08-31T14:33:10.104Z"
   },
   {
    "duration": 33,
    "start_time": "2022-08-31T14:33:10.123Z"
   },
   {
    "duration": 19,
    "start_time": "2022-08-31T14:33:10.158Z"
   },
   {
    "duration": 494,
    "start_time": "2022-08-31T14:33:10.179Z"
   },
   {
    "duration": 4,
    "start_time": "2022-08-31T14:33:10.674Z"
   },
   {
    "duration": 6,
    "start_time": "2022-08-31T14:33:10.679Z"
   },
   {
    "duration": 24430,
    "start_time": "2022-08-31T14:33:10.686Z"
   },
   {
    "duration": 4,
    "start_time": "2022-08-31T14:33:35.117Z"
   },
   {
    "duration": 15,
    "start_time": "2022-08-31T14:33:35.123Z"
   },
   {
    "duration": 173,
    "start_time": "2022-08-31T14:33:35.140Z"
   },
   {
    "duration": 7,
    "start_time": "2022-08-31T14:36:55.683Z"
   },
   {
    "duration": 11,
    "start_time": "2022-08-31T14:51:27.319Z"
   },
   {
    "duration": 1293,
    "start_time": "2022-08-31T14:52:03.367Z"
   },
   {
    "duration": 55,
    "start_time": "2022-08-31T14:52:04.662Z"
   },
   {
    "duration": 9,
    "start_time": "2022-08-31T14:52:04.719Z"
   },
   {
    "duration": 321,
    "start_time": "2022-08-31T14:52:04.731Z"
   },
   {
    "duration": 579,
    "start_time": "2022-08-31T14:52:05.054Z"
   },
   {
    "duration": 479,
    "start_time": "2022-08-31T14:52:05.635Z"
   },
   {
    "duration": 8,
    "start_time": "2022-08-31T14:52:06.117Z"
   },
   {
    "duration": 42,
    "start_time": "2022-08-31T14:52:06.127Z"
   },
   {
    "duration": 6,
    "start_time": "2022-08-31T14:52:06.170Z"
   },
   {
    "duration": 6,
    "start_time": "2022-08-31T14:52:06.178Z"
   },
   {
    "duration": 14,
    "start_time": "2022-08-31T14:52:06.186Z"
   },
   {
    "duration": 8,
    "start_time": "2022-08-31T14:52:06.202Z"
   },
   {
    "duration": 1111,
    "start_time": "2022-08-31T14:52:06.212Z"
   },
   {
    "duration": 6,
    "start_time": "2022-08-31T14:52:07.324Z"
   },
   {
    "duration": 14,
    "start_time": "2022-08-31T14:52:07.331Z"
   },
   {
    "duration": 73974,
    "start_time": "2022-08-31T14:52:07.347Z"
   },
   {
    "duration": 4,
    "start_time": "2022-08-31T14:53:21.323Z"
   },
   {
    "duration": 82,
    "start_time": "2022-08-31T14:53:21.329Z"
   },
   {
    "duration": 100,
    "start_time": "2022-08-31T14:53:21.413Z"
   },
   {
    "duration": 12,
    "start_time": "2022-08-31T14:53:21.518Z"
   },
   {
    "duration": 9,
    "start_time": "2022-08-31T15:43:17.105Z"
   },
   {
    "duration": 9,
    "start_time": "2022-08-31T15:43:32.076Z"
   },
   {
    "duration": 161,
    "start_time": "2022-08-31T15:50:42.099Z"
   },
   {
    "duration": 777,
    "start_time": "2022-08-31T15:51:04.767Z"
   },
   {
    "duration": 87,
    "start_time": "2022-08-31T15:51:34.054Z"
   },
   {
    "duration": 117,
    "start_time": "2022-09-02T07:23:46.398Z"
   },
   {
    "duration": 78,
    "start_time": "2022-09-02T07:26:21.796Z"
   },
   {
    "duration": 1573,
    "start_time": "2022-09-02T07:26:28.943Z"
   },
   {
    "duration": 156,
    "start_time": "2022-09-02T07:26:30.519Z"
   },
   {
    "duration": 12,
    "start_time": "2022-09-02T07:26:30.676Z"
   },
   {
    "duration": 349,
    "start_time": "2022-09-02T07:26:30.690Z"
   },
   {
    "duration": 620,
    "start_time": "2022-09-02T07:26:31.042Z"
   },
   {
    "duration": 8,
    "start_time": "2022-09-02T07:26:31.663Z"
   },
   {
    "duration": 23,
    "start_time": "2022-09-02T07:26:31.672Z"
   },
   {
    "duration": 7,
    "start_time": "2022-09-02T07:26:31.696Z"
   },
   {
    "duration": 8,
    "start_time": "2022-09-02T07:26:31.705Z"
   },
   {
    "duration": 20,
    "start_time": "2022-09-02T07:26:31.715Z"
   },
   {
    "duration": 8,
    "start_time": "2022-09-02T07:26:31.737Z"
   },
   {
    "duration": 1229,
    "start_time": "2022-09-02T07:26:31.747Z"
   },
   {
    "duration": 3,
    "start_time": "2022-09-02T07:26:32.978Z"
   },
   {
    "duration": 4,
    "start_time": "2022-09-02T07:26:32.993Z"
   },
   {
    "duration": 20097,
    "start_time": "2022-09-02T07:26:32.998Z"
   },
   {
    "duration": 4,
    "start_time": "2022-09-02T07:26:53.097Z"
   },
   {
    "duration": 11,
    "start_time": "2022-09-02T07:26:53.103Z"
   },
   {
    "duration": 13,
    "start_time": "2022-09-02T07:26:53.115Z"
   },
   {
    "duration": 14,
    "start_time": "2022-09-02T07:28:33.524Z"
   },
   {
    "duration": 121,
    "start_time": "2022-09-02T07:32:49.361Z"
   },
   {
    "duration": 10,
    "start_time": "2022-09-02T07:33:10.463Z"
   },
   {
    "duration": 10,
    "start_time": "2022-09-02T07:36:15.910Z"
   },
   {
    "duration": 305,
    "start_time": "2022-09-02T07:36:41.765Z"
   },
   {
    "duration": 11,
    "start_time": "2022-09-02T07:40:29.820Z"
   },
   {
    "duration": 12,
    "start_time": "2022-09-02T07:40:54.125Z"
   },
   {
    "duration": 13,
    "start_time": "2022-09-02T07:41:04.306Z"
   },
   {
    "duration": 279,
    "start_time": "2022-09-02T07:41:30.975Z"
   },
   {
    "duration": 212,
    "start_time": "2022-09-02T07:42:10.937Z"
   },
   {
    "duration": 206,
    "start_time": "2022-09-02T07:42:20.505Z"
   },
   {
    "duration": 220,
    "start_time": "2022-09-02T07:42:25.220Z"
   },
   {
    "duration": 216,
    "start_time": "2022-09-02T07:42:30.553Z"
   },
   {
    "duration": 211,
    "start_time": "2022-09-02T07:42:39.618Z"
   },
   {
    "duration": 334,
    "start_time": "2022-09-02T07:50:58.737Z"
   },
   {
    "duration": 222,
    "start_time": "2022-09-02T07:51:20.248Z"
   },
   {
    "duration": 222,
    "start_time": "2022-09-02T07:52:05.334Z"
   },
   {
    "duration": 10,
    "start_time": "2022-09-02T08:11:06.063Z"
   },
   {
    "duration": 7,
    "start_time": "2022-09-02T08:11:08.079Z"
   },
   {
    "duration": 16,
    "start_time": "2022-09-02T08:11:10.873Z"
   },
   {
    "duration": 17,
    "start_time": "2022-09-02T08:11:37.367Z"
   },
   {
    "duration": 15,
    "start_time": "2022-09-02T08:11:39.906Z"
   },
   {
    "duration": 20,
    "start_time": "2022-09-02T08:11:46.806Z"
   },
   {
    "duration": 5,
    "start_time": "2022-09-02T08:12:22.391Z"
   },
   {
    "duration": 20,
    "start_time": "2022-09-02T08:12:27.633Z"
   },
   {
    "duration": 1556,
    "start_time": "2022-09-02T08:16:13.218Z"
   },
   {
    "duration": 60,
    "start_time": "2022-09-02T08:16:14.776Z"
   },
   {
    "duration": 11,
    "start_time": "2022-09-02T08:16:14.837Z"
   },
   {
    "duration": 361,
    "start_time": "2022-09-02T08:16:14.850Z"
   },
   {
    "duration": 559,
    "start_time": "2022-09-02T08:16:15.213Z"
   },
   {
    "duration": 27,
    "start_time": "2022-09-02T08:16:15.774Z"
   },
   {
    "duration": 29,
    "start_time": "2022-09-02T08:16:15.803Z"
   },
   {
    "duration": 10,
    "start_time": "2022-09-02T08:16:15.834Z"
   },
   {
    "duration": 95,
    "start_time": "2022-09-02T08:16:15.846Z"
   },
   {
    "duration": 42,
    "start_time": "2022-09-02T08:16:15.944Z"
   },
   {
    "duration": 5,
    "start_time": "2022-09-02T08:16:15.988Z"
   },
   {
    "duration": 460,
    "start_time": "2022-09-02T08:16:16.003Z"
   },
   {
    "duration": 4,
    "start_time": "2022-09-02T08:16:16.465Z"
   },
   {
    "duration": 8,
    "start_time": "2022-09-02T08:16:16.471Z"
   },
   {
    "duration": 8715,
    "start_time": "2022-09-02T08:16:16.492Z"
   },
   {
    "duration": 4,
    "start_time": "2022-09-02T08:16:25.209Z"
   },
   {
    "duration": 10,
    "start_time": "2022-09-02T08:16:25.215Z"
   },
   {
    "duration": 326,
    "start_time": "2022-09-02T08:16:25.227Z"
   },
   {
    "duration": 46,
    "start_time": "2022-09-02T08:16:25.555Z"
   },
   {
    "duration": 239,
    "start_time": "2022-09-02T08:16:25.603Z"
   },
   {
    "duration": 144,
    "start_time": "2022-09-02T08:19:37.816Z"
   },
   {
    "duration": 204,
    "start_time": "2022-09-02T08:19:57.468Z"
   },
   {
    "duration": 1568,
    "start_time": "2022-09-02T09:00:05.386Z"
   },
   {
    "duration": 57,
    "start_time": "2022-09-02T09:00:06.956Z"
   },
   {
    "duration": 12,
    "start_time": "2022-09-02T09:00:07.015Z"
   },
   {
    "duration": 330,
    "start_time": "2022-09-02T09:00:07.029Z"
   },
   {
    "duration": 527,
    "start_time": "2022-09-02T09:00:07.361Z"
   },
   {
    "duration": 8,
    "start_time": "2022-09-02T09:00:07.890Z"
   },
   {
    "duration": 18,
    "start_time": "2022-09-02T09:00:07.899Z"
   },
   {
    "duration": 7,
    "start_time": "2022-09-02T09:00:07.919Z"
   },
   {
    "duration": 103,
    "start_time": "2022-09-02T09:00:07.927Z"
   },
   {
    "duration": 21,
    "start_time": "2022-09-02T09:00:08.033Z"
   },
   {
    "duration": 13,
    "start_time": "2022-09-02T09:00:08.056Z"
   },
   {
    "duration": 1201,
    "start_time": "2022-09-02T09:00:08.070Z"
   },
   {
    "duration": 5,
    "start_time": "2022-09-02T09:00:09.272Z"
   },
   {
    "duration": 18,
    "start_time": "2022-09-02T09:00:09.278Z"
   },
   {
    "duration": 19901,
    "start_time": "2022-09-02T09:00:09.298Z"
   },
   {
    "duration": 4,
    "start_time": "2022-09-02T09:00:29.201Z"
   },
   {
    "duration": 14,
    "start_time": "2022-09-02T09:00:29.206Z"
   },
   {
    "duration": 344,
    "start_time": "2022-09-02T09:00:29.221Z"
   },
   {
    "duration": 30,
    "start_time": "2022-09-02T09:00:29.566Z"
   },
   {
    "duration": 272,
    "start_time": "2022-09-02T09:00:29.598Z"
   },
   {
    "duration": 74,
    "start_time": "2022-09-02T09:01:55.250Z"
   },
   {
    "duration": 230,
    "start_time": "2022-09-02T09:02:00.541Z"
   },
   {
    "duration": 5,
    "start_time": "2022-09-02T09:05:27.542Z"
   },
   {
    "duration": 22,
    "start_time": "2022-09-02T09:05:35.045Z"
   },
   {
    "duration": 1449,
    "start_time": "2022-09-02T09:08:04.904Z"
   },
   {
    "duration": 64,
    "start_time": "2022-09-02T09:08:06.355Z"
   },
   {
    "duration": 10,
    "start_time": "2022-09-02T09:08:06.421Z"
   },
   {
    "duration": 354,
    "start_time": "2022-09-02T09:08:06.433Z"
   },
   {
    "duration": 534,
    "start_time": "2022-09-02T09:08:06.789Z"
   },
   {
    "duration": 8,
    "start_time": "2022-09-02T09:08:07.325Z"
   },
   {
    "duration": 16,
    "start_time": "2022-09-02T09:08:07.334Z"
   },
   {
    "duration": 19,
    "start_time": "2022-09-02T09:08:07.352Z"
   },
   {
    "duration": 98,
    "start_time": "2022-09-02T09:08:07.373Z"
   },
   {
    "duration": 21,
    "start_time": "2022-09-02T09:08:07.474Z"
   },
   {
    "duration": 11,
    "start_time": "2022-09-02T09:08:07.497Z"
   },
   {
    "duration": 429,
    "start_time": "2022-09-02T09:08:07.510Z"
   },
   {
    "duration": 3,
    "start_time": "2022-09-02T09:08:07.941Z"
   },
   {
    "duration": 8,
    "start_time": "2022-09-02T09:08:07.946Z"
   },
   {
    "duration": 1741,
    "start_time": "2022-09-02T09:08:07.955Z"
   },
   {
    "duration": 4,
    "start_time": "2022-09-02T09:08:09.698Z"
   },
   {
    "duration": 15,
    "start_time": "2022-09-02T09:08:09.703Z"
   },
   {
    "duration": 314,
    "start_time": "2022-09-02T09:08:09.719Z"
   },
   {
    "duration": 9,
    "start_time": "2022-09-02T09:08:10.034Z"
   },
   {
    "duration": 281,
    "start_time": "2022-09-02T09:08:10.044Z"
   },
   {
    "duration": 1479,
    "start_time": "2022-09-02T09:08:44.896Z"
   },
   {
    "duration": 58,
    "start_time": "2022-09-02T09:08:46.377Z"
   },
   {
    "duration": 11,
    "start_time": "2022-09-02T09:08:46.436Z"
   },
   {
    "duration": 318,
    "start_time": "2022-09-02T09:08:46.449Z"
   },
   {
    "duration": 531,
    "start_time": "2022-09-02T09:08:46.769Z"
   },
   {
    "duration": 8,
    "start_time": "2022-09-02T09:08:47.302Z"
   },
   {
    "duration": 24,
    "start_time": "2022-09-02T09:08:47.312Z"
   },
   {
    "duration": 102,
    "start_time": "2022-09-02T09:08:47.338Z"
   },
   {
    "duration": 6,
    "start_time": "2022-09-02T09:08:47.442Z"
   },
   {
    "duration": 9,
    "start_time": "2022-09-02T09:08:47.451Z"
   },
   {
    "duration": 7,
    "start_time": "2022-09-02T09:08:47.462Z"
   },
   {
    "duration": 489,
    "start_time": "2022-09-02T09:08:47.471Z"
   },
   {
    "duration": 4,
    "start_time": "2022-09-02T09:08:47.961Z"
   },
   {
    "duration": 14,
    "start_time": "2022-09-02T09:08:47.967Z"
   },
   {
    "duration": 5320,
    "start_time": "2022-09-02T09:08:47.983Z"
   },
   {
    "duration": 4,
    "start_time": "2022-09-02T09:08:53.304Z"
   },
   {
    "duration": 85,
    "start_time": "2022-09-02T09:08:53.310Z"
   },
   {
    "duration": 266,
    "start_time": "2022-09-02T09:08:53.397Z"
   },
   {
    "duration": 32,
    "start_time": "2022-09-02T09:08:53.664Z"
   },
   {
    "duration": 239,
    "start_time": "2022-09-02T09:08:53.698Z"
   },
   {
    "duration": 1438,
    "start_time": "2022-09-02T09:09:40.328Z"
   },
   {
    "duration": 64,
    "start_time": "2022-09-02T09:09:41.768Z"
   },
   {
    "duration": 13,
    "start_time": "2022-09-02T09:09:41.837Z"
   },
   {
    "duration": 387,
    "start_time": "2022-09-02T09:09:41.852Z"
   },
   {
    "duration": 529,
    "start_time": "2022-09-02T09:09:42.241Z"
   },
   {
    "duration": 8,
    "start_time": "2022-09-02T09:09:42.771Z"
   },
   {
    "duration": 13,
    "start_time": "2022-09-02T09:09:42.791Z"
   },
   {
    "duration": 103,
    "start_time": "2022-09-02T09:09:42.805Z"
   },
   {
    "duration": 6,
    "start_time": "2022-09-02T09:09:42.910Z"
   },
   {
    "duration": 9,
    "start_time": "2022-09-02T09:09:42.918Z"
   },
   {
    "duration": 5,
    "start_time": "2022-09-02T09:09:42.929Z"
   },
   {
    "duration": 504,
    "start_time": "2022-09-02T09:09:42.936Z"
   },
   {
    "duration": 4,
    "start_time": "2022-09-02T09:09:43.443Z"
   },
   {
    "duration": 6,
    "start_time": "2022-09-02T09:09:43.448Z"
   },
   {
    "duration": 8649,
    "start_time": "2022-09-02T09:09:43.455Z"
   },
   {
    "duration": 87,
    "start_time": "2022-09-02T09:09:52.106Z"
   },
   {
    "duration": 11,
    "start_time": "2022-09-02T09:09:52.195Z"
   },
   {
    "duration": 284,
    "start_time": "2022-09-02T09:09:52.207Z"
   },
   {
    "duration": 10,
    "start_time": "2022-09-02T09:09:52.493Z"
   },
   {
    "duration": 258,
    "start_time": "2022-09-02T09:09:52.504Z"
   },
   {
    "duration": 210,
    "start_time": "2022-09-02T09:10:12.596Z"
   },
   {
    "duration": 206,
    "start_time": "2022-09-02T09:10:24.276Z"
   },
   {
    "duration": 1482,
    "start_time": "2022-09-02T09:11:21.994Z"
   },
   {
    "duration": 57,
    "start_time": "2022-09-02T09:11:23.478Z"
   },
   {
    "duration": 10,
    "start_time": "2022-09-02T09:11:23.537Z"
   },
   {
    "duration": 322,
    "start_time": "2022-09-02T09:11:23.549Z"
   },
   {
    "duration": 542,
    "start_time": "2022-09-02T09:11:23.874Z"
   },
   {
    "duration": 7,
    "start_time": "2022-09-02T09:11:24.418Z"
   },
   {
    "duration": 16,
    "start_time": "2022-09-02T09:11:24.427Z"
   },
   {
    "duration": 106,
    "start_time": "2022-09-02T09:11:24.444Z"
   },
   {
    "duration": 7,
    "start_time": "2022-09-02T09:11:24.551Z"
   },
   {
    "duration": 9,
    "start_time": "2022-09-02T09:11:24.560Z"
   },
   {
    "duration": 27,
    "start_time": "2022-09-02T09:11:24.570Z"
   },
   {
    "duration": 490,
    "start_time": "2022-09-02T09:11:24.599Z"
   },
   {
    "duration": 4,
    "start_time": "2022-09-02T09:11:25.092Z"
   },
   {
    "duration": 5,
    "start_time": "2022-09-02T09:11:25.098Z"
   },
   {
    "duration": 11394,
    "start_time": "2022-09-02T09:11:25.105Z"
   },
   {
    "duration": 4,
    "start_time": "2022-09-02T09:11:36.500Z"
   },
   {
    "duration": 13,
    "start_time": "2022-09-02T09:11:36.506Z"
   },
   {
    "duration": 326,
    "start_time": "2022-09-02T09:11:36.520Z"
   },
   {
    "duration": 47,
    "start_time": "2022-09-02T09:11:36.848Z"
   },
   {
    "duration": 244,
    "start_time": "2022-09-02T09:11:36.897Z"
   },
   {
    "duration": 3117,
    "start_time": "2022-09-02T13:20:03.122Z"
   },
   {
    "duration": 121,
    "start_time": "2022-09-02T13:20:06.241Z"
   },
   {
    "duration": 9,
    "start_time": "2022-09-02T13:20:06.364Z"
   },
   {
    "duration": 314,
    "start_time": "2022-09-02T13:20:07.166Z"
   },
   {
    "duration": 486,
    "start_time": "2022-09-02T13:20:08.602Z"
   },
   {
    "duration": 8,
    "start_time": "2022-09-02T13:20:11.609Z"
   },
   {
    "duration": 13,
    "start_time": "2022-09-02T13:20:13.344Z"
   },
   {
    "duration": 18,
    "start_time": "2022-09-02T13:20:15.898Z"
   },
   {
    "duration": 7,
    "start_time": "2022-09-02T13:20:49.654Z"
   },
   {
    "duration": 93,
    "start_time": "2022-09-02T13:20:50.618Z"
   },
   {
    "duration": 4,
    "start_time": "2022-09-02T13:20:56.222Z"
   },
   {
    "duration": 504,
    "start_time": "2022-09-02T13:20:57.154Z"
   },
   {
    "duration": 5,
    "start_time": "2022-09-02T13:21:01.345Z"
   },
   {
    "duration": 4,
    "start_time": "2022-09-02T13:21:02.239Z"
   },
   {
    "duration": 7701,
    "start_time": "2022-09-02T13:21:02.892Z"
   },
   {
    "duration": 4,
    "start_time": "2022-09-02T13:21:10.595Z"
   },
   {
    "duration": 7,
    "start_time": "2022-09-02T13:21:18.281Z"
   },
   {
    "duration": 314,
    "start_time": "2022-09-02T13:21:19.771Z"
   },
   {
    "duration": 9,
    "start_time": "2022-09-02T13:21:22.682Z"
   },
   {
    "duration": 207,
    "start_time": "2022-09-02T13:21:25.486Z"
   },
   {
    "duration": 1560,
    "start_time": "2022-09-02T14:39:11.895Z"
   },
   {
    "duration": 129,
    "start_time": "2022-09-02T14:39:13.457Z"
   },
   {
    "duration": 10,
    "start_time": "2022-09-02T14:39:13.588Z"
   },
   {
    "duration": 306,
    "start_time": "2022-09-02T14:39:13.600Z"
   },
   {
    "duration": 611,
    "start_time": "2022-09-02T14:39:13.908Z"
   },
   {
    "duration": 8,
    "start_time": "2022-09-02T14:39:14.521Z"
   },
   {
    "duration": 30,
    "start_time": "2022-09-02T14:39:14.530Z"
   },
   {
    "duration": 19,
    "start_time": "2022-09-02T14:39:14.562Z"
   },
   {
    "duration": 15,
    "start_time": "2022-09-02T14:39:14.582Z"
   },
   {
    "duration": 22,
    "start_time": "2022-09-02T14:39:14.599Z"
   },
   {
    "duration": 26,
    "start_time": "2022-09-02T14:39:14.623Z"
   },
   {
    "duration": 556,
    "start_time": "2022-09-02T14:39:14.651Z"
   },
   {
    "duration": 4,
    "start_time": "2022-09-02T14:39:15.208Z"
   },
   {
    "duration": 11,
    "start_time": "2022-09-02T14:39:15.214Z"
   },
   {
    "duration": 15662,
    "start_time": "2022-09-02T14:39:15.226Z"
   },
   {
    "duration": 3,
    "start_time": "2022-09-02T14:39:30.890Z"
   },
   {
    "duration": 30,
    "start_time": "2022-09-02T14:39:30.894Z"
   },
   {
    "duration": 249,
    "start_time": "2022-09-02T14:39:30.926Z"
   },
   {
    "duration": 15,
    "start_time": "2022-09-02T14:39:31.176Z"
   },
   {
    "duration": 218,
    "start_time": "2022-09-02T14:39:31.192Z"
   },
   {
    "duration": 4,
    "start_time": "2022-09-02T14:49:21.613Z"
   },
   {
    "duration": 877,
    "start_time": "2022-09-02T14:49:25.370Z"
   },
   {
    "duration": 3,
    "start_time": "2022-09-02T14:49:30.956Z"
   },
   {
    "duration": 4,
    "start_time": "2022-09-02T14:49:35.998Z"
   },
   {
    "duration": 15007,
    "start_time": "2022-09-02T14:49:37.189Z"
   },
   {
    "duration": 4,
    "start_time": "2022-09-02T14:49:54.500Z"
   },
   {
    "duration": 6,
    "start_time": "2022-09-02T14:49:57.326Z"
   },
   {
    "duration": 1375,
    "start_time": "2022-09-02T14:54:16.429Z"
   },
   {
    "duration": 56,
    "start_time": "2022-09-02T14:54:17.806Z"
   },
   {
    "duration": 10,
    "start_time": "2022-09-02T14:54:17.863Z"
   },
   {
    "duration": 307,
    "start_time": "2022-09-02T14:54:17.875Z"
   },
   {
    "duration": 484,
    "start_time": "2022-09-02T14:54:18.184Z"
   },
   {
    "duration": 17,
    "start_time": "2022-09-02T14:54:18.670Z"
   },
   {
    "duration": 12,
    "start_time": "2022-09-02T14:54:18.688Z"
   },
   {
    "duration": 102,
    "start_time": "2022-09-02T14:54:18.702Z"
   },
   {
    "duration": 6,
    "start_time": "2022-09-02T14:54:18.806Z"
   },
   {
    "duration": 7,
    "start_time": "2022-09-02T14:54:18.814Z"
   },
   {
    "duration": 7,
    "start_time": "2022-09-02T14:54:18.822Z"
   },
   {
    "duration": 945,
    "start_time": "2022-09-02T14:54:18.831Z"
   },
   {
    "duration": 10,
    "start_time": "2022-09-02T14:54:19.777Z"
   },
   {
    "duration": 8,
    "start_time": "2022-09-02T14:54:19.789Z"
   },
   {
    "duration": 16198,
    "start_time": "2022-09-02T14:54:19.799Z"
   },
   {
    "duration": 6,
    "start_time": "2022-09-02T14:54:35.999Z"
   },
   {
    "duration": 82,
    "start_time": "2022-09-02T14:54:36.006Z"
   },
   {
    "duration": 285,
    "start_time": "2022-09-02T14:54:36.090Z"
   },
   {
    "duration": 17,
    "start_time": "2022-09-02T14:54:36.376Z"
   },
   {
    "duration": 231,
    "start_time": "2022-09-02T14:54:36.395Z"
   },
   {
    "duration": 65,
    "start_time": "2022-09-02T14:57:09.300Z"
   }
  ],
  "kernelspec": {
   "display_name": "Python 3",
   "language": "python",
   "name": "python3"
  },
  "language_info": {
   "codemirror_mode": {
    "name": "ipython",
    "version": 3
   },
   "file_extension": ".py",
   "mimetype": "text/x-python",
   "name": "python",
   "nbconvert_exporter": "python",
   "pygments_lexer": "ipython3",
   "version": "3.7.4"
  },
  "toc": {
   "base_numbering": 1,
   "nav_menu": {},
   "number_sections": true,
   "sideBar": true,
   "skip_h1_title": true,
   "title_cell": "Содержание",
   "title_sidebar": "Contents",
   "toc_cell": true,
   "toc_position": {},
   "toc_section_display": true,
   "toc_window_display": true
  }
 },
 "nbformat": 4,
 "nbformat_minor": 2
}
