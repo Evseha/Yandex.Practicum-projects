{
 "cells": [
  {
   "cell_type": "markdown",
   "metadata": {
    "toc": true
   },
   "source": [
    "<h1>Содержание<span class=\"tocSkip\"></span></h1>\n",
    "<div class=\"toc\"><ul class=\"toc-item\"><li><ul class=\"toc-item\"><li><span><a href=\"#Общее-впечатление\" data-toc-modified-id=\"Общее-впечатление-0.1\"><span class=\"toc-item-num\">0.1&nbsp;&nbsp;</span><font color=\"orange\">Общее впечатление</font></a></span></li><li><span><a href=\"#Общее-впечатление-(ревью-2)\" data-toc-modified-id=\"Общее-впечатление-(ревью-2)-0.2\"><span class=\"toc-item-num\">0.2&nbsp;&nbsp;</span><font color=\"orange\">Общее впечатление (ревью 2)</font></a></span></li></ul></li><li><span><a href=\"#Подготовка\" data-toc-modified-id=\"Подготовка-1\"><span class=\"toc-item-num\">1&nbsp;&nbsp;</span>Подготовка</a></span></li><li><span><a href=\"#Обучение\" data-toc-modified-id=\"Обучение-2\"><span class=\"toc-item-num\">2&nbsp;&nbsp;</span>Обучение</a></span></li><li><span><a href=\"#Выводы\" data-toc-modified-id=\"Выводы-3\"><span class=\"toc-item-num\">3&nbsp;&nbsp;</span>Выводы</a></span></li><li><span><a href=\"#Чек-лист-проверки\" data-toc-modified-id=\"Чек-лист-проверки-4\"><span class=\"toc-item-num\">4&nbsp;&nbsp;</span>Чек-лист проверки</a></span></li></ul></div>"
   ]
  },
  {
   "cell_type": "markdown",
   "metadata": {},
   "source": [
    "# Проект для «Викишоп»"
   ]
  },
  {
   "cell_type": "markdown",
   "metadata": {},
   "source": [
    "Интернет-магазин «Викишоп» запускает новый сервис. Теперь пользователи могут редактировать и дополнять описания товаров, как в вики-сообществах. То есть клиенты предлагают свои правки и комментируют изменения других. Магазину нужен инструмент, который будет искать токсичные комментарии и отправлять их на модерацию. \n",
    "\n",
    "Обучите модель классифицировать комментарии на позитивные и негативные. В вашем распоряжении набор данных с разметкой о токсичности правок.\n",
    "\n",
    "Постройте модель со значением метрики качества *F1* не меньше 0.75. \n",
    "\n",
    "**Инструкция по выполнению проекта**\n",
    "\n",
    "1. Загрузите и подготовьте данные.\n",
    "2. Обучите разные модели. \n",
    "3. Сделайте выводы.\n",
    "\n",
    "Для выполнения проекта применять *BERT* необязательно, но вы можете попробовать.\n",
    "\n",
    "**Описание данных**\n",
    "\n",
    "Данные находятся в файле `toxic_comments.csv`. Столбец *text* в нём содержит текст комментария, а *toxic* — целевой признак."
   ]
  },
  {
   "cell_type": "markdown",
   "metadata": {},
   "source": [
    "## Подготовка"
   ]
  },
  {
   "cell_type": "markdown",
   "metadata": {},
   "source": [
    "Импортируем необходимые для работы библиотеки"
   ]
  },
  {
   "cell_type": "code",
   "execution_count": 1,
   "metadata": {},
   "outputs": [
    {
     "name": "stderr",
     "output_type": "stream",
     "text": [
      "[nltk_data] Downloading package wordnet to /home/jovyan/nltk_data...\n",
      "[nltk_data]   Package wordnet is already up-to-date!\n"
     ]
    }
   ],
   "source": [
    "\n",
    "import matplotlib.pyplot as plt\n",
    "import numpy as np\n",
    "import pandas as pd\n",
    "import re\n",
    "from pymystem3 import Mystem\n",
    "\n",
    "from nltk.corpus import stopwords as nltk_stopwords\n",
    "from sklearn.feature_extraction.text import TfidfVectorizer\n",
    "from sklearn.model_selection import train_test_split\n",
    "from sklearn.model_selection import cross_val_score\n",
    "from sklearn.model_selection import GridSearchCV\n",
    "from sklearn.linear_model import LogisticRegression\n",
    "from sklearn.ensemble import RandomForestClassifier\n",
    "from sklearn.tree import DecisionTreeClassifier\n",
    "from sklearn.metrics import precision_score\n",
    "from sklearn.metrics import f1_score \n",
    "from sklearn.metrics import recall_score \n",
    "from sklearn.metrics import accuracy_score \n",
    "from sklearn.metrics import roc_auc_score \n",
    "from sklearn.metrics import roc_curve \n",
    "from sklearn.metrics import mean_squared_error\n",
    "import nltk\n",
    "from nltk.stem import WordNetLemmatizer \n",
    "import nltk\n",
    "nltk.download('wordnet')\n",
    "\n",
    "from sklearn.utils import shuffle\n",
    "import warnings\n",
    "warnings.filterwarnings('ignore')"
   ]
  },
  {
   "cell_type": "markdown",
   "metadata": {},
   "source": [
    "Откроем и взглянем на первые 5 строк датасета"
   ]
  },
  {
   "cell_type": "code",
   "execution_count": 2,
   "metadata": {},
   "outputs": [
    {
     "data": {
      "text/html": [
       "<div>\n",
       "<style scoped>\n",
       "    .dataframe tbody tr th:only-of-type {\n",
       "        vertical-align: middle;\n",
       "    }\n",
       "\n",
       "    .dataframe tbody tr th {\n",
       "        vertical-align: top;\n",
       "    }\n",
       "\n",
       "    .dataframe thead th {\n",
       "        text-align: right;\n",
       "    }\n",
       "</style>\n",
       "<table border=\"1\" class=\"dataframe\">\n",
       "  <thead>\n",
       "    <tr style=\"text-align: right;\">\n",
       "      <th></th>\n",
       "      <th>Unnamed: 0</th>\n",
       "      <th>text</th>\n",
       "      <th>toxic</th>\n",
       "    </tr>\n",
       "  </thead>\n",
       "  <tbody>\n",
       "    <tr>\n",
       "      <th>0</th>\n",
       "      <td>0</td>\n",
       "      <td>Explanation\\nWhy the edits made under my usern...</td>\n",
       "      <td>0</td>\n",
       "    </tr>\n",
       "    <tr>\n",
       "      <th>1</th>\n",
       "      <td>1</td>\n",
       "      <td>D'aww! He matches this background colour I'm s...</td>\n",
       "      <td>0</td>\n",
       "    </tr>\n",
       "    <tr>\n",
       "      <th>2</th>\n",
       "      <td>2</td>\n",
       "      <td>Hey man, I'm really not trying to edit war. It...</td>\n",
       "      <td>0</td>\n",
       "    </tr>\n",
       "    <tr>\n",
       "      <th>3</th>\n",
       "      <td>3</td>\n",
       "      <td>\"\\nMore\\nI can't make any real suggestions on ...</td>\n",
       "      <td>0</td>\n",
       "    </tr>\n",
       "    <tr>\n",
       "      <th>4</th>\n",
       "      <td>4</td>\n",
       "      <td>You, sir, are my hero. Any chance you remember...</td>\n",
       "      <td>0</td>\n",
       "    </tr>\n",
       "  </tbody>\n",
       "</table>\n",
       "</div>"
      ],
      "text/plain": [
       "   Unnamed: 0                                               text  toxic\n",
       "0           0  Explanation\\nWhy the edits made under my usern...      0\n",
       "1           1  D'aww! He matches this background colour I'm s...      0\n",
       "2           2  Hey man, I'm really not trying to edit war. It...      0\n",
       "3           3  \"\\nMore\\nI can't make any real suggestions on ...      0\n",
       "4           4  You, sir, are my hero. Any chance you remember...      0"
      ]
     },
     "execution_count": 2,
     "metadata": {},
     "output_type": "execute_result"
    }
   ],
   "source": [
    "toxic_comments = pd.read_csv('/datasets/toxic_comments.csv')\n",
    "toxic_comments.head()"
   ]
  },
  {
   "cell_type": "code",
   "execution_count": 3,
   "metadata": {
    "scrolled": true
   },
   "outputs": [
    {
     "name": "stdout",
     "output_type": "stream",
     "text": [
      "<class 'pandas.core.frame.DataFrame'>\n",
      "RangeIndex: 159292 entries, 0 to 159291\n",
      "Data columns (total 3 columns):\n",
      " #   Column      Non-Null Count   Dtype \n",
      "---  ------      --------------   ----- \n",
      " 0   Unnamed: 0  159292 non-null  int64 \n",
      " 1   text        159292 non-null  object\n",
      " 2   toxic       159292 non-null  int64 \n",
      "dtypes: int64(2), object(1)\n",
      "memory usage: 3.6+ MB\n"
     ]
    }
   ],
   "source": [
    "toxic_comments.info()"
   ]
  },
  {
   "cell_type": "code",
   "execution_count": 4,
   "metadata": {},
   "outputs": [
    {
     "data": {
      "text/plain": [
       "0    143106\n",
       "1     16186\n",
       "Name: toxic, dtype: int64"
      ]
     },
     "execution_count": 4,
     "metadata": {},
     "output_type": "execute_result"
    }
   ],
   "source": [
    "toxic_comments['toxic'].value_counts()"
   ]
  },
  {
   "cell_type": "code",
   "execution_count": 5,
   "metadata": {},
   "outputs": [
    {
     "data": {
      "text/plain": [
       "0"
      ]
     },
     "execution_count": 5,
     "metadata": {},
     "output_type": "execute_result"
    }
   ],
   "source": [
    "toxic_comments.duplicated().sum()"
   ]
  },
  {
   "cell_type": "markdown",
   "metadata": {},
   "source": [
    "Пропусков в данных нет, дубликатов тоже. Столбцы имеют соответствующий формат. Как мы видим у нас текст на английском языке. То есть при выборе библиотеки надо учесть данный параметр"
   ]
  },
  {
   "cell_type": "markdown",
   "metadata": {},
   "source": [
    "Прежде чем извлечь признаки из текста, упростим его используя Лемматизацию"
   ]
  },
  {
   "cell_type": "code",
   "execution_count": 6,
   "metadata": {},
   "outputs": [
    {
     "name": "stdout",
     "output_type": "stream",
     "text": [
      "CPU times: user 6 µs, sys: 2 µs, total: 8 µs\n",
      "Wall time: 10.3 µs\n"
     ]
    }
   ],
   "source": [
    "%%time\n",
    "\n",
    "wnl = WordNetLemmatizer()\n",
    "\n",
    "def clear_text(text):\n",
    "    text=text.lower()\n",
    "    pattern = re.sub(r'[^a-zA-Z]', ' ', text)\n",
    "    clear = pattern.split()\n",
    "    lemm = []\n",
    "    for i in range(len(clear)):\n",
    "        lemm.append(wnl.lemmatize(clear[i]))\n",
    "    return \" \".join(lemm)"
   ]
  },
  {
   "cell_type": "code",
   "execution_count": 7,
   "metadata": {},
   "outputs": [
    {
     "data": {
      "text/html": [
       "<div>\n",
       "<style scoped>\n",
       "    .dataframe tbody tr th:only-of-type {\n",
       "        vertical-align: middle;\n",
       "    }\n",
       "\n",
       "    .dataframe tbody tr th {\n",
       "        vertical-align: top;\n",
       "    }\n",
       "\n",
       "    .dataframe thead th {\n",
       "        text-align: right;\n",
       "    }\n",
       "</style>\n",
       "<table border=\"1\" class=\"dataframe\">\n",
       "  <thead>\n",
       "    <tr style=\"text-align: right;\">\n",
       "      <th></th>\n",
       "      <th>Unnamed: 0</th>\n",
       "      <th>toxic</th>\n",
       "      <th>lemm_text</th>\n",
       "    </tr>\n",
       "  </thead>\n",
       "  <tbody>\n",
       "    <tr>\n",
       "      <th>0</th>\n",
       "      <td>0</td>\n",
       "      <td>0</td>\n",
       "      <td>explanation why the edits made under my userna...</td>\n",
       "    </tr>\n",
       "    <tr>\n",
       "      <th>1</th>\n",
       "      <td>1</td>\n",
       "      <td>0</td>\n",
       "      <td>d aww he match this background colour i m seem...</td>\n",
       "    </tr>\n",
       "    <tr>\n",
       "      <th>2</th>\n",
       "      <td>2</td>\n",
       "      <td>0</td>\n",
       "      <td>hey man i m really not trying to edit war it s...</td>\n",
       "    </tr>\n",
       "    <tr>\n",
       "      <th>3</th>\n",
       "      <td>3</td>\n",
       "      <td>0</td>\n",
       "      <td>more i can t make any real suggestion on impro...</td>\n",
       "    </tr>\n",
       "    <tr>\n",
       "      <th>4</th>\n",
       "      <td>4</td>\n",
       "      <td>0</td>\n",
       "      <td>you sir are my hero any chance you remember wh...</td>\n",
       "    </tr>\n",
       "  </tbody>\n",
       "</table>\n",
       "</div>"
      ],
      "text/plain": [
       "   Unnamed: 0  toxic                                          lemm_text\n",
       "0           0      0  explanation why the edits made under my userna...\n",
       "1           1      0  d aww he match this background colour i m seem...\n",
       "2           2      0  hey man i m really not trying to edit war it s...\n",
       "3           3      0  more i can t make any real suggestion on impro...\n",
       "4           4      0  you sir are my hero any chance you remember wh..."
      ]
     },
     "execution_count": 7,
     "metadata": {},
     "output_type": "execute_result"
    }
   ],
   "source": [
    "toxic_comments['lemm_text'] = toxic_comments['text'].apply(clear_text)\n",
    "toxic_comments = toxic_comments.drop(['text'], axis=1)\n",
    "toxic_comments.head()"
   ]
  },
  {
   "cell_type": "markdown",
   "metadata": {},
   "source": [
    "Определим признаки и целевой признак"
   ]
  },
  {
   "cell_type": "code",
   "execution_count": 8,
   "metadata": {},
   "outputs": [],
   "source": [
    "target = toxic_comments['toxic']\n",
    "features = toxic_comments.drop(['toxic'], axis=1)"
   ]
  },
  {
   "cell_type": "markdown",
   "metadata": {},
   "source": [
    "Разобьем наш датасет сперва на обучающую и валидационную, а потом и на тестовую выборки"
   ]
  },
  {
   "cell_type": "code",
   "execution_count": 9,
   "metadata": {},
   "outputs": [],
   "source": [
    "features_train, features_valid, target_train, target_valid = train_test_split(features, target, test_size=0.4, random_state=12345)\n",
    "features_valid, features_test, target_valid, target_test = train_test_split(features_valid, target_valid, test_size=0.5, random_state=12345)"
   ]
  },
  {
   "cell_type": "markdown",
   "metadata": {},
   "source": [
    "Импортирум словарь 'негативных слов' на английском языке и создадим счетчик"
   ]
  },
  {
   "cell_type": "code",
   "execution_count": 10,
   "metadata": {},
   "outputs": [
    {
     "name": "stderr",
     "output_type": "stream",
     "text": [
      "[nltk_data] Downloading package stopwords to /home/jovyan/nltk_data...\n",
      "[nltk_data]   Package stopwords is already up-to-date!\n"
     ]
    }
   ],
   "source": [
    "nltk.download('stopwords')\n",
    "stopwords = set(nltk_stopwords.words('english'))\n",
    "\n",
    "count_tf_idf = TfidfVectorizer(stop_words=stopwords)"
   ]
  },
  {
   "cell_type": "markdown",
   "metadata": {},
   "source": [
    "Преобразуем данные и посмотрим на объемы признаков разных выборок"
   ]
  },
  {
   "cell_type": "code",
   "execution_count": 11,
   "metadata": {},
   "outputs": [
    {
     "name": "stdout",
     "output_type": "stream",
     "text": [
      "(95575, 116717)\n",
      "(31858, 116717)\n",
      "(31859, 116717)\n"
     ]
    }
   ],
   "source": [
    "features_train = count_tf_idf.fit_transform(features_train['lemm_text'])\n",
    "features_valid = count_tf_idf.transform(features_valid['lemm_text'])\n",
    "features_test = count_tf_idf.transform(features_test['lemm_text'])\n",
    "print(features_train.shape)\n",
    "print(features_valid.shape)\n",
    "print(features_test.shape)\n",
    "cv_counts = 3"
   ]
  },
  {
   "cell_type": "markdown",
   "metadata": {},
   "source": [
    "## Обучение"
   ]
  },
  {
   "cell_type": "markdown",
   "metadata": {},
   "source": [
    "Расчитаем соотношение позитивных к негативным комментариям"
   ]
  },
  {
   "cell_type": "code",
   "execution_count": 12,
   "metadata": {},
   "outputs": [
    {
     "data": {
      "text/plain": [
       "8.841344371679229"
      ]
     },
     "execution_count": 12,
     "metadata": {},
     "output_type": "execute_result"
    }
   ],
   "source": [
    "answer_ratio = toxic_comments['toxic'].value_counts()[0] / toxic_comments['toxic'].value_counts()[1]\n",
    "answer_ratio"
   ]
  },
  {
   "cell_type": "markdown",
   "metadata": {},
   "source": [
    "Обучим 2 модели "
   ]
  },
  {
   "cell_type": "markdown",
   "metadata": {},
   "source": [
    "**DecisionTreeClassifier**"
   ]
  },
  {
   "cell_type": "code",
   "execution_count": 13,
   "metadata": {},
   "outputs": [
    {
     "name": "stdout",
     "output_type": "stream",
     "text": [
      "0.2664041753272715\n"
     ]
    }
   ],
   "source": [
    "best_model = None\n",
    "best_result = 10000\n",
    "best_depth = 0\n",
    "for depth in range(1, 6):\n",
    "    model = DecisionTreeClassifier(random_state=12345, max_depth=depth) \n",
    "    model.fit(features_train, target_train) \n",
    "    predicted_valid = model.predict(features_valid) \n",
    "    result = mean_squared_error(target_valid, predicted_valid) ** 0.5 \n",
    "    if result < best_result:\n",
    "        best_model = model\n",
    "        best_result = result\n",
    "        best_depth = depth\n",
    "print(best_result)"
   ]
  },
  {
   "cell_type": "code",
   "execution_count": 14,
   "metadata": {
    "scrolled": true
   },
   "outputs": [
    {
     "name": "stdout",
     "output_type": "stream",
     "text": [
      "F1 мера: 0.5003314917127072\n"
     ]
    }
   ],
   "source": [
    "print( 'F1 мера:', f1_score(predicted_valid, target_valid))"
   ]
  },
  {
   "cell_type": "markdown",
   "metadata": {},
   "source": [
    "DecisionTree показывает ужасный результат. Думаю подбор параметров нам не поможет"
   ]
  },
  {
   "cell_type": "markdown",
   "metadata": {},
   "source": [
    "**LogisticRegression**"
   ]
  },
  {
   "cell_type": "code",
   "execution_count": 15,
   "metadata": {
    "scrolled": true
   },
   "outputs": [
    {
     "name": "stdout",
     "output_type": "stream",
     "text": [
      "F1 мера: 0.7262923019709929\n"
     ]
    }
   ],
   "source": [
    "model = LogisticRegression(random_state=12345, solver = 'liblinear')\n",
    "model.fit(features_train, target_train)\n",
    "predicted_valid = model.predict(features_valid)\n",
    "print('F1 мера:', f1_score(target_valid, predicted_valid))"
   ]
  },
  {
   "cell_type": "markdown",
   "metadata": {},
   "source": [
    "Как мы видим резельтат меньше 0.75, что нас не устраивает, но уже близко к требованиям. Подберем параметры и попробуем еще раз обучить модель"
   ]
  },
  {
   "cell_type": "markdown",
   "metadata": {},
   "source": [
    "Подберем параметры для LogisticRegression"
   ]
  },
  {
   "cell_type": "code",
   "execution_count": 16,
   "metadata": {},
   "outputs": [
    {
     "name": "stdout",
     "output_type": "stream",
     "text": [
      "F1 с подбором параметров  0.7504816736050569\n",
      "CPU times: user 38.1 s, sys: 53.3 s, total: 1min 31s\n",
      "Wall time: 1min 31s\n"
     ]
    }
   ],
   "source": [
    "%%time\n",
    "\n",
    "dict_classes={0:1, 1:answer_ratio}\n",
    "model = LogisticRegression(class_weight=dict_classes)\n",
    "train_f1_cros_val = cross_val_score(model, \n",
    "                                    features_train, \n",
    "                                    target_train, \n",
    "                                    cv=cv_counts, \n",
    "                                    scoring='f1').mean()\n",
    "print('F1 с подбором параметров ', train_f1_cros_val)"
   ]
  },
  {
   "cell_type": "markdown",
   "metadata": {},
   "source": [
    "LogisticRegression справился с поставленной задачей"
   ]
  },
  {
   "cell_type": "markdown",
   "metadata": {},
   "source": [
    "Проверим метод на тестовой выборке"
   ]
  },
  {
   "cell_type": "code",
   "execution_count": 17,
   "metadata": {},
   "outputs": [
    {
     "name": "stdout",
     "output_type": "stream",
     "text": [
      "0.7467073339803134\n"
     ]
    }
   ],
   "source": [
    "model.fit(features_train, target_train)\n",
    "test_pred = model.predict(features_test)\n",
    "print(f1_score(target_test, test_pred))"
   ]
  },
  {
   "cell_type": "markdown",
   "metadata": {},
   "source": [
    "## Выводы"
   ]
  },
  {
   "cell_type": "markdown",
   "metadata": {},
   "source": [
    "В данном проекте были открыты и изучены данные из датасета toxic_comments.csv. Данные были проверены на дубликаты. Так как текст на английском языке были загружены словари английских негативных слов и создан счетчик. Текст в данных был переведен в нижний регистр, далее была произведена леммитизация. Данные были разделены на обучающую, валидационную и тестовые выборки. Данные были преобразованы. Далее обучили 2 модели. Лучший результат показал метод  LogisticRegression"
   ]
  }
 ],
 "metadata": {
  "ExecuteTimeLog": [
   {
    "duration": 2357,
    "start_time": "2022-09-03T12:51:06.070Z"
   },
   {
    "duration": 2480,
    "start_time": "2022-09-03T12:52:05.846Z"
   },
   {
    "duration": 37,
    "start_time": "2022-09-03T12:53:25.385Z"
   },
   {
    "duration": 25,
    "start_time": "2022-09-03T12:53:40.040Z"
   },
   {
    "duration": 256,
    "start_time": "2022-09-03T12:54:20.313Z"
   },
   {
    "duration": 211,
    "start_time": "2022-09-03T12:54:26.334Z"
   },
   {
    "duration": 1011,
    "start_time": "2022-09-03T13:02:40.150Z"
   },
   {
    "duration": 805,
    "start_time": "2022-09-03T13:02:53.877Z"
   },
   {
    "duration": 769,
    "start_time": "2022-09-03T13:03:14.542Z"
   },
   {
    "duration": 36,
    "start_time": "2022-09-03T13:03:16.942Z"
   },
   {
    "duration": 518,
    "start_time": "2022-09-03T13:03:32.574Z"
   },
   {
    "duration": 6,
    "start_time": "2022-09-03T13:03:59.145Z"
   },
   {
    "duration": 197,
    "start_time": "2022-09-03T13:04:20.094Z"
   },
   {
    "duration": 203,
    "start_time": "2022-09-03T13:04:24.552Z"
   },
   {
    "duration": 225,
    "start_time": "2022-09-03T13:06:56.070Z"
   },
   {
    "duration": 56,
    "start_time": "2022-09-03T13:12:51.157Z"
   },
   {
    "duration": 3656,
    "start_time": "2022-09-03T13:13:28.067Z"
   },
   {
    "duration": 752,
    "start_time": "2022-09-03T13:13:31.725Z"
   },
   {
    "duration": 32,
    "start_time": "2022-09-03T13:13:32.479Z"
   },
   {
    "duration": 5,
    "start_time": "2022-09-03T13:13:32.514Z"
   },
   {
    "duration": 263,
    "start_time": "2022-09-03T13:13:32.521Z"
   },
   {
    "duration": 6,
    "start_time": "2022-09-03T13:13:32.786Z"
   },
   {
    "duration": 171,
    "start_time": "2022-09-03T13:15:59.628Z"
   },
   {
    "duration": 896,
    "start_time": "2022-09-03T13:16:28.567Z"
   },
   {
    "duration": 23,
    "start_time": "2022-09-03T13:17:06.177Z"
   },
   {
    "duration": 90547,
    "start_time": "2022-09-03T13:17:07.612Z"
   },
   {
    "duration": 10,
    "start_time": "2022-09-03T13:20:53.458Z"
   },
   {
    "duration": 58,
    "start_time": "2022-09-03T13:24:48.655Z"
   },
   {
    "duration": 157,
    "start_time": "2022-09-03T13:26:24.151Z"
   },
   {
    "duration": 8565,
    "start_time": "2022-09-03T13:29:36.014Z"
   },
   {
    "duration": 15,
    "start_time": "2022-09-03T13:30:19.035Z"
   },
   {
    "duration": 1493,
    "start_time": "2022-09-03T13:30:46.334Z"
   },
   {
    "duration": 2281,
    "start_time": "2022-09-03T13:30:47.829Z"
   },
   {
    "duration": 32,
    "start_time": "2022-09-03T13:30:50.115Z"
   },
   {
    "duration": 24,
    "start_time": "2022-09-03T13:30:50.148Z"
   },
   {
    "duration": 240,
    "start_time": "2022-09-03T13:30:50.173Z"
   },
   {
    "duration": 4,
    "start_time": "2022-09-03T13:30:50.415Z"
   },
   {
    "duration": 1499,
    "start_time": "2022-09-03T13:31:32.770Z"
   },
   {
    "duration": 765,
    "start_time": "2022-09-03T13:31:34.272Z"
   },
   {
    "duration": 36,
    "start_time": "2022-09-03T13:31:35.038Z"
   },
   {
    "duration": 15,
    "start_time": "2022-09-03T13:31:35.076Z"
   },
   {
    "duration": 278,
    "start_time": "2022-09-03T13:31:35.094Z"
   },
   {
    "duration": 6,
    "start_time": "2022-09-03T13:31:35.374Z"
   },
   {
    "duration": 94819,
    "start_time": "2022-09-03T13:31:35.381Z"
   },
   {
    "duration": 11,
    "start_time": "2022-09-03T13:33:10.202Z"
   },
   {
    "duration": 76,
    "start_time": "2022-09-03T13:33:10.214Z"
   },
   {
    "duration": 142,
    "start_time": "2022-09-03T13:33:10.292Z"
   },
   {
    "duration": 17629,
    "start_time": "2022-09-03T13:33:10.436Z"
   },
   {
    "duration": 125,
    "start_time": "2022-09-03T13:34:04.105Z"
   },
   {
    "duration": 1478,
    "start_time": "2022-09-03T13:34:13.681Z"
   },
   {
    "duration": 861,
    "start_time": "2022-09-03T13:34:15.161Z"
   },
   {
    "duration": 44,
    "start_time": "2022-09-03T13:34:16.023Z"
   },
   {
    "duration": 8,
    "start_time": "2022-09-03T13:34:16.070Z"
   },
   {
    "duration": 250,
    "start_time": "2022-09-03T13:34:16.080Z"
   },
   {
    "duration": 4,
    "start_time": "2022-09-03T13:34:16.331Z"
   },
   {
    "duration": 93785,
    "start_time": "2022-09-03T13:34:16.337Z"
   },
   {
    "duration": 8,
    "start_time": "2022-09-03T13:35:50.124Z"
   },
   {
    "duration": 68,
    "start_time": "2022-09-03T13:35:50.134Z"
   },
   {
    "duration": 204,
    "start_time": "2022-09-03T13:35:50.204Z"
   },
   {
    "duration": 17886,
    "start_time": "2022-09-03T13:35:50.410Z"
   },
   {
    "duration": 1452,
    "start_time": "2022-09-03T13:37:46.574Z"
   },
   {
    "duration": 764,
    "start_time": "2022-09-03T13:37:48.028Z"
   },
   {
    "duration": 28,
    "start_time": "2022-09-03T13:37:48.793Z"
   },
   {
    "duration": 5,
    "start_time": "2022-09-03T13:37:48.823Z"
   },
   {
    "duration": 262,
    "start_time": "2022-09-03T13:37:48.830Z"
   },
   {
    "duration": 4,
    "start_time": "2022-09-03T13:37:49.094Z"
   },
   {
    "duration": 97394,
    "start_time": "2022-09-03T13:37:49.099Z"
   },
   {
    "duration": 10,
    "start_time": "2022-09-03T13:39:26.495Z"
   },
   {
    "duration": 55,
    "start_time": "2022-09-03T13:39:26.507Z"
   },
   {
    "duration": 219,
    "start_time": "2022-09-03T13:39:26.564Z"
   },
   {
    "duration": 11075,
    "start_time": "2022-09-03T13:39:26.785Z"
   },
   {
    "duration": 379,
    "start_time": "2022-09-03T13:52:07.902Z"
   },
   {
    "duration": 1432,
    "start_time": "2022-09-03T13:53:53.909Z"
   },
   {
    "duration": 755,
    "start_time": "2022-09-03T13:53:55.343Z"
   },
   {
    "duration": 31,
    "start_time": "2022-09-03T13:53:56.100Z"
   },
   {
    "duration": 5,
    "start_time": "2022-09-03T13:53:56.133Z"
   },
   {
    "duration": 227,
    "start_time": "2022-09-03T13:53:56.157Z"
   },
   {
    "duration": 5,
    "start_time": "2022-09-03T13:53:56.385Z"
   },
   {
    "duration": 90067,
    "start_time": "2022-09-03T13:53:56.391Z"
   },
   {
    "duration": 13,
    "start_time": "2022-09-03T13:55:26.460Z"
   },
   {
    "duration": 48,
    "start_time": "2022-09-03T13:55:26.475Z"
   },
   {
    "duration": 365,
    "start_time": "2022-09-03T13:55:26.525Z"
   },
   {
    "duration": 1287,
    "start_time": "2022-09-03T13:55:26.892Z"
   },
   {
    "duration": 1502,
    "start_time": "2022-09-03T13:57:00.436Z"
   },
   {
    "duration": 2170,
    "start_time": "2022-09-03T13:57:01.940Z"
   },
   {
    "duration": 30,
    "start_time": "2022-09-03T13:57:04.111Z"
   },
   {
    "duration": 13,
    "start_time": "2022-09-03T13:57:04.144Z"
   },
   {
    "duration": 230,
    "start_time": "2022-09-03T13:57:04.158Z"
   },
   {
    "duration": 4,
    "start_time": "2022-09-03T13:57:04.390Z"
   },
   {
    "duration": 90112,
    "start_time": "2022-09-03T13:57:04.395Z"
   },
   {
    "duration": 10,
    "start_time": "2022-09-03T13:58:34.509Z"
   },
   {
    "duration": 56,
    "start_time": "2022-09-03T13:58:34.521Z"
   },
   {
    "duration": 123,
    "start_time": "2022-09-03T13:58:34.580Z"
   },
   {
    "duration": 10045,
    "start_time": "2022-09-03T13:58:34.704Z"
   },
   {
    "duration": 553,
    "start_time": "2022-09-03T14:15:44.897Z"
   },
   {
    "duration": 1494,
    "start_time": "2022-09-03T14:16:28.247Z"
   },
   {
    "duration": 757,
    "start_time": "2022-09-03T14:16:29.743Z"
   },
   {
    "duration": 34,
    "start_time": "2022-09-03T14:16:30.502Z"
   },
   {
    "duration": 19,
    "start_time": "2022-09-03T14:16:30.539Z"
   },
   {
    "duration": 241,
    "start_time": "2022-09-03T14:16:30.560Z"
   },
   {
    "duration": 4,
    "start_time": "2022-09-03T14:16:30.803Z"
   },
   {
    "duration": 89483,
    "start_time": "2022-09-03T14:16:30.809Z"
   },
   {
    "duration": 10,
    "start_time": "2022-09-03T14:18:00.294Z"
   },
   {
    "duration": 55,
    "start_time": "2022-09-03T14:18:00.305Z"
   },
   {
    "duration": 152,
    "start_time": "2022-09-03T14:18:00.362Z"
   },
   {
    "duration": 10755,
    "start_time": "2022-09-03T14:18:00.516Z"
   },
   {
    "duration": 5240,
    "start_time": "2022-09-03T14:18:11.273Z"
   },
   {
    "duration": 7663,
    "start_time": "2022-09-03T14:18:16.515Z"
   },
   {
    "duration": 11,
    "start_time": "2022-09-03T14:20:00.547Z"
   },
   {
    "duration": 1399,
    "start_time": "2022-09-03T14:23:08.170Z"
   },
   {
    "duration": 0,
    "start_time": "2022-09-03T14:23:09.571Z"
   },
   {
    "duration": 0,
    "start_time": "2022-09-03T14:23:09.572Z"
   },
   {
    "duration": 0,
    "start_time": "2022-09-03T14:23:09.573Z"
   },
   {
    "duration": 0,
    "start_time": "2022-09-03T14:23:09.574Z"
   },
   {
    "duration": 0,
    "start_time": "2022-09-03T14:23:09.575Z"
   },
   {
    "duration": 0,
    "start_time": "2022-09-03T14:23:09.577Z"
   },
   {
    "duration": 0,
    "start_time": "2022-09-03T14:23:09.578Z"
   },
   {
    "duration": 0,
    "start_time": "2022-09-03T14:23:09.579Z"
   },
   {
    "duration": 0,
    "start_time": "2022-09-03T14:23:09.579Z"
   },
   {
    "duration": 0,
    "start_time": "2022-09-03T14:23:09.580Z"
   },
   {
    "duration": 0,
    "start_time": "2022-09-03T14:23:09.581Z"
   },
   {
    "duration": 0,
    "start_time": "2022-09-03T14:23:09.582Z"
   },
   {
    "duration": 0,
    "start_time": "2022-09-03T14:23:09.583Z"
   },
   {
    "duration": 1478,
    "start_time": "2022-09-03T14:24:32.288Z"
   },
   {
    "duration": 765,
    "start_time": "2022-09-03T14:24:33.768Z"
   },
   {
    "duration": 32,
    "start_time": "2022-09-03T14:24:34.535Z"
   },
   {
    "duration": 5,
    "start_time": "2022-09-03T14:24:34.569Z"
   },
   {
    "duration": 246,
    "start_time": "2022-09-03T14:24:34.576Z"
   },
   {
    "duration": 4,
    "start_time": "2022-09-03T14:24:34.824Z"
   },
   {
    "duration": 89454,
    "start_time": "2022-09-03T14:24:34.830Z"
   },
   {
    "duration": 9,
    "start_time": "2022-09-03T14:26:04.286Z"
   },
   {
    "duration": 60,
    "start_time": "2022-09-03T14:26:04.297Z"
   },
   {
    "duration": 125,
    "start_time": "2022-09-03T14:26:04.359Z"
   },
   {
    "duration": 10388,
    "start_time": "2022-09-03T14:26:04.486Z"
   },
   {
    "duration": 5208,
    "start_time": "2022-09-03T14:26:14.875Z"
   },
   {
    "duration": 12,
    "start_time": "2022-09-03T14:26:20.085Z"
   },
   {
    "duration": 7881,
    "start_time": "2022-09-03T14:26:20.098Z"
   },
   {
    "duration": 114,
    "start_time": "2022-09-03T14:29:24.586Z"
   },
   {
    "duration": 1417,
    "start_time": "2022-09-03T14:30:08.862Z"
   },
   {
    "duration": 768,
    "start_time": "2022-09-03T14:30:10.281Z"
   },
   {
    "duration": 32,
    "start_time": "2022-09-03T14:30:11.050Z"
   },
   {
    "duration": 5,
    "start_time": "2022-09-03T14:30:11.084Z"
   },
   {
    "duration": 241,
    "start_time": "2022-09-03T14:30:11.091Z"
   },
   {
    "duration": 4,
    "start_time": "2022-09-03T14:30:11.334Z"
   },
   {
    "duration": 90854,
    "start_time": "2022-09-03T14:30:11.339Z"
   },
   {
    "duration": 9,
    "start_time": "2022-09-03T14:31:42.195Z"
   },
   {
    "duration": 52,
    "start_time": "2022-09-03T14:31:42.206Z"
   },
   {
    "duration": 197,
    "start_time": "2022-09-03T14:31:42.260Z"
   },
   {
    "duration": 10143,
    "start_time": "2022-09-03T14:31:42.459Z"
   },
   {
    "duration": 5278,
    "start_time": "2022-09-03T14:31:52.603Z"
   },
   {
    "duration": 10,
    "start_time": "2022-09-03T14:31:57.883Z"
   },
   {
    "duration": 7390,
    "start_time": "2022-09-03T14:31:57.894Z"
   },
   {
    "duration": 160,
    "start_time": "2022-09-03T14:32:05.286Z"
   },
   {
    "duration": 134,
    "start_time": "2022-09-03T14:33:30.592Z"
   },
   {
    "duration": 11,
    "start_time": "2022-09-03T14:45:56.718Z"
   },
   {
    "duration": 7491,
    "start_time": "2022-09-03T14:48:45.586Z"
   },
   {
    "duration": 2,
    "start_time": "2022-09-03T14:49:52.997Z"
   },
   {
    "duration": 51,
    "start_time": "2022-09-03T14:50:37.355Z"
   },
   {
    "duration": 28,
    "start_time": "2022-09-03T14:52:11.555Z"
   },
   {
    "duration": 53,
    "start_time": "2022-09-03T14:58:25.109Z"
   },
   {
    "duration": 10,
    "start_time": "2022-09-03T14:59:41.717Z"
   },
   {
    "duration": 14,
    "start_time": "2022-09-03T15:00:08.103Z"
   },
   {
    "duration": 82613,
    "start_time": "2022-09-03T15:00:14.446Z"
   },
   {
    "duration": 84014,
    "start_time": "2022-09-03T15:07:22.850Z"
   },
   {
    "duration": 51649,
    "start_time": "2022-09-03T15:10:37.018Z"
   },
   {
    "duration": 83587,
    "start_time": "2022-09-03T15:15:37.378Z"
   },
   {
    "duration": 1455,
    "start_time": "2022-09-03T15:23:38.968Z"
   },
   {
    "duration": 773,
    "start_time": "2022-09-03T15:23:40.425Z"
   },
   {
    "duration": 23,
    "start_time": "2022-09-03T15:23:41.200Z"
   },
   {
    "duration": 6,
    "start_time": "2022-09-03T15:23:41.225Z"
   },
   {
    "duration": 256,
    "start_time": "2022-09-03T15:23:41.234Z"
   },
   {
    "duration": 4,
    "start_time": "2022-09-03T15:23:41.492Z"
   },
   {
    "duration": 90419,
    "start_time": "2022-09-03T15:23:41.498Z"
   },
   {
    "duration": 11,
    "start_time": "2022-09-03T15:25:11.919Z"
   },
   {
    "duration": 58,
    "start_time": "2022-09-03T15:25:11.932Z"
   },
   {
    "duration": 203,
    "start_time": "2022-09-03T15:25:11.991Z"
   },
   {
    "duration": 10244,
    "start_time": "2022-09-03T15:25:12.196Z"
   },
   {
    "duration": 5520,
    "start_time": "2022-09-03T15:25:22.442Z"
   },
   {
    "duration": 13,
    "start_time": "2022-09-03T15:25:27.964Z"
   },
   {
    "duration": 205,
    "start_time": "2022-09-03T15:25:27.980Z"
   },
   {
    "duration": 58,
    "start_time": "2022-09-03T15:25:28.187Z"
   },
   {
    "duration": 7738,
    "start_time": "2022-09-03T15:25:28.246Z"
   },
   {
    "duration": 9,
    "start_time": "2022-09-03T15:25:35.986Z"
   },
   {
    "duration": 84067,
    "start_time": "2022-09-03T15:25:35.997Z"
   },
   {
    "duration": 63,
    "start_time": "2022-09-03T15:28:09.147Z"
   },
   {
    "duration": 1458,
    "start_time": "2022-09-03T15:29:56.742Z"
   },
   {
    "duration": 816,
    "start_time": "2022-09-03T15:29:58.202Z"
   },
   {
    "duration": 38,
    "start_time": "2022-09-03T15:29:59.020Z"
   },
   {
    "duration": 5,
    "start_time": "2022-09-03T15:29:59.061Z"
   },
   {
    "duration": 248,
    "start_time": "2022-09-03T15:29:59.068Z"
   },
   {
    "duration": 4,
    "start_time": "2022-09-03T15:29:59.318Z"
   },
   {
    "duration": 90997,
    "start_time": "2022-09-03T15:29:59.323Z"
   },
   {
    "duration": 8,
    "start_time": "2022-09-03T15:31:30.322Z"
   },
   {
    "duration": 52,
    "start_time": "2022-09-03T15:31:30.332Z"
   },
   {
    "duration": 122,
    "start_time": "2022-09-03T15:31:30.387Z"
   },
   {
    "duration": 10155,
    "start_time": "2022-09-03T15:31:30.511Z"
   },
   {
    "duration": 7,
    "start_time": "2022-09-03T15:31:40.668Z"
   },
   {
    "duration": 5289,
    "start_time": "2022-09-03T15:31:40.676Z"
   },
   {
    "duration": 11,
    "start_time": "2022-09-03T15:31:45.968Z"
   },
   {
    "duration": 1440,
    "start_time": "2022-09-03T15:38:53.835Z"
   },
   {
    "duration": 877,
    "start_time": "2022-09-03T15:38:55.277Z"
   },
   {
    "duration": 34,
    "start_time": "2022-09-03T15:38:56.156Z"
   },
   {
    "duration": 6,
    "start_time": "2022-09-03T15:38:56.192Z"
   },
   {
    "duration": 263,
    "start_time": "2022-09-03T15:38:56.199Z"
   },
   {
    "duration": 5,
    "start_time": "2022-09-03T15:38:56.464Z"
   },
   {
    "duration": 90115,
    "start_time": "2022-09-03T15:38:56.470Z"
   },
   {
    "duration": 10,
    "start_time": "2022-09-03T15:40:26.587Z"
   },
   {
    "duration": 60,
    "start_time": "2022-09-03T15:40:26.599Z"
   },
   {
    "duration": 268,
    "start_time": "2022-09-03T15:40:26.662Z"
   },
   {
    "duration": 10127,
    "start_time": "2022-09-03T15:40:26.932Z"
   },
   {
    "duration": 9,
    "start_time": "2022-09-03T15:40:37.061Z"
   },
   {
    "duration": 5243,
    "start_time": "2022-09-03T15:40:37.071Z"
   },
   {
    "duration": 10,
    "start_time": "2022-09-03T15:40:42.316Z"
   },
   {
    "duration": 1466,
    "start_time": "2022-09-03T15:44:02.630Z"
   },
   {
    "duration": 772,
    "start_time": "2022-09-03T15:44:04.098Z"
   },
   {
    "duration": 29,
    "start_time": "2022-09-03T15:44:04.872Z"
   },
   {
    "duration": 7,
    "start_time": "2022-09-03T15:44:04.903Z"
   },
   {
    "duration": 279,
    "start_time": "2022-09-03T15:44:04.911Z"
   },
   {
    "duration": 6,
    "start_time": "2022-09-03T15:44:05.192Z"
   },
   {
    "duration": 90750,
    "start_time": "2022-09-03T15:44:05.200Z"
   },
   {
    "duration": 12,
    "start_time": "2022-09-03T15:45:35.958Z"
   },
   {
    "duration": 45,
    "start_time": "2022-09-03T15:45:35.971Z"
   },
   {
    "duration": 125,
    "start_time": "2022-09-03T15:45:36.019Z"
   },
   {
    "duration": 10265,
    "start_time": "2022-09-03T15:45:36.146Z"
   },
   {
    "duration": 7,
    "start_time": "2022-09-03T15:45:46.413Z"
   },
   {
    "duration": 5266,
    "start_time": "2022-09-03T15:45:46.421Z"
   },
   {
    "duration": 11,
    "start_time": "2022-09-03T15:45:51.689Z"
   },
   {
    "duration": 7786,
    "start_time": "2022-09-03T15:45:51.702Z"
   },
   {
    "duration": 85479,
    "start_time": "2022-09-03T15:45:59.490Z"
   },
   {
    "duration": 142,
    "start_time": "2022-09-03T15:48:21.414Z"
   },
   {
    "duration": 15,
    "start_time": "2022-09-03T15:54:31.928Z"
   },
   {
    "duration": 86985,
    "start_time": "2022-09-03T15:55:01.376Z"
   },
   {
    "duration": 157,
    "start_time": "2022-09-03T15:56:28.363Z"
   },
   {
    "duration": 25852,
    "start_time": "2022-09-03T15:58:15.213Z"
   },
   {
    "duration": 1874,
    "start_time": "2022-09-04T01:40:36.100Z"
   },
   {
    "duration": 2235,
    "start_time": "2022-09-04T01:40:40.840Z"
   },
   {
    "duration": 31,
    "start_time": "2022-09-04T01:40:44.651Z"
   },
   {
    "duration": 7,
    "start_time": "2022-09-04T01:40:47.226Z"
   },
   {
    "duration": 221,
    "start_time": "2022-09-04T01:40:48.633Z"
   },
   {
    "duration": 152,
    "start_time": "2022-09-04T01:40:51.534Z"
   },
   {
    "duration": 6,
    "start_time": "2022-09-04T01:41:22.275Z"
   },
   {
    "duration": 58,
    "start_time": "2022-09-04T01:41:25.756Z"
   },
   {
    "duration": 4,
    "start_time": "2022-09-04T01:41:39.098Z"
   },
   {
    "duration": 4,
    "start_time": "2022-09-04T01:42:15.472Z"
   },
   {
    "duration": 265,
    "start_time": "2022-09-04T01:42:19.978Z"
   },
   {
    "duration": 105,
    "start_time": "2022-09-04T01:43:28.219Z"
   },
   {
    "duration": 120,
    "start_time": "2022-09-04T01:43:41.065Z"
   },
   {
    "duration": 5,
    "start_time": "2022-09-04T01:55:41.499Z"
   },
   {
    "duration": 31333,
    "start_time": "2022-09-04T01:55:56.154Z"
   },
   {
    "duration": 10,
    "start_time": "2022-09-04T01:57:38.680Z"
   },
   {
    "duration": 38,
    "start_time": "2022-09-04T01:57:41.016Z"
   },
   {
    "duration": 5,
    "start_time": "2022-09-04T01:57:47.840Z"
   },
   {
    "duration": 10910,
    "start_time": "2022-09-04T01:57:50.785Z"
   },
   {
    "duration": 12,
    "start_time": "2022-09-04T01:58:52.773Z"
   },
   {
    "duration": 12,
    "start_time": "2022-09-04T02:01:11.203Z"
   },
   {
    "duration": 12,
    "start_time": "2022-09-04T02:01:28.006Z"
   },
   {
    "duration": 14,
    "start_time": "2022-09-04T02:02:44.407Z"
   },
   {
    "duration": 14,
    "start_time": "2022-09-04T02:05:04.686Z"
   },
   {
    "duration": 4,
    "start_time": "2022-09-04T02:05:55.769Z"
   },
   {
    "duration": 921,
    "start_time": "2022-09-04T02:05:58.227Z"
   },
   {
    "duration": 4,
    "start_time": "2022-09-04T02:06:41.929Z"
   },
   {
    "duration": 732,
    "start_time": "2022-09-04T02:06:43.853Z"
   },
   {
    "duration": 1585,
    "start_time": "2022-09-04T02:07:10.140Z"
   },
   {
    "duration": 800,
    "start_time": "2022-09-04T02:07:11.727Z"
   },
   {
    "duration": 30,
    "start_time": "2022-09-04T02:07:12.528Z"
   },
   {
    "duration": 5,
    "start_time": "2022-09-04T02:07:12.560Z"
   },
   {
    "duration": 222,
    "start_time": "2022-09-04T02:07:12.567Z"
   },
   {
    "duration": 4,
    "start_time": "2022-09-04T02:07:12.791Z"
   },
   {
    "duration": 32978,
    "start_time": "2022-09-04T02:07:12.797Z"
   },
   {
    "duration": 12,
    "start_time": "2022-09-04T02:07:45.776Z"
   },
   {
    "duration": 53,
    "start_time": "2022-09-04T02:07:45.790Z"
   },
   {
    "duration": 5,
    "start_time": "2022-09-04T02:07:45.846Z"
   },
   {
    "duration": 15,
    "start_time": "2022-09-04T02:07:45.853Z"
   },
   {
    "duration": 9,
    "start_time": "2022-09-04T02:07:45.870Z"
   },
   {
    "duration": 139,
    "start_time": "2022-09-04T02:07:45.881Z"
   },
   {
    "duration": 0,
    "start_time": "2022-09-04T02:07:46.021Z"
   },
   {
    "duration": 0,
    "start_time": "2022-09-04T02:07:46.022Z"
   },
   {
    "duration": 0,
    "start_time": "2022-09-04T02:07:46.023Z"
   },
   {
    "duration": 0,
    "start_time": "2022-09-04T02:07:46.024Z"
   },
   {
    "duration": 1446,
    "start_time": "2022-09-04T02:15:13.595Z"
   },
   {
    "duration": 792,
    "start_time": "2022-09-04T02:15:15.043Z"
   },
   {
    "duration": 26,
    "start_time": "2022-09-04T02:15:15.837Z"
   },
   {
    "duration": 6,
    "start_time": "2022-09-04T02:15:15.864Z"
   },
   {
    "duration": 235,
    "start_time": "2022-09-04T02:15:15.871Z"
   },
   {
    "duration": 4,
    "start_time": "2022-09-04T02:15:16.108Z"
   },
   {
    "duration": 32326,
    "start_time": "2022-09-04T02:15:16.113Z"
   },
   {
    "duration": 7,
    "start_time": "2022-09-04T02:15:48.441Z"
   },
   {
    "duration": 173,
    "start_time": "2022-09-04T02:15:48.450Z"
   },
   {
    "duration": 0,
    "start_time": "2022-09-04T02:15:48.625Z"
   },
   {
    "duration": 0,
    "start_time": "2022-09-04T02:15:48.625Z"
   },
   {
    "duration": 0,
    "start_time": "2022-09-04T02:15:48.626Z"
   },
   {
    "duration": 0,
    "start_time": "2022-09-04T02:15:48.627Z"
   },
   {
    "duration": 0,
    "start_time": "2022-09-04T02:15:48.627Z"
   },
   {
    "duration": 0,
    "start_time": "2022-09-04T02:15:48.638Z"
   },
   {
    "duration": 0,
    "start_time": "2022-09-04T02:15:48.639Z"
   },
   {
    "duration": 0,
    "start_time": "2022-09-04T02:15:48.640Z"
   },
   {
    "duration": 38,
    "start_time": "2022-09-04T02:16:20.966Z"
   },
   {
    "duration": 5,
    "start_time": "2022-09-04T02:16:24.367Z"
   },
   {
    "duration": 12,
    "start_time": "2022-09-04T02:16:27.004Z"
   },
   {
    "duration": 11,
    "start_time": "2022-09-04T02:16:39.576Z"
   },
   {
    "duration": 13,
    "start_time": "2022-09-04T02:16:47.025Z"
   },
   {
    "duration": 32,
    "start_time": "2022-09-04T02:16:48.228Z"
   },
   {
    "duration": 4,
    "start_time": "2022-09-04T02:16:49.958Z"
   },
   {
    "duration": 6140,
    "start_time": "2022-09-04T02:16:51.025Z"
   },
   {
    "duration": 6,
    "start_time": "2022-09-04T02:17:03.183Z"
   },
   {
    "duration": 5058,
    "start_time": "2022-09-04T02:17:05.732Z"
   },
   {
    "duration": 10,
    "start_time": "2022-09-04T02:17:10.792Z"
   },
   {
    "duration": 8196,
    "start_time": "2022-09-04T02:17:14.263Z"
   },
   {
    "duration": 93154,
    "start_time": "2022-09-04T02:17:25.192Z"
   },
   {
    "duration": 1590,
    "start_time": "2022-09-04T02:27:54.178Z"
   },
   {
    "duration": 811,
    "start_time": "2022-09-04T02:27:55.770Z"
   },
   {
    "duration": 26,
    "start_time": "2022-09-04T02:27:56.582Z"
   },
   {
    "duration": 4,
    "start_time": "2022-09-04T02:27:56.610Z"
   },
   {
    "duration": 224,
    "start_time": "2022-09-04T02:27:56.616Z"
   },
   {
    "duration": 4,
    "start_time": "2022-09-04T02:27:56.841Z"
   },
   {
    "duration": 32432,
    "start_time": "2022-09-04T02:27:56.847Z"
   },
   {
    "duration": 8,
    "start_time": "2022-09-04T02:28:29.282Z"
   },
   {
    "duration": 46,
    "start_time": "2022-09-04T02:28:29.292Z"
   },
   {
    "duration": 5,
    "start_time": "2022-09-04T02:28:29.341Z"
   },
   {
    "duration": 5760,
    "start_time": "2022-09-04T02:28:29.348Z"
   },
   {
    "duration": 8,
    "start_time": "2022-09-04T02:28:35.110Z"
   },
   {
    "duration": 5013,
    "start_time": "2022-09-04T02:28:35.120Z"
   },
   {
    "duration": 13,
    "start_time": "2022-09-04T02:28:40.135Z"
   },
   {
    "duration": 8013,
    "start_time": "2022-09-04T02:28:40.150Z"
   },
   {
    "duration": 91576,
    "start_time": "2022-09-04T02:28:48.165Z"
   },
   {
    "duration": 41496,
    "start_time": "2022-09-04T02:30:19.743Z"
   }
  ],
  "kernelspec": {
   "display_name": "Python 3",
   "language": "python",
   "name": "python3"
  },
  "language_info": {
   "codemirror_mode": {
    "name": "ipython",
    "version": 3
   },
   "file_extension": ".py",
   "mimetype": "text/x-python",
   "name": "python",
   "nbconvert_exporter": "python",
   "pygments_lexer": "ipython3",
   "version": "3.7.4"
  },
  "toc": {
   "base_numbering": 1,
   "nav_menu": {},
   "number_sections": true,
   "sideBar": true,
   "skip_h1_title": true,
   "title_cell": "Содержание",
   "title_sidebar": "Contents",
   "toc_cell": true,
   "toc_position": {
    "height": "calc(100% - 180px)",
    "left": "10px",
    "top": "150px",
    "width": "302.391px"
   },
   "toc_section_display": true,
   "toc_window_display": false
  }
 },
 "nbformat": 4,
 "nbformat_minor": 2
}
