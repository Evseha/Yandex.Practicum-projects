{
 "cells": [
  {
   "cell_type": "markdown",
   "metadata": {},
   "source": [
    "# Предсказание оттока клиентов "
   ]
  },
  {
   "cell_type": "markdown",
   "metadata": {},
   "source": [
    "Компания предоставляет услуги связи и интернет. Далее по тексту оператор связи. По статистическим данным нужно построить модель предсказания оттока клиентов"
   ]
  },
  {
   "cell_type": "markdown",
   "metadata": {},
   "source": [
    "# Описание данных"
   ]
  },
  {
   "cell_type": "markdown",
   "metadata": {},
   "source": [
    "Оператор связи нам предоставил для работы 4 датасета. Разберем каждый"
   ]
  },
  {
   "cell_type": "markdown",
   "metadata": {},
   "source": [
    "В **contract.csv** представлена информация о договоре:\n",
    "\n",
    "- **customerID** - уникальный ID клиента\n",
    "- **BeginDate** - дата заключения договора\n",
    "- **EndDate** - дата расторжения договора\n",
    "- **Type** - Тип оплаты за услуги (ежемесячный платёж или раз в год, несколько лет)\n",
    "- **PaperlessBilling** - Получает ли клиент электронный чек\n",
    "- **PaymentMethod** - способы оплаты за услуги\n",
    "- **MonthlyCharges** - ежемесячные платежи независимо от типа оплаты\n",
    "- **TotalCharges** - Общая сумма платежа клиента"
   ]
  },
  {
   "cell_type": "markdown",
   "metadata": {},
   "source": [
    "В **personal.csv** представлена информация о клиентах:\n",
    "\n",
    "- **customerID** - уникальный ID клиента\n",
    "- **BeginDate** - дата заключения договора\n",
    "- **EndDate** - дата расторжения договора\n",
    "- **Type** - Тип оплаты за услуги (ежемесячный платёж или раз в год, несколько лет)\n",
    "- **PaperlessBilling** - Получает ли клиент электронный чек\n",
    "- **PaymentMethod** - способы оплаты за услуги\n",
    "- **MonthlyCharges** - ежемесячные платежи независимо от типа оплаты\n",
    "- **TotalCharges** - Общая сумма платежа клиента"
   ]
  },
  {
   "cell_type": "markdown",
   "metadata": {},
   "source": [
    "В **Internet.csv** представлена информация об интернет услугах:\n",
    "\n",
    "- **customerID** - уникальный ID клиента\n",
    "- **InternetService** - варианты подключения интернет-соединения\n",
    "- **OnlineSecurity** - Услуга блокировки небезопасных сайтов\n",
    "- **OnlineBackup** - Услуга Облачного хранилища файлов\n",
    "- **DeviceProtection** - Наличие услуги антивируса\n",
    "- **TechSupport** - Услуга Выделенной линии технической поддержки\n",
    "- **StreamingTV** - Услуга стримингового телевидения\n",
    "- **StreamingMovies** - Услуга каталога фильмов"
   ]
  },
  {
   "cell_type": "markdown",
   "metadata": {},
   "source": [
    "В **phone.csv** представлена информация об услугах телефонии:\n",
    "\n",
    "- **customerID** - уникальный ID клиента\n",
    "- **MultipleLines** - Мультиканальная линия или нет (в данном случае отдельно услуга телефона связи или вместе с интернетом)"
   ]
  },
  {
   "cell_type": "markdown",
   "metadata": {},
   "source": [
    "# План работы"
   ]
  },
  {
   "cell_type": "markdown",
   "metadata": {},
   "source": [
    "- **Подготовить данные для анализа**:\n",
    "\n",
    "\n",
    "    - Проверить на наличие дубликатов\n",
    "    - Проверить на наличие пропусков\n",
    "    - Привести форматы данных к необходимым\n",
    "    - Выделить целевой признак\n",
    "    - При необходимости добавить или удалить столбцы\n",
    "       \n",
    "- **Провести анализ данных**:\n",
    "\n",
    "\n",
    "    - Объединить таблицы в один датасет\n",
    "    - Посмотреть на распределение целевого признака\n",
    "    - Выделить клиентов, которые ушли\n",
    "    - Выяснить информацию по услугам, которые они получали\n",
    "    - Выяснить информацию по оплате предоставляемых услуг\n",
    "    \n",
    "- **Обучить модель**:\n",
    "\n",
    "\n",
    "    - Разделить датасет на обучающую и тестовую выборки\n",
    "    - Обучить модели\n",
    "    - Выбрать лучшую по результатам обучения на основе метрики rocauc\n",
    "    - Проверить модель на тестовой выборке\n",
    "    \n",
    "- **Заключение**:\n",
    "\n",
    "    \n",
    "    - Итоговая модель и результат ее обучения\n",
    "    - Выявление ключевых шагов в решении задачи\n",
    "    - Отклонения от плана "
   ]
  },
  {
   "cell_type": "markdown",
   "metadata": {},
   "source": [
    "## Подготовка данных"
   ]
  },
  {
   "cell_type": "markdown",
   "metadata": {},
   "source": [
    "Импортируем необходимые библиотеки"
   ]
  },
  {
   "cell_type": "code",
   "execution_count": 1,
   "metadata": {},
   "outputs": [],
   "source": [
    "import matplotlib.pyplot as plt\n",
    "import numpy as np\n",
    "import pandas as pd\n",
    "import seaborn as sns\n",
    "from catboost import CatBoostClassifier\n",
    "from sklearn.ensemble import RandomForestClassifier\n",
    "from sklearn.metrics import roc_curve\n",
    "from sklearn.metrics import confusion_matrix\n",
    "from sklearn.metrics import recall_score\n",
    "from sklearn.metrics import precision_score\n",
    "from sklearn.metrics import f1_score\n",
    "from sklearn.model_selection import train_test_split\n",
    "from sklearn.model_selection import GridSearchCV\n",
    "from sklearn.preprocessing import OneHotEncoder\n",
    "from sklearn.metrics import roc_auc_score \n",
    "import warnings\n",
    "warnings.filterwarnings(\"ignore\")"
   ]
  },
  {
   "cell_type": "markdown",
   "metadata": {},
   "source": [
    "###  **contract**"
   ]
  },
  {
   "cell_type": "code",
   "execution_count": 2,
   "metadata": {
    "scrolled": true
   },
   "outputs": [
    {
     "data": {
      "text/html": [
       "<div>\n",
       "<style scoped>\n",
       "    .dataframe tbody tr th:only-of-type {\n",
       "        vertical-align: middle;\n",
       "    }\n",
       "\n",
       "    .dataframe tbody tr th {\n",
       "        vertical-align: top;\n",
       "    }\n",
       "\n",
       "    .dataframe thead th {\n",
       "        text-align: right;\n",
       "    }\n",
       "</style>\n",
       "<table border=\"1\" class=\"dataframe\">\n",
       "  <thead>\n",
       "    <tr style=\"text-align: right;\">\n",
       "      <th></th>\n",
       "      <th>customerID</th>\n",
       "      <th>BeginDate</th>\n",
       "      <th>EndDate</th>\n",
       "      <th>Type</th>\n",
       "      <th>PaperlessBilling</th>\n",
       "      <th>PaymentMethod</th>\n",
       "      <th>MonthlyCharges</th>\n",
       "      <th>TotalCharges</th>\n",
       "    </tr>\n",
       "  </thead>\n",
       "  <tbody>\n",
       "    <tr>\n",
       "      <th>2187</th>\n",
       "      <td>8879-XUAHX</td>\n",
       "      <td>2014-03-01</td>\n",
       "      <td>No</td>\n",
       "      <td>Two year</td>\n",
       "      <td>Yes</td>\n",
       "      <td>Electronic check</td>\n",
       "      <td>116.25</td>\n",
       "      <td>8564.75</td>\n",
       "    </tr>\n",
       "    <tr>\n",
       "      <th>60</th>\n",
       "      <td>0434-CSFON</td>\n",
       "      <td>2016-03-01</td>\n",
       "      <td>No</td>\n",
       "      <td>Month-to-month</td>\n",
       "      <td>Yes</td>\n",
       "      <td>Electronic check</td>\n",
       "      <td>100.50</td>\n",
       "      <td>4707.1</td>\n",
       "    </tr>\n",
       "    <tr>\n",
       "      <th>2002</th>\n",
       "      <td>0017-DINOC</td>\n",
       "      <td>2015-08-01</td>\n",
       "      <td>No</td>\n",
       "      <td>Two year</td>\n",
       "      <td>No</td>\n",
       "      <td>Credit card (automatic)</td>\n",
       "      <td>45.20</td>\n",
       "      <td>2460.55</td>\n",
       "    </tr>\n",
       "    <tr>\n",
       "      <th>5634</th>\n",
       "      <td>2320-JRSDE</td>\n",
       "      <td>2019-12-01</td>\n",
       "      <td>2020-01-01 00:00:00</td>\n",
       "      <td>Month-to-month</td>\n",
       "      <td>Yes</td>\n",
       "      <td>Electronic check</td>\n",
       "      <td>19.90</td>\n",
       "      <td>19.9</td>\n",
       "    </tr>\n",
       "    <tr>\n",
       "      <th>5974</th>\n",
       "      <td>7094-MSZAO</td>\n",
       "      <td>2019-04-01</td>\n",
       "      <td>No</td>\n",
       "      <td>Month-to-month</td>\n",
       "      <td>Yes</td>\n",
       "      <td>Credit card (automatic)</td>\n",
       "      <td>20.05</td>\n",
       "      <td>218.5</td>\n",
       "    </tr>\n",
       "    <tr>\n",
       "      <th>1212</th>\n",
       "      <td>4291-SHSBH</td>\n",
       "      <td>2019-07-01</td>\n",
       "      <td>No</td>\n",
       "      <td>Month-to-month</td>\n",
       "      <td>Yes</td>\n",
       "      <td>Electronic check</td>\n",
       "      <td>69.55</td>\n",
       "      <td>521.35</td>\n",
       "    </tr>\n",
       "    <tr>\n",
       "      <th>6879</th>\n",
       "      <td>0682-USIXD</td>\n",
       "      <td>2018-05-01</td>\n",
       "      <td>No</td>\n",
       "      <td>Month-to-month</td>\n",
       "      <td>Yes</td>\n",
       "      <td>Electronic check</td>\n",
       "      <td>86.05</td>\n",
       "      <td>1818.9</td>\n",
       "    </tr>\n",
       "    <tr>\n",
       "      <th>4386</th>\n",
       "      <td>3400-ESFUW</td>\n",
       "      <td>2015-04-01</td>\n",
       "      <td>2019-11-01 00:00:00</td>\n",
       "      <td>Two year</td>\n",
       "      <td>No</td>\n",
       "      <td>Bank transfer (automatic)</td>\n",
       "      <td>57.55</td>\n",
       "      <td>3046.4</td>\n",
       "    </tr>\n",
       "    <tr>\n",
       "      <th>4102</th>\n",
       "      <td>1919-RTPQD</td>\n",
       "      <td>2019-07-01</td>\n",
       "      <td>No</td>\n",
       "      <td>Month-to-month</td>\n",
       "      <td>No</td>\n",
       "      <td>Electronic check</td>\n",
       "      <td>44.75</td>\n",
       "      <td>333.65</td>\n",
       "    </tr>\n",
       "    <tr>\n",
       "      <th>2565</th>\n",
       "      <td>7996-BPXHY</td>\n",
       "      <td>2019-01-01</td>\n",
       "      <td>No</td>\n",
       "      <td>Two year</td>\n",
       "      <td>Yes</td>\n",
       "      <td>Bank transfer (automatic)</td>\n",
       "      <td>25.00</td>\n",
       "      <td>332.5</td>\n",
       "    </tr>\n",
       "    <tr>\n",
       "      <th>1102</th>\n",
       "      <td>8824-RWFXJ</td>\n",
       "      <td>2019-07-01</td>\n",
       "      <td>2019-10-01 00:00:00</td>\n",
       "      <td>Month-to-month</td>\n",
       "      <td>Yes</td>\n",
       "      <td>Mailed check</td>\n",
       "      <td>56.15</td>\n",
       "      <td>168.15</td>\n",
       "    </tr>\n",
       "    <tr>\n",
       "      <th>6405</th>\n",
       "      <td>5298-GSTLM</td>\n",
       "      <td>2015-02-01</td>\n",
       "      <td>No</td>\n",
       "      <td>One year</td>\n",
       "      <td>Yes</td>\n",
       "      <td>Bank transfer (automatic)</td>\n",
       "      <td>101.40</td>\n",
       "      <td>6176.6</td>\n",
       "    </tr>\n",
       "    <tr>\n",
       "      <th>2942</th>\n",
       "      <td>5310-NOOVA</td>\n",
       "      <td>2016-04-01</td>\n",
       "      <td>No</td>\n",
       "      <td>Two year</td>\n",
       "      <td>No</td>\n",
       "      <td>Electronic check</td>\n",
       "      <td>19.95</td>\n",
       "      <td>907.05</td>\n",
       "    </tr>\n",
       "    <tr>\n",
       "      <th>1774</th>\n",
       "      <td>5207-PLSTK</td>\n",
       "      <td>2020-01-01</td>\n",
       "      <td>No</td>\n",
       "      <td>Month-to-month</td>\n",
       "      <td>Yes</td>\n",
       "      <td>Mailed check</td>\n",
       "      <td>48.75</td>\n",
       "      <td>48.75</td>\n",
       "    </tr>\n",
       "    <tr>\n",
       "      <th>4881</th>\n",
       "      <td>2305-MRGLV</td>\n",
       "      <td>2017-10-01</td>\n",
       "      <td>No</td>\n",
       "      <td>Month-to-month</td>\n",
       "      <td>No</td>\n",
       "      <td>Bank transfer (automatic)</td>\n",
       "      <td>76.55</td>\n",
       "      <td>2065.4</td>\n",
       "    </tr>\n",
       "    <tr>\n",
       "      <th>6625</th>\n",
       "      <td>3398-FSHON</td>\n",
       "      <td>2018-10-01</td>\n",
       "      <td>2019-10-01 00:00:00</td>\n",
       "      <td>Month-to-month</td>\n",
       "      <td>Yes</td>\n",
       "      <td>Electronic check</td>\n",
       "      <td>91.30</td>\n",
       "      <td>1094.5</td>\n",
       "    </tr>\n",
       "    <tr>\n",
       "      <th>5023</th>\n",
       "      <td>6653-CBBOM</td>\n",
       "      <td>2019-11-01</td>\n",
       "      <td>2019-12-01 00:00:00</td>\n",
       "      <td>Month-to-month</td>\n",
       "      <td>Yes</td>\n",
       "      <td>Electronic check</td>\n",
       "      <td>70.30</td>\n",
       "      <td>70.3</td>\n",
       "    </tr>\n",
       "    <tr>\n",
       "      <th>3813</th>\n",
       "      <td>6837-HAEVO</td>\n",
       "      <td>2014-05-01</td>\n",
       "      <td>No</td>\n",
       "      <td>Two year</td>\n",
       "      <td>Yes</td>\n",
       "      <td>Electronic check</td>\n",
       "      <td>105.00</td>\n",
       "      <td>7297.75</td>\n",
       "    </tr>\n",
       "    <tr>\n",
       "      <th>1068</th>\n",
       "      <td>5536-RTPWK</td>\n",
       "      <td>2015-11-01</td>\n",
       "      <td>2019-12-01 00:00:00</td>\n",
       "      <td>Month-to-month</td>\n",
       "      <td>Yes</td>\n",
       "      <td>Bank transfer (automatic)</td>\n",
       "      <td>99.05</td>\n",
       "      <td>4853.75</td>\n",
       "    </tr>\n",
       "    <tr>\n",
       "      <th>3373</th>\n",
       "      <td>2516-VQRRV</td>\n",
       "      <td>2019-09-01</td>\n",
       "      <td>2019-11-01 00:00:00</td>\n",
       "      <td>Month-to-month</td>\n",
       "      <td>Yes</td>\n",
       "      <td>Mailed check</td>\n",
       "      <td>75.45</td>\n",
       "      <td>158.4</td>\n",
       "    </tr>\n",
       "    <tr>\n",
       "      <th>113</th>\n",
       "      <td>4846-WHAFZ</td>\n",
       "      <td>2016-10-01</td>\n",
       "      <td>2019-11-01 00:00:00</td>\n",
       "      <td>Month-to-month</td>\n",
       "      <td>Yes</td>\n",
       "      <td>Electronic check</td>\n",
       "      <td>76.50</td>\n",
       "      <td>2868.15</td>\n",
       "    </tr>\n",
       "    <tr>\n",
       "      <th>3410</th>\n",
       "      <td>4918-QLLIW</td>\n",
       "      <td>2019-09-01</td>\n",
       "      <td>2019-12-01 00:00:00</td>\n",
       "      <td>Month-to-month</td>\n",
       "      <td>No</td>\n",
       "      <td>Credit card (automatic)</td>\n",
       "      <td>53.40</td>\n",
       "      <td>188.7</td>\n",
       "    </tr>\n",
       "    <tr>\n",
       "      <th>1092</th>\n",
       "      <td>8590-YFFQO</td>\n",
       "      <td>2014-04-01</td>\n",
       "      <td>No</td>\n",
       "      <td>Two year</td>\n",
       "      <td>No</td>\n",
       "      <td>Credit card (automatic)</td>\n",
       "      <td>64.95</td>\n",
       "      <td>4523.25</td>\n",
       "    </tr>\n",
       "    <tr>\n",
       "      <th>5393</th>\n",
       "      <td>5376-DEQCP</td>\n",
       "      <td>2019-12-01</td>\n",
       "      <td>2020-01-01 00:00:00</td>\n",
       "      <td>Month-to-month</td>\n",
       "      <td>Yes</td>\n",
       "      <td>Electronic check</td>\n",
       "      <td>70.60</td>\n",
       "      <td>70.6</td>\n",
       "    </tr>\n",
       "    <tr>\n",
       "      <th>4555</th>\n",
       "      <td>4804-NCPET</td>\n",
       "      <td>2018-07-01</td>\n",
       "      <td>No</td>\n",
       "      <td>Two year</td>\n",
       "      <td>No</td>\n",
       "      <td>Mailed check</td>\n",
       "      <td>20.20</td>\n",
       "      <td>387.4</td>\n",
       "    </tr>\n",
       "  </tbody>\n",
       "</table>\n",
       "</div>"
      ],
      "text/plain": [
       "      customerID   BeginDate              EndDate            Type  \\\n",
       "2187  8879-XUAHX  2014-03-01                   No        Two year   \n",
       "60    0434-CSFON  2016-03-01                   No  Month-to-month   \n",
       "2002  0017-DINOC  2015-08-01                   No        Two year   \n",
       "5634  2320-JRSDE  2019-12-01  2020-01-01 00:00:00  Month-to-month   \n",
       "5974  7094-MSZAO  2019-04-01                   No  Month-to-month   \n",
       "1212  4291-SHSBH  2019-07-01                   No  Month-to-month   \n",
       "6879  0682-USIXD  2018-05-01                   No  Month-to-month   \n",
       "4386  3400-ESFUW  2015-04-01  2019-11-01 00:00:00        Two year   \n",
       "4102  1919-RTPQD  2019-07-01                   No  Month-to-month   \n",
       "2565  7996-BPXHY  2019-01-01                   No        Two year   \n",
       "1102  8824-RWFXJ  2019-07-01  2019-10-01 00:00:00  Month-to-month   \n",
       "6405  5298-GSTLM  2015-02-01                   No        One year   \n",
       "2942  5310-NOOVA  2016-04-01                   No        Two year   \n",
       "1774  5207-PLSTK  2020-01-01                   No  Month-to-month   \n",
       "4881  2305-MRGLV  2017-10-01                   No  Month-to-month   \n",
       "6625  3398-FSHON  2018-10-01  2019-10-01 00:00:00  Month-to-month   \n",
       "5023  6653-CBBOM  2019-11-01  2019-12-01 00:00:00  Month-to-month   \n",
       "3813  6837-HAEVO  2014-05-01                   No        Two year   \n",
       "1068  5536-RTPWK  2015-11-01  2019-12-01 00:00:00  Month-to-month   \n",
       "3373  2516-VQRRV  2019-09-01  2019-11-01 00:00:00  Month-to-month   \n",
       "113   4846-WHAFZ  2016-10-01  2019-11-01 00:00:00  Month-to-month   \n",
       "3410  4918-QLLIW  2019-09-01  2019-12-01 00:00:00  Month-to-month   \n",
       "1092  8590-YFFQO  2014-04-01                   No        Two year   \n",
       "5393  5376-DEQCP  2019-12-01  2020-01-01 00:00:00  Month-to-month   \n",
       "4555  4804-NCPET  2018-07-01                   No        Two year   \n",
       "\n",
       "     PaperlessBilling              PaymentMethod  MonthlyCharges TotalCharges  \n",
       "2187              Yes           Electronic check          116.25      8564.75  \n",
       "60                Yes           Electronic check          100.50       4707.1  \n",
       "2002               No    Credit card (automatic)           45.20      2460.55  \n",
       "5634              Yes           Electronic check           19.90         19.9  \n",
       "5974              Yes    Credit card (automatic)           20.05        218.5  \n",
       "1212              Yes           Electronic check           69.55       521.35  \n",
       "6879              Yes           Electronic check           86.05       1818.9  \n",
       "4386               No  Bank transfer (automatic)           57.55       3046.4  \n",
       "4102               No           Electronic check           44.75       333.65  \n",
       "2565              Yes  Bank transfer (automatic)           25.00        332.5  \n",
       "1102              Yes               Mailed check           56.15       168.15  \n",
       "6405              Yes  Bank transfer (automatic)          101.40       6176.6  \n",
       "2942               No           Electronic check           19.95       907.05  \n",
       "1774              Yes               Mailed check           48.75        48.75  \n",
       "4881               No  Bank transfer (automatic)           76.55       2065.4  \n",
       "6625              Yes           Electronic check           91.30       1094.5  \n",
       "5023              Yes           Electronic check           70.30         70.3  \n",
       "3813              Yes           Electronic check          105.00      7297.75  \n",
       "1068              Yes  Bank transfer (automatic)           99.05      4853.75  \n",
       "3373              Yes               Mailed check           75.45        158.4  \n",
       "113               Yes           Electronic check           76.50      2868.15  \n",
       "3410               No    Credit card (automatic)           53.40        188.7  \n",
       "1092               No    Credit card (automatic)           64.95      4523.25  \n",
       "5393              Yes           Electronic check           70.60         70.6  \n",
       "4555               No               Mailed check           20.20        387.4  "
      ]
     },
     "execution_count": 2,
     "metadata": {},
     "output_type": "execute_result"
    }
   ],
   "source": [
    "contract = pd.read_csv('/datasets/final_provider/contract.csv')\n",
    "contract.sample(25, random_state=171022)"
   ]
  },
  {
   "cell_type": "markdown",
   "metadata": {},
   "source": [
    "Приведем названия столбцов в нижний регистр"
   ]
  },
  {
   "cell_type": "code",
   "execution_count": 3,
   "metadata": {},
   "outputs": [],
   "source": [
    "contract.columns = contract.columns.str.lower()"
   ]
  },
  {
   "cell_type": "markdown",
   "metadata": {},
   "source": [
    "Проверим на наличие дубликатов"
   ]
  },
  {
   "cell_type": "code",
   "execution_count": 4,
   "metadata": {
    "scrolled": true
   },
   "outputs": [
    {
     "data": {
      "text/plain": [
       "0"
      ]
     },
     "execution_count": 4,
     "metadata": {},
     "output_type": "execute_result"
    }
   ],
   "source": [
    "contract.duplicated().sum()"
   ]
  },
  {
   "cell_type": "markdown",
   "metadata": {},
   "source": [
    "проверим на наличие пропусков или нулевых значений"
   ]
  },
  {
   "cell_type": "code",
   "execution_count": 5,
   "metadata": {
    "scrolled": true
   },
   "outputs": [
    {
     "data": {
      "text/plain": [
       "customerid          0\n",
       "begindate           0\n",
       "enddate             0\n",
       "type                0\n",
       "paperlessbilling    0\n",
       "paymentmethod       0\n",
       "monthlycharges      0\n",
       "totalcharges        0\n",
       "dtype: int64"
      ]
     },
     "execution_count": 5,
     "metadata": {},
     "output_type": "execute_result"
    }
   ],
   "source": [
    "contract.isna().sum()"
   ]
  },
  {
   "cell_type": "code",
   "execution_count": 6,
   "metadata": {},
   "outputs": [
    {
     "name": "stdout",
     "output_type": "stream",
     "text": [
      "<class 'pandas.core.frame.DataFrame'>\n",
      "RangeIndex: 7043 entries, 0 to 7042\n",
      "Data columns (total 8 columns):\n",
      " #   Column            Non-Null Count  Dtype  \n",
      "---  ------            --------------  -----  \n",
      " 0   customerid        7043 non-null   object \n",
      " 1   begindate         7043 non-null   object \n",
      " 2   enddate           7043 non-null   object \n",
      " 3   type              7043 non-null   object \n",
      " 4   paperlessbilling  7043 non-null   object \n",
      " 5   paymentmethod     7043 non-null   object \n",
      " 6   monthlycharges    7043 non-null   float64\n",
      " 7   totalcharges      7043 non-null   object \n",
      "dtypes: float64(1), object(7)\n",
      "memory usage: 440.3+ KB\n"
     ]
    }
   ],
   "source": [
    "contract.info()"
   ]
  },
  {
   "cell_type": "markdown",
   "metadata": {},
   "source": [
    "При попытке перевести тип данных в формат float появилась ошибка 'ValueError: could not convert string to float: ''', значит в данных есть строки с пробелом, вместо пропуска. Посмотрим на эти данные и решим что с ними делать!"
   ]
  },
  {
   "cell_type": "code",
   "execution_count": 7,
   "metadata": {
    "scrolled": true
   },
   "outputs": [
    {
     "data": {
      "text/html": [
       "<div>\n",
       "<style scoped>\n",
       "    .dataframe tbody tr th:only-of-type {\n",
       "        vertical-align: middle;\n",
       "    }\n",
       "\n",
       "    .dataframe tbody tr th {\n",
       "        vertical-align: top;\n",
       "    }\n",
       "\n",
       "    .dataframe thead th {\n",
       "        text-align: right;\n",
       "    }\n",
       "</style>\n",
       "<table border=\"1\" class=\"dataframe\">\n",
       "  <thead>\n",
       "    <tr style=\"text-align: right;\">\n",
       "      <th></th>\n",
       "      <th>customerid</th>\n",
       "      <th>begindate</th>\n",
       "      <th>enddate</th>\n",
       "      <th>type</th>\n",
       "      <th>paperlessbilling</th>\n",
       "      <th>paymentmethod</th>\n",
       "      <th>monthlycharges</th>\n",
       "      <th>totalcharges</th>\n",
       "    </tr>\n",
       "  </thead>\n",
       "  <tbody>\n",
       "    <tr>\n",
       "      <th>488</th>\n",
       "      <td>4472-LVYGI</td>\n",
       "      <td>2020-02-01</td>\n",
       "      <td>No</td>\n",
       "      <td>Two year</td>\n",
       "      <td>Yes</td>\n",
       "      <td>Bank transfer (automatic)</td>\n",
       "      <td>52.55</td>\n",
       "      <td></td>\n",
       "    </tr>\n",
       "    <tr>\n",
       "      <th>753</th>\n",
       "      <td>3115-CZMZD</td>\n",
       "      <td>2020-02-01</td>\n",
       "      <td>No</td>\n",
       "      <td>Two year</td>\n",
       "      <td>No</td>\n",
       "      <td>Mailed check</td>\n",
       "      <td>20.25</td>\n",
       "      <td></td>\n",
       "    </tr>\n",
       "    <tr>\n",
       "      <th>936</th>\n",
       "      <td>5709-LVOEQ</td>\n",
       "      <td>2020-02-01</td>\n",
       "      <td>No</td>\n",
       "      <td>Two year</td>\n",
       "      <td>No</td>\n",
       "      <td>Mailed check</td>\n",
       "      <td>80.85</td>\n",
       "      <td></td>\n",
       "    </tr>\n",
       "    <tr>\n",
       "      <th>1082</th>\n",
       "      <td>4367-NUYAO</td>\n",
       "      <td>2020-02-01</td>\n",
       "      <td>No</td>\n",
       "      <td>Two year</td>\n",
       "      <td>No</td>\n",
       "      <td>Mailed check</td>\n",
       "      <td>25.75</td>\n",
       "      <td></td>\n",
       "    </tr>\n",
       "    <tr>\n",
       "      <th>1340</th>\n",
       "      <td>1371-DWPAZ</td>\n",
       "      <td>2020-02-01</td>\n",
       "      <td>No</td>\n",
       "      <td>Two year</td>\n",
       "      <td>No</td>\n",
       "      <td>Credit card (automatic)</td>\n",
       "      <td>56.05</td>\n",
       "      <td></td>\n",
       "    </tr>\n",
       "    <tr>\n",
       "      <th>3331</th>\n",
       "      <td>7644-OMVMY</td>\n",
       "      <td>2020-02-01</td>\n",
       "      <td>No</td>\n",
       "      <td>Two year</td>\n",
       "      <td>No</td>\n",
       "      <td>Mailed check</td>\n",
       "      <td>19.85</td>\n",
       "      <td></td>\n",
       "    </tr>\n",
       "    <tr>\n",
       "      <th>3826</th>\n",
       "      <td>3213-VVOLG</td>\n",
       "      <td>2020-02-01</td>\n",
       "      <td>No</td>\n",
       "      <td>Two year</td>\n",
       "      <td>No</td>\n",
       "      <td>Mailed check</td>\n",
       "      <td>25.35</td>\n",
       "      <td></td>\n",
       "    </tr>\n",
       "    <tr>\n",
       "      <th>4380</th>\n",
       "      <td>2520-SGTTA</td>\n",
       "      <td>2020-02-01</td>\n",
       "      <td>No</td>\n",
       "      <td>Two year</td>\n",
       "      <td>No</td>\n",
       "      <td>Mailed check</td>\n",
       "      <td>20.00</td>\n",
       "      <td></td>\n",
       "    </tr>\n",
       "    <tr>\n",
       "      <th>5218</th>\n",
       "      <td>2923-ARZLG</td>\n",
       "      <td>2020-02-01</td>\n",
       "      <td>No</td>\n",
       "      <td>One year</td>\n",
       "      <td>Yes</td>\n",
       "      <td>Mailed check</td>\n",
       "      <td>19.70</td>\n",
       "      <td></td>\n",
       "    </tr>\n",
       "    <tr>\n",
       "      <th>6670</th>\n",
       "      <td>4075-WKNIU</td>\n",
       "      <td>2020-02-01</td>\n",
       "      <td>No</td>\n",
       "      <td>Two year</td>\n",
       "      <td>No</td>\n",
       "      <td>Mailed check</td>\n",
       "      <td>73.35</td>\n",
       "      <td></td>\n",
       "    </tr>\n",
       "    <tr>\n",
       "      <th>6754</th>\n",
       "      <td>2775-SEFEE</td>\n",
       "      <td>2020-02-01</td>\n",
       "      <td>No</td>\n",
       "      <td>Two year</td>\n",
       "      <td>Yes</td>\n",
       "      <td>Bank transfer (automatic)</td>\n",
       "      <td>61.90</td>\n",
       "      <td></td>\n",
       "    </tr>\n",
       "  </tbody>\n",
       "</table>\n",
       "</div>"
      ],
      "text/plain": [
       "      customerid   begindate enddate      type paperlessbilling  \\\n",
       "488   4472-LVYGI  2020-02-01      No  Two year              Yes   \n",
       "753   3115-CZMZD  2020-02-01      No  Two year               No   \n",
       "936   5709-LVOEQ  2020-02-01      No  Two year               No   \n",
       "1082  4367-NUYAO  2020-02-01      No  Two year               No   \n",
       "1340  1371-DWPAZ  2020-02-01      No  Two year               No   \n",
       "3331  7644-OMVMY  2020-02-01      No  Two year               No   \n",
       "3826  3213-VVOLG  2020-02-01      No  Two year               No   \n",
       "4380  2520-SGTTA  2020-02-01      No  Two year               No   \n",
       "5218  2923-ARZLG  2020-02-01      No  One year              Yes   \n",
       "6670  4075-WKNIU  2020-02-01      No  Two year               No   \n",
       "6754  2775-SEFEE  2020-02-01      No  Two year              Yes   \n",
       "\n",
       "                  paymentmethod  monthlycharges totalcharges  \n",
       "488   Bank transfer (automatic)           52.55               \n",
       "753                Mailed check           20.25               \n",
       "936                Mailed check           80.85               \n",
       "1082               Mailed check           25.75               \n",
       "1340    Credit card (automatic)           56.05               \n",
       "3331               Mailed check           19.85               \n",
       "3826               Mailed check           25.35               \n",
       "4380               Mailed check           20.00               \n",
       "5218               Mailed check           19.70               \n",
       "6670               Mailed check           73.35               \n",
       "6754  Bank transfer (automatic)           61.90               "
      ]
     },
     "metadata": {},
     "output_type": "display_data"
    }
   ],
   "source": [
    "display(contract[contract['totalcharges'] == ' '])"
   ]
  },
  {
   "cell_type": "markdown",
   "metadata": {},
   "source": [
    "Всего 11 строк из 7043. Мы видим, что дата заключения контракта у всех клиентов 1 февраля 2020. Так как это дата выгрузки данных, мы можем сделать вывод, что данные клиенты еще не успели понять свои эмоции от представляемых услуг и для решения нашей задачи они не представляют никакой ценности. Удалим данные строки, ведь объединять таблицы будем по *customerid*"
   ]
  },
  {
   "cell_type": "code",
   "execution_count": 8,
   "metadata": {},
   "outputs": [
    {
     "name": "stdout",
     "output_type": "stream",
     "text": [
      "<class 'pandas.core.frame.DataFrame'>\n",
      "Int64Index: 7032 entries, 0 to 7042\n",
      "Data columns (total 8 columns):\n",
      " #   Column            Non-Null Count  Dtype  \n",
      "---  ------            --------------  -----  \n",
      " 0   customerid        7032 non-null   object \n",
      " 1   begindate         7032 non-null   object \n",
      " 2   enddate           7032 non-null   object \n",
      " 3   type              7032 non-null   object \n",
      " 4   paperlessbilling  7032 non-null   object \n",
      " 5   paymentmethod     7032 non-null   object \n",
      " 6   monthlycharges    7032 non-null   float64\n",
      " 7   totalcharges      7032 non-null   object \n",
      "dtypes: float64(1), object(7)\n",
      "memory usage: 494.4+ KB\n"
     ]
    }
   ],
   "source": [
    "contract = contract.loc[contract['totalcharges'] != ' ']\n",
    "contract.info()"
   ]
  },
  {
   "cell_type": "markdown",
   "metadata": {},
   "source": [
    "Целевой признак выделим в отдельный столбец и сделаем его численным"
   ]
  },
  {
   "cell_type": "code",
   "execution_count": 9,
   "metadata": {},
   "outputs": [],
   "source": [
    "def client_left(rows):\n",
    "    if rows['enddate'] == 'No':\n",
    "        return 0\n",
    "    else:\n",
    "        return 1"
   ]
  },
  {
   "cell_type": "code",
   "execution_count": 10,
   "metadata": {},
   "outputs": [],
   "source": [
    "contract['client_left'] = contract.apply(client_left, axis=1)"
   ]
  },
  {
   "cell_type": "markdown",
   "metadata": {},
   "source": [
    "Добавим столбец сколько времени был или есть с оператором связи клиент. Для этого нужно в столбце EndDate проставить дату 1 февраля 2020, то есть дату выгрузки данных"
   ]
  },
  {
   "cell_type": "code",
   "execution_count": 11,
   "metadata": {
    "scrolled": false
   },
   "outputs": [
    {
     "data": {
      "text/html": [
       "<div>\n",
       "<style scoped>\n",
       "    .dataframe tbody tr th:only-of-type {\n",
       "        vertical-align: middle;\n",
       "    }\n",
       "\n",
       "    .dataframe tbody tr th {\n",
       "        vertical-align: top;\n",
       "    }\n",
       "\n",
       "    .dataframe thead th {\n",
       "        text-align: right;\n",
       "    }\n",
       "</style>\n",
       "<table border=\"1\" class=\"dataframe\">\n",
       "  <thead>\n",
       "    <tr style=\"text-align: right;\">\n",
       "      <th></th>\n",
       "      <th>customerid</th>\n",
       "      <th>begindate</th>\n",
       "      <th>enddate</th>\n",
       "      <th>type</th>\n",
       "      <th>paperlessbilling</th>\n",
       "      <th>paymentmethod</th>\n",
       "      <th>monthlycharges</th>\n",
       "      <th>totalcharges</th>\n",
       "      <th>client_left</th>\n",
       "      <th>time_with_us</th>\n",
       "    </tr>\n",
       "  </thead>\n",
       "  <tbody>\n",
       "    <tr>\n",
       "      <th>0</th>\n",
       "      <td>7590-VHVEG</td>\n",
       "      <td>2020-01-01</td>\n",
       "      <td>2020-02-01</td>\n",
       "      <td>Month-to-month</td>\n",
       "      <td>Yes</td>\n",
       "      <td>Electronic check</td>\n",
       "      <td>29.85</td>\n",
       "      <td>29.85</td>\n",
       "      <td>0</td>\n",
       "      <td>31</td>\n",
       "    </tr>\n",
       "    <tr>\n",
       "      <th>1</th>\n",
       "      <td>5575-GNVDE</td>\n",
       "      <td>2017-04-01</td>\n",
       "      <td>2020-02-01</td>\n",
       "      <td>One year</td>\n",
       "      <td>No</td>\n",
       "      <td>Mailed check</td>\n",
       "      <td>56.95</td>\n",
       "      <td>1889.5</td>\n",
       "      <td>0</td>\n",
       "      <td>1036</td>\n",
       "    </tr>\n",
       "    <tr>\n",
       "      <th>2</th>\n",
       "      <td>3668-QPYBK</td>\n",
       "      <td>2019-10-01</td>\n",
       "      <td>2019-12-01</td>\n",
       "      <td>Month-to-month</td>\n",
       "      <td>Yes</td>\n",
       "      <td>Mailed check</td>\n",
       "      <td>53.85</td>\n",
       "      <td>108.15</td>\n",
       "      <td>1</td>\n",
       "      <td>61</td>\n",
       "    </tr>\n",
       "    <tr>\n",
       "      <th>3</th>\n",
       "      <td>7795-CFOCW</td>\n",
       "      <td>2016-05-01</td>\n",
       "      <td>2020-02-01</td>\n",
       "      <td>One year</td>\n",
       "      <td>No</td>\n",
       "      <td>Bank transfer (automatic)</td>\n",
       "      <td>42.30</td>\n",
       "      <td>1840.75</td>\n",
       "      <td>0</td>\n",
       "      <td>1371</td>\n",
       "    </tr>\n",
       "    <tr>\n",
       "      <th>4</th>\n",
       "      <td>9237-HQITU</td>\n",
       "      <td>2019-09-01</td>\n",
       "      <td>2019-11-01</td>\n",
       "      <td>Month-to-month</td>\n",
       "      <td>Yes</td>\n",
       "      <td>Electronic check</td>\n",
       "      <td>70.70</td>\n",
       "      <td>151.65</td>\n",
       "      <td>1</td>\n",
       "      <td>61</td>\n",
       "    </tr>\n",
       "  </tbody>\n",
       "</table>\n",
       "</div>"
      ],
      "text/plain": [
       "   customerid  begindate    enddate            type paperlessbilling  \\\n",
       "0  7590-VHVEG 2020-01-01 2020-02-01  Month-to-month              Yes   \n",
       "1  5575-GNVDE 2017-04-01 2020-02-01        One year               No   \n",
       "2  3668-QPYBK 2019-10-01 2019-12-01  Month-to-month              Yes   \n",
       "3  7795-CFOCW 2016-05-01 2020-02-01        One year               No   \n",
       "4  9237-HQITU 2019-09-01 2019-11-01  Month-to-month              Yes   \n",
       "\n",
       "               paymentmethod  monthlycharges totalcharges  client_left  \\\n",
       "0           Electronic check           29.85        29.85            0   \n",
       "1               Mailed check           56.95       1889.5            0   \n",
       "2               Mailed check           53.85       108.15            1   \n",
       "3  Bank transfer (automatic)           42.30      1840.75            0   \n",
       "4           Electronic check           70.70       151.65            1   \n",
       "\n",
       "   time_with_us  \n",
       "0            31  \n",
       "1          1036  \n",
       "2            61  \n",
       "3          1371  \n",
       "4            61  "
      ]
     },
     "execution_count": 11,
     "metadata": {},
     "output_type": "execute_result"
    }
   ],
   "source": [
    "contract['enddate'] = contract['enddate'].replace('No', '2020-02-01')\n",
    "contract['enddate'] = contract['enddate'].apply(pd.to_datetime)\n",
    "contract['begindate'] = contract['begindate'].apply(pd.to_datetime)\n",
    "contract['time_with_us'] = (contract['enddate'] - contract['begindate']).dt.days\n",
    "contract.head()"
   ]
  },
  {
   "cell_type": "markdown",
   "metadata": {},
   "source": [
    "Теперь столбцы с датами нам не нужны"
   ]
  },
  {
   "cell_type": "code",
   "execution_count": 12,
   "metadata": {
    "scrolled": true
   },
   "outputs": [
    {
     "data": {
      "text/html": [
       "<div>\n",
       "<style scoped>\n",
       "    .dataframe tbody tr th:only-of-type {\n",
       "        vertical-align: middle;\n",
       "    }\n",
       "\n",
       "    .dataframe tbody tr th {\n",
       "        vertical-align: top;\n",
       "    }\n",
       "\n",
       "    .dataframe thead th {\n",
       "        text-align: right;\n",
       "    }\n",
       "</style>\n",
       "<table border=\"1\" class=\"dataframe\">\n",
       "  <thead>\n",
       "    <tr style=\"text-align: right;\">\n",
       "      <th></th>\n",
       "      <th>customerid</th>\n",
       "      <th>type</th>\n",
       "      <th>paperlessbilling</th>\n",
       "      <th>paymentmethod</th>\n",
       "      <th>monthlycharges</th>\n",
       "      <th>totalcharges</th>\n",
       "      <th>client_left</th>\n",
       "      <th>time_with_us</th>\n",
       "    </tr>\n",
       "  </thead>\n",
       "  <tbody>\n",
       "    <tr>\n",
       "      <th>0</th>\n",
       "      <td>7590-VHVEG</td>\n",
       "      <td>Month-to-month</td>\n",
       "      <td>Yes</td>\n",
       "      <td>Electronic check</td>\n",
       "      <td>29.85</td>\n",
       "      <td>29.85</td>\n",
       "      <td>0</td>\n",
       "      <td>31</td>\n",
       "    </tr>\n",
       "    <tr>\n",
       "      <th>1</th>\n",
       "      <td>5575-GNVDE</td>\n",
       "      <td>One year</td>\n",
       "      <td>No</td>\n",
       "      <td>Mailed check</td>\n",
       "      <td>56.95</td>\n",
       "      <td>1889.5</td>\n",
       "      <td>0</td>\n",
       "      <td>1036</td>\n",
       "    </tr>\n",
       "    <tr>\n",
       "      <th>2</th>\n",
       "      <td>3668-QPYBK</td>\n",
       "      <td>Month-to-month</td>\n",
       "      <td>Yes</td>\n",
       "      <td>Mailed check</td>\n",
       "      <td>53.85</td>\n",
       "      <td>108.15</td>\n",
       "      <td>1</td>\n",
       "      <td>61</td>\n",
       "    </tr>\n",
       "    <tr>\n",
       "      <th>3</th>\n",
       "      <td>7795-CFOCW</td>\n",
       "      <td>One year</td>\n",
       "      <td>No</td>\n",
       "      <td>Bank transfer (automatic)</td>\n",
       "      <td>42.30</td>\n",
       "      <td>1840.75</td>\n",
       "      <td>0</td>\n",
       "      <td>1371</td>\n",
       "    </tr>\n",
       "    <tr>\n",
       "      <th>4</th>\n",
       "      <td>9237-HQITU</td>\n",
       "      <td>Month-to-month</td>\n",
       "      <td>Yes</td>\n",
       "      <td>Electronic check</td>\n",
       "      <td>70.70</td>\n",
       "      <td>151.65</td>\n",
       "      <td>1</td>\n",
       "      <td>61</td>\n",
       "    </tr>\n",
       "  </tbody>\n",
       "</table>\n",
       "</div>"
      ],
      "text/plain": [
       "   customerid            type paperlessbilling              paymentmethod  \\\n",
       "0  7590-VHVEG  Month-to-month              Yes           Electronic check   \n",
       "1  5575-GNVDE        One year               No               Mailed check   \n",
       "2  3668-QPYBK  Month-to-month              Yes               Mailed check   \n",
       "3  7795-CFOCW        One year               No  Bank transfer (automatic)   \n",
       "4  9237-HQITU  Month-to-month              Yes           Electronic check   \n",
       "\n",
       "   monthlycharges totalcharges  client_left  time_with_us  \n",
       "0           29.85        29.85            0            31  \n",
       "1           56.95       1889.5            0          1036  \n",
       "2           53.85       108.15            1            61  \n",
       "3           42.30      1840.75            0          1371  \n",
       "4           70.70       151.65            1            61  "
      ]
     },
     "execution_count": 12,
     "metadata": {},
     "output_type": "execute_result"
    }
   ],
   "source": [
    "contract = contract.drop('begindate', axis=1)\n",
    "contract = contract.drop('enddate', axis=1)\n",
    "contract.head()"
   ]
  },
  {
   "cell_type": "code",
   "execution_count": 13,
   "metadata": {
    "scrolled": false
   },
   "outputs": [
    {
     "data": {
      "text/html": [
       "<div>\n",
       "<style scoped>\n",
       "    .dataframe tbody tr th:only-of-type {\n",
       "        vertical-align: middle;\n",
       "    }\n",
       "\n",
       "    .dataframe tbody tr th {\n",
       "        vertical-align: top;\n",
       "    }\n",
       "\n",
       "    .dataframe thead th {\n",
       "        text-align: right;\n",
       "    }\n",
       "</style>\n",
       "<table border=\"1\" class=\"dataframe\">\n",
       "  <thead>\n",
       "    <tr style=\"text-align: right;\">\n",
       "      <th></th>\n",
       "      <th>monthlycharges</th>\n",
       "      <th>client_left</th>\n",
       "      <th>time_with_us</th>\n",
       "    </tr>\n",
       "  </thead>\n",
       "  <tbody>\n",
       "    <tr>\n",
       "      <th>count</th>\n",
       "      <td>7032.000000</td>\n",
       "      <td>7032.000000</td>\n",
       "      <td>7032.000000</td>\n",
       "    </tr>\n",
       "    <tr>\n",
       "      <th>mean</th>\n",
       "      <td>64.798208</td>\n",
       "      <td>0.265785</td>\n",
       "      <td>987.538538</td>\n",
       "    </tr>\n",
       "    <tr>\n",
       "      <th>std</th>\n",
       "      <td>30.085974</td>\n",
       "      <td>0.441782</td>\n",
       "      <td>747.153663</td>\n",
       "    </tr>\n",
       "    <tr>\n",
       "      <th>min</th>\n",
       "      <td>18.250000</td>\n",
       "      <td>0.000000</td>\n",
       "      <td>30.000000</td>\n",
       "    </tr>\n",
       "    <tr>\n",
       "      <th>25%</th>\n",
       "      <td>35.587500</td>\n",
       "      <td>0.000000</td>\n",
       "      <td>275.000000</td>\n",
       "    </tr>\n",
       "    <tr>\n",
       "      <th>50%</th>\n",
       "      <td>70.350000</td>\n",
       "      <td>0.000000</td>\n",
       "      <td>883.000000</td>\n",
       "    </tr>\n",
       "    <tr>\n",
       "      <th>75%</th>\n",
       "      <td>89.862500</td>\n",
       "      <td>1.000000</td>\n",
       "      <td>1676.000000</td>\n",
       "    </tr>\n",
       "    <tr>\n",
       "      <th>max</th>\n",
       "      <td>118.750000</td>\n",
       "      <td>1.000000</td>\n",
       "      <td>2191.000000</td>\n",
       "    </tr>\n",
       "  </tbody>\n",
       "</table>\n",
       "</div>"
      ],
      "text/plain": [
       "       monthlycharges  client_left  time_with_us\n",
       "count     7032.000000  7032.000000   7032.000000\n",
       "mean        64.798208     0.265785    987.538538\n",
       "std         30.085974     0.441782    747.153663\n",
       "min         18.250000     0.000000     30.000000\n",
       "25%         35.587500     0.000000    275.000000\n",
       "50%         70.350000     0.000000    883.000000\n",
       "75%         89.862500     1.000000   1676.000000\n",
       "max        118.750000     1.000000   2191.000000"
      ]
     },
     "execution_count": 13,
     "metadata": {},
     "output_type": "execute_result"
    }
   ],
   "source": [
    "contract.describe()"
   ]
  },
  {
   "cell_type": "markdown",
   "metadata": {},
   "source": [
    "### personal.csv"
   ]
  },
  {
   "cell_type": "markdown",
   "metadata": {},
   "source": []
  },
  {
   "cell_type": "markdown",
   "metadata": {},
   "source": [
    "**Вывод**\n",
    "\n",
    "В нашем датасете"
   ]
  },
  {
   "cell_type": "code",
   "execution_count": 14,
   "metadata": {
    "scrolled": true
   },
   "outputs": [
    {
     "data": {
      "text/html": [
       "<div>\n",
       "<style scoped>\n",
       "    .dataframe tbody tr th:only-of-type {\n",
       "        vertical-align: middle;\n",
       "    }\n",
       "\n",
       "    .dataframe tbody tr th {\n",
       "        vertical-align: top;\n",
       "    }\n",
       "\n",
       "    .dataframe thead th {\n",
       "        text-align: right;\n",
       "    }\n",
       "</style>\n",
       "<table border=\"1\" class=\"dataframe\">\n",
       "  <thead>\n",
       "    <tr style=\"text-align: right;\">\n",
       "      <th></th>\n",
       "      <th>customerID</th>\n",
       "      <th>gender</th>\n",
       "      <th>SeniorCitizen</th>\n",
       "      <th>Partner</th>\n",
       "      <th>Dependents</th>\n",
       "    </tr>\n",
       "  </thead>\n",
       "  <tbody>\n",
       "    <tr>\n",
       "      <th>0</th>\n",
       "      <td>7590-VHVEG</td>\n",
       "      <td>Female</td>\n",
       "      <td>0</td>\n",
       "      <td>Yes</td>\n",
       "      <td>No</td>\n",
       "    </tr>\n",
       "    <tr>\n",
       "      <th>1</th>\n",
       "      <td>5575-GNVDE</td>\n",
       "      <td>Male</td>\n",
       "      <td>0</td>\n",
       "      <td>No</td>\n",
       "      <td>No</td>\n",
       "    </tr>\n",
       "    <tr>\n",
       "      <th>2</th>\n",
       "      <td>3668-QPYBK</td>\n",
       "      <td>Male</td>\n",
       "      <td>0</td>\n",
       "      <td>No</td>\n",
       "      <td>No</td>\n",
       "    </tr>\n",
       "    <tr>\n",
       "      <th>3</th>\n",
       "      <td>7795-CFOCW</td>\n",
       "      <td>Male</td>\n",
       "      <td>0</td>\n",
       "      <td>No</td>\n",
       "      <td>No</td>\n",
       "    </tr>\n",
       "    <tr>\n",
       "      <th>4</th>\n",
       "      <td>9237-HQITU</td>\n",
       "      <td>Female</td>\n",
       "      <td>0</td>\n",
       "      <td>No</td>\n",
       "      <td>No</td>\n",
       "    </tr>\n",
       "  </tbody>\n",
       "</table>\n",
       "</div>"
      ],
      "text/plain": [
       "   customerID  gender  SeniorCitizen Partner Dependents\n",
       "0  7590-VHVEG  Female              0     Yes         No\n",
       "1  5575-GNVDE    Male              0      No         No\n",
       "2  3668-QPYBK    Male              0      No         No\n",
       "3  7795-CFOCW    Male              0      No         No\n",
       "4  9237-HQITU  Female              0      No         No"
      ]
     },
     "execution_count": 14,
     "metadata": {},
     "output_type": "execute_result"
    }
   ],
   "source": [
    "personal = pd.read_csv('/datasets/final_provider/personal.csv')\n",
    "personal.head()"
   ]
  },
  {
   "cell_type": "markdown",
   "metadata": {},
   "source": [
    "Приведем названия стобцов в нижний регистр"
   ]
  },
  {
   "cell_type": "code",
   "execution_count": 15,
   "metadata": {},
   "outputs": [],
   "source": [
    "personal.columns = personal.columns.str.lower()"
   ]
  },
  {
   "cell_type": "code",
   "execution_count": 16,
   "metadata": {},
   "outputs": [
    {
     "data": {
      "text/html": [
       "<div>\n",
       "<style scoped>\n",
       "    .dataframe tbody tr th:only-of-type {\n",
       "        vertical-align: middle;\n",
       "    }\n",
       "\n",
       "    .dataframe tbody tr th {\n",
       "        vertical-align: top;\n",
       "    }\n",
       "\n",
       "    .dataframe thead th {\n",
       "        text-align: right;\n",
       "    }\n",
       "</style>\n",
       "<table border=\"1\" class=\"dataframe\">\n",
       "  <thead>\n",
       "    <tr style=\"text-align: right;\">\n",
       "      <th></th>\n",
       "      <th>customerid</th>\n",
       "      <th>type</th>\n",
       "      <th>paperlessbilling</th>\n",
       "      <th>paymentmethod</th>\n",
       "      <th>monthlycharges</th>\n",
       "      <th>totalcharges</th>\n",
       "      <th>client_left</th>\n",
       "      <th>time_with_us</th>\n",
       "    </tr>\n",
       "  </thead>\n",
       "  <tbody>\n",
       "    <tr>\n",
       "      <th>2</th>\n",
       "      <td>3668-QPYBK</td>\n",
       "      <td>Month-to-month</td>\n",
       "      <td>Yes</td>\n",
       "      <td>Mailed check</td>\n",
       "      <td>53.85</td>\n",
       "      <td>108.15</td>\n",
       "      <td>1</td>\n",
       "      <td>61</td>\n",
       "    </tr>\n",
       "    <tr>\n",
       "      <th>4</th>\n",
       "      <td>9237-HQITU</td>\n",
       "      <td>Month-to-month</td>\n",
       "      <td>Yes</td>\n",
       "      <td>Electronic check</td>\n",
       "      <td>70.70</td>\n",
       "      <td>151.65</td>\n",
       "      <td>1</td>\n",
       "      <td>61</td>\n",
       "    </tr>\n",
       "    <tr>\n",
       "      <th>5</th>\n",
       "      <td>9305-CDSKC</td>\n",
       "      <td>Month-to-month</td>\n",
       "      <td>Yes</td>\n",
       "      <td>Electronic check</td>\n",
       "      <td>99.65</td>\n",
       "      <td>820.5</td>\n",
       "      <td>1</td>\n",
       "      <td>245</td>\n",
       "    </tr>\n",
       "    <tr>\n",
       "      <th>8</th>\n",
       "      <td>7892-POOKP</td>\n",
       "      <td>Month-to-month</td>\n",
       "      <td>Yes</td>\n",
       "      <td>Electronic check</td>\n",
       "      <td>104.80</td>\n",
       "      <td>3046.05</td>\n",
       "      <td>1</td>\n",
       "      <td>853</td>\n",
       "    </tr>\n",
       "    <tr>\n",
       "      <th>13</th>\n",
       "      <td>0280-XJGEX</td>\n",
       "      <td>Month-to-month</td>\n",
       "      <td>Yes</td>\n",
       "      <td>Bank transfer (automatic)</td>\n",
       "      <td>103.70</td>\n",
       "      <td>5036.3</td>\n",
       "      <td>1</td>\n",
       "      <td>1491</td>\n",
       "    </tr>\n",
       "  </tbody>\n",
       "</table>\n",
       "</div>"
      ],
      "text/plain": [
       "    customerid            type paperlessbilling              paymentmethod  \\\n",
       "2   3668-QPYBK  Month-to-month              Yes               Mailed check   \n",
       "4   9237-HQITU  Month-to-month              Yes           Electronic check   \n",
       "5   9305-CDSKC  Month-to-month              Yes           Electronic check   \n",
       "8   7892-POOKP  Month-to-month              Yes           Electronic check   \n",
       "13  0280-XJGEX  Month-to-month              Yes  Bank transfer (automatic)   \n",
       "\n",
       "    monthlycharges totalcharges  client_left  time_with_us  \n",
       "2            53.85       108.15            1            61  \n",
       "4            70.70       151.65            1            61  \n",
       "5            99.65        820.5            1           245  \n",
       "8           104.80      3046.05            1           853  \n",
       "13          103.70       5036.3            1          1491  "
      ]
     },
     "execution_count": 16,
     "metadata": {},
     "output_type": "execute_result"
    }
   ],
   "source": [
    "client_left = contract[contract['client_left'] == 1]\n",
    "client_left.head()"
   ]
  },
  {
   "cell_type": "code",
   "execution_count": 17,
   "metadata": {},
   "outputs": [
    {
     "data": {
      "text/plain": [
       "0"
      ]
     },
     "execution_count": 17,
     "metadata": {},
     "output_type": "execute_result"
    }
   ],
   "source": [
    "personal.duplicated().sum()"
   ]
  },
  {
   "cell_type": "code",
   "execution_count": 18,
   "metadata": {},
   "outputs": [
    {
     "name": "stdout",
     "output_type": "stream",
     "text": [
      "<class 'pandas.core.frame.DataFrame'>\n",
      "RangeIndex: 7043 entries, 0 to 7042\n",
      "Data columns (total 5 columns):\n",
      " #   Column         Non-Null Count  Dtype \n",
      "---  ------         --------------  ----- \n",
      " 0   customerid     7043 non-null   object\n",
      " 1   gender         7043 non-null   object\n",
      " 2   seniorcitizen  7043 non-null   int64 \n",
      " 3   partner        7043 non-null   object\n",
      " 4   dependents     7043 non-null   object\n",
      "dtypes: int64(1), object(4)\n",
      "memory usage: 275.2+ KB\n"
     ]
    }
   ],
   "source": [
    "personal.info()"
   ]
  },
  {
   "cell_type": "markdown",
   "metadata": {},
   "source": []
  },
  {
   "cell_type": "markdown",
   "metadata": {},
   "source": [
    "Для дальнейшей работы переведем столбец gender в численный формат. Для этого создадим столбец **is_male**"
   ]
  },
  {
   "cell_type": "code",
   "execution_count": 19,
   "metadata": {},
   "outputs": [],
   "source": [
    "def is_male(rows):\n",
    "    if rows['gender'] == 'Female':\n",
    "        return 0\n",
    "    else:\n",
    "        return 1"
   ]
  },
  {
   "cell_type": "code",
   "execution_count": 20,
   "metadata": {
    "scrolled": true
   },
   "outputs": [
    {
     "data": {
      "text/html": [
       "<div>\n",
       "<style scoped>\n",
       "    .dataframe tbody tr th:only-of-type {\n",
       "        vertical-align: middle;\n",
       "    }\n",
       "\n",
       "    .dataframe tbody tr th {\n",
       "        vertical-align: top;\n",
       "    }\n",
       "\n",
       "    .dataframe thead th {\n",
       "        text-align: right;\n",
       "    }\n",
       "</style>\n",
       "<table border=\"1\" class=\"dataframe\">\n",
       "  <thead>\n",
       "    <tr style=\"text-align: right;\">\n",
       "      <th></th>\n",
       "      <th>customerid</th>\n",
       "      <th>seniorcitizen</th>\n",
       "      <th>partner</th>\n",
       "      <th>dependents</th>\n",
       "      <th>is_male</th>\n",
       "    </tr>\n",
       "  </thead>\n",
       "  <tbody>\n",
       "    <tr>\n",
       "      <th>0</th>\n",
       "      <td>7590-VHVEG</td>\n",
       "      <td>0</td>\n",
       "      <td>Yes</td>\n",
       "      <td>No</td>\n",
       "      <td>0</td>\n",
       "    </tr>\n",
       "    <tr>\n",
       "      <th>1</th>\n",
       "      <td>5575-GNVDE</td>\n",
       "      <td>0</td>\n",
       "      <td>No</td>\n",
       "      <td>No</td>\n",
       "      <td>1</td>\n",
       "    </tr>\n",
       "    <tr>\n",
       "      <th>2</th>\n",
       "      <td>3668-QPYBK</td>\n",
       "      <td>0</td>\n",
       "      <td>No</td>\n",
       "      <td>No</td>\n",
       "      <td>1</td>\n",
       "    </tr>\n",
       "    <tr>\n",
       "      <th>3</th>\n",
       "      <td>7795-CFOCW</td>\n",
       "      <td>0</td>\n",
       "      <td>No</td>\n",
       "      <td>No</td>\n",
       "      <td>1</td>\n",
       "    </tr>\n",
       "    <tr>\n",
       "      <th>4</th>\n",
       "      <td>9237-HQITU</td>\n",
       "      <td>0</td>\n",
       "      <td>No</td>\n",
       "      <td>No</td>\n",
       "      <td>0</td>\n",
       "    </tr>\n",
       "  </tbody>\n",
       "</table>\n",
       "</div>"
      ],
      "text/plain": [
       "   customerid  seniorcitizen partner dependents  is_male\n",
       "0  7590-VHVEG              0     Yes         No        0\n",
       "1  5575-GNVDE              0      No         No        1\n",
       "2  3668-QPYBK              0      No         No        1\n",
       "3  7795-CFOCW              0      No         No        1\n",
       "4  9237-HQITU              0      No         No        0"
      ]
     },
     "execution_count": 20,
     "metadata": {},
     "output_type": "execute_result"
    }
   ],
   "source": [
    "personal['is_male'] = personal.apply(is_male, axis=1)\n",
    "personal = personal.drop('gender',axis=1)\n",
    "personal.head()"
   ]
  },
  {
   "cell_type": "markdown",
   "metadata": {},
   "source": [
    "Переведем все утвердительные ответы в 1, отрицательные в 0"
   ]
  },
  {
   "cell_type": "code",
   "execution_count": 21,
   "metadata": {},
   "outputs": [],
   "source": [
    "def partner(rows):\n",
    "    if rows['partner'] == 'Yes':\n",
    "        return 1\n",
    "    else:\n",
    "        return 0"
   ]
  },
  {
   "cell_type": "code",
   "execution_count": 22,
   "metadata": {},
   "outputs": [
    {
     "data": {
      "text/html": [
       "<div>\n",
       "<style scoped>\n",
       "    .dataframe tbody tr th:only-of-type {\n",
       "        vertical-align: middle;\n",
       "    }\n",
       "\n",
       "    .dataframe tbody tr th {\n",
       "        vertical-align: top;\n",
       "    }\n",
       "\n",
       "    .dataframe thead th {\n",
       "        text-align: right;\n",
       "    }\n",
       "</style>\n",
       "<table border=\"1\" class=\"dataframe\">\n",
       "  <thead>\n",
       "    <tr style=\"text-align: right;\">\n",
       "      <th></th>\n",
       "      <th>customerid</th>\n",
       "      <th>seniorcitizen</th>\n",
       "      <th>partner</th>\n",
       "      <th>dependents</th>\n",
       "      <th>is_male</th>\n",
       "    </tr>\n",
       "  </thead>\n",
       "  <tbody>\n",
       "    <tr>\n",
       "      <th>0</th>\n",
       "      <td>7590-VHVEG</td>\n",
       "      <td>0</td>\n",
       "      <td>1</td>\n",
       "      <td>No</td>\n",
       "      <td>0</td>\n",
       "    </tr>\n",
       "    <tr>\n",
       "      <th>1</th>\n",
       "      <td>5575-GNVDE</td>\n",
       "      <td>0</td>\n",
       "      <td>0</td>\n",
       "      <td>No</td>\n",
       "      <td>1</td>\n",
       "    </tr>\n",
       "    <tr>\n",
       "      <th>2</th>\n",
       "      <td>3668-QPYBK</td>\n",
       "      <td>0</td>\n",
       "      <td>0</td>\n",
       "      <td>No</td>\n",
       "      <td>1</td>\n",
       "    </tr>\n",
       "    <tr>\n",
       "      <th>3</th>\n",
       "      <td>7795-CFOCW</td>\n",
       "      <td>0</td>\n",
       "      <td>0</td>\n",
       "      <td>No</td>\n",
       "      <td>1</td>\n",
       "    </tr>\n",
       "    <tr>\n",
       "      <th>4</th>\n",
       "      <td>9237-HQITU</td>\n",
       "      <td>0</td>\n",
       "      <td>0</td>\n",
       "      <td>No</td>\n",
       "      <td>0</td>\n",
       "    </tr>\n",
       "  </tbody>\n",
       "</table>\n",
       "</div>"
      ],
      "text/plain": [
       "   customerid  seniorcitizen  partner dependents  is_male\n",
       "0  7590-VHVEG              0        1         No        0\n",
       "1  5575-GNVDE              0        0         No        1\n",
       "2  3668-QPYBK              0        0         No        1\n",
       "3  7795-CFOCW              0        0         No        1\n",
       "4  9237-HQITU              0        0         No        0"
      ]
     },
     "execution_count": 22,
     "metadata": {},
     "output_type": "execute_result"
    }
   ],
   "source": [
    "personal['partner'] = personal.apply(partner, axis=1)\n",
    "personal.head()"
   ]
  },
  {
   "cell_type": "code",
   "execution_count": 23,
   "metadata": {},
   "outputs": [],
   "source": [
    "def dependents(rows):\n",
    "    if rows['dependents'] == 'Yes':\n",
    "        return 1\n",
    "    else:\n",
    "        return 0"
   ]
  },
  {
   "cell_type": "code",
   "execution_count": 24,
   "metadata": {},
   "outputs": [
    {
     "data": {
      "text/html": [
       "<div>\n",
       "<style scoped>\n",
       "    .dataframe tbody tr th:only-of-type {\n",
       "        vertical-align: middle;\n",
       "    }\n",
       "\n",
       "    .dataframe tbody tr th {\n",
       "        vertical-align: top;\n",
       "    }\n",
       "\n",
       "    .dataframe thead th {\n",
       "        text-align: right;\n",
       "    }\n",
       "</style>\n",
       "<table border=\"1\" class=\"dataframe\">\n",
       "  <thead>\n",
       "    <tr style=\"text-align: right;\">\n",
       "      <th></th>\n",
       "      <th>customerid</th>\n",
       "      <th>seniorcitizen</th>\n",
       "      <th>partner</th>\n",
       "      <th>dependents</th>\n",
       "      <th>is_male</th>\n",
       "    </tr>\n",
       "  </thead>\n",
       "  <tbody>\n",
       "    <tr>\n",
       "      <th>0</th>\n",
       "      <td>7590-VHVEG</td>\n",
       "      <td>0</td>\n",
       "      <td>1</td>\n",
       "      <td>0</td>\n",
       "      <td>0</td>\n",
       "    </tr>\n",
       "    <tr>\n",
       "      <th>1</th>\n",
       "      <td>5575-GNVDE</td>\n",
       "      <td>0</td>\n",
       "      <td>0</td>\n",
       "      <td>0</td>\n",
       "      <td>1</td>\n",
       "    </tr>\n",
       "    <tr>\n",
       "      <th>2</th>\n",
       "      <td>3668-QPYBK</td>\n",
       "      <td>0</td>\n",
       "      <td>0</td>\n",
       "      <td>0</td>\n",
       "      <td>1</td>\n",
       "    </tr>\n",
       "    <tr>\n",
       "      <th>3</th>\n",
       "      <td>7795-CFOCW</td>\n",
       "      <td>0</td>\n",
       "      <td>0</td>\n",
       "      <td>0</td>\n",
       "      <td>1</td>\n",
       "    </tr>\n",
       "    <tr>\n",
       "      <th>4</th>\n",
       "      <td>9237-HQITU</td>\n",
       "      <td>0</td>\n",
       "      <td>0</td>\n",
       "      <td>0</td>\n",
       "      <td>0</td>\n",
       "    </tr>\n",
       "  </tbody>\n",
       "</table>\n",
       "</div>"
      ],
      "text/plain": [
       "   customerid  seniorcitizen  partner  dependents  is_male\n",
       "0  7590-VHVEG              0        1           0        0\n",
       "1  5575-GNVDE              0        0           0        1\n",
       "2  3668-QPYBK              0        0           0        1\n",
       "3  7795-CFOCW              0        0           0        1\n",
       "4  9237-HQITU              0        0           0        0"
      ]
     },
     "execution_count": 24,
     "metadata": {},
     "output_type": "execute_result"
    }
   ],
   "source": [
    "personal['dependents'] = personal.apply(dependents, axis=1)\n",
    "personal.head()"
   ]
  },
  {
   "cell_type": "code",
   "execution_count": 25,
   "metadata": {},
   "outputs": [
    {
     "data": {
      "text/html": [
       "<div>\n",
       "<style scoped>\n",
       "    .dataframe tbody tr th:only-of-type {\n",
       "        vertical-align: middle;\n",
       "    }\n",
       "\n",
       "    .dataframe tbody tr th {\n",
       "        vertical-align: top;\n",
       "    }\n",
       "\n",
       "    .dataframe thead th {\n",
       "        text-align: right;\n",
       "    }\n",
       "</style>\n",
       "<table border=\"1\" class=\"dataframe\">\n",
       "  <thead>\n",
       "    <tr style=\"text-align: right;\">\n",
       "      <th></th>\n",
       "      <th>seniorcitizen</th>\n",
       "      <th>partner</th>\n",
       "      <th>dependents</th>\n",
       "      <th>is_male</th>\n",
       "    </tr>\n",
       "  </thead>\n",
       "  <tbody>\n",
       "    <tr>\n",
       "      <th>count</th>\n",
       "      <td>7043.000000</td>\n",
       "      <td>7043.000000</td>\n",
       "      <td>7043.000000</td>\n",
       "      <td>7043.000000</td>\n",
       "    </tr>\n",
       "    <tr>\n",
       "      <th>mean</th>\n",
       "      <td>0.162147</td>\n",
       "      <td>0.483033</td>\n",
       "      <td>0.299588</td>\n",
       "      <td>0.504756</td>\n",
       "    </tr>\n",
       "    <tr>\n",
       "      <th>std</th>\n",
       "      <td>0.368612</td>\n",
       "      <td>0.499748</td>\n",
       "      <td>0.458110</td>\n",
       "      <td>0.500013</td>\n",
       "    </tr>\n",
       "    <tr>\n",
       "      <th>min</th>\n",
       "      <td>0.000000</td>\n",
       "      <td>0.000000</td>\n",
       "      <td>0.000000</td>\n",
       "      <td>0.000000</td>\n",
       "    </tr>\n",
       "    <tr>\n",
       "      <th>25%</th>\n",
       "      <td>0.000000</td>\n",
       "      <td>0.000000</td>\n",
       "      <td>0.000000</td>\n",
       "      <td>0.000000</td>\n",
       "    </tr>\n",
       "    <tr>\n",
       "      <th>50%</th>\n",
       "      <td>0.000000</td>\n",
       "      <td>0.000000</td>\n",
       "      <td>0.000000</td>\n",
       "      <td>1.000000</td>\n",
       "    </tr>\n",
       "    <tr>\n",
       "      <th>75%</th>\n",
       "      <td>0.000000</td>\n",
       "      <td>1.000000</td>\n",
       "      <td>1.000000</td>\n",
       "      <td>1.000000</td>\n",
       "    </tr>\n",
       "    <tr>\n",
       "      <th>max</th>\n",
       "      <td>1.000000</td>\n",
       "      <td>1.000000</td>\n",
       "      <td>1.000000</td>\n",
       "      <td>1.000000</td>\n",
       "    </tr>\n",
       "  </tbody>\n",
       "</table>\n",
       "</div>"
      ],
      "text/plain": [
       "       seniorcitizen      partner   dependents      is_male\n",
       "count    7043.000000  7043.000000  7043.000000  7043.000000\n",
       "mean        0.162147     0.483033     0.299588     0.504756\n",
       "std         0.368612     0.499748     0.458110     0.500013\n",
       "min         0.000000     0.000000     0.000000     0.000000\n",
       "25%         0.000000     0.000000     0.000000     0.000000\n",
       "50%         0.000000     0.000000     0.000000     1.000000\n",
       "75%         0.000000     1.000000     1.000000     1.000000\n",
       "max         1.000000     1.000000     1.000000     1.000000"
      ]
     },
     "execution_count": 25,
     "metadata": {},
     "output_type": "execute_result"
    }
   ],
   "source": [
    "personal.describe()"
   ]
  },
  {
   "cell_type": "markdown",
   "metadata": {},
   "source": [
    "###  **internet**"
   ]
  },
  {
   "cell_type": "code",
   "execution_count": 26,
   "metadata": {},
   "outputs": [
    {
     "data": {
      "text/html": [
       "<div>\n",
       "<style scoped>\n",
       "    .dataframe tbody tr th:only-of-type {\n",
       "        vertical-align: middle;\n",
       "    }\n",
       "\n",
       "    .dataframe tbody tr th {\n",
       "        vertical-align: top;\n",
       "    }\n",
       "\n",
       "    .dataframe thead th {\n",
       "        text-align: right;\n",
       "    }\n",
       "</style>\n",
       "<table border=\"1\" class=\"dataframe\">\n",
       "  <thead>\n",
       "    <tr style=\"text-align: right;\">\n",
       "      <th></th>\n",
       "      <th>customerID</th>\n",
       "      <th>InternetService</th>\n",
       "      <th>OnlineSecurity</th>\n",
       "      <th>OnlineBackup</th>\n",
       "      <th>DeviceProtection</th>\n",
       "      <th>TechSupport</th>\n",
       "      <th>StreamingTV</th>\n",
       "      <th>StreamingMovies</th>\n",
       "    </tr>\n",
       "  </thead>\n",
       "  <tbody>\n",
       "    <tr>\n",
       "      <th>0</th>\n",
       "      <td>7590-VHVEG</td>\n",
       "      <td>DSL</td>\n",
       "      <td>No</td>\n",
       "      <td>Yes</td>\n",
       "      <td>No</td>\n",
       "      <td>No</td>\n",
       "      <td>No</td>\n",
       "      <td>No</td>\n",
       "    </tr>\n",
       "    <tr>\n",
       "      <th>1</th>\n",
       "      <td>5575-GNVDE</td>\n",
       "      <td>DSL</td>\n",
       "      <td>Yes</td>\n",
       "      <td>No</td>\n",
       "      <td>Yes</td>\n",
       "      <td>No</td>\n",
       "      <td>No</td>\n",
       "      <td>No</td>\n",
       "    </tr>\n",
       "    <tr>\n",
       "      <th>2</th>\n",
       "      <td>3668-QPYBK</td>\n",
       "      <td>DSL</td>\n",
       "      <td>Yes</td>\n",
       "      <td>Yes</td>\n",
       "      <td>No</td>\n",
       "      <td>No</td>\n",
       "      <td>No</td>\n",
       "      <td>No</td>\n",
       "    </tr>\n",
       "    <tr>\n",
       "      <th>3</th>\n",
       "      <td>7795-CFOCW</td>\n",
       "      <td>DSL</td>\n",
       "      <td>Yes</td>\n",
       "      <td>No</td>\n",
       "      <td>Yes</td>\n",
       "      <td>Yes</td>\n",
       "      <td>No</td>\n",
       "      <td>No</td>\n",
       "    </tr>\n",
       "    <tr>\n",
       "      <th>4</th>\n",
       "      <td>9237-HQITU</td>\n",
       "      <td>Fiber optic</td>\n",
       "      <td>No</td>\n",
       "      <td>No</td>\n",
       "      <td>No</td>\n",
       "      <td>No</td>\n",
       "      <td>No</td>\n",
       "      <td>No</td>\n",
       "    </tr>\n",
       "  </tbody>\n",
       "</table>\n",
       "</div>"
      ],
      "text/plain": [
       "   customerID InternetService OnlineSecurity OnlineBackup DeviceProtection  \\\n",
       "0  7590-VHVEG             DSL             No          Yes               No   \n",
       "1  5575-GNVDE             DSL            Yes           No              Yes   \n",
       "2  3668-QPYBK             DSL            Yes          Yes               No   \n",
       "3  7795-CFOCW             DSL            Yes           No              Yes   \n",
       "4  9237-HQITU     Fiber optic             No           No               No   \n",
       "\n",
       "  TechSupport StreamingTV StreamingMovies  \n",
       "0          No          No              No  \n",
       "1          No          No              No  \n",
       "2          No          No              No  \n",
       "3         Yes          No              No  \n",
       "4          No          No              No  "
      ]
     },
     "execution_count": 26,
     "metadata": {},
     "output_type": "execute_result"
    }
   ],
   "source": [
    "internet = pd.read_csv('/datasets/final_provider/internet.csv')\n",
    "internet.head()"
   ]
  },
  {
   "cell_type": "code",
   "execution_count": 27,
   "metadata": {},
   "outputs": [
    {
     "data": {
      "text/plain": [
       "0"
      ]
     },
     "execution_count": 27,
     "metadata": {},
     "output_type": "execute_result"
    }
   ],
   "source": [
    "internet.duplicated().sum()"
   ]
  },
  {
   "cell_type": "code",
   "execution_count": 28,
   "metadata": {},
   "outputs": [
    {
     "name": "stdout",
     "output_type": "stream",
     "text": [
      "<class 'pandas.core.frame.DataFrame'>\n",
      "RangeIndex: 5517 entries, 0 to 5516\n",
      "Data columns (total 8 columns):\n",
      " #   Column            Non-Null Count  Dtype \n",
      "---  ------            --------------  ----- \n",
      " 0   customerID        5517 non-null   object\n",
      " 1   InternetService   5517 non-null   object\n",
      " 2   OnlineSecurity    5517 non-null   object\n",
      " 3   OnlineBackup      5517 non-null   object\n",
      " 4   DeviceProtection  5517 non-null   object\n",
      " 5   TechSupport       5517 non-null   object\n",
      " 6   StreamingTV       5517 non-null   object\n",
      " 7   StreamingMovies   5517 non-null   object\n",
      "dtypes: object(8)\n",
      "memory usage: 344.9+ KB\n"
     ]
    }
   ],
   "source": [
    "internet.info()"
   ]
  },
  {
   "cell_type": "code",
   "execution_count": 29,
   "metadata": {},
   "outputs": [],
   "source": [
    "internet.columns = internet.columns.str.lower()"
   ]
  },
  {
   "cell_type": "markdown",
   "metadata": {},
   "source": [
    "- Проверить на наличие дубликатов\n",
    "- Проверить на наличие пропусков\n",
    "- Привести форматы данных к необходимым\n",
    "- Выделить целевой признак\n",
    "- При необходимости добавить или удалить столбцы"
   ]
  },
  {
   "cell_type": "markdown",
   "metadata": {},
   "source": [
    "Так как у нас много столбцов с утвердительным или отрицательным ответами напишем функцию для всех столбцов сразу"
   ]
  },
  {
   "cell_type": "code",
   "execution_count": 30,
   "metadata": {},
   "outputs": [],
   "source": [
    "cols = ['onlinesecurity','onlinebackup','deviceprotection','techsupport','streamingtv','streamingmovies']\n",
    "for i in cols:\n",
    "    internet[i] = internet[i].map({'Yes':1,'No':0})"
   ]
  },
  {
   "cell_type": "markdown",
   "metadata": {},
   "source": [
    "Мы видим много предлагаемых опций и чтобы понять сколько было подключено у абонента таких опций добавим новый признак с количеством используемых опций"
   ]
  },
  {
   "cell_type": "code",
   "execution_count": 31,
   "metadata": {},
   "outputs": [],
   "source": [
    "internet['numofservices'] = internet[['onlinesecurity','onlinebackup','deviceprotection','techsupport','streamingtv','streamingmovies']].sum(axis=1).astype('int')\n"
   ]
  },
  {
   "cell_type": "code",
   "execution_count": 32,
   "metadata": {},
   "outputs": [
    {
     "data": {
      "text/html": [
       "<div>\n",
       "<style scoped>\n",
       "    .dataframe tbody tr th:only-of-type {\n",
       "        vertical-align: middle;\n",
       "    }\n",
       "\n",
       "    .dataframe tbody tr th {\n",
       "        vertical-align: top;\n",
       "    }\n",
       "\n",
       "    .dataframe thead th {\n",
       "        text-align: right;\n",
       "    }\n",
       "</style>\n",
       "<table border=\"1\" class=\"dataframe\">\n",
       "  <thead>\n",
       "    <tr style=\"text-align: right;\">\n",
       "      <th></th>\n",
       "      <th>customerid</th>\n",
       "      <th>internetservice</th>\n",
       "      <th>onlinesecurity</th>\n",
       "      <th>onlinebackup</th>\n",
       "      <th>deviceprotection</th>\n",
       "      <th>techsupport</th>\n",
       "      <th>streamingtv</th>\n",
       "      <th>streamingmovies</th>\n",
       "      <th>numofservices</th>\n",
       "    </tr>\n",
       "  </thead>\n",
       "  <tbody>\n",
       "    <tr>\n",
       "      <th>0</th>\n",
       "      <td>7590-VHVEG</td>\n",
       "      <td>DSL</td>\n",
       "      <td>0</td>\n",
       "      <td>1</td>\n",
       "      <td>0</td>\n",
       "      <td>0</td>\n",
       "      <td>0</td>\n",
       "      <td>0</td>\n",
       "      <td>1</td>\n",
       "    </tr>\n",
       "    <tr>\n",
       "      <th>1</th>\n",
       "      <td>5575-GNVDE</td>\n",
       "      <td>DSL</td>\n",
       "      <td>1</td>\n",
       "      <td>0</td>\n",
       "      <td>1</td>\n",
       "      <td>0</td>\n",
       "      <td>0</td>\n",
       "      <td>0</td>\n",
       "      <td>2</td>\n",
       "    </tr>\n",
       "    <tr>\n",
       "      <th>2</th>\n",
       "      <td>3668-QPYBK</td>\n",
       "      <td>DSL</td>\n",
       "      <td>1</td>\n",
       "      <td>1</td>\n",
       "      <td>0</td>\n",
       "      <td>0</td>\n",
       "      <td>0</td>\n",
       "      <td>0</td>\n",
       "      <td>2</td>\n",
       "    </tr>\n",
       "    <tr>\n",
       "      <th>3</th>\n",
       "      <td>7795-CFOCW</td>\n",
       "      <td>DSL</td>\n",
       "      <td>1</td>\n",
       "      <td>0</td>\n",
       "      <td>1</td>\n",
       "      <td>1</td>\n",
       "      <td>0</td>\n",
       "      <td>0</td>\n",
       "      <td>3</td>\n",
       "    </tr>\n",
       "    <tr>\n",
       "      <th>4</th>\n",
       "      <td>9237-HQITU</td>\n",
       "      <td>Fiber optic</td>\n",
       "      <td>0</td>\n",
       "      <td>0</td>\n",
       "      <td>0</td>\n",
       "      <td>0</td>\n",
       "      <td>0</td>\n",
       "      <td>0</td>\n",
       "      <td>0</td>\n",
       "    </tr>\n",
       "  </tbody>\n",
       "</table>\n",
       "</div>"
      ],
      "text/plain": [
       "   customerid internetservice  onlinesecurity  onlinebackup  deviceprotection  \\\n",
       "0  7590-VHVEG             DSL               0             1                 0   \n",
       "1  5575-GNVDE             DSL               1             0                 1   \n",
       "2  3668-QPYBK             DSL               1             1                 0   \n",
       "3  7795-CFOCW             DSL               1             0                 1   \n",
       "4  9237-HQITU     Fiber optic               0             0                 0   \n",
       "\n",
       "   techsupport  streamingtv  streamingmovies  numofservices  \n",
       "0            0            0                0              1  \n",
       "1            0            0                0              2  \n",
       "2            0            0                0              2  \n",
       "3            1            0                0              3  \n",
       "4            0            0                0              0  "
      ]
     },
     "execution_count": 32,
     "metadata": {},
     "output_type": "execute_result"
    }
   ],
   "source": [
    "internet.head()"
   ]
  },
  {
   "cell_type": "code",
   "execution_count": 33,
   "metadata": {},
   "outputs": [
    {
     "data": {
      "text/html": [
       "<div>\n",
       "<style scoped>\n",
       "    .dataframe tbody tr th:only-of-type {\n",
       "        vertical-align: middle;\n",
       "    }\n",
       "\n",
       "    .dataframe tbody tr th {\n",
       "        vertical-align: top;\n",
       "    }\n",
       "\n",
       "    .dataframe thead th {\n",
       "        text-align: right;\n",
       "    }\n",
       "</style>\n",
       "<table border=\"1\" class=\"dataframe\">\n",
       "  <thead>\n",
       "    <tr style=\"text-align: right;\">\n",
       "      <th></th>\n",
       "      <th>onlinesecurity</th>\n",
       "      <th>onlinebackup</th>\n",
       "      <th>deviceprotection</th>\n",
       "      <th>techsupport</th>\n",
       "      <th>streamingtv</th>\n",
       "      <th>streamingmovies</th>\n",
       "      <th>numofservices</th>\n",
       "    </tr>\n",
       "  </thead>\n",
       "  <tbody>\n",
       "    <tr>\n",
       "      <th>count</th>\n",
       "      <td>5517.000000</td>\n",
       "      <td>5517.000000</td>\n",
       "      <td>5517.000000</td>\n",
       "      <td>5517.000000</td>\n",
       "      <td>5517.000000</td>\n",
       "      <td>5517.000000</td>\n",
       "      <td>5517.000000</td>\n",
       "    </tr>\n",
       "    <tr>\n",
       "      <th>mean</th>\n",
       "      <td>0.365960</td>\n",
       "      <td>0.440276</td>\n",
       "      <td>0.439007</td>\n",
       "      <td>0.370491</td>\n",
       "      <td>0.490665</td>\n",
       "      <td>0.495197</td>\n",
       "      <td>2.601595</td>\n",
       "    </tr>\n",
       "    <tr>\n",
       "      <th>std</th>\n",
       "      <td>0.481742</td>\n",
       "      <td>0.496465</td>\n",
       "      <td>0.496311</td>\n",
       "      <td>0.482980</td>\n",
       "      <td>0.499958</td>\n",
       "      <td>0.500022</td>\n",
       "      <td>1.700483</td>\n",
       "    </tr>\n",
       "    <tr>\n",
       "      <th>min</th>\n",
       "      <td>0.000000</td>\n",
       "      <td>0.000000</td>\n",
       "      <td>0.000000</td>\n",
       "      <td>0.000000</td>\n",
       "      <td>0.000000</td>\n",
       "      <td>0.000000</td>\n",
       "      <td>0.000000</td>\n",
       "    </tr>\n",
       "    <tr>\n",
       "      <th>25%</th>\n",
       "      <td>0.000000</td>\n",
       "      <td>0.000000</td>\n",
       "      <td>0.000000</td>\n",
       "      <td>0.000000</td>\n",
       "      <td>0.000000</td>\n",
       "      <td>0.000000</td>\n",
       "      <td>1.000000</td>\n",
       "    </tr>\n",
       "    <tr>\n",
       "      <th>50%</th>\n",
       "      <td>0.000000</td>\n",
       "      <td>0.000000</td>\n",
       "      <td>0.000000</td>\n",
       "      <td>0.000000</td>\n",
       "      <td>0.000000</td>\n",
       "      <td>0.000000</td>\n",
       "      <td>3.000000</td>\n",
       "    </tr>\n",
       "    <tr>\n",
       "      <th>75%</th>\n",
       "      <td>1.000000</td>\n",
       "      <td>1.000000</td>\n",
       "      <td>1.000000</td>\n",
       "      <td>1.000000</td>\n",
       "      <td>1.000000</td>\n",
       "      <td>1.000000</td>\n",
       "      <td>4.000000</td>\n",
       "    </tr>\n",
       "    <tr>\n",
       "      <th>max</th>\n",
       "      <td>1.000000</td>\n",
       "      <td>1.000000</td>\n",
       "      <td>1.000000</td>\n",
       "      <td>1.000000</td>\n",
       "      <td>1.000000</td>\n",
       "      <td>1.000000</td>\n",
       "      <td>6.000000</td>\n",
       "    </tr>\n",
       "  </tbody>\n",
       "</table>\n",
       "</div>"
      ],
      "text/plain": [
       "       onlinesecurity  onlinebackup  deviceprotection  techsupport  \\\n",
       "count     5517.000000   5517.000000       5517.000000  5517.000000   \n",
       "mean         0.365960      0.440276          0.439007     0.370491   \n",
       "std          0.481742      0.496465          0.496311     0.482980   \n",
       "min          0.000000      0.000000          0.000000     0.000000   \n",
       "25%          0.000000      0.000000          0.000000     0.000000   \n",
       "50%          0.000000      0.000000          0.000000     0.000000   \n",
       "75%          1.000000      1.000000          1.000000     1.000000   \n",
       "max          1.000000      1.000000          1.000000     1.000000   \n",
       "\n",
       "       streamingtv  streamingmovies  numofservices  \n",
       "count  5517.000000      5517.000000    5517.000000  \n",
       "mean      0.490665         0.495197       2.601595  \n",
       "std       0.499958         0.500022       1.700483  \n",
       "min       0.000000         0.000000       0.000000  \n",
       "25%       0.000000         0.000000       1.000000  \n",
       "50%       0.000000         0.000000       3.000000  \n",
       "75%       1.000000         1.000000       4.000000  \n",
       "max       1.000000         1.000000       6.000000  "
      ]
     },
     "execution_count": 33,
     "metadata": {},
     "output_type": "execute_result"
    }
   ],
   "source": [
    "internet.describe()"
   ]
  },
  {
   "cell_type": "markdown",
   "metadata": {},
   "source": [
    "###  **phone**"
   ]
  },
  {
   "cell_type": "code",
   "execution_count": 34,
   "metadata": {},
   "outputs": [
    {
     "data": {
      "text/html": [
       "<div>\n",
       "<style scoped>\n",
       "    .dataframe tbody tr th:only-of-type {\n",
       "        vertical-align: middle;\n",
       "    }\n",
       "\n",
       "    .dataframe tbody tr th {\n",
       "        vertical-align: top;\n",
       "    }\n",
       "\n",
       "    .dataframe thead th {\n",
       "        text-align: right;\n",
       "    }\n",
       "</style>\n",
       "<table border=\"1\" class=\"dataframe\">\n",
       "  <thead>\n",
       "    <tr style=\"text-align: right;\">\n",
       "      <th></th>\n",
       "      <th>customerID</th>\n",
       "      <th>MultipleLines</th>\n",
       "    </tr>\n",
       "  </thead>\n",
       "  <tbody>\n",
       "    <tr>\n",
       "      <th>0</th>\n",
       "      <td>5575-GNVDE</td>\n",
       "      <td>No</td>\n",
       "    </tr>\n",
       "    <tr>\n",
       "      <th>1</th>\n",
       "      <td>3668-QPYBK</td>\n",
       "      <td>No</td>\n",
       "    </tr>\n",
       "    <tr>\n",
       "      <th>2</th>\n",
       "      <td>9237-HQITU</td>\n",
       "      <td>No</td>\n",
       "    </tr>\n",
       "    <tr>\n",
       "      <th>3</th>\n",
       "      <td>9305-CDSKC</td>\n",
       "      <td>Yes</td>\n",
       "    </tr>\n",
       "    <tr>\n",
       "      <th>4</th>\n",
       "      <td>1452-KIOVK</td>\n",
       "      <td>Yes</td>\n",
       "    </tr>\n",
       "  </tbody>\n",
       "</table>\n",
       "</div>"
      ],
      "text/plain": [
       "   customerID MultipleLines\n",
       "0  5575-GNVDE            No\n",
       "1  3668-QPYBK            No\n",
       "2  9237-HQITU            No\n",
       "3  9305-CDSKC           Yes\n",
       "4  1452-KIOVK           Yes"
      ]
     },
     "execution_count": 34,
     "metadata": {},
     "output_type": "execute_result"
    }
   ],
   "source": [
    "phone = pd.read_csv('/datasets/final_provider/phone.csv')\n",
    "phone.head()"
   ]
  },
  {
   "cell_type": "code",
   "execution_count": 35,
   "metadata": {},
   "outputs": [
    {
     "data": {
      "text/plain": [
       "0"
      ]
     },
     "execution_count": 35,
     "metadata": {},
     "output_type": "execute_result"
    }
   ],
   "source": [
    "phone.duplicated().sum()"
   ]
  },
  {
   "cell_type": "code",
   "execution_count": 36,
   "metadata": {},
   "outputs": [
    {
     "name": "stdout",
     "output_type": "stream",
     "text": [
      "<class 'pandas.core.frame.DataFrame'>\n",
      "RangeIndex: 6361 entries, 0 to 6360\n",
      "Data columns (total 2 columns):\n",
      " #   Column         Non-Null Count  Dtype \n",
      "---  ------         --------------  ----- \n",
      " 0   customerID     6361 non-null   object\n",
      " 1   MultipleLines  6361 non-null   object\n",
      "dtypes: object(2)\n",
      "memory usage: 99.5+ KB\n"
     ]
    }
   ],
   "source": [
    "phone.info()"
   ]
  },
  {
   "cell_type": "code",
   "execution_count": 37,
   "metadata": {},
   "outputs": [
    {
     "data": {
      "text/html": [
       "<div>\n",
       "<style scoped>\n",
       "    .dataframe tbody tr th:only-of-type {\n",
       "        vertical-align: middle;\n",
       "    }\n",
       "\n",
       "    .dataframe tbody tr th {\n",
       "        vertical-align: top;\n",
       "    }\n",
       "\n",
       "    .dataframe thead th {\n",
       "        text-align: right;\n",
       "    }\n",
       "</style>\n",
       "<table border=\"1\" class=\"dataframe\">\n",
       "  <thead>\n",
       "    <tr style=\"text-align: right;\">\n",
       "      <th></th>\n",
       "      <th>customerid</th>\n",
       "      <th>multiplelines</th>\n",
       "    </tr>\n",
       "  </thead>\n",
       "  <tbody>\n",
       "    <tr>\n",
       "      <th>0</th>\n",
       "      <td>5575-GNVDE</td>\n",
       "      <td>No</td>\n",
       "    </tr>\n",
       "    <tr>\n",
       "      <th>1</th>\n",
       "      <td>3668-QPYBK</td>\n",
       "      <td>No</td>\n",
       "    </tr>\n",
       "    <tr>\n",
       "      <th>2</th>\n",
       "      <td>9237-HQITU</td>\n",
       "      <td>No</td>\n",
       "    </tr>\n",
       "    <tr>\n",
       "      <th>3</th>\n",
       "      <td>9305-CDSKC</td>\n",
       "      <td>Yes</td>\n",
       "    </tr>\n",
       "    <tr>\n",
       "      <th>4</th>\n",
       "      <td>1452-KIOVK</td>\n",
       "      <td>Yes</td>\n",
       "    </tr>\n",
       "  </tbody>\n",
       "</table>\n",
       "</div>"
      ],
      "text/plain": [
       "   customerid multiplelines\n",
       "0  5575-GNVDE            No\n",
       "1  3668-QPYBK            No\n",
       "2  9237-HQITU            No\n",
       "3  9305-CDSKC           Yes\n",
       "4  1452-KIOVK           Yes"
      ]
     },
     "execution_count": 37,
     "metadata": {},
     "output_type": "execute_result"
    }
   ],
   "source": [
    "phone.columns = phone.columns.str.lower()\n",
    "phone.head()"
   ]
  },
  {
   "cell_type": "code",
   "execution_count": 38,
   "metadata": {},
   "outputs": [],
   "source": [
    "def multiplelines(rows):\n",
    "    if rows['multiplelines'] == 'Yes':\n",
    "        return 1\n",
    "    else:\n",
    "        return 0"
   ]
  },
  {
   "cell_type": "code",
   "execution_count": 39,
   "metadata": {},
   "outputs": [
    {
     "data": {
      "text/html": [
       "<div>\n",
       "<style scoped>\n",
       "    .dataframe tbody tr th:only-of-type {\n",
       "        vertical-align: middle;\n",
       "    }\n",
       "\n",
       "    .dataframe tbody tr th {\n",
       "        vertical-align: top;\n",
       "    }\n",
       "\n",
       "    .dataframe thead th {\n",
       "        text-align: right;\n",
       "    }\n",
       "</style>\n",
       "<table border=\"1\" class=\"dataframe\">\n",
       "  <thead>\n",
       "    <tr style=\"text-align: right;\">\n",
       "      <th></th>\n",
       "      <th>customerid</th>\n",
       "      <th>multiplelines</th>\n",
       "    </tr>\n",
       "  </thead>\n",
       "  <tbody>\n",
       "    <tr>\n",
       "      <th>0</th>\n",
       "      <td>5575-GNVDE</td>\n",
       "      <td>0</td>\n",
       "    </tr>\n",
       "    <tr>\n",
       "      <th>1</th>\n",
       "      <td>3668-QPYBK</td>\n",
       "      <td>0</td>\n",
       "    </tr>\n",
       "    <tr>\n",
       "      <th>2</th>\n",
       "      <td>9237-HQITU</td>\n",
       "      <td>0</td>\n",
       "    </tr>\n",
       "    <tr>\n",
       "      <th>3</th>\n",
       "      <td>9305-CDSKC</td>\n",
       "      <td>1</td>\n",
       "    </tr>\n",
       "    <tr>\n",
       "      <th>4</th>\n",
       "      <td>1452-KIOVK</td>\n",
       "      <td>1</td>\n",
       "    </tr>\n",
       "  </tbody>\n",
       "</table>\n",
       "</div>"
      ],
      "text/plain": [
       "   customerid  multiplelines\n",
       "0  5575-GNVDE              0\n",
       "1  3668-QPYBK              0\n",
       "2  9237-HQITU              0\n",
       "3  9305-CDSKC              1\n",
       "4  1452-KIOVK              1"
      ]
     },
     "execution_count": 39,
     "metadata": {},
     "output_type": "execute_result"
    }
   ],
   "source": [
    "phone['multiplelines'] = phone.apply(multiplelines, axis=1)\n",
    "phone.head()"
   ]
  },
  {
   "cell_type": "code",
   "execution_count": 40,
   "metadata": {
    "scrolled": true
   },
   "outputs": [
    {
     "data": {
      "text/html": [
       "<div>\n",
       "<style scoped>\n",
       "    .dataframe tbody tr th:only-of-type {\n",
       "        vertical-align: middle;\n",
       "    }\n",
       "\n",
       "    .dataframe tbody tr th {\n",
       "        vertical-align: top;\n",
       "    }\n",
       "\n",
       "    .dataframe thead th {\n",
       "        text-align: right;\n",
       "    }\n",
       "</style>\n",
       "<table border=\"1\" class=\"dataframe\">\n",
       "  <thead>\n",
       "    <tr style=\"text-align: right;\">\n",
       "      <th></th>\n",
       "      <th>multiplelines</th>\n",
       "    </tr>\n",
       "  </thead>\n",
       "  <tbody>\n",
       "    <tr>\n",
       "      <th>count</th>\n",
       "      <td>6361.000000</td>\n",
       "    </tr>\n",
       "    <tr>\n",
       "      <th>mean</th>\n",
       "      <td>0.467065</td>\n",
       "    </tr>\n",
       "    <tr>\n",
       "      <th>std</th>\n",
       "      <td>0.498953</td>\n",
       "    </tr>\n",
       "    <tr>\n",
       "      <th>min</th>\n",
       "      <td>0.000000</td>\n",
       "    </tr>\n",
       "    <tr>\n",
       "      <th>25%</th>\n",
       "      <td>0.000000</td>\n",
       "    </tr>\n",
       "    <tr>\n",
       "      <th>50%</th>\n",
       "      <td>0.000000</td>\n",
       "    </tr>\n",
       "    <tr>\n",
       "      <th>75%</th>\n",
       "      <td>1.000000</td>\n",
       "    </tr>\n",
       "    <tr>\n",
       "      <th>max</th>\n",
       "      <td>1.000000</td>\n",
       "    </tr>\n",
       "  </tbody>\n",
       "</table>\n",
       "</div>"
      ],
      "text/plain": [
       "       multiplelines\n",
       "count    6361.000000\n",
       "mean        0.467065\n",
       "std         0.498953\n",
       "min         0.000000\n",
       "25%         0.000000\n",
       "50%         0.000000\n",
       "75%         1.000000\n",
       "max         1.000000"
      ]
     },
     "execution_count": 40,
     "metadata": {},
     "output_type": "execute_result"
    }
   ],
   "source": [
    "phone.describe()"
   ]
  },
  {
   "cell_type": "markdown",
   "metadata": {},
   "source": [
    "# Вывод по подготовке данных\n",
    "\n"
   ]
  },
  {
   "cell_type": "markdown",
   "metadata": {},
   "source": [
    "В таблицах *contract* и *personal* изначально было 7043 строки. Мы сделали вывод, что 11 клиентов заключили договор в день выгрузки датасета и для нашей задачи не несут полезной информации и мы удалили данные по этим клиентам из первого датасета. В дальнейшем будем объединять все таблицы в один датасет по *customerid*"
   ]
  },
  {
   "cell_type": "markdown",
   "metadata": {},
   "source": [
    "## Анализ "
   ]
  },
  {
   "cell_type": "markdown",
   "metadata": {},
   "source": [
    "Для проведения анализа данных и дальнейшего решения задачи нам необходимо собрать наши данные воедино"
   ]
  },
  {
   "cell_type": "markdown",
   "metadata": {},
   "source": [
    "Для начала объединим *contract* и *personal*. Общий столбец у всех таблиц это *customerid*. Но как мы помним мы удалили данные по 11 клиентам, так что в результате должно остатьтся 7032 строки"
   ]
  },
  {
   "cell_type": "code",
   "execution_count": 41,
   "metadata": {},
   "outputs": [
    {
     "data": {
      "text/html": [
       "<div>\n",
       "<style scoped>\n",
       "    .dataframe tbody tr th:only-of-type {\n",
       "        vertical-align: middle;\n",
       "    }\n",
       "\n",
       "    .dataframe tbody tr th {\n",
       "        vertical-align: top;\n",
       "    }\n",
       "\n",
       "    .dataframe thead th {\n",
       "        text-align: right;\n",
       "    }\n",
       "</style>\n",
       "<table border=\"1\" class=\"dataframe\">\n",
       "  <thead>\n",
       "    <tr style=\"text-align: right;\">\n",
       "      <th></th>\n",
       "      <th>customerid</th>\n",
       "      <th>type</th>\n",
       "      <th>paperlessbilling</th>\n",
       "      <th>paymentmethod</th>\n",
       "      <th>monthlycharges</th>\n",
       "      <th>totalcharges</th>\n",
       "      <th>client_left</th>\n",
       "      <th>time_with_us</th>\n",
       "      <th>seniorcitizen</th>\n",
       "      <th>partner</th>\n",
       "      <th>dependents</th>\n",
       "      <th>is_male</th>\n",
       "    </tr>\n",
       "  </thead>\n",
       "  <tbody>\n",
       "    <tr>\n",
       "      <th>0</th>\n",
       "      <td>7590-VHVEG</td>\n",
       "      <td>Month-to-month</td>\n",
       "      <td>Yes</td>\n",
       "      <td>Electronic check</td>\n",
       "      <td>29.85</td>\n",
       "      <td>29.85</td>\n",
       "      <td>0</td>\n",
       "      <td>31</td>\n",
       "      <td>0</td>\n",
       "      <td>1</td>\n",
       "      <td>0</td>\n",
       "      <td>0</td>\n",
       "    </tr>\n",
       "    <tr>\n",
       "      <th>1</th>\n",
       "      <td>5575-GNVDE</td>\n",
       "      <td>One year</td>\n",
       "      <td>No</td>\n",
       "      <td>Mailed check</td>\n",
       "      <td>56.95</td>\n",
       "      <td>1889.5</td>\n",
       "      <td>0</td>\n",
       "      <td>1036</td>\n",
       "      <td>0</td>\n",
       "      <td>0</td>\n",
       "      <td>0</td>\n",
       "      <td>1</td>\n",
       "    </tr>\n",
       "    <tr>\n",
       "      <th>2</th>\n",
       "      <td>3668-QPYBK</td>\n",
       "      <td>Month-to-month</td>\n",
       "      <td>Yes</td>\n",
       "      <td>Mailed check</td>\n",
       "      <td>53.85</td>\n",
       "      <td>108.15</td>\n",
       "      <td>1</td>\n",
       "      <td>61</td>\n",
       "      <td>0</td>\n",
       "      <td>0</td>\n",
       "      <td>0</td>\n",
       "      <td>1</td>\n",
       "    </tr>\n",
       "    <tr>\n",
       "      <th>3</th>\n",
       "      <td>7795-CFOCW</td>\n",
       "      <td>One year</td>\n",
       "      <td>No</td>\n",
       "      <td>Bank transfer (automatic)</td>\n",
       "      <td>42.30</td>\n",
       "      <td>1840.75</td>\n",
       "      <td>0</td>\n",
       "      <td>1371</td>\n",
       "      <td>0</td>\n",
       "      <td>0</td>\n",
       "      <td>0</td>\n",
       "      <td>1</td>\n",
       "    </tr>\n",
       "    <tr>\n",
       "      <th>4</th>\n",
       "      <td>9237-HQITU</td>\n",
       "      <td>Month-to-month</td>\n",
       "      <td>Yes</td>\n",
       "      <td>Electronic check</td>\n",
       "      <td>70.70</td>\n",
       "      <td>151.65</td>\n",
       "      <td>1</td>\n",
       "      <td>61</td>\n",
       "      <td>0</td>\n",
       "      <td>0</td>\n",
       "      <td>0</td>\n",
       "      <td>0</td>\n",
       "    </tr>\n",
       "  </tbody>\n",
       "</table>\n",
       "</div>"
      ],
      "text/plain": [
       "   customerid            type paperlessbilling              paymentmethod  \\\n",
       "0  7590-VHVEG  Month-to-month              Yes           Electronic check   \n",
       "1  5575-GNVDE        One year               No               Mailed check   \n",
       "2  3668-QPYBK  Month-to-month              Yes               Mailed check   \n",
       "3  7795-CFOCW        One year               No  Bank transfer (automatic)   \n",
       "4  9237-HQITU  Month-to-month              Yes           Electronic check   \n",
       "\n",
       "   monthlycharges totalcharges  client_left  time_with_us  seniorcitizen  \\\n",
       "0           29.85        29.85            0            31              0   \n",
       "1           56.95       1889.5            0          1036              0   \n",
       "2           53.85       108.15            1            61              0   \n",
       "3           42.30      1840.75            0          1371              0   \n",
       "4           70.70       151.65            1            61              0   \n",
       "\n",
       "   partner  dependents  is_male  \n",
       "0        1           0        0  \n",
       "1        0           0        1  \n",
       "2        0           0        1  \n",
       "3        0           0        1  \n",
       "4        0           0        0  "
      ]
     },
     "execution_count": 41,
     "metadata": {},
     "output_type": "execute_result"
    }
   ],
   "source": [
    "personal_contract = contract.merge(personal, on=['customerid'], how='inner')\n",
    "personal_contract.head()"
   ]
  },
  {
   "cell_type": "markdown",
   "metadata": {},
   "source": [
    "Далее остальные"
   ]
  },
  {
   "cell_type": "code",
   "execution_count": 42,
   "metadata": {},
   "outputs": [
    {
     "name": "stdout",
     "output_type": "stream",
     "text": [
      "<class 'pandas.core.frame.DataFrame'>\n",
      "Int64Index: 7032 entries, 0 to 7031\n",
      "Data columns (total 21 columns):\n",
      " #   Column            Non-Null Count  Dtype  \n",
      "---  ------            --------------  -----  \n",
      " 0   customerid        7032 non-null   object \n",
      " 1   type              7032 non-null   object \n",
      " 2   paperlessbilling  7032 non-null   object \n",
      " 3   paymentmethod     7032 non-null   object \n",
      " 4   monthlycharges    7032 non-null   float64\n",
      " 5   totalcharges      7032 non-null   object \n",
      " 6   client_left       7032 non-null   int64  \n",
      " 7   time_with_us      7032 non-null   int64  \n",
      " 8   seniorcitizen     7032 non-null   int64  \n",
      " 9   partner           7032 non-null   int64  \n",
      " 10  dependents        7032 non-null   int64  \n",
      " 11  is_male           7032 non-null   int64  \n",
      " 12  internetservice   5512 non-null   object \n",
      " 13  onlinesecurity    5512 non-null   float64\n",
      " 14  onlinebackup      5512 non-null   float64\n",
      " 15  deviceprotection  5512 non-null   float64\n",
      " 16  techsupport       5512 non-null   float64\n",
      " 17  streamingtv       5512 non-null   float64\n",
      " 18  streamingmovies   5512 non-null   float64\n",
      " 19  numofservices     5512 non-null   float64\n",
      " 20  multiplelines     6352 non-null   float64\n",
      "dtypes: float64(9), int64(6), object(6)\n",
      "memory usage: 1.2+ MB\n"
     ]
    }
   ],
   "source": [
    "full_df = personal_contract.merge(internet, on=['customerid'], how='left').merge(phone, on=['customerid'], how='left')\n",
    "full_df.info()"
   ]
  },
  {
   "cell_type": "code",
   "execution_count": 43,
   "metadata": {
    "scrolled": true
   },
   "outputs": [
    {
     "data": {
      "text/html": [
       "<div>\n",
       "<style scoped>\n",
       "    .dataframe tbody tr th:only-of-type {\n",
       "        vertical-align: middle;\n",
       "    }\n",
       "\n",
       "    .dataframe tbody tr th {\n",
       "        vertical-align: top;\n",
       "    }\n",
       "\n",
       "    .dataframe thead th {\n",
       "        text-align: right;\n",
       "    }\n",
       "</style>\n",
       "<table border=\"1\" class=\"dataframe\">\n",
       "  <thead>\n",
       "    <tr style=\"text-align: right;\">\n",
       "      <th></th>\n",
       "      <th>customerid</th>\n",
       "      <th>type</th>\n",
       "      <th>paperlessbilling</th>\n",
       "      <th>paymentmethod</th>\n",
       "      <th>monthlycharges</th>\n",
       "      <th>totalcharges</th>\n",
       "      <th>client_left</th>\n",
       "      <th>time_with_us</th>\n",
       "      <th>seniorcitizen</th>\n",
       "      <th>partner</th>\n",
       "      <th>...</th>\n",
       "      <th>internetservice</th>\n",
       "      <th>onlinesecurity</th>\n",
       "      <th>onlinebackup</th>\n",
       "      <th>deviceprotection</th>\n",
       "      <th>techsupport</th>\n",
       "      <th>streamingtv</th>\n",
       "      <th>streamingmovies</th>\n",
       "      <th>numofservices</th>\n",
       "      <th>multiplelines</th>\n",
       "      <th>totalcharcges</th>\n",
       "    </tr>\n",
       "  </thead>\n",
       "  <tbody>\n",
       "    <tr>\n",
       "      <th>0</th>\n",
       "      <td>7590-VHVEG</td>\n",
       "      <td>Month-to-month</td>\n",
       "      <td>Yes</td>\n",
       "      <td>Electronic check</td>\n",
       "      <td>29.85</td>\n",
       "      <td>29.85</td>\n",
       "      <td>0</td>\n",
       "      <td>31</td>\n",
       "      <td>0</td>\n",
       "      <td>1</td>\n",
       "      <td>...</td>\n",
       "      <td>DSL</td>\n",
       "      <td>0.0</td>\n",
       "      <td>1.0</td>\n",
       "      <td>0.0</td>\n",
       "      <td>0.0</td>\n",
       "      <td>0.0</td>\n",
       "      <td>0.0</td>\n",
       "      <td>1.0</td>\n",
       "      <td>NaN</td>\n",
       "      <td>29.85</td>\n",
       "    </tr>\n",
       "    <tr>\n",
       "      <th>1</th>\n",
       "      <td>5575-GNVDE</td>\n",
       "      <td>One year</td>\n",
       "      <td>No</td>\n",
       "      <td>Mailed check</td>\n",
       "      <td>56.95</td>\n",
       "      <td>1889.5</td>\n",
       "      <td>0</td>\n",
       "      <td>1036</td>\n",
       "      <td>0</td>\n",
       "      <td>0</td>\n",
       "      <td>...</td>\n",
       "      <td>DSL</td>\n",
       "      <td>1.0</td>\n",
       "      <td>0.0</td>\n",
       "      <td>1.0</td>\n",
       "      <td>0.0</td>\n",
       "      <td>0.0</td>\n",
       "      <td>0.0</td>\n",
       "      <td>2.0</td>\n",
       "      <td>0.0</td>\n",
       "      <td>1889.50</td>\n",
       "    </tr>\n",
       "    <tr>\n",
       "      <th>2</th>\n",
       "      <td>3668-QPYBK</td>\n",
       "      <td>Month-to-month</td>\n",
       "      <td>Yes</td>\n",
       "      <td>Mailed check</td>\n",
       "      <td>53.85</td>\n",
       "      <td>108.15</td>\n",
       "      <td>1</td>\n",
       "      <td>61</td>\n",
       "      <td>0</td>\n",
       "      <td>0</td>\n",
       "      <td>...</td>\n",
       "      <td>DSL</td>\n",
       "      <td>1.0</td>\n",
       "      <td>1.0</td>\n",
       "      <td>0.0</td>\n",
       "      <td>0.0</td>\n",
       "      <td>0.0</td>\n",
       "      <td>0.0</td>\n",
       "      <td>2.0</td>\n",
       "      <td>0.0</td>\n",
       "      <td>108.15</td>\n",
       "    </tr>\n",
       "    <tr>\n",
       "      <th>3</th>\n",
       "      <td>7795-CFOCW</td>\n",
       "      <td>One year</td>\n",
       "      <td>No</td>\n",
       "      <td>Bank transfer (automatic)</td>\n",
       "      <td>42.30</td>\n",
       "      <td>1840.75</td>\n",
       "      <td>0</td>\n",
       "      <td>1371</td>\n",
       "      <td>0</td>\n",
       "      <td>0</td>\n",
       "      <td>...</td>\n",
       "      <td>DSL</td>\n",
       "      <td>1.0</td>\n",
       "      <td>0.0</td>\n",
       "      <td>1.0</td>\n",
       "      <td>1.0</td>\n",
       "      <td>0.0</td>\n",
       "      <td>0.0</td>\n",
       "      <td>3.0</td>\n",
       "      <td>NaN</td>\n",
       "      <td>1840.75</td>\n",
       "    </tr>\n",
       "    <tr>\n",
       "      <th>4</th>\n",
       "      <td>9237-HQITU</td>\n",
       "      <td>Month-to-month</td>\n",
       "      <td>Yes</td>\n",
       "      <td>Electronic check</td>\n",
       "      <td>70.70</td>\n",
       "      <td>151.65</td>\n",
       "      <td>1</td>\n",
       "      <td>61</td>\n",
       "      <td>0</td>\n",
       "      <td>0</td>\n",
       "      <td>...</td>\n",
       "      <td>Fiber optic</td>\n",
       "      <td>0.0</td>\n",
       "      <td>0.0</td>\n",
       "      <td>0.0</td>\n",
       "      <td>0.0</td>\n",
       "      <td>0.0</td>\n",
       "      <td>0.0</td>\n",
       "      <td>0.0</td>\n",
       "      <td>0.0</td>\n",
       "      <td>151.65</td>\n",
       "    </tr>\n",
       "    <tr>\n",
       "      <th>5</th>\n",
       "      <td>9305-CDSKC</td>\n",
       "      <td>Month-to-month</td>\n",
       "      <td>Yes</td>\n",
       "      <td>Electronic check</td>\n",
       "      <td>99.65</td>\n",
       "      <td>820.5</td>\n",
       "      <td>1</td>\n",
       "      <td>245</td>\n",
       "      <td>0</td>\n",
       "      <td>0</td>\n",
       "      <td>...</td>\n",
       "      <td>Fiber optic</td>\n",
       "      <td>0.0</td>\n",
       "      <td>0.0</td>\n",
       "      <td>1.0</td>\n",
       "      <td>0.0</td>\n",
       "      <td>1.0</td>\n",
       "      <td>1.0</td>\n",
       "      <td>3.0</td>\n",
       "      <td>1.0</td>\n",
       "      <td>820.50</td>\n",
       "    </tr>\n",
       "    <tr>\n",
       "      <th>6</th>\n",
       "      <td>1452-KIOVK</td>\n",
       "      <td>Month-to-month</td>\n",
       "      <td>Yes</td>\n",
       "      <td>Credit card (automatic)</td>\n",
       "      <td>89.10</td>\n",
       "      <td>1949.4</td>\n",
       "      <td>0</td>\n",
       "      <td>671</td>\n",
       "      <td>0</td>\n",
       "      <td>0</td>\n",
       "      <td>...</td>\n",
       "      <td>Fiber optic</td>\n",
       "      <td>0.0</td>\n",
       "      <td>1.0</td>\n",
       "      <td>0.0</td>\n",
       "      <td>0.0</td>\n",
       "      <td>1.0</td>\n",
       "      <td>0.0</td>\n",
       "      <td>2.0</td>\n",
       "      <td>1.0</td>\n",
       "      <td>1949.40</td>\n",
       "    </tr>\n",
       "    <tr>\n",
       "      <th>7</th>\n",
       "      <td>6713-OKOMC</td>\n",
       "      <td>Month-to-month</td>\n",
       "      <td>No</td>\n",
       "      <td>Mailed check</td>\n",
       "      <td>29.75</td>\n",
       "      <td>301.9</td>\n",
       "      <td>0</td>\n",
       "      <td>306</td>\n",
       "      <td>0</td>\n",
       "      <td>0</td>\n",
       "      <td>...</td>\n",
       "      <td>DSL</td>\n",
       "      <td>1.0</td>\n",
       "      <td>0.0</td>\n",
       "      <td>0.0</td>\n",
       "      <td>0.0</td>\n",
       "      <td>0.0</td>\n",
       "      <td>0.0</td>\n",
       "      <td>1.0</td>\n",
       "      <td>NaN</td>\n",
       "      <td>301.90</td>\n",
       "    </tr>\n",
       "    <tr>\n",
       "      <th>8</th>\n",
       "      <td>7892-POOKP</td>\n",
       "      <td>Month-to-month</td>\n",
       "      <td>Yes</td>\n",
       "      <td>Electronic check</td>\n",
       "      <td>104.80</td>\n",
       "      <td>3046.05</td>\n",
       "      <td>1</td>\n",
       "      <td>853</td>\n",
       "      <td>0</td>\n",
       "      <td>1</td>\n",
       "      <td>...</td>\n",
       "      <td>Fiber optic</td>\n",
       "      <td>0.0</td>\n",
       "      <td>0.0</td>\n",
       "      <td>1.0</td>\n",
       "      <td>1.0</td>\n",
       "      <td>1.0</td>\n",
       "      <td>1.0</td>\n",
       "      <td>4.0</td>\n",
       "      <td>1.0</td>\n",
       "      <td>3046.05</td>\n",
       "    </tr>\n",
       "    <tr>\n",
       "      <th>9</th>\n",
       "      <td>6388-TABGU</td>\n",
       "      <td>One year</td>\n",
       "      <td>No</td>\n",
       "      <td>Bank transfer (automatic)</td>\n",
       "      <td>56.15</td>\n",
       "      <td>3487.95</td>\n",
       "      <td>0</td>\n",
       "      <td>1888</td>\n",
       "      <td>0</td>\n",
       "      <td>0</td>\n",
       "      <td>...</td>\n",
       "      <td>DSL</td>\n",
       "      <td>1.0</td>\n",
       "      <td>1.0</td>\n",
       "      <td>0.0</td>\n",
       "      <td>0.0</td>\n",
       "      <td>0.0</td>\n",
       "      <td>0.0</td>\n",
       "      <td>2.0</td>\n",
       "      <td>0.0</td>\n",
       "      <td>3487.95</td>\n",
       "    </tr>\n",
       "  </tbody>\n",
       "</table>\n",
       "<p>10 rows × 22 columns</p>\n",
       "</div>"
      ],
      "text/plain": [
       "   customerid            type paperlessbilling              paymentmethod  \\\n",
       "0  7590-VHVEG  Month-to-month              Yes           Electronic check   \n",
       "1  5575-GNVDE        One year               No               Mailed check   \n",
       "2  3668-QPYBK  Month-to-month              Yes               Mailed check   \n",
       "3  7795-CFOCW        One year               No  Bank transfer (automatic)   \n",
       "4  9237-HQITU  Month-to-month              Yes           Electronic check   \n",
       "5  9305-CDSKC  Month-to-month              Yes           Electronic check   \n",
       "6  1452-KIOVK  Month-to-month              Yes    Credit card (automatic)   \n",
       "7  6713-OKOMC  Month-to-month               No               Mailed check   \n",
       "8  7892-POOKP  Month-to-month              Yes           Electronic check   \n",
       "9  6388-TABGU        One year               No  Bank transfer (automatic)   \n",
       "\n",
       "   monthlycharges totalcharges  client_left  time_with_us  seniorcitizen  \\\n",
       "0           29.85        29.85            0            31              0   \n",
       "1           56.95       1889.5            0          1036              0   \n",
       "2           53.85       108.15            1            61              0   \n",
       "3           42.30      1840.75            0          1371              0   \n",
       "4           70.70       151.65            1            61              0   \n",
       "5           99.65        820.5            1           245              0   \n",
       "6           89.10       1949.4            0           671              0   \n",
       "7           29.75        301.9            0           306              0   \n",
       "8          104.80      3046.05            1           853              0   \n",
       "9           56.15      3487.95            0          1888              0   \n",
       "\n",
       "   partner  ...  internetservice  onlinesecurity onlinebackup  \\\n",
       "0        1  ...              DSL             0.0          1.0   \n",
       "1        0  ...              DSL             1.0          0.0   \n",
       "2        0  ...              DSL             1.0          1.0   \n",
       "3        0  ...              DSL             1.0          0.0   \n",
       "4        0  ...      Fiber optic             0.0          0.0   \n",
       "5        0  ...      Fiber optic             0.0          0.0   \n",
       "6        0  ...      Fiber optic             0.0          1.0   \n",
       "7        0  ...              DSL             1.0          0.0   \n",
       "8        1  ...      Fiber optic             0.0          0.0   \n",
       "9        0  ...              DSL             1.0          1.0   \n",
       "\n",
       "   deviceprotection  techsupport  streamingtv  streamingmovies  numofservices  \\\n",
       "0               0.0          0.0          0.0              0.0            1.0   \n",
       "1               1.0          0.0          0.0              0.0            2.0   \n",
       "2               0.0          0.0          0.0              0.0            2.0   \n",
       "3               1.0          1.0          0.0              0.0            3.0   \n",
       "4               0.0          0.0          0.0              0.0            0.0   \n",
       "5               1.0          0.0          1.0              1.0            3.0   \n",
       "6               0.0          0.0          1.0              0.0            2.0   \n",
       "7               0.0          0.0          0.0              0.0            1.0   \n",
       "8               1.0          1.0          1.0              1.0            4.0   \n",
       "9               0.0          0.0          0.0              0.0            2.0   \n",
       "\n",
       "   multiplelines  totalcharcges  \n",
       "0            NaN          29.85  \n",
       "1            0.0        1889.50  \n",
       "2            0.0         108.15  \n",
       "3            NaN        1840.75  \n",
       "4            0.0         151.65  \n",
       "5            1.0         820.50  \n",
       "6            1.0        1949.40  \n",
       "7            NaN         301.90  \n",
       "8            1.0        3046.05  \n",
       "9            0.0        3487.95  \n",
       "\n",
       "[10 rows x 22 columns]"
      ]
     },
     "execution_count": 43,
     "metadata": {},
     "output_type": "execute_result"
    }
   ],
   "source": [
    "full_df['totalcharcges'] = full_df['totalcharges'].astype(float)\n",
    "full_df.head(10)"
   ]
  },
  {
   "cell_type": "markdown",
   "metadata": {},
   "source": [
    "Собрали все таблицы в один датасет"
   ]
  },
  {
   "cell_type": "markdown",
   "metadata": {},
   "source": [
    "Посмотрим на распределение целевого признака"
   ]
  },
  {
   "cell_type": "code",
   "execution_count": 44,
   "metadata": {
    "scrolled": true
   },
   "outputs": [
    {
     "data": {
      "text/plain": [
       "(-1.25, 1.25, -1.25, 1.25)"
      ]
     },
     "execution_count": 44,
     "metadata": {},
     "output_type": "execute_result"
    },
    {
     "data": {
      "image/png": "[encoded data removed]",
      "text/plain": [
       "<Figure size 576x576 with 1 Axes>"
      ]
     },
     "metadata": {},
     "output_type": "display_data"
    }
   ],
   "source": [
    "contract.client_left.value_counts().plot(kind='pie', autopct='%1.1f%%', figsize=(8,8))\n",
    "plt.legend(['with_us', 'left'])\n",
    "plt.title('Распределение целевого признака')\n",
    "plt.tight_layout()\n",
    "plt.axis('off')"
   ]
  },
  {
   "cell_type": "markdown",
   "metadata": {},
   "source": [
    "В итоге ушли от оператора связи 26.6 % пользователей. Давайте посмотрим какие услуги они получали и сколько платили за предоставляемые услуги. Для начала выделим в отдельные датасеты ушедших и оставшихся клиентов"
   ]
  },
  {
   "cell_type": "code",
   "execution_count": 45,
   "metadata": {},
   "outputs": [],
   "source": [
    "full_df.loc[full_df['internetservice'].isnull(), 'type_service'] = 'only_internet'\n",
    "full_df.loc[full_df['multiplelines'].isnull(), 'type_service'] = 'only_phone'\n",
    "full_df['type_service'].fillna('both', inplace=True)\n",
    "full_df.fillna(-1, inplace=True)"
   ]
  },
  {
   "cell_type": "code",
   "execution_count": 46,
   "metadata": {
    "scrolled": true
   },
   "outputs": [
    {
     "name": "stdout",
     "output_type": "stream",
     "text": [
      "<class 'pandas.core.frame.DataFrame'>\n",
      "Int64Index: 1869 entries, 2 to 7030\n",
      "Data columns (total 23 columns):\n",
      " #   Column            Non-Null Count  Dtype  \n",
      "---  ------            --------------  -----  \n",
      " 0   customerid        1869 non-null   object \n",
      " 1   type              1869 non-null   object \n",
      " 2   paperlessbilling  1869 non-null   object \n",
      " 3   paymentmethod     1869 non-null   object \n",
      " 4   monthlycharges    1869 non-null   float64\n",
      " 5   totalcharges      1869 non-null   object \n",
      " 6   client_left       1869 non-null   int64  \n",
      " 7   time_with_us      1869 non-null   int64  \n",
      " 8   seniorcitizen     1869 non-null   int64  \n",
      " 9   partner           1869 non-null   int64  \n",
      " 10  dependents        1869 non-null   int64  \n",
      " 11  is_male           1869 non-null   int64  \n",
      " 12  internetservice   1869 non-null   object \n",
      " 13  onlinesecurity    1869 non-null   float64\n",
      " 14  onlinebackup      1869 non-null   float64\n",
      " 15  deviceprotection  1869 non-null   float64\n",
      " 16  techsupport       1869 non-null   float64\n",
      " 17  streamingtv       1869 non-null   float64\n",
      " 18  streamingmovies   1869 non-null   float64\n",
      " 19  numofservices     1869 non-null   float64\n",
      " 20  multiplelines     1869 non-null   float64\n",
      " 21  totalcharcges     1869 non-null   float64\n",
      " 22  type_service      1869 non-null   object \n",
      "dtypes: float64(10), int64(6), object(7)\n",
      "memory usage: 350.4+ KB\n"
     ]
    }
   ],
   "source": [
    "client_left = full_df[full_df['client_left'] == 1]\n",
    "client_left.info()"
   ]
  },
  {
   "cell_type": "code",
   "execution_count": 47,
   "metadata": {
    "scrolled": true
   },
   "outputs": [
    {
     "name": "stdout",
     "output_type": "stream",
     "text": [
      "<class 'pandas.core.frame.DataFrame'>\n",
      "Int64Index: 5163 entries, 0 to 7031\n",
      "Data columns (total 23 columns):\n",
      " #   Column            Non-Null Count  Dtype  \n",
      "---  ------            --------------  -----  \n",
      " 0   customerid        5163 non-null   object \n",
      " 1   type              5163 non-null   object \n",
      " 2   paperlessbilling  5163 non-null   object \n",
      " 3   paymentmethod     5163 non-null   object \n",
      " 4   monthlycharges    5163 non-null   float64\n",
      " 5   totalcharges      5163 non-null   object \n",
      " 6   client_left       5163 non-null   int64  \n",
      " 7   time_with_us      5163 non-null   int64  \n",
      " 8   seniorcitizen     5163 non-null   int64  \n",
      " 9   partner           5163 non-null   int64  \n",
      " 10  dependents        5163 non-null   int64  \n",
      " 11  is_male           5163 non-null   int64  \n",
      " 12  internetservice   5163 non-null   object \n",
      " 13  onlinesecurity    5163 non-null   float64\n",
      " 14  onlinebackup      5163 non-null   float64\n",
      " 15  deviceprotection  5163 non-null   float64\n",
      " 16  techsupport       5163 non-null   float64\n",
      " 17  streamingtv       5163 non-null   float64\n",
      " 18  streamingmovies   5163 non-null   float64\n",
      " 19  numofservices     5163 non-null   float64\n",
      " 20  multiplelines     5163 non-null   float64\n",
      " 21  totalcharcges     5163 non-null   float64\n",
      " 22  type_service      5163 non-null   object \n",
      "dtypes: float64(10), int64(6), object(7)\n",
      "memory usage: 968.1+ KB\n"
     ]
    }
   ],
   "source": [
    "still_client = full_df[full_df['client_left'] == 0]\n",
    "still_client.info()"
   ]
  },
  {
   "cell_type": "markdown",
   "metadata": {},
   "source": [
    "Выделим клиентов которые получали только интернет услуги, только телефонию и тех, кто получал обе услуги"
   ]
  },
  {
   "cell_type": "code",
   "execution_count": 48,
   "metadata": {},
   "outputs": [
    {
     "data": {
      "text/plain": [
       "(-1.25, 1.25, -1.25, 1.25)"
      ]
     },
     "execution_count": 48,
     "metadata": {},
     "output_type": "execute_result"
    },
    {
     "data": {
      "image/png": "[encoded data removed]",
      "text/plain": [
       "<Figure size 576x576 with 1 Axes>"
      ]
     },
     "metadata": {},
     "output_type": "display_data"
    }
   ],
   "source": [
    "full_df.type_service.value_counts().plot(kind='pie', autopct='%1.1f%%', figsize=(8,8))\n",
    "plt.legend(['only_internet', 'only_phone', 'both'])\n",
    "plt.title('Используемые услуги всех клиентов')\n",
    "plt.tight_layout()\n",
    "plt.axis('off')"
   ]
  },
  {
   "cell_type": "code",
   "execution_count": 49,
   "metadata": {},
   "outputs": [
    {
     "data": {
      "text/plain": [
       "(-1.25, 1.25, -1.25, 1.25)"
      ]
     },
     "execution_count": 49,
     "metadata": {},
     "output_type": "execute_result"
    },
    {
     "data": {
      "image/png": "[encoded data removed]",
      "text/plain": [
       "<Figure size 576x576 with 1 Axes>"
      ]
     },
     "metadata": {},
     "output_type": "display_data"
    }
   ],
   "source": [
    "client_left.type_service.value_counts().plot(kind='pie', autopct='%1.1f%%', figsize=(8,8))\n",
    "plt.legend(['only_internet', 'only_phone', 'both'])\n",
    "plt.title('Используемые услуги ушедших клиентов')\n",
    "plt.tight_layout()\n",
    "plt.axis('off')"
   ]
  },
  {
   "cell_type": "code",
   "execution_count": 50,
   "metadata": {},
   "outputs": [
    {
     "data": {
      "text/plain": [
       "(-1.25, 1.25, -1.25, 1.25)"
      ]
     },
     "execution_count": 50,
     "metadata": {},
     "output_type": "execute_result"
    },
    {
     "data": {
      "image/png": "[encoded data removed]",
      "text/plain": [
       "<Figure size 576x576 with 1 Axes>"
      ]
     },
     "metadata": {},
     "output_type": "display_data"
    }
   ],
   "source": [
    "still_client.type_service.value_counts().plot(kind='pie', autopct='%1.1f%%', figsize=(8,8))\n",
    "plt.legend(['only_internet', 'only_phone', 'both'])\n",
    "plt.title('Используемые услуги оставшихся клиентов')\n",
    "plt.tight_layout()\n",
    "plt.axis('off')"
   ]
  },
  {
   "cell_type": "code",
   "execution_count": 51,
   "metadata": {},
   "outputs": [
    {
     "data": {
      "text/plain": [
       "array(['Month-to-month', 'One year', 'Two year'], dtype=object)"
      ]
     },
     "execution_count": 51,
     "metadata": {},
     "output_type": "execute_result"
    }
   ],
   "source": [
    "full_df['type'].unique()"
   ]
  },
  {
   "cell_type": "markdown",
   "metadata": {},
   "source": [
    "Можно предположить, что ушедшим клиентам не объяснили, что услугами можно пользоваться не комплексом, а конкретно интернетом или телефонией"
   ]
  },
  {
   "cell_type": "markdown",
   "metadata": {},
   "source": [
    "Посмотрим как обстоят дела с оплатой услуг"
   ]
  },
  {
   "cell_type": "code",
   "execution_count": 52,
   "metadata": {},
   "outputs": [
    {
     "data": {
      "text/plain": [
       "(-1.25, 1.25, -1.25, 1.25)"
      ]
     },
     "execution_count": 52,
     "metadata": {},
     "output_type": "execute_result"
    },
    {
     "data": {
      "image/png": "[encoded data removed]",
      "text/plain": [
       "<Figure size 576x576 with 1 Axes>"
      ]
     },
     "metadata": {},
     "output_type": "display_data"
    }
   ],
   "source": [
    "full_df.type.value_counts().plot(kind='pie', autopct='%1.1f%%', figsize=(8,8))\n",
    "plt.legend(['Month-to-month', 'One year', 'Two year'])\n",
    "plt.title('Способ оплаты общий')\n",
    "plt.tight_layout()\n",
    "plt.axis('off')"
   ]
  },
  {
   "cell_type": "code",
   "execution_count": 53,
   "metadata": {},
   "outputs": [
    {
     "data": {
      "text/plain": [
       "(-1.25, 1.25, -1.25, 1.25)"
      ]
     },
     "execution_count": 53,
     "metadata": {},
     "output_type": "execute_result"
    },
    {
     "data": {
      "image/png": "[encoded data removed]",
      "text/plain": [
       "<Figure size 576x576 with 1 Axes>"
      ]
     },
     "metadata": {},
     "output_type": "display_data"
    }
   ],
   "source": [
    "client_left.type.value_counts().plot(kind='pie', autopct='%1.1f%%', figsize=(8,8))\n",
    "plt.legend(['Month-to-month', 'One year', 'Two year'])\n",
    "plt.title('Способ оплаты ушедших клиентов')\n",
    "plt.tight_layout()\n",
    "plt.axis('off')"
   ]
  },
  {
   "cell_type": "code",
   "execution_count": 54,
   "metadata": {},
   "outputs": [
    {
     "data": {
      "text/plain": [
       "(-1.25, 1.25, -1.25, 1.25)"
      ]
     },
     "execution_count": 54,
     "metadata": {},
     "output_type": "execute_result"
    },
    {
     "data": {
      "image/png": "[encoded data removed]",
      "text/plain": [
       "<Figure size 576x576 with 1 Axes>"
      ]
     },
     "metadata": {},
     "output_type": "display_data"
    }
   ],
   "source": [
    "still_client.type.value_counts().plot(kind='pie', autopct='%1.1f%%', figsize=(8,8))\n",
    "plt.legend(['Month-to-month', 'One year', 'Two year'])\n",
    "plt.title('Способ оплаты оставшихся клиентов')\n",
    "plt.tight_layout()\n",
    "plt.axis('off')"
   ]
  },
  {
   "cell_type": "markdown",
   "metadata": {},
   "source": [
    "Возможно ушедшим клиентам не предлагали возможности оплаты за год или два года"
   ]
  },
  {
   "cell_type": "markdown",
   "metadata": {},
   "source": [
    "## Обучение модели"
   ]
  },
  {
   "cell_type": "code",
   "execution_count": 55,
   "metadata": {
    "scrolled": true
   },
   "outputs": [
    {
     "data": {
      "text/html": [
       "<div>\n",
       "<style scoped>\n",
       "    .dataframe tbody tr th:only-of-type {\n",
       "        vertical-align: middle;\n",
       "    }\n",
       "\n",
       "    .dataframe tbody tr th {\n",
       "        vertical-align: top;\n",
       "    }\n",
       "\n",
       "    .dataframe thead th {\n",
       "        text-align: right;\n",
       "    }\n",
       "</style>\n",
       "<table border=\"1\" class=\"dataframe\">\n",
       "  <thead>\n",
       "    <tr style=\"text-align: right;\">\n",
       "      <th></th>\n",
       "      <th>paymentmethod</th>\n",
       "      <th>monthlycharges</th>\n",
       "      <th>totalcharges</th>\n",
       "      <th>client_left</th>\n",
       "      <th>time_with_us</th>\n",
       "      <th>seniorcitizen</th>\n",
       "      <th>partner</th>\n",
       "      <th>dependents</th>\n",
       "      <th>is_male</th>\n",
       "      <th>internetservice</th>\n",
       "      <th>onlinesecurity</th>\n",
       "      <th>onlinebackup</th>\n",
       "      <th>deviceprotection</th>\n",
       "      <th>techsupport</th>\n",
       "      <th>streamingtv</th>\n",
       "      <th>streamingmovies</th>\n",
       "      <th>numofservices</th>\n",
       "      <th>multiplelines</th>\n",
       "      <th>totalcharcges</th>\n",
       "      <th>type_service</th>\n",
       "    </tr>\n",
       "  </thead>\n",
       "  <tbody>\n",
       "    <tr>\n",
       "      <th>0</th>\n",
       "      <td>Electronic check</td>\n",
       "      <td>29.85</td>\n",
       "      <td>29.85</td>\n",
       "      <td>0</td>\n",
       "      <td>31</td>\n",
       "      <td>0</td>\n",
       "      <td>1</td>\n",
       "      <td>0</td>\n",
       "      <td>0</td>\n",
       "      <td>DSL</td>\n",
       "      <td>0.0</td>\n",
       "      <td>1.0</td>\n",
       "      <td>0.0</td>\n",
       "      <td>0.0</td>\n",
       "      <td>0.0</td>\n",
       "      <td>0.0</td>\n",
       "      <td>1.0</td>\n",
       "      <td>-1.0</td>\n",
       "      <td>29.85</td>\n",
       "      <td>only_phone</td>\n",
       "    </tr>\n",
       "    <tr>\n",
       "      <th>1</th>\n",
       "      <td>Mailed check</td>\n",
       "      <td>56.95</td>\n",
       "      <td>1889.5</td>\n",
       "      <td>0</td>\n",
       "      <td>1036</td>\n",
       "      <td>0</td>\n",
       "      <td>0</td>\n",
       "      <td>0</td>\n",
       "      <td>1</td>\n",
       "      <td>DSL</td>\n",
       "      <td>1.0</td>\n",
       "      <td>0.0</td>\n",
       "      <td>1.0</td>\n",
       "      <td>0.0</td>\n",
       "      <td>0.0</td>\n",
       "      <td>0.0</td>\n",
       "      <td>2.0</td>\n",
       "      <td>0.0</td>\n",
       "      <td>1889.50</td>\n",
       "      <td>both</td>\n",
       "    </tr>\n",
       "    <tr>\n",
       "      <th>2</th>\n",
       "      <td>Mailed check</td>\n",
       "      <td>53.85</td>\n",
       "      <td>108.15</td>\n",
       "      <td>1</td>\n",
       "      <td>61</td>\n",
       "      <td>0</td>\n",
       "      <td>0</td>\n",
       "      <td>0</td>\n",
       "      <td>1</td>\n",
       "      <td>DSL</td>\n",
       "      <td>1.0</td>\n",
       "      <td>1.0</td>\n",
       "      <td>0.0</td>\n",
       "      <td>0.0</td>\n",
       "      <td>0.0</td>\n",
       "      <td>0.0</td>\n",
       "      <td>2.0</td>\n",
       "      <td>0.0</td>\n",
       "      <td>108.15</td>\n",
       "      <td>both</td>\n",
       "    </tr>\n",
       "    <tr>\n",
       "      <th>3</th>\n",
       "      <td>Bank transfer (automatic)</td>\n",
       "      <td>42.30</td>\n",
       "      <td>1840.75</td>\n",
       "      <td>0</td>\n",
       "      <td>1371</td>\n",
       "      <td>0</td>\n",
       "      <td>0</td>\n",
       "      <td>0</td>\n",
       "      <td>1</td>\n",
       "      <td>DSL</td>\n",
       "      <td>1.0</td>\n",
       "      <td>0.0</td>\n",
       "      <td>1.0</td>\n",
       "      <td>1.0</td>\n",
       "      <td>0.0</td>\n",
       "      <td>0.0</td>\n",
       "      <td>3.0</td>\n",
       "      <td>-1.0</td>\n",
       "      <td>1840.75</td>\n",
       "      <td>only_phone</td>\n",
       "    </tr>\n",
       "    <tr>\n",
       "      <th>4</th>\n",
       "      <td>Electronic check</td>\n",
       "      <td>70.70</td>\n",
       "      <td>151.65</td>\n",
       "      <td>1</td>\n",
       "      <td>61</td>\n",
       "      <td>0</td>\n",
       "      <td>0</td>\n",
       "      <td>0</td>\n",
       "      <td>0</td>\n",
       "      <td>Fiber optic</td>\n",
       "      <td>0.0</td>\n",
       "      <td>0.0</td>\n",
       "      <td>0.0</td>\n",
       "      <td>0.0</td>\n",
       "      <td>0.0</td>\n",
       "      <td>0.0</td>\n",
       "      <td>0.0</td>\n",
       "      <td>0.0</td>\n",
       "      <td>151.65</td>\n",
       "      <td>both</td>\n",
       "    </tr>\n",
       "  </tbody>\n",
       "</table>\n",
       "</div>"
      ],
      "text/plain": [
       "               paymentmethod  monthlycharges totalcharges  client_left  \\\n",
       "0           Electronic check           29.85        29.85            0   \n",
       "1               Mailed check           56.95       1889.5            0   \n",
       "2               Mailed check           53.85       108.15            1   \n",
       "3  Bank transfer (automatic)           42.30      1840.75            0   \n",
       "4           Electronic check           70.70       151.65            1   \n",
       "\n",
       "   time_with_us  seniorcitizen  partner  dependents  is_male internetservice  \\\n",
       "0            31              0        1           0        0             DSL   \n",
       "1          1036              0        0           0        1             DSL   \n",
       "2            61              0        0           0        1             DSL   \n",
       "3          1371              0        0           0        1             DSL   \n",
       "4            61              0        0           0        0     Fiber optic   \n",
       "\n",
       "   onlinesecurity  onlinebackup  deviceprotection  techsupport  streamingtv  \\\n",
       "0             0.0           1.0               0.0          0.0          0.0   \n",
       "1             1.0           0.0               1.0          0.0          0.0   \n",
       "2             1.0           1.0               0.0          0.0          0.0   \n",
       "3             1.0           0.0               1.0          1.0          0.0   \n",
       "4             0.0           0.0               0.0          0.0          0.0   \n",
       "\n",
       "   streamingmovies  numofservices  multiplelines  totalcharcges type_service  \n",
       "0              0.0            1.0           -1.0          29.85   only_phone  \n",
       "1              0.0            2.0            0.0        1889.50         both  \n",
       "2              0.0            2.0            0.0         108.15         both  \n",
       "3              0.0            3.0           -1.0        1840.75   only_phone  \n",
       "4              0.0            0.0            0.0         151.65         both  "
      ]
     },
     "execution_count": 55,
     "metadata": {},
     "output_type": "execute_result"
    }
   ],
   "source": [
    "full_data = full_df.iloc[:,3:]\n",
    "full_data.head()"
   ]
  },
  {
   "cell_type": "code",
   "execution_count": 56,
   "metadata": {
    "scrolled": false
   },
   "outputs": [
    {
     "name": "stdout",
     "output_type": "stream",
     "text": [
      "<class 'pandas.core.frame.DataFrame'>\n",
      "Int64Index: 7032 entries, 0 to 7031\n",
      "Data columns (total 20 columns):\n",
      " #   Column            Non-Null Count  Dtype  \n",
      "---  ------            --------------  -----  \n",
      " 0   paymentmethod     7032 non-null   object \n",
      " 1   monthlycharges    7032 non-null   float64\n",
      " 2   totalcharges      7032 non-null   object \n",
      " 3   client_left       7032 non-null   int64  \n",
      " 4   time_with_us      7032 non-null   int64  \n",
      " 5   seniorcitizen     7032 non-null   int64  \n",
      " 6   partner           7032 non-null   int64  \n",
      " 7   dependents        7032 non-null   int64  \n",
      " 8   is_male           7032 non-null   int64  \n",
      " 9   internetservice   7032 non-null   object \n",
      " 10  onlinesecurity    7032 non-null   float64\n",
      " 11  onlinebackup      7032 non-null   float64\n",
      " 12  deviceprotection  7032 non-null   float64\n",
      " 13  techsupport       7032 non-null   float64\n",
      " 14  streamingtv       7032 non-null   float64\n",
      " 15  streamingmovies   7032 non-null   float64\n",
      " 16  numofservices     7032 non-null   float64\n",
      " 17  multiplelines     7032 non-null   float64\n",
      " 18  totalcharcges     7032 non-null   float64\n",
      " 19  type_service      7032 non-null   object \n",
      "dtypes: float64(10), int64(6), object(4)\n",
      "memory usage: 1.1+ MB\n"
     ]
    }
   ],
   "source": [
    "full_data.info()"
   ]
  },
  {
   "cell_type": "markdown",
   "metadata": {},
   "source": [
    "Построим корреляцию Пирсона для числовых признаков"
   ]
  },
  {
   "cell_type": "code",
   "execution_count": 57,
   "metadata": {},
   "outputs": [],
   "source": [
    "number = full_data.drop(['paymentmethod', 'seniorcitizen', 'partner', 'dependents', 'is_male',\n",
    "       'internetservice', 'onlinesecurity', 'onlinebackup', 'deviceprotection',\n",
    "       'techsupport', 'streamingtv', 'streamingmovies', 'numofservices',\n",
    "       'multiplelines', 'type_service'], axis=1)"
   ]
  },
  {
   "cell_type": "code",
   "execution_count": 58,
   "metadata": {},
   "outputs": [
    {
     "data": {
      "text/html": [
       "<style  type=\"text/css\" >\n",
       "#T_334bf_row0_col0,#T_334bf_row0_col3,#T_334bf_row1_col1,#T_334bf_row2_col2,#T_334bf_row2_col3,#T_334bf_row3_col0,#T_334bf_row3_col2,#T_334bf_row3_col3{\n",
       "            color:  green;\n",
       "        }#T_334bf_row0_col1,#T_334bf_row0_col2,#T_334bf_row1_col0,#T_334bf_row1_col2,#T_334bf_row1_col3,#T_334bf_row2_col0,#T_334bf_row2_col1,#T_334bf_row3_col1{\n",
       "            color:  black;\n",
       "        }</style><table id=\"T_334bf_\" ><thead>    <tr>        <th class=\"blank level0\" ></th>        <th class=\"col_heading level0 col0\" >monthlycharges</th>        <th class=\"col_heading level0 col1\" >client_left</th>        <th class=\"col_heading level0 col2\" >time_with_us</th>        <th class=\"col_heading level0 col3\" >totalcharcges</th>    </tr></thead><tbody>\n",
       "                <tr>\n",
       "                        <th id=\"T_334bf_level0_row0\" class=\"row_heading level0 row0\" >monthlycharges</th>\n",
       "                        <td id=\"T_334bf_row0_col0\" class=\"data row0 col0\" >1.000000</td>\n",
       "                        <td id=\"T_334bf_row0_col1\" class=\"data row0 col1\" >0.192858</td>\n",
       "                        <td id=\"T_334bf_row0_col2\" class=\"data row0 col2\" >0.246715</td>\n",
       "                        <td id=\"T_334bf_row0_col3\" class=\"data row0 col3\" >0.651065</td>\n",
       "            </tr>\n",
       "            <tr>\n",
       "                        <th id=\"T_334bf_level0_row1\" class=\"row_heading level0 row1\" >client_left</th>\n",
       "                        <td id=\"T_334bf_row1_col0\" class=\"data row1 col0\" >0.192858</td>\n",
       "                        <td id=\"T_334bf_row1_col1\" class=\"data row1 col1\" >1.000000</td>\n",
       "                        <td id=\"T_334bf_row1_col2\" class=\"data row1 col2\" >-0.354496</td>\n",
       "                        <td id=\"T_334bf_row1_col3\" class=\"data row1 col3\" >-0.199484</td>\n",
       "            </tr>\n",
       "            <tr>\n",
       "                        <th id=\"T_334bf_level0_row2\" class=\"row_heading level0 row2\" >time_with_us</th>\n",
       "                        <td id=\"T_334bf_row2_col0\" class=\"data row2 col0\" >0.246715</td>\n",
       "                        <td id=\"T_334bf_row2_col1\" class=\"data row2 col1\" >-0.354496</td>\n",
       "                        <td id=\"T_334bf_row2_col2\" class=\"data row2 col2\" >1.000000</td>\n",
       "                        <td id=\"T_334bf_row2_col3\" class=\"data row2 col3\" >0.825811</td>\n",
       "            </tr>\n",
       "            <tr>\n",
       "                        <th id=\"T_334bf_level0_row3\" class=\"row_heading level0 row3\" >totalcharcges</th>\n",
       "                        <td id=\"T_334bf_row3_col0\" class=\"data row3 col0\" >0.651065</td>\n",
       "                        <td id=\"T_334bf_row3_col1\" class=\"data row3 col1\" >-0.199484</td>\n",
       "                        <td id=\"T_334bf_row3_col2\" class=\"data row3 col2\" >0.825811</td>\n",
       "                        <td id=\"T_334bf_row3_col3\" class=\"data row3 col3\" >1.000000</td>\n",
       "            </tr>\n",
       "    </tbody></table>"
      ],
      "text/plain": [
       "<pandas.io.formats.style.Styler at 0x7f6067681df0>"
      ]
     },
     "execution_count": 58,
     "metadata": {},
     "output_type": "execute_result"
    }
   ],
   "source": [
    "def color_values(val):\n",
    "    color = 'green' if ((val > 0.6) or (val < -0.6)) else 'black'\n",
    "    return 'color: %s' % color\n",
    "number_corr = number.corr()\n",
    "number_corr.style.applymap(color_values)"
   ]
  },
  {
   "cell_type": "code",
   "execution_count": 59,
   "metadata": {},
   "outputs": [
    {
     "data": {
      "text/plain": [
       "<AxesSubplot:>"
      ]
     },
     "execution_count": 59,
     "metadata": {},
     "output_type": "execute_result"
    },
    {
     "data": {
      "image/png": "[encoded data removed]",
      "text/plain": [
       "<Figure size 1120x1120 with 2 Axes>"
      ]
     },
     "metadata": {
      "needs_background": "light"
     },
     "output_type": "display_data"
    }
   ],
   "source": [
    "plt.figure(figsize=(14,14), dpi= 80)\n",
    "sns.heatmap(number.corr(),  cmap='RdYlGn', center=0, annot=True)"
   ]
  },
  {
   "cell_type": "markdown",
   "metadata": {},
   "source": [
    "Как мы видим общий платеж сильно зависит от времени после заключения договора между клиентом и оператом связи. Соответственно общий платеж также сильно зависит от месячного. А вот целевой признак мало зависим от вышеперечисленных признаков"
   ]
  },
  {
   "cell_type": "markdown",
   "metadata": {},
   "source": [
    "Для дальнейшей работы и обучения модели в том числе разделим наш датасет на выборки"
   ]
  },
  {
   "cell_type": "code",
   "execution_count": 60,
   "metadata": {
    "scrolled": true
   },
   "outputs": [],
   "source": [
    "features = full_data.drop(['client_left'], axis=1)\n",
    "target = full_data['client_left']"
   ]
  },
  {
   "cell_type": "code",
   "execution_count": 61,
   "metadata": {
    "scrolled": true
   },
   "outputs": [
    {
     "name": "stdout",
     "output_type": "stream",
     "text": [
      "<class 'pandas.core.frame.DataFrame'>\n",
      "Int64Index: 7032 entries, 0 to 7031\n",
      "Data columns (total 19 columns):\n",
      " #   Column            Non-Null Count  Dtype  \n",
      "---  ------            --------------  -----  \n",
      " 0   paymentmethod     7032 non-null   object \n",
      " 1   monthlycharges    7032 non-null   float64\n",
      " 2   totalcharges      7032 non-null   object \n",
      " 3   time_with_us      7032 non-null   int64  \n",
      " 4   seniorcitizen     7032 non-null   int64  \n",
      " 5   partner           7032 non-null   int64  \n",
      " 6   dependents        7032 non-null   int64  \n",
      " 7   is_male           7032 non-null   int64  \n",
      " 8   internetservice   7032 non-null   object \n",
      " 9   onlinesecurity    7032 non-null   float64\n",
      " 10  onlinebackup      7032 non-null   float64\n",
      " 11  deviceprotection  7032 non-null   float64\n",
      " 12  techsupport       7032 non-null   float64\n",
      " 13  streamingtv       7032 non-null   float64\n",
      " 14  streamingmovies   7032 non-null   float64\n",
      " 15  numofservices     7032 non-null   float64\n",
      " 16  multiplelines     7032 non-null   float64\n",
      " 17  totalcharcges     7032 non-null   float64\n",
      " 18  type_service      7032 non-null   object \n",
      "dtypes: float64(10), int64(5), object(4)\n",
      "memory usage: 1.1+ MB\n"
     ]
    }
   ],
   "source": [
    "features.info()"
   ]
  },
  {
   "cell_type": "code",
   "execution_count": 62,
   "metadata": {},
   "outputs": [],
   "source": [
    "cat_features = ['paymentmethod', 'totalcharges', 'internetservice',\n",
    "                'type_service']"
   ]
  },
  {
   "cell_type": "code",
   "execution_count": 63,
   "metadata": {},
   "outputs": [
    {
     "name": "stdout",
     "output_type": "stream",
     "text": [
      "Обучающая выборка: (5274, 19)\n",
      "(5274,)\n",
      "Тестовая выборка: (1758, 19)\n",
      "(1758,)\n"
     ]
    }
   ],
   "source": [
    "features_train, features_test, target_train, target_test = train_test_split(features, target, test_size = 0.25, random_state=171022)\n",
    "\n",
    "print('Обучающая выборка:', features_train.shape)\n",
    "print(target_train.shape)\n",
    "print('Тестовая выборка:', features_test.shape)\n",
    "print(target_test.shape)"
   ]
  },
  {
   "cell_type": "markdown",
   "metadata": {},
   "source": [
    "Возьмем 2 модели:\n",
    "\n",
    "- CatBoostClassifier\n",
    "- RandomForestClassifier"
   ]
  },
  {
   "cell_type": "markdown",
   "metadata": {},
   "source": [
    "###  Метод CatBoostClassifier"
   ]
  },
  {
   "cell_type": "markdown",
   "metadata": {},
   "source": [
    "Обучим модель методом CatBoostClassifier"
   ]
  },
  {
   "cell_type": "code",
   "execution_count": 64,
   "metadata": {},
   "outputs": [],
   "source": [
    "#catboost = CatBoostClassifier(loss_function='Logloss', random_seed=171022,silent=True)\n",
    "#\n",
    "#catboost_params = {\n",
    "# 'depth': [x for x in range(1,5)],\n",
    "# 'iterations': [x for x in range(100,1100, 100)],\n",
    "# 'learning_rate': [0.5, 0.6, 0.7],\n",
    "# 'l2_leaf_reg':[x for x in range(1,7)],\n",
    "#}\n",
    "\n",
    "\n",
    "\n",
    "#grid_search_catboost = GridSearchCV(catboost,\n",
    "#                                   catboost_params, \n",
    "#                                   verbose=3,\n",
    "#                                   cv=5,\n",
    "#                                   n_jobs=-1,\n",
    "#                                   scoring='roc_auc')\n",
    "\n",
    "\n",
    "#grid_search_catboost.fit(features_train, target_train)\n",
    "#grid_search_catboost.best_score_\n",
    "#grid_search_catboost.best_params_"
   ]
  },
  {
   "cell_type": "code",
   "execution_count": 65,
   "metadata": {
    "scrolled": true
   },
   "outputs": [
    {
     "name": "stdout",
     "output_type": "stream",
     "text": [
      "Fitting 5 folds for each of 1 candidates, totalling 5 fits\n",
      "[CV 1/5] END depth=3, iterations=500, l2_leaf_reg=1, learning_rate=0.6; total time=   2.6s\n",
      "[CV 2/5] END depth=3, iterations=500, l2_leaf_reg=1, learning_rate=0.6; total time=   2.6s\n",
      "[CV 3/5] END depth=3, iterations=500, l2_leaf_reg=1, learning_rate=0.6; total time=   2.6s\n",
      "[CV 4/5] END depth=3, iterations=500, l2_leaf_reg=1, learning_rate=0.6; total time=   2.6s\n",
      "[CV 5/5] END depth=3, iterations=500, l2_leaf_reg=1, learning_rate=0.6; total time=   2.6s\n"
     ]
    },
    {
     "data": {
      "text/plain": [
       "0.9170515179527807"
      ]
     },
     "execution_count": 65,
     "metadata": {},
     "output_type": "execute_result"
    }
   ],
   "source": [
    "catboost = CatBoostClassifier(random_seed=171022, silent=True)\n",
    "catboost_params = {\n",
    "    'depth': [3],\n",
    "    'iterations': [500],\n",
    "    'learning_rate': [0.6],\n",
    "    'l2_leaf_reg': [1],\n",
    "}\n",
    "\n",
    "grid_search_catboost = GridSearchCV(catboost,\n",
    "                                   catboost_params,\n",
    "                                   verbose=3,\n",
    "                                   cv=5,\n",
    "                                   n_jobs=-1,\n",
    "                                   scoring='roc_auc')\n",
    "grid_search_catboost.fit(features_train, target_train, cat_features=cat_features) \n",
    "grid_search_catboost.best_score_\n"
   ]
  },
  {
   "cell_type": "markdown",
   "metadata": {},
   "source": [
    "###  Метод RandomForestClassifier"
   ]
  },
  {
   "cell_type": "code",
   "execution_count": 66,
   "metadata": {},
   "outputs": [],
   "source": [
    "features_train = pd.get_dummies(features_train)"
   ]
  },
  {
   "cell_type": "code",
   "execution_count": 67,
   "metadata": {},
   "outputs": [],
   "source": [
    "#rfc = RandomForestClassifier(class_weight='balanced',\n",
    "#                            bootstrap=True,\n",
    "#                            random_state=171022)\n",
    "#\n",
    "#rfc_params = {\n",
    "#    'n_estimators': range(10, 200, 10),\n",
    "#    'max_depth': range(1,10),\n",
    "#    'criterion': ['gini', 'entropy'],\n",
    "#    'max_features': ['sqrt', 'log2']\n",
    "#}\n",
    "\n",
    "#grid_search_rfc = GridSearchCV(rfc,\n",
    "#                              rfc_params, \n",
    "#                               verbose=3,\n",
    "#                              cv=10,\n",
    "#                              n_jobs=-1,\n",
    "#                              scoring='roc_auc')\n",
    "\n",
    "#grid_search_rfc.fit(features_train, target_train)\n",
    "#grid_search_rfc.best_params_"
   ]
  },
  {
   "cell_type": "code",
   "execution_count": 68,
   "metadata": {
    "scrolled": true
   },
   "outputs": [
    {
     "name": "stdout",
     "output_type": "stream",
     "text": [
      "Fitting 10 folds for each of 1 candidates, totalling 10 fits\n",
      "[CV 1/10] END criterion=entropy, max_depth=8, max_features=sqrt, n_estimators=140; total time=   1.3s\n",
      "[CV 2/10] END criterion=entropy, max_depth=8, max_features=sqrt, n_estimators=140; total time=   1.2s\n",
      "[CV 3/10] END criterion=entropy, max_depth=8, max_features=sqrt, n_estimators=140; total time=   1.2s\n",
      "[CV 4/10] END criterion=entropy, max_depth=8, max_features=sqrt, n_estimators=140; total time=   1.2s\n",
      "[CV 5/10] END criterion=entropy, max_depth=8, max_features=sqrt, n_estimators=140; total time=   1.2s\n",
      "[CV 6/10] END criterion=entropy, max_depth=8, max_features=sqrt, n_estimators=140; total time=   1.2s\n",
      "[CV 7/10] END criterion=entropy, max_depth=8, max_features=sqrt, n_estimators=140; total time=   1.2s\n",
      "[CV 8/10] END criterion=entropy, max_depth=8, max_features=sqrt, n_estimators=140; total time=   1.3s\n",
      "[CV 9/10] END criterion=entropy, max_depth=8, max_features=sqrt, n_estimators=140; total time=   1.2s\n",
      "[CV 10/10] END criterion=entropy, max_depth=8, max_features=sqrt, n_estimators=140; total time=   1.3s\n"
     ]
    },
    {
     "data": {
      "text/plain": [
       "0.8180859881913285"
      ]
     },
     "execution_count": 68,
     "metadata": {},
     "output_type": "execute_result"
    }
   ],
   "source": [
    "rfc = RandomForestClassifier(class_weight='balanced',\n",
    "                            bootstrap=True,\n",
    "                            random_state=171022)\n",
    "rfc_params = {\n",
    "    'n_estimators': [140],\n",
    "    'max_depth': [8],\n",
    "    'criterion': ['entropy'],\n",
    "    'max_features': ['sqrt']\n",
    "}\n",
    "\n",
    "grid_search_rfc = GridSearchCV(rfc,\n",
    "                              rfc_params,\n",
    "                              verbose=3,\n",
    "                              cv=10,\n",
    "                              n_jobs=-1,\n",
    "                              scoring='roc_auc')\n",
    "\n",
    "grid_search_rfc.fit(features_train, target_train)\n",
    "grid_search_rfc.best_score_"
   ]
  },
  {
   "cell_type": "markdown",
   "metadata": {},
   "source": []
  },
  {
   "cell_type": "markdown",
   "metadata": {},
   "source": [
    "Применив для обоих моделей GridSearchCV мы нашли наилучшие гиперпараметры для моделей. Далее обучили модели и как мы видим модель CatBoostClassifier показала результат  лучше, чем RandomForestClassifier. Далее проверим CatBoostClassifier на тестовой выборке и посмотрим на Roc-кривую"
   ]
  },
  {
   "cell_type": "markdown",
   "metadata": {},
   "source": [
    "### Итог"
   ]
  },
  {
   "cell_type": "markdown",
   "metadata": {},
   "source": [
    "Просмотрим какой результат покажет модель CatBoostClassifier на тестовых данных"
   ]
  },
  {
   "cell_type": "code",
   "execution_count": 69,
   "metadata": {},
   "outputs": [],
   "source": [
    "predict_proba = grid_search_catboost.predict_proba(features_test)[:, 1]"
   ]
  },
  {
   "cell_type": "code",
   "execution_count": 70,
   "metadata": {
    "scrolled": false
   },
   "outputs": [
    {
     "data": {
      "text/plain": [
       "0.9200556549393759"
      ]
     },
     "execution_count": 70,
     "metadata": {},
     "output_type": "execute_result"
    }
   ],
   "source": [
    "roc_auc_score(target_test, predict_proba)"
   ]
  },
  {
   "cell_type": "markdown",
   "metadata": {},
   "source": [
    "В итоге на тестовых данных модель показала результат 0.92 на тестовых данных"
   ]
  },
  {
   "cell_type": "markdown",
   "metadata": {},
   "source": [
    "Чтобы выявить, как сильно наша модель отличается от случайной, посчитаем площадь под ROC-кривой — AUC-ROC"
   ]
  },
  {
   "cell_type": "code",
   "execution_count": 71,
   "metadata": {},
   "outputs": [
    {
     "data": {
      "image/png": "[encoded data removed]",
      "text/plain": [
       "<Figure size 432x288 with 1 Axes>"
      ]
     },
     "metadata": {
      "needs_background": "light"
     },
     "output_type": "display_data"
    }
   ],
   "source": [
    "fpr, tpr, thresholds = roc_curve(target_test, predict_proba) # < напишите код здесь >\n",
    "\n",
    "plt.figure()\n",
    "\n",
    "\n",
    "plt.plot(fpr, tpr)\n",
    "plt.xlim([0.0, 1.0])\n",
    "plt.ylim([0.0, 1.0])\n",
    "plt.xlabel('False Positive Rate')\n",
    "plt.ylabel('True Positive Rate')\n",
    "plt.title(\"ROC-кривая\")\n",
    "plt.show()"
   ]
  },
  {
   "cell_type": "markdown",
   "metadata": {},
   "source": [
    "Как мы видим из графика модель предсказывает не случайно."
   ]
  },
  {
   "cell_type": "markdown",
   "metadata": {},
   "source": [
    "# Вывод"
   ]
  },
  {
   "cell_type": "markdown",
   "metadata": {},
   "source": [
    "На данном этапе мы построили heatmap, чтобы посмотреть на корреляцию признаков. Такая визуализация поможет найти зависимость факторов и важна для анализа. Далее мы разделили датасет на выборки, чтобы обучить наши модели на обучающей выборке, а лучшую проверить на тестовой выборке. Так как перед нами стояла задача классификации нами были выбраны модели CatBoostClassifier и RandomForestClassifier. Далее была проведена работа по поиску гиперпараметров для каждой модели с применением GridSearchCV. После мы обучили модели на тренировочной выборке и выяснили, что модель CatBoostClassifier, без использования кодирования признаков, показала результат лучше, чем модель RandomForestClassifier. Чтобы проверить ни случайны ли предсказания модели мы построили Roc-кривую и убедились, что предсказания не случайны "
   ]
  },
  {
   "cell_type": "markdown",
   "metadata": {},
   "source": [
    "## Заключение"
   ]
  },
  {
   "cell_type": "markdown",
   "metadata": {},
   "source": [
    "В процессе работы над решением задачи были изучены и обработаны на предмет дубликатов, пропусков, преобразованы в нужный формат столбцы, выделен целевой признак, добавлены необходимые для анализа признаки и удалены ненужные столбцы.\n",
    "\n",
    "Далее был проведен анализ данных. А именно таблицы были объеденены в единый датасет, было рассмотрено распределение целевого признака, выделены расторгнувшие договор клиенты, определены услуги, которыми они пользовались и их стоимость. \n",
    "\n",
    "После были проведены работы по обучению модели. Здесь пришлось немного отойти от изначального плана действий и была рассмотрена корреляция численных показателей, таких как ежемесячные платежи независимо от типа оплаты, продолжительность действия контракта, общая сумма платежа клиента и факт наличия контракта с оператором связи. Далее были выделены признаки и целевой признак, датасет был разделен на обучающую и тренировочную выборки. После выделения выборок были подобраны гиперпараметры для модели CatBoostClassifier с использованием GridSearchCV, была обучена модель, указав в параметрах scoring='roc_auc' мы получили результат данной метрики. На данном этапе мы столкнулись с трудностями в том, что CatBoostClassifier может обрабатывать как категориальные так и численные признаки, а для RandomForestClassifier нам пришлось кодировать признаки с использованием функции get_dummies. Далее были подобраны гиперпараметры и была обучена модель RandomForestClassifier. По полученным результатам мы поняли, что модель CatBoostClassifier лучше справилась с поставленной задачей. Мы также сделали вывод, что CatBoostClassifier не прихотлива к входящим данным и может обрабатывать как категориальные, так и численные признаки, обучается и предсказывает модель быстрее своих конкурентов. Мы проверили ее на тестовой выборке. Результат на тестовой выборке получился 0.92, что очень хорошо. Далее построили Roc-кривую, чтобы убедиться, что результат не случайный. \n",
    "\n",
    "Подводя итоги работы был написан краткий вывод о проделанной работе"
   ]
  }
 ],
 "metadata": {
  "ExecuteTimeLog": [
   {
    "duration": 396,
    "start_time": "2022-10-20T07:26:26.514Z"
   },
   {
    "duration": 95,
    "start_time": "2022-10-20T07:26:27.684Z"
   },
   {
    "duration": 133,
    "start_time": "2022-10-20T07:28:31.989Z"
   },
   {
    "duration": 103,
    "start_time": "2022-10-20T07:28:45.389Z"
   },
   {
    "duration": 59,
    "start_time": "2022-10-20T07:35:14.449Z"
   },
   {
    "duration": 29,
    "start_time": "2022-10-20T07:47:48.121Z"
   },
   {
    "duration": 49,
    "start_time": "2022-10-20T08:24:14.018Z"
   },
   {
    "duration": 53,
    "start_time": "2022-10-20T08:25:18.220Z"
   },
   {
    "duration": 43,
    "start_time": "2022-10-20T08:25:58.409Z"
   },
   {
    "duration": 47,
    "start_time": "2022-10-20T08:27:25.300Z"
   },
   {
    "duration": 63,
    "start_time": "2022-10-20T08:30:18.790Z"
   },
   {
    "duration": 38,
    "start_time": "2022-10-20T08:32:12.129Z"
   },
   {
    "duration": 34,
    "start_time": "2022-10-20T08:32:35.549Z"
   },
   {
    "duration": 63,
    "start_time": "2022-10-20T08:33:47.014Z"
   },
   {
    "duration": 62,
    "start_time": "2022-10-20T09:02:58.515Z"
   },
   {
    "duration": 33,
    "start_time": "2022-10-20T09:03:37.415Z"
   },
   {
    "duration": 30,
    "start_time": "2022-10-20T09:03:51.455Z"
   },
   {
    "duration": 43,
    "start_time": "2022-10-20T09:04:08.435Z"
   },
   {
    "duration": 70,
    "start_time": "2022-10-20T09:05:09.954Z"
   },
   {
    "duration": 124,
    "start_time": "2022-10-20T09:06:09.205Z"
   },
   {
    "duration": 42,
    "start_time": "2022-10-20T09:06:15.599Z"
   },
   {
    "duration": 54,
    "start_time": "2022-10-20T09:06:37.429Z"
   },
   {
    "duration": 31,
    "start_time": "2022-10-20T10:47:10.266Z"
   },
   {
    "duration": 96,
    "start_time": "2022-10-20T10:47:22.256Z"
   },
   {
    "duration": 38,
    "start_time": "2022-10-20T10:52:41.841Z"
   },
   {
    "duration": 10,
    "start_time": "2022-10-20T10:55:07.372Z"
   },
   {
    "duration": 24,
    "start_time": "2022-10-20T10:55:18.062Z"
   },
   {
    "duration": 12,
    "start_time": "2022-10-20T10:57:52.481Z"
   },
   {
    "duration": 13,
    "start_time": "2022-10-20T10:58:34.841Z"
   },
   {
    "duration": 9,
    "start_time": "2022-10-20T11:00:44.831Z"
   },
   {
    "duration": 13,
    "start_time": "2022-10-20T11:01:27.156Z"
   },
   {
    "duration": 11,
    "start_time": "2022-10-20T11:02:20.171Z"
   },
   {
    "duration": 11,
    "start_time": "2022-10-20T11:03:14.781Z"
   },
   {
    "duration": 10,
    "start_time": "2022-10-20T11:04:04.341Z"
   },
   {
    "duration": 849,
    "start_time": "2022-10-20T11:04:43.021Z"
   },
   {
    "duration": 8,
    "start_time": "2022-10-20T11:04:54.762Z"
   },
   {
    "duration": 4,
    "start_time": "2022-10-20T11:05:06.291Z"
   },
   {
    "duration": 8,
    "start_time": "2022-10-20T11:05:17.391Z"
   },
   {
    "duration": 15,
    "start_time": "2022-10-20T11:07:35.181Z"
   },
   {
    "duration": 32,
    "start_time": "2022-10-20T11:10:20.669Z"
   },
   {
    "duration": 11,
    "start_time": "2022-10-20T11:11:05.466Z"
   },
   {
    "duration": 49,
    "start_time": "2022-10-20T11:11:41.757Z"
   },
   {
    "duration": 15,
    "start_time": "2022-10-20T11:12:08.316Z"
   },
   {
    "duration": 13,
    "start_time": "2022-10-20T11:15:01.191Z"
   },
   {
    "duration": 11,
    "start_time": "2022-10-20T11:15:09.696Z"
   },
   {
    "duration": 15,
    "start_time": "2022-10-20T11:15:44.416Z"
   },
   {
    "duration": 42,
    "start_time": "2022-10-20T11:16:52.816Z"
   },
   {
    "duration": 7,
    "start_time": "2022-10-20T11:17:31.956Z"
   },
   {
    "duration": 15,
    "start_time": "2022-10-20T11:18:39.216Z"
   },
   {
    "duration": 2,
    "start_time": "2022-10-20T11:20:00.271Z"
   },
   {
    "duration": 45,
    "start_time": "2022-10-20T11:20:01.596Z"
   },
   {
    "duration": 10,
    "start_time": "2022-10-20T11:20:07.882Z"
   },
   {
    "duration": 11,
    "start_time": "2022-10-20T11:20:10.896Z"
   },
   {
    "duration": 12,
    "start_time": "2022-10-20T11:20:14.276Z"
   },
   {
    "duration": 405,
    "start_time": "2022-10-21T12:52:54.321Z"
   },
   {
    "duration": 114,
    "start_time": "2022-10-21T12:52:57.405Z"
   },
   {
    "duration": 1631,
    "start_time": "2022-10-22T07:32:19.635Z"
   },
   {
    "duration": 364,
    "start_time": "2022-10-22T07:32:39.076Z"
   },
   {
    "duration": 313,
    "start_time": "2022-10-22T07:32:43.551Z"
   },
   {
    "duration": 20,
    "start_time": "2022-10-22T07:33:02.581Z"
   },
   {
    "duration": 34,
    "start_time": "2022-10-22T07:33:16.130Z"
   },
   {
    "duration": 13,
    "start_time": "2022-10-22T07:33:29.480Z"
   },
   {
    "duration": 4,
    "start_time": "2022-10-22T08:19:08.140Z"
   },
   {
    "duration": 62,
    "start_time": "2022-10-22T08:19:10.319Z"
   },
   {
    "duration": 12,
    "start_time": "2022-10-22T08:19:12.571Z"
   },
   {
    "duration": 14,
    "start_time": "2022-10-22T08:19:26.950Z"
   },
   {
    "duration": 12,
    "start_time": "2022-10-22T08:19:28.870Z"
   },
   {
    "duration": 10,
    "start_time": "2022-10-22T08:20:20.345Z"
   },
   {
    "duration": 12,
    "start_time": "2022-10-22T08:20:25.276Z"
   },
   {
    "duration": 9,
    "start_time": "2022-10-22T08:20:56.235Z"
   },
   {
    "duration": 9,
    "start_time": "2022-10-22T08:21:12.185Z"
   },
   {
    "duration": 9,
    "start_time": "2022-10-22T08:22:03.370Z"
   },
   {
    "duration": 9,
    "start_time": "2022-10-22T08:25:33.992Z"
   },
   {
    "duration": 12,
    "start_time": "2022-10-22T08:26:01.893Z"
   },
   {
    "duration": 13,
    "start_time": "2022-10-22T08:26:13.145Z"
   },
   {
    "duration": 1300,
    "start_time": "2022-10-22T08:26:24.185Z"
   },
   {
    "duration": 86,
    "start_time": "2022-10-22T08:26:25.488Z"
   },
   {
    "duration": 18,
    "start_time": "2022-10-22T08:26:25.575Z"
   },
   {
    "duration": 116,
    "start_time": "2022-10-22T08:26:25.596Z"
   },
   {
    "duration": 0,
    "start_time": "2022-10-22T08:26:25.715Z"
   },
   {
    "duration": 0,
    "start_time": "2022-10-22T08:26:25.724Z"
   },
   {
    "duration": 0,
    "start_time": "2022-10-22T08:26:25.725Z"
   },
   {
    "duration": 0,
    "start_time": "2022-10-22T08:26:25.726Z"
   },
   {
    "duration": 0,
    "start_time": "2022-10-22T08:26:25.728Z"
   },
   {
    "duration": 12,
    "start_time": "2022-10-22T08:26:34.565Z"
   },
   {
    "duration": 10,
    "start_time": "2022-10-22T08:27:26.245Z"
   },
   {
    "duration": 14,
    "start_time": "2022-10-22T08:27:30.764Z"
   },
   {
    "duration": 9,
    "start_time": "2022-10-22T08:28:30.895Z"
   },
   {
    "duration": 19,
    "start_time": "2022-10-22T08:56:22.486Z"
   },
   {
    "duration": 16,
    "start_time": "2022-10-22T08:56:50.217Z"
   },
   {
    "duration": 14,
    "start_time": "2022-10-22T08:58:49.156Z"
   },
   {
    "duration": 813,
    "start_time": "2022-10-22T09:04:41.451Z"
   },
   {
    "duration": 64,
    "start_time": "2022-10-22T09:07:51.741Z"
   },
   {
    "duration": 12,
    "start_time": "2022-10-22T09:13:17.776Z"
   },
   {
    "duration": 15,
    "start_time": "2022-10-22T09:13:22.236Z"
   },
   {
    "duration": 12,
    "start_time": "2022-10-22T09:13:58.856Z"
   },
   {
    "duration": 1132,
    "start_time": "2022-10-22T09:14:06.460Z"
   },
   {
    "duration": 67,
    "start_time": "2022-10-22T09:14:07.594Z"
   },
   {
    "duration": 11,
    "start_time": "2022-10-22T09:14:07.663Z"
   },
   {
    "duration": 13,
    "start_time": "2022-10-22T09:14:07.676Z"
   },
   {
    "duration": 116,
    "start_time": "2022-10-22T09:14:07.691Z"
   },
   {
    "duration": 0,
    "start_time": "2022-10-22T09:14:07.808Z"
   },
   {
    "duration": 0,
    "start_time": "2022-10-22T09:14:07.809Z"
   },
   {
    "duration": 0,
    "start_time": "2022-10-22T09:14:07.810Z"
   },
   {
    "duration": 0,
    "start_time": "2022-10-22T09:14:07.811Z"
   },
   {
    "duration": 0,
    "start_time": "2022-10-22T09:14:07.812Z"
   },
   {
    "duration": 0,
    "start_time": "2022-10-22T09:14:07.812Z"
   },
   {
    "duration": 13,
    "start_time": "2022-10-22T09:14:17.259Z"
   },
   {
    "duration": 13,
    "start_time": "2022-10-22T09:14:20.619Z"
   },
   {
    "duration": 15,
    "start_time": "2022-10-22T09:14:22.539Z"
   },
   {
    "duration": 764,
    "start_time": "2022-10-22T09:14:24.499Z"
   },
   {
    "duration": 15,
    "start_time": "2022-10-22T09:14:27.618Z"
   },
   {
    "duration": 532,
    "start_time": "2022-10-22T09:17:54.720Z"
   },
   {
    "duration": 7,
    "start_time": "2022-10-22T09:20:38.948Z"
   },
   {
    "duration": 6,
    "start_time": "2022-10-22T09:21:29.479Z"
   },
   {
    "duration": 7,
    "start_time": "2022-10-22T09:21:48.768Z"
   },
   {
    "duration": 10,
    "start_time": "2022-10-22T09:22:17.724Z"
   },
   {
    "duration": 8,
    "start_time": "2022-10-22T09:22:34.103Z"
   },
   {
    "duration": 16,
    "start_time": "2022-10-22T09:22:51.923Z"
   },
   {
    "duration": 1704,
    "start_time": "2022-10-22T09:23:57.348Z"
   },
   {
    "duration": 314,
    "start_time": "2022-10-22T09:24:07.931Z"
   },
   {
    "duration": 1098,
    "start_time": "2022-10-22T09:29:39.844Z"
   },
   {
    "duration": 64,
    "start_time": "2022-10-22T09:29:40.944Z"
   },
   {
    "duration": 11,
    "start_time": "2022-10-22T09:29:41.009Z"
   },
   {
    "duration": 12,
    "start_time": "2022-10-22T09:29:41.022Z"
   },
   {
    "duration": 12,
    "start_time": "2022-10-22T09:29:41.036Z"
   },
   {
    "duration": 13,
    "start_time": "2022-10-22T09:29:41.050Z"
   },
   {
    "duration": 3,
    "start_time": "2022-10-22T09:29:41.064Z"
   },
   {
    "duration": 1393,
    "start_time": "2022-10-22T09:29:41.068Z"
   },
   {
    "duration": 0,
    "start_time": "2022-10-22T09:29:42.462Z"
   },
   {
    "duration": 0,
    "start_time": "2022-10-22T09:29:42.464Z"
   },
   {
    "duration": 2,
    "start_time": "2022-10-22T09:29:58.985Z"
   },
   {
    "duration": 48,
    "start_time": "2022-10-22T09:30:02.344Z"
   },
   {
    "duration": 756,
    "start_time": "2022-10-22T09:30:07.664Z"
   },
   {
    "duration": 13,
    "start_time": "2022-10-22T09:30:12.944Z"
   },
   {
    "duration": 56,
    "start_time": "2022-10-22T09:38:02.578Z"
   },
   {
    "duration": 8,
    "start_time": "2022-10-22T09:40:08.259Z"
   },
   {
    "duration": 13,
    "start_time": "2022-10-22T09:40:46.973Z"
   },
   {
    "duration": 10,
    "start_time": "2022-10-22T09:43:33.424Z"
   },
   {
    "duration": 10,
    "start_time": "2022-10-22T09:43:55.903Z"
   },
   {
    "duration": 11,
    "start_time": "2022-10-22T09:44:04.604Z"
   },
   {
    "duration": 134,
    "start_time": "2022-10-22T09:52:40.653Z"
   },
   {
    "duration": 4,
    "start_time": "2022-10-22T09:55:08.447Z"
   },
   {
    "duration": 1164,
    "start_time": "2022-10-22T09:55:17.132Z"
   },
   {
    "duration": 66,
    "start_time": "2022-10-22T09:55:18.297Z"
   },
   {
    "duration": 3,
    "start_time": "2022-10-22T09:55:18.365Z"
   },
   {
    "duration": 12,
    "start_time": "2022-10-22T09:55:18.370Z"
   },
   {
    "duration": 8,
    "start_time": "2022-10-22T09:55:18.383Z"
   },
   {
    "duration": 13,
    "start_time": "2022-10-22T09:55:18.392Z"
   },
   {
    "duration": 1195,
    "start_time": "2022-10-22T09:55:18.406Z"
   },
   {
    "duration": 0,
    "start_time": "2022-10-22T09:55:19.602Z"
   },
   {
    "duration": 0,
    "start_time": "2022-10-22T09:55:19.604Z"
   },
   {
    "duration": 0,
    "start_time": "2022-10-22T09:55:19.605Z"
   },
   {
    "duration": 0,
    "start_time": "2022-10-22T09:55:19.607Z"
   },
   {
    "duration": 0,
    "start_time": "2022-10-22T09:55:19.608Z"
   },
   {
    "duration": 0,
    "start_time": "2022-10-22T09:55:19.610Z"
   },
   {
    "duration": 0,
    "start_time": "2022-10-22T09:55:19.611Z"
   },
   {
    "duration": 0,
    "start_time": "2022-10-22T09:55:19.613Z"
   },
   {
    "duration": 14,
    "start_time": "2022-10-22T09:55:29.311Z"
   },
   {
    "duration": 14,
    "start_time": "2022-10-22T09:55:43.931Z"
   },
   {
    "duration": 3,
    "start_time": "2022-10-22T09:55:50.571Z"
   },
   {
    "duration": 773,
    "start_time": "2022-10-22T09:56:15.492Z"
   },
   {
    "duration": 1100,
    "start_time": "2022-10-22T09:56:35.962Z"
   },
   {
    "duration": 66,
    "start_time": "2022-10-22T09:56:37.063Z"
   },
   {
    "duration": 4,
    "start_time": "2022-10-22T09:56:37.130Z"
   },
   {
    "duration": 13,
    "start_time": "2022-10-22T09:56:37.135Z"
   },
   {
    "duration": 7,
    "start_time": "2022-10-22T09:56:37.149Z"
   },
   {
    "duration": 14,
    "start_time": "2022-10-22T09:56:37.157Z"
   },
   {
    "duration": 12,
    "start_time": "2022-10-22T09:56:37.172Z"
   },
   {
    "duration": 39,
    "start_time": "2022-10-22T09:56:37.186Z"
   },
   {
    "duration": 3,
    "start_time": "2022-10-22T09:56:37.226Z"
   },
   {
    "duration": 45,
    "start_time": "2022-10-22T09:56:37.231Z"
   },
   {
    "duration": 776,
    "start_time": "2022-10-22T09:56:37.278Z"
   },
   {
    "duration": 27,
    "start_time": "2022-10-22T09:56:38.056Z"
   },
   {
    "duration": 8,
    "start_time": "2022-10-22T09:56:38.084Z"
   },
   {
    "duration": 35,
    "start_time": "2022-10-22T09:56:38.093Z"
   },
   {
    "duration": 45,
    "start_time": "2022-10-22T09:56:38.129Z"
   },
   {
    "duration": 73,
    "start_time": "2022-10-22T09:57:17.136Z"
   },
   {
    "duration": 3,
    "start_time": "2022-10-22T09:57:28.271Z"
   },
   {
    "duration": 3,
    "start_time": "2022-10-22T09:57:48.087Z"
   },
   {
    "duration": 8,
    "start_time": "2022-10-22T09:57:50.077Z"
   },
   {
    "duration": 7,
    "start_time": "2022-10-22T09:57:53.361Z"
   },
   {
    "duration": 10,
    "start_time": "2022-10-22T09:57:55.167Z"
   },
   {
    "duration": 3,
    "start_time": "2022-10-22T10:02:14.222Z"
   },
   {
    "duration": 98,
    "start_time": "2022-10-22T10:03:59.531Z"
   },
   {
    "duration": 3,
    "start_time": "2022-10-22T10:04:05.316Z"
   },
   {
    "duration": 50,
    "start_time": "2022-10-22T10:04:06.432Z"
   },
   {
    "duration": 1226,
    "start_time": "2022-10-23T09:56:09.519Z"
   },
   {
    "duration": 97,
    "start_time": "2022-10-23T09:56:10.747Z"
   },
   {
    "duration": 3,
    "start_time": "2022-10-23T09:56:10.845Z"
   },
   {
    "duration": 26,
    "start_time": "2022-10-23T09:56:10.851Z"
   },
   {
    "duration": 6,
    "start_time": "2022-10-23T09:56:10.879Z"
   },
   {
    "duration": 13,
    "start_time": "2022-10-23T09:56:10.886Z"
   },
   {
    "duration": 11,
    "start_time": "2022-10-23T09:56:10.901Z"
   },
   {
    "duration": 15,
    "start_time": "2022-10-23T09:56:10.913Z"
   },
   {
    "duration": 3,
    "start_time": "2022-10-23T09:56:10.929Z"
   },
   {
    "duration": 45,
    "start_time": "2022-10-23T09:56:10.933Z"
   },
   {
    "duration": 793,
    "start_time": "2022-10-23T09:56:10.980Z"
   },
   {
    "duration": 45,
    "start_time": "2022-10-23T09:56:11.775Z"
   },
   {
    "duration": 2,
    "start_time": "2022-10-23T09:56:11.822Z"
   },
   {
    "duration": 19,
    "start_time": "2022-10-23T09:56:11.827Z"
   },
   {
    "duration": 6,
    "start_time": "2022-10-23T09:56:11.848Z"
   },
   {
    "duration": 34,
    "start_time": "2022-10-23T09:56:11.856Z"
   },
   {
    "duration": 5,
    "start_time": "2022-10-23T09:56:11.892Z"
   },
   {
    "duration": 53,
    "start_time": "2022-10-23T09:56:11.898Z"
   },
   {
    "duration": 3,
    "start_time": "2022-10-23T10:01:58.418Z"
   },
   {
    "duration": 57,
    "start_time": "2022-10-23T10:02:44.532Z"
   },
   {
    "duration": 3,
    "start_time": "2022-10-23T10:08:50.063Z"
   },
   {
    "duration": 48,
    "start_time": "2022-10-23T10:08:51.193Z"
   },
   {
    "duration": 50,
    "start_time": "2022-10-23T10:13:57.059Z"
   },
   {
    "duration": 41,
    "start_time": "2022-10-23T10:15:09.370Z"
   },
   {
    "duration": 46,
    "start_time": "2022-10-23T10:15:24.520Z"
   },
   {
    "duration": 10,
    "start_time": "2022-10-23T10:16:02.910Z"
   },
   {
    "duration": 3,
    "start_time": "2022-10-23T10:16:33.989Z"
   },
   {
    "duration": 10,
    "start_time": "2022-10-23T10:16:42.219Z"
   },
   {
    "duration": 7,
    "start_time": "2022-10-23T10:17:14.870Z"
   },
   {
    "duration": 6,
    "start_time": "2022-10-23T10:17:26.438Z"
   },
   {
    "duration": 13,
    "start_time": "2022-10-23T10:19:18.183Z"
   },
   {
    "duration": 6,
    "start_time": "2022-10-23T10:20:29.087Z"
   },
   {
    "duration": 9,
    "start_time": "2022-10-23T10:20:38.539Z"
   },
   {
    "duration": 3,
    "start_time": "2022-10-23T10:24:41.730Z"
   },
   {
    "duration": 41,
    "start_time": "2022-10-23T10:25:12.850Z"
   },
   {
    "duration": 7,
    "start_time": "2022-10-23T10:25:24.540Z"
   },
   {
    "duration": 9,
    "start_time": "2022-10-23T10:25:31.160Z"
   },
   {
    "duration": 7,
    "start_time": "2022-10-23T10:26:16.748Z"
   },
   {
    "duration": 3,
    "start_time": "2022-10-23T10:26:23.481Z"
   },
   {
    "duration": 3,
    "start_time": "2022-10-23T10:27:07.930Z"
   },
   {
    "duration": 3,
    "start_time": "2022-10-23T10:27:24.059Z"
   },
   {
    "duration": 2,
    "start_time": "2022-10-23T10:27:44.011Z"
   },
   {
    "duration": 96,
    "start_time": "2022-10-23T10:28:21.800Z"
   },
   {
    "duration": 3,
    "start_time": "2022-10-23T10:29:01.410Z"
   },
   {
    "duration": 14,
    "start_time": "2022-10-23T10:29:13.520Z"
   },
   {
    "duration": 7,
    "start_time": "2022-10-23T10:29:47.067Z"
   },
   {
    "duration": 7,
    "start_time": "2022-10-23T10:30:00.070Z"
   },
   {
    "duration": 3,
    "start_time": "2022-10-23T10:30:01.703Z"
   },
   {
    "duration": 17,
    "start_time": "2022-10-23T10:30:04.267Z"
   },
   {
    "duration": 45,
    "start_time": "2022-10-23T10:30:33.290Z"
   },
   {
    "duration": 297,
    "start_time": "2022-10-23T10:47:53.882Z"
   },
   {
    "duration": 214,
    "start_time": "2022-10-23T10:48:09.258Z"
   },
   {
    "duration": 262,
    "start_time": "2022-10-23T10:48:18.354Z"
   },
   {
    "duration": 202,
    "start_time": "2022-10-23T10:48:25.442Z"
   },
   {
    "duration": 202,
    "start_time": "2022-10-23T10:51:35.844Z"
   },
   {
    "duration": 30,
    "start_time": "2022-10-23T11:57:46.629Z"
   },
   {
    "duration": 395,
    "start_time": "2022-10-23T11:59:32.239Z"
   },
   {
    "duration": 161,
    "start_time": "2022-10-23T12:01:39.105Z"
   },
   {
    "duration": 319,
    "start_time": "2022-10-23T12:03:15.088Z"
   },
   {
    "duration": 281,
    "start_time": "2022-10-23T12:03:29.910Z"
   },
   {
    "duration": 315,
    "start_time": "2022-10-23T12:04:06.848Z"
   },
   {
    "duration": 1020,
    "start_time": "2022-10-23T12:05:42.666Z"
   },
   {
    "duration": 43,
    "start_time": "2022-10-23T12:05:43.688Z"
   },
   {
    "duration": 3,
    "start_time": "2022-10-23T12:05:43.732Z"
   },
   {
    "duration": 28,
    "start_time": "2022-10-23T12:05:43.737Z"
   },
   {
    "duration": 7,
    "start_time": "2022-10-23T12:05:43.766Z"
   },
   {
    "duration": 17,
    "start_time": "2022-10-23T12:05:43.774Z"
   },
   {
    "duration": 24,
    "start_time": "2022-10-23T12:05:43.792Z"
   },
   {
    "duration": 26,
    "start_time": "2022-10-23T12:05:43.817Z"
   },
   {
    "duration": 3,
    "start_time": "2022-10-23T12:05:43.844Z"
   },
   {
    "duration": 44,
    "start_time": "2022-10-23T12:05:43.849Z"
   },
   {
    "duration": 849,
    "start_time": "2022-10-23T12:05:43.894Z"
   },
   {
    "duration": 14,
    "start_time": "2022-10-23T12:05:44.744Z"
   },
   {
    "duration": 27,
    "start_time": "2022-10-23T12:05:44.759Z"
   },
   {
    "duration": 2,
    "start_time": "2022-10-23T12:05:44.787Z"
   },
   {
    "duration": 10,
    "start_time": "2022-10-23T12:05:44.791Z"
   },
   {
    "duration": 12,
    "start_time": "2022-10-23T12:05:44.803Z"
   },
   {
    "duration": 11,
    "start_time": "2022-10-23T12:05:44.816Z"
   },
   {
    "duration": 2,
    "start_time": "2022-10-23T12:05:44.828Z"
   },
   {
    "duration": 53,
    "start_time": "2022-10-23T12:05:44.832Z"
   },
   {
    "duration": 3,
    "start_time": "2022-10-23T12:05:44.899Z"
   },
   {
    "duration": 51,
    "start_time": "2022-10-23T12:05:44.903Z"
   },
   {
    "duration": 2,
    "start_time": "2022-10-23T12:05:44.955Z"
   },
   {
    "duration": 55,
    "start_time": "2022-10-23T12:05:44.959Z"
   },
   {
    "duration": 22,
    "start_time": "2022-10-23T12:05:45.016Z"
   },
   {
    "duration": 11,
    "start_time": "2022-10-23T12:05:45.040Z"
   },
   {
    "duration": 11,
    "start_time": "2022-10-23T12:05:45.052Z"
   },
   {
    "duration": 6,
    "start_time": "2022-10-23T12:05:45.064Z"
   },
   {
    "duration": 68,
    "start_time": "2022-10-23T12:05:45.073Z"
   },
   {
    "duration": 0,
    "start_time": "2022-10-23T12:05:45.142Z"
   },
   {
    "duration": 0,
    "start_time": "2022-10-23T12:05:45.143Z"
   },
   {
    "duration": 0,
    "start_time": "2022-10-23T12:05:45.144Z"
   },
   {
    "duration": 0,
    "start_time": "2022-10-23T12:05:45.145Z"
   },
   {
    "duration": 0,
    "start_time": "2022-10-23T12:05:45.146Z"
   },
   {
    "duration": 0,
    "start_time": "2022-10-23T12:05:45.147Z"
   },
   {
    "duration": 0,
    "start_time": "2022-10-23T12:05:45.148Z"
   },
   {
    "duration": 0,
    "start_time": "2022-10-23T12:05:45.149Z"
   },
   {
    "duration": 0,
    "start_time": "2022-10-23T12:05:45.151Z"
   },
   {
    "duration": 0,
    "start_time": "2022-10-23T12:05:45.152Z"
   },
   {
    "duration": 1023,
    "start_time": "2022-10-23T12:06:09.048Z"
   },
   {
    "duration": 44,
    "start_time": "2022-10-23T12:06:10.072Z"
   },
   {
    "duration": 3,
    "start_time": "2022-10-23T12:06:10.117Z"
   },
   {
    "duration": 13,
    "start_time": "2022-10-23T12:06:10.121Z"
   },
   {
    "duration": 6,
    "start_time": "2022-10-23T12:06:10.135Z"
   },
   {
    "duration": 11,
    "start_time": "2022-10-23T12:06:10.142Z"
   },
   {
    "duration": 11,
    "start_time": "2022-10-23T12:06:10.155Z"
   },
   {
    "duration": 36,
    "start_time": "2022-10-23T12:06:10.167Z"
   },
   {
    "duration": 2,
    "start_time": "2022-10-23T12:06:10.205Z"
   },
   {
    "duration": 45,
    "start_time": "2022-10-23T12:06:10.209Z"
   },
   {
    "duration": 820,
    "start_time": "2022-10-23T12:06:10.256Z"
   },
   {
    "duration": 25,
    "start_time": "2022-10-23T12:06:11.077Z"
   },
   {
    "duration": 29,
    "start_time": "2022-10-23T12:06:11.104Z"
   },
   {
    "duration": 3,
    "start_time": "2022-10-23T12:06:11.135Z"
   },
   {
    "duration": 13,
    "start_time": "2022-10-23T12:06:11.139Z"
   },
   {
    "duration": 8,
    "start_time": "2022-10-23T12:06:11.154Z"
   },
   {
    "duration": 11,
    "start_time": "2022-10-23T12:06:11.164Z"
   },
   {
    "duration": 10,
    "start_time": "2022-10-23T12:06:11.177Z"
   },
   {
    "duration": 62,
    "start_time": "2022-10-23T12:06:11.189Z"
   },
   {
    "duration": 2,
    "start_time": "2022-10-23T12:06:11.253Z"
   },
   {
    "duration": 61,
    "start_time": "2022-10-23T12:06:11.257Z"
   },
   {
    "duration": 3,
    "start_time": "2022-10-23T12:06:11.320Z"
   },
   {
    "duration": 49,
    "start_time": "2022-10-23T12:06:11.325Z"
   },
   {
    "duration": 31,
    "start_time": "2022-10-23T12:06:11.376Z"
   },
   {
    "duration": 7,
    "start_time": "2022-10-23T12:06:11.408Z"
   },
   {
    "duration": 16,
    "start_time": "2022-10-23T12:06:11.417Z"
   },
   {
    "duration": 10,
    "start_time": "2022-10-23T12:06:11.435Z"
   },
   {
    "duration": 13,
    "start_time": "2022-10-23T12:06:11.448Z"
   },
   {
    "duration": 6,
    "start_time": "2022-10-23T12:06:11.463Z"
   },
   {
    "duration": 30,
    "start_time": "2022-10-23T12:06:11.471Z"
   },
   {
    "duration": 19,
    "start_time": "2022-10-23T12:06:11.503Z"
   },
   {
    "duration": 5,
    "start_time": "2022-10-23T12:06:11.523Z"
   },
   {
    "duration": 14,
    "start_time": "2022-10-23T12:06:11.530Z"
   },
   {
    "duration": 12,
    "start_time": "2022-10-23T12:06:11.545Z"
   },
   {
    "duration": 12,
    "start_time": "2022-10-23T12:06:11.559Z"
   },
   {
    "duration": 48,
    "start_time": "2022-10-23T12:06:11.572Z"
   },
   {
    "duration": 340,
    "start_time": "2022-10-23T12:06:11.622Z"
   },
   {
    "duration": 88,
    "start_time": "2022-10-23T12:17:53.440Z"
   },
   {
    "duration": 11,
    "start_time": "2022-10-23T12:18:29.406Z"
   },
   {
    "duration": 16,
    "start_time": "2022-10-23T12:18:35.031Z"
   },
   {
    "duration": 1087,
    "start_time": "2022-10-23T12:18:45.307Z"
   },
   {
    "duration": 44,
    "start_time": "2022-10-23T12:18:46.396Z"
   },
   {
    "duration": 3,
    "start_time": "2022-10-23T12:18:46.441Z"
   },
   {
    "duration": 12,
    "start_time": "2022-10-23T12:18:46.446Z"
   },
   {
    "duration": 6,
    "start_time": "2022-10-23T12:18:46.459Z"
   },
   {
    "duration": 15,
    "start_time": "2022-10-23T12:18:46.467Z"
   },
   {
    "duration": 20,
    "start_time": "2022-10-23T12:18:46.483Z"
   },
   {
    "duration": 18,
    "start_time": "2022-10-23T12:18:46.504Z"
   },
   {
    "duration": 18,
    "start_time": "2022-10-23T12:18:46.524Z"
   },
   {
    "duration": 2,
    "start_time": "2022-10-23T12:18:46.545Z"
   },
   {
    "duration": 53,
    "start_time": "2022-10-23T12:18:46.549Z"
   },
   {
    "duration": 764,
    "start_time": "2022-10-23T12:18:46.604Z"
   },
   {
    "duration": 13,
    "start_time": "2022-10-23T12:18:47.370Z"
   },
   {
    "duration": 26,
    "start_time": "2022-10-23T12:18:47.384Z"
   },
   {
    "duration": 4,
    "start_time": "2022-10-23T12:18:47.411Z"
   },
   {
    "duration": 19,
    "start_time": "2022-10-23T12:18:47.416Z"
   },
   {
    "duration": 22,
    "start_time": "2022-10-23T12:18:47.436Z"
   },
   {
    "duration": 25,
    "start_time": "2022-10-23T12:18:47.460Z"
   },
   {
    "duration": 13,
    "start_time": "2022-10-23T12:18:47.486Z"
   },
   {
    "duration": 49,
    "start_time": "2022-10-23T12:18:47.500Z"
   },
   {
    "duration": 3,
    "start_time": "2022-10-23T12:18:47.550Z"
   },
   {
    "duration": 59,
    "start_time": "2022-10-23T12:18:47.554Z"
   },
   {
    "duration": 2,
    "start_time": "2022-10-23T12:18:47.615Z"
   },
   {
    "duration": 59,
    "start_time": "2022-10-23T12:18:47.619Z"
   },
   {
    "duration": 30,
    "start_time": "2022-10-23T12:18:47.680Z"
   },
   {
    "duration": 8,
    "start_time": "2022-10-23T12:18:47.711Z"
   },
   {
    "duration": 10,
    "start_time": "2022-10-23T12:18:47.720Z"
   },
   {
    "duration": 5,
    "start_time": "2022-10-23T12:18:47.733Z"
   },
   {
    "duration": 13,
    "start_time": "2022-10-23T12:18:47.739Z"
   },
   {
    "duration": 6,
    "start_time": "2022-10-23T12:18:47.753Z"
   },
   {
    "duration": 19,
    "start_time": "2022-10-23T12:18:47.760Z"
   },
   {
    "duration": 26,
    "start_time": "2022-10-23T12:18:47.780Z"
   },
   {
    "duration": 7,
    "start_time": "2022-10-23T12:18:47.807Z"
   },
   {
    "duration": 21,
    "start_time": "2022-10-23T12:18:47.815Z"
   },
   {
    "duration": 18,
    "start_time": "2022-10-23T12:18:47.838Z"
   },
   {
    "duration": 16,
    "start_time": "2022-10-23T12:18:47.857Z"
   },
   {
    "duration": 75,
    "start_time": "2022-10-23T12:18:47.875Z"
   },
   {
    "duration": 350,
    "start_time": "2022-10-23T12:18:47.952Z"
   },
   {
    "duration": 16,
    "start_time": "2022-10-23T12:19:34.961Z"
   },
   {
    "duration": 18,
    "start_time": "2022-10-23T12:30:49.504Z"
   },
   {
    "duration": 37,
    "start_time": "2022-10-23T12:31:38.339Z"
   },
   {
    "duration": 11,
    "start_time": "2022-10-23T12:32:39.895Z"
   },
   {
    "duration": 11,
    "start_time": "2022-10-23T14:19:54.003Z"
   },
   {
    "duration": 5,
    "start_time": "2022-10-23T14:19:58.491Z"
   },
   {
    "duration": 11,
    "start_time": "2022-10-23T14:20:00.594Z"
   },
   {
    "duration": 9,
    "start_time": "2022-10-23T14:20:14.599Z"
   },
   {
    "duration": 5,
    "start_time": "2022-10-23T14:20:15.668Z"
   },
   {
    "duration": 10,
    "start_time": "2022-10-23T14:20:16.773Z"
   },
   {
    "duration": 611,
    "start_time": "2022-10-23T14:23:30.334Z"
   },
   {
    "duration": 45,
    "start_time": "2022-10-23T14:23:30.947Z"
   },
   {
    "duration": 3,
    "start_time": "2022-10-23T14:23:30.994Z"
   },
   {
    "duration": 54,
    "start_time": "2022-10-23T14:23:30.998Z"
   },
   {
    "duration": 14,
    "start_time": "2022-10-23T14:23:31.054Z"
   },
   {
    "duration": 58,
    "start_time": "2022-10-23T14:23:31.069Z"
   },
   {
    "duration": 22,
    "start_time": "2022-10-23T14:23:31.129Z"
   },
   {
    "duration": 7,
    "start_time": "2022-10-23T14:23:31.152Z"
   },
   {
    "duration": 53,
    "start_time": "2022-10-23T14:23:31.160Z"
   },
   {
    "duration": 782,
    "start_time": "2022-10-23T14:23:31.216Z"
   },
   {
    "duration": 18,
    "start_time": "2022-10-23T14:23:32.000Z"
   },
   {
    "duration": 29,
    "start_time": "2022-10-23T14:23:32.020Z"
   },
   {
    "duration": 3,
    "start_time": "2022-10-23T14:23:32.051Z"
   },
   {
    "duration": 10,
    "start_time": "2022-10-23T14:23:32.055Z"
   },
   {
    "duration": 11,
    "start_time": "2022-10-23T14:23:32.066Z"
   },
   {
    "duration": 8,
    "start_time": "2022-10-23T14:23:32.078Z"
   },
   {
    "duration": 55,
    "start_time": "2022-10-23T14:23:32.087Z"
   },
   {
    "duration": 2,
    "start_time": "2022-10-23T14:23:32.143Z"
   },
   {
    "duration": 61,
    "start_time": "2022-10-23T14:23:32.147Z"
   },
   {
    "duration": 3,
    "start_time": "2022-10-23T14:23:32.209Z"
   },
   {
    "duration": 56,
    "start_time": "2022-10-23T14:23:32.213Z"
   },
   {
    "duration": 29,
    "start_time": "2022-10-23T14:23:32.271Z"
   },
   {
    "duration": 22,
    "start_time": "2022-10-23T14:23:32.302Z"
   },
   {
    "duration": 7,
    "start_time": "2022-10-23T14:23:32.326Z"
   },
   {
    "duration": 14,
    "start_time": "2022-10-23T14:23:32.335Z"
   },
   {
    "duration": 7,
    "start_time": "2022-10-23T14:23:32.350Z"
   },
   {
    "duration": 18,
    "start_time": "2022-10-23T14:23:32.359Z"
   },
   {
    "duration": 5,
    "start_time": "2022-10-23T14:23:32.380Z"
   },
   {
    "duration": 9,
    "start_time": "2022-10-23T14:23:32.401Z"
   },
   {
    "duration": 38,
    "start_time": "2022-10-23T14:23:32.411Z"
   },
   {
    "duration": 15,
    "start_time": "2022-10-23T14:23:32.450Z"
   },
   {
    "duration": 7,
    "start_time": "2022-10-23T14:23:32.467Z"
   },
   {
    "duration": 29,
    "start_time": "2022-10-23T14:23:32.476Z"
   },
   {
    "duration": 13,
    "start_time": "2022-10-23T14:23:32.507Z"
   },
   {
    "duration": 17,
    "start_time": "2022-10-23T14:23:32.522Z"
   },
   {
    "duration": 50,
    "start_time": "2022-10-23T14:23:32.540Z"
   },
   {
    "duration": 11,
    "start_time": "2022-10-23T14:23:32.592Z"
   },
   {
    "duration": 340,
    "start_time": "2022-10-23T14:23:32.605Z"
   },
   {
    "duration": 45,
    "start_time": "2022-10-23T14:31:36.866Z"
   },
   {
    "duration": 21,
    "start_time": "2022-10-23T14:31:47.426Z"
   },
   {
    "duration": 22,
    "start_time": "2022-10-23T14:32:11.651Z"
   },
   {
    "duration": 23,
    "start_time": "2022-10-23T14:34:28.993Z"
   },
   {
    "duration": 14,
    "start_time": "2022-10-23T14:36:18.384Z"
   },
   {
    "duration": 19,
    "start_time": "2022-10-23T14:37:24.006Z"
   },
   {
    "duration": 604,
    "start_time": "2022-10-23T14:37:48.390Z"
   },
   {
    "duration": 45,
    "start_time": "2022-10-23T14:37:48.996Z"
   },
   {
    "duration": 3,
    "start_time": "2022-10-23T14:37:49.042Z"
   },
   {
    "duration": 19,
    "start_time": "2022-10-23T14:37:49.047Z"
   },
   {
    "duration": 12,
    "start_time": "2022-10-23T14:37:49.068Z"
   },
   {
    "duration": 23,
    "start_time": "2022-10-23T14:37:49.081Z"
   },
   {
    "duration": 34,
    "start_time": "2022-10-23T14:37:49.106Z"
   },
   {
    "duration": 3,
    "start_time": "2022-10-23T14:37:49.141Z"
   },
   {
    "duration": 48,
    "start_time": "2022-10-23T14:37:49.146Z"
   },
   {
    "duration": 758,
    "start_time": "2022-10-23T14:37:49.197Z"
   },
   {
    "duration": 16,
    "start_time": "2022-10-23T14:37:49.956Z"
   },
   {
    "duration": 23,
    "start_time": "2022-10-23T14:37:49.973Z"
   },
   {
    "duration": 3,
    "start_time": "2022-10-23T14:37:49.998Z"
   },
   {
    "duration": 10,
    "start_time": "2022-10-23T14:37:50.002Z"
   },
   {
    "duration": 11,
    "start_time": "2022-10-23T14:37:50.013Z"
   },
   {
    "duration": 3,
    "start_time": "2022-10-23T14:37:50.026Z"
   },
   {
    "duration": 50,
    "start_time": "2022-10-23T14:37:50.030Z"
   },
   {
    "duration": 18,
    "start_time": "2022-10-23T14:37:50.082Z"
   },
   {
    "duration": 46,
    "start_time": "2022-10-23T14:37:50.102Z"
   },
   {
    "duration": 8,
    "start_time": "2022-10-23T14:37:50.149Z"
   },
   {
    "duration": 78,
    "start_time": "2022-10-23T14:37:50.159Z"
   },
   {
    "duration": 17,
    "start_time": "2022-10-23T14:37:50.240Z"
   },
   {
    "duration": 29,
    "start_time": "2022-10-23T14:37:50.259Z"
   },
   {
    "duration": 11,
    "start_time": "2022-10-23T14:37:50.290Z"
   },
   {
    "duration": 33,
    "start_time": "2022-10-23T14:37:50.302Z"
   },
   {
    "duration": 6,
    "start_time": "2022-10-23T14:37:50.337Z"
   },
   {
    "duration": 12,
    "start_time": "2022-10-23T14:37:50.344Z"
   },
   {
    "duration": 5,
    "start_time": "2022-10-23T14:37:50.359Z"
   },
   {
    "duration": 10,
    "start_time": "2022-10-23T14:37:50.365Z"
   },
   {
    "duration": 30,
    "start_time": "2022-10-23T14:37:50.376Z"
   },
   {
    "duration": 15,
    "start_time": "2022-10-23T14:37:50.407Z"
   },
   {
    "duration": 5,
    "start_time": "2022-10-23T14:37:50.423Z"
   },
   {
    "duration": 9,
    "start_time": "2022-10-23T14:37:50.429Z"
   },
   {
    "duration": 6,
    "start_time": "2022-10-23T14:37:50.439Z"
   },
   {
    "duration": 4,
    "start_time": "2022-10-23T14:37:50.447Z"
   },
   {
    "duration": 57,
    "start_time": "2022-10-23T14:37:50.452Z"
   },
   {
    "duration": 10,
    "start_time": "2022-10-23T14:37:50.511Z"
   },
   {
    "duration": 20,
    "start_time": "2022-10-23T14:37:50.522Z"
   },
   {
    "duration": 15,
    "start_time": "2022-10-23T14:37:50.543Z"
   },
   {
    "duration": 46,
    "start_time": "2022-10-23T14:37:50.559Z"
   },
   {
    "duration": 308,
    "start_time": "2022-10-23T14:37:50.606Z"
   },
   {
    "duration": 67,
    "start_time": "2022-10-23T14:38:35.069Z"
   },
   {
    "duration": 4,
    "start_time": "2022-10-23T14:38:56.648Z"
   },
   {
    "duration": 530,
    "start_time": "2022-10-23T14:39:06.960Z"
   },
   {
    "duration": 42,
    "start_time": "2022-10-23T14:39:07.492Z"
   },
   {
    "duration": 3,
    "start_time": "2022-10-23T14:39:07.536Z"
   },
   {
    "duration": 13,
    "start_time": "2022-10-23T14:39:07.540Z"
   },
   {
    "duration": 10,
    "start_time": "2022-10-23T14:39:07.555Z"
   },
   {
    "duration": 22,
    "start_time": "2022-10-23T14:39:07.567Z"
   },
   {
    "duration": 16,
    "start_time": "2022-10-23T14:39:07.590Z"
   },
   {
    "duration": 3,
    "start_time": "2022-10-23T14:39:07.607Z"
   },
   {
    "duration": 56,
    "start_time": "2022-10-23T14:39:07.611Z"
   },
   {
    "duration": 745,
    "start_time": "2022-10-23T14:39:07.668Z"
   },
   {
    "duration": 15,
    "start_time": "2022-10-23T14:39:08.415Z"
   },
   {
    "duration": 17,
    "start_time": "2022-10-23T14:39:08.432Z"
   },
   {
    "duration": 2,
    "start_time": "2022-10-23T14:39:08.450Z"
   },
   {
    "duration": 12,
    "start_time": "2022-10-23T14:39:08.455Z"
   },
   {
    "duration": 9,
    "start_time": "2022-10-23T14:39:08.468Z"
   },
   {
    "duration": 21,
    "start_time": "2022-10-23T14:39:08.479Z"
   },
   {
    "duration": 55,
    "start_time": "2022-10-23T14:39:08.502Z"
   },
   {
    "duration": 2,
    "start_time": "2022-10-23T14:39:08.559Z"
   },
   {
    "duration": 66,
    "start_time": "2022-10-23T14:39:08.563Z"
   },
   {
    "duration": 3,
    "start_time": "2022-10-23T14:39:08.630Z"
   },
   {
    "duration": 66,
    "start_time": "2022-10-23T14:39:08.635Z"
   },
   {
    "duration": 21,
    "start_time": "2022-10-23T14:39:08.703Z"
   },
   {
    "duration": 43,
    "start_time": "2022-10-23T14:39:08.726Z"
   },
   {
    "duration": 12,
    "start_time": "2022-10-23T14:39:08.771Z"
   },
   {
    "duration": 28,
    "start_time": "2022-10-23T14:39:08.785Z"
   },
   {
    "duration": 3,
    "start_time": "2022-10-23T14:39:08.815Z"
   },
   {
    "duration": 22,
    "start_time": "2022-10-23T14:39:08.819Z"
   },
   {
    "duration": 11,
    "start_time": "2022-10-23T14:39:08.843Z"
   },
   {
    "duration": 14,
    "start_time": "2022-10-23T14:39:08.856Z"
   },
   {
    "duration": 35,
    "start_time": "2022-10-23T14:39:08.872Z"
   },
   {
    "duration": 15,
    "start_time": "2022-10-23T14:39:08.909Z"
   },
   {
    "duration": 13,
    "start_time": "2022-10-23T14:39:08.925Z"
   },
   {
    "duration": 11,
    "start_time": "2022-10-23T14:39:08.939Z"
   },
   {
    "duration": 10,
    "start_time": "2022-10-23T14:39:08.951Z"
   },
   {
    "duration": 8,
    "start_time": "2022-10-23T14:39:08.963Z"
   },
   {
    "duration": 10,
    "start_time": "2022-10-23T14:39:08.973Z"
   },
   {
    "duration": 57,
    "start_time": "2022-10-23T14:39:08.985Z"
   },
   {
    "duration": 12,
    "start_time": "2022-10-23T14:39:09.043Z"
   },
   {
    "duration": 21,
    "start_time": "2022-10-23T14:39:09.056Z"
   },
   {
    "duration": 37,
    "start_time": "2022-10-23T14:39:09.078Z"
   },
   {
    "duration": 19,
    "start_time": "2022-10-23T14:39:09.118Z"
   },
   {
    "duration": 371,
    "start_time": "2022-10-23T14:39:09.139Z"
   },
   {
    "duration": 559,
    "start_time": "2022-10-23T14:42:08.431Z"
   },
   {
    "duration": 46,
    "start_time": "2022-10-23T14:42:08.991Z"
   },
   {
    "duration": 3,
    "start_time": "2022-10-23T14:42:09.040Z"
   },
   {
    "duration": 11,
    "start_time": "2022-10-23T14:42:09.045Z"
   },
   {
    "duration": 11,
    "start_time": "2022-10-23T14:42:09.058Z"
   },
   {
    "duration": 12,
    "start_time": "2022-10-23T14:42:09.070Z"
   },
   {
    "duration": 24,
    "start_time": "2022-10-23T14:42:09.083Z"
   },
   {
    "duration": 3,
    "start_time": "2022-10-23T14:42:09.108Z"
   },
   {
    "duration": 46,
    "start_time": "2022-10-23T14:42:09.112Z"
   },
   {
    "duration": 777,
    "start_time": "2022-10-23T14:42:09.160Z"
   },
   {
    "duration": 14,
    "start_time": "2022-10-23T14:42:09.939Z"
   },
   {
    "duration": 17,
    "start_time": "2022-10-23T14:42:09.954Z"
   },
   {
    "duration": 3,
    "start_time": "2022-10-23T14:42:09.972Z"
   },
   {
    "duration": 15,
    "start_time": "2022-10-23T14:42:09.976Z"
   },
   {
    "duration": 10,
    "start_time": "2022-10-23T14:42:10.000Z"
   },
   {
    "duration": 8,
    "start_time": "2022-10-23T14:42:10.011Z"
   },
   {
    "duration": 53,
    "start_time": "2022-10-23T14:42:10.020Z"
   },
   {
    "duration": 3,
    "start_time": "2022-10-23T14:42:10.074Z"
   },
   {
    "duration": 59,
    "start_time": "2022-10-23T14:42:10.079Z"
   },
   {
    "duration": 3,
    "start_time": "2022-10-23T14:42:10.140Z"
   },
   {
    "duration": 59,
    "start_time": "2022-10-23T14:42:10.144Z"
   },
   {
    "duration": 18,
    "start_time": "2022-10-23T14:42:10.205Z"
   },
   {
    "duration": 32,
    "start_time": "2022-10-23T14:42:10.224Z"
   },
   {
    "duration": 8,
    "start_time": "2022-10-23T14:42:10.257Z"
   },
   {
    "duration": 11,
    "start_time": "2022-10-23T14:42:10.267Z"
   },
   {
    "duration": 20,
    "start_time": "2022-10-23T14:42:10.280Z"
   },
   {
    "duration": 11,
    "start_time": "2022-10-23T14:42:10.302Z"
   },
   {
    "duration": 5,
    "start_time": "2022-10-23T14:42:10.316Z"
   },
   {
    "duration": 10,
    "start_time": "2022-10-23T14:42:10.323Z"
   },
   {
    "duration": 27,
    "start_time": "2022-10-23T14:42:10.334Z"
   },
   {
    "duration": 16,
    "start_time": "2022-10-23T14:42:10.362Z"
   },
   {
    "duration": 24,
    "start_time": "2022-10-23T14:42:10.379Z"
   },
   {
    "duration": 8,
    "start_time": "2022-10-23T14:42:10.404Z"
   },
   {
    "duration": 9,
    "start_time": "2022-10-23T14:42:10.413Z"
   },
   {
    "duration": 5,
    "start_time": "2022-10-23T14:42:10.423Z"
   },
   {
    "duration": 4,
    "start_time": "2022-10-23T14:42:10.430Z"
   },
   {
    "duration": 42,
    "start_time": "2022-10-23T14:42:10.435Z"
   },
   {
    "duration": 29,
    "start_time": "2022-10-23T14:42:10.478Z"
   },
   {
    "duration": 20,
    "start_time": "2022-10-23T14:42:10.508Z"
   },
   {
    "duration": 14,
    "start_time": "2022-10-23T14:42:10.529Z"
   },
   {
    "duration": 19,
    "start_time": "2022-10-23T14:42:10.544Z"
   },
   {
    "duration": 337,
    "start_time": "2022-10-23T14:42:10.565Z"
   },
   {
    "duration": 16,
    "start_time": "2022-10-23T14:44:13.885Z"
   },
   {
    "duration": 27,
    "start_time": "2022-10-23T14:44:29.201Z"
   },
   {
    "duration": 26,
    "start_time": "2022-10-23T14:45:03.855Z"
   },
   {
    "duration": 292,
    "start_time": "2022-10-23T14:51:34.489Z"
   },
   {
    "duration": 364,
    "start_time": "2022-10-23T14:51:44.415Z"
   },
   {
    "duration": 255,
    "start_time": "2022-10-23T14:52:03.698Z"
   },
   {
    "duration": 41,
    "start_time": "2022-10-23T14:55:11.498Z"
   },
   {
    "duration": 11,
    "start_time": "2022-10-23T14:55:23.726Z"
   },
   {
    "duration": 67,
    "start_time": "2022-10-23T14:58:55.828Z"
   },
   {
    "duration": 311,
    "start_time": "2022-10-23T14:59:13.332Z"
   },
   {
    "duration": 224,
    "start_time": "2022-10-23T14:59:37.115Z"
   },
   {
    "duration": 7,
    "start_time": "2022-10-23T15:05:53.525Z"
   },
   {
    "duration": 13,
    "start_time": "2022-10-23T15:09:08.680Z"
   },
   {
    "duration": 8,
    "start_time": "2022-10-23T15:11:31.391Z"
   },
   {
    "duration": 13,
    "start_time": "2022-10-23T15:11:35.021Z"
   },
   {
    "duration": 7,
    "start_time": "2022-10-23T15:11:46.552Z"
   },
   {
    "duration": 14,
    "start_time": "2022-10-23T15:11:53.112Z"
   },
   {
    "duration": 13,
    "start_time": "2022-10-23T15:12:22.878Z"
   },
   {
    "duration": 8,
    "start_time": "2022-10-23T15:12:34.527Z"
   },
   {
    "duration": 7,
    "start_time": "2022-10-23T15:12:40.321Z"
   },
   {
    "duration": 12,
    "start_time": "2022-10-23T15:12:51.991Z"
   },
   {
    "duration": 3,
    "start_time": "2022-10-23T15:13:05.701Z"
   },
   {
    "duration": 41,
    "start_time": "2022-10-23T15:13:06.789Z"
   },
   {
    "duration": 3,
    "start_time": "2022-10-23T15:13:08.867Z"
   },
   {
    "duration": 10,
    "start_time": "2022-10-23T15:13:09.647Z"
   },
   {
    "duration": 8,
    "start_time": "2022-10-23T15:13:11.220Z"
   },
   {
    "duration": 11,
    "start_time": "2022-10-23T15:13:12.246Z"
   },
   {
    "duration": 11,
    "start_time": "2022-10-23T15:13:13.784Z"
   },
   {
    "duration": 11,
    "start_time": "2022-10-23T15:13:15.276Z"
   },
   {
    "duration": 3,
    "start_time": "2022-10-23T15:13:17.227Z"
   },
   {
    "duration": 50,
    "start_time": "2022-10-23T15:13:18.098Z"
   },
   {
    "duration": 779,
    "start_time": "2022-10-23T15:13:19.926Z"
   },
   {
    "duration": 13,
    "start_time": "2022-10-23T15:13:22.822Z"
   },
   {
    "duration": 11,
    "start_time": "2022-10-23T15:13:44.619Z"
   },
   {
    "duration": 585,
    "start_time": "2022-10-23T15:13:56.659Z"
   },
   {
    "duration": 43,
    "start_time": "2022-10-23T15:13:57.246Z"
   },
   {
    "duration": 3,
    "start_time": "2022-10-23T15:13:57.291Z"
   },
   {
    "duration": 19,
    "start_time": "2022-10-23T15:13:57.296Z"
   },
   {
    "duration": 8,
    "start_time": "2022-10-23T15:13:57.316Z"
   },
   {
    "duration": 13,
    "start_time": "2022-10-23T15:13:57.325Z"
   },
   {
    "duration": 14,
    "start_time": "2022-10-23T15:13:57.339Z"
   },
   {
    "duration": 18,
    "start_time": "2022-10-23T15:13:57.354Z"
   },
   {
    "duration": 14,
    "start_time": "2022-10-23T15:13:57.374Z"
   },
   {
    "duration": 47,
    "start_time": "2022-10-23T15:13:57.390Z"
   },
   {
    "duration": 738,
    "start_time": "2022-10-23T15:13:57.439Z"
   },
   {
    "duration": 11,
    "start_time": "2022-10-23T15:13:58.178Z"
   },
   {
    "duration": 16,
    "start_time": "2022-10-23T15:13:58.200Z"
   },
   {
    "duration": 19,
    "start_time": "2022-10-23T15:13:58.217Z"
   },
   {
    "duration": 2,
    "start_time": "2022-10-23T15:13:58.238Z"
   },
   {
    "duration": 18,
    "start_time": "2022-10-23T15:13:58.242Z"
   },
   {
    "duration": 7,
    "start_time": "2022-10-23T15:13:58.261Z"
   },
   {
    "duration": 31,
    "start_time": "2022-10-23T15:13:58.269Z"
   },
   {
    "duration": 2,
    "start_time": "2022-10-23T15:13:58.302Z"
   },
   {
    "duration": 51,
    "start_time": "2022-10-23T15:13:58.306Z"
   },
   {
    "duration": 3,
    "start_time": "2022-10-23T15:13:58.358Z"
   },
   {
    "duration": 59,
    "start_time": "2022-10-23T15:13:58.363Z"
   },
   {
    "duration": 3,
    "start_time": "2022-10-23T15:13:58.423Z"
   },
   {
    "duration": 49,
    "start_time": "2022-10-23T15:13:58.428Z"
   },
   {
    "duration": 32,
    "start_time": "2022-10-23T15:13:58.478Z"
   },
   {
    "duration": 31,
    "start_time": "2022-10-23T15:13:58.512Z"
   },
   {
    "duration": 9,
    "start_time": "2022-10-23T15:13:58.544Z"
   },
   {
    "duration": 19,
    "start_time": "2022-10-23T15:13:58.556Z"
   },
   {
    "duration": 6,
    "start_time": "2022-10-23T15:13:58.577Z"
   },
   {
    "duration": 12,
    "start_time": "2022-10-23T15:13:58.585Z"
   },
   {
    "duration": 5,
    "start_time": "2022-10-23T15:13:58.600Z"
   },
   {
    "duration": 11,
    "start_time": "2022-10-23T15:13:58.607Z"
   },
   {
    "duration": 29,
    "start_time": "2022-10-23T15:13:58.619Z"
   },
   {
    "duration": 15,
    "start_time": "2022-10-23T15:13:58.650Z"
   },
   {
    "duration": 6,
    "start_time": "2022-10-23T15:13:58.667Z"
   },
   {
    "duration": 27,
    "start_time": "2022-10-23T15:13:58.674Z"
   },
   {
    "duration": 8,
    "start_time": "2022-10-23T15:13:58.703Z"
   },
   {
    "duration": 8,
    "start_time": "2022-10-23T15:13:58.712Z"
   },
   {
    "duration": 45,
    "start_time": "2022-10-23T15:13:58.721Z"
   },
   {
    "duration": 10,
    "start_time": "2022-10-23T15:13:58.767Z"
   },
   {
    "duration": 18,
    "start_time": "2022-10-23T15:13:58.799Z"
   },
   {
    "duration": 22,
    "start_time": "2022-10-23T15:13:58.818Z"
   },
   {
    "duration": 24,
    "start_time": "2022-10-23T15:13:58.841Z"
   },
   {
    "duration": 306,
    "start_time": "2022-10-23T15:13:58.867Z"
   },
   {
    "duration": 13,
    "start_time": "2022-10-23T15:13:59.175Z"
   },
   {
    "duration": 23,
    "start_time": "2022-10-23T15:13:59.189Z"
   },
   {
    "duration": 7,
    "start_time": "2022-10-23T15:13:59.213Z"
   },
   {
    "duration": 69,
    "start_time": "2022-10-23T15:16:05.933Z"
   },
   {
    "duration": 25,
    "start_time": "2022-10-23T15:16:15.436Z"
   },
   {
    "duration": 279,
    "start_time": "2022-10-23T15:17:48.795Z"
   },
   {
    "duration": 11,
    "start_time": "2022-10-23T15:18:28.028Z"
   },
   {
    "duration": 598,
    "start_time": "2022-10-23T15:18:58.537Z"
   },
   {
    "duration": 47,
    "start_time": "2022-10-23T15:18:59.137Z"
   },
   {
    "duration": 3,
    "start_time": "2022-10-23T15:18:59.185Z"
   },
   {
    "duration": 13,
    "start_time": "2022-10-23T15:18:59.190Z"
   },
   {
    "duration": 5,
    "start_time": "2022-10-23T15:18:59.205Z"
   },
   {
    "duration": 18,
    "start_time": "2022-10-23T15:18:59.212Z"
   },
   {
    "duration": 12,
    "start_time": "2022-10-23T15:18:59.232Z"
   },
   {
    "duration": 18,
    "start_time": "2022-10-23T15:18:59.245Z"
   },
   {
    "duration": 2,
    "start_time": "2022-10-23T15:18:59.265Z"
   },
   {
    "duration": 48,
    "start_time": "2022-10-23T15:18:59.269Z"
   },
   {
    "duration": 761,
    "start_time": "2022-10-23T15:18:59.318Z"
   },
   {
    "duration": 12,
    "start_time": "2022-10-23T15:19:00.081Z"
   },
   {
    "duration": 24,
    "start_time": "2022-10-23T15:19:00.101Z"
   },
   {
    "duration": 26,
    "start_time": "2022-10-23T15:19:00.127Z"
   },
   {
    "duration": 5,
    "start_time": "2022-10-23T15:19:00.155Z"
   },
   {
    "duration": 21,
    "start_time": "2022-10-23T15:19:00.161Z"
   },
   {
    "duration": 12,
    "start_time": "2022-10-23T15:19:00.184Z"
   },
   {
    "duration": 17,
    "start_time": "2022-10-23T15:19:00.198Z"
   },
   {
    "duration": 22,
    "start_time": "2022-10-23T15:19:00.216Z"
   },
   {
    "duration": 64,
    "start_time": "2022-10-23T15:19:00.240Z"
   },
   {
    "duration": 3,
    "start_time": "2022-10-23T15:19:00.305Z"
   },
   {
    "duration": 52,
    "start_time": "2022-10-23T15:19:00.309Z"
   },
   {
    "duration": 2,
    "start_time": "2022-10-23T15:19:00.363Z"
   },
   {
    "duration": 62,
    "start_time": "2022-10-23T15:19:00.366Z"
   },
   {
    "duration": 16,
    "start_time": "2022-10-23T15:19:00.429Z"
   },
   {
    "duration": 64,
    "start_time": "2022-10-23T15:19:00.447Z"
   },
   {
    "duration": 8,
    "start_time": "2022-10-23T15:19:00.512Z"
   },
   {
    "duration": 83,
    "start_time": "2022-10-23T15:19:00.523Z"
   },
   {
    "duration": 45,
    "start_time": "2022-10-23T15:19:00.607Z"
   },
   {
    "duration": 50,
    "start_time": "2022-10-23T15:19:00.654Z"
   },
   {
    "duration": 29,
    "start_time": "2022-10-23T15:19:00.705Z"
   },
   {
    "duration": 35,
    "start_time": "2022-10-23T15:19:00.736Z"
   },
   {
    "duration": 89,
    "start_time": "2022-10-23T15:19:00.773Z"
   },
   {
    "duration": 16,
    "start_time": "2022-10-23T15:19:00.863Z"
   },
   {
    "duration": 37,
    "start_time": "2022-10-23T15:19:00.881Z"
   },
   {
    "duration": 20,
    "start_time": "2022-10-23T15:19:00.920Z"
   },
   {
    "duration": 28,
    "start_time": "2022-10-23T15:19:00.942Z"
   },
   {
    "duration": 33,
    "start_time": "2022-10-23T15:19:00.972Z"
   },
   {
    "duration": 63,
    "start_time": "2022-10-23T15:19:01.006Z"
   },
   {
    "duration": 44,
    "start_time": "2022-10-23T15:19:01.071Z"
   },
   {
    "duration": 47,
    "start_time": "2022-10-23T15:19:01.116Z"
   },
   {
    "duration": 28,
    "start_time": "2022-10-23T15:19:01.164Z"
   },
   {
    "duration": 38,
    "start_time": "2022-10-23T15:19:01.194Z"
   },
   {
    "duration": 328,
    "start_time": "2022-10-23T15:19:01.234Z"
   },
   {
    "duration": 8,
    "start_time": "2022-10-23T15:19:01.563Z"
   },
   {
    "duration": 79,
    "start_time": "2022-10-23T15:19:01.572Z"
   },
   {
    "duration": 39,
    "start_time": "2022-10-23T15:19:01.653Z"
   },
   {
    "duration": 307,
    "start_time": "2022-10-23T15:19:01.693Z"
   },
   {
    "duration": 398,
    "start_time": "2022-10-23T15:19:02.002Z"
   },
   {
    "duration": 279,
    "start_time": "2022-10-23T15:19:37.099Z"
   },
   {
    "duration": 286,
    "start_time": "2022-10-23T15:19:49.968Z"
   },
   {
    "duration": 85,
    "start_time": "2022-10-23T15:25:08.298Z"
   },
   {
    "duration": 4,
    "start_time": "2022-10-23T15:28:44.123Z"
   },
   {
    "duration": 289,
    "start_time": "2022-10-23T15:29:29.483Z"
   },
   {
    "duration": 287,
    "start_time": "2022-10-23T15:29:55.325Z"
   },
   {
    "duration": 307,
    "start_time": "2022-10-23T15:30:24.470Z"
   },
   {
    "duration": 325,
    "start_time": "2022-10-23T15:30:34.077Z"
   },
   {
    "duration": 278,
    "start_time": "2022-10-23T15:30:43.599Z"
   },
   {
    "duration": 584,
    "start_time": "2022-10-23T15:36:29.399Z"
   },
   {
    "duration": 46,
    "start_time": "2022-10-23T15:36:29.985Z"
   },
   {
    "duration": 3,
    "start_time": "2022-10-23T15:36:30.032Z"
   },
   {
    "duration": 34,
    "start_time": "2022-10-23T15:36:30.037Z"
   },
   {
    "duration": 14,
    "start_time": "2022-10-23T15:36:30.073Z"
   },
   {
    "duration": 24,
    "start_time": "2022-10-23T15:36:30.088Z"
   },
   {
    "duration": 20,
    "start_time": "2022-10-23T15:36:30.113Z"
   },
   {
    "duration": 25,
    "start_time": "2022-10-23T15:36:30.134Z"
   },
   {
    "duration": 7,
    "start_time": "2022-10-23T15:36:30.161Z"
   },
   {
    "duration": 64,
    "start_time": "2022-10-23T15:36:30.171Z"
   },
   {
    "duration": 759,
    "start_time": "2022-10-23T15:36:30.237Z"
   },
   {
    "duration": 12,
    "start_time": "2022-10-23T15:36:30.998Z"
   },
   {
    "duration": 32,
    "start_time": "2022-10-23T15:36:31.012Z"
   },
   {
    "duration": 38,
    "start_time": "2022-10-23T15:36:31.045Z"
   },
   {
    "duration": 3,
    "start_time": "2022-10-23T15:36:31.084Z"
   },
   {
    "duration": 27,
    "start_time": "2022-10-23T15:36:31.088Z"
   },
   {
    "duration": 22,
    "start_time": "2022-10-23T15:36:31.116Z"
   },
   {
    "duration": 28,
    "start_time": "2022-10-23T15:36:31.140Z"
   },
   {
    "duration": 38,
    "start_time": "2022-10-23T15:36:31.170Z"
   },
   {
    "duration": 65,
    "start_time": "2022-10-23T15:36:31.209Z"
   },
   {
    "duration": 3,
    "start_time": "2022-10-23T15:36:31.275Z"
   },
   {
    "duration": 75,
    "start_time": "2022-10-23T15:36:31.280Z"
   },
   {
    "duration": 3,
    "start_time": "2022-10-23T15:36:31.356Z"
   },
   {
    "duration": 64,
    "start_time": "2022-10-23T15:36:31.360Z"
   },
   {
    "duration": 20,
    "start_time": "2022-10-23T15:36:31.426Z"
   },
   {
    "duration": 22,
    "start_time": "2022-10-23T15:36:31.448Z"
   },
   {
    "duration": 7,
    "start_time": "2022-10-23T15:36:31.472Z"
   },
   {
    "duration": 27,
    "start_time": "2022-10-23T15:36:31.482Z"
   },
   {
    "duration": 17,
    "start_time": "2022-10-23T15:36:31.510Z"
   },
   {
    "duration": 28,
    "start_time": "2022-10-23T15:36:31.529Z"
   },
   {
    "duration": 15,
    "start_time": "2022-10-23T15:36:31.559Z"
   },
   {
    "duration": 32,
    "start_time": "2022-10-23T15:36:31.575Z"
   },
   {
    "duration": 57,
    "start_time": "2022-10-23T15:36:31.608Z"
   },
   {
    "duration": 17,
    "start_time": "2022-10-23T15:36:31.666Z"
   },
   {
    "duration": 10,
    "start_time": "2022-10-23T15:36:31.685Z"
   },
   {
    "duration": 23,
    "start_time": "2022-10-23T15:36:31.697Z"
   },
   {
    "duration": 30,
    "start_time": "2022-10-23T15:36:31.721Z"
   },
   {
    "duration": 22,
    "start_time": "2022-10-23T15:36:31.753Z"
   },
   {
    "duration": 60,
    "start_time": "2022-10-23T15:36:31.776Z"
   },
   {
    "duration": 24,
    "start_time": "2022-10-23T15:36:31.838Z"
   },
   {
    "duration": 34,
    "start_time": "2022-10-23T15:36:31.863Z"
   },
   {
    "duration": 31,
    "start_time": "2022-10-23T15:36:31.899Z"
   },
   {
    "duration": 23,
    "start_time": "2022-10-23T15:36:31.931Z"
   },
   {
    "duration": 306,
    "start_time": "2022-10-23T15:36:31.956Z"
   },
   {
    "duration": 7,
    "start_time": "2022-10-23T15:36:32.264Z"
   },
   {
    "duration": 14,
    "start_time": "2022-10-23T15:36:32.273Z"
   },
   {
    "duration": 23,
    "start_time": "2022-10-23T15:36:32.288Z"
   },
   {
    "duration": 276,
    "start_time": "2022-10-23T15:36:32.312Z"
   },
   {
    "duration": 349,
    "start_time": "2022-10-23T15:36:32.590Z"
   },
   {
    "duration": 306,
    "start_time": "2022-10-23T15:36:32.941Z"
   },
   {
    "duration": 5,
    "start_time": "2022-10-23T15:36:33.248Z"
   },
   {
    "duration": 322,
    "start_time": "2022-10-23T15:36:33.255Z"
   },
   {
    "duration": 348,
    "start_time": "2022-10-23T15:36:33.578Z"
   },
   {
    "duration": 323,
    "start_time": "2022-10-23T15:36:33.928Z"
   },
   {
    "duration": 1433,
    "start_time": "2022-10-24T11:04:02.828Z"
   },
   {
    "duration": 176,
    "start_time": "2022-10-24T11:04:04.263Z"
   },
   {
    "duration": 3,
    "start_time": "2022-10-24T11:04:04.440Z"
   },
   {
    "duration": 14,
    "start_time": "2022-10-24T11:04:04.445Z"
   },
   {
    "duration": 6,
    "start_time": "2022-10-24T11:04:04.460Z"
   },
   {
    "duration": 13,
    "start_time": "2022-10-24T11:04:04.468Z"
   },
   {
    "duration": 12,
    "start_time": "2022-10-24T11:04:04.483Z"
   },
   {
    "duration": 12,
    "start_time": "2022-10-24T11:04:04.506Z"
   },
   {
    "duration": 3,
    "start_time": "2022-10-24T11:04:04.519Z"
   },
   {
    "duration": 45,
    "start_time": "2022-10-24T11:04:04.524Z"
   },
   {
    "duration": 744,
    "start_time": "2022-10-24T11:04:04.571Z"
   },
   {
    "duration": 11,
    "start_time": "2022-10-24T11:04:05.317Z"
   },
   {
    "duration": 26,
    "start_time": "2022-10-24T11:04:05.329Z"
   },
   {
    "duration": 138,
    "start_time": "2022-10-24T11:04:05.357Z"
   },
   {
    "duration": 3,
    "start_time": "2022-10-24T11:04:05.496Z"
   },
   {
    "duration": 16,
    "start_time": "2022-10-24T11:04:05.501Z"
   },
   {
    "duration": 30,
    "start_time": "2022-10-24T11:04:05.519Z"
   },
   {
    "duration": 21,
    "start_time": "2022-10-24T11:04:05.551Z"
   },
   {
    "duration": 26,
    "start_time": "2022-10-24T11:04:05.573Z"
   },
   {
    "duration": 61,
    "start_time": "2022-10-24T11:04:05.601Z"
   },
   {
    "duration": 3,
    "start_time": "2022-10-24T11:04:05.663Z"
   },
   {
    "duration": 60,
    "start_time": "2022-10-24T11:04:05.667Z"
   },
   {
    "duration": 2,
    "start_time": "2022-10-24T11:04:05.729Z"
   },
   {
    "duration": 61,
    "start_time": "2022-10-24T11:04:05.732Z"
   },
   {
    "duration": 17,
    "start_time": "2022-10-24T11:04:05.795Z"
   },
   {
    "duration": 97,
    "start_time": "2022-10-24T11:04:05.813Z"
   },
   {
    "duration": 7,
    "start_time": "2022-10-24T11:04:05.912Z"
   },
   {
    "duration": 11,
    "start_time": "2022-10-24T11:04:05.923Z"
   },
   {
    "duration": 12,
    "start_time": "2022-10-24T11:04:05.936Z"
   },
   {
    "duration": 23,
    "start_time": "2022-10-24T11:04:05.950Z"
   },
   {
    "duration": 30,
    "start_time": "2022-10-24T11:04:05.974Z"
   },
   {
    "duration": 31,
    "start_time": "2022-10-24T11:04:06.006Z"
   },
   {
    "duration": 53,
    "start_time": "2022-10-24T11:04:06.039Z"
   },
   {
    "duration": 70,
    "start_time": "2022-10-24T11:04:06.094Z"
   },
   {
    "duration": 6,
    "start_time": "2022-10-24T11:04:06.166Z"
   },
   {
    "duration": 31,
    "start_time": "2022-10-24T11:04:06.173Z"
   },
   {
    "duration": 23,
    "start_time": "2022-10-24T11:04:06.206Z"
   },
   {
    "duration": 49,
    "start_time": "2022-10-24T11:04:06.231Z"
   },
   {
    "duration": 53,
    "start_time": "2022-10-24T11:04:06.282Z"
   },
   {
    "duration": 19,
    "start_time": "2022-10-24T11:04:06.336Z"
   },
   {
    "duration": 30,
    "start_time": "2022-10-24T11:04:06.357Z"
   },
   {
    "duration": 47,
    "start_time": "2022-10-24T11:04:06.388Z"
   },
   {
    "duration": 22,
    "start_time": "2022-10-24T11:04:06.437Z"
   },
   {
    "duration": 328,
    "start_time": "2022-10-24T11:04:06.461Z"
   },
   {
    "duration": 8,
    "start_time": "2022-10-24T11:04:06.805Z"
   },
   {
    "duration": 14,
    "start_time": "2022-10-24T11:04:06.814Z"
   },
   {
    "duration": 13,
    "start_time": "2022-10-24T11:04:06.829Z"
   },
   {
    "duration": 318,
    "start_time": "2022-10-24T11:04:06.843Z"
   },
   {
    "duration": 359,
    "start_time": "2022-10-24T11:04:07.163Z"
   },
   {
    "duration": 361,
    "start_time": "2022-10-24T11:04:07.524Z"
   },
   {
    "duration": 5,
    "start_time": "2022-10-24T11:04:07.887Z"
   },
   {
    "duration": 296,
    "start_time": "2022-10-24T11:04:07.893Z"
   },
   {
    "duration": 302,
    "start_time": "2022-10-24T11:04:08.191Z"
   },
   {
    "duration": 273,
    "start_time": "2022-10-24T11:04:08.505Z"
   },
   {
    "duration": 11,
    "start_time": "2022-10-24T11:04:08.779Z"
   },
   {
    "duration": 1518,
    "start_time": "2022-10-24T12:58:17.225Z"
   },
   {
    "duration": 208,
    "start_time": "2022-10-24T12:58:18.745Z"
   },
   {
    "duration": 3,
    "start_time": "2022-10-24T12:58:18.955Z"
   },
   {
    "duration": 14,
    "start_time": "2022-10-24T12:58:18.960Z"
   },
   {
    "duration": 7,
    "start_time": "2022-10-24T12:58:18.976Z"
   },
   {
    "duration": 14,
    "start_time": "2022-10-24T12:58:18.984Z"
   },
   {
    "duration": 11,
    "start_time": "2022-10-24T12:58:19.000Z"
   },
   {
    "duration": 15,
    "start_time": "2022-10-24T12:58:19.033Z"
   },
   {
    "duration": 7,
    "start_time": "2022-10-24T12:58:19.050Z"
   },
   {
    "duration": 49,
    "start_time": "2022-10-24T12:58:19.060Z"
   },
   {
    "duration": 824,
    "start_time": "2022-10-24T12:58:19.111Z"
   },
   {
    "duration": 12,
    "start_time": "2022-10-24T12:58:19.937Z"
   },
   {
    "duration": 19,
    "start_time": "2022-10-24T12:58:19.951Z"
   },
   {
    "duration": 189,
    "start_time": "2022-10-24T12:58:19.972Z"
   },
   {
    "duration": 4,
    "start_time": "2022-10-24T12:58:20.163Z"
   },
   {
    "duration": 20,
    "start_time": "2022-10-24T12:58:20.168Z"
   },
   {
    "duration": 9,
    "start_time": "2022-10-24T12:58:20.190Z"
   },
   {
    "duration": 12,
    "start_time": "2022-10-24T12:58:20.201Z"
   },
   {
    "duration": 8,
    "start_time": "2022-10-24T12:58:20.214Z"
   },
   {
    "duration": 56,
    "start_time": "2022-10-24T12:58:20.223Z"
   },
   {
    "duration": 3,
    "start_time": "2022-10-24T12:58:20.280Z"
   },
   {
    "duration": 59,
    "start_time": "2022-10-24T12:58:20.284Z"
   },
   {
    "duration": 2,
    "start_time": "2022-10-24T12:58:20.345Z"
   },
   {
    "duration": 55,
    "start_time": "2022-10-24T12:58:20.349Z"
   },
   {
    "duration": 32,
    "start_time": "2022-10-24T12:58:20.405Z"
   },
   {
    "duration": 54,
    "start_time": "2022-10-24T12:58:20.438Z"
   },
   {
    "duration": 9,
    "start_time": "2022-10-24T12:58:20.493Z"
   },
   {
    "duration": 11,
    "start_time": "2022-10-24T12:58:20.505Z"
   },
   {
    "duration": 10,
    "start_time": "2022-10-24T12:58:20.517Z"
   },
   {
    "duration": 16,
    "start_time": "2022-10-24T12:58:20.529Z"
   },
   {
    "duration": 5,
    "start_time": "2022-10-24T12:58:20.546Z"
   },
   {
    "duration": 11,
    "start_time": "2022-10-24T12:58:20.552Z"
   },
   {
    "duration": 29,
    "start_time": "2022-10-24T12:58:20.565Z"
   },
   {
    "duration": 106,
    "start_time": "2022-10-24T12:58:20.595Z"
   },
   {
    "duration": 7,
    "start_time": "2022-10-24T12:58:20.703Z"
   },
   {
    "duration": 10,
    "start_time": "2022-10-24T12:58:20.712Z"
   },
   {
    "duration": 13,
    "start_time": "2022-10-24T12:58:20.724Z"
   },
   {
    "duration": 10,
    "start_time": "2022-10-24T12:58:20.739Z"
   },
   {
    "duration": 45,
    "start_time": "2022-10-24T12:58:20.751Z"
   },
   {
    "duration": 11,
    "start_time": "2022-10-24T12:58:20.798Z"
   },
   {
    "duration": 36,
    "start_time": "2022-10-24T12:58:20.811Z"
   },
   {
    "duration": 27,
    "start_time": "2022-10-24T12:58:20.849Z"
   },
   {
    "duration": 25,
    "start_time": "2022-10-24T12:58:20.878Z"
   },
   {
    "duration": 336,
    "start_time": "2022-10-24T12:58:20.905Z"
   },
   {
    "duration": 9,
    "start_time": "2022-10-24T12:58:21.243Z"
   },
   {
    "duration": 16,
    "start_time": "2022-10-24T12:58:21.253Z"
   },
   {
    "duration": 14,
    "start_time": "2022-10-24T12:58:21.271Z"
   },
   {
    "duration": 333,
    "start_time": "2022-10-24T12:58:21.287Z"
   },
   {
    "duration": 339,
    "start_time": "2022-10-24T12:58:21.622Z"
   },
   {
    "duration": 372,
    "start_time": "2022-10-24T12:58:21.963Z"
   },
   {
    "duration": 5,
    "start_time": "2022-10-24T12:58:22.336Z"
   },
   {
    "duration": 301,
    "start_time": "2022-10-24T12:58:22.343Z"
   },
   {
    "duration": 325,
    "start_time": "2022-10-24T12:58:22.645Z"
   },
   {
    "duration": 345,
    "start_time": "2022-10-24T12:58:22.972Z"
   },
   {
    "duration": 15,
    "start_time": "2022-10-24T12:58:23.318Z"
   },
   {
    "duration": 115,
    "start_time": "2022-10-24T12:58:23.335Z"
   },
   {
    "duration": 1388,
    "start_time": "2022-10-24T12:59:21.714Z"
   },
   {
    "duration": 65,
    "start_time": "2022-10-24T12:59:23.104Z"
   },
   {
    "duration": 3,
    "start_time": "2022-10-24T12:59:23.171Z"
   },
   {
    "duration": 24,
    "start_time": "2022-10-24T12:59:23.176Z"
   },
   {
    "duration": 9,
    "start_time": "2022-10-24T12:59:23.202Z"
   },
   {
    "duration": 24,
    "start_time": "2022-10-24T12:59:23.213Z"
   },
   {
    "duration": 26,
    "start_time": "2022-10-24T12:59:23.239Z"
   },
   {
    "duration": 25,
    "start_time": "2022-10-24T12:59:23.267Z"
   },
   {
    "duration": 11,
    "start_time": "2022-10-24T12:59:23.294Z"
   },
   {
    "duration": 56,
    "start_time": "2022-10-24T12:59:23.308Z"
   },
   {
    "duration": 830,
    "start_time": "2022-10-24T12:59:23.365Z"
   },
   {
    "duration": 11,
    "start_time": "2022-10-24T12:59:24.197Z"
   },
   {
    "duration": 34,
    "start_time": "2022-10-24T12:59:24.209Z"
   },
   {
    "duration": 48,
    "start_time": "2022-10-24T12:59:24.245Z"
   },
   {
    "duration": 3,
    "start_time": "2022-10-24T12:59:24.295Z"
   },
   {
    "duration": 34,
    "start_time": "2022-10-24T12:59:24.300Z"
   },
   {
    "duration": 11,
    "start_time": "2022-10-24T12:59:24.335Z"
   },
   {
    "duration": 32,
    "start_time": "2022-10-24T12:59:24.348Z"
   },
   {
    "duration": 12,
    "start_time": "2022-10-24T12:59:24.381Z"
   },
   {
    "duration": 59,
    "start_time": "2022-10-24T12:59:24.395Z"
   },
   {
    "duration": 3,
    "start_time": "2022-10-24T12:59:24.456Z"
   },
   {
    "duration": 59,
    "start_time": "2022-10-24T12:59:24.461Z"
   },
   {
    "duration": 2,
    "start_time": "2022-10-24T12:59:24.522Z"
   },
   {
    "duration": 53,
    "start_time": "2022-10-24T12:59:24.526Z"
   },
   {
    "duration": 20,
    "start_time": "2022-10-24T12:59:24.581Z"
   },
   {
    "duration": 34,
    "start_time": "2022-10-24T12:59:24.602Z"
   },
   {
    "duration": 8,
    "start_time": "2022-10-24T12:59:24.637Z"
   },
   {
    "duration": 24,
    "start_time": "2022-10-24T12:59:24.649Z"
   },
   {
    "duration": 15,
    "start_time": "2022-10-24T12:59:24.674Z"
   },
   {
    "duration": 21,
    "start_time": "2022-10-24T12:59:24.691Z"
   },
   {
    "duration": 9,
    "start_time": "2022-10-24T12:59:24.714Z"
   },
   {
    "duration": 22,
    "start_time": "2022-10-24T12:59:24.725Z"
   },
   {
    "duration": 44,
    "start_time": "2022-10-24T12:59:24.749Z"
   },
   {
    "duration": 22,
    "start_time": "2022-10-24T12:59:24.795Z"
   },
   {
    "duration": 5,
    "start_time": "2022-10-24T12:59:24.819Z"
   },
   {
    "duration": 21,
    "start_time": "2022-10-24T12:59:24.826Z"
   },
   {
    "duration": 31,
    "start_time": "2022-10-24T12:59:24.849Z"
   },
   {
    "duration": 18,
    "start_time": "2022-10-24T12:59:24.882Z"
   },
   {
    "duration": 53,
    "start_time": "2022-10-24T12:59:24.902Z"
   },
   {
    "duration": 11,
    "start_time": "2022-10-24T12:59:24.957Z"
   },
   {
    "duration": 26,
    "start_time": "2022-10-24T12:59:24.969Z"
   },
   {
    "duration": 25,
    "start_time": "2022-10-24T12:59:24.997Z"
   },
   {
    "duration": 33,
    "start_time": "2022-10-24T12:59:25.023Z"
   },
   {
    "duration": 263,
    "start_time": "2022-10-24T12:59:25.057Z"
   },
   {
    "duration": 17,
    "start_time": "2022-10-24T12:59:25.321Z"
   },
   {
    "duration": 23,
    "start_time": "2022-10-24T12:59:25.339Z"
   },
   {
    "duration": 12,
    "start_time": "2022-10-24T12:59:25.363Z"
   },
   {
    "duration": 321,
    "start_time": "2022-10-24T12:59:25.377Z"
   },
   {
    "duration": 396,
    "start_time": "2022-10-24T12:59:25.700Z"
   },
   {
    "duration": 360,
    "start_time": "2022-10-24T12:59:26.098Z"
   },
   {
    "duration": 5,
    "start_time": "2022-10-24T12:59:26.460Z"
   },
   {
    "duration": 358,
    "start_time": "2022-10-24T12:59:26.467Z"
   },
   {
    "duration": 327,
    "start_time": "2022-10-24T12:59:26.827Z"
   },
   {
    "duration": 264,
    "start_time": "2022-10-24T12:59:27.156Z"
   },
   {
    "duration": 19,
    "start_time": "2022-10-24T12:59:27.422Z"
   },
   {
    "duration": 523098,
    "start_time": "2022-10-24T12:59:27.442Z"
   },
   {
    "duration": 1347,
    "start_time": "2022-10-24T13:11:19.265Z"
   },
   {
    "duration": 65,
    "start_time": "2022-10-24T13:11:20.614Z"
   },
   {
    "duration": 2,
    "start_time": "2022-10-24T13:11:20.681Z"
   },
   {
    "duration": 19,
    "start_time": "2022-10-24T13:11:20.685Z"
   },
   {
    "duration": 14,
    "start_time": "2022-10-24T13:11:20.706Z"
   },
   {
    "duration": 12,
    "start_time": "2022-10-24T13:11:20.722Z"
   },
   {
    "duration": 12,
    "start_time": "2022-10-24T13:11:20.736Z"
   },
   {
    "duration": 15,
    "start_time": "2022-10-24T13:11:20.749Z"
   },
   {
    "duration": 4,
    "start_time": "2022-10-24T13:11:20.765Z"
   },
   {
    "duration": 63,
    "start_time": "2022-10-24T13:11:20.771Z"
   },
   {
    "duration": 791,
    "start_time": "2022-10-24T13:11:20.835Z"
   },
   {
    "duration": 15,
    "start_time": "2022-10-24T13:11:21.628Z"
   },
   {
    "duration": 27,
    "start_time": "2022-10-24T13:11:21.645Z"
   },
   {
    "duration": 55,
    "start_time": "2022-10-24T13:11:21.674Z"
   },
   {
    "duration": 3,
    "start_time": "2022-10-24T13:11:21.730Z"
   },
   {
    "duration": 15,
    "start_time": "2022-10-24T13:11:21.735Z"
   },
   {
    "duration": 8,
    "start_time": "2022-10-24T13:11:21.752Z"
   },
   {
    "duration": 12,
    "start_time": "2022-10-24T13:11:21.761Z"
   },
   {
    "duration": 8,
    "start_time": "2022-10-24T13:11:21.775Z"
   },
   {
    "duration": 70,
    "start_time": "2022-10-24T13:11:21.785Z"
   },
   {
    "duration": 2,
    "start_time": "2022-10-24T13:11:21.857Z"
   },
   {
    "duration": 53,
    "start_time": "2022-10-24T13:11:21.861Z"
   },
   {
    "duration": 3,
    "start_time": "2022-10-24T13:11:21.915Z"
   },
   {
    "duration": 48,
    "start_time": "2022-10-24T13:11:21.933Z"
   },
   {
    "duration": 18,
    "start_time": "2022-10-24T13:11:21.983Z"
   },
   {
    "duration": 34,
    "start_time": "2022-10-24T13:11:22.002Z"
   },
   {
    "duration": 8,
    "start_time": "2022-10-24T13:11:22.038Z"
   },
   {
    "duration": 10,
    "start_time": "2022-10-24T13:11:22.050Z"
   },
   {
    "duration": 7,
    "start_time": "2022-10-24T13:11:22.062Z"
   },
   {
    "duration": 14,
    "start_time": "2022-10-24T13:11:22.071Z"
   },
   {
    "duration": 5,
    "start_time": "2022-10-24T13:11:22.086Z"
   },
   {
    "duration": 21,
    "start_time": "2022-10-24T13:11:22.092Z"
   },
   {
    "duration": 27,
    "start_time": "2022-10-24T13:11:22.133Z"
   },
   {
    "duration": 25,
    "start_time": "2022-10-24T13:11:22.162Z"
   },
   {
    "duration": 6,
    "start_time": "2022-10-24T13:11:22.189Z"
   },
   {
    "duration": 9,
    "start_time": "2022-10-24T13:11:22.197Z"
   },
   {
    "duration": 29,
    "start_time": "2022-10-24T13:11:22.208Z"
   },
   {
    "duration": 9,
    "start_time": "2022-10-24T13:11:22.238Z"
   },
   {
    "duration": 46,
    "start_time": "2022-10-24T13:11:22.249Z"
   },
   {
    "duration": 11,
    "start_time": "2022-10-24T13:11:22.296Z"
   },
   {
    "duration": 33,
    "start_time": "2022-10-24T13:11:22.309Z"
   },
   {
    "duration": 29,
    "start_time": "2022-10-24T13:11:22.344Z"
   },
   {
    "duration": 26,
    "start_time": "2022-10-24T13:11:22.375Z"
   },
   {
    "duration": 320,
    "start_time": "2022-10-24T13:11:22.402Z"
   },
   {
    "duration": 11,
    "start_time": "2022-10-24T13:11:22.724Z"
   },
   {
    "duration": 15,
    "start_time": "2022-10-24T13:11:22.737Z"
   },
   {
    "duration": 14,
    "start_time": "2022-10-24T13:11:22.753Z"
   },
   {
    "duration": 337,
    "start_time": "2022-10-24T13:11:22.769Z"
   },
   {
    "duration": 416,
    "start_time": "2022-10-24T13:11:23.108Z"
   },
   {
    "duration": 299,
    "start_time": "2022-10-24T13:11:23.526Z"
   },
   {
    "duration": 9,
    "start_time": "2022-10-24T13:11:23.827Z"
   },
   {
    "duration": 282,
    "start_time": "2022-10-24T13:11:23.838Z"
   },
   {
    "duration": 313,
    "start_time": "2022-10-24T13:11:24.122Z"
   },
   {
    "duration": 277,
    "start_time": "2022-10-24T13:11:24.437Z"
   },
   {
    "duration": 20,
    "start_time": "2022-10-24T13:11:24.716Z"
   },
   {
    "duration": 406306,
    "start_time": "2022-10-24T13:11:24.738Z"
   },
   {
    "duration": 384494,
    "start_time": "2022-10-24T13:19:48.946Z"
   },
   {
    "duration": 361323,
    "start_time": "2022-10-24T13:27:59.741Z"
   },
   {
    "duration": 2392,
    "start_time": "2022-10-25T04:56:37.912Z"
   },
   {
    "duration": 217,
    "start_time": "2022-10-25T04:56:40.307Z"
   },
   {
    "duration": 3,
    "start_time": "2022-10-25T04:56:40.528Z"
   },
   {
    "duration": 15,
    "start_time": "2022-10-25T04:56:40.535Z"
   },
   {
    "duration": 38,
    "start_time": "2022-10-25T04:56:40.552Z"
   },
   {
    "duration": 50,
    "start_time": "2022-10-25T04:56:40.592Z"
   },
   {
    "duration": 28,
    "start_time": "2022-10-25T04:56:40.645Z"
   },
   {
    "duration": 61,
    "start_time": "2022-10-25T04:56:40.689Z"
   },
   {
    "duration": 14,
    "start_time": "2022-10-25T04:56:40.751Z"
   },
   {
    "duration": 114,
    "start_time": "2022-10-25T04:56:40.775Z"
   },
   {
    "duration": 1237,
    "start_time": "2022-10-25T04:56:40.891Z"
   },
   {
    "duration": 31,
    "start_time": "2022-10-25T04:56:42.130Z"
   },
   {
    "duration": 35,
    "start_time": "2022-10-25T04:56:42.163Z"
   },
   {
    "duration": 235,
    "start_time": "2022-10-25T04:56:42.205Z"
   },
   {
    "duration": 5,
    "start_time": "2022-10-25T04:56:42.444Z"
   },
   {
    "duration": 127,
    "start_time": "2022-10-25T04:56:42.451Z"
   },
   {
    "duration": 61,
    "start_time": "2022-10-25T04:56:42.588Z"
   },
   {
    "duration": 91,
    "start_time": "2022-10-25T04:56:42.653Z"
   },
   {
    "duration": 101,
    "start_time": "2022-10-25T04:56:42.747Z"
   },
   {
    "duration": 162,
    "start_time": "2022-10-25T04:56:42.851Z"
   },
   {
    "duration": 4,
    "start_time": "2022-10-25T04:56:43.015Z"
   },
   {
    "duration": 124,
    "start_time": "2022-10-25T04:56:43.021Z"
   },
   {
    "duration": 4,
    "start_time": "2022-10-25T04:56:43.147Z"
   },
   {
    "duration": 184,
    "start_time": "2022-10-25T04:56:43.154Z"
   },
   {
    "duration": 34,
    "start_time": "2022-10-25T04:56:43.341Z"
   },
   {
    "duration": 176,
    "start_time": "2022-10-25T04:56:43.377Z"
   },
   {
    "duration": 29,
    "start_time": "2022-10-25T04:56:43.560Z"
   },
   {
    "duration": 31,
    "start_time": "2022-10-25T04:56:43.601Z"
   },
   {
    "duration": 6,
    "start_time": "2022-10-25T04:56:43.636Z"
   },
   {
    "duration": 20,
    "start_time": "2022-10-25T04:56:43.644Z"
   },
   {
    "duration": 60,
    "start_time": "2022-10-25T04:56:43.670Z"
   },
   {
    "duration": 16,
    "start_time": "2022-10-25T04:56:43.733Z"
   },
   {
    "duration": 124,
    "start_time": "2022-10-25T04:56:43.751Z"
   },
   {
    "duration": 134,
    "start_time": "2022-10-25T04:56:43.882Z"
   },
   {
    "duration": 8,
    "start_time": "2022-10-25T04:56:44.018Z"
   },
   {
    "duration": 13,
    "start_time": "2022-10-25T04:56:44.028Z"
   },
   {
    "duration": 12,
    "start_time": "2022-10-25T04:56:44.043Z"
   },
   {
    "duration": 56,
    "start_time": "2022-10-25T04:56:44.066Z"
   },
   {
    "duration": 96,
    "start_time": "2022-10-25T04:56:44.125Z"
   },
   {
    "duration": 18,
    "start_time": "2022-10-25T04:56:44.223Z"
   },
   {
    "duration": 25,
    "start_time": "2022-10-25T04:56:44.243Z"
   },
   {
    "duration": 92,
    "start_time": "2022-10-25T04:56:44.269Z"
   },
   {
    "duration": 49,
    "start_time": "2022-10-25T04:56:44.363Z"
   },
   {
    "duration": 389,
    "start_time": "2022-10-25T04:56:44.413Z"
   },
   {
    "duration": 10,
    "start_time": "2022-10-25T04:56:44.803Z"
   },
   {
    "duration": 31,
    "start_time": "2022-10-25T04:56:44.816Z"
   },
   {
    "duration": 16,
    "start_time": "2022-10-25T04:56:44.849Z"
   },
   {
    "duration": 464,
    "start_time": "2022-10-25T04:56:44.866Z"
   },
   {
    "duration": 597,
    "start_time": "2022-10-25T04:56:45.336Z"
   },
   {
    "duration": 434,
    "start_time": "2022-10-25T04:56:45.935Z"
   },
   {
    "duration": 26,
    "start_time": "2022-10-25T04:56:46.373Z"
   },
   {
    "duration": 467,
    "start_time": "2022-10-25T04:56:46.407Z"
   },
   {
    "duration": 400,
    "start_time": "2022-10-25T04:56:46.876Z"
   },
   {
    "duration": 438,
    "start_time": "2022-10-25T04:56:47.282Z"
   },
   {
    "duration": 11,
    "start_time": "2022-10-25T04:56:47.725Z"
   },
   {
    "duration": 2589,
    "start_time": "2022-10-25T06:25:00.839Z"
   },
   {
    "duration": 125,
    "start_time": "2022-10-25T06:25:03.436Z"
   },
   {
    "duration": 6,
    "start_time": "2022-10-25T06:25:03.568Z"
   },
   {
    "duration": 135,
    "start_time": "2022-10-25T06:25:03.577Z"
   },
   {
    "duration": 124,
    "start_time": "2022-10-25T06:25:03.718Z"
   },
   {
    "duration": 65,
    "start_time": "2022-10-25T06:25:03.848Z"
   },
   {
    "duration": 80,
    "start_time": "2022-10-25T06:25:03.921Z"
   },
   {
    "duration": 128,
    "start_time": "2022-10-25T06:25:04.007Z"
   },
   {
    "duration": 72,
    "start_time": "2022-10-25T06:25:04.138Z"
   },
   {
    "duration": 98,
    "start_time": "2022-10-25T06:25:04.216Z"
   },
   {
    "duration": 1447,
    "start_time": "2022-10-25T06:25:04.316Z"
   },
   {
    "duration": 24,
    "start_time": "2022-10-25T06:25:05.768Z"
   },
   {
    "duration": 128,
    "start_time": "2022-10-25T06:25:05.798Z"
   },
   {
    "duration": 219,
    "start_time": "2022-10-25T06:25:05.933Z"
   },
   {
    "duration": 68,
    "start_time": "2022-10-25T06:25:06.154Z"
   },
   {
    "duration": 54,
    "start_time": "2022-10-25T06:25:06.225Z"
   },
   {
    "duration": 155,
    "start_time": "2022-10-25T06:25:06.285Z"
   },
   {
    "duration": 92,
    "start_time": "2022-10-25T06:25:06.442Z"
   },
   {
    "duration": 10,
    "start_time": "2022-10-25T06:25:06.536Z"
   },
   {
    "duration": 189,
    "start_time": "2022-10-25T06:25:06.548Z"
   },
   {
    "duration": 48,
    "start_time": "2022-10-25T06:25:06.743Z"
   },
   {
    "duration": 278,
    "start_time": "2022-10-25T06:25:06.797Z"
   },
   {
    "duration": 11,
    "start_time": "2022-10-25T06:25:07.088Z"
   },
   {
    "duration": 121,
    "start_time": "2022-10-25T06:25:07.112Z"
   },
   {
    "duration": 66,
    "start_time": "2022-10-25T06:25:07.240Z"
   },
   {
    "duration": 195,
    "start_time": "2022-10-25T06:25:07.312Z"
   },
   {
    "duration": 20,
    "start_time": "2022-10-25T06:25:07.517Z"
   },
   {
    "duration": 102,
    "start_time": "2022-10-25T06:25:07.543Z"
   },
   {
    "duration": 100,
    "start_time": "2022-10-25T06:25:07.648Z"
   },
   {
    "duration": 100,
    "start_time": "2022-10-25T06:25:07.751Z"
   },
   {
    "duration": 60,
    "start_time": "2022-10-25T06:25:07.854Z"
   },
   {
    "duration": 73,
    "start_time": "2022-10-25T06:25:07.917Z"
   },
   {
    "duration": 99,
    "start_time": "2022-10-25T06:25:07.992Z"
   },
   {
    "duration": 150,
    "start_time": "2022-10-25T06:25:08.097Z"
   },
   {
    "duration": 36,
    "start_time": "2022-10-25T06:25:08.253Z"
   },
   {
    "duration": 115,
    "start_time": "2022-10-25T06:25:08.296Z"
   },
   {
    "duration": 86,
    "start_time": "2022-10-25T06:25:08.413Z"
   },
   {
    "duration": 47,
    "start_time": "2022-10-25T06:25:08.504Z"
   },
   {
    "duration": 152,
    "start_time": "2022-10-25T06:25:08.561Z"
   },
   {
    "duration": 91,
    "start_time": "2022-10-25T06:25:08.715Z"
   },
   {
    "duration": 50,
    "start_time": "2022-10-25T06:25:08.816Z"
   },
   {
    "duration": 173,
    "start_time": "2022-10-25T06:25:08.880Z"
   },
   {
    "duration": 131,
    "start_time": "2022-10-25T06:25:09.064Z"
   },
   {
    "duration": 483,
    "start_time": "2022-10-25T06:25:09.212Z"
   },
   {
    "duration": 12,
    "start_time": "2022-10-25T06:25:09.700Z"
   },
   {
    "duration": 118,
    "start_time": "2022-10-25T06:25:09.715Z"
   },
   {
    "duration": 90,
    "start_time": "2022-10-25T06:25:09.835Z"
   },
   {
    "duration": 364,
    "start_time": "2022-10-25T06:25:09.926Z"
   },
   {
    "duration": 682,
    "start_time": "2022-10-25T06:25:10.295Z"
   },
   {
    "duration": 449,
    "start_time": "2022-10-25T06:25:10.983Z"
   },
   {
    "duration": 31,
    "start_time": "2022-10-25T06:25:11.441Z"
   },
   {
    "duration": 614,
    "start_time": "2022-10-25T06:25:11.479Z"
   },
   {
    "duration": 525,
    "start_time": "2022-10-25T06:25:12.099Z"
   },
   {
    "duration": 447,
    "start_time": "2022-10-25T06:25:12.630Z"
   },
   {
    "duration": 23,
    "start_time": "2022-10-25T06:25:13.083Z"
   },
   {
    "duration": 171,
    "start_time": "2022-10-25T06:25:13.120Z"
   },
   {
    "duration": 15639,
    "start_time": "2022-10-25T06:25:22.592Z"
   },
   {
    "duration": 67,
    "start_time": "2022-10-25T06:26:42.904Z"
   },
   {
    "duration": 24,
    "start_time": "2022-10-25T06:27:02.411Z"
   },
   {
    "duration": 15803,
    "start_time": "2022-10-25T06:27:06.524Z"
   },
   {
    "duration": 19,
    "start_time": "2022-10-25T06:33:13.550Z"
   },
   {
    "duration": 634,
    "start_time": "2022-10-25T06:34:02.669Z"
   },
   {
    "duration": 0,
    "start_time": "2022-10-25T06:34:03.310Z"
   },
   {
    "duration": 0,
    "start_time": "2022-10-25T06:34:03.316Z"
   },
   {
    "duration": 0,
    "start_time": "2022-10-25T06:34:03.317Z"
   },
   {
    "duration": 0,
    "start_time": "2022-10-25T06:34:03.319Z"
   },
   {
    "duration": 0,
    "start_time": "2022-10-25T06:34:03.321Z"
   },
   {
    "duration": 0,
    "start_time": "2022-10-25T06:34:03.324Z"
   },
   {
    "duration": 0,
    "start_time": "2022-10-25T06:34:03.325Z"
   },
   {
    "duration": 0,
    "start_time": "2022-10-25T06:34:03.326Z"
   },
   {
    "duration": 0,
    "start_time": "2022-10-25T06:34:03.328Z"
   },
   {
    "duration": 0,
    "start_time": "2022-10-25T06:34:03.329Z"
   },
   {
    "duration": 0,
    "start_time": "2022-10-25T06:34:03.330Z"
   },
   {
    "duration": 0,
    "start_time": "2022-10-25T06:34:03.331Z"
   },
   {
    "duration": 0,
    "start_time": "2022-10-25T06:34:03.332Z"
   },
   {
    "duration": 0,
    "start_time": "2022-10-25T06:34:03.334Z"
   },
   {
    "duration": 0,
    "start_time": "2022-10-25T06:34:03.337Z"
   },
   {
    "duration": 0,
    "start_time": "2022-10-25T06:34:03.339Z"
   },
   {
    "duration": 0,
    "start_time": "2022-10-25T06:34:03.353Z"
   },
   {
    "duration": 0,
    "start_time": "2022-10-25T06:34:03.355Z"
   },
   {
    "duration": 0,
    "start_time": "2022-10-25T06:34:03.357Z"
   },
   {
    "duration": 0,
    "start_time": "2022-10-25T06:34:03.358Z"
   },
   {
    "duration": 0,
    "start_time": "2022-10-25T06:34:03.360Z"
   },
   {
    "duration": 0,
    "start_time": "2022-10-25T06:34:03.361Z"
   },
   {
    "duration": 0,
    "start_time": "2022-10-25T06:34:03.365Z"
   },
   {
    "duration": 0,
    "start_time": "2022-10-25T06:34:03.367Z"
   },
   {
    "duration": 0,
    "start_time": "2022-10-25T06:34:03.368Z"
   },
   {
    "duration": 0,
    "start_time": "2022-10-25T06:34:03.370Z"
   },
   {
    "duration": 0,
    "start_time": "2022-10-25T06:34:03.372Z"
   },
   {
    "duration": 0,
    "start_time": "2022-10-25T06:34:03.373Z"
   },
   {
    "duration": 0,
    "start_time": "2022-10-25T06:34:03.375Z"
   },
   {
    "duration": 0,
    "start_time": "2022-10-25T06:34:03.377Z"
   },
   {
    "duration": 0,
    "start_time": "2022-10-25T06:34:03.379Z"
   },
   {
    "duration": 0,
    "start_time": "2022-10-25T06:34:03.380Z"
   },
   {
    "duration": 0,
    "start_time": "2022-10-25T06:34:03.382Z"
   },
   {
    "duration": 0,
    "start_time": "2022-10-25T06:34:03.386Z"
   },
   {
    "duration": 0,
    "start_time": "2022-10-25T06:34:03.389Z"
   },
   {
    "duration": 0,
    "start_time": "2022-10-25T06:34:03.391Z"
   },
   {
    "duration": 0,
    "start_time": "2022-10-25T06:34:03.393Z"
   },
   {
    "duration": 0,
    "start_time": "2022-10-25T06:34:03.394Z"
   },
   {
    "duration": 0,
    "start_time": "2022-10-25T06:34:03.396Z"
   },
   {
    "duration": 0,
    "start_time": "2022-10-25T06:34:03.397Z"
   },
   {
    "duration": 0,
    "start_time": "2022-10-25T06:34:03.400Z"
   },
   {
    "duration": 0,
    "start_time": "2022-10-25T06:34:03.401Z"
   },
   {
    "duration": 0,
    "start_time": "2022-10-25T06:34:03.403Z"
   },
   {
    "duration": 0,
    "start_time": "2022-10-25T06:34:03.405Z"
   },
   {
    "duration": 0,
    "start_time": "2022-10-25T06:34:03.406Z"
   },
   {
    "duration": 0,
    "start_time": "2022-10-25T06:34:03.407Z"
   },
   {
    "duration": 0,
    "start_time": "2022-10-25T06:34:03.408Z"
   },
   {
    "duration": 0,
    "start_time": "2022-10-25T06:34:03.409Z"
   },
   {
    "duration": 0,
    "start_time": "2022-10-25T06:34:03.410Z"
   },
   {
    "duration": 0,
    "start_time": "2022-10-25T06:34:03.411Z"
   },
   {
    "duration": 0,
    "start_time": "2022-10-25T06:34:03.457Z"
   },
   {
    "duration": 0,
    "start_time": "2022-10-25T06:34:03.459Z"
   },
   {
    "duration": 0,
    "start_time": "2022-10-25T06:34:03.461Z"
   },
   {
    "duration": 0,
    "start_time": "2022-10-25T06:34:03.462Z"
   },
   {
    "duration": 0,
    "start_time": "2022-10-25T06:34:03.464Z"
   },
   {
    "duration": 0,
    "start_time": "2022-10-25T06:34:03.465Z"
   },
   {
    "duration": 1167,
    "start_time": "2022-10-25T06:34:57.899Z"
   },
   {
    "duration": 608,
    "start_time": "2022-10-25T06:35:22.739Z"
   },
   {
    "duration": 163,
    "start_time": "2022-10-25T06:37:47.896Z"
   },
   {
    "duration": 11,
    "start_time": "2022-10-25T06:37:51.592Z"
   },
   {
    "duration": 44,
    "start_time": "2022-10-25T06:37:52.915Z"
   },
   {
    "duration": 28,
    "start_time": "2022-10-25T06:37:54.407Z"
   },
   {
    "duration": 37,
    "start_time": "2022-10-25T06:37:56.041Z"
   },
   {
    "duration": 46,
    "start_time": "2022-10-25T06:37:58.427Z"
   },
   {
    "duration": 55,
    "start_time": "2022-10-25T06:38:00.668Z"
   },
   {
    "duration": 15,
    "start_time": "2022-10-25T06:38:04.056Z"
   },
   {
    "duration": 151,
    "start_time": "2022-10-25T06:38:05.375Z"
   },
   {
    "duration": 1731,
    "start_time": "2022-10-25T06:38:07.504Z"
   },
   {
    "duration": 42,
    "start_time": "2022-10-25T06:38:10.633Z"
   },
   {
    "duration": 62,
    "start_time": "2022-10-25T06:38:12.537Z"
   },
   {
    "duration": 93,
    "start_time": "2022-10-25T06:38:15.246Z"
   },
   {
    "duration": 8,
    "start_time": "2022-10-25T06:38:17.135Z"
   },
   {
    "duration": 56,
    "start_time": "2022-10-25T06:38:18.314Z"
   },
   {
    "duration": 38,
    "start_time": "2022-10-25T06:38:20.827Z"
   },
   {
    "duration": 44,
    "start_time": "2022-10-25T06:38:22.331Z"
   },
   {
    "duration": 16,
    "start_time": "2022-10-25T06:38:24.691Z"
   },
   {
    "duration": 214,
    "start_time": "2022-10-25T06:38:25.421Z"
   },
   {
    "duration": 21,
    "start_time": "2022-10-25T06:38:27.978Z"
   },
   {
    "duration": 180,
    "start_time": "2022-10-25T06:38:29.211Z"
   },
   {
    "duration": 14,
    "start_time": "2022-10-25T06:38:31.297Z"
   },
   {
    "duration": 151,
    "start_time": "2022-10-25T06:38:32.972Z"
   },
   {
    "duration": 42,
    "start_time": "2022-10-25T06:38:34.780Z"
   },
   {
    "duration": 150,
    "start_time": "2022-10-25T06:38:36.738Z"
   },
   {
    "duration": 36,
    "start_time": "2022-10-25T06:38:39.039Z"
   },
   {
    "duration": 36,
    "start_time": "2022-10-25T06:38:40.199Z"
   },
   {
    "duration": 14,
    "start_time": "2022-10-25T06:38:42.373Z"
   },
   {
    "duration": 42,
    "start_time": "2022-10-25T06:38:44.609Z"
   },
   {
    "duration": 18,
    "start_time": "2022-10-25T06:38:46.385Z"
   },
   {
    "duration": 38,
    "start_time": "2022-10-25T06:38:51.669Z"
   },
   {
    "duration": 114,
    "start_time": "2022-10-25T06:38:52.897Z"
   },
   {
    "duration": 201,
    "start_time": "2022-10-25T06:38:54.742Z"
   },
   {
    "duration": 23,
    "start_time": "2022-10-25T06:38:56.472Z"
   },
   {
    "duration": 46,
    "start_time": "2022-10-25T06:38:57.617Z"
   },
   {
    "duration": 26,
    "start_time": "2022-10-25T06:38:59.793Z"
   },
   {
    "duration": 22,
    "start_time": "2022-10-25T06:39:01.017Z"
   },
   {
    "duration": 170,
    "start_time": "2022-10-25T06:39:03.061Z"
   },
   {
    "duration": 47,
    "start_time": "2022-10-25T06:39:04.672Z"
   },
   {
    "duration": 50,
    "start_time": "2022-10-25T06:39:06.982Z"
   },
   {
    "duration": 51,
    "start_time": "2022-10-25T06:39:08.909Z"
   },
   {
    "duration": 48,
    "start_time": "2022-10-25T06:39:10.979Z"
   },
   {
    "duration": 358,
    "start_time": "2022-10-25T06:39:12.912Z"
   },
   {
    "duration": 16,
    "start_time": "2022-10-25T06:39:15.978Z"
   },
   {
    "duration": 26,
    "start_time": "2022-10-25T06:39:18.551Z"
   },
   {
    "duration": 27,
    "start_time": "2022-10-25T06:39:20.473Z"
   },
   {
    "duration": 472,
    "start_time": "2022-10-25T06:39:22.380Z"
   },
   {
    "duration": 501,
    "start_time": "2022-10-25T06:39:25.240Z"
   },
   {
    "duration": 409,
    "start_time": "2022-10-25T06:39:27.614Z"
   },
   {
    "duration": 6,
    "start_time": "2022-10-25T06:39:30.036Z"
   },
   {
    "duration": 389,
    "start_time": "2022-10-25T06:39:32.242Z"
   },
   {
    "duration": 374,
    "start_time": "2022-10-25T06:39:34.439Z"
   },
   {
    "duration": 376,
    "start_time": "2022-10-25T06:39:36.549Z"
   },
   {
    "duration": 18,
    "start_time": "2022-10-25T06:39:53.121Z"
   },
   {
    "duration": 62,
    "start_time": "2022-10-25T06:46:41.781Z"
   },
   {
    "duration": 83,
    "start_time": "2022-10-25T07:03:18.623Z"
   },
   {
    "duration": 38,
    "start_time": "2022-10-25T07:03:24.446Z"
   },
   {
    "duration": 1036,
    "start_time": "2022-10-25T07:13:32.327Z"
   },
   {
    "duration": 971,
    "start_time": "2022-10-25T07:13:43.194Z"
   },
   {
    "duration": 36,
    "start_time": "2022-10-25T07:14:08.047Z"
   },
   {
    "duration": 708,
    "start_time": "2022-10-25T07:15:02.462Z"
   },
   {
    "duration": 128974,
    "start_time": "2022-10-25T07:15:08.548Z"
   },
   {
    "duration": 2213,
    "start_time": "2022-10-25T07:24:09.624Z"
   },
   {
    "duration": 155,
    "start_time": "2022-10-25T07:24:11.839Z"
   },
   {
    "duration": 94,
    "start_time": "2022-10-25T07:24:11.999Z"
   },
   {
    "duration": 131,
    "start_time": "2022-10-25T07:24:12.103Z"
   },
   {
    "duration": 104,
    "start_time": "2022-10-25T07:24:12.237Z"
   },
   {
    "duration": 126,
    "start_time": "2022-10-25T07:24:12.344Z"
   },
   {
    "duration": 173,
    "start_time": "2022-10-25T07:24:12.472Z"
   },
   {
    "duration": 127,
    "start_time": "2022-10-25T07:24:12.648Z"
   },
   {
    "duration": 111,
    "start_time": "2022-10-25T07:24:12.777Z"
   },
   {
    "duration": 218,
    "start_time": "2022-10-25T07:24:12.901Z"
   },
   {
    "duration": 1505,
    "start_time": "2022-10-25T07:24:13.121Z"
   },
   {
    "duration": 22,
    "start_time": "2022-10-25T07:24:14.631Z"
   },
   {
    "duration": 211,
    "start_time": "2022-10-25T07:24:14.655Z"
   },
   {
    "duration": 280,
    "start_time": "2022-10-25T07:24:14.870Z"
   },
   {
    "duration": 32,
    "start_time": "2022-10-25T07:24:15.152Z"
   },
   {
    "duration": 107,
    "start_time": "2022-10-25T07:24:15.186Z"
   },
   {
    "duration": 45,
    "start_time": "2022-10-25T07:24:15.295Z"
   },
   {
    "duration": 103,
    "start_time": "2022-10-25T07:24:15.342Z"
   },
   {
    "duration": 70,
    "start_time": "2022-10-25T07:24:15.448Z"
   },
   {
    "duration": 123,
    "start_time": "2022-10-25T07:24:15.520Z"
   },
   {
    "duration": 31,
    "start_time": "2022-10-25T07:24:15.645Z"
   },
   {
    "duration": 156,
    "start_time": "2022-10-25T07:24:15.678Z"
   },
   {
    "duration": 54,
    "start_time": "2022-10-25T07:24:15.840Z"
   },
   {
    "duration": 273,
    "start_time": "2022-10-25T07:24:15.899Z"
   },
   {
    "duration": 56,
    "start_time": "2022-10-25T07:24:16.180Z"
   },
   {
    "duration": 211,
    "start_time": "2022-10-25T07:24:16.240Z"
   },
   {
    "duration": 30,
    "start_time": "2022-10-25T07:24:16.453Z"
   },
   {
    "duration": 139,
    "start_time": "2022-10-25T07:24:16.486Z"
   },
   {
    "duration": 96,
    "start_time": "2022-10-25T07:24:16.628Z"
   },
   {
    "duration": 58,
    "start_time": "2022-10-25T07:24:16.726Z"
   },
   {
    "duration": 94,
    "start_time": "2022-10-25T07:24:16.792Z"
   },
   {
    "duration": 140,
    "start_time": "2022-10-25T07:24:16.897Z"
   },
   {
    "duration": 130,
    "start_time": "2022-10-25T07:24:17.045Z"
   },
   {
    "duration": 122,
    "start_time": "2022-10-25T07:24:17.181Z"
   },
   {
    "duration": 64,
    "start_time": "2022-10-25T07:24:17.307Z"
   },
   {
    "duration": 168,
    "start_time": "2022-10-25T07:24:17.379Z"
   },
   {
    "duration": 89,
    "start_time": "2022-10-25T07:24:17.549Z"
   },
   {
    "duration": 126,
    "start_time": "2022-10-25T07:24:17.641Z"
   },
   {
    "duration": 265,
    "start_time": "2022-10-25T07:24:17.769Z"
   },
   {
    "duration": 88,
    "start_time": "2022-10-25T07:24:18.038Z"
   },
   {
    "duration": 120,
    "start_time": "2022-10-25T07:24:18.132Z"
   },
   {
    "duration": 80,
    "start_time": "2022-10-25T07:24:18.255Z"
   },
   {
    "duration": 81,
    "start_time": "2022-10-25T07:24:18.340Z"
   },
   {
    "duration": 464,
    "start_time": "2022-10-25T07:24:18.424Z"
   },
   {
    "duration": 10,
    "start_time": "2022-10-25T07:24:18.890Z"
   },
   {
    "duration": 30,
    "start_time": "2022-10-25T07:24:18.902Z"
   },
   {
    "duration": 85,
    "start_time": "2022-10-25T07:24:18.935Z"
   },
   {
    "duration": 638,
    "start_time": "2022-10-25T07:24:19.022Z"
   },
   {
    "duration": 539,
    "start_time": "2022-10-25T07:24:19.666Z"
   },
   {
    "duration": 430,
    "start_time": "2022-10-25T07:24:20.213Z"
   },
   {
    "duration": 15,
    "start_time": "2022-10-25T07:24:20.647Z"
   },
   {
    "duration": 596,
    "start_time": "2022-10-25T07:24:20.671Z"
   },
   {
    "duration": 692,
    "start_time": "2022-10-25T07:24:21.274Z"
   },
   {
    "duration": 395,
    "start_time": "2022-10-25T07:24:21.972Z"
   },
   {
    "duration": 1073,
    "start_time": "2022-10-25T07:24:22.375Z"
   },
   {
    "duration": 545,
    "start_time": "2022-10-25T07:24:23.450Z"
   },
   {
    "duration": 194,
    "start_time": "2022-10-25T07:24:23.997Z"
   },
   {
    "duration": 0,
    "start_time": "2022-10-25T07:24:24.202Z"
   },
   {
    "duration": 0,
    "start_time": "2022-10-25T08:01:14.653Z"
   },
   {
    "duration": 1625443,
    "start_time": "2022-10-25T08:01:42.097Z"
   },
   {
    "duration": 80434,
    "start_time": "2022-10-25T08:46:23.184Z"
   },
   {
    "duration": 1664,
    "start_time": "2022-10-25T08:52:14.274Z"
   },
   {
    "duration": 81,
    "start_time": "2022-10-25T08:52:15.940Z"
   },
   {
    "duration": 4,
    "start_time": "2022-10-25T08:52:16.024Z"
   },
   {
    "duration": 26,
    "start_time": "2022-10-25T08:52:16.029Z"
   },
   {
    "duration": 16,
    "start_time": "2022-10-25T08:52:16.058Z"
   },
   {
    "duration": 32,
    "start_time": "2022-10-25T08:52:16.076Z"
   },
   {
    "duration": 19,
    "start_time": "2022-10-25T08:52:16.110Z"
   },
   {
    "duration": 42,
    "start_time": "2022-10-25T08:52:16.131Z"
   },
   {
    "duration": 12,
    "start_time": "2022-10-25T08:52:16.184Z"
   },
   {
    "duration": 62,
    "start_time": "2022-10-25T08:52:16.197Z"
   },
   {
    "duration": 970,
    "start_time": "2022-10-25T08:52:16.261Z"
   },
   {
    "duration": 30,
    "start_time": "2022-10-25T08:52:17.233Z"
   },
   {
    "duration": 37,
    "start_time": "2022-10-25T08:52:17.265Z"
   },
   {
    "duration": 94,
    "start_time": "2022-10-25T08:52:17.307Z"
   },
   {
    "duration": 3,
    "start_time": "2022-10-25T08:52:17.403Z"
   },
   {
    "duration": 43,
    "start_time": "2022-10-25T08:52:17.409Z"
   },
   {
    "duration": 48,
    "start_time": "2022-10-25T08:52:17.453Z"
   },
   {
    "duration": 49,
    "start_time": "2022-10-25T08:52:17.504Z"
   },
   {
    "duration": 47,
    "start_time": "2022-10-25T08:52:17.561Z"
   },
   {
    "duration": 106,
    "start_time": "2022-10-25T08:52:17.610Z"
   },
   {
    "duration": 3,
    "start_time": "2022-10-25T08:52:17.718Z"
   },
   {
    "duration": 99,
    "start_time": "2022-10-25T08:52:17.723Z"
   },
   {
    "duration": 3,
    "start_time": "2022-10-25T08:52:17.824Z"
   },
   {
    "duration": 109,
    "start_time": "2022-10-25T08:52:17.828Z"
   },
   {
    "duration": 24,
    "start_time": "2022-10-25T08:52:17.939Z"
   },
   {
    "duration": 64,
    "start_time": "2022-10-25T08:52:17.966Z"
   },
   {
    "duration": 8,
    "start_time": "2022-10-25T08:52:18.032Z"
   },
   {
    "duration": 28,
    "start_time": "2022-10-25T08:52:18.042Z"
   },
   {
    "duration": 39,
    "start_time": "2022-10-25T08:52:18.071Z"
   },
   {
    "duration": 23,
    "start_time": "2022-10-25T08:52:18.112Z"
   },
   {
    "duration": 50,
    "start_time": "2022-10-25T08:52:18.136Z"
   },
   {
    "duration": 41,
    "start_time": "2022-10-25T08:52:18.189Z"
   },
   {
    "duration": 67,
    "start_time": "2022-10-25T08:52:18.233Z"
   },
   {
    "duration": 29,
    "start_time": "2022-10-25T08:52:18.302Z"
   },
   {
    "duration": 7,
    "start_time": "2022-10-25T08:52:18.333Z"
   },
   {
    "duration": 33,
    "start_time": "2022-10-25T08:52:18.342Z"
   },
   {
    "duration": 36,
    "start_time": "2022-10-25T08:52:18.383Z"
   },
   {
    "duration": 17,
    "start_time": "2022-10-25T08:52:18.420Z"
   },
   {
    "duration": 75,
    "start_time": "2022-10-25T08:52:18.439Z"
   },
   {
    "duration": 16,
    "start_time": "2022-10-25T08:52:18.516Z"
   },
   {
    "duration": 46,
    "start_time": "2022-10-25T08:52:18.538Z"
   },
   {
    "duration": 50,
    "start_time": "2022-10-25T08:52:18.586Z"
   },
   {
    "duration": 41,
    "start_time": "2022-10-25T08:52:18.638Z"
   },
   {
    "duration": 399,
    "start_time": "2022-10-25T08:52:18.680Z"
   },
   {
    "duration": 15,
    "start_time": "2022-10-25T08:52:19.080Z"
   },
   {
    "duration": 24,
    "start_time": "2022-10-25T08:52:19.096Z"
   },
   {
    "duration": 16,
    "start_time": "2022-10-25T08:52:19.122Z"
   },
   {
    "duration": 318,
    "start_time": "2022-10-25T08:52:19.140Z"
   },
   {
    "duration": 425,
    "start_time": "2022-10-25T08:52:19.460Z"
   },
   {
    "duration": 329,
    "start_time": "2022-10-25T08:52:19.887Z"
   },
   {
    "duration": 5,
    "start_time": "2022-10-25T08:52:20.218Z"
   },
   {
    "duration": 332,
    "start_time": "2022-10-25T08:52:20.224Z"
   },
   {
    "duration": 404,
    "start_time": "2022-10-25T08:52:20.564Z"
   },
   {
    "duration": 328,
    "start_time": "2022-10-25T08:52:20.970Z"
   },
   {
    "duration": 1006,
    "start_time": "2022-10-25T08:52:21.300Z"
   },
   {
    "duration": 493,
    "start_time": "2022-10-25T08:52:22.309Z"
   },
   {
    "duration": 1492,
    "start_time": "2022-10-25T08:56:23.484Z"
   },
   {
    "duration": 64,
    "start_time": "2022-10-25T08:56:24.982Z"
   },
   {
    "duration": 4,
    "start_time": "2022-10-25T08:56:25.048Z"
   },
   {
    "duration": 40,
    "start_time": "2022-10-25T08:56:25.053Z"
   },
   {
    "duration": 7,
    "start_time": "2022-10-25T08:56:25.095Z"
   },
   {
    "duration": 22,
    "start_time": "2022-10-25T08:56:25.104Z"
   },
   {
    "duration": 16,
    "start_time": "2022-10-25T08:56:25.127Z"
   },
   {
    "duration": 67,
    "start_time": "2022-10-25T08:56:25.145Z"
   },
   {
    "duration": 3,
    "start_time": "2022-10-25T08:56:25.213Z"
   },
   {
    "duration": 63,
    "start_time": "2022-10-25T08:56:25.219Z"
   },
   {
    "duration": 920,
    "start_time": "2022-10-25T08:56:25.283Z"
   },
   {
    "duration": 13,
    "start_time": "2022-10-25T08:56:26.205Z"
   },
   {
    "duration": 16,
    "start_time": "2022-10-25T08:56:26.220Z"
   },
   {
    "duration": 69,
    "start_time": "2022-10-25T08:56:26.253Z"
   },
   {
    "duration": 3,
    "start_time": "2022-10-25T08:56:26.324Z"
   },
   {
    "duration": 22,
    "start_time": "2022-10-25T08:56:26.328Z"
   },
   {
    "duration": 18,
    "start_time": "2022-10-25T08:56:26.352Z"
   },
   {
    "duration": 27,
    "start_time": "2022-10-25T08:56:26.373Z"
   },
   {
    "duration": 19,
    "start_time": "2022-10-25T08:56:26.402Z"
   },
   {
    "duration": 72,
    "start_time": "2022-10-25T08:56:26.424Z"
   },
   {
    "duration": 4,
    "start_time": "2022-10-25T08:56:26.498Z"
   },
   {
    "duration": 77,
    "start_time": "2022-10-25T08:56:26.504Z"
   },
   {
    "duration": 3,
    "start_time": "2022-10-25T08:56:26.583Z"
   },
   {
    "duration": 70,
    "start_time": "2022-10-25T08:56:26.587Z"
   },
   {
    "duration": 27,
    "start_time": "2022-10-25T08:56:26.663Z"
   },
   {
    "duration": 29,
    "start_time": "2022-10-25T08:56:26.692Z"
   },
   {
    "duration": 9,
    "start_time": "2022-10-25T08:56:26.723Z"
   },
   {
    "duration": 20,
    "start_time": "2022-10-25T08:56:26.736Z"
   },
   {
    "duration": 27,
    "start_time": "2022-10-25T08:56:26.762Z"
   },
   {
    "duration": 22,
    "start_time": "2022-10-25T08:56:26.791Z"
   },
   {
    "duration": 5,
    "start_time": "2022-10-25T08:56:26.815Z"
   },
   {
    "duration": 16,
    "start_time": "2022-10-25T08:56:26.822Z"
   },
   {
    "duration": 42,
    "start_time": "2022-10-25T08:56:26.839Z"
   },
   {
    "duration": 24,
    "start_time": "2022-10-25T08:56:26.883Z"
   },
   {
    "duration": 7,
    "start_time": "2022-10-25T08:56:26.909Z"
   },
   {
    "duration": 29,
    "start_time": "2022-10-25T08:56:26.918Z"
   },
   {
    "duration": 52,
    "start_time": "2022-10-25T08:56:26.948Z"
   },
   {
    "duration": 7,
    "start_time": "2022-10-25T08:56:27.002Z"
   },
   {
    "duration": 56,
    "start_time": "2022-10-25T08:56:27.010Z"
   },
   {
    "duration": 24,
    "start_time": "2022-10-25T08:56:27.074Z"
   },
   {
    "duration": 19,
    "start_time": "2022-10-25T08:56:27.100Z"
   },
   {
    "duration": 28,
    "start_time": "2022-10-25T08:56:27.121Z"
   },
   {
    "duration": 36,
    "start_time": "2022-10-25T08:56:27.159Z"
   },
   {
    "duration": 346,
    "start_time": "2022-10-25T08:56:27.197Z"
   },
   {
    "duration": 24,
    "start_time": "2022-10-25T08:56:27.545Z"
   },
   {
    "duration": 30,
    "start_time": "2022-10-25T08:56:27.571Z"
   },
   {
    "duration": 20,
    "start_time": "2022-10-25T08:56:27.603Z"
   },
   {
    "duration": 314,
    "start_time": "2022-10-25T08:56:27.624Z"
   },
   {
    "duration": 448,
    "start_time": "2022-10-25T08:56:27.939Z"
   },
   {
    "duration": 345,
    "start_time": "2022-10-25T08:56:28.389Z"
   },
   {
    "duration": 6,
    "start_time": "2022-10-25T08:56:28.736Z"
   },
   {
    "duration": 345,
    "start_time": "2022-10-25T08:56:28.754Z"
   },
   {
    "duration": 371,
    "start_time": "2022-10-25T08:56:29.101Z"
   },
   {
    "duration": 310,
    "start_time": "2022-10-25T08:56:29.474Z"
   },
   {
    "duration": 883,
    "start_time": "2022-10-25T08:56:29.785Z"
   },
   {
    "duration": 452,
    "start_time": "2022-10-25T08:56:30.678Z"
   },
   {
    "duration": 1839,
    "start_time": "2022-10-25T09:09:40.598Z"
   },
   {
    "duration": 92,
    "start_time": "2022-10-25T09:09:42.439Z"
   },
   {
    "duration": 4,
    "start_time": "2022-10-25T09:09:42.532Z"
   },
   {
    "duration": 14,
    "start_time": "2022-10-25T09:09:42.538Z"
   },
   {
    "duration": 9,
    "start_time": "2022-10-25T09:09:42.558Z"
   },
   {
    "duration": 50,
    "start_time": "2022-10-25T09:09:42.568Z"
   },
   {
    "duration": 22,
    "start_time": "2022-10-25T09:09:42.620Z"
   },
   {
    "duration": 31,
    "start_time": "2022-10-25T09:09:42.645Z"
   },
   {
    "duration": 38,
    "start_time": "2022-10-25T09:09:42.678Z"
   },
   {
    "duration": 74,
    "start_time": "2022-10-25T09:09:42.720Z"
   },
   {
    "duration": 998,
    "start_time": "2022-10-25T09:09:42.797Z"
   },
   {
    "duration": 14,
    "start_time": "2022-10-25T09:09:43.797Z"
   },
   {
    "duration": 19,
    "start_time": "2022-10-25T09:09:43.812Z"
   },
   {
    "duration": 86,
    "start_time": "2022-10-25T09:09:43.832Z"
   },
   {
    "duration": 4,
    "start_time": "2022-10-25T09:09:43.919Z"
   },
   {
    "duration": 17,
    "start_time": "2022-10-25T09:09:43.925Z"
   },
   {
    "duration": 22,
    "start_time": "2022-10-25T09:09:43.944Z"
   },
   {
    "duration": 35,
    "start_time": "2022-10-25T09:09:43.968Z"
   },
   {
    "duration": 17,
    "start_time": "2022-10-25T09:09:44.004Z"
   },
   {
    "duration": 74,
    "start_time": "2022-10-25T09:09:44.023Z"
   },
   {
    "duration": 3,
    "start_time": "2022-10-25T09:09:44.098Z"
   },
   {
    "duration": 83,
    "start_time": "2022-10-25T09:09:44.103Z"
   },
   {
    "duration": 8,
    "start_time": "2022-10-25T09:09:44.188Z"
   },
   {
    "duration": 93,
    "start_time": "2022-10-25T09:09:44.197Z"
   },
   {
    "duration": 20,
    "start_time": "2022-10-25T09:09:44.294Z"
   },
   {
    "duration": 31,
    "start_time": "2022-10-25T09:09:44.316Z"
   },
   {
    "duration": 15,
    "start_time": "2022-10-25T09:09:44.350Z"
   },
   {
    "duration": 40,
    "start_time": "2022-10-25T09:09:44.369Z"
   },
   {
    "duration": 7,
    "start_time": "2022-10-25T09:09:44.411Z"
   },
   {
    "duration": 15,
    "start_time": "2022-10-25T09:09:44.420Z"
   },
   {
    "duration": 6,
    "start_time": "2022-10-25T09:09:44.437Z"
   },
   {
    "duration": 19,
    "start_time": "2022-10-25T09:09:44.445Z"
   },
   {
    "duration": 61,
    "start_time": "2022-10-25T09:09:44.466Z"
   },
   {
    "duration": 23,
    "start_time": "2022-10-25T09:09:44.529Z"
   },
   {
    "duration": 7,
    "start_time": "2022-10-25T09:09:44.565Z"
   },
   {
    "duration": 29,
    "start_time": "2022-10-25T09:09:44.574Z"
   },
   {
    "duration": 11,
    "start_time": "2022-10-25T09:09:44.604Z"
   },
   {
    "duration": 7,
    "start_time": "2022-10-25T09:09:44.617Z"
   },
   {
    "duration": 86,
    "start_time": "2022-10-25T09:09:44.625Z"
   },
   {
    "duration": 11,
    "start_time": "2022-10-25T09:09:44.713Z"
   },
   {
    "duration": 60,
    "start_time": "2022-10-25T09:09:44.726Z"
   },
   {
    "duration": 46,
    "start_time": "2022-10-25T09:09:44.788Z"
   },
   {
    "duration": 48,
    "start_time": "2022-10-25T09:09:44.836Z"
   },
   {
    "duration": 326,
    "start_time": "2022-10-25T09:09:44.894Z"
   },
   {
    "duration": 8,
    "start_time": "2022-10-25T09:09:45.222Z"
   },
   {
    "duration": 66,
    "start_time": "2022-10-25T09:09:45.232Z"
   },
   {
    "duration": 21,
    "start_time": "2022-10-25T09:09:45.300Z"
   },
   {
    "duration": 344,
    "start_time": "2022-10-25T09:09:45.323Z"
   },
   {
    "duration": 436,
    "start_time": "2022-10-25T09:09:45.669Z"
   },
   {
    "duration": 353,
    "start_time": "2022-10-25T09:09:46.107Z"
   },
   {
    "duration": 11,
    "start_time": "2022-10-25T09:09:46.462Z"
   },
   {
    "duration": 341,
    "start_time": "2022-10-25T09:09:46.475Z"
   },
   {
    "duration": 374,
    "start_time": "2022-10-25T09:09:46.818Z"
   },
   {
    "duration": 321,
    "start_time": "2022-10-25T09:09:47.194Z"
   },
   {
    "duration": 929,
    "start_time": "2022-10-25T09:09:47.517Z"
   },
   {
    "duration": 462,
    "start_time": "2022-10-25T09:09:48.448Z"
   },
   {
    "duration": 3,
    "start_time": "2022-10-25T09:09:48.912Z"
   },
   {
    "duration": 83817,
    "start_time": "2022-10-25T09:09:48.917Z"
   },
   {
    "duration": 4500616,
    "start_time": "2022-10-25T09:11:12.736Z"
   },
   {
    "duration": 0,
    "start_time": "2022-10-25T10:26:13.354Z"
   },
   {
    "duration": 1699,
    "start_time": "2022-10-25T10:29:04.836Z"
   },
   {
    "duration": 5,
    "start_time": "2022-10-25T10:44:51.329Z"
   },
   {
    "duration": 72,
    "start_time": "2022-10-25T10:44:53.005Z"
   },
   {
    "duration": 4,
    "start_time": "2022-10-25T10:44:55.128Z"
   },
   {
    "duration": 12,
    "start_time": "2022-10-25T10:44:56.527Z"
   },
   {
    "duration": 18,
    "start_time": "2022-10-25T10:44:57.845Z"
   },
   {
    "duration": 15,
    "start_time": "2022-10-25T10:45:02.031Z"
   },
   {
    "duration": 34,
    "start_time": "2022-10-25T10:45:04.177Z"
   },
   {
    "duration": 15,
    "start_time": "2022-10-25T10:45:06.031Z"
   },
   {
    "duration": 11,
    "start_time": "2022-10-25T10:45:07.876Z"
   },
   {
    "duration": 60,
    "start_time": "2022-10-25T10:45:08.783Z"
   },
   {
    "duration": 1161,
    "start_time": "2022-10-25T10:45:10.280Z"
   },
   {
    "duration": 23,
    "start_time": "2022-10-25T10:45:14.883Z"
   },
   {
    "duration": 20,
    "start_time": "2022-10-25T10:45:16.791Z"
   },
   {
    "duration": 72,
    "start_time": "2022-10-25T10:45:19.428Z"
   },
   {
    "duration": 4,
    "start_time": "2022-10-25T10:45:21.199Z"
   },
   {
    "duration": 13,
    "start_time": "2022-10-25T10:45:22.228Z"
   },
   {
    "duration": 18,
    "start_time": "2022-10-25T10:45:24.255Z"
   },
   {
    "duration": 13,
    "start_time": "2022-10-25T10:45:25.402Z"
   },
   {
    "duration": 3,
    "start_time": "2022-10-25T10:45:27.506Z"
   },
   {
    "duration": 92,
    "start_time": "2022-10-25T10:45:28.583Z"
   },
   {
    "duration": 3,
    "start_time": "2022-10-25T10:45:30.326Z"
   },
   {
    "duration": 65,
    "start_time": "2022-10-25T10:45:31.292Z"
   },
   {
    "duration": 6,
    "start_time": "2022-10-25T10:45:32.674Z"
   },
   {
    "duration": 69,
    "start_time": "2022-10-25T10:45:34.107Z"
   },
   {
    "duration": 25,
    "start_time": "2022-10-25T10:45:35.400Z"
   },
   {
    "duration": 101,
    "start_time": "2022-10-25T10:45:37.784Z"
   },
   {
    "duration": 14,
    "start_time": "2022-10-25T10:45:39.727Z"
   },
   {
    "duration": 25,
    "start_time": "2022-10-25T10:45:40.650Z"
   },
   {
    "duration": 8,
    "start_time": "2022-10-25T10:45:41.914Z"
   },
   {
    "duration": 20,
    "start_time": "2022-10-25T10:45:43.637Z"
   },
   {
    "duration": 7,
    "start_time": "2022-10-25T10:45:44.638Z"
   },
   {
    "duration": 9,
    "start_time": "2022-10-25T10:45:45.804Z"
   },
   {
    "duration": 48,
    "start_time": "2022-10-25T10:45:47.834Z"
   },
   {
    "duration": 63,
    "start_time": "2022-10-25T10:45:49.743Z"
   },
   {
    "duration": 12,
    "start_time": "2022-10-25T10:45:51.383Z"
   },
   {
    "duration": 23,
    "start_time": "2022-10-25T10:45:52.353Z"
   },
   {
    "duration": 8,
    "start_time": "2022-10-25T10:45:53.335Z"
   },
   {
    "duration": 5,
    "start_time": "2022-10-25T10:45:55.428Z"
   },
   {
    "duration": 66,
    "start_time": "2022-10-25T10:45:57.431Z"
   },
   {
    "duration": 17,
    "start_time": "2022-10-25T10:45:58.881Z"
   },
   {
    "duration": 22,
    "start_time": "2022-10-25T10:46:02.097Z"
   },
   {
    "duration": 50,
    "start_time": "2022-10-25T10:46:03.832Z"
   },
   {
    "duration": 31,
    "start_time": "2022-10-25T10:46:05.728Z"
   },
   {
    "duration": 345,
    "start_time": "2022-10-25T10:46:08.198Z"
   },
   {
    "duration": 8,
    "start_time": "2022-10-25T10:46:10.243Z"
   },
   {
    "duration": 23,
    "start_time": "2022-10-25T10:46:12.684Z"
   },
   {
    "duration": 26,
    "start_time": "2022-10-25T10:46:14.868Z"
   },
   {
    "duration": 291,
    "start_time": "2022-10-25T10:46:16.884Z"
   },
   {
    "duration": 337,
    "start_time": "2022-10-25T10:46:19.374Z"
   },
   {
    "duration": 360,
    "start_time": "2022-10-25T10:46:21.817Z"
   },
   {
    "duration": 6,
    "start_time": "2022-10-25T10:46:24.508Z"
   },
   {
    "duration": 324,
    "start_time": "2022-10-25T10:46:26.410Z"
   },
   {
    "duration": 335,
    "start_time": "2022-10-25T10:46:29.152Z"
   },
   {
    "duration": 347,
    "start_time": "2022-10-25T10:46:31.200Z"
   },
   {
    "duration": 28,
    "start_time": "2022-10-25T10:46:42.355Z"
   },
   {
    "duration": 38,
    "start_time": "2022-10-25T10:46:47.144Z"
   },
   {
    "duration": 9,
    "start_time": "2022-10-25T10:47:24.697Z"
   },
   {
    "duration": 28,
    "start_time": "2022-10-25T10:47:35.512Z"
   },
   {
    "duration": 6,
    "start_time": "2022-10-25T10:47:46.612Z"
   },
   {
    "duration": 22,
    "start_time": "2022-10-25T10:48:08.788Z"
   },
   {
    "duration": 18,
    "start_time": "2022-10-25T10:58:58.538Z"
   },
   {
    "duration": 16,
    "start_time": "2022-10-25T10:59:10.805Z"
   },
   {
    "duration": 24,
    "start_time": "2022-10-25T10:59:15.284Z"
   },
   {
    "duration": 32,
    "start_time": "2022-10-25T11:01:36.101Z"
   },
   {
    "duration": 11,
    "start_time": "2022-10-25T11:03:14.814Z"
   },
   {
    "duration": 23,
    "start_time": "2022-10-25T11:03:21.584Z"
   },
   {
    "duration": 61,
    "start_time": "2022-10-25T11:04:17.927Z"
   },
   {
    "duration": 13,
    "start_time": "2022-10-25T11:12:10.214Z"
   },
   {
    "duration": 4856,
    "start_time": "2022-10-25T11:20:10.651Z"
   },
   {
    "duration": 70,
    "start_time": "2022-10-25T11:20:41.380Z"
   },
   {
    "duration": 25,
    "start_time": "2022-10-25T11:20:44.380Z"
   },
   {
    "duration": 19,
    "start_time": "2022-10-25T11:20:54.881Z"
   },
   {
    "duration": 4157,
    "start_time": "2022-10-25T11:21:37.385Z"
   },
   {
    "duration": 140,
    "start_time": "2022-10-25T11:21:41.549Z"
   },
   {
    "duration": 5,
    "start_time": "2022-10-25T11:21:41.697Z"
   },
   {
    "duration": 18,
    "start_time": "2022-10-25T11:21:41.705Z"
   },
   {
    "duration": 42,
    "start_time": "2022-10-25T11:21:41.725Z"
   },
   {
    "duration": 64,
    "start_time": "2022-10-25T11:21:41.773Z"
   },
   {
    "duration": 84,
    "start_time": "2022-10-25T11:21:41.839Z"
   },
   {
    "duration": 45,
    "start_time": "2022-10-25T11:21:41.924Z"
   },
   {
    "duration": 22,
    "start_time": "2022-10-25T11:21:41.978Z"
   },
   {
    "duration": 89,
    "start_time": "2022-10-25T11:21:42.003Z"
   },
   {
    "duration": 957,
    "start_time": "2022-10-25T11:21:42.094Z"
   },
   {
    "duration": 24,
    "start_time": "2022-10-25T11:21:43.052Z"
   },
   {
    "duration": 27,
    "start_time": "2022-10-25T11:21:43.077Z"
   },
   {
    "duration": 54,
    "start_time": "2022-10-25T11:21:43.106Z"
   },
   {
    "duration": 7,
    "start_time": "2022-10-25T11:21:43.162Z"
   },
   {
    "duration": 33,
    "start_time": "2022-10-25T11:21:43.170Z"
   },
   {
    "duration": 8,
    "start_time": "2022-10-25T11:21:43.204Z"
   },
   {
    "duration": 14,
    "start_time": "2022-10-25T11:21:43.214Z"
   },
   {
    "duration": 9,
    "start_time": "2022-10-25T11:21:43.229Z"
   },
   {
    "duration": 70,
    "start_time": "2022-10-25T11:21:43.239Z"
   },
   {
    "duration": 3,
    "start_time": "2022-10-25T11:21:43.311Z"
   },
   {
    "duration": 75,
    "start_time": "2022-10-25T11:21:43.316Z"
   },
   {
    "duration": 11,
    "start_time": "2022-10-25T11:21:43.393Z"
   },
   {
    "duration": 80,
    "start_time": "2022-10-25T11:21:43.406Z"
   },
   {
    "duration": 22,
    "start_time": "2022-10-25T11:21:43.488Z"
   },
   {
    "duration": 31,
    "start_time": "2022-10-25T11:21:43.511Z"
   },
   {
    "duration": 24,
    "start_time": "2022-10-25T11:21:43.543Z"
   },
   {
    "duration": 32,
    "start_time": "2022-10-25T11:21:43.572Z"
   },
   {
    "duration": 4,
    "start_time": "2022-10-25T11:21:43.605Z"
   },
   {
    "duration": 20,
    "start_time": "2022-10-25T11:21:43.611Z"
   },
   {
    "duration": 7,
    "start_time": "2022-10-25T11:21:43.633Z"
   },
   {
    "duration": 26,
    "start_time": "2022-10-25T11:21:43.642Z"
   },
   {
    "duration": 53,
    "start_time": "2022-10-25T11:21:43.670Z"
   },
   {
    "duration": 28,
    "start_time": "2022-10-25T11:21:43.725Z"
   },
   {
    "duration": 9,
    "start_time": "2022-10-25T11:21:43.758Z"
   },
   {
    "duration": 29,
    "start_time": "2022-10-25T11:21:43.770Z"
   },
   {
    "duration": 11,
    "start_time": "2022-10-25T11:21:43.801Z"
   },
   {
    "duration": 6,
    "start_time": "2022-10-25T11:21:43.814Z"
   },
   {
    "duration": 61,
    "start_time": "2022-10-25T11:21:43.821Z"
   },
   {
    "duration": 23,
    "start_time": "2022-10-25T11:21:43.884Z"
   },
   {
    "duration": 22,
    "start_time": "2022-10-25T11:21:43.909Z"
   },
   {
    "duration": 48,
    "start_time": "2022-10-25T11:21:43.933Z"
   },
   {
    "duration": 28,
    "start_time": "2022-10-25T11:21:43.983Z"
   },
   {
    "duration": 453,
    "start_time": "2022-10-25T11:21:44.013Z"
   },
   {
    "duration": 17,
    "start_time": "2022-10-25T11:21:44.468Z"
   },
   {
    "duration": 27,
    "start_time": "2022-10-25T11:21:44.487Z"
   },
   {
    "duration": 18,
    "start_time": "2022-10-25T11:21:44.516Z"
   },
   {
    "duration": 325,
    "start_time": "2022-10-25T11:21:44.537Z"
   },
   {
    "duration": 335,
    "start_time": "2022-10-25T11:21:44.863Z"
   },
   {
    "duration": 356,
    "start_time": "2022-10-25T11:21:45.199Z"
   },
   {
    "duration": 23,
    "start_time": "2022-10-25T11:21:45.561Z"
   },
   {
    "duration": 339,
    "start_time": "2022-10-25T11:21:45.588Z"
   },
   {
    "duration": 393,
    "start_time": "2022-10-25T11:21:45.930Z"
   },
   {
    "duration": 394,
    "start_time": "2022-10-25T11:21:46.326Z"
   },
   {
    "duration": 21,
    "start_time": "2022-10-25T11:21:46.722Z"
   },
   {
    "duration": 62,
    "start_time": "2022-10-25T11:21:46.760Z"
   },
   {
    "duration": 19,
    "start_time": "2022-10-25T11:21:46.823Z"
   },
   {
    "duration": 50,
    "start_time": "2022-10-25T11:21:46.844Z"
   },
   {
    "duration": 3,
    "start_time": "2022-10-25T11:21:46.897Z"
   },
   {
    "duration": 17247,
    "start_time": "2022-10-25T11:21:46.902Z"
   },
   {
    "duration": 11,
    "start_time": "2022-10-25T11:22:04.151Z"
   },
   {
    "duration": 51,
    "start_time": "2022-10-25T11:22:04.165Z"
   },
   {
    "duration": 2770134,
    "start_time": "2022-10-25T11:22:04.218Z"
   },
   {
    "duration": 8257,
    "start_time": "2022-10-25T12:08:14.354Z"
   },
   {
    "duration": 5,
    "start_time": "2022-10-25T12:11:29.446Z"
   },
   {
    "duration": 84,
    "start_time": "2022-10-25T12:17:55.432Z"
   },
   {
    "duration": 180,
    "start_time": "2022-10-25T12:33:17.738Z"
   },
   {
    "duration": 163,
    "start_time": "2022-10-25T12:35:46.132Z"
   },
   {
    "duration": 83,
    "start_time": "2022-10-25T12:38:36.920Z"
   },
   {
    "duration": 174,
    "start_time": "2022-10-25T12:38:40.775Z"
   },
   {
    "duration": 4311,
    "start_time": "2022-10-25T12:38:56.487Z"
   },
   {
    "duration": 103,
    "start_time": "2022-10-25T12:39:00.800Z"
   },
   {
    "duration": 6,
    "start_time": "2022-10-25T12:39:00.905Z"
   },
   {
    "duration": 37,
    "start_time": "2022-10-25T12:39:00.913Z"
   },
   {
    "duration": 74,
    "start_time": "2022-10-25T12:39:00.952Z"
   },
   {
    "duration": 32,
    "start_time": "2022-10-25T12:39:01.029Z"
   },
   {
    "duration": 74,
    "start_time": "2022-10-25T12:39:01.063Z"
   },
   {
    "duration": 68,
    "start_time": "2022-10-25T12:39:01.139Z"
   },
   {
    "duration": 89,
    "start_time": "2022-10-25T12:39:01.210Z"
   },
   {
    "duration": 113,
    "start_time": "2022-10-25T12:39:01.304Z"
   },
   {
    "duration": 1171,
    "start_time": "2022-10-25T12:39:01.419Z"
   },
   {
    "duration": 25,
    "start_time": "2022-10-25T12:39:02.592Z"
   },
   {
    "duration": 32,
    "start_time": "2022-10-25T12:39:02.619Z"
   },
   {
    "duration": 95,
    "start_time": "2022-10-25T12:39:02.653Z"
   },
   {
    "duration": 32,
    "start_time": "2022-10-25T12:39:02.750Z"
   },
   {
    "duration": 53,
    "start_time": "2022-10-25T12:39:02.784Z"
   },
   {
    "duration": 12,
    "start_time": "2022-10-25T12:39:02.839Z"
   },
   {
    "duration": 67,
    "start_time": "2022-10-25T12:39:02.855Z"
   },
   {
    "duration": 76,
    "start_time": "2022-10-25T12:39:02.926Z"
   },
   {
    "duration": 84,
    "start_time": "2022-10-25T12:39:03.004Z"
   },
   {
    "duration": 5,
    "start_time": "2022-10-25T12:39:03.092Z"
   },
   {
    "duration": 99,
    "start_time": "2022-10-25T12:39:03.098Z"
   },
   {
    "duration": 3,
    "start_time": "2022-10-25T12:39:03.199Z"
   },
   {
    "duration": 97,
    "start_time": "2022-10-25T12:39:03.203Z"
   },
   {
    "duration": 20,
    "start_time": "2022-10-25T12:39:03.302Z"
   },
   {
    "duration": 38,
    "start_time": "2022-10-25T12:39:03.324Z"
   },
   {
    "duration": 21,
    "start_time": "2022-10-25T12:39:03.363Z"
   },
   {
    "duration": 22,
    "start_time": "2022-10-25T12:39:03.399Z"
   },
   {
    "duration": 10,
    "start_time": "2022-10-25T12:39:03.423Z"
   },
   {
    "duration": 18,
    "start_time": "2022-10-25T12:39:03.435Z"
   },
   {
    "duration": 29,
    "start_time": "2022-10-25T12:39:03.466Z"
   },
   {
    "duration": 22,
    "start_time": "2022-10-25T12:39:03.497Z"
   },
   {
    "duration": 31,
    "start_time": "2022-10-25T12:39:03.521Z"
   },
   {
    "duration": 54,
    "start_time": "2022-10-25T12:39:03.556Z"
   },
   {
    "duration": 6,
    "start_time": "2022-10-25T12:39:03.612Z"
   },
   {
    "duration": 18,
    "start_time": "2022-10-25T12:39:03.620Z"
   },
   {
    "duration": 10,
    "start_time": "2022-10-25T12:39:03.640Z"
   },
   {
    "duration": 58,
    "start_time": "2022-10-25T12:39:03.651Z"
   },
   {
    "duration": 66,
    "start_time": "2022-10-25T12:39:03.710Z"
   },
   {
    "duration": 19,
    "start_time": "2022-10-25T12:39:03.781Z"
   },
   {
    "duration": 36,
    "start_time": "2022-10-25T12:39:03.801Z"
   },
   {
    "duration": 32,
    "start_time": "2022-10-25T12:39:03.838Z"
   },
   {
    "duration": 68,
    "start_time": "2022-10-25T12:39:03.871Z"
   },
   {
    "duration": 473,
    "start_time": "2022-10-25T12:39:03.942Z"
   },
   {
    "duration": 13,
    "start_time": "2022-10-25T12:39:04.417Z"
   },
   {
    "duration": 37,
    "start_time": "2022-10-25T12:39:04.432Z"
   },
   {
    "duration": 26,
    "start_time": "2022-10-25T12:39:04.472Z"
   },
   {
    "duration": 367,
    "start_time": "2022-10-25T12:39:04.500Z"
   },
   {
    "duration": 370,
    "start_time": "2022-10-25T12:39:04.869Z"
   },
   {
    "duration": 363,
    "start_time": "2022-10-25T12:39:05.242Z"
   },
   {
    "duration": 7,
    "start_time": "2022-10-25T12:39:05.608Z"
   },
   {
    "duration": 359,
    "start_time": "2022-10-25T12:39:05.616Z"
   },
   {
    "duration": 412,
    "start_time": "2022-10-25T12:39:05.985Z"
   },
   {
    "duration": 347,
    "start_time": "2022-10-25T12:39:06.404Z"
   },
   {
    "duration": 27,
    "start_time": "2022-10-25T12:39:06.758Z"
   },
   {
    "duration": 68,
    "start_time": "2022-10-25T12:39:06.789Z"
   },
   {
    "duration": 26,
    "start_time": "2022-10-25T12:39:06.863Z"
   },
   {
    "duration": 32,
    "start_time": "2022-10-25T12:39:06.894Z"
   },
   {
    "duration": 10,
    "start_time": "2022-10-25T12:39:06.927Z"
   },
   {
    "duration": 20289,
    "start_time": "2022-10-25T12:39:06.939Z"
   },
   {
    "duration": 7,
    "start_time": "2022-10-25T12:39:27.230Z"
   },
   {
    "duration": 90,
    "start_time": "2022-10-25T12:39:27.239Z"
   },
   {
    "duration": 4,
    "start_time": "2022-10-25T12:39:27.331Z"
   },
   {
    "duration": 7883,
    "start_time": "2022-10-25T12:39:27.336Z"
   },
   {
    "duration": 83,
    "start_time": "2022-10-25T12:39:35.221Z"
   },
   {
    "duration": 159,
    "start_time": "2022-10-25T12:39:35.306Z"
   },
   {
    "duration": 154,
    "start_time": "2022-10-25T12:47:04.338Z"
   },
   {
    "duration": 5,
    "start_time": "2022-10-25T12:52:52.715Z"
   },
   {
    "duration": 8,
    "start_time": "2022-10-25T12:52:53.638Z"
   },
   {
    "duration": 10,
    "start_time": "2022-10-25T12:53:11.798Z"
   },
   {
    "duration": 8,
    "start_time": "2022-10-25T12:53:18.501Z"
   },
   {
    "duration": 13,
    "start_time": "2022-10-25T12:53:35.894Z"
   },
   {
    "duration": 9,
    "start_time": "2022-10-25T12:53:37.014Z"
   },
   {
    "duration": 4253,
    "start_time": "2022-10-25T12:56:44.199Z"
   },
   {
    "duration": 123,
    "start_time": "2022-10-25T12:56:48.454Z"
   },
   {
    "duration": 16,
    "start_time": "2022-10-25T12:56:48.585Z"
   },
   {
    "duration": 19,
    "start_time": "2022-10-25T12:56:48.604Z"
   },
   {
    "duration": 15,
    "start_time": "2022-10-25T12:56:48.625Z"
   },
   {
    "duration": 25,
    "start_time": "2022-10-25T12:56:48.642Z"
   },
   {
    "duration": 59,
    "start_time": "2022-10-25T12:56:48.669Z"
   },
   {
    "duration": 19,
    "start_time": "2022-10-25T12:56:48.730Z"
   },
   {
    "duration": 16,
    "start_time": "2022-10-25T12:56:48.751Z"
   },
   {
    "duration": 86,
    "start_time": "2022-10-25T12:56:48.773Z"
   },
   {
    "duration": 1017,
    "start_time": "2022-10-25T12:56:48.869Z"
   },
   {
    "duration": 21,
    "start_time": "2022-10-25T12:56:49.892Z"
   },
   {
    "duration": 26,
    "start_time": "2022-10-25T12:56:49.915Z"
   },
   {
    "duration": 72,
    "start_time": "2022-10-25T12:56:49.943Z"
   },
   {
    "duration": 4,
    "start_time": "2022-10-25T12:56:50.017Z"
   },
   {
    "duration": 30,
    "start_time": "2022-10-25T12:56:50.023Z"
   },
   {
    "duration": 50,
    "start_time": "2022-10-25T12:56:50.058Z"
   },
   {
    "duration": 31,
    "start_time": "2022-10-25T12:56:50.110Z"
   },
   {
    "duration": 63,
    "start_time": "2022-10-25T12:56:50.143Z"
   },
   {
    "duration": 81,
    "start_time": "2022-10-25T12:56:50.208Z"
   },
   {
    "duration": 8,
    "start_time": "2022-10-25T12:56:50.293Z"
   },
   {
    "duration": 70,
    "start_time": "2022-10-25T12:56:50.304Z"
   },
   {
    "duration": 3,
    "start_time": "2022-10-25T12:56:50.376Z"
   },
   {
    "duration": 77,
    "start_time": "2022-10-25T12:56:50.381Z"
   },
   {
    "duration": 37,
    "start_time": "2022-10-25T12:56:50.467Z"
   },
   {
    "duration": 32,
    "start_time": "2022-10-25T12:56:50.505Z"
   },
   {
    "duration": 8,
    "start_time": "2022-10-25T12:56:50.538Z"
   },
   {
    "duration": 25,
    "start_time": "2022-10-25T12:56:50.550Z"
   },
   {
    "duration": 27,
    "start_time": "2022-10-25T12:56:50.585Z"
   },
   {
    "duration": 16,
    "start_time": "2022-10-25T12:56:50.614Z"
   },
   {
    "duration": 11,
    "start_time": "2022-10-25T12:56:50.631Z"
   },
   {
    "duration": 28,
    "start_time": "2022-10-25T12:56:50.645Z"
   },
   {
    "duration": 63,
    "start_time": "2022-10-25T12:56:50.676Z"
   },
   {
    "duration": 59,
    "start_time": "2022-10-25T12:56:50.741Z"
   },
   {
    "duration": 7,
    "start_time": "2022-10-25T12:56:50.802Z"
   },
   {
    "duration": 14,
    "start_time": "2022-10-25T12:56:50.811Z"
   },
   {
    "duration": 14,
    "start_time": "2022-10-25T12:56:50.827Z"
   },
   {
    "duration": 50,
    "start_time": "2022-10-25T12:56:50.843Z"
   },
   {
    "duration": 110,
    "start_time": "2022-10-25T12:56:50.896Z"
   },
   {
    "duration": 14,
    "start_time": "2022-10-25T12:56:51.009Z"
   },
   {
    "duration": 19,
    "start_time": "2022-10-25T12:56:51.025Z"
   },
   {
    "duration": 50,
    "start_time": "2022-10-25T12:56:51.046Z"
   },
   {
    "duration": 47,
    "start_time": "2022-10-25T12:56:51.098Z"
   },
   {
    "duration": 486,
    "start_time": "2022-10-25T12:56:51.147Z"
   },
   {
    "duration": 28,
    "start_time": "2022-10-25T12:56:51.636Z"
   },
   {
    "duration": 69,
    "start_time": "2022-10-25T12:56:51.666Z"
   },
   {
    "duration": 29,
    "start_time": "2022-10-25T12:56:51.737Z"
   },
   {
    "duration": 347,
    "start_time": "2022-10-25T12:56:51.768Z"
   },
   {
    "duration": 394,
    "start_time": "2022-10-25T12:56:52.117Z"
   },
   {
    "duration": 368,
    "start_time": "2022-10-25T12:56:52.513Z"
   },
   {
    "duration": 20,
    "start_time": "2022-10-25T12:56:52.883Z"
   },
   {
    "duration": 424,
    "start_time": "2022-10-25T12:56:52.905Z"
   },
   {
    "duration": 371,
    "start_time": "2022-10-25T12:56:53.331Z"
   },
   {
    "duration": 329,
    "start_time": "2022-10-25T12:56:53.704Z"
   },
   {
    "duration": 49,
    "start_time": "2022-10-25T12:56:54.036Z"
   },
   {
    "duration": 59,
    "start_time": "2022-10-25T12:56:54.089Z"
   },
   {
    "duration": 43,
    "start_time": "2022-10-25T12:56:54.150Z"
   },
   {
    "duration": 12,
    "start_time": "2022-10-25T12:56:54.201Z"
   },
   {
    "duration": 7,
    "start_time": "2022-10-25T12:56:54.214Z"
   },
   {
    "duration": 19695,
    "start_time": "2022-10-25T12:56:54.223Z"
   },
   {
    "duration": 6,
    "start_time": "2022-10-25T12:57:13.919Z"
   },
   {
    "duration": 24,
    "start_time": "2022-10-25T12:57:13.926Z"
   },
   {
    "duration": 39,
    "start_time": "2022-10-25T12:57:13.952Z"
   },
   {
    "duration": 7477,
    "start_time": "2022-10-25T12:57:13.998Z"
   },
   {
    "duration": 71,
    "start_time": "2022-10-25T12:57:21.479Z"
   },
   {
    "duration": 174,
    "start_time": "2022-10-25T12:57:21.554Z"
   },
   {
    "duration": 94,
    "start_time": "2022-10-26T08:57:35.958Z"
   },
   {
    "duration": 4475,
    "start_time": "2022-10-26T13:21:25.018Z"
   },
   {
    "duration": 167,
    "start_time": "2022-10-26T13:21:29.495Z"
   },
   {
    "duration": 4,
    "start_time": "2022-10-26T13:21:29.663Z"
   },
   {
    "duration": 16,
    "start_time": "2022-10-26T13:21:29.670Z"
   },
   {
    "duration": 7,
    "start_time": "2022-10-26T13:21:29.688Z"
   },
   {
    "duration": 26,
    "start_time": "2022-10-26T13:21:29.697Z"
   },
   {
    "duration": 14,
    "start_time": "2022-10-26T13:21:29.724Z"
   },
   {
    "duration": 16,
    "start_time": "2022-10-26T13:21:29.739Z"
   },
   {
    "duration": 3,
    "start_time": "2022-10-26T13:21:29.757Z"
   },
   {
    "duration": 78,
    "start_time": "2022-10-26T13:21:29.762Z"
   },
   {
    "duration": 864,
    "start_time": "2022-10-26T13:21:29.842Z"
   },
   {
    "duration": 20,
    "start_time": "2022-10-26T13:21:30.708Z"
   },
   {
    "duration": 43,
    "start_time": "2022-10-26T13:21:30.729Z"
   },
   {
    "duration": 92,
    "start_time": "2022-10-26T13:21:30.774Z"
   },
   {
    "duration": 3,
    "start_time": "2022-10-26T13:21:30.868Z"
   },
   {
    "duration": 30,
    "start_time": "2022-10-26T13:21:30.873Z"
   },
   {
    "duration": 27,
    "start_time": "2022-10-26T13:21:30.905Z"
   },
   {
    "duration": 43,
    "start_time": "2022-10-26T13:21:30.934Z"
   },
   {
    "duration": 42,
    "start_time": "2022-10-26T13:21:30.979Z"
   },
   {
    "duration": 95,
    "start_time": "2022-10-26T13:21:31.023Z"
   },
   {
    "duration": 3,
    "start_time": "2022-10-26T13:21:31.120Z"
   },
   {
    "duration": 64,
    "start_time": "2022-10-26T13:21:31.125Z"
   },
   {
    "duration": 2,
    "start_time": "2022-10-26T13:21:31.191Z"
   },
   {
    "duration": 60,
    "start_time": "2022-10-26T13:21:31.195Z"
   },
   {
    "duration": 19,
    "start_time": "2022-10-26T13:21:31.257Z"
   },
   {
    "duration": 112,
    "start_time": "2022-10-26T13:21:31.277Z"
   },
   {
    "duration": 9,
    "start_time": "2022-10-26T13:21:31.391Z"
   },
   {
    "duration": 9,
    "start_time": "2022-10-26T13:21:31.404Z"
   },
   {
    "duration": 7,
    "start_time": "2022-10-26T13:21:31.415Z"
   },
   {
    "duration": 13,
    "start_time": "2022-10-26T13:21:31.424Z"
   },
   {
    "duration": 6,
    "start_time": "2022-10-26T13:21:31.439Z"
   },
   {
    "duration": 16,
    "start_time": "2022-10-26T13:21:31.447Z"
   },
   {
    "duration": 37,
    "start_time": "2022-10-26T13:21:31.465Z"
   },
   {
    "duration": 48,
    "start_time": "2022-10-26T13:21:31.504Z"
   },
   {
    "duration": 6,
    "start_time": "2022-10-26T13:21:31.554Z"
   },
   {
    "duration": 13,
    "start_time": "2022-10-26T13:21:31.562Z"
   },
   {
    "duration": 10,
    "start_time": "2022-10-26T13:21:31.577Z"
   },
   {
    "duration": 5,
    "start_time": "2022-10-26T13:21:31.589Z"
   },
   {
    "duration": 59,
    "start_time": "2022-10-26T13:21:31.596Z"
   },
   {
    "duration": 10,
    "start_time": "2022-10-26T13:21:31.657Z"
   },
   {
    "duration": 24,
    "start_time": "2022-10-26T13:21:31.669Z"
   },
   {
    "duration": 45,
    "start_time": "2022-10-26T13:21:31.695Z"
   },
   {
    "duration": 27,
    "start_time": "2022-10-26T13:21:31.742Z"
   },
   {
    "duration": 467,
    "start_time": "2022-10-26T13:21:31.771Z"
   },
   {
    "duration": 13,
    "start_time": "2022-10-26T13:21:32.240Z"
   },
   {
    "duration": 17,
    "start_time": "2022-10-26T13:21:32.255Z"
   },
   {
    "duration": 47,
    "start_time": "2022-10-26T13:21:32.275Z"
   },
   {
    "duration": 346,
    "start_time": "2022-10-26T13:21:32.324Z"
   },
   {
    "duration": 358,
    "start_time": "2022-10-26T13:21:32.672Z"
   },
   {
    "duration": 291,
    "start_time": "2022-10-26T13:21:33.032Z"
   },
   {
    "duration": 4,
    "start_time": "2022-10-26T13:21:33.325Z"
   },
   {
    "duration": 283,
    "start_time": "2022-10-26T13:21:33.331Z"
   },
   {
    "duration": 302,
    "start_time": "2022-10-26T13:21:33.621Z"
   },
   {
    "duration": 277,
    "start_time": "2022-10-26T13:21:33.925Z"
   },
   {
    "duration": 28,
    "start_time": "2022-10-26T13:21:34.203Z"
   },
   {
    "duration": 116,
    "start_time": "2022-10-26T13:21:34.232Z"
   },
   {
    "duration": 0,
    "start_time": "2022-10-26T13:21:34.350Z"
   },
   {
    "duration": 0,
    "start_time": "2022-10-26T13:21:34.351Z"
   },
   {
    "duration": 0,
    "start_time": "2022-10-26T13:21:34.352Z"
   },
   {
    "duration": 0,
    "start_time": "2022-10-26T13:21:34.353Z"
   },
   {
    "duration": 0,
    "start_time": "2022-10-26T13:21:34.354Z"
   },
   {
    "duration": 0,
    "start_time": "2022-10-26T13:21:34.355Z"
   },
   {
    "duration": 0,
    "start_time": "2022-10-26T13:21:34.356Z"
   },
   {
    "duration": 0,
    "start_time": "2022-10-26T13:21:34.357Z"
   },
   {
    "duration": 0,
    "start_time": "2022-10-26T13:21:34.358Z"
   },
   {
    "duration": 0,
    "start_time": "2022-10-26T13:21:34.359Z"
   },
   {
    "duration": 11,
    "start_time": "2022-10-26T13:23:34.717Z"
   },
   {
    "duration": 35,
    "start_time": "2022-10-26T13:23:47.011Z"
   },
   {
    "duration": 17,
    "start_time": "2022-10-26T13:23:48.543Z"
   },
   {
    "duration": 4301,
    "start_time": "2022-10-26T13:24:24.978Z"
   },
   {
    "duration": 3601,
    "start_time": "2022-10-26T13:25:49.573Z"
   },
   {
    "duration": 67,
    "start_time": "2022-10-26T13:25:53.176Z"
   },
   {
    "duration": 3,
    "start_time": "2022-10-26T13:25:53.245Z"
   },
   {
    "duration": 23,
    "start_time": "2022-10-26T13:25:53.250Z"
   },
   {
    "duration": 13,
    "start_time": "2022-10-26T13:25:53.275Z"
   },
   {
    "duration": 21,
    "start_time": "2022-10-26T13:25:53.290Z"
   },
   {
    "duration": 16,
    "start_time": "2022-10-26T13:25:53.321Z"
   },
   {
    "duration": 17,
    "start_time": "2022-10-26T13:25:53.339Z"
   },
   {
    "duration": 3,
    "start_time": "2022-10-26T13:25:53.361Z"
   },
   {
    "duration": 86,
    "start_time": "2022-10-26T13:25:53.368Z"
   },
   {
    "duration": 780,
    "start_time": "2022-10-26T13:25:53.456Z"
   },
   {
    "duration": 18,
    "start_time": "2022-10-26T13:25:54.238Z"
   },
   {
    "duration": 21,
    "start_time": "2022-10-26T13:25:54.258Z"
   },
   {
    "duration": 57,
    "start_time": "2022-10-26T13:25:54.281Z"
   },
   {
    "duration": 3,
    "start_time": "2022-10-26T13:25:54.340Z"
   },
   {
    "duration": 20,
    "start_time": "2022-10-26T13:25:54.345Z"
   },
   {
    "duration": 25,
    "start_time": "2022-10-26T13:25:54.366Z"
   },
   {
    "duration": 23,
    "start_time": "2022-10-26T13:25:54.393Z"
   },
   {
    "duration": 5,
    "start_time": "2022-10-26T13:25:54.418Z"
   },
   {
    "duration": 53,
    "start_time": "2022-10-26T13:25:54.425Z"
   },
   {
    "duration": 3,
    "start_time": "2022-10-26T13:25:54.480Z"
   },
   {
    "duration": 85,
    "start_time": "2022-10-26T13:25:54.484Z"
   },
   {
    "duration": 3,
    "start_time": "2022-10-26T13:25:54.571Z"
   },
   {
    "duration": 58,
    "start_time": "2022-10-26T13:25:54.575Z"
   },
   {
    "duration": 19,
    "start_time": "2022-10-26T13:25:54.634Z"
   },
   {
    "duration": 28,
    "start_time": "2022-10-26T13:25:54.654Z"
   },
   {
    "duration": 8,
    "start_time": "2022-10-26T13:25:54.684Z"
   },
   {
    "duration": 29,
    "start_time": "2022-10-26T13:25:54.696Z"
   },
   {
    "duration": 7,
    "start_time": "2022-10-26T13:25:54.726Z"
   },
   {
    "duration": 18,
    "start_time": "2022-10-26T13:25:54.735Z"
   },
   {
    "duration": 5,
    "start_time": "2022-10-26T13:25:54.755Z"
   },
   {
    "duration": 12,
    "start_time": "2022-10-26T13:25:54.761Z"
   },
   {
    "duration": 38,
    "start_time": "2022-10-26T13:25:54.774Z"
   },
   {
    "duration": 23,
    "start_time": "2022-10-26T13:25:54.822Z"
   },
   {
    "duration": 6,
    "start_time": "2022-10-26T13:25:54.847Z"
   },
   {
    "duration": 14,
    "start_time": "2022-10-26T13:25:54.855Z"
   },
   {
    "duration": 16,
    "start_time": "2022-10-26T13:25:54.870Z"
   },
   {
    "duration": 6,
    "start_time": "2022-10-26T13:25:54.888Z"
   },
   {
    "duration": 62,
    "start_time": "2022-10-26T13:25:54.896Z"
   },
   {
    "duration": 10,
    "start_time": "2022-10-26T13:25:54.959Z"
   },
   {
    "duration": 16,
    "start_time": "2022-10-26T13:25:54.971Z"
   },
   {
    "duration": 50,
    "start_time": "2022-10-26T13:25:54.988Z"
   },
   {
    "duration": 26,
    "start_time": "2022-10-26T13:25:55.040Z"
   },
   {
    "duration": 454,
    "start_time": "2022-10-26T13:25:55.067Z"
   },
   {
    "duration": 13,
    "start_time": "2022-10-26T13:25:55.523Z"
   },
   {
    "duration": 13,
    "start_time": "2022-10-26T13:25:55.537Z"
   },
   {
    "duration": 13,
    "start_time": "2022-10-26T13:25:55.552Z"
   },
   {
    "duration": 332,
    "start_time": "2022-10-26T13:25:55.567Z"
   },
   {
    "duration": 357,
    "start_time": "2022-10-26T13:25:55.900Z"
   },
   {
    "duration": 329,
    "start_time": "2022-10-26T13:25:56.259Z"
   },
   {
    "duration": 6,
    "start_time": "2022-10-26T13:25:56.591Z"
   },
   {
    "duration": 295,
    "start_time": "2022-10-26T13:25:56.599Z"
   },
   {
    "duration": 333,
    "start_time": "2022-10-26T13:25:56.897Z"
   },
   {
    "duration": 281,
    "start_time": "2022-10-26T13:25:57.231Z"
   },
   {
    "duration": 119,
    "start_time": "2022-10-26T13:25:57.514Z"
   },
   {
    "duration": 0,
    "start_time": "2022-10-26T13:25:57.635Z"
   },
   {
    "duration": 0,
    "start_time": "2022-10-26T13:25:57.636Z"
   },
   {
    "duration": 0,
    "start_time": "2022-10-26T13:25:57.638Z"
   },
   {
    "duration": 0,
    "start_time": "2022-10-26T13:25:57.639Z"
   },
   {
    "duration": 0,
    "start_time": "2022-10-26T13:25:57.641Z"
   },
   {
    "duration": 0,
    "start_time": "2022-10-26T13:25:57.643Z"
   },
   {
    "duration": 0,
    "start_time": "2022-10-26T13:25:57.644Z"
   },
   {
    "duration": 0,
    "start_time": "2022-10-26T13:25:57.645Z"
   },
   {
    "duration": 0,
    "start_time": "2022-10-26T13:25:57.647Z"
   },
   {
    "duration": 0,
    "start_time": "2022-10-26T13:25:57.648Z"
   },
   {
    "duration": 0,
    "start_time": "2022-10-26T13:25:57.649Z"
   },
   {
    "duration": 28,
    "start_time": "2022-10-26T13:27:31.016Z"
   },
   {
    "duration": 10,
    "start_time": "2022-10-26T13:27:33.271Z"
   },
   {
    "duration": 45,
    "start_time": "2022-10-26T13:27:36.169Z"
   },
   {
    "duration": 20,
    "start_time": "2022-10-26T13:27:39.051Z"
   },
   {
    "duration": 4162,
    "start_time": "2022-10-26T13:27:43.684Z"
   },
   {
    "duration": 5,
    "start_time": "2022-10-26T13:30:39.494Z"
   },
   {
    "duration": 3540,
    "start_time": "2022-10-26T14:17:38.424Z"
   },
   {
    "duration": 82,
    "start_time": "2022-10-26T14:17:41.967Z"
   },
   {
    "duration": 3,
    "start_time": "2022-10-26T14:17:42.051Z"
   },
   {
    "duration": 29,
    "start_time": "2022-10-26T14:17:42.056Z"
   },
   {
    "duration": 8,
    "start_time": "2022-10-26T14:17:42.087Z"
   },
   {
    "duration": 20,
    "start_time": "2022-10-26T14:17:42.096Z"
   },
   {
    "duration": 25,
    "start_time": "2022-10-26T14:17:42.118Z"
   },
   {
    "duration": 15,
    "start_time": "2022-10-26T14:17:42.145Z"
   },
   {
    "duration": 3,
    "start_time": "2022-10-26T14:17:42.161Z"
   },
   {
    "duration": 67,
    "start_time": "2022-10-26T14:17:42.166Z"
   },
   {
    "duration": 757,
    "start_time": "2022-10-26T14:17:42.235Z"
   },
   {
    "duration": 13,
    "start_time": "2022-10-26T14:17:42.994Z"
   },
   {
    "duration": 29,
    "start_time": "2022-10-26T14:17:43.008Z"
   },
   {
    "duration": 51,
    "start_time": "2022-10-26T14:17:43.038Z"
   },
   {
    "duration": 3,
    "start_time": "2022-10-26T14:17:43.091Z"
   },
   {
    "duration": 21,
    "start_time": "2022-10-26T14:17:43.096Z"
   },
   {
    "duration": 20,
    "start_time": "2022-10-26T14:17:43.118Z"
   },
   {
    "duration": 18,
    "start_time": "2022-10-26T14:17:43.140Z"
   },
   {
    "duration": 16,
    "start_time": "2022-10-26T14:17:43.159Z"
   },
   {
    "duration": 62,
    "start_time": "2022-10-26T14:17:43.176Z"
   },
   {
    "duration": 3,
    "start_time": "2022-10-26T14:17:43.241Z"
   },
   {
    "duration": 89,
    "start_time": "2022-10-26T14:17:43.246Z"
   },
   {
    "duration": 3,
    "start_time": "2022-10-26T14:17:43.337Z"
   },
   {
    "duration": 81,
    "start_time": "2022-10-26T14:17:43.342Z"
   },
   {
    "duration": 25,
    "start_time": "2022-10-26T14:17:43.425Z"
   },
   {
    "duration": 35,
    "start_time": "2022-10-26T14:17:43.452Z"
   },
   {
    "duration": 12,
    "start_time": "2022-10-26T14:17:43.489Z"
   },
   {
    "duration": 19,
    "start_time": "2022-10-26T14:17:43.506Z"
   },
   {
    "duration": 21,
    "start_time": "2022-10-26T14:17:43.527Z"
   },
   {
    "duration": 23,
    "start_time": "2022-10-26T14:17:43.550Z"
   },
   {
    "duration": 8,
    "start_time": "2022-10-26T14:17:43.575Z"
   },
   {
    "duration": 21,
    "start_time": "2022-10-26T14:17:43.585Z"
   },
   {
    "duration": 45,
    "start_time": "2022-10-26T14:17:43.608Z"
   },
   {
    "duration": 21,
    "start_time": "2022-10-26T14:17:43.655Z"
   },
   {
    "duration": 6,
    "start_time": "2022-10-26T14:17:43.678Z"
   },
   {
    "duration": 15,
    "start_time": "2022-10-26T14:17:43.685Z"
   },
   {
    "duration": 24,
    "start_time": "2022-10-26T14:17:43.702Z"
   },
   {
    "duration": 11,
    "start_time": "2022-10-26T14:17:43.728Z"
   },
   {
    "duration": 85,
    "start_time": "2022-10-26T14:17:43.741Z"
   },
   {
    "duration": 12,
    "start_time": "2022-10-26T14:17:43.827Z"
   },
   {
    "duration": 25,
    "start_time": "2022-10-26T14:17:43.841Z"
   },
   {
    "duration": 39,
    "start_time": "2022-10-26T14:17:43.868Z"
   },
   {
    "duration": 39,
    "start_time": "2022-10-26T14:17:43.921Z"
   },
   {
    "duration": 442,
    "start_time": "2022-10-26T14:17:43.962Z"
   },
   {
    "duration": 18,
    "start_time": "2022-10-26T14:17:44.406Z"
   },
   {
    "duration": 13,
    "start_time": "2022-10-26T14:17:44.425Z"
   },
   {
    "duration": 13,
    "start_time": "2022-10-26T14:17:44.440Z"
   },
   {
    "duration": 324,
    "start_time": "2022-10-26T14:17:44.455Z"
   },
   {
    "duration": 342,
    "start_time": "2022-10-26T14:17:44.780Z"
   },
   {
    "duration": 288,
    "start_time": "2022-10-26T14:17:45.125Z"
   },
   {
    "duration": 5,
    "start_time": "2022-10-26T14:17:45.422Z"
   },
   {
    "duration": 273,
    "start_time": "2022-10-26T14:17:45.430Z"
   },
   {
    "duration": 321,
    "start_time": "2022-10-26T14:17:45.705Z"
   },
   {
    "duration": 303,
    "start_time": "2022-10-26T14:17:46.030Z"
   },
   {
    "duration": 24,
    "start_time": "2022-10-26T14:17:46.334Z"
   },
   {
    "duration": 14,
    "start_time": "2022-10-26T14:17:46.360Z"
   },
   {
    "duration": 10,
    "start_time": "2022-10-26T14:17:46.376Z"
   },
   {
    "duration": 4123,
    "start_time": "2022-10-26T14:17:46.388Z"
   },
   {
    "duration": 0,
    "start_time": "2022-10-26T14:17:50.513Z"
   },
   {
    "duration": 0,
    "start_time": "2022-10-26T14:17:50.515Z"
   },
   {
    "duration": 0,
    "start_time": "2022-10-26T14:17:50.515Z"
   },
   {
    "duration": 0,
    "start_time": "2022-10-26T14:17:50.517Z"
   },
   {
    "duration": 0,
    "start_time": "2022-10-26T14:17:50.518Z"
   },
   {
    "duration": 0,
    "start_time": "2022-10-26T14:17:50.519Z"
   },
   {
    "duration": 0,
    "start_time": "2022-10-26T14:17:50.520Z"
   },
   {
    "duration": 33,
    "start_time": "2022-10-26T14:58:27.981Z"
   },
   {
    "duration": 72,
    "start_time": "2022-10-26T16:25:51.216Z"
   },
   {
    "duration": 4,
    "start_time": "2022-10-26T16:26:03.008Z"
   },
   {
    "duration": 4,
    "start_time": "2022-10-26T16:26:19.417Z"
   },
   {
    "duration": 19,
    "start_time": "2022-10-26T16:27:07.863Z"
   },
   {
    "duration": 5,
    "start_time": "2022-10-26T16:28:27.793Z"
   },
   {
    "duration": 3564,
    "start_time": "2022-10-26T16:29:31.632Z"
   },
   {
    "duration": 61,
    "start_time": "2022-10-26T16:29:35.197Z"
   },
   {
    "duration": 2,
    "start_time": "2022-10-26T16:29:35.260Z"
   },
   {
    "duration": 13,
    "start_time": "2022-10-26T16:29:35.264Z"
   },
   {
    "duration": 6,
    "start_time": "2022-10-26T16:29:35.279Z"
   },
   {
    "duration": 20,
    "start_time": "2022-10-26T16:29:35.287Z"
   },
   {
    "duration": 13,
    "start_time": "2022-10-26T16:29:35.309Z"
   },
   {
    "duration": 43,
    "start_time": "2022-10-26T16:29:35.324Z"
   },
   {
    "duration": 188,
    "start_time": "2022-10-26T16:29:35.369Z"
   },
   {
    "duration": 165,
    "start_time": "2022-10-26T16:29:35.559Z"
   },
   {
    "duration": 776,
    "start_time": "2022-10-26T16:29:35.725Z"
   },
   {
    "duration": 24,
    "start_time": "2022-10-26T16:29:36.503Z"
   },
   {
    "duration": 17,
    "start_time": "2022-10-26T16:29:36.529Z"
   },
   {
    "duration": 65,
    "start_time": "2022-10-26T16:29:36.548Z"
   },
   {
    "duration": 4,
    "start_time": "2022-10-26T16:29:36.615Z"
   },
   {
    "duration": 49,
    "start_time": "2022-10-26T16:29:36.621Z"
   },
   {
    "duration": 28,
    "start_time": "2022-10-26T16:29:36.671Z"
   },
   {
    "duration": 22,
    "start_time": "2022-10-26T16:29:36.700Z"
   },
   {
    "duration": 24,
    "start_time": "2022-10-26T16:29:36.724Z"
   },
   {
    "duration": 65,
    "start_time": "2022-10-26T16:29:36.750Z"
   },
   {
    "duration": 2,
    "start_time": "2022-10-26T16:29:36.817Z"
   },
   {
    "duration": 54,
    "start_time": "2022-10-26T16:29:36.820Z"
   },
   {
    "duration": 3,
    "start_time": "2022-10-26T16:29:36.876Z"
   },
   {
    "duration": 52,
    "start_time": "2022-10-26T16:29:36.880Z"
   },
   {
    "duration": 16,
    "start_time": "2022-10-26T16:29:36.933Z"
   },
   {
    "duration": 27,
    "start_time": "2022-10-26T16:29:36.951Z"
   },
   {
    "duration": 8,
    "start_time": "2022-10-26T16:29:36.979Z"
   },
   {
    "duration": 10,
    "start_time": "2022-10-26T16:29:36.990Z"
   },
   {
    "duration": 4,
    "start_time": "2022-10-26T16:29:37.002Z"
   },
   {
    "duration": 24,
    "start_time": "2022-10-26T16:29:37.008Z"
   },
   {
    "duration": 4,
    "start_time": "2022-10-26T16:29:37.033Z"
   },
   {
    "duration": 10,
    "start_time": "2022-10-26T16:29:37.039Z"
   },
   {
    "duration": 25,
    "start_time": "2022-10-26T16:29:37.050Z"
   },
   {
    "duration": 21,
    "start_time": "2022-10-26T16:29:37.076Z"
   },
   {
    "duration": 5,
    "start_time": "2022-10-26T16:29:37.098Z"
   },
   {
    "duration": 22,
    "start_time": "2022-10-26T16:29:37.104Z"
   },
   {
    "duration": 6,
    "start_time": "2022-10-26T16:29:37.128Z"
   },
   {
    "duration": 4,
    "start_time": "2022-10-26T16:29:37.135Z"
   },
   {
    "duration": 43,
    "start_time": "2022-10-26T16:29:37.140Z"
   },
   {
    "duration": 10,
    "start_time": "2022-10-26T16:29:37.185Z"
   },
   {
    "duration": 39,
    "start_time": "2022-10-26T16:29:37.196Z"
   },
   {
    "duration": 23,
    "start_time": "2022-10-26T16:29:37.236Z"
   },
   {
    "duration": 101,
    "start_time": "2022-10-26T16:29:37.260Z"
   },
   {
    "duration": 349,
    "start_time": "2022-10-26T16:29:37.363Z"
   },
   {
    "duration": 10,
    "start_time": "2022-10-26T16:29:37.722Z"
   },
   {
    "duration": 11,
    "start_time": "2022-10-26T16:29:37.733Z"
   },
   {
    "duration": 12,
    "start_time": "2022-10-26T16:29:37.745Z"
   },
   {
    "duration": 330,
    "start_time": "2022-10-26T16:29:37.759Z"
   },
   {
    "duration": 333,
    "start_time": "2022-10-26T16:29:38.090Z"
   },
   {
    "duration": 276,
    "start_time": "2022-10-26T16:29:38.425Z"
   },
   {
    "duration": 5,
    "start_time": "2022-10-26T16:29:38.702Z"
   },
   {
    "duration": 273,
    "start_time": "2022-10-26T16:29:38.721Z"
   },
   {
    "duration": 307,
    "start_time": "2022-10-26T16:29:38.996Z"
   },
   {
    "duration": 292,
    "start_time": "2022-10-26T16:29:39.304Z"
   },
   {
    "duration": 26,
    "start_time": "2022-10-26T16:29:39.597Z"
   },
   {
    "duration": 9,
    "start_time": "2022-10-26T16:29:39.624Z"
   },
   {
    "duration": 11,
    "start_time": "2022-10-26T16:29:39.635Z"
   },
   {
    "duration": 9,
    "start_time": "2022-10-26T16:29:39.648Z"
   },
   {
    "duration": 5,
    "start_time": "2022-10-26T16:29:39.659Z"
   },
   {
    "duration": 35,
    "start_time": "2022-10-26T16:29:39.666Z"
   },
   {
    "duration": 113,
    "start_time": "2022-10-26T16:29:39.703Z"
   },
   {
    "duration": 0,
    "start_time": "2022-10-26T16:29:39.821Z"
   },
   {
    "duration": 0,
    "start_time": "2022-10-26T16:29:39.823Z"
   },
   {
    "duration": 0,
    "start_time": "2022-10-26T16:29:39.823Z"
   },
   {
    "duration": 0,
    "start_time": "2022-10-26T16:29:39.824Z"
   },
   {
    "duration": 0,
    "start_time": "2022-10-26T16:29:39.825Z"
   },
   {
    "duration": 0,
    "start_time": "2022-10-26T16:29:39.826Z"
   },
   {
    "duration": 3336,
    "start_time": "2022-10-26T16:33:26.332Z"
   },
   {
    "duration": 66,
    "start_time": "2022-10-26T16:33:29.670Z"
   },
   {
    "duration": 3,
    "start_time": "2022-10-26T16:33:29.737Z"
   },
   {
    "duration": 17,
    "start_time": "2022-10-26T16:33:29.742Z"
   },
   {
    "duration": 7,
    "start_time": "2022-10-26T16:33:29.760Z"
   },
   {
    "duration": 18,
    "start_time": "2022-10-26T16:33:29.769Z"
   },
   {
    "duration": 13,
    "start_time": "2022-10-26T16:33:29.788Z"
   },
   {
    "duration": 30,
    "start_time": "2022-10-26T16:33:29.802Z"
   },
   {
    "duration": 3,
    "start_time": "2022-10-26T16:33:29.833Z"
   },
   {
    "duration": 50,
    "start_time": "2022-10-26T16:33:29.839Z"
   },
   {
    "duration": 794,
    "start_time": "2022-10-26T16:33:29.890Z"
   },
   {
    "duration": 17,
    "start_time": "2022-10-26T16:33:30.686Z"
   },
   {
    "duration": 44,
    "start_time": "2022-10-26T16:33:30.704Z"
   },
   {
    "duration": 67,
    "start_time": "2022-10-26T16:33:30.750Z"
   },
   {
    "duration": 4,
    "start_time": "2022-10-26T16:33:30.819Z"
   },
   {
    "duration": 41,
    "start_time": "2022-10-26T16:33:30.824Z"
   },
   {
    "duration": 40,
    "start_time": "2022-10-26T16:33:30.867Z"
   },
   {
    "duration": 24,
    "start_time": "2022-10-26T16:33:30.908Z"
   },
   {
    "duration": 33,
    "start_time": "2022-10-26T16:33:30.934Z"
   },
   {
    "duration": 79,
    "start_time": "2022-10-26T16:33:30.969Z"
   },
   {
    "duration": 3,
    "start_time": "2022-10-26T16:33:31.049Z"
   },
   {
    "duration": 64,
    "start_time": "2022-10-26T16:33:31.054Z"
   },
   {
    "duration": 3,
    "start_time": "2022-10-26T16:33:31.122Z"
   },
   {
    "duration": 58,
    "start_time": "2022-10-26T16:33:31.127Z"
   },
   {
    "duration": 20,
    "start_time": "2022-10-26T16:33:31.187Z"
   },
   {
    "duration": 30,
    "start_time": "2022-10-26T16:33:31.221Z"
   },
   {
    "duration": 22,
    "start_time": "2022-10-26T16:33:31.253Z"
   },
   {
    "duration": 32,
    "start_time": "2022-10-26T16:33:31.278Z"
   },
   {
    "duration": 46,
    "start_time": "2022-10-26T16:33:31.312Z"
   },
   {
    "duration": 23,
    "start_time": "2022-10-26T16:33:31.361Z"
   },
   {
    "duration": 11,
    "start_time": "2022-10-26T16:33:31.386Z"
   },
   {
    "duration": 35,
    "start_time": "2022-10-26T16:33:31.399Z"
   },
   {
    "duration": 31,
    "start_time": "2022-10-26T16:33:31.437Z"
   },
   {
    "duration": 22,
    "start_time": "2022-10-26T16:33:31.470Z"
   },
   {
    "duration": 6,
    "start_time": "2022-10-26T16:33:31.494Z"
   },
   {
    "duration": 10,
    "start_time": "2022-10-26T16:33:31.502Z"
   },
   {
    "duration": 14,
    "start_time": "2022-10-26T16:33:31.513Z"
   },
   {
    "duration": 13,
    "start_time": "2022-10-26T16:33:31.528Z"
   },
   {
    "duration": 47,
    "start_time": "2022-10-26T16:33:31.542Z"
   },
   {
    "duration": 11,
    "start_time": "2022-10-26T16:33:31.591Z"
   },
   {
    "duration": 27,
    "start_time": "2022-10-26T16:33:31.604Z"
   },
   {
    "duration": 26,
    "start_time": "2022-10-26T16:33:31.632Z"
   },
   {
    "duration": 26,
    "start_time": "2022-10-26T16:33:31.660Z"
   },
   {
    "duration": 447,
    "start_time": "2022-10-26T16:33:31.687Z"
   },
   {
    "duration": 12,
    "start_time": "2022-10-26T16:33:32.136Z"
   },
   {
    "duration": 14,
    "start_time": "2022-10-26T16:33:32.149Z"
   },
   {
    "duration": 25,
    "start_time": "2022-10-26T16:33:32.164Z"
   },
   {
    "duration": 319,
    "start_time": "2022-10-26T16:33:32.190Z"
   },
   {
    "duration": 328,
    "start_time": "2022-10-26T16:33:32.511Z"
   },
   {
    "duration": 260,
    "start_time": "2022-10-26T16:33:32.841Z"
   },
   {
    "duration": 4,
    "start_time": "2022-10-26T16:33:33.102Z"
   },
   {
    "duration": 279,
    "start_time": "2022-10-26T16:33:33.108Z"
   },
   {
    "duration": 315,
    "start_time": "2022-10-26T16:33:33.389Z"
   },
   {
    "duration": 293,
    "start_time": "2022-10-26T16:33:33.706Z"
   },
   {
    "duration": 28,
    "start_time": "2022-10-26T16:33:34.001Z"
   },
   {
    "duration": 17,
    "start_time": "2022-10-26T16:33:34.030Z"
   },
   {
    "duration": 18,
    "start_time": "2022-10-26T16:33:34.049Z"
   },
   {
    "duration": 14,
    "start_time": "2022-10-26T16:33:34.069Z"
   },
   {
    "duration": 4,
    "start_time": "2022-10-26T16:33:34.084Z"
   },
   {
    "duration": 107,
    "start_time": "2022-10-26T16:33:34.089Z"
   },
   {
    "duration": 0,
    "start_time": "2022-10-26T16:33:34.197Z"
   },
   {
    "duration": 0,
    "start_time": "2022-10-26T16:33:34.198Z"
   },
   {
    "duration": 0,
    "start_time": "2022-10-26T16:33:34.199Z"
   },
   {
    "duration": 0,
    "start_time": "2022-10-26T16:33:34.200Z"
   },
   {
    "duration": 0,
    "start_time": "2022-10-26T16:33:34.201Z"
   },
   {
    "duration": 0,
    "start_time": "2022-10-26T16:33:34.202Z"
   },
   {
    "duration": 3344,
    "start_time": "2022-10-26T16:33:55.243Z"
   },
   {
    "duration": 14,
    "start_time": "2022-10-26T16:35:31.792Z"
   },
   {
    "duration": 52,
    "start_time": "2022-10-28T06:46:15.338Z"
   },
   {
    "duration": 4997,
    "start_time": "2022-10-28T06:46:28.629Z"
   },
   {
    "duration": 283,
    "start_time": "2022-10-28T06:46:33.628Z"
   },
   {
    "duration": 4,
    "start_time": "2022-10-28T06:46:33.912Z"
   },
   {
    "duration": 23,
    "start_time": "2022-10-28T06:46:33.918Z"
   },
   {
    "duration": 12,
    "start_time": "2022-10-28T06:46:33.943Z"
   },
   {
    "duration": 39,
    "start_time": "2022-10-28T06:46:33.956Z"
   },
   {
    "duration": 33,
    "start_time": "2022-10-28T06:46:33.996Z"
   },
   {
    "duration": 27,
    "start_time": "2022-10-28T06:46:34.031Z"
   },
   {
    "duration": 8,
    "start_time": "2022-10-28T06:46:34.060Z"
   },
   {
    "duration": 66,
    "start_time": "2022-10-28T06:46:34.071Z"
   },
   {
    "duration": 797,
    "start_time": "2022-10-28T06:46:34.138Z"
   },
   {
    "duration": 14,
    "start_time": "2022-10-28T06:46:34.937Z"
   },
   {
    "duration": 31,
    "start_time": "2022-10-28T06:46:34.952Z"
   },
   {
    "duration": 82,
    "start_time": "2022-10-28T06:46:34.984Z"
   },
   {
    "duration": 4,
    "start_time": "2022-10-28T06:46:35.067Z"
   },
   {
    "duration": 34,
    "start_time": "2022-10-28T06:46:35.072Z"
   },
   {
    "duration": 39,
    "start_time": "2022-10-28T06:46:35.108Z"
   },
   {
    "duration": 66,
    "start_time": "2022-10-28T06:46:35.148Z"
   },
   {
    "duration": 25,
    "start_time": "2022-10-28T06:46:35.216Z"
   },
   {
    "duration": 74,
    "start_time": "2022-10-28T06:46:35.243Z"
   },
   {
    "duration": 3,
    "start_time": "2022-10-28T06:46:35.319Z"
   },
   {
    "duration": 80,
    "start_time": "2022-10-28T06:46:35.323Z"
   },
   {
    "duration": 3,
    "start_time": "2022-10-28T06:46:35.405Z"
   },
   {
    "duration": 80,
    "start_time": "2022-10-28T06:46:35.410Z"
   },
   {
    "duration": 20,
    "start_time": "2022-10-28T06:46:35.491Z"
   },
   {
    "duration": 112,
    "start_time": "2022-10-28T06:46:35.513Z"
   },
   {
    "duration": 8,
    "start_time": "2022-10-28T06:46:35.627Z"
   },
   {
    "duration": 31,
    "start_time": "2022-10-28T06:46:35.639Z"
   },
   {
    "duration": 23,
    "start_time": "2022-10-28T06:46:35.671Z"
   },
   {
    "duration": 36,
    "start_time": "2022-10-28T06:46:35.696Z"
   },
   {
    "duration": 26,
    "start_time": "2022-10-28T06:46:35.733Z"
   },
   {
    "duration": 40,
    "start_time": "2022-10-28T06:46:35.761Z"
   },
   {
    "duration": 45,
    "start_time": "2022-10-28T06:46:35.803Z"
   },
   {
    "duration": 51,
    "start_time": "2022-10-28T06:46:35.850Z"
   },
   {
    "duration": 6,
    "start_time": "2022-10-28T06:46:35.903Z"
   },
   {
    "duration": 32,
    "start_time": "2022-10-28T06:46:35.911Z"
   },
   {
    "duration": 32,
    "start_time": "2022-10-28T06:46:35.945Z"
   },
   {
    "duration": 33,
    "start_time": "2022-10-28T06:46:35.979Z"
   },
   {
    "duration": 77,
    "start_time": "2022-10-28T06:46:36.013Z"
   },
   {
    "duration": 12,
    "start_time": "2022-10-28T06:46:36.092Z"
   },
   {
    "duration": 49,
    "start_time": "2022-10-28T06:46:36.106Z"
   },
   {
    "duration": 36,
    "start_time": "2022-10-28T06:46:36.157Z"
   },
   {
    "duration": 27,
    "start_time": "2022-10-28T06:46:36.194Z"
   },
   {
    "duration": 421,
    "start_time": "2022-10-28T06:46:36.223Z"
   },
   {
    "duration": 12,
    "start_time": "2022-10-28T06:46:36.645Z"
   },
   {
    "duration": 24,
    "start_time": "2022-10-28T06:46:36.659Z"
   },
   {
    "duration": 15,
    "start_time": "2022-10-28T06:46:36.685Z"
   },
   {
    "duration": 324,
    "start_time": "2022-10-28T06:46:36.702Z"
   },
   {
    "duration": 324,
    "start_time": "2022-10-28T06:46:37.027Z"
   },
   {
    "duration": 317,
    "start_time": "2022-10-28T06:46:37.353Z"
   },
   {
    "duration": 5,
    "start_time": "2022-10-28T06:46:37.671Z"
   },
   {
    "duration": 356,
    "start_time": "2022-10-28T06:46:37.678Z"
   },
   {
    "duration": 319,
    "start_time": "2022-10-28T06:46:38.036Z"
   },
   {
    "duration": 327,
    "start_time": "2022-10-28T06:46:38.356Z"
   },
   {
    "duration": 20,
    "start_time": "2022-10-28T06:46:38.685Z"
   },
   {
    "duration": 30,
    "start_time": "2022-10-28T06:46:38.706Z"
   },
   {
    "duration": 5,
    "start_time": "2022-10-28T06:46:38.738Z"
   },
   {
    "duration": 76,
    "start_time": "2022-10-28T06:46:38.744Z"
   },
   {
    "duration": 0,
    "start_time": "2022-10-28T06:46:38.822Z"
   },
   {
    "duration": 0,
    "start_time": "2022-10-28T06:46:38.824Z"
   },
   {
    "duration": 0,
    "start_time": "2022-10-28T06:46:38.825Z"
   },
   {
    "duration": 0,
    "start_time": "2022-10-28T06:46:38.827Z"
   },
   {
    "duration": 0,
    "start_time": "2022-10-28T06:46:38.828Z"
   },
   {
    "duration": 0,
    "start_time": "2022-10-28T06:46:38.829Z"
   },
   {
    "duration": 0,
    "start_time": "2022-10-28T06:46:38.831Z"
   },
   {
    "duration": 0,
    "start_time": "2022-10-28T06:46:38.832Z"
   },
   {
    "duration": 0,
    "start_time": "2022-10-28T06:46:38.834Z"
   },
   {
    "duration": 0,
    "start_time": "2022-10-28T06:46:38.835Z"
   },
   {
    "duration": 135,
    "start_time": "2022-10-28T06:48:12.267Z"
   },
   {
    "duration": 5,
    "start_time": "2022-10-28T07:07:14.008Z"
   },
   {
    "duration": 13,
    "start_time": "2022-10-28T07:07:21.466Z"
   },
   {
    "duration": 14,
    "start_time": "2022-10-28T07:07:48.432Z"
   },
   {
    "duration": 26,
    "start_time": "2022-10-28T07:10:16.322Z"
   },
   {
    "duration": 3354,
    "start_time": "2022-10-28T07:10:31.995Z"
   },
   {
    "duration": 19,
    "start_time": "2022-10-28T07:11:38.845Z"
   },
   {
    "duration": 122,
    "start_time": "2022-10-28T07:11:55.906Z"
   },
   {
    "duration": 19,
    "start_time": "2022-10-28T07:46:13.521Z"
   },
   {
    "duration": 14,
    "start_time": "2022-10-28T07:46:22.394Z"
   },
   {
    "duration": 4,
    "start_time": "2022-10-28T07:48:43.140Z"
   },
   {
    "duration": 9,
    "start_time": "2022-10-28T07:48:46.682Z"
   },
   {
    "duration": 4104,
    "start_time": "2022-10-28T07:48:53.899Z"
   },
   {
    "duration": 71,
    "start_time": "2022-10-28T07:48:58.005Z"
   },
   {
    "duration": 3,
    "start_time": "2022-10-28T07:48:58.078Z"
   },
   {
    "duration": 13,
    "start_time": "2022-10-28T07:48:58.083Z"
   },
   {
    "duration": 8,
    "start_time": "2022-10-28T07:48:58.097Z"
   },
   {
    "duration": 17,
    "start_time": "2022-10-28T07:48:58.107Z"
   },
   {
    "duration": 15,
    "start_time": "2022-10-28T07:48:58.125Z"
   },
   {
    "duration": 20,
    "start_time": "2022-10-28T07:48:58.141Z"
   },
   {
    "duration": 2,
    "start_time": "2022-10-28T07:48:58.163Z"
   },
   {
    "duration": 74,
    "start_time": "2022-10-28T07:48:58.168Z"
   },
   {
    "duration": 923,
    "start_time": "2022-10-28T07:48:58.244Z"
   },
   {
    "duration": 17,
    "start_time": "2022-10-28T07:48:59.169Z"
   },
   {
    "duration": 37,
    "start_time": "2022-10-28T07:48:59.188Z"
   },
   {
    "duration": 50,
    "start_time": "2022-10-28T07:48:59.227Z"
   },
   {
    "duration": 4,
    "start_time": "2022-10-28T07:48:59.278Z"
   },
   {
    "duration": 16,
    "start_time": "2022-10-28T07:48:59.283Z"
   },
   {
    "duration": 9,
    "start_time": "2022-10-28T07:48:59.301Z"
   },
   {
    "duration": 11,
    "start_time": "2022-10-28T07:48:59.312Z"
   },
   {
    "duration": 4,
    "start_time": "2022-10-28T07:48:59.325Z"
   },
   {
    "duration": 63,
    "start_time": "2022-10-28T07:48:59.330Z"
   },
   {
    "duration": 8,
    "start_time": "2022-10-28T07:48:59.395Z"
   },
   {
    "duration": 72,
    "start_time": "2022-10-28T07:48:59.405Z"
   },
   {
    "duration": 4,
    "start_time": "2022-10-28T07:48:59.479Z"
   },
   {
    "duration": 67,
    "start_time": "2022-10-28T07:48:59.485Z"
   },
   {
    "duration": 23,
    "start_time": "2022-10-28T07:48:59.554Z"
   },
   {
    "duration": 30,
    "start_time": "2022-10-28T07:48:59.579Z"
   },
   {
    "duration": 18,
    "start_time": "2022-10-28T07:48:59.611Z"
   },
   {
    "duration": 12,
    "start_time": "2022-10-28T07:48:59.633Z"
   },
   {
    "duration": 5,
    "start_time": "2022-10-28T07:48:59.646Z"
   },
   {
    "duration": 15,
    "start_time": "2022-10-28T07:48:59.652Z"
   },
   {
    "duration": 6,
    "start_time": "2022-10-28T07:48:59.669Z"
   },
   {
    "duration": 47,
    "start_time": "2022-10-28T07:48:59.677Z"
   },
   {
    "duration": 29,
    "start_time": "2022-10-28T07:48:59.725Z"
   },
   {
    "duration": 28,
    "start_time": "2022-10-28T07:48:59.756Z"
   },
   {
    "duration": 6,
    "start_time": "2022-10-28T07:48:59.786Z"
   },
   {
    "duration": 20,
    "start_time": "2022-10-28T07:48:59.794Z"
   },
   {
    "duration": 21,
    "start_time": "2022-10-28T07:48:59.824Z"
   },
   {
    "duration": 41,
    "start_time": "2022-10-28T07:48:59.847Z"
   },
   {
    "duration": 73,
    "start_time": "2022-10-28T07:48:59.890Z"
   },
   {
    "duration": 17,
    "start_time": "2022-10-28T07:48:59.965Z"
   },
   {
    "duration": 27,
    "start_time": "2022-10-28T07:48:59.983Z"
   },
   {
    "duration": 45,
    "start_time": "2022-10-28T07:49:00.012Z"
   },
   {
    "duration": 109,
    "start_time": "2022-10-28T07:49:00.060Z"
   },
   {
    "duration": 370,
    "start_time": "2022-10-28T07:49:00.171Z"
   },
   {
    "duration": 13,
    "start_time": "2022-10-28T07:49:00.542Z"
   },
   {
    "duration": 35,
    "start_time": "2022-10-28T07:49:00.557Z"
   },
   {
    "duration": 37,
    "start_time": "2022-10-28T07:49:00.594Z"
   },
   {
    "duration": 325,
    "start_time": "2022-10-28T07:49:00.633Z"
   },
   {
    "duration": 383,
    "start_time": "2022-10-28T07:49:00.960Z"
   },
   {
    "duration": 313,
    "start_time": "2022-10-28T07:49:01.345Z"
   },
   {
    "duration": 6,
    "start_time": "2022-10-28T07:49:01.660Z"
   },
   {
    "duration": 391,
    "start_time": "2022-10-28T07:49:01.668Z"
   },
   {
    "duration": 389,
    "start_time": "2022-10-28T07:49:02.061Z"
   },
   {
    "duration": 313,
    "start_time": "2022-10-28T07:49:02.451Z"
   },
   {
    "duration": 22,
    "start_time": "2022-10-28T07:49:02.766Z"
   },
   {
    "duration": 34,
    "start_time": "2022-10-28T07:49:02.790Z"
   },
   {
    "duration": 5,
    "start_time": "2022-10-28T07:49:02.826Z"
   },
   {
    "duration": 18,
    "start_time": "2022-10-28T07:49:02.833Z"
   },
   {
    "duration": 4,
    "start_time": "2022-10-28T07:49:02.852Z"
   },
   {
    "duration": 10,
    "start_time": "2022-10-28T07:49:02.858Z"
   },
   {
    "duration": 3,
    "start_time": "2022-10-28T07:49:02.871Z"
   },
   {
    "duration": 19409,
    "start_time": "2022-10-28T07:49:02.875Z"
   },
   {
    "duration": 33,
    "start_time": "2022-10-28T07:49:22.286Z"
   },
   {
    "duration": 8,
    "start_time": "2022-10-28T07:49:22.321Z"
   },
   {
    "duration": 18,
    "start_time": "2022-10-28T07:49:22.330Z"
   },
   {
    "duration": 222,
    "start_time": "2022-10-28T07:49:22.350Z"
   },
   {
    "duration": 0,
    "start_time": "2022-10-28T07:49:22.574Z"
   },
   {
    "duration": 0,
    "start_time": "2022-10-28T07:49:22.576Z"
   },
   {
    "duration": 0,
    "start_time": "2022-10-28T07:49:22.577Z"
   },
   {
    "duration": 0,
    "start_time": "2022-10-28T07:49:22.578Z"
   },
   {
    "duration": 3,
    "start_time": "2022-10-28T07:51:47.049Z"
   },
   {
    "duration": 13,
    "start_time": "2022-10-28T07:56:05.490Z"
   },
   {
    "duration": 11,
    "start_time": "2022-10-28T07:57:01.660Z"
   },
   {
    "duration": 12,
    "start_time": "2022-10-28T08:17:33.264Z"
   },
   {
    "duration": 12,
    "start_time": "2022-10-28T08:17:40.564Z"
   },
   {
    "duration": 11,
    "start_time": "2022-10-28T08:33:57.881Z"
   },
   {
    "duration": 3251,
    "start_time": "2022-10-28T08:34:23.422Z"
   },
   {
    "duration": 21,
    "start_time": "2022-10-28T08:34:33.510Z"
   },
   {
    "duration": 29,
    "start_time": "2022-10-28T08:34:40.481Z"
   },
   {
    "duration": 117,
    "start_time": "2022-10-28T08:40:43.543Z"
   },
   {
    "duration": 1566,
    "start_time": "2022-10-28T08:40:48.610Z"
   },
   {
    "duration": 77,
    "start_time": "2022-10-28T08:41:09.808Z"
   },
   {
    "duration": 370,
    "start_time": "2022-10-28T08:41:13.966Z"
   },
   {
    "duration": 381,
    "start_time": "2022-10-28T08:41:27.739Z"
   },
   {
    "duration": 4218,
    "start_time": "2022-10-28T08:41:44.942Z"
   },
   {
    "duration": 71,
    "start_time": "2022-10-28T08:41:49.163Z"
   },
   {
    "duration": 4,
    "start_time": "2022-10-28T08:41:49.235Z"
   },
   {
    "duration": 13,
    "start_time": "2022-10-28T08:41:49.241Z"
   },
   {
    "duration": 10,
    "start_time": "2022-10-28T08:41:49.256Z"
   },
   {
    "duration": 19,
    "start_time": "2022-10-28T08:41:49.268Z"
   },
   {
    "duration": 45,
    "start_time": "2022-10-28T08:41:49.288Z"
   },
   {
    "duration": 16,
    "start_time": "2022-10-28T08:41:49.334Z"
   },
   {
    "duration": 3,
    "start_time": "2022-10-28T08:41:49.352Z"
   },
   {
    "duration": 80,
    "start_time": "2022-10-28T08:41:49.359Z"
   },
   {
    "duration": 936,
    "start_time": "2022-10-28T08:41:49.441Z"
   },
   {
    "duration": 17,
    "start_time": "2022-10-28T08:41:50.379Z"
   },
   {
    "duration": 30,
    "start_time": "2022-10-28T08:41:50.398Z"
   },
   {
    "duration": 52,
    "start_time": "2022-10-28T08:41:50.430Z"
   },
   {
    "duration": 4,
    "start_time": "2022-10-28T08:41:50.483Z"
   },
   {
    "duration": 26,
    "start_time": "2022-10-28T08:41:50.488Z"
   },
   {
    "duration": 8,
    "start_time": "2022-10-28T08:41:50.516Z"
   },
   {
    "duration": 12,
    "start_time": "2022-10-28T08:41:50.526Z"
   },
   {
    "duration": 4,
    "start_time": "2022-10-28T08:41:50.540Z"
   },
   {
    "duration": 83,
    "start_time": "2022-10-28T08:41:50.547Z"
   },
   {
    "duration": 4,
    "start_time": "2022-10-28T08:41:50.632Z"
   },
   {
    "duration": 60,
    "start_time": "2022-10-28T08:41:50.637Z"
   },
   {
    "duration": 3,
    "start_time": "2022-10-28T08:41:50.699Z"
   },
   {
    "duration": 65,
    "start_time": "2022-10-28T08:41:50.724Z"
   },
   {
    "duration": 34,
    "start_time": "2022-10-28T08:41:50.791Z"
   },
   {
    "duration": 31,
    "start_time": "2022-10-28T08:41:50.827Z"
   },
   {
    "duration": 11,
    "start_time": "2022-10-28T08:41:50.860Z"
   },
   {
    "duration": 12,
    "start_time": "2022-10-28T08:41:50.875Z"
   },
   {
    "duration": 5,
    "start_time": "2022-10-28T08:41:50.889Z"
   },
   {
    "duration": 36,
    "start_time": "2022-10-28T08:41:50.896Z"
   },
   {
    "duration": 7,
    "start_time": "2022-10-28T08:41:50.934Z"
   },
   {
    "duration": 12,
    "start_time": "2022-10-28T08:41:50.943Z"
   },
   {
    "duration": 47,
    "start_time": "2022-10-28T08:41:50.957Z"
   },
   {
    "duration": 31,
    "start_time": "2022-10-28T08:41:51.006Z"
   },
   {
    "duration": 10,
    "start_time": "2022-10-28T08:41:51.040Z"
   },
   {
    "duration": 12,
    "start_time": "2022-10-28T08:41:51.052Z"
   },
   {
    "duration": 10,
    "start_time": "2022-10-28T08:41:51.065Z"
   },
   {
    "duration": 4,
    "start_time": "2022-10-28T08:41:51.076Z"
   },
   {
    "duration": 77,
    "start_time": "2022-10-28T08:41:51.082Z"
   },
   {
    "duration": 12,
    "start_time": "2022-10-28T08:41:51.161Z"
   },
   {
    "duration": 22,
    "start_time": "2022-10-28T08:41:51.175Z"
   },
   {
    "duration": 51,
    "start_time": "2022-10-28T08:41:51.199Z"
   },
   {
    "duration": 117,
    "start_time": "2022-10-28T08:41:51.252Z"
   },
   {
    "duration": 372,
    "start_time": "2022-10-28T08:41:51.371Z"
   },
   {
    "duration": 12,
    "start_time": "2022-10-28T08:41:51.745Z"
   },
   {
    "duration": 14,
    "start_time": "2022-10-28T08:41:51.759Z"
   },
   {
    "duration": 15,
    "start_time": "2022-10-28T08:41:51.775Z"
   },
   {
    "duration": 371,
    "start_time": "2022-10-28T08:41:51.793Z"
   },
   {
    "duration": 400,
    "start_time": "2022-10-28T08:41:52.166Z"
   },
   {
    "duration": 390,
    "start_time": "2022-10-28T08:41:52.568Z"
   },
   {
    "duration": 6,
    "start_time": "2022-10-28T08:41:52.960Z"
   },
   {
    "duration": 370,
    "start_time": "2022-10-28T08:41:52.968Z"
   },
   {
    "duration": 362,
    "start_time": "2022-10-28T08:41:53.339Z"
   },
   {
    "duration": 344,
    "start_time": "2022-10-28T08:41:53.703Z"
   },
   {
    "duration": 26,
    "start_time": "2022-10-28T08:41:54.049Z"
   },
   {
    "duration": 14,
    "start_time": "2022-10-28T08:41:54.077Z"
   },
   {
    "duration": 4,
    "start_time": "2022-10-28T08:41:54.094Z"
   },
   {
    "duration": 20,
    "start_time": "2022-10-28T08:41:54.125Z"
   },
   {
    "duration": 2,
    "start_time": "2022-10-28T08:41:54.147Z"
   },
   {
    "duration": 10,
    "start_time": "2022-10-28T08:41:54.151Z"
   },
   {
    "duration": 3,
    "start_time": "2022-10-28T08:41:54.163Z"
   },
   {
    "duration": 20480,
    "start_time": "2022-10-28T08:41:54.168Z"
   },
   {
    "duration": 27,
    "start_time": "2022-10-28T08:42:14.650Z"
   },
   {
    "duration": 7,
    "start_time": "2022-10-28T08:42:14.679Z"
   },
   {
    "duration": 319,
    "start_time": "2022-10-28T08:42:14.688Z"
   },
   {
    "duration": 3,
    "start_time": "2022-10-28T08:42:15.009Z"
   },
   {
    "duration": 258,
    "start_time": "2022-10-28T08:42:15.014Z"
   },
   {
    "duration": 0,
    "start_time": "2022-10-28T08:42:15.275Z"
   },
   {
    "duration": 0,
    "start_time": "2022-10-28T08:42:15.276Z"
   },
   {
    "duration": 0,
    "start_time": "2022-10-28T08:42:15.277Z"
   },
   {
    "duration": 0,
    "start_time": "2022-10-28T08:42:15.278Z"
   },
   {
    "duration": 70,
    "start_time": "2022-10-28T08:44:07.547Z"
   },
   {
    "duration": 334,
    "start_time": "2022-10-28T08:44:52.754Z"
   },
   {
    "duration": 286,
    "start_time": "2022-10-28T08:46:02.686Z"
   },
   {
    "duration": 4,
    "start_time": "2022-10-28T09:00:55.112Z"
   },
   {
    "duration": 38,
    "start_time": "2022-10-28T09:01:47.513Z"
   },
   {
    "duration": 312,
    "start_time": "2022-10-28T09:02:10.828Z"
   },
   {
    "duration": 89,
    "start_time": "2022-10-28T09:02:15.719Z"
   },
   {
    "duration": 20,
    "start_time": "2022-10-28T09:02:30.837Z"
   },
   {
    "duration": 11,
    "start_time": "2022-10-28T09:03:30.260Z"
   },
   {
    "duration": 11,
    "start_time": "2022-10-28T09:03:39.800Z"
   },
   {
    "duration": 9,
    "start_time": "2022-10-28T09:03:51.145Z"
   },
   {
    "duration": 28,
    "start_time": "2022-10-28T09:03:52.570Z"
   },
   {
    "duration": 1680,
    "start_time": "2022-10-28T09:04:01.718Z"
   },
   {
    "duration": 82,
    "start_time": "2022-10-28T09:04:03.400Z"
   },
   {
    "duration": 4,
    "start_time": "2022-10-28T09:04:03.483Z"
   },
   {
    "duration": 21,
    "start_time": "2022-10-28T09:04:03.489Z"
   },
   {
    "duration": 14,
    "start_time": "2022-10-28T09:04:03.511Z"
   },
   {
    "duration": 15,
    "start_time": "2022-10-28T09:04:03.527Z"
   },
   {
    "duration": 16,
    "start_time": "2022-10-28T09:04:03.544Z"
   },
   {
    "duration": 33,
    "start_time": "2022-10-28T09:04:03.562Z"
   },
   {
    "duration": 3,
    "start_time": "2022-10-28T09:04:03.597Z"
   },
   {
    "duration": 73,
    "start_time": "2022-10-28T09:04:03.604Z"
   },
   {
    "duration": 936,
    "start_time": "2022-10-28T09:04:03.679Z"
   },
   {
    "duration": 20,
    "start_time": "2022-10-28T09:04:04.616Z"
   },
   {
    "duration": 18,
    "start_time": "2022-10-28T09:04:04.638Z"
   },
   {
    "duration": 53,
    "start_time": "2022-10-28T09:04:04.658Z"
   },
   {
    "duration": 3,
    "start_time": "2022-10-28T09:04:04.713Z"
   },
   {
    "duration": 19,
    "start_time": "2022-10-28T09:04:04.718Z"
   },
   {
    "duration": 9,
    "start_time": "2022-10-28T09:04:04.739Z"
   },
   {
    "duration": 12,
    "start_time": "2022-10-28T09:04:04.749Z"
   },
   {
    "duration": 6,
    "start_time": "2022-10-28T09:04:04.762Z"
   },
   {
    "duration": 95,
    "start_time": "2022-10-28T09:04:04.770Z"
   },
   {
    "duration": 4,
    "start_time": "2022-10-28T09:04:04.867Z"
   },
   {
    "duration": 82,
    "start_time": "2022-10-28T09:04:04.873Z"
   },
   {
    "duration": 4,
    "start_time": "2022-10-28T09:04:04.957Z"
   },
   {
    "duration": 66,
    "start_time": "2022-10-28T09:04:04.962Z"
   },
   {
    "duration": 22,
    "start_time": "2022-10-28T09:04:05.030Z"
   },
   {
    "duration": 30,
    "start_time": "2022-10-28T09:04:05.054Z"
   },
   {
    "duration": 9,
    "start_time": "2022-10-28T09:04:05.086Z"
   },
   {
    "duration": 33,
    "start_time": "2022-10-28T09:04:05.099Z"
   },
   {
    "duration": 5,
    "start_time": "2022-10-28T09:04:05.134Z"
   },
   {
    "duration": 21,
    "start_time": "2022-10-28T09:04:05.140Z"
   },
   {
    "duration": 7,
    "start_time": "2022-10-28T09:04:05.164Z"
   },
   {
    "duration": 11,
    "start_time": "2022-10-28T09:04:05.173Z"
   },
   {
    "duration": 63,
    "start_time": "2022-10-28T09:04:05.186Z"
   },
   {
    "duration": 24,
    "start_time": "2022-10-28T09:04:05.250Z"
   },
   {
    "duration": 7,
    "start_time": "2022-10-28T09:04:05.275Z"
   },
   {
    "duration": 14,
    "start_time": "2022-10-28T09:04:05.283Z"
   },
   {
    "duration": 35,
    "start_time": "2022-10-28T09:04:05.299Z"
   },
   {
    "duration": 6,
    "start_time": "2022-10-28T09:04:05.336Z"
   },
   {
    "duration": 61,
    "start_time": "2022-10-28T09:04:05.344Z"
   },
   {
    "duration": 17,
    "start_time": "2022-10-28T09:04:05.407Z"
   },
   {
    "duration": 23,
    "start_time": "2022-10-28T09:04:05.426Z"
   },
   {
    "duration": 31,
    "start_time": "2022-10-28T09:04:05.451Z"
   },
   {
    "duration": 54,
    "start_time": "2022-10-28T09:04:05.485Z"
   },
   {
    "duration": 303,
    "start_time": "2022-10-28T09:04:05.541Z"
   },
   {
    "duration": 13,
    "start_time": "2022-10-28T09:04:05.846Z"
   },
   {
    "duration": 15,
    "start_time": "2022-10-28T09:04:05.861Z"
   },
   {
    "duration": 16,
    "start_time": "2022-10-28T09:04:05.879Z"
   },
   {
    "duration": 349,
    "start_time": "2022-10-28T09:04:05.897Z"
   },
   {
    "duration": 412,
    "start_time": "2022-10-28T09:04:06.248Z"
   },
   {
    "duration": 362,
    "start_time": "2022-10-28T09:04:06.662Z"
   },
   {
    "duration": 5,
    "start_time": "2022-10-28T09:04:07.026Z"
   },
   {
    "duration": 315,
    "start_time": "2022-10-28T09:04:07.033Z"
   },
   {
    "duration": 401,
    "start_time": "2022-10-28T09:04:07.350Z"
   },
   {
    "duration": 382,
    "start_time": "2022-10-28T09:04:07.753Z"
   },
   {
    "duration": 21,
    "start_time": "2022-10-28T09:04:08.137Z"
   },
   {
    "duration": 21,
    "start_time": "2022-10-28T09:04:08.160Z"
   },
   {
    "duration": 5,
    "start_time": "2022-10-28T09:04:08.183Z"
   },
   {
    "duration": 46,
    "start_time": "2022-10-28T09:04:08.190Z"
   },
   {
    "duration": 3,
    "start_time": "2022-10-28T09:04:08.238Z"
   },
   {
    "duration": 13,
    "start_time": "2022-10-28T09:04:08.243Z"
   },
   {
    "duration": 27,
    "start_time": "2022-10-28T09:04:08.258Z"
   },
   {
    "duration": 19086,
    "start_time": "2022-10-28T09:04:08.287Z"
   },
   {
    "duration": 28,
    "start_time": "2022-10-28T09:04:27.375Z"
   },
   {
    "duration": 8,
    "start_time": "2022-10-28T09:04:27.405Z"
   },
   {
    "duration": 301,
    "start_time": "2022-10-28T09:04:27.415Z"
   },
   {
    "duration": 6,
    "start_time": "2022-10-28T09:04:27.718Z"
   },
   {
    "duration": 216,
    "start_time": "2022-10-28T09:04:27.725Z"
   },
   {
    "duration": 0,
    "start_time": "2022-10-28T09:04:27.942Z"
   },
   {
    "duration": 281,
    "start_time": "2022-10-28T09:06:48.081Z"
   },
   {
    "duration": 286,
    "start_time": "2022-10-28T09:06:54.301Z"
   },
   {
    "duration": 293,
    "start_time": "2022-10-28T09:07:06.064Z"
   },
   {
    "duration": 247,
    "start_time": "2022-10-28T09:07:22.740Z"
   },
   {
    "duration": 15857,
    "start_time": "2022-10-28T09:07:27.381Z"
   },
   {
    "duration": 2314,
    "start_time": "2022-10-28T09:17:10.203Z"
   },
   {
    "duration": 0,
    "start_time": "2022-10-28T09:17:12.520Z"
   },
   {
    "duration": 1638,
    "start_time": "2022-10-28T09:17:34.560Z"
   },
   {
    "duration": 73,
    "start_time": "2022-10-28T09:17:36.200Z"
   },
   {
    "duration": 5,
    "start_time": "2022-10-28T09:17:36.274Z"
   },
   {
    "duration": 32,
    "start_time": "2022-10-28T09:17:36.282Z"
   },
   {
    "duration": 14,
    "start_time": "2022-10-28T09:17:36.316Z"
   },
   {
    "duration": 21,
    "start_time": "2022-10-28T09:17:36.333Z"
   },
   {
    "duration": 27,
    "start_time": "2022-10-28T09:17:36.357Z"
   },
   {
    "duration": 37,
    "start_time": "2022-10-28T09:17:36.386Z"
   },
   {
    "duration": 5,
    "start_time": "2022-10-28T09:17:36.426Z"
   },
   {
    "duration": 77,
    "start_time": "2022-10-28T09:17:36.435Z"
   },
   {
    "duration": 954,
    "start_time": "2022-10-28T09:17:36.514Z"
   },
   {
    "duration": 15,
    "start_time": "2022-10-28T09:17:37.470Z"
   },
   {
    "duration": 39,
    "start_time": "2022-10-28T09:17:37.487Z"
   },
   {
    "duration": 51,
    "start_time": "2022-10-28T09:17:37.528Z"
   },
   {
    "duration": 4,
    "start_time": "2022-10-28T09:17:37.581Z"
   },
   {
    "duration": 20,
    "start_time": "2022-10-28T09:17:37.587Z"
   },
   {
    "duration": 12,
    "start_time": "2022-10-28T09:17:37.609Z"
   },
   {
    "duration": 16,
    "start_time": "2022-10-28T09:17:37.624Z"
   },
   {
    "duration": 12,
    "start_time": "2022-10-28T09:17:37.643Z"
   },
   {
    "duration": 77,
    "start_time": "2022-10-28T09:17:37.657Z"
   },
   {
    "duration": 4,
    "start_time": "2022-10-28T09:17:37.736Z"
   },
   {
    "duration": 85,
    "start_time": "2022-10-28T09:17:37.741Z"
   },
   {
    "duration": 3,
    "start_time": "2022-10-28T09:17:37.828Z"
   },
   {
    "duration": 67,
    "start_time": "2022-10-28T09:17:37.834Z"
   },
   {
    "duration": 37,
    "start_time": "2022-10-28T09:17:37.902Z"
   },
   {
    "duration": 32,
    "start_time": "2022-10-28T09:17:37.941Z"
   },
   {
    "duration": 11,
    "start_time": "2022-10-28T09:17:37.975Z"
   },
   {
    "duration": 15,
    "start_time": "2022-10-28T09:17:37.991Z"
   },
   {
    "duration": 24,
    "start_time": "2022-10-28T09:17:38.008Z"
   },
   {
    "duration": 23,
    "start_time": "2022-10-28T09:17:38.034Z"
   },
   {
    "duration": 12,
    "start_time": "2022-10-28T09:17:38.059Z"
   },
   {
    "duration": 18,
    "start_time": "2022-10-28T09:17:38.073Z"
   },
   {
    "duration": 39,
    "start_time": "2022-10-28T09:17:38.093Z"
   },
   {
    "duration": 24,
    "start_time": "2022-10-28T09:17:38.135Z"
   },
   {
    "duration": 8,
    "start_time": "2022-10-28T09:17:38.162Z"
   },
   {
    "duration": 25,
    "start_time": "2022-10-28T09:17:38.171Z"
   },
   {
    "duration": 37,
    "start_time": "2022-10-28T09:17:38.198Z"
   },
   {
    "duration": 9,
    "start_time": "2022-10-28T09:17:38.238Z"
   },
   {
    "duration": 66,
    "start_time": "2022-10-28T09:17:38.249Z"
   },
   {
    "duration": 12,
    "start_time": "2022-10-28T09:17:38.317Z"
   },
   {
    "duration": 25,
    "start_time": "2022-10-28T09:17:38.331Z"
   },
   {
    "duration": 38,
    "start_time": "2022-10-28T09:17:38.358Z"
   },
   {
    "duration": 64,
    "start_time": "2022-10-28T09:17:38.398Z"
   },
   {
    "duration": 360,
    "start_time": "2022-10-28T09:17:38.464Z"
   },
   {
    "duration": 16,
    "start_time": "2022-10-28T09:17:38.826Z"
   },
   {
    "duration": 28,
    "start_time": "2022-10-28T09:17:38.844Z"
   },
   {
    "duration": 19,
    "start_time": "2022-10-28T09:17:38.874Z"
   },
   {
    "duration": 374,
    "start_time": "2022-10-28T09:17:38.895Z"
   },
   {
    "duration": 548,
    "start_time": "2022-10-28T09:17:39.271Z"
   },
   {
    "duration": 327,
    "start_time": "2022-10-28T09:17:39.822Z"
   },
   {
    "duration": 6,
    "start_time": "2022-10-28T09:17:40.153Z"
   },
   {
    "duration": 1163,
    "start_time": "2022-10-28T09:17:40.161Z"
   },
   {
    "duration": 417,
    "start_time": "2022-10-28T09:17:41.327Z"
   },
   {
    "duration": 418,
    "start_time": "2022-10-28T09:17:41.747Z"
   },
   {
    "duration": 27,
    "start_time": "2022-10-28T09:17:42.167Z"
   },
   {
    "duration": 36,
    "start_time": "2022-10-28T09:17:42.196Z"
   },
   {
    "duration": 13,
    "start_time": "2022-10-28T09:17:42.235Z"
   },
   {
    "duration": 33,
    "start_time": "2022-10-28T09:17:42.251Z"
   },
   {
    "duration": 36,
    "start_time": "2022-10-28T09:17:42.286Z"
   },
   {
    "duration": 23,
    "start_time": "2022-10-28T09:17:42.325Z"
   },
   {
    "duration": 14,
    "start_time": "2022-10-28T09:17:42.351Z"
   },
   {
    "duration": 18810,
    "start_time": "2022-10-28T09:17:42.368Z"
   },
   {
    "duration": 27,
    "start_time": "2022-10-28T09:18:01.180Z"
   },
   {
    "duration": 8,
    "start_time": "2022-10-28T09:18:01.209Z"
   },
   {
    "duration": 286,
    "start_time": "2022-10-28T09:18:01.219Z"
   },
   {
    "duration": 4,
    "start_time": "2022-10-28T09:18:01.507Z"
   },
   {
    "duration": 15781,
    "start_time": "2022-10-28T09:18:01.513Z"
   },
   {
    "duration": 2220,
    "start_time": "2022-10-28T09:18:17.296Z"
   },
   {
    "duration": 0,
    "start_time": "2022-10-28T09:18:19.518Z"
   },
   {
    "duration": 0,
    "start_time": "2022-10-28T09:18:19.519Z"
   },
   {
    "duration": 244,
    "start_time": "2022-10-28T09:27:33.789Z"
   },
   {
    "duration": 8,
    "start_time": "2022-10-28T09:27:39.112Z"
   },
   {
    "duration": 12,
    "start_time": "2022-10-28T09:56:34.161Z"
   },
   {
    "duration": 7,
    "start_time": "2022-10-28T09:56:56.324Z"
   },
   {
    "duration": 145,
    "start_time": "2022-10-28T09:58:37.891Z"
   },
   {
    "duration": 1527,
    "start_time": "2022-10-28T10:00:06.858Z"
   },
   {
    "duration": 73,
    "start_time": "2022-10-28T10:00:08.387Z"
   },
   {
    "duration": 4,
    "start_time": "2022-10-28T10:00:08.461Z"
   },
   {
    "duration": 18,
    "start_time": "2022-10-28T10:00:08.467Z"
   },
   {
    "duration": 24,
    "start_time": "2022-10-28T10:00:08.487Z"
   },
   {
    "duration": 30,
    "start_time": "2022-10-28T10:00:08.513Z"
   },
   {
    "duration": 27,
    "start_time": "2022-10-28T10:00:08.545Z"
   },
   {
    "duration": 46,
    "start_time": "2022-10-28T10:00:08.574Z"
   },
   {
    "duration": 3,
    "start_time": "2022-10-28T10:00:08.622Z"
   },
   {
    "duration": 72,
    "start_time": "2022-10-28T10:00:08.629Z"
   },
   {
    "duration": 916,
    "start_time": "2022-10-28T10:00:08.703Z"
   },
   {
    "duration": 17,
    "start_time": "2022-10-28T10:00:09.621Z"
   },
   {
    "duration": 27,
    "start_time": "2022-10-28T10:00:09.640Z"
   },
   {
    "duration": 55,
    "start_time": "2022-10-28T10:00:09.669Z"
   },
   {
    "duration": 4,
    "start_time": "2022-10-28T10:00:09.726Z"
   },
   {
    "duration": 41,
    "start_time": "2022-10-28T10:00:09.731Z"
   },
   {
    "duration": 17,
    "start_time": "2022-10-28T10:00:09.774Z"
   },
   {
    "duration": 36,
    "start_time": "2022-10-28T10:00:09.793Z"
   },
   {
    "duration": 18,
    "start_time": "2022-10-28T10:00:09.830Z"
   },
   {
    "duration": 84,
    "start_time": "2022-10-28T10:00:09.850Z"
   },
   {
    "duration": 3,
    "start_time": "2022-10-28T10:00:09.936Z"
   },
   {
    "duration": 64,
    "start_time": "2022-10-28T10:00:09.941Z"
   },
   {
    "duration": 3,
    "start_time": "2022-10-28T10:00:10.007Z"
   },
   {
    "duration": 79,
    "start_time": "2022-10-28T10:00:10.011Z"
   },
   {
    "duration": 20,
    "start_time": "2022-10-28T10:00:10.092Z"
   },
   {
    "duration": 39,
    "start_time": "2022-10-28T10:00:10.114Z"
   },
   {
    "duration": 9,
    "start_time": "2022-10-28T10:00:10.154Z"
   },
   {
    "duration": 33,
    "start_time": "2022-10-28T10:00:10.167Z"
   },
   {
    "duration": 12,
    "start_time": "2022-10-28T10:00:10.202Z"
   },
   {
    "duration": 34,
    "start_time": "2022-10-28T10:00:10.217Z"
   },
   {
    "duration": 9,
    "start_time": "2022-10-28T10:00:10.253Z"
   },
   {
    "duration": 26,
    "start_time": "2022-10-28T10:00:10.264Z"
   },
   {
    "duration": 55,
    "start_time": "2022-10-28T10:00:10.291Z"
   },
   {
    "duration": 26,
    "start_time": "2022-10-28T10:00:10.348Z"
   },
   {
    "duration": 7,
    "start_time": "2022-10-28T10:00:10.376Z"
   },
   {
    "duration": 27,
    "start_time": "2022-10-28T10:00:10.385Z"
   },
   {
    "duration": 17,
    "start_time": "2022-10-28T10:00:10.414Z"
   },
   {
    "duration": 33,
    "start_time": "2022-10-28T10:00:10.434Z"
   },
   {
    "duration": 70,
    "start_time": "2022-10-28T10:00:10.469Z"
   },
   {
    "duration": 13,
    "start_time": "2022-10-28T10:00:10.541Z"
   },
   {
    "duration": 42,
    "start_time": "2022-10-28T10:00:10.556Z"
   },
   {
    "duration": 39,
    "start_time": "2022-10-28T10:00:10.600Z"
   },
   {
    "duration": 28,
    "start_time": "2022-10-28T10:00:10.641Z"
   },
   {
    "duration": 377,
    "start_time": "2022-10-28T10:00:10.670Z"
   },
   {
    "duration": 14,
    "start_time": "2022-10-28T10:00:11.049Z"
   },
   {
    "duration": 18,
    "start_time": "2022-10-28T10:00:11.065Z"
   },
   {
    "duration": 48,
    "start_time": "2022-10-28T10:00:11.085Z"
   },
   {
    "duration": 332,
    "start_time": "2022-10-28T10:00:11.135Z"
   },
   {
    "duration": 505,
    "start_time": "2022-10-28T10:00:11.469Z"
   },
   {
    "duration": 386,
    "start_time": "2022-10-28T10:00:11.977Z"
   },
   {
    "duration": 5,
    "start_time": "2022-10-28T10:00:12.365Z"
   },
   {
    "duration": 366,
    "start_time": "2022-10-28T10:00:12.372Z"
   },
   {
    "duration": 412,
    "start_time": "2022-10-28T10:00:12.739Z"
   },
   {
    "duration": 328,
    "start_time": "2022-10-28T10:00:13.153Z"
   },
   {
    "duration": 25,
    "start_time": "2022-10-28T10:00:13.483Z"
   },
   {
    "duration": 14,
    "start_time": "2022-10-28T10:00:13.524Z"
   },
   {
    "duration": 6,
    "start_time": "2022-10-28T10:00:13.540Z"
   },
   {
    "duration": 22,
    "start_time": "2022-10-28T10:00:13.548Z"
   },
   {
    "duration": 2,
    "start_time": "2022-10-28T10:00:13.572Z"
   },
   {
    "duration": 12,
    "start_time": "2022-10-28T10:00:13.576Z"
   },
   {
    "duration": 3,
    "start_time": "2022-10-28T10:00:13.590Z"
   },
   {
    "duration": 19804,
    "start_time": "2022-10-28T10:00:13.595Z"
   },
   {
    "duration": 34,
    "start_time": "2022-10-28T10:00:33.401Z"
   },
   {
    "duration": 16,
    "start_time": "2022-10-28T10:00:33.438Z"
   },
   {
    "duration": 307,
    "start_time": "2022-10-28T10:00:33.457Z"
   },
   {
    "duration": 430,
    "start_time": "2022-10-28T10:00:33.767Z"
   },
   {
    "duration": 16313,
    "start_time": "2022-10-28T10:00:34.200Z"
   },
   {
    "duration": 262,
    "start_time": "2022-10-28T10:00:50.515Z"
   },
   {
    "duration": 8,
    "start_time": "2022-10-28T10:00:50.779Z"
   },
   {
    "duration": 17,
    "start_time": "2022-10-28T10:00:50.789Z"
   },
   {
    "duration": 18,
    "start_time": "2022-10-28T10:00:50.808Z"
   },
   {
    "duration": 137,
    "start_time": "2022-10-28T10:00:50.828Z"
   },
   {
    "duration": 84,
    "start_time": "2022-10-28T10:02:32.921Z"
   },
   {
    "duration": 72,
    "start_time": "2022-10-28T10:02:49.738Z"
   },
   {
    "duration": 128,
    "start_time": "2022-10-28T10:04:50.529Z"
   },
   {
    "duration": 14,
    "start_time": "2022-10-28T10:07:30.663Z"
   },
   {
    "duration": 28,
    "start_time": "2022-10-28T10:08:09.524Z"
   },
   {
    "duration": 1741,
    "start_time": "2022-10-28T10:08:24.983Z"
   },
   {
    "duration": 16,
    "start_time": "2022-10-28T10:13:37.809Z"
   },
   {
    "duration": 18,
    "start_time": "2022-10-28T10:14:03.386Z"
   },
   {
    "duration": 14,
    "start_time": "2022-10-28T10:14:11.590Z"
   },
   {
    "duration": 74,
    "start_time": "2022-10-28T10:21:25.307Z"
   },
   {
    "duration": 5,
    "start_time": "2022-10-28T10:22:42.479Z"
   },
   {
    "duration": 12,
    "start_time": "2022-10-28T10:22:51.688Z"
   },
   {
    "duration": 12,
    "start_time": "2022-10-28T10:23:17.150Z"
   },
   {
    "duration": 14,
    "start_time": "2022-10-28T10:23:48.463Z"
   },
   {
    "duration": 13,
    "start_time": "2022-10-28T10:23:52.198Z"
   },
   {
    "duration": 15,
    "start_time": "2022-10-28T10:23:58.058Z"
   },
   {
    "duration": 12,
    "start_time": "2022-10-28T10:24:30.200Z"
   },
   {
    "duration": 53,
    "start_time": "2022-10-28T12:16:53.714Z"
   },
   {
    "duration": 1654,
    "start_time": "2022-10-28T12:17:00.751Z"
   },
   {
    "duration": 192,
    "start_time": "2022-10-28T12:17:02.407Z"
   },
   {
    "duration": 4,
    "start_time": "2022-10-28T12:17:02.600Z"
   },
   {
    "duration": 18,
    "start_time": "2022-10-28T12:17:02.606Z"
   },
   {
    "duration": 11,
    "start_time": "2022-10-28T12:17:02.626Z"
   },
   {
    "duration": 24,
    "start_time": "2022-10-28T12:17:02.639Z"
   },
   {
    "duration": 68,
    "start_time": "2022-10-28T12:17:02.664Z"
   },
   {
    "duration": 44,
    "start_time": "2022-10-28T12:17:02.734Z"
   },
   {
    "duration": 53,
    "start_time": "2022-10-28T12:17:02.780Z"
   },
   {
    "duration": 100,
    "start_time": "2022-10-28T12:17:02.836Z"
   },
   {
    "duration": 886,
    "start_time": "2022-10-28T12:17:02.937Z"
   },
   {
    "duration": 14,
    "start_time": "2022-10-28T12:17:03.825Z"
   },
   {
    "duration": 20,
    "start_time": "2022-10-28T12:17:03.841Z"
   },
   {
    "duration": 125,
    "start_time": "2022-10-28T12:17:03.863Z"
   },
   {
    "duration": 3,
    "start_time": "2022-10-28T12:17:03.990Z"
   },
   {
    "duration": 25,
    "start_time": "2022-10-28T12:17:03.994Z"
   },
   {
    "duration": 14,
    "start_time": "2022-10-28T12:17:04.020Z"
   },
   {
    "duration": 10,
    "start_time": "2022-10-28T12:17:04.035Z"
   },
   {
    "duration": 11,
    "start_time": "2022-10-28T12:17:04.047Z"
   },
   {
    "duration": 93,
    "start_time": "2022-10-28T12:17:04.060Z"
   },
   {
    "duration": 3,
    "start_time": "2022-10-28T12:17:04.155Z"
   },
   {
    "duration": 70,
    "start_time": "2022-10-28T12:17:04.160Z"
   },
   {
    "duration": 3,
    "start_time": "2022-10-28T12:17:04.232Z"
   },
   {
    "duration": 55,
    "start_time": "2022-10-28T12:17:04.237Z"
   },
   {
    "duration": 30,
    "start_time": "2022-10-28T12:17:04.295Z"
   },
   {
    "duration": 56,
    "start_time": "2022-10-28T12:17:04.327Z"
   },
   {
    "duration": 11,
    "start_time": "2022-10-28T12:17:04.385Z"
   },
   {
    "duration": 26,
    "start_time": "2022-10-28T12:17:04.401Z"
   },
   {
    "duration": 22,
    "start_time": "2022-10-28T12:17:04.429Z"
   },
   {
    "duration": 27,
    "start_time": "2022-10-28T12:17:04.453Z"
   },
   {
    "duration": 11,
    "start_time": "2022-10-28T12:17:04.482Z"
   },
   {
    "duration": 31,
    "start_time": "2022-10-28T12:17:04.495Z"
   },
   {
    "duration": 55,
    "start_time": "2022-10-28T12:17:04.528Z"
   },
   {
    "duration": 66,
    "start_time": "2022-10-28T12:17:04.586Z"
   },
   {
    "duration": 6,
    "start_time": "2022-10-28T12:17:04.654Z"
   },
   {
    "duration": 39,
    "start_time": "2022-10-28T12:17:04.661Z"
   },
   {
    "duration": 15,
    "start_time": "2022-10-28T12:17:04.702Z"
   },
   {
    "duration": 24,
    "start_time": "2022-10-28T12:17:04.718Z"
   },
   {
    "duration": 61,
    "start_time": "2022-10-28T12:17:04.744Z"
   },
   {
    "duration": 11,
    "start_time": "2022-10-28T12:17:04.807Z"
   },
   {
    "duration": 27,
    "start_time": "2022-10-28T12:17:04.820Z"
   },
   {
    "duration": 25,
    "start_time": "2022-10-28T12:17:04.848Z"
   },
   {
    "duration": 36,
    "start_time": "2022-10-28T12:17:04.875Z"
   },
   {
    "duration": 312,
    "start_time": "2022-10-28T12:17:04.913Z"
   },
   {
    "duration": 11,
    "start_time": "2022-10-28T12:17:05.227Z"
   },
   {
    "duration": 34,
    "start_time": "2022-10-28T12:17:05.239Z"
   },
   {
    "duration": 71,
    "start_time": "2022-10-28T12:17:05.275Z"
   },
   {
    "duration": 299,
    "start_time": "2022-10-28T12:17:05.348Z"
   },
   {
    "duration": 337,
    "start_time": "2022-10-28T12:17:05.649Z"
   },
   {
    "duration": 332,
    "start_time": "2022-10-28T12:17:05.988Z"
   },
   {
    "duration": 6,
    "start_time": "2022-10-28T12:17:06.321Z"
   },
   {
    "duration": 329,
    "start_time": "2022-10-28T12:17:06.328Z"
   },
   {
    "duration": 344,
    "start_time": "2022-10-28T12:17:06.658Z"
   },
   {
    "duration": 291,
    "start_time": "2022-10-28T12:17:07.009Z"
   },
   {
    "duration": 23,
    "start_time": "2022-10-28T12:17:07.302Z"
   },
   {
    "duration": 22,
    "start_time": "2022-10-28T12:17:07.327Z"
   },
   {
    "duration": 7,
    "start_time": "2022-10-28T12:17:07.350Z"
   },
   {
    "duration": 17,
    "start_time": "2022-10-28T12:17:07.359Z"
   },
   {
    "duration": 5,
    "start_time": "2022-10-28T12:17:07.377Z"
   },
   {
    "duration": 19,
    "start_time": "2022-10-28T12:17:07.383Z"
   },
   {
    "duration": 9,
    "start_time": "2022-10-28T12:17:07.403Z"
   },
   {
    "duration": 16152,
    "start_time": "2022-10-28T12:17:07.413Z"
   },
   {
    "duration": 309,
    "start_time": "2022-10-28T12:17:23.566Z"
   },
   {
    "duration": 2,
    "start_time": "2022-10-28T12:17:23.877Z"
   },
   {
    "duration": 13015,
    "start_time": "2022-10-28T12:17:23.881Z"
   },
   {
    "duration": 1369,
    "start_time": "2022-10-28T12:23:32.508Z"
   },
   {
    "duration": 69,
    "start_time": "2022-10-28T12:23:33.878Z"
   },
   {
    "duration": 3,
    "start_time": "2022-10-28T12:23:33.949Z"
   },
   {
    "duration": 12,
    "start_time": "2022-10-28T12:23:33.954Z"
   },
   {
    "duration": 7,
    "start_time": "2022-10-28T12:23:33.967Z"
   },
   {
    "duration": 14,
    "start_time": "2022-10-28T12:23:33.975Z"
   },
   {
    "duration": 24,
    "start_time": "2022-10-28T12:23:33.991Z"
   },
   {
    "duration": 14,
    "start_time": "2022-10-28T12:23:34.016Z"
   },
   {
    "duration": 3,
    "start_time": "2022-10-28T12:23:34.031Z"
   },
   {
    "duration": 74,
    "start_time": "2022-10-28T12:23:34.037Z"
   },
   {
    "duration": 921,
    "start_time": "2022-10-28T12:23:34.113Z"
   },
   {
    "duration": 13,
    "start_time": "2022-10-28T12:23:35.035Z"
   },
   {
    "duration": 16,
    "start_time": "2022-10-28T12:23:35.050Z"
   },
   {
    "duration": 49,
    "start_time": "2022-10-28T12:23:35.068Z"
   },
   {
    "duration": 3,
    "start_time": "2022-10-28T12:23:35.119Z"
   },
   {
    "duration": 13,
    "start_time": "2022-10-28T12:23:35.124Z"
   },
   {
    "duration": 7,
    "start_time": "2022-10-28T12:23:35.139Z"
   },
   {
    "duration": 11,
    "start_time": "2022-10-28T12:23:35.147Z"
   },
   {
    "duration": 2,
    "start_time": "2022-10-28T12:23:35.159Z"
   },
   {
    "duration": 82,
    "start_time": "2022-10-28T12:23:35.162Z"
   },
   {
    "duration": 3,
    "start_time": "2022-10-28T12:23:35.246Z"
   },
   {
    "duration": 63,
    "start_time": "2022-10-28T12:23:35.250Z"
   },
   {
    "duration": 3,
    "start_time": "2022-10-28T12:23:35.314Z"
   },
   {
    "duration": 58,
    "start_time": "2022-10-28T12:23:35.318Z"
   },
   {
    "duration": 17,
    "start_time": "2022-10-28T12:23:35.377Z"
   },
   {
    "duration": 41,
    "start_time": "2022-10-28T12:23:35.395Z"
   },
   {
    "duration": 8,
    "start_time": "2022-10-28T12:23:35.437Z"
   },
   {
    "duration": 9,
    "start_time": "2022-10-28T12:23:35.449Z"
   },
   {
    "duration": 10,
    "start_time": "2022-10-28T12:23:35.460Z"
   },
   {
    "duration": 13,
    "start_time": "2022-10-28T12:23:35.472Z"
   },
   {
    "duration": 4,
    "start_time": "2022-10-28T12:23:35.487Z"
   },
   {
    "duration": 20,
    "start_time": "2022-10-28T12:23:35.493Z"
   },
   {
    "duration": 28,
    "start_time": "2022-10-28T12:23:35.515Z"
   },
   {
    "duration": 22,
    "start_time": "2022-10-28T12:23:35.544Z"
   },
   {
    "duration": 6,
    "start_time": "2022-10-28T12:23:35.567Z"
   },
   {
    "duration": 10,
    "start_time": "2022-10-28T12:23:35.574Z"
   },
   {
    "duration": 6,
    "start_time": "2022-10-28T12:23:35.586Z"
   },
   {
    "duration": 3,
    "start_time": "2022-10-28T12:23:35.609Z"
   },
   {
    "duration": 52,
    "start_time": "2022-10-28T12:23:35.614Z"
   },
   {
    "duration": 11,
    "start_time": "2022-10-28T12:23:35.668Z"
   },
   {
    "duration": 36,
    "start_time": "2022-10-28T12:23:35.680Z"
   },
   {
    "duration": 25,
    "start_time": "2022-10-28T12:23:35.717Z"
   },
   {
    "duration": 23,
    "start_time": "2022-10-28T12:23:35.744Z"
   },
   {
    "duration": 315,
    "start_time": "2022-10-28T12:23:35.769Z"
   },
   {
    "duration": 11,
    "start_time": "2022-10-28T12:23:36.086Z"
   },
   {
    "duration": 13,
    "start_time": "2022-10-28T12:23:36.109Z"
   },
   {
    "duration": 69,
    "start_time": "2022-10-28T12:23:36.123Z"
   },
   {
    "duration": 298,
    "start_time": "2022-10-28T12:23:36.194Z"
   },
   {
    "duration": 322,
    "start_time": "2022-10-28T12:23:36.493Z"
   },
   {
    "duration": 280,
    "start_time": "2022-10-28T12:23:36.816Z"
   },
   {
    "duration": 14,
    "start_time": "2022-10-28T12:23:37.098Z"
   },
   {
    "duration": 274,
    "start_time": "2022-10-28T12:23:37.113Z"
   },
   {
    "duration": 310,
    "start_time": "2022-10-28T12:23:37.389Z"
   },
   {
    "duration": 289,
    "start_time": "2022-10-28T12:23:37.700Z"
   },
   {
    "duration": 24,
    "start_time": "2022-10-28T12:23:37.990Z"
   },
   {
    "duration": 14,
    "start_time": "2022-10-28T12:23:38.016Z"
   },
   {
    "duration": 149,
    "start_time": "2022-10-28T12:23:38.031Z"
   },
   {
    "duration": 0,
    "start_time": "2022-10-28T12:23:38.182Z"
   },
   {
    "duration": 0,
    "start_time": "2022-10-28T12:23:38.183Z"
   },
   {
    "duration": 0,
    "start_time": "2022-10-28T12:23:38.184Z"
   },
   {
    "duration": 0,
    "start_time": "2022-10-28T12:23:38.185Z"
   },
   {
    "duration": 0,
    "start_time": "2022-10-28T12:23:38.186Z"
   },
   {
    "duration": 0,
    "start_time": "2022-10-28T12:23:38.187Z"
   },
   {
    "duration": 0,
    "start_time": "2022-10-28T12:23:38.188Z"
   },
   {
    "duration": 0,
    "start_time": "2022-10-28T12:23:38.189Z"
   },
   {
    "duration": 0,
    "start_time": "2022-10-28T12:23:38.190Z"
   },
   {
    "duration": 0,
    "start_time": "2022-10-28T12:23:38.191Z"
   },
   {
    "duration": 0,
    "start_time": "2022-10-28T12:23:38.209Z"
   },
   {
    "duration": 0,
    "start_time": "2022-10-28T12:23:38.210Z"
   },
   {
    "duration": 0,
    "start_time": "2022-10-28T12:23:38.211Z"
   },
   {
    "duration": 13,
    "start_time": "2022-10-28T12:25:49.377Z"
   },
   {
    "duration": 1530,
    "start_time": "2022-10-28T12:26:28.362Z"
   },
   {
    "duration": 1395,
    "start_time": "2022-10-28T12:29:11.676Z"
   },
   {
    "duration": 67,
    "start_time": "2022-10-28T12:29:13.073Z"
   },
   {
    "duration": 3,
    "start_time": "2022-10-28T12:29:13.142Z"
   },
   {
    "duration": 16,
    "start_time": "2022-10-28T12:29:13.146Z"
   },
   {
    "duration": 6,
    "start_time": "2022-10-28T12:29:13.163Z"
   },
   {
    "duration": 12,
    "start_time": "2022-10-28T12:29:13.171Z"
   },
   {
    "duration": 26,
    "start_time": "2022-10-28T12:29:13.185Z"
   },
   {
    "duration": 13,
    "start_time": "2022-10-28T12:29:13.212Z"
   },
   {
    "duration": 2,
    "start_time": "2022-10-28T12:29:13.227Z"
   },
   {
    "duration": 51,
    "start_time": "2022-10-28T12:29:13.232Z"
   },
   {
    "duration": 915,
    "start_time": "2022-10-28T12:29:13.284Z"
   },
   {
    "duration": 13,
    "start_time": "2022-10-28T12:29:14.200Z"
   },
   {
    "duration": 49,
    "start_time": "2022-10-28T12:29:14.214Z"
   },
   {
    "duration": 48,
    "start_time": "2022-10-28T12:29:14.264Z"
   },
   {
    "duration": 2,
    "start_time": "2022-10-28T12:29:14.314Z"
   },
   {
    "duration": 42,
    "start_time": "2022-10-28T12:29:14.317Z"
   },
   {
    "duration": 31,
    "start_time": "2022-10-28T12:29:14.360Z"
   },
   {
    "duration": 25,
    "start_time": "2022-10-28T12:29:14.394Z"
   },
   {
    "duration": 22,
    "start_time": "2022-10-28T12:29:14.420Z"
   },
   {
    "duration": 78,
    "start_time": "2022-10-28T12:29:14.444Z"
   },
   {
    "duration": 4,
    "start_time": "2022-10-28T12:29:14.523Z"
   },
   {
    "duration": 83,
    "start_time": "2022-10-28T12:29:14.529Z"
   },
   {
    "duration": 3,
    "start_time": "2022-10-28T12:29:14.613Z"
   },
   {
    "duration": 65,
    "start_time": "2022-10-28T12:29:14.618Z"
   },
   {
    "duration": 17,
    "start_time": "2022-10-28T12:29:14.685Z"
   },
   {
    "duration": 43,
    "start_time": "2022-10-28T12:29:14.704Z"
   },
   {
    "duration": 8,
    "start_time": "2022-10-28T12:29:14.749Z"
   },
   {
    "duration": 15,
    "start_time": "2022-10-28T12:29:14.761Z"
   },
   {
    "duration": 21,
    "start_time": "2022-10-28T12:29:14.777Z"
   },
   {
    "duration": 30,
    "start_time": "2022-10-28T12:29:14.799Z"
   },
   {
    "duration": 11,
    "start_time": "2022-10-28T12:29:14.831Z"
   },
   {
    "duration": 17,
    "start_time": "2022-10-28T12:29:14.844Z"
   },
   {
    "duration": 49,
    "start_time": "2022-10-28T12:29:14.863Z"
   },
   {
    "duration": 22,
    "start_time": "2022-10-28T12:29:14.914Z"
   },
   {
    "duration": 7,
    "start_time": "2022-10-28T12:29:14.937Z"
   },
   {
    "duration": 22,
    "start_time": "2022-10-28T12:29:14.946Z"
   },
   {
    "duration": 30,
    "start_time": "2022-10-28T12:29:14.970Z"
   },
   {
    "duration": 39,
    "start_time": "2022-10-28T12:29:15.002Z"
   },
   {
    "duration": 79,
    "start_time": "2022-10-28T12:29:15.042Z"
   },
   {
    "duration": 11,
    "start_time": "2022-10-28T12:29:15.123Z"
   },
   {
    "duration": 30,
    "start_time": "2022-10-28T12:29:15.136Z"
   },
   {
    "duration": 47,
    "start_time": "2022-10-28T12:29:15.167Z"
   },
   {
    "duration": 38,
    "start_time": "2022-10-28T12:29:15.216Z"
   },
   {
    "duration": 304,
    "start_time": "2022-10-28T12:29:15.256Z"
   },
   {
    "duration": 12,
    "start_time": "2022-10-28T12:29:15.561Z"
   },
   {
    "duration": 12,
    "start_time": "2022-10-28T12:29:15.575Z"
   },
   {
    "duration": 85,
    "start_time": "2022-10-28T12:29:15.589Z"
   },
   {
    "duration": 301,
    "start_time": "2022-10-28T12:29:15.676Z"
   },
   {
    "duration": 325,
    "start_time": "2022-10-28T12:29:15.978Z"
   },
   {
    "duration": 288,
    "start_time": "2022-10-28T12:29:16.309Z"
   },
   {
    "duration": 5,
    "start_time": "2022-10-28T12:29:16.608Z"
   },
   {
    "duration": 273,
    "start_time": "2022-10-28T12:29:16.615Z"
   },
   {
    "duration": 321,
    "start_time": "2022-10-28T12:29:16.889Z"
   },
   {
    "duration": 284,
    "start_time": "2022-10-28T12:29:17.212Z"
   },
   {
    "duration": 26,
    "start_time": "2022-10-28T12:29:17.497Z"
   },
   {
    "duration": 13,
    "start_time": "2022-10-28T12:29:17.524Z"
   },
   {
    "duration": 12,
    "start_time": "2022-10-28T12:29:17.539Z"
   },
   {
    "duration": 1519,
    "start_time": "2022-10-28T12:29:17.553Z"
   },
   {
    "duration": 5,
    "start_time": "2022-10-28T12:29:19.074Z"
   },
   {
    "duration": 15,
    "start_time": "2022-10-28T12:29:19.080Z"
   },
   {
    "duration": 2,
    "start_time": "2022-10-28T12:29:19.097Z"
   },
   {
    "duration": 9,
    "start_time": "2022-10-28T12:29:19.101Z"
   },
   {
    "duration": 3,
    "start_time": "2022-10-28T12:29:19.112Z"
   },
   {
    "duration": 15944,
    "start_time": "2022-10-28T12:29:19.116Z"
   },
   {
    "duration": 296,
    "start_time": "2022-10-28T12:29:35.062Z"
   },
   {
    "duration": 3,
    "start_time": "2022-10-28T12:29:35.360Z"
   },
   {
    "duration": 13216,
    "start_time": "2022-10-28T12:29:35.364Z"
   },
   {
    "duration": 12,
    "start_time": "2022-10-28T12:29:48.582Z"
   },
   {
    "duration": 14,
    "start_time": "2022-10-28T12:29:48.596Z"
   },
   {
    "duration": 118,
    "start_time": "2022-10-28T12:29:48.611Z"
   },
   {
    "duration": 1962,
    "start_time": "2022-10-28T16:31:56.289Z"
   },
   {
    "duration": 130,
    "start_time": "2022-10-28T16:31:58.253Z"
   },
   {
    "duration": 4,
    "start_time": "2022-10-28T16:31:58.384Z"
   },
   {
    "duration": 15,
    "start_time": "2022-10-28T16:31:58.389Z"
   },
   {
    "duration": 10,
    "start_time": "2022-10-28T16:31:58.406Z"
   },
   {
    "duration": 12,
    "start_time": "2022-10-28T16:31:58.418Z"
   },
   {
    "duration": 19,
    "start_time": "2022-10-28T16:31:58.431Z"
   },
   {
    "duration": 13,
    "start_time": "2022-10-28T16:31:58.743Z"
   },
   {
    "duration": 3,
    "start_time": "2022-10-28T16:31:59.061Z"
   },
   {
    "duration": 60,
    "start_time": "2022-10-28T16:31:59.222Z"
   },
   {
    "duration": 914,
    "start_time": "2022-10-28T16:31:59.702Z"
   },
   {
    "duration": 15,
    "start_time": "2022-10-28T16:32:00.617Z"
   },
   {
    "duration": 19,
    "start_time": "2022-10-28T16:32:00.633Z"
   },
   {
    "duration": 187,
    "start_time": "2022-10-28T16:32:01.271Z"
   },
   {
    "duration": 3,
    "start_time": "2022-10-28T16:32:01.663Z"
   },
   {
    "duration": 12,
    "start_time": "2022-10-28T16:32:01.815Z"
   },
   {
    "duration": 8,
    "start_time": "2022-10-28T16:32:01.998Z"
   },
   {
    "duration": 12,
    "start_time": "2022-10-28T16:32:02.144Z"
   },
   {
    "duration": 3,
    "start_time": "2022-10-28T16:32:02.798Z"
   },
   {
    "duration": 54,
    "start_time": "2022-10-28T16:32:02.975Z"
   },
   {
    "duration": 4,
    "start_time": "2022-10-28T16:32:03.293Z"
   },
   {
    "duration": 53,
    "start_time": "2022-10-28T16:32:03.455Z"
   },
   {
    "duration": 3,
    "start_time": "2022-10-28T16:32:03.614Z"
   },
   {
    "duration": 55,
    "start_time": "2022-10-28T16:32:03.774Z"
   },
   {
    "duration": 19,
    "start_time": "2022-10-28T16:32:03.926Z"
   },
   {
    "duration": 77,
    "start_time": "2022-10-28T16:32:04.229Z"
   },
   {
    "duration": 12,
    "start_time": "2022-10-28T16:32:04.390Z"
   },
   {
    "duration": 15,
    "start_time": "2022-10-28T16:32:04.550Z"
   },
   {
    "duration": 4,
    "start_time": "2022-10-28T16:32:04.710Z"
   },
   {
    "duration": 12,
    "start_time": "2022-10-28T16:32:05.181Z"
   },
   {
    "duration": 6,
    "start_time": "2022-10-28T16:32:05.525Z"
   },
   {
    "duration": 9,
    "start_time": "2022-10-28T16:32:05.868Z"
   },
   {
    "duration": 25,
    "start_time": "2022-10-28T16:32:06.022Z"
   },
   {
    "duration": 119,
    "start_time": "2022-10-28T16:32:06.365Z"
   },
   {
    "duration": 8,
    "start_time": "2022-10-28T16:32:06.550Z"
   },
   {
    "duration": 14,
    "start_time": "2022-10-28T16:32:06.686Z"
   },
   {
    "duration": 7,
    "start_time": "2022-10-28T16:32:06.886Z"
   },
   {
    "duration": 2,
    "start_time": "2022-10-28T16:32:07.062Z"
   },
   {
    "duration": 59,
    "start_time": "2022-10-28T16:32:07.247Z"
   },
   {
    "duration": 10,
    "start_time": "2022-10-28T16:32:07.430Z"
   },
   {
    "duration": 18,
    "start_time": "2022-10-28T16:32:08.662Z"
   },
   {
    "duration": 26,
    "start_time": "2022-10-28T16:32:09.023Z"
   },
   {
    "duration": 24,
    "start_time": "2022-10-28T16:32:09.194Z"
   },
   {
    "duration": 310,
    "start_time": "2022-10-28T16:32:09.711Z"
   },
   {
    "duration": 11,
    "start_time": "2022-10-28T16:32:10.077Z"
   },
   {
    "duration": 15,
    "start_time": "2022-10-28T16:32:10.247Z"
   },
   {
    "duration": 14,
    "start_time": "2022-10-28T16:32:10.422Z"
   },
   {
    "duration": 314,
    "start_time": "2022-10-28T16:32:10.773Z"
   },
   {
    "duration": 379,
    "start_time": "2022-10-28T16:32:11.089Z"
   },
   {
    "duration": 324,
    "start_time": "2022-10-28T16:32:11.471Z"
   },
   {
    "duration": 14,
    "start_time": "2022-10-28T16:32:11.797Z"
   },
   {
    "duration": 278,
    "start_time": "2022-10-28T16:32:12.045Z"
   },
   {
    "duration": 308,
    "start_time": "2022-10-28T16:32:12.325Z"
   },
   {
    "duration": 281,
    "start_time": "2022-10-28T16:32:12.634Z"
   },
   {
    "duration": 17,
    "start_time": "2022-10-28T16:32:16.422Z"
   },
   {
    "duration": 12,
    "start_time": "2022-10-28T16:32:20.487Z"
   },
   {
    "duration": 12,
    "start_time": "2022-10-28T16:32:28.991Z"
   },
   {
    "duration": 70,
    "start_time": "2022-10-28T16:46:52.936Z"
   },
   {
    "duration": 1673,
    "start_time": "2022-10-28T16:47:06.589Z"
   },
   {
    "duration": 297,
    "start_time": "2022-10-28T16:47:08.264Z"
   },
   {
    "duration": 2,
    "start_time": "2022-10-28T16:47:08.563Z"
   },
   {
    "duration": 12,
    "start_time": "2022-10-28T16:47:08.567Z"
   },
   {
    "duration": 6,
    "start_time": "2022-10-28T16:47:08.580Z"
   },
   {
    "duration": 12,
    "start_time": "2022-10-28T16:47:08.587Z"
   },
   {
    "duration": 11,
    "start_time": "2022-10-28T16:47:08.600Z"
   },
   {
    "duration": 18,
    "start_time": "2022-10-28T16:47:08.612Z"
   },
   {
    "duration": 2,
    "start_time": "2022-10-28T16:47:08.631Z"
   },
   {
    "duration": 46,
    "start_time": "2022-10-28T16:47:08.636Z"
   },
   {
    "duration": 785,
    "start_time": "2022-10-28T16:47:08.684Z"
   },
   {
    "duration": 15,
    "start_time": "2022-10-28T16:47:09.470Z"
   },
   {
    "duration": 26,
    "start_time": "2022-10-28T16:47:09.487Z"
   },
   {
    "duration": 75,
    "start_time": "2022-10-28T16:47:09.515Z"
   },
   {
    "duration": 3,
    "start_time": "2022-10-28T16:47:09.591Z"
   },
   {
    "duration": 17,
    "start_time": "2022-10-28T16:47:09.595Z"
   },
   {
    "duration": 7,
    "start_time": "2022-10-28T16:47:09.613Z"
   },
   {
    "duration": 10,
    "start_time": "2022-10-28T16:47:09.621Z"
   },
   {
    "duration": 2,
    "start_time": "2022-10-28T16:47:09.632Z"
   },
   {
    "duration": 49,
    "start_time": "2022-10-28T16:47:09.636Z"
   },
   {
    "duration": 19,
    "start_time": "2022-10-28T16:47:09.686Z"
   },
   {
    "duration": 50,
    "start_time": "2022-10-28T16:47:09.706Z"
   },
   {
    "duration": 2,
    "start_time": "2022-10-28T16:47:09.758Z"
   },
   {
    "duration": 61,
    "start_time": "2022-10-28T16:47:09.761Z"
   },
   {
    "duration": 18,
    "start_time": "2022-10-28T16:47:09.823Z"
   },
   {
    "duration": 193,
    "start_time": "2022-10-28T16:47:09.843Z"
   },
   {
    "duration": 7,
    "start_time": "2022-10-28T16:47:10.038Z"
   },
   {
    "duration": 10,
    "start_time": "2022-10-28T16:47:10.048Z"
   },
   {
    "duration": 5,
    "start_time": "2022-10-28T16:47:10.059Z"
   },
   {
    "duration": 13,
    "start_time": "2022-10-28T16:47:10.066Z"
   },
   {
    "duration": 5,
    "start_time": "2022-10-28T16:47:10.081Z"
   },
   {
    "duration": 8,
    "start_time": "2022-10-28T16:47:10.088Z"
   },
   {
    "duration": 24,
    "start_time": "2022-10-28T16:47:10.105Z"
   },
   {
    "duration": 48,
    "start_time": "2022-10-28T16:47:10.131Z"
   },
   {
    "duration": 6,
    "start_time": "2022-10-28T16:47:10.180Z"
   },
   {
    "duration": 10,
    "start_time": "2022-10-28T16:47:10.187Z"
   },
   {
    "duration": 10,
    "start_time": "2022-10-28T16:47:10.199Z"
   },
   {
    "duration": 6,
    "start_time": "2022-10-28T16:47:10.211Z"
   },
   {
    "duration": 55,
    "start_time": "2022-10-28T16:47:10.218Z"
   },
   {
    "duration": 11,
    "start_time": "2022-10-28T16:47:10.275Z"
   },
   {
    "duration": 29,
    "start_time": "2022-10-28T16:47:10.287Z"
   },
   {
    "duration": 24,
    "start_time": "2022-10-28T16:47:10.318Z"
   },
   {
    "duration": 24,
    "start_time": "2022-10-28T16:47:10.343Z"
   },
   {
    "duration": 337,
    "start_time": "2022-10-28T16:47:10.368Z"
   },
   {
    "duration": 11,
    "start_time": "2022-10-28T16:47:10.707Z"
   },
   {
    "duration": 13,
    "start_time": "2022-10-28T16:47:10.719Z"
   },
   {
    "duration": 102,
    "start_time": "2022-10-28T16:47:10.734Z"
   },
   {
    "duration": 270,
    "start_time": "2022-10-28T16:47:10.837Z"
   },
   {
    "duration": 289,
    "start_time": "2022-10-28T16:47:11.108Z"
   },
   {
    "duration": 277,
    "start_time": "2022-10-28T16:47:11.404Z"
   },
   {
    "duration": 5,
    "start_time": "2022-10-28T16:47:11.682Z"
   },
   {
    "duration": 294,
    "start_time": "2022-10-28T16:47:11.688Z"
   },
   {
    "duration": 330,
    "start_time": "2022-10-28T16:47:11.983Z"
   },
   {
    "duration": 259,
    "start_time": "2022-10-28T16:47:12.315Z"
   },
   {
    "duration": 17,
    "start_time": "2022-10-28T16:47:12.575Z"
   },
   {
    "duration": 22,
    "start_time": "2022-10-28T16:47:12.593Z"
   },
   {
    "duration": 110,
    "start_time": "2022-10-28T16:47:12.617Z"
   },
   {
    "duration": 0,
    "start_time": "2022-10-28T16:47:12.729Z"
   },
   {
    "duration": 0,
    "start_time": "2022-10-28T16:47:12.730Z"
   },
   {
    "duration": 0,
    "start_time": "2022-10-28T16:47:12.731Z"
   },
   {
    "duration": 0,
    "start_time": "2022-10-28T16:47:12.732Z"
   },
   {
    "duration": 0,
    "start_time": "2022-10-28T16:47:12.733Z"
   },
   {
    "duration": 0,
    "start_time": "2022-10-28T16:47:12.734Z"
   },
   {
    "duration": 0,
    "start_time": "2022-10-28T16:47:12.735Z"
   },
   {
    "duration": 0,
    "start_time": "2022-10-28T16:47:12.736Z"
   },
   {
    "duration": 0,
    "start_time": "2022-10-28T16:47:12.736Z"
   },
   {
    "duration": 0,
    "start_time": "2022-10-28T16:47:12.738Z"
   },
   {
    "duration": 0,
    "start_time": "2022-10-28T16:47:12.739Z"
   },
   {
    "duration": 0,
    "start_time": "2022-10-28T16:47:12.740Z"
   },
   {
    "duration": 0,
    "start_time": "2022-10-28T16:47:12.740Z"
   },
   {
    "duration": 1132,
    "start_time": "2022-10-28T16:47:44.410Z"
   },
   {
    "duration": 1047,
    "start_time": "2022-10-28T16:50:49.145Z"
   },
   {
    "duration": 1123,
    "start_time": "2022-10-28T16:51:04.170Z"
   },
   {
    "duration": 11,
    "start_time": "2022-10-28T16:51:14.115Z"
   },
   {
    "duration": 1090,
    "start_time": "2022-10-28T16:51:46.747Z"
   },
   {
    "duration": 1143,
    "start_time": "2022-10-28T16:52:00.121Z"
   },
   {
    "duration": 11,
    "start_time": "2022-10-28T16:52:35.194Z"
   },
   {
    "duration": 1372,
    "start_time": "2022-10-28T16:52:42.219Z"
   },
   {
    "duration": 64,
    "start_time": "2022-10-28T16:52:43.593Z"
   },
   {
    "duration": 3,
    "start_time": "2022-10-28T16:52:43.659Z"
   },
   {
    "duration": 14,
    "start_time": "2022-10-28T16:52:43.663Z"
   },
   {
    "duration": 6,
    "start_time": "2022-10-28T16:52:43.679Z"
   },
   {
    "duration": 11,
    "start_time": "2022-10-28T16:52:43.687Z"
   },
   {
    "duration": 12,
    "start_time": "2022-10-28T16:52:43.699Z"
   },
   {
    "duration": 12,
    "start_time": "2022-10-28T16:52:43.712Z"
   },
   {
    "duration": 2,
    "start_time": "2022-10-28T16:52:43.726Z"
   },
   {
    "duration": 44,
    "start_time": "2022-10-28T16:52:43.731Z"
   },
   {
    "duration": 762,
    "start_time": "2022-10-28T16:52:43.777Z"
   },
   {
    "duration": 13,
    "start_time": "2022-10-28T16:52:44.541Z"
   },
   {
    "duration": 17,
    "start_time": "2022-10-28T16:52:44.556Z"
   },
   {
    "duration": 36,
    "start_time": "2022-10-28T16:52:44.575Z"
   },
   {
    "duration": 2,
    "start_time": "2022-10-28T16:52:44.613Z"
   },
   {
    "duration": 16,
    "start_time": "2022-10-28T16:52:44.617Z"
   },
   {
    "duration": 8,
    "start_time": "2022-10-28T16:52:44.634Z"
   },
   {
    "duration": 10,
    "start_time": "2022-10-28T16:52:44.643Z"
   },
   {
    "duration": 4,
    "start_time": "2022-10-28T16:52:44.655Z"
   },
   {
    "duration": 72,
    "start_time": "2022-10-28T16:52:44.660Z"
   },
   {
    "duration": 2,
    "start_time": "2022-10-28T16:52:44.734Z"
   },
   {
    "duration": 49,
    "start_time": "2022-10-28T16:52:44.738Z"
   },
   {
    "duration": 17,
    "start_time": "2022-10-28T16:52:44.788Z"
   },
   {
    "duration": 47,
    "start_time": "2022-10-28T16:52:44.807Z"
   },
   {
    "duration": 18,
    "start_time": "2022-10-28T16:52:44.855Z"
   },
   {
    "duration": 50,
    "start_time": "2022-10-28T16:52:44.874Z"
   },
   {
    "duration": 7,
    "start_time": "2022-10-28T16:52:44.926Z"
   },
   {
    "duration": 9,
    "start_time": "2022-10-28T16:52:44.937Z"
   },
   {
    "duration": 7,
    "start_time": "2022-10-28T16:52:44.948Z"
   },
   {
    "duration": 13,
    "start_time": "2022-10-28T16:52:44.956Z"
   },
   {
    "duration": 6,
    "start_time": "2022-10-28T16:52:44.970Z"
   },
   {
    "duration": 9,
    "start_time": "2022-10-28T16:52:44.977Z"
   },
   {
    "duration": 26,
    "start_time": "2022-10-28T16:52:45.005Z"
   },
   {
    "duration": 22,
    "start_time": "2022-10-28T16:52:45.032Z"
   },
   {
    "duration": 5,
    "start_time": "2022-10-28T16:52:45.055Z"
   },
   {
    "duration": 8,
    "start_time": "2022-10-28T16:52:45.062Z"
   },
   {
    "duration": 7,
    "start_time": "2022-10-28T16:52:45.071Z"
   },
   {
    "duration": 5,
    "start_time": "2022-10-28T16:52:45.080Z"
   },
   {
    "duration": 42,
    "start_time": "2022-10-28T16:52:45.105Z"
   },
   {
    "duration": 12,
    "start_time": "2022-10-28T16:52:45.149Z"
   },
   {
    "duration": 19,
    "start_time": "2022-10-28T16:52:45.163Z"
   },
   {
    "duration": 40,
    "start_time": "2022-10-28T16:52:45.183Z"
   },
   {
    "duration": 23,
    "start_time": "2022-10-28T16:52:45.224Z"
   },
   {
    "duration": 298,
    "start_time": "2022-10-28T16:52:45.249Z"
   },
   {
    "duration": 11,
    "start_time": "2022-10-28T16:52:45.549Z"
   },
   {
    "duration": 13,
    "start_time": "2022-10-28T16:52:45.561Z"
   },
   {
    "duration": 98,
    "start_time": "2022-10-28T16:52:45.575Z"
   },
   {
    "duration": 293,
    "start_time": "2022-10-28T16:52:45.675Z"
   },
   {
    "duration": 332,
    "start_time": "2022-10-28T16:52:45.969Z"
   },
   {
    "duration": 283,
    "start_time": "2022-10-28T16:52:46.305Z"
   },
   {
    "duration": 4,
    "start_time": "2022-10-28T16:52:46.590Z"
   },
   {
    "duration": 276,
    "start_time": "2022-10-28T16:52:46.605Z"
   },
   {
    "duration": 313,
    "start_time": "2022-10-28T16:52:46.882Z"
   },
   {
    "duration": 320,
    "start_time": "2022-10-28T16:52:47.196Z"
   },
   {
    "duration": 16,
    "start_time": "2022-10-28T16:52:47.518Z"
   },
   {
    "duration": 12,
    "start_time": "2022-10-28T16:52:47.536Z"
   },
   {
    "duration": 114,
    "start_time": "2022-10-28T16:52:47.549Z"
   },
   {
    "duration": 0,
    "start_time": "2022-10-28T16:52:47.665Z"
   },
   {
    "duration": 0,
    "start_time": "2022-10-28T16:52:47.666Z"
   },
   {
    "duration": 0,
    "start_time": "2022-10-28T16:52:47.667Z"
   },
   {
    "duration": 0,
    "start_time": "2022-10-28T16:52:47.668Z"
   },
   {
    "duration": 0,
    "start_time": "2022-10-28T16:52:47.669Z"
   },
   {
    "duration": 0,
    "start_time": "2022-10-28T16:52:47.670Z"
   },
   {
    "duration": 0,
    "start_time": "2022-10-28T16:52:47.671Z"
   },
   {
    "duration": 0,
    "start_time": "2022-10-28T16:52:47.672Z"
   },
   {
    "duration": 0,
    "start_time": "2022-10-28T16:52:47.674Z"
   },
   {
    "duration": 0,
    "start_time": "2022-10-28T16:52:47.675Z"
   },
   {
    "duration": 0,
    "start_time": "2022-10-28T16:52:47.676Z"
   },
   {
    "duration": 0,
    "start_time": "2022-10-28T16:52:47.677Z"
   },
   {
    "duration": 0,
    "start_time": "2022-10-28T16:52:47.678Z"
   },
   {
    "duration": 1100,
    "start_time": "2022-10-28T16:53:30.612Z"
   },
   {
    "duration": 7,
    "start_time": "2022-10-28T16:53:49.948Z"
   },
   {
    "duration": 1086,
    "start_time": "2022-10-28T16:54:26.847Z"
   },
   {
    "duration": 9,
    "start_time": "2022-10-28T17:01:15.382Z"
   },
   {
    "duration": 5,
    "start_time": "2022-10-28T17:01:22.643Z"
   },
   {
    "duration": 1102,
    "start_time": "2022-10-28T17:01:45.737Z"
   },
   {
    "duration": 1190,
    "start_time": "2022-10-28T17:02:02.586Z"
   },
   {
    "duration": 6,
    "start_time": "2022-10-28T17:02:19.454Z"
   },
   {
    "duration": 337,
    "start_time": "2022-10-28T17:07:32.076Z"
   },
   {
    "duration": 359,
    "start_time": "2022-10-28T17:13:01.492Z"
   },
   {
    "duration": 1192,
    "start_time": "2022-10-28T17:13:28.280Z"
   },
   {
    "duration": 5,
    "start_time": "2022-10-28T17:13:47.539Z"
   },
   {
    "duration": 9,
    "start_time": "2022-10-28T17:19:39.703Z"
   },
   {
    "duration": 10,
    "start_time": "2022-10-28T17:21:50.838Z"
   },
   {
    "duration": 1403,
    "start_time": "2022-10-28T17:21:59.699Z"
   },
   {
    "duration": 9,
    "start_time": "2022-10-28T17:22:39.138Z"
   },
   {
    "duration": 3,
    "start_time": "2022-10-28T17:22:44.966Z"
   },
   {
    "duration": 14,
    "start_time": "2022-10-28T17:23:25.209Z"
   },
   {
    "duration": 4,
    "start_time": "2022-10-28T17:23:37.847Z"
   },
   {
    "duration": 45,
    "start_time": "2022-10-28T17:23:42.142Z"
   },
   {
    "duration": 9,
    "start_time": "2022-10-28T17:23:59.712Z"
   },
   {
    "duration": 11,
    "start_time": "2022-10-28T17:24:16.338Z"
   },
   {
    "duration": 10,
    "start_time": "2022-10-28T17:24:28.436Z"
   },
   {
    "duration": 4,
    "start_time": "2022-10-28T17:26:04.437Z"
   },
   {
    "duration": 6,
    "start_time": "2022-10-28T17:26:06.805Z"
   },
   {
    "duration": 4,
    "start_time": "2022-10-28T17:26:30.279Z"
   },
   {
    "duration": 11,
    "start_time": "2022-10-28T17:26:32.100Z"
   },
   {
    "duration": 11,
    "start_time": "2022-10-28T17:26:58.062Z"
   },
   {
    "duration": 5,
    "start_time": "2022-10-28T17:27:09.063Z"
   },
   {
    "duration": 14,
    "start_time": "2022-10-28T17:27:17.415Z"
   },
   {
    "duration": 5,
    "start_time": "2022-10-28T17:27:35.496Z"
   },
   {
    "duration": 1073,
    "start_time": "2022-10-28T17:29:27.276Z"
   },
   {
    "duration": 28,
    "start_time": "2022-10-28T17:29:44.778Z"
   },
   {
    "duration": 1406,
    "start_time": "2022-10-28T17:29:51.499Z"
   },
   {
    "duration": 66,
    "start_time": "2022-10-28T17:29:52.907Z"
   },
   {
    "duration": 4,
    "start_time": "2022-10-28T17:29:52.974Z"
   },
   {
    "duration": 11,
    "start_time": "2022-10-28T17:29:52.980Z"
   },
   {
    "duration": 6,
    "start_time": "2022-10-28T17:29:52.993Z"
   },
   {
    "duration": 11,
    "start_time": "2022-10-28T17:29:53.000Z"
   },
   {
    "duration": 13,
    "start_time": "2022-10-28T17:29:53.012Z"
   },
   {
    "duration": 13,
    "start_time": "2022-10-28T17:29:53.026Z"
   },
   {
    "duration": 2,
    "start_time": "2022-10-28T17:29:53.040Z"
   },
   {
    "duration": 46,
    "start_time": "2022-10-28T17:29:53.044Z"
   },
   {
    "duration": 741,
    "start_time": "2022-10-28T17:29:53.104Z"
   },
   {
    "duration": 12,
    "start_time": "2022-10-28T17:29:53.847Z"
   },
   {
    "duration": 16,
    "start_time": "2022-10-28T17:29:53.860Z"
   },
   {
    "duration": 36,
    "start_time": "2022-10-28T17:29:53.877Z"
   },
   {
    "duration": 3,
    "start_time": "2022-10-28T17:29:53.915Z"
   },
   {
    "duration": 13,
    "start_time": "2022-10-28T17:29:53.919Z"
   },
   {
    "duration": 8,
    "start_time": "2022-10-28T17:29:53.933Z"
   },
   {
    "duration": 9,
    "start_time": "2022-10-28T17:29:53.942Z"
   },
   {
    "duration": 3,
    "start_time": "2022-10-28T17:29:53.953Z"
   },
   {
    "duration": 74,
    "start_time": "2022-10-28T17:29:53.957Z"
   },
   {
    "duration": 3,
    "start_time": "2022-10-28T17:29:54.032Z"
   },
   {
    "duration": 47,
    "start_time": "2022-10-28T17:29:54.036Z"
   },
   {
    "duration": 3,
    "start_time": "2022-10-28T17:29:54.084Z"
   },
   {
    "duration": 56,
    "start_time": "2022-10-28T17:29:54.088Z"
   },
   {
    "duration": 17,
    "start_time": "2022-10-28T17:29:54.146Z"
   },
   {
    "duration": 50,
    "start_time": "2022-10-28T17:29:54.164Z"
   },
   {
    "duration": 7,
    "start_time": "2022-10-28T17:29:54.215Z"
   },
   {
    "duration": 12,
    "start_time": "2022-10-28T17:29:54.225Z"
   },
   {
    "duration": 5,
    "start_time": "2022-10-28T17:29:54.239Z"
   },
   {
    "duration": 26,
    "start_time": "2022-10-28T17:29:54.246Z"
   },
   {
    "duration": 12,
    "start_time": "2022-10-28T17:29:54.274Z"
   },
   {
    "duration": 11,
    "start_time": "2022-10-28T17:29:54.287Z"
   },
   {
    "duration": 26,
    "start_time": "2022-10-28T17:29:54.306Z"
   },
   {
    "duration": 23,
    "start_time": "2022-10-28T17:29:54.333Z"
   },
   {
    "duration": 7,
    "start_time": "2022-10-28T17:29:54.357Z"
   },
   {
    "duration": 10,
    "start_time": "2022-10-28T17:29:54.365Z"
   },
   {
    "duration": 8,
    "start_time": "2022-10-28T17:29:54.376Z"
   },
   {
    "duration": 2,
    "start_time": "2022-10-28T17:29:54.405Z"
   },
   {
    "duration": 45,
    "start_time": "2022-10-28T17:29:54.409Z"
   },
   {
    "duration": 10,
    "start_time": "2022-10-28T17:29:54.455Z"
   },
   {
    "duration": 18,
    "start_time": "2022-10-28T17:29:54.466Z"
   },
   {
    "duration": 38,
    "start_time": "2022-10-28T17:29:54.485Z"
   },
   {
    "duration": 24,
    "start_time": "2022-10-28T17:29:54.524Z"
   },
   {
    "duration": 319,
    "start_time": "2022-10-28T17:29:54.550Z"
   },
   {
    "duration": 12,
    "start_time": "2022-10-28T17:29:54.870Z"
   },
   {
    "duration": 28,
    "start_time": "2022-10-28T17:29:54.883Z"
   },
   {
    "duration": 107,
    "start_time": "2022-10-28T17:29:54.913Z"
   },
   {
    "duration": 283,
    "start_time": "2022-10-28T17:29:55.022Z"
   },
   {
    "duration": 298,
    "start_time": "2022-10-28T17:29:55.307Z"
   },
   {
    "duration": 282,
    "start_time": "2022-10-28T17:29:55.607Z"
   },
   {
    "duration": 5,
    "start_time": "2022-10-28T17:29:55.890Z"
   },
   {
    "duration": 272,
    "start_time": "2022-10-28T17:29:55.904Z"
   },
   {
    "duration": 320,
    "start_time": "2022-10-28T17:29:56.178Z"
   },
   {
    "duration": 271,
    "start_time": "2022-10-28T17:29:56.504Z"
   },
   {
    "duration": 18,
    "start_time": "2022-10-28T17:29:56.777Z"
   },
   {
    "duration": 11,
    "start_time": "2022-10-28T17:29:56.805Z"
   },
   {
    "duration": 5,
    "start_time": "2022-10-28T17:29:56.817Z"
   },
   {
    "duration": 9,
    "start_time": "2022-10-28T17:29:56.823Z"
   },
   {
    "duration": 10,
    "start_time": "2022-10-28T17:29:56.834Z"
   },
   {
    "duration": 51,
    "start_time": "2022-10-28T17:29:56.846Z"
   },
   {
    "duration": 379,
    "start_time": "2022-10-28T17:29:56.905Z"
   },
   {
    "duration": 6,
    "start_time": "2022-10-28T17:29:57.286Z"
   },
   {
    "duration": 24,
    "start_time": "2022-10-28T17:29:57.293Z"
   },
   {
    "duration": 9,
    "start_time": "2022-10-28T17:29:57.319Z"
   },
   {
    "duration": 15,
    "start_time": "2022-10-28T17:29:57.330Z"
   },
   {
    "duration": 6,
    "start_time": "2022-10-28T17:29:57.347Z"
   },
   {
    "duration": 15965,
    "start_time": "2022-10-28T17:29:57.354Z"
   },
   {
    "duration": 402,
    "start_time": "2022-10-28T17:30:13.320Z"
   },
   {
    "duration": 2,
    "start_time": "2022-10-28T17:30:13.724Z"
   },
   {
    "duration": 15795,
    "start_time": "2022-10-28T17:30:13.727Z"
   },
   {
    "duration": 16,
    "start_time": "2022-10-28T17:30:29.523Z"
   },
   {
    "duration": 5,
    "start_time": "2022-10-28T17:30:29.540Z"
   },
   {
    "duration": 114,
    "start_time": "2022-10-28T17:30:29.547Z"
   },
   {
    "duration": 12,
    "start_time": "2022-10-28T17:31:25.698Z"
   },
   {
    "duration": 12,
    "start_time": "2022-10-28T17:31:36.740Z"
   },
   {
    "duration": 13,
    "start_time": "2022-10-28T17:31:53.744Z"
   },
   {
    "duration": 1362,
    "start_time": "2022-10-28T17:37:06.644Z"
   },
   {
    "duration": 70,
    "start_time": "2022-10-28T17:37:08.008Z"
   },
   {
    "duration": 3,
    "start_time": "2022-10-28T17:37:08.080Z"
   },
   {
    "duration": 14,
    "start_time": "2022-10-28T17:37:08.084Z"
   },
   {
    "duration": 7,
    "start_time": "2022-10-28T17:37:08.100Z"
   },
   {
    "duration": 12,
    "start_time": "2022-10-28T17:37:08.108Z"
   },
   {
    "duration": 11,
    "start_time": "2022-10-28T17:37:08.122Z"
   },
   {
    "duration": 12,
    "start_time": "2022-10-28T17:37:08.135Z"
   },
   {
    "duration": 2,
    "start_time": "2022-10-28T17:37:08.149Z"
   },
   {
    "duration": 68,
    "start_time": "2022-10-28T17:37:08.153Z"
   },
   {
    "duration": 739,
    "start_time": "2022-10-28T17:37:08.223Z"
   },
   {
    "duration": 12,
    "start_time": "2022-10-28T17:37:08.964Z"
   },
   {
    "duration": 31,
    "start_time": "2022-10-28T17:37:08.978Z"
   },
   {
    "duration": 25,
    "start_time": "2022-10-28T17:37:09.011Z"
   },
   {
    "duration": 4,
    "start_time": "2022-10-28T17:37:09.038Z"
   },
   {
    "duration": 16,
    "start_time": "2022-10-28T17:37:09.043Z"
   },
   {
    "duration": 8,
    "start_time": "2022-10-28T17:37:09.060Z"
   },
   {
    "duration": 9,
    "start_time": "2022-10-28T17:37:09.069Z"
   },
   {
    "duration": 3,
    "start_time": "2022-10-28T17:37:09.079Z"
   },
   {
    "duration": 63,
    "start_time": "2022-10-28T17:37:09.083Z"
   },
   {
    "duration": 3,
    "start_time": "2022-10-28T17:37:09.147Z"
   },
   {
    "duration": 61,
    "start_time": "2022-10-28T17:37:09.151Z"
   },
   {
    "duration": 3,
    "start_time": "2022-10-28T17:37:09.213Z"
   },
   {
    "duration": 49,
    "start_time": "2022-10-28T17:37:09.217Z"
   },
   {
    "duration": 19,
    "start_time": "2022-10-28T17:37:09.268Z"
   },
   {
    "duration": 55,
    "start_time": "2022-10-28T17:37:09.288Z"
   },
   {
    "duration": 7,
    "start_time": "2022-10-28T17:37:09.344Z"
   },
   {
    "duration": 17,
    "start_time": "2022-10-28T17:37:09.355Z"
   },
   {
    "duration": 4,
    "start_time": "2022-10-28T17:37:09.374Z"
   },
   {
    "duration": 12,
    "start_time": "2022-10-28T17:37:09.379Z"
   },
   {
    "duration": 5,
    "start_time": "2022-10-28T17:37:09.392Z"
   },
   {
    "duration": 10,
    "start_time": "2022-10-28T17:37:09.398Z"
   },
   {
    "duration": 26,
    "start_time": "2022-10-28T17:37:09.410Z"
   },
   {
    "duration": 21,
    "start_time": "2022-10-28T17:37:09.438Z"
   },
   {
    "duration": 6,
    "start_time": "2022-10-28T17:37:09.460Z"
   },
   {
    "duration": 9,
    "start_time": "2022-10-28T17:37:09.467Z"
   },
   {
    "duration": 9,
    "start_time": "2022-10-28T17:37:09.477Z"
   },
   {
    "duration": 5,
    "start_time": "2022-10-28T17:37:09.487Z"
   },
   {
    "duration": 63,
    "start_time": "2022-10-28T17:37:09.493Z"
   },
   {
    "duration": 10,
    "start_time": "2022-10-28T17:37:09.557Z"
   },
   {
    "duration": 19,
    "start_time": "2022-10-28T17:37:09.568Z"
   },
   {
    "duration": 31,
    "start_time": "2022-10-28T17:37:09.589Z"
   },
   {
    "duration": 26,
    "start_time": "2022-10-28T17:37:09.622Z"
   },
   {
    "duration": 309,
    "start_time": "2022-10-28T17:37:09.650Z"
   },
   {
    "duration": 12,
    "start_time": "2022-10-28T17:37:09.960Z"
   },
   {
    "duration": 12,
    "start_time": "2022-10-28T17:37:09.973Z"
   },
   {
    "duration": 102,
    "start_time": "2022-10-28T17:37:09.987Z"
   },
   {
    "duration": 289,
    "start_time": "2022-10-28T17:37:10.091Z"
   },
   {
    "duration": 308,
    "start_time": "2022-10-28T17:37:10.382Z"
   },
   {
    "duration": 282,
    "start_time": "2022-10-28T17:37:10.692Z"
   },
   {
    "duration": 5,
    "start_time": "2022-10-28T17:37:10.976Z"
   },
   {
    "duration": 305,
    "start_time": "2022-10-28T17:37:10.983Z"
   },
   {
    "duration": 307,
    "start_time": "2022-10-28T17:37:11.289Z"
   },
   {
    "duration": 299,
    "start_time": "2022-10-28T17:37:11.598Z"
   },
   {
    "duration": 19,
    "start_time": "2022-10-28T17:37:11.904Z"
   },
   {
    "duration": 13,
    "start_time": "2022-10-28T17:37:11.924Z"
   },
   {
    "duration": 4,
    "start_time": "2022-10-28T17:37:11.938Z"
   },
   {
    "duration": 63,
    "start_time": "2022-10-28T17:37:11.943Z"
   },
   {
    "duration": 377,
    "start_time": "2022-10-28T17:37:12.007Z"
   },
   {
    "duration": 4,
    "start_time": "2022-10-28T17:37:12.386Z"
   },
   {
    "duration": 23,
    "start_time": "2022-10-28T17:37:12.392Z"
   },
   {
    "duration": 3,
    "start_time": "2022-10-28T17:37:12.416Z"
   },
   {
    "duration": 8,
    "start_time": "2022-10-28T17:37:12.421Z"
   },
   {
    "duration": 2,
    "start_time": "2022-10-28T17:37:12.431Z"
   },
   {
    "duration": 16012,
    "start_time": "2022-10-28T17:37:12.435Z"
   },
   {
    "duration": 233,
    "start_time": "2022-10-28T17:37:28.449Z"
   },
   {
    "duration": 2,
    "start_time": "2022-10-28T17:37:28.684Z"
   },
   {
    "duration": 13556,
    "start_time": "2022-10-28T17:37:28.687Z"
   },
   {
    "duration": 13,
    "start_time": "2022-10-28T17:37:42.244Z"
   },
   {
    "duration": 7,
    "start_time": "2022-10-28T17:37:42.259Z"
   },
   {
    "duration": 136,
    "start_time": "2022-10-28T17:37:42.268Z"
   }
  ],
  "kernelspec": {
   "display_name": "Python 3",
   "language": "python",
   "name": "python3"
  },
  "language_info": {
   "codemirror_mode": {
    "name": "ipython",
    "version": 3
   },
   "file_extension": ".py",
   "mimetype": "text/x-python",
   "name": "python",
   "nbconvert_exporter": "python",
   "pygments_lexer": "ipython3",
   "version": "3.7.4"
  },
  "toc": {
   "base_numbering": 1,
   "nav_menu": {},
   "number_sections": true,
   "sideBar": true,
   "skip_h1_title": true,
   "title_cell": "Table of Contents",
   "title_sidebar": "Contents",
   "toc_cell": false,
   "toc_position": {},
   "toc_section_display": true,
   "toc_window_display": false
  }
 },
 "nbformat": 4,
 "nbformat_minor": 2
}
