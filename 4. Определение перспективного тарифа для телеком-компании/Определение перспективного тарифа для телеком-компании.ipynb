{
 "cells": [
  {
   "cell_type": "markdown",
   "metadata": {},
   "source": [
    "# Определение перспективного тарифа для телеком-компании"
   ]
  },
  {
   "cell_type": "markdown",
   "metadata": {},
   "source": [
    " ### Описание проекта\n",
    "    \n",
    "Телеком компания предоставляет своим клиентам 2 тарифа:\n",
    "\n",
    "Тариф «Смарт»\n",
    "1.\tЕжемесячная плата: 550 рублей\n",
    "2.\tВключено 500 минут разговора, 50 сообщений и 15 Гб интернет-трафика\n",
    "3.\tСтоимость услуг сверх тарифного пакета:\n",
    "o\tминута разговора: 3 рубля\n",
    "o\tсообщение: 3 рубля\n",
    "o\t1 Гб интернет-трафика: 200 рублей\n",
    "\n",
    "Тариф «Ультра»\n",
    "1.\tЕжемесячная плата: 1950 рублей\n",
    "2.\tВключено 3000 минут разговора, 1000 сообщений и 30 Гб интернет-трафика\n",
    "3.\tСтоимость услуг сверх тарифного пакета:\n",
    "o\tминута разговора: 1 рубль\n",
    "o\tсообщение: 1 рубль\n",
    "o\t1 Гб интернет-трафика: 150 рублей\n",
    "\n",
    "Примечание:\n",
    "\n",
    "«Мегалайн» всегда округляет секунды до минут, а мегабайты — до гигабайт. Каждый звонок округляется отдельно: даже если он длился всего 1 секунду, будет засчитан как 1 минута.\n",
    "Для веб-трафика отдельные сессии не считаются. Вместо этого общая сумма за месяц округляется в бо́льшую сторону. Если абонент использует 1025 мегабайт в этом месяце, с него возьмут плату за 2 гигабайта.\n",
    "\n",
    "Нам предоставили ледующие данные:\n",
    "Путь к файлам:\n",
    "\n",
    "•\t/datasets/calls.csv.  \n",
    "\n",
    "•\t/datasets/internet.csv.  \n",
    "\n",
    "•\t/datasets/messages.csv.\n",
    "\n",
    "•\t/datasets/tariffs.csv. \n",
    "\n",
    "•\t/datasets/users.csv. \n",
    "\n",
    "Мы аналитики компании «Мегалайн» — федерального оператора сотовой связи. Чтобы скорректировать рекламный бюджет, коммерческий департамент хочет понять, какой тариф приносит больше денег.\n",
    "Нам предстоит сделать предварительный анализ тарифов на небольшой выборке клиентов. В нашем распоряжении данные 500 пользователей «Мегалайна»: кто они, откуда, каким тарифом пользуются, сколько звонков и сообщений каждый отправил за 2018 год. Нужно проанализировать поведение клиентов и сделать вывод — какой тариф лучше.\n"
   ]
  },
  {
   "cell_type": "markdown",
   "metadata": {},
   "source": [
    "## Откроем предоставленные данные и изучим информацию"
   ]
  },
  {
   "cell_type": "markdown",
   "metadata": {},
   "source": [
    "Импортируем необходимые для работы библиотеки"
   ]
  },
  {
   "cell_type": "code",
   "execution_count": 1,
   "metadata": {},
   "outputs": [],
   "source": [
    "import pandas as pd\n",
    "import matplotlib.pyplot as plt\n",
    "import seaborn as sns\n",
    "import math\n",
    "from scipy import stats as st\n",
    "import numpy as np\n",
    "import warnings"
   ]
  },
  {
   "cell_type": "markdown",
   "metadata": {},
   "source": [
    "### Calls"
   ]
  },
  {
   "cell_type": "code",
   "execution_count": 2,
   "metadata": {
    "scrolled": true
   },
   "outputs": [
    {
     "name": "stdout",
     "output_type": "stream",
     "text": [
      "<class 'pandas.core.frame.DataFrame'>\n",
      "RangeIndex: 202607 entries, 0 to 202606\n",
      "Data columns (total 4 columns):\n",
      " #   Column     Non-Null Count   Dtype  \n",
      "---  ------     --------------   -----  \n",
      " 0   id         202607 non-null  object \n",
      " 1   call_date  202607 non-null  object \n",
      " 2   duration   202607 non-null  float64\n",
      " 3   user_id    202607 non-null  int64  \n",
      "dtypes: float64(1), int64(1), object(2)\n",
      "memory usage: 6.2+ MB\n"
     ]
    },
    {
     "data": {
      "text/html": [
       "<div>\n",
       "<style scoped>\n",
       "    .dataframe tbody tr th:only-of-type {\n",
       "        vertical-align: middle;\n",
       "    }\n",
       "\n",
       "    .dataframe tbody tr th {\n",
       "        vertical-align: top;\n",
       "    }\n",
       "\n",
       "    .dataframe thead th {\n",
       "        text-align: right;\n",
       "    }\n",
       "</style>\n",
       "<table border=\"1\" class=\"dataframe\">\n",
       "  <thead>\n",
       "    <tr style=\"text-align: right;\">\n",
       "      <th></th>\n",
       "      <th>id</th>\n",
       "      <th>call_date</th>\n",
       "      <th>duration</th>\n",
       "      <th>user_id</th>\n",
       "    </tr>\n",
       "  </thead>\n",
       "  <tbody>\n",
       "    <tr>\n",
       "      <th>0</th>\n",
       "      <td>1000_0</td>\n",
       "      <td>2018-07-25</td>\n",
       "      <td>0.00</td>\n",
       "      <td>1000</td>\n",
       "    </tr>\n",
       "    <tr>\n",
       "      <th>1</th>\n",
       "      <td>1000_1</td>\n",
       "      <td>2018-08-17</td>\n",
       "      <td>0.00</td>\n",
       "      <td>1000</td>\n",
       "    </tr>\n",
       "    <tr>\n",
       "      <th>2</th>\n",
       "      <td>1000_2</td>\n",
       "      <td>2018-06-11</td>\n",
       "      <td>2.85</td>\n",
       "      <td>1000</td>\n",
       "    </tr>\n",
       "    <tr>\n",
       "      <th>3</th>\n",
       "      <td>1000_3</td>\n",
       "      <td>2018-09-21</td>\n",
       "      <td>13.80</td>\n",
       "      <td>1000</td>\n",
       "    </tr>\n",
       "    <tr>\n",
       "      <th>4</th>\n",
       "      <td>1000_4</td>\n",
       "      <td>2018-12-15</td>\n",
       "      <td>5.18</td>\n",
       "      <td>1000</td>\n",
       "    </tr>\n",
       "    <tr>\n",
       "      <th>5</th>\n",
       "      <td>1000_5</td>\n",
       "      <td>2018-11-02</td>\n",
       "      <td>0.00</td>\n",
       "      <td>1000</td>\n",
       "    </tr>\n",
       "    <tr>\n",
       "      <th>6</th>\n",
       "      <td>1000_6</td>\n",
       "      <td>2018-10-18</td>\n",
       "      <td>0.00</td>\n",
       "      <td>1000</td>\n",
       "    </tr>\n",
       "    <tr>\n",
       "      <th>7</th>\n",
       "      <td>1000_7</td>\n",
       "      <td>2018-08-22</td>\n",
       "      <td>18.31</td>\n",
       "      <td>1000</td>\n",
       "    </tr>\n",
       "    <tr>\n",
       "      <th>8</th>\n",
       "      <td>1000_8</td>\n",
       "      <td>2018-09-15</td>\n",
       "      <td>18.44</td>\n",
       "      <td>1000</td>\n",
       "    </tr>\n",
       "    <tr>\n",
       "      <th>9</th>\n",
       "      <td>1000_9</td>\n",
       "      <td>2018-08-15</td>\n",
       "      <td>0.00</td>\n",
       "      <td>1000</td>\n",
       "    </tr>\n",
       "  </tbody>\n",
       "</table>\n",
       "</div>"
      ],
      "text/plain": [
       "       id   call_date  duration  user_id\n",
       "0  1000_0  2018-07-25      0.00     1000\n",
       "1  1000_1  2018-08-17      0.00     1000\n",
       "2  1000_2  2018-06-11      2.85     1000\n",
       "3  1000_3  2018-09-21     13.80     1000\n",
       "4  1000_4  2018-12-15      5.18     1000\n",
       "5  1000_5  2018-11-02      0.00     1000\n",
       "6  1000_6  2018-10-18      0.00     1000\n",
       "7  1000_7  2018-08-22     18.31     1000\n",
       "8  1000_8  2018-09-15     18.44     1000\n",
       "9  1000_9  2018-08-15      0.00     1000"
      ]
     },
     "execution_count": 2,
     "metadata": {},
     "output_type": "execute_result"
    }
   ],
   "source": [
    "calls = pd.read_csv('/datasets/calls.csv')\n",
    "calls.info()\n",
    "calls.head(10)"
   ]
  },
  {
   "cell_type": "markdown",
   "metadata": {},
   "source": [
    "Таблица calls (информация о звонках):\n",
    "\n",
    "- id — уникальный номер звонка;\n",
    "- call_date — дата звонка;\n",
    "- duration — длительность звонка в минутах;\n",
    "- user_id — идентификатор пользователя, сделавшего звонок."
   ]
  },
  {
   "cell_type": "markdown",
   "metadata": {},
   "source": [
    "### Internet"
   ]
  },
  {
   "cell_type": "code",
   "execution_count": 3,
   "metadata": {
    "scrolled": true
   },
   "outputs": [
    {
     "name": "stdout",
     "output_type": "stream",
     "text": [
      "<class 'pandas.core.frame.DataFrame'>\n",
      "RangeIndex: 149396 entries, 0 to 149395\n",
      "Data columns (total 5 columns):\n",
      " #   Column        Non-Null Count   Dtype  \n",
      "---  ------        --------------   -----  \n",
      " 0   Unnamed: 0    149396 non-null  int64  \n",
      " 1   id            149396 non-null  object \n",
      " 2   mb_used       149396 non-null  float64\n",
      " 3   session_date  149396 non-null  object \n",
      " 4   user_id       149396 non-null  int64  \n",
      "dtypes: float64(1), int64(2), object(2)\n",
      "memory usage: 5.7+ MB\n"
     ]
    },
    {
     "data": {
      "text/html": [
       "<div>\n",
       "<style scoped>\n",
       "    .dataframe tbody tr th:only-of-type {\n",
       "        vertical-align: middle;\n",
       "    }\n",
       "\n",
       "    .dataframe tbody tr th {\n",
       "        vertical-align: top;\n",
       "    }\n",
       "\n",
       "    .dataframe thead th {\n",
       "        text-align: right;\n",
       "    }\n",
       "</style>\n",
       "<table border=\"1\" class=\"dataframe\">\n",
       "  <thead>\n",
       "    <tr style=\"text-align: right;\">\n",
       "      <th></th>\n",
       "      <th>Unnamed: 0</th>\n",
       "      <th>id</th>\n",
       "      <th>mb_used</th>\n",
       "      <th>session_date</th>\n",
       "      <th>user_id</th>\n",
       "    </tr>\n",
       "  </thead>\n",
       "  <tbody>\n",
       "    <tr>\n",
       "      <th>0</th>\n",
       "      <td>0</td>\n",
       "      <td>1000_0</td>\n",
       "      <td>112.95</td>\n",
       "      <td>2018-11-25</td>\n",
       "      <td>1000</td>\n",
       "    </tr>\n",
       "    <tr>\n",
       "      <th>1</th>\n",
       "      <td>1</td>\n",
       "      <td>1000_1</td>\n",
       "      <td>1052.81</td>\n",
       "      <td>2018-09-07</td>\n",
       "      <td>1000</td>\n",
       "    </tr>\n",
       "    <tr>\n",
       "      <th>2</th>\n",
       "      <td>2</td>\n",
       "      <td>1000_2</td>\n",
       "      <td>1197.26</td>\n",
       "      <td>2018-06-25</td>\n",
       "      <td>1000</td>\n",
       "    </tr>\n",
       "    <tr>\n",
       "      <th>3</th>\n",
       "      <td>3</td>\n",
       "      <td>1000_3</td>\n",
       "      <td>550.27</td>\n",
       "      <td>2018-08-22</td>\n",
       "      <td>1000</td>\n",
       "    </tr>\n",
       "    <tr>\n",
       "      <th>4</th>\n",
       "      <td>4</td>\n",
       "      <td>1000_4</td>\n",
       "      <td>302.56</td>\n",
       "      <td>2018-09-24</td>\n",
       "      <td>1000</td>\n",
       "    </tr>\n",
       "    <tr>\n",
       "      <th>5</th>\n",
       "      <td>5</td>\n",
       "      <td>1000_5</td>\n",
       "      <td>399.97</td>\n",
       "      <td>2018-10-02</td>\n",
       "      <td>1000</td>\n",
       "    </tr>\n",
       "    <tr>\n",
       "      <th>6</th>\n",
       "      <td>6</td>\n",
       "      <td>1000_6</td>\n",
       "      <td>540.08</td>\n",
       "      <td>2018-09-07</td>\n",
       "      <td>1000</td>\n",
       "    </tr>\n",
       "    <tr>\n",
       "      <th>7</th>\n",
       "      <td>7</td>\n",
       "      <td>1000_7</td>\n",
       "      <td>415.70</td>\n",
       "      <td>2018-07-11</td>\n",
       "      <td>1000</td>\n",
       "    </tr>\n",
       "    <tr>\n",
       "      <th>8</th>\n",
       "      <td>8</td>\n",
       "      <td>1000_8</td>\n",
       "      <td>505.40</td>\n",
       "      <td>2018-10-08</td>\n",
       "      <td>1000</td>\n",
       "    </tr>\n",
       "    <tr>\n",
       "      <th>9</th>\n",
       "      <td>9</td>\n",
       "      <td>1000_9</td>\n",
       "      <td>345.54</td>\n",
       "      <td>2018-09-03</td>\n",
       "      <td>1000</td>\n",
       "    </tr>\n",
       "  </tbody>\n",
       "</table>\n",
       "</div>"
      ],
      "text/plain": [
       "   Unnamed: 0      id  mb_used session_date  user_id\n",
       "0           0  1000_0   112.95   2018-11-25     1000\n",
       "1           1  1000_1  1052.81   2018-09-07     1000\n",
       "2           2  1000_2  1197.26   2018-06-25     1000\n",
       "3           3  1000_3   550.27   2018-08-22     1000\n",
       "4           4  1000_4   302.56   2018-09-24     1000\n",
       "5           5  1000_5   399.97   2018-10-02     1000\n",
       "6           6  1000_6   540.08   2018-09-07     1000\n",
       "7           7  1000_7   415.70   2018-07-11     1000\n",
       "8           8  1000_8   505.40   2018-10-08     1000\n",
       "9           9  1000_9   345.54   2018-09-03     1000"
      ]
     },
     "execution_count": 3,
     "metadata": {},
     "output_type": "execute_result"
    }
   ],
   "source": [
    "internet = pd.read_csv('/datasets/internet.csv')\n",
    "internet.info()\n",
    "internet.head(10)"
   ]
  },
  {
   "cell_type": "markdown",
   "metadata": {},
   "source": [
    "Таблица internet (информация об интернет-сессиях):\n",
    "\n",
    "- id — уникальный номер сессии;\n",
    "- mb_used — объём потраченного за сессию интернет-трафика (в мегабайтах);\n",
    "- session_date — дата интернет-сессии;\n",
    "- user_id — идентификатор пользователя."
   ]
  },
  {
   "cell_type": "markdown",
   "metadata": {},
   "source": [
    "### Messages"
   ]
  },
  {
   "cell_type": "code",
   "execution_count": 4,
   "metadata": {
    "scrolled": true
   },
   "outputs": [
    {
     "name": "stdout",
     "output_type": "stream",
     "text": [
      "<class 'pandas.core.frame.DataFrame'>\n",
      "RangeIndex: 123036 entries, 0 to 123035\n",
      "Data columns (total 3 columns):\n",
      " #   Column        Non-Null Count   Dtype \n",
      "---  ------        --------------   ----- \n",
      " 0   id            123036 non-null  object\n",
      " 1   message_date  123036 non-null  object\n",
      " 2   user_id       123036 non-null  int64 \n",
      "dtypes: int64(1), object(2)\n",
      "memory usage: 2.8+ MB\n"
     ]
    },
    {
     "data": {
      "text/html": [
       "<div>\n",
       "<style scoped>\n",
       "    .dataframe tbody tr th:only-of-type {\n",
       "        vertical-align: middle;\n",
       "    }\n",
       "\n",
       "    .dataframe tbody tr th {\n",
       "        vertical-align: top;\n",
       "    }\n",
       "\n",
       "    .dataframe thead th {\n",
       "        text-align: right;\n",
       "    }\n",
       "</style>\n",
       "<table border=\"1\" class=\"dataframe\">\n",
       "  <thead>\n",
       "    <tr style=\"text-align: right;\">\n",
       "      <th></th>\n",
       "      <th>id</th>\n",
       "      <th>message_date</th>\n",
       "      <th>user_id</th>\n",
       "    </tr>\n",
       "  </thead>\n",
       "  <tbody>\n",
       "    <tr>\n",
       "      <th>0</th>\n",
       "      <td>1000_0</td>\n",
       "      <td>2018-06-27</td>\n",
       "      <td>1000</td>\n",
       "    </tr>\n",
       "    <tr>\n",
       "      <th>1</th>\n",
       "      <td>1000_1</td>\n",
       "      <td>2018-10-08</td>\n",
       "      <td>1000</td>\n",
       "    </tr>\n",
       "    <tr>\n",
       "      <th>2</th>\n",
       "      <td>1000_2</td>\n",
       "      <td>2018-08-04</td>\n",
       "      <td>1000</td>\n",
       "    </tr>\n",
       "    <tr>\n",
       "      <th>3</th>\n",
       "      <td>1000_3</td>\n",
       "      <td>2018-06-16</td>\n",
       "      <td>1000</td>\n",
       "    </tr>\n",
       "    <tr>\n",
       "      <th>4</th>\n",
       "      <td>1000_4</td>\n",
       "      <td>2018-12-05</td>\n",
       "      <td>1000</td>\n",
       "    </tr>\n",
       "    <tr>\n",
       "      <th>5</th>\n",
       "      <td>1000_5</td>\n",
       "      <td>2018-06-20</td>\n",
       "      <td>1000</td>\n",
       "    </tr>\n",
       "    <tr>\n",
       "      <th>6</th>\n",
       "      <td>1000_6</td>\n",
       "      <td>2018-11-19</td>\n",
       "      <td>1000</td>\n",
       "    </tr>\n",
       "    <tr>\n",
       "      <th>7</th>\n",
       "      <td>1000_7</td>\n",
       "      <td>2018-10-29</td>\n",
       "      <td>1000</td>\n",
       "    </tr>\n",
       "    <tr>\n",
       "      <th>8</th>\n",
       "      <td>1000_8</td>\n",
       "      <td>2018-06-25</td>\n",
       "      <td>1000</td>\n",
       "    </tr>\n",
       "    <tr>\n",
       "      <th>9</th>\n",
       "      <td>1000_9</td>\n",
       "      <td>2018-12-18</td>\n",
       "      <td>1000</td>\n",
       "    </tr>\n",
       "  </tbody>\n",
       "</table>\n",
       "</div>"
      ],
      "text/plain": [
       "       id message_date  user_id\n",
       "0  1000_0   2018-06-27     1000\n",
       "1  1000_1   2018-10-08     1000\n",
       "2  1000_2   2018-08-04     1000\n",
       "3  1000_3   2018-06-16     1000\n",
       "4  1000_4   2018-12-05     1000\n",
       "5  1000_5   2018-06-20     1000\n",
       "6  1000_6   2018-11-19     1000\n",
       "7  1000_7   2018-10-29     1000\n",
       "8  1000_8   2018-06-25     1000\n",
       "9  1000_9   2018-12-18     1000"
      ]
     },
     "execution_count": 4,
     "metadata": {},
     "output_type": "execute_result"
    }
   ],
   "source": [
    "messages = pd.read_csv('/datasets/messages.csv')\n",
    "messages.info()\n",
    "messages.head(10)"
   ]
  },
  {
   "cell_type": "markdown",
   "metadata": {},
   "source": [
    "Таблица messages (информация о сообщениях):\n",
    "- id — уникальный номер сообщения\n",
    "- message_date — дата сообщения\n",
    "- user_id — идентификатор пользователя, отправившего сообщение\n"
   ]
  },
  {
   "cell_type": "markdown",
   "metadata": {},
   "source": [
    "### Tariffs"
   ]
  },
  {
   "cell_type": "code",
   "execution_count": 5,
   "metadata": {
    "scrolled": true
   },
   "outputs": [
    {
     "name": "stdout",
     "output_type": "stream",
     "text": [
      "<class 'pandas.core.frame.DataFrame'>\n",
      "RangeIndex: 2 entries, 0 to 1\n",
      "Data columns (total 8 columns):\n",
      " #   Column                 Non-Null Count  Dtype \n",
      "---  ------                 --------------  ----- \n",
      " 0   messages_included      2 non-null      int64 \n",
      " 1   mb_per_month_included  2 non-null      int64 \n",
      " 2   minutes_included       2 non-null      int64 \n",
      " 3   rub_monthly_fee        2 non-null      int64 \n",
      " 4   rub_per_gb             2 non-null      int64 \n",
      " 5   rub_per_message        2 non-null      int64 \n",
      " 6   rub_per_minute         2 non-null      int64 \n",
      " 7   tariff_name            2 non-null      object\n",
      "dtypes: int64(7), object(1)\n",
      "memory usage: 256.0+ bytes\n"
     ]
    },
    {
     "data": {
      "text/html": [
       "<div>\n",
       "<style scoped>\n",
       "    .dataframe tbody tr th:only-of-type {\n",
       "        vertical-align: middle;\n",
       "    }\n",
       "\n",
       "    .dataframe tbody tr th {\n",
       "        vertical-align: top;\n",
       "    }\n",
       "\n",
       "    .dataframe thead th {\n",
       "        text-align: right;\n",
       "    }\n",
       "</style>\n",
       "<table border=\"1\" class=\"dataframe\">\n",
       "  <thead>\n",
       "    <tr style=\"text-align: right;\">\n",
       "      <th></th>\n",
       "      <th>messages_included</th>\n",
       "      <th>mb_per_month_included</th>\n",
       "      <th>minutes_included</th>\n",
       "      <th>rub_monthly_fee</th>\n",
       "      <th>rub_per_gb</th>\n",
       "      <th>rub_per_message</th>\n",
       "      <th>rub_per_minute</th>\n",
       "      <th>tariff_name</th>\n",
       "    </tr>\n",
       "  </thead>\n",
       "  <tbody>\n",
       "    <tr>\n",
       "      <th>0</th>\n",
       "      <td>50</td>\n",
       "      <td>15360</td>\n",
       "      <td>500</td>\n",
       "      <td>550</td>\n",
       "      <td>200</td>\n",
       "      <td>3</td>\n",
       "      <td>3</td>\n",
       "      <td>smart</td>\n",
       "    </tr>\n",
       "    <tr>\n",
       "      <th>1</th>\n",
       "      <td>1000</td>\n",
       "      <td>30720</td>\n",
       "      <td>3000</td>\n",
       "      <td>1950</td>\n",
       "      <td>150</td>\n",
       "      <td>1</td>\n",
       "      <td>1</td>\n",
       "      <td>ultra</td>\n",
       "    </tr>\n",
       "  </tbody>\n",
       "</table>\n",
       "</div>"
      ],
      "text/plain": [
       "   messages_included  mb_per_month_included  minutes_included  \\\n",
       "0                 50                  15360               500   \n",
       "1               1000                  30720              3000   \n",
       "\n",
       "   rub_monthly_fee  rub_per_gb  rub_per_message  rub_per_minute tariff_name  \n",
       "0              550         200                3               3       smart  \n",
       "1             1950         150                1               1       ultra  "
      ]
     },
     "execution_count": 5,
     "metadata": {},
     "output_type": "execute_result"
    }
   ],
   "source": [
    "tariffs = pd.read_csv('/datasets/tariffs.csv')\n",
    "tariffs.info()\n",
    "tariffs"
   ]
  },
  {
   "cell_type": "markdown",
   "metadata": {},
   "source": [
    "Таблица tariffs (информация о тарифах):\n",
    "- tariff_name — название тарифа\n",
    "- rub_monthly_fee — ежемесячная абонентская плата в рублях\n",
    "- minutes_included — количество минут разговора в месяц, включённых в абонентскую плату\n",
    "- messages_included — количество сообщений в месяц, включённых в абонентскую плату\n",
    "- mb_per_month_included — объём интернет-трафика, включённого в абонентскую плату (в мегабайтах)\n",
    "- rub_per_minute — стоимость минуты разговора сверх тарифного пакета (например, если в тарифе 100 минут разговора в месяц, то со 101 минуты будет взиматься плата)\n",
    "- rub_per_message — стоимость отправки сообщения сверх тарифного пакета\n",
    "- rub_per_gb — стоимость дополнительного гигабайта интернет-трафика сверх тарифного пакета (1 гигабайт = 1024 мегабайта)"
   ]
  },
  {
   "cell_type": "markdown",
   "metadata": {},
   "source": [
    "Как мы видим таблица содержит данные о тарифах и нам достаточно информации"
   ]
  },
  {
   "cell_type": "markdown",
   "metadata": {},
   "source": [
    "### Users"
   ]
  },
  {
   "cell_type": "code",
   "execution_count": 6,
   "metadata": {
    "scrolled": true
   },
   "outputs": [
    {
     "name": "stdout",
     "output_type": "stream",
     "text": [
      "<class 'pandas.core.frame.DataFrame'>\n",
      "RangeIndex: 500 entries, 0 to 499\n",
      "Data columns (total 8 columns):\n",
      " #   Column      Non-Null Count  Dtype \n",
      "---  ------      --------------  ----- \n",
      " 0   user_id     500 non-null    int64 \n",
      " 1   age         500 non-null    int64 \n",
      " 2   churn_date  38 non-null     object\n",
      " 3   city        500 non-null    object\n",
      " 4   first_name  500 non-null    object\n",
      " 5   last_name   500 non-null    object\n",
      " 6   reg_date    500 non-null    object\n",
      " 7   tariff      500 non-null    object\n",
      "dtypes: int64(2), object(6)\n",
      "memory usage: 31.4+ KB\n"
     ]
    },
    {
     "data": {
      "text/html": [
       "<div>\n",
       "<style scoped>\n",
       "    .dataframe tbody tr th:only-of-type {\n",
       "        vertical-align: middle;\n",
       "    }\n",
       "\n",
       "    .dataframe tbody tr th {\n",
       "        vertical-align: top;\n",
       "    }\n",
       "\n",
       "    .dataframe thead th {\n",
       "        text-align: right;\n",
       "    }\n",
       "</style>\n",
       "<table border=\"1\" class=\"dataframe\">\n",
       "  <thead>\n",
       "    <tr style=\"text-align: right;\">\n",
       "      <th></th>\n",
       "      <th>user_id</th>\n",
       "      <th>age</th>\n",
       "      <th>churn_date</th>\n",
       "      <th>city</th>\n",
       "      <th>first_name</th>\n",
       "      <th>last_name</th>\n",
       "      <th>reg_date</th>\n",
       "      <th>tariff</th>\n",
       "    </tr>\n",
       "  </thead>\n",
       "  <tbody>\n",
       "    <tr>\n",
       "      <th>0</th>\n",
       "      <td>1000</td>\n",
       "      <td>52</td>\n",
       "      <td>NaN</td>\n",
       "      <td>Краснодар</td>\n",
       "      <td>Рафаил</td>\n",
       "      <td>Верещагин</td>\n",
       "      <td>2018-05-25</td>\n",
       "      <td>ultra</td>\n",
       "    </tr>\n",
       "    <tr>\n",
       "      <th>1</th>\n",
       "      <td>1001</td>\n",
       "      <td>41</td>\n",
       "      <td>NaN</td>\n",
       "      <td>Москва</td>\n",
       "      <td>Иван</td>\n",
       "      <td>Ежов</td>\n",
       "      <td>2018-11-01</td>\n",
       "      <td>smart</td>\n",
       "    </tr>\n",
       "    <tr>\n",
       "      <th>2</th>\n",
       "      <td>1002</td>\n",
       "      <td>59</td>\n",
       "      <td>NaN</td>\n",
       "      <td>Стерлитамак</td>\n",
       "      <td>Евгений</td>\n",
       "      <td>Абрамович</td>\n",
       "      <td>2018-06-17</td>\n",
       "      <td>smart</td>\n",
       "    </tr>\n",
       "    <tr>\n",
       "      <th>3</th>\n",
       "      <td>1003</td>\n",
       "      <td>23</td>\n",
       "      <td>NaN</td>\n",
       "      <td>Москва</td>\n",
       "      <td>Белла</td>\n",
       "      <td>Белякова</td>\n",
       "      <td>2018-08-17</td>\n",
       "      <td>ultra</td>\n",
       "    </tr>\n",
       "    <tr>\n",
       "      <th>4</th>\n",
       "      <td>1004</td>\n",
       "      <td>68</td>\n",
       "      <td>NaN</td>\n",
       "      <td>Новокузнецк</td>\n",
       "      <td>Татьяна</td>\n",
       "      <td>Авдеенко</td>\n",
       "      <td>2018-05-14</td>\n",
       "      <td>ultra</td>\n",
       "    </tr>\n",
       "    <tr>\n",
       "      <th>5</th>\n",
       "      <td>1005</td>\n",
       "      <td>67</td>\n",
       "      <td>NaN</td>\n",
       "      <td>Набережные Челны</td>\n",
       "      <td>Афанасий</td>\n",
       "      <td>Горлов</td>\n",
       "      <td>2018-01-25</td>\n",
       "      <td>smart</td>\n",
       "    </tr>\n",
       "    <tr>\n",
       "      <th>6</th>\n",
       "      <td>1006</td>\n",
       "      <td>21</td>\n",
       "      <td>NaN</td>\n",
       "      <td>Ульяновск</td>\n",
       "      <td>Леонид</td>\n",
       "      <td>Ермолаев</td>\n",
       "      <td>2018-02-26</td>\n",
       "      <td>smart</td>\n",
       "    </tr>\n",
       "    <tr>\n",
       "      <th>7</th>\n",
       "      <td>1007</td>\n",
       "      <td>65</td>\n",
       "      <td>NaN</td>\n",
       "      <td>Москва</td>\n",
       "      <td>Юна</td>\n",
       "      <td>Березина</td>\n",
       "      <td>2018-04-19</td>\n",
       "      <td>smart</td>\n",
       "    </tr>\n",
       "    <tr>\n",
       "      <th>8</th>\n",
       "      <td>1008</td>\n",
       "      <td>63</td>\n",
       "      <td>NaN</td>\n",
       "      <td>Челябинск</td>\n",
       "      <td>Рустэм</td>\n",
       "      <td>Пономарёв</td>\n",
       "      <td>2018-12-19</td>\n",
       "      <td>smart</td>\n",
       "    </tr>\n",
       "    <tr>\n",
       "      <th>9</th>\n",
       "      <td>1009</td>\n",
       "      <td>24</td>\n",
       "      <td>NaN</td>\n",
       "      <td>Пермь</td>\n",
       "      <td>Василиса</td>\n",
       "      <td>Блинова</td>\n",
       "      <td>2018-03-22</td>\n",
       "      <td>smart</td>\n",
       "    </tr>\n",
       "  </tbody>\n",
       "</table>\n",
       "</div>"
      ],
      "text/plain": [
       "   user_id  age churn_date              city first_name  last_name  \\\n",
       "0     1000   52        NaN         Краснодар     Рафаил  Верещагин   \n",
       "1     1001   41        NaN            Москва       Иван       Ежов   \n",
       "2     1002   59        NaN       Стерлитамак    Евгений  Абрамович   \n",
       "3     1003   23        NaN            Москва      Белла   Белякова   \n",
       "4     1004   68        NaN       Новокузнецк    Татьяна   Авдеенко   \n",
       "5     1005   67        NaN  Набережные Челны   Афанасий     Горлов   \n",
       "6     1006   21        NaN         Ульяновск     Леонид   Ермолаев   \n",
       "7     1007   65        NaN            Москва        Юна   Березина   \n",
       "8     1008   63        NaN         Челябинск     Рустэм  Пономарёв   \n",
       "9     1009   24        NaN             Пермь   Василиса    Блинова   \n",
       "\n",
       "     reg_date tariff  \n",
       "0  2018-05-25  ultra  \n",
       "1  2018-11-01  smart  \n",
       "2  2018-06-17  smart  \n",
       "3  2018-08-17  ultra  \n",
       "4  2018-05-14  ultra  \n",
       "5  2018-01-25  smart  \n",
       "6  2018-02-26  smart  \n",
       "7  2018-04-19  smart  \n",
       "8  2018-12-19  smart  \n",
       "9  2018-03-22  smart  "
      ]
     },
     "execution_count": 6,
     "metadata": {},
     "output_type": "execute_result"
    }
   ],
   "source": [
    "users= pd.read_csv('/datasets/users.csv')\n",
    "users.info()\n",
    "users.head(10)"
   ]
  },
  {
   "cell_type": "markdown",
   "metadata": {},
   "source": [
    "Таблица users (информация о пользователях):\n",
    "- user_id — уникальный идентификатор пользователя\n",
    "- first_name — имя пользователя\n",
    "- last_name — фамилия пользователя\n",
    "- age — возраст пользователя (годы)\n",
    "- reg_date — дата подключения тарифа (день, месяц, год)\n",
    "- churn_date — дата прекращения пользования тарифом (если значение пропущено, то тариф ещё действовал на момент выгрузки данных)\n",
    "- city — город проживания пользователя\n",
    "- tariff — название тарифного плана"
   ]
  },
  {
   "cell_type": "markdown",
   "metadata": {},
   "source": [
    "## Подготовка данных к анализу"
   ]
  },
  {
   "cell_type": "markdown",
   "metadata": {},
   "source": [
    "### Calls"
   ]
  },
  {
   "cell_type": "markdown",
   "metadata": {},
   "source": [
    "Поскольку перед нами стоит задача определить более популярный тариф, а тариф оплачивается  и предоставляется на месяц, нам нужно делать выборку по месяцам. Для этого нам нужно сгруппировать данные по месяцам. Добавим соответствующий столбец к таблице "
   ]
  },
  {
   "cell_type": "code",
   "execution_count": 7,
   "metadata": {},
   "outputs": [
    {
     "data": {
      "text/html": [
       "<div>\n",
       "<style scoped>\n",
       "    .dataframe tbody tr th:only-of-type {\n",
       "        vertical-align: middle;\n",
       "    }\n",
       "\n",
       "    .dataframe tbody tr th {\n",
       "        vertical-align: top;\n",
       "    }\n",
       "\n",
       "    .dataframe thead th {\n",
       "        text-align: right;\n",
       "    }\n",
       "</style>\n",
       "<table border=\"1\" class=\"dataframe\">\n",
       "  <thead>\n",
       "    <tr style=\"text-align: right;\">\n",
       "      <th></th>\n",
       "      <th>id</th>\n",
       "      <th>call_date</th>\n",
       "      <th>duration</th>\n",
       "      <th>user_id</th>\n",
       "      <th>month</th>\n",
       "    </tr>\n",
       "  </thead>\n",
       "  <tbody>\n",
       "    <tr>\n",
       "      <th>0</th>\n",
       "      <td>1000_0</td>\n",
       "      <td>2018-07-25</td>\n",
       "      <td>0.00</td>\n",
       "      <td>1000</td>\n",
       "      <td>7</td>\n",
       "    </tr>\n",
       "    <tr>\n",
       "      <th>1</th>\n",
       "      <td>1000_1</td>\n",
       "      <td>2018-08-17</td>\n",
       "      <td>0.00</td>\n",
       "      <td>1000</td>\n",
       "      <td>8</td>\n",
       "    </tr>\n",
       "    <tr>\n",
       "      <th>2</th>\n",
       "      <td>1000_2</td>\n",
       "      <td>2018-06-11</td>\n",
       "      <td>2.85</td>\n",
       "      <td>1000</td>\n",
       "      <td>6</td>\n",
       "    </tr>\n",
       "    <tr>\n",
       "      <th>3</th>\n",
       "      <td>1000_3</td>\n",
       "      <td>2018-09-21</td>\n",
       "      <td>13.80</td>\n",
       "      <td>1000</td>\n",
       "      <td>9</td>\n",
       "    </tr>\n",
       "    <tr>\n",
       "      <th>4</th>\n",
       "      <td>1000_4</td>\n",
       "      <td>2018-12-15</td>\n",
       "      <td>5.18</td>\n",
       "      <td>1000</td>\n",
       "      <td>12</td>\n",
       "    </tr>\n",
       "  </tbody>\n",
       "</table>\n",
       "</div>"
      ],
      "text/plain": [
       "       id   call_date  duration  user_id  month\n",
       "0  1000_0  2018-07-25      0.00     1000      7\n",
       "1  1000_1  2018-08-17      0.00     1000      8\n",
       "2  1000_2  2018-06-11      2.85     1000      6\n",
       "3  1000_3  2018-09-21     13.80     1000      9\n",
       "4  1000_4  2018-12-15      5.18     1000     12"
      ]
     },
     "execution_count": 7,
     "metadata": {},
     "output_type": "execute_result"
    }
   ],
   "source": [
    "calls['month'] = pd.DatetimeIndex(calls['call_date']).month\n",
    "calls.head()"
   ]
  },
  {
   "cell_type": "markdown",
   "metadata": {},
   "source": [
    "Звонки округляются в большую сторону, поэтому округлим продолжительность вызова и преобразуем в целочисленный формат"
   ]
  },
  {
   "cell_type": "code",
   "execution_count": 8,
   "metadata": {
    "scrolled": true
   },
   "outputs": [],
   "source": [
    "calls['duration'] = np.ceil(calls['duration']).astype('Int64') "
   ]
  },
  {
   "cell_type": "code",
   "execution_count": 9,
   "metadata": {
    "scrolled": true
   },
   "outputs": [
    {
     "name": "stdout",
     "output_type": "stream",
     "text": [
      "<class 'pandas.core.frame.DataFrame'>\n",
      "RangeIndex: 202607 entries, 0 to 202606\n",
      "Data columns (total 5 columns):\n",
      " #   Column     Non-Null Count   Dtype \n",
      "---  ------     --------------   ----- \n",
      " 0   id         202607 non-null  object\n",
      " 1   call_date  202607 non-null  object\n",
      " 2   duration   202607 non-null  Int64 \n",
      " 3   user_id    202607 non-null  int64 \n",
      " 4   month      202607 non-null  int64 \n",
      "dtypes: Int64(1), int64(2), object(2)\n",
      "memory usage: 7.9+ MB\n"
     ]
    },
    {
     "data": {
      "text/html": [
       "<div>\n",
       "<style scoped>\n",
       "    .dataframe tbody tr th:only-of-type {\n",
       "        vertical-align: middle;\n",
       "    }\n",
       "\n",
       "    .dataframe tbody tr th {\n",
       "        vertical-align: top;\n",
       "    }\n",
       "\n",
       "    .dataframe thead th {\n",
       "        text-align: right;\n",
       "    }\n",
       "</style>\n",
       "<table border=\"1\" class=\"dataframe\">\n",
       "  <thead>\n",
       "    <tr style=\"text-align: right;\">\n",
       "      <th></th>\n",
       "      <th>duration</th>\n",
       "      <th>user_id</th>\n",
       "      <th>month</th>\n",
       "    </tr>\n",
       "  </thead>\n",
       "  <tbody>\n",
       "    <tr>\n",
       "      <th>count</th>\n",
       "      <td>202607.000000</td>\n",
       "      <td>202607.000000</td>\n",
       "      <td>202607.000000</td>\n",
       "    </tr>\n",
       "    <tr>\n",
       "      <th>mean</th>\n",
       "      <td>7.158198</td>\n",
       "      <td>1253.940619</td>\n",
       "      <td>8.574067</td>\n",
       "    </tr>\n",
       "    <tr>\n",
       "      <th>std</th>\n",
       "      <td>5.959173</td>\n",
       "      <td>144.722751</td>\n",
       "      <td>2.787093</td>\n",
       "    </tr>\n",
       "    <tr>\n",
       "      <th>min</th>\n",
       "      <td>0.000000</td>\n",
       "      <td>1000.000000</td>\n",
       "      <td>1.000000</td>\n",
       "    </tr>\n",
       "    <tr>\n",
       "      <th>25%</th>\n",
       "      <td>2.000000</td>\n",
       "      <td>1126.000000</td>\n",
       "      <td>7.000000</td>\n",
       "    </tr>\n",
       "    <tr>\n",
       "      <th>50%</th>\n",
       "      <td>6.000000</td>\n",
       "      <td>1260.000000</td>\n",
       "      <td>9.000000</td>\n",
       "    </tr>\n",
       "    <tr>\n",
       "      <th>75%</th>\n",
       "      <td>11.000000</td>\n",
       "      <td>1379.000000</td>\n",
       "      <td>11.000000</td>\n",
       "    </tr>\n",
       "    <tr>\n",
       "      <th>max</th>\n",
       "      <td>38.000000</td>\n",
       "      <td>1499.000000</td>\n",
       "      <td>12.000000</td>\n",
       "    </tr>\n",
       "  </tbody>\n",
       "</table>\n",
       "</div>"
      ],
      "text/plain": [
       "            duration        user_id          month\n",
       "count  202607.000000  202607.000000  202607.000000\n",
       "mean        7.158198    1253.940619       8.574067\n",
       "std         5.959173     144.722751       2.787093\n",
       "min         0.000000    1000.000000       1.000000\n",
       "25%         2.000000    1126.000000       7.000000\n",
       "50%         6.000000    1260.000000       9.000000\n",
       "75%        11.000000    1379.000000      11.000000\n",
       "max        38.000000    1499.000000      12.000000"
      ]
     },
     "execution_count": 9,
     "metadata": {},
     "output_type": "execute_result"
    }
   ],
   "source": [
    "calls.info()\n",
    "calls.describe()"
   ]
  },
  {
   "cell_type": "markdown",
   "metadata": {},
   "source": [
    "Поменяем формат даты"
   ]
  },
  {
   "cell_type": "code",
   "execution_count": 10,
   "metadata": {},
   "outputs": [],
   "source": [
    "calls['call_date'] = pd.to_datetime(calls['call_date'], format='%Y-%m-%d')"
   ]
  },
  {
   "cell_type": "markdown",
   "metadata": {},
   "source": [
    "Для анализа достаточно будет 3 столбцов с данными"
   ]
  },
  {
   "cell_type": "code",
   "execution_count": 11,
   "metadata": {},
   "outputs": [],
   "source": [
    "calls = calls[['user_id', 'month', 'duration']]"
   ]
  },
  {
   "cell_type": "markdown",
   "metadata": {},
   "source": [
    "Сформируем таблицу с разбивкой по user_id, месяцам и посчитаем количество использованных в месяц минут."
   ]
  },
  {
   "cell_type": "code",
   "execution_count": 12,
   "metadata": {},
   "outputs": [
    {
     "data": {
      "text/html": [
       "<div>\n",
       "<style scoped>\n",
       "    .dataframe tbody tr th:only-of-type {\n",
       "        vertical-align: middle;\n",
       "    }\n",
       "\n",
       "    .dataframe tbody tr th {\n",
       "        vertical-align: top;\n",
       "    }\n",
       "\n",
       "    .dataframe thead th {\n",
       "        text-align: right;\n",
       "    }\n",
       "</style>\n",
       "<table border=\"1\" class=\"dataframe\">\n",
       "  <thead>\n",
       "    <tr style=\"text-align: right;\">\n",
       "      <th></th>\n",
       "      <th>user_id</th>\n",
       "      <th>month</th>\n",
       "      <th>minut_sum</th>\n",
       "    </tr>\n",
       "  </thead>\n",
       "  <tbody>\n",
       "    <tr>\n",
       "      <th>0</th>\n",
       "      <td>1000</td>\n",
       "      <td>5</td>\n",
       "      <td>159</td>\n",
       "    </tr>\n",
       "    <tr>\n",
       "      <th>1</th>\n",
       "      <td>1000</td>\n",
       "      <td>6</td>\n",
       "      <td>172</td>\n",
       "    </tr>\n",
       "    <tr>\n",
       "      <th>2</th>\n",
       "      <td>1000</td>\n",
       "      <td>7</td>\n",
       "      <td>340</td>\n",
       "    </tr>\n",
       "    <tr>\n",
       "      <th>3</th>\n",
       "      <td>1000</td>\n",
       "      <td>8</td>\n",
       "      <td>408</td>\n",
       "    </tr>\n",
       "    <tr>\n",
       "      <th>4</th>\n",
       "      <td>1000</td>\n",
       "      <td>9</td>\n",
       "      <td>466</td>\n",
       "    </tr>\n",
       "  </tbody>\n",
       "</table>\n",
       "</div>"
      ],
      "text/plain": [
       "   user_id  month  minut_sum\n",
       "0     1000      5        159\n",
       "1     1000      6        172\n",
       "2     1000      7        340\n",
       "3     1000      8        408\n",
       "4     1000      9        466"
      ]
     },
     "execution_count": 12,
     "metadata": {},
     "output_type": "execute_result"
    }
   ],
   "source": [
    "calls_pivot = calls.pivot_table(index=['user_id', 'month'], values='duration', aggfunc='sum').reset_index()\n",
    "calls_pivot = calls_pivot.rename(columns={'duration':'minut_sum'})\n",
    "calls_pivot.head()"
   ]
  },
  {
   "cell_type": "markdown",
   "metadata": {},
   "source": [
    "В итоге у нас получилась таблица из 3 столбцов с идентификатором пользователя, месяцем и количеством использованных в месяц минутах."
   ]
  },
  {
   "cell_type": "markdown",
   "metadata": {},
   "source": [
    "### Internet"
   ]
  },
  {
   "cell_type": "markdown",
   "metadata": {},
   "source": [
    "Добавим столбец с разбивкой по месяцам"
   ]
  },
  {
   "cell_type": "code",
   "execution_count": 13,
   "metadata": {},
   "outputs": [
    {
     "data": {
      "text/html": [
       "<div>\n",
       "<style scoped>\n",
       "    .dataframe tbody tr th:only-of-type {\n",
       "        vertical-align: middle;\n",
       "    }\n",
       "\n",
       "    .dataframe tbody tr th {\n",
       "        vertical-align: top;\n",
       "    }\n",
       "\n",
       "    .dataframe thead th {\n",
       "        text-align: right;\n",
       "    }\n",
       "</style>\n",
       "<table border=\"1\" class=\"dataframe\">\n",
       "  <thead>\n",
       "    <tr style=\"text-align: right;\">\n",
       "      <th></th>\n",
       "      <th>Unnamed: 0</th>\n",
       "      <th>id</th>\n",
       "      <th>mb_used</th>\n",
       "      <th>session_date</th>\n",
       "      <th>user_id</th>\n",
       "      <th>month</th>\n",
       "    </tr>\n",
       "  </thead>\n",
       "  <tbody>\n",
       "    <tr>\n",
       "      <th>0</th>\n",
       "      <td>0</td>\n",
       "      <td>1000_0</td>\n",
       "      <td>112.95</td>\n",
       "      <td>2018-11-25</td>\n",
       "      <td>1000</td>\n",
       "      <td>11</td>\n",
       "    </tr>\n",
       "    <tr>\n",
       "      <th>1</th>\n",
       "      <td>1</td>\n",
       "      <td>1000_1</td>\n",
       "      <td>1052.81</td>\n",
       "      <td>2018-09-07</td>\n",
       "      <td>1000</td>\n",
       "      <td>9</td>\n",
       "    </tr>\n",
       "    <tr>\n",
       "      <th>2</th>\n",
       "      <td>2</td>\n",
       "      <td>1000_2</td>\n",
       "      <td>1197.26</td>\n",
       "      <td>2018-06-25</td>\n",
       "      <td>1000</td>\n",
       "      <td>6</td>\n",
       "    </tr>\n",
       "    <tr>\n",
       "      <th>3</th>\n",
       "      <td>3</td>\n",
       "      <td>1000_3</td>\n",
       "      <td>550.27</td>\n",
       "      <td>2018-08-22</td>\n",
       "      <td>1000</td>\n",
       "      <td>8</td>\n",
       "    </tr>\n",
       "    <tr>\n",
       "      <th>4</th>\n",
       "      <td>4</td>\n",
       "      <td>1000_4</td>\n",
       "      <td>302.56</td>\n",
       "      <td>2018-09-24</td>\n",
       "      <td>1000</td>\n",
       "      <td>9</td>\n",
       "    </tr>\n",
       "    <tr>\n",
       "      <th>5</th>\n",
       "      <td>5</td>\n",
       "      <td>1000_5</td>\n",
       "      <td>399.97</td>\n",
       "      <td>2018-10-02</td>\n",
       "      <td>1000</td>\n",
       "      <td>10</td>\n",
       "    </tr>\n",
       "    <tr>\n",
       "      <th>6</th>\n",
       "      <td>6</td>\n",
       "      <td>1000_6</td>\n",
       "      <td>540.08</td>\n",
       "      <td>2018-09-07</td>\n",
       "      <td>1000</td>\n",
       "      <td>9</td>\n",
       "    </tr>\n",
       "    <tr>\n",
       "      <th>7</th>\n",
       "      <td>7</td>\n",
       "      <td>1000_7</td>\n",
       "      <td>415.70</td>\n",
       "      <td>2018-07-11</td>\n",
       "      <td>1000</td>\n",
       "      <td>7</td>\n",
       "    </tr>\n",
       "    <tr>\n",
       "      <th>8</th>\n",
       "      <td>8</td>\n",
       "      <td>1000_8</td>\n",
       "      <td>505.40</td>\n",
       "      <td>2018-10-08</td>\n",
       "      <td>1000</td>\n",
       "      <td>10</td>\n",
       "    </tr>\n",
       "    <tr>\n",
       "      <th>9</th>\n",
       "      <td>9</td>\n",
       "      <td>1000_9</td>\n",
       "      <td>345.54</td>\n",
       "      <td>2018-09-03</td>\n",
       "      <td>1000</td>\n",
       "      <td>9</td>\n",
       "    </tr>\n",
       "  </tbody>\n",
       "</table>\n",
       "</div>"
      ],
      "text/plain": [
       "   Unnamed: 0      id  mb_used session_date  user_id  month\n",
       "0           0  1000_0   112.95   2018-11-25     1000     11\n",
       "1           1  1000_1  1052.81   2018-09-07     1000      9\n",
       "2           2  1000_2  1197.26   2018-06-25     1000      6\n",
       "3           3  1000_3   550.27   2018-08-22     1000      8\n",
       "4           4  1000_4   302.56   2018-09-24     1000      9\n",
       "5           5  1000_5   399.97   2018-10-02     1000     10\n",
       "6           6  1000_6   540.08   2018-09-07     1000      9\n",
       "7           7  1000_7   415.70   2018-07-11     1000      7\n",
       "8           8  1000_8   505.40   2018-10-08     1000     10\n",
       "9           9  1000_9   345.54   2018-09-03     1000      9"
      ]
     },
     "execution_count": 13,
     "metadata": {},
     "output_type": "execute_result"
    }
   ],
   "source": [
    "internet['month'] = pd.DatetimeIndex(internet['session_date']).month\n",
    "internet.head(10)"
   ]
  },
  {
   "cell_type": "markdown",
   "metadata": {},
   "source": [
    "Проверим на наличие дубликатов"
   ]
  },
  {
   "cell_type": "code",
   "execution_count": 14,
   "metadata": {},
   "outputs": [
    {
     "data": {
      "text/plain": [
       "0"
      ]
     },
     "execution_count": 14,
     "metadata": {},
     "output_type": "execute_result"
    }
   ],
   "source": [
    "internet.duplicated().sum()"
   ]
  },
  {
   "cell_type": "markdown",
   "metadata": {},
   "source": [
    "Поменяем формат даты"
   ]
  },
  {
   "cell_type": "code",
   "execution_count": 15,
   "metadata": {},
   "outputs": [],
   "source": [
    "internet['session_date'] = pd.to_datetime(internet['session_date'], format='%Y-%m-%d')"
   ]
  },
  {
   "cell_type": "markdown",
   "metadata": {},
   "source": [
    "Уберем ненужные стобцы и посчитаем потраченные мегабайты за месяц"
   ]
  },
  {
   "cell_type": "code",
   "execution_count": 16,
   "metadata": {
    "scrolled": false
   },
   "outputs": [
    {
     "data": {
      "text/html": [
       "<div>\n",
       "<style scoped>\n",
       "    .dataframe tbody tr th:only-of-type {\n",
       "        vertical-align: middle;\n",
       "    }\n",
       "\n",
       "    .dataframe tbody tr th {\n",
       "        vertical-align: top;\n",
       "    }\n",
       "\n",
       "    .dataframe thead th {\n",
       "        text-align: right;\n",
       "    }\n",
       "</style>\n",
       "<table border=\"1\" class=\"dataframe\">\n",
       "  <thead>\n",
       "    <tr style=\"text-align: right;\">\n",
       "      <th></th>\n",
       "      <th>user_id</th>\n",
       "      <th>month</th>\n",
       "      <th>mb_used</th>\n",
       "    </tr>\n",
       "  </thead>\n",
       "  <tbody>\n",
       "    <tr>\n",
       "      <th>0</th>\n",
       "      <td>1000</td>\n",
       "      <td>5</td>\n",
       "      <td>2253.49</td>\n",
       "    </tr>\n",
       "    <tr>\n",
       "      <th>1</th>\n",
       "      <td>1000</td>\n",
       "      <td>6</td>\n",
       "      <td>23233.77</td>\n",
       "    </tr>\n",
       "    <tr>\n",
       "      <th>2</th>\n",
       "      <td>1000</td>\n",
       "      <td>7</td>\n",
       "      <td>14003.64</td>\n",
       "    </tr>\n",
       "    <tr>\n",
       "      <th>3</th>\n",
       "      <td>1000</td>\n",
       "      <td>8</td>\n",
       "      <td>14055.93</td>\n",
       "    </tr>\n",
       "    <tr>\n",
       "      <th>4</th>\n",
       "      <td>1000</td>\n",
       "      <td>9</td>\n",
       "      <td>14568.91</td>\n",
       "    </tr>\n",
       "  </tbody>\n",
       "</table>\n",
       "</div>"
      ],
      "text/plain": [
       "   user_id  month   mb_used\n",
       "0     1000      5   2253.49\n",
       "1     1000      6  23233.77\n",
       "2     1000      7  14003.64\n",
       "3     1000      8  14055.93\n",
       "4     1000      9  14568.91"
      ]
     },
     "execution_count": 16,
     "metadata": {},
     "output_type": "execute_result"
    }
   ],
   "source": [
    "internet = internet[['user_id', 'month', 'mb_used']]\n",
    "internet_pivot = internet.pivot_table(index=['user_id', 'month'], values = 'mb_used', aggfunc = 'sum').reset_index()\n",
    "internet_pivot.head()"
   ]
  },
  {
   "cell_type": "markdown",
   "metadata": {},
   "source": [
    "Переведем использованные мегабайты в гигабайты и округлим в большую сторону"
   ]
  },
  {
   "cell_type": "code",
   "execution_count": 17,
   "metadata": {},
   "outputs": [
    {
     "data": {
      "text/html": [
       "<div>\n",
       "<style scoped>\n",
       "    .dataframe tbody tr th:only-of-type {\n",
       "        vertical-align: middle;\n",
       "    }\n",
       "\n",
       "    .dataframe tbody tr th {\n",
       "        vertical-align: top;\n",
       "    }\n",
       "\n",
       "    .dataframe thead th {\n",
       "        text-align: right;\n",
       "    }\n",
       "</style>\n",
       "<table border=\"1\" class=\"dataframe\">\n",
       "  <thead>\n",
       "    <tr style=\"text-align: right;\">\n",
       "      <th></th>\n",
       "      <th>user_id</th>\n",
       "      <th>month</th>\n",
       "      <th>gb_used</th>\n",
       "    </tr>\n",
       "  </thead>\n",
       "  <tbody>\n",
       "    <tr>\n",
       "      <th>0</th>\n",
       "      <td>1000</td>\n",
       "      <td>5</td>\n",
       "      <td>3</td>\n",
       "    </tr>\n",
       "    <tr>\n",
       "      <th>1</th>\n",
       "      <td>1000</td>\n",
       "      <td>6</td>\n",
       "      <td>23</td>\n",
       "    </tr>\n",
       "    <tr>\n",
       "      <th>2</th>\n",
       "      <td>1000</td>\n",
       "      <td>7</td>\n",
       "      <td>14</td>\n",
       "    </tr>\n",
       "    <tr>\n",
       "      <th>3</th>\n",
       "      <td>1000</td>\n",
       "      <td>8</td>\n",
       "      <td>14</td>\n",
       "    </tr>\n",
       "    <tr>\n",
       "      <th>4</th>\n",
       "      <td>1000</td>\n",
       "      <td>9</td>\n",
       "      <td>15</td>\n",
       "    </tr>\n",
       "  </tbody>\n",
       "</table>\n",
       "</div>"
      ],
      "text/plain": [
       "   user_id  month  gb_used\n",
       "0     1000      5        3\n",
       "1     1000      6       23\n",
       "2     1000      7       14\n",
       "3     1000      8       14\n",
       "4     1000      9       15"
      ]
     },
     "execution_count": 17,
     "metadata": {},
     "output_type": "execute_result"
    }
   ],
   "source": [
    "internet_pivot['gb_used'] = internet_pivot['mb_used'] / 1024\n",
    "internet_pivot['gb_used'] = np.ceil(internet_pivot['gb_used']).astype('Int64')\n",
    "internet_pivot = internet_pivot[['user_id', 'month', 'gb_used']]\n",
    "internet_pivot.head()"
   ]
  },
  {
   "cell_type": "markdown",
   "metadata": {},
   "source": [
    "Так как у нас сумма потраченных Гигабайтов поменяем название столбца"
   ]
  },
  {
   "cell_type": "code",
   "execution_count": 18,
   "metadata": {},
   "outputs": [
    {
     "data": {
      "text/html": [
       "<div>\n",
       "<style scoped>\n",
       "    .dataframe tbody tr th:only-of-type {\n",
       "        vertical-align: middle;\n",
       "    }\n",
       "\n",
       "    .dataframe tbody tr th {\n",
       "        vertical-align: top;\n",
       "    }\n",
       "\n",
       "    .dataframe thead th {\n",
       "        text-align: right;\n",
       "    }\n",
       "</style>\n",
       "<table border=\"1\" class=\"dataframe\">\n",
       "  <thead>\n",
       "    <tr style=\"text-align: right;\">\n",
       "      <th></th>\n",
       "      <th>user_id</th>\n",
       "      <th>month</th>\n",
       "      <th>gb_sum</th>\n",
       "    </tr>\n",
       "  </thead>\n",
       "  <tbody>\n",
       "    <tr>\n",
       "      <th>0</th>\n",
       "      <td>1000</td>\n",
       "      <td>5</td>\n",
       "      <td>3</td>\n",
       "    </tr>\n",
       "    <tr>\n",
       "      <th>1</th>\n",
       "      <td>1000</td>\n",
       "      <td>6</td>\n",
       "      <td>23</td>\n",
       "    </tr>\n",
       "    <tr>\n",
       "      <th>2</th>\n",
       "      <td>1000</td>\n",
       "      <td>7</td>\n",
       "      <td>14</td>\n",
       "    </tr>\n",
       "    <tr>\n",
       "      <th>3</th>\n",
       "      <td>1000</td>\n",
       "      <td>8</td>\n",
       "      <td>14</td>\n",
       "    </tr>\n",
       "    <tr>\n",
       "      <th>4</th>\n",
       "      <td>1000</td>\n",
       "      <td>9</td>\n",
       "      <td>15</td>\n",
       "    </tr>\n",
       "  </tbody>\n",
       "</table>\n",
       "</div>"
      ],
      "text/plain": [
       "   user_id  month  gb_sum\n",
       "0     1000      5       3\n",
       "1     1000      6      23\n",
       "2     1000      7      14\n",
       "3     1000      8      14\n",
       "4     1000      9      15"
      ]
     },
     "execution_count": 18,
     "metadata": {},
     "output_type": "execute_result"
    }
   ],
   "source": [
    "internet_pivot = internet_pivot.rename(columns={'gb_used': 'gb_sum'})\n",
    "internet_pivot.head()"
   ]
  },
  {
   "cell_type": "markdown",
   "metadata": {},
   "source": [
    "В результате мы получили таблицу с информацией сколько гигабайт и в каком месяце потратил тот или иной пользователь"
   ]
  },
  {
   "cell_type": "markdown",
   "metadata": {},
   "source": [
    "### Messages"
   ]
  },
  {
   "cell_type": "markdown",
   "metadata": {},
   "source": [
    "Добавляем столбец с данными по месяцам"
   ]
  },
  {
   "cell_type": "code",
   "execution_count": 19,
   "metadata": {},
   "outputs": [
    {
     "data": {
      "text/html": [
       "<div>\n",
       "<style scoped>\n",
       "    .dataframe tbody tr th:only-of-type {\n",
       "        vertical-align: middle;\n",
       "    }\n",
       "\n",
       "    .dataframe tbody tr th {\n",
       "        vertical-align: top;\n",
       "    }\n",
       "\n",
       "    .dataframe thead th {\n",
       "        text-align: right;\n",
       "    }\n",
       "</style>\n",
       "<table border=\"1\" class=\"dataframe\">\n",
       "  <thead>\n",
       "    <tr style=\"text-align: right;\">\n",
       "      <th></th>\n",
       "      <th>id</th>\n",
       "      <th>message_date</th>\n",
       "      <th>user_id</th>\n",
       "      <th>month</th>\n",
       "    </tr>\n",
       "  </thead>\n",
       "  <tbody>\n",
       "    <tr>\n",
       "      <th>0</th>\n",
       "      <td>1000_0</td>\n",
       "      <td>2018-06-27</td>\n",
       "      <td>1000</td>\n",
       "      <td>6</td>\n",
       "    </tr>\n",
       "    <tr>\n",
       "      <th>1</th>\n",
       "      <td>1000_1</td>\n",
       "      <td>2018-10-08</td>\n",
       "      <td>1000</td>\n",
       "      <td>10</td>\n",
       "    </tr>\n",
       "    <tr>\n",
       "      <th>2</th>\n",
       "      <td>1000_2</td>\n",
       "      <td>2018-08-04</td>\n",
       "      <td>1000</td>\n",
       "      <td>8</td>\n",
       "    </tr>\n",
       "    <tr>\n",
       "      <th>3</th>\n",
       "      <td>1000_3</td>\n",
       "      <td>2018-06-16</td>\n",
       "      <td>1000</td>\n",
       "      <td>6</td>\n",
       "    </tr>\n",
       "    <tr>\n",
       "      <th>4</th>\n",
       "      <td>1000_4</td>\n",
       "      <td>2018-12-05</td>\n",
       "      <td>1000</td>\n",
       "      <td>12</td>\n",
       "    </tr>\n",
       "    <tr>\n",
       "      <th>5</th>\n",
       "      <td>1000_5</td>\n",
       "      <td>2018-06-20</td>\n",
       "      <td>1000</td>\n",
       "      <td>6</td>\n",
       "    </tr>\n",
       "    <tr>\n",
       "      <th>6</th>\n",
       "      <td>1000_6</td>\n",
       "      <td>2018-11-19</td>\n",
       "      <td>1000</td>\n",
       "      <td>11</td>\n",
       "    </tr>\n",
       "    <tr>\n",
       "      <th>7</th>\n",
       "      <td>1000_7</td>\n",
       "      <td>2018-10-29</td>\n",
       "      <td>1000</td>\n",
       "      <td>10</td>\n",
       "    </tr>\n",
       "    <tr>\n",
       "      <th>8</th>\n",
       "      <td>1000_8</td>\n",
       "      <td>2018-06-25</td>\n",
       "      <td>1000</td>\n",
       "      <td>6</td>\n",
       "    </tr>\n",
       "    <tr>\n",
       "      <th>9</th>\n",
       "      <td>1000_9</td>\n",
       "      <td>2018-12-18</td>\n",
       "      <td>1000</td>\n",
       "      <td>12</td>\n",
       "    </tr>\n",
       "  </tbody>\n",
       "</table>\n",
       "</div>"
      ],
      "text/plain": [
       "       id message_date  user_id  month\n",
       "0  1000_0   2018-06-27     1000      6\n",
       "1  1000_1   2018-10-08     1000     10\n",
       "2  1000_2   2018-08-04     1000      8\n",
       "3  1000_3   2018-06-16     1000      6\n",
       "4  1000_4   2018-12-05     1000     12\n",
       "5  1000_5   2018-06-20     1000      6\n",
       "6  1000_6   2018-11-19     1000     11\n",
       "7  1000_7   2018-10-29     1000     10\n",
       "8  1000_8   2018-06-25     1000      6\n",
       "9  1000_9   2018-12-18     1000     12"
      ]
     },
     "execution_count": 19,
     "metadata": {},
     "output_type": "execute_result"
    }
   ],
   "source": [
    "messages['month'] = pd.DatetimeIndex(messages['message_date']).month\n",
    "messages.head(10)"
   ]
  },
  {
   "cell_type": "markdown",
   "metadata": {},
   "source": [
    "Поменяем формат столбца с датами"
   ]
  },
  {
   "cell_type": "code",
   "execution_count": 20,
   "metadata": {},
   "outputs": [],
   "source": [
    "messages['message_date'] = pd.to_datetime(messages['message_date'], format='%Y-%m-%d')"
   ]
  },
  {
   "cell_type": "markdown",
   "metadata": {},
   "source": [
    "Сформируем таблицу"
   ]
  },
  {
   "cell_type": "code",
   "execution_count": 21,
   "metadata": {},
   "outputs": [
    {
     "data": {
      "text/html": [
       "<div>\n",
       "<style scoped>\n",
       "    .dataframe tbody tr th:only-of-type {\n",
       "        vertical-align: middle;\n",
       "    }\n",
       "\n",
       "    .dataframe tbody tr th {\n",
       "        vertical-align: top;\n",
       "    }\n",
       "\n",
       "    .dataframe thead th {\n",
       "        text-align: right;\n",
       "    }\n",
       "</style>\n",
       "<table border=\"1\" class=\"dataframe\">\n",
       "  <thead>\n",
       "    <tr style=\"text-align: right;\">\n",
       "      <th></th>\n",
       "      <th>user_id</th>\n",
       "      <th>month</th>\n",
       "      <th>message_date</th>\n",
       "    </tr>\n",
       "  </thead>\n",
       "  <tbody>\n",
       "    <tr>\n",
       "      <th>0</th>\n",
       "      <td>1000</td>\n",
       "      <td>5</td>\n",
       "      <td>22</td>\n",
       "    </tr>\n",
       "    <tr>\n",
       "      <th>1</th>\n",
       "      <td>1000</td>\n",
       "      <td>6</td>\n",
       "      <td>60</td>\n",
       "    </tr>\n",
       "    <tr>\n",
       "      <th>2</th>\n",
       "      <td>1000</td>\n",
       "      <td>7</td>\n",
       "      <td>75</td>\n",
       "    </tr>\n",
       "    <tr>\n",
       "      <th>3</th>\n",
       "      <td>1000</td>\n",
       "      <td>8</td>\n",
       "      <td>81</td>\n",
       "    </tr>\n",
       "    <tr>\n",
       "      <th>4</th>\n",
       "      <td>1000</td>\n",
       "      <td>9</td>\n",
       "      <td>57</td>\n",
       "    </tr>\n",
       "  </tbody>\n",
       "</table>\n",
       "</div>"
      ],
      "text/plain": [
       "   user_id  month  message_date\n",
       "0     1000      5            22\n",
       "1     1000      6            60\n",
       "2     1000      7            75\n",
       "3     1000      8            81\n",
       "4     1000      9            57"
      ]
     },
     "execution_count": 21,
     "metadata": {},
     "output_type": "execute_result"
    }
   ],
   "source": [
    "messages_pivot = messages.pivot_table(index=['user_id', 'month'], values = 'message_date', aggfunc='count').reset_index()\n",
    "messages_pivot.head()"
   ]
  },
  {
   "cell_type": "markdown",
   "metadata": {},
   "source": [
    "Переименуем последний столбец"
   ]
  },
  {
   "cell_type": "code",
   "execution_count": 22,
   "metadata": {},
   "outputs": [
    {
     "data": {
      "text/html": [
       "<div>\n",
       "<style scoped>\n",
       "    .dataframe tbody tr th:only-of-type {\n",
       "        vertical-align: middle;\n",
       "    }\n",
       "\n",
       "    .dataframe tbody tr th {\n",
       "        vertical-align: top;\n",
       "    }\n",
       "\n",
       "    .dataframe thead th {\n",
       "        text-align: right;\n",
       "    }\n",
       "</style>\n",
       "<table border=\"1\" class=\"dataframe\">\n",
       "  <thead>\n",
       "    <tr style=\"text-align: right;\">\n",
       "      <th></th>\n",
       "      <th>user_id</th>\n",
       "      <th>month</th>\n",
       "      <th>message_sum</th>\n",
       "    </tr>\n",
       "  </thead>\n",
       "  <tbody>\n",
       "    <tr>\n",
       "      <th>0</th>\n",
       "      <td>1000</td>\n",
       "      <td>5</td>\n",
       "      <td>22</td>\n",
       "    </tr>\n",
       "    <tr>\n",
       "      <th>1</th>\n",
       "      <td>1000</td>\n",
       "      <td>6</td>\n",
       "      <td>60</td>\n",
       "    </tr>\n",
       "    <tr>\n",
       "      <th>2</th>\n",
       "      <td>1000</td>\n",
       "      <td>7</td>\n",
       "      <td>75</td>\n",
       "    </tr>\n",
       "    <tr>\n",
       "      <th>3</th>\n",
       "      <td>1000</td>\n",
       "      <td>8</td>\n",
       "      <td>81</td>\n",
       "    </tr>\n",
       "    <tr>\n",
       "      <th>4</th>\n",
       "      <td>1000</td>\n",
       "      <td>9</td>\n",
       "      <td>57</td>\n",
       "    </tr>\n",
       "  </tbody>\n",
       "</table>\n",
       "</div>"
      ],
      "text/plain": [
       "   user_id  month  message_sum\n",
       "0     1000      5           22\n",
       "1     1000      6           60\n",
       "2     1000      7           75\n",
       "3     1000      8           81\n",
       "4     1000      9           57"
      ]
     },
     "execution_count": 22,
     "metadata": {},
     "output_type": "execute_result"
    }
   ],
   "source": [
    "messages_pivot = messages_pivot.rename(columns={'message_date':'message_sum'})\n",
    "messages_pivot.head()"
   ]
  },
  {
   "cell_type": "markdown",
   "metadata": {},
   "source": [
    "В результате получили таблицу с идентификатором пользователя, месяцем и количеством отправленных сообщений за месяц"
   ]
  },
  {
   "cell_type": "markdown",
   "metadata": {},
   "source": [
    "### Tariffs"
   ]
  },
  {
   "cell_type": "markdown",
   "metadata": {},
   "source": [
    "В данной таблицы представлена информация о тарифах. Для удобства поменяем предоставленный трафик с мегабайтов на гигабайты:"
   ]
  },
  {
   "cell_type": "code",
   "execution_count": 23,
   "metadata": {},
   "outputs": [
    {
     "data": {
      "text/html": [
       "<div>\n",
       "<style scoped>\n",
       "    .dataframe tbody tr th:only-of-type {\n",
       "        vertical-align: middle;\n",
       "    }\n",
       "\n",
       "    .dataframe tbody tr th {\n",
       "        vertical-align: top;\n",
       "    }\n",
       "\n",
       "    .dataframe thead th {\n",
       "        text-align: right;\n",
       "    }\n",
       "</style>\n",
       "<table border=\"1\" class=\"dataframe\">\n",
       "  <thead>\n",
       "    <tr style=\"text-align: right;\">\n",
       "      <th></th>\n",
       "      <th>tariff_name</th>\n",
       "      <th>messages_included</th>\n",
       "      <th>minutes_included</th>\n",
       "      <th>gb_included</th>\n",
       "      <th>rub_monthly_fee</th>\n",
       "      <th>rub_per_message</th>\n",
       "      <th>rub_per_minute</th>\n",
       "      <th>rub_per_gb</th>\n",
       "    </tr>\n",
       "  </thead>\n",
       "  <tbody>\n",
       "    <tr>\n",
       "      <th>0</th>\n",
       "      <td>smart</td>\n",
       "      <td>50</td>\n",
       "      <td>500</td>\n",
       "      <td>15</td>\n",
       "      <td>550</td>\n",
       "      <td>3</td>\n",
       "      <td>3</td>\n",
       "      <td>200</td>\n",
       "    </tr>\n",
       "    <tr>\n",
       "      <th>1</th>\n",
       "      <td>ultra</td>\n",
       "      <td>1000</td>\n",
       "      <td>3000</td>\n",
       "      <td>30</td>\n",
       "      <td>1950</td>\n",
       "      <td>1</td>\n",
       "      <td>1</td>\n",
       "      <td>150</td>\n",
       "    </tr>\n",
       "  </tbody>\n",
       "</table>\n",
       "</div>"
      ],
      "text/plain": [
       "  tariff_name  messages_included  minutes_included  gb_included  \\\n",
       "0       smart                 50               500           15   \n",
       "1       ultra               1000              3000           30   \n",
       "\n",
       "   rub_monthly_fee  rub_per_message  rub_per_minute  rub_per_gb  \n",
       "0              550                3               3         200  \n",
       "1             1950                1               1         150  "
      ]
     },
     "execution_count": 23,
     "metadata": {},
     "output_type": "execute_result"
    }
   ],
   "source": [
    "tariffs['gb_included'] = (tariffs['mb_per_month_included'] / 1024).astype('Int64')\n",
    "tariffs = tariffs[['tariff_name','messages_included', 'minutes_included', 'gb_included', 'rub_monthly_fee', 'rub_per_message', 'rub_per_minute', 'rub_per_gb']]\n",
    "tariffs"
   ]
  },
  {
   "cell_type": "markdown",
   "metadata": {},
   "source": [
    "### Users"
   ]
  },
  {
   "cell_type": "markdown",
   "metadata": {},
   "source": [
    "В столбце churn_date есть пропущенные значения, так как тарифом еще пользуются пользователи. Проверим на дубликаты"
   ]
  },
  {
   "cell_type": "code",
   "execution_count": 24,
   "metadata": {},
   "outputs": [
    {
     "data": {
      "text/plain": [
       "0"
      ]
     },
     "execution_count": 24,
     "metadata": {},
     "output_type": "execute_result"
    }
   ],
   "source": [
    "users.duplicated().sum()"
   ]
  },
  {
   "cell_type": "markdown",
   "metadata": {},
   "source": [
    "Оставим только необходимые для анализа столбцы"
   ]
  },
  {
   "cell_type": "code",
   "execution_count": 25,
   "metadata": {},
   "outputs": [
    {
     "data": {
      "text/html": [
       "<div>\n",
       "<style scoped>\n",
       "    .dataframe tbody tr th:only-of-type {\n",
       "        vertical-align: middle;\n",
       "    }\n",
       "\n",
       "    .dataframe tbody tr th {\n",
       "        vertical-align: top;\n",
       "    }\n",
       "\n",
       "    .dataframe thead th {\n",
       "        text-align: right;\n",
       "    }\n",
       "</style>\n",
       "<table border=\"1\" class=\"dataframe\">\n",
       "  <thead>\n",
       "    <tr style=\"text-align: right;\">\n",
       "      <th></th>\n",
       "      <th>user_id</th>\n",
       "      <th>tariff</th>\n",
       "      <th>city</th>\n",
       "    </tr>\n",
       "  </thead>\n",
       "  <tbody>\n",
       "    <tr>\n",
       "      <th>0</th>\n",
       "      <td>1000</td>\n",
       "      <td>ultra</td>\n",
       "      <td>Краснодар</td>\n",
       "    </tr>\n",
       "    <tr>\n",
       "      <th>1</th>\n",
       "      <td>1001</td>\n",
       "      <td>smart</td>\n",
       "      <td>Москва</td>\n",
       "    </tr>\n",
       "    <tr>\n",
       "      <th>2</th>\n",
       "      <td>1002</td>\n",
       "      <td>smart</td>\n",
       "      <td>Стерлитамак</td>\n",
       "    </tr>\n",
       "    <tr>\n",
       "      <th>3</th>\n",
       "      <td>1003</td>\n",
       "      <td>ultra</td>\n",
       "      <td>Москва</td>\n",
       "    </tr>\n",
       "    <tr>\n",
       "      <th>4</th>\n",
       "      <td>1004</td>\n",
       "      <td>ultra</td>\n",
       "      <td>Новокузнецк</td>\n",
       "    </tr>\n",
       "  </tbody>\n",
       "</table>\n",
       "</div>"
      ],
      "text/plain": [
       "   user_id tariff         city\n",
       "0     1000  ultra    Краснодар\n",
       "1     1001  smart       Москва\n",
       "2     1002  smart  Стерлитамак\n",
       "3     1003  ultra       Москва\n",
       "4     1004  ultra  Новокузнецк"
      ]
     },
     "execution_count": 25,
     "metadata": {},
     "output_type": "execute_result"
    }
   ],
   "source": [
    "users  = users[['user_id', 'tariff', 'city']]\n",
    "users.head()"
   ]
  },
  {
   "cell_type": "markdown",
   "metadata": {},
   "source": [
    "### Посчитаем выручку с каждого клиента"
   ]
  },
  {
   "cell_type": "markdown",
   "metadata": {},
   "source": [
    "Чтобы посчитать выручку с каждого клиента нам нужна полная информация о затраченых звонках, сообщениях и гигабайтах. Для этого нам необходимло собрать все данные в одну таблицу и назовем ее data. Для начала присоединим таблицу с данными по звонкам и таблицу с данными о затраченных гигабайтах:"
   ]
  },
  {
   "cell_type": "code",
   "execution_count": 26,
   "metadata": {},
   "outputs": [
    {
     "data": {
      "text/html": [
       "<div>\n",
       "<style scoped>\n",
       "    .dataframe tbody tr th:only-of-type {\n",
       "        vertical-align: middle;\n",
       "    }\n",
       "\n",
       "    .dataframe tbody tr th {\n",
       "        vertical-align: top;\n",
       "    }\n",
       "\n",
       "    .dataframe thead th {\n",
       "        text-align: right;\n",
       "    }\n",
       "</style>\n",
       "<table border=\"1\" class=\"dataframe\">\n",
       "  <thead>\n",
       "    <tr style=\"text-align: right;\">\n",
       "      <th></th>\n",
       "      <th>user_id</th>\n",
       "      <th>month</th>\n",
       "      <th>minut_sum</th>\n",
       "      <th>gb_sum</th>\n",
       "    </tr>\n",
       "  </thead>\n",
       "  <tbody>\n",
       "    <tr>\n",
       "      <th>0</th>\n",
       "      <td>1000</td>\n",
       "      <td>5</td>\n",
       "      <td>159</td>\n",
       "      <td>3</td>\n",
       "    </tr>\n",
       "    <tr>\n",
       "      <th>1</th>\n",
       "      <td>1000</td>\n",
       "      <td>6</td>\n",
       "      <td>172</td>\n",
       "      <td>23</td>\n",
       "    </tr>\n",
       "    <tr>\n",
       "      <th>2</th>\n",
       "      <td>1000</td>\n",
       "      <td>7</td>\n",
       "      <td>340</td>\n",
       "      <td>14</td>\n",
       "    </tr>\n",
       "    <tr>\n",
       "      <th>3</th>\n",
       "      <td>1000</td>\n",
       "      <td>8</td>\n",
       "      <td>408</td>\n",
       "      <td>14</td>\n",
       "    </tr>\n",
       "    <tr>\n",
       "      <th>4</th>\n",
       "      <td>1000</td>\n",
       "      <td>9</td>\n",
       "      <td>466</td>\n",
       "      <td>15</td>\n",
       "    </tr>\n",
       "  </tbody>\n",
       "</table>\n",
       "</div>"
      ],
      "text/plain": [
       "   user_id  month  minut_sum  gb_sum\n",
       "0     1000      5        159       3\n",
       "1     1000      6        172      23\n",
       "2     1000      7        340      14\n",
       "3     1000      8        408      14\n",
       "4     1000      9        466      15"
      ]
     },
     "execution_count": 26,
     "metadata": {},
     "output_type": "execute_result"
    }
   ],
   "source": [
    "data = calls_pivot.merge(internet_pivot, on = ['user_id', 'month'], how = 'outer')\n",
    "data.head()"
   ]
  },
  {
   "cell_type": "markdown",
   "metadata": {},
   "source": [
    "Далее прибавим к полученной таблице данные по сообщениям:"
   ]
  },
  {
   "cell_type": "code",
   "execution_count": 27,
   "metadata": {},
   "outputs": [
    {
     "data": {
      "text/html": [
       "<div>\n",
       "<style scoped>\n",
       "    .dataframe tbody tr th:only-of-type {\n",
       "        vertical-align: middle;\n",
       "    }\n",
       "\n",
       "    .dataframe tbody tr th {\n",
       "        vertical-align: top;\n",
       "    }\n",
       "\n",
       "    .dataframe thead th {\n",
       "        text-align: right;\n",
       "    }\n",
       "</style>\n",
       "<table border=\"1\" class=\"dataframe\">\n",
       "  <thead>\n",
       "    <tr style=\"text-align: right;\">\n",
       "      <th></th>\n",
       "      <th>user_id</th>\n",
       "      <th>month</th>\n",
       "      <th>minut_sum</th>\n",
       "      <th>gb_sum</th>\n",
       "      <th>message_sum</th>\n",
       "    </tr>\n",
       "  </thead>\n",
       "  <tbody>\n",
       "    <tr>\n",
       "      <th>0</th>\n",
       "      <td>1000</td>\n",
       "      <td>5</td>\n",
       "      <td>159</td>\n",
       "      <td>3</td>\n",
       "      <td>22.0</td>\n",
       "    </tr>\n",
       "    <tr>\n",
       "      <th>1</th>\n",
       "      <td>1000</td>\n",
       "      <td>6</td>\n",
       "      <td>172</td>\n",
       "      <td>23</td>\n",
       "      <td>60.0</td>\n",
       "    </tr>\n",
       "    <tr>\n",
       "      <th>2</th>\n",
       "      <td>1000</td>\n",
       "      <td>7</td>\n",
       "      <td>340</td>\n",
       "      <td>14</td>\n",
       "      <td>75.0</td>\n",
       "    </tr>\n",
       "    <tr>\n",
       "      <th>3</th>\n",
       "      <td>1000</td>\n",
       "      <td>8</td>\n",
       "      <td>408</td>\n",
       "      <td>14</td>\n",
       "      <td>81.0</td>\n",
       "    </tr>\n",
       "    <tr>\n",
       "      <th>4</th>\n",
       "      <td>1000</td>\n",
       "      <td>9</td>\n",
       "      <td>466</td>\n",
       "      <td>15</td>\n",
       "      <td>57.0</td>\n",
       "    </tr>\n",
       "  </tbody>\n",
       "</table>\n",
       "</div>"
      ],
      "text/plain": [
       "   user_id  month  minut_sum  gb_sum  message_sum\n",
       "0     1000      5        159       3         22.0\n",
       "1     1000      6        172      23         60.0\n",
       "2     1000      7        340      14         75.0\n",
       "3     1000      8        408      14         81.0\n",
       "4     1000      9        466      15         57.0"
      ]
     },
     "execution_count": 27,
     "metadata": {},
     "output_type": "execute_result"
    }
   ],
   "source": [
    "data = data.merge(messages_pivot, on = ['user_id', 'month'], how = 'outer')\n",
    "data.head()"
   ]
  },
  {
   "cell_type": "markdown",
   "metadata": {},
   "source": [
    "Затем данные о пользователях:"
   ]
  },
  {
   "cell_type": "code",
   "execution_count": 28,
   "metadata": {},
   "outputs": [
    {
     "name": "stdout",
     "output_type": "stream",
     "text": [
      "<class 'pandas.core.frame.DataFrame'>\n",
      "Int64Index: 3216 entries, 0 to 3215\n",
      "Data columns (total 7 columns):\n",
      " #   Column       Non-Null Count  Dtype  \n",
      "---  ------       --------------  -----  \n",
      " 0   user_id      3216 non-null   int64  \n",
      " 1   month        3214 non-null   float64\n",
      " 2   minut_sum    3174 non-null   Int64  \n",
      " 3   gb_sum       3203 non-null   Int64  \n",
      " 4   message_sum  2717 non-null   float64\n",
      " 5   tariff       3216 non-null   object \n",
      " 6   city         3216 non-null   object \n",
      "dtypes: Int64(2), float64(2), int64(1), object(2)\n",
      "memory usage: 207.3+ KB\n"
     ]
    },
    {
     "data": {
      "text/html": [
       "<div>\n",
       "<style scoped>\n",
       "    .dataframe tbody tr th:only-of-type {\n",
       "        vertical-align: middle;\n",
       "    }\n",
       "\n",
       "    .dataframe tbody tr th {\n",
       "        vertical-align: top;\n",
       "    }\n",
       "\n",
       "    .dataframe thead th {\n",
       "        text-align: right;\n",
       "    }\n",
       "</style>\n",
       "<table border=\"1\" class=\"dataframe\">\n",
       "  <thead>\n",
       "    <tr style=\"text-align: right;\">\n",
       "      <th></th>\n",
       "      <th>user_id</th>\n",
       "      <th>month</th>\n",
       "      <th>minut_sum</th>\n",
       "      <th>gb_sum</th>\n",
       "      <th>message_sum</th>\n",
       "      <th>tariff</th>\n",
       "      <th>city</th>\n",
       "    </tr>\n",
       "  </thead>\n",
       "  <tbody>\n",
       "    <tr>\n",
       "      <th>0</th>\n",
       "      <td>1000</td>\n",
       "      <td>5.0</td>\n",
       "      <td>159</td>\n",
       "      <td>3</td>\n",
       "      <td>22.0</td>\n",
       "      <td>ultra</td>\n",
       "      <td>Краснодар</td>\n",
       "    </tr>\n",
       "    <tr>\n",
       "      <th>1</th>\n",
       "      <td>1000</td>\n",
       "      <td>6.0</td>\n",
       "      <td>172</td>\n",
       "      <td>23</td>\n",
       "      <td>60.0</td>\n",
       "      <td>ultra</td>\n",
       "      <td>Краснодар</td>\n",
       "    </tr>\n",
       "    <tr>\n",
       "      <th>2</th>\n",
       "      <td>1000</td>\n",
       "      <td>7.0</td>\n",
       "      <td>340</td>\n",
       "      <td>14</td>\n",
       "      <td>75.0</td>\n",
       "      <td>ultra</td>\n",
       "      <td>Краснодар</td>\n",
       "    </tr>\n",
       "    <tr>\n",
       "      <th>3</th>\n",
       "      <td>1000</td>\n",
       "      <td>8.0</td>\n",
       "      <td>408</td>\n",
       "      <td>14</td>\n",
       "      <td>81.0</td>\n",
       "      <td>ultra</td>\n",
       "      <td>Краснодар</td>\n",
       "    </tr>\n",
       "    <tr>\n",
       "      <th>4</th>\n",
       "      <td>1000</td>\n",
       "      <td>9.0</td>\n",
       "      <td>466</td>\n",
       "      <td>15</td>\n",
       "      <td>57.0</td>\n",
       "      <td>ultra</td>\n",
       "      <td>Краснодар</td>\n",
       "    </tr>\n",
       "  </tbody>\n",
       "</table>\n",
       "</div>"
      ],
      "text/plain": [
       "   user_id  month  minut_sum  gb_sum  message_sum tariff       city\n",
       "0     1000    5.0        159       3         22.0  ultra  Краснодар\n",
       "1     1000    6.0        172      23         60.0  ultra  Краснодар\n",
       "2     1000    7.0        340      14         75.0  ultra  Краснодар\n",
       "3     1000    8.0        408      14         81.0  ultra  Краснодар\n",
       "4     1000    9.0        466      15         57.0  ultra  Краснодар"
      ]
     },
     "execution_count": 28,
     "metadata": {},
     "output_type": "execute_result"
    }
   ],
   "source": [
    "data = data.merge(users, on = ['user_id'], how = 'outer')\n",
    "data.info()\n",
    "data.head()"
   ]
  },
  {
   "cell_type": "markdown",
   "metadata": {},
   "source": [
    "Поменяем формат столбцов month и message_sum на целочисленный"
   ]
  },
  {
   "cell_type": "code",
   "execution_count": 29,
   "metadata": {},
   "outputs": [
    {
     "name": "stdout",
     "output_type": "stream",
     "text": [
      "<class 'pandas.core.frame.DataFrame'>\n",
      "Int64Index: 3216 entries, 0 to 3215\n",
      "Data columns (total 7 columns):\n",
      " #   Column       Non-Null Count  Dtype \n",
      "---  ------       --------------  ----- \n",
      " 0   user_id      3216 non-null   int64 \n",
      " 1   month        3214 non-null   Int64 \n",
      " 2   minut_sum    3174 non-null   Int64 \n",
      " 3   gb_sum       3203 non-null   Int64 \n",
      " 4   message_sum  2717 non-null   Int64 \n",
      " 5   tariff       3216 non-null   object\n",
      " 6   city         3216 non-null   object\n",
      "dtypes: Int64(4), int64(1), object(2)\n",
      "memory usage: 213.6+ KB\n"
     ]
    }
   ],
   "source": [
    "data['month'] = data['month'].astype('Int64')\n",
    "data['message_sum'] = data['message_sum'].astype('Int64')\n",
    "\n",
    "data.info()"
   ]
  },
  {
   "cell_type": "markdown",
   "metadata": {},
   "source": [
    "В таблице есть пропущенные значения. Заменим их на ноль"
   ]
  },
  {
   "cell_type": "code",
   "execution_count": 30,
   "metadata": {},
   "outputs": [],
   "source": [
    "data = data.fillna(\n",
    "    {\n",
    "        'message_sum':0,\n",
    "        'minut_sum':0,\n",
    "        'gb_sum':0,\n",
    "        'month':0,\n",
    "        }\n",
    ")"
   ]
  },
  {
   "cell_type": "code",
   "execution_count": 31,
   "metadata": {},
   "outputs": [
    {
     "name": "stdout",
     "output_type": "stream",
     "text": [
      "<class 'pandas.core.frame.DataFrame'>\n",
      "Int64Index: 3216 entries, 0 to 3215\n",
      "Data columns (total 7 columns):\n",
      " #   Column       Non-Null Count  Dtype \n",
      "---  ------       --------------  ----- \n",
      " 0   user_id      3216 non-null   int64 \n",
      " 1   month        3216 non-null   Int64 \n",
      " 2   minut_sum    3216 non-null   Int64 \n",
      " 3   gb_sum       3216 non-null   Int64 \n",
      " 4   message_sum  3216 non-null   Int64 \n",
      " 5   tariff       3216 non-null   object\n",
      " 6   city         3216 non-null   object\n",
      "dtypes: Int64(4), int64(1), object(2)\n",
      "memory usage: 213.6+ KB\n"
     ]
    }
   ],
   "source": [
    "data.info()"
   ]
  },
  {
   "cell_type": "markdown",
   "metadata": {},
   "source": [
    "Мы не можем использовать месяц 0 для статистики и так как у нас всего 2 таких месяца мы просто не возьмем их к нам в расчет!"
   ]
  },
  {
   "cell_type": "code",
   "execution_count": 32,
   "metadata": {},
   "outputs": [
    {
     "name": "stdout",
     "output_type": "stream",
     "text": [
      "<class 'pandas.core.frame.DataFrame'>\n",
      "Int64Index: 3214 entries, 0 to 3213\n",
      "Data columns (total 7 columns):\n",
      " #   Column       Non-Null Count  Dtype \n",
      "---  ------       --------------  ----- \n",
      " 0   user_id      3214 non-null   int64 \n",
      " 1   month        3214 non-null   Int64 \n",
      " 2   minut_sum    3214 non-null   Int64 \n",
      " 3   gb_sum       3214 non-null   Int64 \n",
      " 4   message_sum  3214 non-null   Int64 \n",
      " 5   tariff       3214 non-null   object\n",
      " 6   city         3214 non-null   object\n",
      "dtypes: Int64(4), int64(1), object(2)\n",
      "memory usage: 213.4+ KB\n"
     ]
    }
   ],
   "source": [
    "data = data.query('month > 0')\n",
    "data.info()"
   ]
  },
  {
   "cell_type": "markdown",
   "metadata": {},
   "source": [
    "После того, как мы собрали все необходимые данные, мы можем считать выручку с каждого клиента! Вспомним условия каждого тарифа: "
   ]
  },
  {
   "cell_type": "code",
   "execution_count": 33,
   "metadata": {},
   "outputs": [
    {
     "data": {
      "text/html": [
       "<div>\n",
       "<style scoped>\n",
       "    .dataframe tbody tr th:only-of-type {\n",
       "        vertical-align: middle;\n",
       "    }\n",
       "\n",
       "    .dataframe tbody tr th {\n",
       "        vertical-align: top;\n",
       "    }\n",
       "\n",
       "    .dataframe thead th {\n",
       "        text-align: right;\n",
       "    }\n",
       "</style>\n",
       "<table border=\"1\" class=\"dataframe\">\n",
       "  <thead>\n",
       "    <tr style=\"text-align: right;\">\n",
       "      <th></th>\n",
       "      <th>user_id</th>\n",
       "      <th>month</th>\n",
       "      <th>minut_sum</th>\n",
       "      <th>gb_sum</th>\n",
       "      <th>message_sum</th>\n",
       "      <th>tariff</th>\n",
       "      <th>city</th>\n",
       "    </tr>\n",
       "  </thead>\n",
       "  <tbody>\n",
       "    <tr>\n",
       "      <th>0</th>\n",
       "      <td>1000</td>\n",
       "      <td>5</td>\n",
       "      <td>159</td>\n",
       "      <td>3</td>\n",
       "      <td>22</td>\n",
       "      <td>ultra</td>\n",
       "      <td>Краснодар</td>\n",
       "    </tr>\n",
       "    <tr>\n",
       "      <th>1</th>\n",
       "      <td>1000</td>\n",
       "      <td>6</td>\n",
       "      <td>172</td>\n",
       "      <td>23</td>\n",
       "      <td>60</td>\n",
       "      <td>ultra</td>\n",
       "      <td>Краснодар</td>\n",
       "    </tr>\n",
       "    <tr>\n",
       "      <th>2</th>\n",
       "      <td>1000</td>\n",
       "      <td>7</td>\n",
       "      <td>340</td>\n",
       "      <td>14</td>\n",
       "      <td>75</td>\n",
       "      <td>ultra</td>\n",
       "      <td>Краснодар</td>\n",
       "    </tr>\n",
       "    <tr>\n",
       "      <th>3</th>\n",
       "      <td>1000</td>\n",
       "      <td>8</td>\n",
       "      <td>408</td>\n",
       "      <td>14</td>\n",
       "      <td>81</td>\n",
       "      <td>ultra</td>\n",
       "      <td>Краснодар</td>\n",
       "    </tr>\n",
       "    <tr>\n",
       "      <th>4</th>\n",
       "      <td>1000</td>\n",
       "      <td>9</td>\n",
       "      <td>466</td>\n",
       "      <td>15</td>\n",
       "      <td>57</td>\n",
       "      <td>ultra</td>\n",
       "      <td>Краснодар</td>\n",
       "    </tr>\n",
       "  </tbody>\n",
       "</table>\n",
       "</div>"
      ],
      "text/plain": [
       "   user_id  month  minut_sum  gb_sum  message_sum tariff       city\n",
       "0     1000      5        159       3           22  ultra  Краснодар\n",
       "1     1000      6        172      23           60  ultra  Краснодар\n",
       "2     1000      7        340      14           75  ultra  Краснодар\n",
       "3     1000      8        408      14           81  ultra  Краснодар\n",
       "4     1000      9        466      15           57  ultra  Краснодар"
      ]
     },
     "execution_count": 33,
     "metadata": {},
     "output_type": "execute_result"
    }
   ],
   "source": [
    "data.head()"
   ]
  },
  {
   "cell_type": "markdown",
   "metadata": {},
   "source": [
    "Для расчета напишем функцию, которая посчитает затраты сверх предоставленных лимитов и посчитает итоговую сумму "
   ]
  },
  {
   "cell_type": "code",
   "execution_count": 34,
   "metadata": {},
   "outputs": [
    {
     "data": {
      "text/html": [
       "<div>\n",
       "<style scoped>\n",
       "    .dataframe tbody tr th:only-of-type {\n",
       "        vertical-align: middle;\n",
       "    }\n",
       "\n",
       "    .dataframe tbody tr th {\n",
       "        vertical-align: top;\n",
       "    }\n",
       "\n",
       "    .dataframe thead th {\n",
       "        text-align: right;\n",
       "    }\n",
       "</style>\n",
       "<table border=\"1\" class=\"dataframe\">\n",
       "  <thead>\n",
       "    <tr style=\"text-align: right;\">\n",
       "      <th></th>\n",
       "      <th>user_id</th>\n",
       "      <th>month</th>\n",
       "      <th>minut_sum</th>\n",
       "      <th>gb_sum</th>\n",
       "      <th>message_sum</th>\n",
       "      <th>tariff</th>\n",
       "      <th>city</th>\n",
       "      <th>total_price</th>\n",
       "    </tr>\n",
       "  </thead>\n",
       "  <tbody>\n",
       "    <tr>\n",
       "      <th>0</th>\n",
       "      <td>1000</td>\n",
       "      <td>5</td>\n",
       "      <td>159</td>\n",
       "      <td>3</td>\n",
       "      <td>22</td>\n",
       "      <td>ultra</td>\n",
       "      <td>Краснодар</td>\n",
       "      <td>1950</td>\n",
       "    </tr>\n",
       "    <tr>\n",
       "      <th>1</th>\n",
       "      <td>1000</td>\n",
       "      <td>6</td>\n",
       "      <td>172</td>\n",
       "      <td>23</td>\n",
       "      <td>60</td>\n",
       "      <td>ultra</td>\n",
       "      <td>Краснодар</td>\n",
       "      <td>1950</td>\n",
       "    </tr>\n",
       "    <tr>\n",
       "      <th>2</th>\n",
       "      <td>1000</td>\n",
       "      <td>7</td>\n",
       "      <td>340</td>\n",
       "      <td>14</td>\n",
       "      <td>75</td>\n",
       "      <td>ultra</td>\n",
       "      <td>Краснодар</td>\n",
       "      <td>1950</td>\n",
       "    </tr>\n",
       "    <tr>\n",
       "      <th>3</th>\n",
       "      <td>1000</td>\n",
       "      <td>8</td>\n",
       "      <td>408</td>\n",
       "      <td>14</td>\n",
       "      <td>81</td>\n",
       "      <td>ultra</td>\n",
       "      <td>Краснодар</td>\n",
       "      <td>1950</td>\n",
       "    </tr>\n",
       "    <tr>\n",
       "      <th>4</th>\n",
       "      <td>1000</td>\n",
       "      <td>9</td>\n",
       "      <td>466</td>\n",
       "      <td>15</td>\n",
       "      <td>57</td>\n",
       "      <td>ultra</td>\n",
       "      <td>Краснодар</td>\n",
       "      <td>1950</td>\n",
       "    </tr>\n",
       "  </tbody>\n",
       "</table>\n",
       "</div>"
      ],
      "text/plain": [
       "   user_id  month  minut_sum  gb_sum  message_sum tariff       city  \\\n",
       "0     1000      5        159       3           22  ultra  Краснодар   \n",
       "1     1000      6        172      23           60  ultra  Краснодар   \n",
       "2     1000      7        340      14           75  ultra  Краснодар   \n",
       "3     1000      8        408      14           81  ultra  Краснодар   \n",
       "4     1000      9        466      15           57  ultra  Краснодар   \n",
       "\n",
       "   total_price  \n",
       "0         1950  \n",
       "1         1950  \n",
       "2         1950  \n",
       "3         1950  \n",
       "4         1950  "
      ]
     },
     "execution_count": 34,
     "metadata": {},
     "output_type": "execute_result"
    }
   ],
   "source": [
    "def price(df):\n",
    "    minut_sum = df['minut_sum']\n",
    "    message_sum = df['message_sum']\n",
    "    gb_sum = df['gb_sum']\n",
    "    tariff = df['tariff']\n",
    "    if tariff == 'smart':\n",
    "        if minut_sum > 500:\n",
    "            minut_price = (minut_sum - 500) * 3\n",
    "        else:\n",
    "            minut_price = 0\n",
    "        if message_sum > 50:\n",
    "            message_price = (message_sum - 50) *3\n",
    "        else:\n",
    "            message_price = 0\n",
    "        if gb_sum > 15:\n",
    "            gb_price = (gb_sum - 15) * 200\n",
    "        else:\n",
    "            gb_price = 0\n",
    "        return minut_price + message_price + gb_price + 550\n",
    "    if tariff == 'ultra':\n",
    "        if minut_sum > 3000:\n",
    "            minut_price = (minut_sum - 3000) * 1\n",
    "        else:\n",
    "            minut_price = 0\n",
    "        if message_sum > 1000:\n",
    "            message_price = (message_sum - 1000) * 1\n",
    "        else:\n",
    "            message_price = 0\n",
    "        if gb_sum > 30:\n",
    "            gb_price = (gb_sum - 30) * 150\n",
    "        else:\n",
    "            gb_price = 0\n",
    "        return minut_price + message_price + gb_price + 1950\n",
    "    \n",
    "data['total_price'] = data.apply(price, axis = 1)\n",
    "data.head()"
   ]
  },
  {
   "cell_type": "markdown",
   "metadata": {},
   "source": [
    "В итоге мы получили таблицу для анализа со всеми необходимыми данными"
   ]
  },
  {
   "cell_type": "markdown",
   "metadata": {},
   "source": [
    "## Анализ данных"
   ]
  },
  {
   "cell_type": "markdown",
   "metadata": {},
   "source": [
    "### Анализ тарифа 'ultra'"
   ]
  },
  {
   "cell_type": "markdown",
   "metadata": {},
   "source": [
    "Из подготовленной для анализа таблицы возьмем данные по тарифу 'ultra'"
   ]
  },
  {
   "cell_type": "code",
   "execution_count": 35,
   "metadata": {},
   "outputs": [
    {
     "data": {
      "text/html": [
       "<div>\n",
       "<style scoped>\n",
       "    .dataframe tbody tr th:only-of-type {\n",
       "        vertical-align: middle;\n",
       "    }\n",
       "\n",
       "    .dataframe tbody tr th {\n",
       "        vertical-align: top;\n",
       "    }\n",
       "\n",
       "    .dataframe thead th {\n",
       "        text-align: right;\n",
       "    }\n",
       "</style>\n",
       "<table border=\"1\" class=\"dataframe\">\n",
       "  <thead>\n",
       "    <tr style=\"text-align: right;\">\n",
       "      <th></th>\n",
       "      <th>user_id</th>\n",
       "      <th>month</th>\n",
       "      <th>minut_sum</th>\n",
       "      <th>gb_sum</th>\n",
       "      <th>message_sum</th>\n",
       "      <th>total_price</th>\n",
       "    </tr>\n",
       "  </thead>\n",
       "  <tbody>\n",
       "    <tr>\n",
       "      <th>count</th>\n",
       "      <td>985.000000</td>\n",
       "      <td>985.000000</td>\n",
       "      <td>985.000000</td>\n",
       "      <td>985.000000</td>\n",
       "      <td>985.000000</td>\n",
       "      <td>985.000000</td>\n",
       "    </tr>\n",
       "    <tr>\n",
       "      <th>mean</th>\n",
       "      <td>1263.094416</td>\n",
       "      <td>8.250761</td>\n",
       "      <td>526.623350</td>\n",
       "      <td>19.494416</td>\n",
       "      <td>49.363452</td>\n",
       "      <td>2070.152284</td>\n",
       "    </tr>\n",
       "    <tr>\n",
       "      <th>std</th>\n",
       "      <td>140.694908</td>\n",
       "      <td>2.871762</td>\n",
       "      <td>317.606098</td>\n",
       "      <td>9.853511</td>\n",
       "      <td>47.804457</td>\n",
       "      <td>376.187114</td>\n",
       "    </tr>\n",
       "    <tr>\n",
       "      <th>min</th>\n",
       "      <td>1000.000000</td>\n",
       "      <td>1.000000</td>\n",
       "      <td>0.000000</td>\n",
       "      <td>0.000000</td>\n",
       "      <td>0.000000</td>\n",
       "      <td>1950.000000</td>\n",
       "    </tr>\n",
       "    <tr>\n",
       "      <th>25%</th>\n",
       "      <td>1143.000000</td>\n",
       "      <td>6.000000</td>\n",
       "      <td>284.000000</td>\n",
       "      <td>12.000000</td>\n",
       "      <td>6.000000</td>\n",
       "      <td>1950.000000</td>\n",
       "    </tr>\n",
       "    <tr>\n",
       "      <th>50%</th>\n",
       "      <td>1277.000000</td>\n",
       "      <td>9.000000</td>\n",
       "      <td>518.000000</td>\n",
       "      <td>19.000000</td>\n",
       "      <td>38.000000</td>\n",
       "      <td>1950.000000</td>\n",
       "    </tr>\n",
       "    <tr>\n",
       "      <th>75%</th>\n",
       "      <td>1381.000000</td>\n",
       "      <td>11.000000</td>\n",
       "      <td>752.000000</td>\n",
       "      <td>27.000000</td>\n",
       "      <td>79.000000</td>\n",
       "      <td>1950.000000</td>\n",
       "    </tr>\n",
       "    <tr>\n",
       "      <th>max</th>\n",
       "      <td>1495.000000</td>\n",
       "      <td>12.000000</td>\n",
       "      <td>1673.000000</td>\n",
       "      <td>49.000000</td>\n",
       "      <td>224.000000</td>\n",
       "      <td>4800.000000</td>\n",
       "    </tr>\n",
       "  </tbody>\n",
       "</table>\n",
       "</div>"
      ],
      "text/plain": [
       "           user_id       month    minut_sum      gb_sum  message_sum  \\\n",
       "count   985.000000  985.000000   985.000000  985.000000   985.000000   \n",
       "mean   1263.094416    8.250761   526.623350   19.494416    49.363452   \n",
       "std     140.694908    2.871762   317.606098    9.853511    47.804457   \n",
       "min    1000.000000    1.000000     0.000000    0.000000     0.000000   \n",
       "25%    1143.000000    6.000000   284.000000   12.000000     6.000000   \n",
       "50%    1277.000000    9.000000   518.000000   19.000000    38.000000   \n",
       "75%    1381.000000   11.000000   752.000000   27.000000    79.000000   \n",
       "max    1495.000000   12.000000  1673.000000   49.000000   224.000000   \n",
       "\n",
       "       total_price  \n",
       "count   985.000000  \n",
       "mean   2070.152284  \n",
       "std     376.187114  \n",
       "min    1950.000000  \n",
       "25%    1950.000000  \n",
       "50%    1950.000000  \n",
       "75%    1950.000000  \n",
       "max    4800.000000  "
      ]
     },
     "execution_count": 35,
     "metadata": {},
     "output_type": "execute_result"
    }
   ],
   "source": [
    "data_ultra = data.query('tariff == \"ultra\"')\n",
    "data_ultra.describe()"
   ]
  },
  {
   "cell_type": "markdown",
   "metadata": {},
   "source": [
    "По полученным данным мы можем видеть, что максимальное количество минут не превышает установленный лимит. Та же самая ситуация с сообщениями. А вот предоставленных гигабайтов достаточно не всем пользователям. Посчитаем сколько пользователей превышает допустимый лимит"
   ]
  },
  {
   "cell_type": "code",
   "execution_count": 38,
   "metadata": {},
   "outputs": [
    {
     "data": {
      "text/plain": [
       "134"
      ]
     },
     "execution_count": 38,
     "metadata": {},
     "output_type": "execute_result"
    }
   ],
   "source": [
    "len(data_ultra[data_ultra['gb_sum']>30])"
   ]
  },
  {
   "cell_type": "code",
   "execution_count": 39,
   "metadata": {},
   "outputs": [
    {
     "data": {
      "text/plain": [
       "13.6"
      ]
     },
     "execution_count": 39,
     "metadata": {},
     "output_type": "execute_result"
    }
   ],
   "source": [
    "round((len(data_ultra[data_ultra['gb_sum']>30])/len(data_ultra)*100),2)"
   ]
  },
  {
   "cell_type": "markdown",
   "metadata": {},
   "source": [
    "Как мы видим из результата 14% пользователей превышают лимит по гигабайтам. \n",
    "Так как средний чек за пользование тарифом составляет 2070 рублей, минуты и сообщения не превышают допущеное значение, то напрашивается вывод, что пользователи переплачивают за использование гигабайтов сверх предоставленного лимита"
   ]
  },
  {
   "cell_type": "markdown",
   "metadata": {},
   "source": [
    "#### Анализ использованных минут тарифа 'ultra'"
   ]
  },
  {
   "cell_type": "code",
   "execution_count": 40,
   "metadata": {},
   "outputs": [
    {
     "name": "stdout",
     "output_type": "stream",
     "text": [
      "Дисперсия -  100873.63339730098\n",
      "Отклонение -  317.6060978591264\n",
      "Среднее -  526.6233502538071\n"
     ]
    }
   ],
   "source": [
    "variance = np.var(data_ultra['minut_sum'], ddof = 1)\n",
    "print(\"Дисперсия - \", variance)\n",
    "print('Отклонение - ', np.sqrt(variance))\n",
    "print('Среднее - ', data_ultra['minut_sum'].mean())"
   ]
  },
  {
   "cell_type": "code",
   "execution_count": 41,
   "metadata": {},
   "outputs": [
    {
     "data": {
      "image/png": "[encoded data removed]",
      "text/plain": [
       "<Figure size 432x288 with 1 Axes>"
      ]
     },
     "metadata": {
      "needs_background": "light"
     },
     "output_type": "display_data"
    }
   ],
   "source": [
    "warnings.filterwarnings(\"ignore\")\n",
    "sns.distplot(data_ultra['minut_sum'], hist=True, \n",
    "             bins=50, color = 'blue', hist_kws={'edgecolor':'black'}).set_title('Анализ использованных минут тарифа ultra')\n",
    "\n",
    "plt.xlabel(\"Кол-во минут в месяц\")\n",
    "plt.ylabel(\"Частота\");"
   ]
  },
  {
   "cell_type": "markdown",
   "metadata": {},
   "source": [
    "Лимит минут тарифа Ultra состаляет 3000 минут.\n",
    "\n",
    "Как мы видим из гистограммы большая часть пользователей тарифа используют меньше 1000 минут. Малая часть пользователей разговаривает больше 1000 минут в месяц"
   ]
  },
  {
   "cell_type": "markdown",
   "metadata": {},
   "source": [
    "#### Анализ отправленных сообщений тарифа 'ultra'"
   ]
  },
  {
   "cell_type": "code",
   "execution_count": 42,
   "metadata": {},
   "outputs": [
    {
     "name": "stdout",
     "output_type": "stream",
     "text": [
      "Дисперсия -  2285.2661425446736\n",
      "Отклонение -  47.804457350174715\n",
      "Среднее -  49.36345177664975\n"
     ]
    }
   ],
   "source": [
    "variance = np.var(data_ultra['message_sum'], ddof = 1)\n",
    "print(\"Дисперсия - \", variance)\n",
    "print('Отклонение - ', np.sqrt(variance))\n",
    "print('Среднее - ', data_ultra['message_sum'].mean())"
   ]
  },
  {
   "cell_type": "code",
   "execution_count": 43,
   "metadata": {},
   "outputs": [
    {
     "data": {
      "image/png": "[encoded data removed]",
      "text/plain": [
       "<Figure size 432x288 with 1 Axes>"
      ]
     },
     "metadata": {
      "needs_background": "light"
     },
     "output_type": "display_data"
    }
   ],
   "source": [
    "sns.distplot(data_ultra['message_sum'], hist=True, \n",
    "             bins=50, color = 'blue', hist_kws={'edgecolor':'black'}).set_title('Анализ отправленных сообщений тарифа ultra')\n",
    "\n",
    "plt.xlabel(\"Кол-во сообщений в месяц\")\n",
    "plt.ylabel(\"Частота\");"
   ]
  },
  {
   "cell_type": "markdown",
   "metadata": {},
   "source": [
    "Лимит сообщений тарифа Ultra состаляет 1000 сообщений\n",
    "\n",
    "Как мы видим из гистограммы пользователей мало интересуют сообщения. В нынешних реалиях пользователи зачастую используют соцсети для общения. На графике мы видим как будто бы выброс. Это объясняется тем, что 25% пользователей отправляют не больше 6 сообщений Распределение скошено влево"
   ]
  },
  {
   "cell_type": "markdown",
   "metadata": {},
   "source": [
    "#### Анализ использованного интернет трафика тарифа 'ultra'"
   ]
  },
  {
   "cell_type": "code",
   "execution_count": 44,
   "metadata": {},
   "outputs": [
    {
     "name": "stdout",
     "output_type": "stream",
     "text": [
      "Дисперсия -  97.09168626965459\n",
      "Отклонение -  9.853511367510293\n",
      "Среднее -  19.494416243654822\n"
     ]
    }
   ],
   "source": [
    "variance = np.var(data_ultra['gb_sum'], ddof = 1)\n",
    "print(\"Дисперсия - \", variance)\n",
    "print('Отклонение - ', np.sqrt(variance))\n",
    "print('Среднее - ', data_ultra['gb_sum'].mean())"
   ]
  },
  {
   "cell_type": "code",
   "execution_count": 45,
   "metadata": {},
   "outputs": [
    {
     "data": {
      "image/png": "[encoded data removed]",
      "text/plain": [
       "<Figure size 432x288 with 1 Axes>"
      ]
     },
     "metadata": {
      "needs_background": "light"
     },
     "output_type": "display_data"
    }
   ],
   "source": [
    "sns.distplot(data_ultra['gb_sum'], hist=True, \n",
    "             bins=20, color = 'blue', hist_kws={'edgecolor':'black'}).set_title('Анализ использованного интернет трафика тарифа ultra')\n",
    "\n",
    "plt.xlabel(\"Кол-во использованного интернет трафика в месяц\")\n",
    "plt.ylabel(\"Частота\");"
   ]
  },
  {
   "cell_type": "markdown",
   "metadata": {},
   "source": [
    "Лимит интернета тарифа Ultra состаляет 30 гигабайт\n",
    "\n",
    "Как мы видим из графика большая часть пользователей укладывается в лимит, но все же есть пользователи, которым не хватает 30 Гигабайт. Распределение нормальное. "
   ]
  },
  {
   "cell_type": "markdown",
   "metadata": {},
   "source": [
    "### Анализ тарифа 'smart'"
   ]
  },
  {
   "cell_type": "markdown",
   "metadata": {},
   "source": [
    "Также как и с тарифом ultra, извлечем данные по тарифу smart из подготовленной для анализа таблицы "
   ]
  },
  {
   "cell_type": "code",
   "execution_count": 46,
   "metadata": {
    "scrolled": true
   },
   "outputs": [
    {
     "data": {
      "text/html": [
       "<div>\n",
       "<style scoped>\n",
       "    .dataframe tbody tr th:only-of-type {\n",
       "        vertical-align: middle;\n",
       "    }\n",
       "\n",
       "    .dataframe tbody tr th {\n",
       "        vertical-align: top;\n",
       "    }\n",
       "\n",
       "    .dataframe thead th {\n",
       "        text-align: right;\n",
       "    }\n",
       "</style>\n",
       "<table border=\"1\" class=\"dataframe\">\n",
       "  <thead>\n",
       "    <tr style=\"text-align: right;\">\n",
       "      <th></th>\n",
       "      <th>user_id</th>\n",
       "      <th>month</th>\n",
       "      <th>minut_sum</th>\n",
       "      <th>gb_sum</th>\n",
       "      <th>message_sum</th>\n",
       "      <th>total_price</th>\n",
       "    </tr>\n",
       "  </thead>\n",
       "  <tbody>\n",
       "    <tr>\n",
       "      <th>count</th>\n",
       "      <td>2229.000000</td>\n",
       "      <td>2229.000000</td>\n",
       "      <td>2229.000000</td>\n",
       "      <td>2229.000000</td>\n",
       "      <td>2229.000000</td>\n",
       "      <td>2229.000000</td>\n",
       "    </tr>\n",
       "    <tr>\n",
       "      <th>mean</th>\n",
       "      <td>1246.506505</td>\n",
       "      <td>8.346792</td>\n",
       "      <td>417.934948</td>\n",
       "      <td>16.328847</td>\n",
       "      <td>33.384029</td>\n",
       "      <td>1289.973531</td>\n",
       "    </tr>\n",
       "    <tr>\n",
       "      <th>std</th>\n",
       "      <td>146.119496</td>\n",
       "      <td>2.920316</td>\n",
       "      <td>190.313730</td>\n",
       "      <td>5.747061</td>\n",
       "      <td>28.227876</td>\n",
       "      <td>818.404367</td>\n",
       "    </tr>\n",
       "    <tr>\n",
       "      <th>min</th>\n",
       "      <td>1001.000000</td>\n",
       "      <td>1.000000</td>\n",
       "      <td>0.000000</td>\n",
       "      <td>0.000000</td>\n",
       "      <td>0.000000</td>\n",
       "      <td>550.000000</td>\n",
       "    </tr>\n",
       "    <tr>\n",
       "      <th>25%</th>\n",
       "      <td>1121.000000</td>\n",
       "      <td>6.000000</td>\n",
       "      <td>282.000000</td>\n",
       "      <td>13.000000</td>\n",
       "      <td>10.000000</td>\n",
       "      <td>550.000000</td>\n",
       "    </tr>\n",
       "    <tr>\n",
       "      <th>50%</th>\n",
       "      <td>1239.000000</td>\n",
       "      <td>9.000000</td>\n",
       "      <td>422.000000</td>\n",
       "      <td>17.000000</td>\n",
       "      <td>28.000000</td>\n",
       "      <td>1023.000000</td>\n",
       "    </tr>\n",
       "    <tr>\n",
       "      <th>75%</th>\n",
       "      <td>1376.000000</td>\n",
       "      <td>11.000000</td>\n",
       "      <td>545.000000</td>\n",
       "      <td>20.000000</td>\n",
       "      <td>51.000000</td>\n",
       "      <td>1750.000000</td>\n",
       "    </tr>\n",
       "    <tr>\n",
       "      <th>max</th>\n",
       "      <td>1499.000000</td>\n",
       "      <td>12.000000</td>\n",
       "      <td>1435.000000</td>\n",
       "      <td>38.000000</td>\n",
       "      <td>143.000000</td>\n",
       "      <td>6770.000000</td>\n",
       "    </tr>\n",
       "  </tbody>\n",
       "</table>\n",
       "</div>"
      ],
      "text/plain": [
       "           user_id        month    minut_sum       gb_sum  message_sum  \\\n",
       "count  2229.000000  2229.000000  2229.000000  2229.000000  2229.000000   \n",
       "mean   1246.506505     8.346792   417.934948    16.328847    33.384029   \n",
       "std     146.119496     2.920316   190.313730     5.747061    28.227876   \n",
       "min    1001.000000     1.000000     0.000000     0.000000     0.000000   \n",
       "25%    1121.000000     6.000000   282.000000    13.000000    10.000000   \n",
       "50%    1239.000000     9.000000   422.000000    17.000000    28.000000   \n",
       "75%    1376.000000    11.000000   545.000000    20.000000    51.000000   \n",
       "max    1499.000000    12.000000  1435.000000    38.000000   143.000000   \n",
       "\n",
       "       total_price  \n",
       "count  2229.000000  \n",
       "mean   1289.973531  \n",
       "std     818.404367  \n",
       "min     550.000000  \n",
       "25%     550.000000  \n",
       "50%    1023.000000  \n",
       "75%    1750.000000  \n",
       "max    6770.000000  "
      ]
     },
     "execution_count": 46,
     "metadata": {},
     "output_type": "execute_result"
    }
   ],
   "source": [
    "data_smart = data.query('tariff == \"smart\"')\n",
    "data_smart.describe()"
   ]
  },
  {
   "cell_type": "markdown",
   "metadata": {},
   "source": [
    "Расчитаем в данном тарифе превышение лимита по интернету"
   ]
  },
  {
   "cell_type": "code",
   "execution_count": 47,
   "metadata": {},
   "outputs": [
    {
     "data": {
      "text/plain": [
       "1304"
      ]
     },
     "metadata": {},
     "output_type": "display_data"
    }
   ],
   "source": [
    "display((data_smart['gb_sum'] > 15).sum())"
   ]
  },
  {
   "cell_type": "markdown",
   "metadata": {},
   "source": [
    "Всего тарифом пользовались 2229 абонентов "
   ]
  },
  {
   "cell_type": "code",
   "execution_count": 48,
   "metadata": {},
   "outputs": [
    {
     "data": {
      "text/plain": [
       "58.5"
      ]
     },
     "execution_count": 48,
     "metadata": {},
     "output_type": "execute_result"
    }
   ],
   "source": [
    "round((len(data_smart[data_smart['gb_sum']>15])/len(data_smart)*100),2)"
   ]
  },
  {
   "cell_type": "markdown",
   "metadata": {},
   "source": [
    "Получается лимит превысили 58% пользователей тарифа"
   ]
  },
  {
   "cell_type": "markdown",
   "metadata": {},
   "source": [
    "Исходя из наших данных мы видим, что около 25% пользователей превышают лимит по сообщениям, больше 25% пользователей превышают лимит по минутам и 58% пользователей превышают лимит по пользованию интернета. Средний же платеж по тарифу превышает абонентскую плату на почти 2.5 раза!"
   ]
  },
  {
   "cell_type": "markdown",
   "metadata": {},
   "source": [
    "#### Анализ использованных минут тарифа 'smart'"
   ]
  },
  {
   "cell_type": "code",
   "execution_count": 49,
   "metadata": {},
   "outputs": [
    {
     "name": "stdout",
     "output_type": "stream",
     "text": [
      "Дисперсия -  36219.31578434428\n",
      "Отклонение -  190.31372988921288\n",
      "Среднее -  417.9349484073576\n"
     ]
    }
   ],
   "source": [
    "variance = np.var(data_smart['minut_sum'], ddof = 1)\n",
    "print(\"Дисперсия - \", variance)\n",
    "print('Отклонение - ', np.sqrt(variance))\n",
    "print('Среднее - ', data_smart['minut_sum'].mean())"
   ]
  },
  {
   "cell_type": "code",
   "execution_count": 50,
   "metadata": {},
   "outputs": [
    {
     "data": {
      "image/png": "[encoded data removed]",
      "text/plain": [
       "<Figure size 432x288 with 1 Axes>"
      ]
     },
     "metadata": {
      "needs_background": "light"
     },
     "output_type": "display_data"
    }
   ],
   "source": [
    "sns.distplot(data_smart['minut_sum'], hist=True, \n",
    "             bins=20, color = 'blue', hist_kws={'edgecolor':'black'}).set_title('Анализ использованных минут тарифа smart')\n",
    "\n",
    "plt.xlabel(\"Кол-во минут в месяц\")\n",
    "plt.ylabel(\"Частота\");"
   ]
  },
  {
   "cell_type": "markdown",
   "metadata": {},
   "source": [
    "Распределение нормальное. Среднее значение стремится к предоставленному лимиту. Но все же больше трети пользователей переплачивают за дополнительные минуты по тарифу"
   ]
  },
  {
   "cell_type": "markdown",
   "metadata": {},
   "source": [
    "#### Анализ отправленных сообщений тарифа 'smart'"
   ]
  },
  {
   "cell_type": "code",
   "execution_count": 51,
   "metadata": {},
   "outputs": [
    {
     "name": "stdout",
     "output_type": "stream",
     "text": [
      "Дисперсия -  796.8129584480083\n",
      "Отклонение -  28.22787555676141\n",
      "Среднее -  33.384028712427096\n"
     ]
    }
   ],
   "source": [
    "variance = np.var(data_smart['message_sum'], ddof = 1)\n",
    "print(\"Дисперсия - \", variance)\n",
    "print('Отклонение - ', np.sqrt(variance))\n",
    "print('Среднее - ', data_smart['message_sum'].mean())"
   ]
  },
  {
   "cell_type": "code",
   "execution_count": 52,
   "metadata": {},
   "outputs": [
    {
     "data": {
      "image/png": "[encoded data removed]",
      "text/plain": [
       "<Figure size 432x288 with 1 Axes>"
      ]
     },
     "metadata": {
      "needs_background": "light"
     },
     "output_type": "display_data"
    }
   ],
   "source": [
    "sns.distplot(data_smart['message_sum'], hist=True, \n",
    "             bins=20, color = 'blue', hist_kws={'edgecolor':'black'}).set_title('Анализ отправленных сообщений тарифа smart')\n",
    "\n",
    "plt.xlabel(\"Кол-во сообщений в месяц\")\n",
    "plt.ylabel(\"Частота\");"
   ]
  },
  {
   "cell_type": "markdown",
   "metadata": {},
   "source": [
    "Распределение скошено влево. Почти 75% пользователей укладывались в лимит"
   ]
  },
  {
   "cell_type": "markdown",
   "metadata": {},
   "source": [
    "#### Анализ использованного интернет трафика тарифа 'smart'"
   ]
  },
  {
   "cell_type": "code",
   "execution_count": 53,
   "metadata": {},
   "outputs": [
    {
     "name": "stdout",
     "output_type": "stream",
     "text": [
      "Дисперсия -  33.02870517811161\n",
      "Отклонение -  5.7470605685090534\n",
      "Среднее -  16.328847016599372\n"
     ]
    }
   ],
   "source": [
    "variance = np.var(data_smart['gb_sum'], ddof = 1)\n",
    "print(\"Дисперсия - \", variance)\n",
    "print('Отклонение - ', np.sqrt(variance))\n",
    "print('Среднее - ', data_smart['gb_sum'].mean())"
   ]
  },
  {
   "cell_type": "code",
   "execution_count": 54,
   "metadata": {},
   "outputs": [
    {
     "data": {
      "image/png": "[encoded data removed]",
      "text/plain": [
       "<Figure size 432x288 with 1 Axes>"
      ]
     },
     "metadata": {
      "needs_background": "light"
     },
     "output_type": "display_data"
    }
   ],
   "source": [
    "sns.distplot(data_smart['gb_sum'], hist=True, \n",
    "             bins=20, color = 'blue', hist_kws={'edgecolor':'black'}).set_title('Анализ использованного интернет трафика тарифа smart')\n",
    "\n",
    "plt.xlabel(\"Кол-во использованного интернет трафика в месяц\")\n",
    "plt.ylabel(\"Частота\");"
   ]
  },
  {
   "cell_type": "markdown",
   "metadata": {},
   "source": [
    "Распредеделение нормальное. Почему то пользователи тарифа smart пользуются интернетом активнее пользователей тарифа ultra.  Чуть больше 15% только укладываются в предоставленный лимит. "
   ]
  },
  {
   "cell_type": "markdown",
   "metadata": {},
   "source": [
    "## Проверка гипотез"
   ]
  },
  {
   "cell_type": "markdown",
   "metadata": {},
   "source": [
    "### Средняя выручка тарифов ultra и smart"
   ]
  },
  {
   "cell_type": "markdown",
   "metadata": {},
   "source": [
    "Средняя выручка по тарифам ultra и smart равны 3844 руб. и 6247 руб.\n",
    "\n",
    "Пусть нулевая гипотеза - средняя выручка пользователей тарифов «Ультра» и «Смарт» равны;\n",
    "\n",
    "альтернативная гипотеза - средняя выручка пользователей тарифов «Ультра» и «Смарт» различаются."
   ]
  },
  {
   "cell_type": "code",
   "execution_count": 55,
   "metadata": {},
   "outputs": [
    {
     "name": "stdout",
     "output_type": "stream",
     "text": [
      "p-значение: 4.2606313931076085e-250\n",
      "Отвергаем нулевую гипотезу\n"
     ]
    }
   ],
   "source": [
    "alpha = 0.05\n",
    "result = st.ttest_ind(data_ultra['total_price'], data_smart['total_price'], equal_var = False)\n",
    "print('p-значение:', result.pvalue)\n",
    "\n",
    "if result.pvalue < alpha:\n",
    "    print('Отвергаем нулевую гипотезу')\n",
    "else:\n",
    "    print('Не получилось отвергнуть нулевую гипотезу')"
   ]
  },
  {
   "cell_type": "markdown",
   "metadata": {},
   "source": [
    "Вероятность одинаковой средней выручки двух тарифов оказалась слишком мала! "
   ]
  },
  {
   "cell_type": "markdown",
   "metadata": {},
   "source": [
    "Статистический вывод: отвергаем нулевую гипотезу. добавим содержательный: Средние выручки тарифов Смарт и Ультра не равны."
   ]
  },
  {
   "cell_type": "markdown",
   "metadata": {},
   "source": [
    "### Средняя выручка по пользователям из Москвы и других регионов"
   ]
  },
  {
   "cell_type": "markdown",
   "metadata": {},
   "source": [
    "Пусть нулевая гипотеза - средняя выручка пользователей города Москва и других регионов равны;\n",
    "\n",
    "альтернативная гипотеза - средняя выручка пользователей города Москва и других регионов различаются."
   ]
  },
  {
   "cell_type": "markdown",
   "metadata": {},
   "source": [
    "Для проверки данных гипотез нам нужна группировка по городам"
   ]
  },
  {
   "cell_type": "code",
   "execution_count": 56,
   "metadata": {},
   "outputs": [
    {
     "data": {
      "text/html": [
       "<div>\n",
       "<style scoped>\n",
       "    .dataframe tbody tr th:only-of-type {\n",
       "        vertical-align: middle;\n",
       "    }\n",
       "\n",
       "    .dataframe tbody tr th {\n",
       "        vertical-align: top;\n",
       "    }\n",
       "\n",
       "    .dataframe thead th {\n",
       "        text-align: right;\n",
       "    }\n",
       "</style>\n",
       "<table border=\"1\" class=\"dataframe\">\n",
       "  <thead>\n",
       "    <tr style=\"text-align: right;\">\n",
       "      <th></th>\n",
       "      <th>user_id</th>\n",
       "      <th>month</th>\n",
       "      <th>minut_sum</th>\n",
       "      <th>gb_sum</th>\n",
       "      <th>message_sum</th>\n",
       "      <th>total_price</th>\n",
       "    </tr>\n",
       "  </thead>\n",
       "  <tbody>\n",
       "    <tr>\n",
       "      <th>count</th>\n",
       "      <td>611.000000</td>\n",
       "      <td>611.000000</td>\n",
       "      <td>611.000000</td>\n",
       "      <td>611.000000</td>\n",
       "      <td>611.000000</td>\n",
       "      <td>611.000000</td>\n",
       "    </tr>\n",
       "    <tr>\n",
       "      <th>mean</th>\n",
       "      <td>1268.872340</td>\n",
       "      <td>8.432079</td>\n",
       "      <td>469.150573</td>\n",
       "      <td>18.050736</td>\n",
       "      <td>37.877250</td>\n",
       "      <td>1546.713584</td>\n",
       "    </tr>\n",
       "    <tr>\n",
       "      <th>std</th>\n",
       "      <td>137.530432</td>\n",
       "      <td>2.888057</td>\n",
       "      <td>241.535044</td>\n",
       "      <td>7.645788</td>\n",
       "      <td>37.160304</td>\n",
       "      <td>752.088071</td>\n",
       "    </tr>\n",
       "    <tr>\n",
       "      <th>min</th>\n",
       "      <td>1001.000000</td>\n",
       "      <td>1.000000</td>\n",
       "      <td>0.000000</td>\n",
       "      <td>1.000000</td>\n",
       "      <td>0.000000</td>\n",
       "      <td>550.000000</td>\n",
       "    </tr>\n",
       "    <tr>\n",
       "      <th>25%</th>\n",
       "      <td>1171.000000</td>\n",
       "      <td>6.000000</td>\n",
       "      <td>304.000000</td>\n",
       "      <td>13.000000</td>\n",
       "      <td>6.500000</td>\n",
       "      <td>780.500000</td>\n",
       "    </tr>\n",
       "    <tr>\n",
       "      <th>50%</th>\n",
       "      <td>1291.000000</td>\n",
       "      <td>9.000000</td>\n",
       "      <td>453.000000</td>\n",
       "      <td>18.000000</td>\n",
       "      <td>29.000000</td>\n",
       "      <td>1750.000000</td>\n",
       "    </tr>\n",
       "    <tr>\n",
       "      <th>75%</th>\n",
       "      <td>1385.000000</td>\n",
       "      <td>11.000000</td>\n",
       "      <td>620.500000</td>\n",
       "      <td>22.000000</td>\n",
       "      <td>57.000000</td>\n",
       "      <td>1950.000000</td>\n",
       "    </tr>\n",
       "    <tr>\n",
       "      <th>max</th>\n",
       "      <td>1490.000000</td>\n",
       "      <td>12.000000</td>\n",
       "      <td>1321.000000</td>\n",
       "      <td>44.000000</td>\n",
       "      <td>191.000000</td>\n",
       "      <td>5321.000000</td>\n",
       "    </tr>\n",
       "  </tbody>\n",
       "</table>\n",
       "</div>"
      ],
      "text/plain": [
       "           user_id       month    minut_sum      gb_sum  message_sum  \\\n",
       "count   611.000000  611.000000   611.000000  611.000000   611.000000   \n",
       "mean   1268.872340    8.432079   469.150573   18.050736    37.877250   \n",
       "std     137.530432    2.888057   241.535044    7.645788    37.160304   \n",
       "min    1001.000000    1.000000     0.000000    1.000000     0.000000   \n",
       "25%    1171.000000    6.000000   304.000000   13.000000     6.500000   \n",
       "50%    1291.000000    9.000000   453.000000   18.000000    29.000000   \n",
       "75%    1385.000000   11.000000   620.500000   22.000000    57.000000   \n",
       "max    1490.000000   12.000000  1321.000000   44.000000   191.000000   \n",
       "\n",
       "       total_price  \n",
       "count   611.000000  \n",
       "mean   1546.713584  \n",
       "std     752.088071  \n",
       "min     550.000000  \n",
       "25%     780.500000  \n",
       "50%    1750.000000  \n",
       "75%    1950.000000  \n",
       "max    5321.000000  "
      ]
     },
     "execution_count": 56,
     "metadata": {},
     "output_type": "execute_result"
    }
   ],
   "source": [
    "data_msk = data.query('city == \"Москва\"')\n",
    "data_msk.describe()"
   ]
  },
  {
   "cell_type": "code",
   "execution_count": 57,
   "metadata": {},
   "outputs": [
    {
     "data": {
      "text/html": [
       "<div>\n",
       "<style scoped>\n",
       "    .dataframe tbody tr th:only-of-type {\n",
       "        vertical-align: middle;\n",
       "    }\n",
       "\n",
       "    .dataframe tbody tr th {\n",
       "        vertical-align: top;\n",
       "    }\n",
       "\n",
       "    .dataframe thead th {\n",
       "        text-align: right;\n",
       "    }\n",
       "</style>\n",
       "<table border=\"1\" class=\"dataframe\">\n",
       "  <thead>\n",
       "    <tr style=\"text-align: right;\">\n",
       "      <th></th>\n",
       "      <th>user_id</th>\n",
       "      <th>month</th>\n",
       "      <th>minut_sum</th>\n",
       "      <th>gb_sum</th>\n",
       "      <th>message_sum</th>\n",
       "      <th>total_price</th>\n",
       "    </tr>\n",
       "  </thead>\n",
       "  <tbody>\n",
       "    <tr>\n",
       "      <th>count</th>\n",
       "      <td>2603.000000</td>\n",
       "      <td>2603.000000</td>\n",
       "      <td>2603.000000</td>\n",
       "      <td>2603.000000</td>\n",
       "      <td>2603.000000</td>\n",
       "      <td>2603.000000</td>\n",
       "    </tr>\n",
       "    <tr>\n",
       "      <th>mean</th>\n",
       "      <td>1247.533615</td>\n",
       "      <td>8.290434</td>\n",
       "      <td>447.041875</td>\n",
       "      <td>17.122551</td>\n",
       "      <td>38.376104</td>\n",
       "      <td>1524.936227</td>\n",
       "    </tr>\n",
       "    <tr>\n",
       "      <th>std</th>\n",
       "      <td>146.011387</td>\n",
       "      <td>2.909368</td>\n",
       "      <td>241.852152</td>\n",
       "      <td>7.332184</td>\n",
       "      <td>35.913289</td>\n",
       "      <td>808.787752</td>\n",
       "    </tr>\n",
       "    <tr>\n",
       "      <th>min</th>\n",
       "      <td>1000.000000</td>\n",
       "      <td>1.000000</td>\n",
       "      <td>0.000000</td>\n",
       "      <td>0.000000</td>\n",
       "      <td>0.000000</td>\n",
       "      <td>550.000000</td>\n",
       "    </tr>\n",
       "    <tr>\n",
       "      <th>25%</th>\n",
       "      <td>1120.000000</td>\n",
       "      <td>6.000000</td>\n",
       "      <td>280.500000</td>\n",
       "      <td>13.000000</td>\n",
       "      <td>9.500000</td>\n",
       "      <td>750.000000</td>\n",
       "    </tr>\n",
       "    <tr>\n",
       "      <th>50%</th>\n",
       "      <td>1241.000000</td>\n",
       "      <td>9.000000</td>\n",
       "      <td>440.000000</td>\n",
       "      <td>17.000000</td>\n",
       "      <td>30.000000</td>\n",
       "      <td>1583.000000</td>\n",
       "    </tr>\n",
       "    <tr>\n",
       "      <th>75%</th>\n",
       "      <td>1377.000000</td>\n",
       "      <td>11.000000</td>\n",
       "      <td>584.000000</td>\n",
       "      <td>21.000000</td>\n",
       "      <td>57.000000</td>\n",
       "      <td>1950.000000</td>\n",
       "    </tr>\n",
       "    <tr>\n",
       "      <th>max</th>\n",
       "      <td>1499.000000</td>\n",
       "      <td>12.000000</td>\n",
       "      <td>1673.000000</td>\n",
       "      <td>49.000000</td>\n",
       "      <td>224.000000</td>\n",
       "      <td>6770.000000</td>\n",
       "    </tr>\n",
       "  </tbody>\n",
       "</table>\n",
       "</div>"
      ],
      "text/plain": [
       "           user_id        month    minut_sum       gb_sum  message_sum  \\\n",
       "count  2603.000000  2603.000000  2603.000000  2603.000000  2603.000000   \n",
       "mean   1247.533615     8.290434   447.041875    17.122551    38.376104   \n",
       "std     146.011387     2.909368   241.852152     7.332184    35.913289   \n",
       "min    1000.000000     1.000000     0.000000     0.000000     0.000000   \n",
       "25%    1120.000000     6.000000   280.500000    13.000000     9.500000   \n",
       "50%    1241.000000     9.000000   440.000000    17.000000    30.000000   \n",
       "75%    1377.000000    11.000000   584.000000    21.000000    57.000000   \n",
       "max    1499.000000    12.000000  1673.000000    49.000000   224.000000   \n",
       "\n",
       "       total_price  \n",
       "count  2603.000000  \n",
       "mean   1524.936227  \n",
       "std     808.787752  \n",
       "min     550.000000  \n",
       "25%     750.000000  \n",
       "50%    1583.000000  \n",
       "75%    1950.000000  \n",
       "max    6770.000000  "
      ]
     },
     "execution_count": 57,
     "metadata": {},
     "output_type": "execute_result"
    }
   ],
   "source": [
    "data_not_msk = data.query('city !=\"Москва\"')\n",
    "data_not_msk.describe()"
   ]
  },
  {
   "cell_type": "markdown",
   "metadata": {},
   "source": [
    "Средняя выручка по Москве и др.городам равны 1546 руб. и 1524 руб. На первый взгляд нулевая гипотеза имеет место. Посмотрим что скажет Питон!"
   ]
  },
  {
   "cell_type": "code",
   "execution_count": 58,
   "metadata": {
    "scrolled": true
   },
   "outputs": [
    {
     "name": "stdout",
     "output_type": "stream",
     "text": [
      "p-значение: 0.5440152911670224\n",
      "не получилось отвергнуть нулевую гипотезу\n"
     ]
    }
   ],
   "source": [
    "alpha = 0.05\n",
    "result = st.ttest_ind(data_msk['total_price'], data_not_msk['total_price'])\n",
    "print('p-значение:', result.pvalue)\n",
    "\n",
    "if result.pvalue < alpha:\n",
    "    print('Отвергаем нулевую гипотезу')\n",
    "else:\n",
    "    print('не получилось отвергнуть нулевую гипотезу')"
   ]
  },
  {
   "cell_type": "markdown",
   "metadata": {},
   "source": [
    "p-значение слишком большое, значит нулевая гипотеза однозначно верна! Вероятность неверного расчета ничтожно мала!"
   ]
  },
  {
   "cell_type": "markdown",
   "metadata": {},
   "source": [
    "# Общий вывод"
   ]
  },
  {
   "cell_type": "markdown",
   "metadata": {},
   "source": [
    "Были открыты предоставленные файлы с данными. При подготовке данных к анализу были переведены данные в удобные для анализа форматы, сгруппированы данные по месяцам и добавлены соответствующие столбцы в таблицы. Далее данные с разных файлов были собраны в одну таблицу. В процессе анализа данных были разобраны два тарифа smart и ultra по каждому из составляющих.  В smart входит 50 сообщений, 500 минут, 15 ГБ, абонентская плата – 550 руб. - В ultra входит 1000 сообщений, 3000 минут, 30 ГБ, абонентская плата – 1950 руб. \n",
    "\n",
    "По тарифу ultra:\n",
    "\n",
    "По полученным данным мы можем видеть, что максимальное количество минут не превышает установленный лимит. Та же самая ситуация с сообщениями. А вот предоставленных гигабайтов не достаточно почти 14% пользователей. Но доплата за дополнительный гигабайт в данном тарифе не так высока. Переплата абонентской платы за месяц пользования тарифом в среднем не большая\n",
    "\n",
    "По тарифу smart:\n",
    "\n",
    "Исходя из наших данных мы видим, что около 25% пользователей превышают лимит по сообщениям, больше 25% пользователей превышают лимит по минутам и 58% пользователей превышают лимит по пользованию интернета. Средний же платеж по тарифу превышает абонентскую плату на почти 2.5 раза! Превышение абонентской платы связано с высокой стоимостью дополнительных минут, сообщений и Гигабайтов относительно тарифа ultra.\n",
    "\n",
    "Подводя итоги мы можем смело заявить, что несмотря на процент переплаты по абонентской плате в двух тарифах, больше дохода в среднем приносит тариф ultra - 2070 рублей в среднем против 1290 рублей среднего дохода от тарифа smart. Пользователи обоих тарифов превышают лимит интернет трафика. Анализ тарифов и проверка гипотез показывает, что данные расчеты не случайные, а закономерные. Средняя выручка по Москве и средняя выручка по другим городам практически не отличается."
   ]
  }
 ],
 "metadata": {
  "ExecuteTimeLog": [
   {
    "duration": 46,
    "start_time": "2022-04-21T06:31:40.223Z"
   },
   {
    "duration": 398,
    "start_time": "2022-04-21T06:31:42.613Z"
   },
   {
    "duration": 964,
    "start_time": "2022-04-21T06:32:02.748Z"
   },
   {
    "duration": 43,
    "start_time": "2022-04-21T06:32:04.807Z"
   },
   {
    "duration": 9,
    "start_time": "2022-04-21T06:32:10.433Z"
   },
   {
    "duration": 165,
    "start_time": "2022-04-21T06:32:21.496Z"
   },
   {
    "duration": 43,
    "start_time": "2022-04-21T06:38:04.988Z"
   },
   {
    "duration": 12,
    "start_time": "2022-04-21T06:39:55.235Z"
   },
   {
    "duration": 29,
    "start_time": "2022-04-21T06:40:12.490Z"
   },
   {
    "duration": 9,
    "start_time": "2022-04-21T06:46:43.052Z"
   },
   {
    "duration": 10,
    "start_time": "2022-04-21T06:47:21.997Z"
   },
   {
    "duration": 83,
    "start_time": "2022-04-21T06:47:33.182Z"
   },
   {
    "duration": 140,
    "start_time": "2022-04-21T06:48:52.110Z"
   },
   {
    "duration": 138,
    "start_time": "2022-04-21T06:49:01.684Z"
   },
   {
    "duration": 10,
    "start_time": "2022-04-21T06:51:11.736Z"
   },
   {
    "duration": 43,
    "start_time": "2022-04-21T06:51:19.472Z"
   },
   {
    "duration": 92,
    "start_time": "2022-04-21T06:59:57.228Z"
   },
   {
    "duration": 38,
    "start_time": "2022-04-21T07:01:49.785Z"
   },
   {
    "duration": 73,
    "start_time": "2022-04-23T04:37:57.428Z"
   },
   {
    "duration": 1742,
    "start_time": "2022-04-23T04:38:14.050Z"
   },
   {
    "duration": 228,
    "start_time": "2022-04-23T04:38:15.795Z"
   },
   {
    "duration": 99,
    "start_time": "2022-04-23T04:38:16.025Z"
   },
   {
    "duration": 138,
    "start_time": "2022-04-23T04:38:16.127Z"
   },
   {
    "duration": 192,
    "start_time": "2022-04-23T04:38:16.267Z"
   },
   {
    "duration": 77,
    "start_time": "2022-04-23T04:38:16.462Z"
   },
   {
    "duration": 131,
    "start_time": "2022-04-23T04:38:16.541Z"
   },
   {
    "duration": 66,
    "start_time": "2022-04-23T04:38:16.675Z"
   },
   {
    "duration": 20,
    "start_time": "2022-04-23T04:38:16.744Z"
   },
   {
    "duration": 21,
    "start_time": "2022-04-23T04:38:30.059Z"
   },
   {
    "duration": 38,
    "start_time": "2022-04-23T04:39:48.946Z"
   },
   {
    "duration": 19,
    "start_time": "2022-04-23T04:45:22.643Z"
   },
   {
    "duration": 147,
    "start_time": "2022-04-23T05:02:01.455Z"
   },
   {
    "duration": 22,
    "start_time": "2022-04-23T05:02:10.060Z"
   },
   {
    "duration": 1570,
    "start_time": "2022-04-23T05:05:38.582Z"
   },
   {
    "duration": 222,
    "start_time": "2022-04-23T05:05:40.155Z"
   },
   {
    "duration": 83,
    "start_time": "2022-04-23T05:05:40.380Z"
   },
   {
    "duration": 141,
    "start_time": "2022-04-23T05:05:40.466Z"
   },
   {
    "duration": 194,
    "start_time": "2022-04-23T05:05:40.609Z"
   },
   {
    "duration": 69,
    "start_time": "2022-04-23T05:05:40.805Z"
   },
   {
    "duration": 112,
    "start_time": "2022-04-23T05:05:40.876Z"
   },
   {
    "duration": 133,
    "start_time": "2022-04-23T05:05:40.990Z"
   },
   {
    "duration": 54,
    "start_time": "2022-04-23T05:05:41.125Z"
   },
   {
    "duration": 21,
    "start_time": "2022-04-23T05:05:41.182Z"
   },
   {
    "duration": 30,
    "start_time": "2022-04-23T05:05:41.225Z"
   },
   {
    "duration": 20,
    "start_time": "2022-04-23T05:05:41.257Z"
   },
   {
    "duration": 1535,
    "start_time": "2022-04-23T05:14:56.055Z"
   },
   {
    "duration": 235,
    "start_time": "2022-04-23T05:14:57.592Z"
   },
   {
    "duration": 202,
    "start_time": "2022-04-23T05:14:57.829Z"
   },
   {
    "duration": 128,
    "start_time": "2022-04-23T05:14:58.034Z"
   },
   {
    "duration": 20,
    "start_time": "2022-04-23T05:14:58.164Z"
   },
   {
    "duration": 51,
    "start_time": "2022-04-23T05:14:58.186Z"
   },
   {
    "duration": 129,
    "start_time": "2022-04-23T05:14:58.239Z"
   },
   {
    "duration": 160,
    "start_time": "2022-04-23T05:14:58.370Z"
   },
   {
    "duration": 74,
    "start_time": "2022-04-23T05:14:58.532Z"
   },
   {
    "duration": 133,
    "start_time": "2022-04-23T05:14:58.627Z"
   },
   {
    "duration": 93,
    "start_time": "2022-04-23T05:14:58.763Z"
   },
   {
    "duration": 18,
    "start_time": "2022-04-23T05:14:58.859Z"
   },
   {
    "duration": 38,
    "start_time": "2022-04-23T05:27:00.883Z"
   },
   {
    "duration": 82,
    "start_time": "2022-04-23T05:27:26.935Z"
   },
   {
    "duration": 147,
    "start_time": "2022-04-23T05:46:13.854Z"
   },
   {
    "duration": 166,
    "start_time": "2022-04-23T05:46:31.712Z"
   },
   {
    "duration": 173,
    "start_time": "2022-04-23T05:46:39.540Z"
   },
   {
    "duration": 175,
    "start_time": "2022-04-23T05:47:05.684Z"
   },
   {
    "duration": 13,
    "start_time": "2022-04-23T05:55:26.345Z"
   },
   {
    "duration": 50,
    "start_time": "2022-04-23T05:55:38.625Z"
   },
   {
    "duration": 9,
    "start_time": "2022-04-23T05:57:58.632Z"
   },
   {
    "duration": 16,
    "start_time": "2022-04-23T05:58:08.550Z"
   },
   {
    "duration": 68,
    "start_time": "2022-04-23T06:20:34.075Z"
   },
   {
    "duration": 6,
    "start_time": "2022-04-23T06:21:08.019Z"
   },
   {
    "duration": 4,
    "start_time": "2022-04-23T06:29:41.443Z"
   },
   {
    "duration": 350,
    "start_time": "2022-04-23T06:29:44.913Z"
   },
   {
    "duration": 254,
    "start_time": "2022-04-23T06:29:54.186Z"
   },
   {
    "duration": 242,
    "start_time": "2022-04-23T06:30:11.774Z"
   },
   {
    "duration": 211,
    "start_time": "2022-04-23T06:30:31.584Z"
   },
   {
    "duration": 145,
    "start_time": "2022-04-23T06:30:44.149Z"
   },
   {
    "duration": 22,
    "start_time": "2022-04-23T06:30:52.613Z"
   },
   {
    "duration": 31,
    "start_time": "2022-04-23T06:31:05.501Z"
   },
   {
    "duration": 43,
    "start_time": "2022-04-23T06:31:18.147Z"
   },
   {
    "duration": 83,
    "start_time": "2022-04-23T06:32:04.882Z"
   },
   {
    "duration": 13,
    "start_time": "2022-04-23T06:32:07.336Z"
   },
   {
    "duration": 5,
    "start_time": "2022-04-23T06:33:06.944Z"
   },
   {
    "duration": 1527,
    "start_time": "2022-04-23T06:33:14.460Z"
   },
   {
    "duration": 261,
    "start_time": "2022-04-23T06:33:15.990Z"
   },
   {
    "duration": 231,
    "start_time": "2022-04-23T06:33:16.253Z"
   },
   {
    "duration": 148,
    "start_time": "2022-04-23T06:33:16.487Z"
   },
   {
    "duration": 30,
    "start_time": "2022-04-23T06:33:16.637Z"
   },
   {
    "duration": 42,
    "start_time": "2022-04-23T06:33:16.670Z"
   },
   {
    "duration": 78,
    "start_time": "2022-04-23T06:33:16.724Z"
   },
   {
    "duration": 166,
    "start_time": "2022-04-23T06:33:16.805Z"
   },
   {
    "duration": 0,
    "start_time": "2022-04-23T06:33:16.973Z"
   },
   {
    "duration": 0,
    "start_time": "2022-04-23T06:33:16.975Z"
   },
   {
    "duration": 0,
    "start_time": "2022-04-23T06:33:16.977Z"
   },
   {
    "duration": 0,
    "start_time": "2022-04-23T06:33:16.978Z"
   },
   {
    "duration": 0,
    "start_time": "2022-04-23T06:33:16.980Z"
   },
   {
    "duration": 0,
    "start_time": "2022-04-23T06:33:16.981Z"
   },
   {
    "duration": 0,
    "start_time": "2022-04-23T06:33:16.983Z"
   },
   {
    "duration": 0,
    "start_time": "2022-04-23T06:33:16.985Z"
   },
   {
    "duration": 11,
    "start_time": "2022-04-23T06:34:10.420Z"
   },
   {
    "duration": 1563,
    "start_time": "2022-04-23T06:34:19.509Z"
   },
   {
    "duration": 255,
    "start_time": "2022-04-23T06:34:21.075Z"
   },
   {
    "duration": 220,
    "start_time": "2022-04-23T06:34:21.332Z"
   },
   {
    "duration": 152,
    "start_time": "2022-04-23T06:34:21.556Z"
   },
   {
    "duration": 38,
    "start_time": "2022-04-23T06:34:21.711Z"
   },
   {
    "duration": 43,
    "start_time": "2022-04-23T06:34:21.752Z"
   },
   {
    "duration": 99,
    "start_time": "2022-04-23T06:34:21.797Z"
   },
   {
    "duration": 9,
    "start_time": "2022-04-23T06:34:21.899Z"
   },
   {
    "duration": 213,
    "start_time": "2022-04-23T06:34:21.925Z"
   },
   {
    "duration": 51,
    "start_time": "2022-04-23T06:34:22.142Z"
   },
   {
    "duration": 32,
    "start_time": "2022-04-23T06:34:22.195Z"
   },
   {
    "duration": 54,
    "start_time": "2022-04-23T06:34:22.229Z"
   },
   {
    "duration": 78,
    "start_time": "2022-04-23T06:34:22.285Z"
   },
   {
    "duration": 171,
    "start_time": "2022-04-23T06:34:22.366Z"
   },
   {
    "duration": 0,
    "start_time": "2022-04-23T06:34:22.540Z"
   },
   {
    "duration": 0,
    "start_time": "2022-04-23T06:34:22.542Z"
   },
   {
    "duration": 8,
    "start_time": "2022-04-23T06:34:34.484Z"
   },
   {
    "duration": 114,
    "start_time": "2022-04-23T06:35:36.406Z"
   },
   {
    "duration": 23,
    "start_time": "2022-04-23T06:36:49.359Z"
   },
   {
    "duration": 21,
    "start_time": "2022-04-23T07:14:54.254Z"
   },
   {
    "duration": 17,
    "start_time": "2022-04-23T07:17:25.338Z"
   },
   {
    "duration": 41,
    "start_time": "2022-04-23T07:20:20.965Z"
   },
   {
    "duration": 13,
    "start_time": "2022-04-23T07:22:51.616Z"
   },
   {
    "duration": 1806,
    "start_time": "2022-04-23T07:26:37.918Z"
   },
   {
    "duration": 61,
    "start_time": "2022-04-23T07:26:42.784Z"
   },
   {
    "duration": 8,
    "start_time": "2022-04-23T07:26:46.498Z"
   },
   {
    "duration": 55,
    "start_time": "2022-04-23T07:29:10.016Z"
   },
   {
    "duration": 47,
    "start_time": "2022-04-23T07:29:20.969Z"
   },
   {
    "duration": 1616,
    "start_time": "2022-04-23T07:30:34.784Z"
   },
   {
    "duration": 268,
    "start_time": "2022-04-23T07:30:36.402Z"
   },
   {
    "duration": 229,
    "start_time": "2022-04-23T07:30:36.673Z"
   },
   {
    "duration": 160,
    "start_time": "2022-04-23T07:30:36.905Z"
   },
   {
    "duration": 38,
    "start_time": "2022-04-23T07:30:37.068Z"
   },
   {
    "duration": 54,
    "start_time": "2022-04-23T07:30:37.108Z"
   },
   {
    "duration": 106,
    "start_time": "2022-04-23T07:30:37.164Z"
   },
   {
    "duration": 9,
    "start_time": "2022-04-23T07:30:37.272Z"
   },
   {
    "duration": 220,
    "start_time": "2022-04-23T07:30:37.284Z"
   },
   {
    "duration": 58,
    "start_time": "2022-04-23T07:30:37.508Z"
   },
   {
    "duration": 11,
    "start_time": "2022-04-23T07:30:37.569Z"
   },
   {
    "duration": 80,
    "start_time": "2022-04-23T07:30:37.582Z"
   },
   {
    "duration": 78,
    "start_time": "2022-04-23T07:30:37.665Z"
   },
   {
    "duration": 153,
    "start_time": "2022-04-23T07:30:37.745Z"
   },
   {
    "duration": 54,
    "start_time": "2022-04-23T07:30:37.900Z"
   },
   {
    "duration": 23,
    "start_time": "2022-04-23T07:30:37.956Z"
   },
   {
    "duration": 80,
    "start_time": "2022-04-23T07:30:37.981Z"
   },
   {
    "duration": 11,
    "start_time": "2022-04-23T07:30:38.064Z"
   },
   {
    "duration": 90,
    "start_time": "2022-04-23T07:30:38.078Z"
   },
   {
    "duration": 33,
    "start_time": "2022-04-23T07:30:38.170Z"
   },
   {
    "duration": 51,
    "start_time": "2022-04-23T07:30:38.206Z"
   },
   {
    "duration": 20,
    "start_time": "2022-04-23T07:30:38.259Z"
   },
   {
    "duration": 168,
    "start_time": "2022-04-23T07:32:33.521Z"
   },
   {
    "duration": 12,
    "start_time": "2022-04-23T07:32:42.696Z"
   },
   {
    "duration": 12,
    "start_time": "2022-04-23T07:32:55.675Z"
   },
   {
    "duration": 12,
    "start_time": "2022-04-23T07:33:10.481Z"
   },
   {
    "duration": 1582,
    "start_time": "2022-04-23T07:33:32.535Z"
   },
   {
    "duration": 277,
    "start_time": "2022-04-23T07:33:34.120Z"
   },
   {
    "duration": 250,
    "start_time": "2022-04-23T07:33:34.399Z"
   },
   {
    "duration": 157,
    "start_time": "2022-04-23T07:33:34.652Z"
   },
   {
    "duration": 35,
    "start_time": "2022-04-23T07:33:34.811Z"
   },
   {
    "duration": 41,
    "start_time": "2022-04-23T07:33:34.848Z"
   },
   {
    "duration": 99,
    "start_time": "2022-04-23T07:33:34.892Z"
   },
   {
    "duration": 9,
    "start_time": "2022-04-23T07:33:34.993Z"
   },
   {
    "duration": 238,
    "start_time": "2022-04-23T07:33:35.005Z"
   },
   {
    "duration": 52,
    "start_time": "2022-04-23T07:33:35.247Z"
   },
   {
    "duration": 30,
    "start_time": "2022-04-23T07:33:35.301Z"
   },
   {
    "duration": 63,
    "start_time": "2022-04-23T07:33:35.335Z"
   },
   {
    "duration": 77,
    "start_time": "2022-04-23T07:33:35.401Z"
   },
   {
    "duration": 171,
    "start_time": "2022-04-23T07:33:35.481Z"
   },
   {
    "duration": 41,
    "start_time": "2022-04-23T07:33:35.655Z"
   },
   {
    "duration": 117,
    "start_time": "2022-04-23T07:33:35.698Z"
   },
   {
    "duration": 70,
    "start_time": "2022-04-23T07:33:35.818Z"
   },
   {
    "duration": 14,
    "start_time": "2022-04-23T07:33:35.891Z"
   },
   {
    "duration": 72,
    "start_time": "2022-04-23T07:33:35.908Z"
   },
   {
    "duration": 49,
    "start_time": "2022-04-23T07:33:35.983Z"
   },
   {
    "duration": 38,
    "start_time": "2022-04-23T07:33:36.034Z"
   },
   {
    "duration": 10,
    "start_time": "2022-04-23T07:33:36.074Z"
   },
   {
    "duration": 52,
    "start_time": "2022-04-23T07:33:36.086Z"
   },
   {
    "duration": 10,
    "start_time": "2022-04-23T07:36:53.154Z"
   },
   {
    "duration": 12,
    "start_time": "2022-04-23T07:40:29.625Z"
   },
   {
    "duration": 1298,
    "start_time": "2022-04-26T04:34:26.224Z"
   },
   {
    "duration": 168,
    "start_time": "2022-04-26T04:34:27.524Z"
   },
   {
    "duration": 146,
    "start_time": "2022-04-26T04:34:27.693Z"
   },
   {
    "duration": 94,
    "start_time": "2022-04-26T04:34:27.847Z"
   },
   {
    "duration": 20,
    "start_time": "2022-04-26T04:34:27.947Z"
   },
   {
    "duration": 28,
    "start_time": "2022-04-26T04:34:27.968Z"
   },
   {
    "duration": 58,
    "start_time": "2022-04-26T04:34:27.998Z"
   },
   {
    "duration": 6,
    "start_time": "2022-04-26T04:34:28.058Z"
   },
   {
    "duration": 147,
    "start_time": "2022-04-26T04:34:28.065Z"
   },
   {
    "duration": 44,
    "start_time": "2022-04-26T04:34:28.214Z"
   },
   {
    "duration": 7,
    "start_time": "2022-04-26T04:34:28.260Z"
   },
   {
    "duration": 31,
    "start_time": "2022-04-26T04:34:28.268Z"
   },
   {
    "duration": 52,
    "start_time": "2022-04-26T04:34:28.301Z"
   },
   {
    "duration": 65,
    "start_time": "2022-04-26T04:34:28.354Z"
   },
   {
    "duration": 40,
    "start_time": "2022-04-26T04:34:28.421Z"
   },
   {
    "duration": 14,
    "start_time": "2022-04-26T04:34:28.462Z"
   },
   {
    "duration": 29,
    "start_time": "2022-04-26T04:34:28.478Z"
   },
   {
    "duration": 6,
    "start_time": "2022-04-26T04:34:28.508Z"
   },
   {
    "duration": 55,
    "start_time": "2022-04-26T04:34:28.516Z"
   },
   {
    "duration": 19,
    "start_time": "2022-04-26T04:34:28.572Z"
   },
   {
    "duration": 24,
    "start_time": "2022-04-26T04:34:28.592Z"
   },
   {
    "duration": 6,
    "start_time": "2022-04-26T04:34:28.618Z"
   },
   {
    "duration": 31,
    "start_time": "2022-04-26T04:34:28.625Z"
   },
   {
    "duration": 6,
    "start_time": "2022-04-26T04:34:28.658Z"
   },
   {
    "duration": 7,
    "start_time": "2022-04-26T04:34:28.665Z"
   },
   {
    "duration": 1097,
    "start_time": "2022-04-26T05:27:14.944Z"
   },
   {
    "duration": 168,
    "start_time": "2022-04-26T05:27:16.044Z"
   },
   {
    "duration": 164,
    "start_time": "2022-04-26T05:27:16.213Z"
   },
   {
    "duration": 105,
    "start_time": "2022-04-26T05:27:16.380Z"
   },
   {
    "duration": 21,
    "start_time": "2022-04-26T05:27:16.487Z"
   },
   {
    "duration": 42,
    "start_time": "2022-04-26T05:27:16.509Z"
   },
   {
    "duration": 54,
    "start_time": "2022-04-26T05:27:16.553Z"
   },
   {
    "duration": 7,
    "start_time": "2022-04-26T05:27:16.609Z"
   },
   {
    "duration": 167,
    "start_time": "2022-04-26T05:27:16.618Z"
   },
   {
    "duration": 33,
    "start_time": "2022-04-26T05:27:16.787Z"
   },
   {
    "duration": 8,
    "start_time": "2022-04-26T05:27:16.821Z"
   },
   {
    "duration": 32,
    "start_time": "2022-04-26T05:27:16.847Z"
   },
   {
    "duration": 43,
    "start_time": "2022-04-26T05:27:16.880Z"
   },
   {
    "duration": 83,
    "start_time": "2022-04-26T05:27:16.924Z"
   },
   {
    "duration": 38,
    "start_time": "2022-04-26T05:27:17.009Z"
   },
   {
    "duration": 15,
    "start_time": "2022-04-26T05:27:17.049Z"
   },
   {
    "duration": 31,
    "start_time": "2022-04-26T05:27:17.066Z"
   },
   {
    "duration": 7,
    "start_time": "2022-04-26T05:27:17.099Z"
   },
   {
    "duration": 57,
    "start_time": "2022-04-26T05:27:17.108Z"
   },
   {
    "duration": 19,
    "start_time": "2022-04-26T05:27:17.167Z"
   },
   {
    "duration": 129,
    "start_time": "2022-04-26T05:27:17.188Z"
   },
   {
    "duration": 0,
    "start_time": "2022-04-26T05:27:17.318Z"
   },
   {
    "duration": 0,
    "start_time": "2022-04-26T05:27:17.320Z"
   },
   {
    "duration": 0,
    "start_time": "2022-04-26T05:27:17.321Z"
   },
   {
    "duration": 0,
    "start_time": "2022-04-26T05:27:17.322Z"
   },
   {
    "duration": 24,
    "start_time": "2022-04-26T05:27:49.288Z"
   },
   {
    "duration": 1114,
    "start_time": "2022-04-26T05:28:01.417Z"
   },
   {
    "duration": 171,
    "start_time": "2022-04-26T05:28:02.533Z"
   },
   {
    "duration": 152,
    "start_time": "2022-04-26T05:28:02.708Z"
   },
   {
    "duration": 108,
    "start_time": "2022-04-26T05:28:02.862Z"
   },
   {
    "duration": 22,
    "start_time": "2022-04-26T05:28:02.972Z"
   },
   {
    "duration": 38,
    "start_time": "2022-04-26T05:28:02.996Z"
   },
   {
    "duration": 53,
    "start_time": "2022-04-26T05:28:03.035Z"
   },
   {
    "duration": 6,
    "start_time": "2022-04-26T05:28:03.089Z"
   },
   {
    "duration": 161,
    "start_time": "2022-04-26T05:28:03.097Z"
   },
   {
    "duration": 28,
    "start_time": "2022-04-26T05:28:03.260Z"
   },
   {
    "duration": 6,
    "start_time": "2022-04-26T05:28:03.290Z"
   },
   {
    "duration": 30,
    "start_time": "2022-04-26T05:28:03.298Z"
   },
   {
    "duration": 58,
    "start_time": "2022-04-26T05:28:03.329Z"
   },
   {
    "duration": 82,
    "start_time": "2022-04-26T05:28:03.388Z"
   },
   {
    "duration": 23,
    "start_time": "2022-04-26T05:28:03.472Z"
   },
   {
    "duration": 14,
    "start_time": "2022-04-26T05:28:03.496Z"
   },
   {
    "duration": 55,
    "start_time": "2022-04-26T05:28:03.512Z"
   },
   {
    "duration": 8,
    "start_time": "2022-04-26T05:28:03.568Z"
   },
   {
    "duration": 38,
    "start_time": "2022-04-26T05:28:03.577Z"
   },
   {
    "duration": 36,
    "start_time": "2022-04-26T05:28:03.616Z"
   },
   {
    "duration": 25,
    "start_time": "2022-04-26T05:28:03.653Z"
   },
   {
    "duration": 6,
    "start_time": "2022-04-26T05:28:03.680Z"
   },
   {
    "duration": 13,
    "start_time": "2022-04-26T05:28:03.687Z"
   },
   {
    "duration": 7,
    "start_time": "2022-04-26T05:28:03.701Z"
   },
   {
    "duration": 8,
    "start_time": "2022-04-26T05:28:03.709Z"
   },
   {
    "duration": 14,
    "start_time": "2022-04-26T05:37:54.232Z"
   },
   {
    "duration": 13,
    "start_time": "2022-04-26T05:42:14.119Z"
   },
   {
    "duration": 1089,
    "start_time": "2022-04-26T05:42:21.148Z"
   },
   {
    "duration": 193,
    "start_time": "2022-04-26T05:42:22.239Z"
   },
   {
    "duration": 146,
    "start_time": "2022-04-26T05:42:22.433Z"
   },
   {
    "duration": 100,
    "start_time": "2022-04-26T05:42:22.581Z"
   },
   {
    "duration": 21,
    "start_time": "2022-04-26T05:42:22.682Z"
   },
   {
    "duration": 33,
    "start_time": "2022-04-26T05:42:22.704Z"
   },
   {
    "duration": 52,
    "start_time": "2022-04-26T05:42:22.738Z"
   },
   {
    "duration": 6,
    "start_time": "2022-04-26T05:42:22.792Z"
   },
   {
    "duration": 165,
    "start_time": "2022-04-26T05:42:22.799Z"
   },
   {
    "duration": 28,
    "start_time": "2022-04-26T05:42:22.966Z"
   },
   {
    "duration": 6,
    "start_time": "2022-04-26T05:42:22.996Z"
   },
   {
    "duration": 46,
    "start_time": "2022-04-26T05:42:23.004Z"
   },
   {
    "duration": 40,
    "start_time": "2022-04-26T05:42:23.052Z"
   },
   {
    "duration": 86,
    "start_time": "2022-04-26T05:42:23.094Z"
   },
   {
    "duration": 22,
    "start_time": "2022-04-26T05:42:23.181Z"
   },
   {
    "duration": 14,
    "start_time": "2022-04-26T05:42:23.204Z"
   },
   {
    "duration": 47,
    "start_time": "2022-04-26T05:42:23.219Z"
   },
   {
    "duration": 7,
    "start_time": "2022-04-26T05:42:23.267Z"
   },
   {
    "duration": 36,
    "start_time": "2022-04-26T05:42:23.276Z"
   },
   {
    "duration": 38,
    "start_time": "2022-04-26T05:42:23.314Z"
   },
   {
    "duration": 25,
    "start_time": "2022-04-26T05:42:23.354Z"
   },
   {
    "duration": 6,
    "start_time": "2022-04-26T05:42:23.381Z"
   },
   {
    "duration": 13,
    "start_time": "2022-04-26T05:42:23.388Z"
   },
   {
    "duration": 7,
    "start_time": "2022-04-26T05:42:23.403Z"
   },
   {
    "duration": 8,
    "start_time": "2022-04-26T05:42:23.411Z"
   },
   {
    "duration": 40,
    "start_time": "2022-04-26T05:42:23.420Z"
   },
   {
    "duration": 100,
    "start_time": "2022-04-26T05:42:23.461Z"
   },
   {
    "duration": 0,
    "start_time": "2022-04-26T05:42:23.563Z"
   },
   {
    "duration": 13,
    "start_time": "2022-04-26T05:42:39.864Z"
   },
   {
    "duration": 14,
    "start_time": "2022-04-26T05:42:44.066Z"
   },
   {
    "duration": 14,
    "start_time": "2022-04-26T05:43:33.875Z"
   },
   {
    "duration": 22,
    "start_time": "2022-04-26T05:43:46.609Z"
   },
   {
    "duration": 16,
    "start_time": "2022-04-26T05:48:28.852Z"
   },
   {
    "duration": 16,
    "start_time": "2022-04-26T05:49:08.663Z"
   },
   {
    "duration": 10,
    "start_time": "2022-04-26T05:49:17.070Z"
   },
   {
    "duration": 1074,
    "start_time": "2022-04-26T05:49:45.458Z"
   },
   {
    "duration": 170,
    "start_time": "2022-04-26T05:49:46.534Z"
   },
   {
    "duration": 142,
    "start_time": "2022-04-26T05:49:46.706Z"
   },
   {
    "duration": 99,
    "start_time": "2022-04-26T05:49:46.850Z"
   },
   {
    "duration": 20,
    "start_time": "2022-04-26T05:49:46.951Z"
   },
   {
    "duration": 33,
    "start_time": "2022-04-26T05:49:46.972Z"
   },
   {
    "duration": 55,
    "start_time": "2022-04-26T05:49:47.007Z"
   },
   {
    "duration": 6,
    "start_time": "2022-04-26T05:49:47.064Z"
   },
   {
    "duration": 148,
    "start_time": "2022-04-26T05:49:47.072Z"
   },
   {
    "duration": 44,
    "start_time": "2022-04-26T05:49:47.223Z"
   },
   {
    "duration": 8,
    "start_time": "2022-04-26T05:49:47.268Z"
   },
   {
    "duration": 35,
    "start_time": "2022-04-26T05:49:47.277Z"
   },
   {
    "duration": 52,
    "start_time": "2022-04-26T05:49:47.314Z"
   },
   {
    "duration": 66,
    "start_time": "2022-04-26T05:49:47.368Z"
   },
   {
    "duration": 32,
    "start_time": "2022-04-26T05:49:47.436Z"
   },
   {
    "duration": 14,
    "start_time": "2022-04-26T05:49:47.470Z"
   },
   {
    "duration": 30,
    "start_time": "2022-04-26T05:49:47.486Z"
   },
   {
    "duration": 32,
    "start_time": "2022-04-26T05:49:47.517Z"
   },
   {
    "duration": 35,
    "start_time": "2022-04-26T05:49:47.551Z"
   },
   {
    "duration": 19,
    "start_time": "2022-04-26T05:49:47.588Z"
   },
   {
    "duration": 42,
    "start_time": "2022-04-26T05:49:47.608Z"
   },
   {
    "duration": 7,
    "start_time": "2022-04-26T05:49:47.652Z"
   },
   {
    "duration": 14,
    "start_time": "2022-04-26T05:49:47.660Z"
   },
   {
    "duration": 10,
    "start_time": "2022-04-26T05:49:47.676Z"
   },
   {
    "duration": 8,
    "start_time": "2022-04-26T05:49:47.687Z"
   },
   {
    "duration": 15,
    "start_time": "2022-04-26T05:49:47.696Z"
   },
   {
    "duration": 36,
    "start_time": "2022-04-26T05:49:47.712Z"
   },
   {
    "duration": 20,
    "start_time": "2022-04-26T05:49:47.751Z"
   },
   {
    "duration": 9,
    "start_time": "2022-04-26T05:49:47.773Z"
   },
   {
    "duration": 11,
    "start_time": "2022-04-26T05:50:30.548Z"
   },
   {
    "duration": 5,
    "start_time": "2022-04-26T05:52:26.437Z"
   },
   {
    "duration": 10,
    "start_time": "2022-04-26T05:52:27.540Z"
   },
   {
    "duration": 4,
    "start_time": "2022-04-26T05:53:03.393Z"
   },
   {
    "duration": 11,
    "start_time": "2022-04-26T05:53:05.316Z"
   },
   {
    "duration": 5,
    "start_time": "2022-04-26T05:53:14.961Z"
   },
   {
    "duration": 11,
    "start_time": "2022-04-26T05:53:15.904Z"
   },
   {
    "duration": 12,
    "start_time": "2022-04-26T05:54:00.661Z"
   },
   {
    "duration": 4,
    "start_time": "2022-04-26T05:54:03.474Z"
   },
   {
    "duration": 10,
    "start_time": "2022-04-26T05:54:05.319Z"
   },
   {
    "duration": 11,
    "start_time": "2022-04-26T05:56:10.381Z"
   },
   {
    "duration": 8,
    "start_time": "2022-04-26T05:58:00.916Z"
   },
   {
    "duration": 9,
    "start_time": "2022-04-26T06:03:57.722Z"
   },
   {
    "duration": 10,
    "start_time": "2022-04-26T06:08:07.934Z"
   },
   {
    "duration": 1110,
    "start_time": "2022-04-26T06:09:08.370Z"
   },
   {
    "duration": 174,
    "start_time": "2022-04-26T06:09:09.482Z"
   },
   {
    "duration": 153,
    "start_time": "2022-04-26T06:09:09.658Z"
   },
   {
    "duration": 106,
    "start_time": "2022-04-26T06:09:09.813Z"
   },
   {
    "duration": 21,
    "start_time": "2022-04-26T06:09:09.921Z"
   },
   {
    "duration": 34,
    "start_time": "2022-04-26T06:09:09.946Z"
   },
   {
    "duration": 53,
    "start_time": "2022-04-26T06:09:09.982Z"
   },
   {
    "duration": 11,
    "start_time": "2022-04-26T06:09:10.037Z"
   },
   {
    "duration": 147,
    "start_time": "2022-04-26T06:09:10.050Z"
   },
   {
    "duration": 31,
    "start_time": "2022-04-26T06:09:10.200Z"
   },
   {
    "duration": 15,
    "start_time": "2022-04-26T06:09:10.233Z"
   },
   {
    "duration": 32,
    "start_time": "2022-04-26T06:09:10.250Z"
   },
   {
    "duration": 40,
    "start_time": "2022-04-26T06:09:10.284Z"
   },
   {
    "duration": 82,
    "start_time": "2022-04-26T06:09:10.326Z"
   },
   {
    "duration": 38,
    "start_time": "2022-04-26T06:09:10.409Z"
   },
   {
    "duration": 14,
    "start_time": "2022-04-26T06:09:10.449Z"
   },
   {
    "duration": 30,
    "start_time": "2022-04-26T06:09:10.465Z"
   },
   {
    "duration": 7,
    "start_time": "2022-04-26T06:09:10.496Z"
   },
   {
    "duration": 59,
    "start_time": "2022-04-26T06:09:10.505Z"
   },
   {
    "duration": 19,
    "start_time": "2022-04-26T06:09:10.565Z"
   },
   {
    "duration": 25,
    "start_time": "2022-04-26T06:09:10.585Z"
   },
   {
    "duration": 7,
    "start_time": "2022-04-26T06:09:10.611Z"
   },
   {
    "duration": 31,
    "start_time": "2022-04-26T06:09:10.619Z"
   },
   {
    "duration": 13,
    "start_time": "2022-04-26T06:09:10.651Z"
   },
   {
    "duration": 8,
    "start_time": "2022-04-26T06:09:10.665Z"
   },
   {
    "duration": 8,
    "start_time": "2022-04-26T06:09:10.674Z"
   },
   {
    "duration": 15,
    "start_time": "2022-04-26T06:09:10.683Z"
   },
   {
    "duration": 11,
    "start_time": "2022-04-26T06:09:10.701Z"
   },
   {
    "duration": 52,
    "start_time": "2022-04-26T06:09:10.714Z"
   },
   {
    "duration": 108,
    "start_time": "2022-04-26T06:09:10.768Z"
   },
   {
    "duration": 0,
    "start_time": "2022-04-26T06:09:10.877Z"
   },
   {
    "duration": 0,
    "start_time": "2022-04-26T06:09:10.878Z"
   },
   {
    "duration": 0,
    "start_time": "2022-04-26T06:09:10.879Z"
   },
   {
    "duration": 0,
    "start_time": "2022-04-26T06:09:10.880Z"
   },
   {
    "duration": 14,
    "start_time": "2022-04-26T06:11:11.111Z"
   },
   {
    "duration": 11,
    "start_time": "2022-04-26T06:12:28.945Z"
   },
   {
    "duration": 1129,
    "start_time": "2022-04-26T06:12:56.443Z"
   },
   {
    "duration": 169,
    "start_time": "2022-04-26T06:12:57.574Z"
   },
   {
    "duration": 145,
    "start_time": "2022-04-26T06:12:57.748Z"
   },
   {
    "duration": 102,
    "start_time": "2022-04-26T06:12:57.895Z"
   },
   {
    "duration": 21,
    "start_time": "2022-04-26T06:12:57.999Z"
   },
   {
    "duration": 34,
    "start_time": "2022-04-26T06:12:58.022Z"
   },
   {
    "duration": 51,
    "start_time": "2022-04-26T06:12:58.058Z"
   },
   {
    "duration": 8,
    "start_time": "2022-04-26T06:12:58.112Z"
   },
   {
    "duration": 167,
    "start_time": "2022-04-26T06:12:58.121Z"
   },
   {
    "duration": 32,
    "start_time": "2022-04-26T06:12:58.290Z"
   },
   {
    "duration": 7,
    "start_time": "2022-04-26T06:12:58.324Z"
   },
   {
    "duration": 29,
    "start_time": "2022-04-26T06:12:58.348Z"
   },
   {
    "duration": 40,
    "start_time": "2022-04-26T06:12:58.379Z"
   },
   {
    "duration": 89,
    "start_time": "2022-04-26T06:12:58.421Z"
   },
   {
    "duration": 37,
    "start_time": "2022-04-26T06:12:58.511Z"
   },
   {
    "duration": 15,
    "start_time": "2022-04-26T06:12:58.549Z"
   },
   {
    "duration": 30,
    "start_time": "2022-04-26T06:12:58.565Z"
   },
   {
    "duration": 6,
    "start_time": "2022-04-26T06:12:58.597Z"
   },
   {
    "duration": 59,
    "start_time": "2022-04-26T06:12:58.605Z"
   },
   {
    "duration": 18,
    "start_time": "2022-04-26T06:12:58.666Z"
   },
   {
    "duration": 24,
    "start_time": "2022-04-26T06:12:58.686Z"
   },
   {
    "duration": 6,
    "start_time": "2022-04-26T06:12:58.712Z"
   },
   {
    "duration": 10,
    "start_time": "2022-04-26T06:12:58.748Z"
   },
   {
    "duration": 12,
    "start_time": "2022-04-26T06:12:58.760Z"
   },
   {
    "duration": 7,
    "start_time": "2022-04-26T06:12:58.773Z"
   },
   {
    "duration": 8,
    "start_time": "2022-04-26T06:12:58.781Z"
   },
   {
    "duration": 13,
    "start_time": "2022-04-26T06:12:58.790Z"
   },
   {
    "duration": 44,
    "start_time": "2022-04-26T06:12:58.806Z"
   },
   {
    "duration": 22,
    "start_time": "2022-04-26T06:12:58.851Z"
   },
   {
    "duration": 11,
    "start_time": "2022-04-26T06:12:58.874Z"
   },
   {
    "duration": 5,
    "start_time": "2022-04-26T06:12:58.886Z"
   },
   {
    "duration": 10,
    "start_time": "2022-04-26T06:12:58.892Z"
   },
   {
    "duration": 47,
    "start_time": "2022-04-26T06:12:58.903Z"
   },
   {
    "duration": 7,
    "start_time": "2022-04-26T06:12:58.952Z"
   },
   {
    "duration": 10,
    "start_time": "2022-04-26T06:20:22.613Z"
   },
   {
    "duration": 9,
    "start_time": "2022-04-26T06:23:20.236Z"
   },
   {
    "duration": 118,
    "start_time": "2022-04-26T06:32:22.135Z"
   },
   {
    "duration": 111,
    "start_time": "2022-04-26T06:32:31.340Z"
   },
   {
    "duration": 2138,
    "start_time": "2022-04-26T06:33:19.409Z"
   },
   {
    "duration": 1691,
    "start_time": "2022-04-26T06:33:57.860Z"
   },
   {
    "duration": 1110,
    "start_time": "2022-04-26T06:37:08.262Z"
   },
   {
    "duration": 168,
    "start_time": "2022-04-26T06:37:09.375Z"
   },
   {
    "duration": 148,
    "start_time": "2022-04-26T06:37:09.545Z"
   },
   {
    "duration": 105,
    "start_time": "2022-04-26T06:37:09.695Z"
   },
   {
    "duration": 21,
    "start_time": "2022-04-26T06:37:09.802Z"
   },
   {
    "duration": 35,
    "start_time": "2022-04-26T06:37:09.825Z"
   },
   {
    "duration": 53,
    "start_time": "2022-04-26T06:37:09.861Z"
   },
   {
    "duration": 7,
    "start_time": "2022-04-26T06:37:09.915Z"
   },
   {
    "duration": 162,
    "start_time": "2022-04-26T06:37:09.924Z"
   },
   {
    "duration": 29,
    "start_time": "2022-04-26T06:37:10.088Z"
   },
   {
    "duration": 6,
    "start_time": "2022-04-26T06:37:10.118Z"
   },
   {
    "duration": 47,
    "start_time": "2022-04-26T06:37:10.126Z"
   },
   {
    "duration": 40,
    "start_time": "2022-04-26T06:37:10.175Z"
   },
   {
    "duration": 89,
    "start_time": "2022-04-26T06:37:10.217Z"
   },
   {
    "duration": 23,
    "start_time": "2022-04-26T06:37:10.307Z"
   },
   {
    "duration": 26,
    "start_time": "2022-04-26T06:37:10.332Z"
   },
   {
    "duration": 30,
    "start_time": "2022-04-26T06:37:10.359Z"
   },
   {
    "duration": 8,
    "start_time": "2022-04-26T06:37:10.391Z"
   },
   {
    "duration": 56,
    "start_time": "2022-04-26T06:37:10.400Z"
   },
   {
    "duration": 19,
    "start_time": "2022-04-26T06:37:10.457Z"
   },
   {
    "duration": 25,
    "start_time": "2022-04-26T06:37:10.477Z"
   },
   {
    "duration": 8,
    "start_time": "2022-04-26T06:37:10.504Z"
   },
   {
    "duration": 40,
    "start_time": "2022-04-26T06:37:10.514Z"
   },
   {
    "duration": 7,
    "start_time": "2022-04-26T06:37:10.556Z"
   },
   {
    "duration": 9,
    "start_time": "2022-04-26T06:37:10.565Z"
   },
   {
    "duration": 13,
    "start_time": "2022-04-26T06:37:10.576Z"
   },
   {
    "duration": 11,
    "start_time": "2022-04-26T06:37:10.591Z"
   },
   {
    "duration": 51,
    "start_time": "2022-04-26T06:37:10.605Z"
   },
   {
    "duration": 12,
    "start_time": "2022-04-26T06:37:10.657Z"
   },
   {
    "duration": 8,
    "start_time": "2022-04-26T06:37:10.671Z"
   },
   {
    "duration": 9,
    "start_time": "2022-04-26T06:37:10.680Z"
   },
   {
    "duration": 14,
    "start_time": "2022-04-26T06:37:10.691Z"
   },
   {
    "duration": 8,
    "start_time": "2022-04-26T06:37:10.706Z"
   },
   {
    "duration": 1856,
    "start_time": "2022-04-26T06:37:10.715Z"
   },
   {
    "duration": 18,
    "start_time": "2022-04-26T06:37:25.621Z"
   },
   {
    "duration": 10,
    "start_time": "2022-04-26T06:37:56.074Z"
   },
   {
    "duration": 20,
    "start_time": "2022-04-26T06:38:30.824Z"
   },
   {
    "duration": 19,
    "start_time": "2022-04-26T06:39:41.187Z"
   },
   {
    "duration": 58,
    "start_time": "2022-04-26T06:40:18.368Z"
   },
   {
    "duration": 10,
    "start_time": "2022-04-26T06:44:11.774Z"
   },
   {
    "duration": 32,
    "start_time": "2022-04-26T06:44:19.238Z"
   },
   {
    "duration": 13,
    "start_time": "2022-04-26T06:44:34.122Z"
   },
   {
    "duration": 36,
    "start_time": "2022-04-26T06:44:57.241Z"
   },
   {
    "duration": 6,
    "start_time": "2022-04-26T06:52:44.161Z"
   },
   {
    "duration": 4,
    "start_time": "2022-04-26T06:53:03.082Z"
   },
   {
    "duration": 3,
    "start_time": "2022-04-26T06:53:53.175Z"
   },
   {
    "duration": 5,
    "start_time": "2022-04-26T06:54:55.471Z"
   },
   {
    "duration": 3,
    "start_time": "2022-04-26T06:55:11.568Z"
   },
   {
    "duration": 5,
    "start_time": "2022-04-26T07:02:25.069Z"
   },
   {
    "duration": 6,
    "start_time": "2022-04-26T07:02:42.788Z"
   },
   {
    "duration": 4,
    "start_time": "2022-04-26T07:02:49.599Z"
   },
   {
    "duration": 5,
    "start_time": "2022-04-26T07:04:27.559Z"
   },
   {
    "duration": 652,
    "start_time": "2022-04-26T07:06:09.132Z"
   },
   {
    "duration": 173,
    "start_time": "2022-04-26T07:06:17.366Z"
   },
   {
    "duration": 1768,
    "start_time": "2022-04-26T07:15:42.601Z"
   },
   {
    "duration": 6,
    "start_time": "2022-04-26T07:16:09.876Z"
   },
   {
    "duration": 184,
    "start_time": "2022-04-26T07:17:31.918Z"
   },
   {
    "duration": 172,
    "start_time": "2022-04-26T07:18:38.599Z"
   },
   {
    "duration": 5,
    "start_time": "2022-04-26T07:30:27.777Z"
   },
   {
    "duration": 189,
    "start_time": "2022-04-26T07:31:19.887Z"
   },
   {
    "duration": 151,
    "start_time": "2022-04-26T07:31:58.095Z"
   },
   {
    "duration": 235,
    "start_time": "2022-04-26T07:32:25.820Z"
   },
   {
    "duration": 9,
    "start_time": "2022-04-26T07:37:06.912Z"
   },
   {
    "duration": 27,
    "start_time": "2022-04-26T07:45:45.973Z"
   },
   {
    "duration": 10,
    "start_time": "2022-04-26T07:48:36.170Z"
   },
   {
    "duration": 1356,
    "start_time": "2022-04-26T07:48:53.803Z"
   },
   {
    "duration": 176,
    "start_time": "2022-04-26T07:48:55.164Z"
   },
   {
    "duration": 163,
    "start_time": "2022-04-26T07:48:55.342Z"
   },
   {
    "duration": 105,
    "start_time": "2022-04-26T07:48:55.507Z"
   },
   {
    "duration": 21,
    "start_time": "2022-04-26T07:48:55.614Z"
   },
   {
    "duration": 36,
    "start_time": "2022-04-26T07:48:55.637Z"
   },
   {
    "duration": 52,
    "start_time": "2022-04-26T07:48:55.675Z"
   },
   {
    "duration": 21,
    "start_time": "2022-04-26T07:48:55.728Z"
   },
   {
    "duration": 162,
    "start_time": "2022-04-26T07:48:55.750Z"
   },
   {
    "duration": 50,
    "start_time": "2022-04-26T07:48:55.914Z"
   },
   {
    "duration": 7,
    "start_time": "2022-04-26T07:48:55.966Z"
   },
   {
    "duration": 33,
    "start_time": "2022-04-26T07:48:55.975Z"
   },
   {
    "duration": 59,
    "start_time": "2022-04-26T07:48:56.010Z"
   },
   {
    "duration": 79,
    "start_time": "2022-04-26T07:48:56.071Z"
   },
   {
    "duration": 31,
    "start_time": "2022-04-26T07:48:56.152Z"
   },
   {
    "duration": 14,
    "start_time": "2022-04-26T07:48:56.185Z"
   },
   {
    "duration": 53,
    "start_time": "2022-04-26T07:48:56.201Z"
   },
   {
    "duration": 14,
    "start_time": "2022-04-26T07:48:56.255Z"
   },
   {
    "duration": 37,
    "start_time": "2022-04-26T07:48:56.270Z"
   },
   {
    "duration": 46,
    "start_time": "2022-04-26T07:48:56.309Z"
   },
   {
    "duration": 26,
    "start_time": "2022-04-26T07:48:56.357Z"
   },
   {
    "duration": 7,
    "start_time": "2022-04-26T07:48:56.384Z"
   },
   {
    "duration": 13,
    "start_time": "2022-04-26T07:48:56.392Z"
   },
   {
    "duration": 8,
    "start_time": "2022-04-26T07:48:56.406Z"
   },
   {
    "duration": 37,
    "start_time": "2022-04-26T07:48:56.415Z"
   },
   {
    "duration": 26,
    "start_time": "2022-04-26T07:48:56.455Z"
   },
   {
    "duration": 12,
    "start_time": "2022-04-26T07:48:56.483Z"
   },
   {
    "duration": 23,
    "start_time": "2022-04-26T07:48:56.498Z"
   },
   {
    "duration": 36,
    "start_time": "2022-04-26T07:48:56.523Z"
   },
   {
    "duration": 13,
    "start_time": "2022-04-26T07:48:56.561Z"
   },
   {
    "duration": 13,
    "start_time": "2022-04-26T07:48:56.576Z"
   },
   {
    "duration": 20,
    "start_time": "2022-04-26T07:48:56.592Z"
   },
   {
    "duration": 13,
    "start_time": "2022-04-26T07:48:56.614Z"
   },
   {
    "duration": 112,
    "start_time": "2022-04-26T07:48:56.629Z"
   },
   {
    "duration": 38,
    "start_time": "2022-04-26T07:48:56.747Z"
   },
   {
    "duration": 5,
    "start_time": "2022-04-26T07:48:56.787Z"
   },
   {
    "duration": 8,
    "start_time": "2022-04-26T07:48:56.794Z"
   },
   {
    "duration": 8,
    "start_time": "2022-04-26T07:48:56.804Z"
   },
   {
    "duration": 308,
    "start_time": "2022-04-26T07:48:56.814Z"
   },
   {
    "duration": 5,
    "start_time": "2022-04-26T07:48:57.124Z"
   },
   {
    "duration": 190,
    "start_time": "2022-04-26T07:48:57.131Z"
   },
   {
    "duration": 5,
    "start_time": "2022-04-26T07:48:57.323Z"
   },
   {
    "duration": 173,
    "start_time": "2022-04-26T07:48:57.330Z"
   },
   {
    "duration": 26,
    "start_time": "2022-04-26T07:48:57.505Z"
   },
   {
    "duration": 21,
    "start_time": "2022-04-26T07:48:57.532Z"
   },
   {
    "duration": 8,
    "start_time": "2022-04-26T07:48:57.554Z"
   },
   {
    "duration": 9,
    "start_time": "2022-04-26T07:48:57.563Z"
   },
   {
    "duration": 190,
    "start_time": "2022-04-26T07:48:57.573Z"
   },
   {
    "duration": 23,
    "start_time": "2022-04-26T07:51:20.019Z"
   },
   {
    "duration": 3,
    "start_time": "2022-04-26T07:51:29.939Z"
   },
   {
    "duration": 3,
    "start_time": "2022-04-26T07:51:46.617Z"
   },
   {
    "duration": 4,
    "start_time": "2022-04-26T07:51:53.262Z"
   },
   {
    "duration": 1181,
    "start_time": "2022-04-26T08:04:27.839Z"
   },
   {
    "duration": 172,
    "start_time": "2022-04-26T08:04:29.022Z"
   },
   {
    "duration": 148,
    "start_time": "2022-04-26T08:04:29.196Z"
   },
   {
    "duration": 100,
    "start_time": "2022-04-26T08:04:29.348Z"
   },
   {
    "duration": 21,
    "start_time": "2022-04-26T08:04:29.450Z"
   },
   {
    "duration": 29,
    "start_time": "2022-04-26T08:04:29.473Z"
   },
   {
    "duration": 58,
    "start_time": "2022-04-26T08:04:29.504Z"
   },
   {
    "duration": 7,
    "start_time": "2022-04-26T08:04:29.564Z"
   },
   {
    "duration": 216,
    "start_time": "2022-04-26T08:04:29.573Z"
   },
   {
    "duration": 64,
    "start_time": "2022-04-26T08:04:29.793Z"
   },
   {
    "duration": 9,
    "start_time": "2022-04-26T08:04:29.859Z"
   },
   {
    "duration": 45,
    "start_time": "2022-04-26T08:04:29.870Z"
   },
   {
    "duration": 73,
    "start_time": "2022-04-26T08:04:29.917Z"
   },
   {
    "duration": 112,
    "start_time": "2022-04-26T08:04:29.992Z"
   },
   {
    "duration": 48,
    "start_time": "2022-04-26T08:04:30.106Z"
   },
   {
    "duration": 18,
    "start_time": "2022-04-26T08:04:30.156Z"
   },
   {
    "duration": 42,
    "start_time": "2022-04-26T08:04:30.176Z"
   },
   {
    "duration": 8,
    "start_time": "2022-04-26T08:04:30.220Z"
   },
   {
    "duration": 54,
    "start_time": "2022-04-26T08:04:30.246Z"
   },
   {
    "duration": 48,
    "start_time": "2022-04-26T08:04:30.302Z"
   },
   {
    "duration": 35,
    "start_time": "2022-04-26T08:04:30.352Z"
   },
   {
    "duration": 8,
    "start_time": "2022-04-26T08:04:30.389Z"
   },
   {
    "duration": 23,
    "start_time": "2022-04-26T08:04:30.399Z"
   },
   {
    "duration": 20,
    "start_time": "2022-04-26T08:04:30.424Z"
   },
   {
    "duration": 16,
    "start_time": "2022-04-26T08:04:30.446Z"
   },
   {
    "duration": 27,
    "start_time": "2022-04-26T08:04:30.464Z"
   },
   {
    "duration": 12,
    "start_time": "2022-04-26T08:04:30.492Z"
   },
   {
    "duration": 20,
    "start_time": "2022-04-26T08:04:30.508Z"
   },
   {
    "duration": 20,
    "start_time": "2022-04-26T08:04:30.530Z"
   },
   {
    "duration": 5,
    "start_time": "2022-04-26T08:04:30.551Z"
   },
   {
    "duration": 16,
    "start_time": "2022-04-26T08:04:30.557Z"
   },
   {
    "duration": 24,
    "start_time": "2022-04-26T08:04:30.574Z"
   },
   {
    "duration": 10,
    "start_time": "2022-04-26T08:04:30.599Z"
   },
   {
    "duration": 71,
    "start_time": "2022-04-26T08:04:30.610Z"
   },
   {
    "duration": 25,
    "start_time": "2022-04-26T08:04:30.682Z"
   },
   {
    "duration": 4,
    "start_time": "2022-04-26T08:04:30.708Z"
   },
   {
    "duration": 20,
    "start_time": "2022-04-26T08:04:30.714Z"
   },
   {
    "duration": 13,
    "start_time": "2022-04-26T08:04:30.736Z"
   },
   {
    "duration": 198,
    "start_time": "2022-04-26T08:04:30.751Z"
   },
   {
    "duration": 5,
    "start_time": "2022-04-26T08:04:30.951Z"
   },
   {
    "duration": 183,
    "start_time": "2022-04-26T08:04:30.958Z"
   },
   {
    "duration": 7,
    "start_time": "2022-04-26T08:04:31.143Z"
   },
   {
    "duration": 158,
    "start_time": "2022-04-26T08:04:31.152Z"
   },
   {
    "duration": 36,
    "start_time": "2022-04-26T08:04:31.312Z"
   },
   {
    "duration": 6,
    "start_time": "2022-04-26T08:04:31.350Z"
   },
   {
    "duration": 8,
    "start_time": "2022-04-26T08:04:31.357Z"
   },
   {
    "duration": 6,
    "start_time": "2022-04-26T08:04:31.367Z"
   },
   {
    "duration": 207,
    "start_time": "2022-04-26T08:04:31.374Z"
   },
   {
    "duration": 6,
    "start_time": "2022-04-26T08:04:31.582Z"
   },
   {
    "duration": 199,
    "start_time": "2022-04-26T08:04:31.590Z"
   },
   {
    "duration": 5,
    "start_time": "2022-04-26T08:04:31.791Z"
   },
   {
    "duration": 251,
    "start_time": "2022-04-26T08:04:31.798Z"
   },
   {
    "duration": 161,
    "start_time": "2022-04-26T08:06:01.059Z"
   },
   {
    "duration": 158,
    "start_time": "2022-04-26T08:11:48.311Z"
   },
   {
    "duration": 8,
    "start_time": "2022-04-26T08:23:33.389Z"
   },
   {
    "duration": 94,
    "start_time": "2022-04-26T08:23:44.364Z"
   },
   {
    "duration": 16,
    "start_time": "2022-04-26T08:23:47.721Z"
   },
   {
    "duration": 14,
    "start_time": "2022-04-26T08:23:55.058Z"
   },
   {
    "duration": 25,
    "start_time": "2022-04-26T08:24:02.418Z"
   },
   {
    "duration": 25,
    "start_time": "2022-04-26T08:24:08.761Z"
   },
   {
    "duration": 10,
    "start_time": "2022-04-26T08:33:28.206Z"
   },
   {
    "duration": 5,
    "start_time": "2022-04-26T08:34:10.441Z"
   },
   {
    "duration": 25,
    "start_time": "2022-04-26T08:42:00.334Z"
   },
   {
    "duration": 13,
    "start_time": "2022-04-26T08:43:16.959Z"
   },
   {
    "duration": 28,
    "start_time": "2022-04-26T08:43:33.880Z"
   },
   {
    "duration": 5,
    "start_time": "2022-04-26T08:48:40.303Z"
   },
   {
    "duration": 1177,
    "start_time": "2022-04-26T09:36:33.250Z"
   },
   {
    "duration": 169,
    "start_time": "2022-04-26T09:36:34.429Z"
   },
   {
    "duration": 151,
    "start_time": "2022-04-26T09:36:34.599Z"
   },
   {
    "duration": 104,
    "start_time": "2022-04-26T09:36:34.752Z"
   },
   {
    "duration": 22,
    "start_time": "2022-04-26T09:36:34.858Z"
   },
   {
    "duration": 51,
    "start_time": "2022-04-26T09:36:34.882Z"
   },
   {
    "duration": 52,
    "start_time": "2022-04-26T09:36:34.935Z"
   },
   {
    "duration": 7,
    "start_time": "2022-04-26T09:36:34.988Z"
   },
   {
    "duration": 164,
    "start_time": "2022-04-26T09:36:34.997Z"
   },
   {
    "duration": 29,
    "start_time": "2022-04-26T09:36:35.163Z"
   },
   {
    "duration": 7,
    "start_time": "2022-04-26T09:36:35.193Z"
   },
   {
    "duration": 30,
    "start_time": "2022-04-26T09:36:35.201Z"
   },
   {
    "duration": 40,
    "start_time": "2022-04-26T09:36:35.248Z"
   },
   {
    "duration": 77,
    "start_time": "2022-04-26T09:36:35.290Z"
   },
   {
    "duration": 22,
    "start_time": "2022-04-26T09:36:35.369Z"
   },
   {
    "duration": 13,
    "start_time": "2022-04-26T09:36:35.392Z"
   },
   {
    "duration": 50,
    "start_time": "2022-04-26T09:36:35.407Z"
   },
   {
    "duration": 6,
    "start_time": "2022-04-26T09:36:35.459Z"
   },
   {
    "duration": 37,
    "start_time": "2022-04-26T09:36:35.466Z"
   },
   {
    "duration": 18,
    "start_time": "2022-04-26T09:36:35.504Z"
   },
   {
    "duration": 44,
    "start_time": "2022-04-26T09:36:35.523Z"
   },
   {
    "duration": 7,
    "start_time": "2022-04-26T09:36:35.568Z"
   },
   {
    "duration": 13,
    "start_time": "2022-04-26T09:36:35.576Z"
   },
   {
    "duration": 12,
    "start_time": "2022-04-26T09:36:35.590Z"
   },
   {
    "duration": 15,
    "start_time": "2022-04-26T09:36:35.603Z"
   },
   {
    "duration": 34,
    "start_time": "2022-04-26T09:36:35.619Z"
   },
   {
    "duration": 16,
    "start_time": "2022-04-26T09:36:35.655Z"
   },
   {
    "duration": 26,
    "start_time": "2022-04-26T09:36:35.676Z"
   },
   {
    "duration": 11,
    "start_time": "2022-04-26T09:36:35.703Z"
   },
   {
    "duration": 32,
    "start_time": "2022-04-26T09:36:35.715Z"
   },
   {
    "duration": 10,
    "start_time": "2022-04-26T09:36:35.749Z"
   },
   {
    "duration": 11,
    "start_time": "2022-04-26T09:36:35.761Z"
   },
   {
    "duration": 9,
    "start_time": "2022-04-26T09:36:35.774Z"
   },
   {
    "duration": 76,
    "start_time": "2022-04-26T09:36:35.785Z"
   },
   {
    "duration": 25,
    "start_time": "2022-04-26T09:36:35.863Z"
   },
   {
    "duration": 5,
    "start_time": "2022-04-26T09:36:35.889Z"
   },
   {
    "duration": 5,
    "start_time": "2022-04-26T09:36:35.895Z"
   },
   {
    "duration": 6,
    "start_time": "2022-04-26T09:36:35.902Z"
   },
   {
    "duration": 220,
    "start_time": "2022-04-26T09:36:35.909Z"
   },
   {
    "duration": 17,
    "start_time": "2022-04-26T09:36:36.131Z"
   },
   {
    "duration": 171,
    "start_time": "2022-04-26T09:36:36.149Z"
   },
   {
    "duration": 5,
    "start_time": "2022-04-26T09:36:36.321Z"
   },
   {
    "duration": 158,
    "start_time": "2022-04-26T09:36:36.327Z"
   },
   {
    "duration": 27,
    "start_time": "2022-04-26T09:36:36.487Z"
   },
   {
    "duration": 4,
    "start_time": "2022-04-26T09:36:36.515Z"
   },
   {
    "duration": 6,
    "start_time": "2022-04-26T09:36:36.521Z"
   },
   {
    "duration": 24,
    "start_time": "2022-04-26T09:36:36.528Z"
   },
   {
    "duration": 183,
    "start_time": "2022-04-26T09:36:36.554Z"
   },
   {
    "duration": 12,
    "start_time": "2022-04-26T09:36:36.738Z"
   },
   {
    "duration": 163,
    "start_time": "2022-04-26T09:36:36.751Z"
   },
   {
    "duration": 5,
    "start_time": "2022-04-26T09:36:36.916Z"
   },
   {
    "duration": 172,
    "start_time": "2022-04-26T09:36:36.923Z"
   },
   {
    "duration": 5,
    "start_time": "2022-04-26T09:36:37.097Z"
   },
   {
    "duration": 46,
    "start_time": "2022-04-26T09:36:37.103Z"
   },
   {
    "duration": 26,
    "start_time": "2022-04-26T09:36:37.151Z"
   },
   {
    "duration": 5,
    "start_time": "2022-04-26T09:36:37.178Z"
   },
   {
    "duration": 226,
    "start_time": "2022-04-26T09:37:29.933Z"
   },
   {
    "duration": 177,
    "start_time": "2022-04-26T09:38:03.417Z"
   },
   {
    "duration": 1147,
    "start_time": "2022-04-26T09:38:09.381Z"
   },
   {
    "duration": 167,
    "start_time": "2022-04-26T09:38:10.530Z"
   },
   {
    "duration": 142,
    "start_time": "2022-04-26T09:38:10.699Z"
   },
   {
    "duration": 95,
    "start_time": "2022-04-26T09:38:10.847Z"
   },
   {
    "duration": 20,
    "start_time": "2022-04-26T09:38:10.943Z"
   },
   {
    "duration": 33,
    "start_time": "2022-04-26T09:38:10.964Z"
   },
   {
    "duration": 56,
    "start_time": "2022-04-26T09:38:10.998Z"
   },
   {
    "duration": 6,
    "start_time": "2022-04-26T09:38:11.055Z"
   },
   {
    "duration": 149,
    "start_time": "2022-04-26T09:38:11.063Z"
   },
   {
    "duration": 37,
    "start_time": "2022-04-26T09:38:11.214Z"
   },
   {
    "duration": 6,
    "start_time": "2022-04-26T09:38:11.253Z"
   },
   {
    "duration": 30,
    "start_time": "2022-04-26T09:38:11.260Z"
   },
   {
    "duration": 57,
    "start_time": "2022-04-26T09:38:11.291Z"
   },
   {
    "duration": 67,
    "start_time": "2022-04-26T09:38:11.350Z"
   },
   {
    "duration": 35,
    "start_time": "2022-04-26T09:38:11.419Z"
   },
   {
    "duration": 14,
    "start_time": "2022-04-26T09:38:11.455Z"
   },
   {
    "duration": 29,
    "start_time": "2022-04-26T09:38:11.470Z"
   },
   {
    "duration": 7,
    "start_time": "2022-04-26T09:38:11.501Z"
   },
   {
    "duration": 60,
    "start_time": "2022-04-26T09:38:11.509Z"
   },
   {
    "duration": 18,
    "start_time": "2022-04-26T09:38:11.570Z"
   },
   {
    "duration": 25,
    "start_time": "2022-04-26T09:38:11.590Z"
   },
   {
    "duration": 6,
    "start_time": "2022-04-26T09:38:11.617Z"
   },
   {
    "duration": 11,
    "start_time": "2022-04-26T09:38:11.648Z"
   },
   {
    "duration": 7,
    "start_time": "2022-04-26T09:38:11.661Z"
   },
   {
    "duration": 8,
    "start_time": "2022-04-26T09:38:11.669Z"
   },
   {
    "duration": 14,
    "start_time": "2022-04-26T09:38:11.679Z"
   },
   {
    "duration": 12,
    "start_time": "2022-04-26T09:38:11.694Z"
   },
   {
    "duration": 57,
    "start_time": "2022-04-26T09:38:11.709Z"
   },
   {
    "duration": 10,
    "start_time": "2022-04-26T09:38:11.768Z"
   },
   {
    "duration": 4,
    "start_time": "2022-04-26T09:38:11.780Z"
   },
   {
    "duration": 31,
    "start_time": "2022-04-26T09:38:11.785Z"
   },
   {
    "duration": 13,
    "start_time": "2022-04-26T09:38:11.818Z"
   },
   {
    "duration": 15,
    "start_time": "2022-04-26T09:38:11.833Z"
   },
   {
    "duration": 55,
    "start_time": "2022-04-26T09:38:11.850Z"
   },
   {
    "duration": 41,
    "start_time": "2022-04-26T09:38:11.907Z"
   },
   {
    "duration": 4,
    "start_time": "2022-04-26T09:38:11.950Z"
   },
   {
    "duration": 11,
    "start_time": "2022-04-26T09:38:11.955Z"
   },
   {
    "duration": 6,
    "start_time": "2022-04-26T09:38:11.967Z"
   },
   {
    "duration": 197,
    "start_time": "2022-04-26T09:38:11.974Z"
   },
   {
    "duration": 5,
    "start_time": "2022-04-26T09:38:12.173Z"
   },
   {
    "duration": 180,
    "start_time": "2022-04-26T09:38:12.179Z"
   },
   {
    "duration": 4,
    "start_time": "2022-04-26T09:38:12.361Z"
   },
   {
    "duration": 155,
    "start_time": "2022-04-26T09:38:12.367Z"
   },
   {
    "duration": 34,
    "start_time": "2022-04-26T09:38:12.524Z"
   },
   {
    "duration": 4,
    "start_time": "2022-04-26T09:38:12.560Z"
   },
   {
    "duration": 6,
    "start_time": "2022-04-26T09:38:12.565Z"
   },
   {
    "duration": 6,
    "start_time": "2022-04-26T09:38:12.572Z"
   },
   {
    "duration": 182,
    "start_time": "2022-04-26T09:38:12.579Z"
   },
   {
    "duration": 5,
    "start_time": "2022-04-26T09:38:12.762Z"
   },
   {
    "duration": 159,
    "start_time": "2022-04-26T09:38:12.769Z"
   },
   {
    "duration": 4,
    "start_time": "2022-04-26T09:38:12.930Z"
   },
   {
    "duration": 156,
    "start_time": "2022-04-26T09:38:12.947Z"
   },
   {
    "duration": 4,
    "start_time": "2022-04-26T09:38:13.105Z"
   },
   {
    "duration": 25,
    "start_time": "2022-04-26T09:38:13.111Z"
   },
   {
    "duration": 26,
    "start_time": "2022-04-26T09:38:13.148Z"
   },
   {
    "duration": 4,
    "start_time": "2022-04-26T09:38:13.176Z"
   },
   {
    "duration": 1291,
    "start_time": "2022-05-01T16:26:38.354Z"
   },
   {
    "duration": 191,
    "start_time": "2022-05-01T16:26:39.648Z"
   },
   {
    "duration": 161,
    "start_time": "2022-05-01T16:26:39.841Z"
   },
   {
    "duration": 113,
    "start_time": "2022-05-01T16:26:40.005Z"
   },
   {
    "duration": 27,
    "start_time": "2022-05-01T16:26:40.119Z"
   },
   {
    "duration": 39,
    "start_time": "2022-05-01T16:26:40.148Z"
   },
   {
    "duration": 70,
    "start_time": "2022-05-01T16:26:40.188Z"
   },
   {
    "duration": 7,
    "start_time": "2022-05-01T16:26:40.259Z"
   },
   {
    "duration": 174,
    "start_time": "2022-05-01T16:26:40.268Z"
   },
   {
    "duration": 32,
    "start_time": "2022-05-01T16:26:40.445Z"
   },
   {
    "duration": 6,
    "start_time": "2022-05-01T16:26:40.479Z"
   },
   {
    "duration": 58,
    "start_time": "2022-05-01T16:26:40.487Z"
   },
   {
    "duration": 45,
    "start_time": "2022-05-01T16:26:40.547Z"
   },
   {
    "duration": 95,
    "start_time": "2022-05-01T16:26:40.594Z"
   },
   {
    "duration": 25,
    "start_time": "2022-05-01T16:26:40.691Z"
   },
   {
    "duration": 28,
    "start_time": "2022-05-01T16:26:40.718Z"
   },
   {
    "duration": 32,
    "start_time": "2022-05-01T16:26:40.748Z"
   },
   {
    "duration": 7,
    "start_time": "2022-05-01T16:26:40.782Z"
   },
   {
    "duration": 69,
    "start_time": "2022-05-01T16:26:40.791Z"
   },
   {
    "duration": 20,
    "start_time": "2022-05-01T16:26:40.862Z"
   },
   {
    "duration": 27,
    "start_time": "2022-05-01T16:26:40.884Z"
   },
   {
    "duration": 8,
    "start_time": "2022-05-01T16:26:40.934Z"
   },
   {
    "duration": 15,
    "start_time": "2022-05-01T16:26:40.943Z"
   },
   {
    "duration": 10,
    "start_time": "2022-05-01T16:26:40.959Z"
   },
   {
    "duration": 10,
    "start_time": "2022-05-01T16:26:40.971Z"
   },
   {
    "duration": 50,
    "start_time": "2022-05-01T16:26:40.983Z"
   },
   {
    "duration": 14,
    "start_time": "2022-05-01T16:26:41.035Z"
   },
   {
    "duration": 25,
    "start_time": "2022-05-01T16:26:41.053Z"
   },
   {
    "duration": 14,
    "start_time": "2022-05-01T16:26:41.079Z"
   },
   {
    "duration": 42,
    "start_time": "2022-05-01T16:26:41.095Z"
   },
   {
    "duration": 13,
    "start_time": "2022-05-01T16:26:41.139Z"
   },
   {
    "duration": 18,
    "start_time": "2022-05-01T16:26:41.154Z"
   },
   {
    "duration": 11,
    "start_time": "2022-05-01T16:26:41.174Z"
   },
   {
    "duration": 101,
    "start_time": "2022-05-01T16:26:41.186Z"
   },
   {
    "duration": 29,
    "start_time": "2022-05-01T16:26:41.289Z"
   },
   {
    "duration": 16,
    "start_time": "2022-05-01T16:26:41.320Z"
   },
   {
    "duration": 8,
    "start_time": "2022-05-01T16:26:41.337Z"
   },
   {
    "duration": 11,
    "start_time": "2022-05-01T16:26:41.346Z"
   },
   {
    "duration": 256,
    "start_time": "2022-05-01T16:26:41.358Z"
   },
   {
    "duration": 5,
    "start_time": "2022-05-01T16:26:41.616Z"
   },
   {
    "duration": 237,
    "start_time": "2022-05-01T16:26:41.623Z"
   },
   {
    "duration": 6,
    "start_time": "2022-05-01T16:26:41.862Z"
   },
   {
    "duration": 196,
    "start_time": "2022-05-01T16:26:41.870Z"
   },
   {
    "duration": 34,
    "start_time": "2022-05-01T16:26:42.067Z"
   },
   {
    "duration": 4,
    "start_time": "2022-05-01T16:26:42.103Z"
   },
   {
    "duration": 5,
    "start_time": "2022-05-01T16:26:42.134Z"
   },
   {
    "duration": 10,
    "start_time": "2022-05-01T16:26:42.141Z"
   },
   {
    "duration": 222,
    "start_time": "2022-05-01T16:26:42.153Z"
   },
   {
    "duration": 5,
    "start_time": "2022-05-01T16:26:42.377Z"
   },
   {
    "duration": 200,
    "start_time": "2022-05-01T16:26:42.384Z"
   },
   {
    "duration": 6,
    "start_time": "2022-05-01T16:26:42.586Z"
   },
   {
    "duration": 203,
    "start_time": "2022-05-01T16:26:42.593Z"
   },
   {
    "duration": 6,
    "start_time": "2022-05-01T16:26:42.797Z"
   },
   {
    "duration": 46,
    "start_time": "2022-05-01T16:26:42.805Z"
   },
   {
    "duration": 33,
    "start_time": "2022-05-01T16:26:42.853Z"
   },
   {
    "duration": 7,
    "start_time": "2022-05-01T16:26:42.888Z"
   },
   {
    "duration": 12,
    "start_time": "2022-05-01T16:41:07.958Z"
   },
   {
    "duration": 6,
    "start_time": "2022-05-01T16:46:54.623Z"
   },
   {
    "duration": 6,
    "start_time": "2022-05-01T16:49:18.780Z"
   },
   {
    "duration": 1400,
    "start_time": "2022-05-03T15:59:14.349Z"
   },
   {
    "duration": 192,
    "start_time": "2022-05-03T15:59:15.751Z"
   },
   {
    "duration": 172,
    "start_time": "2022-05-03T15:59:15.945Z"
   },
   {
    "duration": 108,
    "start_time": "2022-05-03T15:59:16.118Z"
   },
   {
    "duration": 20,
    "start_time": "2022-05-03T15:59:16.228Z"
   },
   {
    "duration": 32,
    "start_time": "2022-05-03T15:59:16.255Z"
   },
   {
    "duration": 82,
    "start_time": "2022-05-03T15:59:16.288Z"
   },
   {
    "duration": 11,
    "start_time": "2022-05-03T15:59:16.373Z"
   },
   {
    "duration": 195,
    "start_time": "2022-05-03T15:59:16.386Z"
   },
   {
    "duration": 35,
    "start_time": "2022-05-03T15:59:16.584Z"
   },
   {
    "duration": 8,
    "start_time": "2022-05-03T15:59:16.620Z"
   },
   {
    "duration": 60,
    "start_time": "2022-05-03T15:59:16.630Z"
   },
   {
    "duration": 44,
    "start_time": "2022-05-03T15:59:16.692Z"
   },
   {
    "duration": 78,
    "start_time": "2022-05-03T15:59:16.754Z"
   },
   {
    "duration": 42,
    "start_time": "2022-05-03T15:59:16.834Z"
   },
   {
    "duration": 33,
    "start_time": "2022-05-03T15:59:16.877Z"
   },
   {
    "duration": 10,
    "start_time": "2022-05-03T15:59:16.912Z"
   },
   {
    "duration": 34,
    "start_time": "2022-05-03T15:59:16.924Z"
   },
   {
    "duration": 44,
    "start_time": "2022-05-03T15:59:16.961Z"
   },
   {
    "duration": 20,
    "start_time": "2022-05-03T15:59:17.007Z"
   },
   {
    "duration": 50,
    "start_time": "2022-05-03T15:59:17.029Z"
   },
   {
    "duration": 12,
    "start_time": "2022-05-03T15:59:17.081Z"
   },
   {
    "duration": 21,
    "start_time": "2022-05-03T15:59:17.095Z"
   },
   {
    "duration": 17,
    "start_time": "2022-05-03T15:59:17.119Z"
   },
   {
    "duration": 16,
    "start_time": "2022-05-03T15:59:17.138Z"
   },
   {
    "duration": 23,
    "start_time": "2022-05-03T15:59:17.156Z"
   },
   {
    "duration": 12,
    "start_time": "2022-05-03T15:59:17.181Z"
   },
   {
    "duration": 27,
    "start_time": "2022-05-03T15:59:17.197Z"
   },
   {
    "duration": 12,
    "start_time": "2022-05-03T15:59:17.225Z"
   },
   {
    "duration": 9,
    "start_time": "2022-05-03T15:59:17.256Z"
   },
   {
    "duration": 14,
    "start_time": "2022-05-03T15:59:17.267Z"
   },
   {
    "duration": 12,
    "start_time": "2022-05-03T15:59:17.283Z"
   },
   {
    "duration": 11,
    "start_time": "2022-05-03T15:59:17.297Z"
   },
   {
    "duration": 82,
    "start_time": "2022-05-03T15:59:17.310Z"
   },
   {
    "duration": 29,
    "start_time": "2022-05-03T15:59:17.394Z"
   },
   {
    "duration": 5,
    "start_time": "2022-05-03T15:59:17.425Z"
   },
   {
    "duration": 29,
    "start_time": "2022-05-03T15:59:17.432Z"
   },
   {
    "duration": 17,
    "start_time": "2022-05-03T15:59:17.463Z"
   },
   {
    "duration": 16,
    "start_time": "2022-05-03T15:59:17.482Z"
   },
   {
    "duration": 15,
    "start_time": "2022-05-03T15:59:17.499Z"
   },
   {
    "duration": 332,
    "start_time": "2022-05-03T15:59:17.516Z"
   },
   {
    "duration": 6,
    "start_time": "2022-05-03T15:59:17.850Z"
   },
   {
    "duration": 233,
    "start_time": "2022-05-03T15:59:17.858Z"
   },
   {
    "duration": 5,
    "start_time": "2022-05-03T15:59:18.093Z"
   },
   {
    "duration": 178,
    "start_time": "2022-05-03T15:59:18.100Z"
   },
   {
    "duration": 41,
    "start_time": "2022-05-03T15:59:18.280Z"
   },
   {
    "duration": 5,
    "start_time": "2022-05-03T15:59:18.323Z"
   },
   {
    "duration": 26,
    "start_time": "2022-05-03T15:59:18.330Z"
   },
   {
    "duration": 7,
    "start_time": "2022-05-03T15:59:18.358Z"
   },
   {
    "duration": 282,
    "start_time": "2022-05-03T15:59:18.367Z"
   },
   {
    "duration": 7,
    "start_time": "2022-05-03T15:59:18.655Z"
   },
   {
    "duration": 179,
    "start_time": "2022-05-03T15:59:18.664Z"
   },
   {
    "duration": 13,
    "start_time": "2022-05-03T15:59:18.845Z"
   },
   {
    "duration": 171,
    "start_time": "2022-05-03T15:59:18.860Z"
   },
   {
    "duration": 7,
    "start_time": "2022-05-03T15:59:19.033Z"
   },
   {
    "duration": 41,
    "start_time": "2022-05-03T15:59:19.055Z"
   },
   {
    "duration": 59,
    "start_time": "2022-05-03T15:59:19.098Z"
   },
   {
    "duration": 5,
    "start_time": "2022-05-03T15:59:19.159Z"
   }
  ],
  "kernelspec": {
   "display_name": "Python 3",
   "language": "python",
   "name": "python3"
  },
  "language_info": {
   "codemirror_mode": {
    "name": "ipython",
    "version": 3
   },
   "file_extension": ".py",
   "mimetype": "text/x-python",
   "name": "python",
   "nbconvert_exporter": "python",
   "pygments_lexer": "ipython3",
   "version": "3.7.4"
  },
  "toc": {
   "base_numbering": 1,
   "nav_menu": {},
   "number_sections": true,
   "sideBar": true,
   "skip_h1_title": true,
   "title_cell": "Table of Contents",
   "title_sidebar": "Contents",
   "toc_cell": false,
   "toc_position": {},
   "toc_section_display": true,
   "toc_window_display": true
  }
 },
 "nbformat": 4,
 "nbformat_minor": 2
}
